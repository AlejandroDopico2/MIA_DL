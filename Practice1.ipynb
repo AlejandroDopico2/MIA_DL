{
 "cells": [
  {
   "cell_type": "markdown",
   "metadata": {
    "id": "P_EMSOfZPHtV"
   },
   "source": [
    "# Practice 1: Convolutional Neural Network - Deep Learning course\n",
    "\n",
    "*   Alejandro Dopico Castro (alejandro.dopico2@udc.es).\n",
    "*   Ana Xiangning Pereira Ezquerro (ana.ezquerro@udc.es)."
   ]
  },
  {
   "cell_type": "code",
   "execution_count": 1,
   "metadata": {},
   "outputs": [
    {
     "name": "stderr",
     "output_type": "stream",
     "text": [
      "2024-03-05 17:30:49.377730: E external/local_xla/xla/stream_executor/cuda/cuda_dnn.cc:9261] Unable to register cuDNN factory: Attempting to register factory for plugin cuDNN when one has already been registered\n",
      "2024-03-05 17:30:49.377805: E external/local_xla/xla/stream_executor/cuda/cuda_fft.cc:607] Unable to register cuFFT factory: Attempting to register factory for plugin cuFFT when one has already been registered\n",
      "2024-03-05 17:30:49.378699: E external/local_xla/xla/stream_executor/cuda/cuda_blas.cc:1515] Unable to register cuBLAS factory: Attempting to register factory for plugin cuBLAS when one has already been registered\n",
      "2024-03-05 17:30:49.386269: I tensorflow/core/platform/cpu_feature_guard.cc:182] This TensorFlow binary is optimized to use available CPU instructions in performance-critical operations.\n",
      "To enable the following instructions: AVX2 FMA, in other operations, rebuild TensorFlow with the appropriate compiler flags.\n",
      "2024-03-05 17:30:50.401565: W tensorflow/compiler/tf2tensorrt/utils/py_utils.cc:38] TF-TRT Warning: Could not find TensorRT\n"
     ]
    }
   ],
   "source": [
    "import tensorflow as tf\n",
    "from keras.optimizers import Adam\n",
    "from keras.metrics import SparseCategoricalAccuracy\n",
    "from logging import ERROR\n",
    "tf.get_logger().setLevel(ERROR)\n",
    "import warnings, os\n",
    "warnings.filterwarnings(\"ignore\")\n",
    "from utils import *\n",
    "from models import *\n",
    "from typing import List, Tuple\n",
    "model_accuracies: List[Tuple[str, int]] = []\n",
    "\n",
    "# global variables \n",
    "IMG_SIZE = 100\n",
    "BATCH_SIZE = 258\n",
    "base_dir = 'animals/'\n",
    "model_dir = 'results/'\n",
    "if not os.path.exists(model_dir):\n",
    "    os.mkdir(model_dir)\n",
    "    "
   ]
  },
  {
   "cell_type": "markdown",
   "metadata": {},
   "source": [
    "## Table of Contents \n",
    "\n",
    "1. [Dataset preprocessing](#exercise-1-dataset-preprocessing)\n",
    "2. [Custom Convolutional Models](#exercise-2-custom-convolutional-models)\n",
    "    - [Simple Model](#21-simple-model)\n",
    "    - [Mid Complex Model](#22-mid-complex-model)\n",
    "    - [Model with residual connections](#23-model-with-residual-connections)\n",
    "    - [Inception block](#24-inception-block)\n",
    "    - [What happens if we add Data Augmentation?](#25-what-if-we-add-data-augmentation)\n",
    "    - [Custom models comparison](#26-custom-models-comparison)\n",
    "3. [Pretrained Models](#exercise-3-pretrained-models)\n",
    "    - [Fine-tuning](#31-fine-tuning)\n",
    "    - [Feature Extraction](#32-feature-extraction)\n",
    "    - [Partial Fine-tuning](#33-partial-fine-tuning)\n",
    "    - [Comparison between pretrained approaches](#34-comparison-between-pretrained-approaches)\n",
    "4. [Comparison](#4-results-and-comparison)"
   ]
  },
  {
   "cell_type": "markdown",
   "metadata": {
    "id": "dqAZL4lTPkHx"
   },
   "source": [
    "## Exercise 1. Dataset preprocessing\n",
    "\n",
    "We decided to use for the image resolution $80\\times 80$ for retrieving similar results than considering higher resolutions with the simpler architectures. The batch size is adapted to fit the GPU capabilities of the local machine. We used the original validation set for evaluation a split a 15% of the data for validation. All the input images were normalized to fit the range $[0,1]$ with the [Rescaling layer](https://keras.io/api/layers/preprocessing_layers/image_preprocessing/rescaling/)."
   ]
  },
  {
   "cell_type": "code",
   "execution_count": 2,
   "metadata": {
    "id": "_NAa-cB4Q8o6"
   },
   "outputs": [
    {
     "name": "stdout",
     "output_type": "stream",
     "text": [
      "Found 13474 files belonging to 5 classes.\n",
      "Using 11453 files for training.\n",
      "Using 2021 files for validation.\n"
     ]
    },
    {
     "name": "stderr",
     "output_type": "stream",
     "text": [
      "2024-03-05 17:31:03.923437: I external/local_xla/xla/stream_executor/cuda/cuda_executor.cc:887] could not open file to read NUMA node: /sys/bus/pci/devices/0000:26:00.0/numa_node\n",
      "Your kernel may have been built without NUMA support.\n",
      "2024-03-05 17:31:04.175575: I external/local_xla/xla/stream_executor/cuda/cuda_executor.cc:887] could not open file to read NUMA node: /sys/bus/pci/devices/0000:26:00.0/numa_node\n",
      "Your kernel may have been built without NUMA support.\n",
      "2024-03-05 17:31:04.175647: I external/local_xla/xla/stream_executor/cuda/cuda_executor.cc:887] could not open file to read NUMA node: /sys/bus/pci/devices/0000:26:00.0/numa_node\n",
      "Your kernel may have been built without NUMA support.\n",
      "2024-03-05 17:31:04.180345: I external/local_xla/xla/stream_executor/cuda/cuda_executor.cc:887] could not open file to read NUMA node: /sys/bus/pci/devices/0000:26:00.0/numa_node\n",
      "Your kernel may have been built without NUMA support.\n",
      "2024-03-05 17:31:04.180431: I external/local_xla/xla/stream_executor/cuda/cuda_executor.cc:887] could not open file to read NUMA node: /sys/bus/pci/devices/0000:26:00.0/numa_node\n",
      "Your kernel may have been built without NUMA support.\n",
      "2024-03-05 17:31:04.180481: I external/local_xla/xla/stream_executor/cuda/cuda_executor.cc:887] could not open file to read NUMA node: /sys/bus/pci/devices/0000:26:00.0/numa_node\n",
      "Your kernel may have been built without NUMA support.\n",
      "2024-03-05 17:31:04.668845: I external/local_xla/xla/stream_executor/cuda/cuda_executor.cc:887] could not open file to read NUMA node: /sys/bus/pci/devices/0000:26:00.0/numa_node\n",
      "Your kernel may have been built without NUMA support.\n",
      "2024-03-05 17:31:04.668960: I external/local_xla/xla/stream_executor/cuda/cuda_executor.cc:887] could not open file to read NUMA node: /sys/bus/pci/devices/0000:26:00.0/numa_node\n",
      "Your kernel may have been built without NUMA support.\n",
      "2024-03-05 17:31:04.668972: I tensorflow/core/common_runtime/gpu/gpu_device.cc:2022] Could not identify NUMA node of platform GPU id 0, defaulting to 0.  Your kernel may not have been built with NUMA support.\n",
      "2024-03-05 17:31:04.669033: I external/local_xla/xla/stream_executor/cuda/cuda_executor.cc:887] could not open file to read NUMA node: /sys/bus/pci/devices/0000:26:00.0/numa_node\n",
      "Your kernel may have been built without NUMA support.\n",
      "2024-03-05 17:31:04.669058: I tensorflow/core/common_runtime/gpu/gpu_device.cc:1929] Created device /job:localhost/replica:0/task:0/device:GPU:0 with 5578 MB memory:  -> device: 0, name: NVIDIA GeForce RTX 3070, pci bus id: 0000:26:00.0, compute capability: 8.6\n",
      "2024-03-05 17:31:05.312668: I external/local_tsl/tsl/platform/default/subprocess.cc:304] Start cannot spawn child process: No such file or directory\n"
     ]
    },
    {
     "name": "stdout",
     "output_type": "stream",
     "text": [
      "Found 1497 files belonging to 5 classes.\n"
     ]
    }
   ],
   "source": [
    "train_dataset, val_dataset, test_dataset = load_data(base_dir, IMG_SIZE, BATCH_SIZE)"
   ]
  },
  {
   "cell_type": "markdown",
   "metadata": {
    "id": "gExGBQP2SqSX"
   },
   "source": [
    "## Exercise 2. Custom Convolutional Models\n",
    "\n",
    "For this exercise, we prepared four different convolutional architectures with increasing complexity and regularization methods to tackle the animal classification problem: ([1](#21-simple-model)) a simple linear approach with 2 convolutional layers interleaved with max-pooling, ([2](#22-mid-complex-model)) a more complex convolutional-linear model with 3 blocks of paired convolutions and max-poolings, ([3](#23-model-with-residual-connections)) a convolutional architecture based on residual connections ([He et al., 2015](https://arxiv.org/abs/1512.03385)), ([4](#24-inception-block)) the integration of the Inception block ([Szegedy et al., 2014](https://arxiv.org/abs/1409.4842)). We used the validation split to tune each hyperparameter configuration (although not all experiments are included in this notebook to facilitate the readibility) and applied some regularization methods learnt in previous practical lessons to avoid overfitting."
   ]
  },
  {
   "cell_type": "markdown",
   "metadata": {
    "id": "l50_KqGYlY2x"
   },
   "source": [
    "### 2.1. Simple Model"
   ]
  },
  {
   "cell_type": "code",
   "execution_count": 3,
   "metadata": {},
   "outputs": [
    {
     "name": "stdout",
     "output_type": "stream",
     "text": [
      "Epoch 1/20\n"
     ]
    },
    {
     "name": "stderr",
     "output_type": "stream",
     "text": [
      "2024-03-05 17:31:10.288123: I external/local_xla/xla/stream_executor/cuda/cuda_dnn.cc:454] Loaded cuDNN version 8904\n",
      "2024-03-05 17:31:10.761367: I external/local_tsl/tsl/platform/default/subprocess.cc:304] Start cannot spawn child process: No such file or directory\n",
      "2024-03-05 17:31:11.945244: I external/local_xla/xla/service/service.cc:168] XLA service 0x7f5b3c3246b0 initialized for platform CUDA (this does not guarantee that XLA will be used). Devices:\n",
      "2024-03-05 17:31:11.945329: I external/local_xla/xla/service/service.cc:176]   StreamExecutor device (0): NVIDIA GeForce RTX 3070, Compute Capability 8.6\n",
      "2024-03-05 17:31:11.966843: I tensorflow/compiler/mlir/tensorflow/utils/dump_mlir_util.cc:269] disabling MLIR crash reproducer, set env var `MLIR_CRASH_REPRODUCER_DIRECTORY` to enable.\n",
      "WARNING: All log messages before absl::InitializeLog() is called are written to STDERR\n",
      "I0000 00:00:1709656272.169544   10017 device_compiler.h:186] Compiled cluster using XLA!  This line is logged at most once for the lifetime of the process.\n"
     ]
    },
    {
     "name": "stdout",
     "output_type": "stream",
     "text": [
      "45/45 [==============================] - 21s 286ms/step - loss: 2.2552 - acc: 0.4430 - val_loss: 0.9871 - val_acc: 0.6244 - lr: 0.0010\n",
      "Epoch 2/20\n",
      "45/45 [==============================] - 11s 191ms/step - loss: 0.8768 - acc: 0.6813 - val_loss: 0.8542 - val_acc: 0.6794 - lr: 0.0010\n",
      "Epoch 3/20\n",
      "45/45 [==============================] - 11s 192ms/step - loss: 0.7566 - acc: 0.7272 - val_loss: 0.7843 - val_acc: 0.7081 - lr: 0.0010\n",
      "Epoch 4/20\n",
      "45/45 [==============================] - 11s 190ms/step - loss: 0.6908 - acc: 0.7523 - val_loss: 0.7493 - val_acc: 0.7175 - lr: 0.0010\n",
      "Epoch 5/20\n",
      "45/45 [==============================] - 10s 187ms/step - loss: 0.6327 - acc: 0.7738 - val_loss: 0.7498 - val_acc: 0.7190 - lr: 0.0010\n",
      "Epoch 6/20\n",
      "45/45 [==============================] - 11s 197ms/step - loss: 0.5946 - acc: 0.7875 - val_loss: 0.7412 - val_acc: 0.7279 - lr: 0.0010\n",
      "Epoch 7/20\n",
      "45/45 [==============================] - 12s 219ms/step - loss: 0.5664 - acc: 0.7999 - val_loss: 0.7376 - val_acc: 0.7185 - lr: 0.0010\n",
      "Epoch 8/20\n",
      "45/45 [==============================] - 11s 209ms/step - loss: 0.5130 - acc: 0.8198 - val_loss: 0.7127 - val_acc: 0.7368 - lr: 0.0010\n",
      "Epoch 9/20\n",
      "45/45 [==============================] - 12s 219ms/step - loss: 0.4709 - acc: 0.8405 - val_loss: 0.7035 - val_acc: 0.7437 - lr: 0.0010\n",
      "Epoch 10/20\n",
      "45/45 [==============================] - 12s 213ms/step - loss: 0.4342 - acc: 0.8572 - val_loss: 0.7111 - val_acc: 0.7338 - lr: 0.0010\n",
      "Epoch 11/20\n",
      "45/45 [==============================] - 11s 200ms/step - loss: 0.4172 - acc: 0.8604 - val_loss: 0.7142 - val_acc: 0.7353 - lr: 0.0010\n",
      "Epoch 12/20\n",
      "45/45 [==============================] - 10s 191ms/step - loss: 0.3723 - acc: 0.8803 - val_loss: 0.6960 - val_acc: 0.7467 - lr: 0.0010\n",
      "Epoch 13/20\n",
      "45/45 [==============================] - 10s 182ms/step - loss: 0.3435 - acc: 0.8958 - val_loss: 0.7195 - val_acc: 0.7417 - lr: 0.0010\n",
      "Epoch 14/20\n",
      "45/45 [==============================] - 10s 188ms/step - loss: 0.3195 - acc: 0.8997 - val_loss: 0.7484 - val_acc: 0.7303 - lr: 0.0010\n",
      "Epoch 15/20\n",
      "45/45 [==============================] - 10s 183ms/step - loss: 0.3003 - acc: 0.9073 - val_loss: 0.7575 - val_acc: 0.7284 - lr: 0.0010\n",
      "Epoch 16/20\n",
      "45/45 [==============================] - 10s 178ms/step - loss: 0.2735 - acc: 0.9190 - val_loss: 0.7303 - val_acc: 0.7452 - lr: 0.0010\n",
      "Epoch 17/20\n",
      "45/45 [==============================] - 11s 204ms/step - loss: 0.2578 - acc: 0.9233 - val_loss: 0.7615 - val_acc: 0.7387 - lr: 0.0010\n",
      "Epoch 18/20\n",
      "45/45 [==============================] - 11s 202ms/step - loss: 0.2216 - acc: 0.9413 - val_loss: 0.7450 - val_acc: 0.7467 - lr: 2.0000e-04\n",
      "Epoch 19/20\n",
      "45/45 [==============================] - 10s 185ms/step - loss: 0.2150 - acc: 0.9436 - val_loss: 0.7494 - val_acc: 0.7452 - lr: 2.0000e-04\n",
      "Epoch 20/20\n",
      "45/45 [==============================] - 10s 186ms/step - loss: 0.2117 - acc: 0.9444 - val_loss: 0.7567 - val_acc: 0.7412 - lr: 2.0000e-04\n",
      "Final loss: training -> 0.21, validation -> 0.76\n",
      "Final accuracy: training -> 0.94,         validation -> 0.74\n"
     ]
    },
    {
     "data": {
      "application/vnd.plotly.v1+json": {
       "config": {
        "plotlyServerURL": "https://plot.ly"
       },
       "data": [
        {
         "line": {
          "color": "#636EFA"
         },
         "marker": {
          "color": "#636EFA"
         },
         "mode": "lines+markers",
         "name": "train",
         "showlegend": true,
         "type": "scatter",
         "x": [
          1,
          2,
          3,
          4,
          5,
          6,
          7,
          8,
          9,
          10,
          11,
          12,
          13,
          14,
          15,
          16,
          17,
          18,
          19,
          20
         ],
         "xaxis": "x",
         "y": [
          2.2552270889282227,
          0.8767511248588562,
          0.7565910220146179,
          0.6907821297645569,
          0.632695198059082,
          0.5946086645126343,
          0.5663645267486572,
          0.5129788517951965,
          0.47089138627052307,
          0.4342328608036041,
          0.417151540517807,
          0.3722855746746063,
          0.34351876378059387,
          0.3194653391838074,
          0.30030694603919983,
          0.2735433280467987,
          0.2578018605709076,
          0.2215765416622162,
          0.21503891050815582,
          0.21171462535858154
         ],
         "yaxis": "y"
        },
        {
         "line": {
          "color": "#EF553B"
         },
         "marker": {
          "color": "#EF553B"
         },
         "mode": "lines+markers",
         "name": "val",
         "showlegend": true,
         "type": "scatter",
         "x": [
          1,
          2,
          3,
          4,
          5,
          6,
          7,
          8,
          9,
          10,
          11,
          12,
          13,
          14,
          15,
          16,
          17,
          18,
          19,
          20
         ],
         "xaxis": "x",
         "y": [
          0.9871382713317871,
          0.854243814945221,
          0.7842694520950317,
          0.749256432056427,
          0.7498180270195007,
          0.7411891222000122,
          0.7375938296318054,
          0.7126852869987488,
          0.7035120725631714,
          0.7110702395439148,
          0.7141776084899902,
          0.6959885954856873,
          0.7194610834121704,
          0.7484308481216431,
          0.7575393319129944,
          0.7303292155265808,
          0.761496901512146,
          0.7450402975082397,
          0.7494351863861084,
          0.7567347288131714
         ],
         "yaxis": "y"
        },
        {
         "line": {
          "color": "#636EFA"
         },
         "marker": {
          "color": "#636EFA"
         },
         "mode": "lines+markers",
         "name": "train",
         "showlegend": false,
         "type": "scatter",
         "x": [
          1,
          2,
          3,
          4,
          5,
          6,
          7,
          8,
          9,
          10,
          11,
          12,
          13,
          14,
          15,
          16,
          17,
          18,
          19,
          20
         ],
         "xaxis": "x2",
         "y": [
          0.4430280327796936,
          0.6813061833381653,
          0.7272330522537231,
          0.7522919774055481,
          0.7737710475921631,
          0.7874792814254761,
          0.7998777627944946,
          0.8197852373123169,
          0.8404784798622131,
          0.8572426438331604,
          0.8603859543800354,
          0.8802933692932129,
          0.8958351612091064,
          0.8996769189834595,
          0.9072732329368591,
          0.9189732074737549,
          0.9233388900756836,
          0.9413254261016846,
          0.9435955882072449,
          0.9443813562393188
         ],
         "yaxis": "y2"
        },
        {
         "line": {
          "color": "#EF553B"
         },
         "marker": {
          "color": "#EF553B"
         },
         "mode": "lines+markers",
         "name": "val",
         "showlegend": false,
         "type": "scatter",
         "x": [
          1,
          2,
          3,
          4,
          5,
          6,
          7,
          8,
          9,
          10,
          11,
          12,
          13,
          14,
          15,
          16,
          17,
          18,
          19,
          20
         ],
         "xaxis": "x2",
         "y": [
          0.6244433522224426,
          0.6793666481971741,
          0.7080653309822083,
          0.7174665927886963,
          0.7189509868621826,
          0.7278574705123901,
          0.7184562087059021,
          0.7367639541625977,
          0.7436912655830383,
          0.733795166015625,
          0.7352795600891113,
          0.746660053730011,
          0.7417120337486267,
          0.730331540107727,
          0.7283523082733154,
          0.7451756596565247,
          0.7387431859970093,
          0.746660053730011,
          0.7451756596565247,
          0.7412171959877014
         ],
         "yaxis": "y2"
        }
       ],
       "layout": {
        "annotations": [
         {
          "font": {
           "size": 16
          },
          "showarrow": false,
          "text": "loss",
          "x": 0.2375,
          "xanchor": "center",
          "xref": "paper",
          "y": 1,
          "yanchor": "bottom",
          "yref": "paper"
         },
         {
          "font": {
           "size": 16
          },
          "showarrow": false,
          "text": "acc",
          "x": 0.7625,
          "xanchor": "center",
          "xref": "paper",
          "y": 1,
          "yanchor": "bottom",
          "yref": "paper"
         }
        ],
        "height": 400,
        "margin": {
         "b": 10,
         "l": 10,
         "r": 10,
         "t": 50
        },
        "template": {
         "data": {
          "bar": [
           {
            "error_x": {
             "color": "rgb(36,36,36)"
            },
            "error_y": {
             "color": "rgb(36,36,36)"
            },
            "marker": {
             "line": {
              "color": "rgb(234,234,242)",
              "width": 0.5
             },
             "pattern": {
              "fillmode": "overlay",
              "size": 10,
              "solidity": 0.2
             }
            },
            "type": "bar"
           }
          ],
          "barpolar": [
           {
            "marker": {
             "line": {
              "color": "rgb(234,234,242)",
              "width": 0.5
             },
             "pattern": {
              "fillmode": "overlay",
              "size": 10,
              "solidity": 0.2
             }
            },
            "type": "barpolar"
           }
          ],
          "carpet": [
           {
            "aaxis": {
             "endlinecolor": "rgb(36,36,36)",
             "gridcolor": "white",
             "linecolor": "white",
             "minorgridcolor": "white",
             "startlinecolor": "rgb(36,36,36)"
            },
            "baxis": {
             "endlinecolor": "rgb(36,36,36)",
             "gridcolor": "white",
             "linecolor": "white",
             "minorgridcolor": "white",
             "startlinecolor": "rgb(36,36,36)"
            },
            "type": "carpet"
           }
          ],
          "choropleth": [
           {
            "colorbar": {
             "outlinewidth": 0,
             "tickcolor": "rgb(36,36,36)",
             "ticklen": 8,
             "ticks": "outside",
             "tickwidth": 2
            },
            "type": "choropleth"
           }
          ],
          "contour": [
           {
            "colorbar": {
             "outlinewidth": 0,
             "tickcolor": "rgb(36,36,36)",
             "ticklen": 8,
             "ticks": "outside",
             "tickwidth": 2
            },
            "colorscale": [
             [
              0,
              "rgb(2,4,25)"
             ],
             [
              0.06274509803921569,
              "rgb(24,15,41)"
             ],
             [
              0.12549019607843137,
              "rgb(47,23,57)"
             ],
             [
              0.18823529411764706,
              "rgb(71,28,72)"
             ],
             [
              0.25098039215686274,
              "rgb(97,30,82)"
             ],
             [
              0.3137254901960784,
              "rgb(123,30,89)"
             ],
             [
              0.3764705882352941,
              "rgb(150,27,91)"
             ],
             [
              0.4392156862745098,
              "rgb(177,22,88)"
             ],
             [
              0.5019607843137255,
              "rgb(203,26,79)"
             ],
             [
              0.5647058823529412,
              "rgb(223,47,67)"
             ],
             [
              0.6274509803921569,
              "rgb(236,76,61)"
             ],
             [
              0.6901960784313725,
              "rgb(242,107,73)"
             ],
             [
              0.7529411764705882,
              "rgb(244,135,95)"
             ],
             [
              0.8156862745098039,
              "rgb(245,162,122)"
             ],
             [
              0.8784313725490196,
              "rgb(246,188,153)"
             ],
             [
              0.9411764705882353,
              "rgb(247,212,187)"
             ],
             [
              1,
              "rgb(250,234,220)"
             ]
            ],
            "type": "contour"
           }
          ],
          "contourcarpet": [
           {
            "colorbar": {
             "outlinewidth": 0,
             "tickcolor": "rgb(36,36,36)",
             "ticklen": 8,
             "ticks": "outside",
             "tickwidth": 2
            },
            "type": "contourcarpet"
           }
          ],
          "heatmap": [
           {
            "colorbar": {
             "outlinewidth": 0,
             "tickcolor": "rgb(36,36,36)",
             "ticklen": 8,
             "ticks": "outside",
             "tickwidth": 2
            },
            "colorscale": [
             [
              0,
              "rgb(2,4,25)"
             ],
             [
              0.06274509803921569,
              "rgb(24,15,41)"
             ],
             [
              0.12549019607843137,
              "rgb(47,23,57)"
             ],
             [
              0.18823529411764706,
              "rgb(71,28,72)"
             ],
             [
              0.25098039215686274,
              "rgb(97,30,82)"
             ],
             [
              0.3137254901960784,
              "rgb(123,30,89)"
             ],
             [
              0.3764705882352941,
              "rgb(150,27,91)"
             ],
             [
              0.4392156862745098,
              "rgb(177,22,88)"
             ],
             [
              0.5019607843137255,
              "rgb(203,26,79)"
             ],
             [
              0.5647058823529412,
              "rgb(223,47,67)"
             ],
             [
              0.6274509803921569,
              "rgb(236,76,61)"
             ],
             [
              0.6901960784313725,
              "rgb(242,107,73)"
             ],
             [
              0.7529411764705882,
              "rgb(244,135,95)"
             ],
             [
              0.8156862745098039,
              "rgb(245,162,122)"
             ],
             [
              0.8784313725490196,
              "rgb(246,188,153)"
             ],
             [
              0.9411764705882353,
              "rgb(247,212,187)"
             ],
             [
              1,
              "rgb(250,234,220)"
             ]
            ],
            "type": "heatmap"
           }
          ],
          "heatmapgl": [
           {
            "colorbar": {
             "outlinewidth": 0,
             "tickcolor": "rgb(36,36,36)",
             "ticklen": 8,
             "ticks": "outside",
             "tickwidth": 2
            },
            "colorscale": [
             [
              0,
              "rgb(2,4,25)"
             ],
             [
              0.06274509803921569,
              "rgb(24,15,41)"
             ],
             [
              0.12549019607843137,
              "rgb(47,23,57)"
             ],
             [
              0.18823529411764706,
              "rgb(71,28,72)"
             ],
             [
              0.25098039215686274,
              "rgb(97,30,82)"
             ],
             [
              0.3137254901960784,
              "rgb(123,30,89)"
             ],
             [
              0.3764705882352941,
              "rgb(150,27,91)"
             ],
             [
              0.4392156862745098,
              "rgb(177,22,88)"
             ],
             [
              0.5019607843137255,
              "rgb(203,26,79)"
             ],
             [
              0.5647058823529412,
              "rgb(223,47,67)"
             ],
             [
              0.6274509803921569,
              "rgb(236,76,61)"
             ],
             [
              0.6901960784313725,
              "rgb(242,107,73)"
             ],
             [
              0.7529411764705882,
              "rgb(244,135,95)"
             ],
             [
              0.8156862745098039,
              "rgb(245,162,122)"
             ],
             [
              0.8784313725490196,
              "rgb(246,188,153)"
             ],
             [
              0.9411764705882353,
              "rgb(247,212,187)"
             ],
             [
              1,
              "rgb(250,234,220)"
             ]
            ],
            "type": "heatmapgl"
           }
          ],
          "histogram": [
           {
            "marker": {
             "pattern": {
              "fillmode": "overlay",
              "size": 10,
              "solidity": 0.2
             }
            },
            "type": "histogram"
           }
          ],
          "histogram2d": [
           {
            "colorbar": {
             "outlinewidth": 0,
             "tickcolor": "rgb(36,36,36)",
             "ticklen": 8,
             "ticks": "outside",
             "tickwidth": 2
            },
            "colorscale": [
             [
              0,
              "rgb(2,4,25)"
             ],
             [
              0.06274509803921569,
              "rgb(24,15,41)"
             ],
             [
              0.12549019607843137,
              "rgb(47,23,57)"
             ],
             [
              0.18823529411764706,
              "rgb(71,28,72)"
             ],
             [
              0.25098039215686274,
              "rgb(97,30,82)"
             ],
             [
              0.3137254901960784,
              "rgb(123,30,89)"
             ],
             [
              0.3764705882352941,
              "rgb(150,27,91)"
             ],
             [
              0.4392156862745098,
              "rgb(177,22,88)"
             ],
             [
              0.5019607843137255,
              "rgb(203,26,79)"
             ],
             [
              0.5647058823529412,
              "rgb(223,47,67)"
             ],
             [
              0.6274509803921569,
              "rgb(236,76,61)"
             ],
             [
              0.6901960784313725,
              "rgb(242,107,73)"
             ],
             [
              0.7529411764705882,
              "rgb(244,135,95)"
             ],
             [
              0.8156862745098039,
              "rgb(245,162,122)"
             ],
             [
              0.8784313725490196,
              "rgb(246,188,153)"
             ],
             [
              0.9411764705882353,
              "rgb(247,212,187)"
             ],
             [
              1,
              "rgb(250,234,220)"
             ]
            ],
            "type": "histogram2d"
           }
          ],
          "histogram2dcontour": [
           {
            "colorbar": {
             "outlinewidth": 0,
             "tickcolor": "rgb(36,36,36)",
             "ticklen": 8,
             "ticks": "outside",
             "tickwidth": 2
            },
            "colorscale": [
             [
              0,
              "rgb(2,4,25)"
             ],
             [
              0.06274509803921569,
              "rgb(24,15,41)"
             ],
             [
              0.12549019607843137,
              "rgb(47,23,57)"
             ],
             [
              0.18823529411764706,
              "rgb(71,28,72)"
             ],
             [
              0.25098039215686274,
              "rgb(97,30,82)"
             ],
             [
              0.3137254901960784,
              "rgb(123,30,89)"
             ],
             [
              0.3764705882352941,
              "rgb(150,27,91)"
             ],
             [
              0.4392156862745098,
              "rgb(177,22,88)"
             ],
             [
              0.5019607843137255,
              "rgb(203,26,79)"
             ],
             [
              0.5647058823529412,
              "rgb(223,47,67)"
             ],
             [
              0.6274509803921569,
              "rgb(236,76,61)"
             ],
             [
              0.6901960784313725,
              "rgb(242,107,73)"
             ],
             [
              0.7529411764705882,
              "rgb(244,135,95)"
             ],
             [
              0.8156862745098039,
              "rgb(245,162,122)"
             ],
             [
              0.8784313725490196,
              "rgb(246,188,153)"
             ],
             [
              0.9411764705882353,
              "rgb(247,212,187)"
             ],
             [
              1,
              "rgb(250,234,220)"
             ]
            ],
            "type": "histogram2dcontour"
           }
          ],
          "mesh3d": [
           {
            "colorbar": {
             "outlinewidth": 0,
             "tickcolor": "rgb(36,36,36)",
             "ticklen": 8,
             "ticks": "outside",
             "tickwidth": 2
            },
            "type": "mesh3d"
           }
          ],
          "parcoords": [
           {
            "line": {
             "colorbar": {
              "outlinewidth": 0,
              "tickcolor": "rgb(36,36,36)",
              "ticklen": 8,
              "ticks": "outside",
              "tickwidth": 2
             }
            },
            "type": "parcoords"
           }
          ],
          "pie": [
           {
            "automargin": true,
            "type": "pie"
           }
          ],
          "scatter": [
           {
            "fillpattern": {
             "fillmode": "overlay",
             "size": 10,
             "solidity": 0.2
            },
            "type": "scatter"
           }
          ],
          "scatter3d": [
           {
            "line": {
             "colorbar": {
              "outlinewidth": 0,
              "tickcolor": "rgb(36,36,36)",
              "ticklen": 8,
              "ticks": "outside",
              "tickwidth": 2
             }
            },
            "marker": {
             "colorbar": {
              "outlinewidth": 0,
              "tickcolor": "rgb(36,36,36)",
              "ticklen": 8,
              "ticks": "outside",
              "tickwidth": 2
             }
            },
            "type": "scatter3d"
           }
          ],
          "scattercarpet": [
           {
            "marker": {
             "colorbar": {
              "outlinewidth": 0,
              "tickcolor": "rgb(36,36,36)",
              "ticklen": 8,
              "ticks": "outside",
              "tickwidth": 2
             }
            },
            "type": "scattercarpet"
           }
          ],
          "scattergeo": [
           {
            "marker": {
             "colorbar": {
              "outlinewidth": 0,
              "tickcolor": "rgb(36,36,36)",
              "ticklen": 8,
              "ticks": "outside",
              "tickwidth": 2
             }
            },
            "type": "scattergeo"
           }
          ],
          "scattergl": [
           {
            "marker": {
             "colorbar": {
              "outlinewidth": 0,
              "tickcolor": "rgb(36,36,36)",
              "ticklen": 8,
              "ticks": "outside",
              "tickwidth": 2
             }
            },
            "type": "scattergl"
           }
          ],
          "scattermapbox": [
           {
            "marker": {
             "colorbar": {
              "outlinewidth": 0,
              "tickcolor": "rgb(36,36,36)",
              "ticklen": 8,
              "ticks": "outside",
              "tickwidth": 2
             }
            },
            "type": "scattermapbox"
           }
          ],
          "scatterpolar": [
           {
            "marker": {
             "colorbar": {
              "outlinewidth": 0,
              "tickcolor": "rgb(36,36,36)",
              "ticklen": 8,
              "ticks": "outside",
              "tickwidth": 2
             }
            },
            "type": "scatterpolar"
           }
          ],
          "scatterpolargl": [
           {
            "marker": {
             "colorbar": {
              "outlinewidth": 0,
              "tickcolor": "rgb(36,36,36)",
              "ticklen": 8,
              "ticks": "outside",
              "tickwidth": 2
             }
            },
            "type": "scatterpolargl"
           }
          ],
          "scatterternary": [
           {
            "marker": {
             "colorbar": {
              "outlinewidth": 0,
              "tickcolor": "rgb(36,36,36)",
              "ticklen": 8,
              "ticks": "outside",
              "tickwidth": 2
             }
            },
            "type": "scatterternary"
           }
          ],
          "surface": [
           {
            "colorbar": {
             "outlinewidth": 0,
             "tickcolor": "rgb(36,36,36)",
             "ticklen": 8,
             "ticks": "outside",
             "tickwidth": 2
            },
            "colorscale": [
             [
              0,
              "rgb(2,4,25)"
             ],
             [
              0.06274509803921569,
              "rgb(24,15,41)"
             ],
             [
              0.12549019607843137,
              "rgb(47,23,57)"
             ],
             [
              0.18823529411764706,
              "rgb(71,28,72)"
             ],
             [
              0.25098039215686274,
              "rgb(97,30,82)"
             ],
             [
              0.3137254901960784,
              "rgb(123,30,89)"
             ],
             [
              0.3764705882352941,
              "rgb(150,27,91)"
             ],
             [
              0.4392156862745098,
              "rgb(177,22,88)"
             ],
             [
              0.5019607843137255,
              "rgb(203,26,79)"
             ],
             [
              0.5647058823529412,
              "rgb(223,47,67)"
             ],
             [
              0.6274509803921569,
              "rgb(236,76,61)"
             ],
             [
              0.6901960784313725,
              "rgb(242,107,73)"
             ],
             [
              0.7529411764705882,
              "rgb(244,135,95)"
             ],
             [
              0.8156862745098039,
              "rgb(245,162,122)"
             ],
             [
              0.8784313725490196,
              "rgb(246,188,153)"
             ],
             [
              0.9411764705882353,
              "rgb(247,212,187)"
             ],
             [
              1,
              "rgb(250,234,220)"
             ]
            ],
            "type": "surface"
           }
          ],
          "table": [
           {
            "cells": {
             "fill": {
              "color": "rgb(231,231,240)"
             },
             "line": {
              "color": "white"
             }
            },
            "header": {
             "fill": {
              "color": "rgb(183,183,191)"
             },
             "line": {
              "color": "white"
             }
            },
            "type": "table"
           }
          ]
         },
         "layout": {
          "annotationdefaults": {
           "arrowcolor": "rgb(67,103,167)"
          },
          "autotypenumbers": "strict",
          "coloraxis": {
           "colorbar": {
            "outlinewidth": 0,
            "tickcolor": "rgb(36,36,36)",
            "ticklen": 8,
            "ticks": "outside",
            "tickwidth": 2
           }
          },
          "colorscale": {
           "sequential": [
            [
             0,
             "rgb(2,4,25)"
            ],
            [
             0.06274509803921569,
             "rgb(24,15,41)"
            ],
            [
             0.12549019607843137,
             "rgb(47,23,57)"
            ],
            [
             0.18823529411764706,
             "rgb(71,28,72)"
            ],
            [
             0.25098039215686274,
             "rgb(97,30,82)"
            ],
            [
             0.3137254901960784,
             "rgb(123,30,89)"
            ],
            [
             0.3764705882352941,
             "rgb(150,27,91)"
            ],
            [
             0.4392156862745098,
             "rgb(177,22,88)"
            ],
            [
             0.5019607843137255,
             "rgb(203,26,79)"
            ],
            [
             0.5647058823529412,
             "rgb(223,47,67)"
            ],
            [
             0.6274509803921569,
             "rgb(236,76,61)"
            ],
            [
             0.6901960784313725,
             "rgb(242,107,73)"
            ],
            [
             0.7529411764705882,
             "rgb(244,135,95)"
            ],
            [
             0.8156862745098039,
             "rgb(245,162,122)"
            ],
            [
             0.8784313725490196,
             "rgb(246,188,153)"
            ],
            [
             0.9411764705882353,
             "rgb(247,212,187)"
            ],
            [
             1,
             "rgb(250,234,220)"
            ]
           ],
           "sequentialminus": [
            [
             0,
             "rgb(2,4,25)"
            ],
            [
             0.06274509803921569,
             "rgb(24,15,41)"
            ],
            [
             0.12549019607843137,
             "rgb(47,23,57)"
            ],
            [
             0.18823529411764706,
             "rgb(71,28,72)"
            ],
            [
             0.25098039215686274,
             "rgb(97,30,82)"
            ],
            [
             0.3137254901960784,
             "rgb(123,30,89)"
            ],
            [
             0.3764705882352941,
             "rgb(150,27,91)"
            ],
            [
             0.4392156862745098,
             "rgb(177,22,88)"
            ],
            [
             0.5019607843137255,
             "rgb(203,26,79)"
            ],
            [
             0.5647058823529412,
             "rgb(223,47,67)"
            ],
            [
             0.6274509803921569,
             "rgb(236,76,61)"
            ],
            [
             0.6901960784313725,
             "rgb(242,107,73)"
            ],
            [
             0.7529411764705882,
             "rgb(244,135,95)"
            ],
            [
             0.8156862745098039,
             "rgb(245,162,122)"
            ],
            [
             0.8784313725490196,
             "rgb(246,188,153)"
            ],
            [
             0.9411764705882353,
             "rgb(247,212,187)"
            ],
            [
             1,
             "rgb(250,234,220)"
            ]
           ]
          },
          "colorway": [
           "rgb(76,114,176)",
           "rgb(221,132,82)",
           "rgb(85,168,104)",
           "rgb(196,78,82)",
           "rgb(129,114,179)",
           "rgb(147,120,96)",
           "rgb(218,139,195)",
           "rgb(140,140,140)",
           "rgb(204,185,116)",
           "rgb(100,181,205)"
          ],
          "font": {
           "color": "rgb(36,36,36)"
          },
          "geo": {
           "bgcolor": "white",
           "lakecolor": "white",
           "landcolor": "rgb(234,234,242)",
           "showlakes": true,
           "showland": true,
           "subunitcolor": "white"
          },
          "hoverlabel": {
           "align": "left"
          },
          "hovermode": "closest",
          "paper_bgcolor": "white",
          "plot_bgcolor": "rgb(234,234,242)",
          "polar": {
           "angularaxis": {
            "gridcolor": "white",
            "linecolor": "white",
            "showgrid": true,
            "ticks": ""
           },
           "bgcolor": "rgb(234,234,242)",
           "radialaxis": {
            "gridcolor": "white",
            "linecolor": "white",
            "showgrid": true,
            "ticks": ""
           }
          },
          "scene": {
           "xaxis": {
            "backgroundcolor": "rgb(234,234,242)",
            "gridcolor": "white",
            "gridwidth": 2,
            "linecolor": "white",
            "showbackground": true,
            "showgrid": true,
            "ticks": "",
            "zerolinecolor": "white"
           },
           "yaxis": {
            "backgroundcolor": "rgb(234,234,242)",
            "gridcolor": "white",
            "gridwidth": 2,
            "linecolor": "white",
            "showbackground": true,
            "showgrid": true,
            "ticks": "",
            "zerolinecolor": "white"
           },
           "zaxis": {
            "backgroundcolor": "rgb(234,234,242)",
            "gridcolor": "white",
            "gridwidth": 2,
            "linecolor": "white",
            "showbackground": true,
            "showgrid": true,
            "ticks": "",
            "zerolinecolor": "white"
           }
          },
          "shapedefaults": {
           "fillcolor": "rgb(67,103,167)",
           "line": {
            "width": 0
           },
           "opacity": 0.5
          },
          "ternary": {
           "aaxis": {
            "gridcolor": "white",
            "linecolor": "white",
            "showgrid": true,
            "ticks": ""
           },
           "baxis": {
            "gridcolor": "white",
            "linecolor": "white",
            "showgrid": true,
            "ticks": ""
           },
           "bgcolor": "rgb(234,234,242)",
           "caxis": {
            "gridcolor": "white",
            "linecolor": "white",
            "showgrid": true,
            "ticks": ""
           }
          },
          "xaxis": {
           "automargin": true,
           "gridcolor": "white",
           "linecolor": "white",
           "showgrid": true,
           "ticks": "",
           "title": {
            "standoff": 15
           },
           "zerolinecolor": "white"
          },
          "yaxis": {
           "automargin": true,
           "gridcolor": "white",
           "linecolor": "white",
           "showgrid": true,
           "ticks": "",
           "title": {
            "standoff": 15
           },
           "zerolinecolor": "white"
          }
         }
        },
        "title": {
         "text": "Training and validation of Simple Model"
        },
        "width": 1200,
        "xaxis": {
         "anchor": "y",
         "domain": [
          0,
          0.475
         ],
         "title": {
          "text": "epochs"
         }
        },
        "xaxis2": {
         "anchor": "y2",
         "domain": [
          0.525,
          1
         ],
         "title": {
          "text": "epochs"
         }
        },
        "yaxis": {
         "anchor": "x",
         "domain": [
          0,
          1
         ],
         "title": {
          "text": "acc"
         }
        },
        "yaxis2": {
         "anchor": "x2",
         "domain": [
          0,
          1
         ],
         "title": {
          "text": "acc"
         }
        }
       }
      }
     },
     "metadata": {},
     "output_type": "display_data"
    }
   ],
   "source": [
    "simple_model = SimpleModel(num_classes=5)\n",
    "optimizer = Adam(learning_rate=1e-3)\n",
    "simple_model.compile(optimizer=optimizer, loss=\"sparse_categorical_crossentropy\", metrics=[SparseCategoricalAccuracy('acc')])\n",
    "simple_model_history = train_model(simple_model, train_dataset, val_dataset, epochs=20, path=model_dir, batch_size=BATCH_SIZE, verbose=1).history\n",
    "print(\n",
    "    f\"Final loss: training -> {simple_model_history['loss'][-1]:.2f}, validation -> {simple_model_history['val_loss'][-1]:.2f}\"\n",
    ")\n",
    "print(\n",
    "    f\"Final accuracy: training -> {simple_model_history['acc'][-1]:.2f}, \\\n",
    "        validation -> {simple_model_history['val_acc'][-1]:.2f}\"\n",
    ")\n",
    "plot_history(simple_model_history, ['loss', 'acc'], name='Simple Model')"
   ]
  },
  {
   "cell_type": "code",
   "execution_count": 4,
   "metadata": {
    "colab": {
     "base_uri": "https://localhost:8080/"
    },
    "id": "OObWq7CPu9-7",
    "outputId": "0abac44d-e754-42d8-f2bb-43cb43166d7f"
   },
   "outputs": [
    {
     "name": "stdout",
     "output_type": "stream",
     "text": [
      "6/6 [==============================] - 1s 73ms/step - loss: 0.6535 - acc: 0.7615\n",
      "Model evaluated: Test Loss-> 0.6535041928291321, Test Accuracy -> 76.15%\n",
      "Model: \"SimpleModel\"\n",
      "_________________________________________________________________\n",
      " Layer (type)                Output Shape              Param #   \n",
      "=================================================================\n",
      " rescaling (Rescaling)       multiple                  0         \n",
      "                                                                 \n",
      " conv2d (Conv2D)             multiple                  896       \n",
      "                                                                 \n",
      " max_pooling2d (MaxPooling2  multiple                  0         \n",
      " D)                                                              \n",
      "                                                                 \n",
      " conv2d_1 (Conv2D)           multiple                  18496     \n",
      "                                                                 \n",
      " max_pooling2d_1 (MaxPoolin  multiple                  0 (unused)\n",
      " g2D)                                                            \n",
      "                                                                 \n",
      " flatten (Flatten)           multiple                  0         \n",
      "                                                                 \n",
      " dense (Dense)               multiple                  706885    \n",
      "                                                                 \n",
      "=================================================================\n",
      "Total params: 726277 (2.77 MB)\n",
      "Trainable params: 726277 (2.77 MB)\n",
      "Non-trainable params: 0 (0.00 Byte)\n",
      "_________________________________________________________________\n",
      "None\n"
     ]
    }
   ],
   "source": [
    "test_loss, test_accuracy = simple_model.evaluate(test_dataset, batch_size=BATCH_SIZE)\n",
    "print(\n",
    "    f\"Model evaluated: Test Loss-> {test_loss}, Test Accuracy -> {test_accuracy*100:.2f}%\"\n",
    ")\n",
    "print(simple_model.summary())\n",
    "model_accuracies.append((\"SimpleModel\", test_accuracy))"
   ]
  },
  {
   "cell_type": "markdown",
   "metadata": {},
   "source": [
    "### 2.2 Mid Complex Model"
   ]
  },
  {
   "cell_type": "code",
   "execution_count": 5,
   "metadata": {},
   "outputs": [
    {
     "name": "stdout",
     "output_type": "stream",
     "text": [
      "Epoch 1/30\n"
     ]
    },
    {
     "name": "stderr",
     "output_type": "stream",
     "text": [
      "2024-03-05 16:17:28.662586: E tensorflow/core/grappler/optimizers/meta_optimizer.cc:961] layout failed: INVALID_ARGUMENT: Size of values 0 does not match size of permutation 4 @ fanin shape inMidModel/dropout/dropout/SelectV2-2-TransposeNHWCToNCHW-LayoutOptimizer\n"
     ]
    },
    {
     "name": "stdout",
     "output_type": "stream",
     "text": [
      "45/45 [==============================] - 15s 156ms/step - loss: 1.3804 - acc: 0.4140 - val_loss: 0.9400 - val_acc: 0.6467 - lr: 0.0010\n",
      "Epoch 2/30\n",
      "45/45 [==============================] - 6s 100ms/step - loss: 0.8527 - acc: 0.6690 - val_loss: 0.7428 - val_acc: 0.7041 - lr: 0.0010\n",
      "Epoch 3/30\n",
      "45/45 [==============================] - 6s 100ms/step - loss: 0.7073 - acc: 0.7262 - val_loss: 0.6787 - val_acc: 0.7506 - lr: 0.0010\n",
      "Epoch 4/30\n",
      "45/45 [==============================] - 6s 100ms/step - loss: 0.5940 - acc: 0.7636 - val_loss: 0.5951 - val_acc: 0.7665 - lr: 0.0010\n",
      "Epoch 5/30\n",
      "45/45 [==============================] - 6s 100ms/step - loss: 0.5315 - acc: 0.7901 - val_loss: 0.5451 - val_acc: 0.7867 - lr: 0.0010\n",
      "Epoch 6/30\n",
      "45/45 [==============================] - 6s 100ms/step - loss: 0.4767 - acc: 0.8116 - val_loss: 0.5186 - val_acc: 0.8031 - lr: 0.0010\n",
      "Epoch 7/30\n",
      "45/45 [==============================] - 6s 99ms/step - loss: 0.4347 - acc: 0.8284 - val_loss: 0.6208 - val_acc: 0.7566 - lr: 0.0010\n",
      "Epoch 8/30\n",
      "45/45 [==============================] - 6s 101ms/step - loss: 0.4018 - acc: 0.8437 - val_loss: 0.4764 - val_acc: 0.8209 - lr: 0.0010\n",
      "Epoch 9/30\n",
      "45/45 [==============================] - 6s 101ms/step - loss: 0.3452 - acc: 0.8625 - val_loss: 0.4533 - val_acc: 0.8298 - lr: 0.0010\n",
      "Epoch 10/30\n",
      "45/45 [==============================] - 6s 99ms/step - loss: 0.3103 - acc: 0.8820 - val_loss: 0.5328 - val_acc: 0.8080 - lr: 0.0010\n",
      "Epoch 11/30\n",
      "45/45 [==============================] - 6s 99ms/step - loss: 0.2834 - acc: 0.8887 - val_loss: 0.4791 - val_acc: 0.8352 - lr: 0.0010\n",
      "Epoch 12/30\n",
      "45/45 [==============================] - 6s 99ms/step - loss: 0.2636 - acc: 0.8947 - val_loss: 0.5497 - val_acc: 0.8080 - lr: 0.0010\n",
      "Epoch 13/30\n",
      "45/45 [==============================] - 6s 100ms/step - loss: 0.2225 - acc: 0.9137 - val_loss: 0.5219 - val_acc: 0.8248 - lr: 0.0010\n",
      "Epoch 14/30\n",
      "45/45 [==============================] - 6s 99ms/step - loss: 0.1855 - acc: 0.9293 - val_loss: 0.5422 - val_acc: 0.8298 - lr: 0.0010\n",
      "Epoch 15/30\n",
      "45/45 [==============================] - 6s 99ms/step - loss: 0.1167 - acc: 0.9584 - val_loss: 0.5237 - val_acc: 0.8516 - lr: 2.0000e-04\n",
      "Epoch 16/30\n",
      "45/45 [==============================] - 6s 99ms/step - loss: 0.0900 - acc: 0.9681 - val_loss: 0.5688 - val_acc: 0.8461 - lr: 2.0000e-04\n",
      "Epoch 17/30\n",
      "45/45 [==============================] - 6s 99ms/step - loss: 0.0764 - acc: 0.9753 - val_loss: 0.6183 - val_acc: 0.8491 - lr: 2.0000e-04\n",
      "Epoch 18/30\n",
      "45/45 [==============================] - 6s 98ms/step - loss: 0.0680 - acc: 0.9762 - val_loss: 0.6610 - val_acc: 0.8422 - lr: 2.0000e-04\n",
      "Epoch 19/30\n",
      "45/45 [==============================] - 6s 99ms/step - loss: 0.0596 - acc: 0.9802 - val_loss: 0.6643 - val_acc: 0.8506 - lr: 2.0000e-04\n",
      "Final loss: training -> 0.06, validation -> 0.66\n",
      "Final accuracy: training -> 0.98, validation -> 0.85\n"
     ]
    },
    {
     "data": {
      "application/vnd.plotly.v1+json": {
       "config": {
        "plotlyServerURL": "https://plot.ly"
       },
       "data": [
        {
         "line": {
          "color": "#636EFA"
         },
         "marker": {
          "color": "#636EFA"
         },
         "mode": "lines+markers",
         "name": "train",
         "showlegend": true,
         "type": "scatter",
         "x": [
          1,
          2,
          3,
          4,
          5,
          6,
          7,
          8,
          9,
          10,
          11,
          12,
          13,
          14,
          15,
          16,
          17,
          18,
          19
         ],
         "xaxis": "x",
         "y": [
          1.3804309368133545,
          0.8526579141616821,
          0.707250714302063,
          0.5940197110176086,
          0.5314649939537048,
          0.47665658593177795,
          0.4347108006477356,
          0.40177756547927856,
          0.34518852829933167,
          0.3102501928806305,
          0.2834365963935852,
          0.2636164128780365,
          0.22253984212875366,
          0.18551430106163025,
          0.11670055240392685,
          0.0899868831038475,
          0.07644893229007721,
          0.06799068301916122,
          0.05960722640156746
         ],
         "yaxis": "y"
        },
        {
         "line": {
          "color": "#EF553B"
         },
         "marker": {
          "color": "#EF553B"
         },
         "mode": "lines+markers",
         "name": "val",
         "showlegend": true,
         "type": "scatter",
         "x": [
          1,
          2,
          3,
          4,
          5,
          6,
          7,
          8,
          9,
          10,
          11,
          12,
          13,
          14,
          15,
          16,
          17,
          18,
          19
         ],
         "xaxis": "x",
         "y": [
          0.9400144815444946,
          0.7428310513496399,
          0.6787109971046448,
          0.5951024293899536,
          0.545140266418457,
          0.51863694190979,
          0.6207648515701294,
          0.4763764441013336,
          0.4532962739467621,
          0.5327695608139038,
          0.47907331585884094,
          0.5497167110443115,
          0.5218688249588013,
          0.5422300696372986,
          0.5236843228340149,
          0.5687707662582397,
          0.6182617545127869,
          0.6609874963760376,
          0.6642578840255737
         ],
         "yaxis": "y"
        },
        {
         "line": {
          "color": "#636EFA"
         },
         "marker": {
          "color": "#636EFA"
         },
         "mode": "lines+markers",
         "name": "train",
         "showlegend": false,
         "type": "scatter",
         "x": [
          1,
          2,
          3,
          4,
          5,
          6,
          7,
          8,
          9,
          10,
          11,
          12,
          13,
          14,
          15,
          16,
          17,
          18,
          19
         ],
         "xaxis": "x2",
         "y": [
          0.41395267844200134,
          0.6689950227737427,
          0.7261852622032166,
          0.7635554075241089,
          0.7900986671447754,
          0.8115777373313904,
          0.8284292221069336,
          0.8437090516090393,
          0.8624814748764038,
          0.8820396661758423,
          0.8886754512786865,
          0.8947000503540039,
          0.9137343764305115,
          0.929276168346405,
          0.9583515524864197,
          0.9681306481361389,
          0.9752902984619141,
          0.9761634469032288,
          0.9801798462867737
         ],
         "yaxis": "y2"
        },
        {
         "line": {
          "color": "#EF553B"
         },
         "marker": {
          "color": "#EF553B"
         },
         "mode": "lines+markers",
         "name": "val",
         "showlegend": false,
         "type": "scatter",
         "x": [
          1,
          2,
          3,
          4,
          5,
          6,
          7,
          8,
          9,
          10,
          11,
          12,
          13,
          14,
          15,
          16,
          17,
          18,
          19
         ],
         "xaxis": "x2",
         "y": [
          0.6467095613479614,
          0.704106867313385,
          0.7506185173988342,
          0.7664522528648376,
          0.7867392301559448,
          0.8030678033828735,
          0.7565561532974243,
          0.8208807706832886,
          0.8297872543334961,
          0.8080158233642578,
          0.8352301120758057,
          0.8080158233642578,
          0.824839174747467,
          0.8297872543334961,
          0.8515586256980896,
          0.84611576795578,
          0.8490846157073975,
          0.8421573638916016,
          0.8505690097808838
         ],
         "yaxis": "y2"
        }
       ],
       "layout": {
        "annotations": [
         {
          "font": {
           "size": 16
          },
          "showarrow": false,
          "text": "loss",
          "x": 0.2375,
          "xanchor": "center",
          "xref": "paper",
          "y": 1,
          "yanchor": "bottom",
          "yref": "paper"
         },
         {
          "font": {
           "size": 16
          },
          "showarrow": false,
          "text": "acc",
          "x": 0.7625,
          "xanchor": "center",
          "xref": "paper",
          "y": 1,
          "yanchor": "bottom",
          "yref": "paper"
         }
        ],
        "height": 400,
        "margin": {
         "b": 10,
         "l": 10,
         "r": 10,
         "t": 50
        },
        "template": {
         "data": {
          "bar": [
           {
            "error_x": {
             "color": "rgb(36,36,36)"
            },
            "error_y": {
             "color": "rgb(36,36,36)"
            },
            "marker": {
             "line": {
              "color": "rgb(234,234,242)",
              "width": 0.5
             },
             "pattern": {
              "fillmode": "overlay",
              "size": 10,
              "solidity": 0.2
             }
            },
            "type": "bar"
           }
          ],
          "barpolar": [
           {
            "marker": {
             "line": {
              "color": "rgb(234,234,242)",
              "width": 0.5
             },
             "pattern": {
              "fillmode": "overlay",
              "size": 10,
              "solidity": 0.2
             }
            },
            "type": "barpolar"
           }
          ],
          "carpet": [
           {
            "aaxis": {
             "endlinecolor": "rgb(36,36,36)",
             "gridcolor": "white",
             "linecolor": "white",
             "minorgridcolor": "white",
             "startlinecolor": "rgb(36,36,36)"
            },
            "baxis": {
             "endlinecolor": "rgb(36,36,36)",
             "gridcolor": "white",
             "linecolor": "white",
             "minorgridcolor": "white",
             "startlinecolor": "rgb(36,36,36)"
            },
            "type": "carpet"
           }
          ],
          "choropleth": [
           {
            "colorbar": {
             "outlinewidth": 0,
             "tickcolor": "rgb(36,36,36)",
             "ticklen": 8,
             "ticks": "outside",
             "tickwidth": 2
            },
            "type": "choropleth"
           }
          ],
          "contour": [
           {
            "colorbar": {
             "outlinewidth": 0,
             "tickcolor": "rgb(36,36,36)",
             "ticklen": 8,
             "ticks": "outside",
             "tickwidth": 2
            },
            "colorscale": [
             [
              0,
              "rgb(2,4,25)"
             ],
             [
              0.06274509803921569,
              "rgb(24,15,41)"
             ],
             [
              0.12549019607843137,
              "rgb(47,23,57)"
             ],
             [
              0.18823529411764706,
              "rgb(71,28,72)"
             ],
             [
              0.25098039215686274,
              "rgb(97,30,82)"
             ],
             [
              0.3137254901960784,
              "rgb(123,30,89)"
             ],
             [
              0.3764705882352941,
              "rgb(150,27,91)"
             ],
             [
              0.4392156862745098,
              "rgb(177,22,88)"
             ],
             [
              0.5019607843137255,
              "rgb(203,26,79)"
             ],
             [
              0.5647058823529412,
              "rgb(223,47,67)"
             ],
             [
              0.6274509803921569,
              "rgb(236,76,61)"
             ],
             [
              0.6901960784313725,
              "rgb(242,107,73)"
             ],
             [
              0.7529411764705882,
              "rgb(244,135,95)"
             ],
             [
              0.8156862745098039,
              "rgb(245,162,122)"
             ],
             [
              0.8784313725490196,
              "rgb(246,188,153)"
             ],
             [
              0.9411764705882353,
              "rgb(247,212,187)"
             ],
             [
              1,
              "rgb(250,234,220)"
             ]
            ],
            "type": "contour"
           }
          ],
          "contourcarpet": [
           {
            "colorbar": {
             "outlinewidth": 0,
             "tickcolor": "rgb(36,36,36)",
             "ticklen": 8,
             "ticks": "outside",
             "tickwidth": 2
            },
            "type": "contourcarpet"
           }
          ],
          "heatmap": [
           {
            "colorbar": {
             "outlinewidth": 0,
             "tickcolor": "rgb(36,36,36)",
             "ticklen": 8,
             "ticks": "outside",
             "tickwidth": 2
            },
            "colorscale": [
             [
              0,
              "rgb(2,4,25)"
             ],
             [
              0.06274509803921569,
              "rgb(24,15,41)"
             ],
             [
              0.12549019607843137,
              "rgb(47,23,57)"
             ],
             [
              0.18823529411764706,
              "rgb(71,28,72)"
             ],
             [
              0.25098039215686274,
              "rgb(97,30,82)"
             ],
             [
              0.3137254901960784,
              "rgb(123,30,89)"
             ],
             [
              0.3764705882352941,
              "rgb(150,27,91)"
             ],
             [
              0.4392156862745098,
              "rgb(177,22,88)"
             ],
             [
              0.5019607843137255,
              "rgb(203,26,79)"
             ],
             [
              0.5647058823529412,
              "rgb(223,47,67)"
             ],
             [
              0.6274509803921569,
              "rgb(236,76,61)"
             ],
             [
              0.6901960784313725,
              "rgb(242,107,73)"
             ],
             [
              0.7529411764705882,
              "rgb(244,135,95)"
             ],
             [
              0.8156862745098039,
              "rgb(245,162,122)"
             ],
             [
              0.8784313725490196,
              "rgb(246,188,153)"
             ],
             [
              0.9411764705882353,
              "rgb(247,212,187)"
             ],
             [
              1,
              "rgb(250,234,220)"
             ]
            ],
            "type": "heatmap"
           }
          ],
          "heatmapgl": [
           {
            "colorbar": {
             "outlinewidth": 0,
             "tickcolor": "rgb(36,36,36)",
             "ticklen": 8,
             "ticks": "outside",
             "tickwidth": 2
            },
            "colorscale": [
             [
              0,
              "rgb(2,4,25)"
             ],
             [
              0.06274509803921569,
              "rgb(24,15,41)"
             ],
             [
              0.12549019607843137,
              "rgb(47,23,57)"
             ],
             [
              0.18823529411764706,
              "rgb(71,28,72)"
             ],
             [
              0.25098039215686274,
              "rgb(97,30,82)"
             ],
             [
              0.3137254901960784,
              "rgb(123,30,89)"
             ],
             [
              0.3764705882352941,
              "rgb(150,27,91)"
             ],
             [
              0.4392156862745098,
              "rgb(177,22,88)"
             ],
             [
              0.5019607843137255,
              "rgb(203,26,79)"
             ],
             [
              0.5647058823529412,
              "rgb(223,47,67)"
             ],
             [
              0.6274509803921569,
              "rgb(236,76,61)"
             ],
             [
              0.6901960784313725,
              "rgb(242,107,73)"
             ],
             [
              0.7529411764705882,
              "rgb(244,135,95)"
             ],
             [
              0.8156862745098039,
              "rgb(245,162,122)"
             ],
             [
              0.8784313725490196,
              "rgb(246,188,153)"
             ],
             [
              0.9411764705882353,
              "rgb(247,212,187)"
             ],
             [
              1,
              "rgb(250,234,220)"
             ]
            ],
            "type": "heatmapgl"
           }
          ],
          "histogram": [
           {
            "marker": {
             "pattern": {
              "fillmode": "overlay",
              "size": 10,
              "solidity": 0.2
             }
            },
            "type": "histogram"
           }
          ],
          "histogram2d": [
           {
            "colorbar": {
             "outlinewidth": 0,
             "tickcolor": "rgb(36,36,36)",
             "ticklen": 8,
             "ticks": "outside",
             "tickwidth": 2
            },
            "colorscale": [
             [
              0,
              "rgb(2,4,25)"
             ],
             [
              0.06274509803921569,
              "rgb(24,15,41)"
             ],
             [
              0.12549019607843137,
              "rgb(47,23,57)"
             ],
             [
              0.18823529411764706,
              "rgb(71,28,72)"
             ],
             [
              0.25098039215686274,
              "rgb(97,30,82)"
             ],
             [
              0.3137254901960784,
              "rgb(123,30,89)"
             ],
             [
              0.3764705882352941,
              "rgb(150,27,91)"
             ],
             [
              0.4392156862745098,
              "rgb(177,22,88)"
             ],
             [
              0.5019607843137255,
              "rgb(203,26,79)"
             ],
             [
              0.5647058823529412,
              "rgb(223,47,67)"
             ],
             [
              0.6274509803921569,
              "rgb(236,76,61)"
             ],
             [
              0.6901960784313725,
              "rgb(242,107,73)"
             ],
             [
              0.7529411764705882,
              "rgb(244,135,95)"
             ],
             [
              0.8156862745098039,
              "rgb(245,162,122)"
             ],
             [
              0.8784313725490196,
              "rgb(246,188,153)"
             ],
             [
              0.9411764705882353,
              "rgb(247,212,187)"
             ],
             [
              1,
              "rgb(250,234,220)"
             ]
            ],
            "type": "histogram2d"
           }
          ],
          "histogram2dcontour": [
           {
            "colorbar": {
             "outlinewidth": 0,
             "tickcolor": "rgb(36,36,36)",
             "ticklen": 8,
             "ticks": "outside",
             "tickwidth": 2
            },
            "colorscale": [
             [
              0,
              "rgb(2,4,25)"
             ],
             [
              0.06274509803921569,
              "rgb(24,15,41)"
             ],
             [
              0.12549019607843137,
              "rgb(47,23,57)"
             ],
             [
              0.18823529411764706,
              "rgb(71,28,72)"
             ],
             [
              0.25098039215686274,
              "rgb(97,30,82)"
             ],
             [
              0.3137254901960784,
              "rgb(123,30,89)"
             ],
             [
              0.3764705882352941,
              "rgb(150,27,91)"
             ],
             [
              0.4392156862745098,
              "rgb(177,22,88)"
             ],
             [
              0.5019607843137255,
              "rgb(203,26,79)"
             ],
             [
              0.5647058823529412,
              "rgb(223,47,67)"
             ],
             [
              0.6274509803921569,
              "rgb(236,76,61)"
             ],
             [
              0.6901960784313725,
              "rgb(242,107,73)"
             ],
             [
              0.7529411764705882,
              "rgb(244,135,95)"
             ],
             [
              0.8156862745098039,
              "rgb(245,162,122)"
             ],
             [
              0.8784313725490196,
              "rgb(246,188,153)"
             ],
             [
              0.9411764705882353,
              "rgb(247,212,187)"
             ],
             [
              1,
              "rgb(250,234,220)"
             ]
            ],
            "type": "histogram2dcontour"
           }
          ],
          "mesh3d": [
           {
            "colorbar": {
             "outlinewidth": 0,
             "tickcolor": "rgb(36,36,36)",
             "ticklen": 8,
             "ticks": "outside",
             "tickwidth": 2
            },
            "type": "mesh3d"
           }
          ],
          "parcoords": [
           {
            "line": {
             "colorbar": {
              "outlinewidth": 0,
              "tickcolor": "rgb(36,36,36)",
              "ticklen": 8,
              "ticks": "outside",
              "tickwidth": 2
             }
            },
            "type": "parcoords"
           }
          ],
          "pie": [
           {
            "automargin": true,
            "type": "pie"
           }
          ],
          "scatter": [
           {
            "fillpattern": {
             "fillmode": "overlay",
             "size": 10,
             "solidity": 0.2
            },
            "type": "scatter"
           }
          ],
          "scatter3d": [
           {
            "line": {
             "colorbar": {
              "outlinewidth": 0,
              "tickcolor": "rgb(36,36,36)",
              "ticklen": 8,
              "ticks": "outside",
              "tickwidth": 2
             }
            },
            "marker": {
             "colorbar": {
              "outlinewidth": 0,
              "tickcolor": "rgb(36,36,36)",
              "ticklen": 8,
              "ticks": "outside",
              "tickwidth": 2
             }
            },
            "type": "scatter3d"
           }
          ],
          "scattercarpet": [
           {
            "marker": {
             "colorbar": {
              "outlinewidth": 0,
              "tickcolor": "rgb(36,36,36)",
              "ticklen": 8,
              "ticks": "outside",
              "tickwidth": 2
             }
            },
            "type": "scattercarpet"
           }
          ],
          "scattergeo": [
           {
            "marker": {
             "colorbar": {
              "outlinewidth": 0,
              "tickcolor": "rgb(36,36,36)",
              "ticklen": 8,
              "ticks": "outside",
              "tickwidth": 2
             }
            },
            "type": "scattergeo"
           }
          ],
          "scattergl": [
           {
            "marker": {
             "colorbar": {
              "outlinewidth": 0,
              "tickcolor": "rgb(36,36,36)",
              "ticklen": 8,
              "ticks": "outside",
              "tickwidth": 2
             }
            },
            "type": "scattergl"
           }
          ],
          "scattermapbox": [
           {
            "marker": {
             "colorbar": {
              "outlinewidth": 0,
              "tickcolor": "rgb(36,36,36)",
              "ticklen": 8,
              "ticks": "outside",
              "tickwidth": 2
             }
            },
            "type": "scattermapbox"
           }
          ],
          "scatterpolar": [
           {
            "marker": {
             "colorbar": {
              "outlinewidth": 0,
              "tickcolor": "rgb(36,36,36)",
              "ticklen": 8,
              "ticks": "outside",
              "tickwidth": 2
             }
            },
            "type": "scatterpolar"
           }
          ],
          "scatterpolargl": [
           {
            "marker": {
             "colorbar": {
              "outlinewidth": 0,
              "tickcolor": "rgb(36,36,36)",
              "ticklen": 8,
              "ticks": "outside",
              "tickwidth": 2
             }
            },
            "type": "scatterpolargl"
           }
          ],
          "scatterternary": [
           {
            "marker": {
             "colorbar": {
              "outlinewidth": 0,
              "tickcolor": "rgb(36,36,36)",
              "ticklen": 8,
              "ticks": "outside",
              "tickwidth": 2
             }
            },
            "type": "scatterternary"
           }
          ],
          "surface": [
           {
            "colorbar": {
             "outlinewidth": 0,
             "tickcolor": "rgb(36,36,36)",
             "ticklen": 8,
             "ticks": "outside",
             "tickwidth": 2
            },
            "colorscale": [
             [
              0,
              "rgb(2,4,25)"
             ],
             [
              0.06274509803921569,
              "rgb(24,15,41)"
             ],
             [
              0.12549019607843137,
              "rgb(47,23,57)"
             ],
             [
              0.18823529411764706,
              "rgb(71,28,72)"
             ],
             [
              0.25098039215686274,
              "rgb(97,30,82)"
             ],
             [
              0.3137254901960784,
              "rgb(123,30,89)"
             ],
             [
              0.3764705882352941,
              "rgb(150,27,91)"
             ],
             [
              0.4392156862745098,
              "rgb(177,22,88)"
             ],
             [
              0.5019607843137255,
              "rgb(203,26,79)"
             ],
             [
              0.5647058823529412,
              "rgb(223,47,67)"
             ],
             [
              0.6274509803921569,
              "rgb(236,76,61)"
             ],
             [
              0.6901960784313725,
              "rgb(242,107,73)"
             ],
             [
              0.7529411764705882,
              "rgb(244,135,95)"
             ],
             [
              0.8156862745098039,
              "rgb(245,162,122)"
             ],
             [
              0.8784313725490196,
              "rgb(246,188,153)"
             ],
             [
              0.9411764705882353,
              "rgb(247,212,187)"
             ],
             [
              1,
              "rgb(250,234,220)"
             ]
            ],
            "type": "surface"
           }
          ],
          "table": [
           {
            "cells": {
             "fill": {
              "color": "rgb(231,231,240)"
             },
             "line": {
              "color": "white"
             }
            },
            "header": {
             "fill": {
              "color": "rgb(183,183,191)"
             },
             "line": {
              "color": "white"
             }
            },
            "type": "table"
           }
          ]
         },
         "layout": {
          "annotationdefaults": {
           "arrowcolor": "rgb(67,103,167)"
          },
          "autotypenumbers": "strict",
          "coloraxis": {
           "colorbar": {
            "outlinewidth": 0,
            "tickcolor": "rgb(36,36,36)",
            "ticklen": 8,
            "ticks": "outside",
            "tickwidth": 2
           }
          },
          "colorscale": {
           "sequential": [
            [
             0,
             "rgb(2,4,25)"
            ],
            [
             0.06274509803921569,
             "rgb(24,15,41)"
            ],
            [
             0.12549019607843137,
             "rgb(47,23,57)"
            ],
            [
             0.18823529411764706,
             "rgb(71,28,72)"
            ],
            [
             0.25098039215686274,
             "rgb(97,30,82)"
            ],
            [
             0.3137254901960784,
             "rgb(123,30,89)"
            ],
            [
             0.3764705882352941,
             "rgb(150,27,91)"
            ],
            [
             0.4392156862745098,
             "rgb(177,22,88)"
            ],
            [
             0.5019607843137255,
             "rgb(203,26,79)"
            ],
            [
             0.5647058823529412,
             "rgb(223,47,67)"
            ],
            [
             0.6274509803921569,
             "rgb(236,76,61)"
            ],
            [
             0.6901960784313725,
             "rgb(242,107,73)"
            ],
            [
             0.7529411764705882,
             "rgb(244,135,95)"
            ],
            [
             0.8156862745098039,
             "rgb(245,162,122)"
            ],
            [
             0.8784313725490196,
             "rgb(246,188,153)"
            ],
            [
             0.9411764705882353,
             "rgb(247,212,187)"
            ],
            [
             1,
             "rgb(250,234,220)"
            ]
           ],
           "sequentialminus": [
            [
             0,
             "rgb(2,4,25)"
            ],
            [
             0.06274509803921569,
             "rgb(24,15,41)"
            ],
            [
             0.12549019607843137,
             "rgb(47,23,57)"
            ],
            [
             0.18823529411764706,
             "rgb(71,28,72)"
            ],
            [
             0.25098039215686274,
             "rgb(97,30,82)"
            ],
            [
             0.3137254901960784,
             "rgb(123,30,89)"
            ],
            [
             0.3764705882352941,
             "rgb(150,27,91)"
            ],
            [
             0.4392156862745098,
             "rgb(177,22,88)"
            ],
            [
             0.5019607843137255,
             "rgb(203,26,79)"
            ],
            [
             0.5647058823529412,
             "rgb(223,47,67)"
            ],
            [
             0.6274509803921569,
             "rgb(236,76,61)"
            ],
            [
             0.6901960784313725,
             "rgb(242,107,73)"
            ],
            [
             0.7529411764705882,
             "rgb(244,135,95)"
            ],
            [
             0.8156862745098039,
             "rgb(245,162,122)"
            ],
            [
             0.8784313725490196,
             "rgb(246,188,153)"
            ],
            [
             0.9411764705882353,
             "rgb(247,212,187)"
            ],
            [
             1,
             "rgb(250,234,220)"
            ]
           ]
          },
          "colorway": [
           "rgb(76,114,176)",
           "rgb(221,132,82)",
           "rgb(85,168,104)",
           "rgb(196,78,82)",
           "rgb(129,114,179)",
           "rgb(147,120,96)",
           "rgb(218,139,195)",
           "rgb(140,140,140)",
           "rgb(204,185,116)",
           "rgb(100,181,205)"
          ],
          "font": {
           "color": "rgb(36,36,36)"
          },
          "geo": {
           "bgcolor": "white",
           "lakecolor": "white",
           "landcolor": "rgb(234,234,242)",
           "showlakes": true,
           "showland": true,
           "subunitcolor": "white"
          },
          "hoverlabel": {
           "align": "left"
          },
          "hovermode": "closest",
          "paper_bgcolor": "white",
          "plot_bgcolor": "rgb(234,234,242)",
          "polar": {
           "angularaxis": {
            "gridcolor": "white",
            "linecolor": "white",
            "showgrid": true,
            "ticks": ""
           },
           "bgcolor": "rgb(234,234,242)",
           "radialaxis": {
            "gridcolor": "white",
            "linecolor": "white",
            "showgrid": true,
            "ticks": ""
           }
          },
          "scene": {
           "xaxis": {
            "backgroundcolor": "rgb(234,234,242)",
            "gridcolor": "white",
            "gridwidth": 2,
            "linecolor": "white",
            "showbackground": true,
            "showgrid": true,
            "ticks": "",
            "zerolinecolor": "white"
           },
           "yaxis": {
            "backgroundcolor": "rgb(234,234,242)",
            "gridcolor": "white",
            "gridwidth": 2,
            "linecolor": "white",
            "showbackground": true,
            "showgrid": true,
            "ticks": "",
            "zerolinecolor": "white"
           },
           "zaxis": {
            "backgroundcolor": "rgb(234,234,242)",
            "gridcolor": "white",
            "gridwidth": 2,
            "linecolor": "white",
            "showbackground": true,
            "showgrid": true,
            "ticks": "",
            "zerolinecolor": "white"
           }
          },
          "shapedefaults": {
           "fillcolor": "rgb(67,103,167)",
           "line": {
            "width": 0
           },
           "opacity": 0.5
          },
          "ternary": {
           "aaxis": {
            "gridcolor": "white",
            "linecolor": "white",
            "showgrid": true,
            "ticks": ""
           },
           "baxis": {
            "gridcolor": "white",
            "linecolor": "white",
            "showgrid": true,
            "ticks": ""
           },
           "bgcolor": "rgb(234,234,242)",
           "caxis": {
            "gridcolor": "white",
            "linecolor": "white",
            "showgrid": true,
            "ticks": ""
           }
          },
          "xaxis": {
           "automargin": true,
           "gridcolor": "white",
           "linecolor": "white",
           "showgrid": true,
           "ticks": "",
           "title": {
            "standoff": 15
           },
           "zerolinecolor": "white"
          },
          "yaxis": {
           "automargin": true,
           "gridcolor": "white",
           "linecolor": "white",
           "showgrid": true,
           "ticks": "",
           "title": {
            "standoff": 15
           },
           "zerolinecolor": "white"
          }
         }
        },
        "title": {
         "text": "Training and validation of Mid Complex Model"
        },
        "width": 1200,
        "xaxis": {
         "anchor": "y",
         "domain": [
          0,
          0.475
         ],
         "title": {
          "text": "epochs"
         }
        },
        "xaxis2": {
         "anchor": "y2",
         "domain": [
          0.525,
          1
         ],
         "title": {
          "text": "epochs"
         }
        },
        "yaxis": {
         "anchor": "x",
         "domain": [
          0,
          1
         ],
         "title": {
          "text": "acc"
         }
        },
        "yaxis2": {
         "anchor": "x2",
         "domain": [
          0,
          1
         ],
         "title": {
          "text": "acc"
         }
        }
       }
      }
     },
     "metadata": {},
     "output_type": "display_data"
    }
   ],
   "source": [
    "mid_model = MidModel(num_classes=5)\n",
    "optimizer = Adam(learning_rate=1e-3)\n",
    "mid_model.compile(optimizer=optimizer, loss=\"sparse_categorical_crossentropy\", metrics=[SparseCategoricalAccuracy('acc')])\n",
    "mid_model_history = train_model(\n",
    "    mid_model, \n",
    "    train_dataset, \n",
    "    val_dataset, \n",
    "    epochs=30, \n",
    "    batch_size=BATCH_SIZE, \n",
    "    verbose=1, \n",
    "    path=model_dir, \n",
    "    lr_patience=5, \n",
    "    val_patience=10\n",
    ").history\n",
    "print(\n",
    "    f\"Final loss: training -> {mid_model_history['loss'][-1]:.2f}, validation -> {mid_model_history['val_loss'][-1]:.2f}\"\n",
    ")\n",
    "print(\n",
    "    f\"Final accuracy: training -> {mid_model_history['acc'][-1]:.2f}, validation -> {mid_model_history['val_acc'][-1]:.2f}\"\n",
    ")\n",
    "plot_history(mid_model_history, ['loss', 'acc'], name='Mid Complex Model')"
   ]
  },
  {
   "cell_type": "code",
   "execution_count": 6,
   "metadata": {},
   "outputs": [
    {
     "name": "stdout",
     "output_type": "stream",
     "text": [
      "6/6 [==============================] - 1s 105ms/step - loss: 0.5078 - acc: 0.8737\n",
      "Model evaluated: Test Loss-> 0.507785975933075, Test Accuracy -> 87.37%\n",
      "Model: \"MidModel\"\n",
      "_________________________________________________________________\n",
      " Layer (type)                Output Shape              Param #   \n",
      "=================================================================\n",
      " rescaling_1 (Rescaling)     multiple                  0         \n",
      "                                                                 \n",
      " conv2d_2 (Conv2D)           multiple                  896       \n",
      "                                                                 \n",
      " conv2d_3 (Conv2D)           multiple                  9248      \n",
      "                                                                 \n",
      " max_pooling2d_2 (MaxPoolin  multiple                  0         \n",
      " g2D)                                                            \n",
      "                                                                 \n",
      " dropout (Dropout)           multiple                  0         \n",
      "                                                                 \n",
      " conv2d_4 (Conv2D)           multiple                  18496     \n",
      "                                                                 \n",
      " conv2d_5 (Conv2D)           multiple                  36928     \n",
      "                                                                 \n",
      " conv2d_6 (Conv2D)           multiple                  73856     \n",
      "                                                                 \n",
      " conv2d_7 (Conv2D)           multiple                  147584    \n",
      "                                                                 \n",
      " flatten_1 (Flatten)         multiple                  0         \n",
      "                                                                 \n",
      " dense_1 (Dense)             multiple                  1327232   \n",
      "                                                                 \n",
      " dense_2 (Dense)             multiple                  645       \n",
      "                                                                 \n",
      "=================================================================\n",
      "Total params: 1614885 (6.16 MB)\n",
      "Trainable params: 1614885 (6.16 MB)\n",
      "Non-trainable params: 0 (0.00 Byte)\n",
      "_________________________________________________________________\n"
     ]
    }
   ],
   "source": [
    "test_loss, test_accuracy = mid_model.evaluate(test_dataset, batch_size=BATCH_SIZE)\n",
    "print(\n",
    "    f\"Model evaluated: Test Loss-> {test_loss}, Test Accuracy -> {test_accuracy*100:.2f}%\"\n",
    ")\n",
    "mid_model.summary()"
   ]
  },
  {
   "cell_type": "markdown",
   "metadata": {
    "id": "slMCC1QMoEhX"
   },
   "source": [
    "### 2.3 Model with residual connections"
   ]
  },
  {
   "cell_type": "code",
   "execution_count": 7,
   "metadata": {},
   "outputs": [
    {
     "name": "stdout",
     "output_type": "stream",
     "text": [
      "Epoch 1/50\n"
     ]
    },
    {
     "name": "stdout",
     "output_type": "stream",
     "text": [
      "45/45 [==============================] - 18s 189ms/step - loss: 1.5763 - acc: 0.4199 - val_loss: 18.5657 - val_acc: 0.2088 - lr: 0.0010\n",
      "Epoch 2/50\n",
      "45/45 [==============================] - 6s 110ms/step - loss: 0.7890 - acc: 0.6873 - val_loss: 16.5690 - val_acc: 0.2088 - lr: 0.0010\n",
      "Epoch 3/50\n",
      "45/45 [==============================] - 6s 109ms/step - loss: 0.5756 - acc: 0.7731 - val_loss: 4.4556 - val_acc: 0.2578 - lr: 0.0010\n",
      "Epoch 4/50\n",
      "45/45 [==============================] - 5s 98ms/step - loss: 0.4693 - acc: 0.8169 - val_loss: 4.8484 - val_acc: 0.2499 - lr: 0.0010\n",
      "Epoch 5/50\n",
      "45/45 [==============================] - 6s 109ms/step - loss: 0.4091 - acc: 0.8419 - val_loss: 3.9115 - val_acc: 0.2895 - lr: 0.0010\n",
      "Epoch 6/50\n",
      "45/45 [==============================] - 6s 109ms/step - loss: 0.3503 - acc: 0.8647 - val_loss: 2.7380 - val_acc: 0.3196 - lr: 0.0010\n",
      "Epoch 7/50\n",
      "45/45 [==============================] - 6s 99ms/step - loss: 0.2635 - acc: 0.8996 - val_loss: 3.1095 - val_acc: 0.3696 - lr: 0.0010\n",
      "Epoch 8/50\n",
      "45/45 [==============================] - 6s 99ms/step - loss: 0.2313 - acc: 0.9106 - val_loss: 2.7386 - val_acc: 0.4161 - lr: 0.0010\n",
      "Epoch 9/50\n",
      "45/45 [==============================] - 6s 110ms/step - loss: 0.1785 - acc: 0.9327 - val_loss: 2.1118 - val_acc: 0.5101 - lr: 0.0010\n",
      "Epoch 10/50\n",
      "45/45 [==============================] - 6s 99ms/step - loss: 0.1263 - acc: 0.9529 - val_loss: 3.5112 - val_acc: 0.3983 - lr: 0.0010\n",
      "Epoch 11/50\n",
      "45/45 [==============================] - 6s 110ms/step - loss: 0.1279 - acc: 0.9540 - val_loss: 1.2683 - val_acc: 0.6967 - lr: 0.0010\n",
      "Epoch 12/50\n",
      "45/45 [==============================] - 6s 110ms/step - loss: 0.1058 - acc: 0.9630 - val_loss: 0.7679 - val_acc: 0.7744 - lr: 0.0010\n",
      "Epoch 13/50\n",
      "45/45 [==============================] - 6s 110ms/step - loss: 0.0677 - acc: 0.9759 - val_loss: 0.6303 - val_acc: 0.8258 - lr: 0.0010\n",
      "Epoch 14/50\n",
      "45/45 [==============================] - 6s 99ms/step - loss: 0.0533 - acc: 0.9805 - val_loss: 0.7474 - val_acc: 0.8214 - lr: 0.0010\n",
      "Epoch 15/50\n",
      "45/45 [==============================] - 6s 99ms/step - loss: 0.0383 - acc: 0.9866 - val_loss: 0.6587 - val_acc: 0.8392 - lr: 0.0010\n",
      "Epoch 16/50\n",
      "45/45 [==============================] - 6s 99ms/step - loss: 0.0278 - acc: 0.9907 - val_loss: 1.0808 - val_acc: 0.7877 - lr: 0.0010\n",
      "Epoch 17/50\n",
      "45/45 [==============================] - 5s 98ms/step - loss: 0.0317 - acc: 0.9900 - val_loss: 1.1235 - val_acc: 0.8026 - lr: 0.0010\n",
      "Epoch 18/50\n",
      "45/45 [==============================] - 5s 98ms/step - loss: 0.0415 - acc: 0.9858 - val_loss: 1.2730 - val_acc: 0.7551 - lr: 0.0010\n",
      "Epoch 19/50\n",
      "45/45 [==============================] - 6s 99ms/step - loss: 0.0140 - acc: 0.9961 - val_loss: 0.6807 - val_acc: 0.8585 - lr: 2.0000e-04\n",
      "Epoch 20/50\n",
      "45/45 [==============================] - 6s 110ms/step - loss: 0.0030 - acc: 0.9994 - val_loss: 0.6079 - val_acc: 0.8714 - lr: 2.0000e-04\n",
      "Epoch 21/50\n",
      "45/45 [==============================] - 6s 111ms/step - loss: 0.0013 - acc: 0.9997 - val_loss: 0.5769 - val_acc: 0.8733 - lr: 2.0000e-04\n",
      "Epoch 22/50\n",
      "45/45 [==============================] - 6s 110ms/step - loss: 0.0012 - acc: 0.9997 - val_loss: 0.5768 - val_acc: 0.8748 - lr: 2.0000e-04\n",
      "Epoch 23/50\n",
      "45/45 [==============================] - 6s 110ms/step - loss: 9.7946e-04 - acc: 0.9997 - val_loss: 0.5727 - val_acc: 0.8753 - lr: 2.0000e-04\n",
      "Epoch 24/50\n",
      "45/45 [==============================] - 6s 99ms/step - loss: 9.2014e-04 - acc: 0.9997 - val_loss: 0.5732 - val_acc: 0.8763 - lr: 2.0000e-04\n",
      "Epoch 25/50\n",
      "45/45 [==============================] - 6s 100ms/step - loss: 7.7784e-04 - acc: 0.9999 - val_loss: 0.5870 - val_acc: 0.8748 - lr: 2.0000e-04\n",
      "Epoch 26/50\n",
      "45/45 [==============================] - 6s 98ms/step - loss: 7.8809e-04 - acc: 0.9997 - val_loss: 0.5790 - val_acc: 0.8763 - lr: 2.0000e-04\n",
      "Epoch 27/50\n",
      "45/45 [==============================] - 6s 100ms/step - loss: 6.6596e-04 - acc: 0.9997 - val_loss: 0.5850 - val_acc: 0.8753 - lr: 2.0000e-04\n",
      "Epoch 28/50\n",
      "45/45 [==============================] - 6s 99ms/step - loss: 6.5698e-04 - acc: 0.9998 - val_loss: 0.5946 - val_acc: 0.8763 - lr: 2.0000e-04\n",
      "Epoch 29/50\n",
      "45/45 [==============================] - 6s 99ms/step - loss: 5.9885e-04 - acc: 0.9998 - val_loss: 0.5925 - val_acc: 0.8768 - lr: 4.0000e-05\n",
      "Epoch 30/50\n",
      "45/45 [==============================] - 5s 98ms/step - loss: 5.2376e-04 - acc: 0.9998 - val_loss: 0.5920 - val_acc: 0.8763 - lr: 4.0000e-05\n",
      "Epoch 31/50\n",
      "45/45 [==============================] - 5s 98ms/step - loss: 5.5866e-04 - acc: 0.9997 - val_loss: 0.5927 - val_acc: 0.8768 - lr: 4.0000e-05\n",
      "Epoch 32/50\n",
      "45/45 [==============================] - 6s 99ms/step - loss: 4.4725e-04 - acc: 0.9999 - val_loss: 0.5932 - val_acc: 0.8778 - lr: 4.0000e-05\n",
      "Epoch 33/50\n",
      "45/45 [==============================] - 6s 98ms/step - loss: 4.7628e-04 - acc: 0.9999 - val_loss: 0.5950 - val_acc: 0.8783 - lr: 4.0000e-05\n",
      "Final loss: training -> 0.00, validation -> 0.60\n",
      "Final accuracy: training -> 1.00, validation -> 0.88\n"
     ]
    },
    {
     "data": {
      "application/vnd.plotly.v1+json": {
       "config": {
        "plotlyServerURL": "https://plot.ly"
       },
       "data": [
        {
         "line": {
          "color": "#636EFA"
         },
         "marker": {
          "color": "#636EFA"
         },
         "mode": "lines+markers",
         "name": "train",
         "showlegend": true,
         "type": "scatter",
         "x": [
          1,
          2,
          3,
          4,
          5,
          6,
          7,
          8,
          9,
          10,
          11,
          12,
          13,
          14,
          15,
          16,
          17,
          18,
          19,
          20,
          21,
          22,
          23,
          24,
          25,
          26,
          27,
          28,
          29,
          30,
          31,
          32,
          33
         ],
         "xaxis": "x",
         "y": [
          1.5763239860534668,
          0.7890185117721558,
          0.5755839943885803,
          0.46933895349502563,
          0.40907910466194153,
          0.3502667248249054,
          0.26352328062057495,
          0.23128047585487366,
          0.17851118743419647,
          0.12629349529743195,
          0.1279153674840927,
          0.10582055896520615,
          0.06765123456716537,
          0.05329899117350578,
          0.038345616310834885,
          0.027759021148085594,
          0.031720250844955444,
          0.04149981960654259,
          0.013976791873574257,
          0.0030001713894307613,
          0.001272390829399228,
          0.0011897827498614788,
          0.000979458331130445,
          0.0009201353532262146,
          0.0007778435247018933,
          0.0007880854536779225,
          0.0006659595528617501,
          0.0006569793913513422,
          0.0005988524062559009,
          0.000523759750649333,
          0.0005586550105363131,
          0.0004472479340620339,
          0.00047627987805753946
         ],
         "yaxis": "y"
        },
        {
         "line": {
          "color": "#EF553B"
         },
         "marker": {
          "color": "#EF553B"
         },
         "mode": "lines+markers",
         "name": "val",
         "showlegend": true,
         "type": "scatter",
         "x": [
          1,
          2,
          3,
          4,
          5,
          6,
          7,
          8,
          9,
          10,
          11,
          12,
          13,
          14,
          15,
          16,
          17,
          18,
          19,
          20,
          21,
          22,
          23,
          24,
          25,
          26,
          27,
          28,
          29,
          30,
          31,
          32,
          33
         ],
         "xaxis": "x",
         "y": [
          18.565715789794922,
          16.568986892700195,
          4.45559024810791,
          4.848402500152588,
          3.9115121364593506,
          2.7380080223083496,
          3.1094818115234375,
          2.7385971546173096,
          2.1117775440216064,
          3.5111615657806396,
          1.2683221101760864,
          0.7678585052490234,
          0.6302688717842102,
          0.7473659515380859,
          0.658720850944519,
          1.080803394317627,
          1.1234633922576904,
          1.2729967832565308,
          0.6806605458259583,
          0.6079212427139282,
          0.5769107937812805,
          0.5768165588378906,
          0.5726866126060486,
          0.5732196569442749,
          0.5870187282562256,
          0.5790396332740784,
          0.5850456357002258,
          0.5946104526519775,
          0.59251469373703,
          0.5920169353485107,
          0.5926587581634521,
          0.5932080149650574,
          0.5950105786323547
         ],
         "yaxis": "y"
        },
        {
         "line": {
          "color": "#636EFA"
         },
         "marker": {
          "color": "#636EFA"
         },
         "mode": "lines+markers",
         "name": "train",
         "showlegend": false,
         "type": "scatter",
         "x": [
          1,
          2,
          3,
          4,
          5,
          6,
          7,
          8,
          9,
          10,
          11,
          12,
          13,
          14,
          15,
          16,
          17,
          18,
          19,
          20,
          21,
          22,
          23,
          24,
          25,
          26,
          27,
          28,
          29,
          30,
          31,
          32,
          33
         ],
         "xaxis": "x2",
         "y": [
          0.41988998651504517,
          0.6873308420181274,
          0.7730725407600403,
          0.8169038891792297,
          0.8418754935264587,
          0.8646642565727234,
          0.8995895981788635,
          0.9105911254882812,
          0.9326813817024231,
          0.9528507590293884,
          0.953985869884491,
          0.9629791378974915,
          0.9759014844894409,
          0.9805291295051575,
          0.9866410493850708,
          0.9906574487686157,
          0.9899589419364929,
          0.9857679009437561,
          0.996070921421051,
          0.9993888139724731,
          0.9997380375862122,
          0.9997380375862122,
          0.9996507167816162,
          0.9997380375862122,
          0.999912679195404,
          0.9997380375862122,
          0.9997380375862122,
          0.9998253583908081,
          0.9998253583908081,
          0.9998253583908081,
          0.9997380375862122,
          0.999912679195404,
          0.999912679195404
         ],
         "yaxis": "y2"
        },
        {
         "line": {
          "color": "#EF553B"
         },
         "marker": {
          "color": "#EF553B"
         },
         "mode": "lines+markers",
         "name": "val",
         "showlegend": false,
         "type": "scatter",
         "x": [
          1,
          2,
          3,
          4,
          5,
          6,
          7,
          8,
          9,
          10,
          11,
          12,
          13,
          14,
          15,
          16,
          17,
          18,
          19,
          20,
          21,
          22,
          23,
          24,
          25,
          26,
          27,
          28,
          29,
          30,
          31,
          32,
          33
         ],
         "xaxis": "x2",
         "y": [
          0.20880752801895142,
          0.20880752801895142,
          0.2577931582927704,
          0.24987630546092987,
          0.2894606590270996,
          0.3196437358856201,
          0.3696190118789673,
          0.4161306321620941,
          0.510143518447876,
          0.3983176648616791,
          0.6966848373413086,
          0.7743691205978394,
          0.8258287906646729,
          0.8213755488395691,
          0.8391885161399841,
          0.7877288460731506,
          0.8025729656219482,
          0.755071759223938,
          0.8584858775138855,
          0.8713508248329163,
          0.8733300566673279,
          0.8748144507408142,
          0.8753092288970947,
          0.8762988448143005,
          0.8748144507408142,
          0.8762988448143005,
          0.8753092288970947,
          0.8762988448143005,
          0.8767936825752258,
          0.8762988448143005,
          0.8767936825752258,
          0.8777832984924316,
          0.8782780766487122
         ],
         "yaxis": "y2"
        }
       ],
       "layout": {
        "annotations": [
         {
          "font": {
           "size": 16
          },
          "showarrow": false,
          "text": "loss",
          "x": 0.2375,
          "xanchor": "center",
          "xref": "paper",
          "y": 1,
          "yanchor": "bottom",
          "yref": "paper"
         },
         {
          "font": {
           "size": 16
          },
          "showarrow": false,
          "text": "acc",
          "x": 0.7625,
          "xanchor": "center",
          "xref": "paper",
          "y": 1,
          "yanchor": "bottom",
          "yref": "paper"
         }
        ],
        "height": 400,
        "margin": {
         "b": 10,
         "l": 10,
         "r": 10,
         "t": 50
        },
        "template": {
         "data": {
          "bar": [
           {
            "error_x": {
             "color": "rgb(36,36,36)"
            },
            "error_y": {
             "color": "rgb(36,36,36)"
            },
            "marker": {
             "line": {
              "color": "rgb(234,234,242)",
              "width": 0.5
             },
             "pattern": {
              "fillmode": "overlay",
              "size": 10,
              "solidity": 0.2
             }
            },
            "type": "bar"
           }
          ],
          "barpolar": [
           {
            "marker": {
             "line": {
              "color": "rgb(234,234,242)",
              "width": 0.5
             },
             "pattern": {
              "fillmode": "overlay",
              "size": 10,
              "solidity": 0.2
             }
            },
            "type": "barpolar"
           }
          ],
          "carpet": [
           {
            "aaxis": {
             "endlinecolor": "rgb(36,36,36)",
             "gridcolor": "white",
             "linecolor": "white",
             "minorgridcolor": "white",
             "startlinecolor": "rgb(36,36,36)"
            },
            "baxis": {
             "endlinecolor": "rgb(36,36,36)",
             "gridcolor": "white",
             "linecolor": "white",
             "minorgridcolor": "white",
             "startlinecolor": "rgb(36,36,36)"
            },
            "type": "carpet"
           }
          ],
          "choropleth": [
           {
            "colorbar": {
             "outlinewidth": 0,
             "tickcolor": "rgb(36,36,36)",
             "ticklen": 8,
             "ticks": "outside",
             "tickwidth": 2
            },
            "type": "choropleth"
           }
          ],
          "contour": [
           {
            "colorbar": {
             "outlinewidth": 0,
             "tickcolor": "rgb(36,36,36)",
             "ticklen": 8,
             "ticks": "outside",
             "tickwidth": 2
            },
            "colorscale": [
             [
              0,
              "rgb(2,4,25)"
             ],
             [
              0.06274509803921569,
              "rgb(24,15,41)"
             ],
             [
              0.12549019607843137,
              "rgb(47,23,57)"
             ],
             [
              0.18823529411764706,
              "rgb(71,28,72)"
             ],
             [
              0.25098039215686274,
              "rgb(97,30,82)"
             ],
             [
              0.3137254901960784,
              "rgb(123,30,89)"
             ],
             [
              0.3764705882352941,
              "rgb(150,27,91)"
             ],
             [
              0.4392156862745098,
              "rgb(177,22,88)"
             ],
             [
              0.5019607843137255,
              "rgb(203,26,79)"
             ],
             [
              0.5647058823529412,
              "rgb(223,47,67)"
             ],
             [
              0.6274509803921569,
              "rgb(236,76,61)"
             ],
             [
              0.6901960784313725,
              "rgb(242,107,73)"
             ],
             [
              0.7529411764705882,
              "rgb(244,135,95)"
             ],
             [
              0.8156862745098039,
              "rgb(245,162,122)"
             ],
             [
              0.8784313725490196,
              "rgb(246,188,153)"
             ],
             [
              0.9411764705882353,
              "rgb(247,212,187)"
             ],
             [
              1,
              "rgb(250,234,220)"
             ]
            ],
            "type": "contour"
           }
          ],
          "contourcarpet": [
           {
            "colorbar": {
             "outlinewidth": 0,
             "tickcolor": "rgb(36,36,36)",
             "ticklen": 8,
             "ticks": "outside",
             "tickwidth": 2
            },
            "type": "contourcarpet"
           }
          ],
          "heatmap": [
           {
            "colorbar": {
             "outlinewidth": 0,
             "tickcolor": "rgb(36,36,36)",
             "ticklen": 8,
             "ticks": "outside",
             "tickwidth": 2
            },
            "colorscale": [
             [
              0,
              "rgb(2,4,25)"
             ],
             [
              0.06274509803921569,
              "rgb(24,15,41)"
             ],
             [
              0.12549019607843137,
              "rgb(47,23,57)"
             ],
             [
              0.18823529411764706,
              "rgb(71,28,72)"
             ],
             [
              0.25098039215686274,
              "rgb(97,30,82)"
             ],
             [
              0.3137254901960784,
              "rgb(123,30,89)"
             ],
             [
              0.3764705882352941,
              "rgb(150,27,91)"
             ],
             [
              0.4392156862745098,
              "rgb(177,22,88)"
             ],
             [
              0.5019607843137255,
              "rgb(203,26,79)"
             ],
             [
              0.5647058823529412,
              "rgb(223,47,67)"
             ],
             [
              0.6274509803921569,
              "rgb(236,76,61)"
             ],
             [
              0.6901960784313725,
              "rgb(242,107,73)"
             ],
             [
              0.7529411764705882,
              "rgb(244,135,95)"
             ],
             [
              0.8156862745098039,
              "rgb(245,162,122)"
             ],
             [
              0.8784313725490196,
              "rgb(246,188,153)"
             ],
             [
              0.9411764705882353,
              "rgb(247,212,187)"
             ],
             [
              1,
              "rgb(250,234,220)"
             ]
            ],
            "type": "heatmap"
           }
          ],
          "heatmapgl": [
           {
            "colorbar": {
             "outlinewidth": 0,
             "tickcolor": "rgb(36,36,36)",
             "ticklen": 8,
             "ticks": "outside",
             "tickwidth": 2
            },
            "colorscale": [
             [
              0,
              "rgb(2,4,25)"
             ],
             [
              0.06274509803921569,
              "rgb(24,15,41)"
             ],
             [
              0.12549019607843137,
              "rgb(47,23,57)"
             ],
             [
              0.18823529411764706,
              "rgb(71,28,72)"
             ],
             [
              0.25098039215686274,
              "rgb(97,30,82)"
             ],
             [
              0.3137254901960784,
              "rgb(123,30,89)"
             ],
             [
              0.3764705882352941,
              "rgb(150,27,91)"
             ],
             [
              0.4392156862745098,
              "rgb(177,22,88)"
             ],
             [
              0.5019607843137255,
              "rgb(203,26,79)"
             ],
             [
              0.5647058823529412,
              "rgb(223,47,67)"
             ],
             [
              0.6274509803921569,
              "rgb(236,76,61)"
             ],
             [
              0.6901960784313725,
              "rgb(242,107,73)"
             ],
             [
              0.7529411764705882,
              "rgb(244,135,95)"
             ],
             [
              0.8156862745098039,
              "rgb(245,162,122)"
             ],
             [
              0.8784313725490196,
              "rgb(246,188,153)"
             ],
             [
              0.9411764705882353,
              "rgb(247,212,187)"
             ],
             [
              1,
              "rgb(250,234,220)"
             ]
            ],
            "type": "heatmapgl"
           }
          ],
          "histogram": [
           {
            "marker": {
             "pattern": {
              "fillmode": "overlay",
              "size": 10,
              "solidity": 0.2
             }
            },
            "type": "histogram"
           }
          ],
          "histogram2d": [
           {
            "colorbar": {
             "outlinewidth": 0,
             "tickcolor": "rgb(36,36,36)",
             "ticklen": 8,
             "ticks": "outside",
             "tickwidth": 2
            },
            "colorscale": [
             [
              0,
              "rgb(2,4,25)"
             ],
             [
              0.06274509803921569,
              "rgb(24,15,41)"
             ],
             [
              0.12549019607843137,
              "rgb(47,23,57)"
             ],
             [
              0.18823529411764706,
              "rgb(71,28,72)"
             ],
             [
              0.25098039215686274,
              "rgb(97,30,82)"
             ],
             [
              0.3137254901960784,
              "rgb(123,30,89)"
             ],
             [
              0.3764705882352941,
              "rgb(150,27,91)"
             ],
             [
              0.4392156862745098,
              "rgb(177,22,88)"
             ],
             [
              0.5019607843137255,
              "rgb(203,26,79)"
             ],
             [
              0.5647058823529412,
              "rgb(223,47,67)"
             ],
             [
              0.6274509803921569,
              "rgb(236,76,61)"
             ],
             [
              0.6901960784313725,
              "rgb(242,107,73)"
             ],
             [
              0.7529411764705882,
              "rgb(244,135,95)"
             ],
             [
              0.8156862745098039,
              "rgb(245,162,122)"
             ],
             [
              0.8784313725490196,
              "rgb(246,188,153)"
             ],
             [
              0.9411764705882353,
              "rgb(247,212,187)"
             ],
             [
              1,
              "rgb(250,234,220)"
             ]
            ],
            "type": "histogram2d"
           }
          ],
          "histogram2dcontour": [
           {
            "colorbar": {
             "outlinewidth": 0,
             "tickcolor": "rgb(36,36,36)",
             "ticklen": 8,
             "ticks": "outside",
             "tickwidth": 2
            },
            "colorscale": [
             [
              0,
              "rgb(2,4,25)"
             ],
             [
              0.06274509803921569,
              "rgb(24,15,41)"
             ],
             [
              0.12549019607843137,
              "rgb(47,23,57)"
             ],
             [
              0.18823529411764706,
              "rgb(71,28,72)"
             ],
             [
              0.25098039215686274,
              "rgb(97,30,82)"
             ],
             [
              0.3137254901960784,
              "rgb(123,30,89)"
             ],
             [
              0.3764705882352941,
              "rgb(150,27,91)"
             ],
             [
              0.4392156862745098,
              "rgb(177,22,88)"
             ],
             [
              0.5019607843137255,
              "rgb(203,26,79)"
             ],
             [
              0.5647058823529412,
              "rgb(223,47,67)"
             ],
             [
              0.6274509803921569,
              "rgb(236,76,61)"
             ],
             [
              0.6901960784313725,
              "rgb(242,107,73)"
             ],
             [
              0.7529411764705882,
              "rgb(244,135,95)"
             ],
             [
              0.8156862745098039,
              "rgb(245,162,122)"
             ],
             [
              0.8784313725490196,
              "rgb(246,188,153)"
             ],
             [
              0.9411764705882353,
              "rgb(247,212,187)"
             ],
             [
              1,
              "rgb(250,234,220)"
             ]
            ],
            "type": "histogram2dcontour"
           }
          ],
          "mesh3d": [
           {
            "colorbar": {
             "outlinewidth": 0,
             "tickcolor": "rgb(36,36,36)",
             "ticklen": 8,
             "ticks": "outside",
             "tickwidth": 2
            },
            "type": "mesh3d"
           }
          ],
          "parcoords": [
           {
            "line": {
             "colorbar": {
              "outlinewidth": 0,
              "tickcolor": "rgb(36,36,36)",
              "ticklen": 8,
              "ticks": "outside",
              "tickwidth": 2
             }
            },
            "type": "parcoords"
           }
          ],
          "pie": [
           {
            "automargin": true,
            "type": "pie"
           }
          ],
          "scatter": [
           {
            "fillpattern": {
             "fillmode": "overlay",
             "size": 10,
             "solidity": 0.2
            },
            "type": "scatter"
           }
          ],
          "scatter3d": [
           {
            "line": {
             "colorbar": {
              "outlinewidth": 0,
              "tickcolor": "rgb(36,36,36)",
              "ticklen": 8,
              "ticks": "outside",
              "tickwidth": 2
             }
            },
            "marker": {
             "colorbar": {
              "outlinewidth": 0,
              "tickcolor": "rgb(36,36,36)",
              "ticklen": 8,
              "ticks": "outside",
              "tickwidth": 2
             }
            },
            "type": "scatter3d"
           }
          ],
          "scattercarpet": [
           {
            "marker": {
             "colorbar": {
              "outlinewidth": 0,
              "tickcolor": "rgb(36,36,36)",
              "ticklen": 8,
              "ticks": "outside",
              "tickwidth": 2
             }
            },
            "type": "scattercarpet"
           }
          ],
          "scattergeo": [
           {
            "marker": {
             "colorbar": {
              "outlinewidth": 0,
              "tickcolor": "rgb(36,36,36)",
              "ticklen": 8,
              "ticks": "outside",
              "tickwidth": 2
             }
            },
            "type": "scattergeo"
           }
          ],
          "scattergl": [
           {
            "marker": {
             "colorbar": {
              "outlinewidth": 0,
              "tickcolor": "rgb(36,36,36)",
              "ticklen": 8,
              "ticks": "outside",
              "tickwidth": 2
             }
            },
            "type": "scattergl"
           }
          ],
          "scattermapbox": [
           {
            "marker": {
             "colorbar": {
              "outlinewidth": 0,
              "tickcolor": "rgb(36,36,36)",
              "ticklen": 8,
              "ticks": "outside",
              "tickwidth": 2
             }
            },
            "type": "scattermapbox"
           }
          ],
          "scatterpolar": [
           {
            "marker": {
             "colorbar": {
              "outlinewidth": 0,
              "tickcolor": "rgb(36,36,36)",
              "ticklen": 8,
              "ticks": "outside",
              "tickwidth": 2
             }
            },
            "type": "scatterpolar"
           }
          ],
          "scatterpolargl": [
           {
            "marker": {
             "colorbar": {
              "outlinewidth": 0,
              "tickcolor": "rgb(36,36,36)",
              "ticklen": 8,
              "ticks": "outside",
              "tickwidth": 2
             }
            },
            "type": "scatterpolargl"
           }
          ],
          "scatterternary": [
           {
            "marker": {
             "colorbar": {
              "outlinewidth": 0,
              "tickcolor": "rgb(36,36,36)",
              "ticklen": 8,
              "ticks": "outside",
              "tickwidth": 2
             }
            },
            "type": "scatterternary"
           }
          ],
          "surface": [
           {
            "colorbar": {
             "outlinewidth": 0,
             "tickcolor": "rgb(36,36,36)",
             "ticklen": 8,
             "ticks": "outside",
             "tickwidth": 2
            },
            "colorscale": [
             [
              0,
              "rgb(2,4,25)"
             ],
             [
              0.06274509803921569,
              "rgb(24,15,41)"
             ],
             [
              0.12549019607843137,
              "rgb(47,23,57)"
             ],
             [
              0.18823529411764706,
              "rgb(71,28,72)"
             ],
             [
              0.25098039215686274,
              "rgb(97,30,82)"
             ],
             [
              0.3137254901960784,
              "rgb(123,30,89)"
             ],
             [
              0.3764705882352941,
              "rgb(150,27,91)"
             ],
             [
              0.4392156862745098,
              "rgb(177,22,88)"
             ],
             [
              0.5019607843137255,
              "rgb(203,26,79)"
             ],
             [
              0.5647058823529412,
              "rgb(223,47,67)"
             ],
             [
              0.6274509803921569,
              "rgb(236,76,61)"
             ],
             [
              0.6901960784313725,
              "rgb(242,107,73)"
             ],
             [
              0.7529411764705882,
              "rgb(244,135,95)"
             ],
             [
              0.8156862745098039,
              "rgb(245,162,122)"
             ],
             [
              0.8784313725490196,
              "rgb(246,188,153)"
             ],
             [
              0.9411764705882353,
              "rgb(247,212,187)"
             ],
             [
              1,
              "rgb(250,234,220)"
             ]
            ],
            "type": "surface"
           }
          ],
          "table": [
           {
            "cells": {
             "fill": {
              "color": "rgb(231,231,240)"
             },
             "line": {
              "color": "white"
             }
            },
            "header": {
             "fill": {
              "color": "rgb(183,183,191)"
             },
             "line": {
              "color": "white"
             }
            },
            "type": "table"
           }
          ]
         },
         "layout": {
          "annotationdefaults": {
           "arrowcolor": "rgb(67,103,167)"
          },
          "autotypenumbers": "strict",
          "coloraxis": {
           "colorbar": {
            "outlinewidth": 0,
            "tickcolor": "rgb(36,36,36)",
            "ticklen": 8,
            "ticks": "outside",
            "tickwidth": 2
           }
          },
          "colorscale": {
           "sequential": [
            [
             0,
             "rgb(2,4,25)"
            ],
            [
             0.06274509803921569,
             "rgb(24,15,41)"
            ],
            [
             0.12549019607843137,
             "rgb(47,23,57)"
            ],
            [
             0.18823529411764706,
             "rgb(71,28,72)"
            ],
            [
             0.25098039215686274,
             "rgb(97,30,82)"
            ],
            [
             0.3137254901960784,
             "rgb(123,30,89)"
            ],
            [
             0.3764705882352941,
             "rgb(150,27,91)"
            ],
            [
             0.4392156862745098,
             "rgb(177,22,88)"
            ],
            [
             0.5019607843137255,
             "rgb(203,26,79)"
            ],
            [
             0.5647058823529412,
             "rgb(223,47,67)"
            ],
            [
             0.6274509803921569,
             "rgb(236,76,61)"
            ],
            [
             0.6901960784313725,
             "rgb(242,107,73)"
            ],
            [
             0.7529411764705882,
             "rgb(244,135,95)"
            ],
            [
             0.8156862745098039,
             "rgb(245,162,122)"
            ],
            [
             0.8784313725490196,
             "rgb(246,188,153)"
            ],
            [
             0.9411764705882353,
             "rgb(247,212,187)"
            ],
            [
             1,
             "rgb(250,234,220)"
            ]
           ],
           "sequentialminus": [
            [
             0,
             "rgb(2,4,25)"
            ],
            [
             0.06274509803921569,
             "rgb(24,15,41)"
            ],
            [
             0.12549019607843137,
             "rgb(47,23,57)"
            ],
            [
             0.18823529411764706,
             "rgb(71,28,72)"
            ],
            [
             0.25098039215686274,
             "rgb(97,30,82)"
            ],
            [
             0.3137254901960784,
             "rgb(123,30,89)"
            ],
            [
             0.3764705882352941,
             "rgb(150,27,91)"
            ],
            [
             0.4392156862745098,
             "rgb(177,22,88)"
            ],
            [
             0.5019607843137255,
             "rgb(203,26,79)"
            ],
            [
             0.5647058823529412,
             "rgb(223,47,67)"
            ],
            [
             0.6274509803921569,
             "rgb(236,76,61)"
            ],
            [
             0.6901960784313725,
             "rgb(242,107,73)"
            ],
            [
             0.7529411764705882,
             "rgb(244,135,95)"
            ],
            [
             0.8156862745098039,
             "rgb(245,162,122)"
            ],
            [
             0.8784313725490196,
             "rgb(246,188,153)"
            ],
            [
             0.9411764705882353,
             "rgb(247,212,187)"
            ],
            [
             1,
             "rgb(250,234,220)"
            ]
           ]
          },
          "colorway": [
           "rgb(76,114,176)",
           "rgb(221,132,82)",
           "rgb(85,168,104)",
           "rgb(196,78,82)",
           "rgb(129,114,179)",
           "rgb(147,120,96)",
           "rgb(218,139,195)",
           "rgb(140,140,140)",
           "rgb(204,185,116)",
           "rgb(100,181,205)"
          ],
          "font": {
           "color": "rgb(36,36,36)"
          },
          "geo": {
           "bgcolor": "white",
           "lakecolor": "white",
           "landcolor": "rgb(234,234,242)",
           "showlakes": true,
           "showland": true,
           "subunitcolor": "white"
          },
          "hoverlabel": {
           "align": "left"
          },
          "hovermode": "closest",
          "paper_bgcolor": "white",
          "plot_bgcolor": "rgb(234,234,242)",
          "polar": {
           "angularaxis": {
            "gridcolor": "white",
            "linecolor": "white",
            "showgrid": true,
            "ticks": ""
           },
           "bgcolor": "rgb(234,234,242)",
           "radialaxis": {
            "gridcolor": "white",
            "linecolor": "white",
            "showgrid": true,
            "ticks": ""
           }
          },
          "scene": {
           "xaxis": {
            "backgroundcolor": "rgb(234,234,242)",
            "gridcolor": "white",
            "gridwidth": 2,
            "linecolor": "white",
            "showbackground": true,
            "showgrid": true,
            "ticks": "",
            "zerolinecolor": "white"
           },
           "yaxis": {
            "backgroundcolor": "rgb(234,234,242)",
            "gridcolor": "white",
            "gridwidth": 2,
            "linecolor": "white",
            "showbackground": true,
            "showgrid": true,
            "ticks": "",
            "zerolinecolor": "white"
           },
           "zaxis": {
            "backgroundcolor": "rgb(234,234,242)",
            "gridcolor": "white",
            "gridwidth": 2,
            "linecolor": "white",
            "showbackground": true,
            "showgrid": true,
            "ticks": "",
            "zerolinecolor": "white"
           }
          },
          "shapedefaults": {
           "fillcolor": "rgb(67,103,167)",
           "line": {
            "width": 0
           },
           "opacity": 0.5
          },
          "ternary": {
           "aaxis": {
            "gridcolor": "white",
            "linecolor": "white",
            "showgrid": true,
            "ticks": ""
           },
           "baxis": {
            "gridcolor": "white",
            "linecolor": "white",
            "showgrid": true,
            "ticks": ""
           },
           "bgcolor": "rgb(234,234,242)",
           "caxis": {
            "gridcolor": "white",
            "linecolor": "white",
            "showgrid": true,
            "ticks": ""
           }
          },
          "xaxis": {
           "automargin": true,
           "gridcolor": "white",
           "linecolor": "white",
           "showgrid": true,
           "ticks": "",
           "title": {
            "standoff": 15
           },
           "zerolinecolor": "white"
          },
          "yaxis": {
           "automargin": true,
           "gridcolor": "white",
           "linecolor": "white",
           "showgrid": true,
           "ticks": "",
           "title": {
            "standoff": 15
           },
           "zerolinecolor": "white"
          }
         }
        },
        "title": {
         "text": "Training and validation of Custom ResNet"
        },
        "width": 1200,
        "xaxis": {
         "anchor": "y",
         "domain": [
          0,
          0.475
         ],
         "title": {
          "text": "epochs"
         }
        },
        "xaxis2": {
         "anchor": "y2",
         "domain": [
          0.525,
          1
         ],
         "title": {
          "text": "epochs"
         }
        },
        "yaxis": {
         "anchor": "x",
         "domain": [
          0,
          1
         ],
         "title": {
          "text": "acc"
         }
        },
        "yaxis2": {
         "anchor": "x2",
         "domain": [
          0,
          1
         ],
         "title": {
          "text": "acc"
         }
        }
       }
      }
     },
     "metadata": {},
     "output_type": "display_data"
    }
   ],
   "source": [
    "resnet = CustomResNet(num_classes=5)\n",
    "optimizer = Adam(learning_rate=1e-3)\n",
    "resnet.compile(optimizer=optimizer, loss=\"sparse_categorical_crossentropy\", metrics=[SparseCategoricalAccuracy('acc')])\n",
    "resnet_history = train_model(\n",
    "    resnet,\n",
    "    train_dataset,\n",
    "    val_dataset,\n",
    "    path=model_dir,\n",
    "    epochs=50,\n",
    "    verbose=1,\n",
    "    lr_patience=5,\n",
    "    val_patience=10,\n",
    ").history\n",
    "print(\n",
    "    f\"Final loss: training -> {resnet_history['loss'][-1]:.2f}, validation -> {resnet_history['val_loss'][-1]:.2f}\"\n",
    ")\n",
    "print(\n",
    "    f\"Final accuracy: training -> {resnet_history['acc'][-1]:.2f}, validation -> {resnet_history['val_acc'][-1]:.2f}\"\n",
    ")\n",
    "plot_history(resnet_history, ['loss', 'acc'], name='Custom ResNet')"
   ]
  },
  {
   "cell_type": "code",
   "execution_count": 8,
   "metadata": {},
   "outputs": [
    {
     "name": "stdout",
     "output_type": "stream",
     "text": [
      "6/6 [==============================] - 1s 159ms/step - loss: 0.5323 - acc: 0.8864\n",
      "Model evaluated: Test Loss-> 0.5322756767272949, Test Accuracy -> 88.64%\n",
      "Model: \"ResNet\"\n",
      "_________________________________________________________________\n",
      " Layer (type)                Output Shape              Param #   \n",
      "=================================================================\n",
      " rescaling_2 (Rescaling)     multiple                  0         \n",
      "                                                                 \n",
      " zero_padding2d (ZeroPaddin  multiple                  0         \n",
      " g2D)                                                            \n",
      "                                                                 \n",
      " conv2d_8 (Conv2D)           multiple                  9472      \n",
      "                                                                 \n",
      " batch_normalization (Batch  multiple                  256       \n",
      " Normalization)                                                  \n",
      "                                                                 \n",
      " max_pooling2d_3 (MaxPoolin  multiple                  0         \n",
      " g2D)                                                            \n",
      "                                                                 \n",
      " identity_block (IdentityBl  multiple                  74368     \n",
      " ock)                                                            \n",
      "                                                                 \n",
      " identity_block_1 (Identity  multiple                  74368     \n",
      " Block)                                                          \n",
      "                                                                 \n",
      " convolution_block (Convolu  multiple                  230784    \n",
      " tionBlock)                                                      \n",
      "                                                                 \n",
      " identity_block_2 (Identity  multiple                  296192    \n",
      " Block)                                                          \n",
      "                                                                 \n",
      " convolution_block_1 (Convo  multiple                  920320    \n",
      " lutionBlock)                                                    \n",
      "                                                                 \n",
      " identity_block_3 (Identity  multiple                  1182208   \n",
      " Block)                                                          \n",
      "                                                                 \n",
      " convolution_block_2 (Convo  multiple                  3675648   \n",
      " lutionBlock)                                                    \n",
      "                                                                 \n",
      " identity_block_4 (Identity  multiple                  4723712   \n",
      " Block)                                                          \n",
      "                                                                 \n",
      " dense_3 (Dense)             multiple                  513000    \n",
      "                                                                 \n",
      " dense_4 (Dense)             multiple                  5005      \n",
      "                                                                 \n",
      "=================================================================\n",
      "Total params: 11705333 (44.65 MB)\n",
      "Trainable params: 11697525 (44.62 MB)\n",
      "Non-trainable params: 7808 (30.50 KB)\n",
      "_________________________________________________________________\n"
     ]
    }
   ],
   "source": [
    "test_loss, test_accuracy = resnet.evaluate(test_dataset, batch_size=BATCH_SIZE)\n",
    "print(\n",
    "    f\"Model evaluated: Test Loss-> {test_loss}, Test Accuracy -> {test_accuracy*100:.2f}%\"\n",
    ")\n",
    "model_accuracies.append((\"ResNet\", test_accuracy))\n",
    "resnet.summary()"
   ]
  },
  {
   "cell_type": "markdown",
   "metadata": {},
   "source": [
    "### 2.4. Inception block"
   ]
  },
  {
   "cell_type": "code",
   "execution_count": 9,
   "metadata": {},
   "outputs": [
    {
     "name": "stdout",
     "output_type": "stream",
     "text": [
      "Epoch 1/50\n"
     ]
    },
    {
     "name": "stdout",
     "output_type": "stream",
     "text": [
      "45/45 [==============================] - 124s 1s/step - loss: 1.1250 - acc: 0.6259 - val_loss: 1.6565 - val_acc: 0.3508 - lr: 1.0000e-04\n",
      "Epoch 2/50\n",
      "45/45 [==============================] - 20s 409ms/step - loss: 0.5521 - acc: 0.7983 - val_loss: 2.5751 - val_acc: 0.2187 - lr: 1.0000e-04\n",
      "Epoch 3/50\n",
      "45/45 [==============================] - 20s 411ms/step - loss: 0.3685 - acc: 0.8621 - val_loss: 2.2349 - val_acc: 0.2222 - lr: 1.0000e-04\n",
      "Epoch 4/50\n",
      "45/45 [==============================] - 20s 412ms/step - loss: 0.2660 - acc: 0.8994 - val_loss: 1.9170 - val_acc: 0.2632 - lr: 1.0000e-04\n",
      "Epoch 5/50\n",
      "45/45 [==============================] - 20s 412ms/step - loss: 0.1759 - acc: 0.9412 - val_loss: 1.9310 - val_acc: 0.3469 - lr: 1.0000e-04\n",
      "Epoch 6/50\n",
      "45/45 [==============================] - 20s 424ms/step - loss: 0.1125 - acc: 0.9657 - val_loss: 1.3809 - val_acc: 0.5082 - lr: 1.0000e-04\n",
      "Epoch 7/50\n",
      "45/45 [==============================] - 20s 412ms/step - loss: 0.0651 - acc: 0.9829 - val_loss: 1.4602 - val_acc: 0.5022 - lr: 1.0000e-04\n",
      "Epoch 8/50\n",
      "45/45 [==============================] - 20s 424ms/step - loss: 0.0439 - acc: 0.9913 - val_loss: 0.9479 - val_acc: 0.6353 - lr: 1.0000e-04\n",
      "Epoch 9/50\n",
      "45/45 [==============================] - 20s 423ms/step - loss: 0.0219 - acc: 0.9978 - val_loss: 0.8526 - val_acc: 0.6992 - lr: 1.0000e-04\n",
      "Epoch 10/50\n",
      "45/45 [==============================] - 20s 424ms/step - loss: 0.0145 - acc: 0.9994 - val_loss: 0.7159 - val_acc: 0.7561 - lr: 1.0000e-04\n",
      "Epoch 11/50\n",
      "45/45 [==============================] - 20s 424ms/step - loss: 0.0091 - acc: 0.9997 - val_loss: 0.6577 - val_acc: 0.7818 - lr: 1.0000e-04\n",
      "Epoch 12/50\n",
      "45/45 [==============================] - 20s 424ms/step - loss: 0.0077 - acc: 0.9997 - val_loss: 0.5957 - val_acc: 0.8095 - lr: 1.0000e-04\n",
      "Epoch 13/50\n",
      "45/45 [==============================] - 20s 424ms/step - loss: 0.0073 - acc: 0.9997 - val_loss: 0.5894 - val_acc: 0.8248 - lr: 1.0000e-04\n",
      "Epoch 14/50\n",
      "45/45 [==============================] - 20s 411ms/step - loss: 0.0064 - acc: 0.9997 - val_loss: 0.5993 - val_acc: 0.8308 - lr: 1.0000e-04\n",
      "Epoch 15/50\n",
      "45/45 [==============================] - 20s 411ms/step - loss: 0.0045 - acc: 0.9997 - val_loss: 0.5956 - val_acc: 0.8377 - lr: 1.0000e-04\n",
      "Epoch 16/50\n",
      "45/45 [==============================] - 20s 412ms/step - loss: 0.0064 - acc: 0.9997 - val_loss: 0.5994 - val_acc: 0.8387 - lr: 1.0000e-04\n",
      "Epoch 17/50\n",
      "45/45 [==============================] - 20s 412ms/step - loss: 0.0053 - acc: 0.9997 - val_loss: 0.6072 - val_acc: 0.8407 - lr: 1.0000e-04\n",
      "Epoch 18/50\n",
      "45/45 [==============================] - 20s 412ms/step - loss: 0.0051 - acc: 0.9997 - val_loss: 0.6167 - val_acc: 0.8402 - lr: 1.0000e-04\n",
      "Epoch 19/50\n",
      "45/45 [==============================] - 20s 411ms/step - loss: 0.0030 - acc: 0.9998 - val_loss: 0.6278 - val_acc: 0.8402 - lr: 2.0000e-05\n",
      "Epoch 20/50\n",
      "45/45 [==============================] - 20s 411ms/step - loss: 0.0022 - acc: 0.9997 - val_loss: 0.6327 - val_acc: 0.8377 - lr: 2.0000e-05\n",
      "Epoch 21/50\n",
      "45/45 [==============================] - 20s 412ms/step - loss: 0.0023 - acc: 0.9997 - val_loss: 0.6389 - val_acc: 0.8387 - lr: 2.0000e-05\n",
      "Epoch 22/50\n",
      "45/45 [==============================] - 20s 411ms/step - loss: 0.0023 - acc: 0.9997 - val_loss: 0.6419 - val_acc: 0.8397 - lr: 2.0000e-05\n",
      "Epoch 23/50\n",
      "45/45 [==============================] - 20s 410ms/step - loss: 0.0024 - acc: 0.9997 - val_loss: 0.6457 - val_acc: 0.8387 - lr: 2.0000e-05\n",
      "Final loss: training -> 0.00, validation -> 0.65\n",
      "Final accuracy: training -> 1.00, validation -> 0.84\n"
     ]
    },
    {
     "data": {
      "application/vnd.plotly.v1+json": {
       "config": {
        "plotlyServerURL": "https://plot.ly"
       },
       "data": [
        {
         "line": {
          "color": "#636EFA"
         },
         "marker": {
          "color": "#636EFA"
         },
         "mode": "lines+markers",
         "name": "train",
         "showlegend": true,
         "type": "scatter",
         "x": [
          1,
          2,
          3,
          4,
          5,
          6,
          7,
          8,
          9,
          10,
          11,
          12,
          13,
          14,
          15,
          16,
          17,
          18,
          19,
          20,
          21,
          22,
          23
         ],
         "xaxis": "x",
         "y": [
          1.1249666213989258,
          0.5521031618118286,
          0.36846640706062317,
          0.26604336500167847,
          0.17587587237358093,
          0.11245524883270264,
          0.06508766859769821,
          0.0439193956553936,
          0.021929383277893066,
          0.014480723068118095,
          0.00907464511692524,
          0.007720383815467358,
          0.007326016668230295,
          0.00644429586827755,
          0.0044906302355229855,
          0.006374135613441467,
          0.00525274220854044,
          0.005069384817034006,
          0.003044193610548973,
          0.002229764126241207,
          0.0022506951354444027,
          0.002265636110678315,
          0.002384309424087405
         ],
         "yaxis": "y"
        },
        {
         "line": {
          "color": "#EF553B"
         },
         "marker": {
          "color": "#EF553B"
         },
         "mode": "lines+markers",
         "name": "val",
         "showlegend": true,
         "type": "scatter",
         "x": [
          1,
          2,
          3,
          4,
          5,
          6,
          7,
          8,
          9,
          10,
          11,
          12,
          13,
          14,
          15,
          16,
          17,
          18,
          19,
          20,
          21,
          22,
          23
         ],
         "xaxis": "x",
         "y": [
          1.6565172672271729,
          2.5750808715820312,
          2.2349414825439453,
          1.917016625404358,
          1.930952548980713,
          1.380901575088501,
          1.4602394104003906,
          0.9479068517684937,
          0.8525596261024475,
          0.7159050107002258,
          0.6577375531196594,
          0.5957378149032593,
          0.5893590450286865,
          0.599328339099884,
          0.5955570340156555,
          0.5994298458099365,
          0.6071805953979492,
          0.6166574954986572,
          0.627826988697052,
          0.6326955556869507,
          0.6388812065124512,
          0.6419481635093689,
          0.6457298994064331
         ],
         "yaxis": "y"
        },
        {
         "line": {
          "color": "#636EFA"
         },
         "marker": {
          "color": "#636EFA"
         },
         "mode": "lines+markers",
         "name": "train",
         "showlegend": false,
         "type": "scatter",
         "x": [
          1,
          2,
          3,
          4,
          5,
          6,
          7,
          8,
          9,
          10,
          11,
          12,
          13,
          14,
          15,
          16,
          17,
          18,
          19,
          20,
          21,
          22,
          23
         ],
         "xaxis": "x2",
         "y": [
          0.6258622407913208,
          0.7983061075210571,
          0.86213219165802,
          0.8994150161743164,
          0.9411507844924927,
          0.9656858444213867,
          0.982886552810669,
          0.9912686347961426,
          0.9978171586990356,
          0.9993888139724731,
          0.9996507167816162,
          0.9996507167816162,
          0.9997380375862122,
          0.9996507167816162,
          0.9997380375862122,
          0.9996507167816162,
          0.9996507167816162,
          0.9996507167816162,
          0.9998253583908081,
          0.9997380375862122,
          0.9996507167816162,
          0.9997380375862122,
          0.9996507167816162
         ],
         "yaxis": "y2"
        },
        {
         "line": {
          "color": "#EF553B"
         },
         "marker": {
          "color": "#EF553B"
         },
         "mode": "lines+markers",
         "name": "val",
         "showlegend": false,
         "type": "scatter",
         "x": [
          1,
          2,
          3,
          4,
          5,
          6,
          7,
          8,
          9,
          10,
          11,
          12,
          13,
          14,
          15,
          16,
          17,
          18,
          19,
          20,
          21,
          22,
          23
         ],
         "xaxis": "x2",
         "y": [
          0.35081642866134644,
          0.21870361268520355,
          0.2221672385931015,
          0.26323601603507996,
          0.3468579947948456,
          0.5081642866134644,
          0.5022265911102295,
          0.6353290677070618,
          0.6991588473320007,
          0.7560613751411438,
          0.7817912101745605,
          0.8095002770423889,
          0.824839174747467,
          0.8307768702507019,
          0.8377041220664978,
          0.8386937379837036,
          0.8406729102134705,
          0.8401781320571899,
          0.8401781320571899,
          0.8377041220664978,
          0.8386937379837036,
          0.8396833539009094,
          0.8386937379837036
         ],
         "yaxis": "y2"
        }
       ],
       "layout": {
        "annotations": [
         {
          "font": {
           "size": 16
          },
          "showarrow": false,
          "text": "loss",
          "x": 0.2375,
          "xanchor": "center",
          "xref": "paper",
          "y": 1,
          "yanchor": "bottom",
          "yref": "paper"
         },
         {
          "font": {
           "size": 16
          },
          "showarrow": false,
          "text": "acc",
          "x": 0.7625,
          "xanchor": "center",
          "xref": "paper",
          "y": 1,
          "yanchor": "bottom",
          "yref": "paper"
         }
        ],
        "height": 400,
        "margin": {
         "b": 10,
         "l": 10,
         "r": 10,
         "t": 50
        },
        "template": {
         "data": {
          "bar": [
           {
            "error_x": {
             "color": "rgb(36,36,36)"
            },
            "error_y": {
             "color": "rgb(36,36,36)"
            },
            "marker": {
             "line": {
              "color": "rgb(234,234,242)",
              "width": 0.5
             },
             "pattern": {
              "fillmode": "overlay",
              "size": 10,
              "solidity": 0.2
             }
            },
            "type": "bar"
           }
          ],
          "barpolar": [
           {
            "marker": {
             "line": {
              "color": "rgb(234,234,242)",
              "width": 0.5
             },
             "pattern": {
              "fillmode": "overlay",
              "size": 10,
              "solidity": 0.2
             }
            },
            "type": "barpolar"
           }
          ],
          "carpet": [
           {
            "aaxis": {
             "endlinecolor": "rgb(36,36,36)",
             "gridcolor": "white",
             "linecolor": "white",
             "minorgridcolor": "white",
             "startlinecolor": "rgb(36,36,36)"
            },
            "baxis": {
             "endlinecolor": "rgb(36,36,36)",
             "gridcolor": "white",
             "linecolor": "white",
             "minorgridcolor": "white",
             "startlinecolor": "rgb(36,36,36)"
            },
            "type": "carpet"
           }
          ],
          "choropleth": [
           {
            "colorbar": {
             "outlinewidth": 0,
             "tickcolor": "rgb(36,36,36)",
             "ticklen": 8,
             "ticks": "outside",
             "tickwidth": 2
            },
            "type": "choropleth"
           }
          ],
          "contour": [
           {
            "colorbar": {
             "outlinewidth": 0,
             "tickcolor": "rgb(36,36,36)",
             "ticklen": 8,
             "ticks": "outside",
             "tickwidth": 2
            },
            "colorscale": [
             [
              0,
              "rgb(2,4,25)"
             ],
             [
              0.06274509803921569,
              "rgb(24,15,41)"
             ],
             [
              0.12549019607843137,
              "rgb(47,23,57)"
             ],
             [
              0.18823529411764706,
              "rgb(71,28,72)"
             ],
             [
              0.25098039215686274,
              "rgb(97,30,82)"
             ],
             [
              0.3137254901960784,
              "rgb(123,30,89)"
             ],
             [
              0.3764705882352941,
              "rgb(150,27,91)"
             ],
             [
              0.4392156862745098,
              "rgb(177,22,88)"
             ],
             [
              0.5019607843137255,
              "rgb(203,26,79)"
             ],
             [
              0.5647058823529412,
              "rgb(223,47,67)"
             ],
             [
              0.6274509803921569,
              "rgb(236,76,61)"
             ],
             [
              0.6901960784313725,
              "rgb(242,107,73)"
             ],
             [
              0.7529411764705882,
              "rgb(244,135,95)"
             ],
             [
              0.8156862745098039,
              "rgb(245,162,122)"
             ],
             [
              0.8784313725490196,
              "rgb(246,188,153)"
             ],
             [
              0.9411764705882353,
              "rgb(247,212,187)"
             ],
             [
              1,
              "rgb(250,234,220)"
             ]
            ],
            "type": "contour"
           }
          ],
          "contourcarpet": [
           {
            "colorbar": {
             "outlinewidth": 0,
             "tickcolor": "rgb(36,36,36)",
             "ticklen": 8,
             "ticks": "outside",
             "tickwidth": 2
            },
            "type": "contourcarpet"
           }
          ],
          "heatmap": [
           {
            "colorbar": {
             "outlinewidth": 0,
             "tickcolor": "rgb(36,36,36)",
             "ticklen": 8,
             "ticks": "outside",
             "tickwidth": 2
            },
            "colorscale": [
             [
              0,
              "rgb(2,4,25)"
             ],
             [
              0.06274509803921569,
              "rgb(24,15,41)"
             ],
             [
              0.12549019607843137,
              "rgb(47,23,57)"
             ],
             [
              0.18823529411764706,
              "rgb(71,28,72)"
             ],
             [
              0.25098039215686274,
              "rgb(97,30,82)"
             ],
             [
              0.3137254901960784,
              "rgb(123,30,89)"
             ],
             [
              0.3764705882352941,
              "rgb(150,27,91)"
             ],
             [
              0.4392156862745098,
              "rgb(177,22,88)"
             ],
             [
              0.5019607843137255,
              "rgb(203,26,79)"
             ],
             [
              0.5647058823529412,
              "rgb(223,47,67)"
             ],
             [
              0.6274509803921569,
              "rgb(236,76,61)"
             ],
             [
              0.6901960784313725,
              "rgb(242,107,73)"
             ],
             [
              0.7529411764705882,
              "rgb(244,135,95)"
             ],
             [
              0.8156862745098039,
              "rgb(245,162,122)"
             ],
             [
              0.8784313725490196,
              "rgb(246,188,153)"
             ],
             [
              0.9411764705882353,
              "rgb(247,212,187)"
             ],
             [
              1,
              "rgb(250,234,220)"
             ]
            ],
            "type": "heatmap"
           }
          ],
          "heatmapgl": [
           {
            "colorbar": {
             "outlinewidth": 0,
             "tickcolor": "rgb(36,36,36)",
             "ticklen": 8,
             "ticks": "outside",
             "tickwidth": 2
            },
            "colorscale": [
             [
              0,
              "rgb(2,4,25)"
             ],
             [
              0.06274509803921569,
              "rgb(24,15,41)"
             ],
             [
              0.12549019607843137,
              "rgb(47,23,57)"
             ],
             [
              0.18823529411764706,
              "rgb(71,28,72)"
             ],
             [
              0.25098039215686274,
              "rgb(97,30,82)"
             ],
             [
              0.3137254901960784,
              "rgb(123,30,89)"
             ],
             [
              0.3764705882352941,
              "rgb(150,27,91)"
             ],
             [
              0.4392156862745098,
              "rgb(177,22,88)"
             ],
             [
              0.5019607843137255,
              "rgb(203,26,79)"
             ],
             [
              0.5647058823529412,
              "rgb(223,47,67)"
             ],
             [
              0.6274509803921569,
              "rgb(236,76,61)"
             ],
             [
              0.6901960784313725,
              "rgb(242,107,73)"
             ],
             [
              0.7529411764705882,
              "rgb(244,135,95)"
             ],
             [
              0.8156862745098039,
              "rgb(245,162,122)"
             ],
             [
              0.8784313725490196,
              "rgb(246,188,153)"
             ],
             [
              0.9411764705882353,
              "rgb(247,212,187)"
             ],
             [
              1,
              "rgb(250,234,220)"
             ]
            ],
            "type": "heatmapgl"
           }
          ],
          "histogram": [
           {
            "marker": {
             "pattern": {
              "fillmode": "overlay",
              "size": 10,
              "solidity": 0.2
             }
            },
            "type": "histogram"
           }
          ],
          "histogram2d": [
           {
            "colorbar": {
             "outlinewidth": 0,
             "tickcolor": "rgb(36,36,36)",
             "ticklen": 8,
             "ticks": "outside",
             "tickwidth": 2
            },
            "colorscale": [
             [
              0,
              "rgb(2,4,25)"
             ],
             [
              0.06274509803921569,
              "rgb(24,15,41)"
             ],
             [
              0.12549019607843137,
              "rgb(47,23,57)"
             ],
             [
              0.18823529411764706,
              "rgb(71,28,72)"
             ],
             [
              0.25098039215686274,
              "rgb(97,30,82)"
             ],
             [
              0.3137254901960784,
              "rgb(123,30,89)"
             ],
             [
              0.3764705882352941,
              "rgb(150,27,91)"
             ],
             [
              0.4392156862745098,
              "rgb(177,22,88)"
             ],
             [
              0.5019607843137255,
              "rgb(203,26,79)"
             ],
             [
              0.5647058823529412,
              "rgb(223,47,67)"
             ],
             [
              0.6274509803921569,
              "rgb(236,76,61)"
             ],
             [
              0.6901960784313725,
              "rgb(242,107,73)"
             ],
             [
              0.7529411764705882,
              "rgb(244,135,95)"
             ],
             [
              0.8156862745098039,
              "rgb(245,162,122)"
             ],
             [
              0.8784313725490196,
              "rgb(246,188,153)"
             ],
             [
              0.9411764705882353,
              "rgb(247,212,187)"
             ],
             [
              1,
              "rgb(250,234,220)"
             ]
            ],
            "type": "histogram2d"
           }
          ],
          "histogram2dcontour": [
           {
            "colorbar": {
             "outlinewidth": 0,
             "tickcolor": "rgb(36,36,36)",
             "ticklen": 8,
             "ticks": "outside",
             "tickwidth": 2
            },
            "colorscale": [
             [
              0,
              "rgb(2,4,25)"
             ],
             [
              0.06274509803921569,
              "rgb(24,15,41)"
             ],
             [
              0.12549019607843137,
              "rgb(47,23,57)"
             ],
             [
              0.18823529411764706,
              "rgb(71,28,72)"
             ],
             [
              0.25098039215686274,
              "rgb(97,30,82)"
             ],
             [
              0.3137254901960784,
              "rgb(123,30,89)"
             ],
             [
              0.3764705882352941,
              "rgb(150,27,91)"
             ],
             [
              0.4392156862745098,
              "rgb(177,22,88)"
             ],
             [
              0.5019607843137255,
              "rgb(203,26,79)"
             ],
             [
              0.5647058823529412,
              "rgb(223,47,67)"
             ],
             [
              0.6274509803921569,
              "rgb(236,76,61)"
             ],
             [
              0.6901960784313725,
              "rgb(242,107,73)"
             ],
             [
              0.7529411764705882,
              "rgb(244,135,95)"
             ],
             [
              0.8156862745098039,
              "rgb(245,162,122)"
             ],
             [
              0.8784313725490196,
              "rgb(246,188,153)"
             ],
             [
              0.9411764705882353,
              "rgb(247,212,187)"
             ],
             [
              1,
              "rgb(250,234,220)"
             ]
            ],
            "type": "histogram2dcontour"
           }
          ],
          "mesh3d": [
           {
            "colorbar": {
             "outlinewidth": 0,
             "tickcolor": "rgb(36,36,36)",
             "ticklen": 8,
             "ticks": "outside",
             "tickwidth": 2
            },
            "type": "mesh3d"
           }
          ],
          "parcoords": [
           {
            "line": {
             "colorbar": {
              "outlinewidth": 0,
              "tickcolor": "rgb(36,36,36)",
              "ticklen": 8,
              "ticks": "outside",
              "tickwidth": 2
             }
            },
            "type": "parcoords"
           }
          ],
          "pie": [
           {
            "automargin": true,
            "type": "pie"
           }
          ],
          "scatter": [
           {
            "fillpattern": {
             "fillmode": "overlay",
             "size": 10,
             "solidity": 0.2
            },
            "type": "scatter"
           }
          ],
          "scatter3d": [
           {
            "line": {
             "colorbar": {
              "outlinewidth": 0,
              "tickcolor": "rgb(36,36,36)",
              "ticklen": 8,
              "ticks": "outside",
              "tickwidth": 2
             }
            },
            "marker": {
             "colorbar": {
              "outlinewidth": 0,
              "tickcolor": "rgb(36,36,36)",
              "ticklen": 8,
              "ticks": "outside",
              "tickwidth": 2
             }
            },
            "type": "scatter3d"
           }
          ],
          "scattercarpet": [
           {
            "marker": {
             "colorbar": {
              "outlinewidth": 0,
              "tickcolor": "rgb(36,36,36)",
              "ticklen": 8,
              "ticks": "outside",
              "tickwidth": 2
             }
            },
            "type": "scattercarpet"
           }
          ],
          "scattergeo": [
           {
            "marker": {
             "colorbar": {
              "outlinewidth": 0,
              "tickcolor": "rgb(36,36,36)",
              "ticklen": 8,
              "ticks": "outside",
              "tickwidth": 2
             }
            },
            "type": "scattergeo"
           }
          ],
          "scattergl": [
           {
            "marker": {
             "colorbar": {
              "outlinewidth": 0,
              "tickcolor": "rgb(36,36,36)",
              "ticklen": 8,
              "ticks": "outside",
              "tickwidth": 2
             }
            },
            "type": "scattergl"
           }
          ],
          "scattermapbox": [
           {
            "marker": {
             "colorbar": {
              "outlinewidth": 0,
              "tickcolor": "rgb(36,36,36)",
              "ticklen": 8,
              "ticks": "outside",
              "tickwidth": 2
             }
            },
            "type": "scattermapbox"
           }
          ],
          "scatterpolar": [
           {
            "marker": {
             "colorbar": {
              "outlinewidth": 0,
              "tickcolor": "rgb(36,36,36)",
              "ticklen": 8,
              "ticks": "outside",
              "tickwidth": 2
             }
            },
            "type": "scatterpolar"
           }
          ],
          "scatterpolargl": [
           {
            "marker": {
             "colorbar": {
              "outlinewidth": 0,
              "tickcolor": "rgb(36,36,36)",
              "ticklen": 8,
              "ticks": "outside",
              "tickwidth": 2
             }
            },
            "type": "scatterpolargl"
           }
          ],
          "scatterternary": [
           {
            "marker": {
             "colorbar": {
              "outlinewidth": 0,
              "tickcolor": "rgb(36,36,36)",
              "ticklen": 8,
              "ticks": "outside",
              "tickwidth": 2
             }
            },
            "type": "scatterternary"
           }
          ],
          "surface": [
           {
            "colorbar": {
             "outlinewidth": 0,
             "tickcolor": "rgb(36,36,36)",
             "ticklen": 8,
             "ticks": "outside",
             "tickwidth": 2
            },
            "colorscale": [
             [
              0,
              "rgb(2,4,25)"
             ],
             [
              0.06274509803921569,
              "rgb(24,15,41)"
             ],
             [
              0.12549019607843137,
              "rgb(47,23,57)"
             ],
             [
              0.18823529411764706,
              "rgb(71,28,72)"
             ],
             [
              0.25098039215686274,
              "rgb(97,30,82)"
             ],
             [
              0.3137254901960784,
              "rgb(123,30,89)"
             ],
             [
              0.3764705882352941,
              "rgb(150,27,91)"
             ],
             [
              0.4392156862745098,
              "rgb(177,22,88)"
             ],
             [
              0.5019607843137255,
              "rgb(203,26,79)"
             ],
             [
              0.5647058823529412,
              "rgb(223,47,67)"
             ],
             [
              0.6274509803921569,
              "rgb(236,76,61)"
             ],
             [
              0.6901960784313725,
              "rgb(242,107,73)"
             ],
             [
              0.7529411764705882,
              "rgb(244,135,95)"
             ],
             [
              0.8156862745098039,
              "rgb(245,162,122)"
             ],
             [
              0.8784313725490196,
              "rgb(246,188,153)"
             ],
             [
              0.9411764705882353,
              "rgb(247,212,187)"
             ],
             [
              1,
              "rgb(250,234,220)"
             ]
            ],
            "type": "surface"
           }
          ],
          "table": [
           {
            "cells": {
             "fill": {
              "color": "rgb(231,231,240)"
             },
             "line": {
              "color": "white"
             }
            },
            "header": {
             "fill": {
              "color": "rgb(183,183,191)"
             },
             "line": {
              "color": "white"
             }
            },
            "type": "table"
           }
          ]
         },
         "layout": {
          "annotationdefaults": {
           "arrowcolor": "rgb(67,103,167)"
          },
          "autotypenumbers": "strict",
          "coloraxis": {
           "colorbar": {
            "outlinewidth": 0,
            "tickcolor": "rgb(36,36,36)",
            "ticklen": 8,
            "ticks": "outside",
            "tickwidth": 2
           }
          },
          "colorscale": {
           "sequential": [
            [
             0,
             "rgb(2,4,25)"
            ],
            [
             0.06274509803921569,
             "rgb(24,15,41)"
            ],
            [
             0.12549019607843137,
             "rgb(47,23,57)"
            ],
            [
             0.18823529411764706,
             "rgb(71,28,72)"
            ],
            [
             0.25098039215686274,
             "rgb(97,30,82)"
            ],
            [
             0.3137254901960784,
             "rgb(123,30,89)"
            ],
            [
             0.3764705882352941,
             "rgb(150,27,91)"
            ],
            [
             0.4392156862745098,
             "rgb(177,22,88)"
            ],
            [
             0.5019607843137255,
             "rgb(203,26,79)"
            ],
            [
             0.5647058823529412,
             "rgb(223,47,67)"
            ],
            [
             0.6274509803921569,
             "rgb(236,76,61)"
            ],
            [
             0.6901960784313725,
             "rgb(242,107,73)"
            ],
            [
             0.7529411764705882,
             "rgb(244,135,95)"
            ],
            [
             0.8156862745098039,
             "rgb(245,162,122)"
            ],
            [
             0.8784313725490196,
             "rgb(246,188,153)"
            ],
            [
             0.9411764705882353,
             "rgb(247,212,187)"
            ],
            [
             1,
             "rgb(250,234,220)"
            ]
           ],
           "sequentialminus": [
            [
             0,
             "rgb(2,4,25)"
            ],
            [
             0.06274509803921569,
             "rgb(24,15,41)"
            ],
            [
             0.12549019607843137,
             "rgb(47,23,57)"
            ],
            [
             0.18823529411764706,
             "rgb(71,28,72)"
            ],
            [
             0.25098039215686274,
             "rgb(97,30,82)"
            ],
            [
             0.3137254901960784,
             "rgb(123,30,89)"
            ],
            [
             0.3764705882352941,
             "rgb(150,27,91)"
            ],
            [
             0.4392156862745098,
             "rgb(177,22,88)"
            ],
            [
             0.5019607843137255,
             "rgb(203,26,79)"
            ],
            [
             0.5647058823529412,
             "rgb(223,47,67)"
            ],
            [
             0.6274509803921569,
             "rgb(236,76,61)"
            ],
            [
             0.6901960784313725,
             "rgb(242,107,73)"
            ],
            [
             0.7529411764705882,
             "rgb(244,135,95)"
            ],
            [
             0.8156862745098039,
             "rgb(245,162,122)"
            ],
            [
             0.8784313725490196,
             "rgb(246,188,153)"
            ],
            [
             0.9411764705882353,
             "rgb(247,212,187)"
            ],
            [
             1,
             "rgb(250,234,220)"
            ]
           ]
          },
          "colorway": [
           "rgb(76,114,176)",
           "rgb(221,132,82)",
           "rgb(85,168,104)",
           "rgb(196,78,82)",
           "rgb(129,114,179)",
           "rgb(147,120,96)",
           "rgb(218,139,195)",
           "rgb(140,140,140)",
           "rgb(204,185,116)",
           "rgb(100,181,205)"
          ],
          "font": {
           "color": "rgb(36,36,36)"
          },
          "geo": {
           "bgcolor": "white",
           "lakecolor": "white",
           "landcolor": "rgb(234,234,242)",
           "showlakes": true,
           "showland": true,
           "subunitcolor": "white"
          },
          "hoverlabel": {
           "align": "left"
          },
          "hovermode": "closest",
          "paper_bgcolor": "white",
          "plot_bgcolor": "rgb(234,234,242)",
          "polar": {
           "angularaxis": {
            "gridcolor": "white",
            "linecolor": "white",
            "showgrid": true,
            "ticks": ""
           },
           "bgcolor": "rgb(234,234,242)",
           "radialaxis": {
            "gridcolor": "white",
            "linecolor": "white",
            "showgrid": true,
            "ticks": ""
           }
          },
          "scene": {
           "xaxis": {
            "backgroundcolor": "rgb(234,234,242)",
            "gridcolor": "white",
            "gridwidth": 2,
            "linecolor": "white",
            "showbackground": true,
            "showgrid": true,
            "ticks": "",
            "zerolinecolor": "white"
           },
           "yaxis": {
            "backgroundcolor": "rgb(234,234,242)",
            "gridcolor": "white",
            "gridwidth": 2,
            "linecolor": "white",
            "showbackground": true,
            "showgrid": true,
            "ticks": "",
            "zerolinecolor": "white"
           },
           "zaxis": {
            "backgroundcolor": "rgb(234,234,242)",
            "gridcolor": "white",
            "gridwidth": 2,
            "linecolor": "white",
            "showbackground": true,
            "showgrid": true,
            "ticks": "",
            "zerolinecolor": "white"
           }
          },
          "shapedefaults": {
           "fillcolor": "rgb(67,103,167)",
           "line": {
            "width": 0
           },
           "opacity": 0.5
          },
          "ternary": {
           "aaxis": {
            "gridcolor": "white",
            "linecolor": "white",
            "showgrid": true,
            "ticks": ""
           },
           "baxis": {
            "gridcolor": "white",
            "linecolor": "white",
            "showgrid": true,
            "ticks": ""
           },
           "bgcolor": "rgb(234,234,242)",
           "caxis": {
            "gridcolor": "white",
            "linecolor": "white",
            "showgrid": true,
            "ticks": ""
           }
          },
          "xaxis": {
           "automargin": true,
           "gridcolor": "white",
           "linecolor": "white",
           "showgrid": true,
           "ticks": "",
           "title": {
            "standoff": 15
           },
           "zerolinecolor": "white"
          },
          "yaxis": {
           "automargin": true,
           "gridcolor": "white",
           "linecolor": "white",
           "showgrid": true,
           "ticks": "",
           "title": {
            "standoff": 15
           },
           "zerolinecolor": "white"
          }
         }
        },
        "title": {
         "text": "Training and validation of Inception Model"
        },
        "width": 1200,
        "xaxis": {
         "anchor": "y",
         "domain": [
          0,
          0.475
         ],
         "title": {
          "text": "epochs"
         }
        },
        "xaxis2": {
         "anchor": "y2",
         "domain": [
          0.525,
          1
         ],
         "title": {
          "text": "epochs"
         }
        },
        "yaxis": {
         "anchor": "x",
         "domain": [
          0,
          1
         ],
         "title": {
          "text": "acc"
         }
        },
        "yaxis2": {
         "anchor": "x2",
         "domain": [
          0,
          1
         ],
         "title": {
          "text": "acc"
         }
        }
       }
      }
     },
     "metadata": {},
     "output_type": "display_data"
    }
   ],
   "source": [
    "inception = InceptionModel(num_classes=5, num_blocks=3, n_filters=[(32, 32, 64, 64) for _ in range(3)], kernel_size=7, dropout=0)\n",
    "optimizer = Adam(learning_rate=1e-4)\n",
    "inception.compile(optimizer=optimizer, loss=\"sparse_categorical_crossentropy\", metrics=[SparseCategoricalAccuracy('acc')])\n",
    "inception_history = train_model(\n",
    "    inception,\n",
    "    train_dataset,\n",
    "    val_dataset,\n",
    "    path=model_dir,\n",
    "    epochs=50,\n",
    "    verbose=1,\n",
    "    lr_patience=5,\n",
    "    val_patience=10\n",
    ").history\n",
    "print(\n",
    "    f\"Final loss: training -> {inception_history['loss'][-1]:.2f}, validation -> {inception_history['val_loss'][-1]:.2f}\"\n",
    ")\n",
    "print(\n",
    "    f\"Final accuracy: training -> {inception_history['acc'][-1]:.2f}, validation -> {inception_history['val_acc'][-1]:.2f}\"\n",
    ")\n",
    "plot_history(inception_history, ['loss', 'acc'], name='Inception Model')"
   ]
  },
  {
   "cell_type": "code",
   "execution_count": 10,
   "metadata": {},
   "outputs": [
    {
     "name": "stdout",
     "output_type": "stream",
     "text": [
      "6/6 [==============================] - 8s 1s/step - loss: 0.5818 - acc: 0.8517\n",
      "Model evaluated: Test Loss -> 0.5818189978599548, Test Accuracy -> 85.17%\n",
      "Model: \"InceptionModel\"\n",
      "_________________________________________________________________\n",
      " Layer (type)                Output Shape              Param #   \n",
      "=================================================================\n",
      " rescaling_3 (Rescaling)     multiple                  0         \n",
      "                                                                 \n",
      " inception (Inception)       multiple                  83872     \n",
      "                                                                 \n",
      " inception_1 (Inception)     multiple                  95584     \n",
      "                                                                 \n",
      " inception_2 (Inception)     multiple                  95584     \n",
      "                                                                 \n",
      " conv2d_35 (Conv2D)          multiple                  602176    \n",
      "                                                                 \n",
      " conv2d_43 (Conv2D)          multiple                  602176    \n",
      "                                                                 \n",
      " conv2d_51 (Conv2D)          multiple                  602176    \n",
      "                                                                 \n",
      " batch_normalization_17 (Ba  multiple                  768       \n",
      " tchNormalization)                                               \n",
      "                                                                 \n",
      " batch_normalization_18 (Ba  multiple                  768       \n",
      " tchNormalization)                                               \n",
      "                                                                 \n",
      " batch_normalization_19 (Ba  multiple                  768       \n",
      " tchNormalization)                                               \n",
      "                                                                 \n",
      " dense_5 (Dense)             multiple                  12545000  \n",
      "                                                                 \n",
      " dropout_1 (Dropout)         multiple                  0         \n",
      "                                                                 \n",
      " dense_6 (Dense)             multiple                  5005      \n",
      "                                                                 \n",
      "=================================================================\n",
      "Total params: 14633877 (55.82 MB)\n",
      "Trainable params: 14632725 (55.82 MB)\n",
      "Non-trainable params: 1152 (4.50 KB)\n",
      "_________________________________________________________________\n"
     ]
    }
   ],
   "source": [
    "test_loss, test_accuracy = inception.evaluate(test_dataset, batch_size=BATCH_SIZE)\n",
    "print(\n",
    "    f\"Model evaluated: Test Loss -> {test_loss}, Test Accuracy -> {test_accuracy*100:.2f}%\"\n",
    ")\n",
    "model_accuracies.append((\"Inception\", test_accuracy))\n",
    "inception.summary()"
   ]
  },
  {
   "cell_type": "markdown",
   "metadata": {},
   "source": [
    "### 2.5 What if we add Data Augmentation?"
   ]
  },
  {
   "cell_type": "code",
   "execution_count": 11,
   "metadata": {},
   "outputs": [
    {
     "name": "stdout",
     "output_type": "stream",
     "text": [
      "Epoch 1/50\n"
     ]
    },
    {
     "name": "stdout",
     "output_type": "stream",
     "text": [
      "45/45 [==============================] - 12s 114ms/step - loss: 1.7256 - acc: 0.3396 - val_loss: 2.2404 - val_acc: 0.2286 - lr: 0.0010\n",
      "Epoch 2/50\n",
      "45/45 [==============================] - 6s 100ms/step - loss: 1.1306 - acc: 0.5394 - val_loss: 4.6759 - val_acc: 0.2088 - lr: 0.0010\n",
      "Epoch 3/50\n",
      "45/45 [==============================] - 6s 99ms/step - loss: 0.8359 - acc: 0.6741 - val_loss: 6.2913 - val_acc: 0.2271 - lr: 0.0010\n",
      "Epoch 4/50\n",
      "45/45 [==============================] - 6s 99ms/step - loss: 0.7048 - acc: 0.7247 - val_loss: 6.5943 - val_acc: 0.2583 - lr: 0.0010\n",
      "Epoch 5/50\n",
      "45/45 [==============================] - 6s 99ms/step - loss: 0.5933 - acc: 0.7655 - val_loss: 6.7220 - val_acc: 0.2128 - lr: 0.0010\n",
      "Epoch 6/50\n",
      "45/45 [==============================] - 6s 99ms/step - loss: 0.5610 - acc: 0.7806 - val_loss: 3.8321 - val_acc: 0.3073 - lr: 0.0010\n",
      "Epoch 7/50\n",
      "45/45 [==============================] - 6s 100ms/step - loss: 0.4365 - acc: 0.8288 - val_loss: 3.1325 - val_acc: 0.3246 - lr: 2.0000e-04\n",
      "Epoch 8/50\n",
      "45/45 [==============================] - 6s 99ms/step - loss: 0.3962 - acc: 0.8441 - val_loss: 3.0120 - val_acc: 0.3681 - lr: 2.0000e-04\n",
      "Epoch 9/50\n",
      "45/45 [==============================] - 6s 100ms/step - loss: 0.3738 - acc: 0.8524 - val_loss: 2.4080 - val_acc: 0.4087 - lr: 2.0000e-04\n",
      "Epoch 10/50\n",
      "45/45 [==============================] - 6s 110ms/step - loss: 0.3451 - acc: 0.8664 - val_loss: 1.5189 - val_acc: 0.5379 - lr: 2.0000e-04\n",
      "Epoch 11/50\n",
      "45/45 [==============================] - 6s 99ms/step - loss: 0.3345 - acc: 0.8715 - val_loss: 2.2337 - val_acc: 0.4498 - lr: 2.0000e-04\n",
      "Epoch 12/50\n",
      "45/45 [==============================] - 6s 111ms/step - loss: 0.3319 - acc: 0.8710 - val_loss: 0.8235 - val_acc: 0.7031 - lr: 2.0000e-04\n",
      "Epoch 13/50\n",
      "45/45 [==============================] - 6s 99ms/step - loss: 0.3061 - acc: 0.8815 - val_loss: 0.9471 - val_acc: 0.6937 - lr: 2.0000e-04\n",
      "Epoch 14/50\n",
      "45/45 [==============================] - 6s 110ms/step - loss: 0.3019 - acc: 0.8842 - val_loss: 0.4208 - val_acc: 0.8446 - lr: 2.0000e-04\n",
      "Epoch 15/50\n",
      "45/45 [==============================] - 6s 100ms/step - loss: 0.2823 - acc: 0.8916 - val_loss: 0.6185 - val_acc: 0.7947 - lr: 2.0000e-04\n",
      "Epoch 16/50\n",
      "45/45 [==============================] - 6s 100ms/step - loss: 0.2716 - acc: 0.8962 - val_loss: 0.4351 - val_acc: 0.8328 - lr: 2.0000e-04\n",
      "Epoch 17/50\n",
      "45/45 [==============================] - 6s 100ms/step - loss: 0.2663 - acc: 0.8960 - val_loss: 0.4658 - val_acc: 0.8308 - lr: 2.0000e-04\n",
      "Epoch 18/50\n",
      "45/45 [==============================] - 6s 99ms/step - loss: 0.2584 - acc: 0.8985 - val_loss: 0.4923 - val_acc: 0.8372 - lr: 2.0000e-04\n",
      "Epoch 19/50\n",
      "45/45 [==============================] - 6s 100ms/step - loss: 0.2331 - acc: 0.9118 - val_loss: 0.6242 - val_acc: 0.7808 - lr: 2.0000e-04\n",
      "Epoch 20/50\n",
      "45/45 [==============================] - 6s 111ms/step - loss: 0.1924 - acc: 0.9272 - val_loss: 0.3957 - val_acc: 0.8506 - lr: 4.0000e-05\n",
      "Epoch 21/50\n",
      "45/45 [==============================] - 6s 111ms/step - loss: 0.1866 - acc: 0.9295 - val_loss: 0.3618 - val_acc: 0.8704 - lr: 4.0000e-05\n",
      "Epoch 22/50\n",
      "45/45 [==============================] - 6s 111ms/step - loss: 0.1826 - acc: 0.9315 - val_loss: 0.3373 - val_acc: 0.8753 - lr: 4.0000e-05\n",
      "Epoch 23/50\n",
      "45/45 [==============================] - 6s 100ms/step - loss: 0.1683 - acc: 0.9370 - val_loss: 0.3726 - val_acc: 0.8629 - lr: 4.0000e-05\n",
      "Epoch 24/50\n",
      "45/45 [==============================] - 6s 110ms/step - loss: 0.1645 - acc: 0.9389 - val_loss: 0.3184 - val_acc: 0.8872 - lr: 4.0000e-05\n",
      "Epoch 25/50\n",
      "45/45 [==============================] - 6s 100ms/step - loss: 0.1689 - acc: 0.9377 - val_loss: 0.4188 - val_acc: 0.8516 - lr: 4.0000e-05\n",
      "Epoch 26/50\n",
      "45/45 [==============================] - 6s 101ms/step - loss: 0.1582 - acc: 0.9425 - val_loss: 0.3398 - val_acc: 0.8788 - lr: 4.0000e-05\n",
      "Epoch 27/50\n",
      "45/45 [==============================] - 6s 100ms/step - loss: 0.1566 - acc: 0.9413 - val_loss: 0.4261 - val_acc: 0.8491 - lr: 4.0000e-05\n",
      "Epoch 28/50\n",
      "45/45 [==============================] - 6s 100ms/step - loss: 0.1588 - acc: 0.9408 - val_loss: 0.4014 - val_acc: 0.8600 - lr: 4.0000e-05\n",
      "Epoch 29/50\n",
      "45/45 [==============================] - 6s 100ms/step - loss: 0.1542 - acc: 0.9424 - val_loss: 0.4543 - val_acc: 0.8545 - lr: 4.0000e-05\n",
      "Epoch 30/50\n",
      "45/45 [==============================] - 6s 101ms/step - loss: 0.1389 - acc: 0.9490 - val_loss: 0.3731 - val_acc: 0.8694 - lr: 8.0000e-06\n",
      "Epoch 31/50\n",
      "45/45 [==============================] - 6s 99ms/step - loss: 0.1357 - acc: 0.9513 - val_loss: 0.3757 - val_acc: 0.8704 - lr: 8.0000e-06\n",
      "Epoch 32/50\n",
      "45/45 [==============================] - 6s 99ms/step - loss: 0.1344 - acc: 0.9510 - val_loss: 0.3860 - val_acc: 0.8674 - lr: 8.0000e-06\n",
      "Epoch 33/50\n",
      "45/45 [==============================] - 6s 99ms/step - loss: 0.1386 - acc: 0.9496 - val_loss: 0.3934 - val_acc: 0.8664 - lr: 8.0000e-06\n",
      "Epoch 34/50\n",
      "45/45 [==============================] - 5s 99ms/step - loss: 0.1415 - acc: 0.9474 - val_loss: 0.3813 - val_acc: 0.8704 - lr: 8.0000e-06\n",
      "Final loss: training -> 0.14, validation -> 0.38\n",
      "Final accuracy: training -> 0.95, validation -> 0.87\n"
     ]
    },
    {
     "data": {
      "application/vnd.plotly.v1+json": {
       "config": {
        "plotlyServerURL": "https://plot.ly"
       },
       "data": [
        {
         "line": {
          "color": "#636EFA"
         },
         "marker": {
          "color": "#636EFA"
         },
         "mode": "lines+markers",
         "name": "train",
         "showlegend": true,
         "type": "scatter",
         "x": [
          1,
          2,
          3,
          4,
          5,
          6,
          7,
          8,
          9,
          10,
          11,
          12,
          13,
          14,
          15,
          16,
          17,
          18,
          19,
          20,
          21,
          22,
          23,
          24,
          25,
          26,
          27,
          28,
          29,
          30,
          31,
          32,
          33,
          34
         ],
         "xaxis": "x",
         "y": [
          1.725559949874878,
          1.130599856376648,
          0.8359375596046448,
          0.7048225998878479,
          0.5933011174201965,
          0.5610032081604004,
          0.4364515244960785,
          0.3962189853191376,
          0.3738453984260559,
          0.3450515866279602,
          0.3344533443450928,
          0.3318627178668976,
          0.3060951828956604,
          0.3019215166568756,
          0.28225308656692505,
          0.27157145738601685,
          0.26627209782600403,
          0.2583503723144531,
          0.2331121563911438,
          0.19239270687103271,
          0.1866414099931717,
          0.18260405957698822,
          0.16828139126300812,
          0.16445451974868774,
          0.16889464855194092,
          0.1582283228635788,
          0.15656961500644684,
          0.1588316559791565,
          0.15415826439857483,
          0.13889387249946594,
          0.13574711978435516,
          0.13444377481937408,
          0.13859903812408447,
          0.1414952576160431
         ],
         "yaxis": "y"
        },
        {
         "line": {
          "color": "#EF553B"
         },
         "marker": {
          "color": "#EF553B"
         },
         "mode": "lines+markers",
         "name": "val",
         "showlegend": true,
         "type": "scatter",
         "x": [
          1,
          2,
          3,
          4,
          5,
          6,
          7,
          8,
          9,
          10,
          11,
          12,
          13,
          14,
          15,
          16,
          17,
          18,
          19,
          20,
          21,
          22,
          23,
          24,
          25,
          26,
          27,
          28,
          29,
          30,
          31,
          32,
          33,
          34
         ],
         "xaxis": "x",
         "y": [
          2.240399122238159,
          4.675896167755127,
          6.2913336753845215,
          6.594349384307861,
          6.7220330238342285,
          3.832120656967163,
          3.132457733154297,
          3.011964797973633,
          2.408021926879883,
          1.518877387046814,
          2.233713150024414,
          0.8234846591949463,
          0.9471463561058044,
          0.42084380984306335,
          0.6184911131858826,
          0.43511855602264404,
          0.4658261239528656,
          0.4923466742038727,
          0.6242436170578003,
          0.39567774534225464,
          0.3618163466453552,
          0.33730947971343994,
          0.37257298827171326,
          0.3184475004673004,
          0.41876184940338135,
          0.3397601842880249,
          0.42605334520339966,
          0.4013884663581848,
          0.45428791642189026,
          0.3730904459953308,
          0.3756841719150543,
          0.38596007227897644,
          0.3934219181537628,
          0.38129982352256775
         ],
         "yaxis": "y"
        },
        {
         "line": {
          "color": "#636EFA"
         },
         "marker": {
          "color": "#636EFA"
         },
         "mode": "lines+markers",
         "name": "train",
         "showlegend": false,
         "type": "scatter",
         "x": [
          1,
          2,
          3,
          4,
          5,
          6,
          7,
          8,
          9,
          10,
          11,
          12,
          13,
          14,
          15,
          16,
          17,
          18,
          19,
          20,
          21,
          22,
          23,
          24,
          25,
          26,
          27,
          28,
          29,
          30,
          31,
          32,
          33,
          34
         ],
         "xaxis": "x2",
         "y": [
          0.3396489918231964,
          0.5394219756126404,
          0.6741465330123901,
          0.724700927734375,
          0.7654762864112854,
          0.780581533908844,
          0.8287785053253174,
          0.8440583348274231,
          0.8523530960083008,
          0.8664105534553528,
          0.8714747428894043,
          0.8709508180618286,
          0.8815157413482666,
          0.8842224478721619,
          0.8916441202163696,
          0.8961843848228455,
          0.8960098028182983,
          0.8985418677330017,
          0.911813497543335,
          0.9271806478500366,
          0.9295381307601929,
          0.9314590096473694,
          0.9369597434997559,
          0.9388806223869324,
          0.9376582503318787,
          0.9424604773521423,
          0.9413254261016846,
          0.9408015608787537,
          0.9423731565475464,
          0.9490090012550354,
          0.9512791633605957,
          0.9510172009468079,
          0.9496201872825623,
          0.947350025177002
         ],
         "yaxis": "y2"
        },
        {
         "line": {
          "color": "#EF553B"
         },
         "marker": {
          "color": "#EF553B"
         },
         "mode": "lines+markers",
         "name": "val",
         "showlegend": false,
         "type": "scatter",
         "x": [
          1,
          2,
          3,
          4,
          5,
          6,
          7,
          8,
          9,
          10,
          11,
          12,
          13,
          14,
          15,
          16,
          17,
          18,
          19,
          20,
          21,
          22,
          23,
          24,
          25,
          26,
          27,
          28,
          29,
          30,
          31,
          32,
          33,
          34
         ],
         "xaxis": "x2",
         "y": [
          0.2285996973514557,
          0.20880752801895142,
          0.22711528837680817,
          0.2582879662513733,
          0.21276596188545227,
          0.30727362632751465,
          0.3245917856693268,
          0.36813458800315857,
          0.4087085723876953,
          0.5378525257110596,
          0.4497773349285126,
          0.7031172513961792,
          0.6937159895896912,
          0.8446313738822937,
          0.7946560978889465,
          0.8327560424804688,
          0.8307768702507019,
          0.8372092843055725,
          0.7808015942573547,
          0.8505690097808838,
          0.8703612089157104,
          0.8753092288970947,
          0.8629391193389893,
          0.8871845602989197,
          0.8515586256980896,
          0.8787729144096375,
          0.8490846157073975,
          0.8599703311920166,
          0.854527473449707,
          0.8693715929985046,
          0.8703612089157104,
          0.867392361164093,
          0.8664027452468872,
          0.8703612089157104
         ],
         "yaxis": "y2"
        }
       ],
       "layout": {
        "annotations": [
         {
          "font": {
           "size": 16
          },
          "showarrow": false,
          "text": "loss",
          "x": 0.2375,
          "xanchor": "center",
          "xref": "paper",
          "y": 1,
          "yanchor": "bottom",
          "yref": "paper"
         },
         {
          "font": {
           "size": 16
          },
          "showarrow": false,
          "text": "acc",
          "x": 0.7625,
          "xanchor": "center",
          "xref": "paper",
          "y": 1,
          "yanchor": "bottom",
          "yref": "paper"
         }
        ],
        "height": 400,
        "margin": {
         "b": 10,
         "l": 10,
         "r": 10,
         "t": 50
        },
        "template": {
         "data": {
          "bar": [
           {
            "error_x": {
             "color": "rgb(36,36,36)"
            },
            "error_y": {
             "color": "rgb(36,36,36)"
            },
            "marker": {
             "line": {
              "color": "rgb(234,234,242)",
              "width": 0.5
             },
             "pattern": {
              "fillmode": "overlay",
              "size": 10,
              "solidity": 0.2
             }
            },
            "type": "bar"
           }
          ],
          "barpolar": [
           {
            "marker": {
             "line": {
              "color": "rgb(234,234,242)",
              "width": 0.5
             },
             "pattern": {
              "fillmode": "overlay",
              "size": 10,
              "solidity": 0.2
             }
            },
            "type": "barpolar"
           }
          ],
          "carpet": [
           {
            "aaxis": {
             "endlinecolor": "rgb(36,36,36)",
             "gridcolor": "white",
             "linecolor": "white",
             "minorgridcolor": "white",
             "startlinecolor": "rgb(36,36,36)"
            },
            "baxis": {
             "endlinecolor": "rgb(36,36,36)",
             "gridcolor": "white",
             "linecolor": "white",
             "minorgridcolor": "white",
             "startlinecolor": "rgb(36,36,36)"
            },
            "type": "carpet"
           }
          ],
          "choropleth": [
           {
            "colorbar": {
             "outlinewidth": 0,
             "tickcolor": "rgb(36,36,36)",
             "ticklen": 8,
             "ticks": "outside",
             "tickwidth": 2
            },
            "type": "choropleth"
           }
          ],
          "contour": [
           {
            "colorbar": {
             "outlinewidth": 0,
             "tickcolor": "rgb(36,36,36)",
             "ticklen": 8,
             "ticks": "outside",
             "tickwidth": 2
            },
            "colorscale": [
             [
              0,
              "rgb(2,4,25)"
             ],
             [
              0.06274509803921569,
              "rgb(24,15,41)"
             ],
             [
              0.12549019607843137,
              "rgb(47,23,57)"
             ],
             [
              0.18823529411764706,
              "rgb(71,28,72)"
             ],
             [
              0.25098039215686274,
              "rgb(97,30,82)"
             ],
             [
              0.3137254901960784,
              "rgb(123,30,89)"
             ],
             [
              0.3764705882352941,
              "rgb(150,27,91)"
             ],
             [
              0.4392156862745098,
              "rgb(177,22,88)"
             ],
             [
              0.5019607843137255,
              "rgb(203,26,79)"
             ],
             [
              0.5647058823529412,
              "rgb(223,47,67)"
             ],
             [
              0.6274509803921569,
              "rgb(236,76,61)"
             ],
             [
              0.6901960784313725,
              "rgb(242,107,73)"
             ],
             [
              0.7529411764705882,
              "rgb(244,135,95)"
             ],
             [
              0.8156862745098039,
              "rgb(245,162,122)"
             ],
             [
              0.8784313725490196,
              "rgb(246,188,153)"
             ],
             [
              0.9411764705882353,
              "rgb(247,212,187)"
             ],
             [
              1,
              "rgb(250,234,220)"
             ]
            ],
            "type": "contour"
           }
          ],
          "contourcarpet": [
           {
            "colorbar": {
             "outlinewidth": 0,
             "tickcolor": "rgb(36,36,36)",
             "ticklen": 8,
             "ticks": "outside",
             "tickwidth": 2
            },
            "type": "contourcarpet"
           }
          ],
          "heatmap": [
           {
            "colorbar": {
             "outlinewidth": 0,
             "tickcolor": "rgb(36,36,36)",
             "ticklen": 8,
             "ticks": "outside",
             "tickwidth": 2
            },
            "colorscale": [
             [
              0,
              "rgb(2,4,25)"
             ],
             [
              0.06274509803921569,
              "rgb(24,15,41)"
             ],
             [
              0.12549019607843137,
              "rgb(47,23,57)"
             ],
             [
              0.18823529411764706,
              "rgb(71,28,72)"
             ],
             [
              0.25098039215686274,
              "rgb(97,30,82)"
             ],
             [
              0.3137254901960784,
              "rgb(123,30,89)"
             ],
             [
              0.3764705882352941,
              "rgb(150,27,91)"
             ],
             [
              0.4392156862745098,
              "rgb(177,22,88)"
             ],
             [
              0.5019607843137255,
              "rgb(203,26,79)"
             ],
             [
              0.5647058823529412,
              "rgb(223,47,67)"
             ],
             [
              0.6274509803921569,
              "rgb(236,76,61)"
             ],
             [
              0.6901960784313725,
              "rgb(242,107,73)"
             ],
             [
              0.7529411764705882,
              "rgb(244,135,95)"
             ],
             [
              0.8156862745098039,
              "rgb(245,162,122)"
             ],
             [
              0.8784313725490196,
              "rgb(246,188,153)"
             ],
             [
              0.9411764705882353,
              "rgb(247,212,187)"
             ],
             [
              1,
              "rgb(250,234,220)"
             ]
            ],
            "type": "heatmap"
           }
          ],
          "heatmapgl": [
           {
            "colorbar": {
             "outlinewidth": 0,
             "tickcolor": "rgb(36,36,36)",
             "ticklen": 8,
             "ticks": "outside",
             "tickwidth": 2
            },
            "colorscale": [
             [
              0,
              "rgb(2,4,25)"
             ],
             [
              0.06274509803921569,
              "rgb(24,15,41)"
             ],
             [
              0.12549019607843137,
              "rgb(47,23,57)"
             ],
             [
              0.18823529411764706,
              "rgb(71,28,72)"
             ],
             [
              0.25098039215686274,
              "rgb(97,30,82)"
             ],
             [
              0.3137254901960784,
              "rgb(123,30,89)"
             ],
             [
              0.3764705882352941,
              "rgb(150,27,91)"
             ],
             [
              0.4392156862745098,
              "rgb(177,22,88)"
             ],
             [
              0.5019607843137255,
              "rgb(203,26,79)"
             ],
             [
              0.5647058823529412,
              "rgb(223,47,67)"
             ],
             [
              0.6274509803921569,
              "rgb(236,76,61)"
             ],
             [
              0.6901960784313725,
              "rgb(242,107,73)"
             ],
             [
              0.7529411764705882,
              "rgb(244,135,95)"
             ],
             [
              0.8156862745098039,
              "rgb(245,162,122)"
             ],
             [
              0.8784313725490196,
              "rgb(246,188,153)"
             ],
             [
              0.9411764705882353,
              "rgb(247,212,187)"
             ],
             [
              1,
              "rgb(250,234,220)"
             ]
            ],
            "type": "heatmapgl"
           }
          ],
          "histogram": [
           {
            "marker": {
             "pattern": {
              "fillmode": "overlay",
              "size": 10,
              "solidity": 0.2
             }
            },
            "type": "histogram"
           }
          ],
          "histogram2d": [
           {
            "colorbar": {
             "outlinewidth": 0,
             "tickcolor": "rgb(36,36,36)",
             "ticklen": 8,
             "ticks": "outside",
             "tickwidth": 2
            },
            "colorscale": [
             [
              0,
              "rgb(2,4,25)"
             ],
             [
              0.06274509803921569,
              "rgb(24,15,41)"
             ],
             [
              0.12549019607843137,
              "rgb(47,23,57)"
             ],
             [
              0.18823529411764706,
              "rgb(71,28,72)"
             ],
             [
              0.25098039215686274,
              "rgb(97,30,82)"
             ],
             [
              0.3137254901960784,
              "rgb(123,30,89)"
             ],
             [
              0.3764705882352941,
              "rgb(150,27,91)"
             ],
             [
              0.4392156862745098,
              "rgb(177,22,88)"
             ],
             [
              0.5019607843137255,
              "rgb(203,26,79)"
             ],
             [
              0.5647058823529412,
              "rgb(223,47,67)"
             ],
             [
              0.6274509803921569,
              "rgb(236,76,61)"
             ],
             [
              0.6901960784313725,
              "rgb(242,107,73)"
             ],
             [
              0.7529411764705882,
              "rgb(244,135,95)"
             ],
             [
              0.8156862745098039,
              "rgb(245,162,122)"
             ],
             [
              0.8784313725490196,
              "rgb(246,188,153)"
             ],
             [
              0.9411764705882353,
              "rgb(247,212,187)"
             ],
             [
              1,
              "rgb(250,234,220)"
             ]
            ],
            "type": "histogram2d"
           }
          ],
          "histogram2dcontour": [
           {
            "colorbar": {
             "outlinewidth": 0,
             "tickcolor": "rgb(36,36,36)",
             "ticklen": 8,
             "ticks": "outside",
             "tickwidth": 2
            },
            "colorscale": [
             [
              0,
              "rgb(2,4,25)"
             ],
             [
              0.06274509803921569,
              "rgb(24,15,41)"
             ],
             [
              0.12549019607843137,
              "rgb(47,23,57)"
             ],
             [
              0.18823529411764706,
              "rgb(71,28,72)"
             ],
             [
              0.25098039215686274,
              "rgb(97,30,82)"
             ],
             [
              0.3137254901960784,
              "rgb(123,30,89)"
             ],
             [
              0.3764705882352941,
              "rgb(150,27,91)"
             ],
             [
              0.4392156862745098,
              "rgb(177,22,88)"
             ],
             [
              0.5019607843137255,
              "rgb(203,26,79)"
             ],
             [
              0.5647058823529412,
              "rgb(223,47,67)"
             ],
             [
              0.6274509803921569,
              "rgb(236,76,61)"
             ],
             [
              0.6901960784313725,
              "rgb(242,107,73)"
             ],
             [
              0.7529411764705882,
              "rgb(244,135,95)"
             ],
             [
              0.8156862745098039,
              "rgb(245,162,122)"
             ],
             [
              0.8784313725490196,
              "rgb(246,188,153)"
             ],
             [
              0.9411764705882353,
              "rgb(247,212,187)"
             ],
             [
              1,
              "rgb(250,234,220)"
             ]
            ],
            "type": "histogram2dcontour"
           }
          ],
          "mesh3d": [
           {
            "colorbar": {
             "outlinewidth": 0,
             "tickcolor": "rgb(36,36,36)",
             "ticklen": 8,
             "ticks": "outside",
             "tickwidth": 2
            },
            "type": "mesh3d"
           }
          ],
          "parcoords": [
           {
            "line": {
             "colorbar": {
              "outlinewidth": 0,
              "tickcolor": "rgb(36,36,36)",
              "ticklen": 8,
              "ticks": "outside",
              "tickwidth": 2
             }
            },
            "type": "parcoords"
           }
          ],
          "pie": [
           {
            "automargin": true,
            "type": "pie"
           }
          ],
          "scatter": [
           {
            "fillpattern": {
             "fillmode": "overlay",
             "size": 10,
             "solidity": 0.2
            },
            "type": "scatter"
           }
          ],
          "scatter3d": [
           {
            "line": {
             "colorbar": {
              "outlinewidth": 0,
              "tickcolor": "rgb(36,36,36)",
              "ticklen": 8,
              "ticks": "outside",
              "tickwidth": 2
             }
            },
            "marker": {
             "colorbar": {
              "outlinewidth": 0,
              "tickcolor": "rgb(36,36,36)",
              "ticklen": 8,
              "ticks": "outside",
              "tickwidth": 2
             }
            },
            "type": "scatter3d"
           }
          ],
          "scattercarpet": [
           {
            "marker": {
             "colorbar": {
              "outlinewidth": 0,
              "tickcolor": "rgb(36,36,36)",
              "ticklen": 8,
              "ticks": "outside",
              "tickwidth": 2
             }
            },
            "type": "scattercarpet"
           }
          ],
          "scattergeo": [
           {
            "marker": {
             "colorbar": {
              "outlinewidth": 0,
              "tickcolor": "rgb(36,36,36)",
              "ticklen": 8,
              "ticks": "outside",
              "tickwidth": 2
             }
            },
            "type": "scattergeo"
           }
          ],
          "scattergl": [
           {
            "marker": {
             "colorbar": {
              "outlinewidth": 0,
              "tickcolor": "rgb(36,36,36)",
              "ticklen": 8,
              "ticks": "outside",
              "tickwidth": 2
             }
            },
            "type": "scattergl"
           }
          ],
          "scattermapbox": [
           {
            "marker": {
             "colorbar": {
              "outlinewidth": 0,
              "tickcolor": "rgb(36,36,36)",
              "ticklen": 8,
              "ticks": "outside",
              "tickwidth": 2
             }
            },
            "type": "scattermapbox"
           }
          ],
          "scatterpolar": [
           {
            "marker": {
             "colorbar": {
              "outlinewidth": 0,
              "tickcolor": "rgb(36,36,36)",
              "ticklen": 8,
              "ticks": "outside",
              "tickwidth": 2
             }
            },
            "type": "scatterpolar"
           }
          ],
          "scatterpolargl": [
           {
            "marker": {
             "colorbar": {
              "outlinewidth": 0,
              "tickcolor": "rgb(36,36,36)",
              "ticklen": 8,
              "ticks": "outside",
              "tickwidth": 2
             }
            },
            "type": "scatterpolargl"
           }
          ],
          "scatterternary": [
           {
            "marker": {
             "colorbar": {
              "outlinewidth": 0,
              "tickcolor": "rgb(36,36,36)",
              "ticklen": 8,
              "ticks": "outside",
              "tickwidth": 2
             }
            },
            "type": "scatterternary"
           }
          ],
          "surface": [
           {
            "colorbar": {
             "outlinewidth": 0,
             "tickcolor": "rgb(36,36,36)",
             "ticklen": 8,
             "ticks": "outside",
             "tickwidth": 2
            },
            "colorscale": [
             [
              0,
              "rgb(2,4,25)"
             ],
             [
              0.06274509803921569,
              "rgb(24,15,41)"
             ],
             [
              0.12549019607843137,
              "rgb(47,23,57)"
             ],
             [
              0.18823529411764706,
              "rgb(71,28,72)"
             ],
             [
              0.25098039215686274,
              "rgb(97,30,82)"
             ],
             [
              0.3137254901960784,
              "rgb(123,30,89)"
             ],
             [
              0.3764705882352941,
              "rgb(150,27,91)"
             ],
             [
              0.4392156862745098,
              "rgb(177,22,88)"
             ],
             [
              0.5019607843137255,
              "rgb(203,26,79)"
             ],
             [
              0.5647058823529412,
              "rgb(223,47,67)"
             ],
             [
              0.6274509803921569,
              "rgb(236,76,61)"
             ],
             [
              0.6901960784313725,
              "rgb(242,107,73)"
             ],
             [
              0.7529411764705882,
              "rgb(244,135,95)"
             ],
             [
              0.8156862745098039,
              "rgb(245,162,122)"
             ],
             [
              0.8784313725490196,
              "rgb(246,188,153)"
             ],
             [
              0.9411764705882353,
              "rgb(247,212,187)"
             ],
             [
              1,
              "rgb(250,234,220)"
             ]
            ],
            "type": "surface"
           }
          ],
          "table": [
           {
            "cells": {
             "fill": {
              "color": "rgb(231,231,240)"
             },
             "line": {
              "color": "white"
             }
            },
            "header": {
             "fill": {
              "color": "rgb(183,183,191)"
             },
             "line": {
              "color": "white"
             }
            },
            "type": "table"
           }
          ]
         },
         "layout": {
          "annotationdefaults": {
           "arrowcolor": "rgb(67,103,167)"
          },
          "autotypenumbers": "strict",
          "coloraxis": {
           "colorbar": {
            "outlinewidth": 0,
            "tickcolor": "rgb(36,36,36)",
            "ticklen": 8,
            "ticks": "outside",
            "tickwidth": 2
           }
          },
          "colorscale": {
           "sequential": [
            [
             0,
             "rgb(2,4,25)"
            ],
            [
             0.06274509803921569,
             "rgb(24,15,41)"
            ],
            [
             0.12549019607843137,
             "rgb(47,23,57)"
            ],
            [
             0.18823529411764706,
             "rgb(71,28,72)"
            ],
            [
             0.25098039215686274,
             "rgb(97,30,82)"
            ],
            [
             0.3137254901960784,
             "rgb(123,30,89)"
            ],
            [
             0.3764705882352941,
             "rgb(150,27,91)"
            ],
            [
             0.4392156862745098,
             "rgb(177,22,88)"
            ],
            [
             0.5019607843137255,
             "rgb(203,26,79)"
            ],
            [
             0.5647058823529412,
             "rgb(223,47,67)"
            ],
            [
             0.6274509803921569,
             "rgb(236,76,61)"
            ],
            [
             0.6901960784313725,
             "rgb(242,107,73)"
            ],
            [
             0.7529411764705882,
             "rgb(244,135,95)"
            ],
            [
             0.8156862745098039,
             "rgb(245,162,122)"
            ],
            [
             0.8784313725490196,
             "rgb(246,188,153)"
            ],
            [
             0.9411764705882353,
             "rgb(247,212,187)"
            ],
            [
             1,
             "rgb(250,234,220)"
            ]
           ],
           "sequentialminus": [
            [
             0,
             "rgb(2,4,25)"
            ],
            [
             0.06274509803921569,
             "rgb(24,15,41)"
            ],
            [
             0.12549019607843137,
             "rgb(47,23,57)"
            ],
            [
             0.18823529411764706,
             "rgb(71,28,72)"
            ],
            [
             0.25098039215686274,
             "rgb(97,30,82)"
            ],
            [
             0.3137254901960784,
             "rgb(123,30,89)"
            ],
            [
             0.3764705882352941,
             "rgb(150,27,91)"
            ],
            [
             0.4392156862745098,
             "rgb(177,22,88)"
            ],
            [
             0.5019607843137255,
             "rgb(203,26,79)"
            ],
            [
             0.5647058823529412,
             "rgb(223,47,67)"
            ],
            [
             0.6274509803921569,
             "rgb(236,76,61)"
            ],
            [
             0.6901960784313725,
             "rgb(242,107,73)"
            ],
            [
             0.7529411764705882,
             "rgb(244,135,95)"
            ],
            [
             0.8156862745098039,
             "rgb(245,162,122)"
            ],
            [
             0.8784313725490196,
             "rgb(246,188,153)"
            ],
            [
             0.9411764705882353,
             "rgb(247,212,187)"
            ],
            [
             1,
             "rgb(250,234,220)"
            ]
           ]
          },
          "colorway": [
           "rgb(76,114,176)",
           "rgb(221,132,82)",
           "rgb(85,168,104)",
           "rgb(196,78,82)",
           "rgb(129,114,179)",
           "rgb(147,120,96)",
           "rgb(218,139,195)",
           "rgb(140,140,140)",
           "rgb(204,185,116)",
           "rgb(100,181,205)"
          ],
          "font": {
           "color": "rgb(36,36,36)"
          },
          "geo": {
           "bgcolor": "white",
           "lakecolor": "white",
           "landcolor": "rgb(234,234,242)",
           "showlakes": true,
           "showland": true,
           "subunitcolor": "white"
          },
          "hoverlabel": {
           "align": "left"
          },
          "hovermode": "closest",
          "paper_bgcolor": "white",
          "plot_bgcolor": "rgb(234,234,242)",
          "polar": {
           "angularaxis": {
            "gridcolor": "white",
            "linecolor": "white",
            "showgrid": true,
            "ticks": ""
           },
           "bgcolor": "rgb(234,234,242)",
           "radialaxis": {
            "gridcolor": "white",
            "linecolor": "white",
            "showgrid": true,
            "ticks": ""
           }
          },
          "scene": {
           "xaxis": {
            "backgroundcolor": "rgb(234,234,242)",
            "gridcolor": "white",
            "gridwidth": 2,
            "linecolor": "white",
            "showbackground": true,
            "showgrid": true,
            "ticks": "",
            "zerolinecolor": "white"
           },
           "yaxis": {
            "backgroundcolor": "rgb(234,234,242)",
            "gridcolor": "white",
            "gridwidth": 2,
            "linecolor": "white",
            "showbackground": true,
            "showgrid": true,
            "ticks": "",
            "zerolinecolor": "white"
           },
           "zaxis": {
            "backgroundcolor": "rgb(234,234,242)",
            "gridcolor": "white",
            "gridwidth": 2,
            "linecolor": "white",
            "showbackground": true,
            "showgrid": true,
            "ticks": "",
            "zerolinecolor": "white"
           }
          },
          "shapedefaults": {
           "fillcolor": "rgb(67,103,167)",
           "line": {
            "width": 0
           },
           "opacity": 0.5
          },
          "ternary": {
           "aaxis": {
            "gridcolor": "white",
            "linecolor": "white",
            "showgrid": true,
            "ticks": ""
           },
           "baxis": {
            "gridcolor": "white",
            "linecolor": "white",
            "showgrid": true,
            "ticks": ""
           },
           "bgcolor": "rgb(234,234,242)",
           "caxis": {
            "gridcolor": "white",
            "linecolor": "white",
            "showgrid": true,
            "ticks": ""
           }
          },
          "xaxis": {
           "automargin": true,
           "gridcolor": "white",
           "linecolor": "white",
           "showgrid": true,
           "ticks": "",
           "title": {
            "standoff": 15
           },
           "zerolinecolor": "white"
          },
          "yaxis": {
           "automargin": true,
           "gridcolor": "white",
           "linecolor": "white",
           "showgrid": true,
           "ticks": "",
           "title": {
            "standoff": 15
           },
           "zerolinecolor": "white"
          }
         }
        },
        "title": {
         "text": "Training and validation of Augmented ResNet Model"
        },
        "width": 1200,
        "xaxis": {
         "anchor": "y",
         "domain": [
          0,
          0.475
         ],
         "title": {
          "text": "epochs"
         }
        },
        "xaxis2": {
         "anchor": "y2",
         "domain": [
          0.525,
          1
         ],
         "title": {
          "text": "epochs"
         }
        },
        "yaxis": {
         "anchor": "x",
         "domain": [
          0,
          1
         ],
         "title": {
          "text": "acc"
         }
        },
        "yaxis2": {
         "anchor": "x2",
         "domain": [
          0,
          1
         ],
         "title": {
          "text": "acc"
         }
        }
       }
      }
     },
     "metadata": {},
     "output_type": "display_data"
    }
   ],
   "source": [
    "from keras.models import Sequential\n",
    "resnet_data_aug = Sequential([\n",
    "    layers.RandomFlip(\"horizontal\"),\n",
    "    layers.RandomRotation(0.1),\n",
    "    layers.RandomZoom(0.2),\n",
    "    layers.GaussianNoise(0.01),\n",
    "    CustomResNet(num_classes=5)\n",
    "], name='ResNetAug')\n",
    "\n",
    "resnet_data_aug.compile(optimizer=\"adam\", loss=\"sparse_categorical_crossentropy\",  metrics=[SparseCategoricalAccuracy('acc')])\n",
    "resnet_data_aug_history = train_model(\n",
    "    resnet_data_aug,\n",
    "    train_dataset,\n",
    "    val_dataset,\n",
    "    path=model_dir,\n",
    "    epochs=50,\n",
    "    verbose=1,\n",
    "    lr_patience=5,\n",
    "    val_patience=10,\n",
    ").history\n",
    "\n",
    "print(\n",
    "    f\"Final loss: training -> {resnet_data_aug_history['loss'][-1]:.2f}, validation -> {resnet_data_aug_history['val_loss'][-1]:.2f}\"\n",
    ")\n",
    "print(\n",
    "    f\"Final accuracy: training -> {resnet_data_aug_history['acc'][-1]:.2f}, validation -> {resnet_data_aug_history['val_acc'][-1]:.2f}\"\n",
    ")\n",
    "plot_history(resnet_data_aug_history, ['loss', 'acc'], name='Augmented ResNet Model')"
   ]
  },
  {
   "cell_type": "code",
   "execution_count": 12,
   "metadata": {},
   "outputs": [
    {
     "name": "stdout",
     "output_type": "stream",
     "text": [
      "6/6 [==============================] - 0s 18ms/step - loss: 0.3095 - acc: 0.9031\n",
      "Model evaluated: Test Loss-> 0.3095219135284424, Test Accuracy -> 90.31%\n",
      "Model: \"ResNetAug\"\n",
      "_________________________________________________________________\n",
      " Layer (type)                Output Shape              Param #   \n",
      "=================================================================\n",
      " random_flip (RandomFlip)    (None, 100, 100, 3)       0         \n",
      "                                                                 \n",
      " random_rotation (RandomRot  (None, 100, 100, 3)       0         \n",
      " ation)                                                          \n",
      "                                                                 \n",
      " random_zoom (RandomZoom)    (None, 100, 100, 3)       0         \n",
      "                                                                 \n",
      " gaussian_noise (GaussianNo  (None, 100, 100, 3)       0         \n",
      " ise)                                                            \n",
      "                                                                 \n",
      " ResNet (CustomResNet)       (None, 5)                 11705333  \n",
      "                                                                 \n",
      "=================================================================\n",
      "Total params: 11705333 (44.65 MB)\n",
      "Trainable params: 11697525 (44.62 MB)\n",
      "Non-trainable params: 7808 (30.50 KB)\n",
      "_________________________________________________________________\n"
     ]
    }
   ],
   "source": [
    "test_loss, test_accuracy = resnet_data_aug.evaluate(test_dataset, batch_size=BATCH_SIZE)\n",
    "print(\n",
    "    f\"Model evaluated: Test Loss-> {test_loss}, Test Accuracy -> {test_accuracy*100:.2f}%\"\n",
    ")\n",
    "model_accuracies.append((\"AugmentedResNet\", test_accuracy))\n",
    "resnet_data_aug.summary()"
   ]
  },
  {
   "cell_type": "markdown",
   "metadata": {},
   "source": [
    "### 2.6. Custom models comparison"
   ]
  },
  {
   "cell_type": "markdown",
   "metadata": {},
   "source": [
    "In the next output we have displayed the accuracy performance of each custom model in the train and test set to analyze the overfitting behavior. "
   ]
  },
  {
   "cell_type": "code",
   "execution_count": 29,
   "metadata": {},
   "outputs": [
    {
     "data": {
      "application/vnd.plotly.v1+json": {
       "config": {
        "plotlyServerURL": "https://plot.ly"
       },
       "data": [
        {
         "marker": {
          "color": "#1F77B4",
          "size": 12,
          "symbol": "circle"
         },
         "mode": "lines+markers+text",
         "name": "train",
         "text": [
          "SimpleModel",
          "MidModel",
          "ResNet",
          "ResNetAug",
          "InceptionModel"
         ],
         "textposition": "top center",
         "type": "scatter",
         "x": [
          726277,
          1614885,
          11697525,
          11697525,
          14632725
         ],
         "xaxis": "x",
         "y": [
          0.9459530115127563,
          0.9887365698814392,
          0.9998253583908081,
          0.9295381307601929,
          0.9998253583908081
         ],
         "yaxis": "y"
        },
        {
         "marker": {
          "color": "#FF7F0E",
          "size": 12,
          "symbol": "square"
         },
         "mode": "lines+markers+text",
         "name": "test",
         "text": [
          "SimpleModel",
          "MidModel",
          "ResNet",
          "ResNetAug",
          "InceptionModel"
         ],
         "textposition": "top center",
         "type": "scatter",
         "x": [
          726277,
          1614885,
          11697525,
          11697525,
          14632725
         ],
         "xaxis": "x",
         "y": [
          0.7615230679512024,
          0.8737474679946899,
          0.8864395618438721,
          0.903139591217041,
          0.851703405380249
         ],
         "yaxis": "y"
        },
        {
         "marker": {
          "color": "#2CA02C",
          "size": 12,
          "symbol": "diamond"
         },
         "mode": "lines+markers+text",
         "name": "difference",
         "text": [
          "SimpleModel",
          "MidModel",
          "ResNet",
          "ResNetAug",
          "InceptionModel"
         ],
         "textposition": "top center",
         "type": "scatter",
         "x": [
          726277,
          1614885,
          11697525,
          11697525,
          14632725
         ],
         "xaxis": "x2",
         "y": [
          0.18442994356155396,
          0.11498910188674927,
          0.11338579654693604,
          0.026398539543151855,
          0.14812195301055908
         ],
         "yaxis": "y2"
        }
       ],
       "layout": {
        "annotations": [
         {
          "font": {
           "size": 16
          },
          "showarrow": false,
          "text": "Custom models accuracy",
          "x": 0.225,
          "xanchor": "center",
          "xref": "paper",
          "y": 1,
          "yanchor": "bottom",
          "yref": "paper"
         },
         {
          "font": {
           "size": 16
          },
          "showarrow": false,
          "text": "Overfitting comparison",
          "x": 0.775,
          "xanchor": "center",
          "xref": "paper",
          "y": 1,
          "yanchor": "bottom",
          "yref": "paper"
         }
        ],
        "height": 500,
        "margin": {
         "b": 10,
         "l": 0,
         "r": 0,
         "t": 30
        },
        "template": {
         "data": {
          "bar": [
           {
            "error_x": {
             "color": "rgb(36,36,36)"
            },
            "error_y": {
             "color": "rgb(36,36,36)"
            },
            "marker": {
             "line": {
              "color": "rgb(234,234,242)",
              "width": 0.5
             },
             "pattern": {
              "fillmode": "overlay",
              "size": 10,
              "solidity": 0.2
             }
            },
            "type": "bar"
           }
          ],
          "barpolar": [
           {
            "marker": {
             "line": {
              "color": "rgb(234,234,242)",
              "width": 0.5
             },
             "pattern": {
              "fillmode": "overlay",
              "size": 10,
              "solidity": 0.2
             }
            },
            "type": "barpolar"
           }
          ],
          "carpet": [
           {
            "aaxis": {
             "endlinecolor": "rgb(36,36,36)",
             "gridcolor": "white",
             "linecolor": "white",
             "minorgridcolor": "white",
             "startlinecolor": "rgb(36,36,36)"
            },
            "baxis": {
             "endlinecolor": "rgb(36,36,36)",
             "gridcolor": "white",
             "linecolor": "white",
             "minorgridcolor": "white",
             "startlinecolor": "rgb(36,36,36)"
            },
            "type": "carpet"
           }
          ],
          "choropleth": [
           {
            "colorbar": {
             "outlinewidth": 0,
             "tickcolor": "rgb(36,36,36)",
             "ticklen": 8,
             "ticks": "outside",
             "tickwidth": 2
            },
            "type": "choropleth"
           }
          ],
          "contour": [
           {
            "colorbar": {
             "outlinewidth": 0,
             "tickcolor": "rgb(36,36,36)",
             "ticklen": 8,
             "ticks": "outside",
             "tickwidth": 2
            },
            "colorscale": [
             [
              0,
              "rgb(2,4,25)"
             ],
             [
              0.06274509803921569,
              "rgb(24,15,41)"
             ],
             [
              0.12549019607843137,
              "rgb(47,23,57)"
             ],
             [
              0.18823529411764706,
              "rgb(71,28,72)"
             ],
             [
              0.25098039215686274,
              "rgb(97,30,82)"
             ],
             [
              0.3137254901960784,
              "rgb(123,30,89)"
             ],
             [
              0.3764705882352941,
              "rgb(150,27,91)"
             ],
             [
              0.4392156862745098,
              "rgb(177,22,88)"
             ],
             [
              0.5019607843137255,
              "rgb(203,26,79)"
             ],
             [
              0.5647058823529412,
              "rgb(223,47,67)"
             ],
             [
              0.6274509803921569,
              "rgb(236,76,61)"
             ],
             [
              0.6901960784313725,
              "rgb(242,107,73)"
             ],
             [
              0.7529411764705882,
              "rgb(244,135,95)"
             ],
             [
              0.8156862745098039,
              "rgb(245,162,122)"
             ],
             [
              0.8784313725490196,
              "rgb(246,188,153)"
             ],
             [
              0.9411764705882353,
              "rgb(247,212,187)"
             ],
             [
              1,
              "rgb(250,234,220)"
             ]
            ],
            "type": "contour"
           }
          ],
          "contourcarpet": [
           {
            "colorbar": {
             "outlinewidth": 0,
             "tickcolor": "rgb(36,36,36)",
             "ticklen": 8,
             "ticks": "outside",
             "tickwidth": 2
            },
            "type": "contourcarpet"
           }
          ],
          "heatmap": [
           {
            "colorbar": {
             "outlinewidth": 0,
             "tickcolor": "rgb(36,36,36)",
             "ticklen": 8,
             "ticks": "outside",
             "tickwidth": 2
            },
            "colorscale": [
             [
              0,
              "rgb(2,4,25)"
             ],
             [
              0.06274509803921569,
              "rgb(24,15,41)"
             ],
             [
              0.12549019607843137,
              "rgb(47,23,57)"
             ],
             [
              0.18823529411764706,
              "rgb(71,28,72)"
             ],
             [
              0.25098039215686274,
              "rgb(97,30,82)"
             ],
             [
              0.3137254901960784,
              "rgb(123,30,89)"
             ],
             [
              0.3764705882352941,
              "rgb(150,27,91)"
             ],
             [
              0.4392156862745098,
              "rgb(177,22,88)"
             ],
             [
              0.5019607843137255,
              "rgb(203,26,79)"
             ],
             [
              0.5647058823529412,
              "rgb(223,47,67)"
             ],
             [
              0.6274509803921569,
              "rgb(236,76,61)"
             ],
             [
              0.6901960784313725,
              "rgb(242,107,73)"
             ],
             [
              0.7529411764705882,
              "rgb(244,135,95)"
             ],
             [
              0.8156862745098039,
              "rgb(245,162,122)"
             ],
             [
              0.8784313725490196,
              "rgb(246,188,153)"
             ],
             [
              0.9411764705882353,
              "rgb(247,212,187)"
             ],
             [
              1,
              "rgb(250,234,220)"
             ]
            ],
            "type": "heatmap"
           }
          ],
          "heatmapgl": [
           {
            "colorbar": {
             "outlinewidth": 0,
             "tickcolor": "rgb(36,36,36)",
             "ticklen": 8,
             "ticks": "outside",
             "tickwidth": 2
            },
            "colorscale": [
             [
              0,
              "rgb(2,4,25)"
             ],
             [
              0.06274509803921569,
              "rgb(24,15,41)"
             ],
             [
              0.12549019607843137,
              "rgb(47,23,57)"
             ],
             [
              0.18823529411764706,
              "rgb(71,28,72)"
             ],
             [
              0.25098039215686274,
              "rgb(97,30,82)"
             ],
             [
              0.3137254901960784,
              "rgb(123,30,89)"
             ],
             [
              0.3764705882352941,
              "rgb(150,27,91)"
             ],
             [
              0.4392156862745098,
              "rgb(177,22,88)"
             ],
             [
              0.5019607843137255,
              "rgb(203,26,79)"
             ],
             [
              0.5647058823529412,
              "rgb(223,47,67)"
             ],
             [
              0.6274509803921569,
              "rgb(236,76,61)"
             ],
             [
              0.6901960784313725,
              "rgb(242,107,73)"
             ],
             [
              0.7529411764705882,
              "rgb(244,135,95)"
             ],
             [
              0.8156862745098039,
              "rgb(245,162,122)"
             ],
             [
              0.8784313725490196,
              "rgb(246,188,153)"
             ],
             [
              0.9411764705882353,
              "rgb(247,212,187)"
             ],
             [
              1,
              "rgb(250,234,220)"
             ]
            ],
            "type": "heatmapgl"
           }
          ],
          "histogram": [
           {
            "marker": {
             "pattern": {
              "fillmode": "overlay",
              "size": 10,
              "solidity": 0.2
             }
            },
            "type": "histogram"
           }
          ],
          "histogram2d": [
           {
            "colorbar": {
             "outlinewidth": 0,
             "tickcolor": "rgb(36,36,36)",
             "ticklen": 8,
             "ticks": "outside",
             "tickwidth": 2
            },
            "colorscale": [
             [
              0,
              "rgb(2,4,25)"
             ],
             [
              0.06274509803921569,
              "rgb(24,15,41)"
             ],
             [
              0.12549019607843137,
              "rgb(47,23,57)"
             ],
             [
              0.18823529411764706,
              "rgb(71,28,72)"
             ],
             [
              0.25098039215686274,
              "rgb(97,30,82)"
             ],
             [
              0.3137254901960784,
              "rgb(123,30,89)"
             ],
             [
              0.3764705882352941,
              "rgb(150,27,91)"
             ],
             [
              0.4392156862745098,
              "rgb(177,22,88)"
             ],
             [
              0.5019607843137255,
              "rgb(203,26,79)"
             ],
             [
              0.5647058823529412,
              "rgb(223,47,67)"
             ],
             [
              0.6274509803921569,
              "rgb(236,76,61)"
             ],
             [
              0.6901960784313725,
              "rgb(242,107,73)"
             ],
             [
              0.7529411764705882,
              "rgb(244,135,95)"
             ],
             [
              0.8156862745098039,
              "rgb(245,162,122)"
             ],
             [
              0.8784313725490196,
              "rgb(246,188,153)"
             ],
             [
              0.9411764705882353,
              "rgb(247,212,187)"
             ],
             [
              1,
              "rgb(250,234,220)"
             ]
            ],
            "type": "histogram2d"
           }
          ],
          "histogram2dcontour": [
           {
            "colorbar": {
             "outlinewidth": 0,
             "tickcolor": "rgb(36,36,36)",
             "ticklen": 8,
             "ticks": "outside",
             "tickwidth": 2
            },
            "colorscale": [
             [
              0,
              "rgb(2,4,25)"
             ],
             [
              0.06274509803921569,
              "rgb(24,15,41)"
             ],
             [
              0.12549019607843137,
              "rgb(47,23,57)"
             ],
             [
              0.18823529411764706,
              "rgb(71,28,72)"
             ],
             [
              0.25098039215686274,
              "rgb(97,30,82)"
             ],
             [
              0.3137254901960784,
              "rgb(123,30,89)"
             ],
             [
              0.3764705882352941,
              "rgb(150,27,91)"
             ],
             [
              0.4392156862745098,
              "rgb(177,22,88)"
             ],
             [
              0.5019607843137255,
              "rgb(203,26,79)"
             ],
             [
              0.5647058823529412,
              "rgb(223,47,67)"
             ],
             [
              0.6274509803921569,
              "rgb(236,76,61)"
             ],
             [
              0.6901960784313725,
              "rgb(242,107,73)"
             ],
             [
              0.7529411764705882,
              "rgb(244,135,95)"
             ],
             [
              0.8156862745098039,
              "rgb(245,162,122)"
             ],
             [
              0.8784313725490196,
              "rgb(246,188,153)"
             ],
             [
              0.9411764705882353,
              "rgb(247,212,187)"
             ],
             [
              1,
              "rgb(250,234,220)"
             ]
            ],
            "type": "histogram2dcontour"
           }
          ],
          "mesh3d": [
           {
            "colorbar": {
             "outlinewidth": 0,
             "tickcolor": "rgb(36,36,36)",
             "ticklen": 8,
             "ticks": "outside",
             "tickwidth": 2
            },
            "type": "mesh3d"
           }
          ],
          "parcoords": [
           {
            "line": {
             "colorbar": {
              "outlinewidth": 0,
              "tickcolor": "rgb(36,36,36)",
              "ticklen": 8,
              "ticks": "outside",
              "tickwidth": 2
             }
            },
            "type": "parcoords"
           }
          ],
          "pie": [
           {
            "automargin": true,
            "type": "pie"
           }
          ],
          "scatter": [
           {
            "fillpattern": {
             "fillmode": "overlay",
             "size": 10,
             "solidity": 0.2
            },
            "type": "scatter"
           }
          ],
          "scatter3d": [
           {
            "line": {
             "colorbar": {
              "outlinewidth": 0,
              "tickcolor": "rgb(36,36,36)",
              "ticklen": 8,
              "ticks": "outside",
              "tickwidth": 2
             }
            },
            "marker": {
             "colorbar": {
              "outlinewidth": 0,
              "tickcolor": "rgb(36,36,36)",
              "ticklen": 8,
              "ticks": "outside",
              "tickwidth": 2
             }
            },
            "type": "scatter3d"
           }
          ],
          "scattercarpet": [
           {
            "marker": {
             "colorbar": {
              "outlinewidth": 0,
              "tickcolor": "rgb(36,36,36)",
              "ticklen": 8,
              "ticks": "outside",
              "tickwidth": 2
             }
            },
            "type": "scattercarpet"
           }
          ],
          "scattergeo": [
           {
            "marker": {
             "colorbar": {
              "outlinewidth": 0,
              "tickcolor": "rgb(36,36,36)",
              "ticklen": 8,
              "ticks": "outside",
              "tickwidth": 2
             }
            },
            "type": "scattergeo"
           }
          ],
          "scattergl": [
           {
            "marker": {
             "colorbar": {
              "outlinewidth": 0,
              "tickcolor": "rgb(36,36,36)",
              "ticklen": 8,
              "ticks": "outside",
              "tickwidth": 2
             }
            },
            "type": "scattergl"
           }
          ],
          "scattermapbox": [
           {
            "marker": {
             "colorbar": {
              "outlinewidth": 0,
              "tickcolor": "rgb(36,36,36)",
              "ticklen": 8,
              "ticks": "outside",
              "tickwidth": 2
             }
            },
            "type": "scattermapbox"
           }
          ],
          "scatterpolar": [
           {
            "marker": {
             "colorbar": {
              "outlinewidth": 0,
              "tickcolor": "rgb(36,36,36)",
              "ticklen": 8,
              "ticks": "outside",
              "tickwidth": 2
             }
            },
            "type": "scatterpolar"
           }
          ],
          "scatterpolargl": [
           {
            "marker": {
             "colorbar": {
              "outlinewidth": 0,
              "tickcolor": "rgb(36,36,36)",
              "ticklen": 8,
              "ticks": "outside",
              "tickwidth": 2
             }
            },
            "type": "scatterpolargl"
           }
          ],
          "scatterternary": [
           {
            "marker": {
             "colorbar": {
              "outlinewidth": 0,
              "tickcolor": "rgb(36,36,36)",
              "ticklen": 8,
              "ticks": "outside",
              "tickwidth": 2
             }
            },
            "type": "scatterternary"
           }
          ],
          "surface": [
           {
            "colorbar": {
             "outlinewidth": 0,
             "tickcolor": "rgb(36,36,36)",
             "ticklen": 8,
             "ticks": "outside",
             "tickwidth": 2
            },
            "colorscale": [
             [
              0,
              "rgb(2,4,25)"
             ],
             [
              0.06274509803921569,
              "rgb(24,15,41)"
             ],
             [
              0.12549019607843137,
              "rgb(47,23,57)"
             ],
             [
              0.18823529411764706,
              "rgb(71,28,72)"
             ],
             [
              0.25098039215686274,
              "rgb(97,30,82)"
             ],
             [
              0.3137254901960784,
              "rgb(123,30,89)"
             ],
             [
              0.3764705882352941,
              "rgb(150,27,91)"
             ],
             [
              0.4392156862745098,
              "rgb(177,22,88)"
             ],
             [
              0.5019607843137255,
              "rgb(203,26,79)"
             ],
             [
              0.5647058823529412,
              "rgb(223,47,67)"
             ],
             [
              0.6274509803921569,
              "rgb(236,76,61)"
             ],
             [
              0.6901960784313725,
              "rgb(242,107,73)"
             ],
             [
              0.7529411764705882,
              "rgb(244,135,95)"
             ],
             [
              0.8156862745098039,
              "rgb(245,162,122)"
             ],
             [
              0.8784313725490196,
              "rgb(246,188,153)"
             ],
             [
              0.9411764705882353,
              "rgb(247,212,187)"
             ],
             [
              1,
              "rgb(250,234,220)"
             ]
            ],
            "type": "surface"
           }
          ],
          "table": [
           {
            "cells": {
             "fill": {
              "color": "rgb(231,231,240)"
             },
             "line": {
              "color": "white"
             }
            },
            "header": {
             "fill": {
              "color": "rgb(183,183,191)"
             },
             "line": {
              "color": "white"
             }
            },
            "type": "table"
           }
          ]
         },
         "layout": {
          "annotationdefaults": {
           "arrowcolor": "rgb(67,103,167)"
          },
          "autotypenumbers": "strict",
          "coloraxis": {
           "colorbar": {
            "outlinewidth": 0,
            "tickcolor": "rgb(36,36,36)",
            "ticklen": 8,
            "ticks": "outside",
            "tickwidth": 2
           }
          },
          "colorscale": {
           "sequential": [
            [
             0,
             "rgb(2,4,25)"
            ],
            [
             0.06274509803921569,
             "rgb(24,15,41)"
            ],
            [
             0.12549019607843137,
             "rgb(47,23,57)"
            ],
            [
             0.18823529411764706,
             "rgb(71,28,72)"
            ],
            [
             0.25098039215686274,
             "rgb(97,30,82)"
            ],
            [
             0.3137254901960784,
             "rgb(123,30,89)"
            ],
            [
             0.3764705882352941,
             "rgb(150,27,91)"
            ],
            [
             0.4392156862745098,
             "rgb(177,22,88)"
            ],
            [
             0.5019607843137255,
             "rgb(203,26,79)"
            ],
            [
             0.5647058823529412,
             "rgb(223,47,67)"
            ],
            [
             0.6274509803921569,
             "rgb(236,76,61)"
            ],
            [
             0.6901960784313725,
             "rgb(242,107,73)"
            ],
            [
             0.7529411764705882,
             "rgb(244,135,95)"
            ],
            [
             0.8156862745098039,
             "rgb(245,162,122)"
            ],
            [
             0.8784313725490196,
             "rgb(246,188,153)"
            ],
            [
             0.9411764705882353,
             "rgb(247,212,187)"
            ],
            [
             1,
             "rgb(250,234,220)"
            ]
           ],
           "sequentialminus": [
            [
             0,
             "rgb(2,4,25)"
            ],
            [
             0.06274509803921569,
             "rgb(24,15,41)"
            ],
            [
             0.12549019607843137,
             "rgb(47,23,57)"
            ],
            [
             0.18823529411764706,
             "rgb(71,28,72)"
            ],
            [
             0.25098039215686274,
             "rgb(97,30,82)"
            ],
            [
             0.3137254901960784,
             "rgb(123,30,89)"
            ],
            [
             0.3764705882352941,
             "rgb(150,27,91)"
            ],
            [
             0.4392156862745098,
             "rgb(177,22,88)"
            ],
            [
             0.5019607843137255,
             "rgb(203,26,79)"
            ],
            [
             0.5647058823529412,
             "rgb(223,47,67)"
            ],
            [
             0.6274509803921569,
             "rgb(236,76,61)"
            ],
            [
             0.6901960784313725,
             "rgb(242,107,73)"
            ],
            [
             0.7529411764705882,
             "rgb(244,135,95)"
            ],
            [
             0.8156862745098039,
             "rgb(245,162,122)"
            ],
            [
             0.8784313725490196,
             "rgb(246,188,153)"
            ],
            [
             0.9411764705882353,
             "rgb(247,212,187)"
            ],
            [
             1,
             "rgb(250,234,220)"
            ]
           ]
          },
          "colorway": [
           "rgb(76,114,176)",
           "rgb(221,132,82)",
           "rgb(85,168,104)",
           "rgb(196,78,82)",
           "rgb(129,114,179)",
           "rgb(147,120,96)",
           "rgb(218,139,195)",
           "rgb(140,140,140)",
           "rgb(204,185,116)",
           "rgb(100,181,205)"
          ],
          "font": {
           "color": "rgb(36,36,36)"
          },
          "geo": {
           "bgcolor": "white",
           "lakecolor": "white",
           "landcolor": "rgb(234,234,242)",
           "showlakes": true,
           "showland": true,
           "subunitcolor": "white"
          },
          "hoverlabel": {
           "align": "left"
          },
          "hovermode": "closest",
          "paper_bgcolor": "white",
          "plot_bgcolor": "rgb(234,234,242)",
          "polar": {
           "angularaxis": {
            "gridcolor": "white",
            "linecolor": "white",
            "showgrid": true,
            "ticks": ""
           },
           "bgcolor": "rgb(234,234,242)",
           "radialaxis": {
            "gridcolor": "white",
            "linecolor": "white",
            "showgrid": true,
            "ticks": ""
           }
          },
          "scene": {
           "xaxis": {
            "backgroundcolor": "rgb(234,234,242)",
            "gridcolor": "white",
            "gridwidth": 2,
            "linecolor": "white",
            "showbackground": true,
            "showgrid": true,
            "ticks": "",
            "zerolinecolor": "white"
           },
           "yaxis": {
            "backgroundcolor": "rgb(234,234,242)",
            "gridcolor": "white",
            "gridwidth": 2,
            "linecolor": "white",
            "showbackground": true,
            "showgrid": true,
            "ticks": "",
            "zerolinecolor": "white"
           },
           "zaxis": {
            "backgroundcolor": "rgb(234,234,242)",
            "gridcolor": "white",
            "gridwidth": 2,
            "linecolor": "white",
            "showbackground": true,
            "showgrid": true,
            "ticks": "",
            "zerolinecolor": "white"
           }
          },
          "shapedefaults": {
           "fillcolor": "rgb(67,103,167)",
           "line": {
            "width": 0
           },
           "opacity": 0.5
          },
          "ternary": {
           "aaxis": {
            "gridcolor": "white",
            "linecolor": "white",
            "showgrid": true,
            "ticks": ""
           },
           "baxis": {
            "gridcolor": "white",
            "linecolor": "white",
            "showgrid": true,
            "ticks": ""
           },
           "bgcolor": "rgb(234,234,242)",
           "caxis": {
            "gridcolor": "white",
            "linecolor": "white",
            "showgrid": true,
            "ticks": ""
           }
          },
          "xaxis": {
           "automargin": true,
           "gridcolor": "white",
           "linecolor": "white",
           "showgrid": true,
           "ticks": "",
           "title": {
            "standoff": 15
           },
           "zerolinecolor": "white"
          },
          "yaxis": {
           "automargin": true,
           "gridcolor": "white",
           "linecolor": "white",
           "showgrid": true,
           "ticks": "",
           "title": {
            "standoff": 15
           },
           "zerolinecolor": "white"
          }
         }
        },
        "width": 1500,
        "xaxis": {
         "anchor": "y",
         "domain": [
          0,
          0.45
         ],
         "range": [
          -1000000,
          16827633.75
         ],
         "title": {
          "text": "#params"
         }
        },
        "xaxis2": {
         "anchor": "y2",
         "domain": [
          0.55,
          1
         ],
         "title": {
          "text": "#params"
         }
        },
        "yaxis": {
         "anchor": "x",
         "domain": [
          0,
          1
         ],
         "range": [
          0.7,
          1.05
         ],
         "title": {
          "text": "acc"
         }
        },
        "yaxis2": {
         "anchor": "x2",
         "domain": [
          0,
          1
         ],
         "title": {
          "text": "acc"
         }
        }
       }
      }
     },
     "metadata": {},
     "output_type": "display_data"
    }
   ],
   "source": [
    "models = [simple_model, mid_model, inception, resnet, resnet_data_aug]\n",
    "comparison(models, (train_dataset, test_dataset))"
   ]
  },
  {
   "cell_type": "markdown",
   "metadata": {},
   "source": [
    "The left figure shows each model performance in the train (blue) and test (orange) sets. We see that for all models the performance is considerably better in the train set (99%) than in the evaluation samples (75-85%), proving the network is learning the train set characteristics instead of generalizing image information for the given task. The right figure shows the disadvantage of using larger networks with more complex connections (Inception), inducing a higher difference between the train and test set. Additionally, we see the impact of regularizing the network via data augmentation (ResNetAug). The result is the smaller difference between the train and test set."
   ]
  },
  {
   "cell_type": "code",
   "execution_count": 30,
   "metadata": {},
   "outputs": [
    {
     "data": {
      "image/png": "[encoded data removed]",
      "text/plain": [
       "<Figure size 640x480 with 1 Axes>"
      ]
     },
     "metadata": {},
     "output_type": "display_data"
    }
   ],
   "source": [
    "fig, ax = plt.subplots()\n",
    "models = [name for name, _ in model_accuracies]\n",
    "accuracies = [accuracy for _, accuracy in model_accuracies]\n",
    "bar_colors = [\"tab:green\", \"tab:orange\", \"tab:red\", \"tab:blue\", 'tab:pink']\n",
    "ax.bar(models, accuracies, label=models, color=bar_colors)\n",
    "\n",
    "ax.set_ylabel(\"Test Accuracy\")\n",
    "ax.set_title(\"Test accuracy in CNN Models\")\n",
    "plt.show()"
   ]
  },
  {
   "cell_type": "markdown",
   "metadata": {},
   "source": [
    "## Exercise 3. Pretrained models\n",
    "\n",
    "For this exercise we conducted experiments with three pretrained models available in the [Keras Applications website](https://keras.io/api/applications/) pretrained with ImageNet dataset: [ResNet-50](https://keras.io/api/applications/resnet/#resnet50v2-function) ([He et al., 2016](https://aruexiv.org/abs/1603.05027)), [MobileNet-V2](https://keras.io/api/applications/mobilenet/#mobilenetv2-function) ([Sandler et al.,, 2018](https://arxiv.org/abs/1801.04381)) and [EfficientNet-B0](https://keras.io/api/applications/efficientnet/#efficientnetb0-function) ([Tan & Le, 2019](https://arxiv.org/abs/1905.11946)). Our first approach uses transfer learning, using the pretrained models to use that previous knowledge. The second round is fine-tuning, where we train the model with the feature-extractor freezed, to train the top (classifier) and then do a little round of epochs with very low learning rate with the pretrained model unfreezed to adapt its weights to our dataset. The last approaches explores defreezing only the last 10 layers of each architecture to test if maintaining a large ratio of trainable weights does not impact in the overal performance."
   ]
  },
  {
   "cell_type": "markdown",
   "metadata": {},
   "source": [
    "### 3.1. Transfer-learning\n"
   ]
  },
  {
   "cell_type": "markdown",
   "metadata": {},
   "source": [
    "\n",
    "#### ResNet-50 V2"
   ]
  },
  {
   "cell_type": "code",
   "execution_count": 4,
   "metadata": {},
   "outputs": [
    {
     "name": "stdout",
     "output_type": "stream",
     "text": [
      "Downloading data from https://storage.googleapis.com/tensorflow/keras-applications/resnet/resnet50v2_weights_tf_dim_ordering_tf_kernels_notop.h5\n",
      "94668760/94668760 [==============================] - 9s 0us/step\n",
      "Epoch 1/50\n"
     ]
    },
    {
     "name": "stderr",
     "output_type": "stream",
     "text": [
      "2024-03-05 17:46:20.102556: W external/local_tsl/tsl/framework/bfc_allocator.cc:296] Allocator (GPU_0_bfc) ran out of memory trying to allocate 2.45GiB with freed_by_count=0. The caller indicates that this is not a failure, but this may mean that there could be performance gains if more memory were available.\n",
      "2024-03-05 17:46:20.185549: W external/local_tsl/tsl/framework/bfc_allocator.cc:296] Allocator (GPU_0_bfc) ran out of memory trying to allocate 2.45GiB with freed_by_count=0. The caller indicates that this is not a failure, but this may mean that there could be performance gains if more memory were available.\n",
      "2024-03-05 17:46:28.005373: W external/local_tsl/tsl/framework/bfc_allocator.cc:296] Allocator (GPU_0_bfc) ran out of memory trying to allocate 1012.74MiB with freed_by_count=0. The caller indicates that this is not a failure, but this may mean that there could be performance gains if more memory were available.\n",
      "2024-03-05 17:46:28.075416: W external/local_tsl/tsl/framework/bfc_allocator.cc:296] Allocator (GPU_0_bfc) ran out of memory trying to allocate 1012.74MiB with freed_by_count=0. The caller indicates that this is not a failure, but this may mean that there could be performance gains if more memory were available.\n"
     ]
    },
    {
     "name": "stdout",
     "output_type": "stream",
     "text": [
      " 8/45 [====>.........................] - ETA: 12s - loss: 1.3327 - acc: 0.6080"
     ]
    },
    {
     "name": "stderr",
     "output_type": "stream",
     "text": [
      "2024-03-05 17:46:51.336758: W external/local_tsl/tsl/framework/bfc_allocator.cc:485] Allocator (GPU_0_bfc) ran out of memory trying to allocate 250.00MiB (rounded to 262144512)requested by op \n",
      "2024-03-05 17:46:51.336939: I external/local_tsl/tsl/framework/bfc_allocator.cc:1039] BFCAllocator dump for GPU_0_bfc\n",
      "2024-03-05 17:46:51.336964: I external/local_tsl/tsl/framework/bfc_allocator.cc:1046] Bin (256): \tTotal Chunks: 173, Chunks in use: 170. 43.2KiB allocated for chunks. 42.5KiB in use in bin. 19.9KiB client-requested in use in bin.\n",
      "2024-03-05 17:46:51.336977: I external/local_tsl/tsl/framework/bfc_allocator.cc:1046] Bin (512): \tTotal Chunks: 81, Chunks in use: 80. 41.2KiB allocated for chunks. 40.8KiB in use in bin. 40.0KiB client-requested in use in bin.\n",
      "2024-03-05 17:46:51.336989: I external/local_tsl/tsl/framework/bfc_allocator.cc:1046] Bin (1024): \tTotal Chunks: 166, Chunks in use: 163. 169.5KiB allocated for chunks. 165.8KiB in use in bin. 163.0KiB client-requested in use in bin.\n",
      "2024-03-05 17:46:51.337001: I external/local_tsl/tsl/framework/bfc_allocator.cc:1046] Bin (2048): \tTotal Chunks: 120, Chunks in use: 117. 253.2KiB allocated for chunks. 246.8KiB in use in bin. 236.8KiB client-requested in use in bin.\n",
      "2024-03-05 17:46:51.337012: I external/local_tsl/tsl/framework/bfc_allocator.cc:1046] Bin (4096): \tTotal Chunks: 86, Chunks in use: 85. 368.2KiB allocated for chunks. 362.2KiB in use in bin. 339.1KiB client-requested in use in bin.\n",
      "2024-03-05 17:46:51.337022: I external/local_tsl/tsl/framework/bfc_allocator.cc:1046] Bin (8192): \tTotal Chunks: 42, Chunks in use: 42. 340.0KiB allocated for chunks. 340.0KiB in use in bin. 336.0KiB client-requested in use in bin.\n",
      "2024-03-05 17:46:51.337033: I external/local_tsl/tsl/framework/bfc_allocator.cc:1046] Bin (16384): \tTotal Chunks: 7, Chunks in use: 6. 130.8KiB allocated for chunks. 114.8KiB in use in bin. 106.6KiB client-requested in use in bin.\n",
      "2024-03-05 17:46:51.337043: I external/local_tsl/tsl/framework/bfc_allocator.cc:1046] Bin (32768): \tTotal Chunks: 3, Chunks in use: 3. 113.5KiB allocated for chunks. 113.5KiB in use in bin. 110.2KiB client-requested in use in bin.\n",
      "2024-03-05 17:46:51.337053: I external/local_tsl/tsl/framework/bfc_allocator.cc:1046] Bin (65536): \tTotal Chunks: 20, Chunks in use: 20. 1.41MiB allocated for chunks. 1.41MiB in use in bin. 1.27MiB client-requested in use in bin.\n",
      "2024-03-05 17:46:51.337063: I external/local_tsl/tsl/framework/bfc_allocator.cc:1046] Bin (131072): \tTotal Chunks: 12, Chunks in use: 12. 1.65MiB allocated for chunks. 1.65MiB in use in bin. 1.57MiB client-requested in use in bin.\n",
      "2024-03-05 17:46:51.337073: I external/local_tsl/tsl/framework/bfc_allocator.cc:1046] Bin (262144): \tTotal Chunks: 22, Chunks in use: 22. 5.81MiB allocated for chunks. 5.81MiB in use in bin. 5.39MiB client-requested in use in bin.\n",
      "2024-03-05 17:46:51.337083: I external/local_tsl/tsl/framework/bfc_allocator.cc:1046] Bin (524288): \tTotal Chunks: 17, Chunks in use: 17. 9.75MiB allocated for chunks. 9.75MiB in use in bin. 9.19MiB client-requested in use in bin.\n",
      "2024-03-05 17:46:51.337094: I external/local_tsl/tsl/framework/bfc_allocator.cc:1046] Bin (1048576): \tTotal Chunks: 34, Chunks in use: 34. 35.12MiB allocated for chunks. 35.12MiB in use in bin. 33.56MiB client-requested in use in bin.\n",
      "2024-03-05 17:46:51.337105: I external/local_tsl/tsl/framework/bfc_allocator.cc:1046] Bin (2097152): \tTotal Chunks: 24, Chunks in use: 24. 55.89MiB allocated for chunks. 55.89MiB in use in bin. 53.39MiB client-requested in use in bin.\n",
      "2024-03-05 17:46:51.337116: I external/local_tsl/tsl/framework/bfc_allocator.cc:1046] Bin (4194304): \tTotal Chunks: 21, Chunks in use: 21. 92.31MiB allocated for chunks. 92.31MiB in use in bin. 81.43MiB client-requested in use in bin.\n",
      "2024-03-05 17:46:51.337128: I external/local_tsl/tsl/framework/bfc_allocator.cc:1046] Bin (8388608): \tTotal Chunks: 48, Chunks in use: 48. 505.34MiB allocated for chunks. 505.34MiB in use in bin. 490.17MiB client-requested in use in bin.\n",
      "2024-03-05 17:46:51.337140: I external/local_tsl/tsl/framework/bfc_allocator.cc:1046] Bin (16777216): \tTotal Chunks: 34, Chunks in use: 34. 729.64MiB allocated for chunks. 729.64MiB in use in bin. 721.40MiB client-requested in use in bin.\n",
      "2024-03-05 17:46:51.337150: I external/local_tsl/tsl/framework/bfc_allocator.cc:1046] Bin (33554432): \tTotal Chunks: 30, Chunks in use: 29. 1.25GiB allocated for chunks. 1.22GiB in use in bin. 1.17GiB client-requested in use in bin.\n",
      "2024-03-05 17:46:51.337186: I external/local_tsl/tsl/framework/bfc_allocator.cc:1046] Bin (67108864): \tTotal Chunks: 17, Chunks in use: 17. 1.53GiB allocated for chunks. 1.53GiB in use in bin. 1.27GiB client-requested in use in bin.\n",
      "2024-03-05 17:46:51.337205: I external/local_tsl/tsl/framework/bfc_allocator.cc:1046] Bin (134217728): \tTotal Chunks: 4, Chunks in use: 3. 754.07MiB allocated for chunks. 543.97MiB in use in bin. 485.26MiB client-requested in use in bin.\n",
      "2024-03-05 17:46:51.337214: I external/local_tsl/tsl/framework/bfc_allocator.cc:1046] Bin (268435456): \tTotal Chunks: 2, Chunks in use: 2. 535.97MiB allocated for chunks. 535.97MiB in use in bin. 314.94MiB client-requested in use in bin.\n",
      "2024-03-05 17:46:51.337226: I external/local_tsl/tsl/framework/bfc_allocator.cc:1062] Bin for 250.00MiB was 128.00MiB, Chunk State: \n",
      "2024-03-05 17:46:51.337246: I external/local_tsl/tsl/framework/bfc_allocator.cc:1068]   Size: 210.09MiB | Requested Size: 1007.8KiB | in_use: 0 | bin_num: 19, prev:   Size: 125.00MiB | Requested Size: 125.00MiB | in_use: 1 | bin_num: -1, next:   Size: 64.16MiB | Requested Size: 33.17MiB | in_use: 1 | bin_num: -1\n",
      "2024-03-05 17:46:51.337253: I external/local_tsl/tsl/framework/bfc_allocator.cc:1075] Next region of size 5848956928\n",
      "2024-03-05 17:46:51.337264: I external/local_tsl/tsl/framework/bfc_allocator.cc:1095] InUse at 609200000 of size 1280 next 1\n",
      "2024-03-05 17:46:51.337273: I external/local_tsl/tsl/framework/bfc_allocator.cc:1095] InUse at 609200500 of size 256 next 2\n",
      "2024-03-05 17:46:51.337282: I external/local_tsl/tsl/framework/bfc_allocator.cc:1095] InUse at 609200600 of size 256 next 3\n",
      "2024-03-05 17:46:51.337301: I external/local_tsl/tsl/framework/bfc_allocator.cc:1095] InUse at 609200700 of size 256 next 4\n",
      "2024-03-05 17:46:51.337323: I external/local_tsl/tsl/framework/bfc_allocator.cc:1095] InUse at 609200800 of size 256 next 5\n",
      "2024-03-05 17:46:51.337338: I external/local_tsl/tsl/framework/bfc_allocator.cc:1095] InUse at 609200900 of size 256 next 6\n",
      "2024-03-05 17:46:51.337350: I external/local_tsl/tsl/framework/bfc_allocator.cc:1095] InUse at 609200a00 of size 256 next 7\n",
      "2024-03-05 17:46:51.337365: I external/local_tsl/tsl/framework/bfc_allocator.cc:1095] InUse at 609200b00 of size 256 next 8\n",
      "2024-03-05 17:46:51.337373: I external/local_tsl/tsl/framework/bfc_allocator.cc:1095] InUse at 609200c00 of size 256 next 9\n",
      "2024-03-05 17:46:51.337380: I external/local_tsl/tsl/framework/bfc_allocator.cc:1095] InUse at 609200d00 of size 256 next 10\n",
      "2024-03-05 17:46:51.337390: I external/local_tsl/tsl/framework/bfc_allocator.cc:1095] InUse at 609200e00 of size 256 next 11\n",
      "2024-03-05 17:46:51.337402: I external/local_tsl/tsl/framework/bfc_allocator.cc:1095] InUse at 609200f00 of size 256 next 12\n",
      "2024-03-05 17:46:51.337408: I external/local_tsl/tsl/framework/bfc_allocator.cc:1095] InUse at 609201000 of size 256 next 13\n",
      "2024-03-05 17:46:51.337412: I external/local_tsl/tsl/framework/bfc_allocator.cc:1095] InUse at 609201100 of size 256 next 14\n",
      "2024-03-05 17:46:51.337417: I external/local_tsl/tsl/framework/bfc_allocator.cc:1095] InUse at 609201200 of size 256 next 15\n",
      "2024-03-05 17:46:51.337425: I external/local_tsl/tsl/framework/bfc_allocator.cc:1095] InUse at 609201300 of size 256 next 16\n",
      "2024-03-05 17:46:51.337437: I external/local_tsl/tsl/framework/bfc_allocator.cc:1095] InUse at 609201400 of size 256 next 17\n",
      "2024-03-05 17:46:51.337443: I external/local_tsl/tsl/framework/bfc_allocator.cc:1095] InUse at 609201500 of size 256 next 18\n",
      "2024-03-05 17:46:51.337448: I external/local_tsl/tsl/framework/bfc_allocator.cc:1095] InUse at 609201600 of size 256 next 19\n",
      "2024-03-05 17:46:51.337452: I external/local_tsl/tsl/framework/bfc_allocator.cc:1095] InUse at 609201700 of size 256 next 20\n",
      "2024-03-05 17:46:51.337461: I external/local_tsl/tsl/framework/bfc_allocator.cc:1095] InUse at 609201800 of size 256 next 21\n",
      "2024-03-05 17:46:51.337470: I external/local_tsl/tsl/framework/bfc_allocator.cc:1095] InUse at 609201900 of size 256 next 23\n",
      "2024-03-05 17:46:51.337478: I external/local_tsl/tsl/framework/bfc_allocator.cc:1095] InUse at 609201a00 of size 256 next 24\n",
      "2024-03-05 17:46:51.337484: I external/local_tsl/tsl/framework/bfc_allocator.cc:1095] InUse at 609201b00 of size 256 next 22\n",
      "2024-03-05 17:46:51.337489: I external/local_tsl/tsl/framework/bfc_allocator.cc:1095] InUse at 609201c00 of size 256 next 29\n",
      "2024-03-05 17:46:51.337494: I external/local_tsl/tsl/framework/bfc_allocator.cc:1095] InUse at 609201d00 of size 256 next 25\n",
      "2024-03-05 17:46:51.337500: I external/local_tsl/tsl/framework/bfc_allocator.cc:1095] InUse at 609201e00 of size 256 next 28\n",
      "2024-03-05 17:46:51.337507: I external/local_tsl/tsl/framework/bfc_allocator.cc:1095] InUse at 609201f00 of size 256 next 34\n",
      "2024-03-05 17:46:51.337512: I external/local_tsl/tsl/framework/bfc_allocator.cc:1095] InUse at 609202000 of size 256 next 32\n",
      "2024-03-05 17:46:51.337517: I external/local_tsl/tsl/framework/bfc_allocator.cc:1095] InUse at 609202100 of size 5888 next 26\n",
      "2024-03-05 17:46:51.337523: I external/local_tsl/tsl/framework/bfc_allocator.cc:1095] InUse at 609203800 of size 3584 next 27\n",
      "2024-03-05 17:46:51.337531: I external/local_tsl/tsl/framework/bfc_allocator.cc:1095] InUse at 609204600 of size 3584 next 33\n",
      "2024-03-05 17:46:51.337535: I external/local_tsl/tsl/framework/bfc_allocator.cc:1095] InUse at 609205400 of size 256 next 37\n",
      "2024-03-05 17:46:51.337541: I external/local_tsl/tsl/framework/bfc_allocator.cc:1095] InUse at 609205500 of size 256 next 38\n",
      "2024-03-05 17:46:51.337548: I external/local_tsl/tsl/framework/bfc_allocator.cc:1095] InUse at 609205600 of size 143360 next 31\n",
      "2024-03-05 17:46:51.337555: I external/local_tsl/tsl/framework/bfc_allocator.cc:1095] InUse at 609228600 of size 73728 next 30\n",
      "2024-03-05 17:46:51.337560: I external/local_tsl/tsl/framework/bfc_allocator.cc:1095] InUse at 60923a600 of size 73728 next 39\n",
      "2024-03-05 17:46:51.337565: I external/local_tsl/tsl/framework/bfc_allocator.cc:1095] InUse at 60924c600 of size 256 next 40\n",
      "2024-03-05 17:46:51.337570: I external/local_tsl/tsl/framework/bfc_allocator.cc:1095] InUse at 60924c700 of size 256 next 41\n",
      "2024-03-05 17:46:51.337576: I external/local_tsl/tsl/framework/bfc_allocator.cc:1095] InUse at 60924c800 of size 5580800 next 36\n",
      "2024-03-05 17:46:51.337582: I external/local_tsl/tsl/framework/bfc_allocator.cc:1095] InUse at 60979f000 of size 2827520 next 35\n",
      "2024-03-05 17:46:51.337589: I external/local_tsl/tsl/framework/bfc_allocator.cc:1095] InUse at 609a51500 of size 2827520 next 42\n",
      "2024-03-05 17:46:51.337595: I external/local_tsl/tsl/framework/bfc_allocator.cc:1095] InUse at 609d03a00 of size 256 next 43\n",
      "2024-03-05 17:46:51.337601: I external/local_tsl/tsl/framework/bfc_allocator.cc:1095] InUse at 609d03b00 of size 256 next 44\n",
      "2024-03-05 17:46:51.337607: I external/local_tsl/tsl/framework/bfc_allocator.cc:1095] InUse at 609d03c00 of size 256 next 45\n",
      "2024-03-05 17:46:51.337613: I external/local_tsl/tsl/framework/bfc_allocator.cc:1095] InUse at 609d03d00 of size 256 next 46\n",
      "2024-03-05 17:46:51.337620: I external/local_tsl/tsl/framework/bfc_allocator.cc:1095] InUse at 609d03e00 of size 256 next 47\n",
      "2024-03-05 17:46:51.337626: I external/local_tsl/tsl/framework/bfc_allocator.cc:1095] InUse at 609d03f00 of size 256 next 48\n",
      "2024-03-05 17:46:51.337632: I external/local_tsl/tsl/framework/bfc_allocator.cc:1095] InUse at 609d04000 of size 256 next 63\n",
      "2024-03-05 17:46:51.337638: I external/local_tsl/tsl/framework/bfc_allocator.cc:1095] InUse at 609d04100 of size 256 next 64\n",
      "2024-03-05 17:46:51.337645: I external/local_tsl/tsl/framework/bfc_allocator.cc:1095] InUse at 609d04200 of size 256 next 55\n",
      "2024-03-05 17:46:51.337651: I external/local_tsl/tsl/framework/bfc_allocator.cc:1095] InUse at 609d04300 of size 256 next 56\n",
      "2024-03-05 17:46:51.337658: I external/local_tsl/tsl/framework/bfc_allocator.cc:1095] InUse at 609d04400 of size 256 next 68\n",
      "2024-03-05 17:46:51.337662: I external/local_tsl/tsl/framework/bfc_allocator.cc:1095] InUse at 609d04500 of size 256 next 66\n",
      "2024-03-05 17:46:51.337666: I external/local_tsl/tsl/framework/bfc_allocator.cc:1095] InUse at 609d04600 of size 256 next 69\n",
      "2024-03-05 17:46:51.337669: I external/local_tsl/tsl/framework/bfc_allocator.cc:1095] InUse at 609d04700 of size 256 next 70\n",
      "2024-03-05 17:46:51.337673: I external/local_tsl/tsl/framework/bfc_allocator.cc:1095] InUse at 609d04800 of size 256 next 71\n",
      "2024-03-05 17:46:51.337676: I external/local_tsl/tsl/framework/bfc_allocator.cc:1095] InUse at 609d04900 of size 256 next 52\n",
      "2024-03-05 17:46:51.337679: I external/local_tsl/tsl/framework/bfc_allocator.cc:1095] InUse at 609d04a00 of size 256 next 57\n",
      "2024-03-05 17:46:51.337683: I external/local_tsl/tsl/framework/bfc_allocator.cc:1095] InUse at 609d04b00 of size 256 next 739\n",
      "2024-03-05 17:46:51.337688: I external/local_tsl/tsl/framework/bfc_allocator.cc:1095] InUse at 609d04c00 of size 256 next 59\n",
      "2024-03-05 17:46:51.337693: I external/local_tsl/tsl/framework/bfc_allocator.cc:1095] InUse at 609d04d00 of size 256 next 73\n",
      "2024-03-05 17:46:51.337696: I external/local_tsl/tsl/framework/bfc_allocator.cc:1095] InUse at 609d04e00 of size 256 next 51\n",
      "2024-03-05 17:46:51.337702: I external/local_tsl/tsl/framework/bfc_allocator.cc:1095] InUse at 609d04f00 of size 256 next 49\n",
      "2024-03-05 17:46:51.337710: I external/local_tsl/tsl/framework/bfc_allocator.cc:1095] InUse at 609d05000 of size 1536 next 50\n",
      "2024-03-05 17:46:51.337716: I external/local_tsl/tsl/framework/bfc_allocator.cc:1095] InUse at 609d05600 of size 256 next 60\n",
      "2024-03-05 17:46:51.337722: I external/local_tsl/tsl/framework/bfc_allocator.cc:1095] InUse at 609d05700 of size 256 next 54\n",
      "2024-03-05 17:46:51.337729: I external/local_tsl/tsl/framework/bfc_allocator.cc:1095] InUse at 609d05800 of size 4096 next 227\n",
      "2024-03-05 17:46:51.337738: I external/local_tsl/tsl/framework/bfc_allocator.cc:1095] InUse at 609d06800 of size 4096 next 226\n",
      "2024-03-05 17:46:51.337744: I external/local_tsl/tsl/framework/bfc_allocator.cc:1095] InUse at 609d07800 of size 1024 next 765\n",
      "2024-03-05 17:46:51.337753: I external/local_tsl/tsl/framework/bfc_allocator.cc:1095] InUse at 609d07c00 of size 1024 next 740\n",
      "2024-03-05 17:46:51.337758: I external/local_tsl/tsl/framework/bfc_allocator.cc:1095] InUse at 609d08000 of size 1024 next 838\n",
      "2024-03-05 17:46:51.337765: I external/local_tsl/tsl/framework/bfc_allocator.cc:1095] InUse at 609d08400 of size 1024 next 741\n",
      "2024-03-05 17:46:51.337771: I external/local_tsl/tsl/framework/bfc_allocator.cc:1095] InUse at 609d08800 of size 2048 next 877\n",
      "2024-03-05 17:46:51.337779: I external/local_tsl/tsl/framework/bfc_allocator.cc:1095] InUse at 609d09000 of size 2048 next 836\n",
      "2024-03-05 17:46:51.337786: I external/local_tsl/tsl/framework/bfc_allocator.cc:1095] Free  at 609d09800 of size 1024 next 186\n",
      "2024-03-05 17:46:51.337792: I external/local_tsl/tsl/framework/bfc_allocator.cc:1095] InUse at 609d09c00 of size 1024 next 232\n",
      "2024-03-05 17:46:51.337800: I external/local_tsl/tsl/framework/bfc_allocator.cc:1095] InUse at 609d0a000 of size 1024 next 235\n",
      "2024-03-05 17:46:51.337807: I external/local_tsl/tsl/framework/bfc_allocator.cc:1095] InUse at 609d0a400 of size 1024 next 236\n",
      "2024-03-05 17:46:51.337815: I external/local_tsl/tsl/framework/bfc_allocator.cc:1095] InUse at 609d0a800 of size 256 next 775\n",
      "2024-03-05 17:46:51.337821: I external/local_tsl/tsl/framework/bfc_allocator.cc:1095] InUse at 609d0a900 of size 256 next 908\n",
      "2024-03-05 17:46:51.337828: I external/local_tsl/tsl/framework/bfc_allocator.cc:1095] InUse at 609d0aa00 of size 768 next 748\n",
      "2024-03-05 17:46:51.337834: I external/local_tsl/tsl/framework/bfc_allocator.cc:1095] InUse at 609d0ad00 of size 256 next 850\n",
      "2024-03-05 17:46:51.337841: I external/local_tsl/tsl/framework/bfc_allocator.cc:1095] InUse at 609d0ae00 of size 512 next 237\n",
      "2024-03-05 17:46:51.337848: I external/local_tsl/tsl/framework/bfc_allocator.cc:1095] InUse at 609d0b000 of size 6144 next 242\n",
      "2024-03-05 17:46:51.337855: I external/local_tsl/tsl/framework/bfc_allocator.cc:1095] InUse at 609d0c800 of size 4096 next 243\n",
      "2024-03-05 17:46:51.337862: I external/local_tsl/tsl/framework/bfc_allocator.cc:1095] InUse at 609d0d800 of size 4096 next 244\n",
      "2024-03-05 17:46:51.337869: I external/local_tsl/tsl/framework/bfc_allocator.cc:1095] InUse at 609d0e800 of size 1536 next 730\n",
      "2024-03-05 17:46:51.337873: I external/local_tsl/tsl/framework/bfc_allocator.cc:1095] InUse at 609d0ee00 of size 512 next 806\n",
      "2024-03-05 17:46:51.337876: I external/local_tsl/tsl/framework/bfc_allocator.cc:1095] InUse at 609d0f000 of size 256 next 854\n",
      "2024-03-05 17:46:51.337880: I external/local_tsl/tsl/framework/bfc_allocator.cc:1095] InUse at 609d0f100 of size 256 next 874\n",
      "2024-03-05 17:46:51.337885: I external/local_tsl/tsl/framework/bfc_allocator.cc:1095] InUse at 609d0f200 of size 256 next 875\n",
      "2024-03-05 17:46:51.337889: I external/local_tsl/tsl/framework/bfc_allocator.cc:1095] InUse at 609d0f300 of size 256 next 894\n",
      "2024-03-05 17:46:51.337892: I external/local_tsl/tsl/framework/bfc_allocator.cc:1095] InUse at 609d0f400 of size 512 next 867\n",
      "2024-03-05 17:46:51.337898: I external/local_tsl/tsl/framework/bfc_allocator.cc:1095] InUse at 609d0f600 of size 256 next 939\n",
      "2024-03-05 17:46:51.337904: I external/local_tsl/tsl/framework/bfc_allocator.cc:1095] InUse at 609d0f700 of size 256 next 134\n",
      "2024-03-05 17:46:51.337911: I external/local_tsl/tsl/framework/bfc_allocator.cc:1095] InUse at 609d0f800 of size 1024 next 795\n",
      "2024-03-05 17:46:51.337917: I external/local_tsl/tsl/framework/bfc_allocator.cc:1095] InUse at 609d0fc00 of size 1024 next 861\n",
      "2024-03-05 17:46:51.337921: I external/local_tsl/tsl/framework/bfc_allocator.cc:1095] InUse at 609d10000 of size 1024 next 202\n",
      "2024-03-05 17:46:51.337925: I external/local_tsl/tsl/framework/bfc_allocator.cc:1095] InUse at 609d10400 of size 512 next 954\n",
      "2024-03-05 17:46:51.337929: I external/local_tsl/tsl/framework/bfc_allocator.cc:1095] InUse at 609d10600 of size 512 next 247\n",
      "2024-03-05 17:46:51.337932: I external/local_tsl/tsl/framework/bfc_allocator.cc:1095] InUse at 609d10800 of size 1024 next 211\n",
      "2024-03-05 17:46:51.337935: I external/local_tsl/tsl/framework/bfc_allocator.cc:1095] InUse at 609d10c00 of size 1024 next 248\n",
      "2024-03-05 17:46:51.337941: I external/local_tsl/tsl/framework/bfc_allocator.cc:1095] InUse at 609d11000 of size 1024 next 830\n",
      "2024-03-05 17:46:51.337945: I external/local_tsl/tsl/framework/bfc_allocator.cc:1095] InUse at 609d11400 of size 512 next 912\n",
      "2024-03-05 17:46:51.337948: I external/local_tsl/tsl/framework/bfc_allocator.cc:1095] InUse at 609d11600 of size 512 next 251\n",
      "2024-03-05 17:46:51.337953: I external/local_tsl/tsl/framework/bfc_allocator.cc:1095] InUse at 609d11800 of size 1024 next 252\n",
      "2024-03-05 17:46:51.337956: I external/local_tsl/tsl/framework/bfc_allocator.cc:1095] InUse at 609d11c00 of size 1024 next 253\n",
      "2024-03-05 17:46:51.337960: I external/local_tsl/tsl/framework/bfc_allocator.cc:1095] InUse at 609d12000 of size 2048 next 257\n",
      "2024-03-05 17:46:51.337964: I external/local_tsl/tsl/framework/bfc_allocator.cc:1095] InUse at 609d12800 of size 4096 next 259\n",
      "2024-03-05 17:46:51.337968: I external/local_tsl/tsl/framework/bfc_allocator.cc:1095] InUse at 609d13800 of size 4096 next 260\n",
      "2024-03-05 17:46:51.337972: I external/local_tsl/tsl/framework/bfc_allocator.cc:1095] InUse at 609d14800 of size 4096 next 262\n",
      "2024-03-05 17:46:51.337978: I external/local_tsl/tsl/framework/bfc_allocator.cc:1095] Free  at 609d15800 of size 1792 next 734\n",
      "2024-03-05 17:46:51.337985: I external/local_tsl/tsl/framework/bfc_allocator.cc:1095] InUse at 609d15f00 of size 7936 next 65\n",
      "2024-03-05 17:46:51.337994: I external/local_tsl/tsl/framework/bfc_allocator.cc:1095] InUse at 609d17e00 of size 256 next 372\n",
      "2024-03-05 17:46:51.338001: I external/local_tsl/tsl/framework/bfc_allocator.cc:1095] InUse at 609d17f00 of size 16384 next 373\n",
      "2024-03-05 17:46:51.338013: I external/local_tsl/tsl/framework/bfc_allocator.cc:1095] InUse at 609d1bf00 of size 1024 next 61\n",
      "2024-03-05 17:46:51.338021: I external/local_tsl/tsl/framework/bfc_allocator.cc:1095] InUse at 609d1c300 of size 2048 next 146\n",
      "2024-03-05 17:46:51.338027: I external/local_tsl/tsl/framework/bfc_allocator.cc:1095] InUse at 609d1cb00 of size 4096 next 222\n",
      "2024-03-05 17:46:51.338041: I external/local_tsl/tsl/framework/bfc_allocator.cc:1095] InUse at 609d1db00 of size 1024 next 256\n",
      "2024-03-05 17:46:51.338051: I external/local_tsl/tsl/framework/bfc_allocator.cc:1095] InUse at 609d1df00 of size 1024 next 264\n",
      "2024-03-05 17:46:51.338073: I external/local_tsl/tsl/framework/bfc_allocator.cc:1095] InUse at 609d1e300 of size 1280 next 798\n",
      "2024-03-05 17:46:51.338089: I external/local_tsl/tsl/framework/bfc_allocator.cc:1095] InUse at 609d1e800 of size 768 next 266\n",
      "2024-03-05 17:46:51.338103: I external/local_tsl/tsl/framework/bfc_allocator.cc:1095] InUse at 609d1eb00 of size 1024 next 267\n",
      "2024-03-05 17:46:51.338111: I external/local_tsl/tsl/framework/bfc_allocator.cc:1095] InUse at 609d1ef00 of size 1024 next 268\n",
      "2024-03-05 17:46:51.338118: I external/local_tsl/tsl/framework/bfc_allocator.cc:1095] InUse at 609d1f300 of size 2048 next 272\n",
      "2024-03-05 17:46:51.338128: I external/local_tsl/tsl/framework/bfc_allocator.cc:1095] InUse at 609d1fb00 of size 5632 next 62\n",
      "2024-03-05 17:46:51.338137: I external/local_tsl/tsl/framework/bfc_allocator.cc:1095] InUse at 609d21100 of size 256 next 67\n",
      "2024-03-05 17:46:51.338146: I external/local_tsl/tsl/framework/bfc_allocator.cc:1095] InUse at 609d21200 of size 256 next 53\n",
      "2024-03-05 17:46:51.338155: I external/local_tsl/tsl/framework/bfc_allocator.cc:1095] InUse at 609d21300 of size 256 next 75\n",
      "2024-03-05 17:46:51.338186: I external/local_tsl/tsl/framework/bfc_allocator.cc:1095] InUse at 609d21400 of size 256 next 948\n",
      "2024-03-05 17:46:51.338196: I external/local_tsl/tsl/framework/bfc_allocator.cc:1095] InUse at 609d21500 of size 256 next 74\n",
      "2024-03-05 17:46:51.338203: I external/local_tsl/tsl/framework/bfc_allocator.cc:1095] InUse at 609d21600 of size 256 next 77\n",
      "2024-03-05 17:46:51.338212: I external/local_tsl/tsl/framework/bfc_allocator.cc:1095] InUse at 609d21700 of size 256 next 79\n",
      "2024-03-05 17:46:51.338220: I external/local_tsl/tsl/framework/bfc_allocator.cc:1095] InUse at 609d21800 of size 256 next 80\n",
      "2024-03-05 17:46:51.338228: I external/local_tsl/tsl/framework/bfc_allocator.cc:1095] InUse at 609d21900 of size 256 next 83\n",
      "2024-03-05 17:46:51.338235: I external/local_tsl/tsl/framework/bfc_allocator.cc:1095] InUse at 609d21a00 of size 256 next 847\n",
      "2024-03-05 17:46:51.338243: I external/local_tsl/tsl/framework/bfc_allocator.cc:1095] InUse at 609d21b00 of size 256 next 82\n",
      "2024-03-05 17:46:51.338250: I external/local_tsl/tsl/framework/bfc_allocator.cc:1095] InUse at 609d21c00 of size 1280 next 87\n",
      "2024-03-05 17:46:51.338259: I external/local_tsl/tsl/framework/bfc_allocator.cc:1095] InUse at 609d22100 of size 1024 next 88\n",
      "2024-03-05 17:46:51.338267: I external/local_tsl/tsl/framework/bfc_allocator.cc:1095] InUse at 609d22500 of size 256 next 774\n",
      "2024-03-05 17:46:51.338274: I external/local_tsl/tsl/framework/bfc_allocator.cc:1095] InUse at 609d22600 of size 256 next 957\n",
      "2024-03-05 17:46:51.338283: I external/local_tsl/tsl/framework/bfc_allocator.cc:1095] InUse at 609d22700 of size 256 next 736\n",
      "2024-03-05 17:46:51.338292: I external/local_tsl/tsl/framework/bfc_allocator.cc:1095] InUse at 609d22800 of size 256 next 759\n",
      "2024-03-05 17:46:51.338301: I external/local_tsl/tsl/framework/bfc_allocator.cc:1095] InUse at 609d22900 of size 256 next 755\n",
      "2024-03-05 17:46:51.338309: I external/local_tsl/tsl/framework/bfc_allocator.cc:1095] InUse at 609d22a00 of size 768 next 92\n",
      "2024-03-05 17:46:51.338316: I external/local_tsl/tsl/framework/bfc_allocator.cc:1095] InUse at 609d22d00 of size 256 next 86\n",
      "2024-03-05 17:46:51.338324: I external/local_tsl/tsl/framework/bfc_allocator.cc:1095] InUse at 609d22e00 of size 256 next 93\n",
      "2024-03-05 17:46:51.338331: I external/local_tsl/tsl/framework/bfc_allocator.cc:1095] InUse at 609d22f00 of size 512 next 95\n",
      "2024-03-05 17:46:51.338340: I external/local_tsl/tsl/framework/bfc_allocator.cc:1095] InUse at 609d23100 of size 256 next 97\n",
      "2024-03-05 17:46:51.338347: I external/local_tsl/tsl/framework/bfc_allocator.cc:1095] InUse at 609d23200 of size 256 next 98\n",
      "2024-03-05 17:46:51.338355: I external/local_tsl/tsl/framework/bfc_allocator.cc:1095] InUse at 609d23300 of size 256 next 881\n",
      "2024-03-05 17:46:51.338362: I external/local_tsl/tsl/framework/bfc_allocator.cc:1095] InUse at 609d23400 of size 256 next 99\n",
      "2024-03-05 17:46:51.338371: I external/local_tsl/tsl/framework/bfc_allocator.cc:1095] InUse at 609d23500 of size 1024 next 104\n",
      "2024-03-05 17:46:51.338378: I external/local_tsl/tsl/framework/bfc_allocator.cc:1095] InUse at 609d23900 of size 1024 next 105\n",
      "2024-03-05 17:46:51.338386: I external/local_tsl/tsl/framework/bfc_allocator.cc:1095] InUse at 609d23d00 of size 1024 next 106\n",
      "2024-03-05 17:46:51.338393: I external/local_tsl/tsl/framework/bfc_allocator.cc:1095] InUse at 609d24100 of size 256 next 735\n",
      "2024-03-05 17:46:51.338402: I external/local_tsl/tsl/framework/bfc_allocator.cc:1095] Free  at 609d24200 of size 256 next 744\n",
      "2024-03-05 17:46:51.338408: I external/local_tsl/tsl/framework/bfc_allocator.cc:1095] InUse at 609d24300 of size 256 next 76\n",
      "2024-03-05 17:46:51.338417: I external/local_tsl/tsl/framework/bfc_allocator.cc:1095] InUse at 609d24400 of size 256 next 923\n",
      "2024-03-05 17:46:51.338423: I external/local_tsl/tsl/framework/bfc_allocator.cc:1095] InUse at 609d24500 of size 512 next 905\n",
      "2024-03-05 17:46:51.338432: I external/local_tsl/tsl/framework/bfc_allocator.cc:1095] InUse at 609d24700 of size 512 next 108\n",
      "2024-03-05 17:46:51.338439: I external/local_tsl/tsl/framework/bfc_allocator.cc:1095] InUse at 609d24900 of size 256 next 100\n",
      "2024-03-05 17:46:51.338446: I external/local_tsl/tsl/framework/bfc_allocator.cc:1095] InUse at 609d24a00 of size 256 next 109\n",
      "2024-03-05 17:46:51.338454: I external/local_tsl/tsl/framework/bfc_allocator.cc:1095] InUse at 609d24b00 of size 512 next 111\n",
      "2024-03-05 17:46:51.338462: I external/local_tsl/tsl/framework/bfc_allocator.cc:1095] InUse at 609d24d00 of size 256 next 113\n",
      "2024-03-05 17:46:51.338471: I external/local_tsl/tsl/framework/bfc_allocator.cc:1095] InUse at 609d24e00 of size 256 next 114\n",
      "2024-03-05 17:46:51.338480: I external/local_tsl/tsl/framework/bfc_allocator.cc:1095] Free  at 609d24f00 of size 512 next 116\n",
      "2024-03-05 17:46:51.338488: I external/local_tsl/tsl/framework/bfc_allocator.cc:1095] InUse at 609d25100 of size 1024 next 120\n",
      "2024-03-05 17:46:51.338495: I external/local_tsl/tsl/framework/bfc_allocator.cc:1095] InUse at 609d25500 of size 1024 next 121\n",
      "2024-03-05 17:46:51.338503: I external/local_tsl/tsl/framework/bfc_allocator.cc:1095] InUse at 609d25900 of size 1024 next 122\n",
      "2024-03-05 17:46:51.338512: I external/local_tsl/tsl/framework/bfc_allocator.cc:1095] Free  at 609d25d00 of size 256 next 965\n",
      "2024-03-05 17:46:51.338521: I external/local_tsl/tsl/framework/bfc_allocator.cc:1095] InUse at 609d25e00 of size 256 next 779\n",
      "2024-03-05 17:46:51.338527: I external/local_tsl/tsl/framework/bfc_allocator.cc:1095] InUse at 609d25f00 of size 1536 next 125\n",
      "2024-03-05 17:46:51.338534: I external/local_tsl/tsl/framework/bfc_allocator.cc:1095] InUse at 609d26500 of size 512 next 119\n",
      "2024-03-05 17:46:51.338542: I external/local_tsl/tsl/framework/bfc_allocator.cc:1095] InUse at 609d26700 of size 512 next 126\n",
      "2024-03-05 17:46:51.338548: I external/local_tsl/tsl/framework/bfc_allocator.cc:1095] InUse at 609d26900 of size 256 next 127\n",
      "2024-03-05 17:46:51.338556: I external/local_tsl/tsl/framework/bfc_allocator.cc:1095] InUse at 609d26a00 of size 256 next 128\n",
      "2024-03-05 17:46:51.338563: I external/local_tsl/tsl/framework/bfc_allocator.cc:1095] InUse at 609d26b00 of size 2048 next 131\n",
      "2024-03-05 17:46:51.338569: I external/local_tsl/tsl/framework/bfc_allocator.cc:1095] InUse at 609d27300 of size 256 next 129\n",
      "2024-03-05 17:46:51.338577: I external/local_tsl/tsl/framework/bfc_allocator.cc:1095] InUse at 609d27400 of size 256 next 130\n",
      "2024-03-05 17:46:51.338584: I external/local_tsl/tsl/framework/bfc_allocator.cc:1095] InUse at 609d27500 of size 256 next 961\n",
      "2024-03-05 17:46:51.338591: I external/local_tsl/tsl/framework/bfc_allocator.cc:1095] InUse at 609d27600 of size 256 next 784\n",
      "2024-03-05 17:46:51.338599: I external/local_tsl/tsl/framework/bfc_allocator.cc:1095] Free  at 609d27700 of size 256 next 786\n",
      "2024-03-05 17:46:51.338606: I external/local_tsl/tsl/framework/bfc_allocator.cc:1095] InUse at 609d27800 of size 256 next 135\n",
      "2024-03-05 17:46:51.338614: I external/local_tsl/tsl/framework/bfc_allocator.cc:1095] InUse at 609d27900 of size 512 next 145\n",
      "2024-03-05 17:46:51.338624: I external/local_tsl/tsl/framework/bfc_allocator.cc:1095] InUse at 609d27b00 of size 512 next 139\n",
      "2024-03-05 17:46:51.338632: I external/local_tsl/tsl/framework/bfc_allocator.cc:1095] InUse at 609d27d00 of size 256 next 140\n",
      "2024-03-05 17:46:51.338640: I external/local_tsl/tsl/framework/bfc_allocator.cc:1095] InUse at 609d27e00 of size 256 next 141\n",
      "2024-03-05 17:46:51.338648: I external/local_tsl/tsl/framework/bfc_allocator.cc:1095] InUse at 609d27f00 of size 1024 next 143\n",
      "2024-03-05 17:46:51.338656: I external/local_tsl/tsl/framework/bfc_allocator.cc:1095] InUse at 609d28300 of size 512 next 132\n",
      "2024-03-05 17:46:51.338661: I external/local_tsl/tsl/framework/bfc_allocator.cc:1095] InUse at 609d28500 of size 512 next 147\n",
      "2024-03-05 17:46:51.338665: I external/local_tsl/tsl/framework/bfc_allocator.cc:1095] InUse at 609d28700 of size 256 next 148\n",
      "2024-03-05 17:46:51.338668: I external/local_tsl/tsl/framework/bfc_allocator.cc:1095] InUse at 609d28800 of size 256 next 149\n",
      "2024-03-05 17:46:51.338672: I external/local_tsl/tsl/framework/bfc_allocator.cc:1095] InUse at 609d28900 of size 3328 next 78\n",
      "2024-03-05 17:46:51.338676: I external/local_tsl/tsl/framework/bfc_allocator.cc:1095] InUse at 609d29600 of size 97024 next 72\n",
      "2024-03-05 17:46:51.338680: I external/local_tsl/tsl/framework/bfc_allocator.cc:1095] InUse at 609d41100 of size 2048 next 152\n",
      "2024-03-05 17:46:51.338684: I external/local_tsl/tsl/framework/bfc_allocator.cc:1095] InUse at 609d41900 of size 1024 next 793\n",
      "2024-03-05 17:46:51.338692: I external/local_tsl/tsl/framework/bfc_allocator.cc:1095] InUse at 609d41d00 of size 1024 next 796\n",
      "2024-03-05 17:46:51.338701: I external/local_tsl/tsl/framework/bfc_allocator.cc:1095] InUse at 609d42100 of size 512 next 892\n",
      "2024-03-05 17:46:51.338709: I external/local_tsl/tsl/framework/bfc_allocator.cc:1095] InUse at 609d42300 of size 512 next 947\n",
      "2024-03-05 17:46:51.338717: I external/local_tsl/tsl/framework/bfc_allocator.cc:1095] InUse at 609d42500 of size 512 next 917\n",
      "2024-03-05 17:46:51.338725: I external/local_tsl/tsl/framework/bfc_allocator.cc:1095] InUse at 609d42700 of size 512 next 151\n",
      "2024-03-05 17:46:51.338733: I external/local_tsl/tsl/framework/bfc_allocator.cc:1095] InUse at 609d42900 of size 1024 next 155\n",
      "2024-03-05 17:46:51.338741: I external/local_tsl/tsl/framework/bfc_allocator.cc:1095] InUse at 609d42d00 of size 512 next 156\n",
      "2024-03-05 17:46:51.338749: I external/local_tsl/tsl/framework/bfc_allocator.cc:1095] InUse at 609d42f00 of size 512 next 159\n",
      "2024-03-05 17:46:51.338757: I external/local_tsl/tsl/framework/bfc_allocator.cc:1095] InUse at 609d43100 of size 1024 next 160\n",
      "2024-03-05 17:46:51.338765: I external/local_tsl/tsl/framework/bfc_allocator.cc:1095] InUse at 609d43500 of size 3072 next 165\n",
      "2024-03-05 17:46:51.338774: I external/local_tsl/tsl/framework/bfc_allocator.cc:1095] InUse at 609d44100 of size 2048 next 166\n",
      "2024-03-05 17:46:51.338783: I external/local_tsl/tsl/framework/bfc_allocator.cc:1095] InUse at 609d44900 of size 2048 next 167\n",
      "2024-03-05 17:46:51.338791: I external/local_tsl/tsl/framework/bfc_allocator.cc:1095] InUse at 609d45100 of size 3072 next 168\n",
      "2024-03-05 17:46:51.338799: I external/local_tsl/tsl/framework/bfc_allocator.cc:1095] InUse at 609d45d00 of size 1024 next 170\n",
      "2024-03-05 17:46:51.338808: I external/local_tsl/tsl/framework/bfc_allocator.cc:1095] InUse at 609d46100 of size 512 next 144\n",
      "2024-03-05 17:46:51.338816: I external/local_tsl/tsl/framework/bfc_allocator.cc:1095] InUse at 609d46300 of size 512 next 171\n",
      "2024-03-05 17:46:51.338824: I external/local_tsl/tsl/framework/bfc_allocator.cc:1095] InUse at 609d46500 of size 512 next 751\n",
      "2024-03-05 17:46:51.338832: I external/local_tsl/tsl/framework/bfc_allocator.cc:1095] InUse at 609d46700 of size 256 next 738\n",
      "2024-03-05 17:46:51.338841: I external/local_tsl/tsl/framework/bfc_allocator.cc:1095] InUse at 609d46800 of size 256 next 173\n",
      "2024-03-05 17:46:51.338849: I external/local_tsl/tsl/framework/bfc_allocator.cc:1095] InUse at 609d46900 of size 512 next 133\n",
      "2024-03-05 17:46:51.338856: I external/local_tsl/tsl/framework/bfc_allocator.cc:1095] InUse at 609d46b00 of size 512 next 176\n",
      "2024-03-05 17:46:51.338862: I external/local_tsl/tsl/framework/bfc_allocator.cc:1095] InUse at 609d46d00 of size 1024 next 178\n",
      "2024-03-05 17:46:51.338867: I external/local_tsl/tsl/framework/bfc_allocator.cc:1095] InUse at 609d47100 of size 2048 next 182\n",
      "2024-03-05 17:46:51.338870: I external/local_tsl/tsl/framework/bfc_allocator.cc:1095] InUse at 609d47900 of size 2048 next 183\n",
      "2024-03-05 17:46:51.338874: I external/local_tsl/tsl/framework/bfc_allocator.cc:1095] InUse at 609d48100 of size 2048 next 184\n",
      "2024-03-05 17:46:51.338877: I external/local_tsl/tsl/framework/bfc_allocator.cc:1095] InUse at 609d48900 of size 2048 next 866\n",
      "2024-03-05 17:46:51.338881: I external/local_tsl/tsl/framework/bfc_allocator.cc:1095] InUse at 609d49100 of size 1024 next 934\n",
      "2024-03-05 17:46:51.338884: I external/local_tsl/tsl/framework/bfc_allocator.cc:1095] InUse at 609d49500 of size 1024 next 187\n",
      "2024-03-05 17:46:51.338890: I external/local_tsl/tsl/framework/bfc_allocator.cc:1095] InUse at 609d49900 of size 512 next 154\n",
      "2024-03-05 17:46:51.338900: I external/local_tsl/tsl/framework/bfc_allocator.cc:1095] InUse at 609d49b00 of size 512 next 188\n",
      "2024-03-05 17:46:51.338907: I external/local_tsl/tsl/framework/bfc_allocator.cc:1095] InUse at 609d49d00 of size 1024 next 190\n",
      "2024-03-05 17:46:51.338912: I external/local_tsl/tsl/framework/bfc_allocator.cc:1095] InUse at 609d4a100 of size 512 next 191\n",
      "2024-03-05 17:46:51.338916: I external/local_tsl/tsl/framework/bfc_allocator.cc:1095] InUse at 609d4a300 of size 512 next 192\n",
      "2024-03-05 17:46:51.338920: I external/local_tsl/tsl/framework/bfc_allocator.cc:1095] InUse at 609d4a500 of size 1024 next 194\n",
      "2024-03-05 17:46:51.338924: I external/local_tsl/tsl/framework/bfc_allocator.cc:1095] InUse at 609d4a900 of size 2048 next 198\n",
      "2024-03-05 17:46:51.338927: I external/local_tsl/tsl/framework/bfc_allocator.cc:1095] InUse at 609d4b100 of size 2048 next 199\n",
      "2024-03-05 17:46:51.338931: I external/local_tsl/tsl/framework/bfc_allocator.cc:1095] InUse at 609d4b900 of size 2048 next 200\n",
      "2024-03-05 17:46:51.338934: I external/local_tsl/tsl/framework/bfc_allocator.cc:1095] InUse at 609d4c100 of size 1024 next 832\n",
      "2024-03-05 17:46:51.338938: I external/local_tsl/tsl/framework/bfc_allocator.cc:1095] InUse at 609d4c500 of size 2048 next 834\n",
      "2024-03-05 17:46:51.338942: I external/local_tsl/tsl/framework/bfc_allocator.cc:1095] InUse at 609d4cd00 of size 1024 next 203\n",
      "2024-03-05 17:46:51.338945: I external/local_tsl/tsl/framework/bfc_allocator.cc:1095] InUse at 609d4d100 of size 1024 next 179\n",
      "2024-03-05 17:46:51.338948: I external/local_tsl/tsl/framework/bfc_allocator.cc:1095] InUse at 609d4d500 of size 1024 next 204\n",
      "2024-03-05 17:46:51.338952: I external/local_tsl/tsl/framework/bfc_allocator.cc:1095] InUse at 609d4d900 of size 256 next 205\n",
      "2024-03-05 17:46:51.338955: I external/local_tsl/tsl/framework/bfc_allocator.cc:1095] InUse at 609d4da00 of size 256 next 206\n",
      "2024-03-05 17:46:51.338959: I external/local_tsl/tsl/framework/bfc_allocator.cc:1095] InUse at 609d4db00 of size 4096 next 209\n",
      "2024-03-05 17:46:51.338962: I external/local_tsl/tsl/framework/bfc_allocator.cc:1095] InUse at 609d4eb00 of size 1024 next 837\n",
      "2024-03-05 17:46:51.338967: I external/local_tsl/tsl/framework/bfc_allocator.cc:1095] InUse at 609d4ef00 of size 1024 next 208\n",
      "2024-03-05 17:46:51.338976: I external/local_tsl/tsl/framework/bfc_allocator.cc:1095] InUse at 609d4f300 of size 1024 next 214\n",
      "2024-03-05 17:46:51.338983: I external/local_tsl/tsl/framework/bfc_allocator.cc:1095] InUse at 609d4f700 of size 1024 next 215\n",
      "2024-03-05 17:46:51.338990: I external/local_tsl/tsl/framework/bfc_allocator.cc:1095] InUse at 609d4fb00 of size 256 next 216\n",
      "2024-03-05 17:46:51.339000: I external/local_tsl/tsl/framework/bfc_allocator.cc:1095] InUse at 609d4fc00 of size 256 next 217\n",
      "2024-03-05 17:46:51.339006: I external/local_tsl/tsl/framework/bfc_allocator.cc:1095] InUse at 609d4fd00 of size 1024 next 758\n",
      "2024-03-05 17:46:51.339013: I external/local_tsl/tsl/framework/bfc_allocator.cc:1095] InUse at 609d50100 of size 1024 next 219\n",
      "2024-03-05 17:46:51.339019: I external/local_tsl/tsl/framework/bfc_allocator.cc:1095] InUse at 609d50500 of size 1024 next 210\n",
      "2024-03-05 17:46:51.339027: I external/local_tsl/tsl/framework/bfc_allocator.cc:1095] InUse at 609d50900 of size 1024 next 223\n",
      "2024-03-05 17:46:51.339034: I external/local_tsl/tsl/framework/bfc_allocator.cc:1095] InUse at 609d50d00 of size 256 next 224\n",
      "2024-03-05 17:46:51.339040: I external/local_tsl/tsl/framework/bfc_allocator.cc:1095] InUse at 609d50e00 of size 256 next 225\n",
      "2024-03-05 17:46:51.339048: I external/local_tsl/tsl/framework/bfc_allocator.cc:1095] InUse at 609d50f00 of size 256 next 312\n",
      "2024-03-05 17:46:51.339054: I external/local_tsl/tsl/framework/bfc_allocator.cc:1095] InUse at 609d51000 of size 256 next 90\n",
      "2024-03-05 17:46:51.339061: I external/local_tsl/tsl/framework/bfc_allocator.cc:1095] InUse at 609d51100 of size 65536 next 89\n",
      "2024-03-05 17:46:51.339070: I external/local_tsl/tsl/framework/bfc_allocator.cc:1095] InUse at 609d61100 of size 65536 next 96\n",
      "2024-03-05 17:46:51.339076: I external/local_tsl/tsl/framework/bfc_allocator.cc:1095] InUse at 609d71100 of size 98304 next 85\n",
      "2024-03-05 17:46:51.339084: I external/local_tsl/tsl/framework/bfc_allocator.cc:1095] InUse at 609d89100 of size 147456 next 84\n",
      "2024-03-05 17:46:51.339092: I external/local_tsl/tsl/framework/bfc_allocator.cc:1095] InUse at 609dad100 of size 65536 next 112\n",
      "2024-03-05 17:46:51.339098: I external/local_tsl/tsl/framework/bfc_allocator.cc:1095] InUse at 609dbd100 of size 2048 next 344\n",
      "2024-03-05 17:46:51.339105: I external/local_tsl/tsl/framework/bfc_allocator.cc:1095] InUse at 609dbd900 of size 2048 next 353\n",
      "2024-03-05 17:46:51.339113: I external/local_tsl/tsl/framework/bfc_allocator.cc:1095] InUse at 609dbe100 of size 1024 next 785\n",
      "2024-03-05 17:46:51.339120: I external/local_tsl/tsl/framework/bfc_allocator.cc:1095] InUse at 609dbe500 of size 1024 next 107\n",
      "2024-03-05 17:46:51.339128: I external/local_tsl/tsl/framework/bfc_allocator.cc:1095] InUse at 609dbe900 of size 2048 next 355\n",
      "2024-03-05 17:46:51.339135: I external/local_tsl/tsl/framework/bfc_allocator.cc:1095] InUse at 609dbf100 of size 2048 next 361\n",
      "2024-03-05 17:46:51.339144: I external/local_tsl/tsl/framework/bfc_allocator.cc:1095] InUse at 609dbf900 of size 2048 next 358\n",
      "2024-03-05 17:46:51.339153: I external/local_tsl/tsl/framework/bfc_allocator.cc:1095] InUse at 609dc0100 of size 1024 next 909\n",
      "2024-03-05 17:46:51.339182: I external/local_tsl/tsl/framework/bfc_allocator.cc:1095] InUse at 609dc0500 of size 1024 next 297\n",
      "2024-03-05 17:46:51.339199: I external/local_tsl/tsl/framework/bfc_allocator.cc:1095] InUse at 609dc0900 of size 1024 next 745\n",
      "2024-03-05 17:46:51.339208: I external/local_tsl/tsl/framework/bfc_allocator.cc:1095] InUse at 609dc0d00 of size 1024 next 360\n",
      "2024-03-05 17:46:51.339217: I external/local_tsl/tsl/framework/bfc_allocator.cc:1095] InUse at 609dc1100 of size 8192 next 364\n",
      "2024-03-05 17:46:51.339226: I external/local_tsl/tsl/framework/bfc_allocator.cc:1095] InUse at 609dc3100 of size 8192 next 365\n",
      "2024-03-05 17:46:51.339234: I external/local_tsl/tsl/framework/bfc_allocator.cc:1095] InUse at 609dc5100 of size 8192 next 366\n",
      "2024-03-05 17:46:51.339242: I external/local_tsl/tsl/framework/bfc_allocator.cc:1095] InUse at 609dc7100 of size 1024 next 865\n",
      "2024-03-05 17:46:51.339251: I external/local_tsl/tsl/framework/bfc_allocator.cc:1095] InUse at 609dc7500 of size 1024 next 938\n",
      "2024-03-05 17:46:51.339258: I external/local_tsl/tsl/framework/bfc_allocator.cc:1095] InUse at 609dc7900 of size 2048 next 791\n",
      "2024-03-05 17:46:51.339267: I external/local_tsl/tsl/framework/bfc_allocator.cc:1095] InUse at 609dc8100 of size 5120 next 803\n",
      "2024-03-05 17:46:51.339274: I external/local_tsl/tsl/framework/bfc_allocator.cc:1095] InUse at 609dc9500 of size 512 next 354\n",
      "2024-03-05 17:46:51.339282: I external/local_tsl/tsl/framework/bfc_allocator.cc:1095] InUse at 609dc9700 of size 512 next 932\n",
      "2024-03-05 17:46:51.339289: I external/local_tsl/tsl/framework/bfc_allocator.cc:1095] InUse at 609dc9900 of size 512 next 811\n",
      "2024-03-05 17:46:51.339298: I external/local_tsl/tsl/framework/bfc_allocator.cc:1095] InUse at 609dc9b00 of size 512 next 823\n",
      "2024-03-05 17:46:51.339304: I external/local_tsl/tsl/framework/bfc_allocator.cc:1095] InUse at 609dc9d00 of size 1024 next 871\n",
      "2024-03-05 17:46:51.339313: I external/local_tsl/tsl/framework/bfc_allocator.cc:1095] Free  at 609dca100 of size 2560 next 890\n",
      "2024-03-05 17:46:51.339320: I external/local_tsl/tsl/framework/bfc_allocator.cc:1095] InUse at 609dcab00 of size 512 next 839\n",
      "2024-03-05 17:46:51.339324: I external/local_tsl/tsl/framework/bfc_allocator.cc:1095] InUse at 609dcad00 of size 1024 next 369\n",
      "2024-03-05 17:46:51.339332: I external/local_tsl/tsl/framework/bfc_allocator.cc:1095] InUse at 609dcb100 of size 256 next 363\n",
      "2024-03-05 17:46:51.339338: I external/local_tsl/tsl/framework/bfc_allocator.cc:1095] InUse at 609dcb200 of size 256 next 357\n",
      "2024-03-05 17:46:51.339345: I external/local_tsl/tsl/framework/bfc_allocator.cc:1095] InUse at 609dcb300 of size 256 next 337\n",
      "2024-03-05 17:46:51.339352: I external/local_tsl/tsl/framework/bfc_allocator.cc:1095] InUse at 609dcb400 of size 256 next 318\n",
      "2024-03-05 17:46:51.339360: I external/local_tsl/tsl/framework/bfc_allocator.cc:1095] InUse at 609dcb500 of size 256 next 320\n",
      "2024-03-05 17:46:51.339367: I external/local_tsl/tsl/framework/bfc_allocator.cc:1095] InUse at 609dcb600 of size 256 next 123\n",
      "2024-03-05 17:46:51.339375: I external/local_tsl/tsl/framework/bfc_allocator.cc:1095] InUse at 609dcb700 of size 256 next 258\n",
      "2024-03-05 17:46:51.339382: I external/local_tsl/tsl/framework/bfc_allocator.cc:1095] InUse at 609dcb800 of size 6400 next 370\n",
      "2024-03-05 17:46:51.339391: I external/local_tsl/tsl/framework/bfc_allocator.cc:1095] InUse at 609dcd100 of size 37632 next 371\n",
      "2024-03-05 17:46:51.339400: I external/local_tsl/tsl/framework/bfc_allocator.cc:1095] InUse at 609dd6400 of size 126208 next 103\n",
      "2024-03-05 17:46:51.339407: I external/local_tsl/tsl/framework/bfc_allocator.cc:1095] InUse at 609df5100 of size 147456 next 102\n",
      "2024-03-05 17:46:51.339416: I external/local_tsl/tsl/framework/bfc_allocator.cc:1095] InUse at 609e19100 of size 4096 next 274\n",
      "2024-03-05 17:46:51.339420: I external/local_tsl/tsl/framework/bfc_allocator.cc:1095] InUse at 609e1a100 of size 4096 next 275\n",
      "2024-03-05 17:46:51.339428: I external/local_tsl/tsl/framework/bfc_allocator.cc:1095] InUse at 609e1b100 of size 6144 next 889\n",
      "2024-03-05 17:46:51.339437: I external/local_tsl/tsl/framework/bfc_allocator.cc:1095] Free  at 609e1c900 of size 2048 next 278\n",
      "2024-03-05 17:46:51.339444: I external/local_tsl/tsl/framework/bfc_allocator.cc:1095] InUse at 609e1d100 of size 1024 next 279\n",
      "2024-03-05 17:46:51.339450: I external/local_tsl/tsl/framework/bfc_allocator.cc:1095] InUse at 609e1d500 of size 1024 next 280\n",
      "2024-03-05 17:46:51.339459: I external/local_tsl/tsl/framework/bfc_allocator.cc:1095] InUse at 609e1d900 of size 2048 next 282\n",
      "2024-03-05 17:46:51.339464: I external/local_tsl/tsl/framework/bfc_allocator.cc:1095] InUse at 609e1e100 of size 1024 next 283\n",
      "2024-03-05 17:46:51.339470: I external/local_tsl/tsl/framework/bfc_allocator.cc:1095] InUse at 609e1e500 of size 1024 next 284\n",
      "2024-03-05 17:46:51.339478: I external/local_tsl/tsl/framework/bfc_allocator.cc:1095] InUse at 609e1e900 of size 512 next 943\n",
      "2024-03-05 17:46:51.339486: I external/local_tsl/tsl/framework/bfc_allocator.cc:1095] InUse at 609e1eb00 of size 512 next 91\n",
      "2024-03-05 17:46:51.339494: I external/local_tsl/tsl/framework/bfc_allocator.cc:1095] InUse at 609e1ed00 of size 512 next 931\n",
      "2024-03-05 17:46:51.339502: I external/local_tsl/tsl/framework/bfc_allocator.cc:1095] InUse at 609e1ef00 of size 512 next 288\n",
      "2024-03-05 17:46:51.339509: I external/local_tsl/tsl/framework/bfc_allocator.cc:1095] InUse at 609e1f100 of size 4096 next 270\n",
      "2024-03-05 17:46:51.339518: I external/local_tsl/tsl/framework/bfc_allocator.cc:1095] InUse at 609e20100 of size 4096 next 290\n",
      "2024-03-05 17:46:51.339525: I external/local_tsl/tsl/framework/bfc_allocator.cc:1095] InUse at 609e21100 of size 4096 next 291\n",
      "2024-03-05 17:46:51.339533: I external/local_tsl/tsl/framework/bfc_allocator.cc:1095] InUse at 609e22100 of size 512 next 942\n",
      "2024-03-05 17:46:51.339540: I external/local_tsl/tsl/framework/bfc_allocator.cc:1095] InUse at 609e22300 of size 512 next 924\n",
      "2024-03-05 17:46:51.339546: I external/local_tsl/tsl/framework/bfc_allocator.cc:1095] InUse at 609e22500 of size 512 next 313\n",
      "2024-03-05 17:46:51.339555: I external/local_tsl/tsl/framework/bfc_allocator.cc:1095] InUse at 609e22700 of size 512 next 805\n",
      "2024-03-05 17:46:51.339561: I external/local_tsl/tsl/framework/bfc_allocator.cc:1095] InUse at 609e22900 of size 1024 next 788\n",
      "2024-03-05 17:46:51.339568: I external/local_tsl/tsl/framework/bfc_allocator.cc:1095] InUse at 609e22d00 of size 3584 next 726\n",
      "2024-03-05 17:46:51.339575: I external/local_tsl/tsl/framework/bfc_allocator.cc:1095] InUse at 609e23b00 of size 1536 next 294\n",
      "2024-03-05 17:46:51.339583: I external/local_tsl/tsl/framework/bfc_allocator.cc:1095] InUse at 609e24100 of size 1024 next 292\n",
      "2024-03-05 17:46:51.339591: I external/local_tsl/tsl/framework/bfc_allocator.cc:1095] InUse at 609e24500 of size 1024 next 296\n",
      "2024-03-05 17:46:51.339598: I external/local_tsl/tsl/framework/bfc_allocator.cc:1095] InUse at 609e24900 of size 2048 next 298\n",
      "2024-03-05 17:46:51.339605: I external/local_tsl/tsl/framework/bfc_allocator.cc:1095] InUse at 609e25100 of size 1024 next 299\n",
      "2024-03-05 17:46:51.339613: I external/local_tsl/tsl/framework/bfc_allocator.cc:1095] InUse at 609e25500 of size 1024 next 300\n",
      "2024-03-05 17:46:51.339620: I external/local_tsl/tsl/framework/bfc_allocator.cc:1095] InUse at 609e25900 of size 2048 next 304\n",
      "2024-03-05 17:46:51.339628: I external/local_tsl/tsl/framework/bfc_allocator.cc:1095] InUse at 609e26100 of size 4096 next 286\n",
      "2024-03-05 17:46:51.339635: I external/local_tsl/tsl/framework/bfc_allocator.cc:1095] InUse at 609e27100 of size 4096 next 306\n",
      "2024-03-05 17:46:51.339643: I external/local_tsl/tsl/framework/bfc_allocator.cc:1095] InUse at 609e28100 of size 4096 next 307\n",
      "2024-03-05 17:46:51.339650: I external/local_tsl/tsl/framework/bfc_allocator.cc:1095] InUse at 609e29100 of size 4096 next 309\n",
      "2024-03-05 17:46:51.339656: I external/local_tsl/tsl/framework/bfc_allocator.cc:1095] InUse at 609e2a100 of size 8192 next 328\n",
      "2024-03-05 17:46:51.339661: I external/local_tsl/tsl/framework/bfc_allocator.cc:1095] InUse at 609e2c100 of size 256 next 197\n",
      "2024-03-05 17:46:51.339664: I external/local_tsl/tsl/framework/bfc_allocator.cc:1095] InUse at 609e2c200 of size 256 next 231\n",
      "2024-03-05 17:46:51.339668: I external/local_tsl/tsl/framework/bfc_allocator.cc:1095] InUse at 609e2c300 of size 256 next 138\n",
      "2024-03-05 17:46:51.339673: I external/local_tsl/tsl/framework/bfc_allocator.cc:1095] InUse at 609e2c400 of size 40960 next 376\n",
      "2024-03-05 17:46:51.339677: I external/local_tsl/tsl/framework/bfc_allocator.cc:1095] InUse at 609e36400 of size 27904 next 118\n",
      "2024-03-05 17:46:51.339681: I external/local_tsl/tsl/framework/bfc_allocator.cc:1095] InUse at 609e3d100 of size 147456 next 117\n",
      "2024-03-05 17:46:51.339687: I external/local_tsl/tsl/framework/bfc_allocator.cc:1095] InUse at 609e61100 of size 3072 next 937\n",
      "2024-03-05 17:46:51.339696: I external/local_tsl/tsl/framework/bfc_allocator.cc:1095] InUse at 609e61d00 of size 1024 next 310\n",
      "2024-03-05 17:46:51.339702: I external/local_tsl/tsl/framework/bfc_allocator.cc:1095] InUse at 609e62100 of size 2048 next 289\n",
      "2024-03-05 17:46:51.339711: I external/local_tsl/tsl/framework/bfc_allocator.cc:1095] InUse at 609e62900 of size 2048 next 311\n",
      "2024-03-05 17:46:51.339717: I external/local_tsl/tsl/framework/bfc_allocator.cc:1095] InUse at 609e63100 of size 8192 next 315\n",
      "2024-03-05 17:46:51.339725: I external/local_tsl/tsl/framework/bfc_allocator.cc:1095] InUse at 609e65100 of size 1024 next 907\n",
      "2024-03-05 17:46:51.339732: I external/local_tsl/tsl/framework/bfc_allocator.cc:1095] InUse at 609e65500 of size 1024 next 727\n",
      "2024-03-05 17:46:51.339739: I external/local_tsl/tsl/framework/bfc_allocator.cc:1095] InUse at 609e65900 of size 1024 next 94\n",
      "2024-03-05 17:46:51.339747: I external/local_tsl/tsl/framework/bfc_allocator.cc:1095] InUse at 609e65d00 of size 1024 next 314\n",
      "2024-03-05 17:46:51.339754: I external/local_tsl/tsl/framework/bfc_allocator.cc:1095] InUse at 609e66100 of size 2048 next 327\n",
      "2024-03-05 17:46:51.339762: I external/local_tsl/tsl/framework/bfc_allocator.cc:1095] InUse at 609e66900 of size 2048 next 321\n",
      "2024-03-05 17:46:51.339769: I external/local_tsl/tsl/framework/bfc_allocator.cc:1095] InUse at 609e67100 of size 256 next 322\n",
      "2024-03-05 17:46:51.339776: I external/local_tsl/tsl/framework/bfc_allocator.cc:1095] InUse at 609e67200 of size 256 next 323\n",
      "2024-03-05 17:46:51.339784: I external/local_tsl/tsl/framework/bfc_allocator.cc:1095] InUse at 609e67300 of size 2048 next 772\n",
      "2024-03-05 17:46:51.339791: I external/local_tsl/tsl/framework/bfc_allocator.cc:1095] InUse at 609e67b00 of size 1024 next 926\n",
      "2024-03-05 17:46:51.339799: I external/local_tsl/tsl/framework/bfc_allocator.cc:1095] InUse at 609e67f00 of size 1024 next 325\n",
      "2024-03-05 17:46:51.339806: I external/local_tsl/tsl/framework/bfc_allocator.cc:1095] InUse at 609e68300 of size 2048 next 316\n",
      "2024-03-05 17:46:51.339814: I external/local_tsl/tsl/framework/bfc_allocator.cc:1095] InUse at 609e68b00 of size 2048 next 329\n",
      "2024-03-05 17:46:51.339823: I external/local_tsl/tsl/framework/bfc_allocator.cc:1095] InUse at 609e69300 of size 256 next 330\n",
      "2024-03-05 17:46:51.339828: I external/local_tsl/tsl/framework/bfc_allocator.cc:1095] InUse at 609e69400 of size 256 next 331\n",
      "2024-03-05 17:46:51.339832: I external/local_tsl/tsl/framework/bfc_allocator.cc:1095] InUse at 609e69500 of size 8192 next 334\n",
      "2024-03-05 17:46:51.339838: I external/local_tsl/tsl/framework/bfc_allocator.cc:1095] InUse at 609e6b500 of size 8192 next 332\n",
      "2024-03-05 17:46:51.339846: I external/local_tsl/tsl/framework/bfc_allocator.cc:1095] InUse at 609e6d500 of size 2048 next 761\n",
      "2024-03-05 17:46:51.339855: I external/local_tsl/tsl/framework/bfc_allocator.cc:1095] InUse at 609e6dd00 of size 7168 next 157\n",
      "2024-03-05 17:46:51.339860: I external/local_tsl/tsl/framework/bfc_allocator.cc:1095] InUse at 609e6f900 of size 2048 next 810\n",
      "2024-03-05 17:46:51.339870: I external/local_tsl/tsl/framework/bfc_allocator.cc:1095] InUse at 609e70100 of size 2048 next 238\n",
      "2024-03-05 17:46:51.339875: I external/local_tsl/tsl/framework/bfc_allocator.cc:1095] InUse at 609e70900 of size 3072 next 935\n",
      "2024-03-05 17:46:51.339878: I external/local_tsl/tsl/framework/bfc_allocator.cc:1095] InUse at 609e71500 of size 3072 next 949\n",
      "2024-03-05 17:46:51.339882: I external/local_tsl/tsl/framework/bfc_allocator.cc:1095] InUse at 609e72100 of size 1024 next 338\n",
      "2024-03-05 17:46:51.339886: I external/local_tsl/tsl/framework/bfc_allocator.cc:1095] InUse at 609e72500 of size 2048 next 339\n",
      "2024-03-05 17:46:51.339890: I external/local_tsl/tsl/framework/bfc_allocator.cc:1095] InUse at 609e72d00 of size 2048 next 342\n",
      "2024-03-05 17:46:51.339894: I external/local_tsl/tsl/framework/bfc_allocator.cc:1095] InUse at 609e73500 of size 3072 next 800\n",
      "2024-03-05 17:46:51.339899: I external/local_tsl/tsl/framework/bfc_allocator.cc:1095] InUse at 609e74100 of size 1024 next 343\n",
      "2024-03-05 17:46:51.339906: I external/local_tsl/tsl/framework/bfc_allocator.cc:1095] InUse at 609e74500 of size 12288 next 348\n",
      "2024-03-05 17:46:51.339915: I external/local_tsl/tsl/framework/bfc_allocator.cc:1095] InUse at 609e77500 of size 8192 next 349\n",
      "2024-03-05 17:46:51.339923: I external/local_tsl/tsl/framework/bfc_allocator.cc:1095] InUse at 609e79500 of size 8192 next 350\n",
      "2024-03-05 17:46:51.339927: I external/local_tsl/tsl/framework/bfc_allocator.cc:1095] InUse at 609e7b500 of size 7168 next 814\n",
      "2024-03-05 17:46:51.339931: I external/local_tsl/tsl/framework/bfc_allocator.cc:1095] Free  at 609e7d100 of size 1024 next 822\n",
      "2024-03-05 17:46:51.339935: I external/local_tsl/tsl/framework/bfc_allocator.cc:1095] InUse at 609e7d500 of size 4096 next 778\n",
      "2024-03-05 17:46:51.339939: I external/local_tsl/tsl/framework/bfc_allocator.cc:1095] InUse at 609e7e500 of size 4096 next 845\n",
      "2024-03-05 17:46:51.339942: I external/local_tsl/tsl/framework/bfc_allocator.cc:1095] InUse at 609e7f500 of size 4096 next 862\n",
      "2024-03-05 17:46:51.339946: I external/local_tsl/tsl/framework/bfc_allocator.cc:1095] InUse at 609e80500 of size 3072 next 137\n",
      "2024-03-05 17:46:51.339951: I external/local_tsl/tsl/framework/bfc_allocator.cc:1095] InUse at 609e81100 of size 393216 next 153\n",
      "2024-03-05 17:46:51.339955: I external/local_tsl/tsl/framework/bfc_allocator.cc:1095] InUse at 609ee1100 of size 262144 next 169\n",
      "2024-03-05 17:46:51.339959: I external/local_tsl/tsl/framework/bfc_allocator.cc:1095] InUse at 609f21100 of size 1048576 next 241\n",
      "2024-03-05 17:46:51.339962: I external/local_tsl/tsl/framework/bfc_allocator.cc:1095] InUse at 60a021100 of size 1179648 next 174\n",
      "2024-03-05 17:46:51.339966: I external/local_tsl/tsl/framework/bfc_allocator.cc:1095] InUse at 60a141100 of size 917504 next 164\n",
      "2024-03-05 17:46:51.339970: I external/local_tsl/tsl/framework/bfc_allocator.cc:1095] InUse at 60a221100 of size 262144 next 161\n",
      "2024-03-05 17:46:51.339974: I external/local_tsl/tsl/framework/bfc_allocator.cc:1095] InUse at 60a261100 of size 327680 next 163\n",
      "2024-03-05 17:46:51.339977: I external/local_tsl/tsl/framework/bfc_allocator.cc:1095] InUse at 60a2b1100 of size 262144 next 185\n",
      "2024-03-05 17:46:51.339985: I external/local_tsl/tsl/framework/bfc_allocator.cc:1095] InUse at 60a2f1100 of size 327680 next 180\n",
      "2024-03-05 17:46:51.339995: I external/local_tsl/tsl/framework/bfc_allocator.cc:1095] InUse at 60a341100 of size 262144 next 181\n",
      "2024-03-05 17:46:51.340001: I external/local_tsl/tsl/framework/bfc_allocator.cc:1095] InUse at 60a381100 of size 589824 next 201\n",
      "2024-03-05 17:46:51.340014: I external/local_tsl/tsl/framework/bfc_allocator.cc:1095] InUse at 60a411100 of size 327680 next 196\n",
      "2024-03-05 17:46:51.340028: I external/local_tsl/tsl/framework/bfc_allocator.cc:1095] InUse at 60a461100 of size 37632 next 374\n",
      "2024-03-05 17:46:51.340039: I external/local_tsl/tsl/framework/bfc_allocator.cc:1095] InUse at 60a46a400 of size 256 next 212\n",
      "2024-03-05 17:46:51.340051: I external/local_tsl/tsl/framework/bfc_allocator.cc:1095] InUse at 60a46a500 of size 256 next 375\n",
      "2024-03-05 17:46:51.340063: I external/local_tsl/tsl/framework/bfc_allocator.cc:1095] InUse at 60a46a600 of size 256 next 377\n",
      "2024-03-05 17:46:51.340073: I external/local_tsl/tsl/framework/bfc_allocator.cc:1095] InUse at 60a46a700 of size 256 next 378\n",
      "2024-03-05 17:46:51.340091: I external/local_tsl/tsl/framework/bfc_allocator.cc:1095] InUse at 60a46a800 of size 256 next 379\n",
      "2024-03-05 17:46:51.340106: I external/local_tsl/tsl/framework/bfc_allocator.cc:1095] InUse at 60a46a900 of size 256 next 380\n",
      "2024-03-05 17:46:51.340129: I external/local_tsl/tsl/framework/bfc_allocator.cc:1095] InUse at 60a46aa00 of size 16384 next 381\n",
      "2024-03-05 17:46:51.340138: I external/local_tsl/tsl/framework/bfc_allocator.cc:1095] InUse at 60a46ea00 of size 16384 next 382\n",
      "2024-03-05 17:46:51.340143: I external/local_tsl/tsl/framework/bfc_allocator.cc:1095] InUse at 60a472a00 of size 256 next 383\n",
      "2024-03-05 17:46:51.340146: I external/local_tsl/tsl/framework/bfc_allocator.cc:1095] InUse at 60a472b00 of size 256 next 384\n",
      "2024-03-05 17:46:51.340150: I external/local_tsl/tsl/framework/bfc_allocator.cc:1095] InUse at 60a472c00 of size 256 next 385\n",
      "2024-03-05 17:46:51.340154: I external/local_tsl/tsl/framework/bfc_allocator.cc:1095] InUse at 60a472d00 of size 256 next 386\n",
      "2024-03-05 17:46:51.340157: I external/local_tsl/tsl/framework/bfc_allocator.cc:1095] InUse at 60a472e00 of size 147456 next 387\n",
      "2024-03-05 17:46:51.340163: I external/local_tsl/tsl/framework/bfc_allocator.cc:1095] InUse at 60a496e00 of size 147456 next 388\n",
      "2024-03-05 17:46:51.340198: I external/local_tsl/tsl/framework/bfc_allocator.cc:1095] InUse at 60a4bae00 of size 256 next 389\n",
      "2024-03-05 17:46:51.340224: I external/local_tsl/tsl/framework/bfc_allocator.cc:1095] InUse at 60a4baf00 of size 256 next 390\n",
      "2024-03-05 17:46:51.340238: I external/local_tsl/tsl/framework/bfc_allocator.cc:1095] InUse at 60a4bb000 of size 256 next 391\n",
      "2024-03-05 17:46:51.340245: I external/local_tsl/tsl/framework/bfc_allocator.cc:1095] InUse at 60a4bb100 of size 256 next 392\n",
      "2024-03-05 17:46:51.340253: I external/local_tsl/tsl/framework/bfc_allocator.cc:1095] InUse at 60a4bb200 of size 65536 next 393\n",
      "2024-03-05 17:46:51.340260: I external/local_tsl/tsl/framework/bfc_allocator.cc:1095] InUse at 60a4cb200 of size 65536 next 394\n",
      "2024-03-05 17:46:51.340269: I external/local_tsl/tsl/framework/bfc_allocator.cc:1095] InUse at 60a4db200 of size 1024 next 395\n",
      "2024-03-05 17:46:51.340278: I external/local_tsl/tsl/framework/bfc_allocator.cc:1095] InUse at 60a4db600 of size 1024 next 396\n",
      "2024-03-05 17:46:51.340285: I external/local_tsl/tsl/framework/bfc_allocator.cc:1095] InUse at 60a4dba00 of size 87808 next 195\n",
      "2024-03-05 17:46:51.340294: I external/local_tsl/tsl/framework/bfc_allocator.cc:1095] InUse at 60a4f1100 of size 524288 next 213\n",
      "2024-03-05 17:46:51.340301: I external/local_tsl/tsl/framework/bfc_allocator.cc:1095] InUse at 60a571100 of size 1572864 next 228\n",
      "2024-03-05 17:46:51.340312: I external/local_tsl/tsl/framework/bfc_allocator.cc:1095] InUse at 60a6f1100 of size 1048576 next 245\n",
      "2024-03-05 17:46:51.340347: I external/local_tsl/tsl/framework/bfc_allocator.cc:1095] InUse at 60a7f1100 of size 4194304 next 234\n",
      "2024-03-05 17:46:51.340366: I external/local_tsl/tsl/framework/bfc_allocator.cc:1095] InUse at 60abf1100 of size 589824 next 175\n",
      "2024-03-05 17:46:51.340374: I external/local_tsl/tsl/framework/bfc_allocator.cc:1095] InUse at 60ac81100 of size 720896 next 221\n",
      "2024-03-05 17:46:51.340381: I external/local_tsl/tsl/framework/bfc_allocator.cc:1095] InUse at 60ad31100 of size 2359296 next 220\n",
      "2024-03-05 17:46:51.340386: I external/local_tsl/tsl/framework/bfc_allocator.cc:1095] InUse at 60af71100 of size 1048576 next 250\n",
      "2024-03-05 17:46:51.340392: I external/local_tsl/tsl/framework/bfc_allocator.cc:1095] InUse at 60b071100 of size 3670016 next 240\n",
      "2024-03-05 17:46:51.340402: I external/local_tsl/tsl/framework/bfc_allocator.cc:1095] InUse at 60b3f1100 of size 2359296 next 239\n",
      "2024-03-05 17:46:51.340419: I external/local_tsl/tsl/framework/bfc_allocator.cc:1095] InUse at 60b631100 of size 1048576 next 261\n",
      "2024-03-05 17:46:51.340432: I external/local_tsl/tsl/framework/bfc_allocator.cc:1095] InUse at 60b731100 of size 3670016 next 255\n",
      "2024-03-05 17:46:51.340446: I external/local_tsl/tsl/framework/bfc_allocator.cc:1095] InUse at 60bab1100 of size 1048576 next 276\n",
      "2024-03-05 17:46:51.340458: I external/local_tsl/tsl/framework/bfc_allocator.cc:1095] InUse at 60bbb1100 of size 1310720 next 271\n",
      "2024-03-05 17:46:51.340466: I external/local_tsl/tsl/framework/bfc_allocator.cc:1095] InUse at 60bcf1100 of size 1048576 next 273\n",
      "2024-03-05 17:46:51.340474: I external/local_tsl/tsl/framework/bfc_allocator.cc:1095] InUse at 60bdf1100 of size 1048576 next 295\n",
      "2024-03-05 17:46:51.340482: I external/local_tsl/tsl/framework/bfc_allocator.cc:1095] InUse at 60bef1100 of size 6029312 next 308\n",
      "2024-03-05 17:46:51.340491: I external/local_tsl/tsl/framework/bfc_allocator.cc:1095] InUse at 60c4b1100 of size 1310720 next 303\n",
      "2024-03-05 17:46:51.340499: I external/local_tsl/tsl/framework/bfc_allocator.cc:1095] InUse at 60c5f1100 of size 1048576 next 305\n",
      "2024-03-05 17:46:51.340508: I external/local_tsl/tsl/framework/bfc_allocator.cc:1095] InUse at 60c6f1100 of size 65536 next 397\n",
      "2024-03-05 17:46:51.340517: I external/local_tsl/tsl/framework/bfc_allocator.cc:1095] InUse at 60c701100 of size 1024 next 398\n",
      "2024-03-05 17:46:51.340532: I external/local_tsl/tsl/framework/bfc_allocator.cc:1095] InUse at 60c701500 of size 1024 next 399\n",
      "2024-03-05 17:46:51.340541: I external/local_tsl/tsl/framework/bfc_allocator.cc:1095] InUse at 60c701900 of size 1024 next 400\n",
      "2024-03-05 17:46:51.340549: I external/local_tsl/tsl/framework/bfc_allocator.cc:1095] InUse at 60c701d00 of size 1024 next 401\n",
      "2024-03-05 17:46:51.340557: I external/local_tsl/tsl/framework/bfc_allocator.cc:1095] InUse at 60c702100 of size 1024 next 402\n",
      "2024-03-05 17:46:51.340564: I external/local_tsl/tsl/framework/bfc_allocator.cc:1095] InUse at 60c702500 of size 1024 next 403\n",
      "2024-03-05 17:46:51.340570: I external/local_tsl/tsl/framework/bfc_allocator.cc:1095] InUse at 60c702900 of size 65536 next 404\n",
      "2024-03-05 17:46:51.340579: I external/local_tsl/tsl/framework/bfc_allocator.cc:1095] InUse at 60c712900 of size 65536 next 405\n",
      "2024-03-05 17:46:51.340588: I external/local_tsl/tsl/framework/bfc_allocator.cc:1095] InUse at 60c722900 of size 256 next 406\n",
      "2024-03-05 17:46:51.340596: I external/local_tsl/tsl/framework/bfc_allocator.cc:1095] InUse at 60c722a00 of size 256 next 407\n",
      "2024-03-05 17:46:51.340604: I external/local_tsl/tsl/framework/bfc_allocator.cc:1095] InUse at 60c722b00 of size 256 next 408\n",
      "2024-03-05 17:46:51.340613: I external/local_tsl/tsl/framework/bfc_allocator.cc:1095] InUse at 60c722c00 of size 256 next 409\n",
      "2024-03-05 17:46:51.340622: I external/local_tsl/tsl/framework/bfc_allocator.cc:1095] InUse at 60c722d00 of size 147456 next 410\n",
      "2024-03-05 17:46:51.340638: I external/local_tsl/tsl/framework/bfc_allocator.cc:1095] InUse at 60c746d00 of size 147456 next 411\n",
      "2024-03-05 17:46:51.340650: I external/local_tsl/tsl/framework/bfc_allocator.cc:1095] InUse at 60c76ad00 of size 256 next 412\n",
      "2024-03-05 17:46:51.340659: I external/local_tsl/tsl/framework/bfc_allocator.cc:1095] InUse at 60c76ae00 of size 256 next 413\n",
      "2024-03-05 17:46:51.340666: I external/local_tsl/tsl/framework/bfc_allocator.cc:1095] InUse at 60c76af00 of size 256 next 414\n",
      "2024-03-05 17:46:51.340676: I external/local_tsl/tsl/framework/bfc_allocator.cc:1095] InUse at 60c76b000 of size 256 next 415\n",
      "2024-03-05 17:46:51.340684: I external/local_tsl/tsl/framework/bfc_allocator.cc:1095] InUse at 60c76b100 of size 65536 next 416\n",
      "2024-03-05 17:46:51.340691: I external/local_tsl/tsl/framework/bfc_allocator.cc:1095] InUse at 60c77b100 of size 65536 next 417\n",
      "2024-03-05 17:46:51.340700: I external/local_tsl/tsl/framework/bfc_allocator.cc:1095] InUse at 60c78b100 of size 1024 next 418\n",
      "2024-03-05 17:46:51.340709: I external/local_tsl/tsl/framework/bfc_allocator.cc:1095] InUse at 60c78b500 of size 1024 next 419\n",
      "2024-03-05 17:46:51.340716: I external/local_tsl/tsl/framework/bfc_allocator.cc:1095] InUse at 60c78b900 of size 1024 next 420\n",
      "2024-03-05 17:46:51.340724: I external/local_tsl/tsl/framework/bfc_allocator.cc:1095] InUse at 60c78bd00 of size 1024 next 421\n",
      "2024-03-05 17:46:51.340730: I external/local_tsl/tsl/framework/bfc_allocator.cc:1095] InUse at 60c78c100 of size 1024 next 422\n",
      "2024-03-05 17:46:51.340739: I external/local_tsl/tsl/framework/bfc_allocator.cc:1095] InUse at 60c78c500 of size 1024 next 423\n",
      "2024-03-05 17:46:51.340747: I external/local_tsl/tsl/framework/bfc_allocator.cc:1095] InUse at 60c78c900 of size 65536 next 424\n",
      "2024-03-05 17:46:51.340753: I external/local_tsl/tsl/framework/bfc_allocator.cc:1095] InUse at 60c79c900 of size 65536 next 425\n",
      "2024-03-05 17:46:51.340761: I external/local_tsl/tsl/framework/bfc_allocator.cc:1095] InUse at 60c7ac900 of size 256 next 426\n",
      "2024-03-05 17:46:51.340770: I external/local_tsl/tsl/framework/bfc_allocator.cc:1095] InUse at 60c7aca00 of size 256 next 427\n",
      "2024-03-05 17:46:51.340779: I external/local_tsl/tsl/framework/bfc_allocator.cc:1095] InUse at 60c7acb00 of size 256 next 428\n",
      "2024-03-05 17:46:51.340787: I external/local_tsl/tsl/framework/bfc_allocator.cc:1095] InUse at 60c7acc00 of size 256 next 429\n",
      "2024-03-05 17:46:51.340795: I external/local_tsl/tsl/framework/bfc_allocator.cc:1095] InUse at 60c7acd00 of size 147456 next 430\n",
      "2024-03-05 17:46:51.340801: I external/local_tsl/tsl/framework/bfc_allocator.cc:1095] InUse at 60c7d0d00 of size 147456 next 431\n",
      "2024-03-05 17:46:51.340810: I external/local_tsl/tsl/framework/bfc_allocator.cc:1095] InUse at 60c7f4d00 of size 256 next 432\n",
      "2024-03-05 17:46:51.340819: I external/local_tsl/tsl/framework/bfc_allocator.cc:1095] InUse at 60c7f4e00 of size 256 next 433\n",
      "2024-03-05 17:46:51.340827: I external/local_tsl/tsl/framework/bfc_allocator.cc:1095] InUse at 60c7f4f00 of size 256 next 434\n",
      "2024-03-05 17:46:51.340835: I external/local_tsl/tsl/framework/bfc_allocator.cc:1095] InUse at 60c7f5000 of size 256 next 435\n",
      "2024-03-05 17:46:51.340843: I external/local_tsl/tsl/framework/bfc_allocator.cc:1095] InUse at 60c7f5100 of size 65536 next 436\n",
      "2024-03-05 17:46:51.340850: I external/local_tsl/tsl/framework/bfc_allocator.cc:1095] InUse at 60c805100 of size 65536 next 437\n",
      "2024-03-05 17:46:51.340859: I external/local_tsl/tsl/framework/bfc_allocator.cc:1095] InUse at 60c815100 of size 1024 next 438\n",
      "2024-03-05 17:46:51.340867: I external/local_tsl/tsl/framework/bfc_allocator.cc:1095] InUse at 60c815500 of size 1024 next 439\n",
      "2024-03-05 17:46:51.340875: I external/local_tsl/tsl/framework/bfc_allocator.cc:1095] InUse at 60c815900 of size 1024 next 440\n",
      "2024-03-05 17:46:51.340882: I external/local_tsl/tsl/framework/bfc_allocator.cc:1095] InUse at 60c815d00 of size 1024 next 441\n",
      "2024-03-05 17:46:51.340889: I external/local_tsl/tsl/framework/bfc_allocator.cc:1095] InUse at 60c816100 of size 1024 next 442\n",
      "2024-03-05 17:46:51.340897: I external/local_tsl/tsl/framework/bfc_allocator.cc:1095] InUse at 60c816500 of size 1024 next 443\n",
      "2024-03-05 17:46:51.340905: I external/local_tsl/tsl/framework/bfc_allocator.cc:1095] InUse at 60c816900 of size 512 next 446\n",
      "2024-03-05 17:46:51.340911: I external/local_tsl/tsl/framework/bfc_allocator.cc:1095] InUse at 60c816b00 of size 512 next 447\n",
      "2024-03-05 17:46:51.340916: I external/local_tsl/tsl/framework/bfc_allocator.cc:1095] InUse at 60c816d00 of size 512 next 448\n",
      "2024-03-05 17:46:51.340924: I external/local_tsl/tsl/framework/bfc_allocator.cc:1095] InUse at 60c816f00 of size 512 next 449\n",
      "2024-03-05 17:46:51.340931: I external/local_tsl/tsl/framework/bfc_allocator.cc:1095] InUse at 60c817100 of size 512 next 452\n",
      "2024-03-05 17:46:51.340938: I external/local_tsl/tsl/framework/bfc_allocator.cc:1095] InUse at 60c817300 of size 512 next 453\n",
      "2024-03-05 17:46:51.340946: I external/local_tsl/tsl/framework/bfc_allocator.cc:1095] InUse at 60c817500 of size 512 next 454\n",
      "2024-03-05 17:46:51.340952: I external/local_tsl/tsl/framework/bfc_allocator.cc:1095] InUse at 60c817700 of size 512 next 455\n",
      "2024-03-05 17:46:51.340962: I external/local_tsl/tsl/framework/bfc_allocator.cc:1095] InUse at 60c817900 of size 2048 next 458\n",
      "2024-03-05 17:46:51.340968: I external/local_tsl/tsl/framework/bfc_allocator.cc:1095] InUse at 60c818100 of size 2048 next 459\n",
      "2024-03-05 17:46:51.340974: I external/local_tsl/tsl/framework/bfc_allocator.cc:1095] InUse at 60c818900 of size 2048 next 462\n",
      "2024-03-05 17:46:51.340982: I external/local_tsl/tsl/framework/bfc_allocator.cc:1095] InUse at 60c819100 of size 2048 next 463\n",
      "2024-03-05 17:46:51.340989: I external/local_tsl/tsl/framework/bfc_allocator.cc:1095] InUse at 60c819900 of size 2048 next 464\n",
      "2024-03-05 17:46:51.340996: I external/local_tsl/tsl/framework/bfc_allocator.cc:1095] InUse at 60c81a100 of size 2048 next 465\n",
      "2024-03-05 17:46:51.341004: I external/local_tsl/tsl/framework/bfc_allocator.cc:1095] InUse at 60c81a900 of size 2048 next 466\n",
      "2024-03-05 17:46:51.341131: I external/local_tsl/tsl/framework/bfc_allocator.cc:1095] InUse at 60c81b100 of size 2048 next 467\n",
      "2024-03-05 17:46:51.341198: I external/local_tsl/tsl/framework/bfc_allocator.cc:1095] InUse at 60c81b900 of size 512 next 470\n",
      "2024-03-05 17:46:51.341221: I external/local_tsl/tsl/framework/bfc_allocator.cc:1095] InUse at 60c81bb00 of size 512 next 471\n",
      "2024-03-05 17:46:51.341228: I external/local_tsl/tsl/framework/bfc_allocator.cc:1095] InUse at 60c81bd00 of size 512 next 472\n",
      "2024-03-05 17:46:51.341233: I external/local_tsl/tsl/framework/bfc_allocator.cc:1095] InUse at 60c81bf00 of size 512 next 473\n",
      "2024-03-05 17:46:51.341238: I external/local_tsl/tsl/framework/bfc_allocator.cc:1095] InUse at 60c81c100 of size 512 next 475\n",
      "2024-03-05 17:46:51.341243: I external/local_tsl/tsl/framework/bfc_allocator.cc:1095] InUse at 60c81c300 of size 512 next 476\n",
      "2024-03-05 17:46:51.341247: I external/local_tsl/tsl/framework/bfc_allocator.cc:1095] InUse at 60c81c500 of size 512 next 477\n",
      "2024-03-05 17:46:51.341252: I external/local_tsl/tsl/framework/bfc_allocator.cc:1095] InUse at 60c81c700 of size 512 next 478\n",
      "2024-03-05 17:46:51.341256: I external/local_tsl/tsl/framework/bfc_allocator.cc:1095] InUse at 60c81c900 of size 2048 next 481\n",
      "2024-03-05 17:46:51.341263: I external/local_tsl/tsl/framework/bfc_allocator.cc:1095] InUse at 60c81d100 of size 2048 next 482\n",
      "2024-03-05 17:46:51.341267: I external/local_tsl/tsl/framework/bfc_allocator.cc:1095] InUse at 60c81d900 of size 2048 next 483\n",
      "2024-03-05 17:46:51.341273: I external/local_tsl/tsl/framework/bfc_allocator.cc:1095] InUse at 60c81e100 of size 2048 next 484\n",
      "2024-03-05 17:46:51.341278: I external/local_tsl/tsl/framework/bfc_allocator.cc:1095] InUse at 60c81e900 of size 2048 next 485\n",
      "2024-03-05 17:46:51.341283: I external/local_tsl/tsl/framework/bfc_allocator.cc:1095] InUse at 60c81f100 of size 2048 next 486\n",
      "2024-03-05 17:46:51.341289: I external/local_tsl/tsl/framework/bfc_allocator.cc:1095] InUse at 60c81f900 of size 512 next 489\n",
      "2024-03-05 17:46:51.341295: I external/local_tsl/tsl/framework/bfc_allocator.cc:1095] InUse at 60c81fb00 of size 512 next 490\n",
      "2024-03-05 17:46:51.341301: I external/local_tsl/tsl/framework/bfc_allocator.cc:1095] InUse at 60c81fd00 of size 512 next 491\n",
      "2024-03-05 17:46:51.341305: I external/local_tsl/tsl/framework/bfc_allocator.cc:1095] InUse at 60c81ff00 of size 512 next 492\n",
      "2024-03-05 17:46:51.341309: I external/local_tsl/tsl/framework/bfc_allocator.cc:1095] InUse at 60c820100 of size 512 next 495\n",
      "2024-03-05 17:46:51.341317: I external/local_tsl/tsl/framework/bfc_allocator.cc:1095] InUse at 60c820300 of size 512 next 496\n",
      "2024-03-05 17:46:51.341329: I external/local_tsl/tsl/framework/bfc_allocator.cc:1095] InUse at 60c820500 of size 512 next 497\n",
      "2024-03-05 17:46:51.341349: I external/local_tsl/tsl/framework/bfc_allocator.cc:1095] InUse at 60c820700 of size 512 next 498\n",
      "2024-03-05 17:46:51.341372: I external/local_tsl/tsl/framework/bfc_allocator.cc:1095] InUse at 60c820900 of size 2048 next 501\n",
      "2024-03-05 17:46:51.341378: I external/local_tsl/tsl/framework/bfc_allocator.cc:1095] InUse at 60c821100 of size 2048 next 502\n",
      "2024-03-05 17:46:51.341384: I external/local_tsl/tsl/framework/bfc_allocator.cc:1095] InUse at 60c821900 of size 2048 next 503\n",
      "2024-03-05 17:46:51.341392: I external/local_tsl/tsl/framework/bfc_allocator.cc:1095] InUse at 60c822100 of size 2048 next 504\n",
      "2024-03-05 17:46:51.341401: I external/local_tsl/tsl/framework/bfc_allocator.cc:1095] InUse at 60c822900 of size 2048 next 505\n",
      "2024-03-05 17:46:51.341409: I external/local_tsl/tsl/framework/bfc_allocator.cc:1095] InUse at 60c823100 of size 2048 next 506\n",
      "2024-03-05 17:46:51.341417: I external/local_tsl/tsl/framework/bfc_allocator.cc:1095] InUse at 60c823900 of size 512 next 509\n",
      "2024-03-05 17:46:51.341426: I external/local_tsl/tsl/framework/bfc_allocator.cc:1095] InUse at 60c823b00 of size 512 next 510\n",
      "2024-03-05 17:46:51.341434: I external/local_tsl/tsl/framework/bfc_allocator.cc:1095] InUse at 60c823d00 of size 512 next 511\n",
      "2024-03-05 17:46:51.341443: I external/local_tsl/tsl/framework/bfc_allocator.cc:1095] InUse at 60c823f00 of size 512 next 512\n",
      "2024-03-05 17:46:51.341451: I external/local_tsl/tsl/framework/bfc_allocator.cc:1095] InUse at 60c824100 of size 512 next 515\n",
      "2024-03-05 17:46:51.341460: I external/local_tsl/tsl/framework/bfc_allocator.cc:1095] InUse at 60c824300 of size 512 next 516\n",
      "2024-03-05 17:46:51.341468: I external/local_tsl/tsl/framework/bfc_allocator.cc:1095] InUse at 60c824500 of size 512 next 517\n",
      "2024-03-05 17:46:51.341477: I external/local_tsl/tsl/framework/bfc_allocator.cc:1095] InUse at 60c824700 of size 512 next 518\n",
      "2024-03-05 17:46:51.341485: I external/local_tsl/tsl/framework/bfc_allocator.cc:1095] InUse at 60c824900 of size 2048 next 521\n",
      "2024-03-05 17:46:51.341494: I external/local_tsl/tsl/framework/bfc_allocator.cc:1095] InUse at 60c825100 of size 2048 next 522\n",
      "2024-03-05 17:46:51.341502: I external/local_tsl/tsl/framework/bfc_allocator.cc:1095] InUse at 60c825900 of size 2048 next 523\n",
      "2024-03-05 17:46:51.341510: I external/local_tsl/tsl/framework/bfc_allocator.cc:1095] InUse at 60c826100 of size 2048 next 524\n",
      "2024-03-05 17:46:51.341517: I external/local_tsl/tsl/framework/bfc_allocator.cc:1095] InUse at 60c826900 of size 2048 next 525\n",
      "2024-03-05 17:46:51.341525: I external/local_tsl/tsl/framework/bfc_allocator.cc:1095] InUse at 60c827100 of size 2048 next 526\n",
      "2024-03-05 17:46:51.341534: I external/local_tsl/tsl/framework/bfc_allocator.cc:1095] InUse at 60c827900 of size 1024 next 529\n",
      "2024-03-05 17:46:51.341542: I external/local_tsl/tsl/framework/bfc_allocator.cc:1095] InUse at 60c827d00 of size 1024 next 530\n",
      "2024-03-05 17:46:51.341550: I external/local_tsl/tsl/framework/bfc_allocator.cc:1095] InUse at 60c828100 of size 1024 next 531\n",
      "2024-03-05 17:46:51.341559: I external/local_tsl/tsl/framework/bfc_allocator.cc:1095] InUse at 60c828500 of size 1024 next 532\n",
      "2024-03-05 17:46:51.341568: I external/local_tsl/tsl/framework/bfc_allocator.cc:1095] InUse at 60c828900 of size 1024 next 535\n",
      "2024-03-05 17:46:51.341576: I external/local_tsl/tsl/framework/bfc_allocator.cc:1095] InUse at 60c828d00 of size 1024 next 536\n",
      "2024-03-05 17:46:51.341588: I external/local_tsl/tsl/framework/bfc_allocator.cc:1095] InUse at 60c829100 of size 1024 next 537\n",
      "2024-03-05 17:46:51.341594: I external/local_tsl/tsl/framework/bfc_allocator.cc:1095] InUse at 60c829500 of size 1024 next 538\n",
      "2024-03-05 17:46:51.341603: I external/local_tsl/tsl/framework/bfc_allocator.cc:1095] InUse at 60c829900 of size 4096 next 541\n",
      "2024-03-05 17:46:51.341611: I external/local_tsl/tsl/framework/bfc_allocator.cc:1095] InUse at 60c82a900 of size 4096 next 542\n",
      "2024-03-05 17:46:51.341620: I external/local_tsl/tsl/framework/bfc_allocator.cc:1095] InUse at 60c82b900 of size 4096 next 545\n",
      "2024-03-05 17:46:51.341628: I external/local_tsl/tsl/framework/bfc_allocator.cc:1095] InUse at 60c82c900 of size 4096 next 546\n",
      "2024-03-05 17:46:51.341636: I external/local_tsl/tsl/framework/bfc_allocator.cc:1095] InUse at 60c82d900 of size 4096 next 547\n",
      "2024-03-05 17:46:51.341642: I external/local_tsl/tsl/framework/bfc_allocator.cc:1095] InUse at 60c82e900 of size 4096 next 548\n",
      "2024-03-05 17:46:51.341651: I external/local_tsl/tsl/framework/bfc_allocator.cc:1095] InUse at 60c82f900 of size 6144 next 302\n",
      "2024-03-05 17:46:51.341662: I external/local_tsl/tsl/framework/bfc_allocator.cc:1095] InUse at 60c831100 of size 2097152 next 319\n",
      "2024-03-05 17:46:51.341671: I external/local_tsl/tsl/framework/bfc_allocator.cc:1095] InUse at 60ca31100 of size 6291456 next 335\n",
      "2024-03-05 17:46:51.341683: I external/local_tsl/tsl/framework/bfc_allocator.cc:1095] InUse at 60d031100 of size 4194304 next 352\n",
      "2024-03-05 17:46:51.341697: I external/local_tsl/tsl/framework/bfc_allocator.cc:1095] InUse at 60d431100 of size 4194304 next 317\n",
      "2024-03-05 17:46:51.341710: I external/local_tsl/tsl/framework/bfc_allocator.cc:1095] InUse at 60d831100 of size 12582912 next 341\n",
      "2024-03-05 17:46:51.341723: I external/local_tsl/tsl/framework/bfc_allocator.cc:1095] InUse at 60e431100 of size 2097152 next 287\n",
      "2024-03-05 17:46:51.341730: I external/local_tsl/tsl/framework/bfc_allocator.cc:1095] InUse at 60e631100 of size 12582912 next 326\n",
      "2024-03-05 17:46:51.341738: I external/local_tsl/tsl/framework/bfc_allocator.cc:1095] InUse at 60f231100 of size 4194304 next 356\n",
      "2024-03-05 17:46:51.341747: I external/local_tsl/tsl/framework/bfc_allocator.cc:1095] InUse at 60f631100 of size 14680064 next 347\n",
      "2024-03-05 17:46:51.341758: I external/local_tsl/tsl/framework/bfc_allocator.cc:1095] InUse at 610431100 of size 9437184 next 346\n",
      "2024-03-05 17:46:51.341766: I external/local_tsl/tsl/framework/bfc_allocator.cc:1095] InUse at 610d31100 of size 131072 next 444\n",
      "2024-03-05 17:46:51.341775: I external/local_tsl/tsl/framework/bfc_allocator.cc:1095] InUse at 610d51100 of size 131072 next 445\n",
      "2024-03-05 17:46:51.341782: I external/local_tsl/tsl/framework/bfc_allocator.cc:1095] InUse at 610d71100 of size 589824 next 450\n",
      "2024-03-05 17:46:51.341790: I external/local_tsl/tsl/framework/bfc_allocator.cc:1095] InUse at 610e01100 of size 589824 next 451\n",
      "2024-03-05 17:46:51.341799: I external/local_tsl/tsl/framework/bfc_allocator.cc:1095] InUse at 610e91100 of size 524288 next 456\n",
      "2024-03-05 17:46:51.341807: I external/local_tsl/tsl/framework/bfc_allocator.cc:1095] InUse at 610f11100 of size 524288 next 457\n",
      "2024-03-05 17:46:51.341815: I external/local_tsl/tsl/framework/bfc_allocator.cc:1095] InUse at 610f91100 of size 262144 next 460\n",
      "2024-03-05 17:46:51.341823: I external/local_tsl/tsl/framework/bfc_allocator.cc:1095] InUse at 610fd1100 of size 262144 next 461\n",
      "2024-03-05 17:46:51.341832: I external/local_tsl/tsl/framework/bfc_allocator.cc:1095] InUse at 611011100 of size 262144 next 468\n",
      "2024-03-05 17:46:51.341840: I external/local_tsl/tsl/framework/bfc_allocator.cc:1095] InUse at 611051100 of size 262144 next 469\n",
      "2024-03-05 17:46:51.341853: I external/local_tsl/tsl/framework/bfc_allocator.cc:1095] InUse at 611091100 of size 655360 next 367\n",
      "2024-03-05 17:46:51.341878: I external/local_tsl/tsl/framework/bfc_allocator.cc:1095] InUse at 611131100 of size 5242880 next 362\n",
      "2024-03-05 17:46:51.341891: I external/local_tsl/tsl/framework/bfc_allocator.cc:1095] InUse at 611631100 of size 589824 next 474\n",
      "2024-03-05 17:46:51.341900: I external/local_tsl/tsl/framework/bfc_allocator.cc:1095] InUse at 6116c1100 of size 262144 next 479\n",
      "2024-03-05 17:46:51.341908: I external/local_tsl/tsl/framework/bfc_allocator.cc:1095] InUse at 611701100 of size 262144 next 480\n",
      "2024-03-05 17:46:51.341916: I external/local_tsl/tsl/framework/bfc_allocator.cc:1095] InUse at 611741100 of size 262144 next 487\n",
      "2024-03-05 17:46:51.341924: I external/local_tsl/tsl/framework/bfc_allocator.cc:1095] InUse at 611781100 of size 262144 next 488\n",
      "2024-03-05 17:46:51.341931: I external/local_tsl/tsl/framework/bfc_allocator.cc:1095] InUse at 6117c1100 of size 589824 next 493\n",
      "2024-03-05 17:46:51.341939: I external/local_tsl/tsl/framework/bfc_allocator.cc:1095] InUse at 611851100 of size 589824 next 494\n",
      "2024-03-05 17:46:51.341947: I external/local_tsl/tsl/framework/bfc_allocator.cc:1095] InUse at 6118e1100 of size 262144 next 499\n",
      "2024-03-05 17:46:51.341956: I external/local_tsl/tsl/framework/bfc_allocator.cc:1095] InUse at 611921100 of size 262144 next 500\n",
      "2024-03-05 17:46:51.341964: I external/local_tsl/tsl/framework/bfc_allocator.cc:1095] InUse at 611961100 of size 262144 next 507\n",
      "2024-03-05 17:46:51.341972: I external/local_tsl/tsl/framework/bfc_allocator.cc:1095] InUse at 6119a1100 of size 262144 next 508\n",
      "2024-03-05 17:46:51.341985: I external/local_tsl/tsl/framework/bfc_allocator.cc:1095] InUse at 6119e1100 of size 589824 next 513\n",
      "2024-03-05 17:46:51.342009: I external/local_tsl/tsl/framework/bfc_allocator.cc:1095] InUse at 611a71100 of size 589824 next 514\n",
      "2024-03-05 17:46:51.342023: I external/local_tsl/tsl/framework/bfc_allocator.cc:1095] InUse at 611b01100 of size 262144 next 519\n",
      "2024-03-05 17:46:51.342034: I external/local_tsl/tsl/framework/bfc_allocator.cc:1095] InUse at 611b41100 of size 262144 next 520\n",
      "2024-03-05 17:46:51.342048: I external/local_tsl/tsl/framework/bfc_allocator.cc:1095] InUse at 611b81100 of size 524288 next 527\n",
      "2024-03-05 17:46:51.342059: I external/local_tsl/tsl/framework/bfc_allocator.cc:1095] InUse at 611c01100 of size 524288 next 528\n",
      "2024-03-05 17:46:51.342076: I external/local_tsl/tsl/framework/bfc_allocator.cc:1095] InUse at 611c81100 of size 2359296 next 533\n",
      "2024-03-05 17:46:51.342089: I external/local_tsl/tsl/framework/bfc_allocator.cc:1095] InUse at 611ec1100 of size 2359296 next 534\n",
      "2024-03-05 17:46:51.342101: I external/local_tsl/tsl/framework/bfc_allocator.cc:1095] InUse at 612101100 of size 2097152 next 539\n",
      "2024-03-05 17:46:51.342114: I external/local_tsl/tsl/framework/bfc_allocator.cc:1095] InUse at 612301100 of size 2097152 next 540\n",
      "2024-03-05 17:46:51.342130: I external/local_tsl/tsl/framework/bfc_allocator.cc:1095] InUse at 612501100 of size 1048576 next 543\n",
      "2024-03-05 17:46:51.342144: I external/local_tsl/tsl/framework/bfc_allocator.cc:1095] InUse at 612601100 of size 1048576 next 544\n",
      "2024-03-05 17:46:51.342205: I external/local_tsl/tsl/framework/bfc_allocator.cc:1095] InUse at 612701100 of size 4096 next 549\n",
      "2024-03-05 17:46:51.342228: I external/local_tsl/tsl/framework/bfc_allocator.cc:1095] InUse at 612702100 of size 1048576 next 550\n",
      "2024-03-05 17:46:51.342242: I external/local_tsl/tsl/framework/bfc_allocator.cc:1095] InUse at 612802100 of size 1048576 next 551\n",
      "2024-03-05 17:46:51.342255: I external/local_tsl/tsl/framework/bfc_allocator.cc:1095] InUse at 612902100 of size 1024 next 552\n",
      "2024-03-05 17:46:51.342269: I external/local_tsl/tsl/framework/bfc_allocator.cc:1095] InUse at 612902500 of size 1024 next 553\n",
      "2024-03-05 17:46:51.342284: I external/local_tsl/tsl/framework/bfc_allocator.cc:1095] InUse at 612902900 of size 1024 next 554\n",
      "2024-03-05 17:46:51.342298: I external/local_tsl/tsl/framework/bfc_allocator.cc:1095] InUse at 612902d00 of size 1024 next 555\n",
      "2024-03-05 17:46:51.342311: I external/local_tsl/tsl/framework/bfc_allocator.cc:1095] InUse at 612903100 of size 2359296 next 556\n",
      "2024-03-05 17:46:51.342325: I external/local_tsl/tsl/framework/bfc_allocator.cc:1095] InUse at 612b43100 of size 2359296 next 557\n",
      "2024-03-05 17:46:51.342339: I external/local_tsl/tsl/framework/bfc_allocator.cc:1095] InUse at 612d83100 of size 1024 next 558\n",
      "2024-03-05 17:46:51.342352: I external/local_tsl/tsl/framework/bfc_allocator.cc:1095] InUse at 612d83500 of size 1024 next 559\n",
      "2024-03-05 17:46:51.342366: I external/local_tsl/tsl/framework/bfc_allocator.cc:1095] InUse at 612d83900 of size 1024 next 560\n",
      "2024-03-05 17:46:51.342379: I external/local_tsl/tsl/framework/bfc_allocator.cc:1095] InUse at 612d83d00 of size 1024 next 561\n",
      "2024-03-05 17:46:51.342396: I external/local_tsl/tsl/framework/bfc_allocator.cc:1095] InUse at 612d84100 of size 1048576 next 562\n",
      "2024-03-05 17:46:51.342410: I external/local_tsl/tsl/framework/bfc_allocator.cc:1095] InUse at 612e84100 of size 1048576 next 563\n",
      "2024-03-05 17:46:51.342421: I external/local_tsl/tsl/framework/bfc_allocator.cc:1095] InUse at 612f84100 of size 4096 next 564\n",
      "2024-03-05 17:46:51.342435: I external/local_tsl/tsl/framework/bfc_allocator.cc:1095] InUse at 612f85100 of size 4096 next 565\n",
      "2024-03-05 17:46:51.342447: I external/local_tsl/tsl/framework/bfc_allocator.cc:1095] InUse at 612f86100 of size 4096 next 566\n",
      "2024-03-05 17:46:51.342464: I external/local_tsl/tsl/framework/bfc_allocator.cc:1095] InUse at 612f87100 of size 4096 next 567\n",
      "2024-03-05 17:46:51.342474: I external/local_tsl/tsl/framework/bfc_allocator.cc:1095] InUse at 612f88100 of size 4096 next 568\n",
      "2024-03-05 17:46:51.342489: I external/local_tsl/tsl/framework/bfc_allocator.cc:1095] InUse at 612f89100 of size 4096 next 569\n",
      "2024-03-05 17:46:51.342557: I external/local_tsl/tsl/framework/bfc_allocator.cc:1095] InUse at 612f8a100 of size 1048576 next 570\n",
      "2024-03-05 17:46:51.342579: I external/local_tsl/tsl/framework/bfc_allocator.cc:1095] InUse at 61308a100 of size 1048576 next 571\n",
      "2024-03-05 17:46:51.342587: I external/local_tsl/tsl/framework/bfc_allocator.cc:1095] InUse at 61318a100 of size 1024 next 572\n",
      "2024-03-05 17:46:51.342595: I external/local_tsl/tsl/framework/bfc_allocator.cc:1095] InUse at 61318a500 of size 1024 next 573\n",
      "2024-03-05 17:46:51.342604: I external/local_tsl/tsl/framework/bfc_allocator.cc:1095] InUse at 61318a900 of size 1024 next 574\n",
      "2024-03-05 17:46:51.342610: I external/local_tsl/tsl/framework/bfc_allocator.cc:1095] InUse at 61318ad00 of size 1024 next 575\n",
      "2024-03-05 17:46:51.342622: I external/local_tsl/tsl/framework/bfc_allocator.cc:1095] InUse at 61318b100 of size 2359296 next 576\n",
      "2024-03-05 17:46:51.342636: I external/local_tsl/tsl/framework/bfc_allocator.cc:1095] InUse at 6133cb100 of size 2359296 next 577\n",
      "2024-03-05 17:46:51.342644: I external/local_tsl/tsl/framework/bfc_allocator.cc:1095] InUse at 61360b100 of size 1024 next 578\n",
      "2024-03-05 17:46:51.342651: I external/local_tsl/tsl/framework/bfc_allocator.cc:1095] InUse at 61360b500 of size 1024 next 579\n",
      "2024-03-05 17:46:51.342659: I external/local_tsl/tsl/framework/bfc_allocator.cc:1095] InUse at 61360b900 of size 1024 next 580\n",
      "2024-03-05 17:46:51.342667: I external/local_tsl/tsl/framework/bfc_allocator.cc:1095] InUse at 61360bd00 of size 1024 next 581\n",
      "2024-03-05 17:46:51.342673: I external/local_tsl/tsl/framework/bfc_allocator.cc:1095] InUse at 61360c100 of size 1048576 next 582\n",
      "2024-03-05 17:46:51.342680: I external/local_tsl/tsl/framework/bfc_allocator.cc:1095] InUse at 61370c100 of size 1048576 next 583\n",
      "2024-03-05 17:46:51.342688: I external/local_tsl/tsl/framework/bfc_allocator.cc:1095] InUse at 61380c100 of size 4096 next 584\n",
      "2024-03-05 17:46:51.342697: I external/local_tsl/tsl/framework/bfc_allocator.cc:1095] InUse at 61380d100 of size 4096 next 585\n",
      "2024-03-05 17:46:51.342705: I external/local_tsl/tsl/framework/bfc_allocator.cc:1095] InUse at 61380e100 of size 4096 next 586\n",
      "2024-03-05 17:46:51.342713: I external/local_tsl/tsl/framework/bfc_allocator.cc:1095] InUse at 61380f100 of size 4096 next 587\n",
      "2024-03-05 17:46:51.342724: I external/local_tsl/tsl/framework/bfc_allocator.cc:1095] InUse at 613810100 of size 4096 next 588\n",
      "2024-03-05 17:46:51.342732: I external/local_tsl/tsl/framework/bfc_allocator.cc:1095] InUse at 613811100 of size 4096 next 589\n",
      "2024-03-05 17:46:51.342739: I external/local_tsl/tsl/framework/bfc_allocator.cc:1095] InUse at 613812100 of size 1048576 next 590\n",
      "2024-03-05 17:46:51.342748: I external/local_tsl/tsl/framework/bfc_allocator.cc:1095] InUse at 613912100 of size 1048576 next 591\n",
      "2024-03-05 17:46:51.342756: I external/local_tsl/tsl/framework/bfc_allocator.cc:1095] InUse at 613a12100 of size 1024 next 592\n",
      "2024-03-05 17:46:51.342765: I external/local_tsl/tsl/framework/bfc_allocator.cc:1095] InUse at 613a12500 of size 1024 next 593\n",
      "2024-03-05 17:46:51.342773: I external/local_tsl/tsl/framework/bfc_allocator.cc:1095] InUse at 613a12900 of size 1024 next 594\n",
      "2024-03-05 17:46:51.342782: I external/local_tsl/tsl/framework/bfc_allocator.cc:1095] InUse at 613a12d00 of size 1024 next 595\n",
      "2024-03-05 17:46:51.342790: I external/local_tsl/tsl/framework/bfc_allocator.cc:1095] InUse at 613a13100 of size 2359296 next 596\n",
      "2024-03-05 17:46:51.342798: I external/local_tsl/tsl/framework/bfc_allocator.cc:1095] InUse at 613c53100 of size 2359296 next 597\n",
      "2024-03-05 17:46:51.342807: I external/local_tsl/tsl/framework/bfc_allocator.cc:1095] InUse at 613e93100 of size 1024 next 598\n",
      "2024-03-05 17:46:51.342815: I external/local_tsl/tsl/framework/bfc_allocator.cc:1095] InUse at 613e93500 of size 1024 next 599\n",
      "2024-03-05 17:46:51.342822: I external/local_tsl/tsl/framework/bfc_allocator.cc:1095] InUse at 613e93900 of size 1024 next 600\n",
      "2024-03-05 17:46:51.342830: I external/local_tsl/tsl/framework/bfc_allocator.cc:1095] InUse at 613e93d00 of size 1024 next 601\n",
      "2024-03-05 17:46:51.342838: I external/local_tsl/tsl/framework/bfc_allocator.cc:1095] InUse at 613e94100 of size 1048576 next 602\n",
      "2024-03-05 17:46:51.342847: I external/local_tsl/tsl/framework/bfc_allocator.cc:1095] InUse at 613f94100 of size 1048576 next 603\n",
      "2024-03-05 17:46:51.342855: I external/local_tsl/tsl/framework/bfc_allocator.cc:1095] InUse at 614094100 of size 4096 next 604\n",
      "2024-03-05 17:46:51.342863: I external/local_tsl/tsl/framework/bfc_allocator.cc:1095] InUse at 614095100 of size 4096 next 605\n",
      "2024-03-05 17:46:51.342870: I external/local_tsl/tsl/framework/bfc_allocator.cc:1095] InUse at 614096100 of size 4096 next 606\n",
      "2024-03-05 17:46:51.342878: I external/local_tsl/tsl/framework/bfc_allocator.cc:1095] InUse at 614097100 of size 4096 next 607\n",
      "2024-03-05 17:46:51.342890: I external/local_tsl/tsl/framework/bfc_allocator.cc:1095] InUse at 614098100 of size 4096 next 608\n",
      "2024-03-05 17:46:51.342899: I external/local_tsl/tsl/framework/bfc_allocator.cc:1095] InUse at 614099100 of size 4096 next 609\n",
      "2024-03-05 17:46:51.342908: I external/local_tsl/tsl/framework/bfc_allocator.cc:1095] InUse at 61409a100 of size 1048576 next 610\n",
      "2024-03-05 17:46:51.342916: I external/local_tsl/tsl/framework/bfc_allocator.cc:1095] InUse at 61419a100 of size 1048576 next 611\n",
      "2024-03-05 17:46:51.342924: I external/local_tsl/tsl/framework/bfc_allocator.cc:1095] InUse at 61429a100 of size 1024 next 612\n",
      "2024-03-05 17:46:51.342933: I external/local_tsl/tsl/framework/bfc_allocator.cc:1095] InUse at 61429a500 of size 1024 next 613\n",
      "2024-03-05 17:46:51.342941: I external/local_tsl/tsl/framework/bfc_allocator.cc:1095] InUse at 61429a900 of size 1024 next 614\n",
      "2024-03-05 17:46:51.342949: I external/local_tsl/tsl/framework/bfc_allocator.cc:1095] InUse at 61429ad00 of size 1024 next 615\n",
      "2024-03-05 17:46:51.342958: I external/local_tsl/tsl/framework/bfc_allocator.cc:1095] InUse at 61429b100 of size 2359296 next 616\n",
      "2024-03-05 17:46:51.342966: I external/local_tsl/tsl/framework/bfc_allocator.cc:1095] InUse at 6144db100 of size 2359296 next 617\n",
      "2024-03-05 17:46:51.342974: I external/local_tsl/tsl/framework/bfc_allocator.cc:1095] InUse at 61471b100 of size 1024 next 618\n",
      "2024-03-05 17:46:51.342985: I external/local_tsl/tsl/framework/bfc_allocator.cc:1095] InUse at 61471b500 of size 1024 next 619\n",
      "2024-03-05 17:46:51.342996: I external/local_tsl/tsl/framework/bfc_allocator.cc:1095] InUse at 61471b900 of size 1024 next 620\n",
      "2024-03-05 17:46:51.343004: I external/local_tsl/tsl/framework/bfc_allocator.cc:1095] InUse at 61471bd00 of size 1024 next 621\n",
      "2024-03-05 17:46:51.343013: I external/local_tsl/tsl/framework/bfc_allocator.cc:1095] InUse at 61471c100 of size 1048576 next 622\n",
      "2024-03-05 17:46:51.343020: I external/local_tsl/tsl/framework/bfc_allocator.cc:1095] InUse at 61481c100 of size 1048576 next 623\n",
      "2024-03-05 17:46:51.343026: I external/local_tsl/tsl/framework/bfc_allocator.cc:1095] InUse at 61491c100 of size 4096 next 624\n",
      "2024-03-05 17:46:51.343032: I external/local_tsl/tsl/framework/bfc_allocator.cc:1095] InUse at 61491d100 of size 4096 next 625\n",
      "2024-03-05 17:46:51.343039: I external/local_tsl/tsl/framework/bfc_allocator.cc:1095] InUse at 61491e100 of size 4096 next 626\n",
      "2024-03-05 17:46:51.343047: I external/local_tsl/tsl/framework/bfc_allocator.cc:1095] InUse at 61491f100 of size 4096 next 627\n",
      "2024-03-05 17:46:51.343054: I external/local_tsl/tsl/framework/bfc_allocator.cc:1095] InUse at 614920100 of size 4096 next 628\n",
      "2024-03-05 17:46:51.343062: I external/local_tsl/tsl/framework/bfc_allocator.cc:1095] InUse at 614921100 of size 4096 next 629\n",
      "2024-03-05 17:46:51.343069: I external/local_tsl/tsl/framework/bfc_allocator.cc:1095] InUse at 614922100 of size 1048576 next 630\n",
      "2024-03-05 17:46:51.343077: I external/local_tsl/tsl/framework/bfc_allocator.cc:1095] InUse at 614a22100 of size 1048576 next 631\n",
      "2024-03-05 17:46:51.343086: I external/local_tsl/tsl/framework/bfc_allocator.cc:1095] InUse at 614b22100 of size 1024 next 632\n",
      "2024-03-05 17:46:51.343092: I external/local_tsl/tsl/framework/bfc_allocator.cc:1095] InUse at 614b22500 of size 1024 next 633\n",
      "2024-03-05 17:46:51.343101: I external/local_tsl/tsl/framework/bfc_allocator.cc:1095] InUse at 614b22900 of size 1024 next 634\n",
      "2024-03-05 17:46:51.343107: I external/local_tsl/tsl/framework/bfc_allocator.cc:1095] InUse at 614b22d00 of size 1024 next 635\n",
      "2024-03-05 17:46:51.343116: I external/local_tsl/tsl/framework/bfc_allocator.cc:1095] InUse at 614b23100 of size 2359296 next 636\n",
      "2024-03-05 17:46:51.343123: I external/local_tsl/tsl/framework/bfc_allocator.cc:1095] InUse at 614d63100 of size 2359296 next 637\n",
      "2024-03-05 17:46:51.343130: I external/local_tsl/tsl/framework/bfc_allocator.cc:1095] InUse at 614fa3100 of size 1024 next 638\n",
      "2024-03-05 17:46:51.343139: I external/local_tsl/tsl/framework/bfc_allocator.cc:1095] InUse at 614fa3500 of size 1024 next 639\n",
      "2024-03-05 17:46:51.343147: I external/local_tsl/tsl/framework/bfc_allocator.cc:1095] InUse at 614fa3900 of size 1024 next 640\n",
      "2024-03-05 17:46:51.343154: I external/local_tsl/tsl/framework/bfc_allocator.cc:1095] InUse at 614fa3d00 of size 1024 next 641\n",
      "2024-03-05 17:46:51.343162: I external/local_tsl/tsl/framework/bfc_allocator.cc:1095] InUse at 614fa4100 of size 1048576 next 642\n",
      "2024-03-05 17:46:51.343198: I external/local_tsl/tsl/framework/bfc_allocator.cc:1095] InUse at 6150a4100 of size 1048576 next 643\n",
      "2024-03-05 17:46:51.343231: I external/local_tsl/tsl/framework/bfc_allocator.cc:1095] InUse at 6151a4100 of size 4096 next 644\n",
      "2024-03-05 17:46:51.343236: I external/local_tsl/tsl/framework/bfc_allocator.cc:1095] InUse at 6151a5100 of size 4096 next 645\n",
      "2024-03-05 17:46:51.343239: I external/local_tsl/tsl/framework/bfc_allocator.cc:1095] InUse at 6151a6100 of size 4096 next 646\n",
      "2024-03-05 17:46:51.343243: I external/local_tsl/tsl/framework/bfc_allocator.cc:1095] InUse at 6151a7100 of size 4096 next 647\n",
      "2024-03-05 17:46:51.343247: I external/local_tsl/tsl/framework/bfc_allocator.cc:1095] InUse at 6151a8100 of size 4096 next 648\n",
      "2024-03-05 17:46:51.343251: I external/local_tsl/tsl/framework/bfc_allocator.cc:1095] InUse at 6151a9100 of size 4096 next 649\n",
      "2024-03-05 17:46:51.343255: I external/local_tsl/tsl/framework/bfc_allocator.cc:1095] InUse at 6151aa100 of size 2097152 next 650\n",
      "2024-03-05 17:46:51.343259: I external/local_tsl/tsl/framework/bfc_allocator.cc:1095] InUse at 6153aa100 of size 2097152 next 651\n",
      "2024-03-05 17:46:51.343263: I external/local_tsl/tsl/framework/bfc_allocator.cc:1095] InUse at 6155aa100 of size 2048 next 652\n",
      "2024-03-05 17:46:51.343267: I external/local_tsl/tsl/framework/bfc_allocator.cc:1095] InUse at 6155aa900 of size 2048 next 653\n",
      "2024-03-05 17:46:51.343271: I external/local_tsl/tsl/framework/bfc_allocator.cc:1095] InUse at 6155ab100 of size 2048 next 654\n",
      "2024-03-05 17:46:51.343274: I external/local_tsl/tsl/framework/bfc_allocator.cc:1095] InUse at 6155ab900 of size 2048 next 655\n",
      "2024-03-05 17:46:51.343279: I external/local_tsl/tsl/framework/bfc_allocator.cc:1095] InUse at 6155ac100 of size 9437184 next 656\n",
      "2024-03-05 17:46:51.343290: I external/local_tsl/tsl/framework/bfc_allocator.cc:1095] InUse at 615eac100 of size 9437184 next 657\n",
      "2024-03-05 17:46:51.343299: I external/local_tsl/tsl/framework/bfc_allocator.cc:1095] InUse at 6167ac100 of size 2048 next 658\n",
      "2024-03-05 17:46:51.343305: I external/local_tsl/tsl/framework/bfc_allocator.cc:1095] InUse at 6167ac900 of size 2048 next 659\n",
      "2024-03-05 17:46:51.343313: I external/local_tsl/tsl/framework/bfc_allocator.cc:1095] InUse at 6167ad100 of size 2048 next 660\n",
      "2024-03-05 17:46:51.343322: I external/local_tsl/tsl/framework/bfc_allocator.cc:1095] InUse at 6167ad900 of size 2048 next 661\n",
      "2024-03-05 17:46:51.343330: I external/local_tsl/tsl/framework/bfc_allocator.cc:1095] InUse at 6167ae100 of size 8388608 next 662\n",
      "2024-03-05 17:46:51.343337: I external/local_tsl/tsl/framework/bfc_allocator.cc:1095] InUse at 616fae100 of size 8388608 next 663\n",
      "2024-03-05 17:46:51.343346: I external/local_tsl/tsl/framework/bfc_allocator.cc:1095] InUse at 6177ae100 of size 8192 next 664\n",
      "2024-03-05 17:46:51.343352: I external/local_tsl/tsl/framework/bfc_allocator.cc:1095] InUse at 6177b0100 of size 8192 next 665\n",
      "2024-03-05 17:46:51.343372: I external/local_tsl/tsl/framework/bfc_allocator.cc:1095] InUse at 6177b2100 of size 4194304 next 666\n",
      "2024-03-05 17:46:51.343399: I external/local_tsl/tsl/framework/bfc_allocator.cc:1095] InUse at 617bb2100 of size 4194304 next 667\n",
      "2024-03-05 17:46:51.343414: I external/local_tsl/tsl/framework/bfc_allocator.cc:1095] InUse at 617fb2100 of size 8192 next 668\n",
      "2024-03-05 17:46:51.343427: I external/local_tsl/tsl/framework/bfc_allocator.cc:1095] InUse at 617fb4100 of size 8192 next 669\n",
      "2024-03-05 17:46:51.343439: I external/local_tsl/tsl/framework/bfc_allocator.cc:1095] InUse at 617fb6100 of size 8192 next 670\n",
      "2024-03-05 17:46:51.343446: I external/local_tsl/tsl/framework/bfc_allocator.cc:1095] InUse at 617fb8100 of size 8192 next 671\n",
      "2024-03-05 17:46:51.343454: I external/local_tsl/tsl/framework/bfc_allocator.cc:1095] InUse at 617fba100 of size 8192 next 672\n",
      "2024-03-05 17:46:51.343462: I external/local_tsl/tsl/framework/bfc_allocator.cc:1095] InUse at 617fbc100 of size 8192 next 673\n",
      "2024-03-05 17:46:51.343476: I external/local_tsl/tsl/framework/bfc_allocator.cc:1095] InUse at 617fbe100 of size 4194304 next 674\n",
      "2024-03-05 17:46:51.343497: I external/local_tsl/tsl/framework/bfc_allocator.cc:1095] InUse at 6183be100 of size 4194304 next 675\n",
      "2024-03-05 17:46:51.343522: I external/local_tsl/tsl/framework/bfc_allocator.cc:1095] InUse at 6187be100 of size 2048 next 676\n",
      "2024-03-05 17:46:51.343536: I external/local_tsl/tsl/framework/bfc_allocator.cc:1095] InUse at 6187be900 of size 2048 next 677\n",
      "2024-03-05 17:46:51.343542: I external/local_tsl/tsl/framework/bfc_allocator.cc:1095] InUse at 6187bf100 of size 2048 next 678\n",
      "2024-03-05 17:46:51.343549: I external/local_tsl/tsl/framework/bfc_allocator.cc:1095] InUse at 6187bf900 of size 2048 next 679\n",
      "2024-03-05 17:46:51.343557: I external/local_tsl/tsl/framework/bfc_allocator.cc:1095] InUse at 6187c0100 of size 9437184 next 680\n",
      "2024-03-05 17:46:51.343564: I external/local_tsl/tsl/framework/bfc_allocator.cc:1095] InUse at 6190c0100 of size 9437184 next 681\n",
      "2024-03-05 17:46:51.343571: I external/local_tsl/tsl/framework/bfc_allocator.cc:1095] InUse at 6199c0100 of size 2048 next 682\n",
      "2024-03-05 17:46:51.343578: I external/local_tsl/tsl/framework/bfc_allocator.cc:1095] InUse at 6199c0900 of size 2048 next 683\n",
      "2024-03-05 17:46:51.343584: I external/local_tsl/tsl/framework/bfc_allocator.cc:1095] InUse at 6199c1100 of size 2048 next 684\n",
      "2024-03-05 17:46:51.343591: I external/local_tsl/tsl/framework/bfc_allocator.cc:1095] InUse at 6199c1900 of size 2048 next 685\n",
      "2024-03-05 17:46:51.343599: I external/local_tsl/tsl/framework/bfc_allocator.cc:1095] InUse at 6199c2100 of size 4194304 next 686\n",
      "2024-03-05 17:46:51.343606: I external/local_tsl/tsl/framework/bfc_allocator.cc:1095] InUse at 619dc2100 of size 4194304 next 687\n",
      "2024-03-05 17:46:51.343612: I external/local_tsl/tsl/framework/bfc_allocator.cc:1095] InUse at 61a1c2100 of size 8192 next 688\n",
      "2024-03-05 17:46:51.343619: I external/local_tsl/tsl/framework/bfc_allocator.cc:1095] InUse at 61a1c4100 of size 8192 next 689\n",
      "2024-03-05 17:46:51.343627: I external/local_tsl/tsl/framework/bfc_allocator.cc:1095] InUse at 61a1c6100 of size 8192 next 690\n",
      "2024-03-05 17:46:51.343634: I external/local_tsl/tsl/framework/bfc_allocator.cc:1095] InUse at 61a1c8100 of size 8192 next 691\n",
      "2024-03-05 17:46:51.343641: I external/local_tsl/tsl/framework/bfc_allocator.cc:1095] InUse at 61a1ca100 of size 8192 next 692\n",
      "2024-03-05 17:46:51.343647: I external/local_tsl/tsl/framework/bfc_allocator.cc:1095] InUse at 61a1cc100 of size 8192 next 693\n",
      "2024-03-05 17:46:51.343654: I external/local_tsl/tsl/framework/bfc_allocator.cc:1095] InUse at 61a1ce100 of size 4194304 next 694\n",
      "2024-03-05 17:46:51.343663: I external/local_tsl/tsl/framework/bfc_allocator.cc:1095] InUse at 61a5ce100 of size 4194304 next 695\n",
      "2024-03-05 17:46:51.343670: I external/local_tsl/tsl/framework/bfc_allocator.cc:1095] InUse at 61a9ce100 of size 2048 next 696\n",
      "2024-03-05 17:46:51.343679: I external/local_tsl/tsl/framework/bfc_allocator.cc:1095] InUse at 61a9ce900 of size 2048 next 697\n",
      "2024-03-05 17:46:51.343695: I external/local_tsl/tsl/framework/bfc_allocator.cc:1095] InUse at 61a9cf100 of size 2048 next 698\n",
      "2024-03-05 17:46:51.343708: I external/local_tsl/tsl/framework/bfc_allocator.cc:1095] InUse at 61a9cf900 of size 2048 next 699\n",
      "2024-03-05 17:46:51.343722: I external/local_tsl/tsl/framework/bfc_allocator.cc:1095] InUse at 61a9d0100 of size 9437184 next 700\n",
      "2024-03-05 17:46:51.343742: I external/local_tsl/tsl/framework/bfc_allocator.cc:1095] InUse at 61b2d0100 of size 9437184 next 701\n",
      "2024-03-05 17:46:51.343758: I external/local_tsl/tsl/framework/bfc_allocator.cc:1095] InUse at 61bbd0100 of size 2048 next 702\n",
      "2024-03-05 17:46:51.343769: I external/local_tsl/tsl/framework/bfc_allocator.cc:1095] InUse at 61bbd0900 of size 2048 next 703\n",
      "2024-03-05 17:46:51.343777: I external/local_tsl/tsl/framework/bfc_allocator.cc:1095] InUse at 61bbd1100 of size 2048 next 704\n",
      "2024-03-05 17:46:51.343784: I external/local_tsl/tsl/framework/bfc_allocator.cc:1095] InUse at 61bbd1900 of size 2048 next 705\n",
      "2024-03-05 17:46:51.343792: I external/local_tsl/tsl/framework/bfc_allocator.cc:1095] InUse at 61bbd2100 of size 4194304 next 706\n",
      "2024-03-05 17:46:51.343799: I external/local_tsl/tsl/framework/bfc_allocator.cc:1095] InUse at 61bfd2100 of size 4194304 next 707\n",
      "2024-03-05 17:46:51.343805: I external/local_tsl/tsl/framework/bfc_allocator.cc:1095] InUse at 61c3d2100 of size 8192 next 708\n",
      "2024-03-05 17:46:51.343814: I external/local_tsl/tsl/framework/bfc_allocator.cc:1095] InUse at 61c3d4100 of size 8192 next 709\n",
      "2024-03-05 17:46:51.343820: I external/local_tsl/tsl/framework/bfc_allocator.cc:1095] InUse at 61c3d6100 of size 8192 next 710\n",
      "2024-03-05 17:46:51.343829: I external/local_tsl/tsl/framework/bfc_allocator.cc:1095] InUse at 61c3d8100 of size 8192 next 711\n",
      "2024-03-05 17:46:51.343837: I external/local_tsl/tsl/framework/bfc_allocator.cc:1095] InUse at 61c3da100 of size 8192 next 712\n",
      "2024-03-05 17:46:51.343844: I external/local_tsl/tsl/framework/bfc_allocator.cc:1095] InUse at 61c3dc100 of size 8192 next 713\n",
      "2024-03-05 17:46:51.343851: I external/local_tsl/tsl/framework/bfc_allocator.cc:1095] InUse at 61c3de100 of size 4096 next 716\n",
      "2024-03-05 17:46:51.343859: I external/local_tsl/tsl/framework/bfc_allocator.cc:1095] InUse at 61c3df100 of size 4096 next 717\n",
      "2024-03-05 17:46:51.343869: I external/local_tsl/tsl/framework/bfc_allocator.cc:1095] InUse at 61c3e0100 of size 20224 next 718\n",
      "2024-03-05 17:46:51.343877: I external/local_tsl/tsl/framework/bfc_allocator.cc:1095] InUse at 61c3e5000 of size 20224 next 719\n",
      "2024-03-05 17:46:51.343885: I external/local_tsl/tsl/framework/bfc_allocator.cc:1095] InUse at 61c3e9f00 of size 256 next 720\n",
      "2024-03-05 17:46:51.343893: I external/local_tsl/tsl/framework/bfc_allocator.cc:1095] InUse at 61c3ea000 of size 256 next 721\n",
      "2024-03-05 17:46:51.343902: I external/local_tsl/tsl/framework/bfc_allocator.cc:1095] InUse at 61c3ea100 of size 256 next 722\n",
      "2024-03-05 17:46:51.343909: I external/local_tsl/tsl/framework/bfc_allocator.cc:1095] InUse at 61c3ea200 of size 256 next 723\n",
      "2024-03-05 17:46:51.343917: I external/local_tsl/tsl/framework/bfc_allocator.cc:1095] InUse at 61c3ea300 of size 256 next 724\n",
      "2024-03-05 17:46:51.343924: I external/local_tsl/tsl/framework/bfc_allocator.cc:1095] InUse at 61c3ea400 of size 256 next 725\n",
      "2024-03-05 17:46:51.343933: I external/local_tsl/tsl/framework/bfc_allocator.cc:1095] InUse at 61c3ea500 of size 11162112 next 281\n",
      "2024-03-05 17:46:51.343942: I external/local_tsl/tsl/framework/bfc_allocator.cc:1095] InUse at 61ce8f700 of size 19801088 next 731\n",
      "2024-03-05 17:46:51.343951: I external/local_tsl/tsl/framework/bfc_allocator.cc:1095] InUse at 61e171b00 of size 256 next 951\n",
      "2024-03-05 17:46:51.343958: I external/local_tsl/tsl/framework/bfc_allocator.cc:1095] InUse at 61e171c00 of size 256 next 950\n",
      "2024-03-05 17:46:51.344035: I external/local_tsl/tsl/framework/bfc_allocator.cc:1095] InUse at 61e171d00 of size 256 next 953\n",
      "2024-03-05 17:46:51.344060: I external/local_tsl/tsl/framework/bfc_allocator.cc:1095] InUse at 61e171e00 of size 49017600 next 136\n",
      "2024-03-05 17:46:51.344070: I external/local_tsl/tsl/framework/bfc_allocator.cc:1095] InUse at 621031100 of size 131072000 next 158\n",
      "2024-03-05 17:46:51.344075: I external/local_tsl/tsl/framework/bfc_allocator.cc:1095] InUse at 628d31100 of size 131072000 next 714\n",
      "2024-03-05 17:46:51.344080: I external/local_tsl/tsl/framework/bfc_allocator.cc:1095] InUse at 630a31100 of size 131072000 next 715\n",
      "2024-03-05 17:46:51.344086: I external/local_tsl/tsl/framework/bfc_allocator.cc:1095] InUse at 638731100 of size 44648448 next 729\n",
      "2024-03-05 17:46:51.344099: I external/local_tsl/tsl/framework/bfc_allocator.cc:1095] InUse at 63b1c5900 of size 89296896 next 783\n",
      "2024-03-05 17:46:51.344120: I external/local_tsl/tsl/framework/bfc_allocator.cc:1095] InUse at 6406ee900 of size 22324224 next 911\n",
      "2024-03-05 17:46:51.344129: I external/local_tsl/tsl/framework/bfc_allocator.cc:1095] InUse at 641c38d00 of size 22324224 next 933\n",
      "2024-03-05 17:46:51.344134: I external/local_tsl/tsl/framework/bfc_allocator.cc:1095] InUse at 643183100 of size 29721600 next 233\n",
      "2024-03-05 17:46:51.344140: I external/local_tsl/tsl/framework/bfc_allocator.cc:1095] InUse at 644ddb500 of size 22324224 next 901\n",
      "2024-03-05 17:46:51.344155: I external/local_tsl/tsl/framework/bfc_allocator.cc:1095] InUse at 646325900 of size 22324224 next 804\n",
      "2024-03-05 17:46:51.344167: I external/local_tsl/tsl/framework/bfc_allocator.cc:1095] InUse at 64786fd00 of size 89296896 next 207\n",
      "2024-03-05 17:46:51.344210: I external/local_tsl/tsl/framework/bfc_allocator.cc:1095] InUse at 64cd98d00 of size 22324224 next 883\n",
      "2024-03-05 17:46:51.344226: I external/local_tsl/tsl/framework/bfc_allocator.cc:1095] InUse at 64e2e3100 of size 22324224 next 913\n",
      "2024-03-05 17:46:51.344238: I external/local_tsl/tsl/framework/bfc_allocator.cc:1095] InUse at 64f82d500 of size 29721600 next 869\n",
      "2024-03-05 17:46:51.344250: I external/local_tsl/tsl/framework/bfc_allocator.cc:1095] InUse at 651485900 of size 22324224 next 732\n",
      "2024-03-05 17:46:51.344264: I external/local_tsl/tsl/framework/bfc_allocator.cc:1095] InUse at 6529cfd00 of size 22324224 next 958\n",
      "2024-03-05 17:46:51.344276: I external/local_tsl/tsl/framework/bfc_allocator.cc:1095] InUse at 653f1a100 of size 89296896 next 955\n",
      "2024-03-05 17:46:51.344291: I external/local_tsl/tsl/framework/bfc_allocator.cc:1095] InUse at 659443100 of size 128149504 next 925\n",
      "2024-03-05 17:46:51.344304: I external/local_tsl/tsl/framework/bfc_allocator.cc:1095] InUse at 660e79900 of size 1024 next 770\n",
      "2024-03-05 17:46:51.344317: I external/local_tsl/tsl/framework/bfc_allocator.cc:1095] InUse at 660e79d00 of size 1024 next 944\n",
      "2024-03-05 17:46:51.344331: I external/local_tsl/tsl/framework/bfc_allocator.cc:1095] InUse at 660e7a100 of size 1024 next 757\n",
      "2024-03-05 17:46:51.344343: I external/local_tsl/tsl/framework/bfc_allocator.cc:1095] InUse at 660e7a500 of size 1024 next 812\n",
      "2024-03-05 17:46:51.344355: I external/local_tsl/tsl/framework/bfc_allocator.cc:1095] InUse at 660e7a900 of size 1024 next 789\n",
      "2024-03-05 17:46:51.344364: I external/local_tsl/tsl/framework/bfc_allocator.cc:1095] InUse at 660e7ad00 of size 1024 next 750\n",
      "2024-03-05 17:46:51.344373: I external/local_tsl/tsl/framework/bfc_allocator.cc:1095] InUse at 660e7b100 of size 2048 next 110\n",
      "2024-03-05 17:46:51.344387: I external/local_tsl/tsl/framework/bfc_allocator.cc:1095] InUse at 660e7b900 of size 9791488 next 293\n",
      "2024-03-05 17:46:51.344400: I external/local_tsl/tsl/framework/bfc_allocator.cc:1095] Free  at 6617d2100 of size 2048 next 895\n",
      "2024-03-05 17:46:51.344415: I external/local_tsl/tsl/framework/bfc_allocator.cc:1095] InUse at 6617d2900 of size 278767616 next 868\n",
      "2024-03-05 17:46:51.344428: I external/local_tsl/tsl/framework/bfc_allocator.cc:1095] InUse at 6721ad100 of size 2048 next 870\n",
      "2024-03-05 17:46:51.344443: I external/local_tsl/tsl/framework/bfc_allocator.cc:1095] InUse at 6721ad900 of size 165120000 next 142\n",
      "2024-03-05 17:46:51.344456: I external/local_tsl/tsl/framework/bfc_allocator.cc:1095] InUse at 67bf26100 of size 41280000 next 733\n",
      "2024-03-05 17:46:51.344470: I external/local_tsl/tsl/framework/bfc_allocator.cc:1095] InUse at 67e684300 of size 41280000 next 230\n",
      "2024-03-05 17:46:51.344483: I external/local_tsl/tsl/framework/bfc_allocator.cc:1095] InUse at 680de2500 of size 48148992 next 799\n",
      "2024-03-05 17:46:51.344499: I external/local_tsl/tsl/framework/bfc_allocator.cc:1095] InUse at 683bcd700 of size 65669632 next 162\n",
      "2024-03-05 17:46:51.344514: I external/local_tsl/tsl/framework/bfc_allocator.cc:1095] InUse at 687a6e100 of size 2048 next 172\n",
      "2024-03-05 17:46:51.344529: I external/local_tsl/tsl/framework/bfc_allocator.cc:1095] InUse at 687a6e900 of size 283234304 next 864\n",
      "2024-03-05 17:46:51.344541: I external/local_tsl/tsl/framework/bfc_allocator.cc:1095] InUse at 69888b900 of size 2048 next 848\n",
      "2024-03-05 17:46:51.344596: I external/local_tsl/tsl/framework/bfc_allocator.cc:1095] InUse at 69888c100 of size 41280000 next 829\n",
      "2024-03-05 17:46:51.344699: I external/local_tsl/tsl/framework/bfc_allocator.cc:1095] InUse at 69afea300 of size 79203840 next 884\n",
      "2024-03-05 17:46:51.344734: I external/local_tsl/tsl/framework/bfc_allocator.cc:1095] InUse at 69fb73100 of size 2048 next 872\n",
      "2024-03-05 17:46:51.344756: I external/local_tsl/tsl/framework/bfc_allocator.cc:1095] InUse at 69fb73900 of size 228526080 next 752\n",
      "2024-03-05 17:46:51.344783: I external/local_tsl/tsl/framework/bfc_allocator.cc:1095] InUse at 6ad564100 of size 1024 next 916\n",
      "2024-03-05 17:46:51.344802: I external/local_tsl/tsl/framework/bfc_allocator.cc:1095] InUse at 6ad564500 of size 1024 next 781\n",
      "2024-03-05 17:46:51.344814: I external/local_tsl/tsl/framework/bfc_allocator.cc:1095] InUse at 6ad564900 of size 1024 next 101\n",
      "2024-03-05 17:46:51.344825: I external/local_tsl/tsl/framework/bfc_allocator.cc:1095] InUse at 6ad564d00 of size 1024 next 879\n",
      "2024-03-05 17:46:51.344833: I external/local_tsl/tsl/framework/bfc_allocator.cc:1095] InUse at 6ad565100 of size 176752640 next 782\n",
      "2024-03-05 17:46:51.344844: I external/local_tsl/tsl/framework/bfc_allocator.cc:1095] InUse at 6b7df5900 of size 4096 next 766\n",
      "2024-03-05 17:46:51.344902: I external/local_tsl/tsl/framework/bfc_allocator.cc:1095] InUse at 6b7df6900 of size 41280000 next 899\n",
      "2024-03-05 17:46:51.345067: I external/local_tsl/tsl/framework/bfc_allocator.cc:1095] InUse at 6ba554b00 of size 65197568 next 807\n",
      "2024-03-05 17:46:51.345096: I external/local_tsl/tsl/framework/bfc_allocator.cc:1095] InUse at 6be382100 of size 2048 next 359\n",
      "2024-03-05 17:46:51.345120: I external/local_tsl/tsl/framework/bfc_allocator.cc:1095] InUse at 6be382900 of size 2048 next 821\n",
      "2024-03-05 17:46:51.345142: I external/local_tsl/tsl/framework/bfc_allocator.cc:1095] InUse at 6be383100 of size 41280000 next 808\n",
      "2024-03-05 17:46:51.345206: I external/local_tsl/tsl/framework/bfc_allocator.cc:1095] InUse at 6c0ae1300 of size 79201792 next 857\n",
      "2024-03-05 17:46:51.345257: I external/local_tsl/tsl/framework/bfc_allocator.cc:1095] InUse at 6c5669900 of size 2048 next 891\n",
      "2024-03-05 17:46:51.345325: I external/local_tsl/tsl/framework/bfc_allocator.cc:1095] InUse at 6c566a100 of size 2048 next 819\n",
      "2024-03-05 17:46:51.345351: I external/local_tsl/tsl/framework/bfc_allocator.cc:1095] InUse at 6c566a900 of size 2048 next 859\n",
      "2024-03-05 17:46:51.345370: I external/local_tsl/tsl/framework/bfc_allocator.cc:1095] InUse at 6c566b100 of size 2048 next 920\n",
      "2024-03-05 17:46:51.345384: I external/local_tsl/tsl/framework/bfc_allocator.cc:1095] InUse at 6c566b900 of size 2048 next 946\n",
      "2024-03-05 17:46:51.345401: I external/local_tsl/tsl/framework/bfc_allocator.cc:1095] InUse at 6c566c100 of size 2048 next 333\n",
      "2024-03-05 17:46:51.345420: I external/local_tsl/tsl/framework/bfc_allocator.cc:1095] InUse at 6c566c900 of size 2048 next 269\n",
      "2024-03-05 17:46:51.345438: I external/local_tsl/tsl/framework/bfc_allocator.cc:1095] InUse at 6c566d100 of size 2048 next 900\n",
      "2024-03-05 17:46:51.345456: I external/local_tsl/tsl/framework/bfc_allocator.cc:1095] InUse at 6c566d900 of size 41280000 next 351\n",
      "2024-03-05 17:46:51.345485: I external/local_tsl/tsl/framework/bfc_allocator.cc:1095] InUse at 6c7dcbb00 of size 79207936 next 263\n",
      "2024-03-05 17:46:51.345518: I external/local_tsl/tsl/framework/bfc_allocator.cc:1095] InUse at 6cc955900 of size 2048 next 964\n",
      "2024-03-05 17:46:51.345573: I external/local_tsl/tsl/framework/bfc_allocator.cc:1095] Free  at 6cc956100 of size 6144 next 885\n",
      "2024-03-05 17:46:51.345591: I external/local_tsl/tsl/framework/bfc_allocator.cc:1095] InUse at 6cc957900 of size 48148992 next 193\n",
      "2024-03-05 17:46:51.345601: I external/local_tsl/tsl/framework/bfc_allocator.cc:1095] InUse at 6cf742b00 of size 72338944 next 922\n",
      "2024-03-05 17:46:51.345610: I external/local_tsl/tsl/framework/bfc_allocator.cc:1095] Free  at 6d3c3f900 of size 16384 next 792\n",
      "2024-03-05 17:46:51.345619: I external/local_tsl/tsl/framework/bfc_allocator.cc:1095] InUse at 6d3c43900 of size 22324224 next 768\n",
      "2024-03-05 17:46:51.345627: I external/local_tsl/tsl/framework/bfc_allocator.cc:1095] InUse at 6d518dd00 of size 22324224 next 285\n",
      "2024-03-05 17:46:51.345635: I external/local_tsl/tsl/framework/bfc_allocator.cc:1095] InUse at 6d66d8100 of size 29721600 next 756\n",
      "2024-03-05 17:46:51.345640: I external/local_tsl/tsl/framework/bfc_allocator.cc:1095] InUse at 6d8330500 of size 22324224 next 840\n",
      "2024-03-05 17:46:51.345648: I external/local_tsl/tsl/framework/bfc_allocator.cc:1095] InUse at 6d987a900 of size 22324224 next 841\n",
      "2024-03-05 17:46:51.345657: I external/local_tsl/tsl/framework/bfc_allocator.cc:1095] InUse at 6dadc4d00 of size 89296896 next 886\n",
      "2024-03-05 17:46:51.345665: I external/local_tsl/tsl/framework/bfc_allocator.cc:1095] InUse at 6e02edd00 of size 89296896 next 897\n",
      "2024-03-05 17:46:51.345673: I external/local_tsl/tsl/framework/bfc_allocator.cc:1095] InUse at 6e5816d00 of size 25890816 next 763\n",
      "2024-03-05 17:46:51.345681: I external/local_tsl/tsl/framework/bfc_allocator.cc:1095] InUse at 6e70c7d00 of size 22324224 next 919\n",
      "2024-03-05 17:46:51.345692: I external/local_tsl/tsl/framework/bfc_allocator.cc:1095] InUse at 6e8612100 of size 22324224 next 941\n",
      "2024-03-05 17:46:51.345700: I external/local_tsl/tsl/framework/bfc_allocator.cc:1095] InUse at 6e9b5c500 of size 29721600 next 904\n",
      "2024-03-05 17:46:51.345709: I external/local_tsl/tsl/framework/bfc_allocator.cc:1095] InUse at 6eb7b4900 of size 6472704 next 336\n",
      "2024-03-05 17:46:51.345719: I external/local_tsl/tsl/framework/bfc_allocator.cc:1095] InUse at 6ebde0d00 of size 25890816 next 773\n",
      "2024-03-05 17:46:51.345734: I external/local_tsl/tsl/framework/bfc_allocator.cc:1095] InUse at 6ed691d00 of size 25890816 next 826\n",
      "2024-03-05 17:46:51.345743: I external/local_tsl/tsl/framework/bfc_allocator.cc:1095] InUse at 6eef42d00 of size 51781632 next 762\n",
      "2024-03-05 17:46:51.345751: I external/local_tsl/tsl/framework/bfc_allocator.cc:1095] InUse at 6f20a4d00 of size 12945408 next 860\n",
      "2024-03-05 17:46:51.345760: I external/local_tsl/tsl/framework/bfc_allocator.cc:1095] InUse at 6f2cfd500 of size 12945408 next 856\n",
      "2024-03-05 17:46:51.345768: I external/local_tsl/tsl/framework/bfc_allocator.cc:1095] InUse at 6f3955d00 of size 21399552 next 831\n",
      "2024-03-05 17:46:51.345777: I external/local_tsl/tsl/framework/bfc_allocator.cc:1095] InUse at 6f4dbe500 of size 12945408 next 743\n",
      "2024-03-05 17:46:51.345785: I external/local_tsl/tsl/framework/bfc_allocator.cc:1095] InUse at 6f5a16d00 of size 12945408 next 749\n",
      "2024-03-05 17:46:51.345793: I external/local_tsl/tsl/framework/bfc_allocator.cc:1095] InUse at 6f666f500 of size 51781632 next 863\n",
      "2024-03-05 17:46:51.345798: I external/local_tsl/tsl/framework/bfc_allocator.cc:1095] InUse at 6f97d1500 of size 12945408 next 873\n",
      "2024-03-05 17:46:51.345805: I external/local_tsl/tsl/framework/bfc_allocator.cc:1095] InUse at 6fa429d00 of size 12945408 next 849\n",
      "2024-03-05 17:46:51.345813: I external/local_tsl/tsl/framework/bfc_allocator.cc:1095] InUse at 6fb082500 of size 21399552 next 345\n",
      "2024-03-05 17:46:51.345822: I external/local_tsl/tsl/framework/bfc_allocator.cc:1095] InUse at 6fc4ead00 of size 12945408 next 825\n",
      "2024-03-05 17:46:51.345832: I external/local_tsl/tsl/framework/bfc_allocator.cc:1095] InUse at 6fd143500 of size 12945408 next 927\n",
      "2024-03-05 17:46:51.345846: I external/local_tsl/tsl/framework/bfc_allocator.cc:1095] InUse at 6fdd9bd00 of size 51781632 next 753\n",
      "2024-03-05 17:46:51.345859: I external/local_tsl/tsl/framework/bfc_allocator.cc:1095] InUse at 700efdd00 of size 51781632 next 843\n",
      "2024-03-05 17:46:51.345875: I external/local_tsl/tsl/framework/bfc_allocator.cc:1095] InUse at 70405fd00 of size 4096 next 801\n",
      "2024-03-05 17:46:51.345897: I external/local_tsl/tsl/framework/bfc_allocator.cc:1095] InUse at 704060d00 of size 4096 next 896\n",
      "2024-03-05 17:46:51.345905: I external/local_tsl/tsl/framework/bfc_allocator.cc:1095] InUse at 704061d00 of size 12945408 next 58\n",
      "2024-03-05 17:46:51.345913: I external/local_tsl/tsl/framework/bfc_allocator.cc:1095] InUse at 704cba500 of size 12945408 next 906\n",
      "2024-03-05 17:46:51.345921: I external/local_tsl/tsl/framework/bfc_allocator.cc:1095] InUse at 705912d00 of size 21399552 next 929\n",
      "2024-03-05 17:46:51.345928: I external/local_tsl/tsl/framework/bfc_allocator.cc:1095] InUse at 706d7b500 of size 12945408 next 340\n",
      "2024-03-05 17:46:51.345936: I external/local_tsl/tsl/framework/bfc_allocator.cc:1095] InUse at 7079d3d00 of size 12945408 next 959\n",
      "2024-03-05 17:46:51.345944: I external/local_tsl/tsl/framework/bfc_allocator.cc:1095] InUse at 70862c500 of size 84249600 next 817\n",
      "2024-03-05 17:46:51.345954: I external/local_tsl/tsl/framework/bfc_allocator.cc:1095] InUse at 70d685100 of size 2048 next 835\n",
      "2024-03-05 17:46:51.345962: I external/local_tsl/tsl/framework/bfc_allocator.cc:1095] InUse at 70d685900 of size 2048 next 846\n",
      "2024-03-05 17:46:51.345971: I external/local_tsl/tsl/framework/bfc_allocator.cc:1095] InUse at 70d686100 of size 41280000 next 249\n",
      "2024-03-05 17:46:51.345979: I external/local_tsl/tsl/framework/bfc_allocator.cc:1095] InUse at 70fde4300 of size 79209984 next 277\n",
      "2024-03-05 17:46:51.345988: I external/local_tsl/tsl/framework/bfc_allocator.cc:1095] InUse at 71496e900 of size 8192 next 855\n",
      "2024-03-05 17:46:51.345998: I external/local_tsl/tsl/framework/bfc_allocator.cc:1095] InUse at 714970900 of size 51781632 next 254\n",
      "2024-03-05 17:46:51.346006: I external/local_tsl/tsl/framework/bfc_allocator.cc:1095] InUse at 717ad2900 of size 4096 next 852\n",
      "2024-03-05 17:46:51.346015: I external/local_tsl/tsl/framework/bfc_allocator.cc:1095] InUse at 717ad3900 of size 4096 next 945\n",
      "2024-03-05 17:46:51.346023: I external/local_tsl/tsl/framework/bfc_allocator.cc:1095] InUse at 717ad4900 of size 4096 next 115\n",
      "2024-03-05 17:46:51.346033: I external/local_tsl/tsl/framework/bfc_allocator.cc:1095] InUse at 717ad5900 of size 12945408 next 746\n",
      "2024-03-05 17:46:51.346041: I external/local_tsl/tsl/framework/bfc_allocator.cc:1095] InUse at 71872e100 of size 12945408 next 324\n",
      "2024-03-05 17:46:51.346049: I external/local_tsl/tsl/framework/bfc_allocator.cc:1095] InUse at 719386900 of size 21399552 next 776\n",
      "2024-03-05 17:46:51.346056: I external/local_tsl/tsl/framework/bfc_allocator.cc:1095] InUse at 71a7ef100 of size 12945408 next 728\n",
      "2024-03-05 17:46:51.346064: I external/local_tsl/tsl/framework/bfc_allocator.cc:1095] InUse at 71b447900 of size 12945408 next 189\n",
      "2024-03-05 17:46:51.346072: I external/local_tsl/tsl/framework/bfc_allocator.cc:1095] InUse at 71c0a0100 of size 51781632 next 177\n",
      "2024-03-05 17:46:51.346080: I external/local_tsl/tsl/framework/bfc_allocator.cc:1095] InUse at 71f202100 of size 51781632 next 815\n",
      "2024-03-05 17:46:51.346088: I external/local_tsl/tsl/framework/bfc_allocator.cc:1095] InUse at 722364100 of size 4096 next 764\n",
      "2024-03-05 17:46:51.346096: I external/local_tsl/tsl/framework/bfc_allocator.cc:1095] InUse at 722365100 of size 4096 next 81\n",
      "2024-03-05 17:46:51.346105: I external/local_tsl/tsl/framework/bfc_allocator.cc:1095] InUse at 722366100 of size 4096 next 754\n",
      "2024-03-05 17:46:51.346113: I external/local_tsl/tsl/framework/bfc_allocator.cc:1095] InUse at 722367100 of size 12945408 next 928\n",
      "2024-03-05 17:46:51.346121: I external/local_tsl/tsl/framework/bfc_allocator.cc:1095] InUse at 722fbf900 of size 12945408 next 737\n",
      "2024-03-05 17:46:51.346129: I external/local_tsl/tsl/framework/bfc_allocator.cc:1095] InUse at 723c18100 of size 21399552 next 218\n",
      "2024-03-05 17:46:51.346137: I external/local_tsl/tsl/framework/bfc_allocator.cc:1095] InUse at 725080900 of size 12945408 next 777\n",
      "2024-03-05 17:46:51.346145: I external/local_tsl/tsl/framework/bfc_allocator.cc:1095] InUse at 725cd9100 of size 12945408 next 813\n",
      "2024-03-05 17:46:51.346153: I external/local_tsl/tsl/framework/bfc_allocator.cc:1095] InUse at 726931900 of size 51781632 next 952\n",
      "2024-03-05 17:46:51.346184: I external/local_tsl/tsl/framework/bfc_allocator.cc:1095] InUse at 729a93900 of size 51781632 next 797\n",
      "2024-03-05 17:46:51.346220: I external/local_tsl/tsl/framework/bfc_allocator.cc:1095] InUse at 72cbf5900 of size 4096 next 747\n",
      "2024-03-05 17:46:51.346272: I external/local_tsl/tsl/framework/bfc_allocator.cc:1095] InUse at 72cbf6900 of size 4096 next 878\n",
      "2024-03-05 17:46:51.346290: I external/local_tsl/tsl/framework/bfc_allocator.cc:1095] InUse at 72cbf7900 of size 4096 next 827\n",
      "2024-03-05 17:46:51.346299: I external/local_tsl/tsl/framework/bfc_allocator.cc:1095] InUse at 72cbf8900 of size 16908288 next 910\n",
      "2024-03-05 17:46:51.346309: I external/local_tsl/tsl/framework/bfc_allocator.cc:1095] InUse at 72dc18900 of size 12945408 next 787\n",
      "2024-03-05 17:46:51.346318: I external/local_tsl/tsl/framework/bfc_allocator.cc:1095] InUse at 72e871100 of size 12945408 next 918\n",
      "2024-03-05 17:46:51.346326: I external/local_tsl/tsl/framework/bfc_allocator.cc:1095] InUse at 72f4c9900 of size 21399552 next 767\n",
      "2024-03-05 17:46:51.346337: I external/local_tsl/tsl/framework/bfc_allocator.cc:1095] InUse at 730932100 of size 4227072 next 769\n",
      "2024-03-05 17:46:51.346345: I external/local_tsl/tsl/framework/bfc_allocator.cc:1095] InUse at 730d3a100 of size 4227072 next 876\n",
      "2024-03-05 17:46:51.346354: I external/local_tsl/tsl/framework/bfc_allocator.cc:1095] InUse at 731142100 of size 16908288 next 794\n",
      "2024-03-05 17:46:51.346362: I external/local_tsl/tsl/framework/bfc_allocator.cc:1095] InUse at 732162100 of size 16908288 next 760\n",
      "2024-03-05 17:46:51.346370: I external/local_tsl/tsl/framework/bfc_allocator.cc:1095] InUse at 733182100 of size 4096 next 930\n",
      "2024-03-05 17:46:51.346380: I external/local_tsl/tsl/framework/bfc_allocator.cc:1095] InUse at 733183100 of size 4096 next 820\n",
      "2024-03-05 17:46:51.346387: I external/local_tsl/tsl/framework/bfc_allocator.cc:1095] InUse at 733184100 of size 4096 next 790\n",
      "2024-03-05 17:46:51.346396: I external/local_tsl/tsl/framework/bfc_allocator.cc:1095] InUse at 733185100 of size 33816576 next 780\n",
      "2024-03-05 17:46:51.346406: I external/local_tsl/tsl/framework/bfc_allocator.cc:1095] InUse at 7351c5100 of size 8454144 next 771\n",
      "2024-03-05 17:46:51.346417: I external/local_tsl/tsl/framework/bfc_allocator.cc:1095] InUse at 7359d5100 of size 8454144 next 802\n",
      "2024-03-05 17:46:51.346427: I external/local_tsl/tsl/framework/bfc_allocator.cc:1095] InUse at 7361e5100 of size 19021824 next 842\n",
      "2024-03-05 17:46:51.346435: I external/local_tsl/tsl/framework/bfc_allocator.cc:1095] InUse at 737409100 of size 8454144 next 824\n",
      "2024-03-05 17:46:51.346443: I external/local_tsl/tsl/framework/bfc_allocator.cc:1095] InUse at 737c19100 of size 8454144 next 816\n",
      "2024-03-05 17:46:51.346452: I external/local_tsl/tsl/framework/bfc_allocator.cc:1095] InUse at 738429100 of size 33816576 next 888\n",
      "2024-03-05 17:46:51.346460: I external/local_tsl/tsl/framework/bfc_allocator.cc:1095] InUse at 73a469100 of size 8192 next 833\n",
      "2024-03-05 17:46:51.346468: I external/local_tsl/tsl/framework/bfc_allocator.cc:1095] InUse at 73a46b100 of size 8192 next 818\n",
      "2024-03-05 17:46:51.346478: I external/local_tsl/tsl/framework/bfc_allocator.cc:1095] InUse at 73a46d100 of size 8192 next 124\n",
      "2024-03-05 17:46:51.346487: I external/local_tsl/tsl/framework/bfc_allocator.cc:1095] InUse at 73a46f100 of size 8192 next 809\n",
      "2024-03-05 17:46:51.346495: I external/local_tsl/tsl/framework/bfc_allocator.cc:1095] InUse at 73a471100 of size 8454144 next 882\n",
      "2024-03-05 17:46:51.346503: I external/local_tsl/tsl/framework/bfc_allocator.cc:1095] InUse at 73ac81100 of size 8454144 next 150\n",
      "2024-03-05 17:46:51.346512: I external/local_tsl/tsl/framework/bfc_allocator.cc:1095] InUse at 73b491100 of size 19021824 next 246\n",
      "2024-03-05 17:46:51.346520: I external/local_tsl/tsl/framework/bfc_allocator.cc:1095] InUse at 73c6b5100 of size 8454144 next 265\n",
      "2024-03-05 17:46:51.346530: I external/local_tsl/tsl/framework/bfc_allocator.cc:1095] InUse at 73cec5100 of size 8454144 next 858\n",
      "2024-03-05 17:46:51.346538: I external/local_tsl/tsl/framework/bfc_allocator.cc:1095] InUse at 73d6d5100 of size 33816576 next 229\n",
      "2024-03-05 17:46:51.346547: I external/local_tsl/tsl/framework/bfc_allocator.cc:1095] InUse at 73f715100 of size 33816576 next 853\n",
      "2024-03-05 17:46:51.346557: I external/local_tsl/tsl/framework/bfc_allocator.cc:1095] InUse at 741755100 of size 8192 next 880\n",
      "2024-03-05 17:46:51.346566: I external/local_tsl/tsl/framework/bfc_allocator.cc:1095] InUse at 741757100 of size 8192 next 844\n",
      "2024-03-05 17:46:51.346574: I external/local_tsl/tsl/framework/bfc_allocator.cc:1095] InUse at 741759100 of size 8192 next 851\n",
      "2024-03-05 17:46:51.346583: I external/local_tsl/tsl/framework/bfc_allocator.cc:1095] InUse at 74175b100 of size 8192 next 898\n",
      "2024-03-05 17:46:51.346593: I external/local_tsl/tsl/framework/bfc_allocator.cc:1095] InUse at 74175d100 of size 8454144 next 915\n",
      "2024-03-05 17:46:51.346601: I external/local_tsl/tsl/framework/bfc_allocator.cc:1095] InUse at 741f6d100 of size 8454144 next 902\n",
      "2024-03-05 17:46:51.346610: I external/local_tsl/tsl/framework/bfc_allocator.cc:1095] InUse at 74277d100 of size 19021824 next 936\n",
      "2024-03-05 17:46:51.346620: I external/local_tsl/tsl/framework/bfc_allocator.cc:1095] InUse at 7439a1100 of size 8454144 next 893\n",
      "2024-03-05 17:46:51.346628: I external/local_tsl/tsl/framework/bfc_allocator.cc:1095] InUse at 7441b1100 of size 8454144 next 940\n",
      "2024-03-05 17:46:51.346637: I external/local_tsl/tsl/framework/bfc_allocator.cc:1095] InUse at 7449c1100 of size 33816576 next 962\n",
      "2024-03-05 17:46:51.346645: I external/local_tsl/tsl/framework/bfc_allocator.cc:1095] InUse at 746a01100 of size 33816576 next 914\n",
      "2024-03-05 17:46:51.346653: I external/local_tsl/tsl/framework/bfc_allocator.cc:1095] InUse at 748a41100 of size 8192 next 887\n",
      "2024-03-05 17:46:51.346664: I external/local_tsl/tsl/framework/bfc_allocator.cc:1095] InUse at 748a43100 of size 8192 next 368\n",
      "2024-03-05 17:46:51.346673: I external/local_tsl/tsl/framework/bfc_allocator.cc:1095] InUse at 748a45100 of size 8192 next 921\n",
      "2024-03-05 17:46:51.346681: I external/local_tsl/tsl/framework/bfc_allocator.cc:1095] Free  at 748a47100 of size 35880960 next 903\n",
      "2024-03-05 17:46:51.346689: I external/local_tsl/tsl/framework/bfc_allocator.cc:1095] InUse at 74ac7f100 of size 33816576 next 742\n",
      "2024-03-05 17:46:51.346698: I external/local_tsl/tsl/framework/bfc_allocator.cc:1095] InUse at 74ccbf100 of size 131072000 next 963\n",
      "2024-03-05 17:46:51.346708: I external/local_tsl/tsl/framework/bfc_allocator.cc:1095] Free  at 7549bf100 of size 220296192 next 828\n",
      "2024-03-05 17:46:51.346717: I external/local_tsl/tsl/framework/bfc_allocator.cc:1095] InUse at 761bd6500 of size 67279616 next 18446744073709551615\n",
      "2024-03-05 17:46:51.346727: I external/local_tsl/tsl/framework/bfc_allocator.cc:1100]      Summary of in-use Chunks by size: \n",
      "2024-03-05 17:46:51.346744: I external/local_tsl/tsl/framework/bfc_allocator.cc:1103] 170 Chunks of size 256 totalling 42.5KiB\n",
      "2024-03-05 17:46:51.346755: I external/local_tsl/tsl/framework/bfc_allocator.cc:1103] 77 Chunks of size 512 totalling 38.5KiB\n",
      "2024-03-05 17:46:51.346765: I external/local_tsl/tsl/framework/bfc_allocator.cc:1103] 3 Chunks of size 768 totalling 2.2KiB\n",
      "2024-03-05 17:46:51.346773: I external/local_tsl/tsl/framework/bfc_allocator.cc:1103] 156 Chunks of size 1024 totalling 156.0KiB\n",
      "2024-03-05 17:46:51.346784: I external/local_tsl/tsl/framework/bfc_allocator.cc:1103] 3 Chunks of size 1280 totalling 3.8KiB\n",
      "2024-03-05 17:46:51.346793: I external/local_tsl/tsl/framework/bfc_allocator.cc:1103] 4 Chunks of size 1536 totalling 6.0KiB\n",
      "2024-03-05 17:46:51.346802: I external/local_tsl/tsl/framework/bfc_allocator.cc:1103] 106 Chunks of size 2048 totalling 212.0KiB\n",
      "2024-03-05 17:46:51.346813: I external/local_tsl/tsl/framework/bfc_allocator.cc:1103] 7 Chunks of size 3072 totalling 21.0KiB\n",
      "2024-03-05 17:46:51.346821: I external/local_tsl/tsl/framework/bfc_allocator.cc:1103] 1 Chunks of size 3328 totalling 3.2KiB\n",
      "2024-03-05 17:46:51.346830: I external/local_tsl/tsl/framework/bfc_allocator.cc:1103] 3 Chunks of size 3584 totalling 10.5KiB\n",
      "2024-03-05 17:46:51.346839: I external/local_tsl/tsl/framework/bfc_allocator.cc:1103] 75 Chunks of size 4096 totalling 300.0KiB\n",
      "2024-03-05 17:46:51.346849: I external/local_tsl/tsl/framework/bfc_allocator.cc:1103] 1 Chunks of size 5120 totalling 5.0KiB\n",
      "2024-03-05 17:46:51.346858: I external/local_tsl/tsl/framework/bfc_allocator.cc:1103] 1 Chunks of size 5632 totalling 5.5KiB\n",
      "2024-03-05 17:46:51.346866: I external/local_tsl/tsl/framework/bfc_allocator.cc:1103] 1 Chunks of size 5888 totalling 5.8KiB\n",
      "2024-03-05 17:46:51.346875: I external/local_tsl/tsl/framework/bfc_allocator.cc:1103] 3 Chunks of size 6144 totalling 18.0KiB\n",
      "2024-03-05 17:46:51.346885: I external/local_tsl/tsl/framework/bfc_allocator.cc:1103] 1 Chunks of size 6400 totalling 6.2KiB\n",
      "2024-03-05 17:46:51.346894: I external/local_tsl/tsl/framework/bfc_allocator.cc:1103] 2 Chunks of size 7168 totalling 14.0KiB\n",
      "2024-03-05 17:46:51.346902: I external/local_tsl/tsl/framework/bfc_allocator.cc:1103] 1 Chunks of size 7936 totalling 7.8KiB\n",
      "2024-03-05 17:46:51.346911: I external/local_tsl/tsl/framework/bfc_allocator.cc:1103] 41 Chunks of size 8192 totalling 328.0KiB\n",
      "2024-03-05 17:46:51.346922: I external/local_tsl/tsl/framework/bfc_allocator.cc:1103] 1 Chunks of size 12288 totalling 12.0KiB\n",
      "2024-03-05 17:46:51.346930: I external/local_tsl/tsl/framework/bfc_allocator.cc:1103] 3 Chunks of size 16384 totalling 48.0KiB\n",
      "2024-03-05 17:46:51.346939: I external/local_tsl/tsl/framework/bfc_allocator.cc:1103] 2 Chunks of size 20224 totalling 39.5KiB\n",
      "2024-03-05 17:46:51.346948: I external/local_tsl/tsl/framework/bfc_allocator.cc:1103] 1 Chunks of size 27904 totalling 27.2KiB\n",
      "2024-03-05 17:46:51.346958: I external/local_tsl/tsl/framework/bfc_allocator.cc:1103] 2 Chunks of size 37632 totalling 73.5KiB\n",
      "2024-03-05 17:46:51.346978: I external/local_tsl/tsl/framework/bfc_allocator.cc:1103] 1 Chunks of size 40960 totalling 40.0KiB\n",
      "2024-03-05 17:46:51.346988: I external/local_tsl/tsl/framework/bfc_allocator.cc:1103] 14 Chunks of size 65536 totalling 896.0KiB\n",
      "2024-03-05 17:46:51.346998: I external/local_tsl/tsl/framework/bfc_allocator.cc:1103] 2 Chunks of size 73728 totalling 144.0KiB\n",
      "2024-03-05 17:46:51.347009: I external/local_tsl/tsl/framework/bfc_allocator.cc:1103] 1 Chunks of size 87808 totalling 85.8KiB\n",
      "2024-03-05 17:46:51.347018: I external/local_tsl/tsl/framework/bfc_allocator.cc:1103] 1 Chunks of size 97024 totalling 94.8KiB\n",
      "2024-03-05 17:46:51.347034: I external/local_tsl/tsl/framework/bfc_allocator.cc:1103] 1 Chunks of size 98304 totalling 96.0KiB\n",
      "2024-03-05 17:46:51.347062: I external/local_tsl/tsl/framework/bfc_allocator.cc:1103] 1 Chunks of size 126208 totalling 123.2KiB\n",
      "2024-03-05 17:46:51.347069: I external/local_tsl/tsl/framework/bfc_allocator.cc:1103] 2 Chunks of size 131072 totalling 256.0KiB\n",
      "2024-03-05 17:46:51.347081: I external/local_tsl/tsl/framework/bfc_allocator.cc:1103] 1 Chunks of size 143360 totalling 140.0KiB\n",
      "2024-03-05 17:46:51.347090: I external/local_tsl/tsl/framework/bfc_allocator.cc:1103] 9 Chunks of size 147456 totalling 1.27MiB\n",
      "2024-03-05 17:46:51.347099: I external/local_tsl/tsl/framework/bfc_allocator.cc:1103] 18 Chunks of size 262144 totalling 4.50MiB\n",
      "2024-03-05 17:46:51.347108: I external/local_tsl/tsl/framework/bfc_allocator.cc:1103] 3 Chunks of size 327680 totalling 960.0KiB\n",
      "2024-03-05 17:46:51.347118: I external/local_tsl/tsl/framework/bfc_allocator.cc:1103] 1 Chunks of size 393216 totalling 384.0KiB\n",
      "2024-03-05 17:46:51.347127: I external/local_tsl/tsl/framework/bfc_allocator.cc:1103] 5 Chunks of size 524288 totalling 2.50MiB\n",
      "2024-03-05 17:46:51.347135: I external/local_tsl/tsl/framework/bfc_allocator.cc:1103] 9 Chunks of size 589824 totalling 5.06MiB\n",
      "2024-03-05 17:46:51.347145: I external/local_tsl/tsl/framework/bfc_allocator.cc:1103] 1 Chunks of size 655360 totalling 640.0KiB\n",
      "2024-03-05 17:46:51.347155: I external/local_tsl/tsl/framework/bfc_allocator.cc:1103] 1 Chunks of size 720896 totalling 704.0KiB\n",
      "2024-03-05 17:46:51.347186: I external/local_tsl/tsl/framework/bfc_allocator.cc:1103] 1 Chunks of size 917504 totalling 896.0KiB\n",
      "2024-03-05 17:46:51.347196: I external/local_tsl/tsl/framework/bfc_allocator.cc:1103] 30 Chunks of size 1048576 totalling 30.00MiB\n",
      "2024-03-05 17:46:51.347203: I external/local_tsl/tsl/framework/bfc_allocator.cc:1103] 1 Chunks of size 1179648 totalling 1.12MiB\n",
      "2024-03-05 17:46:51.347211: I external/local_tsl/tsl/framework/bfc_allocator.cc:1103] 2 Chunks of size 1310720 totalling 2.50MiB\n",
      "2024-03-05 17:46:51.347222: I external/local_tsl/tsl/framework/bfc_allocator.cc:1103] 1 Chunks of size 1572864 totalling 1.50MiB\n",
      "2024-03-05 17:46:51.347231: I external/local_tsl/tsl/framework/bfc_allocator.cc:1103] 6 Chunks of size 2097152 totalling 12.00MiB\n",
      "2024-03-05 17:46:51.347241: I external/local_tsl/tsl/framework/bfc_allocator.cc:1103] 14 Chunks of size 2359296 totalling 31.50MiB\n",
      "2024-03-05 17:46:51.347250: I external/local_tsl/tsl/framework/bfc_allocator.cc:1103] 2 Chunks of size 2827520 totalling 5.39MiB\n",
      "2024-03-05 17:46:51.347261: I external/local_tsl/tsl/framework/bfc_allocator.cc:1103] 2 Chunks of size 3670016 totalling 7.00MiB\n",
      "2024-03-05 17:46:51.347269: I external/local_tsl/tsl/framework/bfc_allocator.cc:1103] 14 Chunks of size 4194304 totalling 56.00MiB\n",
      "2024-03-05 17:46:51.347280: I external/local_tsl/tsl/framework/bfc_allocator.cc:1103] 2 Chunks of size 4227072 totalling 8.06MiB\n",
      "2024-03-05 17:46:51.347288: I external/local_tsl/tsl/framework/bfc_allocator.cc:1103] 1 Chunks of size 5242880 totalling 5.00MiB\n",
      "2024-03-05 17:46:51.347297: I external/local_tsl/tsl/framework/bfc_allocator.cc:1103] 1 Chunks of size 5580800 totalling 5.32MiB\n",
      "2024-03-05 17:46:51.347307: I external/local_tsl/tsl/framework/bfc_allocator.cc:1103] 1 Chunks of size 6029312 totalling 5.75MiB\n",
      "2024-03-05 17:46:51.347316: I external/local_tsl/tsl/framework/bfc_allocator.cc:1103] 1 Chunks of size 6291456 totalling 6.00MiB\n",
      "2024-03-05 17:46:51.347326: I external/local_tsl/tsl/framework/bfc_allocator.cc:1103] 1 Chunks of size 6472704 totalling 6.17MiB\n",
      "2024-03-05 17:46:51.347334: I external/local_tsl/tsl/framework/bfc_allocator.cc:1103] 2 Chunks of size 8388608 totalling 16.00MiB\n",
      "2024-03-05 17:46:51.347343: I external/local_tsl/tsl/framework/bfc_allocator.cc:1103] 12 Chunks of size 8454144 totalling 96.75MiB\n",
      "2024-03-05 17:46:51.347354: I external/local_tsl/tsl/framework/bfc_allocator.cc:1103] 7 Chunks of size 9437184 totalling 63.00MiB\n",
      "2024-03-05 17:46:51.347362: I external/local_tsl/tsl/framework/bfc_allocator.cc:1103] 1 Chunks of size 9791488 totalling 9.34MiB\n",
      "2024-03-05 17:46:51.347371: I external/local_tsl/tsl/framework/bfc_allocator.cc:1103] 1 Chunks of size 11162112 totalling 10.64MiB\n",
      "2024-03-05 17:46:51.347380: I external/local_tsl/tsl/framework/bfc_allocator.cc:1103] 2 Chunks of size 12582912 totalling 24.00MiB\n",
      "2024-03-05 17:46:51.347390: I external/local_tsl/tsl/framework/bfc_allocator.cc:1103] 22 Chunks of size 12945408 totalling 271.61MiB\n",
      "2024-03-05 17:46:51.347399: I external/local_tsl/tsl/framework/bfc_allocator.cc:1103] 1 Chunks of size 14680064 totalling 14.00MiB\n",
      "2024-03-05 17:46:51.347409: I external/local_tsl/tsl/framework/bfc_allocator.cc:1103] 3 Chunks of size 16908288 totalling 48.38MiB\n",
      "2024-03-05 17:46:51.347417: I external/local_tsl/tsl/framework/bfc_allocator.cc:1103] 3 Chunks of size 19021824 totalling 54.42MiB\n",
      "2024-03-05 17:46:51.347426: I external/local_tsl/tsl/framework/bfc_allocator.cc:1103] 1 Chunks of size 19801088 totalling 18.88MiB\n",
      "2024-03-05 17:46:51.347437: I external/local_tsl/tsl/framework/bfc_allocator.cc:1103] 6 Chunks of size 21399552 totalling 122.45MiB\n",
      "2024-03-05 17:46:51.347448: I external/local_tsl/tsl/framework/bfc_allocator.cc:1103] 14 Chunks of size 22324224 totalling 298.06MiB\n",
      "2024-03-05 17:46:51.347457: I external/local_tsl/tsl/framework/bfc_allocator.cc:1103] 3 Chunks of size 25890816 totalling 74.07MiB\n",
      "2024-03-05 17:46:51.347469: I external/local_tsl/tsl/framework/bfc_allocator.cc:1103] 4 Chunks of size 29721600 totalling 113.38MiB\n",
      "2024-03-05 17:46:51.347479: I external/local_tsl/tsl/framework/bfc_allocator.cc:1103] 7 Chunks of size 33816576 totalling 225.75MiB\n",
      "2024-03-05 17:46:51.347488: I external/local_tsl/tsl/framework/bfc_allocator.cc:1103] 7 Chunks of size 41280000 totalling 275.57MiB\n",
      "2024-03-05 17:46:51.347499: I external/local_tsl/tsl/framework/bfc_allocator.cc:1103] 1 Chunks of size 44648448 totalling 42.58MiB\n",
      "2024-03-05 17:46:51.347508: I external/local_tsl/tsl/framework/bfc_allocator.cc:1103] 2 Chunks of size 48148992 totalling 91.84MiB\n",
      "2024-03-05 17:46:51.347518: I external/local_tsl/tsl/framework/bfc_allocator.cc:1103] 1 Chunks of size 49017600 totalling 46.75MiB\n",
      "2024-03-05 17:46:51.347527: I external/local_tsl/tsl/framework/bfc_allocator.cc:1103] 9 Chunks of size 51781632 totalling 444.45MiB\n",
      "2024-03-05 17:46:51.347536: I external/local_tsl/tsl/framework/bfc_allocator.cc:1103] 1 Chunks of size 65197568 totalling 62.18MiB\n",
      "2024-03-05 17:46:51.347546: I external/local_tsl/tsl/framework/bfc_allocator.cc:1103] 1 Chunks of size 65669632 totalling 62.63MiB\n",
      "2024-03-05 17:46:51.347555: I external/local_tsl/tsl/framework/bfc_allocator.cc:1103] 1 Chunks of size 67279616 totalling 64.16MiB\n",
      "2024-03-05 17:46:51.347565: I external/local_tsl/tsl/framework/bfc_allocator.cc:1103] 1 Chunks of size 72338944 totalling 68.99MiB\n",
      "2024-03-05 17:46:51.347574: I external/local_tsl/tsl/framework/bfc_allocator.cc:1103] 1 Chunks of size 79201792 totalling 75.53MiB\n",
      "2024-03-05 17:46:51.347583: I external/local_tsl/tsl/framework/bfc_allocator.cc:1103] 1 Chunks of size 79203840 totalling 75.53MiB\n",
      "2024-03-05 17:46:51.347593: I external/local_tsl/tsl/framework/bfc_allocator.cc:1103] 1 Chunks of size 79207936 totalling 75.54MiB\n",
      "2024-03-05 17:46:51.347602: I external/local_tsl/tsl/framework/bfc_allocator.cc:1103] 1 Chunks of size 79209984 totalling 75.54MiB\n",
      "2024-03-05 17:46:51.347613: I external/local_tsl/tsl/framework/bfc_allocator.cc:1103] 1 Chunks of size 84249600 totalling 80.35MiB\n",
      "2024-03-05 17:46:51.347622: I external/local_tsl/tsl/framework/bfc_allocator.cc:1103] 5 Chunks of size 89296896 totalling 425.80MiB\n",
      "2024-03-05 17:46:51.347633: I external/local_tsl/tsl/framework/bfc_allocator.cc:1103] 1 Chunks of size 128149504 totalling 122.21MiB\n",
      "2024-03-05 17:46:51.347644: I external/local_tsl/tsl/framework/bfc_allocator.cc:1103] 4 Chunks of size 131072000 totalling 500.00MiB\n",
      "2024-03-05 17:46:51.347652: I external/local_tsl/tsl/framework/bfc_allocator.cc:1103] 1 Chunks of size 165120000 totalling 157.47MiB\n",
      "2024-03-05 17:46:51.347661: I external/local_tsl/tsl/framework/bfc_allocator.cc:1103] 1 Chunks of size 176752640 totalling 168.56MiB\n",
      "2024-03-05 17:46:51.347671: I external/local_tsl/tsl/framework/bfc_allocator.cc:1103] 1 Chunks of size 228526080 totalling 217.94MiB\n",
      "2024-03-05 17:46:51.347680: I external/local_tsl/tsl/framework/bfc_allocator.cc:1103] 1 Chunks of size 278767616 totalling 265.85MiB\n",
      "2024-03-05 17:46:51.347691: I external/local_tsl/tsl/framework/bfc_allocator.cc:1103] 1 Chunks of size 283234304 totalling 270.11MiB\n",
      "2024-03-05 17:46:51.347700: I external/local_tsl/tsl/framework/bfc_allocator.cc:1107] Sum Total of in-use chunks: 5.21GiB\n",
      "2024-03-05 17:46:51.347711: I external/local_tsl/tsl/framework/bfc_allocator.cc:1109] Total bytes in pool: 5848956928 memory_limit_: 5848956928 available bytes: 0 curr_region_allocation_bytes_: 11697913856\n",
      "2024-03-05 17:46:51.347728: I external/local_tsl/tsl/framework/bfc_allocator.cc:1114] Stats: \n",
      "Limit:                      5848956928\n",
      "InUse:                      5592745472\n",
      "MaxInUse:                   5813050880\n",
      "NumAllocs:                       75363\n",
      "MaxAllocSize:               1536013312\n",
      "Reserved:                            0\n",
      "PeakReserved:                        0\n",
      "LargestFreeBlock:                    0\n",
      "\n",
      "2024-03-05 17:46:51.347784: W external/local_tsl/tsl/framework/bfc_allocator.cc:497] *****************************x**********x*******************************************************__**\n"
     ]
    },
    {
     "ename": "ResourceExhaustedError",
     "evalue": "Graph execution error:\n\nDetected at node Adam/StatefulPartitionedCall_172 defined at (most recent call last):\n  File \"/home/alex/anaconda3/envs/DeepLearningTF/lib/python3.9/runpy.py\", line 197, in _run_module_as_main\n\n  File \"/home/alex/anaconda3/envs/DeepLearningTF/lib/python3.9/runpy.py\", line 87, in _run_code\n\n  File \"/home/alex/anaconda3/envs/DeepLearningTF/lib/python3.9/site-packages/ipykernel_launcher.py\", line 17, in <module>\n\n  File \"/home/alex/anaconda3/envs/DeepLearningTF/lib/python3.9/site-packages/traitlets/config/application.py\", line 992, in launch_instance\n\n  File \"/home/alex/anaconda3/envs/DeepLearningTF/lib/python3.9/site-packages/ipykernel/kernelapp.py\", line 701, in start\n\n  File \"/home/alex/anaconda3/envs/DeepLearningTF/lib/python3.9/site-packages/tornado/platform/asyncio.py\", line 195, in start\n\n  File \"/home/alex/anaconda3/envs/DeepLearningTF/lib/python3.9/asyncio/base_events.py\", line 601, in run_forever\n\n  File \"/home/alex/anaconda3/envs/DeepLearningTF/lib/python3.9/asyncio/base_events.py\", line 1905, in _run_once\n\n  File \"/home/alex/anaconda3/envs/DeepLearningTF/lib/python3.9/asyncio/events.py\", line 80, in _run\n\n  File \"/home/alex/anaconda3/envs/DeepLearningTF/lib/python3.9/site-packages/ipykernel/kernelbase.py\", line 534, in dispatch_queue\n\n  File \"/home/alex/anaconda3/envs/DeepLearningTF/lib/python3.9/site-packages/ipykernel/kernelbase.py\", line 523, in process_one\n\n  File \"/home/alex/anaconda3/envs/DeepLearningTF/lib/python3.9/site-packages/ipykernel/kernelbase.py\", line 429, in dispatch_shell\n\n  File \"/home/alex/anaconda3/envs/DeepLearningTF/lib/python3.9/site-packages/ipykernel/kernelbase.py\", line 767, in execute_request\n\n  File \"/home/alex/anaconda3/envs/DeepLearningTF/lib/python3.9/site-packages/ipykernel/ipkernel.py\", line 429, in do_execute\n\n  File \"/home/alex/anaconda3/envs/DeepLearningTF/lib/python3.9/site-packages/ipykernel/zmqshell.py\", line 549, in run_cell\n\n  File \"/home/alex/anaconda3/envs/DeepLearningTF/lib/python3.9/site-packages/IPython/core/interactiveshell.py\", line 3024, in run_cell\n\n  File \"/home/alex/anaconda3/envs/DeepLearningTF/lib/python3.9/site-packages/IPython/core/interactiveshell.py\", line 3079, in _run_cell\n\n  File \"/home/alex/anaconda3/envs/DeepLearningTF/lib/python3.9/site-packages/IPython/core/async_helpers.py\", line 129, in _pseudo_sync_runner\n\n  File \"/home/alex/anaconda3/envs/DeepLearningTF/lib/python3.9/site-packages/IPython/core/interactiveshell.py\", line 3284, in run_cell_async\n\n  File \"/home/alex/anaconda3/envs/DeepLearningTF/lib/python3.9/site-packages/IPython/core/interactiveshell.py\", line 3466, in run_ast_nodes\n\n  File \"/home/alex/anaconda3/envs/DeepLearningTF/lib/python3.9/site-packages/IPython/core/interactiveshell.py\", line 3526, in run_code\n\n  File \"/tmp/ipykernel_9910/1863705846.py\", line 4, in <module>\n\n  File \"/home/alex/MIA_DL/utils.py\", line 73, in train_model\n\n  File \"/home/alex/anaconda3/envs/DeepLearningTF/lib/python3.9/site-packages/keras/src/utils/traceback_utils.py\", line 65, in error_handler\n\n  File \"/home/alex/anaconda3/envs/DeepLearningTF/lib/python3.9/site-packages/keras/src/engine/training.py\", line 1807, in fit\n\n  File \"/home/alex/anaconda3/envs/DeepLearningTF/lib/python3.9/site-packages/keras/src/engine/training.py\", line 1401, in train_function\n\n  File \"/home/alex/anaconda3/envs/DeepLearningTF/lib/python3.9/site-packages/keras/src/engine/training.py\", line 1384, in step_function\n\n  File \"/home/alex/anaconda3/envs/DeepLearningTF/lib/python3.9/site-packages/keras/src/engine/training.py\", line 1373, in run_step\n\n  File \"/home/alex/anaconda3/envs/DeepLearningTF/lib/python3.9/site-packages/keras/src/engine/training.py\", line 1154, in train_step\n\n  File \"/home/alex/anaconda3/envs/DeepLearningTF/lib/python3.9/site-packages/keras/src/optimizers/optimizer.py\", line 544, in minimize\n\n  File \"/home/alex/anaconda3/envs/DeepLearningTF/lib/python3.9/site-packages/keras/src/optimizers/optimizer.py\", line 1223, in apply_gradients\n\n  File \"/home/alex/anaconda3/envs/DeepLearningTF/lib/python3.9/site-packages/keras/src/optimizers/optimizer.py\", line 652, in apply_gradients\n\n  File \"/home/alex/anaconda3/envs/DeepLearningTF/lib/python3.9/site-packages/keras/src/optimizers/optimizer.py\", line 1253, in _internal_apply_gradients\n\n  File \"/home/alex/anaconda3/envs/DeepLearningTF/lib/python3.9/site-packages/keras/src/optimizers/optimizer.py\", line 1345, in _distributed_apply_gradients_fn\n\n  File \"/home/alex/anaconda3/envs/DeepLearningTF/lib/python3.9/site-packages/keras/src/optimizers/optimizer.py\", line 1340, in apply_grad_to_update_var\n\nOut of memory while trying to allocate 262144260 bytes.\nBufferAssignment OOM Debugging.\nBufferAssignment stats:\n             parameter allocation:  500.00MiB\n              constant allocation:         8B\n        maybe_live_out allocation:  375.00MiB\n     preallocated temp allocation:  250.00MiB\n  preallocated temp fragmentation:       124B (0.00%)\n                 total allocation:  750.00MiB\nPeak buffers:\n\tBuffer 1:\n\t\tSize: 125.00MiB\n\t\tXLA Label: fusion\n\t\tShape: f32[32768,1000]\n\t\t==========================\n\n\tBuffer 2:\n\t\tSize: 125.00MiB\n\t\tXLA Label: fusion\n\t\tShape: f32[32768,1000]\n\t\t==========================\n\n\tBuffer 3:\n\t\tSize: 125.00MiB\n\t\tOperator: op_name=\"XLA_Args\"\n\t\tEntry Parameter Subshape: f32[32768,1000]\n\t\t==========================\n\n\tBuffer 4:\n\t\tSize: 125.00MiB\n\t\tOperator: op_name=\"XLA_Args\"\n\t\tEntry Parameter Subshape: f32[32768,1000]\n\t\t==========================\n\n\tBuffer 5:\n\t\tSize: 125.00MiB\n\t\tOperator: op_name=\"XLA_Args\"\n\t\tEntry Parameter Subshape: f32[32768,1000]\n\t\t==========================\n\n\tBuffer 6:\n\t\tSize: 125.00MiB\n\t\tOperator: op_name=\"XLA_Args\"\n\t\tEntry Parameter Subshape: f32[32768,1000]\n\t\t==========================\n\n\tBuffer 7:\n\t\tSize: 24B\n\t\tOperator: op_type=\"AssignSubVariableOp\" op_name=\"AssignSubVariableOp\" source_file=\"/home/alex/anaconda3/envs/DeepLearningTF/lib/python3.9/site-packages/tensorflow/python/framework/ops.py\" source_line=1160\n\t\tXLA Label: fusion\n\t\tShape: (f32[32768,1000], f32[32768,1000], f32[32768,1000])\n\t\t==========================\n\n\tBuffer 8:\n\t\tSize: 16B\n\t\tXLA Label: fusion\n\t\tShape: (f32[32768,1000], f32[32768,1000])\n\t\t==========================\n\n\tBuffer 9:\n\t\tSize: 8B\n\t\tOperator: op_name=\"XLA_Args\"\n\t\tEntry Parameter Subshape: s64[]\n\t\t==========================\n\n\tBuffer 10:\n\t\tSize: 4B\n\t\tOperator: op_type=\"Pow\" op_name=\"Pow_1\" source_file=\"/home/alex/anaconda3/envs/DeepLearningTF/lib/python3.9/site-packages/tensorflow/python/framework/ops.py\" source_line=1160 deduplicated_name=\"fusion.4\"\n\t\tXLA Label: fusion\n\t\tShape: f32[]\n\t\t==========================\n\n\tBuffer 11:\n\t\tSize: 4B\n\t\tOperator: op_type=\"Pow\" op_name=\"Pow\" source_file=\"/home/alex/anaconda3/envs/DeepLearningTF/lib/python3.9/site-packages/tensorflow/python/framework/ops.py\" source_line=1160 deduplicated_name=\"fusion.4\"\n\t\tXLA Label: fusion\n\t\tShape: f32[]\n\t\t==========================\n\n\tBuffer 12:\n\t\tSize: 4B\n\t\tOperator: op_name=\"XLA_Args\"\n\t\tEntry Parameter Subshape: f32[]\n\t\t==========================\n\n\tBuffer 13:\n\t\tSize: 4B\n\t\tOperator: op_type=\"Pow\" op_name=\"Pow\" source_file=\"/home/alex/anaconda3/envs/DeepLearningTF/lib/python3.9/site-packages/tensorflow/python/framework/ops.py\" source_line=1160\n\t\tXLA Label: constant\n\t\tShape: f32[]\n\t\t==========================\n\n\tBuffer 14:\n\t\tSize: 4B\n\t\tOperator: op_type=\"Pow\" op_name=\"Pow_1\" source_file=\"/home/alex/anaconda3/envs/DeepLearningTF/lib/python3.9/site-packages/tensorflow/python/framework/ops.py\" source_line=1160\n\t\tXLA Label: constant\n\t\tShape: f32[]\n\t\t==========================\n\n\n\t [[{{node Adam/StatefulPartitionedCall_172}}]]\nHint: If you want to see a list of allocated tensors when OOM happens, add report_tensor_allocations_upon_oom to RunOptions for current allocation info. This isn't available when running in Eager mode.\n [Op:__inference_train_function_27082]",
     "output_type": "error",
     "traceback": [
      "\u001b[0;31m---------------------------------------------------------------------------\u001b[0m",
      "\u001b[0;31mResourceExhaustedError\u001b[0m                    Traceback (most recent call last)",
      "Cell \u001b[0;32mIn[4], line 4\u001b[0m\n\u001b[1;32m      2\u001b[0m optimizer \u001b[38;5;241m=\u001b[39m Adam(learning_rate\u001b[38;5;241m=\u001b[39m\u001b[38;5;241m1e-4\u001b[39m)\n\u001b[1;32m      3\u001b[0m resnet50\u001b[38;5;241m.\u001b[39mcompile(optimizer\u001b[38;5;241m=\u001b[39moptimizer, loss\u001b[38;5;241m=\u001b[39m\u001b[38;5;124m\"\u001b[39m\u001b[38;5;124msparse_categorical_crossentropy\u001b[39m\u001b[38;5;124m\"\u001b[39m, metrics\u001b[38;5;241m=\u001b[39m[SparseCategoricalAccuracy(\u001b[38;5;124m'\u001b[39m\u001b[38;5;124macc\u001b[39m\u001b[38;5;124m'\u001b[39m)])\n\u001b[0;32m----> 4\u001b[0m resnet50_history \u001b[38;5;241m=\u001b[39m \u001b[43mtrain_model\u001b[49m\u001b[43m(\u001b[49m\n\u001b[1;32m      5\u001b[0m \u001b[43m    \u001b[49m\u001b[43mresnet50\u001b[49m\u001b[43m,\u001b[49m\n\u001b[1;32m      6\u001b[0m \u001b[43m    \u001b[49m\u001b[43mtrain_dataset\u001b[49m\u001b[43m,\u001b[49m\n\u001b[1;32m      7\u001b[0m \u001b[43m    \u001b[49m\u001b[43mval_dataset\u001b[49m\u001b[43m,\u001b[49m\n\u001b[1;32m      8\u001b[0m \u001b[43m    \u001b[49m\u001b[43mpath\u001b[49m\u001b[38;5;241;43m=\u001b[39;49m\u001b[43mmodel_dir\u001b[49m\u001b[43m,\u001b[49m\n\u001b[1;32m      9\u001b[0m \u001b[43m    \u001b[49m\u001b[43mepochs\u001b[49m\u001b[38;5;241;43m=\u001b[39;49m\u001b[38;5;241;43m50\u001b[39;49m\u001b[43m,\u001b[49m\n\u001b[1;32m     10\u001b[0m \u001b[43m    \u001b[49m\u001b[43mverbose\u001b[49m\u001b[38;5;241;43m=\u001b[39;49m\u001b[38;5;241;43m1\u001b[39;49m\u001b[43m,\u001b[49m\n\u001b[1;32m     11\u001b[0m \u001b[43m    \u001b[49m\u001b[43mlr_patience\u001b[49m\u001b[38;5;241;43m=\u001b[39;49m\u001b[38;5;241;43m5\u001b[39;49m\u001b[43m,\u001b[49m\n\u001b[1;32m     12\u001b[0m \u001b[43m    \u001b[49m\u001b[43mval_patience\u001b[49m\u001b[38;5;241;43m=\u001b[39;49m\u001b[38;5;241;43m10\u001b[39;49m\n\u001b[1;32m     13\u001b[0m \u001b[43m)\u001b[49m\u001b[38;5;241m.\u001b[39mhistory\n\u001b[1;32m     14\u001b[0m \u001b[38;5;28mprint\u001b[39m(\n\u001b[1;32m     15\u001b[0m     \u001b[38;5;124mf\u001b[39m\u001b[38;5;124m\"\u001b[39m\u001b[38;5;124mFinal loss: training -> \u001b[39m\u001b[38;5;132;01m{\u001b[39;00mresnet50_history[\u001b[38;5;124m'\u001b[39m\u001b[38;5;124mloss\u001b[39m\u001b[38;5;124m'\u001b[39m][\u001b[38;5;241m-\u001b[39m\u001b[38;5;241m1\u001b[39m]\u001b[38;5;132;01m:\u001b[39;00m\u001b[38;5;124m.2f\u001b[39m\u001b[38;5;132;01m}\u001b[39;00m\u001b[38;5;124m, validation -> \u001b[39m\u001b[38;5;132;01m{\u001b[39;00mresnet50_history[\u001b[38;5;124m'\u001b[39m\u001b[38;5;124mval_loss\u001b[39m\u001b[38;5;124m'\u001b[39m][\u001b[38;5;241m-\u001b[39m\u001b[38;5;241m1\u001b[39m]\u001b[38;5;132;01m:\u001b[39;00m\u001b[38;5;124m.2f\u001b[39m\u001b[38;5;132;01m}\u001b[39;00m\u001b[38;5;124m\"\u001b[39m\n\u001b[1;32m     16\u001b[0m )\n\u001b[1;32m     17\u001b[0m \u001b[38;5;28mprint\u001b[39m(\n\u001b[1;32m     18\u001b[0m     \u001b[38;5;124mf\u001b[39m\u001b[38;5;124m\"\u001b[39m\u001b[38;5;124mFinal accuracy: training -> \u001b[39m\u001b[38;5;132;01m{\u001b[39;00mresnet50_history[\u001b[38;5;124m'\u001b[39m\u001b[38;5;124macc\u001b[39m\u001b[38;5;124m'\u001b[39m][\u001b[38;5;241m-\u001b[39m\u001b[38;5;241m1\u001b[39m]\u001b[38;5;132;01m:\u001b[39;00m\u001b[38;5;124m.2f\u001b[39m\u001b[38;5;132;01m}\u001b[39;00m\u001b[38;5;124m, validation -> \u001b[39m\u001b[38;5;132;01m{\u001b[39;00mresnet50_history[\u001b[38;5;124m'\u001b[39m\u001b[38;5;124mval_acc\u001b[39m\u001b[38;5;124m'\u001b[39m][\u001b[38;5;241m-\u001b[39m\u001b[38;5;241m1\u001b[39m]\u001b[38;5;132;01m:\u001b[39;00m\u001b[38;5;124m.2f\u001b[39m\u001b[38;5;132;01m}\u001b[39;00m\u001b[38;5;124m\"\u001b[39m\n\u001b[1;32m     19\u001b[0m )\n",
      "File \u001b[0;32m~/MIA_DL/utils.py:73\u001b[0m, in \u001b[0;36mtrain_model\u001b[0;34m(model, train, val, path, epochs, batch_size, val_patience, lr_patience, verbose)\u001b[0m\n\u001b[1;32m     70\u001b[0m \u001b[38;5;28;01mif\u001b[39;00m path:\n\u001b[1;32m     71\u001b[0m     callbacks\u001b[38;5;241m.\u001b[39mappend(ModelCheckpoint(\u001b[38;5;124mf\u001b[39m\u001b[38;5;124m'\u001b[39m\u001b[38;5;132;01m{\u001b[39;00mpath\u001b[38;5;132;01m}\u001b[39;00m\u001b[38;5;124m/\u001b[39m\u001b[38;5;132;01m{\u001b[39;00mmodel\u001b[38;5;241m.\u001b[39mname\u001b[38;5;132;01m}\u001b[39;00m\u001b[38;5;124m.keras\u001b[39m\u001b[38;5;124m'\u001b[39m, \u001b[38;5;124m'\u001b[39m\u001b[38;5;124mval_loss\u001b[39m\u001b[38;5;124m'\u001b[39m, save_best_only\u001b[38;5;241m=\u001b[39m\u001b[38;5;28;01mTrue\u001b[39;00m))\n\u001b[0;32m---> 73\u001b[0m history \u001b[38;5;241m=\u001b[39m \u001b[43mmodel\u001b[49m\u001b[38;5;241;43m.\u001b[39;49m\u001b[43mfit\u001b[49m\u001b[43m(\u001b[49m\u001b[43mtrain\u001b[49m\u001b[43m,\u001b[49m\u001b[43m \u001b[49m\u001b[43mepochs\u001b[49m\u001b[38;5;241;43m=\u001b[39;49m\u001b[43mepochs\u001b[49m\u001b[43m,\u001b[49m\u001b[43m \u001b[49m\u001b[43mbatch_size\u001b[49m\u001b[38;5;241;43m=\u001b[39;49m\u001b[43mbatch_size\u001b[49m\u001b[43m,\u001b[49m\u001b[43m \u001b[49m\u001b[43mcallbacks\u001b[49m\u001b[38;5;241;43m=\u001b[39;49m\u001b[43mcallbacks\u001b[49m\u001b[43m,\u001b[49m\u001b[43m \u001b[49m\n\u001b[1;32m     74\u001b[0m \u001b[43m                             \u001b[49m\u001b[43mverbose\u001b[49m\u001b[38;5;241;43m=\u001b[39;49m\u001b[43mverbose\u001b[49m\u001b[43m,\u001b[49m\u001b[43m \u001b[49m\u001b[43mvalidation_data\u001b[49m\u001b[38;5;241;43m=\u001b[39;49m\u001b[43mval\u001b[49m\u001b[43m)\u001b[49m\n\u001b[1;32m     75\u001b[0m \u001b[38;5;28;01mwith\u001b[39;00m \u001b[38;5;28mopen\u001b[39m(\u001b[38;5;124mf\u001b[39m\u001b[38;5;124m'\u001b[39m\u001b[38;5;132;01m{\u001b[39;00mpath\u001b[38;5;132;01m}\u001b[39;00m\u001b[38;5;124m/history.pickle\u001b[39m\u001b[38;5;124m'\u001b[39m, \u001b[38;5;124m'\u001b[39m\u001b[38;5;124mwb\u001b[39m\u001b[38;5;124m'\u001b[39m) \u001b[38;5;28;01mas\u001b[39;00m writer:\n\u001b[1;32m     76\u001b[0m     pickle\u001b[38;5;241m.\u001b[39mdump(history\u001b[38;5;241m.\u001b[39mhistory, writer)\n",
      "File \u001b[0;32m~/anaconda3/envs/DeepLearningTF/lib/python3.9/site-packages/keras/src/utils/traceback_utils.py:70\u001b[0m, in \u001b[0;36mfilter_traceback.<locals>.error_handler\u001b[0;34m(*args, **kwargs)\u001b[0m\n\u001b[1;32m     67\u001b[0m     filtered_tb \u001b[38;5;241m=\u001b[39m _process_traceback_frames(e\u001b[38;5;241m.\u001b[39m__traceback__)\n\u001b[1;32m     68\u001b[0m     \u001b[38;5;66;03m# To get the full stack trace, call:\u001b[39;00m\n\u001b[1;32m     69\u001b[0m     \u001b[38;5;66;03m# `tf.debugging.disable_traceback_filtering()`\u001b[39;00m\n\u001b[0;32m---> 70\u001b[0m     \u001b[38;5;28;01mraise\u001b[39;00m e\u001b[38;5;241m.\u001b[39mwith_traceback(filtered_tb) \u001b[38;5;28;01mfrom\u001b[39;00m \u001b[38;5;28;01mNone\u001b[39;00m\n\u001b[1;32m     71\u001b[0m \u001b[38;5;28;01mfinally\u001b[39;00m:\n\u001b[1;32m     72\u001b[0m     \u001b[38;5;28;01mdel\u001b[39;00m filtered_tb\n",
      "File \u001b[0;32m~/anaconda3/envs/DeepLearningTF/lib/python3.9/site-packages/tensorflow/python/eager/execute.py:53\u001b[0m, in \u001b[0;36mquick_execute\u001b[0;34m(op_name, num_outputs, inputs, attrs, ctx, name)\u001b[0m\n\u001b[1;32m     51\u001b[0m \u001b[38;5;28;01mtry\u001b[39;00m:\n\u001b[1;32m     52\u001b[0m   ctx\u001b[38;5;241m.\u001b[39mensure_initialized()\n\u001b[0;32m---> 53\u001b[0m   tensors \u001b[38;5;241m=\u001b[39m pywrap_tfe\u001b[38;5;241m.\u001b[39mTFE_Py_Execute(ctx\u001b[38;5;241m.\u001b[39m_handle, device_name, op_name,\n\u001b[1;32m     54\u001b[0m                                       inputs, attrs, num_outputs)\n\u001b[1;32m     55\u001b[0m \u001b[38;5;28;01mexcept\u001b[39;00m core\u001b[38;5;241m.\u001b[39m_NotOkStatusException \u001b[38;5;28;01mas\u001b[39;00m e:\n\u001b[1;32m     56\u001b[0m   \u001b[38;5;28;01mif\u001b[39;00m name \u001b[38;5;129;01mis\u001b[39;00m \u001b[38;5;129;01mnot\u001b[39;00m \u001b[38;5;28;01mNone\u001b[39;00m:\n",
      "\u001b[0;31mResourceExhaustedError\u001b[0m: Graph execution error:\n\nDetected at node Adam/StatefulPartitionedCall_172 defined at (most recent call last):\n  File \"/home/alex/anaconda3/envs/DeepLearningTF/lib/python3.9/runpy.py\", line 197, in _run_module_as_main\n\n  File \"/home/alex/anaconda3/envs/DeepLearningTF/lib/python3.9/runpy.py\", line 87, in _run_code\n\n  File \"/home/alex/anaconda3/envs/DeepLearningTF/lib/python3.9/site-packages/ipykernel_launcher.py\", line 17, in <module>\n\n  File \"/home/alex/anaconda3/envs/DeepLearningTF/lib/python3.9/site-packages/traitlets/config/application.py\", line 992, in launch_instance\n\n  File \"/home/alex/anaconda3/envs/DeepLearningTF/lib/python3.9/site-packages/ipykernel/kernelapp.py\", line 701, in start\n\n  File \"/home/alex/anaconda3/envs/DeepLearningTF/lib/python3.9/site-packages/tornado/platform/asyncio.py\", line 195, in start\n\n  File \"/home/alex/anaconda3/envs/DeepLearningTF/lib/python3.9/asyncio/base_events.py\", line 601, in run_forever\n\n  File \"/home/alex/anaconda3/envs/DeepLearningTF/lib/python3.9/asyncio/base_events.py\", line 1905, in _run_once\n\n  File \"/home/alex/anaconda3/envs/DeepLearningTF/lib/python3.9/asyncio/events.py\", line 80, in _run\n\n  File \"/home/alex/anaconda3/envs/DeepLearningTF/lib/python3.9/site-packages/ipykernel/kernelbase.py\", line 534, in dispatch_queue\n\n  File \"/home/alex/anaconda3/envs/DeepLearningTF/lib/python3.9/site-packages/ipykernel/kernelbase.py\", line 523, in process_one\n\n  File \"/home/alex/anaconda3/envs/DeepLearningTF/lib/python3.9/site-packages/ipykernel/kernelbase.py\", line 429, in dispatch_shell\n\n  File \"/home/alex/anaconda3/envs/DeepLearningTF/lib/python3.9/site-packages/ipykernel/kernelbase.py\", line 767, in execute_request\n\n  File \"/home/alex/anaconda3/envs/DeepLearningTF/lib/python3.9/site-packages/ipykernel/ipkernel.py\", line 429, in do_execute\n\n  File \"/home/alex/anaconda3/envs/DeepLearningTF/lib/python3.9/site-packages/ipykernel/zmqshell.py\", line 549, in run_cell\n\n  File \"/home/alex/anaconda3/envs/DeepLearningTF/lib/python3.9/site-packages/IPython/core/interactiveshell.py\", line 3024, in run_cell\n\n  File \"/home/alex/anaconda3/envs/DeepLearningTF/lib/python3.9/site-packages/IPython/core/interactiveshell.py\", line 3079, in _run_cell\n\n  File \"/home/alex/anaconda3/envs/DeepLearningTF/lib/python3.9/site-packages/IPython/core/async_helpers.py\", line 129, in _pseudo_sync_runner\n\n  File \"/home/alex/anaconda3/envs/DeepLearningTF/lib/python3.9/site-packages/IPython/core/interactiveshell.py\", line 3284, in run_cell_async\n\n  File \"/home/alex/anaconda3/envs/DeepLearningTF/lib/python3.9/site-packages/IPython/core/interactiveshell.py\", line 3466, in run_ast_nodes\n\n  File \"/home/alex/anaconda3/envs/DeepLearningTF/lib/python3.9/site-packages/IPython/core/interactiveshell.py\", line 3526, in run_code\n\n  File \"/tmp/ipykernel_9910/1863705846.py\", line 4, in <module>\n\n  File \"/home/alex/MIA_DL/utils.py\", line 73, in train_model\n\n  File \"/home/alex/anaconda3/envs/DeepLearningTF/lib/python3.9/site-packages/keras/src/utils/traceback_utils.py\", line 65, in error_handler\n\n  File \"/home/alex/anaconda3/envs/DeepLearningTF/lib/python3.9/site-packages/keras/src/engine/training.py\", line 1807, in fit\n\n  File \"/home/alex/anaconda3/envs/DeepLearningTF/lib/python3.9/site-packages/keras/src/engine/training.py\", line 1401, in train_function\n\n  File \"/home/alex/anaconda3/envs/DeepLearningTF/lib/python3.9/site-packages/keras/src/engine/training.py\", line 1384, in step_function\n\n  File \"/home/alex/anaconda3/envs/DeepLearningTF/lib/python3.9/site-packages/keras/src/engine/training.py\", line 1373, in run_step\n\n  File \"/home/alex/anaconda3/envs/DeepLearningTF/lib/python3.9/site-packages/keras/src/engine/training.py\", line 1154, in train_step\n\n  File \"/home/alex/anaconda3/envs/DeepLearningTF/lib/python3.9/site-packages/keras/src/optimizers/optimizer.py\", line 544, in minimize\n\n  File \"/home/alex/anaconda3/envs/DeepLearningTF/lib/python3.9/site-packages/keras/src/optimizers/optimizer.py\", line 1223, in apply_gradients\n\n  File \"/home/alex/anaconda3/envs/DeepLearningTF/lib/python3.9/site-packages/keras/src/optimizers/optimizer.py\", line 652, in apply_gradients\n\n  File \"/home/alex/anaconda3/envs/DeepLearningTF/lib/python3.9/site-packages/keras/src/optimizers/optimizer.py\", line 1253, in _internal_apply_gradients\n\n  File \"/home/alex/anaconda3/envs/DeepLearningTF/lib/python3.9/site-packages/keras/src/optimizers/optimizer.py\", line 1345, in _distributed_apply_gradients_fn\n\n  File \"/home/alex/anaconda3/envs/DeepLearningTF/lib/python3.9/site-packages/keras/src/optimizers/optimizer.py\", line 1340, in apply_grad_to_update_var\n\nOut of memory while trying to allocate 262144260 bytes.\nBufferAssignment OOM Debugging.\nBufferAssignment stats:\n             parameter allocation:  500.00MiB\n              constant allocation:         8B\n        maybe_live_out allocation:  375.00MiB\n     preallocated temp allocation:  250.00MiB\n  preallocated temp fragmentation:       124B (0.00%)\n                 total allocation:  750.00MiB\nPeak buffers:\n\tBuffer 1:\n\t\tSize: 125.00MiB\n\t\tXLA Label: fusion\n\t\tShape: f32[32768,1000]\n\t\t==========================\n\n\tBuffer 2:\n\t\tSize: 125.00MiB\n\t\tXLA Label: fusion\n\t\tShape: f32[32768,1000]\n\t\t==========================\n\n\tBuffer 3:\n\t\tSize: 125.00MiB\n\t\tOperator: op_name=\"XLA_Args\"\n\t\tEntry Parameter Subshape: f32[32768,1000]\n\t\t==========================\n\n\tBuffer 4:\n\t\tSize: 125.00MiB\n\t\tOperator: op_name=\"XLA_Args\"\n\t\tEntry Parameter Subshape: f32[32768,1000]\n\t\t==========================\n\n\tBuffer 5:\n\t\tSize: 125.00MiB\n\t\tOperator: op_name=\"XLA_Args\"\n\t\tEntry Parameter Subshape: f32[32768,1000]\n\t\t==========================\n\n\tBuffer 6:\n\t\tSize: 125.00MiB\n\t\tOperator: op_name=\"XLA_Args\"\n\t\tEntry Parameter Subshape: f32[32768,1000]\n\t\t==========================\n\n\tBuffer 7:\n\t\tSize: 24B\n\t\tOperator: op_type=\"AssignSubVariableOp\" op_name=\"AssignSubVariableOp\" source_file=\"/home/alex/anaconda3/envs/DeepLearningTF/lib/python3.9/site-packages/tensorflow/python/framework/ops.py\" source_line=1160\n\t\tXLA Label: fusion\n\t\tShape: (f32[32768,1000], f32[32768,1000], f32[32768,1000])\n\t\t==========================\n\n\tBuffer 8:\n\t\tSize: 16B\n\t\tXLA Label: fusion\n\t\tShape: (f32[32768,1000], f32[32768,1000])\n\t\t==========================\n\n\tBuffer 9:\n\t\tSize: 8B\n\t\tOperator: op_name=\"XLA_Args\"\n\t\tEntry Parameter Subshape: s64[]\n\t\t==========================\n\n\tBuffer 10:\n\t\tSize: 4B\n\t\tOperator: op_type=\"Pow\" op_name=\"Pow_1\" source_file=\"/home/alex/anaconda3/envs/DeepLearningTF/lib/python3.9/site-packages/tensorflow/python/framework/ops.py\" source_line=1160 deduplicated_name=\"fusion.4\"\n\t\tXLA Label: fusion\n\t\tShape: f32[]\n\t\t==========================\n\n\tBuffer 11:\n\t\tSize: 4B\n\t\tOperator: op_type=\"Pow\" op_name=\"Pow\" source_file=\"/home/alex/anaconda3/envs/DeepLearningTF/lib/python3.9/site-packages/tensorflow/python/framework/ops.py\" source_line=1160 deduplicated_name=\"fusion.4\"\n\t\tXLA Label: fusion\n\t\tShape: f32[]\n\t\t==========================\n\n\tBuffer 12:\n\t\tSize: 4B\n\t\tOperator: op_name=\"XLA_Args\"\n\t\tEntry Parameter Subshape: f32[]\n\t\t==========================\n\n\tBuffer 13:\n\t\tSize: 4B\n\t\tOperator: op_type=\"Pow\" op_name=\"Pow\" source_file=\"/home/alex/anaconda3/envs/DeepLearningTF/lib/python3.9/site-packages/tensorflow/python/framework/ops.py\" source_line=1160\n\t\tXLA Label: constant\n\t\tShape: f32[]\n\t\t==========================\n\n\tBuffer 14:\n\t\tSize: 4B\n\t\tOperator: op_type=\"Pow\" op_name=\"Pow_1\" source_file=\"/home/alex/anaconda3/envs/DeepLearningTF/lib/python3.9/site-packages/tensorflow/python/framework/ops.py\" source_line=1160\n\t\tXLA Label: constant\n\t\tShape: f32[]\n\t\t==========================\n\n\n\t [[{{node Adam/StatefulPartitionedCall_172}}]]\nHint: If you want to see a list of allocated tensors when OOM happens, add report_tensor_allocations_upon_oom to RunOptions for current allocation info. This isn't available when running in Eager mode.\n [Op:__inference_train_function_27082]"
     ]
    }
   ],
   "source": [
    "resnet50 = PretrainedModel(num_classes=5, img_size=IMG_SIZE, pretrained='resnet', name='ResNet50V2', defreeze=0)\n",
    "optimizer = Adam(learning_rate=1e-4)\n",
    "resnet50.compile(optimizer=optimizer, loss=\"sparse_categorical_crossentropy\", metrics=[SparseCategoricalAccuracy('acc')])\n",
    "resnet50_history = train_model(\n",
    "    resnet50,\n",
    "    train_dataset,\n",
    "    val_dataset,\n",
    "    path=model_dir,\n",
    "    epochs=50,\n",
    "    verbose=1,\n",
    "    lr_patience=5,\n",
    "    val_patience=10\n",
    ").history\n",
    "print(\n",
    "    f\"Final loss: training -> {resnet50_history['loss'][-1]:.2f}, validation -> {resnet50_history['val_loss'][-1]:.2f}\"\n",
    ")\n",
    "print(\n",
    "    f\"Final accuracy: training -> {resnet50_history['acc'][-1]:.2f}, validation -> {resnet50_history['val_acc'][-1]:.2f}\"\n",
    ")\n",
    "plot_history(resnet50_history, ['loss', 'acc'], name=f'{resnet50.name} Model')\n",
    "test_loss, test_accuracy = resnet50.evaluate(test_dataset, batch_size=BATCH_SIZE)\n",
    "print(\n",
    "    f\"Model evaluated: Test Loss-> {test_loss}, Test Accuracy -> {test_accuracy*100:.2f}%\"\n",
    ")\n",
    "resnet50.summary()"
   ]
  },
  {
   "cell_type": "markdown",
   "metadata": {},
   "source": [
    "#### MobileNet V2"
   ]
  },
  {
   "cell_type": "code",
   "execution_count": 32,
   "metadata": {},
   "outputs": [
    {
     "name": "stdout",
     "output_type": "stream",
     "text": [
      "Epoch 1/50\n",
      "45/45 [==============================] - 28s 197ms/step - loss: 0.6446 - acc: 0.8187 - val_loss: 0.6537 - val_acc: 0.8803 - lr: 1.0000e-04\n",
      "Epoch 2/50\n",
      "45/45 [==============================] - 6s 107ms/step - loss: 0.0674 - acc: 0.9796 - val_loss: 0.6822 - val_acc: 0.8916 - lr: 1.0000e-04\n",
      "Epoch 3/50\n",
      "45/45 [==============================] - 6s 108ms/step - loss: 0.0186 - acc: 0.9962 - val_loss: 0.7930 - val_acc: 0.8921 - lr: 1.0000e-04\n",
      "Epoch 4/50\n",
      "45/45 [==============================] - 6s 106ms/step - loss: 0.0077 - acc: 0.9990 - val_loss: 0.7744 - val_acc: 0.8941 - lr: 1.0000e-04\n",
      "Epoch 5/50\n",
      "45/45 [==============================] - 6s 107ms/step - loss: 0.0039 - acc: 0.9996 - val_loss: 0.7461 - val_acc: 0.9090 - lr: 1.0000e-04\n",
      "Epoch 6/50\n",
      "45/45 [==============================] - 6s 108ms/step - loss: 0.0031 - acc: 0.9997 - val_loss: 0.7437 - val_acc: 0.9070 - lr: 1.0000e-04\n",
      "Epoch 7/50\n",
      "45/45 [==============================] - 6s 108ms/step - loss: 0.0019 - acc: 0.9998 - val_loss: 0.7903 - val_acc: 0.9045 - lr: 2.0000e-05\n",
      "Epoch 8/50\n",
      "45/45 [==============================] - 6s 106ms/step - loss: 0.0017 - acc: 0.9997 - val_loss: 0.7445 - val_acc: 0.9060 - lr: 2.0000e-05\n",
      "Epoch 9/50\n",
      "45/45 [==============================] - 6s 107ms/step - loss: 0.0014 - acc: 0.9999 - val_loss: 0.7238 - val_acc: 0.9070 - lr: 2.0000e-05\n",
      "Epoch 10/50\n",
      "45/45 [==============================] - 6s 108ms/step - loss: 0.0013 - acc: 0.9997 - val_loss: 0.7045 - val_acc: 0.9065 - lr: 2.0000e-05\n",
      "Epoch 11/50\n",
      "45/45 [==============================] - 6s 107ms/step - loss: 0.0012 - acc: 0.9997 - val_loss: 0.6617 - val_acc: 0.9085 - lr: 2.0000e-05\n",
      "Final loss: training -> 0.00, validation -> 0.66\n",
      "Final accuracy: training -> 1.00, validation -> 0.91\n",
      "6/6 [==============================] - 1s 43ms/step - loss: 0.4823 - acc: 0.9319\n",
      "Model evaluated: Test Loss-> 0.4823245108127594, Test Accuracy -> 93.19%\n",
      "Model: \"MobileNetV2\"\n",
      "_________________________________________________________________\n",
      " Layer (type)                Output Shape              Param #   \n",
      "=================================================================\n",
      " rescaling_6 (Rescaling)     multiple                  0         \n",
      "                                                                 \n",
      " mobilenetv2_1.00_224 (Func  (None, 4, 4, 1280)        2257984   \n",
      " tional)                                                         \n",
      "                                                                 \n",
      " flatten_3 (Flatten)         multiple                  0         \n",
      "                                                                 \n",
      " dense_11 (Dense)            multiple                  20481000  \n",
      "                                                                 \n",
      " dense_12 (Dense)            multiple                  5005      \n",
      "                                                                 \n",
      "=================================================================\n",
      "Total params: 22743989 (86.76 MB)\n",
      "Trainable params: 22709877 (86.63 MB)\n",
      "Non-trainable params: 34112 (133.25 KB)\n",
      "_________________________________________________________________\n"
     ]
    }
   ],
   "source": [
    "mobile = PretrainedModel(num_classes=5, img_size=IMG_SIZE, pretrained='mobile', name='MobileNetV2', defreeze=0)\n",
    "optimizer = Adam(learning_rate=1e-4)\n",
    "mobile.compile(optimizer=optimizer, loss=\"sparse_categorical_crossentropy\", metrics=[SparseCategoricalAccuracy('acc')])\n",
    "mobile_history = train_model(\n",
    "    mobile,\n",
    "    train_dataset,\n",
    "    val_dataset,\n",
    "    path=model_dir,\n",
    "    epochs=50,\n",
    "    verbose=1,\n",
    "    lr_patience=5,\n",
    "    val_patience=10\n",
    ").history\n",
    "print(\n",
    "    f\"Final loss: training -> {mobile_history['loss'][-1]:.2f}, validation -> {mobile_history['val_loss'][-1]:.2f}\"\n",
    ")\n",
    "print(\n",
    "    f\"Final accuracy: training -> {mobile_history['acc'][-1]:.2f}, validation -> {mobile_history['val_acc'][-1]:.2f}\"\n",
    ")\n",
    "plot_history(mobile_history, ['loss', 'acc'], name=f'{mobile.name} Model')\n",
    "test_loss, test_accuracy = mobile.evaluate(test_dataset, batch_size=BATCH_SIZE)\n",
    "print(\n",
    "    f\"Model evaluated: Test Loss-> {test_loss}, Test Accuracy -> {test_accuracy*100:.2f}%\"\n",
    ")\n",
    "mobile.summary()"
   ]
  },
  {
   "cell_type": "markdown",
   "metadata": {},
   "source": [
    "#### EfficientNet B0"
   ]
  },
  {
   "cell_type": "code",
   "execution_count": 33,
   "metadata": {},
   "outputs": [
    {
     "name": "stdout",
     "output_type": "stream",
     "text": [
      "Epoch 1/50\n"
     ]
    },
    {
     "name": "stderr",
     "output_type": "stream",
     "text": [
      "2024-03-05 16:52:11.014578: E tensorflow/core/grappler/optimizers/meta_optimizer.cc:961] layout failed: INVALID_ARGUMENT: Size of values 0 does not match size of permutation 4 @ fanin shape inEfficientNetB0/efficientnetb0/block2b_drop/dropout/SelectV2-2-TransposeNHWCToNCHW-LayoutOptimizer\n"
     ]
    },
    {
     "name": "stdout",
     "output_type": "stream",
     "text": [
      "45/45 [==============================] - 32s 202ms/step - loss: 0.5718 - acc: 0.7885 - val_loss: 2.0307 - val_acc: 0.1851 - lr: 1.0000e-04\n",
      "Epoch 2/50\n",
      "45/45 [==============================] - 8s 152ms/step - loss: 0.1616 - acc: 0.9421 - val_loss: 2.5246 - val_acc: 0.1851 - lr: 1.0000e-04\n",
      "Epoch 3/50\n",
      "45/45 [==============================] - 8s 152ms/step - loss: 0.0746 - acc: 0.9756 - val_loss: 2.1531 - val_acc: 0.2172 - lr: 1.0000e-04\n",
      "Epoch 4/50\n",
      "45/45 [==============================] - 8s 152ms/step - loss: 0.0433 - acc: 0.9881 - val_loss: 2.7200 - val_acc: 0.1559 - lr: 1.0000e-04\n",
      "Epoch 5/50\n",
      "45/45 [==============================] - 8s 152ms/step - loss: 0.0314 - acc: 0.9907 - val_loss: 2.9792 - val_acc: 0.1415 - lr: 1.0000e-04\n",
      "Epoch 6/50\n",
      "45/45 [==============================] - 8s 152ms/step - loss: 0.0218 - acc: 0.9944 - val_loss: 3.2152 - val_acc: 0.1781 - lr: 1.0000e-04\n",
      "Epoch 7/50\n",
      "45/45 [==============================] - 8s 152ms/step - loss: 0.0172 - acc: 0.9951 - val_loss: 3.6048 - val_acc: 0.2009 - lr: 2.0000e-05\n",
      "Epoch 8/50\n",
      "45/45 [==============================] - 8s 152ms/step - loss: 0.0174 - acc: 0.9951 - val_loss: 3.7198 - val_acc: 0.2439 - lr: 2.0000e-05\n",
      "Epoch 9/50\n",
      "45/45 [==============================] - 8s 152ms/step - loss: 0.0138 - acc: 0.9965 - val_loss: 3.8275 - val_acc: 0.2736 - lr: 2.0000e-05\n",
      "Epoch 10/50\n",
      "45/45 [==============================] - 8s 152ms/step - loss: 0.0123 - acc: 0.9966 - val_loss: 3.5874 - val_acc: 0.3127 - lr: 2.0000e-05\n",
      "Epoch 11/50\n",
      "45/45 [==============================] - 8s 152ms/step - loss: 0.0131 - acc: 0.9961 - val_loss: 2.8621 - val_acc: 0.3968 - lr: 2.0000e-05\n",
      "Final loss: training -> 0.01, validation -> 2.86\n",
      "Final accuracy: training -> 1.00, validation -> 0.40\n",
      "6/6 [==============================] - 1s 35ms/step - loss: 2.7575 - acc: 0.3901\n",
      "Model evaluated: Test Loss-> 2.7575457096099854, Test Accuracy -> 39.01%\n",
      "Model: \"EfficientNetB0\"\n",
      "_________________________________________________________________\n",
      " Layer (type)                Output Shape              Param #   \n",
      "=================================================================\n",
      " rescaling_7 (Rescaling)     multiple                  0         \n",
      "                                                                 \n",
      " efficientnetb0 (Functional  (None, 4, 4, 1280)        4049571   \n",
      " )                                                               \n",
      "                                                                 \n",
      " flatten_4 (Flatten)         multiple                  0         \n",
      "                                                                 \n",
      " dense_13 (Dense)            multiple                  20481000  \n",
      "                                                                 \n",
      " dense_14 (Dense)            multiple                  5005      \n",
      "                                                                 \n",
      "=================================================================\n",
      "Total params: 24535576 (93.60 MB)\n",
      "Trainable params: 24493553 (93.44 MB)\n",
      "Non-trainable params: 42023 (164.16 KB)\n",
      "_________________________________________________________________\n"
     ]
    }
   ],
   "source": [
    "efficient = PretrainedModel(num_classes=5, img_size=IMG_SIZE, pretrained='efficient', name='EfficientNetB0', defreeze=0)\n",
    "optimizer = Adam(learning_rate=1e-4)\n",
    "efficient.compile(optimizer=optimizer, loss=\"sparse_categorical_crossentropy\", metrics=[SparseCategoricalAccuracy('acc')])\n",
    "efficient_history = train_model(\n",
    "    efficient,\n",
    "    train_dataset,\n",
    "    val_dataset,\n",
    "    path=model_dir,\n",
    "    epochs=50,\n",
    "    verbose=1,\n",
    "    lr_patience=5,\n",
    "    val_patience=10\n",
    ").history\n",
    "print(\n",
    "    f\"Final loss: training -> {efficient_history['loss'][-1]:.2f}, validation -> {efficient_history['val_loss'][-1]:.2f}\"\n",
    ")\n",
    "print(\n",
    "    f\"Final accuracy: training -> {efficient_history['acc'][-1]:.2f}, validation -> {efficient_history['val_acc'][-1]:.2f}\"\n",
    ")\n",
    "plot_history(efficient_history, ['loss', 'acc'], name=f'{efficient.name} Model')\n",
    "test_loss, test_accuracy = efficient.evaluate(test_dataset, batch_size=BATCH_SIZE)\n",
    "print(\n",
    "    f\"Model evaluated: Test Loss-> {test_loss}, Test Accuracy -> {test_accuracy*100:.2f}%\"\n",
    ")\n",
    "efficient.summary()"
   ]
  },
  {
   "cell_type": "markdown",
   "metadata": {},
   "source": [
    "### 3.2. Fine-tuning"
   ]
  },
  {
   "cell_type": "markdown",
   "metadata": {},
   "source": [
    "\n",
    "#### ResNet-50 V2"
   ]
  },
  {
   "cell_type": "code",
   "execution_count": 7,
   "metadata": {},
   "outputs": [
    {
     "name": "stdout",
     "output_type": "stream",
     "text": [
      "Training only the classifier\n",
      "45/45 [==============================] - 20s 302ms/step - loss: 3.1741 - acc: 0.8617 - val_loss: 0.8020 - val_acc: 0.9010 - lr: 0.0010\n",
      "Finetuning the model with a learning rate of 1e-5\n"
     ]
    },
    {
     "name": "stderr",
     "output_type": "stream",
     "text": [
      "2024-03-05 17:57:46.479944: W external/local_tsl/tsl/framework/bfc_allocator.cc:296] Allocator (GPU_0_bfc) ran out of memory trying to allocate 109.12MiB with freed_by_count=0. The caller indicates that this is not a failure, but this may mean that there could be performance gains if more memory were available.\n",
      "2024-03-05 17:57:56.485390: W external/local_tsl/tsl/framework/bfc_allocator.cc:485] Allocator (GPU_0_bfc) ran out of memory trying to allocate 85.16MiB (rounded to 89296896)requested by op ResNet50V2-feat/resnet50v2/conv3_block3_3_conv/Conv2D\n",
      "If the cause is memory fragmentation maybe the environment variable 'TF_GPU_ALLOCATOR=cuda_malloc_async' will improve the situation. \n",
      "Current allocation summary follows.\n",
      "Current allocation summary follows.\n",
      "2024-03-05 17:57:56.485497: I external/local_tsl/tsl/framework/bfc_allocator.cc:1039] BFCAllocator dump for GPU_0_bfc\n",
      "2024-03-05 17:57:56.485532: I external/local_tsl/tsl/framework/bfc_allocator.cc:1046] Bin (256): \tTotal Chunks: 383, Chunks in use: 383. 95.8KiB allocated for chunks. 95.8KiB in use in bin. 57.2KiB client-requested in use in bin.\n",
      "2024-03-05 17:57:56.485563: I external/local_tsl/tsl/framework/bfc_allocator.cc:1046] Bin (512): \tTotal Chunks: 236, Chunks in use: 236. 118.8KiB allocated for chunks. 118.8KiB in use in bin. 118.0KiB client-requested in use in bin.\n",
      "2024-03-05 17:57:56.485570: I external/local_tsl/tsl/framework/bfc_allocator.cc:1046] Bin (1024): \tTotal Chunks: 469, Chunks in use: 468. 475.8KiB allocated for chunks. 474.8KiB in use in bin. 468.0KiB client-requested in use in bin.\n",
      "2024-03-05 17:57:56.485575: I external/local_tsl/tsl/framework/bfc_allocator.cc:1046] Bin (2048): \tTotal Chunks: 338, Chunks in use: 337. 694.5KiB allocated for chunks. 692.5KiB in use in bin. 676.8KiB client-requested in use in bin.\n",
      "2024-03-05 17:57:56.485580: I external/local_tsl/tsl/framework/bfc_allocator.cc:1046] Bin (4096): \tTotal Chunks: 255, Chunks in use: 255. 1.04MiB allocated for chunks. 1.04MiB in use in bin. 1017.9KiB client-requested in use in bin.\n",
      "2024-03-05 17:57:56.485585: I external/local_tsl/tsl/framework/bfc_allocator.cc:1046] Bin (8192): \tTotal Chunks: 124, Chunks in use: 124. 1006.0KiB allocated for chunks. 1006.0KiB in use in bin. 992.0KiB client-requested in use in bin.\n",
      "2024-03-05 17:57:56.485590: I external/local_tsl/tsl/framework/bfc_allocator.cc:1046] Bin (16384): \tTotal Chunks: 24, Chunks in use: 24. 449.0KiB allocated for chunks. 449.0KiB in use in bin. 433.4KiB client-requested in use in bin.\n",
      "2024-03-05 17:57:56.485595: I external/local_tsl/tsl/framework/bfc_allocator.cc:1046] Bin (32768): \tTotal Chunks: 12, Chunks in use: 12. 485.8KiB allocated for chunks. 485.8KiB in use in bin. 406.6KiB client-requested in use in bin.\n",
      "2024-03-05 17:57:56.485599: I external/local_tsl/tsl/framework/bfc_allocator.cc:1046] Bin (65536): \tTotal Chunks: 62, Chunks in use: 62. 4.08MiB allocated for chunks. 4.08MiB in use in bin. 3.89MiB client-requested in use in bin.\n",
      "2024-03-05 17:57:56.485603: I external/local_tsl/tsl/framework/bfc_allocator.cc:1046] Bin (131072): \tTotal Chunks: 36, Chunks in use: 36. 5.22MiB allocated for chunks. 5.22MiB in use in bin. 4.84MiB client-requested in use in bin.\n",
      "2024-03-05 17:57:56.485608: I external/local_tsl/tsl/framework/bfc_allocator.cc:1046] Bin (262144): \tTotal Chunks: 75, Chunks in use: 75. 19.83MiB allocated for chunks. 19.83MiB in use in bin. 18.20MiB client-requested in use in bin.\n",
      "2024-03-05 17:57:56.485613: I external/local_tsl/tsl/framework/bfc_allocator.cc:1046] Bin (524288): \tTotal Chunks: 57, Chunks in use: 57. 34.30MiB allocated for chunks. 34.30MiB in use in bin. 30.81MiB client-requested in use in bin.\n",
      "2024-03-05 17:57:56.485619: I external/local_tsl/tsl/framework/bfc_allocator.cc:1046] Bin (1048576): \tTotal Chunks: 113, Chunks in use: 113. 120.01MiB allocated for chunks. 120.01MiB in use in bin. 111.69MiB client-requested in use in bin.\n",
      "2024-03-05 17:57:56.485624: I external/local_tsl/tsl/framework/bfc_allocator.cc:1046] Bin (2097152): \tTotal Chunks: 77, Chunks in use: 77. 182.48MiB allocated for chunks. 182.48MiB in use in bin. 169.14MiB client-requested in use in bin.\n",
      "2024-03-05 17:57:56.485629: I external/local_tsl/tsl/framework/bfc_allocator.cc:1046] Bin (4194304): \tTotal Chunks: 56, Chunks in use: 56. 243.32MiB allocated for chunks. 243.32MiB in use in bin. 213.95MiB client-requested in use in bin.\n",
      "2024-03-05 17:57:56.485633: I external/local_tsl/tsl/framework/bfc_allocator.cc:1046] Bin (8388608): \tTotal Chunks: 40, Chunks in use: 40. 396.36MiB allocated for chunks. 396.36MiB in use in bin. 351.64MiB client-requested in use in bin.\n",
      "2024-03-05 17:57:56.485638: I external/local_tsl/tsl/framework/bfc_allocator.cc:1046] Bin (16777216): \tTotal Chunks: 16, Chunks in use: 16. 357.01MiB allocated for chunks. 357.01MiB in use in bin. 338.87MiB client-requested in use in bin.\n",
      "2024-03-05 17:57:56.485646: I external/local_tsl/tsl/framework/bfc_allocator.cc:1046] Bin (33554432): \tTotal Chunks: 20, Chunks in use: 19. 866.60MiB allocated for chunks. 817.93MiB in use in bin. 753.00MiB client-requested in use in bin.\n",
      "2024-03-05 17:57:56.485650: I external/local_tsl/tsl/framework/bfc_allocator.cc:1046] Bin (67108864): \tTotal Chunks: 8, Chunks in use: 8. 791.18MiB allocated for chunks. 791.18MiB in use in bin. 755.01MiB client-requested in use in bin.\n",
      "2024-03-05 17:57:56.485655: I external/local_tsl/tsl/framework/bfc_allocator.cc:1046] Bin (134217728): \tTotal Chunks: 15, Chunks in use: 15. 2.49GiB allocated for chunks. 2.49GiB in use in bin. 2.00GiB client-requested in use in bin.\n",
      "2024-03-05 17:57:56.485660: I external/local_tsl/tsl/framework/bfc_allocator.cc:1046] Bin (268435456): \tTotal Chunks: 0, Chunks in use: 0. 0B allocated for chunks. 0B in use in bin. 0B client-requested in use in bin.\n",
      "2024-03-05 17:57:56.485666: I external/local_tsl/tsl/framework/bfc_allocator.cc:1062] Bin for 85.16MiB was 64.00MiB, Chunk State: \n",
      "2024-03-05 17:57:56.485671: I external/local_tsl/tsl/framework/bfc_allocator.cc:1075] Next region of size 5848956928\n",
      "2024-03-05 17:57:56.485678: I external/local_tsl/tsl/framework/bfc_allocator.cc:1095] InUse at 609200000 of size 1280 next 1\n",
      "2024-03-05 17:57:56.485683: I external/local_tsl/tsl/framework/bfc_allocator.cc:1095] InUse at 609200500 of size 256 next 2\n",
      "2024-03-05 17:57:56.485688: I external/local_tsl/tsl/framework/bfc_allocator.cc:1095] InUse at 609200600 of size 256 next 3\n",
      "2024-03-05 17:57:56.485692: I external/local_tsl/tsl/framework/bfc_allocator.cc:1095] InUse at 609200700 of size 256 next 4\n",
      "2024-03-05 17:57:56.485697: I external/local_tsl/tsl/framework/bfc_allocator.cc:1095] InUse at 609200800 of size 256 next 5\n",
      "2024-03-05 17:57:56.485701: I external/local_tsl/tsl/framework/bfc_allocator.cc:1095] InUse at 609200900 of size 256 next 6\n",
      "2024-03-05 17:57:56.485705: I external/local_tsl/tsl/framework/bfc_allocator.cc:1095] InUse at 609200a00 of size 256 next 7\n",
      "2024-03-05 17:57:56.485728: I external/local_tsl/tsl/framework/bfc_allocator.cc:1095] InUse at 609200b00 of size 256 next 8\n",
      "2024-03-05 17:57:56.485741: I external/local_tsl/tsl/framework/bfc_allocator.cc:1095] InUse at 609200c00 of size 256 next 9\n",
      "2024-03-05 17:57:56.485745: I external/local_tsl/tsl/framework/bfc_allocator.cc:1095] InUse at 609200d00 of size 256 next 10\n",
      "2024-03-05 17:57:56.485749: I external/local_tsl/tsl/framework/bfc_allocator.cc:1095] InUse at 609200e00 of size 256 next 11\n",
      "2024-03-05 17:57:56.485753: I external/local_tsl/tsl/framework/bfc_allocator.cc:1095] InUse at 609200f00 of size 256 next 12\n",
      "2024-03-05 17:57:56.485756: I external/local_tsl/tsl/framework/bfc_allocator.cc:1095] InUse at 609201000 of size 256 next 13\n",
      "2024-03-05 17:57:56.485760: I external/local_tsl/tsl/framework/bfc_allocator.cc:1095] InUse at 609201100 of size 256 next 14\n",
      "2024-03-05 17:57:56.485763: I external/local_tsl/tsl/framework/bfc_allocator.cc:1095] InUse at 609201200 of size 256 next 15\n",
      "2024-03-05 17:57:56.485766: I external/local_tsl/tsl/framework/bfc_allocator.cc:1095] InUse at 609201300 of size 256 next 16\n",
      "2024-03-05 17:57:56.485770: I external/local_tsl/tsl/framework/bfc_allocator.cc:1095] InUse at 609201400 of size 256 next 17\n",
      "2024-03-05 17:57:56.485773: I external/local_tsl/tsl/framework/bfc_allocator.cc:1095] InUse at 609201500 of size 256 next 18\n",
      "2024-03-05 17:57:56.485777: I external/local_tsl/tsl/framework/bfc_allocator.cc:1095] InUse at 609201600 of size 256 next 19\n",
      "2024-03-05 17:57:56.485780: I external/local_tsl/tsl/framework/bfc_allocator.cc:1095] InUse at 609201700 of size 256 next 20\n",
      "2024-03-05 17:57:56.485783: I external/local_tsl/tsl/framework/bfc_allocator.cc:1095] InUse at 609201800 of size 256 next 21\n",
      "2024-03-05 17:57:56.485787: I external/local_tsl/tsl/framework/bfc_allocator.cc:1095] InUse at 609201900 of size 256 next 23\n",
      "2024-03-05 17:57:56.485793: I external/local_tsl/tsl/framework/bfc_allocator.cc:1095] InUse at 609201a00 of size 256 next 24\n",
      "2024-03-05 17:57:56.485798: I external/local_tsl/tsl/framework/bfc_allocator.cc:1095] InUse at 609201b00 of size 256 next 22\n",
      "2024-03-05 17:57:56.485802: I external/local_tsl/tsl/framework/bfc_allocator.cc:1095] InUse at 609201c00 of size 256 next 29\n",
      "2024-03-05 17:57:56.485807: I external/local_tsl/tsl/framework/bfc_allocator.cc:1095] InUse at 609201d00 of size 256 next 25\n",
      "2024-03-05 17:57:56.485811: I external/local_tsl/tsl/framework/bfc_allocator.cc:1095] InUse at 609201e00 of size 256 next 28\n",
      "2024-03-05 17:57:56.485815: I external/local_tsl/tsl/framework/bfc_allocator.cc:1095] InUse at 609201f00 of size 256 next 34\n",
      "2024-03-05 17:57:56.485821: I external/local_tsl/tsl/framework/bfc_allocator.cc:1095] InUse at 609202000 of size 256 next 32\n",
      "2024-03-05 17:57:56.485827: I external/local_tsl/tsl/framework/bfc_allocator.cc:1095] InUse at 609202100 of size 5888 next 26\n",
      "2024-03-05 17:57:56.485832: I external/local_tsl/tsl/framework/bfc_allocator.cc:1095] InUse at 609203800 of size 3584 next 27\n",
      "2024-03-05 17:57:56.485837: I external/local_tsl/tsl/framework/bfc_allocator.cc:1095] InUse at 609204600 of size 3584 next 33\n",
      "2024-03-05 17:57:56.485842: I external/local_tsl/tsl/framework/bfc_allocator.cc:1095] InUse at 609205400 of size 256 next 37\n",
      "2024-03-05 17:57:56.485846: I external/local_tsl/tsl/framework/bfc_allocator.cc:1095] InUse at 609205500 of size 256 next 38\n",
      "2024-03-05 17:57:56.485851: I external/local_tsl/tsl/framework/bfc_allocator.cc:1095] InUse at 609205600 of size 143360 next 31\n",
      "2024-03-05 17:57:56.485858: I external/local_tsl/tsl/framework/bfc_allocator.cc:1095] InUse at 609228600 of size 73728 next 30\n",
      "2024-03-05 17:57:56.485862: I external/local_tsl/tsl/framework/bfc_allocator.cc:1095] InUse at 60923a600 of size 73728 next 39\n",
      "2024-03-05 17:57:56.485867: I external/local_tsl/tsl/framework/bfc_allocator.cc:1095] InUse at 60924c600 of size 256 next 40\n",
      "2024-03-05 17:57:56.485873: I external/local_tsl/tsl/framework/bfc_allocator.cc:1095] InUse at 60924c700 of size 256 next 41\n",
      "2024-03-05 17:57:56.485878: I external/local_tsl/tsl/framework/bfc_allocator.cc:1095] InUse at 60924c800 of size 5580800 next 36\n",
      "2024-03-05 17:57:56.485884: I external/local_tsl/tsl/framework/bfc_allocator.cc:1095] InUse at 60979f000 of size 2827520 next 35\n",
      "2024-03-05 17:57:56.485889: I external/local_tsl/tsl/framework/bfc_allocator.cc:1095] InUse at 609a51500 of size 2827520 next 42\n",
      "2024-03-05 17:57:56.485894: I external/local_tsl/tsl/framework/bfc_allocator.cc:1095] InUse at 609d03a00 of size 256 next 43\n",
      "2024-03-05 17:57:56.485899: I external/local_tsl/tsl/framework/bfc_allocator.cc:1095] InUse at 609d03b00 of size 256 next 44\n",
      "2024-03-05 17:57:56.485903: I external/local_tsl/tsl/framework/bfc_allocator.cc:1095] InUse at 609d03c00 of size 256 next 45\n",
      "2024-03-05 17:57:56.485908: I external/local_tsl/tsl/framework/bfc_allocator.cc:1095] InUse at 609d03d00 of size 256 next 46\n",
      "2024-03-05 17:57:56.485913: I external/local_tsl/tsl/framework/bfc_allocator.cc:1095] InUse at 609d03e00 of size 256 next 47\n",
      "2024-03-05 17:57:56.485918: I external/local_tsl/tsl/framework/bfc_allocator.cc:1095] InUse at 609d03f00 of size 256 next 48\n",
      "2024-03-05 17:57:56.485923: I external/local_tsl/tsl/framework/bfc_allocator.cc:1095] InUse at 609d04000 of size 256 next 63\n",
      "2024-03-05 17:57:56.485928: I external/local_tsl/tsl/framework/bfc_allocator.cc:1095] InUse at 609d04100 of size 256 next 64\n",
      "2024-03-05 17:57:56.485933: I external/local_tsl/tsl/framework/bfc_allocator.cc:1095] InUse at 609d04200 of size 256 next 55\n",
      "2024-03-05 17:57:56.485937: I external/local_tsl/tsl/framework/bfc_allocator.cc:1095] InUse at 609d04300 of size 256 next 56\n",
      "2024-03-05 17:57:56.485942: I external/local_tsl/tsl/framework/bfc_allocator.cc:1095] InUse at 609d04400 of size 256 next 68\n",
      "2024-03-05 17:57:56.485947: I external/local_tsl/tsl/framework/bfc_allocator.cc:1095] InUse at 609d04500 of size 256 next 66\n",
      "2024-03-05 17:57:56.485952: I external/local_tsl/tsl/framework/bfc_allocator.cc:1095] InUse at 609d04600 of size 256 next 69\n",
      "2024-03-05 17:57:56.485957: I external/local_tsl/tsl/framework/bfc_allocator.cc:1095] InUse at 609d04700 of size 256 next 70\n",
      "2024-03-05 17:57:56.485962: I external/local_tsl/tsl/framework/bfc_allocator.cc:1095] InUse at 609d04800 of size 256 next 71\n",
      "2024-03-05 17:57:56.485967: I external/local_tsl/tsl/framework/bfc_allocator.cc:1095] InUse at 609d04900 of size 256 next 52\n",
      "2024-03-05 17:57:56.485972: I external/local_tsl/tsl/framework/bfc_allocator.cc:1095] InUse at 609d04a00 of size 256 next 57\n",
      "2024-03-05 17:57:56.485977: I external/local_tsl/tsl/framework/bfc_allocator.cc:1095] InUse at 609d04b00 of size 256 next 739\n",
      "2024-03-05 17:57:56.485982: I external/local_tsl/tsl/framework/bfc_allocator.cc:1095] InUse at 609d04c00 of size 256 next 59\n",
      "2024-03-05 17:57:56.485992: I external/local_tsl/tsl/framework/bfc_allocator.cc:1095] InUse at 609d04d00 of size 256 next 73\n",
      "2024-03-05 17:57:56.485997: I external/local_tsl/tsl/framework/bfc_allocator.cc:1095] InUse at 609d04e00 of size 256 next 51\n",
      "2024-03-05 17:57:56.486002: I external/local_tsl/tsl/framework/bfc_allocator.cc:1095] InUse at 609d04f00 of size 256 next 49\n",
      "2024-03-05 17:57:56.486007: I external/local_tsl/tsl/framework/bfc_allocator.cc:1095] InUse at 609d05000 of size 1536 next 50\n",
      "2024-03-05 17:57:56.486011: I external/local_tsl/tsl/framework/bfc_allocator.cc:1095] InUse at 609d05600 of size 256 next 60\n",
      "2024-03-05 17:57:56.486016: I external/local_tsl/tsl/framework/bfc_allocator.cc:1095] InUse at 609d05700 of size 256 next 54\n",
      "2024-03-05 17:57:56.486021: I external/local_tsl/tsl/framework/bfc_allocator.cc:1095] InUse at 609d05800 of size 4096 next 227\n",
      "2024-03-05 17:57:56.486025: I external/local_tsl/tsl/framework/bfc_allocator.cc:1095] InUse at 609d06800 of size 4096 next 226\n",
      "2024-03-05 17:57:56.486029: I external/local_tsl/tsl/framework/bfc_allocator.cc:1095] InUse at 609d07800 of size 2048 next 732\n",
      "2024-03-05 17:57:56.486033: I external/local_tsl/tsl/framework/bfc_allocator.cc:1095] InUse at 609d08000 of size 2048 next 741\n",
      "2024-03-05 17:57:56.486036: I external/local_tsl/tsl/framework/bfc_allocator.cc:1095] InUse at 609d08800 of size 2048 next 877\n",
      "2024-03-05 17:57:56.486040: I external/local_tsl/tsl/framework/bfc_allocator.cc:1095] InUse at 609d09000 of size 3072 next 186\n",
      "2024-03-05 17:57:56.486044: I external/local_tsl/tsl/framework/bfc_allocator.cc:1095] InUse at 609d09c00 of size 1024 next 232\n",
      "2024-03-05 17:57:56.486047: I external/local_tsl/tsl/framework/bfc_allocator.cc:1095] InUse at 609d0a000 of size 1024 next 235\n",
      "2024-03-05 17:57:56.486050: I external/local_tsl/tsl/framework/bfc_allocator.cc:1095] InUse at 609d0a400 of size 1024 next 236\n",
      "2024-03-05 17:57:56.486054: I external/local_tsl/tsl/framework/bfc_allocator.cc:1095] InUse at 609d0a800 of size 256 next 965\n",
      "2024-03-05 17:57:56.486057: I external/local_tsl/tsl/framework/bfc_allocator.cc:1095] InUse at 609d0a900 of size 256 next 908\n",
      "2024-03-05 17:57:56.486061: I external/local_tsl/tsl/framework/bfc_allocator.cc:1095] InUse at 609d0aa00 of size 768 next 748\n",
      "2024-03-05 17:57:56.486064: I external/local_tsl/tsl/framework/bfc_allocator.cc:1095] InUse at 609d0ad00 of size 256 next 850\n",
      "2024-03-05 17:57:56.486068: I external/local_tsl/tsl/framework/bfc_allocator.cc:1095] InUse at 609d0ae00 of size 512 next 237\n",
      "2024-03-05 17:57:56.486071: I external/local_tsl/tsl/framework/bfc_allocator.cc:1095] InUse at 609d0b000 of size 6144 next 242\n",
      "2024-03-05 17:57:56.486075: I external/local_tsl/tsl/framework/bfc_allocator.cc:1095] InUse at 609d0c800 of size 4096 next 243\n",
      "2024-03-05 17:57:56.486078: I external/local_tsl/tsl/framework/bfc_allocator.cc:1095] InUse at 609d0d800 of size 4096 next 244\n",
      "2024-03-05 17:57:56.486081: I external/local_tsl/tsl/framework/bfc_allocator.cc:1095] InUse at 609d0e800 of size 256 next 263\n",
      "2024-03-05 17:57:56.486085: I external/local_tsl/tsl/framework/bfc_allocator.cc:1095] InUse at 609d0e900 of size 256 next 351\n",
      "2024-03-05 17:57:56.486090: I external/local_tsl/tsl/framework/bfc_allocator.cc:1095] InUse at 609d0ea00 of size 256 next 249\n",
      "2024-03-05 17:57:56.486093: I external/local_tsl/tsl/framework/bfc_allocator.cc:1095] InUse at 609d0eb00 of size 256 next 193\n",
      "2024-03-05 17:57:56.486097: I external/local_tsl/tsl/framework/bfc_allocator.cc:1095] InUse at 609d0ec00 of size 256 next 230\n",
      "2024-03-05 17:57:56.486100: I external/local_tsl/tsl/framework/bfc_allocator.cc:1095] InUse at 609d0ed00 of size 256 next 730\n",
      "2024-03-05 17:57:56.486104: I external/local_tsl/tsl/framework/bfc_allocator.cc:1095] InUse at 609d0ee00 of size 512 next 806\n",
      "2024-03-05 17:57:56.486107: I external/local_tsl/tsl/framework/bfc_allocator.cc:1095] InUse at 609d0f000 of size 256 next 854\n",
      "2024-03-05 17:57:56.486111: I external/local_tsl/tsl/framework/bfc_allocator.cc:1095] InUse at 609d0f100 of size 256 next 874\n",
      "2024-03-05 17:57:56.486114: I external/local_tsl/tsl/framework/bfc_allocator.cc:1095] InUse at 609d0f200 of size 256 next 828\n",
      "2024-03-05 17:57:56.486118: I external/local_tsl/tsl/framework/bfc_allocator.cc:1095] InUse at 609d0f300 of size 256 next 894\n",
      "2024-03-05 17:57:56.486121: I external/local_tsl/tsl/framework/bfc_allocator.cc:1095] InUse at 609d0f400 of size 512 next 867\n",
      "2024-03-05 17:57:56.486124: I external/local_tsl/tsl/framework/bfc_allocator.cc:1095] InUse at 609d0f600 of size 256 next 775\n",
      "2024-03-05 17:57:56.486128: I external/local_tsl/tsl/framework/bfc_allocator.cc:1095] InUse at 609d0f700 of size 256 next 134\n",
      "2024-03-05 17:57:56.486131: I external/local_tsl/tsl/framework/bfc_allocator.cc:1095] InUse at 609d0f800 of size 1024 next 795\n",
      "2024-03-05 17:57:56.486135: I external/local_tsl/tsl/framework/bfc_allocator.cc:1095] InUse at 609d0fc00 of size 1024 next 861\n",
      "2024-03-05 17:57:56.486138: I external/local_tsl/tsl/framework/bfc_allocator.cc:1095] InUse at 609d10000 of size 1024 next 202\n",
      "2024-03-05 17:57:56.486142: I external/local_tsl/tsl/framework/bfc_allocator.cc:1095] InUse at 609d10400 of size 512 next 954\n",
      "2024-03-05 17:57:56.486145: I external/local_tsl/tsl/framework/bfc_allocator.cc:1095] InUse at 609d10600 of size 256 next 808\n",
      "2024-03-05 17:57:56.486149: I external/local_tsl/tsl/framework/bfc_allocator.cc:1095] InUse at 609d10700 of size 256 next 247\n",
      "2024-03-05 17:57:56.486153: I external/local_tsl/tsl/framework/bfc_allocator.cc:1095] InUse at 609d10800 of size 1024 next 211\n",
      "2024-03-05 17:57:56.486157: I external/local_tsl/tsl/framework/bfc_allocator.cc:1095] InUse at 609d10c00 of size 1024 next 248\n",
      "2024-03-05 17:57:56.486166: I external/local_tsl/tsl/framework/bfc_allocator.cc:1095] InUse at 609d11000 of size 1024 next 830\n",
      "2024-03-05 17:57:56.486172: I external/local_tsl/tsl/framework/bfc_allocator.cc:1095] InUse at 609d11400 of size 512 next 912\n",
      "2024-03-05 17:57:56.486178: I external/local_tsl/tsl/framework/bfc_allocator.cc:1095] InUse at 609d11600 of size 512 next 251\n",
      "2024-03-05 17:57:56.486184: I external/local_tsl/tsl/framework/bfc_allocator.cc:1095] InUse at 609d11800 of size 1024 next 252\n",
      "2024-03-05 17:57:56.486189: I external/local_tsl/tsl/framework/bfc_allocator.cc:1095] InUse at 609d11c00 of size 1024 next 253\n",
      "2024-03-05 17:57:56.486192: I external/local_tsl/tsl/framework/bfc_allocator.cc:1095] InUse at 609d12000 of size 2048 next 257\n",
      "2024-03-05 17:57:56.486196: I external/local_tsl/tsl/framework/bfc_allocator.cc:1095] InUse at 609d12800 of size 4096 next 259\n",
      "2024-03-05 17:57:56.486200: I external/local_tsl/tsl/framework/bfc_allocator.cc:1095] InUse at 609d13800 of size 4096 next 260\n",
      "2024-03-05 17:57:56.486204: I external/local_tsl/tsl/framework/bfc_allocator.cc:1095] InUse at 609d14800 of size 4096 next 262\n",
      "2024-03-05 17:57:56.486208: I external/local_tsl/tsl/framework/bfc_allocator.cc:1095] InUse at 609d15800 of size 1792 next 734\n",
      "2024-03-05 17:57:56.486212: I external/local_tsl/tsl/framework/bfc_allocator.cc:1095] InUse at 609d15f00 of size 7936 next 65\n",
      "2024-03-05 17:57:56.486215: I external/local_tsl/tsl/framework/bfc_allocator.cc:1095] InUse at 609d17e00 of size 256 next 372\n",
      "2024-03-05 17:57:56.486219: I external/local_tsl/tsl/framework/bfc_allocator.cc:1095] InUse at 609d17f00 of size 16384 next 373\n",
      "2024-03-05 17:57:56.486224: I external/local_tsl/tsl/framework/bfc_allocator.cc:1095] InUse at 609d1bf00 of size 1024 next 61\n",
      "2024-03-05 17:57:56.486227: I external/local_tsl/tsl/framework/bfc_allocator.cc:1095] InUse at 609d1c300 of size 2048 next 146\n",
      "2024-03-05 17:57:56.486231: I external/local_tsl/tsl/framework/bfc_allocator.cc:1095] InUse at 609d1cb00 of size 4096 next 222\n",
      "2024-03-05 17:57:56.486235: I external/local_tsl/tsl/framework/bfc_allocator.cc:1095] InUse at 609d1db00 of size 1024 next 256\n",
      "2024-03-05 17:57:56.486239: I external/local_tsl/tsl/framework/bfc_allocator.cc:1095] InUse at 609d1df00 of size 1024 next 264\n",
      "2024-03-05 17:57:56.486244: I external/local_tsl/tsl/framework/bfc_allocator.cc:1095] InUse at 609d1e300 of size 1280 next 798\n",
      "2024-03-05 17:57:56.486251: I external/local_tsl/tsl/framework/bfc_allocator.cc:1095] InUse at 609d1e800 of size 768 next 266\n",
      "2024-03-05 17:57:56.486255: I external/local_tsl/tsl/framework/bfc_allocator.cc:1095] InUse at 609d1eb00 of size 1024 next 267\n",
      "2024-03-05 17:57:56.486259: I external/local_tsl/tsl/framework/bfc_allocator.cc:1095] InUse at 609d1ef00 of size 1024 next 268\n",
      "2024-03-05 17:57:56.486263: I external/local_tsl/tsl/framework/bfc_allocator.cc:1095] InUse at 609d1f300 of size 2048 next 272\n",
      "2024-03-05 17:57:56.486267: I external/local_tsl/tsl/framework/bfc_allocator.cc:1095] InUse at 609d1fb00 of size 5632 next 62\n",
      "2024-03-05 17:57:56.486270: I external/local_tsl/tsl/framework/bfc_allocator.cc:1095] InUse at 609d21100 of size 256 next 67\n",
      "2024-03-05 17:57:56.486274: I external/local_tsl/tsl/framework/bfc_allocator.cc:1095] InUse at 609d21200 of size 256 next 53\n",
      "2024-03-05 17:57:56.486278: I external/local_tsl/tsl/framework/bfc_allocator.cc:1095] InUse at 609d21300 of size 256 next 75\n",
      "2024-03-05 17:57:56.486282: I external/local_tsl/tsl/framework/bfc_allocator.cc:1095] InUse at 609d21400 of size 256 next 948\n",
      "2024-03-05 17:57:56.486285: I external/local_tsl/tsl/framework/bfc_allocator.cc:1095] InUse at 609d21500 of size 256 next 74\n",
      "2024-03-05 17:57:56.486289: I external/local_tsl/tsl/framework/bfc_allocator.cc:1095] InUse at 609d21600 of size 256 next 77\n",
      "2024-03-05 17:57:56.486293: I external/local_tsl/tsl/framework/bfc_allocator.cc:1095] InUse at 609d21700 of size 256 next 79\n",
      "2024-03-05 17:57:56.486297: I external/local_tsl/tsl/framework/bfc_allocator.cc:1095] InUse at 609d21800 of size 256 next 80\n",
      "2024-03-05 17:57:56.486300: I external/local_tsl/tsl/framework/bfc_allocator.cc:1095] InUse at 609d21900 of size 256 next 83\n",
      "2024-03-05 17:57:56.486304: I external/local_tsl/tsl/framework/bfc_allocator.cc:1095] InUse at 609d21a00 of size 256 next 847\n",
      "2024-03-05 17:57:56.486308: I external/local_tsl/tsl/framework/bfc_allocator.cc:1095] InUse at 609d21b00 of size 256 next 82\n",
      "2024-03-05 17:57:56.486314: I external/local_tsl/tsl/framework/bfc_allocator.cc:1095] InUse at 609d21c00 of size 1280 next 87\n",
      "2024-03-05 17:57:56.486317: I external/local_tsl/tsl/framework/bfc_allocator.cc:1095] InUse at 609d22100 of size 1024 next 88\n",
      "2024-03-05 17:57:56.486321: I external/local_tsl/tsl/framework/bfc_allocator.cc:1095] InUse at 609d22500 of size 256 next 774\n",
      "2024-03-05 17:57:56.486325: I external/local_tsl/tsl/framework/bfc_allocator.cc:1095] InUse at 609d22600 of size 256 next 957\n",
      "2024-03-05 17:57:56.486329: I external/local_tsl/tsl/framework/bfc_allocator.cc:1095] InUse at 609d22700 of size 256 next 736\n",
      "2024-03-05 17:57:56.486332: I external/local_tsl/tsl/framework/bfc_allocator.cc:1095] InUse at 609d22800 of size 256 next 759\n",
      "2024-03-05 17:57:56.486336: I external/local_tsl/tsl/framework/bfc_allocator.cc:1095] InUse at 609d22900 of size 256 next 755\n",
      "2024-03-05 17:57:56.486340: I external/local_tsl/tsl/framework/bfc_allocator.cc:1095] InUse at 609d22a00 of size 768 next 92\n",
      "2024-03-05 17:57:56.486344: I external/local_tsl/tsl/framework/bfc_allocator.cc:1095] InUse at 609d22d00 of size 256 next 86\n",
      "2024-03-05 17:57:56.486347: I external/local_tsl/tsl/framework/bfc_allocator.cc:1095] InUse at 609d22e00 of size 256 next 93\n",
      "2024-03-05 17:57:56.486351: I external/local_tsl/tsl/framework/bfc_allocator.cc:1095] InUse at 609d22f00 of size 512 next 95\n",
      "2024-03-05 17:57:56.486358: I external/local_tsl/tsl/framework/bfc_allocator.cc:1095] InUse at 609d23100 of size 256 next 97\n",
      "2024-03-05 17:57:56.486362: I external/local_tsl/tsl/framework/bfc_allocator.cc:1095] InUse at 609d23200 of size 256 next 98\n",
      "2024-03-05 17:57:56.486366: I external/local_tsl/tsl/framework/bfc_allocator.cc:1095] InUse at 609d23300 of size 256 next 881\n",
      "2024-03-05 17:57:56.486370: I external/local_tsl/tsl/framework/bfc_allocator.cc:1095] InUse at 609d23400 of size 256 next 99\n",
      "2024-03-05 17:57:56.486374: I external/local_tsl/tsl/framework/bfc_allocator.cc:1095] InUse at 609d23500 of size 1024 next 104\n",
      "2024-03-05 17:57:56.486377: I external/local_tsl/tsl/framework/bfc_allocator.cc:1095] InUse at 609d23900 of size 1024 next 105\n",
      "2024-03-05 17:57:56.486381: I external/local_tsl/tsl/framework/bfc_allocator.cc:1095] InUse at 609d23d00 of size 1024 next 106\n",
      "2024-03-05 17:57:56.486385: I external/local_tsl/tsl/framework/bfc_allocator.cc:1095] InUse at 609d24100 of size 1024 next 923\n",
      "2024-03-05 17:57:56.486389: I external/local_tsl/tsl/framework/bfc_allocator.cc:1095] InUse at 609d24500 of size 512 next 905\n",
      "2024-03-05 17:57:56.486392: I external/local_tsl/tsl/framework/bfc_allocator.cc:1095] InUse at 609d24700 of size 512 next 108\n",
      "2024-03-05 17:57:56.486396: I external/local_tsl/tsl/framework/bfc_allocator.cc:1095] InUse at 609d24900 of size 256 next 100\n",
      "2024-03-05 17:57:56.486400: I external/local_tsl/tsl/framework/bfc_allocator.cc:1095] InUse at 609d24a00 of size 256 next 109\n",
      "2024-03-05 17:57:56.486404: I external/local_tsl/tsl/framework/bfc_allocator.cc:1095] InUse at 609d24b00 of size 512 next 111\n",
      "2024-03-05 17:57:56.486408: I external/local_tsl/tsl/framework/bfc_allocator.cc:1095] InUse at 609d24d00 of size 256 next 113\n",
      "2024-03-05 17:57:56.486411: I external/local_tsl/tsl/framework/bfc_allocator.cc:1095] InUse at 609d24e00 of size 256 next 114\n",
      "2024-03-05 17:57:56.486416: I external/local_tsl/tsl/framework/bfc_allocator.cc:1095] InUse at 609d24f00 of size 256 next 821\n",
      "2024-03-05 17:57:56.486419: I external/local_tsl/tsl/framework/bfc_allocator.cc:1095] InUse at 609d25000 of size 256 next 116\n",
      "2024-03-05 17:57:56.486423: I external/local_tsl/tsl/framework/bfc_allocator.cc:1095] InUse at 609d25100 of size 1024 next 120\n",
      "2024-03-05 17:57:56.486427: I external/local_tsl/tsl/framework/bfc_allocator.cc:1095] InUse at 609d25500 of size 1024 next 121\n",
      "2024-03-05 17:57:56.486431: I external/local_tsl/tsl/framework/bfc_allocator.cc:1095] InUse at 609d25900 of size 1024 next 122\n",
      "2024-03-05 17:57:56.486434: I external/local_tsl/tsl/framework/bfc_allocator.cc:1095] InUse at 609d25d00 of size 1024 next 875\n",
      "2024-03-05 17:57:56.486438: I external/local_tsl/tsl/framework/bfc_allocator.cc:1095] InUse at 609d26100 of size 1024 next 125\n",
      "2024-03-05 17:57:56.486442: I external/local_tsl/tsl/framework/bfc_allocator.cc:1095] InUse at 609d26500 of size 512 next 119\n",
      "2024-03-05 17:57:56.486446: I external/local_tsl/tsl/framework/bfc_allocator.cc:1095] InUse at 609d26700 of size 512 next 126\n",
      "2024-03-05 17:57:56.486450: I external/local_tsl/tsl/framework/bfc_allocator.cc:1095] InUse at 609d26900 of size 256 next 127\n",
      "2024-03-05 17:57:56.486454: I external/local_tsl/tsl/framework/bfc_allocator.cc:1095] InUse at 609d26a00 of size 256 next 128\n",
      "2024-03-05 17:57:56.486461: I external/local_tsl/tsl/framework/bfc_allocator.cc:1095] InUse at 609d26b00 of size 2048 next 131\n",
      "2024-03-05 17:57:56.486464: I external/local_tsl/tsl/framework/bfc_allocator.cc:1095] InUse at 609d27300 of size 256 next 129\n",
      "2024-03-05 17:57:56.486468: I external/local_tsl/tsl/framework/bfc_allocator.cc:1095] InUse at 609d27400 of size 256 next 130\n",
      "2024-03-05 17:57:56.486472: I external/local_tsl/tsl/framework/bfc_allocator.cc:1095] InUse at 609d27500 of size 256 next 961\n",
      "2024-03-05 17:57:56.486476: I external/local_tsl/tsl/framework/bfc_allocator.cc:1095] InUse at 609d27600 of size 256 next 784\n",
      "2024-03-05 17:57:56.486480: I external/local_tsl/tsl/framework/bfc_allocator.cc:1095] InUse at 609d27700 of size 256 next 879\n",
      "2024-03-05 17:57:56.486484: I external/local_tsl/tsl/framework/bfc_allocator.cc:1095] InUse at 609d27800 of size 256 next 135\n",
      "2024-03-05 17:57:56.486488: I external/local_tsl/tsl/framework/bfc_allocator.cc:1095] InUse at 609d27900 of size 512 next 145\n",
      "2024-03-05 17:57:56.486492: I external/local_tsl/tsl/framework/bfc_allocator.cc:1095] InUse at 609d27b00 of size 512 next 139\n",
      "2024-03-05 17:57:56.486496: I external/local_tsl/tsl/framework/bfc_allocator.cc:1095] InUse at 609d27d00 of size 256 next 140\n",
      "2024-03-05 17:57:56.486500: I external/local_tsl/tsl/framework/bfc_allocator.cc:1095] InUse at 609d27e00 of size 256 next 141\n",
      "2024-03-05 17:57:56.486504: I external/local_tsl/tsl/framework/bfc_allocator.cc:1095] InUse at 609d27f00 of size 1024 next 143\n",
      "2024-03-05 17:57:56.486558: I external/local_tsl/tsl/framework/bfc_allocator.cc:1095] InUse at 609d28300 of size 512 next 132\n",
      "2024-03-05 17:57:56.486571: I external/local_tsl/tsl/framework/bfc_allocator.cc:1095] InUse at 609d28500 of size 512 next 147\n",
      "2024-03-05 17:57:56.486576: I external/local_tsl/tsl/framework/bfc_allocator.cc:1095] InUse at 609d28700 of size 256 next 148\n",
      "2024-03-05 17:57:56.486581: I external/local_tsl/tsl/framework/bfc_allocator.cc:1095] InUse at 609d28800 of size 256 next 149\n",
      "2024-03-05 17:57:56.486587: I external/local_tsl/tsl/framework/bfc_allocator.cc:1095] InUse at 609d28900 of size 3328 next 78\n",
      "2024-03-05 17:57:56.486598: I external/local_tsl/tsl/framework/bfc_allocator.cc:1095] InUse at 609d29600 of size 97024 next 72\n",
      "2024-03-05 17:57:56.486604: I external/local_tsl/tsl/framework/bfc_allocator.cc:1095] InUse at 609d41100 of size 2048 next 152\n",
      "2024-03-05 17:57:56.486610: I external/local_tsl/tsl/framework/bfc_allocator.cc:1095] InUse at 609d41900 of size 1024 next 793\n",
      "2024-03-05 17:57:56.486617: I external/local_tsl/tsl/framework/bfc_allocator.cc:1095] InUse at 609d41d00 of size 1024 next 796\n",
      "2024-03-05 17:57:56.486622: I external/local_tsl/tsl/framework/bfc_allocator.cc:1095] InUse at 609d42100 of size 512 next 892\n",
      "2024-03-05 17:57:56.486630: I external/local_tsl/tsl/framework/bfc_allocator.cc:1095] InUse at 609d42300 of size 1536 next 151\n",
      "2024-03-05 17:57:56.486635: I external/local_tsl/tsl/framework/bfc_allocator.cc:1095] InUse at 609d42900 of size 1024 next 155\n",
      "2024-03-05 17:57:56.486642: I external/local_tsl/tsl/framework/bfc_allocator.cc:1095] InUse at 609d42d00 of size 512 next 156\n",
      "2024-03-05 17:57:56.486647: I external/local_tsl/tsl/framework/bfc_allocator.cc:1095] InUse at 609d42f00 of size 512 next 159\n",
      "2024-03-05 17:57:56.486652: I external/local_tsl/tsl/framework/bfc_allocator.cc:1095] InUse at 609d43100 of size 1024 next 160\n",
      "2024-03-05 17:57:56.486658: I external/local_tsl/tsl/framework/bfc_allocator.cc:1095] InUse at 609d43500 of size 3072 next 165\n",
      "2024-03-05 17:57:56.486664: I external/local_tsl/tsl/framework/bfc_allocator.cc:1095] InUse at 609d44100 of size 2048 next 166\n",
      "2024-03-05 17:57:56.486671: I external/local_tsl/tsl/framework/bfc_allocator.cc:1095] InUse at 609d44900 of size 2048 next 167\n",
      "2024-03-05 17:57:56.486710: I external/local_tsl/tsl/framework/bfc_allocator.cc:1095] InUse at 609d45100 of size 3072 next 168\n",
      "2024-03-05 17:57:56.486770: I external/local_tsl/tsl/framework/bfc_allocator.cc:1095] InUse at 609d45d00 of size 1024 next 170\n",
      "2024-03-05 17:57:56.486781: I external/local_tsl/tsl/framework/bfc_allocator.cc:1095] InUse at 609d46100 of size 512 next 144\n",
      "2024-03-05 17:57:56.486786: I external/local_tsl/tsl/framework/bfc_allocator.cc:1095] InUse at 609d46300 of size 512 next 171\n",
      "2024-03-05 17:57:56.486792: I external/local_tsl/tsl/framework/bfc_allocator.cc:1095] InUse at 609d46500 of size 512 next 751\n",
      "2024-03-05 17:57:56.486806: I external/local_tsl/tsl/framework/bfc_allocator.cc:1095] InUse at 609d46700 of size 256 next 900\n",
      "2024-03-05 17:57:56.486813: I external/local_tsl/tsl/framework/bfc_allocator.cc:1095] InUse at 609d46800 of size 256 next 173\n",
      "2024-03-05 17:57:56.486853: I external/local_tsl/tsl/framework/bfc_allocator.cc:1095] InUse at 609d46900 of size 512 next 133\n",
      "2024-03-05 17:57:56.486862: I external/local_tsl/tsl/framework/bfc_allocator.cc:1095] InUse at 609d46b00 of size 512 next 176\n",
      "2024-03-05 17:57:56.486866: I external/local_tsl/tsl/framework/bfc_allocator.cc:1095] InUse at 609d46d00 of size 1024 next 178\n",
      "2024-03-05 17:57:56.486870: I external/local_tsl/tsl/framework/bfc_allocator.cc:1095] InUse at 609d47100 of size 2048 next 182\n",
      "2024-03-05 17:57:56.486873: I external/local_tsl/tsl/framework/bfc_allocator.cc:1095] InUse at 609d47900 of size 2048 next 183\n",
      "2024-03-05 17:57:56.486877: I external/local_tsl/tsl/framework/bfc_allocator.cc:1095] InUse at 609d48100 of size 2048 next 184\n",
      "2024-03-05 17:57:56.486881: I external/local_tsl/tsl/framework/bfc_allocator.cc:1095] InUse at 609d48900 of size 256 next 733\n",
      "2024-03-05 17:57:56.486885: I external/local_tsl/tsl/framework/bfc_allocator.cc:1095] InUse at 609d48a00 of size 256 next 744\n",
      "2024-03-05 17:57:56.486888: I external/local_tsl/tsl/framework/bfc_allocator.cc:1095] InUse at 609d48b00 of size 256 next 799\n",
      "2024-03-05 17:57:56.486892: I external/local_tsl/tsl/framework/bfc_allocator.cc:1095] InUse at 609d48c00 of size 256 next 924\n",
      "2024-03-05 17:57:56.486896: I external/local_tsl/tsl/framework/bfc_allocator.cc:1095] InUse at 609d48d00 of size 1024 next 866\n",
      "2024-03-05 17:57:56.486900: I external/local_tsl/tsl/framework/bfc_allocator.cc:1095] InUse at 609d49100 of size 1024 next 934\n",
      "2024-03-05 17:57:56.486904: I external/local_tsl/tsl/framework/bfc_allocator.cc:1095] InUse at 609d49500 of size 1024 next 187\n",
      "2024-03-05 17:57:56.486908: I external/local_tsl/tsl/framework/bfc_allocator.cc:1095] InUse at 609d49900 of size 512 next 154\n",
      "2024-03-05 17:57:56.486912: I external/local_tsl/tsl/framework/bfc_allocator.cc:1095] InUse at 609d49b00 of size 512 next 188\n",
      "2024-03-05 17:57:56.486916: I external/local_tsl/tsl/framework/bfc_allocator.cc:1095] InUse at 609d49d00 of size 1024 next 190\n",
      "2024-03-05 17:57:56.486920: I external/local_tsl/tsl/framework/bfc_allocator.cc:1095] InUse at 609d4a100 of size 512 next 191\n",
      "2024-03-05 17:57:56.486924: I external/local_tsl/tsl/framework/bfc_allocator.cc:1095] InUse at 609d4a300 of size 512 next 192\n",
      "2024-03-05 17:57:56.486928: I external/local_tsl/tsl/framework/bfc_allocator.cc:1095] InUse at 609d4a500 of size 1024 next 194\n",
      "2024-03-05 17:57:56.486932: I external/local_tsl/tsl/framework/bfc_allocator.cc:1095] InUse at 609d4a900 of size 2048 next 198\n",
      "2024-03-05 17:57:56.486936: I external/local_tsl/tsl/framework/bfc_allocator.cc:1095] InUse at 609d4b100 of size 2048 next 199\n",
      "2024-03-05 17:57:56.486940: I external/local_tsl/tsl/framework/bfc_allocator.cc:1095] InUse at 609d4b900 of size 2048 next 200\n",
      "2024-03-05 17:57:56.486945: I external/local_tsl/tsl/framework/bfc_allocator.cc:1095] InUse at 609d4c100 of size 1024 next 832\n",
      "2024-03-05 17:57:56.486949: I external/local_tsl/tsl/framework/bfc_allocator.cc:1095] InUse at 609d4c500 of size 2048 next 834\n",
      "2024-03-05 17:57:56.486953: I external/local_tsl/tsl/framework/bfc_allocator.cc:1095] InUse at 609d4cd00 of size 1024 next 203\n",
      "2024-03-05 17:57:56.486956: I external/local_tsl/tsl/framework/bfc_allocator.cc:1095] InUse at 609d4d100 of size 1024 next 179\n",
      "2024-03-05 17:57:56.486960: I external/local_tsl/tsl/framework/bfc_allocator.cc:1095] InUse at 609d4d500 of size 1024 next 204\n",
      "2024-03-05 17:57:56.486964: I external/local_tsl/tsl/framework/bfc_allocator.cc:1095] InUse at 609d4d900 of size 256 next 205\n",
      "2024-03-05 17:57:56.486968: I external/local_tsl/tsl/framework/bfc_allocator.cc:1095] InUse at 609d4da00 of size 256 next 206\n",
      "2024-03-05 17:57:56.486972: I external/local_tsl/tsl/framework/bfc_allocator.cc:1095] InUse at 609d4db00 of size 4096 next 209\n",
      "2024-03-05 17:57:56.486976: I external/local_tsl/tsl/framework/bfc_allocator.cc:1095] InUse at 609d4eb00 of size 1024 next 837\n",
      "2024-03-05 17:57:56.486980: I external/local_tsl/tsl/framework/bfc_allocator.cc:1095] InUse at 609d4ef00 of size 1024 next 208\n",
      "2024-03-05 17:57:56.486985: I external/local_tsl/tsl/framework/bfc_allocator.cc:1095] InUse at 609d4f300 of size 1024 next 214\n",
      "2024-03-05 17:57:56.486988: I external/local_tsl/tsl/framework/bfc_allocator.cc:1095] InUse at 609d4f700 of size 1024 next 215\n",
      "2024-03-05 17:57:56.486992: I external/local_tsl/tsl/framework/bfc_allocator.cc:1095] InUse at 609d4fb00 of size 256 next 216\n",
      "2024-03-05 17:57:56.486996: I external/local_tsl/tsl/framework/bfc_allocator.cc:1095] InUse at 609d4fc00 of size 256 next 217\n",
      "2024-03-05 17:57:56.486999: I external/local_tsl/tsl/framework/bfc_allocator.cc:1095] InUse at 609d4fd00 of size 1024 next 758\n",
      "2024-03-05 17:57:56.487003: I external/local_tsl/tsl/framework/bfc_allocator.cc:1095] InUse at 609d50100 of size 1024 next 219\n",
      "2024-03-05 17:57:56.487007: I external/local_tsl/tsl/framework/bfc_allocator.cc:1095] InUse at 609d50500 of size 1024 next 210\n",
      "2024-03-05 17:57:56.487011: I external/local_tsl/tsl/framework/bfc_allocator.cc:1095] InUse at 609d50900 of size 1024 next 223\n",
      "2024-03-05 17:57:56.487015: I external/local_tsl/tsl/framework/bfc_allocator.cc:1095] InUse at 609d50d00 of size 256 next 224\n",
      "2024-03-05 17:57:56.487019: I external/local_tsl/tsl/framework/bfc_allocator.cc:1095] InUse at 609d50e00 of size 256 next 225\n",
      "2024-03-05 17:57:56.487027: I external/local_tsl/tsl/framework/bfc_allocator.cc:1095] InUse at 609d50f00 of size 256 next 312\n",
      "2024-03-05 17:57:56.487031: I external/local_tsl/tsl/framework/bfc_allocator.cc:1095] InUse at 609d51000 of size 256 next 90\n",
      "2024-03-05 17:57:56.487036: I external/local_tsl/tsl/framework/bfc_allocator.cc:1095] InUse at 609d51100 of size 65536 next 89\n",
      "2024-03-05 17:57:56.487040: I external/local_tsl/tsl/framework/bfc_allocator.cc:1095] InUse at 609d61100 of size 65536 next 96\n",
      "2024-03-05 17:57:56.487044: I external/local_tsl/tsl/framework/bfc_allocator.cc:1095] InUse at 609d71100 of size 98304 next 85\n",
      "2024-03-05 17:57:56.487048: I external/local_tsl/tsl/framework/bfc_allocator.cc:1095] InUse at 609d89100 of size 147456 next 84\n",
      "2024-03-05 17:57:56.487053: I external/local_tsl/tsl/framework/bfc_allocator.cc:1095] InUse at 609dad100 of size 65536 next 112\n",
      "2024-03-05 17:57:56.487058: I external/local_tsl/tsl/framework/bfc_allocator.cc:1095] InUse at 609dbd100 of size 2048 next 344\n",
      "2024-03-05 17:57:56.487061: I external/local_tsl/tsl/framework/bfc_allocator.cc:1095] InUse at 609dbd900 of size 2048 next 353\n",
      "2024-03-05 17:57:56.487066: I external/local_tsl/tsl/framework/bfc_allocator.cc:1095] InUse at 609dbe100 of size 1024 next 785\n",
      "2024-03-05 17:57:56.487070: I external/local_tsl/tsl/framework/bfc_allocator.cc:1095] InUse at 609dbe500 of size 1024 next 107\n",
      "2024-03-05 17:57:56.487074: I external/local_tsl/tsl/framework/bfc_allocator.cc:1095] InUse at 609dbe900 of size 256 next 729\n",
      "2024-03-05 17:57:56.487078: I external/local_tsl/tsl/framework/bfc_allocator.cc:1095] InUse at 609dbea00 of size 1792 next 355\n",
      "2024-03-05 17:57:56.487081: I external/local_tsl/tsl/framework/bfc_allocator.cc:1095] InUse at 609dbf100 of size 2048 next 361\n",
      "2024-03-05 17:57:56.487085: I external/local_tsl/tsl/framework/bfc_allocator.cc:1095] InUse at 609dbf900 of size 2048 next 358\n",
      "2024-03-05 17:57:56.487089: I external/local_tsl/tsl/framework/bfc_allocator.cc:1095] InUse at 609dc0100 of size 512 next 354\n",
      "2024-03-05 17:57:56.487092: I external/local_tsl/tsl/framework/bfc_allocator.cc:1095] InUse at 609dc0300 of size 512 next 955\n",
      "2024-03-05 17:57:56.487096: I external/local_tsl/tsl/framework/bfc_allocator.cc:1095] InUse at 609dc0500 of size 512 next 886\n",
      "2024-03-05 17:57:56.487100: I external/local_tsl/tsl/framework/bfc_allocator.cc:1095] InUse at 609dc0700 of size 512 next 768\n",
      "2024-03-05 17:57:56.487104: I external/local_tsl/tsl/framework/bfc_allocator.cc:1095] InUse at 609dc0900 of size 512 next 285\n",
      "2024-03-05 17:57:56.487108: I external/local_tsl/tsl/framework/bfc_allocator.cc:1095] InUse at 609dc0b00 of size 512 next 792\n",
      "2024-03-05 17:57:56.487112: I external/local_tsl/tsl/framework/bfc_allocator.cc:1095] InUse at 609dc0d00 of size 512 next 841\n",
      "2024-03-05 17:57:56.487116: I external/local_tsl/tsl/framework/bfc_allocator.cc:1095] InUse at 609dc0f00 of size 512 next 360\n",
      "2024-03-05 17:57:56.487123: I external/local_tsl/tsl/framework/bfc_allocator.cc:1095] InUse at 609dc1100 of size 8192 next 364\n",
      "2024-03-05 17:57:56.487127: I external/local_tsl/tsl/framework/bfc_allocator.cc:1095] InUse at 609dc3100 of size 8192 next 365\n",
      "2024-03-05 17:57:56.487131: I external/local_tsl/tsl/framework/bfc_allocator.cc:1095] InUse at 609dc5100 of size 8192 next 366\n",
      "2024-03-05 17:57:56.487134: I external/local_tsl/tsl/framework/bfc_allocator.cc:1095] InUse at 609dc7100 of size 2048 next 897\n",
      "2024-03-05 17:57:56.487138: I external/local_tsl/tsl/framework/bfc_allocator.cc:1095] InUse at 609dc7900 of size 2048 next 791\n",
      "2024-03-05 17:57:56.487142: I external/local_tsl/tsl/framework/bfc_allocator.cc:1095] InUse at 609dc8100 of size 5120 next 803\n",
      "2024-03-05 17:57:56.487146: I external/local_tsl/tsl/framework/bfc_allocator.cc:1095] InUse at 609dc9500 of size 1024 next 911\n",
      "2024-03-05 17:57:56.487150: I external/local_tsl/tsl/framework/bfc_allocator.cc:1095] InUse at 609dc9900 of size 1024 next 823\n",
      "2024-03-05 17:57:56.487154: I external/local_tsl/tsl/framework/bfc_allocator.cc:1095] InUse at 609dc9d00 of size 1024 next 871\n",
      "2024-03-05 17:57:56.487157: I external/local_tsl/tsl/framework/bfc_allocator.cc:1095] InUse at 609dca100 of size 512 next 761\n",
      "2024-03-05 17:57:56.487161: I external/local_tsl/tsl/framework/bfc_allocator.cc:1095] InUse at 609dca300 of size 512 next 913\n",
      "2024-03-05 17:57:56.487165: I external/local_tsl/tsl/framework/bfc_allocator.cc:1095] InUse at 609dca500 of size 512 next 313\n",
      "2024-03-05 17:57:56.487169: I external/local_tsl/tsl/framework/bfc_allocator.cc:1095] InUse at 609dca700 of size 512 next 958\n",
      "2024-03-05 17:57:56.487173: I external/local_tsl/tsl/framework/bfc_allocator.cc:1095] InUse at 609dca900 of size 512 next 890\n",
      "2024-03-05 17:57:56.487177: I external/local_tsl/tsl/framework/bfc_allocator.cc:1095] InUse at 609dcab00 of size 512 next 839\n",
      "2024-03-05 17:57:56.487181: I external/local_tsl/tsl/framework/bfc_allocator.cc:1095] InUse at 609dcad00 of size 1024 next 369\n",
      "2024-03-05 17:57:56.487185: I external/local_tsl/tsl/framework/bfc_allocator.cc:1095] InUse at 609dcb100 of size 256 next 363\n",
      "2024-03-05 17:57:56.487189: I external/local_tsl/tsl/framework/bfc_allocator.cc:1095] InUse at 609dcb200 of size 256 next 357\n",
      "2024-03-05 17:57:56.487193: I external/local_tsl/tsl/framework/bfc_allocator.cc:1095] InUse at 609dcb300 of size 256 next 337\n",
      "2024-03-05 17:57:56.487197: I external/local_tsl/tsl/framework/bfc_allocator.cc:1095] InUse at 609dcb400 of size 256 next 318\n",
      "2024-03-05 17:57:56.487201: I external/local_tsl/tsl/framework/bfc_allocator.cc:1095] InUse at 609dcb500 of size 256 next 320\n",
      "2024-03-05 17:57:56.487205: I external/local_tsl/tsl/framework/bfc_allocator.cc:1095] InUse at 609dcb600 of size 256 next 123\n",
      "2024-03-05 17:57:56.487209: I external/local_tsl/tsl/framework/bfc_allocator.cc:1095] InUse at 609dcb700 of size 256 next 258\n",
      "2024-03-05 17:57:56.487213: I external/local_tsl/tsl/framework/bfc_allocator.cc:1095] InUse at 609dcb800 of size 6400 next 370\n",
      "2024-03-05 17:57:56.487217: I external/local_tsl/tsl/framework/bfc_allocator.cc:1095] InUse at 609dcd100 of size 37632 next 371\n",
      "2024-03-05 17:57:56.487222: I external/local_tsl/tsl/framework/bfc_allocator.cc:1095] InUse at 609dd6400 of size 126208 next 103\n",
      "2024-03-05 17:57:56.487226: I external/local_tsl/tsl/framework/bfc_allocator.cc:1095] InUse at 609df5100 of size 147456 next 102\n",
      "2024-03-05 17:57:56.487230: I external/local_tsl/tsl/framework/bfc_allocator.cc:1095] InUse at 609e19100 of size 4096 next 274\n",
      "2024-03-05 17:57:56.487234: I external/local_tsl/tsl/framework/bfc_allocator.cc:1095] InUse at 609e1a100 of size 4096 next 275\n",
      "2024-03-05 17:57:56.487239: I external/local_tsl/tsl/framework/bfc_allocator.cc:1095] InUse at 609e1b100 of size 512 next 293\n",
      "2024-03-05 17:57:56.487243: I external/local_tsl/tsl/framework/bfc_allocator.cc:1095] InUse at 609e1b300 of size 512 next 91\n",
      "2024-03-05 17:57:56.487247: I external/local_tsl/tsl/framework/bfc_allocator.cc:1095] InUse at 609e1b500 of size 512 next 919\n",
      "2024-03-05 17:57:56.487251: I external/local_tsl/tsl/framework/bfc_allocator.cc:1095] InUse at 609e1b700 of size 512 next 931\n",
      "2024-03-05 17:57:56.487255: I external/local_tsl/tsl/framework/bfc_allocator.cc:1095] InUse at 609e1b900 of size 512 next 336\n",
      "2024-03-05 17:57:56.487258: I external/local_tsl/tsl/framework/bfc_allocator.cc:1095] InUse at 609e1bb00 of size 3072 next 836\n",
      "2024-03-05 17:57:56.487262: I external/local_tsl/tsl/framework/bfc_allocator.cc:1095] InUse at 609e1c700 of size 2560 next 278\n",
      "2024-03-05 17:57:56.487269: I external/local_tsl/tsl/framework/bfc_allocator.cc:1095] InUse at 609e1d100 of size 1024 next 279\n",
      "2024-03-05 17:57:56.487273: I external/local_tsl/tsl/framework/bfc_allocator.cc:1095] InUse at 609e1d500 of size 1024 next 280\n",
      "2024-03-05 17:57:56.487277: I external/local_tsl/tsl/framework/bfc_allocator.cc:1095] InUse at 609e1d900 of size 2048 next 282\n",
      "2024-03-05 17:57:56.487281: I external/local_tsl/tsl/framework/bfc_allocator.cc:1095] InUse at 609e1e100 of size 1024 next 283\n",
      "2024-03-05 17:57:56.487285: I external/local_tsl/tsl/framework/bfc_allocator.cc:1095] InUse at 609e1e500 of size 1024 next 284\n",
      "2024-03-05 17:57:56.487289: I external/local_tsl/tsl/framework/bfc_allocator.cc:1095] InUse at 609e1e900 of size 1024 next 947\n",
      "2024-03-05 17:57:56.487293: I external/local_tsl/tsl/framework/bfc_allocator.cc:1095] InUse at 609e1ed00 of size 512 next 938\n",
      "2024-03-05 17:57:56.487297: I external/local_tsl/tsl/framework/bfc_allocator.cc:1095] InUse at 609e1ef00 of size 512 next 288\n",
      "2024-03-05 17:57:56.487301: I external/local_tsl/tsl/framework/bfc_allocator.cc:1095] InUse at 609e1f100 of size 4096 next 270\n",
      "2024-03-05 17:57:56.487305: I external/local_tsl/tsl/framework/bfc_allocator.cc:1095] InUse at 609e20100 of size 4096 next 290\n",
      "2024-03-05 17:57:56.487308: I external/local_tsl/tsl/framework/bfc_allocator.cc:1095] InUse at 609e21100 of size 4096 next 291\n",
      "2024-03-05 17:57:56.487312: I external/local_tsl/tsl/framework/bfc_allocator.cc:1095] InUse at 609e22100 of size 2048 next 805\n",
      "2024-03-05 17:57:56.487316: I external/local_tsl/tsl/framework/bfc_allocator.cc:1095] InUse at 609e22900 of size 1024 next 788\n",
      "2024-03-05 17:57:56.487321: I external/local_tsl/tsl/framework/bfc_allocator.cc:1095] InUse at 609e22d00 of size 3584 next 726\n",
      "2024-03-05 17:57:56.487327: I external/local_tsl/tsl/framework/bfc_allocator.cc:1095] InUse at 609e23b00 of size 1536 next 294\n",
      "2024-03-05 17:57:56.487331: I external/local_tsl/tsl/framework/bfc_allocator.cc:1095] InUse at 609e24100 of size 1024 next 292\n",
      "2024-03-05 17:57:56.487334: I external/local_tsl/tsl/framework/bfc_allocator.cc:1095] InUse at 609e24500 of size 1024 next 296\n",
      "2024-03-05 17:57:56.487338: I external/local_tsl/tsl/framework/bfc_allocator.cc:1095] InUse at 609e24900 of size 2048 next 298\n",
      "2024-03-05 17:57:56.487342: I external/local_tsl/tsl/framework/bfc_allocator.cc:1095] InUse at 609e25100 of size 1024 next 299\n",
      "2024-03-05 17:57:56.487346: I external/local_tsl/tsl/framework/bfc_allocator.cc:1095] InUse at 609e25500 of size 1024 next 300\n",
      "2024-03-05 17:57:56.487350: I external/local_tsl/tsl/framework/bfc_allocator.cc:1095] InUse at 609e25900 of size 2048 next 304\n",
      "2024-03-05 17:57:56.487354: I external/local_tsl/tsl/framework/bfc_allocator.cc:1095] InUse at 609e26100 of size 4096 next 286\n",
      "2024-03-05 17:57:56.487357: I external/local_tsl/tsl/framework/bfc_allocator.cc:1095] InUse at 609e27100 of size 4096 next 306\n",
      "2024-03-05 17:57:56.487361: I external/local_tsl/tsl/framework/bfc_allocator.cc:1095] InUse at 609e28100 of size 4096 next 307\n",
      "2024-03-05 17:57:56.487365: I external/local_tsl/tsl/framework/bfc_allocator.cc:1095] InUse at 609e29100 of size 4096 next 309\n",
      "2024-03-05 17:57:56.487369: I external/local_tsl/tsl/framework/bfc_allocator.cc:1095] InUse at 609e2a100 of size 8192 next 328\n",
      "2024-03-05 17:57:56.487373: I external/local_tsl/tsl/framework/bfc_allocator.cc:1095] InUse at 609e2c100 of size 256 next 197\n",
      "2024-03-05 17:57:56.487376: I external/local_tsl/tsl/framework/bfc_allocator.cc:1095] InUse at 609e2c200 of size 256 next 231\n",
      "2024-03-05 17:57:56.487380: I external/local_tsl/tsl/framework/bfc_allocator.cc:1095] InUse at 609e2c300 of size 256 next 138\n",
      "2024-03-05 17:57:56.487384: I external/local_tsl/tsl/framework/bfc_allocator.cc:1095] InUse at 609e2c400 of size 40960 next 376\n",
      "2024-03-05 17:57:56.487388: I external/local_tsl/tsl/framework/bfc_allocator.cc:1095] InUse at 609e36400 of size 27904 next 118\n",
      "2024-03-05 17:57:56.487392: I external/local_tsl/tsl/framework/bfc_allocator.cc:1095] InUse at 609e3d100 of size 147456 next 117\n",
      "2024-03-05 17:57:56.487396: I external/local_tsl/tsl/framework/bfc_allocator.cc:1095] InUse at 609e61100 of size 3072 next 937\n",
      "2024-03-05 17:57:56.487400: I external/local_tsl/tsl/framework/bfc_allocator.cc:1095] InUse at 609e61d00 of size 1024 next 310\n",
      "2024-03-05 17:57:56.487404: I external/local_tsl/tsl/framework/bfc_allocator.cc:1095] InUse at 609e62100 of size 2048 next 289\n",
      "2024-03-05 17:57:56.487408: I external/local_tsl/tsl/framework/bfc_allocator.cc:1095] InUse at 609e62900 of size 2048 next 311\n",
      "2024-03-05 17:57:56.487412: I external/local_tsl/tsl/framework/bfc_allocator.cc:1095] InUse at 609e63100 of size 8192 next 315\n",
      "2024-03-05 17:57:56.487416: I external/local_tsl/tsl/framework/bfc_allocator.cc:1095] InUse at 609e65100 of size 2048 next 840\n",
      "2024-03-05 17:57:56.487423: I external/local_tsl/tsl/framework/bfc_allocator.cc:1095] InUse at 609e65900 of size 2048 next 314\n",
      "2024-03-05 17:57:56.487427: I external/local_tsl/tsl/framework/bfc_allocator.cc:1095] InUse at 609e66100 of size 2048 next 327\n",
      "2024-03-05 17:57:56.487431: I external/local_tsl/tsl/framework/bfc_allocator.cc:1095] InUse at 609e66900 of size 2048 next 321\n",
      "2024-03-05 17:57:56.487434: I external/local_tsl/tsl/framework/bfc_allocator.cc:1095] InUse at 609e67100 of size 256 next 322\n",
      "2024-03-05 17:57:56.487438: I external/local_tsl/tsl/framework/bfc_allocator.cc:1095] InUse at 609e67200 of size 256 next 323\n",
      "2024-03-05 17:57:56.487442: I external/local_tsl/tsl/framework/bfc_allocator.cc:1095] InUse at 609e67300 of size 512 next 901\n",
      "2024-03-05 17:57:56.487446: I external/local_tsl/tsl/framework/bfc_allocator.cc:1095] InUse at 609e67500 of size 512 next 917\n",
      "2024-03-05 17:57:56.487450: I external/local_tsl/tsl/framework/bfc_allocator.cc:1095] InUse at 609e67700 of size 512 next 869\n",
      "2024-03-05 17:57:56.487453: I external/local_tsl/tsl/framework/bfc_allocator.cc:1095] InUse at 609e67900 of size 512 next 772\n",
      "2024-03-05 17:57:56.487457: I external/local_tsl/tsl/framework/bfc_allocator.cc:1095] InUse at 609e67b00 of size 1024 next 926\n",
      "2024-03-05 17:57:56.487461: I external/local_tsl/tsl/framework/bfc_allocator.cc:1095] InUse at 609e67f00 of size 1024 next 325\n",
      "2024-03-05 17:57:56.487465: I external/local_tsl/tsl/framework/bfc_allocator.cc:1095] InUse at 609e68300 of size 2048 next 316\n",
      "2024-03-05 17:57:56.487469: I external/local_tsl/tsl/framework/bfc_allocator.cc:1095] InUse at 609e68b00 of size 2048 next 329\n",
      "2024-03-05 17:57:56.487473: I external/local_tsl/tsl/framework/bfc_allocator.cc:1095] InUse at 609e69300 of size 256 next 330\n",
      "2024-03-05 17:57:56.487477: I external/local_tsl/tsl/framework/bfc_allocator.cc:1095] InUse at 609e69400 of size 256 next 331\n",
      "2024-03-05 17:57:56.487481: I external/local_tsl/tsl/framework/bfc_allocator.cc:1095] InUse at 609e69500 of size 8192 next 334\n",
      "2024-03-05 17:57:56.487485: I external/local_tsl/tsl/framework/bfc_allocator.cc:1095] InUse at 609e6b500 of size 8192 next 332\n",
      "2024-03-05 17:57:56.487488: I external/local_tsl/tsl/framework/bfc_allocator.cc:1095] InUse at 609e6d500 of size 2048 next 826\n",
      "2024-03-05 17:57:56.487492: I external/local_tsl/tsl/framework/bfc_allocator.cc:1095] InUse at 609e6dd00 of size 2048 next 773\n",
      "2024-03-05 17:57:56.487497: I external/local_tsl/tsl/framework/bfc_allocator.cc:1095] InUse at 609e6e500 of size 2048 next 865\n",
      "2024-03-05 17:57:56.487501: I external/local_tsl/tsl/framework/bfc_allocator.cc:1095] InUse at 609e6ed00 of size 512 next 883\n",
      "2024-03-05 17:57:56.487505: I external/local_tsl/tsl/framework/bfc_allocator.cc:1095] InUse at 609e6ef00 of size 512 next 873\n",
      "2024-03-05 17:57:56.487529: I external/local_tsl/tsl/framework/bfc_allocator.cc:1095] InUse at 609e6f100 of size 512 next 856\n",
      "2024-03-05 17:57:56.487570: I external/local_tsl/tsl/framework/bfc_allocator.cc:1095] InUse at 609e6f300 of size 512 next 860\n",
      "2024-03-05 17:57:56.487580: I external/local_tsl/tsl/framework/bfc_allocator.cc:1095] InUse at 609e6f500 of size 512 next 297\n",
      "2024-03-05 17:57:56.487583: I external/local_tsl/tsl/framework/bfc_allocator.cc:1095] InUse at 609e6f700 of size 512 next 909\n",
      "2024-03-05 17:57:56.487587: I external/local_tsl/tsl/framework/bfc_allocator.cc:1095] InUse at 609e6f900 of size 512 next 743\n",
      "2024-03-05 17:57:56.487590: I external/local_tsl/tsl/framework/bfc_allocator.cc:1095] InUse at 609e6fb00 of size 512 next 843\n",
      "2024-03-05 17:57:56.487594: I external/local_tsl/tsl/framework/bfc_allocator.cc:1095] InUse at 609e6fd00 of size 2048 next 952\n",
      "2024-03-05 17:57:56.487598: I external/local_tsl/tsl/framework/bfc_allocator.cc:1095] InUse at 609e70500 of size 2048 next 863\n",
      "2024-03-05 17:57:56.487602: I external/local_tsl/tsl/framework/bfc_allocator.cc:1095] InUse at 609e70d00 of size 2048 next 935\n",
      "2024-03-05 17:57:56.487605: I external/local_tsl/tsl/framework/bfc_allocator.cc:1095] InUse at 609e71500 of size 3072 next 949\n",
      "2024-03-05 17:57:56.487609: I external/local_tsl/tsl/framework/bfc_allocator.cc:1095] InUse at 609e72100 of size 1024 next 338\n",
      "2024-03-05 17:57:56.487613: I external/local_tsl/tsl/framework/bfc_allocator.cc:1095] InUse at 609e72500 of size 2048 next 339\n",
      "2024-03-05 17:57:56.487617: I external/local_tsl/tsl/framework/bfc_allocator.cc:1095] InUse at 609e72d00 of size 2048 next 342\n",
      "2024-03-05 17:57:56.487620: I external/local_tsl/tsl/framework/bfc_allocator.cc:1095] InUse at 609e73500 of size 3072 next 800\n",
      "2024-03-05 17:57:56.487625: I external/local_tsl/tsl/framework/bfc_allocator.cc:1095] InUse at 609e74100 of size 1024 next 343\n",
      "2024-03-05 17:57:56.487629: I external/local_tsl/tsl/framework/bfc_allocator.cc:1095] InUse at 609e74500 of size 12288 next 348\n",
      "2024-03-05 17:57:56.487633: I external/local_tsl/tsl/framework/bfc_allocator.cc:1095] InUse at 609e77500 of size 8192 next 349\n",
      "2024-03-05 17:57:56.487637: I external/local_tsl/tsl/framework/bfc_allocator.cc:1095] InUse at 609e79500 of size 8192 next 350\n",
      "2024-03-05 17:57:56.487641: I external/local_tsl/tsl/framework/bfc_allocator.cc:1095] InUse at 609e7b500 of size 7168 next 814\n",
      "2024-03-05 17:57:56.487645: I external/local_tsl/tsl/framework/bfc_allocator.cc:1095] InUse at 609e7d100 of size 1024 next 822\n",
      "2024-03-05 17:57:56.487649: I external/local_tsl/tsl/framework/bfc_allocator.cc:1095] InUse at 609e7d500 of size 4096 next 778\n",
      "2024-03-05 17:57:56.487657: I external/local_tsl/tsl/framework/bfc_allocator.cc:1095] InUse at 609e7e500 of size 4096 next 845\n",
      "2024-03-05 17:57:56.487661: I external/local_tsl/tsl/framework/bfc_allocator.cc:1095] InUse at 609e7f500 of size 4096 next 862\n",
      "2024-03-05 17:57:56.487665: I external/local_tsl/tsl/framework/bfc_allocator.cc:1095] InUse at 609e80500 of size 3072 next 137\n",
      "2024-03-05 17:57:56.487669: I external/local_tsl/tsl/framework/bfc_allocator.cc:1095] InUse at 609e81100 of size 393216 next 153\n",
      "2024-03-05 17:57:56.487673: I external/local_tsl/tsl/framework/bfc_allocator.cc:1095] InUse at 609ee1100 of size 262144 next 169\n",
      "2024-03-05 17:57:56.487678: I external/local_tsl/tsl/framework/bfc_allocator.cc:1095] InUse at 609f21100 of size 1048576 next 241\n",
      "2024-03-05 17:57:56.487683: I external/local_tsl/tsl/framework/bfc_allocator.cc:1095] InUse at 60a021100 of size 1179648 next 174\n",
      "2024-03-05 17:57:56.487686: I external/local_tsl/tsl/framework/bfc_allocator.cc:1095] InUse at 60a141100 of size 917504 next 164\n",
      "2024-03-05 17:57:56.487691: I external/local_tsl/tsl/framework/bfc_allocator.cc:1095] InUse at 60a221100 of size 262144 next 161\n",
      "2024-03-05 17:57:56.487695: I external/local_tsl/tsl/framework/bfc_allocator.cc:1095] InUse at 60a261100 of size 327680 next 163\n",
      "2024-03-05 17:57:56.487699: I external/local_tsl/tsl/framework/bfc_allocator.cc:1095] InUse at 60a2b1100 of size 262144 next 185\n",
      "2024-03-05 17:57:56.487703: I external/local_tsl/tsl/framework/bfc_allocator.cc:1095] InUse at 60a2f1100 of size 327680 next 180\n",
      "2024-03-05 17:57:56.487707: I external/local_tsl/tsl/framework/bfc_allocator.cc:1095] InUse at 60a341100 of size 262144 next 181\n",
      "2024-03-05 17:57:56.487755: I external/local_tsl/tsl/framework/bfc_allocator.cc:1095] InUse at 60a381100 of size 589824 next 201\n",
      "2024-03-05 17:57:56.487764: I external/local_tsl/tsl/framework/bfc_allocator.cc:1095] InUse at 60a411100 of size 327680 next 196\n",
      "2024-03-05 17:57:56.487768: I external/local_tsl/tsl/framework/bfc_allocator.cc:1095] InUse at 60a461100 of size 37632 next 374\n",
      "2024-03-05 17:57:56.487772: I external/local_tsl/tsl/framework/bfc_allocator.cc:1095] InUse at 60a46a400 of size 256 next 212\n",
      "2024-03-05 17:57:56.487775: I external/local_tsl/tsl/framework/bfc_allocator.cc:1095] InUse at 60a46a500 of size 256 next 375\n",
      "2024-03-05 17:57:56.487779: I external/local_tsl/tsl/framework/bfc_allocator.cc:1095] InUse at 60a46a600 of size 256 next 377\n",
      "2024-03-05 17:57:56.487782: I external/local_tsl/tsl/framework/bfc_allocator.cc:1095] InUse at 60a46a700 of size 256 next 378\n",
      "2024-03-05 17:57:56.487786: I external/local_tsl/tsl/framework/bfc_allocator.cc:1095] InUse at 60a46a800 of size 256 next 379\n",
      "2024-03-05 17:57:56.487790: I external/local_tsl/tsl/framework/bfc_allocator.cc:1095] InUse at 60a46a900 of size 256 next 380\n",
      "2024-03-05 17:57:56.487794: I external/local_tsl/tsl/framework/bfc_allocator.cc:1095] InUse at 60a46aa00 of size 16384 next 381\n",
      "2024-03-05 17:57:56.487798: I external/local_tsl/tsl/framework/bfc_allocator.cc:1095] InUse at 60a46ea00 of size 16384 next 382\n",
      "2024-03-05 17:57:56.487801: I external/local_tsl/tsl/framework/bfc_allocator.cc:1095] InUse at 60a472a00 of size 256 next 383\n",
      "2024-03-05 17:57:56.487805: I external/local_tsl/tsl/framework/bfc_allocator.cc:1095] InUse at 60a472b00 of size 256 next 384\n",
      "2024-03-05 17:57:56.487809: I external/local_tsl/tsl/framework/bfc_allocator.cc:1095] InUse at 60a472c00 of size 256 next 385\n",
      "2024-03-05 17:57:56.487813: I external/local_tsl/tsl/framework/bfc_allocator.cc:1095] InUse at 60a472d00 of size 256 next 386\n",
      "2024-03-05 17:57:56.487817: I external/local_tsl/tsl/framework/bfc_allocator.cc:1095] InUse at 60a472e00 of size 147456 next 387\n",
      "2024-03-05 17:57:56.487821: I external/local_tsl/tsl/framework/bfc_allocator.cc:1095] InUse at 60a496e00 of size 147456 next 388\n",
      "2024-03-05 17:57:56.487825: I external/local_tsl/tsl/framework/bfc_allocator.cc:1095] InUse at 60a4bae00 of size 256 next 389\n",
      "2024-03-05 17:57:56.487829: I external/local_tsl/tsl/framework/bfc_allocator.cc:1095] InUse at 60a4baf00 of size 256 next 390\n",
      "2024-03-05 17:57:56.487833: I external/local_tsl/tsl/framework/bfc_allocator.cc:1095] InUse at 60a4bb000 of size 256 next 391\n",
      "2024-03-05 17:57:56.487837: I external/local_tsl/tsl/framework/bfc_allocator.cc:1095] InUse at 60a4bb100 of size 256 next 392\n",
      "2024-03-05 17:57:56.487841: I external/local_tsl/tsl/framework/bfc_allocator.cc:1095] InUse at 60a4bb200 of size 65536 next 393\n",
      "2024-03-05 17:57:56.487844: I external/local_tsl/tsl/framework/bfc_allocator.cc:1095] InUse at 60a4cb200 of size 65536 next 394\n",
      "2024-03-05 17:57:56.487848: I external/local_tsl/tsl/framework/bfc_allocator.cc:1095] InUse at 60a4db200 of size 1024 next 395\n",
      "2024-03-05 17:57:56.487851: I external/local_tsl/tsl/framework/bfc_allocator.cc:1095] InUse at 60a4db600 of size 1024 next 396\n",
      "2024-03-05 17:57:56.487855: I external/local_tsl/tsl/framework/bfc_allocator.cc:1095] InUse at 60a4dba00 of size 87808 next 195\n",
      "2024-03-05 17:57:56.487859: I external/local_tsl/tsl/framework/bfc_allocator.cc:1095] InUse at 60a4f1100 of size 524288 next 213\n",
      "2024-03-05 17:57:56.487862: I external/local_tsl/tsl/framework/bfc_allocator.cc:1095] InUse at 60a571100 of size 1572864 next 228\n",
      "2024-03-05 17:57:56.487867: I external/local_tsl/tsl/framework/bfc_allocator.cc:1095] InUse at 60a6f1100 of size 1048576 next 245\n",
      "2024-03-05 17:57:56.487871: I external/local_tsl/tsl/framework/bfc_allocator.cc:1095] InUse at 60a7f1100 of size 4194304 next 234\n",
      "2024-03-05 17:57:56.487875: I external/local_tsl/tsl/framework/bfc_allocator.cc:1095] InUse at 60abf1100 of size 589824 next 175\n",
      "2024-03-05 17:57:56.487880: I external/local_tsl/tsl/framework/bfc_allocator.cc:1095] InUse at 60ac81100 of size 720896 next 221\n",
      "2024-03-05 17:57:56.487884: I external/local_tsl/tsl/framework/bfc_allocator.cc:1095] InUse at 60ad31100 of size 2359296 next 220\n",
      "2024-03-05 17:57:56.487889: I external/local_tsl/tsl/framework/bfc_allocator.cc:1095] InUse at 60af71100 of size 1048576 next 250\n",
      "2024-03-05 17:57:56.487893: I external/local_tsl/tsl/framework/bfc_allocator.cc:1095] InUse at 60b071100 of size 3670016 next 240\n",
      "2024-03-05 17:57:56.487898: I external/local_tsl/tsl/framework/bfc_allocator.cc:1095] InUse at 60b3f1100 of size 2359296 next 239\n",
      "2024-03-05 17:57:56.487903: I external/local_tsl/tsl/framework/bfc_allocator.cc:1095] InUse at 60b631100 of size 1048576 next 261\n",
      "2024-03-05 17:57:56.487908: I external/local_tsl/tsl/framework/bfc_allocator.cc:1095] InUse at 60b731100 of size 3670016 next 255\n",
      "2024-03-05 17:57:56.487912: I external/local_tsl/tsl/framework/bfc_allocator.cc:1095] InUse at 60bab1100 of size 1048576 next 276\n",
      "2024-03-05 17:57:56.487917: I external/local_tsl/tsl/framework/bfc_allocator.cc:1095] InUse at 60bbb1100 of size 1310720 next 271\n",
      "2024-03-05 17:57:56.487922: I external/local_tsl/tsl/framework/bfc_allocator.cc:1095] InUse at 60bcf1100 of size 1048576 next 273\n",
      "2024-03-05 17:57:56.487927: I external/local_tsl/tsl/framework/bfc_allocator.cc:1095] InUse at 60bdf1100 of size 1048576 next 295\n",
      "2024-03-05 17:57:56.487932: I external/local_tsl/tsl/framework/bfc_allocator.cc:1095] InUse at 60bef1100 of size 6029312 next 308\n",
      "2024-03-05 17:57:56.487936: I external/local_tsl/tsl/framework/bfc_allocator.cc:1095] InUse at 60c4b1100 of size 1310720 next 303\n",
      "2024-03-05 17:57:56.487941: I external/local_tsl/tsl/framework/bfc_allocator.cc:1095] InUse at 60c5f1100 of size 1048576 next 305\n",
      "2024-03-05 17:57:56.487946: I external/local_tsl/tsl/framework/bfc_allocator.cc:1095] InUse at 60c6f1100 of size 65536 next 397\n",
      "2024-03-05 17:57:56.487951: I external/local_tsl/tsl/framework/bfc_allocator.cc:1095] InUse at 60c701100 of size 1024 next 398\n",
      "2024-03-05 17:57:56.487955: I external/local_tsl/tsl/framework/bfc_allocator.cc:1095] InUse at 60c701500 of size 1024 next 399\n",
      "2024-03-05 17:57:56.487960: I external/local_tsl/tsl/framework/bfc_allocator.cc:1095] InUse at 60c701900 of size 1024 next 400\n",
      "2024-03-05 17:57:56.487964: I external/local_tsl/tsl/framework/bfc_allocator.cc:1095] InUse at 60c701d00 of size 1024 next 401\n",
      "2024-03-05 17:57:56.487969: I external/local_tsl/tsl/framework/bfc_allocator.cc:1095] InUse at 60c702100 of size 1024 next 402\n",
      "2024-03-05 17:57:56.487973: I external/local_tsl/tsl/framework/bfc_allocator.cc:1095] InUse at 60c702500 of size 1024 next 403\n",
      "2024-03-05 17:57:56.487978: I external/local_tsl/tsl/framework/bfc_allocator.cc:1095] InUse at 60c702900 of size 65536 next 404\n",
      "2024-03-05 17:57:56.487983: I external/local_tsl/tsl/framework/bfc_allocator.cc:1095] InUse at 60c712900 of size 65536 next 405\n",
      "2024-03-05 17:57:56.487987: I external/local_tsl/tsl/framework/bfc_allocator.cc:1095] InUse at 60c722900 of size 256 next 406\n",
      "2024-03-05 17:57:56.487991: I external/local_tsl/tsl/framework/bfc_allocator.cc:1095] InUse at 60c722a00 of size 256 next 407\n",
      "2024-03-05 17:57:56.487995: I external/local_tsl/tsl/framework/bfc_allocator.cc:1095] InUse at 60c722b00 of size 256 next 408\n",
      "2024-03-05 17:57:56.487998: I external/local_tsl/tsl/framework/bfc_allocator.cc:1095] InUse at 60c722c00 of size 256 next 409\n",
      "2024-03-05 17:57:56.488002: I external/local_tsl/tsl/framework/bfc_allocator.cc:1095] InUse at 60c722d00 of size 147456 next 410\n",
      "2024-03-05 17:57:56.488007: I external/local_tsl/tsl/framework/bfc_allocator.cc:1095] InUse at 60c746d00 of size 147456 next 411\n",
      "2024-03-05 17:57:56.488010: I external/local_tsl/tsl/framework/bfc_allocator.cc:1095] InUse at 60c76ad00 of size 256 next 412\n",
      "2024-03-05 17:57:56.488014: I external/local_tsl/tsl/framework/bfc_allocator.cc:1095] InUse at 60c76ae00 of size 256 next 413\n",
      "2024-03-05 17:57:56.488019: I external/local_tsl/tsl/framework/bfc_allocator.cc:1095] InUse at 60c76af00 of size 256 next 414\n",
      "2024-03-05 17:57:56.488024: I external/local_tsl/tsl/framework/bfc_allocator.cc:1095] InUse at 60c76b000 of size 256 next 415\n",
      "2024-03-05 17:57:56.488029: I external/local_tsl/tsl/framework/bfc_allocator.cc:1095] InUse at 60c76b100 of size 65536 next 416\n",
      "2024-03-05 17:57:56.488035: I external/local_tsl/tsl/framework/bfc_allocator.cc:1095] InUse at 60c77b100 of size 65536 next 417\n",
      "2024-03-05 17:57:56.488040: I external/local_tsl/tsl/framework/bfc_allocator.cc:1095] InUse at 60c78b100 of size 1024 next 418\n",
      "2024-03-05 17:57:56.488045: I external/local_tsl/tsl/framework/bfc_allocator.cc:1095] InUse at 60c78b500 of size 1024 next 419\n",
      "2024-03-05 17:57:56.488051: I external/local_tsl/tsl/framework/bfc_allocator.cc:1095] InUse at 60c78b900 of size 1024 next 420\n",
      "2024-03-05 17:57:56.488059: I external/local_tsl/tsl/framework/bfc_allocator.cc:1095] InUse at 60c78bd00 of size 1024 next 421\n",
      "2024-03-05 17:57:56.488064: I external/local_tsl/tsl/framework/bfc_allocator.cc:1095] InUse at 60c78c100 of size 1024 next 422\n",
      "2024-03-05 17:57:56.488159: I external/local_tsl/tsl/framework/bfc_allocator.cc:1095] InUse at 60c78c500 of size 1024 next 423\n",
      "2024-03-05 17:57:56.488167: I external/local_tsl/tsl/framework/bfc_allocator.cc:1095] InUse at 60c78c900 of size 65536 next 424\n",
      "2024-03-05 17:57:56.488171: I external/local_tsl/tsl/framework/bfc_allocator.cc:1095] InUse at 60c79c900 of size 65536 next 425\n",
      "2024-03-05 17:57:56.488177: I external/local_tsl/tsl/framework/bfc_allocator.cc:1095] InUse at 60c7ac900 of size 256 next 426\n",
      "2024-03-05 17:57:56.488183: I external/local_tsl/tsl/framework/bfc_allocator.cc:1095] InUse at 60c7aca00 of size 256 next 427\n",
      "2024-03-05 17:57:56.488188: I external/local_tsl/tsl/framework/bfc_allocator.cc:1095] InUse at 60c7acb00 of size 256 next 428\n",
      "2024-03-05 17:57:56.488192: I external/local_tsl/tsl/framework/bfc_allocator.cc:1095] InUse at 60c7acc00 of size 256 next 429\n",
      "2024-03-05 17:57:56.488197: I external/local_tsl/tsl/framework/bfc_allocator.cc:1095] InUse at 60c7acd00 of size 147456 next 430\n",
      "2024-03-05 17:57:56.488205: I external/local_tsl/tsl/framework/bfc_allocator.cc:1095] InUse at 60c7d0d00 of size 147456 next 431\n",
      "2024-03-05 17:57:56.488211: I external/local_tsl/tsl/framework/bfc_allocator.cc:1095] InUse at 60c7f4d00 of size 256 next 432\n",
      "2024-03-05 17:57:56.488217: I external/local_tsl/tsl/framework/bfc_allocator.cc:1095] InUse at 60c7f4e00 of size 256 next 433\n",
      "2024-03-05 17:57:56.488222: I external/local_tsl/tsl/framework/bfc_allocator.cc:1095] InUse at 60c7f4f00 of size 256 next 434\n",
      "2024-03-05 17:57:56.488227: I external/local_tsl/tsl/framework/bfc_allocator.cc:1095] InUse at 60c7f5000 of size 256 next 435\n",
      "2024-03-05 17:57:56.488235: I external/local_tsl/tsl/framework/bfc_allocator.cc:1095] InUse at 60c7f5100 of size 65536 next 436\n",
      "2024-03-05 17:57:56.488241: I external/local_tsl/tsl/framework/bfc_allocator.cc:1095] InUse at 60c805100 of size 65536 next 437\n",
      "2024-03-05 17:57:56.488246: I external/local_tsl/tsl/framework/bfc_allocator.cc:1095] InUse at 60c815100 of size 1024 next 438\n",
      "2024-03-05 17:57:56.488251: I external/local_tsl/tsl/framework/bfc_allocator.cc:1095] InUse at 60c815500 of size 1024 next 439\n",
      "2024-03-05 17:57:56.488255: I external/local_tsl/tsl/framework/bfc_allocator.cc:1095] InUse at 60c815900 of size 1024 next 440\n",
      "2024-03-05 17:57:56.488261: I external/local_tsl/tsl/framework/bfc_allocator.cc:1095] InUse at 60c815d00 of size 1024 next 441\n",
      "2024-03-05 17:57:56.488266: I external/local_tsl/tsl/framework/bfc_allocator.cc:1095] InUse at 60c816100 of size 1024 next 442\n",
      "2024-03-05 17:57:56.488270: I external/local_tsl/tsl/framework/bfc_allocator.cc:1095] InUse at 60c816500 of size 1024 next 443\n",
      "2024-03-05 17:57:56.488276: I external/local_tsl/tsl/framework/bfc_allocator.cc:1095] InUse at 60c816900 of size 512 next 446\n",
      "2024-03-05 17:57:56.488280: I external/local_tsl/tsl/framework/bfc_allocator.cc:1095] InUse at 60c816b00 of size 512 next 447\n",
      "2024-03-05 17:57:56.488284: I external/local_tsl/tsl/framework/bfc_allocator.cc:1095] InUse at 60c816d00 of size 512 next 448\n",
      "2024-03-05 17:57:56.488288: I external/local_tsl/tsl/framework/bfc_allocator.cc:1095] InUse at 60c816f00 of size 512 next 449\n",
      "2024-03-05 17:57:56.488291: I external/local_tsl/tsl/framework/bfc_allocator.cc:1095] InUse at 60c817100 of size 512 next 452\n",
      "2024-03-05 17:57:56.488295: I external/local_tsl/tsl/framework/bfc_allocator.cc:1095] InUse at 60c817300 of size 512 next 453\n",
      "2024-03-05 17:57:56.488298: I external/local_tsl/tsl/framework/bfc_allocator.cc:1095] InUse at 60c817500 of size 512 next 454\n",
      "2024-03-05 17:57:56.488302: I external/local_tsl/tsl/framework/bfc_allocator.cc:1095] InUse at 60c817700 of size 512 next 455\n",
      "2024-03-05 17:57:56.488305: I external/local_tsl/tsl/framework/bfc_allocator.cc:1095] InUse at 60c817900 of size 2048 next 458\n",
      "2024-03-05 17:57:56.488308: I external/local_tsl/tsl/framework/bfc_allocator.cc:1095] InUse at 60c818100 of size 2048 next 459\n",
      "2024-03-05 17:57:56.488312: I external/local_tsl/tsl/framework/bfc_allocator.cc:1095] InUse at 60c818900 of size 2048 next 462\n",
      "2024-03-05 17:57:56.488315: I external/local_tsl/tsl/framework/bfc_allocator.cc:1095] InUse at 60c819100 of size 2048 next 463\n",
      "2024-03-05 17:57:56.488319: I external/local_tsl/tsl/framework/bfc_allocator.cc:1095] InUse at 60c819900 of size 2048 next 464\n",
      "2024-03-05 17:57:56.488322: I external/local_tsl/tsl/framework/bfc_allocator.cc:1095] InUse at 60c81a100 of size 2048 next 465\n",
      "2024-03-05 17:57:56.488326: I external/local_tsl/tsl/framework/bfc_allocator.cc:1095] InUse at 60c81a900 of size 2048 next 466\n",
      "2024-03-05 17:57:56.488329: I external/local_tsl/tsl/framework/bfc_allocator.cc:1095] InUse at 60c81b100 of size 2048 next 467\n",
      "2024-03-05 17:57:56.488332: I external/local_tsl/tsl/framework/bfc_allocator.cc:1095] InUse at 60c81b900 of size 512 next 470\n",
      "2024-03-05 17:57:56.488336: I external/local_tsl/tsl/framework/bfc_allocator.cc:1095] InUse at 60c81bb00 of size 512 next 471\n",
      "2024-03-05 17:57:56.488339: I external/local_tsl/tsl/framework/bfc_allocator.cc:1095] InUse at 60c81bd00 of size 512 next 472\n",
      "2024-03-05 17:57:56.488343: I external/local_tsl/tsl/framework/bfc_allocator.cc:1095] InUse at 60c81bf00 of size 512 next 473\n",
      "2024-03-05 17:57:56.488346: I external/local_tsl/tsl/framework/bfc_allocator.cc:1095] InUse at 60c81c100 of size 512 next 475\n",
      "2024-03-05 17:57:56.488349: I external/local_tsl/tsl/framework/bfc_allocator.cc:1095] InUse at 60c81c300 of size 512 next 476\n",
      "2024-03-05 17:57:56.488353: I external/local_tsl/tsl/framework/bfc_allocator.cc:1095] InUse at 60c81c500 of size 512 next 477\n",
      "2024-03-05 17:57:56.488356: I external/local_tsl/tsl/framework/bfc_allocator.cc:1095] InUse at 60c81c700 of size 512 next 478\n",
      "2024-03-05 17:57:56.488360: I external/local_tsl/tsl/framework/bfc_allocator.cc:1095] InUse at 60c81c900 of size 2048 next 481\n",
      "2024-03-05 17:57:56.488364: I external/local_tsl/tsl/framework/bfc_allocator.cc:1095] InUse at 60c81d100 of size 2048 next 482\n",
      "2024-03-05 17:57:56.488367: I external/local_tsl/tsl/framework/bfc_allocator.cc:1095] InUse at 60c81d900 of size 2048 next 483\n",
      "2024-03-05 17:57:56.488370: I external/local_tsl/tsl/framework/bfc_allocator.cc:1095] InUse at 60c81e100 of size 2048 next 484\n",
      "2024-03-05 17:57:56.488374: I external/local_tsl/tsl/framework/bfc_allocator.cc:1095] InUse at 60c81e900 of size 2048 next 485\n",
      "2024-03-05 17:57:56.488377: I external/local_tsl/tsl/framework/bfc_allocator.cc:1095] InUse at 60c81f100 of size 2048 next 486\n",
      "2024-03-05 17:57:56.488381: I external/local_tsl/tsl/framework/bfc_allocator.cc:1095] InUse at 60c81f900 of size 512 next 489\n",
      "2024-03-05 17:57:56.488384: I external/local_tsl/tsl/framework/bfc_allocator.cc:1095] InUse at 60c81fb00 of size 512 next 490\n",
      "2024-03-05 17:57:56.488388: I external/local_tsl/tsl/framework/bfc_allocator.cc:1095] InUse at 60c81fd00 of size 512 next 491\n",
      "2024-03-05 17:57:56.488391: I external/local_tsl/tsl/framework/bfc_allocator.cc:1095] InUse at 60c81ff00 of size 512 next 492\n",
      "2024-03-05 17:57:56.488394: I external/local_tsl/tsl/framework/bfc_allocator.cc:1095] InUse at 60c820100 of size 512 next 495\n",
      "2024-03-05 17:57:56.488398: I external/local_tsl/tsl/framework/bfc_allocator.cc:1095] InUse at 60c820300 of size 512 next 496\n",
      "2024-03-05 17:57:56.488401: I external/local_tsl/tsl/framework/bfc_allocator.cc:1095] InUse at 60c820500 of size 512 next 497\n",
      "2024-03-05 17:57:56.488405: I external/local_tsl/tsl/framework/bfc_allocator.cc:1095] InUse at 60c820700 of size 512 next 498\n",
      "2024-03-05 17:57:56.488408: I external/local_tsl/tsl/framework/bfc_allocator.cc:1095] InUse at 60c820900 of size 2048 next 501\n",
      "2024-03-05 17:57:56.488411: I external/local_tsl/tsl/framework/bfc_allocator.cc:1095] InUse at 60c821100 of size 2048 next 502\n",
      "2024-03-05 17:57:56.488415: I external/local_tsl/tsl/framework/bfc_allocator.cc:1095] InUse at 60c821900 of size 2048 next 503\n",
      "2024-03-05 17:57:56.488418: I external/local_tsl/tsl/framework/bfc_allocator.cc:1095] InUse at 60c822100 of size 2048 next 504\n",
      "2024-03-05 17:57:56.488422: I external/local_tsl/tsl/framework/bfc_allocator.cc:1095] InUse at 60c822900 of size 2048 next 505\n",
      "2024-03-05 17:57:56.488425: I external/local_tsl/tsl/framework/bfc_allocator.cc:1095] InUse at 60c823100 of size 2048 next 506\n",
      "2024-03-05 17:57:56.488428: I external/local_tsl/tsl/framework/bfc_allocator.cc:1095] InUse at 60c823900 of size 512 next 509\n",
      "2024-03-05 17:57:56.488432: I external/local_tsl/tsl/framework/bfc_allocator.cc:1095] InUse at 60c823b00 of size 512 next 510\n",
      "2024-03-05 17:57:56.488435: I external/local_tsl/tsl/framework/bfc_allocator.cc:1095] InUse at 60c823d00 of size 512 next 511\n",
      "2024-03-05 17:57:56.488439: I external/local_tsl/tsl/framework/bfc_allocator.cc:1095] InUse at 60c823f00 of size 512 next 512\n",
      "2024-03-05 17:57:56.488442: I external/local_tsl/tsl/framework/bfc_allocator.cc:1095] InUse at 60c824100 of size 512 next 515\n",
      "2024-03-05 17:57:56.488446: I external/local_tsl/tsl/framework/bfc_allocator.cc:1095] InUse at 60c824300 of size 512 next 516\n",
      "2024-03-05 17:57:56.488449: I external/local_tsl/tsl/framework/bfc_allocator.cc:1095] InUse at 60c824500 of size 512 next 517\n",
      "2024-03-05 17:57:56.488452: I external/local_tsl/tsl/framework/bfc_allocator.cc:1095] InUse at 60c824700 of size 512 next 518\n",
      "2024-03-05 17:57:56.488456: I external/local_tsl/tsl/framework/bfc_allocator.cc:1095] InUse at 60c824900 of size 2048 next 521\n",
      "2024-03-05 17:57:56.488459: I external/local_tsl/tsl/framework/bfc_allocator.cc:1095] InUse at 60c825100 of size 2048 next 522\n",
      "2024-03-05 17:57:56.488463: I external/local_tsl/tsl/framework/bfc_allocator.cc:1095] InUse at 60c825900 of size 2048 next 523\n",
      "2024-03-05 17:57:56.488466: I external/local_tsl/tsl/framework/bfc_allocator.cc:1095] InUse at 60c826100 of size 2048 next 524\n",
      "2024-03-05 17:57:56.488470: I external/local_tsl/tsl/framework/bfc_allocator.cc:1095] InUse at 60c826900 of size 2048 next 525\n",
      "2024-03-05 17:57:56.488473: I external/local_tsl/tsl/framework/bfc_allocator.cc:1095] InUse at 60c827100 of size 2048 next 526\n",
      "2024-03-05 17:57:56.488477: I external/local_tsl/tsl/framework/bfc_allocator.cc:1095] InUse at 60c827900 of size 1024 next 529\n",
      "2024-03-05 17:57:56.488480: I external/local_tsl/tsl/framework/bfc_allocator.cc:1095] InUse at 60c827d00 of size 1024 next 530\n",
      "2024-03-05 17:57:56.488484: I external/local_tsl/tsl/framework/bfc_allocator.cc:1095] InUse at 60c828100 of size 1024 next 531\n",
      "2024-03-05 17:57:56.488487: I external/local_tsl/tsl/framework/bfc_allocator.cc:1095] InUse at 60c828500 of size 1024 next 532\n",
      "2024-03-05 17:57:56.488490: I external/local_tsl/tsl/framework/bfc_allocator.cc:1095] InUse at 60c828900 of size 1024 next 535\n",
      "2024-03-05 17:57:56.488494: I external/local_tsl/tsl/framework/bfc_allocator.cc:1095] InUse at 60c828d00 of size 1024 next 536\n",
      "2024-03-05 17:57:56.488497: I external/local_tsl/tsl/framework/bfc_allocator.cc:1095] InUse at 60c829100 of size 1024 next 537\n",
      "2024-03-05 17:57:56.488501: I external/local_tsl/tsl/framework/bfc_allocator.cc:1095] InUse at 60c829500 of size 1024 next 538\n",
      "2024-03-05 17:57:56.488504: I external/local_tsl/tsl/framework/bfc_allocator.cc:1095] InUse at 60c829900 of size 4096 next 541\n",
      "2024-03-05 17:57:56.488529: I external/local_tsl/tsl/framework/bfc_allocator.cc:1095] InUse at 60c82a900 of size 4096 next 542\n",
      "2024-03-05 17:57:56.488537: I external/local_tsl/tsl/framework/bfc_allocator.cc:1095] InUse at 60c82b900 of size 4096 next 545\n",
      "2024-03-05 17:57:56.488540: I external/local_tsl/tsl/framework/bfc_allocator.cc:1095] InUse at 60c82c900 of size 4096 next 546\n",
      "2024-03-05 17:57:56.488544: I external/local_tsl/tsl/framework/bfc_allocator.cc:1095] InUse at 60c82d900 of size 4096 next 547\n",
      "2024-03-05 17:57:56.488547: I external/local_tsl/tsl/framework/bfc_allocator.cc:1095] InUse at 60c82e900 of size 4096 next 548\n",
      "2024-03-05 17:57:56.488551: I external/local_tsl/tsl/framework/bfc_allocator.cc:1095] InUse at 60c82f900 of size 6144 next 302\n",
      "2024-03-05 17:57:56.488555: I external/local_tsl/tsl/framework/bfc_allocator.cc:1095] InUse at 60c831100 of size 2097152 next 319\n",
      "2024-03-05 17:57:56.488559: I external/local_tsl/tsl/framework/bfc_allocator.cc:1095] InUse at 60ca31100 of size 6291456 next 335\n",
      "2024-03-05 17:57:56.488563: I external/local_tsl/tsl/framework/bfc_allocator.cc:1095] InUse at 60d031100 of size 4194304 next 352\n",
      "2024-03-05 17:57:56.488566: I external/local_tsl/tsl/framework/bfc_allocator.cc:1095] InUse at 60d431100 of size 4194304 next 317\n",
      "2024-03-05 17:57:56.488570: I external/local_tsl/tsl/framework/bfc_allocator.cc:1095] InUse at 60d831100 of size 12582912 next 341\n",
      "2024-03-05 17:57:56.488574: I external/local_tsl/tsl/framework/bfc_allocator.cc:1095] InUse at 60e431100 of size 2097152 next 287\n",
      "2024-03-05 17:57:56.488577: I external/local_tsl/tsl/framework/bfc_allocator.cc:1095] InUse at 60e631100 of size 12582912 next 326\n",
      "2024-03-05 17:57:56.488581: I external/local_tsl/tsl/framework/bfc_allocator.cc:1095] InUse at 60f231100 of size 4194304 next 356\n",
      "2024-03-05 17:57:56.488584: I external/local_tsl/tsl/framework/bfc_allocator.cc:1095] InUse at 60f631100 of size 14680064 next 347\n",
      "2024-03-05 17:57:56.488588: I external/local_tsl/tsl/framework/bfc_allocator.cc:1095] InUse at 610431100 of size 9437184 next 346\n",
      "2024-03-05 17:57:56.488592: I external/local_tsl/tsl/framework/bfc_allocator.cc:1095] InUse at 610d31100 of size 131072 next 444\n",
      "2024-03-05 17:57:56.488595: I external/local_tsl/tsl/framework/bfc_allocator.cc:1095] InUse at 610d51100 of size 131072 next 445\n",
      "2024-03-05 17:57:56.488599: I external/local_tsl/tsl/framework/bfc_allocator.cc:1095] InUse at 610d71100 of size 589824 next 450\n",
      "2024-03-05 17:57:56.488602: I external/local_tsl/tsl/framework/bfc_allocator.cc:1095] InUse at 610e01100 of size 589824 next 451\n",
      "2024-03-05 17:57:56.488607: I external/local_tsl/tsl/framework/bfc_allocator.cc:1095] InUse at 610e91100 of size 524288 next 456\n",
      "2024-03-05 17:57:56.488610: I external/local_tsl/tsl/framework/bfc_allocator.cc:1095] InUse at 610f11100 of size 524288 next 457\n",
      "2024-03-05 17:57:56.488614: I external/local_tsl/tsl/framework/bfc_allocator.cc:1095] InUse at 610f91100 of size 262144 next 460\n",
      "2024-03-05 17:57:56.488617: I external/local_tsl/tsl/framework/bfc_allocator.cc:1095] InUse at 610fd1100 of size 262144 next 461\n",
      "2024-03-05 17:57:56.488621: I external/local_tsl/tsl/framework/bfc_allocator.cc:1095] InUse at 611011100 of size 262144 next 468\n",
      "2024-03-05 17:57:56.488690: I external/local_tsl/tsl/framework/bfc_allocator.cc:1095] InUse at 611051100 of size 262144 next 469\n",
      "2024-03-05 17:57:56.488701: I external/local_tsl/tsl/framework/bfc_allocator.cc:1095] InUse at 611091100 of size 655360 next 367\n",
      "2024-03-05 17:57:56.488705: I external/local_tsl/tsl/framework/bfc_allocator.cc:1095] InUse at 611131100 of size 5242880 next 362\n",
      "2024-03-05 17:57:56.488709: I external/local_tsl/tsl/framework/bfc_allocator.cc:1095] InUse at 611631100 of size 589824 next 474\n",
      "2024-03-05 17:57:56.488734: I external/local_tsl/tsl/framework/bfc_allocator.cc:1095] InUse at 6116c1100 of size 262144 next 479\n",
      "2024-03-05 17:57:56.488743: I external/local_tsl/tsl/framework/bfc_allocator.cc:1095] InUse at 611701100 of size 262144 next 480\n",
      "2024-03-05 17:57:56.488746: I external/local_tsl/tsl/framework/bfc_allocator.cc:1095] InUse at 611741100 of size 262144 next 487\n",
      "2024-03-05 17:57:56.488750: I external/local_tsl/tsl/framework/bfc_allocator.cc:1095] InUse at 611781100 of size 262144 next 488\n",
      "2024-03-05 17:57:56.488753: I external/local_tsl/tsl/framework/bfc_allocator.cc:1095] InUse at 6117c1100 of size 589824 next 493\n",
      "2024-03-05 17:57:56.488757: I external/local_tsl/tsl/framework/bfc_allocator.cc:1095] InUse at 611851100 of size 589824 next 494\n",
      "2024-03-05 17:57:56.488760: I external/local_tsl/tsl/framework/bfc_allocator.cc:1095] InUse at 6118e1100 of size 262144 next 499\n",
      "2024-03-05 17:57:56.488764: I external/local_tsl/tsl/framework/bfc_allocator.cc:1095] InUse at 611921100 of size 262144 next 500\n",
      "2024-03-05 17:57:56.488767: I external/local_tsl/tsl/framework/bfc_allocator.cc:1095] InUse at 611961100 of size 262144 next 507\n",
      "2024-03-05 17:57:56.488771: I external/local_tsl/tsl/framework/bfc_allocator.cc:1095] InUse at 6119a1100 of size 262144 next 508\n",
      "2024-03-05 17:57:56.488775: I external/local_tsl/tsl/framework/bfc_allocator.cc:1095] InUse at 6119e1100 of size 589824 next 513\n",
      "2024-03-05 17:57:56.488778: I external/local_tsl/tsl/framework/bfc_allocator.cc:1095] InUse at 611a71100 of size 589824 next 514\n",
      "2024-03-05 17:57:56.488781: I external/local_tsl/tsl/framework/bfc_allocator.cc:1095] InUse at 611b01100 of size 262144 next 519\n",
      "2024-03-05 17:57:56.488785: I external/local_tsl/tsl/framework/bfc_allocator.cc:1095] InUse at 611b41100 of size 262144 next 520\n",
      "2024-03-05 17:57:56.488788: I external/local_tsl/tsl/framework/bfc_allocator.cc:1095] InUse at 611b81100 of size 524288 next 527\n",
      "2024-03-05 17:57:56.488792: I external/local_tsl/tsl/framework/bfc_allocator.cc:1095] InUse at 611c01100 of size 524288 next 528\n",
      "2024-03-05 17:57:56.488795: I external/local_tsl/tsl/framework/bfc_allocator.cc:1095] InUse at 611c81100 of size 2359296 next 533\n",
      "2024-03-05 17:57:56.488799: I external/local_tsl/tsl/framework/bfc_allocator.cc:1095] InUse at 611ec1100 of size 2359296 next 534\n",
      "2024-03-05 17:57:56.488802: I external/local_tsl/tsl/framework/bfc_allocator.cc:1095] InUse at 612101100 of size 2097152 next 539\n",
      "2024-03-05 17:57:56.488805: I external/local_tsl/tsl/framework/bfc_allocator.cc:1095] InUse at 612301100 of size 2097152 next 540\n",
      "2024-03-05 17:57:56.488809: I external/local_tsl/tsl/framework/bfc_allocator.cc:1095] InUse at 612501100 of size 1048576 next 543\n",
      "2024-03-05 17:57:56.488812: I external/local_tsl/tsl/framework/bfc_allocator.cc:1095] InUse at 612601100 of size 1048576 next 544\n",
      "2024-03-05 17:57:56.488817: I external/local_tsl/tsl/framework/bfc_allocator.cc:1095] InUse at 612701100 of size 4096 next 549\n",
      "2024-03-05 17:57:56.488821: I external/local_tsl/tsl/framework/bfc_allocator.cc:1095] InUse at 612702100 of size 1048576 next 550\n",
      "2024-03-05 17:57:56.488825: I external/local_tsl/tsl/framework/bfc_allocator.cc:1095] InUse at 612802100 of size 1048576 next 551\n",
      "2024-03-05 17:57:56.488828: I external/local_tsl/tsl/framework/bfc_allocator.cc:1095] InUse at 612902100 of size 1024 next 552\n",
      "2024-03-05 17:57:56.488832: I external/local_tsl/tsl/framework/bfc_allocator.cc:1095] InUse at 612902500 of size 1024 next 553\n",
      "2024-03-05 17:57:56.488835: I external/local_tsl/tsl/framework/bfc_allocator.cc:1095] InUse at 612902900 of size 1024 next 554\n",
      "2024-03-05 17:57:56.488839: I external/local_tsl/tsl/framework/bfc_allocator.cc:1095] InUse at 612902d00 of size 1024 next 555\n",
      "2024-03-05 17:57:56.488842: I external/local_tsl/tsl/framework/bfc_allocator.cc:1095] InUse at 612903100 of size 2359296 next 556\n",
      "2024-03-05 17:57:56.488846: I external/local_tsl/tsl/framework/bfc_allocator.cc:1095] InUse at 612b43100 of size 2359296 next 557\n",
      "2024-03-05 17:57:56.488849: I external/local_tsl/tsl/framework/bfc_allocator.cc:1095] InUse at 612d83100 of size 1024 next 558\n",
      "2024-03-05 17:57:56.488852: I external/local_tsl/tsl/framework/bfc_allocator.cc:1095] InUse at 612d83500 of size 1024 next 559\n",
      "2024-03-05 17:57:56.488856: I external/local_tsl/tsl/framework/bfc_allocator.cc:1095] InUse at 612d83900 of size 1024 next 560\n",
      "2024-03-05 17:57:56.488859: I external/local_tsl/tsl/framework/bfc_allocator.cc:1095] InUse at 612d83d00 of size 1024 next 561\n",
      "2024-03-05 17:57:56.488863: I external/local_tsl/tsl/framework/bfc_allocator.cc:1095] InUse at 612d84100 of size 1048576 next 562\n",
      "2024-03-05 17:57:56.488866: I external/local_tsl/tsl/framework/bfc_allocator.cc:1095] InUse at 612e84100 of size 1048576 next 563\n",
      "2024-03-05 17:57:56.488869: I external/local_tsl/tsl/framework/bfc_allocator.cc:1095] InUse at 612f84100 of size 4096 next 564\n",
      "2024-03-05 17:57:56.488873: I external/local_tsl/tsl/framework/bfc_allocator.cc:1095] InUse at 612f85100 of size 4096 next 565\n",
      "2024-03-05 17:57:56.488876: I external/local_tsl/tsl/framework/bfc_allocator.cc:1095] InUse at 612f86100 of size 4096 next 566\n",
      "2024-03-05 17:57:56.488880: I external/local_tsl/tsl/framework/bfc_allocator.cc:1095] InUse at 612f87100 of size 4096 next 567\n",
      "2024-03-05 17:57:56.488883: I external/local_tsl/tsl/framework/bfc_allocator.cc:1095] InUse at 612f88100 of size 4096 next 568\n",
      "2024-03-05 17:57:56.488887: I external/local_tsl/tsl/framework/bfc_allocator.cc:1095] InUse at 612f89100 of size 4096 next 569\n",
      "2024-03-05 17:57:56.488890: I external/local_tsl/tsl/framework/bfc_allocator.cc:1095] InUse at 612f8a100 of size 1048576 next 570\n",
      "2024-03-05 17:57:56.488893: I external/local_tsl/tsl/framework/bfc_allocator.cc:1095] InUse at 61308a100 of size 1048576 next 571\n",
      "2024-03-05 17:57:56.488897: I external/local_tsl/tsl/framework/bfc_allocator.cc:1095] InUse at 61318a100 of size 1024 next 572\n",
      "2024-03-05 17:57:56.488900: I external/local_tsl/tsl/framework/bfc_allocator.cc:1095] InUse at 61318a500 of size 1024 next 573\n",
      "2024-03-05 17:57:56.488904: I external/local_tsl/tsl/framework/bfc_allocator.cc:1095] InUse at 61318a900 of size 1024 next 574\n",
      "2024-03-05 17:57:56.488907: I external/local_tsl/tsl/framework/bfc_allocator.cc:1095] InUse at 61318ad00 of size 1024 next 575\n",
      "2024-03-05 17:57:56.488911: I external/local_tsl/tsl/framework/bfc_allocator.cc:1095] InUse at 61318b100 of size 2359296 next 576\n",
      "2024-03-05 17:57:56.488914: I external/local_tsl/tsl/framework/bfc_allocator.cc:1095] InUse at 6133cb100 of size 2359296 next 577\n",
      "2024-03-05 17:57:56.488917: I external/local_tsl/tsl/framework/bfc_allocator.cc:1095] InUse at 61360b100 of size 1024 next 578\n",
      "2024-03-05 17:57:56.488921: I external/local_tsl/tsl/framework/bfc_allocator.cc:1095] InUse at 61360b500 of size 1024 next 579\n",
      "2024-03-05 17:57:56.488925: I external/local_tsl/tsl/framework/bfc_allocator.cc:1095] InUse at 61360b900 of size 1024 next 580\n",
      "2024-03-05 17:57:56.488929: I external/local_tsl/tsl/framework/bfc_allocator.cc:1095] InUse at 61360bd00 of size 1024 next 581\n",
      "2024-03-05 17:57:56.488932: I external/local_tsl/tsl/framework/bfc_allocator.cc:1095] InUse at 61360c100 of size 1048576 next 582\n",
      "2024-03-05 17:57:56.488936: I external/local_tsl/tsl/framework/bfc_allocator.cc:1095] InUse at 61370c100 of size 1048576 next 583\n",
      "2024-03-05 17:57:56.488939: I external/local_tsl/tsl/framework/bfc_allocator.cc:1095] InUse at 61380c100 of size 4096 next 584\n",
      "2024-03-05 17:57:56.488943: I external/local_tsl/tsl/framework/bfc_allocator.cc:1095] InUse at 61380d100 of size 4096 next 585\n",
      "2024-03-05 17:57:56.488946: I external/local_tsl/tsl/framework/bfc_allocator.cc:1095] InUse at 61380e100 of size 4096 next 586\n",
      "2024-03-05 17:57:56.488949: I external/local_tsl/tsl/framework/bfc_allocator.cc:1095] InUse at 61380f100 of size 4096 next 587\n",
      "2024-03-05 17:57:56.488953: I external/local_tsl/tsl/framework/bfc_allocator.cc:1095] InUse at 613810100 of size 4096 next 588\n",
      "2024-03-05 17:57:56.488956: I external/local_tsl/tsl/framework/bfc_allocator.cc:1095] InUse at 613811100 of size 4096 next 589\n",
      "2024-03-05 17:57:56.488960: I external/local_tsl/tsl/framework/bfc_allocator.cc:1095] InUse at 613812100 of size 1048576 next 590\n",
      "2024-03-05 17:57:56.488963: I external/local_tsl/tsl/framework/bfc_allocator.cc:1095] InUse at 613912100 of size 1048576 next 591\n",
      "2024-03-05 17:57:56.488966: I external/local_tsl/tsl/framework/bfc_allocator.cc:1095] InUse at 613a12100 of size 1024 next 592\n",
      "2024-03-05 17:57:56.488970: I external/local_tsl/tsl/framework/bfc_allocator.cc:1095] InUse at 613a12500 of size 1024 next 593\n",
      "2024-03-05 17:57:56.488973: I external/local_tsl/tsl/framework/bfc_allocator.cc:1095] InUse at 613a12900 of size 1024 next 594\n",
      "2024-03-05 17:57:56.488977: I external/local_tsl/tsl/framework/bfc_allocator.cc:1095] InUse at 613a12d00 of size 1024 next 595\n",
      "2024-03-05 17:57:56.488980: I external/local_tsl/tsl/framework/bfc_allocator.cc:1095] InUse at 613a13100 of size 2359296 next 596\n",
      "2024-03-05 17:57:56.488984: I external/local_tsl/tsl/framework/bfc_allocator.cc:1095] InUse at 613c53100 of size 2359296 next 597\n",
      "2024-03-05 17:57:56.488987: I external/local_tsl/tsl/framework/bfc_allocator.cc:1095] InUse at 613e93100 of size 1024 next 598\n",
      "2024-03-05 17:57:56.488990: I external/local_tsl/tsl/framework/bfc_allocator.cc:1095] InUse at 613e93500 of size 1024 next 599\n",
      "2024-03-05 17:57:56.488994: I external/local_tsl/tsl/framework/bfc_allocator.cc:1095] InUse at 613e93900 of size 1024 next 600\n",
      "2024-03-05 17:57:56.488997: I external/local_tsl/tsl/framework/bfc_allocator.cc:1095] InUse at 613e93d00 of size 1024 next 601\n",
      "2024-03-05 17:57:56.489001: I external/local_tsl/tsl/framework/bfc_allocator.cc:1095] InUse at 613e94100 of size 1048576 next 602\n",
      "2024-03-05 17:57:56.489004: I external/local_tsl/tsl/framework/bfc_allocator.cc:1095] InUse at 613f94100 of size 1048576 next 603\n",
      "2024-03-05 17:57:56.489007: I external/local_tsl/tsl/framework/bfc_allocator.cc:1095] InUse at 614094100 of size 4096 next 604\n",
      "2024-03-05 17:57:56.489011: I external/local_tsl/tsl/framework/bfc_allocator.cc:1095] InUse at 614095100 of size 4096 next 605\n",
      "2024-03-05 17:57:56.489014: I external/local_tsl/tsl/framework/bfc_allocator.cc:1095] InUse at 614096100 of size 4096 next 606\n",
      "2024-03-05 17:57:56.489018: I external/local_tsl/tsl/framework/bfc_allocator.cc:1095] InUse at 614097100 of size 4096 next 607\n",
      "2024-03-05 17:57:56.489021: I external/local_tsl/tsl/framework/bfc_allocator.cc:1095] InUse at 614098100 of size 4096 next 608\n",
      "2024-03-05 17:57:56.489024: I external/local_tsl/tsl/framework/bfc_allocator.cc:1095] InUse at 614099100 of size 4096 next 609\n",
      "2024-03-05 17:57:56.489028: I external/local_tsl/tsl/framework/bfc_allocator.cc:1095] InUse at 61409a100 of size 1048576 next 610\n",
      "2024-03-05 17:57:56.489031: I external/local_tsl/tsl/framework/bfc_allocator.cc:1095] InUse at 61419a100 of size 1048576 next 611\n",
      "2024-03-05 17:57:56.489036: I external/local_tsl/tsl/framework/bfc_allocator.cc:1095] InUse at 61429a100 of size 1024 next 612\n",
      "2024-03-05 17:57:56.489039: I external/local_tsl/tsl/framework/bfc_allocator.cc:1095] InUse at 61429a500 of size 1024 next 613\n",
      "2024-03-05 17:57:56.489043: I external/local_tsl/tsl/framework/bfc_allocator.cc:1095] InUse at 61429a900 of size 1024 next 614\n",
      "2024-03-05 17:57:56.489046: I external/local_tsl/tsl/framework/bfc_allocator.cc:1095] InUse at 61429ad00 of size 1024 next 615\n",
      "2024-03-05 17:57:56.489050: I external/local_tsl/tsl/framework/bfc_allocator.cc:1095] InUse at 61429b100 of size 2359296 next 616\n",
      "2024-03-05 17:57:56.489053: I external/local_tsl/tsl/framework/bfc_allocator.cc:1095] InUse at 6144db100 of size 2359296 next 617\n",
      "2024-03-05 17:57:56.489057: I external/local_tsl/tsl/framework/bfc_allocator.cc:1095] InUse at 61471b100 of size 1024 next 618\n",
      "2024-03-05 17:57:56.489060: I external/local_tsl/tsl/framework/bfc_allocator.cc:1095] InUse at 61471b500 of size 1024 next 619\n",
      "2024-03-05 17:57:56.489063: I external/local_tsl/tsl/framework/bfc_allocator.cc:1095] InUse at 61471b900 of size 1024 next 620\n",
      "2024-03-05 17:57:56.489067: I external/local_tsl/tsl/framework/bfc_allocator.cc:1095] InUse at 61471bd00 of size 1024 next 621\n",
      "2024-03-05 17:57:56.489070: I external/local_tsl/tsl/framework/bfc_allocator.cc:1095] InUse at 61471c100 of size 1048576 next 622\n",
      "2024-03-05 17:57:56.489074: I external/local_tsl/tsl/framework/bfc_allocator.cc:1095] InUse at 61481c100 of size 1048576 next 623\n",
      "2024-03-05 17:57:56.489077: I external/local_tsl/tsl/framework/bfc_allocator.cc:1095] InUse at 61491c100 of size 4096 next 624\n",
      "2024-03-05 17:57:56.489081: I external/local_tsl/tsl/framework/bfc_allocator.cc:1095] InUse at 61491d100 of size 4096 next 625\n",
      "2024-03-05 17:57:56.489084: I external/local_tsl/tsl/framework/bfc_allocator.cc:1095] InUse at 61491e100 of size 4096 next 626\n",
      "2024-03-05 17:57:56.489087: I external/local_tsl/tsl/framework/bfc_allocator.cc:1095] InUse at 61491f100 of size 4096 next 627\n",
      "2024-03-05 17:57:56.489091: I external/local_tsl/tsl/framework/bfc_allocator.cc:1095] InUse at 614920100 of size 4096 next 628\n",
      "2024-03-05 17:57:56.489094: I external/local_tsl/tsl/framework/bfc_allocator.cc:1095] InUse at 614921100 of size 4096 next 629\n",
      "2024-03-05 17:57:56.489098: I external/local_tsl/tsl/framework/bfc_allocator.cc:1095] InUse at 614922100 of size 1048576 next 630\n",
      "2024-03-05 17:57:56.489101: I external/local_tsl/tsl/framework/bfc_allocator.cc:1095] InUse at 614a22100 of size 1048576 next 631\n",
      "2024-03-05 17:57:56.489104: I external/local_tsl/tsl/framework/bfc_allocator.cc:1095] InUse at 614b22100 of size 1024 next 632\n",
      "2024-03-05 17:57:56.489108: I external/local_tsl/tsl/framework/bfc_allocator.cc:1095] InUse at 614b22500 of size 1024 next 633\n",
      "2024-03-05 17:57:56.489111: I external/local_tsl/tsl/framework/bfc_allocator.cc:1095] InUse at 614b22900 of size 1024 next 634\n",
      "2024-03-05 17:57:56.489115: I external/local_tsl/tsl/framework/bfc_allocator.cc:1095] InUse at 614b22d00 of size 1024 next 635\n",
      "2024-03-05 17:57:56.489118: I external/local_tsl/tsl/framework/bfc_allocator.cc:1095] InUse at 614b23100 of size 2359296 next 636\n",
      "2024-03-05 17:57:56.489121: I external/local_tsl/tsl/framework/bfc_allocator.cc:1095] InUse at 614d63100 of size 2359296 next 637\n",
      "2024-03-05 17:57:56.489125: I external/local_tsl/tsl/framework/bfc_allocator.cc:1095] InUse at 614fa3100 of size 1024 next 638\n",
      "2024-03-05 17:57:56.489128: I external/local_tsl/tsl/framework/bfc_allocator.cc:1095] InUse at 614fa3500 of size 1024 next 639\n",
      "2024-03-05 17:57:56.489132: I external/local_tsl/tsl/framework/bfc_allocator.cc:1095] InUse at 614fa3900 of size 1024 next 640\n",
      "2024-03-05 17:57:56.489135: I external/local_tsl/tsl/framework/bfc_allocator.cc:1095] InUse at 614fa3d00 of size 1024 next 641\n",
      "2024-03-05 17:57:56.489139: I external/local_tsl/tsl/framework/bfc_allocator.cc:1095] InUse at 614fa4100 of size 1048576 next 642\n",
      "2024-03-05 17:57:56.489142: I external/local_tsl/tsl/framework/bfc_allocator.cc:1095] InUse at 6150a4100 of size 1048576 next 643\n",
      "2024-03-05 17:57:56.489146: I external/local_tsl/tsl/framework/bfc_allocator.cc:1095] InUse at 6151a4100 of size 4096 next 644\n",
      "2024-03-05 17:57:56.489150: I external/local_tsl/tsl/framework/bfc_allocator.cc:1095] InUse at 6151a5100 of size 4096 next 645\n",
      "2024-03-05 17:57:56.489153: I external/local_tsl/tsl/framework/bfc_allocator.cc:1095] InUse at 6151a6100 of size 4096 next 646\n",
      "2024-03-05 17:57:56.489157: I external/local_tsl/tsl/framework/bfc_allocator.cc:1095] InUse at 6151a7100 of size 4096 next 647\n",
      "2024-03-05 17:57:56.489160: I external/local_tsl/tsl/framework/bfc_allocator.cc:1095] InUse at 6151a8100 of size 4096 next 648\n",
      "2024-03-05 17:57:56.489164: I external/local_tsl/tsl/framework/bfc_allocator.cc:1095] InUse at 6151a9100 of size 4096 next 649\n",
      "2024-03-05 17:57:56.489186: I external/local_tsl/tsl/framework/bfc_allocator.cc:1095] InUse at 6151aa100 of size 2097152 next 650\n",
      "2024-03-05 17:57:56.489193: I external/local_tsl/tsl/framework/bfc_allocator.cc:1095] InUse at 6153aa100 of size 2097152 next 651\n",
      "2024-03-05 17:57:56.489196: I external/local_tsl/tsl/framework/bfc_allocator.cc:1095] InUse at 6155aa100 of size 2048 next 652\n",
      "2024-03-05 17:57:56.489200: I external/local_tsl/tsl/framework/bfc_allocator.cc:1095] InUse at 6155aa900 of size 2048 next 653\n",
      "2024-03-05 17:57:56.489203: I external/local_tsl/tsl/framework/bfc_allocator.cc:1095] InUse at 6155ab100 of size 2048 next 654\n",
      "2024-03-05 17:57:56.489207: I external/local_tsl/tsl/framework/bfc_allocator.cc:1095] InUse at 6155ab900 of size 2048 next 655\n",
      "2024-03-05 17:57:56.489210: I external/local_tsl/tsl/framework/bfc_allocator.cc:1095] InUse at 6155ac100 of size 9437184 next 656\n",
      "2024-03-05 17:57:56.489214: I external/local_tsl/tsl/framework/bfc_allocator.cc:1095] InUse at 615eac100 of size 9437184 next 657\n",
      "2024-03-05 17:57:56.489217: I external/local_tsl/tsl/framework/bfc_allocator.cc:1095] InUse at 6167ac100 of size 2048 next 658\n",
      "2024-03-05 17:57:56.489221: I external/local_tsl/tsl/framework/bfc_allocator.cc:1095] InUse at 6167ac900 of size 2048 next 659\n",
      "2024-03-05 17:57:56.489224: I external/local_tsl/tsl/framework/bfc_allocator.cc:1095] InUse at 6167ad100 of size 2048 next 660\n",
      "2024-03-05 17:57:56.489227: I external/local_tsl/tsl/framework/bfc_allocator.cc:1095] InUse at 6167ad900 of size 2048 next 661\n",
      "2024-03-05 17:57:56.489231: I external/local_tsl/tsl/framework/bfc_allocator.cc:1095] InUse at 6167ae100 of size 8388608 next 662\n",
      "2024-03-05 17:57:56.489235: I external/local_tsl/tsl/framework/bfc_allocator.cc:1095] InUse at 616fae100 of size 8388608 next 663\n",
      "2024-03-05 17:57:56.489238: I external/local_tsl/tsl/framework/bfc_allocator.cc:1095] InUse at 6177ae100 of size 8192 next 664\n",
      "2024-03-05 17:57:56.489242: I external/local_tsl/tsl/framework/bfc_allocator.cc:1095] InUse at 6177b0100 of size 8192 next 665\n",
      "2024-03-05 17:57:56.489245: I external/local_tsl/tsl/framework/bfc_allocator.cc:1095] InUse at 6177b2100 of size 4194304 next 666\n",
      "2024-03-05 17:57:56.489249: I external/local_tsl/tsl/framework/bfc_allocator.cc:1095] InUse at 617bb2100 of size 4194304 next 667\n",
      "2024-03-05 17:57:56.489252: I external/local_tsl/tsl/framework/bfc_allocator.cc:1095] InUse at 617fb2100 of size 8192 next 668\n",
      "2024-03-05 17:57:56.489255: I external/local_tsl/tsl/framework/bfc_allocator.cc:1095] InUse at 617fb4100 of size 8192 next 669\n",
      "2024-03-05 17:57:56.489259: I external/local_tsl/tsl/framework/bfc_allocator.cc:1095] InUse at 617fb6100 of size 8192 next 670\n",
      "2024-03-05 17:57:56.489262: I external/local_tsl/tsl/framework/bfc_allocator.cc:1095] InUse at 617fb8100 of size 8192 next 671\n",
      "2024-03-05 17:57:56.489266: I external/local_tsl/tsl/framework/bfc_allocator.cc:1095] InUse at 617fba100 of size 8192 next 672\n",
      "2024-03-05 17:57:56.489269: I external/local_tsl/tsl/framework/bfc_allocator.cc:1095] InUse at 617fbc100 of size 8192 next 673\n",
      "2024-03-05 17:57:56.489272: I external/local_tsl/tsl/framework/bfc_allocator.cc:1095] InUse at 617fbe100 of size 4194304 next 674\n",
      "2024-03-05 17:57:56.489276: I external/local_tsl/tsl/framework/bfc_allocator.cc:1095] InUse at 6183be100 of size 4194304 next 675\n",
      "2024-03-05 17:57:56.489280: I external/local_tsl/tsl/framework/bfc_allocator.cc:1095] InUse at 6187be100 of size 2048 next 676\n",
      "2024-03-05 17:57:56.489283: I external/local_tsl/tsl/framework/bfc_allocator.cc:1095] InUse at 6187be900 of size 2048 next 677\n",
      "2024-03-05 17:57:56.489287: I external/local_tsl/tsl/framework/bfc_allocator.cc:1095] InUse at 6187bf100 of size 2048 next 678\n",
      "2024-03-05 17:57:56.489290: I external/local_tsl/tsl/framework/bfc_allocator.cc:1095] InUse at 6187bf900 of size 2048 next 679\n",
      "2024-03-05 17:57:56.489294: I external/local_tsl/tsl/framework/bfc_allocator.cc:1095] InUse at 6187c0100 of size 9437184 next 680\n",
      "2024-03-05 17:57:56.489297: I external/local_tsl/tsl/framework/bfc_allocator.cc:1095] InUse at 6190c0100 of size 9437184 next 681\n",
      "2024-03-05 17:57:56.489301: I external/local_tsl/tsl/framework/bfc_allocator.cc:1095] InUse at 6199c0100 of size 2048 next 682\n",
      "2024-03-05 17:57:56.489304: I external/local_tsl/tsl/framework/bfc_allocator.cc:1095] InUse at 6199c0900 of size 2048 next 683\n",
      "2024-03-05 17:57:56.489307: I external/local_tsl/tsl/framework/bfc_allocator.cc:1095] InUse at 6199c1100 of size 2048 next 684\n",
      "2024-03-05 17:57:56.489311: I external/local_tsl/tsl/framework/bfc_allocator.cc:1095] InUse at 6199c1900 of size 2048 next 685\n",
      "2024-03-05 17:57:56.489314: I external/local_tsl/tsl/framework/bfc_allocator.cc:1095] InUse at 6199c2100 of size 4194304 next 686\n",
      "2024-03-05 17:57:56.489317: I external/local_tsl/tsl/framework/bfc_allocator.cc:1095] InUse at 619dc2100 of size 4194304 next 687\n",
      "2024-03-05 17:57:56.489321: I external/local_tsl/tsl/framework/bfc_allocator.cc:1095] InUse at 61a1c2100 of size 8192 next 688\n",
      "2024-03-05 17:57:56.489324: I external/local_tsl/tsl/framework/bfc_allocator.cc:1095] InUse at 61a1c4100 of size 8192 next 689\n",
      "2024-03-05 17:57:56.489328: I external/local_tsl/tsl/framework/bfc_allocator.cc:1095] InUse at 61a1c6100 of size 8192 next 690\n",
      "2024-03-05 17:57:56.489331: I external/local_tsl/tsl/framework/bfc_allocator.cc:1095] InUse at 61a1c8100 of size 8192 next 691\n",
      "2024-03-05 17:57:56.489334: I external/local_tsl/tsl/framework/bfc_allocator.cc:1095] InUse at 61a1ca100 of size 8192 next 692\n",
      "2024-03-05 17:57:56.489338: I external/local_tsl/tsl/framework/bfc_allocator.cc:1095] InUse at 61a1cc100 of size 8192 next 693\n",
      "2024-03-05 17:57:56.489341: I external/local_tsl/tsl/framework/bfc_allocator.cc:1095] InUse at 61a1ce100 of size 4194304 next 694\n",
      "2024-03-05 17:57:56.489345: I external/local_tsl/tsl/framework/bfc_allocator.cc:1095] InUse at 61a5ce100 of size 4194304 next 695\n",
      "2024-03-05 17:57:56.489348: I external/local_tsl/tsl/framework/bfc_allocator.cc:1095] InUse at 61a9ce100 of size 2048 next 696\n",
      "2024-03-05 17:57:56.489351: I external/local_tsl/tsl/framework/bfc_allocator.cc:1095] InUse at 61a9ce900 of size 2048 next 697\n",
      "2024-03-05 17:57:56.489355: I external/local_tsl/tsl/framework/bfc_allocator.cc:1095] InUse at 61a9cf100 of size 2048 next 698\n",
      "2024-03-05 17:57:56.489358: I external/local_tsl/tsl/framework/bfc_allocator.cc:1095] InUse at 61a9cf900 of size 2048 next 699\n",
      "2024-03-05 17:57:56.489362: I external/local_tsl/tsl/framework/bfc_allocator.cc:1095] InUse at 61a9d0100 of size 9437184 next 700\n",
      "2024-03-05 17:57:56.489365: I external/local_tsl/tsl/framework/bfc_allocator.cc:1095] InUse at 61b2d0100 of size 9437184 next 701\n",
      "2024-03-05 17:57:56.489368: I external/local_tsl/tsl/framework/bfc_allocator.cc:1095] InUse at 61bbd0100 of size 2048 next 702\n",
      "2024-03-05 17:57:56.489372: I external/local_tsl/tsl/framework/bfc_allocator.cc:1095] InUse at 61bbd0900 of size 2048 next 703\n",
      "2024-03-05 17:57:56.489375: I external/local_tsl/tsl/framework/bfc_allocator.cc:1095] InUse at 61bbd1100 of size 2048 next 704\n",
      "2024-03-05 17:57:56.489378: I external/local_tsl/tsl/framework/bfc_allocator.cc:1095] InUse at 61bbd1900 of size 2048 next 705\n",
      "2024-03-05 17:57:56.489382: I external/local_tsl/tsl/framework/bfc_allocator.cc:1095] InUse at 61bbd2100 of size 4194304 next 706\n",
      "2024-03-05 17:57:56.489385: I external/local_tsl/tsl/framework/bfc_allocator.cc:1095] InUse at 61bfd2100 of size 4194304 next 707\n",
      "2024-03-05 17:57:56.489389: I external/local_tsl/tsl/framework/bfc_allocator.cc:1095] InUse at 61c3d2100 of size 8192 next 708\n",
      "2024-03-05 17:57:56.489393: I external/local_tsl/tsl/framework/bfc_allocator.cc:1095] InUse at 61c3d4100 of size 8192 next 709\n",
      "2024-03-05 17:57:56.489396: I external/local_tsl/tsl/framework/bfc_allocator.cc:1095] InUse at 61c3d6100 of size 8192 next 710\n",
      "2024-03-05 17:57:56.489399: I external/local_tsl/tsl/framework/bfc_allocator.cc:1095] InUse at 61c3d8100 of size 8192 next 711\n",
      "2024-03-05 17:57:56.489403: I external/local_tsl/tsl/framework/bfc_allocator.cc:1095] InUse at 61c3da100 of size 8192 next 712\n",
      "2024-03-05 17:57:56.489406: I external/local_tsl/tsl/framework/bfc_allocator.cc:1095] InUse at 61c3dc100 of size 8192 next 713\n",
      "2024-03-05 17:57:56.489410: I external/local_tsl/tsl/framework/bfc_allocator.cc:1095] InUse at 61c3de100 of size 4096 next 716\n",
      "2024-03-05 17:57:56.489413: I external/local_tsl/tsl/framework/bfc_allocator.cc:1095] InUse at 61c3df100 of size 4096 next 717\n",
      "2024-03-05 17:57:56.489417: I external/local_tsl/tsl/framework/bfc_allocator.cc:1095] InUse at 61c3e0100 of size 20224 next 718\n",
      "2024-03-05 17:57:56.489421: I external/local_tsl/tsl/framework/bfc_allocator.cc:1095] InUse at 61c3e5000 of size 20224 next 719\n",
      "2024-03-05 17:57:56.489424: I external/local_tsl/tsl/framework/bfc_allocator.cc:1095] InUse at 61c3e9f00 of size 256 next 720\n",
      "2024-03-05 17:57:56.489428: I external/local_tsl/tsl/framework/bfc_allocator.cc:1095] InUse at 61c3ea000 of size 256 next 721\n",
      "2024-03-05 17:57:56.489431: I external/local_tsl/tsl/framework/bfc_allocator.cc:1095] InUse at 61c3ea100 of size 256 next 722\n",
      "2024-03-05 17:57:56.489434: I external/local_tsl/tsl/framework/bfc_allocator.cc:1095] InUse at 61c3ea200 of size 256 next 723\n",
      "2024-03-05 17:57:56.489438: I external/local_tsl/tsl/framework/bfc_allocator.cc:1095] InUse at 61c3ea300 of size 256 next 724\n",
      "2024-03-05 17:57:56.489441: I external/local_tsl/tsl/framework/bfc_allocator.cc:1095] InUse at 61c3ea400 of size 256 next 725\n",
      "2024-03-05 17:57:56.489445: I external/local_tsl/tsl/framework/bfc_allocator.cc:1095] InUse at 61c3ea500 of size 4096 next 898\n",
      "2024-03-05 17:57:56.489448: I external/local_tsl/tsl/framework/bfc_allocator.cc:1095] InUse at 61c3eb500 of size 4096 next 246\n",
      "2024-03-05 17:57:56.489452: I external/local_tsl/tsl/framework/bfc_allocator.cc:1095] InUse at 61c3ec500 of size 1024 next 809\n",
      "2024-03-05 17:57:56.489455: I external/local_tsl/tsl/framework/bfc_allocator.cc:1095] InUse at 61c3ec900 of size 1024 next 920\n",
      "2024-03-05 17:57:56.489459: I external/local_tsl/tsl/framework/bfc_allocator.cc:1095] InUse at 61c3ecd00 of size 1024 next 265\n",
      "2024-03-05 17:57:56.489462: I external/local_tsl/tsl/framework/bfc_allocator.cc:1095] InUse at 61c3ed100 of size 1024 next 851\n",
      "2024-03-05 17:57:56.489467: I external/local_tsl/tsl/framework/bfc_allocator.cc:1095] InUse at 61c3ed500 of size 1024 next 858\n",
      "2024-03-05 17:57:56.489472: I external/local_tsl/tsl/framework/bfc_allocator.cc:1095] InUse at 61c3ed900 of size 1024 next 333\n",
      "2024-03-05 17:57:56.489477: I external/local_tsl/tsl/framework/bfc_allocator.cc:1095] InUse at 61c3edd00 of size 1024 next 962\n",
      "2024-03-05 17:57:56.489481: I external/local_tsl/tsl/framework/bfc_allocator.cc:1095] InUse at 61c3ee100 of size 1024 next 269\n",
      "2024-03-05 17:57:56.489486: I external/local_tsl/tsl/framework/bfc_allocator.cc:1095] InUse at 61c3ee500 of size 4096 next 964\n",
      "2024-03-05 17:57:56.489491: I external/local_tsl/tsl/framework/bfc_allocator.cc:1095] InUse at 61c3ef500 of size 4096 next 893\n",
      "2024-03-05 17:57:56.489497: I external/local_tsl/tsl/framework/bfc_allocator.cc:1095] InUse at 61c3f0500 of size 4096 next 936\n",
      "2024-03-05 17:57:56.489502: I external/local_tsl/tsl/framework/bfc_allocator.cc:1095] InUse at 61c3f1500 of size 4096 next 368\n",
      "2024-03-05 17:57:56.489528: I external/local_tsl/tsl/framework/bfc_allocator.cc:1095] InUse at 61c3f2500 of size 4096 next 742\n",
      "2024-03-05 17:57:56.489541: I external/local_tsl/tsl/framework/bfc_allocator.cc:1095] InUse at 61c3f3500 of size 1024 next 902\n",
      "2024-03-05 17:57:56.489547: I external/local_tsl/tsl/framework/bfc_allocator.cc:1095] InUse at 61c3f3900 of size 1024 next 940\n",
      "2024-03-05 17:57:56.489553: I external/local_tsl/tsl/framework/bfc_allocator.cc:1095] InUse at 61c3f3d00 of size 1024 next 921\n",
      "2024-03-05 17:57:56.489558: I external/local_tsl/tsl/framework/bfc_allocator.cc:1095] InUse at 61c3f4100 of size 1024 next 714\n",
      "2024-03-05 17:57:56.489563: I external/local_tsl/tsl/framework/bfc_allocator.cc:1095] InUse at 61c3f4500 of size 1024 next 158\n",
      "2024-03-05 17:57:56.489568: I external/local_tsl/tsl/framework/bfc_allocator.cc:1095] InUse at 61c3f4900 of size 1024 next 956\n",
      "2024-03-05 17:57:56.489573: I external/local_tsl/tsl/framework/bfc_allocator.cc:1095] InUse at 61c3f4d00 of size 1024 next 301\n",
      "2024-03-05 17:57:56.489578: I external/local_tsl/tsl/framework/bfc_allocator.cc:1095] InUse at 61c3f5100 of size 1024 next 960\n",
      "2024-03-05 17:57:56.489583: I external/local_tsl/tsl/framework/bfc_allocator.cc:1095] InUse at 61c3f5500 of size 4096 next 969\n",
      "2024-03-05 17:57:56.489588: I external/local_tsl/tsl/framework/bfc_allocator.cc:1095] InUse at 61c3f6500 of size 4096 next 970\n",
      "2024-03-05 17:57:56.489592: I external/local_tsl/tsl/framework/bfc_allocator.cc:1095] InUse at 61c3f7500 of size 4096 next 971\n",
      "2024-03-05 17:57:56.489597: I external/local_tsl/tsl/framework/bfc_allocator.cc:1095] InUse at 61c3f8500 of size 4096 next 973\n",
      "2024-03-05 17:57:56.489602: I external/local_tsl/tsl/framework/bfc_allocator.cc:1095] InUse at 61c3f9500 of size 4096 next 974\n",
      "2024-03-05 17:57:56.489607: I external/local_tsl/tsl/framework/bfc_allocator.cc:1095] InUse at 61c3fa500 of size 2048 next 229\n",
      "2024-03-05 17:57:56.489612: I external/local_tsl/tsl/framework/bfc_allocator.cc:1095] InUse at 61c3fad00 of size 2048 next 975\n",
      "2024-03-05 17:57:56.489617: I external/local_tsl/tsl/framework/bfc_allocator.cc:1095] InUse at 61c3fb500 of size 2048 next 976\n",
      "2024-03-05 17:57:56.489622: I external/local_tsl/tsl/framework/bfc_allocator.cc:1095] InUse at 61c3fbd00 of size 8192 next 779\n",
      "2024-03-05 17:57:56.489628: I external/local_tsl/tsl/framework/bfc_allocator.cc:1095] InUse at 61c3fdd00 of size 8192 next 993\n",
      "2024-03-05 17:57:56.489633: I external/local_tsl/tsl/framework/bfc_allocator.cc:1095] InUse at 61c3ffd00 of size 35072 next 753\n",
      "2024-03-05 17:57:56.489640: I external/local_tsl/tsl/framework/bfc_allocator.cc:1095] InUse at 61c408600 of size 1024 next 825\n",
      "2024-03-05 17:57:56.489645: I external/local_tsl/tsl/framework/bfc_allocator.cc:1095] InUse at 61c408a00 of size 1024 next 801\n",
      "2024-03-05 17:57:56.489649: I external/local_tsl/tsl/framework/bfc_allocator.cc:1095] InUse at 61c408e00 of size 1024 next 776\n",
      "2024-03-05 17:57:56.489654: I external/local_tsl/tsl/framework/bfc_allocator.cc:1095] InUse at 61c409200 of size 1024 next 906\n",
      "2024-03-05 17:57:56.489659: I external/local_tsl/tsl/framework/bfc_allocator.cc:1095] InUse at 61c409600 of size 1024 next 929\n",
      "2024-03-05 17:57:56.489664: I external/local_tsl/tsl/framework/bfc_allocator.cc:1095] InUse at 61c409a00 of size 1024 next 899\n",
      "2024-03-05 17:57:56.489669: I external/local_tsl/tsl/framework/bfc_allocator.cc:1095] InUse at 61c409e00 of size 1024 next 1032\n",
      "2024-03-05 17:57:56.489776: I external/local_tsl/tsl/framework/bfc_allocator.cc:1095] InUse at 61c40a200 of size 2048 next 207\n",
      "2024-03-05 17:57:56.489788: I external/local_tsl/tsl/framework/bfc_allocator.cc:1095] InUse at 61c40aa00 of size 2048 next 136\n",
      "2024-03-05 17:57:56.489791: I external/local_tsl/tsl/framework/bfc_allocator.cc:1095] InUse at 61c40b200 of size 2048 next 849\n",
      "2024-03-05 17:57:56.489795: I external/local_tsl/tsl/framework/bfc_allocator.cc:1095] InUse at 61c40ba00 of size 1024 next 727\n",
      "2024-03-05 17:57:56.489798: I external/local_tsl/tsl/framework/bfc_allocator.cc:1095] InUse at 61c40be00 of size 1024 next 895\n",
      "2024-03-05 17:57:56.489802: I external/local_tsl/tsl/framework/bfc_allocator.cc:1095] InUse at 61c40c200 of size 4096 next 740\n",
      "2024-03-05 17:57:56.489806: I external/local_tsl/tsl/framework/bfc_allocator.cc:1095] InUse at 61c40d200 of size 5120 next 838\n",
      "2024-03-05 17:57:56.489810: I external/local_tsl/tsl/framework/bfc_allocator.cc:1095] InUse at 61c40e600 of size 4096 next 115\n",
      "2024-03-05 17:57:56.489814: I external/local_tsl/tsl/framework/bfc_allocator.cc:1095] InUse at 61c40f600 of size 4096 next 959\n",
      "2024-03-05 17:57:56.489818: I external/local_tsl/tsl/framework/bfc_allocator.cc:1095] InUse at 61c410600 of size 4096 next 945\n",
      "2024-03-05 17:57:56.489821: I external/local_tsl/tsl/framework/bfc_allocator.cc:1095] InUse at 61c411600 of size 4096 next 324\n",
      "2024-03-05 17:57:56.489825: I external/local_tsl/tsl/framework/bfc_allocator.cc:1095] InUse at 61c412600 of size 1024 next 927\n",
      "2024-03-05 17:57:56.489828: I external/local_tsl/tsl/framework/bfc_allocator.cc:1095] InUse at 61c412a00 of size 1024 next 189\n",
      "2024-03-05 17:57:56.489832: I external/local_tsl/tsl/framework/bfc_allocator.cc:1095] InUse at 61c412e00 of size 1024 next 728\n",
      "2024-03-05 17:57:56.489835: I external/local_tsl/tsl/framework/bfc_allocator.cc:1095] InUse at 61c413200 of size 1024 next 754\n",
      "2024-03-05 17:57:56.489839: I external/local_tsl/tsl/framework/bfc_allocator.cc:1095] InUse at 61c413600 of size 1024 next 770\n",
      "2024-03-05 17:57:56.489842: I external/local_tsl/tsl/framework/bfc_allocator.cc:1095] InUse at 61c413a00 of size 1024 next 218\n",
      "2024-03-05 17:57:56.489846: I external/local_tsl/tsl/framework/bfc_allocator.cc:1095] InUse at 61c413e00 of size 1024 next 757\n",
      "2024-03-05 17:57:56.489849: I external/local_tsl/tsl/framework/bfc_allocator.cc:1095] InUse at 61c414200 of size 1024 next 177\n",
      "2024-03-05 17:57:56.489853: I external/local_tsl/tsl/framework/bfc_allocator.cc:1095] InUse at 61c414600 of size 4096 next 812\n",
      "2024-03-05 17:57:56.489856: I external/local_tsl/tsl/framework/bfc_allocator.cc:1095] InUse at 61c415600 of size 1024 next 790\n",
      "2024-03-05 17:57:56.489860: I external/local_tsl/tsl/framework/bfc_allocator.cc:1095] InUse at 61c415a00 of size 1024 next 735\n",
      "2024-03-05 17:57:56.489863: I external/local_tsl/tsl/framework/bfc_allocator.cc:1095] InUse at 61c415e00 of size 65536 next 752\n",
      "2024-03-05 17:57:56.489867: I external/local_tsl/tsl/framework/bfc_allocator.cc:1095] InUse at 61c425e00 of size 4096 next 781\n",
      "2024-03-05 17:57:56.489870: I external/local_tsl/tsl/framework/bfc_allocator.cc:1095] InUse at 61c426e00 of size 4096 next 777\n",
      "2024-03-05 17:57:56.489874: I external/local_tsl/tsl/framework/bfc_allocator.cc:1095] InUse at 61c427e00 of size 4096 next 916\n",
      "2024-03-05 17:57:56.489877: I external/local_tsl/tsl/framework/bfc_allocator.cc:1095] InUse at 61c428e00 of size 4096 next 878\n",
      "2024-03-05 17:57:56.489881: I external/local_tsl/tsl/framework/bfc_allocator.cc:1095] InUse at 61c429e00 of size 1024 next 928\n",
      "2024-03-05 17:57:56.489884: I external/local_tsl/tsl/framework/bfc_allocator.cc:1095] InUse at 61c42a200 of size 1024 next 813\n",
      "2024-03-05 17:57:56.489888: I external/local_tsl/tsl/framework/bfc_allocator.cc:1095] InUse at 61c42a600 of size 1024 next 918\n",
      "2024-03-05 17:57:56.489891: I external/local_tsl/tsl/framework/bfc_allocator.cc:1095] InUse at 61c42aa00 of size 1024 next 787\n",
      "2024-03-05 17:57:56.489894: I external/local_tsl/tsl/framework/bfc_allocator.cc:1095] InUse at 61c42ae00 of size 1024 next 101\n",
      "2024-03-05 17:57:56.489898: I external/local_tsl/tsl/framework/bfc_allocator.cc:1095] InUse at 61c42b200 of size 1024 next 876\n",
      "2024-03-05 17:57:56.489901: I external/local_tsl/tsl/framework/bfc_allocator.cc:1095] InUse at 61c42b600 of size 4096 next 789\n",
      "2024-03-05 17:57:56.489905: I external/local_tsl/tsl/framework/bfc_allocator.cc:1095] InUse at 61c42c600 of size 4096 next 859\n",
      "2024-03-05 17:57:56.489908: I external/local_tsl/tsl/framework/bfc_allocator.cc:1095] InUse at 61c42d600 of size 4096 next 819\n",
      "2024-03-05 17:57:56.489912: I external/local_tsl/tsl/framework/bfc_allocator.cc:1095] InUse at 61c42e600 of size 4096 next 820\n",
      "2024-03-05 17:57:56.489915: I external/local_tsl/tsl/framework/bfc_allocator.cc:1095] InUse at 61c42f600 of size 4096 next 794\n",
      "2024-03-05 17:57:56.489918: I external/local_tsl/tsl/framework/bfc_allocator.cc:1095] InUse at 61c430600 of size 1024 next 896\n",
      "2024-03-05 17:57:56.489923: I external/local_tsl/tsl/framework/bfc_allocator.cc:1095] InUse at 61c430a00 of size 1024 next 810\n",
      "2024-03-05 17:57:56.489927: I external/local_tsl/tsl/framework/bfc_allocator.cc:1095] InUse at 61c430e00 of size 1024 next 238\n",
      "2024-03-05 17:57:56.489930: I external/local_tsl/tsl/framework/bfc_allocator.cc:1095] InUse at 61c431200 of size 1024 next 802\n",
      "2024-03-05 17:57:56.489934: I external/local_tsl/tsl/framework/bfc_allocator.cc:1095] InUse at 61c431600 of size 1024 next 771\n",
      "2024-03-05 17:57:56.489937: I external/local_tsl/tsl/framework/bfc_allocator.cc:1095] InUse at 61c431a00 of size 1024 next 824\n",
      "2024-03-05 17:57:56.489941: I external/local_tsl/tsl/framework/bfc_allocator.cc:1095] InUse at 61c431e00 of size 1024 next 842\n",
      "2024-03-05 17:57:56.489944: I external/local_tsl/tsl/framework/bfc_allocator.cc:1095] InUse at 61c432200 of size 1024 next 816\n",
      "2024-03-05 17:57:56.489948: I external/local_tsl/tsl/framework/bfc_allocator.cc:1095] InUse at 61c432600 of size 4096 next 882\n",
      "2024-03-05 17:57:56.489951: I external/local_tsl/tsl/framework/bfc_allocator.cc:1095] InUse at 61c433600 of size 4096 next 150\n",
      "2024-03-05 17:57:56.489955: I external/local_tsl/tsl/framework/bfc_allocator.cc:1095] InUse at 61c434600 of size 6144 next 142\n",
      "2024-03-05 17:57:56.489958: I external/local_tsl/tsl/framework/bfc_allocator.cc:1095] InUse at 61c435e00 of size 65536 next 738\n",
      "2024-03-05 17:57:56.489962: I external/local_tsl/tsl/framework/bfc_allocator.cc:1095] InUse at 61c445e00 of size 65536 next 786\n",
      "2024-03-05 17:57:56.489965: I external/local_tsl/tsl/framework/bfc_allocator.cc:1095] InUse at 61c455e00 of size 4096 next 1258\n",
      "2024-03-05 17:57:56.489969: I external/local_tsl/tsl/framework/bfc_allocator.cc:1095] InUse at 61c456e00 of size 4096 next 1259\n",
      "2024-03-05 17:57:56.489973: I external/local_tsl/tsl/framework/bfc_allocator.cc:1095] InUse at 61c457e00 of size 4096 next 1260\n",
      "2024-03-05 17:57:56.489976: I external/local_tsl/tsl/framework/bfc_allocator.cc:1095] InUse at 61c458e00 of size 4096 next 1261\n",
      "2024-03-05 17:57:56.489980: I external/local_tsl/tsl/framework/bfc_allocator.cc:1095] InUse at 61c459e00 of size 4096 next 1263\n",
      "2024-03-05 17:57:56.489984: I external/local_tsl/tsl/framework/bfc_allocator.cc:1095] InUse at 61c45ae00 of size 8192 next 1277\n",
      "2024-03-05 17:57:56.489990: I external/local_tsl/tsl/framework/bfc_allocator.cc:1095] InUse at 61c45ce00 of size 8192 next 1269\n",
      "2024-03-05 17:57:56.489994: I external/local_tsl/tsl/framework/bfc_allocator.cc:1095] InUse at 61c45ee00 of size 8192 next 1106\n",
      "2024-03-05 17:57:56.489999: I external/local_tsl/tsl/framework/bfc_allocator.cc:1095] InUse at 61c460e00 of size 256 next 1194\n",
      "2024-03-05 17:57:56.490003: I external/local_tsl/tsl/framework/bfc_allocator.cc:1095] InUse at 61c460f00 of size 4096 next 1180\n",
      "2024-03-05 17:57:56.490007: I external/local_tsl/tsl/framework/bfc_allocator.cc:1095] InUse at 61c461f00 of size 4096 next 1239\n",
      "2024-03-05 17:57:56.490010: I external/local_tsl/tsl/framework/bfc_allocator.cc:1095] InUse at 61c462f00 of size 20224 next 1174\n",
      "2024-03-05 17:57:56.490014: I external/local_tsl/tsl/framework/bfc_allocator.cc:1095] InUse at 61c467e00 of size 24576 next 829\n",
      "2024-03-05 17:57:56.490018: I external/local_tsl/tsl/framework/bfc_allocator.cc:1095] InUse at 61c46de00 of size 65536 next 1031\n",
      "2024-03-05 17:57:56.490022: I external/local_tsl/tsl/framework/bfc_allocator.cc:1095] InUse at 61c47de00 of size 81920 next 939\n",
      "2024-03-05 17:57:56.490026: I external/local_tsl/tsl/framework/bfc_allocator.cc:1095] InUse at 61c491e00 of size 65536 next 76\n",
      "2024-03-05 17:57:56.490029: I external/local_tsl/tsl/framework/bfc_allocator.cc:1095] InUse at 61c4a1e00 of size 37632 next 1028\n",
      "2024-03-05 17:57:56.490033: I external/local_tsl/tsl/framework/bfc_allocator.cc:1095] InUse at 61c4ab100 of size 191744 next 885\n",
      "2024-03-05 17:57:56.490037: I external/local_tsl/tsl/framework/bfc_allocator.cc:1095] InUse at 61c4d9e00 of size 147456 next 922\n",
      "2024-03-05 17:57:56.490040: I external/local_tsl/tsl/framework/bfc_allocator.cc:1095] InUse at 61c4fde00 of size 256 next 745\n",
      "2024-03-05 17:57:56.490045: I external/local_tsl/tsl/framework/bfc_allocator.cc:1095] InUse at 61c4fdf00 of size 4096 next 345\n",
      "2024-03-05 17:57:56.490048: I external/local_tsl/tsl/framework/bfc_allocator.cc:1095] InUse at 61c4fef00 of size 4096 next 233\n",
      "2024-03-05 17:57:56.490052: I external/local_tsl/tsl/framework/bfc_allocator.cc:1095] InUse at 61c4fff00 of size 256 next 715\n",
      "2024-03-05 17:57:56.490055: I external/local_tsl/tsl/framework/bfc_allocator.cc:1095] InUse at 61c500000 of size 256 next 1033\n",
      "2024-03-05 17:57:56.490059: I external/local_tsl/tsl/framework/bfc_allocator.cc:1095] InUse at 61c500100 of size 256 next 1034\n",
      "2024-03-05 17:57:56.490064: I external/local_tsl/tsl/framework/bfc_allocator.cc:1095] InUse at 61c500200 of size 256 next 1035\n",
      "2024-03-05 17:57:56.490072: I external/local_tsl/tsl/framework/bfc_allocator.cc:1095] InUse at 61c500300 of size 256 next 1036\n",
      "2024-03-05 17:57:56.490086: I external/local_tsl/tsl/framework/bfc_allocator.cc:1095] InUse at 61c500400 of size 256 next 1037\n",
      "2024-03-05 17:57:56.490091: I external/local_tsl/tsl/framework/bfc_allocator.cc:1095] InUse at 61c500500 of size 256 next 1043\n",
      "2024-03-05 17:57:56.490097: I external/local_tsl/tsl/framework/bfc_allocator.cc:1095] InUse at 61c500600 of size 256 next 1042\n",
      "2024-03-05 17:57:56.490103: I external/local_tsl/tsl/framework/bfc_allocator.cc:1095] InUse at 61c500700 of size 256 next 1046\n",
      "2024-03-05 17:57:56.490109: I external/local_tsl/tsl/framework/bfc_allocator.cc:1095] InUse at 61c500800 of size 256 next 1040\n",
      "2024-03-05 17:57:56.490114: I external/local_tsl/tsl/framework/bfc_allocator.cc:1095] InUse at 61c500900 of size 256 next 1053\n",
      "2024-03-05 17:57:56.490119: I external/local_tsl/tsl/framework/bfc_allocator.cc:1095] InUse at 61c500a00 of size 256 next 1050\n",
      "2024-03-05 17:57:56.490124: I external/local_tsl/tsl/framework/bfc_allocator.cc:1095] InUse at 61c500b00 of size 256 next 1694\n",
      "2024-03-05 17:57:56.490129: I external/local_tsl/tsl/framework/bfc_allocator.cc:1095] InUse at 61c500c00 of size 256 next 1048\n",
      "2024-03-05 17:57:56.490133: I external/local_tsl/tsl/framework/bfc_allocator.cc:1095] InUse at 61c500d00 of size 256 next 1052\n",
      "2024-03-05 17:57:56.490138: I external/local_tsl/tsl/framework/bfc_allocator.cc:1095] InUse at 61c500e00 of size 1024 next 1051\n",
      "2024-03-05 17:57:56.490141: I external/local_tsl/tsl/framework/bfc_allocator.cc:1095] InUse at 61c501200 of size 256 next 1047\n",
      "2024-03-05 17:57:56.490144: I external/local_tsl/tsl/framework/bfc_allocator.cc:1095] InUse at 61c501300 of size 256 next 1698\n",
      "2024-03-05 17:57:56.490148: I external/local_tsl/tsl/framework/bfc_allocator.cc:1095] InUse at 61c501400 of size 256 next 1044\n",
      "2024-03-05 17:57:56.490151: I external/local_tsl/tsl/framework/bfc_allocator.cc:1095] InUse at 61c501500 of size 256 next 1056\n",
      "2024-03-05 17:57:56.490155: I external/local_tsl/tsl/framework/bfc_allocator.cc:1095] InUse at 61c501600 of size 256 next 1059\n",
      "2024-03-05 17:57:56.490158: I external/local_tsl/tsl/framework/bfc_allocator.cc:1095] InUse at 61c501700 of size 256 next 1705\n",
      "2024-03-05 17:57:56.490162: I external/local_tsl/tsl/framework/bfc_allocator.cc:1095] InUse at 61c501800 of size 256 next 1058\n",
      "2024-03-05 17:57:56.490165: I external/local_tsl/tsl/framework/bfc_allocator.cc:1095] InUse at 61c501900 of size 1280 next 1062\n",
      "2024-03-05 17:57:56.490168: I external/local_tsl/tsl/framework/bfc_allocator.cc:1095] InUse at 61c501e00 of size 1024 next 1063\n",
      "2024-03-05 17:57:56.490172: I external/local_tsl/tsl/framework/bfc_allocator.cc:1095] InUse at 61c502200 of size 256 next 1224\n",
      "2024-03-05 17:57:56.490176: I external/local_tsl/tsl/framework/bfc_allocator.cc:1095] InUse at 61c502300 of size 256 next 1711\n",
      "2024-03-05 17:57:56.490181: I external/local_tsl/tsl/framework/bfc_allocator.cc:1095] InUse at 61c502400 of size 1536 next 1067\n",
      "2024-03-05 17:57:56.490189: I external/local_tsl/tsl/framework/bfc_allocator.cc:1095] InUse at 61c502a00 of size 256 next 1061\n",
      "2024-03-05 17:57:56.490202: I external/local_tsl/tsl/framework/bfc_allocator.cc:1095] InUse at 61c502b00 of size 256 next 1054\n",
      "2024-03-05 17:57:56.491881: I external/local_tsl/tsl/framework/bfc_allocator.cc:1095] InUse at 61c502c00 of size 256 next 1709\n",
      "2024-03-05 17:57:56.491901: I external/local_tsl/tsl/framework/bfc_allocator.cc:1095] InUse at 61c502d00 of size 256 next 932\n",
      "2024-03-05 17:57:56.491908: I external/local_tsl/tsl/framework/bfc_allocator.cc:1095] InUse at 61c502e00 of size 20224 next 783\n",
      "2024-03-05 17:57:56.491913: I external/local_tsl/tsl/framework/bfc_allocator.cc:1095] InUse at 61c507d00 of size 33024 next 978\n",
      "2024-03-05 17:57:56.491918: I external/local_tsl/tsl/framework/bfc_allocator.cc:1095] InUse at 61c50fe00 of size 2048 next 977\n",
      "2024-03-05 17:57:56.491922: I external/local_tsl/tsl/framework/bfc_allocator.cc:1095] InUse at 61c510600 of size 2048 next 983\n",
      "2024-03-05 17:57:56.491926: I external/local_tsl/tsl/framework/bfc_allocator.cc:1095] InUse at 61c510e00 of size 2048 next 984\n",
      "2024-03-05 17:57:56.491930: I external/local_tsl/tsl/framework/bfc_allocator.cc:1095] InUse at 61c511600 of size 2048 next 985\n",
      "2024-03-05 17:57:56.491933: I external/local_tsl/tsl/framework/bfc_allocator.cc:1095] InUse at 61c511e00 of size 2048 next 988\n",
      "2024-03-05 17:57:56.491938: I external/local_tsl/tsl/framework/bfc_allocator.cc:1095] InUse at 61c512600 of size 10240 next 990\n",
      "2024-03-05 17:57:56.491942: I external/local_tsl/tsl/framework/bfc_allocator.cc:1095] InUse at 61c514e00 of size 8192 next 991\n",
      "2024-03-05 17:57:56.491945: I external/local_tsl/tsl/framework/bfc_allocator.cc:1095] InUse at 61c516e00 of size 8192 next 992\n",
      "2024-03-05 17:57:56.491949: I external/local_tsl/tsl/framework/bfc_allocator.cc:1095] InUse at 61c518e00 of size 8192 next 994\n",
      "2024-03-05 17:57:56.491952: I external/local_tsl/tsl/framework/bfc_allocator.cc:1095] InUse at 61c51ae00 of size 2048 next 966\n",
      "2024-03-05 17:57:56.491955: I external/local_tsl/tsl/framework/bfc_allocator.cc:1095] InUse at 61c51b600 of size 2048 next 995\n",
      "2024-03-05 17:57:56.491959: I external/local_tsl/tsl/framework/bfc_allocator.cc:1095] InUse at 61c51be00 of size 2048 next 996\n",
      "2024-03-05 17:57:56.491962: I external/local_tsl/tsl/framework/bfc_allocator.cc:1095] InUse at 61c51c600 of size 2048 next 997\n",
      "2024-03-05 17:57:56.491966: I external/local_tsl/tsl/framework/bfc_allocator.cc:1095] InUse at 61c51ce00 of size 2048 next 989\n",
      "2024-03-05 17:57:56.491969: I external/local_tsl/tsl/framework/bfc_allocator.cc:1095] InUse at 61c51d600 of size 2048 next 1000\n",
      "2024-03-05 17:57:56.491973: I external/local_tsl/tsl/framework/bfc_allocator.cc:1095] InUse at 61c51de00 of size 2048 next 1001\n",
      "2024-03-05 17:57:56.491978: I external/local_tsl/tsl/framework/bfc_allocator.cc:1095] InUse at 61c51e600 of size 2048 next 1002\n",
      "2024-03-05 17:57:56.491981: I external/local_tsl/tsl/framework/bfc_allocator.cc:1095] InUse at 61c51ee00 of size 8192 next 1006\n",
      "2024-03-05 17:57:56.491985: I external/local_tsl/tsl/framework/bfc_allocator.cc:1095] InUse at 61c520e00 of size 2048 next 1013\n",
      "2024-03-05 17:57:56.491988: I external/local_tsl/tsl/framework/bfc_allocator.cc:1095] InUse at 61c521600 of size 2048 next 804\n",
      "2024-03-05 17:57:56.491993: I external/local_tsl/tsl/framework/bfc_allocator.cc:1095] InUse at 61c521e00 of size 147456 next 281\n",
      "2024-03-05 17:57:56.491996: I external/local_tsl/tsl/framework/bfc_allocator.cc:1095] InUse at 61c545e00 of size 8192 next 1007\n",
      "2024-03-05 17:57:56.492000: I external/local_tsl/tsl/framework/bfc_allocator.cc:1095] InUse at 61c547e00 of size 8192 next 1008\n",
      "2024-03-05 17:57:56.492003: I external/local_tsl/tsl/framework/bfc_allocator.cc:1095] InUse at 61c549e00 of size 8192 next 1010\n",
      "2024-03-05 17:57:56.492007: I external/local_tsl/tsl/framework/bfc_allocator.cc:1095] InUse at 61c54be00 of size 8192 next 1011\n",
      "2024-03-05 17:57:56.492010: I external/local_tsl/tsl/framework/bfc_allocator.cc:1095] InUse at 61c54de00 of size 2048 next 981\n",
      "2024-03-05 17:57:56.492014: I external/local_tsl/tsl/framework/bfc_allocator.cc:1095] InUse at 61c54e600 of size 2048 next 1012\n",
      "2024-03-05 17:57:56.492017: I external/local_tsl/tsl/framework/bfc_allocator.cc:1095] InUse at 61c54ee00 of size 2048 next 1014\n",
      "2024-03-05 17:57:56.492021: I external/local_tsl/tsl/framework/bfc_allocator.cc:1095] InUse at 61c54f600 of size 2048 next 1015\n",
      "2024-03-05 17:57:56.492024: I external/local_tsl/tsl/framework/bfc_allocator.cc:1095] InUse at 61c54fe00 of size 2048 next 1016\n",
      "2024-03-05 17:57:56.492028: I external/local_tsl/tsl/framework/bfc_allocator.cc:1095] InUse at 61c550600 of size 2048 next 1017\n",
      "2024-03-05 17:57:56.492032: I external/local_tsl/tsl/framework/bfc_allocator.cc:1095] InUse at 61c550e00 of size 8192 next 1021\n",
      "2024-03-05 17:57:56.492035: I external/local_tsl/tsl/framework/bfc_allocator.cc:1095] InUse at 61c552e00 of size 8192 next 1022\n",
      "2024-03-05 17:57:56.492039: I external/local_tsl/tsl/framework/bfc_allocator.cc:1095] InUse at 61c554e00 of size 8192 next 1023\n",
      "2024-03-05 17:57:56.492042: I external/local_tsl/tsl/framework/bfc_allocator.cc:1095] InUse at 61c556e00 of size 8192 next 1025\n",
      "2024-03-05 17:57:56.492046: I external/local_tsl/tsl/framework/bfc_allocator.cc:1095] InUse at 61c558e00 of size 8192 next 1026\n",
      "2024-03-05 17:57:56.492049: I external/local_tsl/tsl/framework/bfc_allocator.cc:1095] InUse at 61c55ae00 of size 256 next 1020\n",
      "2024-03-05 17:57:56.492053: I external/local_tsl/tsl/framework/bfc_allocator.cc:1095] InUse at 61c55af00 of size 256 next 1005\n",
      "2024-03-05 17:57:56.492056: I external/local_tsl/tsl/framework/bfc_allocator.cc:1095] InUse at 61c55b000 of size 256 next 933\n",
      "2024-03-05 17:57:56.492060: I external/local_tsl/tsl/framework/bfc_allocator.cc:1095] InUse at 61c55b100 of size 256 next 58\n",
      "2024-03-05 17:57:56.492064: I external/local_tsl/tsl/framework/bfc_allocator.cc:1095] InUse at 61c55b200 of size 7168 next 1027\n",
      "2024-03-05 17:57:56.492068: I external/local_tsl/tsl/framework/bfc_allocator.cc:1095] InUse at 61c55ce00 of size 256 next 1029\n",
      "2024-03-05 17:57:56.492071: I external/local_tsl/tsl/framework/bfc_allocator.cc:1095] InUse at 61c55cf00 of size 16384 next 1030\n",
      "2024-03-05 17:57:56.492076: I external/local_tsl/tsl/framework/bfc_allocator.cc:1095] InUse at 61c560f00 of size 413440 next 925\n",
      "2024-03-05 17:57:56.492080: I external/local_tsl/tsl/framework/bfc_allocator.cc:1095] InUse at 61c5c5e00 of size 262144 next 943\n",
      "2024-03-05 17:57:56.492084: I external/local_tsl/tsl/framework/bfc_allocator.cc:1095] InUse at 61c605e00 of size 1048576 next 81\n",
      "2024-03-05 17:57:56.492089: I external/local_tsl/tsl/framework/bfc_allocator.cc:1095] InUse at 61c705e00 of size 1179648 next 941\n",
      "2024-03-05 17:57:56.492092: I external/local_tsl/tsl/framework/bfc_allocator.cc:1095] InUse at 61c825e00 of size 917504 next 811\n",
      "2024-03-05 17:57:56.492096: I external/local_tsl/tsl/framework/bfc_allocator.cc:1095] InUse at 61c905e00 of size 262144 next 942\n",
      "2024-03-05 17:57:56.492099: I external/local_tsl/tsl/framework/bfc_allocator.cc:1095] InUse at 61c945e00 of size 327680 next 756\n",
      "2024-03-05 17:57:56.492103: I external/local_tsl/tsl/framework/bfc_allocator.cc:1095] InUse at 61c995e00 of size 262144 next 831\n",
      "2024-03-05 17:57:56.492106: I external/local_tsl/tsl/framework/bfc_allocator.cc:1095] InUse at 61c9d5e00 of size 327680 next 904\n",
      "2024-03-05 17:57:56.492110: I external/local_tsl/tsl/framework/bfc_allocator.cc:1095] InUse at 61ca25e00 of size 262144 next 762\n",
      "2024-03-05 17:57:56.492113: I external/local_tsl/tsl/framework/bfc_allocator.cc:1095] InUse at 61ca65e00 of size 589824 next 907\n",
      "2024-03-05 17:57:56.492117: I external/local_tsl/tsl/framework/bfc_allocator.cc:1095] InUse at 61caf5e00 of size 327680 next 157\n",
      "2024-03-05 17:57:56.492121: I external/local_tsl/tsl/framework/bfc_allocator.cc:1095] InUse at 61cb45e00 of size 256 next 1319\n",
      "2024-03-05 17:57:56.492125: I external/local_tsl/tsl/framework/bfc_allocator.cc:1095] InUse at 61cb45f00 of size 16384 next 1320\n",
      "2024-03-05 17:57:56.492128: I external/local_tsl/tsl/framework/bfc_allocator.cc:1095] InUse at 61cb49f00 of size 512 next 1121\n",
      "2024-03-05 17:57:56.492133: I external/local_tsl/tsl/framework/bfc_allocator.cc:1095] InUse at 61cb4a100 of size 512 next 1124\n",
      "2024-03-05 17:57:56.492136: I external/local_tsl/tsl/framework/bfc_allocator.cc:1095] InUse at 61cb4a300 of size 512 next 1753\n",
      "2024-03-05 17:57:56.492140: I external/local_tsl/tsl/framework/bfc_allocator.cc:1095] InUse at 61cb4a500 of size 512 next 1126\n",
      "2024-03-05 17:57:56.492143: I external/local_tsl/tsl/framework/bfc_allocator.cc:1095] InUse at 61cb4a700 of size 2048 next 1104\n",
      "2024-03-05 17:57:56.492147: I external/local_tsl/tsl/framework/bfc_allocator.cc:1095] InUse at 61cb4af00 of size 2048 next 1129\n",
      "2024-03-05 17:57:56.492151: I external/local_tsl/tsl/framework/bfc_allocator.cc:1095] InUse at 61cb4b700 of size 2048 next 1132\n",
      "2024-03-05 17:57:56.492155: I external/local_tsl/tsl/framework/bfc_allocator.cc:1095] InUse at 61cb4bf00 of size 1024 next 1820\n",
      "2024-03-05 17:57:56.492159: I external/local_tsl/tsl/framework/bfc_allocator.cc:1095] InUse at 61cb4c300 of size 1024 next 1760\n",
      "2024-03-05 17:57:56.492163: I external/local_tsl/tsl/framework/bfc_allocator.cc:1095] InUse at 61cb4c700 of size 2048 next 1131\n",
      "2024-03-05 17:57:56.492166: I external/local_tsl/tsl/framework/bfc_allocator.cc:1095] InUse at 61cb4cf00 of size 512 next 1127\n",
      "2024-03-05 17:57:56.492170: I external/local_tsl/tsl/framework/bfc_allocator.cc:1095] InUse at 61cb4d100 of size 512 next 1135\n",
      "2024-03-05 17:57:56.492173: I external/local_tsl/tsl/framework/bfc_allocator.cc:1095] InUse at 61cb4d300 of size 512 next 1758\n",
      "2024-03-05 17:57:56.492177: I external/local_tsl/tsl/framework/bfc_allocator.cc:1095] InUse at 61cb4d500 of size 512 next 1137\n",
      "2024-03-05 17:57:56.492180: I external/local_tsl/tsl/framework/bfc_allocator.cc:1095] InUse at 61cb4d700 of size 512 next 1138\n",
      "2024-03-05 17:57:56.492184: I external/local_tsl/tsl/framework/bfc_allocator.cc:1095] InUse at 61cb4d900 of size 512 next 1140\n",
      "2024-03-05 17:57:56.492187: I external/local_tsl/tsl/framework/bfc_allocator.cc:1095] InUse at 61cb4db00 of size 512 next 1767\n",
      "2024-03-05 17:57:56.492191: I external/local_tsl/tsl/framework/bfc_allocator.cc:1095] InUse at 61cb4dd00 of size 512 next 1142\n",
      "2024-03-05 17:57:56.492194: I external/local_tsl/tsl/framework/bfc_allocator.cc:1095] InUse at 61cb4df00 of size 2048 next 1145\n",
      "2024-03-05 17:57:56.492198: I external/local_tsl/tsl/framework/bfc_allocator.cc:1095] InUse at 61cb4e700 of size 4096 next 1171\n",
      "2024-03-05 17:57:56.492202: I external/local_tsl/tsl/framework/bfc_allocator.cc:1095] InUse at 61cb4f700 of size 4096 next 1242\n",
      "2024-03-05 17:57:56.492205: I external/local_tsl/tsl/framework/bfc_allocator.cc:1095] InUse at 61cb50700 of size 4096 next 1243\n",
      "2024-03-05 17:57:56.492209: I external/local_tsl/tsl/framework/bfc_allocator.cc:1095] InUse at 61cb51700 of size 4096 next 1244\n",
      "2024-03-05 17:57:56.492212: I external/local_tsl/tsl/framework/bfc_allocator.cc:1095] InUse at 61cb52700 of size 4096 next 1245\n",
      "2024-03-05 17:57:56.492216: I external/local_tsl/tsl/framework/bfc_allocator.cc:1095] InUse at 61cb53700 of size 4096 next 1247\n",
      "2024-03-05 17:57:56.492219: I external/local_tsl/tsl/framework/bfc_allocator.cc:1095] InUse at 61cb54700 of size 1024 next 1248\n",
      "2024-03-05 17:57:56.492223: I external/local_tsl/tsl/framework/bfc_allocator.cc:1095] InUse at 61cb54b00 of size 1024 next 1249\n",
      "2024-03-05 17:57:56.492226: I external/local_tsl/tsl/framework/bfc_allocator.cc:1095] InUse at 61cb54f00 of size 1024 next 1250\n",
      "2024-03-05 17:57:56.492230: I external/local_tsl/tsl/framework/bfc_allocator.cc:1095] InUse at 61cb55300 of size 1024 next 1251\n",
      "2024-03-05 17:57:56.492234: I external/local_tsl/tsl/framework/bfc_allocator.cc:1095] InUse at 61cb55700 of size 1024 next 1252\n",
      "2024-03-05 17:57:56.492260: I external/local_tsl/tsl/framework/bfc_allocator.cc:1095] InUse at 61cb55b00 of size 1024 next 1253\n",
      "2024-03-05 17:57:56.492296: I external/local_tsl/tsl/framework/bfc_allocator.cc:1095] InUse at 61cb55f00 of size 1024 next 1254\n",
      "2024-03-05 17:57:56.492305: I external/local_tsl/tsl/framework/bfc_allocator.cc:1095] InUse at 61cb56300 of size 1024 next 1255\n",
      "2024-03-05 17:57:56.492309: I external/local_tsl/tsl/framework/bfc_allocator.cc:1095] InUse at 61cb56700 of size 2560 next 1055\n",
      "2024-03-05 17:57:56.492313: I external/local_tsl/tsl/framework/bfc_allocator.cc:1095] InUse at 61cb57100 of size 1024 next 1322\n",
      "2024-03-05 17:57:56.492316: I external/local_tsl/tsl/framework/bfc_allocator.cc:1095] InUse at 61cb57500 of size 256 next 1071\n",
      "2024-03-05 17:57:56.492320: I external/local_tsl/tsl/framework/bfc_allocator.cc:1095] InUse at 61cb57600 of size 256 next 1072\n",
      "2024-03-05 17:57:56.492324: I external/local_tsl/tsl/framework/bfc_allocator.cc:1095] InUse at 61cb57700 of size 256 next 1717\n",
      "2024-03-05 17:57:56.492327: I external/local_tsl/tsl/framework/bfc_allocator.cc:1095] InUse at 61cb57800 of size 256 next 1074\n",
      "2024-03-05 17:57:56.492331: I external/local_tsl/tsl/framework/bfc_allocator.cc:1095] InUse at 61cb57900 of size 1024 next 1060\n",
      "2024-03-05 17:57:56.492334: I external/local_tsl/tsl/framework/bfc_allocator.cc:1095] InUse at 61cb57d00 of size 1024 next 1078\n",
      "2024-03-05 17:57:56.492338: I external/local_tsl/tsl/framework/bfc_allocator.cc:1095] InUse at 61cb58100 of size 1024 next 1079\n",
      "2024-03-05 17:57:56.492341: I external/local_tsl/tsl/framework/bfc_allocator.cc:1095] InUse at 61cb58500 of size 256 next 1682\n",
      "2024-03-05 17:57:56.492345: I external/local_tsl/tsl/framework/bfc_allocator.cc:1095] InUse at 61cb58600 of size 256 next 1826\n",
      "2024-03-05 17:57:56.492349: I external/local_tsl/tsl/framework/bfc_allocator.cc:1095] InUse at 61cb58700 of size 256 next 2354\n",
      "2024-03-05 17:57:56.492352: I external/local_tsl/tsl/framework/bfc_allocator.cc:1095] InUse at 61cb58800 of size 256 next 1723\n",
      "2024-03-05 17:57:56.492356: I external/local_tsl/tsl/framework/bfc_allocator.cc:1095] InUse at 61cb58900 of size 1024 next 1082\n",
      "2024-03-05 17:57:56.492360: I external/local_tsl/tsl/framework/bfc_allocator.cc:1095] InUse at 61cb58d00 of size 256 next 1077\n",
      "2024-03-05 17:57:56.492363: I external/local_tsl/tsl/framework/bfc_allocator.cc:1095] InUse at 61cb58e00 of size 256 next 1084\n",
      "2024-03-05 17:57:56.492367: I external/local_tsl/tsl/framework/bfc_allocator.cc:1095] InUse at 61cb58f00 of size 256 next 1721\n",
      "2024-03-05 17:57:56.492370: I external/local_tsl/tsl/framework/bfc_allocator.cc:1095] InUse at 61cb59000 of size 256 next 1086\n",
      "2024-03-05 17:57:56.492374: I external/local_tsl/tsl/framework/bfc_allocator.cc:1095] InUse at 61cb59100 of size 256 next 1087\n",
      "2024-03-05 17:57:56.492378: I external/local_tsl/tsl/framework/bfc_allocator.cc:1095] InUse at 61cb59200 of size 256 next 1088\n",
      "2024-03-05 17:57:56.492384: I external/local_tsl/tsl/framework/bfc_allocator.cc:1095] InUse at 61cb59300 of size 512 next 1090\n",
      "2024-03-05 17:57:56.492387: I external/local_tsl/tsl/framework/bfc_allocator.cc:1095] InUse at 61cb59500 of size 1024 next 1093\n",
      "2024-03-05 17:57:56.492391: I external/local_tsl/tsl/framework/bfc_allocator.cc:1095] InUse at 61cb59900 of size 1024 next 1094\n",
      "2024-03-05 17:57:56.492394: I external/local_tsl/tsl/framework/bfc_allocator.cc:1095] InUse at 61cb59d00 of size 1024 next 1095\n",
      "2024-03-05 17:57:56.492398: I external/local_tsl/tsl/framework/bfc_allocator.cc:1095] InUse at 61cb5a100 of size 512 next 1729\n",
      "2024-03-05 17:57:56.492401: I external/local_tsl/tsl/framework/bfc_allocator.cc:1095] InUse at 61cb5a300 of size 1024 next 1731\n",
      "2024-03-05 17:57:56.492405: I external/local_tsl/tsl/framework/bfc_allocator.cc:1095] InUse at 61cb5a700 of size 512 next 1098\n",
      "2024-03-05 17:57:56.492409: I external/local_tsl/tsl/framework/bfc_allocator.cc:1095] InUse at 61cb5a900 of size 512 next 1099\n",
      "2024-03-05 17:57:56.492412: I external/local_tsl/tsl/framework/bfc_allocator.cc:1095] InUse at 61cb5ab00 of size 512 next 1049\n",
      "2024-03-05 17:57:56.492416: I external/local_tsl/tsl/framework/bfc_allocator.cc:1095] InUse at 61cb5ad00 of size 512 next 1734\n",
      "2024-03-05 17:57:56.492419: I external/local_tsl/tsl/framework/bfc_allocator.cc:1095] InUse at 61cb5af00 of size 256 next 2349\n",
      "2024-03-05 17:57:56.492423: I external/local_tsl/tsl/framework/bfc_allocator.cc:1095] InUse at 61cb5b000 of size 256 next 1101\n",
      "2024-03-05 17:57:56.492430: I external/local_tsl/tsl/framework/bfc_allocator.cc:1095] InUse at 61cb5b100 of size 512 next 1111\n",
      "2024-03-05 17:57:56.492433: I external/local_tsl/tsl/framework/bfc_allocator.cc:1095] InUse at 61cb5b300 of size 512 next 1107\n",
      "2024-03-05 17:57:56.492437: I external/local_tsl/tsl/framework/bfc_allocator.cc:1095] InUse at 61cb5b500 of size 512 next 1741\n",
      "2024-03-05 17:57:56.492440: I external/local_tsl/tsl/framework/bfc_allocator.cc:1095] InUse at 61cb5b700 of size 512 next 1109\n",
      "2024-03-05 17:57:56.492444: I external/local_tsl/tsl/framework/bfc_allocator.cc:1095] InUse at 61cb5b900 of size 2048 next 1112\n",
      "2024-03-05 17:57:56.492448: I external/local_tsl/tsl/framework/bfc_allocator.cc:1095] InUse at 61cb5c100 of size 2048 next 1100\n",
      "2024-03-05 17:57:56.492451: I external/local_tsl/tsl/framework/bfc_allocator.cc:1095] InUse at 61cb5c900 of size 2048 next 1113\n",
      "2024-03-05 17:57:56.492455: I external/local_tsl/tsl/framework/bfc_allocator.cc:1095] InUse at 61cb5d100 of size 2048 next 1116\n",
      "2024-03-05 17:57:56.492458: I external/local_tsl/tsl/framework/bfc_allocator.cc:1095] InUse at 61cb5d900 of size 256 next 2367\n",
      "2024-03-05 17:57:56.492462: I external/local_tsl/tsl/framework/bfc_allocator.cc:1095] InUse at 61cb5da00 of size 1792 next 1748\n",
      "2024-03-05 17:57:56.492465: I external/local_tsl/tsl/framework/bfc_allocator.cc:1095] InUse at 61cb5e100 of size 2048 next 1115\n",
      "2024-03-05 17:57:56.492469: I external/local_tsl/tsl/framework/bfc_allocator.cc:1095] InUse at 61cb5e900 of size 512 next 1118\n",
      "2024-03-05 17:57:56.492475: I external/local_tsl/tsl/framework/bfc_allocator.cc:1095] InUse at 61cb5eb00 of size 512 next 1119\n",
      "2024-03-05 17:57:56.492478: I external/local_tsl/tsl/framework/bfc_allocator.cc:1095] InUse at 61cb5ed00 of size 512 next 1746\n",
      "2024-03-05 17:57:56.492482: I external/local_tsl/tsl/framework/bfc_allocator.cc:1095] InUse at 61cb5ef00 of size 512 next 1039\n",
      "2024-03-05 17:57:56.492486: I external/local_tsl/tsl/framework/bfc_allocator.cc:1095] InUse at 61cb5f100 of size 65536 next 1045\n",
      "2024-03-05 17:57:56.492489: I external/local_tsl/tsl/framework/bfc_allocator.cc:1095] InUse at 61cb6f100 of size 2048 next 1146\n",
      "2024-03-05 17:57:56.492493: I external/local_tsl/tsl/framework/bfc_allocator.cc:1095] InUse at 61cb6f900 of size 2048 next 1147\n",
      "2024-03-05 17:57:56.492496: I external/local_tsl/tsl/framework/bfc_allocator.cc:1095] InUse at 61cb70100 of size 256 next 1203\n",
      "2024-03-05 17:57:56.492500: I external/local_tsl/tsl/framework/bfc_allocator.cc:1095] InUse at 61cb70200 of size 1792 next 1774\n",
      "2024-03-05 17:57:56.492503: I external/local_tsl/tsl/framework/bfc_allocator.cc:1095] InUse at 61cb70900 of size 2048 next 1150\n",
      "2024-03-05 17:57:56.492507: I external/local_tsl/tsl/framework/bfc_allocator.cc:1095] InUse at 61cb71100 of size 512 next 1120\n",
      "2024-03-05 17:57:56.492510: I external/local_tsl/tsl/framework/bfc_allocator.cc:1095] InUse at 61cb71300 of size 512 next 1151\n",
      "2024-03-05 17:57:56.492513: I external/local_tsl/tsl/framework/bfc_allocator.cc:1095] InUse at 61cb71500 of size 512 next 1772\n",
      "2024-03-05 17:57:56.492517: I external/local_tsl/tsl/framework/bfc_allocator.cc:1095] InUse at 61cb71700 of size 512 next 1153\n",
      "2024-03-05 17:57:56.492520: I external/local_tsl/tsl/framework/bfc_allocator.cc:1095] InUse at 61cb71900 of size 512 next 1154\n",
      "2024-03-05 17:57:56.492524: I external/local_tsl/tsl/framework/bfc_allocator.cc:1095] InUse at 61cb71b00 of size 512 next 1155\n",
      "2024-03-05 17:57:56.492527: I external/local_tsl/tsl/framework/bfc_allocator.cc:1095] InUse at 61cb71d00 of size 1024 next 1157\n",
      "2024-03-05 17:57:56.492531: I external/local_tsl/tsl/framework/bfc_allocator.cc:1095] InUse at 61cb72100 of size 2048 next 1161\n",
      "2024-03-05 17:57:56.492534: I external/local_tsl/tsl/framework/bfc_allocator.cc:1095] InUse at 61cb72900 of size 2048 next 1162\n",
      "2024-03-05 17:57:56.492538: I external/local_tsl/tsl/framework/bfc_allocator.cc:1095] InUse at 61cb73100 of size 2048 next 1163\n",
      "2024-03-05 17:57:56.492541: I external/local_tsl/tsl/framework/bfc_allocator.cc:1095] InUse at 61cb73900 of size 1024 next 1781\n",
      "2024-03-05 17:57:56.492545: I external/local_tsl/tsl/framework/bfc_allocator.cc:1095] InUse at 61cb73d00 of size 256 next 1805\n",
      "2024-03-05 17:57:56.492548: I external/local_tsl/tsl/framework/bfc_allocator.cc:1095] InUse at 61cb73e00 of size 256 next 2366\n",
      "2024-03-05 17:57:56.492551: I external/local_tsl/tsl/framework/bfc_allocator.cc:1095] InUse at 61cb73f00 of size 256 next 1807\n",
      "2024-03-05 17:57:56.492555: I external/local_tsl/tsl/framework/bfc_allocator.cc:1095] InUse at 61cb74000 of size 256 next 1195\n",
      "2024-03-05 17:57:56.492558: I external/local_tsl/tsl/framework/bfc_allocator.cc:1095] InUse at 61cb74100 of size 256 next 1796\n",
      "2024-03-05 17:57:56.492562: I external/local_tsl/tsl/framework/bfc_allocator.cc:1095] InUse at 61cb74200 of size 256 next 2373\n",
      "2024-03-05 17:57:56.492565: I external/local_tsl/tsl/framework/bfc_allocator.cc:1095] InUse at 61cb74300 of size 256 next 1803\n",
      "2024-03-05 17:57:56.492569: I external/local_tsl/tsl/framework/bfc_allocator.cc:1095] InUse at 61cb74400 of size 256 next 1783\n",
      "2024-03-05 17:57:56.492572: I external/local_tsl/tsl/framework/bfc_allocator.cc:1095] InUse at 61cb74500 of size 1024 next 1166\n",
      "2024-03-05 17:57:56.492576: I external/local_tsl/tsl/framework/bfc_allocator.cc:1095] InUse at 61cb74900 of size 1024 next 1160\n",
      "2024-03-05 17:57:56.492579: I external/local_tsl/tsl/framework/bfc_allocator.cc:1095] InUse at 61cb74d00 of size 1024 next 1167\n",
      "2024-03-05 17:57:56.492583: I external/local_tsl/tsl/framework/bfc_allocator.cc:1095] InUse at 61cb75100 of size 4096 next 1170\n",
      "2024-03-05 17:57:56.492586: I external/local_tsl/tsl/framework/bfc_allocator.cc:1095] InUse at 61cb76100 of size 1024 next 1786\n",
      "2024-03-05 17:57:56.492589: I external/local_tsl/tsl/framework/bfc_allocator.cc:1095] InUse at 61cb76500 of size 256 next 1220\n",
      "2024-03-05 17:57:56.492593: I external/local_tsl/tsl/framework/bfc_allocator.cc:1095] InUse at 61cb76600 of size 256 next 1208\n",
      "2024-03-05 17:57:56.492597: I external/local_tsl/tsl/framework/bfc_allocator.cc:1095] InUse at 61cb76700 of size 256 next 2362\n",
      "2024-03-05 17:57:56.492601: I external/local_tsl/tsl/framework/bfc_allocator.cc:1095] InUse at 61cb76800 of size 256 next 1169\n",
      "2024-03-05 17:57:56.492604: I external/local_tsl/tsl/framework/bfc_allocator.cc:1095] InUse at 61cb76900 of size 1024 next 1179\n",
      "2024-03-05 17:57:56.492608: I external/local_tsl/tsl/framework/bfc_allocator.cc:1095] InUse at 61cb76d00 of size 1024 next 1175\n",
      "2024-03-05 17:57:56.492611: I external/local_tsl/tsl/framework/bfc_allocator.cc:1095] InUse at 61cb77100 of size 1024 next 1793\n",
      "2024-03-05 17:57:56.492615: I external/local_tsl/tsl/framework/bfc_allocator.cc:1095] InUse at 61cb77500 of size 1024 next 1176\n",
      "2024-03-05 17:57:56.492618: I external/local_tsl/tsl/framework/bfc_allocator.cc:1095] InUse at 61cb77900 of size 6144 next 1183\n",
      "2024-03-05 17:57:56.492622: I external/local_tsl/tsl/framework/bfc_allocator.cc:1095] InUse at 61cb79100 of size 4096 next 1181\n",
      "2024-03-05 17:57:56.492625: I external/local_tsl/tsl/framework/bfc_allocator.cc:1095] InUse at 61cb7a100 of size 256 next 1182\n",
      "2024-03-05 17:57:56.492629: I external/local_tsl/tsl/framework/bfc_allocator.cc:1095] InUse at 61cb7a200 of size 256 next 2377\n",
      "2024-03-05 17:57:56.492632: I external/local_tsl/tsl/framework/bfc_allocator.cc:1095] InUse at 61cb7a300 of size 256 next 1794\n",
      "2024-03-05 17:57:56.492636: I external/local_tsl/tsl/framework/bfc_allocator.cc:1095] InUse at 61cb7a400 of size 256 next 1778\n",
      "2024-03-05 17:57:56.492639: I external/local_tsl/tsl/framework/bfc_allocator.cc:1095] InUse at 61cb7a500 of size 256 next 1165\n",
      "2024-03-05 17:57:56.492642: I external/local_tsl/tsl/framework/bfc_allocator.cc:1095] InUse at 61cb7a600 of size 512 next 1156\n",
      "2024-03-05 17:57:56.492646: I external/local_tsl/tsl/framework/bfc_allocator.cc:1095] InUse at 61cb7a800 of size 1280 next 1780\n",
      "2024-03-05 17:57:56.492649: I external/local_tsl/tsl/framework/bfc_allocator.cc:1095] InUse at 61cb7ad00 of size 1024 next 1800\n",
      "2024-03-05 17:57:56.492653: I external/local_tsl/tsl/framework/bfc_allocator.cc:1095] InUse at 61cb7b100 of size 4096 next 1186\n",
      "2024-03-05 17:57:56.492656: I external/local_tsl/tsl/framework/bfc_allocator.cc:1095] InUse at 61cb7c100 of size 1024 next 1191\n",
      "2024-03-05 17:57:56.492660: I external/local_tsl/tsl/framework/bfc_allocator.cc:1095] InUse at 61cb7c500 of size 1024 next 1187\n",
      "2024-03-05 17:57:56.492663: I external/local_tsl/tsl/framework/bfc_allocator.cc:1095] InUse at 61cb7c900 of size 1024 next 1798\n",
      "2024-03-05 17:57:56.492666: I external/local_tsl/tsl/framework/bfc_allocator.cc:1095] InUse at 61cb7cd00 of size 1024 next 1189\n",
      "2024-03-05 17:57:56.492670: I external/local_tsl/tsl/framework/bfc_allocator.cc:1095] InUse at 61cb7d100 of size 1024 next 1190\n",
      "2024-03-05 17:57:56.492673: I external/local_tsl/tsl/framework/bfc_allocator.cc:1095] InUse at 61cb7d500 of size 1024 next 1192\n",
      "2024-03-05 17:57:56.492677: I external/local_tsl/tsl/framework/bfc_allocator.cc:1095] InUse at 61cb7d900 of size 1024 next 1806\n",
      "2024-03-05 17:57:56.492680: I external/local_tsl/tsl/framework/bfc_allocator.cc:1095] InUse at 61cb7dd00 of size 1024 next 1193\n",
      "2024-03-05 17:57:56.492684: I external/local_tsl/tsl/framework/bfc_allocator.cc:1095] InUse at 61cb7e100 of size 4096 next 1065\n",
      "2024-03-05 17:57:56.492687: I external/local_tsl/tsl/framework/bfc_allocator.cc:1095] InUse at 61cb7f100 of size 65536 next 1064\n",
      "2024-03-05 17:57:56.492691: I external/local_tsl/tsl/framework/bfc_allocator.cc:1095] InUse at 61cb8f100 of size 65536 next 1070\n",
      "2024-03-05 17:57:56.492694: I external/local_tsl/tsl/framework/bfc_allocator.cc:1095] InUse at 61cb9f100 of size 8192 next 1314\n",
      "2024-03-05 17:57:56.492698: I external/local_tsl/tsl/framework/bfc_allocator.cc:1095] InUse at 61cba1100 of size 8192 next 1316\n",
      "2024-03-05 17:57:56.492701: I external/local_tsl/tsl/framework/bfc_allocator.cc:1095] InUse at 61cba3100 of size 256 next 1311\n",
      "2024-03-05 17:57:56.492705: I external/local_tsl/tsl/framework/bfc_allocator.cc:1095] InUse at 61cba3200 of size 256 next 1305\n",
      "2024-03-05 17:57:56.492708: I external/local_tsl/tsl/framework/bfc_allocator.cc:1095] InUse at 61cba3300 of size 256 next 1265\n",
      "2024-03-05 17:57:56.492712: I external/local_tsl/tsl/framework/bfc_allocator.cc:1095] InUse at 61cba3400 of size 256 next 1264\n",
      "2024-03-05 17:57:56.492715: I external/local_tsl/tsl/framework/bfc_allocator.cc:1095] InUse at 61cba3500 of size 7168 next 1317\n",
      "2024-03-05 17:57:56.492719: I external/local_tsl/tsl/framework/bfc_allocator.cc:1095] InUse at 61cba5100 of size 37632 next 1318\n",
      "2024-03-05 17:57:56.492723: I external/local_tsl/tsl/framework/bfc_allocator.cc:1095] InUse at 61cbae400 of size 162304 next 749\n",
      "2024-03-05 17:57:56.492727: I external/local_tsl/tsl/framework/bfc_allocator.cc:1095] InUse at 61cbd5e00 of size 524288 next 94\n",
      "2024-03-05 17:57:56.492731: I external/local_tsl/tsl/framework/bfc_allocator.cc:1095] InUse at 61cc55e00 of size 1572864 next 746\n",
      "2024-03-05 17:57:56.492734: I external/local_tsl/tsl/framework/bfc_allocator.cc:1095] InUse at 61cdd5e00 of size 1048576 next 827\n",
      "2024-03-05 17:57:56.492738: I external/local_tsl/tsl/framework/bfc_allocator.cc:1095] InUse at 61ced5e00 of size 4194304 next 944\n",
      "2024-03-05 17:57:56.492742: I external/local_tsl/tsl/framework/bfc_allocator.cc:1095] InUse at 61d2d5e00 of size 589824 next 763\n",
      "2024-03-05 17:57:56.492745: I external/local_tsl/tsl/framework/bfc_allocator.cc:1095] InUse at 61d365e00 of size 720896 next 340\n",
      "2024-03-05 17:57:56.492750: I external/local_tsl/tsl/framework/bfc_allocator.cc:1095] InUse at 61d415e00 of size 2359296 next 765\n",
      "2024-03-05 17:57:56.492753: I external/local_tsl/tsl/framework/bfc_allocator.cc:1095] InUse at 61d655e00 of size 1048576 next 780\n",
      "2024-03-05 17:57:56.492757: I external/local_tsl/tsl/framework/bfc_allocator.cc:1095] InUse at 61d755e00 of size 1310720 next 769\n",
      "2024-03-05 17:57:56.492760: I external/local_tsl/tsl/framework/bfc_allocator.cc:1095] InUse at 61d895e00 of size 1048576 next 767\n",
      "2024-03-05 17:57:56.492764: I external/local_tsl/tsl/framework/bfc_allocator.cc:1095] InUse at 61d995e00 of size 1310720 next 737\n",
      "2024-03-05 17:57:56.492767: I external/local_tsl/tsl/framework/bfc_allocator.cc:1095] InUse at 61dad5e00 of size 3407872 next 910\n",
      "2024-03-05 17:57:56.492771: I external/local_tsl/tsl/framework/bfc_allocator.cc:1095] InUse at 61de15e00 of size 3521792 next 731\n",
      "2024-03-05 17:57:56.492775: I external/local_tsl/tsl/framework/bfc_allocator.cc:1095] InUse at 61e171b00 of size 256 next 951\n",
      "2024-03-05 17:57:56.492779: I external/local_tsl/tsl/framework/bfc_allocator.cc:1095] InUse at 61e171c00 of size 256 next 950\n",
      "2024-03-05 17:57:56.492782: I external/local_tsl/tsl/framework/bfc_allocator.cc:1095] InUse at 61e171d00 of size 256 next 953\n",
      "2024-03-05 17:57:56.492786: I external/local_tsl/tsl/framework/bfc_allocator.cc:1095] InUse at 61e171e00 of size 89296896 next 1782\n",
      "2024-03-05 17:57:56.492790: I external/local_tsl/tsl/framework/bfc_allocator.cc:1095] InUse at 62369ae00 of size 22324224 next 2383\n",
      "2024-03-05 17:57:56.492794: I external/local_tsl/tsl/framework/bfc_allocator.cc:1095] InUse at 624be5200 of size 29721600 next 1757\n",
      "2024-03-05 17:57:56.492798: I external/local_tsl/tsl/framework/bfc_allocator.cc:1095] InUse at 62683d600 of size 22324224 next 2387\n",
      "2024-03-05 17:57:56.492801: I external/local_tsl/tsl/framework/bfc_allocator.cc:1095] InUse at 627d87a00 of size 22324224 next 2388\n",
      "2024-03-05 17:57:56.492805: I external/local_tsl/tsl/framework/bfc_allocator.cc:1095] InUse at 6292d1e00 of size 512 next 2390\n",
      "2024-03-05 17:57:56.492808: I external/local_tsl/tsl/framework/bfc_allocator.cc:1095] InUse at 6292d2000 of size 89296896 next 1768\n",
      "2024-03-05 17:57:56.492812: I external/local_tsl/tsl/framework/bfc_allocator.cc:1095] InUse at 62e7fb000 of size 2048 next 2391\n",
      "2024-03-05 17:57:56.492815: I external/local_tsl/tsl/framework/bfc_allocator.cc:1095] InUse at 62e7fb800 of size 2048 next 2392\n",
      "2024-03-05 17:57:56.492819: I external/local_tsl/tsl/framework/bfc_allocator.cc:1095] InUse at 62e7fc000 of size 2048 next 2393\n",
      "2024-03-05 17:57:56.492822: I external/local_tsl/tsl/framework/bfc_allocator.cc:1095] InUse at 62e7fc800 of size 2048 next 2394\n",
      "2024-03-05 17:57:56.492826: I external/local_tsl/tsl/framework/bfc_allocator.cc:1095] InUse at 62e7fd000 of size 22324224 next 2395\n",
      "2024-03-05 17:57:56.492829: I external/local_tsl/tsl/framework/bfc_allocator.cc:1095] InUse at 62fd47400 of size 22324224 next 2396\n",
      "2024-03-05 17:57:56.492833: I external/local_tsl/tsl/framework/bfc_allocator.cc:1095] InUse at 631291800 of size 29721600 next 1745\n",
      "2024-03-05 17:57:56.492836: I external/local_tsl/tsl/framework/bfc_allocator.cc:1095] InUse at 632ee9c00 of size 22324224 next 2400\n",
      "2024-03-05 17:57:56.492840: I external/local_tsl/tsl/framework/bfc_allocator.cc:1095] InUse at 634434000 of size 22324224 next 2401\n",
      "2024-03-05 17:57:56.492843: I external/local_tsl/tsl/framework/bfc_allocator.cc:1095] InUse at 63597e400 of size 89296896 next 1747\n",
      "2024-03-05 17:57:56.492847: I external/local_tsl/tsl/framework/bfc_allocator.cc:1095] InUse at 63aea7400 of size 89296896 next 2404\n",
      "2024-03-05 17:57:56.492850: I external/local_tsl/tsl/framework/bfc_allocator.cc:1095] InUse at 6403d0400 of size 2048 next 2405\n",
      "2024-03-05 17:57:56.492853: I external/local_tsl/tsl/framework/bfc_allocator.cc:1095] InUse at 6403d0c00 of size 2048 next 2406\n",
      "2024-03-05 17:57:56.492857: I external/local_tsl/tsl/framework/bfc_allocator.cc:1095] InUse at 6403d1400 of size 2048 next 2407\n",
      "2024-03-05 17:57:56.492860: I external/local_tsl/tsl/framework/bfc_allocator.cc:1095] InUse at 6403d1c00 of size 22324224 next 1735\n",
      "2024-03-05 17:57:56.492864: I external/local_tsl/tsl/framework/bfc_allocator.cc:1095] InUse at 64191c000 of size 22324224 next 2408\n",
      "2024-03-05 17:57:56.492867: I external/local_tsl/tsl/framework/bfc_allocator.cc:1095] InUse at 642e66400 of size 29721600 next 1089\n",
      "2024-03-05 17:57:56.492871: I external/local_tsl/tsl/framework/bfc_allocator.cc:1095] InUse at 644abe800 of size 22324224 next 2412\n",
      "2024-03-05 17:57:56.492874: I external/local_tsl/tsl/framework/bfc_allocator.cc:1095] InUse at 646008c00 of size 22324224 next 2413\n",
      "2024-03-05 17:57:56.492878: I external/local_tsl/tsl/framework/bfc_allocator.cc:1095] Free  at 647553000 of size 51040768 next 1108\n",
      "2024-03-05 17:57:56.492881: I external/local_tsl/tsl/framework/bfc_allocator.cc:1095] InUse at 64a600200 of size 2048 next 1736\n",
      "2024-03-05 17:57:56.492885: I external/local_tsl/tsl/framework/bfc_allocator.cc:1095] InUse at 64a600a00 of size 2048 next 1737\n",
      "2024-03-05 17:57:56.492889: I external/local_tsl/tsl/framework/bfc_allocator.cc:1095] InUse at 64a601200 of size 178593792 next 2343\n",
      "2024-03-05 17:57:56.492893: I external/local_tsl/tsl/framework/bfc_allocator.cc:1095] InUse at 655053200 of size 199393024 next 750\n",
      "2024-03-05 17:57:56.492897: I external/local_tsl/tsl/framework/bfc_allocator.cc:1095] InUse at 660e7b100 of size 2048 next 110\n",
      "2024-03-05 17:57:56.492900: I external/local_tsl/tsl/framework/bfc_allocator.cc:1095] InUse at 660e7b900 of size 131072000 next 1177\n",
      "2024-03-05 17:57:56.492904: I external/local_tsl/tsl/framework/bfc_allocator.cc:1095] InUse at 668b7b900 of size 157489152 next 868\n",
      "2024-03-05 17:57:56.492908: I external/local_tsl/tsl/framework/bfc_allocator.cc:1095] InUse at 6721ad100 of size 2048 next 870\n",
      "2024-03-05 17:57:56.492912: I external/local_tsl/tsl/framework/bfc_allocator.cc:1095] InUse at 6721ad900 of size 131072000 next 1675\n",
      "2024-03-05 17:57:56.492915: I external/local_tsl/tsl/framework/bfc_allocator.cc:1095] InUse at 679ead900 of size 230426624 next 162\n",
      "2024-03-05 17:57:56.492919: I external/local_tsl/tsl/framework/bfc_allocator.cc:1095] InUse at 687a6e100 of size 2048 next 172\n",
      "2024-03-05 17:57:56.492923: I external/local_tsl/tsl/framework/bfc_allocator.cc:1095] InUse at 687a6e900 of size 131072000 next 889\n",
      "2024-03-05 17:57:56.492926: I external/local_tsl/tsl/framework/bfc_allocator.cc:1095] InUse at 68f76e900 of size 152162304 next 864\n",
      "2024-03-05 17:57:56.492930: I external/local_tsl/tsl/framework/bfc_allocator.cc:1095] InUse at 69888b900 of size 2048 next 848\n",
      "2024-03-05 17:57:56.492934: I external/local_tsl/tsl/framework/bfc_allocator.cc:1095] InUse at 69888c100 of size 2048 next 1663\n",
      "2024-03-05 17:57:56.492938: I external/local_tsl/tsl/framework/bfc_allocator.cc:1095] InUse at 69888c900 of size 2048 next 1664\n",
      "2024-03-05 17:57:56.492941: I external/local_tsl/tsl/framework/bfc_allocator.cc:1095] InUse at 69888d100 of size 2048 next 1665\n",
      "2024-03-05 17:57:56.492944: I external/local_tsl/tsl/framework/bfc_allocator.cc:1095] InUse at 69888d900 of size 2048 next 1666\n",
      "2024-03-05 17:57:56.492948: I external/local_tsl/tsl/framework/bfc_allocator.cc:1095] InUse at 69888e100 of size 4194304 next 1667\n",
      "2024-03-05 17:57:56.492951: I external/local_tsl/tsl/framework/bfc_allocator.cc:1095] InUse at 698c8e100 of size 4194304 next 1668\n",
      "2024-03-05 17:57:56.492955: I external/local_tsl/tsl/framework/bfc_allocator.cc:1095] InUse at 69908e100 of size 8192 next 1669\n",
      "2024-03-05 17:57:56.492958: I external/local_tsl/tsl/framework/bfc_allocator.cc:1095] InUse at 699090100 of size 8192 next 1670\n",
      "2024-03-05 17:57:56.492962: I external/local_tsl/tsl/framework/bfc_allocator.cc:1095] InUse at 699092100 of size 8192 next 1671\n",
      "2024-03-05 17:57:56.492965: I external/local_tsl/tsl/framework/bfc_allocator.cc:1095] InUse at 699094100 of size 8192 next 1672\n",
      "2024-03-05 17:57:56.492968: I external/local_tsl/tsl/framework/bfc_allocator.cc:1095] InUse at 699096100 of size 8192 next 1673\n",
      "2024-03-05 17:57:56.492972: I external/local_tsl/tsl/framework/bfc_allocator.cc:1095] InUse at 699098100 of size 8192 next 1674\n",
      "2024-03-05 17:57:56.492975: I external/local_tsl/tsl/framework/bfc_allocator.cc:1095] InUse at 69909a100 of size 4096 next 1676\n",
      "2024-03-05 17:57:56.492978: I external/local_tsl/tsl/framework/bfc_allocator.cc:1095] InUse at 69909b100 of size 4096 next 1677\n",
      "2024-03-05 17:57:56.492982: I external/local_tsl/tsl/framework/bfc_allocator.cc:1095] InUse at 69909c100 of size 20224 next 1678\n",
      "2024-03-05 17:57:56.492985: I external/local_tsl/tsl/framework/bfc_allocator.cc:1095] InUse at 6990a1000 of size 20224 next 1679\n",
      "2024-03-05 17:57:56.492989: I external/local_tsl/tsl/framework/bfc_allocator.cc:1095] InUse at 6990a5f00 of size 256 next 1680\n",
      "2024-03-05 17:57:56.492992: I external/local_tsl/tsl/framework/bfc_allocator.cc:1095] InUse at 6990a6000 of size 256 next 1681\n",
      "2024-03-05 17:57:56.492996: I external/local_tsl/tsl/framework/bfc_allocator.cc:1095] InUse at 6990a6100 of size 1024 next 1701\n",
      "2024-03-05 17:57:56.492999: I external/local_tsl/tsl/framework/bfc_allocator.cc:1095] InUse at 6990a6500 of size 1024 next 1702\n",
      "2024-03-05 17:57:56.493002: I external/local_tsl/tsl/framework/bfc_allocator.cc:1095] InUse at 6990a6900 of size 1024 next 1799\n",
      "2024-03-05 17:57:56.493006: I external/local_tsl/tsl/framework/bfc_allocator.cc:1095] InUse at 6990a6d00 of size 1024 next 1704\n",
      "2024-03-05 17:57:56.493009: I external/local_tsl/tsl/framework/bfc_allocator.cc:1095] InUse at 6990a7100 of size 1024 next 1713\n",
      "2024-03-05 17:57:56.493013: I external/local_tsl/tsl/framework/bfc_allocator.cc:1095] InUse at 6990a7500 of size 1024 next 1864\n",
      "2024-03-05 17:57:56.493016: I external/local_tsl/tsl/framework/bfc_allocator.cc:1095] InUse at 6990a7900 of size 5120 next 1867\n",
      "2024-03-05 17:57:56.493020: I external/local_tsl/tsl/framework/bfc_allocator.cc:1095] InUse at 6990a8d00 of size 4096 next 1868\n",
      "2024-03-05 17:57:56.493023: I external/local_tsl/tsl/framework/bfc_allocator.cc:1095] InUse at 6990a9d00 of size 4096 next 1870\n",
      "2024-03-05 17:57:56.493027: I external/local_tsl/tsl/framework/bfc_allocator.cc:1095] InUse at 6990aad00 of size 4096 next 1871\n",
      "2024-03-05 17:57:56.493030: I external/local_tsl/tsl/framework/bfc_allocator.cc:1095] InUse at 6990abd00 of size 1024 next 1874\n",
      "2024-03-05 17:57:56.493033: I external/local_tsl/tsl/framework/bfc_allocator.cc:1095] InUse at 6990ac100 of size 1024 next 1875\n",
      "2024-03-05 17:57:56.493037: I external/local_tsl/tsl/framework/bfc_allocator.cc:1095] InUse at 6990ac500 of size 1024 next 1876\n",
      "2024-03-05 17:57:56.493041: I external/local_tsl/tsl/framework/bfc_allocator.cc:1095] InUse at 6990ac900 of size 1024 next 1877\n",
      "2024-03-05 17:57:56.493044: I external/local_tsl/tsl/framework/bfc_allocator.cc:1095] InUse at 6990acd00 of size 1024 next 1878\n",
      "2024-03-05 17:57:56.493047: I external/local_tsl/tsl/framework/bfc_allocator.cc:1095] InUse at 6990ad100 of size 7168 next 1882\n",
      "2024-03-05 17:57:56.493051: I external/local_tsl/tsl/framework/bfc_allocator.cc:1095] InUse at 6990aed00 of size 4096 next 1883\n",
      "2024-03-05 17:57:56.493054: I external/local_tsl/tsl/framework/bfc_allocator.cc:1095] InUse at 6990afd00 of size 4096 next 1884\n",
      "2024-03-05 17:57:56.493058: I external/local_tsl/tsl/framework/bfc_allocator.cc:1095] InUse at 6990b0d00 of size 4096 next 1886\n",
      "2024-03-05 17:57:56.493061: I external/local_tsl/tsl/framework/bfc_allocator.cc:1095] InUse at 6990b1d00 of size 4096 next 1887\n",
      "2024-03-05 17:57:56.493064: I external/local_tsl/tsl/framework/bfc_allocator.cc:1095] InUse at 6990b2d00 of size 1024 next 1880\n",
      "2024-03-05 17:57:56.493068: I external/local_tsl/tsl/framework/bfc_allocator.cc:1095] InUse at 6990b3100 of size 1024 next 1888\n",
      "2024-03-05 17:57:56.493071: I external/local_tsl/tsl/framework/bfc_allocator.cc:1095] InUse at 6990b3500 of size 1024 next 1889\n",
      "2024-03-05 17:57:56.493075: I external/local_tsl/tsl/framework/bfc_allocator.cc:1095] InUse at 6990b3900 of size 1024 next 1890\n",
      "2024-03-05 17:57:56.493078: I external/local_tsl/tsl/framework/bfc_allocator.cc:1095] InUse at 6990b3d00 of size 1024 next 1891\n",
      "2024-03-05 17:57:56.493081: I external/local_tsl/tsl/framework/bfc_allocator.cc:1095] InUse at 6990b4100 of size 1024 next 1892\n",
      "2024-03-05 17:57:56.493085: I external/local_tsl/tsl/framework/bfc_allocator.cc:1095] InUse at 6990b4500 of size 1024 next 1893\n",
      "2024-03-05 17:57:56.493088: I external/local_tsl/tsl/framework/bfc_allocator.cc:1095] InUse at 6990b4900 of size 1024 next 1894\n",
      "2024-03-05 17:57:56.493091: I external/local_tsl/tsl/framework/bfc_allocator.cc:1095] InUse at 6990b4d00 of size 4096 next 1898\n",
      "2024-03-05 17:57:56.493095: I external/local_tsl/tsl/framework/bfc_allocator.cc:1095] InUse at 6990b5d00 of size 4096 next 1899\n",
      "2024-03-05 17:57:56.493098: I external/local_tsl/tsl/framework/bfc_allocator.cc:1095] InUse at 6990b6d00 of size 4096 next 1900\n",
      "2024-03-05 17:57:56.493102: I external/local_tsl/tsl/framework/bfc_allocator.cc:1095] InUse at 6990b7d00 of size 7680 next 1685\n",
      "2024-03-05 17:57:56.493106: I external/local_tsl/tsl/framework/bfc_allocator.cc:1095] InUse at 6990b9b00 of size 256 next 1973\n",
      "2024-03-05 17:57:56.493109: I external/local_tsl/tsl/framework/bfc_allocator.cc:1095] InUse at 6990b9c00 of size 16384 next 1974\n",
      "2024-03-05 17:57:56.493113: I external/local_tsl/tsl/framework/bfc_allocator.cc:1095] InUse at 6990bdc00 of size 2048 next 1715\n",
      "2024-03-05 17:57:56.493116: I external/local_tsl/tsl/framework/bfc_allocator.cc:1095] InUse at 6990be400 of size 512 next 1719\n",
      "2024-03-05 17:57:56.493120: I external/local_tsl/tsl/framework/bfc_allocator.cc:1095] InUse at 6990be600 of size 512 next 1722\n",
      "2024-03-05 17:57:56.493123: I external/local_tsl/tsl/framework/bfc_allocator.cc:1095] InUse at 6990be800 of size 512 next 1712\n",
      "2024-03-05 17:57:56.493127: I external/local_tsl/tsl/framework/bfc_allocator.cc:1095] InUse at 6990bea00 of size 512 next 1080\n",
      "2024-03-05 17:57:56.493130: I external/local_tsl/tsl/framework/bfc_allocator.cc:1095] InUse at 6990bec00 of size 512 next 1718\n",
      "2024-03-05 17:57:56.493133: I external/local_tsl/tsl/framework/bfc_allocator.cc:1095] InUse at 6990bee00 of size 512 next 1714\n",
      "2024-03-05 17:57:56.493137: I external/local_tsl/tsl/framework/bfc_allocator.cc:1095] InUse at 6990bf000 of size 512 next 1707\n",
      "2024-03-05 17:57:56.493140: I external/local_tsl/tsl/framework/bfc_allocator.cc:1095] InUse at 6990bf200 of size 512 next 1068\n",
      "2024-03-05 17:57:56.493144: I external/local_tsl/tsl/framework/bfc_allocator.cc:1095] InUse at 6990bf400 of size 2048 next 1730\n",
      "2024-03-05 17:57:56.493147: I external/local_tsl/tsl/framework/bfc_allocator.cc:1095] InUse at 6990bfc00 of size 2048 next 1697\n",
      "2024-03-05 17:57:56.493151: I external/local_tsl/tsl/framework/bfc_allocator.cc:1095] InUse at 6990c0400 of size 2048 next 1700\n",
      "2024-03-05 17:57:56.493154: I external/local_tsl/tsl/framework/bfc_allocator.cc:1095] InUse at 6990c0c00 of size 2048 next 1706\n",
      "2024-03-05 17:57:56.493158: I external/local_tsl/tsl/framework/bfc_allocator.cc:1095] InUse at 6990c1400 of size 2048 next 1703\n",
      "2024-03-05 17:57:56.493161: I external/local_tsl/tsl/framework/bfc_allocator.cc:1095] InUse at 6990c1c00 of size 1024 next 1689\n",
      "2024-03-05 17:57:56.493165: I external/local_tsl/tsl/framework/bfc_allocator.cc:1095] InUse at 6990c2000 of size 1024 next 1041\n",
      "2024-03-05 17:57:56.493168: I external/local_tsl/tsl/framework/bfc_allocator.cc:1095] InUse at 6990c2400 of size 1024 next 1696\n",
      "2024-03-05 17:57:56.493171: I external/local_tsl/tsl/framework/bfc_allocator.cc:1095] InUse at 6990c2800 of size 4096 next 1057\n",
      "2024-03-05 17:57:56.493175: I external/local_tsl/tsl/framework/bfc_allocator.cc:1095] InUse at 6990c3800 of size 4096 next 1834\n",
      "2024-03-05 17:57:56.493178: I external/local_tsl/tsl/framework/bfc_allocator.cc:1095] InUse at 6990c4800 of size 4096 next 1771\n",
      "2024-03-05 17:57:56.493182: I external/local_tsl/tsl/framework/bfc_allocator.cc:1095] InUse at 6990c5800 of size 1024 next 1896\n",
      "2024-03-05 17:57:56.493185: I external/local_tsl/tsl/framework/bfc_allocator.cc:1095] InUse at 6990c5c00 of size 1024 next 1903\n",
      "2024-03-05 17:57:56.493188: I external/local_tsl/tsl/framework/bfc_allocator.cc:1095] InUse at 6990c6000 of size 1024 next 1904\n",
      "2024-03-05 17:57:56.493192: I external/local_tsl/tsl/framework/bfc_allocator.cc:1095] InUse at 6990c6400 of size 1024 next 1905\n",
      "2024-03-05 17:57:56.493195: I external/local_tsl/tsl/framework/bfc_allocator.cc:1095] InUse at 6990c6800 of size 1024 next 1906\n",
      "2024-03-05 17:57:56.493199: I external/local_tsl/tsl/framework/bfc_allocator.cc:1095] InUse at 6990c6c00 of size 1024 next 1907\n",
      "2024-03-05 17:57:56.493202: I external/local_tsl/tsl/framework/bfc_allocator.cc:1095] InUse at 6990c7000 of size 1024 next 1908\n",
      "2024-03-05 17:57:56.493205: I external/local_tsl/tsl/framework/bfc_allocator.cc:1095] InUse at 6990c7400 of size 1024 next 1909\n",
      "2024-03-05 17:57:56.493209: I external/local_tsl/tsl/framework/bfc_allocator.cc:1095] InUse at 6990c7800 of size 4096 next 1902\n",
      "2024-03-05 17:57:56.493212: I external/local_tsl/tsl/framework/bfc_allocator.cc:1095] InUse at 6990c8800 of size 4096 next 1913\n",
      "2024-03-05 17:57:56.493216: I external/local_tsl/tsl/framework/bfc_allocator.cc:1095] InUse at 6990c9800 of size 5632 next 1818\n",
      "2024-03-05 17:57:56.493219: I external/local_tsl/tsl/framework/bfc_allocator.cc:1095] InUse at 6990cae00 of size 1024 next 1976\n",
      "2024-03-05 17:57:56.493223: I external/local_tsl/tsl/framework/bfc_allocator.cc:1095] InUse at 6990cb200 of size 2048 next 1756\n",
      "2024-03-05 17:57:56.493226: I external/local_tsl/tsl/framework/bfc_allocator.cc:1095] InUse at 6990cba00 of size 512 next 2398\n",
      "2024-03-05 17:57:56.493230: I external/local_tsl/tsl/framework/bfc_allocator.cc:1095] InUse at 6990cbc00 of size 512 next 2399\n",
      "2024-03-05 17:57:56.493234: I external/local_tsl/tsl/framework/bfc_allocator.cc:1095] InUse at 6990cbe00 of size 512 next 2402\n",
      "2024-03-05 17:57:56.493239: I external/local_tsl/tsl/framework/bfc_allocator.cc:1095] InUse at 6990cc000 of size 512 next 1217\n",
      "2024-03-05 17:57:56.493262: I external/local_tsl/tsl/framework/bfc_allocator.cc:1095] InUse at 6990cc200 of size 512 next 1751\n",
      "2024-03-05 17:57:56.493270: I external/local_tsl/tsl/framework/bfc_allocator.cc:1095] InUse at 6990cc400 of size 512 next 2403\n",
      "2024-03-05 17:57:56.493273: I external/local_tsl/tsl/framework/bfc_allocator.cc:1095] InUse at 6990cc600 of size 512 next 1754\n",
      "2024-03-05 17:57:56.493277: I external/local_tsl/tsl/framework/bfc_allocator.cc:1095] InUse at 6990cc800 of size 512 next 1125\n",
      "2024-03-05 17:57:56.493280: I external/local_tsl/tsl/framework/bfc_allocator.cc:1095] InUse at 6990cca00 of size 512 next 1744\n",
      "2024-03-05 17:57:56.493284: I external/local_tsl/tsl/framework/bfc_allocator.cc:1095] InUse at 6990ccc00 of size 512 next 2409\n",
      "2024-03-05 17:57:56.493288: I external/local_tsl/tsl/framework/bfc_allocator.cc:1095] InUse at 6990cce00 of size 512 next 1122\n",
      "2024-03-05 17:57:56.493291: I external/local_tsl/tsl/framework/bfc_allocator.cc:1095] InUse at 6990cd000 of size 2048 next 1765\n",
      "2024-03-05 17:57:56.493295: I external/local_tsl/tsl/framework/bfc_allocator.cc:1095] InUse at 6990cd800 of size 2048 next 1739\n",
      "2024-03-05 17:57:56.493298: I external/local_tsl/tsl/framework/bfc_allocator.cc:1095] InUse at 6990ce000 of size 2048 next 1742\n",
      "2024-03-05 17:57:56.493302: I external/local_tsl/tsl/framework/bfc_allocator.cc:1095] InUse at 6990ce800 of size 512 next 2410\n",
      "2024-03-05 17:57:56.493305: I external/local_tsl/tsl/framework/bfc_allocator.cc:1095] InUse at 6990cea00 of size 512 next 2411\n",
      "2024-03-05 17:57:56.493309: I external/local_tsl/tsl/framework/bfc_allocator.cc:1095] InUse at 6990cec00 of size 512 next 2415\n",
      "2024-03-05 17:57:56.493312: I external/local_tsl/tsl/framework/bfc_allocator.cc:1095] InUse at 6990cee00 of size 512 next 2416\n",
      "2024-03-05 17:57:56.493316: I external/local_tsl/tsl/framework/bfc_allocator.cc:1095] Free  at 6990cf000 of size 2048 next 1724\n",
      "2024-03-05 17:57:56.493319: I external/local_tsl/tsl/framework/bfc_allocator.cc:1095] InUse at 6990cf800 of size 512 next 1763\n",
      "2024-03-05 17:57:56.493322: I external/local_tsl/tsl/framework/bfc_allocator.cc:1095] InUse at 6990cfa00 of size 512 next 1738\n",
      "2024-03-05 17:57:56.493326: I external/local_tsl/tsl/framework/bfc_allocator.cc:1095] InUse at 6990cfc00 of size 512 next 2414\n",
      "2024-03-05 17:57:56.493329: I external/local_tsl/tsl/framework/bfc_allocator.cc:1095] InUse at 6990cfe00 of size 512 next 1732\n",
      "2024-03-05 17:57:56.493333: I external/local_tsl/tsl/framework/bfc_allocator.cc:1095] InUse at 6990d0000 of size 512 next 1686\n",
      "2024-03-05 17:57:56.493336: I external/local_tsl/tsl/framework/bfc_allocator.cc:1095] InUse at 6990d0200 of size 512 next 1728\n",
      "2024-03-05 17:57:56.493340: I external/local_tsl/tsl/framework/bfc_allocator.cc:1095] Free  at 6990d0400 of size 1024 next 1684\n",
      "2024-03-05 17:57:56.493343: I external/local_tsl/tsl/framework/bfc_allocator.cc:1095] InUse at 6990d0800 of size 2048 next 1764\n",
      "2024-03-05 17:57:56.493346: I external/local_tsl/tsl/framework/bfc_allocator.cc:1095] InUse at 6990d1000 of size 2048 next 1720\n",
      "2024-03-05 17:57:56.493350: I external/local_tsl/tsl/framework/bfc_allocator.cc:1095] InUse at 6990d1800 of size 2048 next 1073\n",
      "2024-03-05 17:57:56.493354: I external/local_tsl/tsl/framework/bfc_allocator.cc:1095] InUse at 6990d2000 of size 3584 next 1821\n",
      "2024-03-05 17:57:56.493357: I external/local_tsl/tsl/framework/bfc_allocator.cc:1095] InUse at 6990d2e00 of size 65536 next 1825\n",
      "2024-03-05 17:57:56.493361: I external/local_tsl/tsl/framework/bfc_allocator.cc:1095] InUse at 6990e2e00 of size 4096 next 1038\n",
      "2024-03-05 17:57:56.493364: I external/local_tsl/tsl/framework/bfc_allocator.cc:1095] InUse at 6990e3e00 of size 1024 next 1699\n",
      "2024-03-05 17:57:56.493368: I external/local_tsl/tsl/framework/bfc_allocator.cc:1095] InUse at 6990e4200 of size 1024 next 1828\n",
      "2024-03-05 17:57:56.493371: I external/local_tsl/tsl/framework/bfc_allocator.cc:1095] InUse at 6990e4600 of size 1024 next 1829\n",
      "2024-03-05 17:57:56.493374: I external/local_tsl/tsl/framework/bfc_allocator.cc:1095] InUse at 6990e4a00 of size 1024 next 1830\n",
      "2024-03-05 17:57:56.493378: I external/local_tsl/tsl/framework/bfc_allocator.cc:1095] InUse at 6990e4e00 of size 1024 next 1833\n",
      "2024-03-05 17:57:56.493381: I external/local_tsl/tsl/framework/bfc_allocator.cc:1095] InUse at 6990e5200 of size 5120 next 1837\n",
      "2024-03-05 17:57:56.493385: I external/local_tsl/tsl/framework/bfc_allocator.cc:1095] InUse at 6990e6600 of size 4096 next 1835\n",
      "2024-03-05 17:57:56.493388: I external/local_tsl/tsl/framework/bfc_allocator.cc:1095] InUse at 6990e7600 of size 4096 next 1836\n",
      "2024-03-05 17:57:56.493392: I external/local_tsl/tsl/framework/bfc_allocator.cc:1095] InUse at 6990e8600 of size 4096 next 1839\n",
      "2024-03-05 17:57:56.493395: I external/local_tsl/tsl/framework/bfc_allocator.cc:1095] InUse at 6990e9600 of size 1024 next 1693\n",
      "2024-03-05 17:57:56.493399: I external/local_tsl/tsl/framework/bfc_allocator.cc:1095] InUse at 6990e9a00 of size 1024 next 1840\n",
      "2024-03-05 17:57:56.493402: I external/local_tsl/tsl/framework/bfc_allocator.cc:1095] InUse at 6990e9e00 of size 1024 next 1843\n",
      "2024-03-05 17:57:56.493406: I external/local_tsl/tsl/framework/bfc_allocator.cc:1095] InUse at 6990ea200 of size 1024 next 1841\n",
      "2024-03-05 17:57:56.493409: I external/local_tsl/tsl/framework/bfc_allocator.cc:1095] InUse at 6990ea600 of size 1024 next 1842\n",
      "2024-03-05 17:57:56.493412: I external/local_tsl/tsl/framework/bfc_allocator.cc:1095] InUse at 6990eaa00 of size 1024 next 1845\n",
      "2024-03-05 17:57:56.493416: I external/local_tsl/tsl/framework/bfc_allocator.cc:1095] InUse at 6990eae00 of size 1024 next 1848\n",
      "2024-03-05 17:57:56.493419: I external/local_tsl/tsl/framework/bfc_allocator.cc:1095] InUse at 6990eb200 of size 1024 next 1846\n",
      "2024-03-05 17:57:56.493423: I external/local_tsl/tsl/framework/bfc_allocator.cc:1095] InUse at 6990eb600 of size 4096 next 1851\n",
      "2024-03-05 17:57:56.493426: I external/local_tsl/tsl/framework/bfc_allocator.cc:1095] InUse at 6990ec600 of size 4096 next 1852\n",
      "2024-03-05 17:57:56.493430: I external/local_tsl/tsl/framework/bfc_allocator.cc:1095] InUse at 6990ed600 of size 4096 next 1853\n",
      "2024-03-05 17:57:56.493433: I external/local_tsl/tsl/framework/bfc_allocator.cc:1095] InUse at 6990ee600 of size 4096 next 1854\n",
      "2024-03-05 17:57:56.493437: I external/local_tsl/tsl/framework/bfc_allocator.cc:1095] InUse at 6990ef600 of size 4096 next 1856\n",
      "2024-03-05 17:57:56.493440: I external/local_tsl/tsl/framework/bfc_allocator.cc:1095] InUse at 6990f0600 of size 1024 next 1849\n",
      "2024-03-05 17:57:56.493443: I external/local_tsl/tsl/framework/bfc_allocator.cc:1095] InUse at 6990f0a00 of size 1024 next 1857\n",
      "2024-03-05 17:57:56.493447: I external/local_tsl/tsl/framework/bfc_allocator.cc:1095] InUse at 6990f0e00 of size 1024 next 1858\n",
      "2024-03-05 17:57:56.493450: I external/local_tsl/tsl/framework/bfc_allocator.cc:1095] InUse at 6990f1200 of size 1024 next 1859\n",
      "2024-03-05 17:57:56.493454: I external/local_tsl/tsl/framework/bfc_allocator.cc:1095] InUse at 6990f1600 of size 1024 next 1861\n",
      "2024-03-05 17:57:56.493457: I external/local_tsl/tsl/framework/bfc_allocator.cc:1095] InUse at 6990f1a00 of size 1024 next 1862\n",
      "2024-03-05 17:57:56.493461: I external/local_tsl/tsl/framework/bfc_allocator.cc:1095] InUse at 6990f1e00 of size 1024 next 1863\n",
      "2024-03-05 17:57:56.493464: I external/local_tsl/tsl/framework/bfc_allocator.cc:1095] InUse at 6990f2200 of size 1024 next 1865\n",
      "2024-03-05 17:57:56.493467: I external/local_tsl/tsl/framework/bfc_allocator.cc:1095] InUse at 6990f2600 of size 1024 next 1872\n",
      "2024-03-05 17:57:56.493471: I external/local_tsl/tsl/framework/bfc_allocator.cc:1095] InUse at 6990f2a00 of size 1024 next 1812\n",
      "2024-03-05 17:57:56.493474: I external/local_tsl/tsl/framework/bfc_allocator.cc:1095] InUse at 6990f2e00 of size 65536 next 1808\n",
      "2024-03-05 17:57:56.493478: I external/local_tsl/tsl/framework/bfc_allocator.cc:1095] InUse at 699102e00 of size 65536 next 1804\n",
      "2024-03-05 17:57:56.493481: I external/local_tsl/tsl/framework/bfc_allocator.cc:1095] InUse at 699112e00 of size 37632 next 1989\n",
      "2024-03-05 17:57:56.493485: I external/local_tsl/tsl/framework/bfc_allocator.cc:1095] InUse at 69911c100 of size 60672 next 1810\n",
      "2024-03-05 17:57:56.493489: I external/local_tsl/tsl/framework/bfc_allocator.cc:1095] InUse at 69912ae00 of size 65536 next 1975\n",
      "2024-03-05 17:57:56.493493: I external/local_tsl/tsl/framework/bfc_allocator.cc:1095] InUse at 69913ae00 of size 81920 next 1816\n",
      "2024-03-05 17:57:56.493496: I external/local_tsl/tsl/framework/bfc_allocator.cc:1095] InUse at 69914ee00 of size 65536 next 1787\n",
      "2024-03-05 17:57:56.493500: I external/local_tsl/tsl/framework/bfc_allocator.cc:1095] InUse at 69915ee00 of size 256 next 1965\n",
      "2024-03-05 17:57:56.493503: I external/local_tsl/tsl/framework/bfc_allocator.cc:1095] InUse at 69915ef00 of size 256 next 1919\n",
      "2024-03-05 17:57:56.493507: I external/local_tsl/tsl/framework/bfc_allocator.cc:1095] InUse at 69915f000 of size 256 next 1897\n",
      "2024-03-05 17:57:56.493511: I external/local_tsl/tsl/framework/bfc_allocator.cc:1095] InUse at 69915f100 of size 256 next 1881\n",
      "2024-03-05 17:57:56.493514: I external/local_tsl/tsl/framework/bfc_allocator.cc:1095] InUse at 69915f200 of size 7168 next 1971\n",
      "2024-03-05 17:57:56.493518: I external/local_tsl/tsl/framework/bfc_allocator.cc:1095] InUse at 699160e00 of size 37632 next 1972\n",
      "2024-03-05 17:57:56.493521: I external/local_tsl/tsl/framework/bfc_allocator.cc:1095] InUse at 69916a100 of size 183552 next 1795\n",
      "2024-03-05 17:57:56.493525: I external/local_tsl/tsl/framework/bfc_allocator.cc:1095] InUse at 699196e00 of size 147456 next 1188\n",
      "2024-03-05 17:57:56.493529: I external/local_tsl/tsl/framework/bfc_allocator.cc:1095] InUse at 6991bae00 of size 4096 next 1915\n",
      "2024-03-05 17:57:56.493532: I external/local_tsl/tsl/framework/bfc_allocator.cc:1095] InUse at 6991bbe00 of size 4096 next 1917\n",
      "2024-03-05 17:57:56.493536: I external/local_tsl/tsl/framework/bfc_allocator.cc:1095] InUse at 6991bce00 of size 2048 next 1914\n",
      "2024-03-05 17:57:56.493539: I external/local_tsl/tsl/framework/bfc_allocator.cc:1095] InUse at 6991bd600 of size 8192 next 1932\n",
      "2024-03-05 17:57:56.493543: I external/local_tsl/tsl/framework/bfc_allocator.cc:1095] InUse at 6991bf600 of size 8192 next 1925\n",
      "2024-03-05 17:57:56.493546: I external/local_tsl/tsl/framework/bfc_allocator.cc:1095] InUse at 6991c1600 of size 20224 next 1750\n",
      "2024-03-05 17:57:56.493550: I external/local_tsl/tsl/framework/bfc_allocator.cc:1095] InUse at 6991c6500 of size 20992 next 1759\n",
      "2024-03-05 17:57:56.493554: I external/local_tsl/tsl/framework/bfc_allocator.cc:1095] InUse at 6991cb700 of size 20224 next 1136\n",
      "2024-03-05 17:57:56.493557: I external/local_tsl/tsl/framework/bfc_allocator.cc:1095] InUse at 6991d0600 of size 256 next 1692\n",
      "2024-03-05 17:57:56.493561: I external/local_tsl/tsl/framework/bfc_allocator.cc:1095] InUse at 6991d0700 of size 4096 next 1708\n",
      "2024-03-05 17:57:56.493564: I external/local_tsl/tsl/framework/bfc_allocator.cc:1095] InUse at 6991d1700 of size 4096 next 1873\n",
      "2024-03-05 17:57:56.493568: I external/local_tsl/tsl/framework/bfc_allocator.cc:1095] InUse at 6991d2700 of size 256 next 1152\n",
      "2024-03-05 17:57:56.493571: I external/local_tsl/tsl/framework/bfc_allocator.cc:1095] InUse at 6991d2800 of size 256 next 1977\n",
      "2024-03-05 17:57:56.493575: I external/local_tsl/tsl/framework/bfc_allocator.cc:1095] InUse at 6991d2900 of size 256 next 1978\n",
      "2024-03-05 17:57:56.493578: I external/local_tsl/tsl/framework/bfc_allocator.cc:1095] InUse at 6991d2a00 of size 256 next 1979\n",
      "2024-03-05 17:57:56.493582: I external/local_tsl/tsl/framework/bfc_allocator.cc:1095] InUse at 6991d2b00 of size 256 next 1980\n",
      "2024-03-05 17:57:56.493585: I external/local_tsl/tsl/framework/bfc_allocator.cc:1095] InUse at 6991d2c00 of size 256 next 1981\n",
      "2024-03-05 17:57:56.493588: I external/local_tsl/tsl/framework/bfc_allocator.cc:1095] InUse at 6991d2d00 of size 256 next 1991\n",
      "2024-03-05 17:57:56.493592: I external/local_tsl/tsl/framework/bfc_allocator.cc:1095] InUse at 6991d2e00 of size 256 next 1984\n",
      "2024-03-05 17:57:56.493595: I external/local_tsl/tsl/framework/bfc_allocator.cc:1095] InUse at 6991d2f00 of size 256 next 1987\n",
      "2024-03-05 17:57:56.493599: I external/local_tsl/tsl/framework/bfc_allocator.cc:1095] InUse at 6991d3000 of size 256 next 1983\n",
      "2024-03-05 17:57:56.493602: I external/local_tsl/tsl/framework/bfc_allocator.cc:1095] InUse at 6991d3100 of size 256 next 1985\n",
      "2024-03-05 17:57:56.493606: I external/local_tsl/tsl/framework/bfc_allocator.cc:1095] InUse at 6991d3200 of size 256 next 1998\n",
      "2024-03-05 17:57:56.493609: I external/local_tsl/tsl/framework/bfc_allocator.cc:1095] InUse at 6991d3300 of size 256 next 1986\n",
      "2024-03-05 17:57:56.493612: I external/local_tsl/tsl/framework/bfc_allocator.cc:1095] InUse at 6991d3400 of size 256 next 1999\n",
      "2024-03-05 17:57:56.493616: I external/local_tsl/tsl/framework/bfc_allocator.cc:1095] InUse at 6991d3500 of size 256 next 1997\n",
      "2024-03-05 17:57:56.493620: I external/local_tsl/tsl/framework/bfc_allocator.cc:1095] InUse at 6991d3600 of size 256 next 1994\n",
      "2024-03-05 17:57:56.493623: I external/local_tsl/tsl/framework/bfc_allocator.cc:1095] InUse at 6991d3700 of size 256 next 1990\n",
      "2024-03-05 17:57:56.493627: I external/local_tsl/tsl/framework/bfc_allocator.cc:1095] InUse at 6991d3800 of size 256 next 2002\n",
      "2024-03-05 17:57:56.493630: I external/local_tsl/tsl/framework/bfc_allocator.cc:1095] InUse at 6991d3900 of size 256 next 1996\n",
      "2024-03-05 17:57:56.493633: I external/local_tsl/tsl/framework/bfc_allocator.cc:1095] InUse at 6991d3a00 of size 256 next 2003\n",
      "2024-03-05 17:57:56.493637: I external/local_tsl/tsl/framework/bfc_allocator.cc:1095] InUse at 6991d3b00 of size 256 next 1992\n",
      "2024-03-05 17:57:56.493640: I external/local_tsl/tsl/framework/bfc_allocator.cc:1095] InUse at 6991d3c00 of size 256 next 1993\n",
      "2024-03-05 17:57:56.493644: I external/local_tsl/tsl/framework/bfc_allocator.cc:1095] InUse at 6991d3d00 of size 256 next 1988\n",
      "2024-03-05 17:57:56.493647: I external/local_tsl/tsl/framework/bfc_allocator.cc:1095] InUse at 6991d3e00 of size 256 next 1995\n",
      "2024-03-05 17:57:56.493651: I external/local_tsl/tsl/framework/bfc_allocator.cc:1095] InUse at 6991d3f00 of size 256 next 1982\n",
      "2024-03-05 17:57:56.493654: I external/local_tsl/tsl/framework/bfc_allocator.cc:1095] InUse at 6991d4000 of size 256 next 2004\n",
      "2024-03-05 17:57:56.493657: I external/local_tsl/tsl/framework/bfc_allocator.cc:1095] InUse at 6991d4100 of size 256 next 2007\n",
      "2024-03-05 17:57:56.493661: I external/local_tsl/tsl/framework/bfc_allocator.cc:1095] InUse at 6991d4200 of size 256 next 2008\n",
      "2024-03-05 17:57:56.493664: I external/local_tsl/tsl/framework/bfc_allocator.cc:1095] InUse at 6991d4300 of size 256 next 2009\n",
      "2024-03-05 17:57:56.493668: I external/local_tsl/tsl/framework/bfc_allocator.cc:1095] InUse at 6991d4400 of size 256 next 2010\n",
      "2024-03-05 17:57:56.493671: I external/local_tsl/tsl/framework/bfc_allocator.cc:1095] InUse at 6991d4500 of size 1024 next 2013\n",
      "2024-03-05 17:57:56.493675: I external/local_tsl/tsl/framework/bfc_allocator.cc:1095] InUse at 6991d4900 of size 1024 next 2014\n",
      "2024-03-05 17:57:56.493678: I external/local_tsl/tsl/framework/bfc_allocator.cc:1095] InUse at 6991d4d00 of size 1024 next 2016\n",
      "2024-03-05 17:57:56.493681: I external/local_tsl/tsl/framework/bfc_allocator.cc:1095] InUse at 6991d5100 of size 1024 next 2017\n",
      "2024-03-05 17:57:56.493685: I external/local_tsl/tsl/framework/bfc_allocator.cc:1095] InUse at 6991d5500 of size 1024 next 2018\n",
      "2024-03-05 17:57:56.493688: I external/local_tsl/tsl/framework/bfc_allocator.cc:1095] InUse at 6991d5900 of size 1280 next 1922\n",
      "2024-03-05 17:57:56.493692: I external/local_tsl/tsl/framework/bfc_allocator.cc:1095] InUse at 6991d5e00 of size 2048 next 1920\n",
      "2024-03-05 17:57:56.493695: I external/local_tsl/tsl/framework/bfc_allocator.cc:1095] InUse at 6991d6600 of size 2048 next 1921\n",
      "2024-03-05 17:57:56.493699: I external/local_tsl/tsl/framework/bfc_allocator.cc:1095] InUse at 6991d6e00 of size 2048 next 1927\n",
      "2024-03-05 17:57:56.493702: I external/local_tsl/tsl/framework/bfc_allocator.cc:1095] InUse at 6991d7600 of size 2048 next 1928\n",
      "2024-03-05 17:57:56.493706: I external/local_tsl/tsl/framework/bfc_allocator.cc:1095] InUse at 6991d7e00 of size 2048 next 1929\n",
      "2024-03-05 17:57:56.493709: I external/local_tsl/tsl/framework/bfc_allocator.cc:1095] InUse at 6991d8600 of size 2048 next 1930\n",
      "2024-03-05 17:57:56.493712: I external/local_tsl/tsl/framework/bfc_allocator.cc:1095] InUse at 6991d8e00 of size 2048 next 1933\n",
      "2024-03-05 17:57:56.493716: I external/local_tsl/tsl/framework/bfc_allocator.cc:1095] InUse at 6991d9600 of size 10240 next 1937\n",
      "2024-03-05 17:57:56.493719: I external/local_tsl/tsl/framework/bfc_allocator.cc:1095] InUse at 6991dbe00 of size 12288 next 1785\n",
      "2024-03-05 17:57:56.493723: I external/local_tsl/tsl/framework/bfc_allocator.cc:1095] InUse at 6991dee00 of size 147456 next 1784\n",
      "2024-03-05 17:57:56.493726: I external/local_tsl/tsl/framework/bfc_allocator.cc:1095] InUse at 699202e00 of size 8192 next 1935\n",
      "2024-03-05 17:57:56.493730: I external/local_tsl/tsl/framework/bfc_allocator.cc:1095] InUse at 699204e00 of size 8192 next 1936\n",
      "2024-03-05 17:57:56.493733: I external/local_tsl/tsl/framework/bfc_allocator.cc:1095] InUse at 699206e00 of size 2048 next 1923\n",
      "2024-03-05 17:57:56.493737: I external/local_tsl/tsl/framework/bfc_allocator.cc:1095] InUse at 699207600 of size 2048 next 1939\n",
      "2024-03-05 17:57:56.493740: I external/local_tsl/tsl/framework/bfc_allocator.cc:1095] InUse at 699207e00 of size 2048 next 1942\n",
      "2024-03-05 17:57:56.493744: I external/local_tsl/tsl/framework/bfc_allocator.cc:1095] InUse at 699208600 of size 2048 next 1940\n",
      "2024-03-05 17:57:56.493747: I external/local_tsl/tsl/framework/bfc_allocator.cc:1095] InUse at 699208e00 of size 2048 next 1941\n",
      "2024-03-05 17:57:56.493751: I external/local_tsl/tsl/framework/bfc_allocator.cc:1095] InUse at 699209600 of size 2048 next 1944\n",
      "2024-03-05 17:57:56.493754: I external/local_tsl/tsl/framework/bfc_allocator.cc:1095] InUse at 699209e00 of size 2048 next 1947\n",
      "2024-03-05 17:57:56.493757: I external/local_tsl/tsl/framework/bfc_allocator.cc:1095] InUse at 69920a600 of size 2048 next 1945\n",
      "2024-03-05 17:57:56.493761: I external/local_tsl/tsl/framework/bfc_allocator.cc:1095] InUse at 69920ae00 of size 8192 next 1949\n",
      "2024-03-05 17:57:56.493764: I external/local_tsl/tsl/framework/bfc_allocator.cc:1095] InUse at 69920ce00 of size 8192 next 1950\n",
      "2024-03-05 17:57:56.493768: I external/local_tsl/tsl/framework/bfc_allocator.cc:1095] InUse at 69920ee00 of size 8192 next 1951\n",
      "2024-03-05 17:57:56.493771: I external/local_tsl/tsl/framework/bfc_allocator.cc:1095] InUse at 699210e00 of size 8192 next 1952\n",
      "2024-03-05 17:57:56.493774: I external/local_tsl/tsl/framework/bfc_allocator.cc:1095] InUse at 699212e00 of size 8192 next 1954\n",
      "2024-03-05 17:57:56.493778: I external/local_tsl/tsl/framework/bfc_allocator.cc:1095] InUse at 699214e00 of size 2048 next 1953\n",
      "2024-03-05 17:57:56.493781: I external/local_tsl/tsl/framework/bfc_allocator.cc:1095] InUse at 699215600 of size 2048 next 1955\n",
      "2024-03-05 17:57:56.493785: I external/local_tsl/tsl/framework/bfc_allocator.cc:1095] InUse at 699215e00 of size 2048 next 1956\n",
      "2024-03-05 17:57:56.493788: I external/local_tsl/tsl/framework/bfc_allocator.cc:1095] InUse at 699216600 of size 2048 next 1957\n",
      "2024-03-05 17:57:56.493792: I external/local_tsl/tsl/framework/bfc_allocator.cc:1095] InUse at 699216e00 of size 2048 next 1934\n",
      "2024-03-05 17:57:56.493795: I external/local_tsl/tsl/framework/bfc_allocator.cc:1095] InUse at 699217600 of size 2048 next 1960\n",
      "2024-03-05 17:57:56.493798: I external/local_tsl/tsl/framework/bfc_allocator.cc:1095] InUse at 699217e00 of size 2048 next 1961\n",
      "2024-03-05 17:57:56.493802: I external/local_tsl/tsl/framework/bfc_allocator.cc:1095] InUse at 699218600 of size 2048 next 1962\n",
      "2024-03-05 17:57:56.493805: I external/local_tsl/tsl/framework/bfc_allocator.cc:1095] InUse at 699218e00 of size 8192 next 1966\n",
      "2024-03-05 17:57:56.493809: I external/local_tsl/tsl/framework/bfc_allocator.cc:1095] InUse at 69921ae00 of size 8192 next 1967\n",
      "2024-03-05 17:57:56.493812: I external/local_tsl/tsl/framework/bfc_allocator.cc:1095] InUse at 69921ce00 of size 8192 next 1968\n",
      "2024-03-05 17:57:56.493815: I external/local_tsl/tsl/framework/bfc_allocator.cc:1095] InUse at 69921ee00 of size 8192 next 1970\n",
      "2024-03-05 17:57:56.493819: I external/local_tsl/tsl/framework/bfc_allocator.cc:1095] InUse at 699220e00 of size 8192 next 1769\n",
      "2024-03-05 17:57:56.493822: I external/local_tsl/tsl/framework/bfc_allocator.cc:1095] InUse at 699222e00 of size 393216 next 1130\n",
      "2024-03-05 17:57:56.493826: I external/local_tsl/tsl/framework/bfc_allocator.cc:1095] InUse at 699282e00 of size 262144 next 1096\n",
      "2024-03-05 17:57:56.493829: I external/local_tsl/tsl/framework/bfc_allocator.cc:1095] InUse at 6992c2e00 of size 1048576 next 1847\n",
      "2024-03-05 17:57:56.493833: I external/local_tsl/tsl/framework/bfc_allocator.cc:1095] InUse at 6993c2e00 of size 1179648 next 1733\n",
      "2024-03-05 17:57:56.493837: I external/local_tsl/tsl/framework/bfc_allocator.cc:1095] InUse at 6994e2e00 of size 917504 next 1114\n",
      "2024-03-05 17:57:56.493840: I external/local_tsl/tsl/framework/bfc_allocator.cc:1095] InUse at 6995c2e00 of size 262144 next 1743\n",
      "2024-03-05 17:57:56.493844: I external/local_tsl/tsl/framework/bfc_allocator.cc:1095] InUse at 699602e00 of size 327680 next 1740\n",
      "2024-03-05 17:57:56.493847: I external/local_tsl/tsl/framework/bfc_allocator.cc:1095] InUse at 699652e00 of size 262144 next 1716\n",
      "2024-03-05 17:57:56.493851: I external/local_tsl/tsl/framework/bfc_allocator.cc:1095] InUse at 699692e00 of size 327680 next 1085\n",
      "2024-03-05 17:57:56.493854: I external/local_tsl/tsl/framework/bfc_allocator.cc:1095] InUse at 6996e2e00 of size 262144 next 1726\n",
      "2024-03-05 17:57:56.493858: I external/local_tsl/tsl/framework/bfc_allocator.cc:1095] InUse at 699722e00 of size 589824 next 1688\n",
      "2024-03-05 17:57:56.493861: I external/local_tsl/tsl/framework/bfc_allocator.cc:1095] InUse at 6997b2e00 of size 327680 next 1066\n",
      "2024-03-05 17:57:56.493864: I external/local_tsl/tsl/framework/bfc_allocator.cc:1095] InUse at 699802e00 of size 16384 next 2000\n",
      "2024-03-05 17:57:56.493868: I external/local_tsl/tsl/framework/bfc_allocator.cc:1095] InUse at 699806e00 of size 16384 next 2001\n",
      "2024-03-05 17:57:56.493871: I external/local_tsl/tsl/framework/bfc_allocator.cc:1095] InUse at 69980ae00 of size 147456 next 2005\n",
      "2024-03-05 17:57:56.493875: I external/local_tsl/tsl/framework/bfc_allocator.cc:1095] InUse at 69982ee00 of size 147456 next 2006\n",
      "2024-03-05 17:57:56.493878: I external/local_tsl/tsl/framework/bfc_allocator.cc:1095] InUse at 699852e00 of size 65536 next 2011\n",
      "2024-03-05 17:57:56.493882: I external/local_tsl/tsl/framework/bfc_allocator.cc:1095] InUse at 699862e00 of size 65536 next 2012\n",
      "2024-03-05 17:57:56.493885: I external/local_tsl/tsl/framework/bfc_allocator.cc:1095] InUse at 699872e00 of size 65536 next 2015\n",
      "2024-03-05 17:57:56.493888: I external/local_tsl/tsl/framework/bfc_allocator.cc:1095] InUse at 699882e00 of size 65536 next 1710\n",
      "2024-03-05 17:57:56.493892: I external/local_tsl/tsl/framework/bfc_allocator.cc:1095] InUse at 699892e00 of size 524288 next 1827\n",
      "2024-03-05 17:57:56.493895: I external/local_tsl/tsl/framework/bfc_allocator.cc:1095] InUse at 699912e00 of size 1572864 next 1838\n",
      "2024-03-05 17:57:56.493899: I external/local_tsl/tsl/framework/bfc_allocator.cc:1095] InUse at 699a92e00 of size 1048576 next 1855\n",
      "2024-03-05 17:57:56.493902: I external/local_tsl/tsl/framework/bfc_allocator.cc:1095] InUse at 699b92e00 of size 4194304 next 1844\n",
      "2024-03-05 17:57:56.493906: I external/local_tsl/tsl/framework/bfc_allocator.cc:1095] InUse at 699f92e00 of size 589824 next 1103\n",
      "2024-03-05 17:57:56.493909: I external/local_tsl/tsl/framework/bfc_allocator.cc:1095] InUse at 69a022e00 of size 720896 next 1832\n",
      "2024-03-05 17:57:56.493913: I external/local_tsl/tsl/framework/bfc_allocator.cc:1095] InUse at 69a0d2e00 of size 2359296 next 1831\n",
      "2024-03-05 17:57:56.493916: I external/local_tsl/tsl/framework/bfc_allocator.cc:1095] InUse at 69a312e00 of size 1048576 next 1869\n",
      "2024-03-05 17:57:56.493920: I external/local_tsl/tsl/framework/bfc_allocator.cc:1095] InUse at 69a412e00 of size 1310720 next 1866\n",
      "2024-03-05 17:57:56.493923: I external/local_tsl/tsl/framework/bfc_allocator.cc:1095] InUse at 69a552e00 of size 1048576 next 1695\n",
      "2024-03-05 17:57:56.493927: I external/local_tsl/tsl/framework/bfc_allocator.cc:1095] InUse at 69a652e00 of size 1310720 next 1850\n",
      "2024-03-05 17:57:56.493930: I external/local_tsl/tsl/framework/bfc_allocator.cc:1095] InUse at 69a792e00 of size 3407872 next 1860\n",
      "2024-03-05 17:57:56.493934: I external/local_tsl/tsl/framework/bfc_allocator.cc:1095] InUse at 69aad2e00 of size 3513856 next 1683\n",
      "2024-03-05 17:57:56.493938: I external/local_tsl/tsl/framework/bfc_allocator.cc:1095] InUse at 69ae2cc00 of size 256 next 1690\n",
      "2024-03-05 17:57:56.493941: I external/local_tsl/tsl/framework/bfc_allocator.cc:1095] InUse at 69ae2cd00 of size 256 next 1691\n",
      "2024-03-05 17:57:56.493945: I external/local_tsl/tsl/framework/bfc_allocator.cc:1095] InUse at 69ae2ce00 of size 2048 next 1141\n",
      "2024-03-05 17:57:56.493949: I external/local_tsl/tsl/framework/bfc_allocator.cc:1095] InUse at 69ae2d600 of size 512 next 1770\n",
      "2024-03-05 17:57:56.493952: I external/local_tsl/tsl/framework/bfc_allocator.cc:1095] InUse at 69ae2d800 of size 512 next 2389\n",
      "2024-03-05 17:57:56.493956: I external/local_tsl/tsl/framework/bfc_allocator.cc:1095] InUse at 69ae2da00 of size 512 next 1773\n",
      "2024-03-05 17:57:56.493959: I external/local_tsl/tsl/framework/bfc_allocator.cc:1095] InUse at 69ae2dc00 of size 512 next 1766\n",
      "2024-03-05 17:57:56.493962: I external/local_tsl/tsl/framework/bfc_allocator.cc:1095] InUse at 69ae2de00 of size 512 next 1149\n",
      "2024-03-05 17:57:56.493966: I external/local_tsl/tsl/framework/bfc_allocator.cc:1095] InUse at 69ae2e000 of size 512 next 2397\n",
      "2024-03-05 17:57:56.493969: I external/local_tsl/tsl/framework/bfc_allocator.cc:1095] InUse at 69ae2e200 of size 512 next 1687\n",
      "2024-03-05 17:57:56.493973: I external/local_tsl/tsl/framework/bfc_allocator.cc:1095] InUse at 69ae2e400 of size 1024 next 1725\n",
      "2024-03-05 17:57:56.493976: I external/local_tsl/tsl/framework/bfc_allocator.cc:1095] InUse at 69ae2e800 of size 1048576 next 1885\n",
      "2024-03-05 17:57:56.493980: I external/local_tsl/tsl/framework/bfc_allocator.cc:1095] InUse at 69af2e800 of size 3670016 next 1879\n",
      "2024-03-05 17:57:56.493983: I external/local_tsl/tsl/framework/bfc_allocator.cc:1095] InUse at 69b2ae800 of size 1048576 next 1901\n",
      "2024-03-05 17:57:56.493987: I external/local_tsl/tsl/framework/bfc_allocator.cc:1095] InUse at 69b3ae800 of size 3670016 next 1895\n",
      "2024-03-05 17:57:56.493990: I external/local_tsl/tsl/framework/bfc_allocator.cc:1095] InUse at 69b72e800 of size 1024 next 2019\n",
      "2024-03-05 17:57:56.493993: I external/local_tsl/tsl/framework/bfc_allocator.cc:1095] InUse at 69b72ec00 of size 1024 next 2020\n",
      "2024-03-05 17:57:56.493997: I external/local_tsl/tsl/framework/bfc_allocator.cc:1095] InUse at 69b72f000 of size 65536 next 2021\n",
      "2024-03-05 17:57:56.494000: I external/local_tsl/tsl/framework/bfc_allocator.cc:1095] InUse at 69b73f000 of size 65536 next 2022\n",
      "2024-03-05 17:57:56.494004: I external/local_tsl/tsl/framework/bfc_allocator.cc:1095] InUse at 69b74f000 of size 256 next 2023\n",
      "2024-03-05 17:57:56.494007: I external/local_tsl/tsl/framework/bfc_allocator.cc:1095] InUse at 69b74f100 of size 256 next 2024\n",
      "2024-03-05 17:57:56.494011: I external/local_tsl/tsl/framework/bfc_allocator.cc:1095] InUse at 69b74f200 of size 256 next 2025\n",
      "2024-03-05 17:57:56.494014: I external/local_tsl/tsl/framework/bfc_allocator.cc:1095] InUse at 69b74f300 of size 256 next 2026\n",
      "2024-03-05 17:57:56.494018: I external/local_tsl/tsl/framework/bfc_allocator.cc:1095] InUse at 69b74f400 of size 147456 next 2027\n",
      "2024-03-05 17:57:56.494021: I external/local_tsl/tsl/framework/bfc_allocator.cc:1095] InUse at 69b773400 of size 147456 next 2028\n",
      "2024-03-05 17:57:56.494025: I external/local_tsl/tsl/framework/bfc_allocator.cc:1095] InUse at 69b797400 of size 256 next 2029\n",
      "2024-03-05 17:57:56.494028: I external/local_tsl/tsl/framework/bfc_allocator.cc:1095] InUse at 69b797500 of size 256 next 2030\n",
      "2024-03-05 17:57:56.494032: I external/local_tsl/tsl/framework/bfc_allocator.cc:1095] InUse at 69b797600 of size 256 next 2031\n",
      "2024-03-05 17:57:56.494035: I external/local_tsl/tsl/framework/bfc_allocator.cc:1095] InUse at 69b797700 of size 256 next 2032\n",
      "2024-03-05 17:57:56.494038: I external/local_tsl/tsl/framework/bfc_allocator.cc:1095] InUse at 69b797800 of size 65536 next 2033\n",
      "2024-03-05 17:57:56.494042: I external/local_tsl/tsl/framework/bfc_allocator.cc:1095] InUse at 69b7a7800 of size 65536 next 2034\n",
      "2024-03-05 17:57:56.494045: I external/local_tsl/tsl/framework/bfc_allocator.cc:1095] InUse at 69b7b7800 of size 1024 next 2035\n",
      "2024-03-05 17:57:56.494049: I external/local_tsl/tsl/framework/bfc_allocator.cc:1095] InUse at 69b7b7c00 of size 1024 next 2036\n",
      "2024-03-05 17:57:56.494053: I external/local_tsl/tsl/framework/bfc_allocator.cc:1095] InUse at 69b7b8000 of size 1024 next 2037\n",
      "2024-03-05 17:57:56.494056: I external/local_tsl/tsl/framework/bfc_allocator.cc:1095] InUse at 69b7b8400 of size 1024 next 2038\n",
      "2024-03-05 17:57:56.494059: I external/local_tsl/tsl/framework/bfc_allocator.cc:1095] InUse at 69b7b8800 of size 1024 next 2039\n",
      "2024-03-05 17:57:56.494063: I external/local_tsl/tsl/framework/bfc_allocator.cc:1095] InUse at 69b7b8c00 of size 1024 next 2040\n",
      "2024-03-05 17:57:56.494066: I external/local_tsl/tsl/framework/bfc_allocator.cc:1095] InUse at 69b7b9000 of size 65536 next 2041\n",
      "2024-03-05 17:57:56.494070: I external/local_tsl/tsl/framework/bfc_allocator.cc:1095] InUse at 69b7c9000 of size 65536 next 2042\n",
      "2024-03-05 17:57:56.494073: I external/local_tsl/tsl/framework/bfc_allocator.cc:1095] InUse at 69b7d9000 of size 256 next 2043\n",
      "2024-03-05 17:57:56.494076: I external/local_tsl/tsl/framework/bfc_allocator.cc:1095] InUse at 69b7d9100 of size 256 next 2044\n",
      "2024-03-05 17:57:56.494080: I external/local_tsl/tsl/framework/bfc_allocator.cc:1095] InUse at 69b7d9200 of size 256 next 2045\n",
      "2024-03-05 17:57:56.494083: I external/local_tsl/tsl/framework/bfc_allocator.cc:1095] InUse at 69b7d9300 of size 256 next 2046\n",
      "2024-03-05 17:57:56.494087: I external/local_tsl/tsl/framework/bfc_allocator.cc:1095] InUse at 69b7d9400 of size 147456 next 2047\n",
      "2024-03-05 17:57:56.494090: I external/local_tsl/tsl/framework/bfc_allocator.cc:1095] InUse at 69b7fd400 of size 201728 next 1916\n",
      "2024-03-05 17:57:56.494094: I external/local_tsl/tsl/framework/bfc_allocator.cc:1095] InUse at 69b82e800 of size 1310720 next 1911\n",
      "2024-03-05 17:57:56.494097: I external/local_tsl/tsl/framework/bfc_allocator.cc:1095] InUse at 69b96e800 of size 1048576 next 1912\n",
      "2024-03-05 17:57:56.494101: I external/local_tsl/tsl/framework/bfc_allocator.cc:1095] InUse at 69ba6e800 of size 256 next 2048\n",
      "2024-03-05 17:57:56.494104: I external/local_tsl/tsl/framework/bfc_allocator.cc:1095] InUse at 69ba6e900 of size 256 next 2049\n",
      "2024-03-05 17:57:56.494108: I external/local_tsl/tsl/framework/bfc_allocator.cc:1095] InUse at 69ba6ea00 of size 256 next 2050\n",
      "2024-03-05 17:57:56.494111: I external/local_tsl/tsl/framework/bfc_allocator.cc:1095] InUse at 69ba6eb00 of size 256 next 2051\n",
      "2024-03-05 17:57:56.494115: I external/local_tsl/tsl/framework/bfc_allocator.cc:1095] InUse at 69ba6ec00 of size 65536 next 2052\n",
      "2024-03-05 17:57:56.494118: I external/local_tsl/tsl/framework/bfc_allocator.cc:1095] InUse at 69ba7ec00 of size 65536 next 2053\n",
      "2024-03-05 17:57:56.494122: I external/local_tsl/tsl/framework/bfc_allocator.cc:1095] InUse at 69ba8ec00 of size 1024 next 2054\n",
      "2024-03-05 17:57:56.494125: I external/local_tsl/tsl/framework/bfc_allocator.cc:1095] InUse at 69ba8f000 of size 1024 next 2055\n",
      "2024-03-05 17:57:56.494128: I external/local_tsl/tsl/framework/bfc_allocator.cc:1095] InUse at 69ba8f400 of size 1024 next 2056\n",
      "2024-03-05 17:57:56.494132: I external/local_tsl/tsl/framework/bfc_allocator.cc:1095] InUse at 69ba8f800 of size 1024 next 2057\n",
      "2024-03-05 17:57:56.494135: I external/local_tsl/tsl/framework/bfc_allocator.cc:1095] InUse at 69ba8fc00 of size 1024 next 2058\n",
      "2024-03-05 17:57:56.494139: I external/local_tsl/tsl/framework/bfc_allocator.cc:1095] InUse at 69ba90000 of size 1024 next 2059\n",
      "2024-03-05 17:57:56.494142: I external/local_tsl/tsl/framework/bfc_allocator.cc:1095] InUse at 69ba90400 of size 131072 next 2060\n",
      "2024-03-05 17:57:56.494146: I external/local_tsl/tsl/framework/bfc_allocator.cc:1095] InUse at 69bab0400 of size 131072 next 2061\n",
      "2024-03-05 17:57:56.494149: I external/local_tsl/tsl/framework/bfc_allocator.cc:1095] InUse at 69bad0400 of size 512 next 2062\n",
      "2024-03-05 17:57:56.494153: I external/local_tsl/tsl/framework/bfc_allocator.cc:1095] InUse at 69bad0600 of size 512 next 2063\n",
      "2024-03-05 17:57:56.494156: I external/local_tsl/tsl/framework/bfc_allocator.cc:1095] InUse at 69bad0800 of size 512 next 2064\n",
      "2024-03-05 17:57:56.494160: I external/local_tsl/tsl/framework/bfc_allocator.cc:1095] InUse at 69bad0a00 of size 512 next 2065\n",
      "2024-03-05 17:57:56.494164: I external/local_tsl/tsl/framework/bfc_allocator.cc:1095] InUse at 69bad0c00 of size 908288 next 1910\n",
      "2024-03-05 17:57:56.494167: I external/local_tsl/tsl/framework/bfc_allocator.cc:1095] InUse at 69bbae800 of size 2097152 next 1926\n",
      "2024-03-05 17:57:56.494171: I external/local_tsl/tsl/framework/bfc_allocator.cc:1095] InUse at 69bdae800 of size 6291456 next 1938\n",
      "2024-03-05 17:57:56.494175: I external/local_tsl/tsl/framework/bfc_allocator.cc:1095] InUse at 69c3ae800 of size 2097152 next 1918\n",
      "2024-03-05 17:57:56.494178: I external/local_tsl/tsl/framework/bfc_allocator.cc:1095] InUse at 69c5ae800 of size 512 next 2090\n",
      "2024-03-05 17:57:56.494182: I external/local_tsl/tsl/framework/bfc_allocator.cc:1095] InUse at 69c5aea00 of size 512 next 2091\n",
      "2024-03-05 17:57:56.494185: I external/local_tsl/tsl/framework/bfc_allocator.cc:1095] InUse at 69c5aec00 of size 512 next 2092\n",
      "2024-03-05 17:57:56.494189: I external/local_tsl/tsl/framework/bfc_allocator.cc:1095] InUse at 69c5aee00 of size 512 next 2093\n",
      "2024-03-05 17:57:56.494192: I external/local_tsl/tsl/framework/bfc_allocator.cc:1095] InUse at 69c5af000 of size 262144 next 2094\n",
      "2024-03-05 17:57:56.494196: I external/local_tsl/tsl/framework/bfc_allocator.cc:1095] InUse at 69c5ef000 of size 262144 next 2095\n",
      "2024-03-05 17:57:56.494199: I external/local_tsl/tsl/framework/bfc_allocator.cc:1095] InUse at 69c62f000 of size 2048 next 2096\n",
      "2024-03-05 17:57:56.494203: I external/local_tsl/tsl/framework/bfc_allocator.cc:1095] InUse at 69c62f800 of size 2048 next 2097\n",
      "2024-03-05 17:57:56.494206: I external/local_tsl/tsl/framework/bfc_allocator.cc:1095] InUse at 69c630000 of size 2048 next 2098\n",
      "2024-03-05 17:57:56.494209: I external/local_tsl/tsl/framework/bfc_allocator.cc:1095] InUse at 69c630800 of size 2048 next 2099\n",
      "2024-03-05 17:57:56.494213: I external/local_tsl/tsl/framework/bfc_allocator.cc:1095] InUse at 69c631000 of size 2048 next 2100\n",
      "2024-03-05 17:57:56.494216: I external/local_tsl/tsl/framework/bfc_allocator.cc:1095] InUse at 69c631800 of size 2048 next 2101\n",
      "2024-03-05 17:57:56.494220: I external/local_tsl/tsl/framework/bfc_allocator.cc:1095] InUse at 69c632000 of size 262144 next 2102\n",
      "2024-03-05 17:57:56.494223: I external/local_tsl/tsl/framework/bfc_allocator.cc:1095] InUse at 69c672000 of size 262144 next 2103\n",
      "2024-03-05 17:57:56.494227: I external/local_tsl/tsl/framework/bfc_allocator.cc:1095] InUse at 69c6b2000 of size 512 next 2104\n",
      "2024-03-05 17:57:56.494230: I external/local_tsl/tsl/framework/bfc_allocator.cc:1095] InUse at 69c6b2200 of size 512 next 2105\n",
      "2024-03-05 17:57:56.494234: I external/local_tsl/tsl/framework/bfc_allocator.cc:1095] InUse at 69c6b2400 of size 512 next 2106\n",
      "2024-03-05 17:57:56.494239: I external/local_tsl/tsl/framework/bfc_allocator.cc:1095] InUse at 69c6b2600 of size 512 next 2107\n",
      "2024-03-05 17:57:56.494265: I external/local_tsl/tsl/framework/bfc_allocator.cc:1095] InUse at 69c6b2800 of size 589824 next 2108\n",
      "2024-03-05 17:57:56.494274: I external/local_tsl/tsl/framework/bfc_allocator.cc:1095] InUse at 69c742800 of size 589824 next 2109\n",
      "2024-03-05 17:57:56.494280: I external/local_tsl/tsl/framework/bfc_allocator.cc:1095] InUse at 69c7d2800 of size 512 next 2110\n",
      "2024-03-05 17:57:56.494286: I external/local_tsl/tsl/framework/bfc_allocator.cc:1095] InUse at 69c7d2a00 of size 512 next 2111\n",
      "2024-03-05 17:57:56.494292: I external/local_tsl/tsl/framework/bfc_allocator.cc:1095] InUse at 69c7d2c00 of size 512 next 2112\n",
      "2024-03-05 17:57:56.494297: I external/local_tsl/tsl/framework/bfc_allocator.cc:1095] InUse at 69c7d2e00 of size 512 next 2113\n",
      "2024-03-05 17:57:56.494303: I external/local_tsl/tsl/framework/bfc_allocator.cc:1095] InUse at 69c7d3000 of size 262144 next 2114\n",
      "2024-03-05 17:57:56.494308: I external/local_tsl/tsl/framework/bfc_allocator.cc:1095] InUse at 69c813000 of size 262144 next 2115\n",
      "2024-03-05 17:57:56.500230: I external/local_tsl/tsl/framework/bfc_allocator.cc:1095] InUse at 69c853000 of size 2048 next 2116\n",
      "2024-03-05 17:57:56.500260: I external/local_tsl/tsl/framework/bfc_allocator.cc:1095] InUse at 69c853800 of size 2048 next 2117\n",
      "2024-03-05 17:57:56.500265: I external/local_tsl/tsl/framework/bfc_allocator.cc:1095] InUse at 69c854000 of size 2048 next 2118\n",
      "2024-03-05 17:57:56.500270: I external/local_tsl/tsl/framework/bfc_allocator.cc:1095] InUse at 69c854800 of size 2048 next 2119\n",
      "2024-03-05 17:57:56.500304: I external/local_tsl/tsl/framework/bfc_allocator.cc:1095] InUse at 69c855000 of size 2048 next 2120\n",
      "2024-03-05 17:57:56.500308: I external/local_tsl/tsl/framework/bfc_allocator.cc:1095] InUse at 69c855800 of size 2048 next 2121\n",
      "2024-03-05 17:57:56.500314: I external/local_tsl/tsl/framework/bfc_allocator.cc:1095] InUse at 69c856000 of size 262144 next 2122\n",
      "2024-03-05 17:57:56.500318: I external/local_tsl/tsl/framework/bfc_allocator.cc:1095] InUse at 69c896000 of size 262144 next 2123\n",
      "2024-03-05 17:57:56.500322: I external/local_tsl/tsl/framework/bfc_allocator.cc:1095] InUse at 69c8d6000 of size 512 next 2124\n",
      "2024-03-05 17:57:56.500326: I external/local_tsl/tsl/framework/bfc_allocator.cc:1095] InUse at 69c8d6200 of size 512 next 2125\n",
      "2024-03-05 17:57:56.500329: I external/local_tsl/tsl/framework/bfc_allocator.cc:1095] InUse at 69c8d6400 of size 512 next 2126\n",
      "2024-03-05 17:57:56.500333: I external/local_tsl/tsl/framework/bfc_allocator.cc:1095] InUse at 69c8d6600 of size 512 next 2127\n",
      "2024-03-05 17:57:56.500338: I external/local_tsl/tsl/framework/bfc_allocator.cc:1095] InUse at 69c8d6800 of size 589824 next 2128\n",
      "2024-03-05 17:57:56.500341: I external/local_tsl/tsl/framework/bfc_allocator.cc:1095] InUse at 69c966800 of size 589824 next 2129\n",
      "2024-03-05 17:57:56.500345: I external/local_tsl/tsl/framework/bfc_allocator.cc:1095] InUse at 69c9f6800 of size 512 next 2130\n",
      "2024-03-05 17:57:56.500348: I external/local_tsl/tsl/framework/bfc_allocator.cc:1095] InUse at 69c9f6a00 of size 512 next 2131\n",
      "2024-03-05 17:57:56.500352: I external/local_tsl/tsl/framework/bfc_allocator.cc:1095] InUse at 69c9f6c00 of size 512 next 2132\n",
      "2024-03-05 17:57:56.500356: I external/local_tsl/tsl/framework/bfc_allocator.cc:1095] InUse at 69c9f6e00 of size 512 next 2133\n",
      "2024-03-05 17:57:56.500359: I external/local_tsl/tsl/framework/bfc_allocator.cc:1095] InUse at 69c9f7000 of size 262144 next 2134\n",
      "2024-03-05 17:57:56.500362: I external/local_tsl/tsl/framework/bfc_allocator.cc:1095] InUse at 69ca37000 of size 262144 next 2135\n",
      "2024-03-05 17:57:56.500366: I external/local_tsl/tsl/framework/bfc_allocator.cc:1095] InUse at 69ca77000 of size 2048 next 2136\n",
      "2024-03-05 17:57:56.500369: I external/local_tsl/tsl/framework/bfc_allocator.cc:1095] InUse at 69ca77800 of size 2048 next 2137\n",
      "2024-03-05 17:57:56.500373: I external/local_tsl/tsl/framework/bfc_allocator.cc:1095] InUse at 69ca78000 of size 2048 next 2138\n",
      "2024-03-05 17:57:56.500376: I external/local_tsl/tsl/framework/bfc_allocator.cc:1095] InUse at 69ca78800 of size 2048 next 2139\n",
      "2024-03-05 17:57:56.500380: I external/local_tsl/tsl/framework/bfc_allocator.cc:1095] InUse at 69ca79000 of size 2048 next 2140\n",
      "2024-03-05 17:57:56.500384: I external/local_tsl/tsl/framework/bfc_allocator.cc:1095] InUse at 69ca79800 of size 2048 next 2141\n",
      "2024-03-05 17:57:56.500388: I external/local_tsl/tsl/framework/bfc_allocator.cc:1095] InUse at 69ca7a000 of size 524288 next 2142\n",
      "2024-03-05 17:57:56.500395: I external/local_tsl/tsl/framework/bfc_allocator.cc:1095] InUse at 69cafa000 of size 739328 next 1924\n",
      "2024-03-05 17:57:56.500403: I external/local_tsl/tsl/framework/bfc_allocator.cc:1095] InUse at 69cbae800 of size 12582912 next 1943\n",
      "2024-03-05 17:57:56.500407: I external/local_tsl/tsl/framework/bfc_allocator.cc:1095] InUse at 69d7ae800 of size 14680064 next 1931\n",
      "2024-03-05 17:57:56.500411: I external/local_tsl/tsl/framework/bfc_allocator.cc:1095] InUse at 69e5ae800 of size 4194304 next 1958\n",
      "2024-03-05 17:57:56.500415: I external/local_tsl/tsl/framework/bfc_allocator.cc:1095] InUse at 69e9ae800 of size 18630912 next 884\n",
      "2024-03-05 17:57:56.500420: I external/local_tsl/tsl/framework/bfc_allocator.cc:1095] InUse at 69fb73100 of size 2048 next 872\n",
      "2024-03-05 17:57:56.500426: I external/local_tsl/tsl/framework/bfc_allocator.cc:1095] InUse at 69fb73900 of size 165120000 next 1817\n",
      "2024-03-05 17:57:56.500430: I external/local_tsl/tsl/framework/bfc_allocator.cc:1095] InUse at 6a98ec100 of size 48148992 next 1200\n",
      "2024-03-05 17:57:56.500434: I external/local_tsl/tsl/framework/bfc_allocator.cc:1095] InUse at 6ac6d7300 of size 41280000 next 2365\n",
      "2024-03-05 17:57:56.500438: I external/local_tsl/tsl/framework/bfc_allocator.cc:1095] InUse at 6aee35500 of size 44648448 next 2372\n",
      "2024-03-05 17:57:56.500442: I external/local_tsl/tsl/framework/bfc_allocator.cc:1095] InUse at 6b18c9d00 of size 41280000 next 1792\n",
      "2024-03-05 17:57:56.500446: I external/local_tsl/tsl/framework/bfc_allocator.cc:1095] InUse at 6b4027f00 of size 64805376 next 782\n",
      "2024-03-05 17:57:56.500450: I external/local_tsl/tsl/framework/bfc_allocator.cc:1095] InUse at 6b7df5900 of size 4096 next 766\n",
      "2024-03-05 17:57:56.500455: I external/local_tsl/tsl/framework/bfc_allocator.cc:1095] InUse at 6b7df6900 of size 2097152 next 963\n",
      "2024-03-05 17:57:56.500459: I external/local_tsl/tsl/framework/bfc_allocator.cc:1095] InUse at 6b7ff6900 of size 7340032 next 987\n",
      "2024-03-05 17:57:56.500463: I external/local_tsl/tsl/framework/bfc_allocator.cc:1095] InUse at 6b86f6900 of size 9437184 next 986\n",
      "2024-03-05 17:57:56.500467: I external/local_tsl/tsl/framework/bfc_allocator.cc:1095] InUse at 6b8ff6900 of size 4194304 next 1009\n",
      "2024-03-05 17:57:56.500472: I external/local_tsl/tsl/framework/bfc_allocator.cc:1095] InUse at 6b93f6900 of size 5242880 next 1004\n",
      "2024-03-05 17:57:56.500475: I external/local_tsl/tsl/framework/bfc_allocator.cc:1095] InUse at 6b98f6900 of size 9437184 next 1003\n",
      "2024-03-05 17:57:56.500479: I external/local_tsl/tsl/framework/bfc_allocator.cc:1095] InUse at 6ba1f6900 of size 262144 next 1117\n",
      "2024-03-05 17:57:56.500483: I external/local_tsl/tsl/framework/bfc_allocator.cc:1095] InUse at 6ba236900 of size 262144 next 1123\n",
      "2024-03-05 17:57:56.500486: I external/local_tsl/tsl/framework/bfc_allocator.cc:1095] InUse at 6ba276900 of size 262144 next 1139\n",
      "2024-03-05 17:57:56.500492: I external/local_tsl/tsl/framework/bfc_allocator.cc:1095] InUse at 6ba2b6900 of size 262144 next 1105\n",
      "2024-03-05 17:57:56.500495: I external/local_tsl/tsl/framework/bfc_allocator.cc:1095] InUse at 6ba2f6900 of size 262144 next 1134\n",
      "2024-03-05 17:57:56.500499: I external/local_tsl/tsl/framework/bfc_allocator.cc:1095] InUse at 6ba336900 of size 524288 next 1133\n",
      "2024-03-05 17:57:56.500503: I external/local_tsl/tsl/framework/bfc_allocator.cc:1095] InUse at 6ba3b6900 of size 917504 next 1110\n",
      "2024-03-05 17:57:56.500506: I external/local_tsl/tsl/framework/bfc_allocator.cc:1095] InUse at 6ba496900 of size 262144 next 1148\n",
      "2024-03-05 17:57:56.500511: I external/local_tsl/tsl/framework/bfc_allocator.cc:1095] InUse at 6ba4d6900 of size 327680 next 1128\n",
      "2024-03-05 17:57:56.500515: I external/local_tsl/tsl/framework/bfc_allocator.cc:1095] InUse at 6ba526900 of size 851968 next 1024\n",
      "2024-03-05 17:57:56.500519: I external/local_tsl/tsl/framework/bfc_allocator.cc:1095] InUse at 6ba5f6900 of size 5242880 next 1019\n",
      "2024-03-05 17:57:56.500522: I external/local_tsl/tsl/framework/bfc_allocator.cc:1095] InUse at 6baaf6900 of size 589824 next 1437\n",
      "2024-03-05 17:57:56.500526: I external/local_tsl/tsl/framework/bfc_allocator.cc:1095] InUse at 6bab86900 of size 512 next 1438\n",
      "2024-03-05 17:57:56.500530: I external/local_tsl/tsl/framework/bfc_allocator.cc:1095] InUse at 6bab86b00 of size 512 next 1439\n",
      "2024-03-05 17:57:56.500533: I external/local_tsl/tsl/framework/bfc_allocator.cc:1095] InUse at 6bab86d00 of size 512 next 1440\n",
      "2024-03-05 17:57:56.500537: I external/local_tsl/tsl/framework/bfc_allocator.cc:1095] InUse at 6bab86f00 of size 512 next 1441\n",
      "2024-03-05 17:57:56.500540: I external/local_tsl/tsl/framework/bfc_allocator.cc:1095] InUse at 6bab87100 of size 262144 next 1442\n",
      "2024-03-05 17:57:56.500544: I external/local_tsl/tsl/framework/bfc_allocator.cc:1095] InUse at 6babc7100 of size 262144 next 1443\n",
      "2024-03-05 17:57:56.500548: I external/local_tsl/tsl/framework/bfc_allocator.cc:1095] InUse at 6bac07100 of size 2048 next 1444\n",
      "2024-03-05 17:57:56.500551: I external/local_tsl/tsl/framework/bfc_allocator.cc:1095] InUse at 6bac07900 of size 2048 next 1445\n",
      "2024-03-05 17:57:56.500555: I external/local_tsl/tsl/framework/bfc_allocator.cc:1095] InUse at 6bac08100 of size 2048 next 1446\n",
      "2024-03-05 17:57:56.500561: I external/local_tsl/tsl/framework/bfc_allocator.cc:1095] InUse at 6bac08900 of size 2048 next 1447\n",
      "2024-03-05 17:57:56.500566: I external/local_tsl/tsl/framework/bfc_allocator.cc:1095] InUse at 6bac09100 of size 2048 next 1448\n",
      "2024-03-05 17:57:56.500569: I external/local_tsl/tsl/framework/bfc_allocator.cc:1095] InUse at 6bac09900 of size 2048 next 1449\n",
      "2024-03-05 17:57:56.500573: I external/local_tsl/tsl/framework/bfc_allocator.cc:1095] InUse at 6bac0a100 of size 262144 next 1450\n",
      "2024-03-05 17:57:56.500576: I external/local_tsl/tsl/framework/bfc_allocator.cc:1095] InUse at 6bac4a100 of size 262144 next 1451\n",
      "2024-03-05 17:57:56.500580: I external/local_tsl/tsl/framework/bfc_allocator.cc:1095] InUse at 6bac8a100 of size 512 next 1452\n",
      "2024-03-05 17:57:56.500584: I external/local_tsl/tsl/framework/bfc_allocator.cc:1095] InUse at 6bac8a300 of size 512 next 1453\n",
      "2024-03-05 17:57:56.500587: I external/local_tsl/tsl/framework/bfc_allocator.cc:1095] InUse at 6bac8a500 of size 512 next 1454\n",
      "2024-03-05 17:57:56.500591: I external/local_tsl/tsl/framework/bfc_allocator.cc:1095] InUse at 6bac8a700 of size 512 next 1455\n",
      "2024-03-05 17:57:56.500594: I external/local_tsl/tsl/framework/bfc_allocator.cc:1095] InUse at 6bac8a900 of size 589824 next 1456\n",
      "2024-03-05 17:57:56.500598: I external/local_tsl/tsl/framework/bfc_allocator.cc:1095] InUse at 6bad1a900 of size 589824 next 1457\n",
      "2024-03-05 17:57:56.500601: I external/local_tsl/tsl/framework/bfc_allocator.cc:1095] InUse at 6badaa900 of size 512 next 1458\n",
      "2024-03-05 17:57:56.500605: I external/local_tsl/tsl/framework/bfc_allocator.cc:1095] InUse at 6badaab00 of size 512 next 1459\n",
      "2024-03-05 17:57:56.500610: I external/local_tsl/tsl/framework/bfc_allocator.cc:1095] InUse at 6badaad00 of size 512 next 1460\n",
      "2024-03-05 17:57:56.500615: I external/local_tsl/tsl/framework/bfc_allocator.cc:1095] InUse at 6badaaf00 of size 512 next 1461\n",
      "2024-03-05 17:57:56.500619: I external/local_tsl/tsl/framework/bfc_allocator.cc:1095] InUse at 6badab100 of size 262144 next 1462\n",
      "2024-03-05 17:57:56.500623: I external/local_tsl/tsl/framework/bfc_allocator.cc:1095] InUse at 6badeb100 of size 262144 next 1463\n",
      "2024-03-05 17:57:56.500627: I external/local_tsl/tsl/framework/bfc_allocator.cc:1095] InUse at 6bae2b100 of size 2048 next 1464\n",
      "2024-03-05 17:57:56.500630: I external/local_tsl/tsl/framework/bfc_allocator.cc:1095] InUse at 6bae2b900 of size 2048 next 1465\n",
      "2024-03-05 17:57:56.500634: I external/local_tsl/tsl/framework/bfc_allocator.cc:1095] InUse at 6bae2c100 of size 2048 next 1466\n",
      "2024-03-05 17:57:56.500637: I external/local_tsl/tsl/framework/bfc_allocator.cc:1095] InUse at 6bae2c900 of size 2048 next 1467\n",
      "2024-03-05 17:57:56.500641: I external/local_tsl/tsl/framework/bfc_allocator.cc:1095] InUse at 6bae2d100 of size 2048 next 1468\n",
      "2024-03-05 17:57:56.500644: I external/local_tsl/tsl/framework/bfc_allocator.cc:1095] InUse at 6bae2d900 of size 2048 next 1469\n",
      "2024-03-05 17:57:56.500648: I external/local_tsl/tsl/framework/bfc_allocator.cc:1095] InUse at 6bae2e100 of size 262144 next 1470\n",
      "2024-03-05 17:57:56.500651: I external/local_tsl/tsl/framework/bfc_allocator.cc:1095] InUse at 6bae6e100 of size 262144 next 1471\n",
      "2024-03-05 17:57:56.500655: I external/local_tsl/tsl/framework/bfc_allocator.cc:1095] InUse at 6baeae100 of size 512 next 1472\n",
      "2024-03-05 17:57:56.500659: I external/local_tsl/tsl/framework/bfc_allocator.cc:1095] InUse at 6baeae300 of size 512 next 1473\n",
      "2024-03-05 17:57:56.500664: I external/local_tsl/tsl/framework/bfc_allocator.cc:1095] InUse at 6baeae500 of size 512 next 1474\n",
      "2024-03-05 17:57:56.500668: I external/local_tsl/tsl/framework/bfc_allocator.cc:1095] InUse at 6baeae700 of size 512 next 1475\n",
      "2024-03-05 17:57:56.500671: I external/local_tsl/tsl/framework/bfc_allocator.cc:1095] InUse at 6baeae900 of size 589824 next 1476\n",
      "2024-03-05 17:57:56.500675: I external/local_tsl/tsl/framework/bfc_allocator.cc:1095] InUse at 6baf3e900 of size 589824 next 1477\n",
      "2024-03-05 17:57:56.500678: I external/local_tsl/tsl/framework/bfc_allocator.cc:1095] InUse at 6bafce900 of size 512 next 1478\n",
      "2024-03-05 17:57:56.500682: I external/local_tsl/tsl/framework/bfc_allocator.cc:1095] InUse at 6bafceb00 of size 512 next 1479\n",
      "2024-03-05 17:57:56.500685: I external/local_tsl/tsl/framework/bfc_allocator.cc:1095] InUse at 6bafced00 of size 512 next 1480\n",
      "2024-03-05 17:57:56.500689: I external/local_tsl/tsl/framework/bfc_allocator.cc:1095] InUse at 6bafcef00 of size 512 next 1481\n",
      "2024-03-05 17:57:56.500692: I external/local_tsl/tsl/framework/bfc_allocator.cc:1095] InUse at 6bafcf100 of size 262144 next 1482\n",
      "2024-03-05 17:57:56.500696: I external/local_tsl/tsl/framework/bfc_allocator.cc:1095] InUse at 6bb00f100 of size 262144 next 1483\n",
      "2024-03-05 17:57:56.500700: I external/local_tsl/tsl/framework/bfc_allocator.cc:1095] InUse at 6bb04f100 of size 2048 next 1484\n",
      "2024-03-05 17:57:56.500704: I external/local_tsl/tsl/framework/bfc_allocator.cc:1095] InUse at 6bb04f900 of size 2048 next 1485\n",
      "2024-03-05 17:57:56.500708: I external/local_tsl/tsl/framework/bfc_allocator.cc:1095] InUse at 6bb050100 of size 2048 next 1486\n",
      "2024-03-05 17:57:56.500711: I external/local_tsl/tsl/framework/bfc_allocator.cc:1095] InUse at 6bb050900 of size 2048 next 1487\n",
      "2024-03-05 17:57:56.500715: I external/local_tsl/tsl/framework/bfc_allocator.cc:1095] InUse at 6bb051100 of size 2048 next 1488\n",
      "2024-03-05 17:57:56.500718: I external/local_tsl/tsl/framework/bfc_allocator.cc:1095] InUse at 6bb051900 of size 2048 next 1489\n",
      "2024-03-05 17:57:56.500722: I external/local_tsl/tsl/framework/bfc_allocator.cc:1095] InUse at 6bb052100 of size 935936 next 1185\n",
      "2024-03-05 17:57:56.500727: I external/local_tsl/tsl/framework/bfc_allocator.cc:1095] InUse at 6bb136900 of size 1048576 next 1184\n",
      "2024-03-05 17:57:56.500731: I external/local_tsl/tsl/framework/bfc_allocator.cc:1095] InUse at 6bb236900 of size 1835008 next 1018\n",
      "2024-03-05 17:57:56.500735: I external/local_tsl/tsl/framework/bfc_allocator.cc:1095] InUse at 6bb3f6900 of size 9437184 next 999\n",
      "2024-03-05 17:57:56.500739: I external/local_tsl/tsl/framework/bfc_allocator.cc:1095] InUse at 6bbcf6900 of size 2359296 next 1226\n",
      "2024-03-05 17:57:56.500743: I external/local_tsl/tsl/framework/bfc_allocator.cc:1095] InUse at 6bbf36900 of size 1048576 next 1246\n",
      "2024-03-05 17:57:56.500748: I external/local_tsl/tsl/framework/bfc_allocator.cc:1095] InUse at 6bc036900 of size 1310720 next 1241\n",
      "2024-03-05 17:57:56.500752: I external/local_tsl/tsl/framework/bfc_allocator.cc:1095] InUse at 6bc176900 of size 2359296 next 1240\n",
      "2024-03-05 17:57:56.500756: I external/local_tsl/tsl/framework/bfc_allocator.cc:1095] InUse at 6bc3b6900 of size 147456 next 1375\n",
      "2024-03-05 17:57:56.500760: I external/local_tsl/tsl/framework/bfc_allocator.cc:1095] InUse at 6bc3da900 of size 256 next 1376\n",
      "2024-03-05 17:57:56.500763: I external/local_tsl/tsl/framework/bfc_allocator.cc:1095] InUse at 6bc3daa00 of size 256 next 1377\n",
      "2024-03-05 17:57:56.500768: I external/local_tsl/tsl/framework/bfc_allocator.cc:1095] InUse at 6bc3dab00 of size 256 next 1378\n",
      "2024-03-05 17:57:56.500772: I external/local_tsl/tsl/framework/bfc_allocator.cc:1095] InUse at 6bc3dac00 of size 256 next 1379\n",
      "2024-03-05 17:57:56.500777: I external/local_tsl/tsl/framework/bfc_allocator.cc:1095] InUse at 6bc3dad00 of size 65536 next 1380\n",
      "2024-03-05 17:57:56.500786: I external/local_tsl/tsl/framework/bfc_allocator.cc:1095] InUse at 6bc3ead00 of size 65536 next 1381\n",
      "2024-03-05 17:57:56.500790: I external/local_tsl/tsl/framework/bfc_allocator.cc:1095] InUse at 6bc3fad00 of size 1024 next 1382\n",
      "2024-03-05 17:57:56.500793: I external/local_tsl/tsl/framework/bfc_allocator.cc:1095] InUse at 6bc3fb100 of size 1024 next 1383\n",
      "2024-03-05 17:57:56.500797: I external/local_tsl/tsl/framework/bfc_allocator.cc:1095] InUse at 6bc3fb500 of size 1024 next 1384\n",
      "2024-03-05 17:57:56.500801: I external/local_tsl/tsl/framework/bfc_allocator.cc:1095] InUse at 6bc3fb900 of size 1024 next 1385\n",
      "2024-03-05 17:57:56.500805: I external/local_tsl/tsl/framework/bfc_allocator.cc:1095] InUse at 6bc3fbd00 of size 1024 next 1386\n",
      "2024-03-05 17:57:56.500808: I external/local_tsl/tsl/framework/bfc_allocator.cc:1095] InUse at 6bc3fc100 of size 1024 next 1387\n",
      "2024-03-05 17:57:56.500812: I external/local_tsl/tsl/framework/bfc_allocator.cc:1095] InUse at 6bc3fc500 of size 65536 next 1388\n",
      "2024-03-05 17:57:56.500816: I external/local_tsl/tsl/framework/bfc_allocator.cc:1095] InUse at 6bc40c500 of size 65536 next 1389\n",
      "2024-03-05 17:57:56.500820: I external/local_tsl/tsl/framework/bfc_allocator.cc:1095] InUse at 6bc41c500 of size 256 next 1390\n",
      "2024-03-05 17:57:56.500825: I external/local_tsl/tsl/framework/bfc_allocator.cc:1095] InUse at 6bc41c600 of size 256 next 1391\n",
      "2024-03-05 17:57:56.500829: I external/local_tsl/tsl/framework/bfc_allocator.cc:1095] InUse at 6bc41c700 of size 256 next 1392\n",
      "2024-03-05 17:57:56.500834: I external/local_tsl/tsl/framework/bfc_allocator.cc:1095] InUse at 6bc41c800 of size 256 next 1393\n",
      "2024-03-05 17:57:56.500840: I external/local_tsl/tsl/framework/bfc_allocator.cc:1095] InUse at 6bc41c900 of size 147456 next 1394\n",
      "2024-03-05 17:57:56.500845: I external/local_tsl/tsl/framework/bfc_allocator.cc:1095] InUse at 6bc440900 of size 147456 next 1395\n",
      "2024-03-05 17:57:56.500850: I external/local_tsl/tsl/framework/bfc_allocator.cc:1095] InUse at 6bc464900 of size 256 next 1396\n",
      "2024-03-05 17:57:56.500855: I external/local_tsl/tsl/framework/bfc_allocator.cc:1095] InUse at 6bc464a00 of size 256 next 1397\n",
      "2024-03-05 17:57:56.500860: I external/local_tsl/tsl/framework/bfc_allocator.cc:1095] InUse at 6bc464b00 of size 256 next 1398\n",
      "2024-03-05 17:57:56.500865: I external/local_tsl/tsl/framework/bfc_allocator.cc:1095] InUse at 6bc464c00 of size 256 next 1399\n",
      "2024-03-05 17:57:56.500869: I external/local_tsl/tsl/framework/bfc_allocator.cc:1095] InUse at 6bc464d00 of size 65536 next 1400\n",
      "2024-03-05 17:57:56.500873: I external/local_tsl/tsl/framework/bfc_allocator.cc:1095] InUse at 6bc474d00 of size 65536 next 1401\n",
      "2024-03-05 17:57:56.500877: I external/local_tsl/tsl/framework/bfc_allocator.cc:1095] InUse at 6bc484d00 of size 1024 next 1402\n",
      "2024-03-05 17:57:56.500881: I external/local_tsl/tsl/framework/bfc_allocator.cc:1095] InUse at 6bc485100 of size 1024 next 1403\n",
      "2024-03-05 17:57:56.500885: I external/local_tsl/tsl/framework/bfc_allocator.cc:1095] InUse at 6bc485500 of size 1024 next 1404\n",
      "2024-03-05 17:57:56.500889: I external/local_tsl/tsl/framework/bfc_allocator.cc:1095] InUse at 6bc485900 of size 1024 next 1405\n",
      "2024-03-05 17:57:56.500892: I external/local_tsl/tsl/framework/bfc_allocator.cc:1095] InUse at 6bc485d00 of size 1024 next 1406\n",
      "2024-03-05 17:57:56.500897: I external/local_tsl/tsl/framework/bfc_allocator.cc:1095] InUse at 6bc486100 of size 1024 next 1407\n",
      "2024-03-05 17:57:56.500904: I external/local_tsl/tsl/framework/bfc_allocator.cc:1095] InUse at 6bc486500 of size 197632 next 1262\n",
      "2024-03-05 17:57:56.500908: I external/local_tsl/tsl/framework/bfc_allocator.cc:1095] InUse at 6bc4b6900 of size 1310720 next 1257\n",
      "2024-03-05 17:57:56.500912: I external/local_tsl/tsl/framework/bfc_allocator.cc:1095] InUse at 6bc5f6900 of size 2359296 next 1256\n",
      "2024-03-05 17:57:56.500916: I external/local_tsl/tsl/framework/bfc_allocator.cc:1095] InUse at 6bc836900 of size 2097152 next 1271\n",
      "2024-03-05 17:57:56.500920: I external/local_tsl/tsl/framework/bfc_allocator.cc:1095] InUse at 6bca36900 of size 6291456 next 1283\n",
      "2024-03-05 17:57:56.500924: I external/local_tsl/tsl/framework/bfc_allocator.cc:1095] InUse at 6bd036900 of size 4194304 next 1299\n",
      "2024-03-05 17:57:56.500928: I external/local_tsl/tsl/framework/bfc_allocator.cc:1095] InUse at 6bd436900 of size 4194304 next 1270\n",
      "2024-03-05 17:57:56.500931: I external/local_tsl/tsl/framework/bfc_allocator.cc:1095] InUse at 6bd836900 of size 11843584 next 807\n",
      "2024-03-05 17:57:56.500935: I external/local_tsl/tsl/framework/bfc_allocator.cc:1095] InUse at 6be382100 of size 2048 next 359\n",
      "2024-03-05 17:57:56.500939: I external/local_tsl/tsl/framework/bfc_allocator.cc:1095] InUse at 6be382900 of size 4194304 next 1946\n",
      "2024-03-05 17:57:56.500943: I external/local_tsl/tsl/framework/bfc_allocator.cc:1095] InUse at 6be782900 of size 5242880 next 1948\n",
      "2024-03-05 17:57:56.500946: I external/local_tsl/tsl/framework/bfc_allocator.cc:1095] InUse at 6bec82900 of size 589824 next 2066\n",
      "2024-03-05 17:57:56.500950: I external/local_tsl/tsl/framework/bfc_allocator.cc:1095] InUse at 6bed12900 of size 512 next 2067\n",
      "2024-03-05 17:57:56.500954: I external/local_tsl/tsl/framework/bfc_allocator.cc:1095] InUse at 6bed12b00 of size 512 next 2068\n",
      "2024-03-05 17:57:56.500958: I external/local_tsl/tsl/framework/bfc_allocator.cc:1095] InUse at 6bed12d00 of size 512 next 2069\n",
      "2024-03-05 17:57:56.500961: I external/local_tsl/tsl/framework/bfc_allocator.cc:1095] InUse at 6bed12f00 of size 512 next 2070\n",
      "2024-03-05 17:57:56.500965: I external/local_tsl/tsl/framework/bfc_allocator.cc:1095] InUse at 6bed13100 of size 524288 next 2071\n",
      "2024-03-05 17:57:56.500968: I external/local_tsl/tsl/framework/bfc_allocator.cc:1095] InUse at 6bed93100 of size 524288 next 2072\n",
      "2024-03-05 17:57:56.500972: I external/local_tsl/tsl/framework/bfc_allocator.cc:1095] InUse at 6bee13100 of size 2048 next 2073\n",
      "2024-03-05 17:57:56.500975: I external/local_tsl/tsl/framework/bfc_allocator.cc:1095] InUse at 6bee13900 of size 2048 next 2074\n",
      "2024-03-05 17:57:56.500979: I external/local_tsl/tsl/framework/bfc_allocator.cc:1095] InUse at 6bee14100 of size 262144 next 2075\n",
      "2024-03-05 17:57:56.500982: I external/local_tsl/tsl/framework/bfc_allocator.cc:1095] InUse at 6bee54100 of size 262144 next 2076\n",
      "2024-03-05 17:57:56.500986: I external/local_tsl/tsl/framework/bfc_allocator.cc:1095] InUse at 6bee94100 of size 2048 next 2077\n",
      "2024-03-05 17:57:56.500989: I external/local_tsl/tsl/framework/bfc_allocator.cc:1095] InUse at 6bee94900 of size 2048 next 2078\n",
      "2024-03-05 17:57:56.500992: I external/local_tsl/tsl/framework/bfc_allocator.cc:1095] InUse at 6bee95100 of size 2048 next 2079\n",
      "2024-03-05 17:57:56.500996: I external/local_tsl/tsl/framework/bfc_allocator.cc:1095] InUse at 6bee95900 of size 2048 next 2080\n",
      "2024-03-05 17:57:56.500999: I external/local_tsl/tsl/framework/bfc_allocator.cc:1095] InUse at 6bee96100 of size 2048 next 2081\n",
      "2024-03-05 17:57:56.501003: I external/local_tsl/tsl/framework/bfc_allocator.cc:1095] InUse at 6bee96900 of size 2048 next 2082\n",
      "2024-03-05 17:57:56.501006: I external/local_tsl/tsl/framework/bfc_allocator.cc:1095] InUse at 6bee97100 of size 262144 next 2083\n",
      "2024-03-05 17:57:56.501009: I external/local_tsl/tsl/framework/bfc_allocator.cc:1095] InUse at 6beed7100 of size 262144 next 2084\n",
      "2024-03-05 17:57:56.501013: I external/local_tsl/tsl/framework/bfc_allocator.cc:1095] InUse at 6bef17100 of size 512 next 2085\n",
      "2024-03-05 17:57:56.501016: I external/local_tsl/tsl/framework/bfc_allocator.cc:1095] InUse at 6bef17300 of size 512 next 2086\n",
      "2024-03-05 17:57:56.501035: I external/local_tsl/tsl/framework/bfc_allocator.cc:1095] InUse at 6bef17500 of size 512 next 2087\n",
      "2024-03-05 17:57:56.501041: I external/local_tsl/tsl/framework/bfc_allocator.cc:1095] InUse at 6bef17700 of size 512 next 2088\n",
      "2024-03-05 17:57:56.501045: I external/local_tsl/tsl/framework/bfc_allocator.cc:1095] InUse at 6bef17900 of size 589824 next 2089\n",
      "2024-03-05 17:57:56.501050: I external/local_tsl/tsl/framework/bfc_allocator.cc:1095] InUse at 6befa7900 of size 897024 next 1969\n",
      "2024-03-05 17:57:56.501057: I external/local_tsl/tsl/framework/bfc_allocator.cc:1095] InUse at 6bf082900 of size 5242880 next 1964\n",
      "2024-03-05 17:57:56.501061: I external/local_tsl/tsl/framework/bfc_allocator.cc:1095] InUse at 6bf582900 of size 1024 next 2143\n",
      "2024-03-05 17:57:56.501066: I external/local_tsl/tsl/framework/bfc_allocator.cc:1095] InUse at 6bf582d00 of size 1024 next 2144\n",
      "2024-03-05 17:57:56.501069: I external/local_tsl/tsl/framework/bfc_allocator.cc:1095] InUse at 6bf583100 of size 1024 next 2145\n",
      "2024-03-05 17:57:56.501073: I external/local_tsl/tsl/framework/bfc_allocator.cc:1095] InUse at 6bf583500 of size 1024 next 2146\n",
      "2024-03-05 17:57:56.501076: I external/local_tsl/tsl/framework/bfc_allocator.cc:1095] InUse at 6bf583900 of size 2359296 next 2147\n",
      "2024-03-05 17:57:56.501080: I external/local_tsl/tsl/framework/bfc_allocator.cc:1095] InUse at 6bf7c3900 of size 2359296 next 2148\n",
      "2024-03-05 17:57:56.501083: I external/local_tsl/tsl/framework/bfc_allocator.cc:1095] InUse at 6bfa03900 of size 1024 next 2149\n",
      "2024-03-05 17:57:56.501087: I external/local_tsl/tsl/framework/bfc_allocator.cc:1095] InUse at 6bfa03d00 of size 1024 next 2150\n",
      "2024-03-05 17:57:56.501090: I external/local_tsl/tsl/framework/bfc_allocator.cc:1095] InUse at 6bfa04100 of size 1024 next 2151\n",
      "2024-03-05 17:57:56.501094: I external/local_tsl/tsl/framework/bfc_allocator.cc:1095] InUse at 6bfa04500 of size 1024 next 2152\n",
      "2024-03-05 17:57:56.501097: I external/local_tsl/tsl/framework/bfc_allocator.cc:1095] InUse at 6bfa04900 of size 2097152 next 2153\n",
      "2024-03-05 17:57:56.501101: I external/local_tsl/tsl/framework/bfc_allocator.cc:1095] InUse at 6bfc04900 of size 2613248 next 1963\n",
      "2024-03-05 17:57:56.501105: I external/local_tsl/tsl/framework/bfc_allocator.cc:1095] InUse at 6bfe82900 of size 9437184 next 1959\n",
      "2024-03-05 17:57:56.501108: I external/local_tsl/tsl/framework/bfc_allocator.cc:1095] InUse at 6c0782900 of size 4096 next 2154\n",
      "2024-03-05 17:57:56.501112: I external/local_tsl/tsl/framework/bfc_allocator.cc:1095] InUse at 6c0783900 of size 4096 next 2155\n",
      "2024-03-05 17:57:56.501115: I external/local_tsl/tsl/framework/bfc_allocator.cc:1095] InUse at 6c0784900 of size 1048576 next 2156\n",
      "2024-03-05 17:57:56.501119: I external/local_tsl/tsl/framework/bfc_allocator.cc:1095] InUse at 6c0884900 of size 1048576 next 2157\n",
      "2024-03-05 17:57:56.501122: I external/local_tsl/tsl/framework/bfc_allocator.cc:1095] InUse at 6c0984900 of size 4096 next 2158\n",
      "2024-03-05 17:57:56.501126: I external/local_tsl/tsl/framework/bfc_allocator.cc:1095] InUse at 6c0985900 of size 4096 next 2159\n",
      "2024-03-05 17:57:56.501129: I external/local_tsl/tsl/framework/bfc_allocator.cc:1095] InUse at 6c0986900 of size 4096 next 2160\n",
      "2024-03-05 17:57:56.501132: I external/local_tsl/tsl/framework/bfc_allocator.cc:1095] InUse at 6c0987900 of size 4096 next 2161\n",
      "2024-03-05 17:57:56.501136: I external/local_tsl/tsl/framework/bfc_allocator.cc:1095] InUse at 6c0988900 of size 4096 next 2162\n",
      "2024-03-05 17:57:56.501139: I external/local_tsl/tsl/framework/bfc_allocator.cc:1095] InUse at 6c0989900 of size 4096 next 2163\n",
      "2024-03-05 17:57:56.501143: I external/local_tsl/tsl/framework/bfc_allocator.cc:1095] InUse at 6c098a900 of size 1048576 next 2164\n",
      "2024-03-05 17:57:56.501146: I external/local_tsl/tsl/framework/bfc_allocator.cc:1095] InUse at 6c0a8a900 of size 1048576 next 2165\n",
      "2024-03-05 17:57:56.501150: I external/local_tsl/tsl/framework/bfc_allocator.cc:1095] InUse at 6c0b8a900 of size 1024 next 2166\n",
      "2024-03-05 17:57:56.501153: I external/local_tsl/tsl/framework/bfc_allocator.cc:1095] InUse at 6c0b8ad00 of size 1024 next 2167\n",
      "2024-03-05 17:57:56.501157: I external/local_tsl/tsl/framework/bfc_allocator.cc:1095] InUse at 6c0b8b100 of size 1024 next 2168\n",
      "2024-03-05 17:57:56.501160: I external/local_tsl/tsl/framework/bfc_allocator.cc:1095] InUse at 6c0b8b500 of size 1024 next 2169\n",
      "2024-03-05 17:57:56.501164: I external/local_tsl/tsl/framework/bfc_allocator.cc:1095] InUse at 6c0b8b900 of size 2359296 next 2170\n",
      "2024-03-05 17:57:56.501168: I external/local_tsl/tsl/framework/bfc_allocator.cc:1095] InUse at 6c0dcb900 of size 2359296 next 2171\n",
      "2024-03-05 17:57:56.501171: I external/local_tsl/tsl/framework/bfc_allocator.cc:1095] InUse at 6c100b900 of size 1024 next 2172\n",
      "2024-03-05 17:57:56.501175: I external/local_tsl/tsl/framework/bfc_allocator.cc:1095] InUse at 6c100bd00 of size 1024 next 2173\n",
      "2024-03-05 17:57:56.501178: I external/local_tsl/tsl/framework/bfc_allocator.cc:1095] InUse at 6c100c100 of size 1024 next 2174\n",
      "2024-03-05 17:57:56.501181: I external/local_tsl/tsl/framework/bfc_allocator.cc:1095] InUse at 6c100c500 of size 1024 next 2175\n",
      "2024-03-05 17:57:56.501185: I external/local_tsl/tsl/framework/bfc_allocator.cc:1095] InUse at 6c100c900 of size 1048576 next 2176\n",
      "2024-03-05 17:57:56.501188: I external/local_tsl/tsl/framework/bfc_allocator.cc:1095] InUse at 6c110c900 of size 1048576 next 2177\n",
      "2024-03-05 17:57:56.501192: I external/local_tsl/tsl/framework/bfc_allocator.cc:1095] InUse at 6c120c900 of size 4096 next 2178\n",
      "2024-03-05 17:57:56.501195: I external/local_tsl/tsl/framework/bfc_allocator.cc:1095] InUse at 6c120d900 of size 4096 next 2179\n",
      "2024-03-05 17:57:56.501199: I external/local_tsl/tsl/framework/bfc_allocator.cc:1095] InUse at 6c120e900 of size 4096 next 2180\n",
      "2024-03-05 17:57:56.501202: I external/local_tsl/tsl/framework/bfc_allocator.cc:1095] InUse at 6c120f900 of size 4096 next 2181\n",
      "2024-03-05 17:57:56.501205: I external/local_tsl/tsl/framework/bfc_allocator.cc:1095] InUse at 6c1210900 of size 4096 next 2182\n",
      "2024-03-05 17:57:56.501209: I external/local_tsl/tsl/framework/bfc_allocator.cc:1095] InUse at 6c1211900 of size 4096 next 2183\n",
      "2024-03-05 17:57:56.501212: I external/local_tsl/tsl/framework/bfc_allocator.cc:1095] InUse at 6c1212900 of size 1048576 next 2184\n",
      "2024-03-05 17:57:56.501216: I external/local_tsl/tsl/framework/bfc_allocator.cc:1095] InUse at 6c1312900 of size 1048576 next 2185\n",
      "2024-03-05 17:57:56.501219: I external/local_tsl/tsl/framework/bfc_allocator.cc:1095] InUse at 6c1412900 of size 1024 next 2186\n",
      "2024-03-05 17:57:56.501223: I external/local_tsl/tsl/framework/bfc_allocator.cc:1095] InUse at 6c1412d00 of size 1024 next 2187\n",
      "2024-03-05 17:57:56.501226: I external/local_tsl/tsl/framework/bfc_allocator.cc:1095] InUse at 6c1413100 of size 1024 next 2188\n",
      "2024-03-05 17:57:56.501229: I external/local_tsl/tsl/framework/bfc_allocator.cc:1095] InUse at 6c1413500 of size 1024 next 2189\n",
      "2024-03-05 17:57:56.501233: I external/local_tsl/tsl/framework/bfc_allocator.cc:1095] InUse at 6c1413900 of size 2359296 next 2190\n",
      "2024-03-05 17:57:56.501236: I external/local_tsl/tsl/framework/bfc_allocator.cc:1095] InUse at 6c1653900 of size 2359296 next 2191\n",
      "2024-03-05 17:57:56.501240: I external/local_tsl/tsl/framework/bfc_allocator.cc:1095] InUse at 6c1893900 of size 1024 next 2192\n",
      "2024-03-05 17:57:56.501244: I external/local_tsl/tsl/framework/bfc_allocator.cc:1095] InUse at 6c1893d00 of size 1024 next 2193\n",
      "2024-03-05 17:57:56.501248: I external/local_tsl/tsl/framework/bfc_allocator.cc:1095] InUse at 6c1894100 of size 1024 next 2194\n",
      "2024-03-05 17:57:56.501251: I external/local_tsl/tsl/framework/bfc_allocator.cc:1095] InUse at 6c1894500 of size 1024 next 2195\n",
      "2024-03-05 17:57:56.501254: I external/local_tsl/tsl/framework/bfc_allocator.cc:1095] InUse at 6c1894900 of size 1048576 next 2196\n",
      "2024-03-05 17:57:56.501258: I external/local_tsl/tsl/framework/bfc_allocator.cc:1095] InUse at 6c1994900 of size 1048576 next 2197\n",
      "2024-03-05 17:57:56.501261: I external/local_tsl/tsl/framework/bfc_allocator.cc:1095] InUse at 6c1a94900 of size 4096 next 2198\n",
      "2024-03-05 17:57:56.501265: I external/local_tsl/tsl/framework/bfc_allocator.cc:1095] InUse at 6c1a95900 of size 4096 next 2199\n",
      "2024-03-05 17:57:56.501268: I external/local_tsl/tsl/framework/bfc_allocator.cc:1095] InUse at 6c1a96900 of size 4096 next 2200\n",
      "2024-03-05 17:57:56.501303: I external/local_tsl/tsl/framework/bfc_allocator.cc:1095] InUse at 6c1a97900 of size 4096 next 2201\n",
      "2024-03-05 17:57:56.501311: I external/local_tsl/tsl/framework/bfc_allocator.cc:1095] InUse at 6c1a98900 of size 4096 next 2202\n",
      "2024-03-05 17:57:56.501315: I external/local_tsl/tsl/framework/bfc_allocator.cc:1095] InUse at 6c1a99900 of size 4096 next 2203\n",
      "2024-03-05 17:57:56.501318: I external/local_tsl/tsl/framework/bfc_allocator.cc:1095] InUse at 6c1a9a900 of size 1048576 next 2204\n",
      "2024-03-05 17:57:56.501322: I external/local_tsl/tsl/framework/bfc_allocator.cc:1095] InUse at 6c1b9a900 of size 1048576 next 2205\n",
      "2024-03-05 17:57:56.501327: I external/local_tsl/tsl/framework/bfc_allocator.cc:1095] InUse at 6c1c9a900 of size 1024 next 2206\n",
      "2024-03-05 17:57:56.501331: I external/local_tsl/tsl/framework/bfc_allocator.cc:1095] InUse at 6c1c9ad00 of size 1024 next 2207\n",
      "2024-03-05 17:57:56.501336: I external/local_tsl/tsl/framework/bfc_allocator.cc:1095] InUse at 6c1c9b100 of size 1024 next 2208\n",
      "2024-03-05 17:57:56.501340: I external/local_tsl/tsl/framework/bfc_allocator.cc:1095] InUse at 6c1c9b500 of size 1024 next 2209\n",
      "2024-03-05 17:57:56.501344: I external/local_tsl/tsl/framework/bfc_allocator.cc:1095] InUse at 6c1c9b900 of size 2359296 next 2210\n",
      "2024-03-05 17:57:56.501347: I external/local_tsl/tsl/framework/bfc_allocator.cc:1095] InUse at 6c1edb900 of size 2359296 next 2211\n",
      "2024-03-05 17:57:56.501351: I external/local_tsl/tsl/framework/bfc_allocator.cc:1095] InUse at 6c211b900 of size 1024 next 2212\n",
      "2024-03-05 17:57:56.501354: I external/local_tsl/tsl/framework/bfc_allocator.cc:1095] InUse at 6c211bd00 of size 1024 next 2213\n",
      "2024-03-05 17:57:56.501357: I external/local_tsl/tsl/framework/bfc_allocator.cc:1095] InUse at 6c211c100 of size 1024 next 2214\n",
      "2024-03-05 17:57:56.501361: I external/local_tsl/tsl/framework/bfc_allocator.cc:1095] InUse at 6c211c500 of size 1024 next 2215\n",
      "2024-03-05 17:57:56.501364: I external/local_tsl/tsl/framework/bfc_allocator.cc:1095] InUse at 6c211c900 of size 1048576 next 2216\n",
      "2024-03-05 17:57:56.501368: I external/local_tsl/tsl/framework/bfc_allocator.cc:1095] InUse at 6c221c900 of size 1048576 next 2217\n",
      "2024-03-05 17:57:56.501371: I external/local_tsl/tsl/framework/bfc_allocator.cc:1095] InUse at 6c231c900 of size 4096 next 2218\n",
      "2024-03-05 17:57:56.501374: I external/local_tsl/tsl/framework/bfc_allocator.cc:1095] InUse at 6c231d900 of size 4096 next 2219\n",
      "2024-03-05 17:57:56.501378: I external/local_tsl/tsl/framework/bfc_allocator.cc:1095] InUse at 6c231e900 of size 4096 next 2220\n",
      "2024-03-05 17:57:56.501381: I external/local_tsl/tsl/framework/bfc_allocator.cc:1095] InUse at 6c231f900 of size 4096 next 2221\n",
      "2024-03-05 17:57:56.501385: I external/local_tsl/tsl/framework/bfc_allocator.cc:1095] InUse at 6c2320900 of size 4096 next 2222\n",
      "2024-03-05 17:57:56.501388: I external/local_tsl/tsl/framework/bfc_allocator.cc:1095] InUse at 6c2321900 of size 4096 next 2223\n",
      "2024-03-05 17:57:56.501391: I external/local_tsl/tsl/framework/bfc_allocator.cc:1095] InUse at 6c2322900 of size 1048576 next 2224\n",
      "2024-03-05 17:57:56.501395: I external/local_tsl/tsl/framework/bfc_allocator.cc:1095] InUse at 6c2422900 of size 1048576 next 2225\n",
      "2024-03-05 17:57:56.501398: I external/local_tsl/tsl/framework/bfc_allocator.cc:1095] InUse at 6c2522900 of size 1024 next 2226\n",
      "2024-03-05 17:57:56.501402: I external/local_tsl/tsl/framework/bfc_allocator.cc:1095] InUse at 6c2522d00 of size 1024 next 2227\n",
      "2024-03-05 17:57:56.501405: I external/local_tsl/tsl/framework/bfc_allocator.cc:1095] InUse at 6c2523100 of size 1024 next 2228\n",
      "2024-03-05 17:57:56.501409: I external/local_tsl/tsl/framework/bfc_allocator.cc:1095] InUse at 6c2523500 of size 1024 next 2229\n",
      "2024-03-05 17:57:56.501412: I external/local_tsl/tsl/framework/bfc_allocator.cc:1095] InUse at 6c2523900 of size 2359296 next 2230\n",
      "2024-03-05 17:57:56.501415: I external/local_tsl/tsl/framework/bfc_allocator.cc:1095] InUse at 6c2763900 of size 2359296 next 2231\n",
      "2024-03-05 17:57:56.501419: I external/local_tsl/tsl/framework/bfc_allocator.cc:1095] InUse at 6c29a3900 of size 1024 next 2232\n",
      "2024-03-05 17:57:56.501423: I external/local_tsl/tsl/framework/bfc_allocator.cc:1095] InUse at 6c29a3d00 of size 1024 next 2233\n",
      "2024-03-05 17:57:56.501426: I external/local_tsl/tsl/framework/bfc_allocator.cc:1095] InUse at 6c29a4100 of size 1024 next 2234\n",
      "2024-03-05 17:57:56.501429: I external/local_tsl/tsl/framework/bfc_allocator.cc:1095] InUse at 6c29a4500 of size 1024 next 2235\n",
      "2024-03-05 17:57:56.501433: I external/local_tsl/tsl/framework/bfc_allocator.cc:1095] InUse at 6c29a4900 of size 1048576 next 2236\n",
      "2024-03-05 17:57:56.501436: I external/local_tsl/tsl/framework/bfc_allocator.cc:1095] InUse at 6c2aa4900 of size 1048576 next 2237\n",
      "2024-03-05 17:57:56.501440: I external/local_tsl/tsl/framework/bfc_allocator.cc:1095] InUse at 6c2ba4900 of size 4096 next 2238\n",
      "2024-03-05 17:57:56.501443: I external/local_tsl/tsl/framework/bfc_allocator.cc:1095] InUse at 6c2ba5900 of size 4096 next 2239\n",
      "2024-03-05 17:57:56.501447: I external/local_tsl/tsl/framework/bfc_allocator.cc:1095] InUse at 6c2ba6900 of size 4096 next 2240\n",
      "2024-03-05 17:57:56.501450: I external/local_tsl/tsl/framework/bfc_allocator.cc:1095] InUse at 6c2ba7900 of size 4096 next 2241\n",
      "2024-03-05 17:57:56.501453: I external/local_tsl/tsl/framework/bfc_allocator.cc:1095] InUse at 6c2ba8900 of size 4096 next 2242\n",
      "2024-03-05 17:57:56.501457: I external/local_tsl/tsl/framework/bfc_allocator.cc:1095] InUse at 6c2ba9900 of size 4096 next 2243\n",
      "2024-03-05 17:57:56.501460: I external/local_tsl/tsl/framework/bfc_allocator.cc:1095] InUse at 6c2baa900 of size 1048576 next 2244\n",
      "2024-03-05 17:57:56.501464: I external/local_tsl/tsl/framework/bfc_allocator.cc:1095] InUse at 6c2caa900 of size 1048576 next 2245\n",
      "2024-03-05 17:57:56.501467: I external/local_tsl/tsl/framework/bfc_allocator.cc:1095] InUse at 6c2daa900 of size 1024 next 2246\n",
      "2024-03-05 17:57:56.501470: I external/local_tsl/tsl/framework/bfc_allocator.cc:1095] InUse at 6c2daad00 of size 1024 next 2247\n",
      "2024-03-05 17:57:56.501474: I external/local_tsl/tsl/framework/bfc_allocator.cc:1095] InUse at 6c2dab100 of size 1024 next 2248\n",
      "2024-03-05 17:57:56.501477: I external/local_tsl/tsl/framework/bfc_allocator.cc:1095] InUse at 6c2dab500 of size 1024 next 2249\n",
      "2024-03-05 17:57:56.501481: I external/local_tsl/tsl/framework/bfc_allocator.cc:1095] InUse at 6c2dab900 of size 2359296 next 2250\n",
      "2024-03-05 17:57:56.501484: I external/local_tsl/tsl/framework/bfc_allocator.cc:1095] InUse at 6c2feb900 of size 2359296 next 2251\n",
      "2024-03-05 17:57:56.501488: I external/local_tsl/tsl/framework/bfc_allocator.cc:1095] InUse at 6c322b900 of size 1024 next 2252\n",
      "2024-03-05 17:57:56.501491: I external/local_tsl/tsl/framework/bfc_allocator.cc:1095] InUse at 6c322bd00 of size 1024 next 2253\n",
      "2024-03-05 17:57:56.501494: I external/local_tsl/tsl/framework/bfc_allocator.cc:1095] InUse at 6c322c100 of size 1024 next 2254\n",
      "2024-03-05 17:57:56.501498: I external/local_tsl/tsl/framework/bfc_allocator.cc:1095] InUse at 6c322c500 of size 1024 next 2255\n",
      "2024-03-05 17:57:56.501501: I external/local_tsl/tsl/framework/bfc_allocator.cc:1095] InUse at 6c322c900 of size 1048576 next 2256\n",
      "2024-03-05 17:57:56.501505: I external/local_tsl/tsl/framework/bfc_allocator.cc:1095] InUse at 6c332c900 of size 1048576 next 2257\n",
      "2024-03-05 17:57:56.501508: I external/local_tsl/tsl/framework/bfc_allocator.cc:1095] InUse at 6c342c900 of size 4096 next 2258\n",
      "2024-03-05 17:57:56.501511: I external/local_tsl/tsl/framework/bfc_allocator.cc:1095] InUse at 6c342d900 of size 4096 next 2259\n",
      "2024-03-05 17:57:56.501515: I external/local_tsl/tsl/framework/bfc_allocator.cc:1095] InUse at 6c342e900 of size 4096 next 2260\n",
      "2024-03-05 17:57:56.501518: I external/local_tsl/tsl/framework/bfc_allocator.cc:1095] InUse at 6c342f900 of size 4096 next 2261\n",
      "2024-03-05 17:57:56.501522: I external/local_tsl/tsl/framework/bfc_allocator.cc:1095] InUse at 6c3430900 of size 4096 next 2262\n",
      "2024-03-05 17:57:56.501525: I external/local_tsl/tsl/framework/bfc_allocator.cc:1095] InUse at 6c3431900 of size 4096 next 2263\n",
      "2024-03-05 17:57:56.501529: I external/local_tsl/tsl/framework/bfc_allocator.cc:1095] InUse at 6c3432900 of size 2097152 next 2264\n",
      "2024-03-05 17:57:56.501532: I external/local_tsl/tsl/framework/bfc_allocator.cc:1095] InUse at 6c3632900 of size 2097152 next 2265\n",
      "2024-03-05 17:57:56.501536: I external/local_tsl/tsl/framework/bfc_allocator.cc:1095] InUse at 6c3832900 of size 2048 next 2266\n",
      "2024-03-05 17:57:56.501539: I external/local_tsl/tsl/framework/bfc_allocator.cc:1095] InUse at 6c3833100 of size 2048 next 2267\n",
      "2024-03-05 17:57:56.501543: I external/local_tsl/tsl/framework/bfc_allocator.cc:1095] InUse at 6c3833900 of size 2048 next 2268\n",
      "2024-03-05 17:57:56.501546: I external/local_tsl/tsl/framework/bfc_allocator.cc:1095] InUse at 6c3834100 of size 2048 next 2269\n",
      "2024-03-05 17:57:56.501550: I external/local_tsl/tsl/framework/bfc_allocator.cc:1095] InUse at 6c3834900 of size 9437184 next 2270\n",
      "2024-03-05 17:57:56.501553: I external/local_tsl/tsl/framework/bfc_allocator.cc:1095] InUse at 6c4134900 of size 9437184 next 2271\n",
      "2024-03-05 17:57:56.501557: I external/local_tsl/tsl/framework/bfc_allocator.cc:1095] InUse at 6c4a34900 of size 2048 next 2272\n",
      "2024-03-05 17:57:56.501560: I external/local_tsl/tsl/framework/bfc_allocator.cc:1095] InUse at 6c4a35100 of size 2048 next 2273\n",
      "2024-03-05 17:57:56.501563: I external/local_tsl/tsl/framework/bfc_allocator.cc:1095] InUse at 6c4a35900 of size 2048 next 2274\n",
      "2024-03-05 17:57:56.501567: I external/local_tsl/tsl/framework/bfc_allocator.cc:1095] InUse at 6c4a36100 of size 2048 next 2275\n",
      "2024-03-05 17:57:56.501571: I external/local_tsl/tsl/framework/bfc_allocator.cc:1095] InUse at 6c4a36900 of size 12791808 next 857\n",
      "2024-03-05 17:57:56.501575: I external/local_tsl/tsl/framework/bfc_allocator.cc:1095] InUse at 6c5669900 of size 2048 next 891\n",
      "2024-03-05 17:57:56.501578: I external/local_tsl/tsl/framework/bfc_allocator.cc:1095] InUse at 6c566a100 of size 2048 next 1749\n",
      "2024-03-05 17:57:56.501582: I external/local_tsl/tsl/framework/bfc_allocator.cc:1095] InUse at 6c566a900 of size 41280000 next 1823\n",
      "2024-03-05 17:57:56.501586: I external/local_tsl/tsl/framework/bfc_allocator.cc:1095] InUse at 6c7dc8b00 of size 48148992 next 1822\n",
      "2024-03-05 17:57:56.501589: I external/local_tsl/tsl/framework/bfc_allocator.cc:1095] InUse at 6cabb3d00 of size 41280000 next 2352\n",
      "2024-03-05 17:57:56.501593: I external/local_tsl/tsl/framework/bfc_allocator.cc:1095] InUse at 6cd311f00 of size 41280000 next 2353\n",
      "2024-03-05 17:57:56.501596: I external/local_tsl/tsl/framework/bfc_allocator.cc:1095] InUse at 6cfa70100 of size 41280000 next 1809\n",
      "2024-03-05 17:57:56.501600: I external/local_tsl/tsl/framework/bfc_allocator.cc:1095] InUse at 6d21ce300 of size 41280000 next 2361\n",
      "2024-03-05 17:57:56.501603: I external/local_tsl/tsl/framework/bfc_allocator.cc:1095] InUse at 6d492c500 of size 43067392 next 1761\n",
      "2024-03-05 17:57:56.501607: I external/local_tsl/tsl/framework/bfc_allocator.cc:1095] InUse at 6d723ed00 of size 2048 next 1762\n",
      "2024-03-05 17:57:56.501611: I external/local_tsl/tsl/framework/bfc_allocator.cc:1095] InUse at 6d723f500 of size 164992000 next 1775\n",
      "2024-03-05 17:57:56.501615: I external/local_tsl/tsl/framework/bfc_allocator.cc:1095] InUse at 6e0f98900 of size 2048 next 1776\n",
      "2024-03-05 17:57:56.501618: I external/local_tsl/tsl/framework/bfc_allocator.cc:1095] InUse at 6e0f99100 of size 176749568 next 1178\n",
      "2024-03-05 17:57:56.501622: I external/local_tsl/tsl/framework/bfc_allocator.cc:1095] InUse at 6eb828d00 of size 4096 next 1788\n",
      "2024-03-05 17:57:56.501626: I external/local_tsl/tsl/framework/bfc_allocator.cc:1095] InUse at 6eb829d00 of size 4096 next 1789\n",
      "2024-03-05 17:57:56.501629: I external/local_tsl/tsl/framework/bfc_allocator.cc:1095] InUse at 6eb82ad00 of size 176752640 next 1801\n",
      "2024-03-05 17:57:56.501633: I external/local_tsl/tsl/framework/bfc_allocator.cc:1095] InUse at 6f60bb500 of size 4096 next 1802\n",
      "2024-03-05 17:57:56.501636: I external/local_tsl/tsl/framework/bfc_allocator.cc:1095] InUse at 6f60bc500 of size 176752640 next 1814\n",
      "2024-03-05 17:57:56.501640: I external/local_tsl/tsl/framework/bfc_allocator.cc:1095] InUse at 70094cd00 of size 4096 next 1815\n",
      "2024-03-05 17:57:56.501645: I external/local_tsl/tsl/framework/bfc_allocator.cc:1095] InUse at 70094dd00 of size 215184384 next 817\n",
      "2024-03-05 17:57:56.501649: I external/local_tsl/tsl/framework/bfc_allocator.cc:1095] InUse at 70d685100 of size 2048 next 835\n",
      "2024-03-05 17:57:56.501652: I external/local_tsl/tsl/framework/bfc_allocator.cc:1095] InUse at 70d685900 of size 2048 next 846\n",
      "2024-03-05 17:57:56.501656: I external/local_tsl/tsl/framework/bfc_allocator.cc:1095] InUse at 70d686100 of size 41280000 next 2344\n",
      "2024-03-05 17:57:56.501660: I external/local_tsl/tsl/framework/bfc_allocator.cc:1095] InUse at 70fde4300 of size 79209984 next 277\n",
      "2024-03-05 17:57:56.501664: I external/local_tsl/tsl/framework/bfc_allocator.cc:1095] InUse at 71496e900 of size 8192 next 855\n",
      "2024-03-05 17:57:56.501668: I external/local_tsl/tsl/framework/bfc_allocator.cc:1095] InUse at 714970900 of size 1048576 next 946\n",
      "2024-03-05 17:57:56.501672: I external/local_tsl/tsl/framework/bfc_allocator.cc:1095] InUse at 714a70900 of size 3670016 next 124\n",
      "2024-03-05 17:57:56.501677: I external/local_tsl/tsl/framework/bfc_allocator.cc:1095] InUse at 714df0900 of size 1048576 next 903\n",
      "2024-03-05 17:57:56.501682: I external/local_tsl/tsl/framework/bfc_allocator.cc:1095] InUse at 714ef0900 of size 3670016 next 915\n",
      "2024-03-05 17:57:56.501686: I external/local_tsl/tsl/framework/bfc_allocator.cc:1095] InUse at 715270900 of size 65536 next 1321\n",
      "2024-03-05 17:57:56.501691: I external/local_tsl/tsl/framework/bfc_allocator.cc:1095] InUse at 715280900 of size 65536 next 1083\n",
      "2024-03-05 17:57:56.501696: I external/local_tsl/tsl/framework/bfc_allocator.cc:1095] InUse at 715290900 of size 81920 next 1081\n",
      "2024-03-05 17:57:56.501701: I external/local_tsl/tsl/framework/bfc_allocator.cc:1095] InUse at 7152a4900 of size 4096 next 1197\n",
      "2024-03-05 17:57:56.501705: I external/local_tsl/tsl/framework/bfc_allocator.cc:1095] InUse at 7152a5900 of size 4096 next 1198\n",
      "2024-03-05 17:57:56.501709: I external/local_tsl/tsl/framework/bfc_allocator.cc:1095] InUse at 7152a6900 of size 1024 next 1779\n",
      "2024-03-05 17:57:56.501713: I external/local_tsl/tsl/framework/bfc_allocator.cc:1095] InUse at 7152a6d00 of size 512 next 2384\n",
      "2024-03-05 17:57:56.501716: I external/local_tsl/tsl/framework/bfc_allocator.cc:1095] InUse at 7152a6f00 of size 512 next 2385\n",
      "2024-03-05 17:57:56.501720: I external/local_tsl/tsl/framework/bfc_allocator.cc:1095] InUse at 7152a7100 of size 512 next 2386\n",
      "2024-03-05 17:57:56.501723: I external/local_tsl/tsl/framework/bfc_allocator.cc:1095] InUse at 7152a7300 of size 512 next 1777\n",
      "2024-03-05 17:57:56.501727: I external/local_tsl/tsl/framework/bfc_allocator.cc:1095] InUse at 7152a7500 of size 512 next 1168\n",
      "2024-03-05 17:57:56.501730: I external/local_tsl/tsl/framework/bfc_allocator.cc:1095] InUse at 7152a7700 of size 512 next 1813\n",
      "2024-03-05 17:57:56.501734: I external/local_tsl/tsl/framework/bfc_allocator.cc:1095] InUse at 7152a7900 of size 4096 next 1201\n",
      "2024-03-05 17:57:56.501737: I external/local_tsl/tsl/framework/bfc_allocator.cc:1095] InUse at 7152a8900 of size 1024 next 1172\n",
      "2024-03-05 17:57:56.501740: I external/local_tsl/tsl/framework/bfc_allocator.cc:1095] InUse at 7152a8d00 of size 1024 next 1202\n",
      "2024-03-05 17:57:56.501744: I external/local_tsl/tsl/framework/bfc_allocator.cc:1095] InUse at 7152a9100 of size 1024 next 1811\n",
      "2024-03-05 17:57:56.501747: I external/local_tsl/tsl/framework/bfc_allocator.cc:1095] InUse at 7152a9500 of size 1024 next 1204\n",
      "2024-03-05 17:57:56.501751: I external/local_tsl/tsl/framework/bfc_allocator.cc:1095] InUse at 7152a9900 of size 1024 next 1206\n",
      "2024-03-05 17:57:56.501754: I external/local_tsl/tsl/framework/bfc_allocator.cc:1095] InUse at 7152a9d00 of size 1024 next 1207\n",
      "2024-03-05 17:57:56.501758: I external/local_tsl/tsl/framework/bfc_allocator.cc:1095] InUse at 7152aa100 of size 1024 next 1819\n",
      "2024-03-05 17:57:56.501762: I external/local_tsl/tsl/framework/bfc_allocator.cc:1095] InUse at 7152aa500 of size 1024 next 1209\n",
      "2024-03-05 17:57:56.501765: I external/local_tsl/tsl/framework/bfc_allocator.cc:1095] InUse at 7152aa900 of size 4096 next 1213\n",
      "2024-03-05 17:57:56.501769: I external/local_tsl/tsl/framework/bfc_allocator.cc:1095] InUse at 7152ab900 of size 4096 next 1214\n",
      "2024-03-05 17:57:56.501772: I external/local_tsl/tsl/framework/bfc_allocator.cc:1095] InUse at 7152ac900 of size 4096 next 1215\n",
      "2024-03-05 17:57:56.501776: I external/local_tsl/tsl/framework/bfc_allocator.cc:1095] InUse at 7152ad900 of size 2560 next 1752\n",
      "2024-03-05 17:57:56.501779: I external/local_tsl/tsl/framework/bfc_allocator.cc:1095] InUse at 7152ae300 of size 2048 next 1755\n",
      "2024-03-05 17:57:56.501783: I external/local_tsl/tsl/framework/bfc_allocator.cc:1095] InUse at 7152aeb00 of size 3584 next 1218\n",
      "2024-03-05 17:57:56.501787: I external/local_tsl/tsl/framework/bfc_allocator.cc:1095] InUse at 7152af900 of size 1024 next 1212\n",
      "2024-03-05 17:57:56.501790: I external/local_tsl/tsl/framework/bfc_allocator.cc:1095] InUse at 7152afd00 of size 1024 next 1219\n",
      "2024-03-05 17:57:56.501794: I external/local_tsl/tsl/framework/bfc_allocator.cc:1095] InUse at 7152b0100 of size 1024 next 1824\n",
      "2024-03-05 17:57:56.501797: I external/local_tsl/tsl/framework/bfc_allocator.cc:1095] InUse at 7152b0500 of size 1024 next 1221\n",
      "2024-03-05 17:57:56.501800: I external/local_tsl/tsl/framework/bfc_allocator.cc:1095] InUse at 7152b0900 of size 1024 next 1222\n",
      "2024-03-05 17:57:56.501804: I external/local_tsl/tsl/framework/bfc_allocator.cc:1095] InUse at 7152b0d00 of size 1024 next 1223\n",
      "2024-03-05 17:57:56.501807: I external/local_tsl/tsl/framework/bfc_allocator.cc:1095] InUse at 7152b1100 of size 256 next 2374\n",
      "2024-03-05 17:57:56.501810: I external/local_tsl/tsl/framework/bfc_allocator.cc:1095] InUse at 7152b1200 of size 256 next 2375\n",
      "2024-03-05 17:57:56.501814: I external/local_tsl/tsl/framework/bfc_allocator.cc:1095] InUse at 7152b1300 of size 256 next 2378\n",
      "2024-03-05 17:57:56.501817: I external/local_tsl/tsl/framework/bfc_allocator.cc:1095] InUse at 7152b1400 of size 256 next 2379\n",
      "2024-03-05 17:57:56.501821: I external/local_tsl/tsl/framework/bfc_allocator.cc:1095] InUse at 7152b1500 of size 1024 next 1225\n",
      "2024-03-05 17:57:56.501824: I external/local_tsl/tsl/framework/bfc_allocator.cc:1095] InUse at 7152b1900 of size 4096 next 1228\n",
      "2024-03-05 17:57:56.501828: I external/local_tsl/tsl/framework/bfc_allocator.cc:1095] InUse at 7152b2900 of size 4096 next 1229\n",
      "2024-03-05 17:57:56.501831: I external/local_tsl/tsl/framework/bfc_allocator.cc:1095] InUse at 7152b3900 of size 4096 next 1230\n",
      "2024-03-05 17:57:56.501835: I external/local_tsl/tsl/framework/bfc_allocator.cc:1095] InUse at 7152b4900 of size 4096 next 1232\n",
      "2024-03-05 17:57:56.501838: I external/local_tsl/tsl/framework/bfc_allocator.cc:1095] InUse at 7152b5900 of size 4096 next 1233\n",
      "2024-03-05 17:57:56.501842: I external/local_tsl/tsl/framework/bfc_allocator.cc:1095] InUse at 7152b6900 of size 1024 next 1227\n",
      "2024-03-05 17:57:56.501845: I external/local_tsl/tsl/framework/bfc_allocator.cc:1095] InUse at 7152b6d00 of size 1024 next 1234\n",
      "2024-03-05 17:57:56.501848: I external/local_tsl/tsl/framework/bfc_allocator.cc:1095] InUse at 7152b7100 of size 1024 next 1235\n",
      "2024-03-05 17:57:56.501852: I external/local_tsl/tsl/framework/bfc_allocator.cc:1095] InUse at 7152b7500 of size 1024 next 1236\n",
      "2024-03-05 17:57:56.501855: I external/local_tsl/tsl/framework/bfc_allocator.cc:1095] InUse at 7152b7900 of size 1024 next 1237\n",
      "2024-03-05 17:57:56.501859: I external/local_tsl/tsl/framework/bfc_allocator.cc:1095] InUse at 7152b7d00 of size 1024 next 1097\n",
      "2024-03-05 17:57:56.501862: I external/local_tsl/tsl/framework/bfc_allocator.cc:1095] InUse at 7152b8100 of size 1024 next 1238\n",
      "2024-03-05 17:57:56.501865: I external/local_tsl/tsl/framework/bfc_allocator.cc:1095] InUse at 7152b8500 of size 1024 next 1076\n",
      "2024-03-05 17:57:56.501869: I external/local_tsl/tsl/framework/bfc_allocator.cc:1095] InUse at 7152b8900 of size 147456 next 1075\n",
      "2024-03-05 17:57:56.501874: I external/local_tsl/tsl/framework/bfc_allocator.cc:1095] InUse at 7152dc900 of size 20224 next 1102\n",
      "2024-03-05 17:57:56.501877: I external/local_tsl/tsl/framework/bfc_allocator.cc:1095] InUse at 7152e1800 of size 256 next 1069\n",
      "2024-03-05 17:57:56.501881: I external/local_tsl/tsl/framework/bfc_allocator.cc:1095] InUse at 7152e1900 of size 256 next 1323\n",
      "2024-03-05 17:57:56.501884: I external/local_tsl/tsl/framework/bfc_allocator.cc:1095] InUse at 7152e1a00 of size 256 next 1324\n",
      "2024-03-05 17:57:56.501887: I external/local_tsl/tsl/framework/bfc_allocator.cc:1095] InUse at 7152e1b00 of size 256 next 1325\n",
      "2024-03-05 17:57:56.501891: I external/local_tsl/tsl/framework/bfc_allocator.cc:1095] InUse at 7152e1c00 of size 256 next 1326\n",
      "2024-03-05 17:57:56.501894: I external/local_tsl/tsl/framework/bfc_allocator.cc:1095] InUse at 7152e1d00 of size 256 next 1327\n",
      "2024-03-05 17:57:56.501898: I external/local_tsl/tsl/framework/bfc_allocator.cc:1095] InUse at 7152e1e00 of size 256 next 1341\n",
      "2024-03-05 17:57:56.501901: I external/local_tsl/tsl/framework/bfc_allocator.cc:1095] InUse at 7152e1f00 of size 256 next 1335\n",
      "2024-03-05 17:57:56.501905: I external/local_tsl/tsl/framework/bfc_allocator.cc:1095] InUse at 7152e2000 of size 256 next 1339\n",
      "2024-03-05 17:57:56.501908: I external/local_tsl/tsl/framework/bfc_allocator.cc:1095] InUse at 7152e2100 of size 256 next 1334\n",
      "2024-03-05 17:57:56.501911: I external/local_tsl/tsl/framework/bfc_allocator.cc:1095] InUse at 7152e2200 of size 256 next 1332\n",
      "2024-03-05 17:57:56.501915: I external/local_tsl/tsl/framework/bfc_allocator.cc:1095] InUse at 7152e2300 of size 256 next 1337\n",
      "2024-03-05 17:57:56.501918: I external/local_tsl/tsl/framework/bfc_allocator.cc:1095] InUse at 7152e2400 of size 256 next 1338\n",
      "2024-03-05 17:57:56.501922: I external/local_tsl/tsl/framework/bfc_allocator.cc:1095] InUse at 7152e2500 of size 256 next 1351\n",
      "2024-03-05 17:57:56.501925: I external/local_tsl/tsl/framework/bfc_allocator.cc:1095] InUse at 7152e2600 of size 256 next 1336\n",
      "2024-03-05 17:57:56.501928: I external/local_tsl/tsl/framework/bfc_allocator.cc:1095] InUse at 7152e2700 of size 256 next 1340\n",
      "2024-03-05 17:57:56.501932: I external/local_tsl/tsl/framework/bfc_allocator.cc:1095] InUse at 7152e2800 of size 256 next 1328\n",
      "2024-03-05 17:57:56.501935: I external/local_tsl/tsl/framework/bfc_allocator.cc:1095] InUse at 7152e2900 of size 256 next 1331\n",
      "2024-03-05 17:57:56.501939: I external/local_tsl/tsl/framework/bfc_allocator.cc:1095] InUse at 7152e2a00 of size 256 next 1353\n",
      "2024-03-05 17:57:56.501942: I external/local_tsl/tsl/framework/bfc_allocator.cc:1095] InUse at 7152e2b00 of size 37632 next 1344\n",
      "2024-03-05 17:57:56.501946: I external/local_tsl/tsl/framework/bfc_allocator.cc:1095] InUse at 7152ebe00 of size 64256 next 1268\n",
      "2024-03-05 17:57:56.501950: I external/local_tsl/tsl/framework/bfc_allocator.cc:1095] InUse at 7152fb900 of size 2048 next 1266\n",
      "2024-03-05 17:57:56.501953: I external/local_tsl/tsl/framework/bfc_allocator.cc:1095] InUse at 7152fc100 of size 2048 next 1267\n",
      "2024-03-05 17:57:56.501957: I external/local_tsl/tsl/framework/bfc_allocator.cc:1095] InUse at 7152fc900 of size 2048 next 1272\n",
      "2024-03-05 17:57:56.501960: I external/local_tsl/tsl/framework/bfc_allocator.cc:1095] InUse at 7152fd100 of size 2048 next 1273\n",
      "2024-03-05 17:57:56.501963: I external/local_tsl/tsl/framework/bfc_allocator.cc:1095] InUse at 7152fd900 of size 2048 next 1274\n",
      "2024-03-05 17:57:56.501967: I external/local_tsl/tsl/framework/bfc_allocator.cc:1095] InUse at 7152fe100 of size 2048 next 1275\n",
      "2024-03-05 17:57:56.501970: I external/local_tsl/tsl/framework/bfc_allocator.cc:1095] InUse at 7152fe900 of size 2048 next 1278\n",
      "2024-03-05 17:57:56.501974: I external/local_tsl/tsl/framework/bfc_allocator.cc:1095] InUse at 7152ff100 of size 2048 next 1279\n",
      "2024-03-05 17:57:56.501977: I external/local_tsl/tsl/framework/bfc_allocator.cc:1095] InUse at 7152ff900 of size 2048 next 1288\n",
      "2024-03-05 17:57:56.501981: I external/local_tsl/tsl/framework/bfc_allocator.cc:1095] InUse at 715300100 of size 2048 next 1092\n",
      "2024-03-05 17:57:56.501984: I external/local_tsl/tsl/framework/bfc_allocator.cc:1095] InUse at 715300900 of size 147456 next 1091\n",
      "2024-03-05 17:57:56.501988: I external/local_tsl/tsl/framework/bfc_allocator.cc:1095] InUse at 715324900 of size 8192 next 1282\n",
      "2024-03-05 17:57:56.501992: I external/local_tsl/tsl/framework/bfc_allocator.cc:1095] InUse at 715326900 of size 8192 next 1280\n",
      "2024-03-05 17:57:56.501995: I external/local_tsl/tsl/framework/bfc_allocator.cc:1095] InUse at 715328900 of size 8192 next 1281\n",
      "2024-03-05 17:57:56.501998: I external/local_tsl/tsl/framework/bfc_allocator.cc:1095] InUse at 71532a900 of size 8192 next 1284\n",
      "2024-03-05 17:57:56.502002: I external/local_tsl/tsl/framework/bfc_allocator.cc:1095] InUse at 71532c900 of size 2048 next 1285\n",
      "2024-03-05 17:57:56.502005: I external/local_tsl/tsl/framework/bfc_allocator.cc:1095] InUse at 71532d100 of size 2048 next 1286\n",
      "2024-03-05 17:57:56.502009: I external/local_tsl/tsl/framework/bfc_allocator.cc:1095] InUse at 71532d900 of size 2048 next 1287\n",
      "2024-03-05 17:57:56.502012: I external/local_tsl/tsl/framework/bfc_allocator.cc:1095] InUse at 71532e100 of size 2048 next 1292\n",
      "2024-03-05 17:57:56.502015: I external/local_tsl/tsl/framework/bfc_allocator.cc:1095] InUse at 71532e900 of size 2048 next 1290\n",
      "2024-03-05 17:57:56.502019: I external/local_tsl/tsl/framework/bfc_allocator.cc:1095] InUse at 71532f100 of size 10240 next 1295\n",
      "2024-03-05 17:57:56.502022: I external/local_tsl/tsl/framework/bfc_allocator.cc:1095] InUse at 715331900 of size 8192 next 1296\n",
      "2024-03-05 17:57:56.502026: I external/local_tsl/tsl/framework/bfc_allocator.cc:1095] InUse at 715333900 of size 8192 next 1297\n",
      "2024-03-05 17:57:56.502029: I external/local_tsl/tsl/framework/bfc_allocator.cc:1095] InUse at 715335900 of size 8192 next 1298\n",
      "2024-03-05 17:57:56.502032: I external/local_tsl/tsl/framework/bfc_allocator.cc:1095] InUse at 715337900 of size 8192 next 1300\n",
      "2024-03-05 17:57:56.502037: I external/local_tsl/tsl/framework/bfc_allocator.cc:1095] InUse at 715339900 of size 2048 next 1291\n",
      "2024-03-05 17:57:56.502041: I external/local_tsl/tsl/framework/bfc_allocator.cc:1095] InUse at 71533a100 of size 2048 next 1301\n",
      "2024-03-05 17:57:56.502044: I external/local_tsl/tsl/framework/bfc_allocator.cc:1095] InUse at 71533a900 of size 2048 next 1302\n",
      "2024-03-05 17:57:56.502047: I external/local_tsl/tsl/framework/bfc_allocator.cc:1095] InUse at 71533b100 of size 2048 next 1303\n",
      "2024-03-05 17:57:56.502051: I external/local_tsl/tsl/framework/bfc_allocator.cc:1095] InUse at 71533b900 of size 2048 next 1309\n",
      "2024-03-05 17:57:56.502054: I external/local_tsl/tsl/framework/bfc_allocator.cc:1095] InUse at 71533c100 of size 2048 next 1306\n",
      "2024-03-05 17:57:56.502058: I external/local_tsl/tsl/framework/bfc_allocator.cc:1095] InUse at 71533c900 of size 2048 next 1307\n",
      "2024-03-05 17:57:56.502061: I external/local_tsl/tsl/framework/bfc_allocator.cc:1095] InUse at 71533d100 of size 2048 next 1308\n",
      "2024-03-05 17:57:56.502064: I external/local_tsl/tsl/framework/bfc_allocator.cc:1095] InUse at 71533d900 of size 8192 next 1312\n",
      "2024-03-05 17:57:56.502068: I external/local_tsl/tsl/framework/bfc_allocator.cc:1095] InUse at 71533f900 of size 8192 next 1313\n",
      "2024-03-05 17:57:56.502071: I external/local_tsl/tsl/framework/bfc_allocator.cc:1095] InUse at 715341900 of size 256 next 1347\n",
      "2024-03-05 17:57:56.502075: I external/local_tsl/tsl/framework/bfc_allocator.cc:1095] InUse at 715341a00 of size 256 next 1329\n",
      "2024-03-05 17:57:56.502080: I external/local_tsl/tsl/framework/bfc_allocator.cc:1095] InUse at 715341b00 of size 256 next 1345\n",
      "2024-03-05 17:57:56.502084: I external/local_tsl/tsl/framework/bfc_allocator.cc:1095] InUse at 715341c00 of size 256 next 1330\n",
      "2024-03-05 17:57:56.502089: I external/local_tsl/tsl/framework/bfc_allocator.cc:1095] InUse at 715341d00 of size 256 next 1348\n",
      "2024-03-05 17:57:56.502093: I external/local_tsl/tsl/framework/bfc_allocator.cc:1095] InUse at 715341e00 of size 16384 next 1342\n",
      "2024-03-05 17:57:56.502097: I external/local_tsl/tsl/framework/bfc_allocator.cc:1095] InUse at 715345e00 of size 16384 next 1352\n",
      "2024-03-05 17:57:56.502100: I external/local_tsl/tsl/framework/bfc_allocator.cc:1095] InUse at 715349e00 of size 256 next 1333\n",
      "2024-03-05 17:57:56.502104: I external/local_tsl/tsl/framework/bfc_allocator.cc:1095] InUse at 715349f00 of size 256 next 1346\n",
      "2024-03-05 17:57:56.502107: I external/local_tsl/tsl/framework/bfc_allocator.cc:1095] InUse at 71534a000 of size 256 next 1349\n",
      "2024-03-05 17:57:56.502111: I external/local_tsl/tsl/framework/bfc_allocator.cc:1095] InUse at 71534a100 of size 256 next 1343\n",
      "2024-03-05 17:57:56.502115: I external/local_tsl/tsl/framework/bfc_allocator.cc:1095] InUse at 71534a200 of size 157440 next 972\n",
      "2024-03-05 17:57:56.502119: I external/local_tsl/tsl/framework/bfc_allocator.cc:1095] InUse at 715370900 of size 1310720 next 967\n",
      "2024-03-05 17:57:56.502123: I external/local_tsl/tsl/framework/bfc_allocator.cc:1095] InUse at 7154b0900 of size 1048576 next 968\n",
      "2024-03-05 17:57:56.502126: I external/local_tsl/tsl/framework/bfc_allocator.cc:1095] InUse at 7155b0900 of size 5505024 next 998\n",
      "2024-03-05 17:57:56.502130: I external/local_tsl/tsl/framework/bfc_allocator.cc:1095] InUse at 715af0900 of size 12582912 next 980\n",
      "2024-03-05 17:57:56.502134: I external/local_tsl/tsl/framework/bfc_allocator.cc:1095] InUse at 7166f0900 of size 262144 next 1164\n",
      "2024-03-05 17:57:56.502137: I external/local_tsl/tsl/framework/bfc_allocator.cc:1095] InUse at 716730900 of size 327680 next 1144\n",
      "2024-03-05 17:57:56.502141: I external/local_tsl/tsl/framework/bfc_allocator.cc:1095] InUse at 716780900 of size 589824 next 1143\n",
      "2024-03-05 17:57:56.502145: I external/local_tsl/tsl/framework/bfc_allocator.cc:1095] InUse at 716810900 of size 589824 next 1159\n",
      "2024-03-05 17:57:56.502148: I external/local_tsl/tsl/framework/bfc_allocator.cc:1095] InUse at 7168a0900 of size 256 next 1350\n",
      "2024-03-05 17:57:56.502152: I external/local_tsl/tsl/framework/bfc_allocator.cc:1095] InUse at 7168a0a00 of size 256 next 1354\n",
      "2024-03-05 17:57:56.502155: I external/local_tsl/tsl/framework/bfc_allocator.cc:1095] InUse at 7168a0b00 of size 256 next 1355\n",
      "2024-03-05 17:57:56.502159: I external/local_tsl/tsl/framework/bfc_allocator.cc:1095] InUse at 7168a0c00 of size 256 next 1356\n",
      "2024-03-05 17:57:56.502162: I external/local_tsl/tsl/framework/bfc_allocator.cc:1095] InUse at 7168a0d00 of size 65536 next 1357\n",
      "2024-03-05 17:57:56.502167: I external/local_tsl/tsl/framework/bfc_allocator.cc:1095] InUse at 7168b0d00 of size 65536 next 1358\n",
      "2024-03-05 17:57:56.502171: I external/local_tsl/tsl/framework/bfc_allocator.cc:1095] InUse at 7168c0d00 of size 1024 next 1359\n",
      "2024-03-05 17:57:56.502174: I external/local_tsl/tsl/framework/bfc_allocator.cc:1095] InUse at 7168c1100 of size 1024 next 1360\n",
      "2024-03-05 17:57:56.502178: I external/local_tsl/tsl/framework/bfc_allocator.cc:1095] InUse at 7168c1500 of size 65536 next 1361\n",
      "2024-03-05 17:57:56.502181: I external/local_tsl/tsl/framework/bfc_allocator.cc:1095] InUse at 7168d1500 of size 65536 next 1362\n",
      "2024-03-05 17:57:56.502185: I external/local_tsl/tsl/framework/bfc_allocator.cc:1095] InUse at 7168e1500 of size 1024 next 1363\n",
      "2024-03-05 17:57:56.502188: I external/local_tsl/tsl/framework/bfc_allocator.cc:1095] InUse at 7168e1900 of size 1024 next 1364\n",
      "2024-03-05 17:57:56.502192: I external/local_tsl/tsl/framework/bfc_allocator.cc:1095] InUse at 7168e1d00 of size 1024 next 1365\n",
      "2024-03-05 17:57:56.502195: I external/local_tsl/tsl/framework/bfc_allocator.cc:1095] InUse at 7168e2100 of size 1024 next 1366\n",
      "2024-03-05 17:57:56.502200: I external/local_tsl/tsl/framework/bfc_allocator.cc:1095] InUse at 7168e2500 of size 1024 next 1367\n",
      "2024-03-05 17:57:56.502203: I external/local_tsl/tsl/framework/bfc_allocator.cc:1095] InUse at 7168e2900 of size 1024 next 1368\n",
      "2024-03-05 17:57:56.502207: I external/local_tsl/tsl/framework/bfc_allocator.cc:1095] InUse at 7168e2d00 of size 65536 next 1369\n",
      "2024-03-05 17:57:56.502210: I external/local_tsl/tsl/framework/bfc_allocator.cc:1095] InUse at 7168f2d00 of size 65536 next 1370\n",
      "2024-03-05 17:57:56.502214: I external/local_tsl/tsl/framework/bfc_allocator.cc:1095] InUse at 716902d00 of size 256 next 1371\n",
      "2024-03-05 17:57:56.502218: I external/local_tsl/tsl/framework/bfc_allocator.cc:1095] InUse at 716902e00 of size 256 next 1372\n",
      "2024-03-05 17:57:56.502221: I external/local_tsl/tsl/framework/bfc_allocator.cc:1095] InUse at 716902f00 of size 256 next 1373\n",
      "2024-03-05 17:57:56.502225: I external/local_tsl/tsl/framework/bfc_allocator.cc:1095] InUse at 716903000 of size 256 next 1374\n",
      "2024-03-05 17:57:56.502228: I external/local_tsl/tsl/framework/bfc_allocator.cc:1095] InUse at 716903100 of size 186368 next 1158\n",
      "2024-03-05 17:57:56.502232: I external/local_tsl/tsl/framework/bfc_allocator.cc:1095] InUse at 716930900 of size 524288 next 1173\n",
      "2024-03-05 17:57:56.502236: I external/local_tsl/tsl/framework/bfc_allocator.cc:1095] InUse at 7169b0900 of size 1572864 next 1199\n",
      "2024-03-05 17:57:56.502239: I external/local_tsl/tsl/framework/bfc_allocator.cc:1095] InUse at 716b30900 of size 1048576 next 1205\n",
      "2024-03-05 17:57:56.502243: I external/local_tsl/tsl/framework/bfc_allocator.cc:1095] InUse at 716c30900 of size 1048576 next 1231\n",
      "2024-03-05 17:57:56.502246: I external/local_tsl/tsl/framework/bfc_allocator.cc:1095] InUse at 716d30900 of size 1835008 next 979\n",
      "2024-03-05 17:57:56.502250: I external/local_tsl/tsl/framework/bfc_allocator.cc:1095] InUse at 716ef0900 of size 2097152 next 982\n",
      "2024-03-05 17:57:56.502253: I external/local_tsl/tsl/framework/bfc_allocator.cc:1095] InUse at 7170f0900 of size 2359296 next 1196\n",
      "2024-03-05 17:57:56.502257: I external/local_tsl/tsl/framework/bfc_allocator.cc:1095] InUse at 717330900 of size 1048576 next 1216\n",
      "2024-03-05 17:57:56.502260: I external/local_tsl/tsl/framework/bfc_allocator.cc:1095] InUse at 717430900 of size 1310720 next 1211\n",
      "2024-03-05 17:57:56.502264: I external/local_tsl/tsl/framework/bfc_allocator.cc:1095] InUse at 717570900 of size 2359296 next 1210\n",
      "2024-03-05 17:57:56.502268: I external/local_tsl/tsl/framework/bfc_allocator.cc:1095] InUse at 7177b0900 of size 3284992 next 254\n",
      "2024-03-05 17:57:56.502294: I external/local_tsl/tsl/framework/bfc_allocator.cc:1095] InUse at 717ad2900 of size 4096 next 852\n",
      "2024-03-05 17:57:56.502302: I external/local_tsl/tsl/framework/bfc_allocator.cc:1095] InUse at 717ad3900 of size 176752640 next 815\n",
      "2024-03-05 17:57:56.502306: I external/local_tsl/tsl/framework/bfc_allocator.cc:1095] InUse at 722364100 of size 4096 next 764\n",
      "2024-03-05 17:57:56.502310: I external/local_tsl/tsl/framework/bfc_allocator.cc:1095] InUse at 722365100 of size 176752640 next 797\n",
      "2024-03-05 17:57:56.502315: I external/local_tsl/tsl/framework/bfc_allocator.cc:1095] InUse at 72cbf5900 of size 4096 next 747\n",
      "2024-03-05 17:57:56.502319: I external/local_tsl/tsl/framework/bfc_allocator.cc:1095] InUse at 72cbf6900 of size 4194304 next 1289\n",
      "2024-03-05 17:57:56.502322: I external/local_tsl/tsl/framework/bfc_allocator.cc:1095] InUse at 72cff6900 of size 14680064 next 1276\n",
      "2024-03-05 17:57:56.502326: I external/local_tsl/tsl/framework/bfc_allocator.cc:1095] InUse at 72ddf6900 of size 4194304 next 1304\n",
      "2024-03-05 17:57:56.502330: I external/local_tsl/tsl/framework/bfc_allocator.cc:1095] InUse at 72e1f6900 of size 14680064 next 1294\n",
      "2024-03-05 17:57:56.502333: I external/local_tsl/tsl/framework/bfc_allocator.cc:1095] InUse at 72eff6900 of size 9437184 next 1293\n",
      "2024-03-05 17:57:56.502337: I external/local_tsl/tsl/framework/bfc_allocator.cc:1095] InUse at 72f8f6900 of size 131072 next 1408\n",
      "2024-03-05 17:57:56.502341: I external/local_tsl/tsl/framework/bfc_allocator.cc:1095] InUse at 72f916900 of size 512 next 1409\n",
      "2024-03-05 17:57:56.502344: I external/local_tsl/tsl/framework/bfc_allocator.cc:1095] InUse at 72f916b00 of size 512 next 1410\n",
      "2024-03-05 17:57:56.502348: I external/local_tsl/tsl/framework/bfc_allocator.cc:1095] InUse at 72f916d00 of size 512 next 1411\n",
      "2024-03-05 17:57:56.502351: I external/local_tsl/tsl/framework/bfc_allocator.cc:1095] InUse at 72f916f00 of size 512 next 1412\n",
      "2024-03-05 17:57:56.502355: I external/local_tsl/tsl/framework/bfc_allocator.cc:1095] InUse at 72f917100 of size 589824 next 1413\n",
      "2024-03-05 17:57:56.502359: I external/local_tsl/tsl/framework/bfc_allocator.cc:1095] InUse at 72f9a7100 of size 589824 next 1414\n",
      "2024-03-05 17:57:56.502362: I external/local_tsl/tsl/framework/bfc_allocator.cc:1095] InUse at 72fa37100 of size 512 next 1415\n",
      "2024-03-05 17:57:56.502366: I external/local_tsl/tsl/framework/bfc_allocator.cc:1095] InUse at 72fa37300 of size 512 next 1416\n",
      "2024-03-05 17:57:56.502370: I external/local_tsl/tsl/framework/bfc_allocator.cc:1095] InUse at 72fa37500 of size 512 next 1417\n",
      "2024-03-05 17:57:56.502375: I external/local_tsl/tsl/framework/bfc_allocator.cc:1095] InUse at 72fa37700 of size 512 next 1418\n",
      "2024-03-05 17:57:56.502378: I external/local_tsl/tsl/framework/bfc_allocator.cc:1095] InUse at 72fa37900 of size 524288 next 1419\n",
      "2024-03-05 17:57:56.502382: I external/local_tsl/tsl/framework/bfc_allocator.cc:1095] InUse at 72fab7900 of size 524288 next 1420\n",
      "2024-03-05 17:57:56.502386: I external/local_tsl/tsl/framework/bfc_allocator.cc:1095] InUse at 72fb37900 of size 2048 next 1421\n",
      "2024-03-05 17:57:56.502390: I external/local_tsl/tsl/framework/bfc_allocator.cc:1095] InUse at 72fb38100 of size 2048 next 1422\n",
      "2024-03-05 17:57:56.502393: I external/local_tsl/tsl/framework/bfc_allocator.cc:1095] InUse at 72fb38900 of size 262144 next 1423\n",
      "2024-03-05 17:57:56.502398: I external/local_tsl/tsl/framework/bfc_allocator.cc:1095] InUse at 72fb78900 of size 262144 next 1424\n",
      "2024-03-05 17:57:56.502402: I external/local_tsl/tsl/framework/bfc_allocator.cc:1095] InUse at 72fbb8900 of size 2048 next 1425\n",
      "2024-03-05 17:57:56.502405: I external/local_tsl/tsl/framework/bfc_allocator.cc:1095] InUse at 72fbb9100 of size 2048 next 1426\n",
      "2024-03-05 17:57:56.502409: I external/local_tsl/tsl/framework/bfc_allocator.cc:1095] InUse at 72fbb9900 of size 2048 next 1427\n",
      "2024-03-05 17:57:56.502413: I external/local_tsl/tsl/framework/bfc_allocator.cc:1095] InUse at 72fbba100 of size 2048 next 1428\n",
      "2024-03-05 17:57:56.502417: I external/local_tsl/tsl/framework/bfc_allocator.cc:1095] InUse at 72fbba900 of size 2048 next 1429\n",
      "2024-03-05 17:57:56.502421: I external/local_tsl/tsl/framework/bfc_allocator.cc:1095] InUse at 72fbbb100 of size 2048 next 1430\n",
      "2024-03-05 17:57:56.502425: I external/local_tsl/tsl/framework/bfc_allocator.cc:1095] InUse at 72fbbb900 of size 262144 next 1431\n",
      "2024-03-05 17:57:56.502429: I external/local_tsl/tsl/framework/bfc_allocator.cc:1095] InUse at 72fbfb900 of size 262144 next 1432\n",
      "2024-03-05 17:57:56.502433: I external/local_tsl/tsl/framework/bfc_allocator.cc:1095] InUse at 72fc3b900 of size 512 next 1433\n",
      "2024-03-05 17:57:56.502437: I external/local_tsl/tsl/framework/bfc_allocator.cc:1095] InUse at 72fc3bb00 of size 512 next 1434\n",
      "2024-03-05 17:57:56.502441: I external/local_tsl/tsl/framework/bfc_allocator.cc:1095] InUse at 72fc3bd00 of size 512 next 1435\n",
      "2024-03-05 17:57:56.502445: I external/local_tsl/tsl/framework/bfc_allocator.cc:1095] InUse at 72fc3bf00 of size 512 next 1436\n",
      "2024-03-05 17:57:56.502450: I external/local_tsl/tsl/framework/bfc_allocator.cc:1095] InUse at 72fc3c100 of size 763904 next 1315\n",
      "2024-03-05 17:57:56.502458: I external/local_tsl/tsl/framework/bfc_allocator.cc:1095] InUse at 72fcf6900 of size 5242880 next 1310\n",
      "2024-03-05 17:57:56.502461: I external/local_tsl/tsl/framework/bfc_allocator.cc:1095] InUse at 7301f6900 of size 524288 next 1490\n",
      "2024-03-05 17:57:56.502465: I external/local_tsl/tsl/framework/bfc_allocator.cc:1095] InUse at 730276900 of size 1024 next 1491\n",
      "2024-03-05 17:57:56.502469: I external/local_tsl/tsl/framework/bfc_allocator.cc:1095] InUse at 730276d00 of size 1024 next 1492\n",
      "2024-03-05 17:57:56.502473: I external/local_tsl/tsl/framework/bfc_allocator.cc:1095] InUse at 730277100 of size 1024 next 1493\n",
      "2024-03-05 17:57:56.502476: I external/local_tsl/tsl/framework/bfc_allocator.cc:1095] InUse at 730277500 of size 1024 next 1494\n",
      "2024-03-05 17:57:56.502480: I external/local_tsl/tsl/framework/bfc_allocator.cc:1095] InUse at 730277900 of size 2359296 next 1495\n",
      "2024-03-05 17:57:56.502484: I external/local_tsl/tsl/framework/bfc_allocator.cc:1095] InUse at 7304b7900 of size 2359296 next 1496\n",
      "2024-03-05 17:57:56.502488: I external/local_tsl/tsl/framework/bfc_allocator.cc:1095] InUse at 7306f7900 of size 1024 next 1497\n",
      "2024-03-05 17:57:56.502492: I external/local_tsl/tsl/framework/bfc_allocator.cc:1095] InUse at 7306f7d00 of size 1024 next 1498\n",
      "2024-03-05 17:57:56.502495: I external/local_tsl/tsl/framework/bfc_allocator.cc:1095] InUse at 7306f8100 of size 1024 next 1499\n",
      "2024-03-05 17:57:56.502499: I external/local_tsl/tsl/framework/bfc_allocator.cc:1095] InUse at 7306f8500 of size 1024 next 1500\n",
      "2024-03-05 17:57:56.502503: I external/local_tsl/tsl/framework/bfc_allocator.cc:1095] InUse at 7306f8900 of size 2097152 next 1501\n",
      "2024-03-05 17:57:56.502507: I external/local_tsl/tsl/framework/bfc_allocator.cc:1095] InUse at 7308f8900 of size 2097152 next 1502\n",
      "2024-03-05 17:57:56.502511: I external/local_tsl/tsl/framework/bfc_allocator.cc:1095] InUse at 730af8900 of size 4096 next 1503\n",
      "2024-03-05 17:57:56.502515: I external/local_tsl/tsl/framework/bfc_allocator.cc:1095] InUse at 730af9900 of size 4096 next 1504\n",
      "2024-03-05 17:57:56.502519: I external/local_tsl/tsl/framework/bfc_allocator.cc:1095] InUse at 730afa900 of size 1048576 next 1505\n",
      "2024-03-05 17:57:56.502522: I external/local_tsl/tsl/framework/bfc_allocator.cc:1095] InUse at 730bfa900 of size 1048576 next 1506\n",
      "2024-03-05 17:57:56.502526: I external/local_tsl/tsl/framework/bfc_allocator.cc:1095] InUse at 730cfa900 of size 4096 next 1507\n",
      "2024-03-05 17:57:56.502530: I external/local_tsl/tsl/framework/bfc_allocator.cc:1095] InUse at 730cfb900 of size 4096 next 1508\n",
      "2024-03-05 17:57:56.502535: I external/local_tsl/tsl/framework/bfc_allocator.cc:1095] InUse at 730cfc900 of size 4096 next 1509\n",
      "2024-03-05 17:57:56.502538: I external/local_tsl/tsl/framework/bfc_allocator.cc:1095] InUse at 730cfd900 of size 4096 next 1510\n",
      "2024-03-05 17:57:56.502542: I external/local_tsl/tsl/framework/bfc_allocator.cc:1095] InUse at 730cfe900 of size 4096 next 1511\n",
      "2024-03-05 17:57:56.502546: I external/local_tsl/tsl/framework/bfc_allocator.cc:1095] InUse at 730cff900 of size 4096 next 1512\n",
      "2024-03-05 17:57:56.502550: I external/local_tsl/tsl/framework/bfc_allocator.cc:1095] InUse at 730d00900 of size 1048576 next 1513\n",
      "2024-03-05 17:57:56.502554: I external/local_tsl/tsl/framework/bfc_allocator.cc:1095] InUse at 730e00900 of size 1048576 next 1514\n",
      "2024-03-05 17:57:56.502558: I external/local_tsl/tsl/framework/bfc_allocator.cc:1095] InUse at 730f00900 of size 1024 next 1515\n",
      "2024-03-05 17:57:56.502562: I external/local_tsl/tsl/framework/bfc_allocator.cc:1095] InUse at 730f00d00 of size 1024 next 1516\n",
      "2024-03-05 17:57:56.502566: I external/local_tsl/tsl/framework/bfc_allocator.cc:1095] InUse at 730f01100 of size 1024 next 1517\n",
      "2024-03-05 17:57:56.502570: I external/local_tsl/tsl/framework/bfc_allocator.cc:1095] InUse at 730f01500 of size 1024 next 1518\n",
      "2024-03-05 17:57:56.502574: I external/local_tsl/tsl/framework/bfc_allocator.cc:1095] InUse at 730f01900 of size 2359296 next 1519\n",
      "2024-03-05 17:57:56.502578: I external/local_tsl/tsl/framework/bfc_allocator.cc:1095] InUse at 731141900 of size 2359296 next 1520\n",
      "2024-03-05 17:57:56.502582: I external/local_tsl/tsl/framework/bfc_allocator.cc:1095] InUse at 731381900 of size 1024 next 1521\n",
      "2024-03-05 17:57:56.502586: I external/local_tsl/tsl/framework/bfc_allocator.cc:1095] InUse at 731381d00 of size 1024 next 1522\n",
      "2024-03-05 17:57:56.502590: I external/local_tsl/tsl/framework/bfc_allocator.cc:1095] InUse at 731382100 of size 1024 next 1523\n",
      "2024-03-05 17:57:56.502595: I external/local_tsl/tsl/framework/bfc_allocator.cc:1095] InUse at 731382500 of size 1024 next 1524\n",
      "2024-03-05 17:57:56.502599: I external/local_tsl/tsl/framework/bfc_allocator.cc:1095] InUse at 731382900 of size 1048576 next 1525\n",
      "2024-03-05 17:57:56.502603: I external/local_tsl/tsl/framework/bfc_allocator.cc:1095] InUse at 731482900 of size 1048576 next 1526\n",
      "2024-03-05 17:57:56.502607: I external/local_tsl/tsl/framework/bfc_allocator.cc:1095] InUse at 731582900 of size 4096 next 1527\n",
      "2024-03-05 17:57:56.502611: I external/local_tsl/tsl/framework/bfc_allocator.cc:1095] InUse at 731583900 of size 4096 next 1528\n",
      "2024-03-05 17:57:56.502615: I external/local_tsl/tsl/framework/bfc_allocator.cc:1095] InUse at 731584900 of size 4096 next 1529\n",
      "2024-03-05 17:57:56.502619: I external/local_tsl/tsl/framework/bfc_allocator.cc:1095] InUse at 731585900 of size 4096 next 1530\n",
      "2024-03-05 17:57:56.502623: I external/local_tsl/tsl/framework/bfc_allocator.cc:1095] InUse at 731586900 of size 4096 next 1531\n",
      "2024-03-05 17:57:56.502627: I external/local_tsl/tsl/framework/bfc_allocator.cc:1095] InUse at 731587900 of size 4096 next 1532\n",
      "2024-03-05 17:57:56.502631: I external/local_tsl/tsl/framework/bfc_allocator.cc:1095] InUse at 731588900 of size 1048576 next 1533\n",
      "2024-03-05 17:57:56.502635: I external/local_tsl/tsl/framework/bfc_allocator.cc:1095] InUse at 731688900 of size 1048576 next 1534\n",
      "2024-03-05 17:57:56.502639: I external/local_tsl/tsl/framework/bfc_allocator.cc:1095] InUse at 731788900 of size 1024 next 1535\n",
      "2024-03-05 17:57:56.502643: I external/local_tsl/tsl/framework/bfc_allocator.cc:1095] InUse at 731788d00 of size 1024 next 1536\n",
      "2024-03-05 17:57:56.502646: I external/local_tsl/tsl/framework/bfc_allocator.cc:1095] InUse at 731789100 of size 1024 next 1537\n",
      "2024-03-05 17:57:56.502650: I external/local_tsl/tsl/framework/bfc_allocator.cc:1095] InUse at 731789500 of size 1024 next 1538\n",
      "2024-03-05 17:57:56.502654: I external/local_tsl/tsl/framework/bfc_allocator.cc:1095] InUse at 731789900 of size 2359296 next 1539\n",
      "2024-03-05 17:57:56.502658: I external/local_tsl/tsl/framework/bfc_allocator.cc:1095] InUse at 7319c9900 of size 2359296 next 1540\n",
      "2024-03-05 17:57:56.502662: I external/local_tsl/tsl/framework/bfc_allocator.cc:1095] InUse at 731c09900 of size 1024 next 1541\n",
      "2024-03-05 17:57:56.502666: I external/local_tsl/tsl/framework/bfc_allocator.cc:1095] InUse at 731c09d00 of size 1024 next 1542\n",
      "2024-03-05 17:57:56.502670: I external/local_tsl/tsl/framework/bfc_allocator.cc:1095] InUse at 731c0a100 of size 1024 next 1543\n",
      "2024-03-05 17:57:56.502674: I external/local_tsl/tsl/framework/bfc_allocator.cc:1095] InUse at 731c0a500 of size 1024 next 1544\n",
      "2024-03-05 17:57:56.502678: I external/local_tsl/tsl/framework/bfc_allocator.cc:1095] InUse at 731c0a900 of size 1048576 next 1545\n",
      "2024-03-05 17:57:56.502682: I external/local_tsl/tsl/framework/bfc_allocator.cc:1095] InUse at 731d0a900 of size 1048576 next 1546\n",
      "2024-03-05 17:57:56.502686: I external/local_tsl/tsl/framework/bfc_allocator.cc:1095] InUse at 731e0a900 of size 4096 next 1547\n",
      "2024-03-05 17:57:56.502690: I external/local_tsl/tsl/framework/bfc_allocator.cc:1095] InUse at 731e0b900 of size 4096 next 1548\n",
      "2024-03-05 17:57:56.502694: I external/local_tsl/tsl/framework/bfc_allocator.cc:1095] InUse at 731e0c900 of size 4096 next 1549\n",
      "2024-03-05 17:57:56.502698: I external/local_tsl/tsl/framework/bfc_allocator.cc:1095] InUse at 731e0d900 of size 4096 next 1550\n",
      "2024-03-05 17:57:56.502702: I external/local_tsl/tsl/framework/bfc_allocator.cc:1095] InUse at 731e0e900 of size 4096 next 1551\n",
      "2024-03-05 17:57:56.502706: I external/local_tsl/tsl/framework/bfc_allocator.cc:1095] InUse at 731e0f900 of size 4096 next 1552\n",
      "2024-03-05 17:57:56.502710: I external/local_tsl/tsl/framework/bfc_allocator.cc:1095] InUse at 731e10900 of size 1048576 next 1553\n",
      "2024-03-05 17:57:56.502714: I external/local_tsl/tsl/framework/bfc_allocator.cc:1095] InUse at 731f10900 of size 1048576 next 1554\n",
      "2024-03-05 17:57:56.502718: I external/local_tsl/tsl/framework/bfc_allocator.cc:1095] InUse at 732010900 of size 1024 next 1555\n",
      "2024-03-05 17:57:56.502722: I external/local_tsl/tsl/framework/bfc_allocator.cc:1095] InUse at 732010d00 of size 1024 next 1556\n",
      "2024-03-05 17:57:56.502726: I external/local_tsl/tsl/framework/bfc_allocator.cc:1095] InUse at 732011100 of size 1024 next 1557\n",
      "2024-03-05 17:57:56.502730: I external/local_tsl/tsl/framework/bfc_allocator.cc:1095] InUse at 732011500 of size 1024 next 1558\n",
      "2024-03-05 17:57:56.502734: I external/local_tsl/tsl/framework/bfc_allocator.cc:1095] InUse at 732011900 of size 2359296 next 1559\n",
      "2024-03-05 17:57:56.502738: I external/local_tsl/tsl/framework/bfc_allocator.cc:1095] InUse at 732251900 of size 2359296 next 1560\n",
      "2024-03-05 17:57:56.502742: I external/local_tsl/tsl/framework/bfc_allocator.cc:1095] InUse at 732491900 of size 1024 next 1561\n",
      "2024-03-05 17:57:56.502750: I external/local_tsl/tsl/framework/bfc_allocator.cc:1095] InUse at 732491d00 of size 1024 next 1562\n",
      "2024-03-05 17:57:56.502753: I external/local_tsl/tsl/framework/bfc_allocator.cc:1095] InUse at 732492100 of size 1024 next 1563\n",
      "2024-03-05 17:57:56.502757: I external/local_tsl/tsl/framework/bfc_allocator.cc:1095] InUse at 732492500 of size 1024 next 1564\n",
      "2024-03-05 17:57:56.502761: I external/local_tsl/tsl/framework/bfc_allocator.cc:1095] InUse at 732492900 of size 1048576 next 1565\n",
      "2024-03-05 17:57:56.502765: I external/local_tsl/tsl/framework/bfc_allocator.cc:1095] InUse at 732592900 of size 1048576 next 1566\n",
      "2024-03-05 17:57:56.502768: I external/local_tsl/tsl/framework/bfc_allocator.cc:1095] InUse at 732692900 of size 4096 next 1567\n",
      "2024-03-05 17:57:56.502772: I external/local_tsl/tsl/framework/bfc_allocator.cc:1095] InUse at 732693900 of size 4096 next 1568\n",
      "2024-03-05 17:57:56.502776: I external/local_tsl/tsl/framework/bfc_allocator.cc:1095] InUse at 732694900 of size 4096 next 1569\n",
      "2024-03-05 17:57:56.502780: I external/local_tsl/tsl/framework/bfc_allocator.cc:1095] InUse at 732695900 of size 4096 next 1570\n",
      "2024-03-05 17:57:56.502783: I external/local_tsl/tsl/framework/bfc_allocator.cc:1095] InUse at 732696900 of size 4096 next 1571\n",
      "2024-03-05 17:57:56.502787: I external/local_tsl/tsl/framework/bfc_allocator.cc:1095] InUse at 732697900 of size 4096 next 1572\n",
      "2024-03-05 17:57:56.502791: I external/local_tsl/tsl/framework/bfc_allocator.cc:1095] InUse at 732698900 of size 1048576 next 1573\n",
      "2024-03-05 17:57:56.502795: I external/local_tsl/tsl/framework/bfc_allocator.cc:1095] InUse at 732798900 of size 1048576 next 1574\n",
      "2024-03-05 17:57:56.502799: I external/local_tsl/tsl/framework/bfc_allocator.cc:1095] InUse at 732898900 of size 1024 next 1575\n",
      "2024-03-05 17:57:56.502804: I external/local_tsl/tsl/framework/bfc_allocator.cc:1095] InUse at 732898d00 of size 1024 next 1576\n",
      "2024-03-05 17:57:56.502808: I external/local_tsl/tsl/framework/bfc_allocator.cc:1095] InUse at 732899100 of size 1024 next 1577\n",
      "2024-03-05 17:57:56.502812: I external/local_tsl/tsl/framework/bfc_allocator.cc:1095] InUse at 732899500 of size 1024 next 1578\n",
      "2024-03-05 17:57:56.502816: I external/local_tsl/tsl/framework/bfc_allocator.cc:1095] InUse at 732899900 of size 2359296 next 1579\n",
      "2024-03-05 17:57:56.502823: I external/local_tsl/tsl/framework/bfc_allocator.cc:1095] InUse at 732ad9900 of size 2359296 next 1580\n",
      "2024-03-05 17:57:56.502827: I external/local_tsl/tsl/framework/bfc_allocator.cc:1095] InUse at 732d19900 of size 1024 next 1581\n",
      "2024-03-05 17:57:56.502831: I external/local_tsl/tsl/framework/bfc_allocator.cc:1095] InUse at 732d19d00 of size 1024 next 1582\n",
      "2024-03-05 17:57:56.502835: I external/local_tsl/tsl/framework/bfc_allocator.cc:1095] InUse at 732d1a100 of size 1024 next 1583\n",
      "2024-03-05 17:57:56.502839: I external/local_tsl/tsl/framework/bfc_allocator.cc:1095] InUse at 732d1a500 of size 1024 next 1584\n",
      "2024-03-05 17:57:56.502843: I external/local_tsl/tsl/framework/bfc_allocator.cc:1095] InUse at 732d1a900 of size 1048576 next 1585\n",
      "2024-03-05 17:57:56.502846: I external/local_tsl/tsl/framework/bfc_allocator.cc:1095] InUse at 732e1a900 of size 1048576 next 1586\n",
      "2024-03-05 17:57:56.502850: I external/local_tsl/tsl/framework/bfc_allocator.cc:1095] InUse at 732f1a900 of size 4096 next 1587\n",
      "2024-03-05 17:57:56.502854: I external/local_tsl/tsl/framework/bfc_allocator.cc:1095] InUse at 732f1b900 of size 4096 next 1588\n",
      "2024-03-05 17:57:56.502858: I external/local_tsl/tsl/framework/bfc_allocator.cc:1095] InUse at 732f1c900 of size 4096 next 1589\n",
      "2024-03-05 17:57:56.502861: I external/local_tsl/tsl/framework/bfc_allocator.cc:1095] InUse at 732f1d900 of size 4096 next 1590\n",
      "2024-03-05 17:57:56.502865: I external/local_tsl/tsl/framework/bfc_allocator.cc:1095] InUse at 732f1e900 of size 4096 next 1591\n",
      "2024-03-05 17:57:56.502869: I external/local_tsl/tsl/framework/bfc_allocator.cc:1095] InUse at 732f1f900 of size 4096 next 1592\n",
      "2024-03-05 17:57:56.502873: I external/local_tsl/tsl/framework/bfc_allocator.cc:1095] InUse at 732f20900 of size 1048576 next 1593\n",
      "2024-03-05 17:57:56.502878: I external/local_tsl/tsl/framework/bfc_allocator.cc:1095] InUse at 733020900 of size 1447936 next 760\n",
      "2024-03-05 17:57:56.502883: I external/local_tsl/tsl/framework/bfc_allocator.cc:1095] InUse at 733182100 of size 4096 next 930\n",
      "2024-03-05 17:57:56.502887: I external/local_tsl/tsl/framework/bfc_allocator.cc:1095] InUse at 733183100 of size 1024 next 1594\n",
      "2024-03-05 17:57:56.502892: I external/local_tsl/tsl/framework/bfc_allocator.cc:1095] InUse at 733183500 of size 1024 next 1595\n",
      "2024-03-05 17:57:56.502897: I external/local_tsl/tsl/framework/bfc_allocator.cc:1095] InUse at 733183900 of size 1024 next 1596\n",
      "2024-03-05 17:57:56.502902: I external/local_tsl/tsl/framework/bfc_allocator.cc:1095] InUse at 733183d00 of size 1024 next 1597\n",
      "2024-03-05 17:57:56.502907: I external/local_tsl/tsl/framework/bfc_allocator.cc:1095] InUse at 733184100 of size 2359296 next 1598\n",
      "2024-03-05 17:57:56.502911: I external/local_tsl/tsl/framework/bfc_allocator.cc:1095] InUse at 7333c4100 of size 2359296 next 1599\n",
      "2024-03-05 17:57:56.502914: I external/local_tsl/tsl/framework/bfc_allocator.cc:1095] InUse at 733604100 of size 1024 next 1600\n",
      "2024-03-05 17:57:56.502918: I external/local_tsl/tsl/framework/bfc_allocator.cc:1095] InUse at 733604500 of size 1024 next 1601\n",
      "2024-03-05 17:57:56.502921: I external/local_tsl/tsl/framework/bfc_allocator.cc:1095] InUse at 733604900 of size 1024 next 1602\n",
      "2024-03-05 17:57:56.502925: I external/local_tsl/tsl/framework/bfc_allocator.cc:1095] InUse at 733604d00 of size 1024 next 1603\n",
      "2024-03-05 17:57:56.502928: I external/local_tsl/tsl/framework/bfc_allocator.cc:1095] InUse at 733605100 of size 1048576 next 1604\n",
      "2024-03-05 17:57:56.502932: I external/local_tsl/tsl/framework/bfc_allocator.cc:1095] InUse at 733705100 of size 1048576 next 1605\n",
      "2024-03-05 17:57:56.502935: I external/local_tsl/tsl/framework/bfc_allocator.cc:1095] InUse at 733805100 of size 4096 next 1606\n",
      "2024-03-05 17:57:56.502939: I external/local_tsl/tsl/framework/bfc_allocator.cc:1095] InUse at 733806100 of size 4096 next 1607\n",
      "2024-03-05 17:57:56.502942: I external/local_tsl/tsl/framework/bfc_allocator.cc:1095] InUse at 733807100 of size 4096 next 1608\n",
      "2024-03-05 17:57:56.502946: I external/local_tsl/tsl/framework/bfc_allocator.cc:1095] InUse at 733808100 of size 4096 next 1609\n",
      "2024-03-05 17:57:56.502949: I external/local_tsl/tsl/framework/bfc_allocator.cc:1095] InUse at 733809100 of size 4096 next 1610\n",
      "2024-03-05 17:57:56.502952: I external/local_tsl/tsl/framework/bfc_allocator.cc:1095] InUse at 73380a100 of size 4096 next 1611\n",
      "2024-03-05 17:57:56.502956: I external/local_tsl/tsl/framework/bfc_allocator.cc:1095] InUse at 73380b100 of size 2097152 next 1612\n",
      "2024-03-05 17:57:56.502959: I external/local_tsl/tsl/framework/bfc_allocator.cc:1095] InUse at 733a0b100 of size 2097152 next 1613\n",
      "2024-03-05 17:57:56.502963: I external/local_tsl/tsl/framework/bfc_allocator.cc:1095] InUse at 733c0b100 of size 2048 next 1614\n",
      "2024-03-05 17:57:56.502966: I external/local_tsl/tsl/framework/bfc_allocator.cc:1095] InUse at 733c0b900 of size 2048 next 1615\n",
      "2024-03-05 17:57:56.502970: I external/local_tsl/tsl/framework/bfc_allocator.cc:1095] InUse at 733c0c100 of size 2048 next 1616\n",
      "2024-03-05 17:57:56.502973: I external/local_tsl/tsl/framework/bfc_allocator.cc:1095] InUse at 733c0c900 of size 2048 next 1617\n",
      "2024-03-05 17:57:56.502977: I external/local_tsl/tsl/framework/bfc_allocator.cc:1095] InUse at 733c0d100 of size 9437184 next 1618\n",
      "2024-03-05 17:57:56.502980: I external/local_tsl/tsl/framework/bfc_allocator.cc:1095] InUse at 73450d100 of size 9437184 next 1619\n",
      "2024-03-05 17:57:56.502983: I external/local_tsl/tsl/framework/bfc_allocator.cc:1095] InUse at 734e0d100 of size 2048 next 1620\n",
      "2024-03-05 17:57:56.502987: I external/local_tsl/tsl/framework/bfc_allocator.cc:1095] InUse at 734e0d900 of size 2048 next 1621\n",
      "2024-03-05 17:57:56.502990: I external/local_tsl/tsl/framework/bfc_allocator.cc:1095] InUse at 734e0e100 of size 2048 next 1622\n",
      "2024-03-05 17:57:56.502994: I external/local_tsl/tsl/framework/bfc_allocator.cc:1095] InUse at 734e0e900 of size 2048 next 1623\n",
      "2024-03-05 17:57:56.502997: I external/local_tsl/tsl/framework/bfc_allocator.cc:1095] InUse at 734e0f100 of size 8388608 next 1624\n",
      "2024-03-05 17:57:56.503000: I external/local_tsl/tsl/framework/bfc_allocator.cc:1095] InUse at 73560f100 of size 8388608 next 1625\n",
      "2024-03-05 17:57:56.503004: I external/local_tsl/tsl/framework/bfc_allocator.cc:1095] InUse at 735e0f100 of size 8192 next 1626\n",
      "2024-03-05 17:57:56.503007: I external/local_tsl/tsl/framework/bfc_allocator.cc:1095] InUse at 735e11100 of size 8192 next 1627\n",
      "2024-03-05 17:57:56.503011: I external/local_tsl/tsl/framework/bfc_allocator.cc:1095] InUse at 735e13100 of size 4194304 next 1628\n",
      "2024-03-05 17:57:56.503014: I external/local_tsl/tsl/framework/bfc_allocator.cc:1095] InUse at 736213100 of size 4194304 next 1629\n",
      "2024-03-05 17:57:56.503018: I external/local_tsl/tsl/framework/bfc_allocator.cc:1095] InUse at 736613100 of size 8192 next 1630\n",
      "2024-03-05 17:57:56.503022: I external/local_tsl/tsl/framework/bfc_allocator.cc:1095] InUse at 736615100 of size 8192 next 1631\n",
      "2024-03-05 17:57:56.503025: I external/local_tsl/tsl/framework/bfc_allocator.cc:1095] InUse at 736617100 of size 8192 next 1632\n",
      "2024-03-05 17:57:56.503028: I external/local_tsl/tsl/framework/bfc_allocator.cc:1095] InUse at 736619100 of size 8192 next 1633\n",
      "2024-03-05 17:57:56.503032: I external/local_tsl/tsl/framework/bfc_allocator.cc:1095] InUse at 73661b100 of size 8192 next 1634\n",
      "2024-03-05 17:57:56.503035: I external/local_tsl/tsl/framework/bfc_allocator.cc:1095] InUse at 73661d100 of size 8192 next 1635\n",
      "2024-03-05 17:57:56.503039: I external/local_tsl/tsl/framework/bfc_allocator.cc:1095] InUse at 73661f100 of size 4194304 next 1636\n",
      "2024-03-05 17:57:56.503042: I external/local_tsl/tsl/framework/bfc_allocator.cc:1095] InUse at 736a1f100 of size 4194304 next 1637\n",
      "2024-03-05 17:57:56.503047: I external/local_tsl/tsl/framework/bfc_allocator.cc:1095] InUse at 736e1f100 of size 2048 next 1638\n",
      "2024-03-05 17:57:56.503052: I external/local_tsl/tsl/framework/bfc_allocator.cc:1095] InUse at 736e1f900 of size 2048 next 1639\n",
      "2024-03-05 17:57:56.503056: I external/local_tsl/tsl/framework/bfc_allocator.cc:1095] InUse at 736e20100 of size 2048 next 1640\n",
      "2024-03-05 17:57:56.503060: I external/local_tsl/tsl/framework/bfc_allocator.cc:1095] InUse at 736e20900 of size 2048 next 1641\n",
      "2024-03-05 17:57:56.503064: I external/local_tsl/tsl/framework/bfc_allocator.cc:1095] InUse at 736e21100 of size 9437184 next 1642\n",
      "2024-03-05 17:57:56.503067: I external/local_tsl/tsl/framework/bfc_allocator.cc:1095] InUse at 737721100 of size 9437184 next 1643\n",
      "2024-03-05 17:57:56.503070: I external/local_tsl/tsl/framework/bfc_allocator.cc:1095] InUse at 738021100 of size 2048 next 1644\n",
      "2024-03-05 17:57:56.503074: I external/local_tsl/tsl/framework/bfc_allocator.cc:1095] InUse at 738021900 of size 2048 next 1645\n",
      "2024-03-05 17:57:56.503077: I external/local_tsl/tsl/framework/bfc_allocator.cc:1095] InUse at 738022100 of size 2048 next 1646\n",
      "2024-03-05 17:57:56.503081: I external/local_tsl/tsl/framework/bfc_allocator.cc:1095] InUse at 738022900 of size 2048 next 1647\n",
      "2024-03-05 17:57:56.503084: I external/local_tsl/tsl/framework/bfc_allocator.cc:1095] InUse at 738023100 of size 4194304 next 1648\n",
      "2024-03-05 17:57:56.503087: I external/local_tsl/tsl/framework/bfc_allocator.cc:1095] InUse at 738423100 of size 4194304 next 1649\n",
      "2024-03-05 17:57:56.503091: I external/local_tsl/tsl/framework/bfc_allocator.cc:1095] InUse at 738823100 of size 8192 next 1650\n",
      "2024-03-05 17:57:56.503094: I external/local_tsl/tsl/framework/bfc_allocator.cc:1095] InUse at 738825100 of size 8192 next 1651\n",
      "2024-03-05 17:57:56.503098: I external/local_tsl/tsl/framework/bfc_allocator.cc:1095] InUse at 738827100 of size 8192 next 1652\n",
      "2024-03-05 17:57:56.503101: I external/local_tsl/tsl/framework/bfc_allocator.cc:1095] InUse at 738829100 of size 8192 next 1653\n",
      "2024-03-05 17:57:56.503105: I external/local_tsl/tsl/framework/bfc_allocator.cc:1095] InUse at 73882b100 of size 8192 next 1654\n",
      "2024-03-05 17:57:56.503108: I external/local_tsl/tsl/framework/bfc_allocator.cc:1095] InUse at 73882d100 of size 8192 next 1655\n",
      "2024-03-05 17:57:56.503111: I external/local_tsl/tsl/framework/bfc_allocator.cc:1095] InUse at 73882f100 of size 4194304 next 1656\n",
      "2024-03-05 17:57:56.503115: I external/local_tsl/tsl/framework/bfc_allocator.cc:1095] InUse at 738c2f100 of size 4194304 next 1657\n",
      "2024-03-05 17:57:56.503118: I external/local_tsl/tsl/framework/bfc_allocator.cc:1095] InUse at 73902f100 of size 2048 next 1658\n",
      "2024-03-05 17:57:56.503121: I external/local_tsl/tsl/framework/bfc_allocator.cc:1095] InUse at 73902f900 of size 2048 next 1659\n",
      "2024-03-05 17:57:56.503125: I external/local_tsl/tsl/framework/bfc_allocator.cc:1095] InUse at 739030100 of size 2048 next 1660\n",
      "2024-03-05 17:57:56.503129: I external/local_tsl/tsl/framework/bfc_allocator.cc:1095] InUse at 739030900 of size 2048 next 1661\n",
      "2024-03-05 17:57:56.503132: I external/local_tsl/tsl/framework/bfc_allocator.cc:1095] InUse at 739031100 of size 9437184 next 1662\n",
      "2024-03-05 17:57:56.503136: I external/local_tsl/tsl/framework/bfc_allocator.cc:1095] InUse at 739931100 of size 11763712 next 888\n",
      "2024-03-05 17:57:56.503140: I external/local_tsl/tsl/framework/bfc_allocator.cc:1095] InUse at 73a469100 of size 8192 next 833\n",
      "2024-03-05 17:57:56.503143: I external/local_tsl/tsl/framework/bfc_allocator.cc:1095] InUse at 73a46b100 of size 8192 next 818\n",
      "2024-03-05 17:57:56.503147: I external/local_tsl/tsl/framework/bfc_allocator.cc:1095] InUse at 73a46d100 of size 8388608 next 2276\n",
      "2024-03-05 17:57:56.503150: I external/local_tsl/tsl/framework/bfc_allocator.cc:1095] InUse at 73ac6d100 of size 8192 next 2277\n",
      "2024-03-05 17:57:56.503153: I external/local_tsl/tsl/framework/bfc_allocator.cc:1095] InUse at 73ac6f100 of size 8192 next 2278\n",
      "2024-03-05 17:57:56.503157: I external/local_tsl/tsl/framework/bfc_allocator.cc:1095] InUse at 73ac71100 of size 4194304 next 2279\n",
      "2024-03-05 17:57:56.503160: I external/local_tsl/tsl/framework/bfc_allocator.cc:1095] InUse at 73b071100 of size 4194304 next 2280\n",
      "2024-03-05 17:57:56.503165: I external/local_tsl/tsl/framework/bfc_allocator.cc:1095] InUse at 73b471100 of size 8192 next 2281\n",
      "2024-03-05 17:57:56.503169: I external/local_tsl/tsl/framework/bfc_allocator.cc:1095] InUse at 73b473100 of size 8192 next 2282\n",
      "2024-03-05 17:57:56.503172: I external/local_tsl/tsl/framework/bfc_allocator.cc:1095] InUse at 73b475100 of size 8192 next 2283\n",
      "2024-03-05 17:57:56.503175: I external/local_tsl/tsl/framework/bfc_allocator.cc:1095] InUse at 73b477100 of size 8192 next 2284\n",
      "2024-03-05 17:57:56.503179: I external/local_tsl/tsl/framework/bfc_allocator.cc:1095] InUse at 73b479100 of size 8192 next 2285\n",
      "2024-03-05 17:57:56.503182: I external/local_tsl/tsl/framework/bfc_allocator.cc:1095] InUse at 73b47b100 of size 8192 next 2286\n",
      "2024-03-05 17:57:56.503185: I external/local_tsl/tsl/framework/bfc_allocator.cc:1095] InUse at 73b47d100 of size 4194304 next 2287\n",
      "2024-03-05 17:57:56.503189: I external/local_tsl/tsl/framework/bfc_allocator.cc:1095] InUse at 73b87d100 of size 4194304 next 2288\n",
      "2024-03-05 17:57:56.503192: I external/local_tsl/tsl/framework/bfc_allocator.cc:1095] InUse at 73bc7d100 of size 2048 next 2289\n",
      "2024-03-05 17:57:56.503196: I external/local_tsl/tsl/framework/bfc_allocator.cc:1095] InUse at 73bc7d900 of size 2048 next 2290\n",
      "2024-03-05 17:57:56.503199: I external/local_tsl/tsl/framework/bfc_allocator.cc:1095] InUse at 73bc7e100 of size 2048 next 2291\n",
      "2024-03-05 17:57:56.503202: I external/local_tsl/tsl/framework/bfc_allocator.cc:1095] InUse at 73bc7e900 of size 2048 next 2292\n",
      "2024-03-05 17:57:56.503206: I external/local_tsl/tsl/framework/bfc_allocator.cc:1095] InUse at 73bc7f100 of size 9437184 next 2293\n",
      "2024-03-05 17:57:56.503209: I external/local_tsl/tsl/framework/bfc_allocator.cc:1095] InUse at 73c57f100 of size 9437184 next 2294\n",
      "2024-03-05 17:57:56.503213: I external/local_tsl/tsl/framework/bfc_allocator.cc:1095] InUse at 73ce7f100 of size 2048 next 2295\n",
      "2024-03-05 17:57:56.503216: I external/local_tsl/tsl/framework/bfc_allocator.cc:1095] InUse at 73ce7f900 of size 2048 next 2296\n",
      "2024-03-05 17:57:56.503219: I external/local_tsl/tsl/framework/bfc_allocator.cc:1095] InUse at 73ce80100 of size 2048 next 2297\n",
      "2024-03-05 17:57:56.503223: I external/local_tsl/tsl/framework/bfc_allocator.cc:1095] InUse at 73ce80900 of size 2048 next 2298\n",
      "2024-03-05 17:57:56.503226: I external/local_tsl/tsl/framework/bfc_allocator.cc:1095] InUse at 73ce81100 of size 4194304 next 2299\n",
      "2024-03-05 17:57:56.503230: I external/local_tsl/tsl/framework/bfc_allocator.cc:1095] InUse at 73d281100 of size 4194304 next 2300\n",
      "2024-03-05 17:57:56.503233: I external/local_tsl/tsl/framework/bfc_allocator.cc:1095] InUse at 73d681100 of size 8192 next 2301\n",
      "2024-03-05 17:57:56.503237: I external/local_tsl/tsl/framework/bfc_allocator.cc:1095] InUse at 73d683100 of size 8192 next 2302\n",
      "2024-03-05 17:57:56.503240: I external/local_tsl/tsl/framework/bfc_allocator.cc:1095] InUse at 73d685100 of size 8192 next 2303\n",
      "2024-03-05 17:57:56.503244: I external/local_tsl/tsl/framework/bfc_allocator.cc:1095] InUse at 73d687100 of size 8192 next 2304\n",
      "2024-03-05 17:57:56.503247: I external/local_tsl/tsl/framework/bfc_allocator.cc:1095] InUse at 73d689100 of size 8192 next 2305\n",
      "2024-03-05 17:57:56.503251: I external/local_tsl/tsl/framework/bfc_allocator.cc:1095] InUse at 73d68b100 of size 8192 next 2306\n",
      "2024-03-05 17:57:56.503254: I external/local_tsl/tsl/framework/bfc_allocator.cc:1095] InUse at 73d68d100 of size 4194304 next 2307\n",
      "2024-03-05 17:57:56.503257: I external/local_tsl/tsl/framework/bfc_allocator.cc:1095] InUse at 73da8d100 of size 4194304 next 2308\n",
      "2024-03-05 17:57:56.503261: I external/local_tsl/tsl/framework/bfc_allocator.cc:1095] InUse at 73de8d100 of size 2048 next 2309\n",
      "2024-03-05 17:57:56.503264: I external/local_tsl/tsl/framework/bfc_allocator.cc:1095] InUse at 73de8d900 of size 2048 next 2310\n",
      "2024-03-05 17:57:56.503268: I external/local_tsl/tsl/framework/bfc_allocator.cc:1095] InUse at 73de8e100 of size 2048 next 2311\n",
      "2024-03-05 17:57:56.503271: I external/local_tsl/tsl/framework/bfc_allocator.cc:1095] InUse at 73de8e900 of size 2048 next 2312\n",
      "2024-03-05 17:57:56.503361: I external/local_tsl/tsl/framework/bfc_allocator.cc:1095] InUse at 73de8f100 of size 9437184 next 2313\n",
      "2024-03-05 17:57:56.503371: I external/local_tsl/tsl/framework/bfc_allocator.cc:1095] InUse at 73e78f100 of size 9437184 next 2314\n",
      "2024-03-05 17:57:56.503375: I external/local_tsl/tsl/framework/bfc_allocator.cc:1095] InUse at 73f08f100 of size 2048 next 2315\n",
      "2024-03-05 17:57:56.503378: I external/local_tsl/tsl/framework/bfc_allocator.cc:1095] InUse at 73f08f900 of size 2048 next 2316\n",
      "2024-03-05 17:57:56.503382: I external/local_tsl/tsl/framework/bfc_allocator.cc:1095] InUse at 73f090100 of size 2048 next 2317\n",
      "2024-03-05 17:57:56.503387: I external/local_tsl/tsl/framework/bfc_allocator.cc:1095] InUse at 73f090900 of size 2048 next 2318\n",
      "2024-03-05 17:57:56.503391: I external/local_tsl/tsl/framework/bfc_allocator.cc:1095] InUse at 73f091100 of size 4194304 next 2319\n",
      "2024-03-05 17:57:56.503395: I external/local_tsl/tsl/framework/bfc_allocator.cc:1095] InUse at 73f491100 of size 4194304 next 2320\n",
      "2024-03-05 17:57:56.503398: I external/local_tsl/tsl/framework/bfc_allocator.cc:1095] InUse at 73f891100 of size 8192 next 2321\n",
      "2024-03-05 17:57:56.503402: I external/local_tsl/tsl/framework/bfc_allocator.cc:1095] InUse at 73f893100 of size 8192 next 2322\n",
      "2024-03-05 17:57:56.503405: I external/local_tsl/tsl/framework/bfc_allocator.cc:1095] InUse at 73f895100 of size 8192 next 2323\n",
      "2024-03-05 17:57:56.503408: I external/local_tsl/tsl/framework/bfc_allocator.cc:1095] InUse at 73f897100 of size 8192 next 2324\n",
      "2024-03-05 17:57:56.503412: I external/local_tsl/tsl/framework/bfc_allocator.cc:1095] InUse at 73f899100 of size 8192 next 2325\n",
      "2024-03-05 17:57:56.503415: I external/local_tsl/tsl/framework/bfc_allocator.cc:1095] InUse at 73f89b100 of size 8192 next 2326\n",
      "2024-03-05 17:57:56.503419: I external/local_tsl/tsl/framework/bfc_allocator.cc:1095] InUse at 73f89d100 of size 4096 next 2327\n",
      "2024-03-05 17:57:56.503422: I external/local_tsl/tsl/framework/bfc_allocator.cc:1095] InUse at 73f89e100 of size 4096 next 2328\n",
      "2024-03-05 17:57:56.503426: I external/local_tsl/tsl/framework/bfc_allocator.cc:1095] InUse at 73f89f100 of size 20224 next 2329\n",
      "2024-03-05 17:57:56.503429: I external/local_tsl/tsl/framework/bfc_allocator.cc:1095] InUse at 73f8a4000 of size 20224 next 2330\n",
      "2024-03-05 17:57:56.503433: I external/local_tsl/tsl/framework/bfc_allocator.cc:1095] InUse at 73f8a8f00 of size 256 next 2331\n",
      "2024-03-05 17:57:56.503436: I external/local_tsl/tsl/framework/bfc_allocator.cc:1095] InUse at 73f8a9000 of size 256 next 2332\n",
      "2024-03-05 17:57:56.503441: I external/local_tsl/tsl/framework/bfc_allocator.cc:1095] InUse at 73f8a9100 of size 256 next 2333\n",
      "2024-03-05 17:57:56.503444: I external/local_tsl/tsl/framework/bfc_allocator.cc:1095] InUse at 73f8a9200 of size 256 next 2334\n",
      "2024-03-05 17:57:56.503447: I external/local_tsl/tsl/framework/bfc_allocator.cc:1095] InUse at 73f8a9300 of size 256 next 2335\n",
      "2024-03-05 17:57:56.503451: I external/local_tsl/tsl/framework/bfc_allocator.cc:1095] InUse at 73f8a9400 of size 256 next 2336\n",
      "2024-03-05 17:57:56.503454: I external/local_tsl/tsl/framework/bfc_allocator.cc:1095] InUse at 73f8a9500 of size 1024 next 2357\n",
      "2024-03-05 17:57:56.503458: I external/local_tsl/tsl/framework/bfc_allocator.cc:1095] InUse at 73f8a9900 of size 1024 next 2358\n",
      "2024-03-05 17:57:56.503461: I external/local_tsl/tsl/framework/bfc_allocator.cc:1095] InUse at 73f8a9d00 of size 1024 next 2359\n",
      "2024-03-05 17:57:56.503465: I external/local_tsl/tsl/framework/bfc_allocator.cc:1095] InUse at 73f8aa100 of size 1024 next 2360\n",
      "2024-03-05 17:57:56.503468: I external/local_tsl/tsl/framework/bfc_allocator.cc:1095] InUse at 73f8aa500 of size 1024 next 2369\n",
      "2024-03-05 17:57:56.503471: I external/local_tsl/tsl/framework/bfc_allocator.cc:1095] InUse at 73f8aa900 of size 1024 next 2370\n",
      "2024-03-05 17:57:56.503475: I external/local_tsl/tsl/framework/bfc_allocator.cc:1095] InUse at 73f8aad00 of size 1024 next 2371\n",
      "2024-03-05 17:57:56.503479: I external/local_tsl/tsl/framework/bfc_allocator.cc:1095] InUse at 73f8ab100 of size 11162112 next 2376\n",
      "2024-03-05 17:57:56.503483: I external/local_tsl/tsl/framework/bfc_allocator.cc:1095] InUse at 740350300 of size 20991488 next 853\n",
      "2024-03-05 17:57:56.503487: I external/local_tsl/tsl/framework/bfc_allocator.cc:1095] InUse at 741755100 of size 8192 next 880\n",
      "2024-03-05 17:57:56.503491: I external/local_tsl/tsl/framework/bfc_allocator.cc:1095] InUse at 741757100 of size 8192 next 844\n",
      "2024-03-05 17:57:56.503494: I external/local_tsl/tsl/framework/bfc_allocator.cc:1095] InUse at 741759100 of size 256 next 2345\n",
      "2024-03-05 17:57:56.503498: I external/local_tsl/tsl/framework/bfc_allocator.cc:1095] InUse at 741759200 of size 256 next 2346\n",
      "2024-03-05 17:57:56.503501: I external/local_tsl/tsl/framework/bfc_allocator.cc:1095] InUse at 741759300 of size 256 next 2347\n",
      "2024-03-05 17:57:56.503504: I external/local_tsl/tsl/framework/bfc_allocator.cc:1095] InUse at 741759400 of size 256 next 2348\n",
      "2024-03-05 17:57:56.503508: I external/local_tsl/tsl/framework/bfc_allocator.cc:1095] InUse at 741759500 of size 256 next 2350\n",
      "2024-03-05 17:57:56.503512: I external/local_tsl/tsl/framework/bfc_allocator.cc:1095] InUse at 741759600 of size 256 next 2351\n",
      "2024-03-05 17:57:56.503515: I external/local_tsl/tsl/framework/bfc_allocator.cc:1095] InUse at 741759700 of size 256 next 2355\n",
      "2024-03-05 17:57:56.503518: I external/local_tsl/tsl/framework/bfc_allocator.cc:1095] InUse at 741759800 of size 256 next 2356\n",
      "2024-03-05 17:57:56.503522: I external/local_tsl/tsl/framework/bfc_allocator.cc:1095] InUse at 741759900 of size 256 next 2363\n",
      "2024-03-05 17:57:56.503525: I external/local_tsl/tsl/framework/bfc_allocator.cc:1095] InUse at 741759a00 of size 256 next 2364\n",
      "2024-03-05 17:57:56.503529: I external/local_tsl/tsl/framework/bfc_allocator.cc:1095] InUse at 741759b00 of size 256 next 2339\n",
      "2024-03-05 17:57:56.503532: I external/local_tsl/tsl/framework/bfc_allocator.cc:1095] InUse at 741759c00 of size 2304 next 2340\n",
      "2024-03-05 17:57:56.503536: I external/local_tsl/tsl/framework/bfc_allocator.cc:1095] InUse at 74175a500 of size 1280 next 2341\n",
      "2024-03-05 17:57:56.503539: I external/local_tsl/tsl/framework/bfc_allocator.cc:1095] InUse at 74175aa00 of size 256 next 2342\n",
      "2024-03-05 17:57:56.503543: I external/local_tsl/tsl/framework/bfc_allocator.cc:1095] InUse at 74175ab00 of size 1024 next 2380\n",
      "2024-03-05 17:57:56.503546: I external/local_tsl/tsl/framework/bfc_allocator.cc:1095] InUse at 74175af00 of size 1024 next 2381\n",
      "2024-03-05 17:57:56.503550: I external/local_tsl/tsl/framework/bfc_allocator.cc:1095] InUse at 74175b300 of size 1024 next 2382\n",
      "2024-03-05 17:57:56.503554: I external/local_tsl/tsl/framework/bfc_allocator.cc:1095] InUse at 74175b700 of size 34783744 next 2337\n",
      "2024-03-05 17:57:56.503558: I external/local_tsl/tsl/framework/bfc_allocator.cc:1095] InUse at 743887900 of size 34786816 next 2338\n",
      "2024-03-05 17:57:56.503562: I external/local_tsl/tsl/framework/bfc_allocator.cc:1095] InUse at 7459b4700 of size 50907648 next 914\n",
      "2024-03-05 17:57:56.503565: I external/local_tsl/tsl/framework/bfc_allocator.cc:1095] InUse at 748a41100 of size 8192 next 887\n",
      "2024-03-05 17:57:56.503569: I external/local_tsl/tsl/framework/bfc_allocator.cc:1095] InUse at 748a43100 of size 165120000 next 1797\n",
      "2024-03-05 17:57:56.503573: I external/local_tsl/tsl/framework/bfc_allocator.cc:1095] InUse at 7527bb900 of size 165120000 next 2368\n",
      "2024-03-05 17:57:56.503576: I external/local_tsl/tsl/framework/bfc_allocator.cc:1095] InUse at 75c534100 of size 48148992 next 1791\n",
      "2024-03-05 17:57:56.503580: I external/local_tsl/tsl/framework/bfc_allocator.cc:1095] InUse at 75f31f300 of size 44648448 next 1790\n",
      "2024-03-05 17:57:56.503584: I external/local_tsl/tsl/framework/bfc_allocator.cc:1095] InUse at 761db3b00 of size 65324288 next 18446744073709551615\n",
      "2024-03-05 17:57:56.503588: I external/local_tsl/tsl/framework/bfc_allocator.cc:1100]      Summary of in-use Chunks by size: \n",
      "2024-03-05 17:57:56.503599: I external/local_tsl/tsl/framework/bfc_allocator.cc:1103] 383 Chunks of size 256 totalling 95.8KiB\n",
      "2024-03-05 17:57:56.503605: I external/local_tsl/tsl/framework/bfc_allocator.cc:1103] 233 Chunks of size 512 totalling 116.5KiB\n",
      "2024-03-05 17:57:56.503609: I external/local_tsl/tsl/framework/bfc_allocator.cc:1103] 3 Chunks of size 768 totalling 2.2KiB\n",
      "2024-03-05 17:57:56.503613: I external/local_tsl/tsl/framework/bfc_allocator.cc:1103] 453 Chunks of size 1024 totalling 453.0KiB\n",
      "2024-03-05 17:57:56.503617: I external/local_tsl/tsl/framework/bfc_allocator.cc:1103] 7 Chunks of size 1280 totalling 8.8KiB\n",
      "2024-03-05 17:57:56.503620: I external/local_tsl/tsl/framework/bfc_allocator.cc:1103] 4 Chunks of size 1536 totalling 6.0KiB\n",
      "2024-03-05 17:57:56.503624: I external/local_tsl/tsl/framework/bfc_allocator.cc:1103] 4 Chunks of size 1792 totalling 7.0KiB\n",
      "2024-03-05 17:57:56.503628: I external/local_tsl/tsl/framework/bfc_allocator.cc:1103] 319 Chunks of size 2048 totalling 638.0KiB\n",
      "2024-03-05 17:57:56.503632: I external/local_tsl/tsl/framework/bfc_allocator.cc:1103] 1 Chunks of size 2304 totalling 2.2KiB\n",
      "2024-03-05 17:57:56.503635: I external/local_tsl/tsl/framework/bfc_allocator.cc:1103] 3 Chunks of size 2560 totalling 7.5KiB\n",
      "2024-03-05 17:57:56.503639: I external/local_tsl/tsl/framework/bfc_allocator.cc:1103] 8 Chunks of size 3072 totalling 24.0KiB\n",
      "2024-03-05 17:57:56.503643: I external/local_tsl/tsl/framework/bfc_allocator.cc:1103] 1 Chunks of size 3328 totalling 3.2KiB\n",
      "2024-03-05 17:57:56.503647: I external/local_tsl/tsl/framework/bfc_allocator.cc:1103] 5 Chunks of size 3584 totalling 17.5KiB\n",
      "2024-03-05 17:57:56.503651: I external/local_tsl/tsl/framework/bfc_allocator.cc:1103] 236 Chunks of size 4096 totalling 944.0KiB\n",
      "2024-03-05 17:57:56.503654: I external/local_tsl/tsl/framework/bfc_allocator.cc:1103] 4 Chunks of size 5120 totalling 20.0KiB\n",
      "2024-03-05 17:57:56.503658: I external/local_tsl/tsl/framework/bfc_allocator.cc:1103] 2 Chunks of size 5632 totalling 11.0KiB\n",
      "2024-03-05 17:57:56.503662: I external/local_tsl/tsl/framework/bfc_allocator.cc:1103] 1 Chunks of size 5888 totalling 5.8KiB\n",
      "2024-03-05 17:57:56.503666: I external/local_tsl/tsl/framework/bfc_allocator.cc:1103] 4 Chunks of size 6144 totalling 24.0KiB\n",
      "2024-03-05 17:57:56.503670: I external/local_tsl/tsl/framework/bfc_allocator.cc:1103] 1 Chunks of size 6400 totalling 6.2KiB\n",
      "2024-03-05 17:57:56.503674: I external/local_tsl/tsl/framework/bfc_allocator.cc:1103] 5 Chunks of size 7168 totalling 35.0KiB\n",
      "2024-03-05 17:57:56.503678: I external/local_tsl/tsl/framework/bfc_allocator.cc:1103] 1 Chunks of size 7680 totalling 7.5KiB\n",
      "2024-03-05 17:57:56.503682: I external/local_tsl/tsl/framework/bfc_allocator.cc:1103] 1 Chunks of size 7936 totalling 7.8KiB\n",
      "2024-03-05 17:57:56.503686: I external/local_tsl/tsl/framework/bfc_allocator.cc:1103] 119 Chunks of size 8192 totalling 952.0KiB\n",
      "2024-03-05 17:57:56.503690: I external/local_tsl/tsl/framework/bfc_allocator.cc:1103] 3 Chunks of size 10240 totalling 30.0KiB\n",
      "2024-03-05 17:57:56.503694: I external/local_tsl/tsl/framework/bfc_allocator.cc:1103] 2 Chunks of size 12288 totalling 24.0KiB\n",
      "2024-03-05 17:57:56.503697: I external/local_tsl/tsl/framework/bfc_allocator.cc:1103] 10 Chunks of size 16384 totalling 160.0KiB\n",
      "2024-03-05 17:57:56.503701: I external/local_tsl/tsl/framework/bfc_allocator.cc:1103] 11 Chunks of size 20224 totalling 217.2KiB\n",
      "2024-03-05 17:57:56.503705: I external/local_tsl/tsl/framework/bfc_allocator.cc:1103] 1 Chunks of size 20992 totalling 20.5KiB\n",
      "2024-03-05 17:57:56.503710: I external/local_tsl/tsl/framework/bfc_allocator.cc:1103] 1 Chunks of size 24576 totalling 24.0KiB\n",
      "2024-03-05 17:57:56.503713: I external/local_tsl/tsl/framework/bfc_allocator.cc:1103] 1 Chunks of size 27904 totalling 27.2KiB\n",
      "2024-03-05 17:57:56.503718: I external/local_tsl/tsl/framework/bfc_allocator.cc:1103] 1 Chunks of size 33024 totalling 32.2KiB\n",
      "2024-03-05 17:57:56.503723: I external/local_tsl/tsl/framework/bfc_allocator.cc:1103] 1 Chunks of size 35072 totalling 34.2KiB\n",
      "2024-03-05 17:57:56.503728: I external/local_tsl/tsl/framework/bfc_allocator.cc:1103] 7 Chunks of size 37632 totalling 257.2KiB\n",
      "2024-03-05 17:57:56.503733: I external/local_tsl/tsl/framework/bfc_allocator.cc:1103] 1 Chunks of size 40960 totalling 40.0KiB\n",
      "2024-03-05 17:57:56.503738: I external/local_tsl/tsl/framework/bfc_allocator.cc:1103] 1 Chunks of size 60672 totalling 59.2KiB\n",
      "2024-03-05 17:57:56.503741: I external/local_tsl/tsl/framework/bfc_allocator.cc:1103] 1 Chunks of size 64256 totalling 62.8KiB\n",
      "2024-03-05 17:57:56.503745: I external/local_tsl/tsl/framework/bfc_allocator.cc:1103] 53 Chunks of size 65536 totalling 3.31MiB\n",
      "2024-03-05 17:57:56.503749: I external/local_tsl/tsl/framework/bfc_allocator.cc:1103] 2 Chunks of size 73728 totalling 144.0KiB\n",
      "2024-03-05 17:57:56.503753: I external/local_tsl/tsl/framework/bfc_allocator.cc:1103] 3 Chunks of size 81920 totalling 240.0KiB\n",
      "2024-03-05 17:57:56.503757: I external/local_tsl/tsl/framework/bfc_allocator.cc:1103] 1 Chunks of size 87808 totalling 85.8KiB\n",
      "2024-03-05 17:57:56.503761: I external/local_tsl/tsl/framework/bfc_allocator.cc:1103] 1 Chunks of size 97024 totalling 94.8KiB\n",
      "2024-03-05 17:57:56.503765: I external/local_tsl/tsl/framework/bfc_allocator.cc:1103] 1 Chunks of size 98304 totalling 96.0KiB\n",
      "2024-03-05 17:57:56.503769: I external/local_tsl/tsl/framework/bfc_allocator.cc:1103] 1 Chunks of size 126208 totalling 123.2KiB\n",
      "2024-03-05 17:57:56.503773: I external/local_tsl/tsl/framework/bfc_allocator.cc:1103] 5 Chunks of size 131072 totalling 640.0KiB\n",
      "2024-03-05 17:57:56.503777: I external/local_tsl/tsl/framework/bfc_allocator.cc:1103] 1 Chunks of size 143360 totalling 140.0KiB\n",
      "2024-03-05 17:57:56.503780: I external/local_tsl/tsl/framework/bfc_allocator.cc:1103] 23 Chunks of size 147456 totalling 3.23MiB\n",
      "2024-03-05 17:57:56.503784: I external/local_tsl/tsl/framework/bfc_allocator.cc:1103] 1 Chunks of size 157440 totalling 153.8KiB\n",
      "2024-03-05 17:57:56.503788: I external/local_tsl/tsl/framework/bfc_allocator.cc:1103] 1 Chunks of size 162304 totalling 158.5KiB\n",
      "2024-03-05 17:57:56.503792: I external/local_tsl/tsl/framework/bfc_allocator.cc:1103] 1 Chunks of size 183552 totalling 179.2KiB\n",
      "2024-03-05 17:57:56.503796: I external/local_tsl/tsl/framework/bfc_allocator.cc:1103] 1 Chunks of size 186368 totalling 182.0KiB\n",
      "2024-03-05 17:57:56.503799: I external/local_tsl/tsl/framework/bfc_allocator.cc:1103] 1 Chunks of size 191744 totalling 187.2KiB\n",
      "2024-03-05 17:57:56.503803: I external/local_tsl/tsl/framework/bfc_allocator.cc:1103] 1 Chunks of size 197632 totalling 193.0KiB\n",
      "2024-03-05 17:57:56.503807: I external/local_tsl/tsl/framework/bfc_allocator.cc:1103] 1 Chunks of size 201728 totalling 197.0KiB\n",
      "2024-03-05 17:57:56.503812: I external/local_tsl/tsl/framework/bfc_allocator.cc:1103] 61 Chunks of size 262144 totalling 15.25MiB\n",
      "2024-03-05 17:57:56.503816: I external/local_tsl/tsl/framework/bfc_allocator.cc:1103] 11 Chunks of size 327680 totalling 3.44MiB\n",
      "2024-03-05 17:57:56.503820: I external/local_tsl/tsl/framework/bfc_allocator.cc:1103] 2 Chunks of size 393216 totalling 768.0KiB\n",
      "2024-03-05 17:57:56.503823: I external/local_tsl/tsl/framework/bfc_allocator.cc:1103] 1 Chunks of size 413440 totalling 403.8KiB\n",
      "2024-03-05 17:57:56.503827: I external/local_tsl/tsl/framework/bfc_allocator.cc:1103] 15 Chunks of size 524288 totalling 7.50MiB\n",
      "2024-03-05 17:57:56.503831: I external/local_tsl/tsl/framework/bfc_allocator.cc:1103] 28 Chunks of size 589824 totalling 15.75MiB\n",
      "2024-03-05 17:57:56.503835: I external/local_tsl/tsl/framework/bfc_allocator.cc:1103] 1 Chunks of size 655360 totalling 640.0KiB\n",
      "2024-03-05 17:57:56.503839: I external/local_tsl/tsl/framework/bfc_allocator.cc:1103] 3 Chunks of size 720896 totalling 2.06MiB\n",
      "2024-03-05 17:57:56.503843: I external/local_tsl/tsl/framework/bfc_allocator.cc:1103] 1 Chunks of size 739328 totalling 722.0KiB\n",
      "2024-03-05 17:57:56.503846: I external/local_tsl/tsl/framework/bfc_allocator.cc:1103] 1 Chunks of size 763904 totalling 746.0KiB\n",
      "2024-03-05 17:57:56.503850: I external/local_tsl/tsl/framework/bfc_allocator.cc:1103] 1 Chunks of size 851968 totalling 832.0KiB\n",
      "2024-03-05 17:57:56.503854: I external/local_tsl/tsl/framework/bfc_allocator.cc:1103] 1 Chunks of size 897024 totalling 876.0KiB\n",
      "2024-03-05 17:57:56.503858: I external/local_tsl/tsl/framework/bfc_allocator.cc:1103] 1 Chunks of size 908288 totalling 887.0KiB\n",
      "2024-03-05 17:57:56.503861: I external/local_tsl/tsl/framework/bfc_allocator.cc:1103] 4 Chunks of size 917504 totalling 3.50MiB\n",
      "2024-03-05 17:57:56.503865: I external/local_tsl/tsl/framework/bfc_allocator.cc:1103] 1 Chunks of size 935936 totalling 914.0KiB\n",
      "2024-03-05 17:57:56.503869: I external/local_tsl/tsl/framework/bfc_allocator.cc:1103] 92 Chunks of size 1048576 totalling 92.00MiB\n",
      "2024-03-05 17:57:56.503873: I external/local_tsl/tsl/framework/bfc_allocator.cc:1103] 3 Chunks of size 1179648 totalling 3.38MiB\n",
      "2024-03-05 17:57:56.503877: I external/local_tsl/tsl/framework/bfc_allocator.cc:1103] 11 Chunks of size 1310720 totalling 13.75MiB\n",
      "2024-03-05 17:57:56.503881: I external/local_tsl/tsl/framework/bfc_allocator.cc:1103] 1 Chunks of size 1447936 totalling 1.38MiB\n",
      "2024-03-05 17:57:56.503884: I external/local_tsl/tsl/framework/bfc_allocator.cc:1103] 4 Chunks of size 1572864 totalling 6.00MiB\n",
      "2024-03-05 17:57:56.503888: I external/local_tsl/tsl/framework/bfc_allocator.cc:1103] 2 Chunks of size 1835008 totalling 3.50MiB\n",
      "2024-03-05 17:57:56.503892: I external/local_tsl/tsl/framework/bfc_allocator.cc:1103] 18 Chunks of size 2097152 totalling 36.00MiB\n",
      "2024-03-05 17:57:56.503896: I external/local_tsl/tsl/framework/bfc_allocator.cc:1103] 45 Chunks of size 2359296 totalling 101.25MiB\n",
      "2024-03-05 17:57:56.503900: I external/local_tsl/tsl/framework/bfc_allocator.cc:1103] 1 Chunks of size 2613248 totalling 2.49MiB\n",
      "2024-03-05 17:57:56.503903: I external/local_tsl/tsl/framework/bfc_allocator.cc:1103] 2 Chunks of size 2827520 totalling 5.39MiB\n",
      "2024-03-05 17:57:56.503907: I external/local_tsl/tsl/framework/bfc_allocator.cc:1103] 1 Chunks of size 3284992 totalling 3.13MiB\n",
      "2024-03-05 17:57:56.503911: I external/local_tsl/tsl/framework/bfc_allocator.cc:1103] 2 Chunks of size 3407872 totalling 6.50MiB\n",
      "2024-03-05 17:57:56.503915: I external/local_tsl/tsl/framework/bfc_allocator.cc:1103] 1 Chunks of size 3513856 totalling 3.35MiB\n",
      "2024-03-05 17:57:56.503918: I external/local_tsl/tsl/framework/bfc_allocator.cc:1103] 1 Chunks of size 3521792 totalling 3.36MiB\n",
      "2024-03-05 17:57:56.503922: I external/local_tsl/tsl/framework/bfc_allocator.cc:1103] 6 Chunks of size 3670016 totalling 21.00MiB\n",
      "2024-03-05 17:57:56.503926: I external/local_tsl/tsl/framework/bfc_allocator.cc:1103] 43 Chunks of size 4194304 totalling 172.00MiB\n",
      "2024-03-05 17:57:56.503930: I external/local_tsl/tsl/framework/bfc_allocator.cc:1103] 6 Chunks of size 5242880 totalling 30.00MiB\n",
      "2024-03-05 17:57:56.503934: I external/local_tsl/tsl/framework/bfc_allocator.cc:1103] 1 Chunks of size 5505024 totalling 5.25MiB\n",
      "2024-03-05 17:57:56.503938: I external/local_tsl/tsl/framework/bfc_allocator.cc:1103] 1 Chunks of size 5580800 totalling 5.32MiB\n",
      "2024-03-05 17:57:56.503942: I external/local_tsl/tsl/framework/bfc_allocator.cc:1103] 1 Chunks of size 6029312 totalling 5.75MiB\n",
      "2024-03-05 17:57:56.503946: I external/local_tsl/tsl/framework/bfc_allocator.cc:1103] 3 Chunks of size 6291456 totalling 18.00MiB\n",
      "2024-03-05 17:57:56.503950: I external/local_tsl/tsl/framework/bfc_allocator.cc:1103] 1 Chunks of size 7340032 totalling 7.00MiB\n",
      "2024-03-05 17:57:56.503955: I external/local_tsl/tsl/framework/bfc_allocator.cc:1103] 5 Chunks of size 8388608 totalling 40.00MiB\n",
      "2024-03-05 17:57:56.503960: I external/local_tsl/tsl/framework/bfc_allocator.cc:1103] 23 Chunks of size 9437184 totalling 207.00MiB\n",
      "2024-03-05 17:57:56.503965: I external/local_tsl/tsl/framework/bfc_allocator.cc:1103] 1 Chunks of size 11162112 totalling 10.64MiB\n",
      "2024-03-05 17:57:56.503969: I external/local_tsl/tsl/framework/bfc_allocator.cc:1103] 1 Chunks of size 11763712 totalling 11.22MiB\n",
      "2024-03-05 17:57:56.503973: I external/local_tsl/tsl/framework/bfc_allocator.cc:1103] 1 Chunks of size 11843584 totalling 11.29MiB\n",
      "2024-03-05 17:57:56.503976: I external/local_tsl/tsl/framework/bfc_allocator.cc:1103] 4 Chunks of size 12582912 totalling 48.00MiB\n",
      "2024-03-05 17:57:56.503980: I external/local_tsl/tsl/framework/bfc_allocator.cc:1103] 1 Chunks of size 12791808 totalling 12.20MiB\n",
      "2024-03-05 17:57:56.503984: I external/local_tsl/tsl/framework/bfc_allocator.cc:1103] 4 Chunks of size 14680064 totalling 56.00MiB\n",
      "2024-03-05 17:57:56.503988: I external/local_tsl/tsl/framework/bfc_allocator.cc:1103] 1 Chunks of size 18630912 totalling 17.77MiB\n",
      "2024-03-05 17:57:56.503992: I external/local_tsl/tsl/framework/bfc_allocator.cc:1103] 1 Chunks of size 20991488 totalling 20.02MiB\n",
      "2024-03-05 17:57:56.503996: I external/local_tsl/tsl/framework/bfc_allocator.cc:1103] 11 Chunks of size 22324224 totalling 234.19MiB\n",
      "2024-03-05 17:57:56.504000: I external/local_tsl/tsl/framework/bfc_allocator.cc:1103] 3 Chunks of size 29721600 totalling 85.03MiB\n",
      "2024-03-05 17:57:56.504005: I external/local_tsl/tsl/framework/bfc_allocator.cc:1103] 1 Chunks of size 34783744 totalling 33.17MiB\n",
      "2024-03-05 17:57:56.504010: I external/local_tsl/tsl/framework/bfc_allocator.cc:1103] 1 Chunks of size 34786816 totalling 33.17MiB\n",
      "2024-03-05 17:57:56.504016: I external/local_tsl/tsl/framework/bfc_allocator.cc:1103] 8 Chunks of size 41280000 totalling 314.94MiB\n",
      "2024-03-05 17:57:56.504020: I external/local_tsl/tsl/framework/bfc_allocator.cc:1103] 1 Chunks of size 43067392 totalling 41.07MiB\n",
      "2024-03-05 17:57:56.504024: I external/local_tsl/tsl/framework/bfc_allocator.cc:1103] 2 Chunks of size 44648448 totalling 85.16MiB\n",
      "2024-03-05 17:57:56.504028: I external/local_tsl/tsl/framework/bfc_allocator.cc:1103] 3 Chunks of size 48148992 totalling 137.75MiB\n",
      "2024-03-05 17:57:56.504032: I external/local_tsl/tsl/framework/bfc_allocator.cc:1103] 1 Chunks of size 50907648 totalling 48.55MiB\n",
      "2024-03-05 17:57:56.504036: I external/local_tsl/tsl/framework/bfc_allocator.cc:1103] 1 Chunks of size 64805376 totalling 61.80MiB\n",
      "2024-03-05 17:57:56.504040: I external/local_tsl/tsl/framework/bfc_allocator.cc:1103] 1 Chunks of size 65324288 totalling 62.30MiB\n",
      "2024-03-05 17:57:56.504043: I external/local_tsl/tsl/framework/bfc_allocator.cc:1103] 1 Chunks of size 79209984 totalling 75.54MiB\n",
      "2024-03-05 17:57:56.504047: I external/local_tsl/tsl/framework/bfc_allocator.cc:1103] 4 Chunks of size 89296896 totalling 340.64MiB\n",
      "2024-03-05 17:57:56.504051: I external/local_tsl/tsl/framework/bfc_allocator.cc:1103] 3 Chunks of size 131072000 totalling 375.00MiB\n",
      "2024-03-05 17:57:56.504055: I external/local_tsl/tsl/framework/bfc_allocator.cc:1103] 1 Chunks of size 152162304 totalling 145.11MiB\n",
      "2024-03-05 17:57:56.504060: I external/local_tsl/tsl/framework/bfc_allocator.cc:1103] 1 Chunks of size 157489152 totalling 150.19MiB\n",
      "2024-03-05 17:57:56.504064: I external/local_tsl/tsl/framework/bfc_allocator.cc:1103] 1 Chunks of size 164992000 totalling 157.35MiB\n",
      "2024-03-05 17:57:56.504068: I external/local_tsl/tsl/framework/bfc_allocator.cc:1103] 3 Chunks of size 165120000 totalling 472.41MiB\n",
      "2024-03-05 17:57:56.504072: I external/local_tsl/tsl/framework/bfc_allocator.cc:1103] 1 Chunks of size 176749568 totalling 168.56MiB\n",
      "2024-03-05 17:57:56.504076: I external/local_tsl/tsl/framework/bfc_allocator.cc:1103] 4 Chunks of size 176752640 totalling 674.26MiB\n",
      "2024-03-05 17:57:56.504080: I external/local_tsl/tsl/framework/bfc_allocator.cc:1103] 1 Chunks of size 178593792 totalling 170.32MiB\n",
      "2024-03-05 17:57:56.504084: I external/local_tsl/tsl/framework/bfc_allocator.cc:1103] 1 Chunks of size 199393024 totalling 190.16MiB\n",
      "2024-03-05 17:57:56.504088: I external/local_tsl/tsl/framework/bfc_allocator.cc:1103] 1 Chunks of size 215184384 totalling 205.22MiB\n",
      "2024-03-05 17:57:56.504092: I external/local_tsl/tsl/framework/bfc_allocator.cc:1103] 1 Chunks of size 230426624 totalling 219.75MiB\n",
      "2024-03-05 17:57:56.504096: I external/local_tsl/tsl/framework/bfc_allocator.cc:1107] Sum Total of in-use chunks: 5.40GiB\n",
      "2024-03-05 17:57:56.504102: I external/local_tsl/tsl/framework/bfc_allocator.cc:1109] Total bytes in pool: 5848956928 memory_limit_: 5848956928 available bytes: 0 curr_region_allocation_bytes_: 11697913856\n",
      "2024-03-05 17:57:56.504110: I external/local_tsl/tsl/framework/bfc_allocator.cc:1114] Stats: \n",
      "Limit:                      5848956928\n",
      "InUse:                      5797913088\n",
      "MaxInUse:                   5848954880\n",
      "NumAllocs:                      278589\n",
      "MaxAllocSize:               1536013312\n",
      "Reserved:                            0\n",
      "PeakReserved:                        0\n",
      "LargestFreeBlock:                    0\n",
      "\n",
      "2024-03-05 17:57:56.504170: W external/local_tsl/tsl/framework/bfc_allocator.cc:497] ***********************************x****************************************************************\n",
      "2024-03-05 17:57:56.504213: W tensorflow/core/framework/op_kernel.cc:1839] OP_REQUIRES failed at conv_ops_impl.h:679 : RESOURCE_EXHAUSTED: OOM when allocating tensor with shape[258,512,13,13] and type float on /job:localhost/replica:0/task:0/device:GPU:0 by allocator GPU_0_bfc\n"
     ]
    },
    {
     "ename": "ResourceExhaustedError",
     "evalue": "Graph execution error:\n\nDetected at node ResNet50V2-feat/resnet50v2/conv3_block3_3_conv/Conv2D defined at (most recent call last):\n  File \"/home/alex/anaconda3/envs/DeepLearningTF/lib/python3.9/runpy.py\", line 197, in _run_module_as_main\n\n  File \"/home/alex/anaconda3/envs/DeepLearningTF/lib/python3.9/runpy.py\", line 87, in _run_code\n\n  File \"/home/alex/anaconda3/envs/DeepLearningTF/lib/python3.9/site-packages/ipykernel_launcher.py\", line 17, in <module>\n\n  File \"/home/alex/anaconda3/envs/DeepLearningTF/lib/python3.9/site-packages/traitlets/config/application.py\", line 992, in launch_instance\n\n  File \"/home/alex/anaconda3/envs/DeepLearningTF/lib/python3.9/site-packages/ipykernel/kernelapp.py\", line 701, in start\n\n  File \"/home/alex/anaconda3/envs/DeepLearningTF/lib/python3.9/site-packages/tornado/platform/asyncio.py\", line 195, in start\n\n  File \"/home/alex/anaconda3/envs/DeepLearningTF/lib/python3.9/asyncio/base_events.py\", line 601, in run_forever\n\n  File \"/home/alex/anaconda3/envs/DeepLearningTF/lib/python3.9/asyncio/base_events.py\", line 1905, in _run_once\n\n  File \"/home/alex/anaconda3/envs/DeepLearningTF/lib/python3.9/asyncio/events.py\", line 80, in _run\n\n  File \"/home/alex/anaconda3/envs/DeepLearningTF/lib/python3.9/site-packages/ipykernel/kernelbase.py\", line 534, in dispatch_queue\n\n  File \"/home/alex/anaconda3/envs/DeepLearningTF/lib/python3.9/site-packages/ipykernel/kernelbase.py\", line 523, in process_one\n\n  File \"/home/alex/anaconda3/envs/DeepLearningTF/lib/python3.9/site-packages/ipykernel/kernelbase.py\", line 429, in dispatch_shell\n\n  File \"/home/alex/anaconda3/envs/DeepLearningTF/lib/python3.9/site-packages/ipykernel/kernelbase.py\", line 767, in execute_request\n\n  File \"/home/alex/anaconda3/envs/DeepLearningTF/lib/python3.9/site-packages/ipykernel/ipkernel.py\", line 429, in do_execute\n\n  File \"/home/alex/anaconda3/envs/DeepLearningTF/lib/python3.9/site-packages/ipykernel/zmqshell.py\", line 549, in run_cell\n\n  File \"/home/alex/anaconda3/envs/DeepLearningTF/lib/python3.9/site-packages/IPython/core/interactiveshell.py\", line 3024, in run_cell\n\n  File \"/home/alex/anaconda3/envs/DeepLearningTF/lib/python3.9/site-packages/IPython/core/interactiveshell.py\", line 3079, in _run_cell\n\n  File \"/home/alex/anaconda3/envs/DeepLearningTF/lib/python3.9/site-packages/IPython/core/async_helpers.py\", line 129, in _pseudo_sync_runner\n\n  File \"/home/alex/anaconda3/envs/DeepLearningTF/lib/python3.9/site-packages/IPython/core/interactiveshell.py\", line 3284, in run_cell_async\n\n  File \"/home/alex/anaconda3/envs/DeepLearningTF/lib/python3.9/site-packages/IPython/core/interactiveshell.py\", line 3466, in run_ast_nodes\n\n  File \"/home/alex/anaconda3/envs/DeepLearningTF/lib/python3.9/site-packages/IPython/core/interactiveshell.py\", line 3526, in run_code\n\n  File \"/tmp/ipykernel_9910/284984504.py\", line 23, in <module>\n\n  File \"/home/alex/MIA_DL/utils.py\", line 73, in train_model\n\n  File \"/home/alex/anaconda3/envs/DeepLearningTF/lib/python3.9/site-packages/keras/src/utils/traceback_utils.py\", line 65, in error_handler\n\n  File \"/home/alex/anaconda3/envs/DeepLearningTF/lib/python3.9/site-packages/keras/src/engine/training.py\", line 1807, in fit\n\n  File \"/home/alex/anaconda3/envs/DeepLearningTF/lib/python3.9/site-packages/keras/src/engine/training.py\", line 1401, in train_function\n\n  File \"/home/alex/anaconda3/envs/DeepLearningTF/lib/python3.9/site-packages/keras/src/engine/training.py\", line 1384, in step_function\n\n  File \"/home/alex/anaconda3/envs/DeepLearningTF/lib/python3.9/site-packages/keras/src/engine/training.py\", line 1373, in run_step\n\n  File \"/home/alex/anaconda3/envs/DeepLearningTF/lib/python3.9/site-packages/keras/src/engine/training.py\", line 1150, in train_step\n\n  File \"/home/alex/anaconda3/envs/DeepLearningTF/lib/python3.9/site-packages/keras/src/utils/traceback_utils.py\", line 65, in error_handler\n\n  File \"/home/alex/anaconda3/envs/DeepLearningTF/lib/python3.9/site-packages/keras/src/engine/training.py\", line 590, in __call__\n\n  File \"/home/alex/anaconda3/envs/DeepLearningTF/lib/python3.9/site-packages/keras/src/utils/traceback_utils.py\", line 65, in error_handler\n\n  File \"/home/alex/anaconda3/envs/DeepLearningTF/lib/python3.9/site-packages/keras/src/engine/base_layer.py\", line 1149, in __call__\n\n  File \"/home/alex/anaconda3/envs/DeepLearningTF/lib/python3.9/site-packages/keras/src/utils/traceback_utils.py\", line 96, in error_handler\n\n  File \"/home/alex/MIA_DL/models.py\", line 183, in call\n\n  File \"/home/alex/anaconda3/envs/DeepLearningTF/lib/python3.9/site-packages/keras/src/utils/traceback_utils.py\", line 65, in error_handler\n\n  File \"/home/alex/anaconda3/envs/DeepLearningTF/lib/python3.9/site-packages/keras/src/engine/training.py\", line 590, in __call__\n\n  File \"/home/alex/anaconda3/envs/DeepLearningTF/lib/python3.9/site-packages/keras/src/utils/traceback_utils.py\", line 65, in error_handler\n\n  File \"/home/alex/anaconda3/envs/DeepLearningTF/lib/python3.9/site-packages/keras/src/engine/base_layer.py\", line 1149, in __call__\n\n  File \"/home/alex/anaconda3/envs/DeepLearningTF/lib/python3.9/site-packages/keras/src/utils/traceback_utils.py\", line 96, in error_handler\n\n  File \"/home/alex/anaconda3/envs/DeepLearningTF/lib/python3.9/site-packages/keras/src/engine/functional.py\", line 515, in call\n\n  File \"/home/alex/anaconda3/envs/DeepLearningTF/lib/python3.9/site-packages/keras/src/engine/functional.py\", line 672, in _run_internal_graph\n\n  File \"/home/alex/anaconda3/envs/DeepLearningTF/lib/python3.9/site-packages/keras/src/utils/traceback_utils.py\", line 65, in error_handler\n\n  File \"/home/alex/anaconda3/envs/DeepLearningTF/lib/python3.9/site-packages/keras/src/engine/base_layer.py\", line 1149, in __call__\n\n  File \"/home/alex/anaconda3/envs/DeepLearningTF/lib/python3.9/site-packages/keras/src/utils/traceback_utils.py\", line 96, in error_handler\n\n  File \"/home/alex/anaconda3/envs/DeepLearningTF/lib/python3.9/site-packages/keras/src/layers/convolutional/base_conv.py\", line 290, in call\n\n  File \"/home/alex/anaconda3/envs/DeepLearningTF/lib/python3.9/site-packages/keras/src/layers/convolutional/base_conv.py\", line 262, in convolution_op\n\nOOM when allocating tensor with shape[258,512,13,13] and type float on /job:localhost/replica:0/task:0/device:GPU:0 by allocator GPU_0_bfc\n\t [[{{node ResNet50V2-feat/resnet50v2/conv3_block3_3_conv/Conv2D}}]]\nHint: If you want to see a list of allocated tensors when OOM happens, add report_tensor_allocations_upon_oom to RunOptions for current allocation info. This isn't available when running in Eager mode.\n [Op:__inference_train_function_92445]",
     "output_type": "error",
     "traceback": [
      "\u001b[0;31m---------------------------------------------------------------------------\u001b[0m",
      "\u001b[0;31mResourceExhaustedError\u001b[0m                    Traceback (most recent call last)",
      "Cell \u001b[0;32mIn[7], line 23\u001b[0m\n\u001b[1;32m     20\u001b[0m optimizer \u001b[38;5;241m=\u001b[39m Adam(learning_rate\u001b[38;5;241m=\u001b[39m\u001b[38;5;241m1e-5\u001b[39m)\n\u001b[1;32m     21\u001b[0m resnet50_feat\u001b[38;5;241m.\u001b[39mcompile(optimizer\u001b[38;5;241m=\u001b[39moptimizer, loss\u001b[38;5;241m=\u001b[39m\u001b[38;5;124m\"\u001b[39m\u001b[38;5;124msparse_categorical_crossentropy\u001b[39m\u001b[38;5;124m\"\u001b[39m, metrics\u001b[38;5;241m=\u001b[39m[SparseCategoricalAccuracy(\u001b[38;5;124m'\u001b[39m\u001b[38;5;124macc\u001b[39m\u001b[38;5;124m'\u001b[39m)])\n\u001b[0;32m---> 23\u001b[0m resnet50_feat_history \u001b[38;5;241m=\u001b[39m \u001b[43mtrain_model\u001b[49m\u001b[43m(\u001b[49m\n\u001b[1;32m     24\u001b[0m \u001b[43m    \u001b[49m\u001b[43mresnet50_feat\u001b[49m\u001b[43m,\u001b[49m\n\u001b[1;32m     25\u001b[0m \u001b[43m    \u001b[49m\u001b[43mtrain_dataset\u001b[49m\u001b[43m,\u001b[49m\n\u001b[1;32m     26\u001b[0m \u001b[43m    \u001b[49m\u001b[43mval_dataset\u001b[49m\u001b[43m,\u001b[49m\n\u001b[1;32m     27\u001b[0m \u001b[43m    \u001b[49m\u001b[43mpath\u001b[49m\u001b[38;5;241;43m=\u001b[39;49m\u001b[43mmodel_dir\u001b[49m\u001b[43m,\u001b[49m\n\u001b[1;32m     28\u001b[0m \u001b[43m    \u001b[49m\u001b[43mepochs\u001b[49m\u001b[38;5;241;43m=\u001b[39;49m\u001b[38;5;241;43m1\u001b[39;49m\u001b[43m,\u001b[49m\n\u001b[1;32m     29\u001b[0m \u001b[43m    \u001b[49m\u001b[43mverbose\u001b[49m\u001b[38;5;241;43m=\u001b[39;49m\u001b[38;5;241;43m1\u001b[39;49m\u001b[43m,\u001b[49m\n\u001b[1;32m     30\u001b[0m \u001b[43m    \u001b[49m\u001b[43mlr_patience\u001b[49m\u001b[38;5;241;43m=\u001b[39;49m\u001b[38;5;241;43m2\u001b[39;49m\u001b[43m,\u001b[49m\n\u001b[1;32m     31\u001b[0m \u001b[43m    \u001b[49m\u001b[43mval_patience\u001b[49m\u001b[38;5;241;43m=\u001b[39;49m\u001b[38;5;241;43m2\u001b[39;49m\u001b[43m,\u001b[49m\n\u001b[1;32m     32\u001b[0m \u001b[43m    \u001b[49m\u001b[43mbatch_size\u001b[49m\u001b[38;5;241;43m=\u001b[39;49m\u001b[38;5;241;43m8\u001b[39;49m\n\u001b[1;32m     33\u001b[0m \u001b[43m)\u001b[49m\u001b[38;5;241m.\u001b[39mhistory\n\u001b[1;32m     35\u001b[0m \u001b[38;5;28mprint\u001b[39m(\n\u001b[1;32m     36\u001b[0m     \u001b[38;5;124mf\u001b[39m\u001b[38;5;124m\"\u001b[39m\u001b[38;5;124mFinal loss: training -> \u001b[39m\u001b[38;5;132;01m{\u001b[39;00mresnet50_feat_history[\u001b[38;5;124m'\u001b[39m\u001b[38;5;124mloss\u001b[39m\u001b[38;5;124m'\u001b[39m][\u001b[38;5;241m-\u001b[39m\u001b[38;5;241m1\u001b[39m]\u001b[38;5;132;01m:\u001b[39;00m\u001b[38;5;124m.2f\u001b[39m\u001b[38;5;132;01m}\u001b[39;00m\u001b[38;5;124m, validation -> \u001b[39m\u001b[38;5;132;01m{\u001b[39;00mresnet50_feat_history[\u001b[38;5;124m'\u001b[39m\u001b[38;5;124mval_loss\u001b[39m\u001b[38;5;124m'\u001b[39m][\u001b[38;5;241m-\u001b[39m\u001b[38;5;241m1\u001b[39m]\u001b[38;5;132;01m:\u001b[39;00m\u001b[38;5;124m.2f\u001b[39m\u001b[38;5;132;01m}\u001b[39;00m\u001b[38;5;124m\"\u001b[39m\n\u001b[1;32m     37\u001b[0m )\n\u001b[1;32m     38\u001b[0m \u001b[38;5;28mprint\u001b[39m(\n\u001b[1;32m     39\u001b[0m     \u001b[38;5;124mf\u001b[39m\u001b[38;5;124m\"\u001b[39m\u001b[38;5;124mFinal accuracy: training -> \u001b[39m\u001b[38;5;132;01m{\u001b[39;00mresnet50_feat_history[\u001b[38;5;124m'\u001b[39m\u001b[38;5;124macc\u001b[39m\u001b[38;5;124m'\u001b[39m][\u001b[38;5;241m-\u001b[39m\u001b[38;5;241m1\u001b[39m]\u001b[38;5;132;01m:\u001b[39;00m\u001b[38;5;124m.2f\u001b[39m\u001b[38;5;132;01m}\u001b[39;00m\u001b[38;5;124m, validation -> \u001b[39m\u001b[38;5;132;01m{\u001b[39;00mresnet50_feat_history[\u001b[38;5;124m'\u001b[39m\u001b[38;5;124mval_acc\u001b[39m\u001b[38;5;124m'\u001b[39m][\u001b[38;5;241m-\u001b[39m\u001b[38;5;241m1\u001b[39m]\u001b[38;5;132;01m:\u001b[39;00m\u001b[38;5;124m.2f\u001b[39m\u001b[38;5;132;01m}\u001b[39;00m\u001b[38;5;124m\"\u001b[39m\n\u001b[1;32m     40\u001b[0m )\n",
      "File \u001b[0;32m~/MIA_DL/utils.py:73\u001b[0m, in \u001b[0;36mtrain_model\u001b[0;34m(model, train, val, path, epochs, batch_size, val_patience, lr_patience, verbose)\u001b[0m\n\u001b[1;32m     70\u001b[0m \u001b[38;5;28;01mif\u001b[39;00m path:\n\u001b[1;32m     71\u001b[0m     callbacks\u001b[38;5;241m.\u001b[39mappend(ModelCheckpoint(\u001b[38;5;124mf\u001b[39m\u001b[38;5;124m'\u001b[39m\u001b[38;5;132;01m{\u001b[39;00mpath\u001b[38;5;132;01m}\u001b[39;00m\u001b[38;5;124m/\u001b[39m\u001b[38;5;132;01m{\u001b[39;00mmodel\u001b[38;5;241m.\u001b[39mname\u001b[38;5;132;01m}\u001b[39;00m\u001b[38;5;124m.keras\u001b[39m\u001b[38;5;124m'\u001b[39m, \u001b[38;5;124m'\u001b[39m\u001b[38;5;124mval_loss\u001b[39m\u001b[38;5;124m'\u001b[39m, save_best_only\u001b[38;5;241m=\u001b[39m\u001b[38;5;28;01mTrue\u001b[39;00m))\n\u001b[0;32m---> 73\u001b[0m history \u001b[38;5;241m=\u001b[39m \u001b[43mmodel\u001b[49m\u001b[38;5;241;43m.\u001b[39;49m\u001b[43mfit\u001b[49m\u001b[43m(\u001b[49m\u001b[43mtrain\u001b[49m\u001b[43m,\u001b[49m\u001b[43m \u001b[49m\u001b[43mepochs\u001b[49m\u001b[38;5;241;43m=\u001b[39;49m\u001b[43mepochs\u001b[49m\u001b[43m,\u001b[49m\u001b[43m \u001b[49m\u001b[43mbatch_size\u001b[49m\u001b[38;5;241;43m=\u001b[39;49m\u001b[43mbatch_size\u001b[49m\u001b[43m,\u001b[49m\u001b[43m \u001b[49m\u001b[43mcallbacks\u001b[49m\u001b[38;5;241;43m=\u001b[39;49m\u001b[43mcallbacks\u001b[49m\u001b[43m,\u001b[49m\u001b[43m \u001b[49m\n\u001b[1;32m     74\u001b[0m \u001b[43m                             \u001b[49m\u001b[43mverbose\u001b[49m\u001b[38;5;241;43m=\u001b[39;49m\u001b[43mverbose\u001b[49m\u001b[43m,\u001b[49m\u001b[43m \u001b[49m\u001b[43mvalidation_data\u001b[49m\u001b[38;5;241;43m=\u001b[39;49m\u001b[43mval\u001b[49m\u001b[43m)\u001b[49m\n\u001b[1;32m     75\u001b[0m \u001b[38;5;28;01mwith\u001b[39;00m \u001b[38;5;28mopen\u001b[39m(\u001b[38;5;124mf\u001b[39m\u001b[38;5;124m'\u001b[39m\u001b[38;5;132;01m{\u001b[39;00mpath\u001b[38;5;132;01m}\u001b[39;00m\u001b[38;5;124m/history.pickle\u001b[39m\u001b[38;5;124m'\u001b[39m, \u001b[38;5;124m'\u001b[39m\u001b[38;5;124mwb\u001b[39m\u001b[38;5;124m'\u001b[39m) \u001b[38;5;28;01mas\u001b[39;00m writer:\n\u001b[1;32m     76\u001b[0m     pickle\u001b[38;5;241m.\u001b[39mdump(history\u001b[38;5;241m.\u001b[39mhistory, writer)\n",
      "File \u001b[0;32m~/anaconda3/envs/DeepLearningTF/lib/python3.9/site-packages/keras/src/utils/traceback_utils.py:70\u001b[0m, in \u001b[0;36mfilter_traceback.<locals>.error_handler\u001b[0;34m(*args, **kwargs)\u001b[0m\n\u001b[1;32m     67\u001b[0m     filtered_tb \u001b[38;5;241m=\u001b[39m _process_traceback_frames(e\u001b[38;5;241m.\u001b[39m__traceback__)\n\u001b[1;32m     68\u001b[0m     \u001b[38;5;66;03m# To get the full stack trace, call:\u001b[39;00m\n\u001b[1;32m     69\u001b[0m     \u001b[38;5;66;03m# `tf.debugging.disable_traceback_filtering()`\u001b[39;00m\n\u001b[0;32m---> 70\u001b[0m     \u001b[38;5;28;01mraise\u001b[39;00m e\u001b[38;5;241m.\u001b[39mwith_traceback(filtered_tb) \u001b[38;5;28;01mfrom\u001b[39;00m \u001b[38;5;28;01mNone\u001b[39;00m\n\u001b[1;32m     71\u001b[0m \u001b[38;5;28;01mfinally\u001b[39;00m:\n\u001b[1;32m     72\u001b[0m     \u001b[38;5;28;01mdel\u001b[39;00m filtered_tb\n",
      "File \u001b[0;32m~/anaconda3/envs/DeepLearningTF/lib/python3.9/site-packages/tensorflow/python/eager/execute.py:53\u001b[0m, in \u001b[0;36mquick_execute\u001b[0;34m(op_name, num_outputs, inputs, attrs, ctx, name)\u001b[0m\n\u001b[1;32m     51\u001b[0m \u001b[38;5;28;01mtry\u001b[39;00m:\n\u001b[1;32m     52\u001b[0m   ctx\u001b[38;5;241m.\u001b[39mensure_initialized()\n\u001b[0;32m---> 53\u001b[0m   tensors \u001b[38;5;241m=\u001b[39m pywrap_tfe\u001b[38;5;241m.\u001b[39mTFE_Py_Execute(ctx\u001b[38;5;241m.\u001b[39m_handle, device_name, op_name,\n\u001b[1;32m     54\u001b[0m                                       inputs, attrs, num_outputs)\n\u001b[1;32m     55\u001b[0m \u001b[38;5;28;01mexcept\u001b[39;00m core\u001b[38;5;241m.\u001b[39m_NotOkStatusException \u001b[38;5;28;01mas\u001b[39;00m e:\n\u001b[1;32m     56\u001b[0m   \u001b[38;5;28;01mif\u001b[39;00m name \u001b[38;5;129;01mis\u001b[39;00m \u001b[38;5;129;01mnot\u001b[39;00m \u001b[38;5;28;01mNone\u001b[39;00m:\n",
      "\u001b[0;31mResourceExhaustedError\u001b[0m: Graph execution error:\n\nDetected at node ResNet50V2-feat/resnet50v2/conv3_block3_3_conv/Conv2D defined at (most recent call last):\n  File \"/home/alex/anaconda3/envs/DeepLearningTF/lib/python3.9/runpy.py\", line 197, in _run_module_as_main\n\n  File \"/home/alex/anaconda3/envs/DeepLearningTF/lib/python3.9/runpy.py\", line 87, in _run_code\n\n  File \"/home/alex/anaconda3/envs/DeepLearningTF/lib/python3.9/site-packages/ipykernel_launcher.py\", line 17, in <module>\n\n  File \"/home/alex/anaconda3/envs/DeepLearningTF/lib/python3.9/site-packages/traitlets/config/application.py\", line 992, in launch_instance\n\n  File \"/home/alex/anaconda3/envs/DeepLearningTF/lib/python3.9/site-packages/ipykernel/kernelapp.py\", line 701, in start\n\n  File \"/home/alex/anaconda3/envs/DeepLearningTF/lib/python3.9/site-packages/tornado/platform/asyncio.py\", line 195, in start\n\n  File \"/home/alex/anaconda3/envs/DeepLearningTF/lib/python3.9/asyncio/base_events.py\", line 601, in run_forever\n\n  File \"/home/alex/anaconda3/envs/DeepLearningTF/lib/python3.9/asyncio/base_events.py\", line 1905, in _run_once\n\n  File \"/home/alex/anaconda3/envs/DeepLearningTF/lib/python3.9/asyncio/events.py\", line 80, in _run\n\n  File \"/home/alex/anaconda3/envs/DeepLearningTF/lib/python3.9/site-packages/ipykernel/kernelbase.py\", line 534, in dispatch_queue\n\n  File \"/home/alex/anaconda3/envs/DeepLearningTF/lib/python3.9/site-packages/ipykernel/kernelbase.py\", line 523, in process_one\n\n  File \"/home/alex/anaconda3/envs/DeepLearningTF/lib/python3.9/site-packages/ipykernel/kernelbase.py\", line 429, in dispatch_shell\n\n  File \"/home/alex/anaconda3/envs/DeepLearningTF/lib/python3.9/site-packages/ipykernel/kernelbase.py\", line 767, in execute_request\n\n  File \"/home/alex/anaconda3/envs/DeepLearningTF/lib/python3.9/site-packages/ipykernel/ipkernel.py\", line 429, in do_execute\n\n  File \"/home/alex/anaconda3/envs/DeepLearningTF/lib/python3.9/site-packages/ipykernel/zmqshell.py\", line 549, in run_cell\n\n  File \"/home/alex/anaconda3/envs/DeepLearningTF/lib/python3.9/site-packages/IPython/core/interactiveshell.py\", line 3024, in run_cell\n\n  File \"/home/alex/anaconda3/envs/DeepLearningTF/lib/python3.9/site-packages/IPython/core/interactiveshell.py\", line 3079, in _run_cell\n\n  File \"/home/alex/anaconda3/envs/DeepLearningTF/lib/python3.9/site-packages/IPython/core/async_helpers.py\", line 129, in _pseudo_sync_runner\n\n  File \"/home/alex/anaconda3/envs/DeepLearningTF/lib/python3.9/site-packages/IPython/core/interactiveshell.py\", line 3284, in run_cell_async\n\n  File \"/home/alex/anaconda3/envs/DeepLearningTF/lib/python3.9/site-packages/IPython/core/interactiveshell.py\", line 3466, in run_ast_nodes\n\n  File \"/home/alex/anaconda3/envs/DeepLearningTF/lib/python3.9/site-packages/IPython/core/interactiveshell.py\", line 3526, in run_code\n\n  File \"/tmp/ipykernel_9910/284984504.py\", line 23, in <module>\n\n  File \"/home/alex/MIA_DL/utils.py\", line 73, in train_model\n\n  File \"/home/alex/anaconda3/envs/DeepLearningTF/lib/python3.9/site-packages/keras/src/utils/traceback_utils.py\", line 65, in error_handler\n\n  File \"/home/alex/anaconda3/envs/DeepLearningTF/lib/python3.9/site-packages/keras/src/engine/training.py\", line 1807, in fit\n\n  File \"/home/alex/anaconda3/envs/DeepLearningTF/lib/python3.9/site-packages/keras/src/engine/training.py\", line 1401, in train_function\n\n  File \"/home/alex/anaconda3/envs/DeepLearningTF/lib/python3.9/site-packages/keras/src/engine/training.py\", line 1384, in step_function\n\n  File \"/home/alex/anaconda3/envs/DeepLearningTF/lib/python3.9/site-packages/keras/src/engine/training.py\", line 1373, in run_step\n\n  File \"/home/alex/anaconda3/envs/DeepLearningTF/lib/python3.9/site-packages/keras/src/engine/training.py\", line 1150, in train_step\n\n  File \"/home/alex/anaconda3/envs/DeepLearningTF/lib/python3.9/site-packages/keras/src/utils/traceback_utils.py\", line 65, in error_handler\n\n  File \"/home/alex/anaconda3/envs/DeepLearningTF/lib/python3.9/site-packages/keras/src/engine/training.py\", line 590, in __call__\n\n  File \"/home/alex/anaconda3/envs/DeepLearningTF/lib/python3.9/site-packages/keras/src/utils/traceback_utils.py\", line 65, in error_handler\n\n  File \"/home/alex/anaconda3/envs/DeepLearningTF/lib/python3.9/site-packages/keras/src/engine/base_layer.py\", line 1149, in __call__\n\n  File \"/home/alex/anaconda3/envs/DeepLearningTF/lib/python3.9/site-packages/keras/src/utils/traceback_utils.py\", line 96, in error_handler\n\n  File \"/home/alex/MIA_DL/models.py\", line 183, in call\n\n  File \"/home/alex/anaconda3/envs/DeepLearningTF/lib/python3.9/site-packages/keras/src/utils/traceback_utils.py\", line 65, in error_handler\n\n  File \"/home/alex/anaconda3/envs/DeepLearningTF/lib/python3.9/site-packages/keras/src/engine/training.py\", line 590, in __call__\n\n  File \"/home/alex/anaconda3/envs/DeepLearningTF/lib/python3.9/site-packages/keras/src/utils/traceback_utils.py\", line 65, in error_handler\n\n  File \"/home/alex/anaconda3/envs/DeepLearningTF/lib/python3.9/site-packages/keras/src/engine/base_layer.py\", line 1149, in __call__\n\n  File \"/home/alex/anaconda3/envs/DeepLearningTF/lib/python3.9/site-packages/keras/src/utils/traceback_utils.py\", line 96, in error_handler\n\n  File \"/home/alex/anaconda3/envs/DeepLearningTF/lib/python3.9/site-packages/keras/src/engine/functional.py\", line 515, in call\n\n  File \"/home/alex/anaconda3/envs/DeepLearningTF/lib/python3.9/site-packages/keras/src/engine/functional.py\", line 672, in _run_internal_graph\n\n  File \"/home/alex/anaconda3/envs/DeepLearningTF/lib/python3.9/site-packages/keras/src/utils/traceback_utils.py\", line 65, in error_handler\n\n  File \"/home/alex/anaconda3/envs/DeepLearningTF/lib/python3.9/site-packages/keras/src/engine/base_layer.py\", line 1149, in __call__\n\n  File \"/home/alex/anaconda3/envs/DeepLearningTF/lib/python3.9/site-packages/keras/src/utils/traceback_utils.py\", line 96, in error_handler\n\n  File \"/home/alex/anaconda3/envs/DeepLearningTF/lib/python3.9/site-packages/keras/src/layers/convolutional/base_conv.py\", line 290, in call\n\n  File \"/home/alex/anaconda3/envs/DeepLearningTF/lib/python3.9/site-packages/keras/src/layers/convolutional/base_conv.py\", line 262, in convolution_op\n\nOOM when allocating tensor with shape[258,512,13,13] and type float on /job:localhost/replica:0/task:0/device:GPU:0 by allocator GPU_0_bfc\n\t [[{{node ResNet50V2-feat/resnet50v2/conv3_block3_3_conv/Conv2D}}]]\nHint: If you want to see a list of allocated tensors when OOM happens, add report_tensor_allocations_upon_oom to RunOptions for current allocation info. This isn't available when running in Eager mode.\n [Op:__inference_train_function_92445]"
     ]
    }
   ],
   "source": [
    "resnet50_feat = PretrainedModel(num_classes=5, img_size=IMG_SIZE, pretrained='resnet', defreeze = 0, name='ResNet50V2-feat')\n",
    "optimizer = Adam(learning_rate=1e-3)\n",
    "resnet50_feat.compile(optimizer=optimizer, loss=\"sparse_categorical_crossentropy\", metrics=[SparseCategoricalAccuracy('acc')])\n",
    "\n",
    "print(\"Training only the classifier\")\n",
    "train_model(\n",
    "    resnet50_feat,\n",
    "    train_dataset,\n",
    "    val_dataset,\n",
    "    path=model_dir,\n",
    "    epochs=1,\n",
    "    verbose=1,\n",
    "    lr_patience=3,\n",
    "    val_patience=5,\n",
    ")\n",
    "\n",
    "print(\"Finetuning the model with a learning rate of 1e-5\")\n",
    "resnet50_feat.trainable = True\n",
    "optimizer = Adam(learning_rate=1e-5)\n",
    "resnet50_feat.compile(optimizer=optimizer, loss=\"sparse_categorical_crossentropy\", metrics=[SparseCategoricalAccuracy('acc')])\n",
    "\n",
    "resnet50_feat_history = train_model(\n",
    "    resnet50_feat,\n",
    "    train_dataset,\n",
    "    val_dataset,\n",
    "    path=model_dir,\n",
    "    epochs=1,\n",
    "    verbose=1,\n",
    "    lr_patience=2,\n",
    "    val_patience=2,\n",
    ").history\n",
    "\n",
    "print(\n",
    "    f\"Final loss: training -> {resnet50_feat_history['loss'][-1]:.2f}, validation -> {resnet50_feat_history['val_loss'][-1]:.2f}\"\n",
    ")\n",
    "print(\n",
    "    f\"Final accuracy: training -> {resnet50_feat_history['acc'][-1]:.2f}, validation -> {resnet50_feat_history['val_acc'][-1]:.2f}\"\n",
    ")\n",
    "plot_history(resnet50_feat_history, ['loss', 'acc'], name=f'{resnet50_feat.name} Model')\n",
    "test_loss, test_accuracy = resnet50_feat.evaluate(test_dataset, batch_size=BATCH_SIZE)\n",
    "print(\n",
    "    f\"Model evaluated: Test Loss-> {test_loss}, Test Accuracy -> {test_accuracy*100:.2f}%\"\n",
    ")\n",
    "resnet50_feat.summary()"
   ]
  },
  {
   "cell_type": "markdown",
   "metadata": {},
   "source": [
    "#### MobileNet V2"
   ]
  },
  {
   "cell_type": "code",
   "execution_count": null,
   "metadata": {},
   "outputs": [
    {
     "name": "stdout",
     "output_type": "stream",
     "text": [
      "Epoch 1/50\n",
      "45/45 [==============================] - 8s 122ms/step - loss: 1.3626 - acc: 0.8283 - val_loss: 0.2125 - val_acc: 0.9159 - lr: 1.0000e-04\n",
      "Epoch 2/50\n",
      "45/45 [==============================] - 6s 114ms/step - loss: 0.1486 - acc: 0.9414 - val_loss: 0.1745 - val_acc: 0.9347 - lr: 1.0000e-04\n",
      "Epoch 3/50\n",
      "45/45 [==============================] - 6s 114ms/step - loss: 0.0890 - acc: 0.9714 - val_loss: 0.1699 - val_acc: 0.9377 - lr: 1.0000e-04\n",
      "Epoch 4/50\n",
      "10/45 [=====>........................] - ETA: 2s - loss: 0.0650 - acc: 0.9798"
     ]
    },
    {
     "ename": "KeyboardInterrupt",
     "evalue": "",
     "output_type": "error",
     "traceback": [
      "\u001b[0;31m---------------------------------------------------------------------------\u001b[0m",
      "\u001b[0;31mKeyboardInterrupt\u001b[0m                         Traceback (most recent call last)",
      "Cell \u001b[0;32mIn[19], line 4\u001b[0m\n\u001b[1;32m      2\u001b[0m optimizer \u001b[38;5;241m=\u001b[39m Adam(learning_rate\u001b[38;5;241m=\u001b[39m\u001b[38;5;241m1e-4\u001b[39m)\n\u001b[1;32m      3\u001b[0m mobilenet_feat\u001b[38;5;241m.\u001b[39mcompile(optimizer\u001b[38;5;241m=\u001b[39moptimizer, loss\u001b[38;5;241m=\u001b[39m\u001b[38;5;124m\"\u001b[39m\u001b[38;5;124msparse_categorical_crossentropy\u001b[39m\u001b[38;5;124m\"\u001b[39m, metrics\u001b[38;5;241m=\u001b[39m[SparseCategoricalAccuracy(\u001b[38;5;124m'\u001b[39m\u001b[38;5;124macc\u001b[39m\u001b[38;5;124m'\u001b[39m)])\n\u001b[0;32m----> 4\u001b[0m mobilenet_feat_history \u001b[38;5;241m=\u001b[39m \u001b[43mtrain_model\u001b[49m\u001b[43m(\u001b[49m\n\u001b[1;32m      5\u001b[0m \u001b[43m    \u001b[49m\u001b[43mmobilenet_feat\u001b[49m\u001b[43m,\u001b[49m\n\u001b[1;32m      6\u001b[0m \u001b[43m    \u001b[49m\u001b[43mtrain_dataset\u001b[49m\u001b[43m,\u001b[49m\n\u001b[1;32m      7\u001b[0m \u001b[43m    \u001b[49m\u001b[43mval_dataset\u001b[49m\u001b[43m,\u001b[49m\n\u001b[1;32m      8\u001b[0m \u001b[43m    \u001b[49m\u001b[43mpath\u001b[49m\u001b[38;5;241;43m=\u001b[39;49m\u001b[43mmodel_dir\u001b[49m\u001b[43m,\u001b[49m\n\u001b[1;32m      9\u001b[0m \u001b[43m    \u001b[49m\u001b[43mepochs\u001b[49m\u001b[38;5;241;43m=\u001b[39;49m\u001b[38;5;241;43m50\u001b[39;49m\u001b[43m,\u001b[49m\n\u001b[1;32m     10\u001b[0m \u001b[43m    \u001b[49m\u001b[43mverbose\u001b[49m\u001b[38;5;241;43m=\u001b[39;49m\u001b[38;5;241;43m1\u001b[39;49m\u001b[43m,\u001b[49m\n\u001b[1;32m     11\u001b[0m \u001b[43m    \u001b[49m\u001b[43mlr_patience\u001b[49m\u001b[38;5;241;43m=\u001b[39;49m\u001b[38;5;241;43m5\u001b[39;49m\u001b[43m,\u001b[49m\n\u001b[1;32m     12\u001b[0m \u001b[43m    \u001b[49m\u001b[43mval_patience\u001b[49m\u001b[38;5;241;43m=\u001b[39;49m\u001b[38;5;241;43m10\u001b[39;49m\n\u001b[1;32m     13\u001b[0m \u001b[43m)\u001b[49m\u001b[38;5;241m.\u001b[39mhistory\n\u001b[1;32m     14\u001b[0m \u001b[38;5;28mprint\u001b[39m(\n\u001b[1;32m     15\u001b[0m     \u001b[38;5;124mf\u001b[39m\u001b[38;5;124m\"\u001b[39m\u001b[38;5;124mFinal loss: training -> \u001b[39m\u001b[38;5;132;01m{\u001b[39;00mmobilenet_feat_history[\u001b[38;5;124m'\u001b[39m\u001b[38;5;124mloss\u001b[39m\u001b[38;5;124m'\u001b[39m][\u001b[38;5;241m-\u001b[39m\u001b[38;5;241m1\u001b[39m]\u001b[38;5;132;01m:\u001b[39;00m\u001b[38;5;124m.2f\u001b[39m\u001b[38;5;132;01m}\u001b[39;00m\u001b[38;5;124m, validation -> \u001b[39m\u001b[38;5;132;01m{\u001b[39;00mmobilenet_feat_history[\u001b[38;5;124m'\u001b[39m\u001b[38;5;124mval_loss\u001b[39m\u001b[38;5;124m'\u001b[39m][\u001b[38;5;241m-\u001b[39m\u001b[38;5;241m1\u001b[39m]\u001b[38;5;132;01m:\u001b[39;00m\u001b[38;5;124m.2f\u001b[39m\u001b[38;5;132;01m}\u001b[39;00m\u001b[38;5;124m\"\u001b[39m\n\u001b[1;32m     16\u001b[0m )\n\u001b[1;32m     17\u001b[0m \u001b[38;5;28mprint\u001b[39m(\n\u001b[1;32m     18\u001b[0m     \u001b[38;5;124mf\u001b[39m\u001b[38;5;124m\"\u001b[39m\u001b[38;5;124mFinal accuracy: training -> \u001b[39m\u001b[38;5;132;01m{\u001b[39;00mmobilenet_feat_history[\u001b[38;5;124m'\u001b[39m\u001b[38;5;124macc\u001b[39m\u001b[38;5;124m'\u001b[39m][\u001b[38;5;241m-\u001b[39m\u001b[38;5;241m1\u001b[39m]\u001b[38;5;132;01m:\u001b[39;00m\u001b[38;5;124m.2f\u001b[39m\u001b[38;5;132;01m}\u001b[39;00m\u001b[38;5;124m, validation -> \u001b[39m\u001b[38;5;132;01m{\u001b[39;00mmobilenet_feat_history[\u001b[38;5;124m'\u001b[39m\u001b[38;5;124mval_acc\u001b[39m\u001b[38;5;124m'\u001b[39m][\u001b[38;5;241m-\u001b[39m\u001b[38;5;241m1\u001b[39m]\u001b[38;5;132;01m:\u001b[39;00m\u001b[38;5;124m.2f\u001b[39m\u001b[38;5;132;01m}\u001b[39;00m\u001b[38;5;124m\"\u001b[39m\n\u001b[1;32m     19\u001b[0m )\n",
      "File \u001b[0;32m~/Documents/dl-project/utils.py:73\u001b[0m, in \u001b[0;36mtrain_model\u001b[0;34m(model, train, val, path, epochs, batch_size, val_patience, lr_patience, verbose)\u001b[0m\n\u001b[1;32m     70\u001b[0m \u001b[38;5;28;01mif\u001b[39;00m path:\n\u001b[1;32m     71\u001b[0m     callbacks\u001b[38;5;241m.\u001b[39mappend(ModelCheckpoint(\u001b[38;5;124mf\u001b[39m\u001b[38;5;124m'\u001b[39m\u001b[38;5;132;01m{\u001b[39;00mpath\u001b[38;5;132;01m}\u001b[39;00m\u001b[38;5;124m/\u001b[39m\u001b[38;5;132;01m{\u001b[39;00mmodel\u001b[38;5;241m.\u001b[39mname\u001b[38;5;132;01m}\u001b[39;00m\u001b[38;5;124m.keras\u001b[39m\u001b[38;5;124m'\u001b[39m, \u001b[38;5;124m'\u001b[39m\u001b[38;5;124mval_loss\u001b[39m\u001b[38;5;124m'\u001b[39m, save_best_only\u001b[38;5;241m=\u001b[39m\u001b[38;5;28;01mTrue\u001b[39;00m))\n\u001b[0;32m---> 73\u001b[0m history \u001b[38;5;241m=\u001b[39m \u001b[43mmodel\u001b[49m\u001b[38;5;241;43m.\u001b[39;49m\u001b[43mfit\u001b[49m\u001b[43m(\u001b[49m\u001b[43mtrain\u001b[49m\u001b[43m,\u001b[49m\u001b[43m \u001b[49m\u001b[43mepochs\u001b[49m\u001b[38;5;241;43m=\u001b[39;49m\u001b[43mepochs\u001b[49m\u001b[43m,\u001b[49m\u001b[43m \u001b[49m\u001b[43mbatch_size\u001b[49m\u001b[38;5;241;43m=\u001b[39;49m\u001b[43mbatch_size\u001b[49m\u001b[43m,\u001b[49m\u001b[43m \u001b[49m\u001b[43mcallbacks\u001b[49m\u001b[38;5;241;43m=\u001b[39;49m\u001b[43mcallbacks\u001b[49m\u001b[43m,\u001b[49m\u001b[43m \u001b[49m\n\u001b[1;32m     74\u001b[0m \u001b[43m                             \u001b[49m\u001b[43mverbose\u001b[49m\u001b[38;5;241;43m=\u001b[39;49m\u001b[43mverbose\u001b[49m\u001b[43m,\u001b[49m\u001b[43m \u001b[49m\u001b[43mvalidation_data\u001b[49m\u001b[38;5;241;43m=\u001b[39;49m\u001b[43mval\u001b[49m\u001b[43m)\u001b[49m\n\u001b[1;32m     75\u001b[0m \u001b[38;5;28;01mwith\u001b[39;00m \u001b[38;5;28mopen\u001b[39m(\u001b[38;5;124mf\u001b[39m\u001b[38;5;124m'\u001b[39m\u001b[38;5;132;01m{\u001b[39;00mpath\u001b[38;5;132;01m}\u001b[39;00m\u001b[38;5;124m/history.pickle\u001b[39m\u001b[38;5;124m'\u001b[39m, \u001b[38;5;124m'\u001b[39m\u001b[38;5;124mwb\u001b[39m\u001b[38;5;124m'\u001b[39m) \u001b[38;5;28;01mas\u001b[39;00m writer:\n\u001b[1;32m     76\u001b[0m     pickle\u001b[38;5;241m.\u001b[39mdump(history\u001b[38;5;241m.\u001b[39mhistory, writer)\n",
      "File \u001b[0;32m~/Documents/dl-project/.venv/lib/python3.10/site-packages/keras/src/utils/traceback_utils.py:65\u001b[0m, in \u001b[0;36mfilter_traceback.<locals>.error_handler\u001b[0;34m(*args, **kwargs)\u001b[0m\n\u001b[1;32m     63\u001b[0m filtered_tb \u001b[38;5;241m=\u001b[39m \u001b[38;5;28;01mNone\u001b[39;00m\n\u001b[1;32m     64\u001b[0m \u001b[38;5;28;01mtry\u001b[39;00m:\n\u001b[0;32m---> 65\u001b[0m     \u001b[38;5;28;01mreturn\u001b[39;00m \u001b[43mfn\u001b[49m\u001b[43m(\u001b[49m\u001b[38;5;241;43m*\u001b[39;49m\u001b[43margs\u001b[49m\u001b[43m,\u001b[49m\u001b[43m \u001b[49m\u001b[38;5;241;43m*\u001b[39;49m\u001b[38;5;241;43m*\u001b[39;49m\u001b[43mkwargs\u001b[49m\u001b[43m)\u001b[49m\n\u001b[1;32m     66\u001b[0m \u001b[38;5;28;01mexcept\u001b[39;00m \u001b[38;5;167;01mException\u001b[39;00m \u001b[38;5;28;01mas\u001b[39;00m e:\n\u001b[1;32m     67\u001b[0m     filtered_tb \u001b[38;5;241m=\u001b[39m _process_traceback_frames(e\u001b[38;5;241m.\u001b[39m__traceback__)\n",
      "File \u001b[0;32m~/Documents/dl-project/.venv/lib/python3.10/site-packages/keras/src/engine/training.py:1807\u001b[0m, in \u001b[0;36mModel.fit\u001b[0;34m(self, x, y, batch_size, epochs, verbose, callbacks, validation_split, validation_data, shuffle, class_weight, sample_weight, initial_epoch, steps_per_epoch, validation_steps, validation_batch_size, validation_freq, max_queue_size, workers, use_multiprocessing)\u001b[0m\n\u001b[1;32m   1799\u001b[0m \u001b[38;5;28;01mwith\u001b[39;00m tf\u001b[38;5;241m.\u001b[39mprofiler\u001b[38;5;241m.\u001b[39mexperimental\u001b[38;5;241m.\u001b[39mTrace(\n\u001b[1;32m   1800\u001b[0m     \u001b[38;5;124m\"\u001b[39m\u001b[38;5;124mtrain\u001b[39m\u001b[38;5;124m\"\u001b[39m,\n\u001b[1;32m   1801\u001b[0m     epoch_num\u001b[38;5;241m=\u001b[39mepoch,\n\u001b[0;32m   (...)\u001b[0m\n\u001b[1;32m   1804\u001b[0m     _r\u001b[38;5;241m=\u001b[39m\u001b[38;5;241m1\u001b[39m,\n\u001b[1;32m   1805\u001b[0m ):\n\u001b[1;32m   1806\u001b[0m     callbacks\u001b[38;5;241m.\u001b[39mon_train_batch_begin(step)\n\u001b[0;32m-> 1807\u001b[0m     tmp_logs \u001b[38;5;241m=\u001b[39m \u001b[38;5;28;43mself\u001b[39;49m\u001b[38;5;241;43m.\u001b[39;49m\u001b[43mtrain_function\u001b[49m\u001b[43m(\u001b[49m\u001b[43miterator\u001b[49m\u001b[43m)\u001b[49m\n\u001b[1;32m   1808\u001b[0m     \u001b[38;5;28;01mif\u001b[39;00m data_handler\u001b[38;5;241m.\u001b[39mshould_sync:\n\u001b[1;32m   1809\u001b[0m         context\u001b[38;5;241m.\u001b[39masync_wait()\n",
      "File \u001b[0;32m~/Documents/dl-project/.venv/lib/python3.10/site-packages/tensorflow/python/util/traceback_utils.py:150\u001b[0m, in \u001b[0;36mfilter_traceback.<locals>.error_handler\u001b[0;34m(*args, **kwargs)\u001b[0m\n\u001b[1;32m    148\u001b[0m filtered_tb \u001b[38;5;241m=\u001b[39m \u001b[38;5;28;01mNone\u001b[39;00m\n\u001b[1;32m    149\u001b[0m \u001b[38;5;28;01mtry\u001b[39;00m:\n\u001b[0;32m--> 150\u001b[0m   \u001b[38;5;28;01mreturn\u001b[39;00m \u001b[43mfn\u001b[49m\u001b[43m(\u001b[49m\u001b[38;5;241;43m*\u001b[39;49m\u001b[43margs\u001b[49m\u001b[43m,\u001b[49m\u001b[43m \u001b[49m\u001b[38;5;241;43m*\u001b[39;49m\u001b[38;5;241;43m*\u001b[39;49m\u001b[43mkwargs\u001b[49m\u001b[43m)\u001b[49m\n\u001b[1;32m    151\u001b[0m \u001b[38;5;28;01mexcept\u001b[39;00m \u001b[38;5;167;01mException\u001b[39;00m \u001b[38;5;28;01mas\u001b[39;00m e:\n\u001b[1;32m    152\u001b[0m   filtered_tb \u001b[38;5;241m=\u001b[39m _process_traceback_frames(e\u001b[38;5;241m.\u001b[39m__traceback__)\n",
      "File \u001b[0;32m~/Documents/dl-project/.venv/lib/python3.10/site-packages/tensorflow/python/eager/polymorphic_function/polymorphic_function.py:832\u001b[0m, in \u001b[0;36mFunction.__call__\u001b[0;34m(self, *args, **kwds)\u001b[0m\n\u001b[1;32m    829\u001b[0m compiler \u001b[38;5;241m=\u001b[39m \u001b[38;5;124m\"\u001b[39m\u001b[38;5;124mxla\u001b[39m\u001b[38;5;124m\"\u001b[39m \u001b[38;5;28;01mif\u001b[39;00m \u001b[38;5;28mself\u001b[39m\u001b[38;5;241m.\u001b[39m_jit_compile \u001b[38;5;28;01melse\u001b[39;00m \u001b[38;5;124m\"\u001b[39m\u001b[38;5;124mnonXla\u001b[39m\u001b[38;5;124m\"\u001b[39m\n\u001b[1;32m    831\u001b[0m \u001b[38;5;28;01mwith\u001b[39;00m OptionalXlaContext(\u001b[38;5;28mself\u001b[39m\u001b[38;5;241m.\u001b[39m_jit_compile):\n\u001b[0;32m--> 832\u001b[0m   result \u001b[38;5;241m=\u001b[39m \u001b[38;5;28;43mself\u001b[39;49m\u001b[38;5;241;43m.\u001b[39;49m\u001b[43m_call\u001b[49m\u001b[43m(\u001b[49m\u001b[38;5;241;43m*\u001b[39;49m\u001b[43margs\u001b[49m\u001b[43m,\u001b[49m\u001b[43m \u001b[49m\u001b[38;5;241;43m*\u001b[39;49m\u001b[38;5;241;43m*\u001b[39;49m\u001b[43mkwds\u001b[49m\u001b[43m)\u001b[49m\n\u001b[1;32m    834\u001b[0m new_tracing_count \u001b[38;5;241m=\u001b[39m \u001b[38;5;28mself\u001b[39m\u001b[38;5;241m.\u001b[39mexperimental_get_tracing_count()\n\u001b[1;32m    835\u001b[0m without_tracing \u001b[38;5;241m=\u001b[39m (tracing_count \u001b[38;5;241m==\u001b[39m new_tracing_count)\n",
      "File \u001b[0;32m~/Documents/dl-project/.venv/lib/python3.10/site-packages/tensorflow/python/eager/polymorphic_function/polymorphic_function.py:868\u001b[0m, in \u001b[0;36mFunction._call\u001b[0;34m(self, *args, **kwds)\u001b[0m\n\u001b[1;32m    865\u001b[0m   \u001b[38;5;28mself\u001b[39m\u001b[38;5;241m.\u001b[39m_lock\u001b[38;5;241m.\u001b[39mrelease()\n\u001b[1;32m    866\u001b[0m   \u001b[38;5;66;03m# In this case we have created variables on the first call, so we run the\u001b[39;00m\n\u001b[1;32m    867\u001b[0m   \u001b[38;5;66;03m# defunned version which is guaranteed to never create variables.\u001b[39;00m\n\u001b[0;32m--> 868\u001b[0m   \u001b[38;5;28;01mreturn\u001b[39;00m \u001b[43mtracing_compilation\u001b[49m\u001b[38;5;241;43m.\u001b[39;49m\u001b[43mcall_function\u001b[49m\u001b[43m(\u001b[49m\n\u001b[1;32m    869\u001b[0m \u001b[43m      \u001b[49m\u001b[43margs\u001b[49m\u001b[43m,\u001b[49m\u001b[43m \u001b[49m\u001b[43mkwds\u001b[49m\u001b[43m,\u001b[49m\u001b[43m \u001b[49m\u001b[38;5;28;43mself\u001b[39;49m\u001b[38;5;241;43m.\u001b[39;49m\u001b[43m_no_variable_creation_config\u001b[49m\n\u001b[1;32m    870\u001b[0m \u001b[43m  \u001b[49m\u001b[43m)\u001b[49m\n\u001b[1;32m    871\u001b[0m \u001b[38;5;28;01melif\u001b[39;00m \u001b[38;5;28mself\u001b[39m\u001b[38;5;241m.\u001b[39m_variable_creation_config \u001b[38;5;129;01mis\u001b[39;00m \u001b[38;5;129;01mnot\u001b[39;00m \u001b[38;5;28;01mNone\u001b[39;00m:\n\u001b[1;32m    872\u001b[0m   \u001b[38;5;66;03m# Release the lock early so that multiple threads can perform the call\u001b[39;00m\n\u001b[1;32m    873\u001b[0m   \u001b[38;5;66;03m# in parallel.\u001b[39;00m\n\u001b[1;32m    874\u001b[0m   \u001b[38;5;28mself\u001b[39m\u001b[38;5;241m.\u001b[39m_lock\u001b[38;5;241m.\u001b[39mrelease()\n",
      "File \u001b[0;32m~/Documents/dl-project/.venv/lib/python3.10/site-packages/tensorflow/python/eager/polymorphic_function/tracing_compilation.py:139\u001b[0m, in \u001b[0;36mcall_function\u001b[0;34m(args, kwargs, tracing_options)\u001b[0m\n\u001b[1;32m    137\u001b[0m bound_args \u001b[38;5;241m=\u001b[39m function\u001b[38;5;241m.\u001b[39mfunction_type\u001b[38;5;241m.\u001b[39mbind(\u001b[38;5;241m*\u001b[39margs, \u001b[38;5;241m*\u001b[39m\u001b[38;5;241m*\u001b[39mkwargs)\n\u001b[1;32m    138\u001b[0m flat_inputs \u001b[38;5;241m=\u001b[39m function\u001b[38;5;241m.\u001b[39mfunction_type\u001b[38;5;241m.\u001b[39munpack_inputs(bound_args)\n\u001b[0;32m--> 139\u001b[0m \u001b[38;5;28;01mreturn\u001b[39;00m \u001b[43mfunction\u001b[49m\u001b[38;5;241;43m.\u001b[39;49m\u001b[43m_call_flat\u001b[49m\u001b[43m(\u001b[49m\u001b[43m  \u001b[49m\u001b[38;5;66;43;03m# pylint: disable=protected-access\u001b[39;49;00m\n\u001b[1;32m    140\u001b[0m \u001b[43m    \u001b[49m\u001b[43mflat_inputs\u001b[49m\u001b[43m,\u001b[49m\u001b[43m \u001b[49m\u001b[43mcaptured_inputs\u001b[49m\u001b[38;5;241;43m=\u001b[39;49m\u001b[43mfunction\u001b[49m\u001b[38;5;241;43m.\u001b[39;49m\u001b[43mcaptured_inputs\u001b[49m\n\u001b[1;32m    141\u001b[0m \u001b[43m\u001b[49m\u001b[43m)\u001b[49m\n",
      "File \u001b[0;32m~/Documents/dl-project/.venv/lib/python3.10/site-packages/tensorflow/python/eager/polymorphic_function/concrete_function.py:1323\u001b[0m, in \u001b[0;36mConcreteFunction._call_flat\u001b[0;34m(self, tensor_inputs, captured_inputs)\u001b[0m\n\u001b[1;32m   1319\u001b[0m possible_gradient_type \u001b[38;5;241m=\u001b[39m gradients_util\u001b[38;5;241m.\u001b[39mPossibleTapeGradientTypes(args)\n\u001b[1;32m   1320\u001b[0m \u001b[38;5;28;01mif\u001b[39;00m (possible_gradient_type \u001b[38;5;241m==\u001b[39m gradients_util\u001b[38;5;241m.\u001b[39mPOSSIBLE_GRADIENT_TYPES_NONE\n\u001b[1;32m   1321\u001b[0m     \u001b[38;5;129;01mand\u001b[39;00m executing_eagerly):\n\u001b[1;32m   1322\u001b[0m   \u001b[38;5;66;03m# No tape is watching; skip to running the function.\u001b[39;00m\n\u001b[0;32m-> 1323\u001b[0m   \u001b[38;5;28;01mreturn\u001b[39;00m \u001b[38;5;28;43mself\u001b[39;49m\u001b[38;5;241;43m.\u001b[39;49m\u001b[43m_inference_function\u001b[49m\u001b[38;5;241;43m.\u001b[39;49m\u001b[43mcall_preflattened\u001b[49m\u001b[43m(\u001b[49m\u001b[43margs\u001b[49m\u001b[43m)\u001b[49m\n\u001b[1;32m   1324\u001b[0m forward_backward \u001b[38;5;241m=\u001b[39m \u001b[38;5;28mself\u001b[39m\u001b[38;5;241m.\u001b[39m_select_forward_and_backward_functions(\n\u001b[1;32m   1325\u001b[0m     args,\n\u001b[1;32m   1326\u001b[0m     possible_gradient_type,\n\u001b[1;32m   1327\u001b[0m     executing_eagerly)\n\u001b[1;32m   1328\u001b[0m forward_function, args_with_tangents \u001b[38;5;241m=\u001b[39m forward_backward\u001b[38;5;241m.\u001b[39mforward()\n",
      "File \u001b[0;32m~/Documents/dl-project/.venv/lib/python3.10/site-packages/tensorflow/python/eager/polymorphic_function/atomic_function.py:216\u001b[0m, in \u001b[0;36mAtomicFunction.call_preflattened\u001b[0;34m(self, args)\u001b[0m\n\u001b[1;32m    214\u001b[0m \u001b[38;5;28;01mdef\u001b[39;00m \u001b[38;5;21mcall_preflattened\u001b[39m(\u001b[38;5;28mself\u001b[39m, args: Sequence[core\u001b[38;5;241m.\u001b[39mTensor]) \u001b[38;5;241m-\u001b[39m\u001b[38;5;241m>\u001b[39m Any:\n\u001b[1;32m    215\u001b[0m \u001b[38;5;250m  \u001b[39m\u001b[38;5;124;03m\"\"\"Calls with flattened tensor inputs and returns the structured output.\"\"\"\u001b[39;00m\n\u001b[0;32m--> 216\u001b[0m   flat_outputs \u001b[38;5;241m=\u001b[39m \u001b[38;5;28;43mself\u001b[39;49m\u001b[38;5;241;43m.\u001b[39;49m\u001b[43mcall_flat\u001b[49m\u001b[43m(\u001b[49m\u001b[38;5;241;43m*\u001b[39;49m\u001b[43margs\u001b[49m\u001b[43m)\u001b[49m\n\u001b[1;32m    217\u001b[0m   \u001b[38;5;28;01mreturn\u001b[39;00m \u001b[38;5;28mself\u001b[39m\u001b[38;5;241m.\u001b[39mfunction_type\u001b[38;5;241m.\u001b[39mpack_output(flat_outputs)\n",
      "File \u001b[0;32m~/Documents/dl-project/.venv/lib/python3.10/site-packages/tensorflow/python/eager/polymorphic_function/atomic_function.py:251\u001b[0m, in \u001b[0;36mAtomicFunction.call_flat\u001b[0;34m(self, *args)\u001b[0m\n\u001b[1;32m    249\u001b[0m \u001b[38;5;28;01mwith\u001b[39;00m record\u001b[38;5;241m.\u001b[39mstop_recording():\n\u001b[1;32m    250\u001b[0m   \u001b[38;5;28;01mif\u001b[39;00m \u001b[38;5;28mself\u001b[39m\u001b[38;5;241m.\u001b[39m_bound_context\u001b[38;5;241m.\u001b[39mexecuting_eagerly():\n\u001b[0;32m--> 251\u001b[0m     outputs \u001b[38;5;241m=\u001b[39m \u001b[38;5;28;43mself\u001b[39;49m\u001b[38;5;241;43m.\u001b[39;49m\u001b[43m_bound_context\u001b[49m\u001b[38;5;241;43m.\u001b[39;49m\u001b[43mcall_function\u001b[49m\u001b[43m(\u001b[49m\n\u001b[1;32m    252\u001b[0m \u001b[43m        \u001b[49m\u001b[38;5;28;43mself\u001b[39;49m\u001b[38;5;241;43m.\u001b[39;49m\u001b[43mname\u001b[49m\u001b[43m,\u001b[49m\n\u001b[1;32m    253\u001b[0m \u001b[43m        \u001b[49m\u001b[38;5;28;43mlist\u001b[39;49m\u001b[43m(\u001b[49m\u001b[43margs\u001b[49m\u001b[43m)\u001b[49m\u001b[43m,\u001b[49m\n\u001b[1;32m    254\u001b[0m \u001b[43m        \u001b[49m\u001b[38;5;28;43mlen\u001b[39;49m\u001b[43m(\u001b[49m\u001b[38;5;28;43mself\u001b[39;49m\u001b[38;5;241;43m.\u001b[39;49m\u001b[43mfunction_type\u001b[49m\u001b[38;5;241;43m.\u001b[39;49m\u001b[43mflat_outputs\u001b[49m\u001b[43m)\u001b[49m\u001b[43m,\u001b[49m\n\u001b[1;32m    255\u001b[0m \u001b[43m    \u001b[49m\u001b[43m)\u001b[49m\n\u001b[1;32m    256\u001b[0m   \u001b[38;5;28;01melse\u001b[39;00m:\n\u001b[1;32m    257\u001b[0m     outputs \u001b[38;5;241m=\u001b[39m make_call_op_in_graph(\n\u001b[1;32m    258\u001b[0m         \u001b[38;5;28mself\u001b[39m,\n\u001b[1;32m    259\u001b[0m         \u001b[38;5;28mlist\u001b[39m(args),\n\u001b[1;32m    260\u001b[0m         \u001b[38;5;28mself\u001b[39m\u001b[38;5;241m.\u001b[39m_bound_context\u001b[38;5;241m.\u001b[39mfunction_call_options\u001b[38;5;241m.\u001b[39mas_attrs(),\n\u001b[1;32m    261\u001b[0m     )\n",
      "File \u001b[0;32m~/Documents/dl-project/.venv/lib/python3.10/site-packages/tensorflow/python/eager/context.py:1486\u001b[0m, in \u001b[0;36mContext.call_function\u001b[0;34m(self, name, tensor_inputs, num_outputs)\u001b[0m\n\u001b[1;32m   1484\u001b[0m cancellation_context \u001b[38;5;241m=\u001b[39m cancellation\u001b[38;5;241m.\u001b[39mcontext()\n\u001b[1;32m   1485\u001b[0m \u001b[38;5;28;01mif\u001b[39;00m cancellation_context \u001b[38;5;129;01mis\u001b[39;00m \u001b[38;5;28;01mNone\u001b[39;00m:\n\u001b[0;32m-> 1486\u001b[0m   outputs \u001b[38;5;241m=\u001b[39m \u001b[43mexecute\u001b[49m\u001b[38;5;241;43m.\u001b[39;49m\u001b[43mexecute\u001b[49m\u001b[43m(\u001b[49m\n\u001b[1;32m   1487\u001b[0m \u001b[43m      \u001b[49m\u001b[43mname\u001b[49m\u001b[38;5;241;43m.\u001b[39;49m\u001b[43mdecode\u001b[49m\u001b[43m(\u001b[49m\u001b[38;5;124;43m\"\u001b[39;49m\u001b[38;5;124;43mutf-8\u001b[39;49m\u001b[38;5;124;43m\"\u001b[39;49m\u001b[43m)\u001b[49m\u001b[43m,\u001b[49m\n\u001b[1;32m   1488\u001b[0m \u001b[43m      \u001b[49m\u001b[43mnum_outputs\u001b[49m\u001b[38;5;241;43m=\u001b[39;49m\u001b[43mnum_outputs\u001b[49m\u001b[43m,\u001b[49m\n\u001b[1;32m   1489\u001b[0m \u001b[43m      \u001b[49m\u001b[43minputs\u001b[49m\u001b[38;5;241;43m=\u001b[39;49m\u001b[43mtensor_inputs\u001b[49m\u001b[43m,\u001b[49m\n\u001b[1;32m   1490\u001b[0m \u001b[43m      \u001b[49m\u001b[43mattrs\u001b[49m\u001b[38;5;241;43m=\u001b[39;49m\u001b[43mattrs\u001b[49m\u001b[43m,\u001b[49m\n\u001b[1;32m   1491\u001b[0m \u001b[43m      \u001b[49m\u001b[43mctx\u001b[49m\u001b[38;5;241;43m=\u001b[39;49m\u001b[38;5;28;43mself\u001b[39;49m\u001b[43m,\u001b[49m\n\u001b[1;32m   1492\u001b[0m \u001b[43m  \u001b[49m\u001b[43m)\u001b[49m\n\u001b[1;32m   1493\u001b[0m \u001b[38;5;28;01melse\u001b[39;00m:\n\u001b[1;32m   1494\u001b[0m   outputs \u001b[38;5;241m=\u001b[39m execute\u001b[38;5;241m.\u001b[39mexecute_with_cancellation(\n\u001b[1;32m   1495\u001b[0m       name\u001b[38;5;241m.\u001b[39mdecode(\u001b[38;5;124m\"\u001b[39m\u001b[38;5;124mutf-8\u001b[39m\u001b[38;5;124m\"\u001b[39m),\n\u001b[1;32m   1496\u001b[0m       num_outputs\u001b[38;5;241m=\u001b[39mnum_outputs,\n\u001b[0;32m   (...)\u001b[0m\n\u001b[1;32m   1500\u001b[0m       cancellation_manager\u001b[38;5;241m=\u001b[39mcancellation_context,\n\u001b[1;32m   1501\u001b[0m   )\n",
      "File \u001b[0;32m~/Documents/dl-project/.venv/lib/python3.10/site-packages/tensorflow/python/eager/execute.py:53\u001b[0m, in \u001b[0;36mquick_execute\u001b[0;34m(op_name, num_outputs, inputs, attrs, ctx, name)\u001b[0m\n\u001b[1;32m     51\u001b[0m \u001b[38;5;28;01mtry\u001b[39;00m:\n\u001b[1;32m     52\u001b[0m   ctx\u001b[38;5;241m.\u001b[39mensure_initialized()\n\u001b[0;32m---> 53\u001b[0m   tensors \u001b[38;5;241m=\u001b[39m \u001b[43mpywrap_tfe\u001b[49m\u001b[38;5;241;43m.\u001b[39;49m\u001b[43mTFE_Py_Execute\u001b[49m\u001b[43m(\u001b[49m\u001b[43mctx\u001b[49m\u001b[38;5;241;43m.\u001b[39;49m\u001b[43m_handle\u001b[49m\u001b[43m,\u001b[49m\u001b[43m \u001b[49m\u001b[43mdevice_name\u001b[49m\u001b[43m,\u001b[49m\u001b[43m \u001b[49m\u001b[43mop_name\u001b[49m\u001b[43m,\u001b[49m\n\u001b[1;32m     54\u001b[0m \u001b[43m                                      \u001b[49m\u001b[43minputs\u001b[49m\u001b[43m,\u001b[49m\u001b[43m \u001b[49m\u001b[43mattrs\u001b[49m\u001b[43m,\u001b[49m\u001b[43m \u001b[49m\u001b[43mnum_outputs\u001b[49m\u001b[43m)\u001b[49m\n\u001b[1;32m     55\u001b[0m \u001b[38;5;28;01mexcept\u001b[39;00m core\u001b[38;5;241m.\u001b[39m_NotOkStatusException \u001b[38;5;28;01mas\u001b[39;00m e:\n\u001b[1;32m     56\u001b[0m   \u001b[38;5;28;01mif\u001b[39;00m name \u001b[38;5;129;01mis\u001b[39;00m \u001b[38;5;129;01mnot\u001b[39;00m \u001b[38;5;28;01mNone\u001b[39;00m:\n",
      "\u001b[0;31mKeyboardInterrupt\u001b[0m: "
     ]
    }
   ],
   "source": [
    "mobile_feat = PretrainedModel(num_classes=5, img_size=IMG_SIZE, pretrained='mobile', defreeze = 0, name='MobileNetV2-feat')\n",
    "optimizer = Adam(learning_rate=1e-3)\n",
    "mobile_feat.compile(optimizer=optimizer, loss=\"sparse_categorical_crossentropy\", metrics=[SparseCategoricalAccuracy('acc')])\n",
    "\n",
    "print(\"Training only the classifier\")\n",
    "train_model(\n",
    "    mobile_feat,\n",
    "    train_dataset,\n",
    "    val_dataset,\n",
    "    path=model_dir,\n",
    "    epochs=1,\n",
    "    verbose=1,\n",
    "    lr_patience=3,\n",
    "    val_patience=5,\n",
    ")\n",
    "\n",
    "print(\"Finetuning the model with a learning rate of 1e-5\")\n",
    "mobile_feat.trainable = True\n",
    "optimizer = Adam(learning_rate=1e-5)\n",
    "mobile_feat.compile(optimizer=optimizer, loss=\"sparse_categorical_crossentropy\", metrics=[SparseCategoricalAccuracy('acc')])\n",
    "\n",
    "mobile_feat_history = train_model(\n",
    "    mobile_feat,\n",
    "    train_dataset,\n",
    "    val_dataset,\n",
    "    path=model_dir,\n",
    "    epochs=1,\n",
    "    verbose=1,\n",
    "    lr_patience=2,\n",
    "    val_patience=2,\n",
    ").history\n",
    "\n",
    "\n",
    "print(\n",
    "    f\"Final loss: training -> {mobile_feat_history['loss'][-1]:.2f}, validation -> {mobile_feat_history['val_loss'][-1]:.2f}\"\n",
    ")\n",
    "print(\n",
    "    f\"Final accuracy: training -> {mobile_feat_history['acc'][-1]:.2f}, validation -> {mobile_feat_history['val_acc'][-1]:.2f}\"\n",
    ")\n",
    "plot_history(mobile_feat_history, ['loss', 'acc'], name=f'{mobile_feat.name} Model')\n",
    "test_loss, test_accuracy = mobile_feat.evaluate(test_dataset, batch_size=BATCH_SIZE)\n",
    "print(\n",
    "    f\"Model evaluated: Test Loss-> {test_loss}, Test Accuracy -> {test_accuracy*100:.2f}%\"\n",
    ")\n",
    "mobile_feat.summary()"
   ]
  },
  {
   "cell_type": "markdown",
   "metadata": {},
   "source": [
    "#### EfficientNet-B0"
   ]
  },
  {
   "cell_type": "code",
   "execution_count": null,
   "metadata": {},
   "outputs": [],
   "source": [
    "efficient_feat = PretrainedModel(num_classes=5, img_size=IMG_SIZE, pretrained='efficient', defreeze = 0, name='EfficientNetB0-feat')\n",
    "optimizer = Adam(learning_rate=1e-3)\n",
    "efficient_feat.compile(optimizer=optimizer, loss=\"sparse_categorical_crossentropy\", metrics=[SparseCategoricalAccuracy('acc')])\n",
    "\n",
    "print(\"Training only the classifier\")\n",
    "efficient_feat_history = train_model(\n",
    "    efficient_feat,\n",
    "    train_dataset,\n",
    "    val_dataset,\n",
    "    path=model_dir,\n",
    "    epochs=1,\n",
    "    verbose=1,\n",
    "    lr_patience=3,\n",
    "    val_patience=5,\n",
    ").history\n",
    "\n",
    "print(\"Finetuning the model with a learning rate of 1e-5\")\n",
    "efficient_feat.trainable = True\n",
    "optimizer = Adam(learning_rate=1e-5)\n",
    "efficient_feat.compile(optimizer=optimizer, loss=\"sparse_categorical_crossentropy\", metrics=[SparseCategoricalAccuracy('acc')])\n",
    "\n",
    "efficient_feat_history = train_model(\n",
    "    efficient_feat,\n",
    "    train_dataset,\n",
    "    val_dataset,\n",
    "    path=model_dir,\n",
    "    epochs=1,\n",
    "    verbose=1,\n",
    "    lr_patience=2,\n",
    "    val_patience=2,\n",
    ").history\n",
    "\n",
    "print(\n",
    "    f\"Final loss: training -> {efficient_feat_history['loss'][-1]:.2f}, validation -> {efficient_feat_history['val_loss'][-1]:.2f}\"\n",
    ")\n",
    "print(\n",
    "    f\"Final accuracy: training -> {efficient_feat_history['acc'][-1]:.2f}, validation -> {efficient_feat_history['val_acc'][-1]:.2f}\"\n",
    ")\n",
    "plot_history(efficient_feat_history, ['loss', 'acc'], name=f'{efficient_feat.name} Model')\n",
    "test_loss, test_accuracy = efficient_feat.evaluate(test_dataset, batch_size=BATCH_SIZE)\n",
    "print(\n",
    "    f\"Model evaluated: Test Loss-> {test_loss}, Test Accuracy -> {test_accuracy*100:.2f}%\"\n",
    ")\n",
    "efficient_feat.summary()"
   ]
  },
  {
   "cell_type": "markdown",
   "metadata": {},
   "source": [
    "### 3.3. Partial fine-tuning"
   ]
  },
  {
   "cell_type": "markdown",
   "metadata": {},
   "source": [
    "\n",
    "#### ResNet-50 V2"
   ]
  },
  {
   "cell_type": "code",
   "execution_count": null,
   "metadata": {},
   "outputs": [
    {
     "name": "stdout",
     "output_type": "stream",
     "text": [
      "Epoch 1/50\n",
      "45/45 [==============================] - 9s 139ms/step - loss: 0.8317 - acc: 0.8541 - val_loss: 0.3832 - val_acc: 0.9005 - lr: 1.0000e-04\n",
      "Epoch 2/50\n",
      "45/45 [==============================] - 7s 133ms/step - loss: 0.0989 - acc: 0.9710 - val_loss: 0.3034 - val_acc: 0.9099 - lr: 1.0000e-04\n",
      "Epoch 3/50\n",
      "45/45 [==============================] - 6s 100ms/step - loss: 0.0240 - acc: 0.9962 - val_loss: 0.3049 - val_acc: 0.9114 - lr: 1.0000e-04\n",
      "Epoch 4/50\n",
      "45/45 [==============================] - 6s 99ms/step - loss: 0.0096 - acc: 0.9992 - val_loss: 0.3131 - val_acc: 0.9099 - lr: 1.0000e-04\n",
      "Epoch 5/50\n",
      "45/45 [==============================] - 6s 99ms/step - loss: 0.0055 - acc: 0.9996 - val_loss: 0.3213 - val_acc: 0.9134 - lr: 1.0000e-04\n",
      "Epoch 6/50\n",
      "45/45 [==============================] - 6s 99ms/step - loss: 0.0040 - acc: 0.9996 - val_loss: 0.3288 - val_acc: 0.9149 - lr: 1.0000e-04\n",
      "Epoch 7/50\n",
      "45/45 [==============================] - 6s 99ms/step - loss: 0.0032 - acc: 0.9997 - val_loss: 0.3320 - val_acc: 0.9139 - lr: 1.0000e-04\n",
      "Epoch 8/50\n",
      "45/45 [==============================] - 6s 100ms/step - loss: 0.0025 - acc: 0.9998 - val_loss: 0.3338 - val_acc: 0.9139 - lr: 2.0000e-05\n",
      "Epoch 9/50\n",
      "45/45 [==============================] - 6s 99ms/step - loss: 0.0022 - acc: 0.9998 - val_loss: 0.3351 - val_acc: 0.9144 - lr: 2.0000e-05\n",
      "Epoch 10/50\n",
      "45/45 [==============================] - 6s 99ms/step - loss: 0.0021 - acc: 0.9997 - val_loss: 0.3359 - val_acc: 0.9149 - lr: 2.0000e-05\n",
      "Epoch 11/50\n",
      "45/45 [==============================] - 6s 99ms/step - loss: 0.0020 - acc: 0.9997 - val_loss: 0.3366 - val_acc: 0.9149 - lr: 2.0000e-05\n",
      "Epoch 12/50\n",
      "45/45 [==============================] - 6s 99ms/step - loss: 0.0019 - acc: 0.9997 - val_loss: 0.3373 - val_acc: 0.9154 - lr: 2.0000e-05\n",
      "Final loss: training -> 0.00, validation -> 0.34\n",
      "Final accuracy: training -> 1.00, validation -> 0.92\n"
     ]
    },
    {
     "data": {
      "application/vnd.plotly.v1+json": {
       "config": {
        "plotlyServerURL": "https://plot.ly"
       },
       "data": [
        {
         "line": {
          "color": "#636EFA"
         },
         "marker": {
          "color": "#636EFA"
         },
         "mode": "lines+markers",
         "name": "train",
         "showlegend": true,
         "type": "scatter",
         "x": [
          1,
          2,
          3,
          4,
          5,
          6,
          7,
          8,
          9,
          10,
          11,
          12
         ],
         "xaxis": "x",
         "y": [
          0.8317484259605408,
          0.0988926962018013,
          0.023972470313310623,
          0.009634695947170258,
          0.005509782582521439,
          0.00403140252456069,
          0.00321597489528358,
          0.002485252683982253,
          0.0022212560288608074,
          0.0021005587186664343,
          0.002018022583797574,
          0.0019466704688966274
         ],
         "yaxis": "y"
        },
        {
         "line": {
          "color": "#EF553B"
         },
         "marker": {
          "color": "#EF553B"
         },
         "mode": "lines+markers",
         "name": "val",
         "showlegend": true,
         "type": "scatter",
         "x": [
          1,
          2,
          3,
          4,
          5,
          6,
          7,
          8,
          9,
          10,
          11,
          12
         ],
         "xaxis": "x",
         "y": [
          0.3831768035888672,
          0.30336254835128784,
          0.3048931956291199,
          0.3130819499492645,
          0.3212887942790985,
          0.32876577973365784,
          0.3319774866104126,
          0.33381766080856323,
          0.3351421356201172,
          0.3359161615371704,
          0.33655279874801636,
          0.337349534034729
         ],
         "yaxis": "y"
        },
        {
         "line": {
          "color": "#636EFA"
         },
         "marker": {
          "color": "#636EFA"
         },
         "mode": "lines+markers",
         "name": "train",
         "showlegend": false,
         "type": "scatter",
         "x": [
          1,
          2,
          3,
          4,
          5,
          6,
          7,
          8,
          9,
          10,
          11,
          12
         ],
         "xaxis": "x2",
         "y": [
          0.8540993332862854,
          0.9710119366645813,
          0.9961581826210022,
          0.9992141723632812,
          0.999563455581665,
          0.999563455581665,
          0.9997380375862122,
          0.9998253583908081,
          0.9998253583908081,
          0.9997380375862122,
          0.9997380375862122,
          0.9997380375862122
         ],
         "yaxis": "y2"
        },
        {
         "line": {
          "color": "#EF553B"
         },
         "marker": {
          "color": "#EF553B"
         },
         "mode": "lines+markers",
         "name": "val",
         "showlegend": false,
         "type": "scatter",
         "x": [
          1,
          2,
          3,
          4,
          5,
          6,
          7,
          8,
          9,
          10,
          11,
          12
         ],
         "xaxis": "x2",
         "y": [
          0.900544285774231,
          0.909945547580719,
          0.9114300012588501,
          0.909945547580719,
          0.9134092330932617,
          0.914893627166748,
          0.9139040112495422,
          0.9139040112495422,
          0.9143987894058228,
          0.914893627166748,
          0.914893627166748,
          0.9153884053230286
         ],
         "yaxis": "y2"
        }
       ],
       "layout": {
        "annotations": [
         {
          "font": {
           "size": 16
          },
          "showarrow": false,
          "text": "loss",
          "x": 0.2375,
          "xanchor": "center",
          "xref": "paper",
          "y": 1,
          "yanchor": "bottom",
          "yref": "paper"
         },
         {
          "font": {
           "size": 16
          },
          "showarrow": false,
          "text": "acc",
          "x": 0.7625,
          "xanchor": "center",
          "xref": "paper",
          "y": 1,
          "yanchor": "bottom",
          "yref": "paper"
         }
        ],
        "height": 400,
        "margin": {
         "b": 10,
         "l": 10,
         "r": 10,
         "t": 50
        },
        "template": {
         "data": {
          "bar": [
           {
            "error_x": {
             "color": "rgb(36,36,36)"
            },
            "error_y": {
             "color": "rgb(36,36,36)"
            },
            "marker": {
             "line": {
              "color": "rgb(234,234,242)",
              "width": 0.5
             },
             "pattern": {
              "fillmode": "overlay",
              "size": 10,
              "solidity": 0.2
             }
            },
            "type": "bar"
           }
          ],
          "barpolar": [
           {
            "marker": {
             "line": {
              "color": "rgb(234,234,242)",
              "width": 0.5
             },
             "pattern": {
              "fillmode": "overlay",
              "size": 10,
              "solidity": 0.2
             }
            },
            "type": "barpolar"
           }
          ],
          "carpet": [
           {
            "aaxis": {
             "endlinecolor": "rgb(36,36,36)",
             "gridcolor": "white",
             "linecolor": "white",
             "minorgridcolor": "white",
             "startlinecolor": "rgb(36,36,36)"
            },
            "baxis": {
             "endlinecolor": "rgb(36,36,36)",
             "gridcolor": "white",
             "linecolor": "white",
             "minorgridcolor": "white",
             "startlinecolor": "rgb(36,36,36)"
            },
            "type": "carpet"
           }
          ],
          "choropleth": [
           {
            "colorbar": {
             "outlinewidth": 0,
             "tickcolor": "rgb(36,36,36)",
             "ticklen": 8,
             "ticks": "outside",
             "tickwidth": 2
            },
            "type": "choropleth"
           }
          ],
          "contour": [
           {
            "colorbar": {
             "outlinewidth": 0,
             "tickcolor": "rgb(36,36,36)",
             "ticklen": 8,
             "ticks": "outside",
             "tickwidth": 2
            },
            "colorscale": [
             [
              0,
              "rgb(2,4,25)"
             ],
             [
              0.06274509803921569,
              "rgb(24,15,41)"
             ],
             [
              0.12549019607843137,
              "rgb(47,23,57)"
             ],
             [
              0.18823529411764706,
              "rgb(71,28,72)"
             ],
             [
              0.25098039215686274,
              "rgb(97,30,82)"
             ],
             [
              0.3137254901960784,
              "rgb(123,30,89)"
             ],
             [
              0.3764705882352941,
              "rgb(150,27,91)"
             ],
             [
              0.4392156862745098,
              "rgb(177,22,88)"
             ],
             [
              0.5019607843137255,
              "rgb(203,26,79)"
             ],
             [
              0.5647058823529412,
              "rgb(223,47,67)"
             ],
             [
              0.6274509803921569,
              "rgb(236,76,61)"
             ],
             [
              0.6901960784313725,
              "rgb(242,107,73)"
             ],
             [
              0.7529411764705882,
              "rgb(244,135,95)"
             ],
             [
              0.8156862745098039,
              "rgb(245,162,122)"
             ],
             [
              0.8784313725490196,
              "rgb(246,188,153)"
             ],
             [
              0.9411764705882353,
              "rgb(247,212,187)"
             ],
             [
              1,
              "rgb(250,234,220)"
             ]
            ],
            "type": "contour"
           }
          ],
          "contourcarpet": [
           {
            "colorbar": {
             "outlinewidth": 0,
             "tickcolor": "rgb(36,36,36)",
             "ticklen": 8,
             "ticks": "outside",
             "tickwidth": 2
            },
            "type": "contourcarpet"
           }
          ],
          "heatmap": [
           {
            "colorbar": {
             "outlinewidth": 0,
             "tickcolor": "rgb(36,36,36)",
             "ticklen": 8,
             "ticks": "outside",
             "tickwidth": 2
            },
            "colorscale": [
             [
              0,
              "rgb(2,4,25)"
             ],
             [
              0.06274509803921569,
              "rgb(24,15,41)"
             ],
             [
              0.12549019607843137,
              "rgb(47,23,57)"
             ],
             [
              0.18823529411764706,
              "rgb(71,28,72)"
             ],
             [
              0.25098039215686274,
              "rgb(97,30,82)"
             ],
             [
              0.3137254901960784,
              "rgb(123,30,89)"
             ],
             [
              0.3764705882352941,
              "rgb(150,27,91)"
             ],
             [
              0.4392156862745098,
              "rgb(177,22,88)"
             ],
             [
              0.5019607843137255,
              "rgb(203,26,79)"
             ],
             [
              0.5647058823529412,
              "rgb(223,47,67)"
             ],
             [
              0.6274509803921569,
              "rgb(236,76,61)"
             ],
             [
              0.6901960784313725,
              "rgb(242,107,73)"
             ],
             [
              0.7529411764705882,
              "rgb(244,135,95)"
             ],
             [
              0.8156862745098039,
              "rgb(245,162,122)"
             ],
             [
              0.8784313725490196,
              "rgb(246,188,153)"
             ],
             [
              0.9411764705882353,
              "rgb(247,212,187)"
             ],
             [
              1,
              "rgb(250,234,220)"
             ]
            ],
            "type": "heatmap"
           }
          ],
          "heatmapgl": [
           {
            "colorbar": {
             "outlinewidth": 0,
             "tickcolor": "rgb(36,36,36)",
             "ticklen": 8,
             "ticks": "outside",
             "tickwidth": 2
            },
            "colorscale": [
             [
              0,
              "rgb(2,4,25)"
             ],
             [
              0.06274509803921569,
              "rgb(24,15,41)"
             ],
             [
              0.12549019607843137,
              "rgb(47,23,57)"
             ],
             [
              0.18823529411764706,
              "rgb(71,28,72)"
             ],
             [
              0.25098039215686274,
              "rgb(97,30,82)"
             ],
             [
              0.3137254901960784,
              "rgb(123,30,89)"
             ],
             [
              0.3764705882352941,
              "rgb(150,27,91)"
             ],
             [
              0.4392156862745098,
              "rgb(177,22,88)"
             ],
             [
              0.5019607843137255,
              "rgb(203,26,79)"
             ],
             [
              0.5647058823529412,
              "rgb(223,47,67)"
             ],
             [
              0.6274509803921569,
              "rgb(236,76,61)"
             ],
             [
              0.6901960784313725,
              "rgb(242,107,73)"
             ],
             [
              0.7529411764705882,
              "rgb(244,135,95)"
             ],
             [
              0.8156862745098039,
              "rgb(245,162,122)"
             ],
             [
              0.8784313725490196,
              "rgb(246,188,153)"
             ],
             [
              0.9411764705882353,
              "rgb(247,212,187)"
             ],
             [
              1,
              "rgb(250,234,220)"
             ]
            ],
            "type": "heatmapgl"
           }
          ],
          "histogram": [
           {
            "marker": {
             "pattern": {
              "fillmode": "overlay",
              "size": 10,
              "solidity": 0.2
             }
            },
            "type": "histogram"
           }
          ],
          "histogram2d": [
           {
            "colorbar": {
             "outlinewidth": 0,
             "tickcolor": "rgb(36,36,36)",
             "ticklen": 8,
             "ticks": "outside",
             "tickwidth": 2
            },
            "colorscale": [
             [
              0,
              "rgb(2,4,25)"
             ],
             [
              0.06274509803921569,
              "rgb(24,15,41)"
             ],
             [
              0.12549019607843137,
              "rgb(47,23,57)"
             ],
             [
              0.18823529411764706,
              "rgb(71,28,72)"
             ],
             [
              0.25098039215686274,
              "rgb(97,30,82)"
             ],
             [
              0.3137254901960784,
              "rgb(123,30,89)"
             ],
             [
              0.3764705882352941,
              "rgb(150,27,91)"
             ],
             [
              0.4392156862745098,
              "rgb(177,22,88)"
             ],
             [
              0.5019607843137255,
              "rgb(203,26,79)"
             ],
             [
              0.5647058823529412,
              "rgb(223,47,67)"
             ],
             [
              0.6274509803921569,
              "rgb(236,76,61)"
             ],
             [
              0.6901960784313725,
              "rgb(242,107,73)"
             ],
             [
              0.7529411764705882,
              "rgb(244,135,95)"
             ],
             [
              0.8156862745098039,
              "rgb(245,162,122)"
             ],
             [
              0.8784313725490196,
              "rgb(246,188,153)"
             ],
             [
              0.9411764705882353,
              "rgb(247,212,187)"
             ],
             [
              1,
              "rgb(250,234,220)"
             ]
            ],
            "type": "histogram2d"
           }
          ],
          "histogram2dcontour": [
           {
            "colorbar": {
             "outlinewidth": 0,
             "tickcolor": "rgb(36,36,36)",
             "ticklen": 8,
             "ticks": "outside",
             "tickwidth": 2
            },
            "colorscale": [
             [
              0,
              "rgb(2,4,25)"
             ],
             [
              0.06274509803921569,
              "rgb(24,15,41)"
             ],
             [
              0.12549019607843137,
              "rgb(47,23,57)"
             ],
             [
              0.18823529411764706,
              "rgb(71,28,72)"
             ],
             [
              0.25098039215686274,
              "rgb(97,30,82)"
             ],
             [
              0.3137254901960784,
              "rgb(123,30,89)"
             ],
             [
              0.3764705882352941,
              "rgb(150,27,91)"
             ],
             [
              0.4392156862745098,
              "rgb(177,22,88)"
             ],
             [
              0.5019607843137255,
              "rgb(203,26,79)"
             ],
             [
              0.5647058823529412,
              "rgb(223,47,67)"
             ],
             [
              0.6274509803921569,
              "rgb(236,76,61)"
             ],
             [
              0.6901960784313725,
              "rgb(242,107,73)"
             ],
             [
              0.7529411764705882,
              "rgb(244,135,95)"
             ],
             [
              0.8156862745098039,
              "rgb(245,162,122)"
             ],
             [
              0.8784313725490196,
              "rgb(246,188,153)"
             ],
             [
              0.9411764705882353,
              "rgb(247,212,187)"
             ],
             [
              1,
              "rgb(250,234,220)"
             ]
            ],
            "type": "histogram2dcontour"
           }
          ],
          "mesh3d": [
           {
            "colorbar": {
             "outlinewidth": 0,
             "tickcolor": "rgb(36,36,36)",
             "ticklen": 8,
             "ticks": "outside",
             "tickwidth": 2
            },
            "type": "mesh3d"
           }
          ],
          "parcoords": [
           {
            "line": {
             "colorbar": {
              "outlinewidth": 0,
              "tickcolor": "rgb(36,36,36)",
              "ticklen": 8,
              "ticks": "outside",
              "tickwidth": 2
             }
            },
            "type": "parcoords"
           }
          ],
          "pie": [
           {
            "automargin": true,
            "type": "pie"
           }
          ],
          "scatter": [
           {
            "fillpattern": {
             "fillmode": "overlay",
             "size": 10,
             "solidity": 0.2
            },
            "type": "scatter"
           }
          ],
          "scatter3d": [
           {
            "line": {
             "colorbar": {
              "outlinewidth": 0,
              "tickcolor": "rgb(36,36,36)",
              "ticklen": 8,
              "ticks": "outside",
              "tickwidth": 2
             }
            },
            "marker": {
             "colorbar": {
              "outlinewidth": 0,
              "tickcolor": "rgb(36,36,36)",
              "ticklen": 8,
              "ticks": "outside",
              "tickwidth": 2
             }
            },
            "type": "scatter3d"
           }
          ],
          "scattercarpet": [
           {
            "marker": {
             "colorbar": {
              "outlinewidth": 0,
              "tickcolor": "rgb(36,36,36)",
              "ticklen": 8,
              "ticks": "outside",
              "tickwidth": 2
             }
            },
            "type": "scattercarpet"
           }
          ],
          "scattergeo": [
           {
            "marker": {
             "colorbar": {
              "outlinewidth": 0,
              "tickcolor": "rgb(36,36,36)",
              "ticklen": 8,
              "ticks": "outside",
              "tickwidth": 2
             }
            },
            "type": "scattergeo"
           }
          ],
          "scattergl": [
           {
            "marker": {
             "colorbar": {
              "outlinewidth": 0,
              "tickcolor": "rgb(36,36,36)",
              "ticklen": 8,
              "ticks": "outside",
              "tickwidth": 2
             }
            },
            "type": "scattergl"
           }
          ],
          "scattermapbox": [
           {
            "marker": {
             "colorbar": {
              "outlinewidth": 0,
              "tickcolor": "rgb(36,36,36)",
              "ticklen": 8,
              "ticks": "outside",
              "tickwidth": 2
             }
            },
            "type": "scattermapbox"
           }
          ],
          "scatterpolar": [
           {
            "marker": {
             "colorbar": {
              "outlinewidth": 0,
              "tickcolor": "rgb(36,36,36)",
              "ticklen": 8,
              "ticks": "outside",
              "tickwidth": 2
             }
            },
            "type": "scatterpolar"
           }
          ],
          "scatterpolargl": [
           {
            "marker": {
             "colorbar": {
              "outlinewidth": 0,
              "tickcolor": "rgb(36,36,36)",
              "ticklen": 8,
              "ticks": "outside",
              "tickwidth": 2
             }
            },
            "type": "scatterpolargl"
           }
          ],
          "scatterternary": [
           {
            "marker": {
             "colorbar": {
              "outlinewidth": 0,
              "tickcolor": "rgb(36,36,36)",
              "ticklen": 8,
              "ticks": "outside",
              "tickwidth": 2
             }
            },
            "type": "scatterternary"
           }
          ],
          "surface": [
           {
            "colorbar": {
             "outlinewidth": 0,
             "tickcolor": "rgb(36,36,36)",
             "ticklen": 8,
             "ticks": "outside",
             "tickwidth": 2
            },
            "colorscale": [
             [
              0,
              "rgb(2,4,25)"
             ],
             [
              0.06274509803921569,
              "rgb(24,15,41)"
             ],
             [
              0.12549019607843137,
              "rgb(47,23,57)"
             ],
             [
              0.18823529411764706,
              "rgb(71,28,72)"
             ],
             [
              0.25098039215686274,
              "rgb(97,30,82)"
             ],
             [
              0.3137254901960784,
              "rgb(123,30,89)"
             ],
             [
              0.3764705882352941,
              "rgb(150,27,91)"
             ],
             [
              0.4392156862745098,
              "rgb(177,22,88)"
             ],
             [
              0.5019607843137255,
              "rgb(203,26,79)"
             ],
             [
              0.5647058823529412,
              "rgb(223,47,67)"
             ],
             [
              0.6274509803921569,
              "rgb(236,76,61)"
             ],
             [
              0.6901960784313725,
              "rgb(242,107,73)"
             ],
             [
              0.7529411764705882,
              "rgb(244,135,95)"
             ],
             [
              0.8156862745098039,
              "rgb(245,162,122)"
             ],
             [
              0.8784313725490196,
              "rgb(246,188,153)"
             ],
             [
              0.9411764705882353,
              "rgb(247,212,187)"
             ],
             [
              1,
              "rgb(250,234,220)"
             ]
            ],
            "type": "surface"
           }
          ],
          "table": [
           {
            "cells": {
             "fill": {
              "color": "rgb(231,231,240)"
             },
             "line": {
              "color": "white"
             }
            },
            "header": {
             "fill": {
              "color": "rgb(183,183,191)"
             },
             "line": {
              "color": "white"
             }
            },
            "type": "table"
           }
          ]
         },
         "layout": {
          "annotationdefaults": {
           "arrowcolor": "rgb(67,103,167)"
          },
          "autotypenumbers": "strict",
          "coloraxis": {
           "colorbar": {
            "outlinewidth": 0,
            "tickcolor": "rgb(36,36,36)",
            "ticklen": 8,
            "ticks": "outside",
            "tickwidth": 2
           }
          },
          "colorscale": {
           "sequential": [
            [
             0,
             "rgb(2,4,25)"
            ],
            [
             0.06274509803921569,
             "rgb(24,15,41)"
            ],
            [
             0.12549019607843137,
             "rgb(47,23,57)"
            ],
            [
             0.18823529411764706,
             "rgb(71,28,72)"
            ],
            [
             0.25098039215686274,
             "rgb(97,30,82)"
            ],
            [
             0.3137254901960784,
             "rgb(123,30,89)"
            ],
            [
             0.3764705882352941,
             "rgb(150,27,91)"
            ],
            [
             0.4392156862745098,
             "rgb(177,22,88)"
            ],
            [
             0.5019607843137255,
             "rgb(203,26,79)"
            ],
            [
             0.5647058823529412,
             "rgb(223,47,67)"
            ],
            [
             0.6274509803921569,
             "rgb(236,76,61)"
            ],
            [
             0.6901960784313725,
             "rgb(242,107,73)"
            ],
            [
             0.7529411764705882,
             "rgb(244,135,95)"
            ],
            [
             0.8156862745098039,
             "rgb(245,162,122)"
            ],
            [
             0.8784313725490196,
             "rgb(246,188,153)"
            ],
            [
             0.9411764705882353,
             "rgb(247,212,187)"
            ],
            [
             1,
             "rgb(250,234,220)"
            ]
           ],
           "sequentialminus": [
            [
             0,
             "rgb(2,4,25)"
            ],
            [
             0.06274509803921569,
             "rgb(24,15,41)"
            ],
            [
             0.12549019607843137,
             "rgb(47,23,57)"
            ],
            [
             0.18823529411764706,
             "rgb(71,28,72)"
            ],
            [
             0.25098039215686274,
             "rgb(97,30,82)"
            ],
            [
             0.3137254901960784,
             "rgb(123,30,89)"
            ],
            [
             0.3764705882352941,
             "rgb(150,27,91)"
            ],
            [
             0.4392156862745098,
             "rgb(177,22,88)"
            ],
            [
             0.5019607843137255,
             "rgb(203,26,79)"
            ],
            [
             0.5647058823529412,
             "rgb(223,47,67)"
            ],
            [
             0.6274509803921569,
             "rgb(236,76,61)"
            ],
            [
             0.6901960784313725,
             "rgb(242,107,73)"
            ],
            [
             0.7529411764705882,
             "rgb(244,135,95)"
            ],
            [
             0.8156862745098039,
             "rgb(245,162,122)"
            ],
            [
             0.8784313725490196,
             "rgb(246,188,153)"
            ],
            [
             0.9411764705882353,
             "rgb(247,212,187)"
            ],
            [
             1,
             "rgb(250,234,220)"
            ]
           ]
          },
          "colorway": [
           "rgb(76,114,176)",
           "rgb(221,132,82)",
           "rgb(85,168,104)",
           "rgb(196,78,82)",
           "rgb(129,114,179)",
           "rgb(147,120,96)",
           "rgb(218,139,195)",
           "rgb(140,140,140)",
           "rgb(204,185,116)",
           "rgb(100,181,205)"
          ],
          "font": {
           "color": "rgb(36,36,36)"
          },
          "geo": {
           "bgcolor": "white",
           "lakecolor": "white",
           "landcolor": "rgb(234,234,242)",
           "showlakes": true,
           "showland": true,
           "subunitcolor": "white"
          },
          "hoverlabel": {
           "align": "left"
          },
          "hovermode": "closest",
          "paper_bgcolor": "white",
          "plot_bgcolor": "rgb(234,234,242)",
          "polar": {
           "angularaxis": {
            "gridcolor": "white",
            "linecolor": "white",
            "showgrid": true,
            "ticks": ""
           },
           "bgcolor": "rgb(234,234,242)",
           "radialaxis": {
            "gridcolor": "white",
            "linecolor": "white",
            "showgrid": true,
            "ticks": ""
           }
          },
          "scene": {
           "xaxis": {
            "backgroundcolor": "rgb(234,234,242)",
            "gridcolor": "white",
            "gridwidth": 2,
            "linecolor": "white",
            "showbackground": true,
            "showgrid": true,
            "ticks": "",
            "zerolinecolor": "white"
           },
           "yaxis": {
            "backgroundcolor": "rgb(234,234,242)",
            "gridcolor": "white",
            "gridwidth": 2,
            "linecolor": "white",
            "showbackground": true,
            "showgrid": true,
            "ticks": "",
            "zerolinecolor": "white"
           },
           "zaxis": {
            "backgroundcolor": "rgb(234,234,242)",
            "gridcolor": "white",
            "gridwidth": 2,
            "linecolor": "white",
            "showbackground": true,
            "showgrid": true,
            "ticks": "",
            "zerolinecolor": "white"
           }
          },
          "shapedefaults": {
           "fillcolor": "rgb(67,103,167)",
           "line": {
            "width": 0
           },
           "opacity": 0.5
          },
          "ternary": {
           "aaxis": {
            "gridcolor": "white",
            "linecolor": "white",
            "showgrid": true,
            "ticks": ""
           },
           "baxis": {
            "gridcolor": "white",
            "linecolor": "white",
            "showgrid": true,
            "ticks": ""
           },
           "bgcolor": "rgb(234,234,242)",
           "caxis": {
            "gridcolor": "white",
            "linecolor": "white",
            "showgrid": true,
            "ticks": ""
           }
          },
          "xaxis": {
           "automargin": true,
           "gridcolor": "white",
           "linecolor": "white",
           "showgrid": true,
           "ticks": "",
           "title": {
            "standoff": 15
           },
           "zerolinecolor": "white"
          },
          "yaxis": {
           "automargin": true,
           "gridcolor": "white",
           "linecolor": "white",
           "showgrid": true,
           "ticks": "",
           "title": {
            "standoff": 15
           },
           "zerolinecolor": "white"
          }
         }
        },
        "title": {
         "text": "Training and validation of ResNet50-feat Model"
        },
        "width": 1200,
        "xaxis": {
         "anchor": "y",
         "domain": [
          0,
          0.475
         ],
         "title": {
          "text": "epochs"
         }
        },
        "xaxis2": {
         "anchor": "y2",
         "domain": [
          0.525,
          1
         ],
         "title": {
          "text": "epochs"
         }
        },
        "yaxis": {
         "anchor": "x",
         "domain": [
          0,
          1
         ],
         "title": {
          "text": "acc"
         }
        },
        "yaxis2": {
         "anchor": "x2",
         "domain": [
          0,
          1
         ],
         "title": {
          "text": "acc"
         }
        }
       }
      }
     },
     "metadata": {},
     "output_type": "display_data"
    }
   ],
   "source": [
    "resnet50_defreeze = PretrainedModel(num_classes=5, img_size=IMG_SIZE, pretrained='resnet', defreeze = 10, name='ResNet50V2-defreeze')\n",
    "optimizer = Adam(learning_rate=1e-4)\n",
    "resnet50_defreeze.compile(optimizer=optimizer, loss=\"sparse_categorical_crossentropy\", metrics=[SparseCategoricalAccuracy('acc')])\n",
    "resnet50_defreeze_history = train_model(\n",
    "    resnet50_defreeze,\n",
    "    train_dataset,\n",
    "    val_dataset,\n",
    "    path=model_dir,\n",
    "    epochs=50,\n",
    "    verbose=1,\n",
    "    lr_patience=5,\n",
    "    val_patience=10\n",
    ").history\n",
    "print(\n",
    "    f\"Final loss: training -> {resnet50_defreeze_history['loss'][-1]:.2f}, validation -> {resnet50_defreeze_history['val_loss'][-1]:.2f}\"\n",
    ")\n",
    "print(\n",
    "    f\"Final accuracy: training -> {resnet50_defreeze_history['acc'][-1]:.2f}, validation -> {resnet50_defreeze_history['val_acc'][-1]:.2f}\"\n",
    ")\n",
    "plot_history(resnet50_defreeze_history, ['loss', 'acc'], name=f'{resnet50_defreeze.name} Model')\n",
    "test_loss, test_accuracy = resnet50_defreeze.evaluate(test_dataset, batch_size=BATCH_SIZE)\n",
    "print(\n",
    "    f\"Model evaluated: Test Loss-> {test_loss}, Test Accuracy -> {test_accuracy*100:.2f}%\"\n",
    ")\n",
    "resnet50_defreeze.summary()"
   ]
  },
  {
   "cell_type": "markdown",
   "metadata": {},
   "source": [
    "#### MobileNet V2"
   ]
  },
  {
   "cell_type": "code",
   "execution_count": null,
   "metadata": {},
   "outputs": [
    {
     "name": "stdout",
     "output_type": "stream",
     "text": [
      "Epoch 1/50\n",
      "45/45 [==============================] - 8s 122ms/step - loss: 1.3626 - acc: 0.8283 - val_loss: 0.2125 - val_acc: 0.9159 - lr: 1.0000e-04\n",
      "Epoch 2/50\n",
      "45/45 [==============================] - 6s 114ms/step - loss: 0.1486 - acc: 0.9414 - val_loss: 0.1745 - val_acc: 0.9347 - lr: 1.0000e-04\n",
      "Epoch 3/50\n",
      "45/45 [==============================] - 6s 114ms/step - loss: 0.0890 - acc: 0.9714 - val_loss: 0.1699 - val_acc: 0.9377 - lr: 1.0000e-04\n",
      "Epoch 4/50\n",
      "10/45 [=====>........................] - ETA: 2s - loss: 0.0650 - acc: 0.9798"
     ]
    },
    {
     "ename": "KeyboardInterrupt",
     "evalue": "",
     "output_type": "error",
     "traceback": [
      "\u001b[0;31m---------------------------------------------------------------------------\u001b[0m\n",
      "\u001b[0;31mKeyboardInterrupt\u001b[0m                         Traceback (most recent call last)\n",
      "Cell \u001b[0;32mIn[19], line 4\u001b[0m\n",
      "\u001b[1;32m      2\u001b[0m optimizer \u001b[38;5;241m=\u001b[39m Adam(learning_rate\u001b[38;5;241m=\u001b[39m\u001b[38;5;241m1e-4\u001b[39m)\n",
      "\u001b[1;32m      3\u001b[0m mobilenet_feat\u001b[38;5;241m.\u001b[39mcompile(optimizer\u001b[38;5;241m=\u001b[39moptimizer, loss\u001b[38;5;241m=\u001b[39m\u001b[38;5;124m\"\u001b[39m\u001b[38;5;124msparse_categorical_crossentropy\u001b[39m\u001b[38;5;124m\"\u001b[39m, metrics\u001b[38;5;241m=\u001b[39m[SparseCategoricalAccuracy(\u001b[38;5;124m'\u001b[39m\u001b[38;5;124macc\u001b[39m\u001b[38;5;124m'\u001b[39m)])\n",
      "\u001b[0;32m----> 4\u001b[0m mobilenet_feat_history \u001b[38;5;241m=\u001b[39m \u001b[43mtrain_model\u001b[49m\u001b[43m(\u001b[49m\n",
      "\u001b[1;32m      5\u001b[0m \u001b[43m    \u001b[49m\u001b[43mmobilenet_feat\u001b[49m\u001b[43m,\u001b[49m\n",
      "\u001b[1;32m      6\u001b[0m \u001b[43m    \u001b[49m\u001b[43mtrain_dataset\u001b[49m\u001b[43m,\u001b[49m\n",
      "\u001b[1;32m      7\u001b[0m \u001b[43m    \u001b[49m\u001b[43mval_dataset\u001b[49m\u001b[43m,\u001b[49m\n",
      "\u001b[1;32m      8\u001b[0m \u001b[43m    \u001b[49m\u001b[43mpath\u001b[49m\u001b[38;5;241;43m=\u001b[39;49m\u001b[43mmodel_dir\u001b[49m\u001b[43m,\u001b[49m\n",
      "\u001b[1;32m      9\u001b[0m \u001b[43m    \u001b[49m\u001b[43mepochs\u001b[49m\u001b[38;5;241;43m=\u001b[39;49m\u001b[38;5;241;43m50\u001b[39;49m\u001b[43m,\u001b[49m\n",
      "\u001b[1;32m     10\u001b[0m \u001b[43m    \u001b[49m\u001b[43mverbose\u001b[49m\u001b[38;5;241;43m=\u001b[39;49m\u001b[38;5;241;43m1\u001b[39;49m\u001b[43m,\u001b[49m\n",
      "\u001b[1;32m     11\u001b[0m \u001b[43m    \u001b[49m\u001b[43mlr_patience\u001b[49m\u001b[38;5;241;43m=\u001b[39;49m\u001b[38;5;241;43m5\u001b[39;49m\u001b[43m,\u001b[49m\n",
      "\u001b[1;32m     12\u001b[0m \u001b[43m    \u001b[49m\u001b[43mval_patience\u001b[49m\u001b[38;5;241;43m=\u001b[39;49m\u001b[38;5;241;43m10\u001b[39;49m\n",
      "\u001b[1;32m     13\u001b[0m \u001b[43m)\u001b[49m\u001b[38;5;241m.\u001b[39mhistory\n",
      "\u001b[1;32m     14\u001b[0m \u001b[38;5;28mprint\u001b[39m(\n",
      "\u001b[1;32m     15\u001b[0m     \u001b[38;5;124mf\u001b[39m\u001b[38;5;124m\"\u001b[39m\u001b[38;5;124mFinal loss: training -> \u001b[39m\u001b[38;5;132;01m{\u001b[39;00mmobilenet_feat_history[\u001b[38;5;124m'\u001b[39m\u001b[38;5;124mloss\u001b[39m\u001b[38;5;124m'\u001b[39m][\u001b[38;5;241m-\u001b[39m\u001b[38;5;241m1\u001b[39m]\u001b[38;5;132;01m:\u001b[39;00m\u001b[38;5;124m.2f\u001b[39m\u001b[38;5;132;01m}\u001b[39;00m\u001b[38;5;124m, validation -> \u001b[39m\u001b[38;5;132;01m{\u001b[39;00mmobilenet_feat_history[\u001b[38;5;124m'\u001b[39m\u001b[38;5;124mval_loss\u001b[39m\u001b[38;5;124m'\u001b[39m][\u001b[38;5;241m-\u001b[39m\u001b[38;5;241m1\u001b[39m]\u001b[38;5;132;01m:\u001b[39;00m\u001b[38;5;124m.2f\u001b[39m\u001b[38;5;132;01m}\u001b[39;00m\u001b[38;5;124m\"\u001b[39m\n",
      "\u001b[1;32m     16\u001b[0m )\n",
      "\u001b[1;32m     17\u001b[0m \u001b[38;5;28mprint\u001b[39m(\n",
      "\u001b[1;32m     18\u001b[0m     \u001b[38;5;124mf\u001b[39m\u001b[38;5;124m\"\u001b[39m\u001b[38;5;124mFinal accuracy: training -> \u001b[39m\u001b[38;5;132;01m{\u001b[39;00mmobilenet_feat_history[\u001b[38;5;124m'\u001b[39m\u001b[38;5;124macc\u001b[39m\u001b[38;5;124m'\u001b[39m][\u001b[38;5;241m-\u001b[39m\u001b[38;5;241m1\u001b[39m]\u001b[38;5;132;01m:\u001b[39;00m\u001b[38;5;124m.2f\u001b[39m\u001b[38;5;132;01m}\u001b[39;00m\u001b[38;5;124m, validation -> \u001b[39m\u001b[38;5;132;01m{\u001b[39;00mmobilenet_feat_history[\u001b[38;5;124m'\u001b[39m\u001b[38;5;124mval_acc\u001b[39m\u001b[38;5;124m'\u001b[39m][\u001b[38;5;241m-\u001b[39m\u001b[38;5;241m1\u001b[39m]\u001b[38;5;132;01m:\u001b[39;00m\u001b[38;5;124m.2f\u001b[39m\u001b[38;5;132;01m}\u001b[39;00m\u001b[38;5;124m\"\u001b[39m\n",
      "\u001b[1;32m     19\u001b[0m )\n",
      "\n",
      "File \u001b[0;32m~/Documents/dl-project/utils.py:73\u001b[0m, in \u001b[0;36mtrain_model\u001b[0;34m(model, train, val, path, epochs, batch_size, val_patience, lr_patience, verbose)\u001b[0m\n",
      "\u001b[1;32m     70\u001b[0m \u001b[38;5;28;01mif\u001b[39;00m path:\n",
      "\u001b[1;32m     71\u001b[0m     callbacks\u001b[38;5;241m.\u001b[39mappend(ModelCheckpoint(\u001b[38;5;124mf\u001b[39m\u001b[38;5;124m'\u001b[39m\u001b[38;5;132;01m{\u001b[39;00mpath\u001b[38;5;132;01m}\u001b[39;00m\u001b[38;5;124m/\u001b[39m\u001b[38;5;132;01m{\u001b[39;00mmodel\u001b[38;5;241m.\u001b[39mname\u001b[38;5;132;01m}\u001b[39;00m\u001b[38;5;124m.keras\u001b[39m\u001b[38;5;124m'\u001b[39m, \u001b[38;5;124m'\u001b[39m\u001b[38;5;124mval_loss\u001b[39m\u001b[38;5;124m'\u001b[39m, save_best_only\u001b[38;5;241m=\u001b[39m\u001b[38;5;28;01mTrue\u001b[39;00m))\n",
      "\u001b[0;32m---> 73\u001b[0m history \u001b[38;5;241m=\u001b[39m \u001b[43mmodel\u001b[49m\u001b[38;5;241;43m.\u001b[39;49m\u001b[43mfit\u001b[49m\u001b[43m(\u001b[49m\u001b[43mtrain\u001b[49m\u001b[43m,\u001b[49m\u001b[43m \u001b[49m\u001b[43mepochs\u001b[49m\u001b[38;5;241;43m=\u001b[39;49m\u001b[43mepochs\u001b[49m\u001b[43m,\u001b[49m\u001b[43m \u001b[49m\u001b[43mbatch_size\u001b[49m\u001b[38;5;241;43m=\u001b[39;49m\u001b[43mbatch_size\u001b[49m\u001b[43m,\u001b[49m\u001b[43m \u001b[49m\u001b[43mcallbacks\u001b[49m\u001b[38;5;241;43m=\u001b[39;49m\u001b[43mcallbacks\u001b[49m\u001b[43m,\u001b[49m\u001b[43m \u001b[49m\n",
      "\u001b[1;32m     74\u001b[0m \u001b[43m                             \u001b[49m\u001b[43mverbose\u001b[49m\u001b[38;5;241;43m=\u001b[39;49m\u001b[43mverbose\u001b[49m\u001b[43m,\u001b[49m\u001b[43m \u001b[49m\u001b[43mvalidation_data\u001b[49m\u001b[38;5;241;43m=\u001b[39;49m\u001b[43mval\u001b[49m\u001b[43m)\u001b[49m\n",
      "\u001b[1;32m     75\u001b[0m \u001b[38;5;28;01mwith\u001b[39;00m \u001b[38;5;28mopen\u001b[39m(\u001b[38;5;124mf\u001b[39m\u001b[38;5;124m'\u001b[39m\u001b[38;5;132;01m{\u001b[39;00mpath\u001b[38;5;132;01m}\u001b[39;00m\u001b[38;5;124m/history.pickle\u001b[39m\u001b[38;5;124m'\u001b[39m, \u001b[38;5;124m'\u001b[39m\u001b[38;5;124mwb\u001b[39m\u001b[38;5;124m'\u001b[39m) \u001b[38;5;28;01mas\u001b[39;00m writer:\n",
      "\u001b[1;32m     76\u001b[0m     pickle\u001b[38;5;241m.\u001b[39mdump(history\u001b[38;5;241m.\u001b[39mhistory, writer)\n",
      "\n",
      "File \u001b[0;32m~/Documents/dl-project/.venv/lib/python3.10/site-packages/keras/src/utils/traceback_utils.py:65\u001b[0m, in \u001b[0;36mfilter_traceback.<locals>.error_handler\u001b[0;34m(*args, **kwargs)\u001b[0m\n",
      "\u001b[1;32m     63\u001b[0m filtered_tb \u001b[38;5;241m=\u001b[39m \u001b[38;5;28;01mNone\u001b[39;00m\n",
      "\u001b[1;32m     64\u001b[0m \u001b[38;5;28;01mtry\u001b[39;00m:\n",
      "\u001b[0;32m---> 65\u001b[0m     \u001b[38;5;28;01mreturn\u001b[39;00m \u001b[43mfn\u001b[49m\u001b[43m(\u001b[49m\u001b[38;5;241;43m*\u001b[39;49m\u001b[43margs\u001b[49m\u001b[43m,\u001b[49m\u001b[43m \u001b[49m\u001b[38;5;241;43m*\u001b[39;49m\u001b[38;5;241;43m*\u001b[39;49m\u001b[43mkwargs\u001b[49m\u001b[43m)\u001b[49m\n",
      "\u001b[1;32m     66\u001b[0m \u001b[38;5;28;01mexcept\u001b[39;00m \u001b[38;5;167;01mException\u001b[39;00m \u001b[38;5;28;01mas\u001b[39;00m e:\n",
      "\u001b[1;32m     67\u001b[0m     filtered_tb \u001b[38;5;241m=\u001b[39m _process_traceback_frames(e\u001b[38;5;241m.\u001b[39m__traceback__)\n",
      "\n",
      "File \u001b[0;32m~/Documents/dl-project/.venv/lib/python3.10/site-packages/keras/src/engine/training.py:1807\u001b[0m, in \u001b[0;36mModel.fit\u001b[0;34m(self, x, y, batch_size, epochs, verbose, callbacks, validation_split, validation_data, shuffle, class_weight, sample_weight, initial_epoch, steps_per_epoch, validation_steps, validation_batch_size, validation_freq, max_queue_size, workers, use_multiprocessing)\u001b[0m\n",
      "\u001b[1;32m   1799\u001b[0m \u001b[38;5;28;01mwith\u001b[39;00m tf\u001b[38;5;241m.\u001b[39mprofiler\u001b[38;5;241m.\u001b[39mexperimental\u001b[38;5;241m.\u001b[39mTrace(\n",
      "\u001b[1;32m   1800\u001b[0m     \u001b[38;5;124m\"\u001b[39m\u001b[38;5;124mtrain\u001b[39m\u001b[38;5;124m\"\u001b[39m,\n",
      "\u001b[1;32m   1801\u001b[0m     epoch_num\u001b[38;5;241m=\u001b[39mepoch,\n",
      "\u001b[0;32m   (...)\u001b[0m\n",
      "\u001b[1;32m   1804\u001b[0m     _r\u001b[38;5;241m=\u001b[39m\u001b[38;5;241m1\u001b[39m,\n",
      "\u001b[1;32m   1805\u001b[0m ):\n",
      "\u001b[1;32m   1806\u001b[0m     callbacks\u001b[38;5;241m.\u001b[39mon_train_batch_begin(step)\n",
      "\u001b[0;32m-> 1807\u001b[0m     tmp_logs \u001b[38;5;241m=\u001b[39m \u001b[38;5;28;43mself\u001b[39;49m\u001b[38;5;241;43m.\u001b[39;49m\u001b[43mtrain_function\u001b[49m\u001b[43m(\u001b[49m\u001b[43miterator\u001b[49m\u001b[43m)\u001b[49m\n",
      "\u001b[1;32m   1808\u001b[0m     \u001b[38;5;28;01mif\u001b[39;00m data_handler\u001b[38;5;241m.\u001b[39mshould_sync:\n",
      "\u001b[1;32m   1809\u001b[0m         context\u001b[38;5;241m.\u001b[39masync_wait()\n",
      "\n",
      "File \u001b[0;32m~/Documents/dl-project/.venv/lib/python3.10/site-packages/tensorflow/python/util/traceback_utils.py:150\u001b[0m, in \u001b[0;36mfilter_traceback.<locals>.error_handler\u001b[0;34m(*args, **kwargs)\u001b[0m\n",
      "\u001b[1;32m    148\u001b[0m filtered_tb \u001b[38;5;241m=\u001b[39m \u001b[38;5;28;01mNone\u001b[39;00m\n",
      "\u001b[1;32m    149\u001b[0m \u001b[38;5;28;01mtry\u001b[39;00m:\n",
      "\u001b[0;32m--> 150\u001b[0m   \u001b[38;5;28;01mreturn\u001b[39;00m \u001b[43mfn\u001b[49m\u001b[43m(\u001b[49m\u001b[38;5;241;43m*\u001b[39;49m\u001b[43margs\u001b[49m\u001b[43m,\u001b[49m\u001b[43m \u001b[49m\u001b[38;5;241;43m*\u001b[39;49m\u001b[38;5;241;43m*\u001b[39;49m\u001b[43mkwargs\u001b[49m\u001b[43m)\u001b[49m\n",
      "\u001b[1;32m    151\u001b[0m \u001b[38;5;28;01mexcept\u001b[39;00m \u001b[38;5;167;01mException\u001b[39;00m \u001b[38;5;28;01mas\u001b[39;00m e:\n",
      "\u001b[1;32m    152\u001b[0m   filtered_tb \u001b[38;5;241m=\u001b[39m _process_traceback_frames(e\u001b[38;5;241m.\u001b[39m__traceback__)\n",
      "\n",
      "File \u001b[0;32m~/Documents/dl-project/.venv/lib/python3.10/site-packages/tensorflow/python/eager/polymorphic_function/polymorphic_function.py:832\u001b[0m, in \u001b[0;36mFunction.__call__\u001b[0;34m(self, *args, **kwds)\u001b[0m\n",
      "\u001b[1;32m    829\u001b[0m compiler \u001b[38;5;241m=\u001b[39m \u001b[38;5;124m\"\u001b[39m\u001b[38;5;124mxla\u001b[39m\u001b[38;5;124m\"\u001b[39m \u001b[38;5;28;01mif\u001b[39;00m \u001b[38;5;28mself\u001b[39m\u001b[38;5;241m.\u001b[39m_jit_compile \u001b[38;5;28;01melse\u001b[39;00m \u001b[38;5;124m\"\u001b[39m\u001b[38;5;124mnonXla\u001b[39m\u001b[38;5;124m\"\u001b[39m\n",
      "\u001b[1;32m    831\u001b[0m \u001b[38;5;28;01mwith\u001b[39;00m OptionalXlaContext(\u001b[38;5;28mself\u001b[39m\u001b[38;5;241m.\u001b[39m_jit_compile):\n",
      "\u001b[0;32m--> 832\u001b[0m   result \u001b[38;5;241m=\u001b[39m \u001b[38;5;28;43mself\u001b[39;49m\u001b[38;5;241;43m.\u001b[39;49m\u001b[43m_call\u001b[49m\u001b[43m(\u001b[49m\u001b[38;5;241;43m*\u001b[39;49m\u001b[43margs\u001b[49m\u001b[43m,\u001b[49m\u001b[43m \u001b[49m\u001b[38;5;241;43m*\u001b[39;49m\u001b[38;5;241;43m*\u001b[39;49m\u001b[43mkwds\u001b[49m\u001b[43m)\u001b[49m\n",
      "\u001b[1;32m    834\u001b[0m new_tracing_count \u001b[38;5;241m=\u001b[39m \u001b[38;5;28mself\u001b[39m\u001b[38;5;241m.\u001b[39mexperimental_get_tracing_count()\n",
      "\u001b[1;32m    835\u001b[0m without_tracing \u001b[38;5;241m=\u001b[39m (tracing_count \u001b[38;5;241m==\u001b[39m new_tracing_count)\n",
      "\n",
      "File \u001b[0;32m~/Documents/dl-project/.venv/lib/python3.10/site-packages/tensorflow/python/eager/polymorphic_function/polymorphic_function.py:868\u001b[0m, in \u001b[0;36mFunction._call\u001b[0;34m(self, *args, **kwds)\u001b[0m\n",
      "\u001b[1;32m    865\u001b[0m   \u001b[38;5;28mself\u001b[39m\u001b[38;5;241m.\u001b[39m_lock\u001b[38;5;241m.\u001b[39mrelease()\n",
      "\u001b[1;32m    866\u001b[0m   \u001b[38;5;66;03m# In this case we have created variables on the first call, so we run the\u001b[39;00m\n",
      "\u001b[1;32m    867\u001b[0m   \u001b[38;5;66;03m# defunned version which is guaranteed to never create variables.\u001b[39;00m\n",
      "\u001b[0;32m--> 868\u001b[0m   \u001b[38;5;28;01mreturn\u001b[39;00m \u001b[43mtracing_compilation\u001b[49m\u001b[38;5;241;43m.\u001b[39;49m\u001b[43mcall_function\u001b[49m\u001b[43m(\u001b[49m\n",
      "\u001b[1;32m    869\u001b[0m \u001b[43m      \u001b[49m\u001b[43margs\u001b[49m\u001b[43m,\u001b[49m\u001b[43m \u001b[49m\u001b[43mkwds\u001b[49m\u001b[43m,\u001b[49m\u001b[43m \u001b[49m\u001b[38;5;28;43mself\u001b[39;49m\u001b[38;5;241;43m.\u001b[39;49m\u001b[43m_no_variable_creation_config\u001b[49m\n",
      "\u001b[1;32m    870\u001b[0m \u001b[43m  \u001b[49m\u001b[43m)\u001b[49m\n",
      "\u001b[1;32m    871\u001b[0m \u001b[38;5;28;01melif\u001b[39;00m \u001b[38;5;28mself\u001b[39m\u001b[38;5;241m.\u001b[39m_variable_creation_config \u001b[38;5;129;01mis\u001b[39;00m \u001b[38;5;129;01mnot\u001b[39;00m \u001b[38;5;28;01mNone\u001b[39;00m:\n",
      "\u001b[1;32m    872\u001b[0m   \u001b[38;5;66;03m# Release the lock early so that multiple threads can perform the call\u001b[39;00m\n",
      "\u001b[1;32m    873\u001b[0m   \u001b[38;5;66;03m# in parallel.\u001b[39;00m\n",
      "\u001b[1;32m    874\u001b[0m   \u001b[38;5;28mself\u001b[39m\u001b[38;5;241m.\u001b[39m_lock\u001b[38;5;241m.\u001b[39mrelease()\n",
      "\n",
      "File \u001b[0;32m~/Documents/dl-project/.venv/lib/python3.10/site-packages/tensorflow/python/eager/polymorphic_function/tracing_compilation.py:139\u001b[0m, in \u001b[0;36mcall_function\u001b[0;34m(args, kwargs, tracing_options)\u001b[0m\n",
      "\u001b[1;32m    137\u001b[0m bound_args \u001b[38;5;241m=\u001b[39m function\u001b[38;5;241m.\u001b[39mfunction_type\u001b[38;5;241m.\u001b[39mbind(\u001b[38;5;241m*\u001b[39margs, \u001b[38;5;241m*\u001b[39m\u001b[38;5;241m*\u001b[39mkwargs)\n",
      "\u001b[1;32m    138\u001b[0m flat_inputs \u001b[38;5;241m=\u001b[39m function\u001b[38;5;241m.\u001b[39mfunction_type\u001b[38;5;241m.\u001b[39munpack_inputs(bound_args)\n",
      "\u001b[0;32m--> 139\u001b[0m \u001b[38;5;28;01mreturn\u001b[39;00m \u001b[43mfunction\u001b[49m\u001b[38;5;241;43m.\u001b[39;49m\u001b[43m_call_flat\u001b[49m\u001b[43m(\u001b[49m\u001b[43m  \u001b[49m\u001b[38;5;66;43;03m# pylint: disable=protected-access\u001b[39;49;00m\n",
      "\u001b[1;32m    140\u001b[0m \u001b[43m    \u001b[49m\u001b[43mflat_inputs\u001b[49m\u001b[43m,\u001b[49m\u001b[43m \u001b[49m\u001b[43mcaptured_inputs\u001b[49m\u001b[38;5;241;43m=\u001b[39;49m\u001b[43mfunction\u001b[49m\u001b[38;5;241;43m.\u001b[39;49m\u001b[43mcaptured_inputs\u001b[49m\n",
      "\u001b[1;32m    141\u001b[0m \u001b[43m\u001b[49m\u001b[43m)\u001b[49m\n",
      "\n",
      "File \u001b[0;32m~/Documents/dl-project/.venv/lib/python3.10/site-packages/tensorflow/python/eager/polymorphic_function/concrete_function.py:1323\u001b[0m, in \u001b[0;36mConcreteFunction._call_flat\u001b[0;34m(self, tensor_inputs, captured_inputs)\u001b[0m\n",
      "\u001b[1;32m   1319\u001b[0m possible_gradient_type \u001b[38;5;241m=\u001b[39m gradients_util\u001b[38;5;241m.\u001b[39mPossibleTapeGradientTypes(args)\n",
      "\u001b[1;32m   1320\u001b[0m \u001b[38;5;28;01mif\u001b[39;00m (possible_gradient_type \u001b[38;5;241m==\u001b[39m gradients_util\u001b[38;5;241m.\u001b[39mPOSSIBLE_GRADIENT_TYPES_NONE\n",
      "\u001b[1;32m   1321\u001b[0m     \u001b[38;5;129;01mand\u001b[39;00m executing_eagerly):\n",
      "\u001b[1;32m   1322\u001b[0m   \u001b[38;5;66;03m# No tape is watching; skip to running the function.\u001b[39;00m\n",
      "\u001b[0;32m-> 1323\u001b[0m   \u001b[38;5;28;01mreturn\u001b[39;00m \u001b[38;5;28;43mself\u001b[39;49m\u001b[38;5;241;43m.\u001b[39;49m\u001b[43m_inference_function\u001b[49m\u001b[38;5;241;43m.\u001b[39;49m\u001b[43mcall_preflattened\u001b[49m\u001b[43m(\u001b[49m\u001b[43margs\u001b[49m\u001b[43m)\u001b[49m\n",
      "\u001b[1;32m   1324\u001b[0m forward_backward \u001b[38;5;241m=\u001b[39m \u001b[38;5;28mself\u001b[39m\u001b[38;5;241m.\u001b[39m_select_forward_and_backward_functions(\n",
      "\u001b[1;32m   1325\u001b[0m     args,\n",
      "\u001b[1;32m   1326\u001b[0m     possible_gradient_type,\n",
      "\u001b[1;32m   1327\u001b[0m     executing_eagerly)\n",
      "\u001b[1;32m   1328\u001b[0m forward_function, args_with_tangents \u001b[38;5;241m=\u001b[39m forward_backward\u001b[38;5;241m.\u001b[39mforward()\n",
      "\n",
      "File \u001b[0;32m~/Documents/dl-project/.venv/lib/python3.10/site-packages/tensorflow/python/eager/polymorphic_function/atomic_function.py:216\u001b[0m, in \u001b[0;36mAtomicFunction.call_preflattened\u001b[0;34m(self, args)\u001b[0m\n",
      "\u001b[1;32m    214\u001b[0m \u001b[38;5;28;01mdef\u001b[39;00m \u001b[38;5;21mcall_preflattened\u001b[39m(\u001b[38;5;28mself\u001b[39m, args: Sequence[core\u001b[38;5;241m.\u001b[39mTensor]) \u001b[38;5;241m-\u001b[39m\u001b[38;5;241m>\u001b[39m Any:\n",
      "\u001b[1;32m    215\u001b[0m \u001b[38;5;250m  \u001b[39m\u001b[38;5;124;03m\"\"\"Calls with flattened tensor inputs and returns the structured output.\"\"\"\u001b[39;00m\n",
      "\u001b[0;32m--> 216\u001b[0m   flat_outputs \u001b[38;5;241m=\u001b[39m \u001b[38;5;28;43mself\u001b[39;49m\u001b[38;5;241;43m.\u001b[39;49m\u001b[43mcall_flat\u001b[49m\u001b[43m(\u001b[49m\u001b[38;5;241;43m*\u001b[39;49m\u001b[43margs\u001b[49m\u001b[43m)\u001b[49m\n",
      "\u001b[1;32m    217\u001b[0m   \u001b[38;5;28;01mreturn\u001b[39;00m \u001b[38;5;28mself\u001b[39m\u001b[38;5;241m.\u001b[39mfunction_type\u001b[38;5;241m.\u001b[39mpack_output(flat_outputs)\n",
      "\n",
      "File \u001b[0;32m~/Documents/dl-project/.venv/lib/python3.10/site-packages/tensorflow/python/eager/polymorphic_function/atomic_function.py:251\u001b[0m, in \u001b[0;36mAtomicFunction.call_flat\u001b[0;34m(self, *args)\u001b[0m\n",
      "\u001b[1;32m    249\u001b[0m \u001b[38;5;28;01mwith\u001b[39;00m record\u001b[38;5;241m.\u001b[39mstop_recording():\n",
      "\u001b[1;32m    250\u001b[0m   \u001b[38;5;28;01mif\u001b[39;00m \u001b[38;5;28mself\u001b[39m\u001b[38;5;241m.\u001b[39m_bound_context\u001b[38;5;241m.\u001b[39mexecuting_eagerly():\n",
      "\u001b[0;32m--> 251\u001b[0m     outputs \u001b[38;5;241m=\u001b[39m \u001b[38;5;28;43mself\u001b[39;49m\u001b[38;5;241;43m.\u001b[39;49m\u001b[43m_bound_context\u001b[49m\u001b[38;5;241;43m.\u001b[39;49m\u001b[43mcall_function\u001b[49m\u001b[43m(\u001b[49m\n",
      "\u001b[1;32m    252\u001b[0m \u001b[43m        \u001b[49m\u001b[38;5;28;43mself\u001b[39;49m\u001b[38;5;241;43m.\u001b[39;49m\u001b[43mname\u001b[49m\u001b[43m,\u001b[49m\n",
      "\u001b[1;32m    253\u001b[0m \u001b[43m        \u001b[49m\u001b[38;5;28;43mlist\u001b[39;49m\u001b[43m(\u001b[49m\u001b[43margs\u001b[49m\u001b[43m)\u001b[49m\u001b[43m,\u001b[49m\n",
      "\u001b[1;32m    254\u001b[0m \u001b[43m        \u001b[49m\u001b[38;5;28;43mlen\u001b[39;49m\u001b[43m(\u001b[49m\u001b[38;5;28;43mself\u001b[39;49m\u001b[38;5;241;43m.\u001b[39;49m\u001b[43mfunction_type\u001b[49m\u001b[38;5;241;43m.\u001b[39;49m\u001b[43mflat_outputs\u001b[49m\u001b[43m)\u001b[49m\u001b[43m,\u001b[49m\n",
      "\u001b[1;32m    255\u001b[0m \u001b[43m    \u001b[49m\u001b[43m)\u001b[49m\n",
      "\u001b[1;32m    256\u001b[0m   \u001b[38;5;28;01melse\u001b[39;00m:\n",
      "\u001b[1;32m    257\u001b[0m     outputs \u001b[38;5;241m=\u001b[39m make_call_op_in_graph(\n",
      "\u001b[1;32m    258\u001b[0m         \u001b[38;5;28mself\u001b[39m,\n",
      "\u001b[1;32m    259\u001b[0m         \u001b[38;5;28mlist\u001b[39m(args),\n",
      "\u001b[1;32m    260\u001b[0m         \u001b[38;5;28mself\u001b[39m\u001b[38;5;241m.\u001b[39m_bound_context\u001b[38;5;241m.\u001b[39mfunction_call_options\u001b[38;5;241m.\u001b[39mas_attrs(),\n",
      "\u001b[1;32m    261\u001b[0m     )\n",
      "\n",
      "File \u001b[0;32m~/Documents/dl-project/.venv/lib/python3.10/site-packages/tensorflow/python/eager/context.py:1486\u001b[0m, in \u001b[0;36mContext.call_function\u001b[0;34m(self, name, tensor_inputs, num_outputs)\u001b[0m\n",
      "\u001b[1;32m   1484\u001b[0m cancellation_context \u001b[38;5;241m=\u001b[39m cancellation\u001b[38;5;241m.\u001b[39mcontext()\n",
      "\u001b[1;32m   1485\u001b[0m \u001b[38;5;28;01mif\u001b[39;00m cancellation_context \u001b[38;5;129;01mis\u001b[39;00m \u001b[38;5;28;01mNone\u001b[39;00m:\n",
      "\u001b[0;32m-> 1486\u001b[0m   outputs \u001b[38;5;241m=\u001b[39m \u001b[43mexecute\u001b[49m\u001b[38;5;241;43m.\u001b[39;49m\u001b[43mexecute\u001b[49m\u001b[43m(\u001b[49m\n",
      "\u001b[1;32m   1487\u001b[0m \u001b[43m      \u001b[49m\u001b[43mname\u001b[49m\u001b[38;5;241;43m.\u001b[39;49m\u001b[43mdecode\u001b[49m\u001b[43m(\u001b[49m\u001b[38;5;124;43m\"\u001b[39;49m\u001b[38;5;124;43mutf-8\u001b[39;49m\u001b[38;5;124;43m\"\u001b[39;49m\u001b[43m)\u001b[49m\u001b[43m,\u001b[49m\n",
      "\u001b[1;32m   1488\u001b[0m \u001b[43m      \u001b[49m\u001b[43mnum_outputs\u001b[49m\u001b[38;5;241;43m=\u001b[39;49m\u001b[43mnum_outputs\u001b[49m\u001b[43m,\u001b[49m\n",
      "\u001b[1;32m   1489\u001b[0m \u001b[43m      \u001b[49m\u001b[43minputs\u001b[49m\u001b[38;5;241;43m=\u001b[39;49m\u001b[43mtensor_inputs\u001b[49m\u001b[43m,\u001b[49m\n",
      "\u001b[1;32m   1490\u001b[0m \u001b[43m      \u001b[49m\u001b[43mattrs\u001b[49m\u001b[38;5;241;43m=\u001b[39;49m\u001b[43mattrs\u001b[49m\u001b[43m,\u001b[49m\n",
      "\u001b[1;32m   1491\u001b[0m \u001b[43m      \u001b[49m\u001b[43mctx\u001b[49m\u001b[38;5;241;43m=\u001b[39;49m\u001b[38;5;28;43mself\u001b[39;49m\u001b[43m,\u001b[49m\n",
      "\u001b[1;32m   1492\u001b[0m \u001b[43m  \u001b[49m\u001b[43m)\u001b[49m\n",
      "\u001b[1;32m   1493\u001b[0m \u001b[38;5;28;01melse\u001b[39;00m:\n",
      "\u001b[1;32m   1494\u001b[0m   outputs \u001b[38;5;241m=\u001b[39m execute\u001b[38;5;241m.\u001b[39mexecute_with_cancellation(\n",
      "\u001b[1;32m   1495\u001b[0m       name\u001b[38;5;241m.\u001b[39mdecode(\u001b[38;5;124m\"\u001b[39m\u001b[38;5;124mutf-8\u001b[39m\u001b[38;5;124m\"\u001b[39m),\n",
      "\u001b[1;32m   1496\u001b[0m       num_outputs\u001b[38;5;241m=\u001b[39mnum_outputs,\n",
      "\u001b[0;32m   (...)\u001b[0m\n",
      "\u001b[1;32m   1500\u001b[0m       cancellation_manager\u001b[38;5;241m=\u001b[39mcancellation_context,\n",
      "\u001b[1;32m   1501\u001b[0m   )\n",
      "\n",
      "File \u001b[0;32m~/Documents/dl-project/.venv/lib/python3.10/site-packages/tensorflow/python/eager/execute.py:53\u001b[0m, in \u001b[0;36mquick_execute\u001b[0;34m(op_name, num_outputs, inputs, attrs, ctx, name)\u001b[0m\n",
      "\u001b[1;32m     51\u001b[0m \u001b[38;5;28;01mtry\u001b[39;00m:\n",
      "\u001b[1;32m     52\u001b[0m   ctx\u001b[38;5;241m.\u001b[39mensure_initialized()\n",
      "\u001b[0;32m---> 53\u001b[0m   tensors \u001b[38;5;241m=\u001b[39m \u001b[43mpywrap_tfe\u001b[49m\u001b[38;5;241;43m.\u001b[39;49m\u001b[43mTFE_Py_Execute\u001b[49m\u001b[43m(\u001b[49m\u001b[43mctx\u001b[49m\u001b[38;5;241;43m.\u001b[39;49m\u001b[43m_handle\u001b[49m\u001b[43m,\u001b[49m\u001b[43m \u001b[49m\u001b[43mdevice_name\u001b[49m\u001b[43m,\u001b[49m\u001b[43m \u001b[49m\u001b[43mop_name\u001b[49m\u001b[43m,\u001b[49m\n",
      "\u001b[1;32m     54\u001b[0m \u001b[43m                                      \u001b[49m\u001b[43minputs\u001b[49m\u001b[43m,\u001b[49m\u001b[43m \u001b[49m\u001b[43mattrs\u001b[49m\u001b[43m,\u001b[49m\u001b[43m \u001b[49m\u001b[43mnum_outputs\u001b[49m\u001b[43m)\u001b[49m\n",
      "\u001b[1;32m     55\u001b[0m \u001b[38;5;28;01mexcept\u001b[39;00m core\u001b[38;5;241m.\u001b[39m_NotOkStatusException \u001b[38;5;28;01mas\u001b[39;00m e:\n",
      "\u001b[1;32m     56\u001b[0m   \u001b[38;5;28;01mif\u001b[39;00m name \u001b[38;5;129;01mis\u001b[39;00m \u001b[38;5;129;01mnot\u001b[39;00m \u001b[38;5;28;01mNone\u001b[39;00m:\n",
      "\n",
      "\u001b[0;31mKeyboardInterrupt\u001b[0m: "
     ]
    }
   ],
   "source": [
    "mobile_defreeze = PretrainedModel(num_classes=5, img_size=IMG_SIZE, pretrained='mobile', defreeze = 10, name='MobileNetV2-defreeze')\n",
    "optimizer = Adam(learning_rate=1e-4)\n",
    "mobile_defreeze.compile(optimizer=optimizer, loss=\"sparse_categorical_crossentropy\", metrics=[SparseCategoricalAccuracy('acc')])\n",
    "mobile_defreeze_history = train_model(\n",
    "    mobile_defreeze,\n",
    "    train_dataset,\n",
    "    val_dataset,\n",
    "    path=model_dir,\n",
    "    epochs=50,\n",
    "    verbose=1,\n",
    "    lr_patience=5,\n",
    "    val_patience=10\n",
    ").history\n",
    "print(\n",
    "    f\"Final loss: training -> {mobile_defreeze_history['loss'][-1]:.2f}, validation -> {mobile_defreeze_history['val_loss'][-1]:.2f}\"\n",
    ")\n",
    "print(\n",
    "    f\"Final accuracy: training -> {mobile_defreeze_history['acc'][-1]:.2f}, validation -> {mobile_defreeze_history['val_acc'][-1]:.2f}\"\n",
    ")\n",
    "plot_history(mobile_defreeze_history, ['loss', 'acc'], name=f'{mobile_defreeze.name} Model')\n",
    "test_loss, test_accuracy = mobile_defreeze.evaluate(test_dataset, batch_size=BATCH_SIZE)\n",
    "print(\n",
    "    f\"Model evaluated: Test Loss-> {test_loss}, Test Accuracy -> {test_accuracy*100:.2f}%\"\n",
    ")\n",
    "mobile_defreeze.summary()"
   ]
  },
  {
   "cell_type": "markdown",
   "metadata": {},
   "source": [
    "#### EfficientNet-B0"
   ]
  },
  {
   "cell_type": "code",
   "execution_count": null,
   "metadata": {},
   "outputs": [],
   "source": [
    "efficient_defreeze = PretrainedModel(num_classes=5, img_size=IMG_SIZE, pretrained='efficient', defreeze = 10, name='EfficientNetB0-defreeze')\n",
    "optimizer = Adam(learning_rate=1e-4)\n",
    "efficient_defreeze.compile(optimizer=optimizer, loss=\"sparse_categorical_crossentropy\", metrics=[SparseCategoricalAccuracy('acc')])\n",
    "efficient_defreeze_history = train_model(\n",
    "    efficient_defreeze,\n",
    "    train_dataset,\n",
    "    val_dataset,\n",
    "    path=model_dir,\n",
    "    epochs=50,\n",
    "    verbose=1,\n",
    "    lr_patience=5,\n",
    "    val_patience=10\n",
    ").history\n",
    "print(\n",
    "    f\"Final loss: training -> {efficient_defreeze_history['loss'][-1]:.2f}, validation -> {efficient_defreeze_history['val_loss'][-1]:.2f}\"\n",
    ")\n",
    "print(\n",
    "    f\"Final accuracy: training -> {efficient_defreeze_history['acc'][-1]:.2f}, validation -> {efficient_defreeze_history['val_acc'][-1]:.2f}\"\n",
    ")\n",
    "plot_history(efficient_defreeze_history, ['loss', 'acc'], name=f'{efficient_defreeze.name} Model')\n",
    "test_loss, test_accuracy = efficient_defreeze.evaluate(test_dataset, batch_size=BATCH_SIZE)\n",
    "print(\n",
    "    f\"Model evaluated: Test Loss-> {test_loss}, Test Accuracy -> {test_accuracy*100:.2f}%\"\n",
    ")\n",
    "efficient_defreeze.summary()"
   ]
  },
  {
   "cell_type": "markdown",
   "metadata": {},
   "source": [
    "### 3.4. Comparison between pretrained approaches "
   ]
  },
  {
   "cell_type": "code",
   "execution_count": null,
   "metadata": {},
   "outputs": [],
   "source": []
  },
  {
   "cell_type": "markdown",
   "metadata": {},
   "source": [
    "## 4. Results and comparison"
   ]
  }
 ],
 "metadata": {
  "accelerator": "TPU",
  "colab": {
   "provenance": []
  },
  "kernelspec": {
   "display_name": "Python 3 (ipykernel)",
   "language": "python",
   "name": "python3"
  },
  "language_info": {
   "codemirror_mode": {
    "name": "ipython",
    "version": 3
   },
   "file_extension": ".py",
   "mimetype": "text/x-python",
   "name": "python",
   "nbconvert_exporter": "python",
   "pygments_lexer": "ipython3",
   "version": "3.9.18"
  }
 },
 "nbformat": 4,
 "nbformat_minor": 4
}
