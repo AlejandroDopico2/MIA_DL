{
 "cells": [
  {
   "cell_type": "markdown",
   "metadata": {
    "id": "P_EMSOfZPHtV"
   },
   "source": [
    "# Practice 1: Convolutional Neural Network - Deep Learning course\n",
    "\n",
    "*   Alejandro Dopico Castro (alejandro.dopico2@udc.es).\n",
    "*   Ana Xiangning Pereira Ezquerro (ana.ezquerro@udc.es)."
   ]
  },
  {
   "cell_type": "code",
   "execution_count": 1,
   "metadata": {},
   "outputs": [
    {
     "name": "stderr",
     "output_type": "stream",
     "text": [
      "2024-03-06 13:14:24.550912: I tensorflow/core/util/port.cc:113] oneDNN custom operations are on. You may see slightly different numerical results due to floating-point round-off errors from different computation orders. To turn them off, set the environment variable `TF_ENABLE_ONEDNN_OPTS=0`.\n",
      "2024-03-06 13:14:24.586340: E external/local_xla/xla/stream_executor/cuda/cuda_dnn.cc:9261] Unable to register cuDNN factory: Attempting to register factory for plugin cuDNN when one has already been registered\n",
      "2024-03-06 13:14:24.586366: E external/local_xla/xla/stream_executor/cuda/cuda_fft.cc:607] Unable to register cuFFT factory: Attempting to register factory for plugin cuFFT when one has already been registered\n",
      "2024-03-06 13:14:24.587207: E external/local_xla/xla/stream_executor/cuda/cuda_blas.cc:1515] Unable to register cuBLAS factory: Attempting to register factory for plugin cuBLAS when one has already been registered\n",
      "2024-03-06 13:14:24.592321: I tensorflow/core/platform/cpu_feature_guard.cc:182] This TensorFlow binary is optimized to use available CPU instructions in performance-critical operations.\n",
      "To enable the following instructions: AVX2 AVX512F AVX512_VNNI FMA, in other operations, rebuild TensorFlow with the appropriate compiler flags.\n",
      "2024-03-06 13:14:25.226607: W tensorflow/compiler/tf2tensorrt/utils/py_utils.cc:38] TF-TRT Warning: Could not find TensorRT\n"
     ]
    }
   ],
   "source": [
    "import tensorflow as tf\n",
    "from keras.optimizers import Adam\n",
    "from keras.metrics import SparseCategoricalAccuracy\n",
    "from logging import ERROR\n",
    "tf.get_logger().setLevel(ERROR)\n",
    "import warnings, os\n",
    "import plotly.express as px\n",
    "warnings.filterwarnings(\"ignore\")\n",
    "from utils import *\n",
    "from models import *\n",
    "from typing import List, Tuple\n",
    "model_accuracies: List[Tuple[str, int]] = []\n",
    "\n",
    "# global variables \n",
    "IMG_SIZE = 100\n",
    "BATCH_SIZE = 258\n",
    "base_dir = 'animals/'\n",
    "model_dir = 'results/'\n",
    "if not os.path.exists(model_dir):\n",
    "    os.mkdir(model_dir)\n",
    "    "
   ]
  },
  {
   "cell_type": "markdown",
   "metadata": {},
   "source": [
    "## Table of Contents \n",
    "\n",
    "1. [Dataset preprocessing](#exercise-1-dataset-preprocessing)\n",
    "2. [Custom Convolutional Models](#exercise-2-custom-convolutional-models)\n",
    "    - [Simple Model](#21-simple-model)\n",
    "    - [Mid Complex Model](#22-mid-complex-model)\n",
    "    - [Model with residual connections](#23-model-with-residual-connections)\n",
    "    - [Inception block](#24-inception-block)\n",
    "    - [What happens if we add Data Augmentation?](#25-what-if-we-add-data-augmentation)\n",
    "    - [Custom models comparison](#26-custom-models-comparison)\n",
    "3. [Pretrained Models](#exercise-3-pretrained-models)\n",
    "    - [Fine-tuning](#31-fine-tuning)\n",
    "    - [Feature Extraction](#32-feature-extraction)\n",
    "    - [Partial Fine-tuning](#33-partial-fine-tuning)\n",
    "    - [Comparison between pretrained approaches](#34-comparison-between-pretrained-approaches)\n",
    "4. [Comparison](#4-results-and-comparison)"
   ]
  },
  {
   "cell_type": "markdown",
   "metadata": {
    "id": "dqAZL4lTPkHx"
   },
   "source": [
    "## Exercise 1. Dataset preprocessing\n",
    "\n",
    "We decided to use for the image resolution $80\\times 80$ for retrieving similar results than considering higher resolutions with the simpler architectures. The batch size is adapted to fit the GPU capabilities of the local machine. We used the original validation set for evaluation a split a 15% of the data for validation. All the input images were normalized to fit the range $[0,1]$ with the [Rescaling layer](https://keras.io/api/layers/preprocessing_layers/image_preprocessing/rescaling/)."
   ]
  },
  {
   "cell_type": "code",
   "execution_count": 2,
   "metadata": {
    "id": "_NAa-cB4Q8o6"
   },
   "outputs": [
    {
     "name": "stdout",
     "output_type": "stream",
     "text": [
      "Found 13474 files belonging to 5 classes.\n",
      "Using 11453 files for training.\n",
      "Using 2021 files for validation.\n"
     ]
    },
    {
     "name": "stderr",
     "output_type": "stream",
     "text": [
      "2024-03-06 13:14:26.720720: I tensorflow/core/common_runtime/gpu/gpu_device.cc:1929] Created device /job:localhost/replica:0/task:0/device:GPU:0 with 22453 MB memory:  -> device: 0, name: NVIDIA GeForce RTX 3090, pci bus id: 0000:17:00.0, compute capability: 8.6\n",
      "2024-03-06 13:14:26.721182: I tensorflow/core/common_runtime/gpu/gpu_device.cc:1929] Created device /job:localhost/replica:0/task:0/device:GPU:1 with 20987 MB memory:  -> device: 1, name: NVIDIA GeForce RTX 3090, pci bus id: 0000:65:00.0, compute capability: 8.6\n"
     ]
    },
    {
     "name": "stdout",
     "output_type": "stream",
     "text": [
      "Found 1497 files belonging to 5 classes.\n"
     ]
    }
   ],
   "source": [
    "train_dataset, val_dataset, test_dataset = load_data(base_dir, IMG_SIZE, BATCH_SIZE)"
   ]
  },
  {
   "cell_type": "markdown",
   "metadata": {
    "id": "gExGBQP2SqSX"
   },
   "source": [
    "## Exercise 2. Custom Convolutional Models\n",
    "\n",
    "For this exercise, we prepared four different convolutional architectures with increasing complexity and regularization methods to tackle the animal classification problem: ([1](#21-simple-model)) a simple linear approach with 2 convolutional layers interleaved with max-pooling, ([2](#22-mid-complex-model)) a more complex convolutional-linear model with 3 blocks of paired convolutions and max-poolings, ([3](#23-model-with-residual-connections)) a convolutional architecture based on residual connections ([He et al., 2015](https://arxiv.org/abs/1512.03385)), ([4](#24-inception-block)) the integration of the Inception block ([Szegedy et al., 2014](https://arxiv.org/abs/1409.4842)). We used the validation split to tune each hyperparameter configuration (although not all experiments are included in this notebook to facilitate the readibility) and applied some regularization methods learnt in previous practical lessons to avoid overfitting."
   ]
  },
  {
   "cell_type": "markdown",
   "metadata": {
    "id": "l50_KqGYlY2x"
   },
   "source": [
    "### 2.1. Simple Model"
   ]
  },
  {
   "cell_type": "code",
   "execution_count": 3,
   "metadata": {},
   "outputs": [
    {
     "name": "stdout",
     "output_type": "stream",
     "text": [
      "Epoch 1/20\n"
     ]
    },
    {
     "name": "stderr",
     "output_type": "stream",
     "text": [
      "2024-03-06 13:14:29.462859: I external/local_xla/xla/stream_executor/cuda/cuda_dnn.cc:454] Loaded cuDNN version 8904\n",
      "2024-03-06 13:14:30.009681: I external/local_xla/xla/service/service.cc:168] XLA service 0x7f25ae1ab6a0 initialized for platform CUDA (this does not guarantee that XLA will be used). Devices:\n",
      "2024-03-06 13:14:30.009703: I external/local_xla/xla/service/service.cc:176]   StreamExecutor device (0): NVIDIA GeForce RTX 3090, Compute Capability 8.6\n",
      "2024-03-06 13:14:30.009707: I external/local_xla/xla/service/service.cc:176]   StreamExecutor device (1): NVIDIA GeForce RTX 3090, Compute Capability 8.6\n",
      "2024-03-06 13:14:30.014211: I tensorflow/compiler/mlir/tensorflow/utils/dump_mlir_util.cc:269] disabling MLIR crash reproducer, set env var `MLIR_CRASH_REPRODUCER_DIRECTORY` to enable.\n",
      "WARNING: All log messages before absl::InitializeLog() is called are written to STDERR\n",
      "I0000 00:00:1709727270.109956  121659 device_compiler.h:186] Compiled cluster using XLA!  This line is logged at most once for the lifetime of the process.\n"
     ]
    },
    {
     "name": "stdout",
     "output_type": "stream",
     "text": [
      "45/45 [==============================] - 9s 127ms/step - loss: 3.6627 - acc: 0.3610 - val_loss: 1.1262 - val_acc: 0.5715 - lr: 0.0010\n",
      "Epoch 2/20\n",
      "45/45 [==============================] - 5s 96ms/step - loss: 0.9838 - acc: 0.6475 - val_loss: 0.9295 - val_acc: 0.6591 - lr: 0.0010\n",
      "Epoch 3/20\n",
      "45/45 [==============================] - 5s 96ms/step - loss: 0.8613 - acc: 0.6934 - val_loss: 0.8408 - val_acc: 0.6912 - lr: 0.0010\n",
      "Epoch 4/20\n",
      "45/45 [==============================] - 5s 95ms/step - loss: 0.7656 - acc: 0.7303 - val_loss: 0.7971 - val_acc: 0.7001 - lr: 0.0010\n",
      "Epoch 5/20\n",
      "45/45 [==============================] - 5s 95ms/step - loss: 0.7092 - acc: 0.7461 - val_loss: 0.7881 - val_acc: 0.7061 - lr: 0.0010\n",
      "Epoch 6/20\n",
      "45/45 [==============================] - 5s 95ms/step - loss: 0.6623 - acc: 0.7645 - val_loss: 0.7625 - val_acc: 0.7115 - lr: 0.0010\n",
      "Epoch 7/20\n",
      "45/45 [==============================] - 5s 94ms/step - loss: 0.6283 - acc: 0.7798 - val_loss: 0.7753 - val_acc: 0.7081 - lr: 0.0010\n",
      "Epoch 8/20\n",
      "45/45 [==============================] - 5s 95ms/step - loss: 0.5926 - acc: 0.7941 - val_loss: 0.7534 - val_acc: 0.7279 - lr: 0.0010\n",
      "Epoch 9/20\n",
      "45/45 [==============================] - 5s 95ms/step - loss: 0.5581 - acc: 0.8076 - val_loss: 0.7484 - val_acc: 0.7160 - lr: 0.0010\n",
      "Epoch 10/20\n",
      "45/45 [==============================] - 5s 94ms/step - loss: 0.5262 - acc: 0.8209 - val_loss: 0.7590 - val_acc: 0.7209 - lr: 0.0010\n",
      "Epoch 11/20\n",
      "45/45 [==============================] - 5s 94ms/step - loss: 0.5044 - acc: 0.8304 - val_loss: 0.7776 - val_acc: 0.7105 - lr: 0.0010\n",
      "Epoch 12/20\n",
      "45/45 [==============================] - 5s 93ms/step - loss: 0.4736 - acc: 0.8427 - val_loss: 0.7498 - val_acc: 0.7249 - lr: 0.0010\n",
      "Epoch 13/20\n",
      "45/45 [==============================] - 5s 93ms/step - loss: 0.4549 - acc: 0.8514 - val_loss: 0.7606 - val_acc: 0.7338 - lr: 0.0010\n",
      "Epoch 14/20\n",
      "45/45 [==============================] - 5s 93ms/step - loss: 0.4332 - acc: 0.8567 - val_loss: 0.7771 - val_acc: 0.7269 - lr: 0.0010\n",
      "Epoch 15/20\n",
      "45/45 [==============================] - 5s 93ms/step - loss: 0.3822 - acc: 0.8868 - val_loss: 0.7564 - val_acc: 0.7313 - lr: 2.0000e-04\n",
      "Epoch 16/20\n",
      "45/45 [==============================] - 5s 93ms/step - loss: 0.3684 - acc: 0.8907 - val_loss: 0.7603 - val_acc: 0.7269 - lr: 2.0000e-04\n",
      "Epoch 17/20\n",
      "45/45 [==============================] - 5s 93ms/step - loss: 0.3635 - acc: 0.8939 - val_loss: 0.7581 - val_acc: 0.7274 - lr: 2.0000e-04\n",
      "Epoch 18/20\n",
      "45/45 [==============================] - 5s 93ms/step - loss: 0.3575 - acc: 0.8954 - val_loss: 0.7591 - val_acc: 0.7333 - lr: 2.0000e-04\n",
      "Epoch 19/20\n",
      "45/45 [==============================] - 5s 93ms/step - loss: 0.3513 - acc: 0.8991 - val_loss: 0.7594 - val_acc: 0.7288 - lr: 2.0000e-04\n",
      "Final loss: training -> 0.35, validation -> 0.76\n",
      "Final accuracy: training -> 0.90,         validation -> 0.73\n"
     ]
    },
    {
     "data": {
      "application/vnd.plotly.v1+json": {
       "config": {
        "plotlyServerURL": "https://plot.ly"
       },
       "data": [
        {
         "line": {
          "color": "#636EFA"
         },
         "marker": {
          "color": "#636EFA"
         },
         "mode": "lines+markers",
         "name": "train",
         "showlegend": true,
         "type": "scatter",
         "x": [
          1,
          2,
          3,
          4,
          5,
          6,
          7,
          8,
          9,
          10,
          11,
          12,
          13,
          14,
          15,
          16,
          17,
          18,
          19
         ],
         "xaxis": "x",
         "y": [
          3.6626691818237305,
          0.9838145971298218,
          0.8612921237945557,
          0.7656397223472595,
          0.7091715931892395,
          0.6622784733772278,
          0.6283089518547058,
          0.5926293730735779,
          0.5580850839614868,
          0.5262330770492554,
          0.5043606162071228,
          0.4735833704471588,
          0.45493343472480774,
          0.4331900179386139,
          0.38219431042671204,
          0.36837589740753174,
          0.36351820826530457,
          0.3574715256690979,
          0.35132521390914917
         ],
         "yaxis": "y"
        },
        {
         "line": {
          "color": "#EF553B"
         },
         "marker": {
          "color": "#EF553B"
         },
         "mode": "lines+markers",
         "name": "val",
         "showlegend": true,
         "type": "scatter",
         "x": [
          1,
          2,
          3,
          4,
          5,
          6,
          7,
          8,
          9,
          10,
          11,
          12,
          13,
          14,
          15,
          16,
          17,
          18,
          19
         ],
         "xaxis": "x",
         "y": [
          1.1261653900146484,
          0.9295049905776978,
          0.8408359885215759,
          0.7971083521842957,
          0.788099467754364,
          0.7625017762184143,
          0.7753074169158936,
          0.753393828868866,
          0.7483670115470886,
          0.7589565515518188,
          0.7775983810424805,
          0.7498306632041931,
          0.76064133644104,
          0.7770898342132568,
          0.7564266324043274,
          0.760296642780304,
          0.7581009268760681,
          0.7590821385383606,
          0.7594059705734253
         ],
         "yaxis": "y"
        },
        {
         "line": {
          "color": "#636EFA"
         },
         "marker": {
          "color": "#636EFA"
         },
         "mode": "lines+markers",
         "name": "train",
         "showlegend": false,
         "type": "scatter",
         "x": [
          1,
          2,
          3,
          4,
          5,
          6,
          7,
          8,
          9,
          10,
          11,
          12,
          13,
          14,
          15,
          16,
          17,
          18,
          19
         ],
         "xaxis": "x2",
         "y": [
          0.3609534502029419,
          0.6475159525871277,
          0.6933554410934448,
          0.7302889823913574,
          0.7460927367210388,
          0.7645158767700195,
          0.7797957062721252,
          0.7941150665283203,
          0.8076486587524414,
          0.8209202885627747,
          0.8303501009941101,
          0.8427486419677734,
          0.8513926267623901,
          0.8567187786102295,
          0.88675457239151,
          0.890683650970459,
          0.8939142823219299,
          0.8953985571861267,
          0.8990657329559326
         ],
         "yaxis": "y2"
        },
        {
         "line": {
          "color": "#EF553B"
         },
         "marker": {
          "color": "#EF553B"
         },
         "mode": "lines+markers",
         "name": "val",
         "showlegend": false,
         "type": "scatter",
         "x": [
          1,
          2,
          3,
          4,
          5,
          6,
          7,
          8,
          9,
          10,
          11,
          12,
          13,
          14,
          15,
          16,
          17,
          18,
          19
         ],
         "xaxis": "x2",
         "y": [
          0.571499228477478,
          0.6590796709060669,
          0.691241979598999,
          0.7001484632492065,
          0.7060860991477966,
          0.7115289568901062,
          0.7080653309822083,
          0.7278574705123901,
          0.71598219871521,
          0.7209302186965942,
          0.7105393409729004,
          0.7248886823654175,
          0.733795166015625,
          0.7268679141998291,
          0.7313211560249329,
          0.7268679141998291,
          0.7273626923561096,
          0.7333003282546997,
          0.728847086429596
         ],
         "yaxis": "y2"
        }
       ],
       "layout": {
        "annotations": [
         {
          "font": {
           "size": 16
          },
          "showarrow": false,
          "text": "loss",
          "x": 0.2375,
          "xanchor": "center",
          "xref": "paper",
          "y": 1,
          "yanchor": "bottom",
          "yref": "paper"
         },
         {
          "font": {
           "size": 16
          },
          "showarrow": false,
          "text": "acc",
          "x": 0.7625,
          "xanchor": "center",
          "xref": "paper",
          "y": 1,
          "yanchor": "bottom",
          "yref": "paper"
         }
        ],
        "height": 400,
        "margin": {
         "b": 10,
         "l": 10,
         "r": 10,
         "t": 50
        },
        "template": {
         "data": {
          "bar": [
           {
            "error_x": {
             "color": "rgb(36,36,36)"
            },
            "error_y": {
             "color": "rgb(36,36,36)"
            },
            "marker": {
             "line": {
              "color": "rgb(234,234,242)",
              "width": 0.5
             },
             "pattern": {
              "fillmode": "overlay",
              "size": 10,
              "solidity": 0.2
             }
            },
            "type": "bar"
           }
          ],
          "barpolar": [
           {
            "marker": {
             "line": {
              "color": "rgb(234,234,242)",
              "width": 0.5
             },
             "pattern": {
              "fillmode": "overlay",
              "size": 10,
              "solidity": 0.2
             }
            },
            "type": "barpolar"
           }
          ],
          "carpet": [
           {
            "aaxis": {
             "endlinecolor": "rgb(36,36,36)",
             "gridcolor": "white",
             "linecolor": "white",
             "minorgridcolor": "white",
             "startlinecolor": "rgb(36,36,36)"
            },
            "baxis": {
             "endlinecolor": "rgb(36,36,36)",
             "gridcolor": "white",
             "linecolor": "white",
             "minorgridcolor": "white",
             "startlinecolor": "rgb(36,36,36)"
            },
            "type": "carpet"
           }
          ],
          "choropleth": [
           {
            "colorbar": {
             "outlinewidth": 0,
             "tickcolor": "rgb(36,36,36)",
             "ticklen": 8,
             "ticks": "outside",
             "tickwidth": 2
            },
            "type": "choropleth"
           }
          ],
          "contour": [
           {
            "colorbar": {
             "outlinewidth": 0,
             "tickcolor": "rgb(36,36,36)",
             "ticklen": 8,
             "ticks": "outside",
             "tickwidth": 2
            },
            "colorscale": [
             [
              0,
              "rgb(2,4,25)"
             ],
             [
              0.06274509803921569,
              "rgb(24,15,41)"
             ],
             [
              0.12549019607843137,
              "rgb(47,23,57)"
             ],
             [
              0.18823529411764706,
              "rgb(71,28,72)"
             ],
             [
              0.25098039215686274,
              "rgb(97,30,82)"
             ],
             [
              0.3137254901960784,
              "rgb(123,30,89)"
             ],
             [
              0.3764705882352941,
              "rgb(150,27,91)"
             ],
             [
              0.4392156862745098,
              "rgb(177,22,88)"
             ],
             [
              0.5019607843137255,
              "rgb(203,26,79)"
             ],
             [
              0.5647058823529412,
              "rgb(223,47,67)"
             ],
             [
              0.6274509803921569,
              "rgb(236,76,61)"
             ],
             [
              0.6901960784313725,
              "rgb(242,107,73)"
             ],
             [
              0.7529411764705882,
              "rgb(244,135,95)"
             ],
             [
              0.8156862745098039,
              "rgb(245,162,122)"
             ],
             [
              0.8784313725490196,
              "rgb(246,188,153)"
             ],
             [
              0.9411764705882353,
              "rgb(247,212,187)"
             ],
             [
              1,
              "rgb(250,234,220)"
             ]
            ],
            "type": "contour"
           }
          ],
          "contourcarpet": [
           {
            "colorbar": {
             "outlinewidth": 0,
             "tickcolor": "rgb(36,36,36)",
             "ticklen": 8,
             "ticks": "outside",
             "tickwidth": 2
            },
            "type": "contourcarpet"
           }
          ],
          "heatmap": [
           {
            "colorbar": {
             "outlinewidth": 0,
             "tickcolor": "rgb(36,36,36)",
             "ticklen": 8,
             "ticks": "outside",
             "tickwidth": 2
            },
            "colorscale": [
             [
              0,
              "rgb(2,4,25)"
             ],
             [
              0.06274509803921569,
              "rgb(24,15,41)"
             ],
             [
              0.12549019607843137,
              "rgb(47,23,57)"
             ],
             [
              0.18823529411764706,
              "rgb(71,28,72)"
             ],
             [
              0.25098039215686274,
              "rgb(97,30,82)"
             ],
             [
              0.3137254901960784,
              "rgb(123,30,89)"
             ],
             [
              0.3764705882352941,
              "rgb(150,27,91)"
             ],
             [
              0.4392156862745098,
              "rgb(177,22,88)"
             ],
             [
              0.5019607843137255,
              "rgb(203,26,79)"
             ],
             [
              0.5647058823529412,
              "rgb(223,47,67)"
             ],
             [
              0.6274509803921569,
              "rgb(236,76,61)"
             ],
             [
              0.6901960784313725,
              "rgb(242,107,73)"
             ],
             [
              0.7529411764705882,
              "rgb(244,135,95)"
             ],
             [
              0.8156862745098039,
              "rgb(245,162,122)"
             ],
             [
              0.8784313725490196,
              "rgb(246,188,153)"
             ],
             [
              0.9411764705882353,
              "rgb(247,212,187)"
             ],
             [
              1,
              "rgb(250,234,220)"
             ]
            ],
            "type": "heatmap"
           }
          ],
          "heatmapgl": [
           {
            "colorbar": {
             "outlinewidth": 0,
             "tickcolor": "rgb(36,36,36)",
             "ticklen": 8,
             "ticks": "outside",
             "tickwidth": 2
            },
            "colorscale": [
             [
              0,
              "rgb(2,4,25)"
             ],
             [
              0.06274509803921569,
              "rgb(24,15,41)"
             ],
             [
              0.12549019607843137,
              "rgb(47,23,57)"
             ],
             [
              0.18823529411764706,
              "rgb(71,28,72)"
             ],
             [
              0.25098039215686274,
              "rgb(97,30,82)"
             ],
             [
              0.3137254901960784,
              "rgb(123,30,89)"
             ],
             [
              0.3764705882352941,
              "rgb(150,27,91)"
             ],
             [
              0.4392156862745098,
              "rgb(177,22,88)"
             ],
             [
              0.5019607843137255,
              "rgb(203,26,79)"
             ],
             [
              0.5647058823529412,
              "rgb(223,47,67)"
             ],
             [
              0.6274509803921569,
              "rgb(236,76,61)"
             ],
             [
              0.6901960784313725,
              "rgb(242,107,73)"
             ],
             [
              0.7529411764705882,
              "rgb(244,135,95)"
             ],
             [
              0.8156862745098039,
              "rgb(245,162,122)"
             ],
             [
              0.8784313725490196,
              "rgb(246,188,153)"
             ],
             [
              0.9411764705882353,
              "rgb(247,212,187)"
             ],
             [
              1,
              "rgb(250,234,220)"
             ]
            ],
            "type": "heatmapgl"
           }
          ],
          "histogram": [
           {
            "marker": {
             "pattern": {
              "fillmode": "overlay",
              "size": 10,
              "solidity": 0.2
             }
            },
            "type": "histogram"
           }
          ],
          "histogram2d": [
           {
            "colorbar": {
             "outlinewidth": 0,
             "tickcolor": "rgb(36,36,36)",
             "ticklen": 8,
             "ticks": "outside",
             "tickwidth": 2
            },
            "colorscale": [
             [
              0,
              "rgb(2,4,25)"
             ],
             [
              0.06274509803921569,
              "rgb(24,15,41)"
             ],
             [
              0.12549019607843137,
              "rgb(47,23,57)"
             ],
             [
              0.18823529411764706,
              "rgb(71,28,72)"
             ],
             [
              0.25098039215686274,
              "rgb(97,30,82)"
             ],
             [
              0.3137254901960784,
              "rgb(123,30,89)"
             ],
             [
              0.3764705882352941,
              "rgb(150,27,91)"
             ],
             [
              0.4392156862745098,
              "rgb(177,22,88)"
             ],
             [
              0.5019607843137255,
              "rgb(203,26,79)"
             ],
             [
              0.5647058823529412,
              "rgb(223,47,67)"
             ],
             [
              0.6274509803921569,
              "rgb(236,76,61)"
             ],
             [
              0.6901960784313725,
              "rgb(242,107,73)"
             ],
             [
              0.7529411764705882,
              "rgb(244,135,95)"
             ],
             [
              0.8156862745098039,
              "rgb(245,162,122)"
             ],
             [
              0.8784313725490196,
              "rgb(246,188,153)"
             ],
             [
              0.9411764705882353,
              "rgb(247,212,187)"
             ],
             [
              1,
              "rgb(250,234,220)"
             ]
            ],
            "type": "histogram2d"
           }
          ],
          "histogram2dcontour": [
           {
            "colorbar": {
             "outlinewidth": 0,
             "tickcolor": "rgb(36,36,36)",
             "ticklen": 8,
             "ticks": "outside",
             "tickwidth": 2
            },
            "colorscale": [
             [
              0,
              "rgb(2,4,25)"
             ],
             [
              0.06274509803921569,
              "rgb(24,15,41)"
             ],
             [
              0.12549019607843137,
              "rgb(47,23,57)"
             ],
             [
              0.18823529411764706,
              "rgb(71,28,72)"
             ],
             [
              0.25098039215686274,
              "rgb(97,30,82)"
             ],
             [
              0.3137254901960784,
              "rgb(123,30,89)"
             ],
             [
              0.3764705882352941,
              "rgb(150,27,91)"
             ],
             [
              0.4392156862745098,
              "rgb(177,22,88)"
             ],
             [
              0.5019607843137255,
              "rgb(203,26,79)"
             ],
             [
              0.5647058823529412,
              "rgb(223,47,67)"
             ],
             [
              0.6274509803921569,
              "rgb(236,76,61)"
             ],
             [
              0.6901960784313725,
              "rgb(242,107,73)"
             ],
             [
              0.7529411764705882,
              "rgb(244,135,95)"
             ],
             [
              0.8156862745098039,
              "rgb(245,162,122)"
             ],
             [
              0.8784313725490196,
              "rgb(246,188,153)"
             ],
             [
              0.9411764705882353,
              "rgb(247,212,187)"
             ],
             [
              1,
              "rgb(250,234,220)"
             ]
            ],
            "type": "histogram2dcontour"
           }
          ],
          "mesh3d": [
           {
            "colorbar": {
             "outlinewidth": 0,
             "tickcolor": "rgb(36,36,36)",
             "ticklen": 8,
             "ticks": "outside",
             "tickwidth": 2
            },
            "type": "mesh3d"
           }
          ],
          "parcoords": [
           {
            "line": {
             "colorbar": {
              "outlinewidth": 0,
              "tickcolor": "rgb(36,36,36)",
              "ticklen": 8,
              "ticks": "outside",
              "tickwidth": 2
             }
            },
            "type": "parcoords"
           }
          ],
          "pie": [
           {
            "automargin": true,
            "type": "pie"
           }
          ],
          "scatter": [
           {
            "fillpattern": {
             "fillmode": "overlay",
             "size": 10,
             "solidity": 0.2
            },
            "type": "scatter"
           }
          ],
          "scatter3d": [
           {
            "line": {
             "colorbar": {
              "outlinewidth": 0,
              "tickcolor": "rgb(36,36,36)",
              "ticklen": 8,
              "ticks": "outside",
              "tickwidth": 2
             }
            },
            "marker": {
             "colorbar": {
              "outlinewidth": 0,
              "tickcolor": "rgb(36,36,36)",
              "ticklen": 8,
              "ticks": "outside",
              "tickwidth": 2
             }
            },
            "type": "scatter3d"
           }
          ],
          "scattercarpet": [
           {
            "marker": {
             "colorbar": {
              "outlinewidth": 0,
              "tickcolor": "rgb(36,36,36)",
              "ticklen": 8,
              "ticks": "outside",
              "tickwidth": 2
             }
            },
            "type": "scattercarpet"
           }
          ],
          "scattergeo": [
           {
            "marker": {
             "colorbar": {
              "outlinewidth": 0,
              "tickcolor": "rgb(36,36,36)",
              "ticklen": 8,
              "ticks": "outside",
              "tickwidth": 2
             }
            },
            "type": "scattergeo"
           }
          ],
          "scattergl": [
           {
            "marker": {
             "colorbar": {
              "outlinewidth": 0,
              "tickcolor": "rgb(36,36,36)",
              "ticklen": 8,
              "ticks": "outside",
              "tickwidth": 2
             }
            },
            "type": "scattergl"
           }
          ],
          "scattermapbox": [
           {
            "marker": {
             "colorbar": {
              "outlinewidth": 0,
              "tickcolor": "rgb(36,36,36)",
              "ticklen": 8,
              "ticks": "outside",
              "tickwidth": 2
             }
            },
            "type": "scattermapbox"
           }
          ],
          "scatterpolar": [
           {
            "marker": {
             "colorbar": {
              "outlinewidth": 0,
              "tickcolor": "rgb(36,36,36)",
              "ticklen": 8,
              "ticks": "outside",
              "tickwidth": 2
             }
            },
            "type": "scatterpolar"
           }
          ],
          "scatterpolargl": [
           {
            "marker": {
             "colorbar": {
              "outlinewidth": 0,
              "tickcolor": "rgb(36,36,36)",
              "ticklen": 8,
              "ticks": "outside",
              "tickwidth": 2
             }
            },
            "type": "scatterpolargl"
           }
          ],
          "scatterternary": [
           {
            "marker": {
             "colorbar": {
              "outlinewidth": 0,
              "tickcolor": "rgb(36,36,36)",
              "ticklen": 8,
              "ticks": "outside",
              "tickwidth": 2
             }
            },
            "type": "scatterternary"
           }
          ],
          "surface": [
           {
            "colorbar": {
             "outlinewidth": 0,
             "tickcolor": "rgb(36,36,36)",
             "ticklen": 8,
             "ticks": "outside",
             "tickwidth": 2
            },
            "colorscale": [
             [
              0,
              "rgb(2,4,25)"
             ],
             [
              0.06274509803921569,
              "rgb(24,15,41)"
             ],
             [
              0.12549019607843137,
              "rgb(47,23,57)"
             ],
             [
              0.18823529411764706,
              "rgb(71,28,72)"
             ],
             [
              0.25098039215686274,
              "rgb(97,30,82)"
             ],
             [
              0.3137254901960784,
              "rgb(123,30,89)"
             ],
             [
              0.3764705882352941,
              "rgb(150,27,91)"
             ],
             [
              0.4392156862745098,
              "rgb(177,22,88)"
             ],
             [
              0.5019607843137255,
              "rgb(203,26,79)"
             ],
             [
              0.5647058823529412,
              "rgb(223,47,67)"
             ],
             [
              0.6274509803921569,
              "rgb(236,76,61)"
             ],
             [
              0.6901960784313725,
              "rgb(242,107,73)"
             ],
             [
              0.7529411764705882,
              "rgb(244,135,95)"
             ],
             [
              0.8156862745098039,
              "rgb(245,162,122)"
             ],
             [
              0.8784313725490196,
              "rgb(246,188,153)"
             ],
             [
              0.9411764705882353,
              "rgb(247,212,187)"
             ],
             [
              1,
              "rgb(250,234,220)"
             ]
            ],
            "type": "surface"
           }
          ],
          "table": [
           {
            "cells": {
             "fill": {
              "color": "rgb(231,231,240)"
             },
             "line": {
              "color": "white"
             }
            },
            "header": {
             "fill": {
              "color": "rgb(183,183,191)"
             },
             "line": {
              "color": "white"
             }
            },
            "type": "table"
           }
          ]
         },
         "layout": {
          "annotationdefaults": {
           "arrowcolor": "rgb(67,103,167)"
          },
          "autotypenumbers": "strict",
          "coloraxis": {
           "colorbar": {
            "outlinewidth": 0,
            "tickcolor": "rgb(36,36,36)",
            "ticklen": 8,
            "ticks": "outside",
            "tickwidth": 2
           }
          },
          "colorscale": {
           "sequential": [
            [
             0,
             "rgb(2,4,25)"
            ],
            [
             0.06274509803921569,
             "rgb(24,15,41)"
            ],
            [
             0.12549019607843137,
             "rgb(47,23,57)"
            ],
            [
             0.18823529411764706,
             "rgb(71,28,72)"
            ],
            [
             0.25098039215686274,
             "rgb(97,30,82)"
            ],
            [
             0.3137254901960784,
             "rgb(123,30,89)"
            ],
            [
             0.3764705882352941,
             "rgb(150,27,91)"
            ],
            [
             0.4392156862745098,
             "rgb(177,22,88)"
            ],
            [
             0.5019607843137255,
             "rgb(203,26,79)"
            ],
            [
             0.5647058823529412,
             "rgb(223,47,67)"
            ],
            [
             0.6274509803921569,
             "rgb(236,76,61)"
            ],
            [
             0.6901960784313725,
             "rgb(242,107,73)"
            ],
            [
             0.7529411764705882,
             "rgb(244,135,95)"
            ],
            [
             0.8156862745098039,
             "rgb(245,162,122)"
            ],
            [
             0.8784313725490196,
             "rgb(246,188,153)"
            ],
            [
             0.9411764705882353,
             "rgb(247,212,187)"
            ],
            [
             1,
             "rgb(250,234,220)"
            ]
           ],
           "sequentialminus": [
            [
             0,
             "rgb(2,4,25)"
            ],
            [
             0.06274509803921569,
             "rgb(24,15,41)"
            ],
            [
             0.12549019607843137,
             "rgb(47,23,57)"
            ],
            [
             0.18823529411764706,
             "rgb(71,28,72)"
            ],
            [
             0.25098039215686274,
             "rgb(97,30,82)"
            ],
            [
             0.3137254901960784,
             "rgb(123,30,89)"
            ],
            [
             0.3764705882352941,
             "rgb(150,27,91)"
            ],
            [
             0.4392156862745098,
             "rgb(177,22,88)"
            ],
            [
             0.5019607843137255,
             "rgb(203,26,79)"
            ],
            [
             0.5647058823529412,
             "rgb(223,47,67)"
            ],
            [
             0.6274509803921569,
             "rgb(236,76,61)"
            ],
            [
             0.6901960784313725,
             "rgb(242,107,73)"
            ],
            [
             0.7529411764705882,
             "rgb(244,135,95)"
            ],
            [
             0.8156862745098039,
             "rgb(245,162,122)"
            ],
            [
             0.8784313725490196,
             "rgb(246,188,153)"
            ],
            [
             0.9411764705882353,
             "rgb(247,212,187)"
            ],
            [
             1,
             "rgb(250,234,220)"
            ]
           ]
          },
          "colorway": [
           "rgb(76,114,176)",
           "rgb(221,132,82)",
           "rgb(85,168,104)",
           "rgb(196,78,82)",
           "rgb(129,114,179)",
           "rgb(147,120,96)",
           "rgb(218,139,195)",
           "rgb(140,140,140)",
           "rgb(204,185,116)",
           "rgb(100,181,205)"
          ],
          "font": {
           "color": "rgb(36,36,36)"
          },
          "geo": {
           "bgcolor": "white",
           "lakecolor": "white",
           "landcolor": "rgb(234,234,242)",
           "showlakes": true,
           "showland": true,
           "subunitcolor": "white"
          },
          "hoverlabel": {
           "align": "left"
          },
          "hovermode": "closest",
          "paper_bgcolor": "white",
          "plot_bgcolor": "rgb(234,234,242)",
          "polar": {
           "angularaxis": {
            "gridcolor": "white",
            "linecolor": "white",
            "showgrid": true,
            "ticks": ""
           },
           "bgcolor": "rgb(234,234,242)",
           "radialaxis": {
            "gridcolor": "white",
            "linecolor": "white",
            "showgrid": true,
            "ticks": ""
           }
          },
          "scene": {
           "xaxis": {
            "backgroundcolor": "rgb(234,234,242)",
            "gridcolor": "white",
            "gridwidth": 2,
            "linecolor": "white",
            "showbackground": true,
            "showgrid": true,
            "ticks": "",
            "zerolinecolor": "white"
           },
           "yaxis": {
            "backgroundcolor": "rgb(234,234,242)",
            "gridcolor": "white",
            "gridwidth": 2,
            "linecolor": "white",
            "showbackground": true,
            "showgrid": true,
            "ticks": "",
            "zerolinecolor": "white"
           },
           "zaxis": {
            "backgroundcolor": "rgb(234,234,242)",
            "gridcolor": "white",
            "gridwidth": 2,
            "linecolor": "white",
            "showbackground": true,
            "showgrid": true,
            "ticks": "",
            "zerolinecolor": "white"
           }
          },
          "shapedefaults": {
           "fillcolor": "rgb(67,103,167)",
           "line": {
            "width": 0
           },
           "opacity": 0.5
          },
          "ternary": {
           "aaxis": {
            "gridcolor": "white",
            "linecolor": "white",
            "showgrid": true,
            "ticks": ""
           },
           "baxis": {
            "gridcolor": "white",
            "linecolor": "white",
            "showgrid": true,
            "ticks": ""
           },
           "bgcolor": "rgb(234,234,242)",
           "caxis": {
            "gridcolor": "white",
            "linecolor": "white",
            "showgrid": true,
            "ticks": ""
           }
          },
          "xaxis": {
           "automargin": true,
           "gridcolor": "white",
           "linecolor": "white",
           "showgrid": true,
           "ticks": "",
           "title": {
            "standoff": 15
           },
           "zerolinecolor": "white"
          },
          "yaxis": {
           "automargin": true,
           "gridcolor": "white",
           "linecolor": "white",
           "showgrid": true,
           "ticks": "",
           "title": {
            "standoff": 15
           },
           "zerolinecolor": "white"
          }
         }
        },
        "title": {
         "text": "Training and validation of Simple Model"
        },
        "width": 1200,
        "xaxis": {
         "anchor": "y",
         "domain": [
          0,
          0.475
         ],
         "title": {
          "text": "epochs"
         }
        },
        "xaxis2": {
         "anchor": "y2",
         "domain": [
          0.525,
          1
         ],
         "title": {
          "text": "epochs"
         }
        },
        "yaxis": {
         "anchor": "x",
         "domain": [
          0,
          1
         ],
         "title": {
          "text": "acc"
         }
        },
        "yaxis2": {
         "anchor": "x2",
         "domain": [
          0,
          1
         ],
         "title": {
          "text": "acc"
         }
        }
       }
      }
     },
     "metadata": {},
     "output_type": "display_data"
    }
   ],
   "source": [
    "simple_model = SimpleModel(num_classes=5)\n",
    "optimizer = Adam(learning_rate=1e-3)\n",
    "simple_model.compile(optimizer=optimizer, loss=\"sparse_categorical_crossentropy\", metrics=[SparseCategoricalAccuracy('acc')])\n",
    "simple_model_history = train_model(simple_model, train_dataset, val_dataset, epochs=20, path=model_dir, batch_size=BATCH_SIZE, verbose=1).history\n",
    "print(\n",
    "    f\"Final loss: training -> {simple_model_history['loss'][-1]:.2f}, validation -> {simple_model_history['val_loss'][-1]:.2f}\"\n",
    ")\n",
    "print(\n",
    "    f\"Final accuracy: training -> {simple_model_history['acc'][-1]:.2f}, \\\n",
    "        validation -> {simple_model_history['val_acc'][-1]:.2f}\"\n",
    ")\n",
    "plot_history(simple_model_history, ['loss', 'acc'], name='Simple Model')"
   ]
  },
  {
   "cell_type": "code",
   "execution_count": 4,
   "metadata": {
    "colab": {
     "base_uri": "https://localhost:8080/"
    },
    "id": "OObWq7CPu9-7",
    "outputId": "0abac44d-e754-42d8-f2bb-43cb43166d7f"
   },
   "outputs": [
    {
     "name": "stdout",
     "output_type": "stream",
     "text": [
      "6/6 [==============================] - 1s 71ms/step - loss: 0.6536 - acc: 0.7615\n",
      "Model evaluated: Test Loss-> 0.6535845398902893, Test Accuracy -> 76.15%\n",
      "Model: \"SimpleModel\"\n",
      "_________________________________________________________________\n",
      " Layer (type)                Output Shape              Param #   \n",
      "=================================================================\n",
      " rescaling (Rescaling)       multiple                  0         \n",
      "                                                                 \n",
      " conv2d (Conv2D)             multiple                  896       \n",
      "                                                                 \n",
      " max_pooling2d (MaxPooling2  multiple                  0         \n",
      " D)                                                              \n",
      "                                                                 \n",
      " conv2d_1 (Conv2D)           multiple                  18496     \n",
      "                                                                 \n",
      " max_pooling2d_1 (MaxPoolin  multiple                  0 (unused)\n",
      " g2D)                                                            \n",
      "                                                                 \n",
      " flatten (Flatten)           multiple                  0         \n",
      "                                                                 \n",
      " dense (Dense)               multiple                  706885    \n",
      "                                                                 \n",
      "=================================================================\n",
      "Total params: 726277 (2.77 MB)\n",
      "Trainable params: 726277 (2.77 MB)\n",
      "Non-trainable params: 0 (0.00 Byte)\n",
      "_________________________________________________________________\n",
      "None\n"
     ]
    }
   ],
   "source": [
    "test_loss, test_accuracy = simple_model.evaluate(test_dataset, batch_size=BATCH_SIZE)\n",
    "print(\n",
    "    f\"Model evaluated: Test Loss-> {test_loss}, Test Accuracy -> {test_accuracy*100:.2f}%\"\n",
    ")\n",
    "print(simple_model.summary())\n",
    "model_accuracies.append((\"SimpleModel\", test_accuracy))"
   ]
  },
  {
   "cell_type": "markdown",
   "metadata": {},
   "source": [
    "### 2.2 Mid Complex Model"
   ]
  },
  {
   "cell_type": "code",
   "execution_count": 5,
   "metadata": {},
   "outputs": [
    {
     "name": "stdout",
     "output_type": "stream",
     "text": [
      "Epoch 1/30\n"
     ]
    },
    {
     "name": "stderr",
     "output_type": "stream",
     "text": [
      "2024-03-06 13:16:13.964585: E tensorflow/core/grappler/optimizers/meta_optimizer.cc:961] layout failed: INVALID_ARGUMENT: Size of values 0 does not match size of permutation 4 @ fanin shape inMidModel/dropout/dropout/SelectV2-2-TransposeNHWCToNCHW-LayoutOptimizer\n"
     ]
    },
    {
     "name": "stdout",
     "output_type": "stream",
     "text": [
      "45/45 [==============================] - 15s 158ms/step - loss: 1.4449 - acc: 0.3767 - val_loss: 1.1846 - val_acc: 0.5507 - lr: 0.0010\n",
      "Epoch 2/30\n",
      "45/45 [==============================] - 6s 101ms/step - loss: 0.9544 - acc: 0.6245 - val_loss: 0.7623 - val_acc: 0.6873 - lr: 0.0010\n",
      "Epoch 3/30\n",
      "45/45 [==============================] - 6s 101ms/step - loss: 0.6993 - acc: 0.7193 - val_loss: 0.6569 - val_acc: 0.7358 - lr: 0.0010\n",
      "Epoch 4/30\n",
      "45/45 [==============================] - 6s 101ms/step - loss: 0.6315 - acc: 0.7491 - val_loss: 0.6193 - val_acc: 0.7476 - lr: 0.0010\n",
      "Epoch 5/30\n",
      "45/45 [==============================] - 6s 101ms/step - loss: 0.5467 - acc: 0.7836 - val_loss: 0.5521 - val_acc: 0.7848 - lr: 0.0010\n",
      "Epoch 6/30\n",
      "45/45 [==============================] - 6s 101ms/step - loss: 0.4882 - acc: 0.8070 - val_loss: 0.5235 - val_acc: 0.7947 - lr: 0.0010\n",
      "Epoch 7/30\n",
      "45/45 [==============================] - 6s 101ms/step - loss: 0.4644 - acc: 0.8166 - val_loss: 0.5080 - val_acc: 0.8016 - lr: 0.0010\n",
      "Epoch 8/30\n",
      "45/45 [==============================] - 6s 101ms/step - loss: 0.4071 - acc: 0.8399 - val_loss: 0.4747 - val_acc: 0.8243 - lr: 0.0010\n",
      "Epoch 9/30\n",
      "45/45 [==============================] - 6s 101ms/step - loss: 0.3715 - acc: 0.8550 - val_loss: 0.4517 - val_acc: 0.8313 - lr: 0.0010\n",
      "Epoch 10/30\n",
      "45/45 [==============================] - 6s 99ms/step - loss: 0.3320 - acc: 0.8690 - val_loss: 0.4830 - val_acc: 0.8194 - lr: 0.0010\n",
      "Epoch 11/30\n",
      "45/45 [==============================] - 6s 99ms/step - loss: 0.2853 - acc: 0.8875 - val_loss: 0.4766 - val_acc: 0.8268 - lr: 0.0010\n",
      "Epoch 12/30\n",
      "45/45 [==============================] - 6s 99ms/step - loss: 0.2444 - acc: 0.9039 - val_loss: 0.5286 - val_acc: 0.8283 - lr: 0.0010\n",
      "Epoch 13/30\n",
      "45/45 [==============================] - 6s 99ms/step - loss: 0.2196 - acc: 0.9159 - val_loss: 0.5905 - val_acc: 0.8110 - lr: 0.0010\n",
      "Epoch 14/30\n",
      "45/45 [==============================] - 6s 98ms/step - loss: 0.2048 - acc: 0.9208 - val_loss: 0.5522 - val_acc: 0.8308 - lr: 0.0010\n",
      "Epoch 15/30\n",
      "45/45 [==============================] - 6s 99ms/step - loss: 0.1124 - acc: 0.9612 - val_loss: 0.5335 - val_acc: 0.8456 - lr: 2.0000e-04\n",
      "Epoch 16/30\n",
      "45/45 [==============================] - 6s 99ms/step - loss: 0.0813 - acc: 0.9734 - val_loss: 0.5727 - val_acc: 0.8451 - lr: 2.0000e-04\n",
      "Epoch 17/30\n",
      "45/45 [==============================] - 6s 99ms/step - loss: 0.0678 - acc: 0.9786 - val_loss: 0.6269 - val_acc: 0.8456 - lr: 2.0000e-04\n",
      "Epoch 18/30\n",
      "45/45 [==============================] - 6s 99ms/step - loss: 0.0576 - acc: 0.9815 - val_loss: 0.6493 - val_acc: 0.8451 - lr: 2.0000e-04\n",
      "Epoch 19/30\n",
      "45/45 [==============================] - 6s 99ms/step - loss: 0.0488 - acc: 0.9853 - val_loss: 0.6930 - val_acc: 0.8476 - lr: 2.0000e-04\n",
      "Final loss: training -> 0.05, validation -> 0.69\n",
      "Final accuracy: training -> 0.99, validation -> 0.85\n"
     ]
    },
    {
     "data": {
      "application/vnd.plotly.v1+json": {
       "config": {
        "plotlyServerURL": "https://plot.ly"
       },
       "data": [
        {
         "line": {
          "color": "#636EFA"
         },
         "marker": {
          "color": "#636EFA"
         },
         "mode": "lines+markers",
         "name": "train",
         "showlegend": true,
         "type": "scatter",
         "x": [
          1,
          2,
          3,
          4,
          5,
          6,
          7,
          8,
          9,
          10,
          11,
          12,
          13,
          14,
          15,
          16,
          17,
          18,
          19
         ],
         "xaxis": "x",
         "y": [
          1.4449272155761719,
          0.9543942809104919,
          0.6992887258529663,
          0.6314728856086731,
          0.5466687679290771,
          0.48821136355400085,
          0.46438390016555786,
          0.40705406665802,
          0.3714655637741089,
          0.3319668173789978,
          0.2853444516658783,
          0.24441556632518768,
          0.2196456640958786,
          0.20476698875427246,
          0.11237967014312744,
          0.08131702244281769,
          0.06779303401708603,
          0.057629331946372986,
          0.04883265122771263
         ],
         "yaxis": "y"
        },
        {
         "line": {
          "color": "#EF553B"
         },
         "marker": {
          "color": "#EF553B"
         },
         "mode": "lines+markers",
         "name": "val",
         "showlegend": true,
         "type": "scatter",
         "x": [
          1,
          2,
          3,
          4,
          5,
          6,
          7,
          8,
          9,
          10,
          11,
          12,
          13,
          14,
          15,
          16,
          17,
          18,
          19
         ],
         "xaxis": "x",
         "y": [
          1.1846048831939697,
          0.7622904777526855,
          0.6568838357925415,
          0.6192830801010132,
          0.552058219909668,
          0.5234988927841187,
          0.5079532265663147,
          0.47470253705978394,
          0.45172119140625,
          0.48299440741539,
          0.4766217768192291,
          0.5285908579826355,
          0.5904889106750488,
          0.5522283911705017,
          0.5335099697113037,
          0.5727000832557678,
          0.626883864402771,
          0.6492640376091003,
          0.6930403709411621
         ],
         "yaxis": "y"
        },
        {
         "line": {
          "color": "#636EFA"
         },
         "marker": {
          "color": "#636EFA"
         },
         "mode": "lines+markers",
         "name": "train",
         "showlegend": false,
         "type": "scatter",
         "x": [
          1,
          2,
          3,
          4,
          5,
          6,
          7,
          8,
          9,
          10,
          11,
          12,
          13,
          14,
          15,
          16,
          17,
          18,
          19
         ],
         "xaxis": "x2",
         "y": [
          0.37666985392570496,
          0.6244652271270752,
          0.7192875146865845,
          0.7491486668586731,
          0.7836374640464783,
          0.8070374727249146,
          0.8166419267654419,
          0.8398672938346863,
          0.8549724817276001,
          0.8690299391746521,
          0.8874530792236328,
          0.9038679599761963,
          0.9159172177314758,
          0.9208067655563354,
          0.9612328410148621,
          0.9733694195747375,
          0.978608250617981,
          0.9814895391464233,
          0.9853313565254211
         ],
         "yaxis": "y2"
        },
        {
         "line": {
          "color": "#EF553B"
         },
         "marker": {
          "color": "#EF553B"
         },
         "mode": "lines+markers",
         "name": "val",
         "showlegend": false,
         "type": "scatter",
         "x": [
          1,
          2,
          3,
          4,
          5,
          6,
          7,
          8,
          9,
          10,
          11,
          12,
          13,
          14,
          15,
          16,
          17,
          18,
          19
         ],
         "xaxis": "x2",
         "y": [
          0.5507174730300903,
          0.6872835159301758,
          0.7357743978500366,
          0.7476496696472168,
          0.7847599983215332,
          0.7946560978889465,
          0.8015833497047424,
          0.8243443965911865,
          0.8312716484069824,
          0.8193963170051575,
          0.8268184065818787,
          0.828302800655365,
          0.8109846711158752,
          0.8307768702507019,
          0.8456209897994995,
          0.8451261520385742,
          0.8456209897994995,
          0.8451261520385742,
          0.8476002216339111
         ],
         "yaxis": "y2"
        }
       ],
       "layout": {
        "annotations": [
         {
          "font": {
           "size": 16
          },
          "showarrow": false,
          "text": "loss",
          "x": 0.2375,
          "xanchor": "center",
          "xref": "paper",
          "y": 1,
          "yanchor": "bottom",
          "yref": "paper"
         },
         {
          "font": {
           "size": 16
          },
          "showarrow": false,
          "text": "acc",
          "x": 0.7625,
          "xanchor": "center",
          "xref": "paper",
          "y": 1,
          "yanchor": "bottom",
          "yref": "paper"
         }
        ],
        "height": 400,
        "margin": {
         "b": 10,
         "l": 10,
         "r": 10,
         "t": 50
        },
        "template": {
         "data": {
          "bar": [
           {
            "error_x": {
             "color": "rgb(36,36,36)"
            },
            "error_y": {
             "color": "rgb(36,36,36)"
            },
            "marker": {
             "line": {
              "color": "rgb(234,234,242)",
              "width": 0.5
             },
             "pattern": {
              "fillmode": "overlay",
              "size": 10,
              "solidity": 0.2
             }
            },
            "type": "bar"
           }
          ],
          "barpolar": [
           {
            "marker": {
             "line": {
              "color": "rgb(234,234,242)",
              "width": 0.5
             },
             "pattern": {
              "fillmode": "overlay",
              "size": 10,
              "solidity": 0.2
             }
            },
            "type": "barpolar"
           }
          ],
          "carpet": [
           {
            "aaxis": {
             "endlinecolor": "rgb(36,36,36)",
             "gridcolor": "white",
             "linecolor": "white",
             "minorgridcolor": "white",
             "startlinecolor": "rgb(36,36,36)"
            },
            "baxis": {
             "endlinecolor": "rgb(36,36,36)",
             "gridcolor": "white",
             "linecolor": "white",
             "minorgridcolor": "white",
             "startlinecolor": "rgb(36,36,36)"
            },
            "type": "carpet"
           }
          ],
          "choropleth": [
           {
            "colorbar": {
             "outlinewidth": 0,
             "tickcolor": "rgb(36,36,36)",
             "ticklen": 8,
             "ticks": "outside",
             "tickwidth": 2
            },
            "type": "choropleth"
           }
          ],
          "contour": [
           {
            "colorbar": {
             "outlinewidth": 0,
             "tickcolor": "rgb(36,36,36)",
             "ticklen": 8,
             "ticks": "outside",
             "tickwidth": 2
            },
            "colorscale": [
             [
              0,
              "rgb(2,4,25)"
             ],
             [
              0.06274509803921569,
              "rgb(24,15,41)"
             ],
             [
              0.12549019607843137,
              "rgb(47,23,57)"
             ],
             [
              0.18823529411764706,
              "rgb(71,28,72)"
             ],
             [
              0.25098039215686274,
              "rgb(97,30,82)"
             ],
             [
              0.3137254901960784,
              "rgb(123,30,89)"
             ],
             [
              0.3764705882352941,
              "rgb(150,27,91)"
             ],
             [
              0.4392156862745098,
              "rgb(177,22,88)"
             ],
             [
              0.5019607843137255,
              "rgb(203,26,79)"
             ],
             [
              0.5647058823529412,
              "rgb(223,47,67)"
             ],
             [
              0.6274509803921569,
              "rgb(236,76,61)"
             ],
             [
              0.6901960784313725,
              "rgb(242,107,73)"
             ],
             [
              0.7529411764705882,
              "rgb(244,135,95)"
             ],
             [
              0.8156862745098039,
              "rgb(245,162,122)"
             ],
             [
              0.8784313725490196,
              "rgb(246,188,153)"
             ],
             [
              0.9411764705882353,
              "rgb(247,212,187)"
             ],
             [
              1,
              "rgb(250,234,220)"
             ]
            ],
            "type": "contour"
           }
          ],
          "contourcarpet": [
           {
            "colorbar": {
             "outlinewidth": 0,
             "tickcolor": "rgb(36,36,36)",
             "ticklen": 8,
             "ticks": "outside",
             "tickwidth": 2
            },
            "type": "contourcarpet"
           }
          ],
          "heatmap": [
           {
            "colorbar": {
             "outlinewidth": 0,
             "tickcolor": "rgb(36,36,36)",
             "ticklen": 8,
             "ticks": "outside",
             "tickwidth": 2
            },
            "colorscale": [
             [
              0,
              "rgb(2,4,25)"
             ],
             [
              0.06274509803921569,
              "rgb(24,15,41)"
             ],
             [
              0.12549019607843137,
              "rgb(47,23,57)"
             ],
             [
              0.18823529411764706,
              "rgb(71,28,72)"
             ],
             [
              0.25098039215686274,
              "rgb(97,30,82)"
             ],
             [
              0.3137254901960784,
              "rgb(123,30,89)"
             ],
             [
              0.3764705882352941,
              "rgb(150,27,91)"
             ],
             [
              0.4392156862745098,
              "rgb(177,22,88)"
             ],
             [
              0.5019607843137255,
              "rgb(203,26,79)"
             ],
             [
              0.5647058823529412,
              "rgb(223,47,67)"
             ],
             [
              0.6274509803921569,
              "rgb(236,76,61)"
             ],
             [
              0.6901960784313725,
              "rgb(242,107,73)"
             ],
             [
              0.7529411764705882,
              "rgb(244,135,95)"
             ],
             [
              0.8156862745098039,
              "rgb(245,162,122)"
             ],
             [
              0.8784313725490196,
              "rgb(246,188,153)"
             ],
             [
              0.9411764705882353,
              "rgb(247,212,187)"
             ],
             [
              1,
              "rgb(250,234,220)"
             ]
            ],
            "type": "heatmap"
           }
          ],
          "heatmapgl": [
           {
            "colorbar": {
             "outlinewidth": 0,
             "tickcolor": "rgb(36,36,36)",
             "ticklen": 8,
             "ticks": "outside",
             "tickwidth": 2
            },
            "colorscale": [
             [
              0,
              "rgb(2,4,25)"
             ],
             [
              0.06274509803921569,
              "rgb(24,15,41)"
             ],
             [
              0.12549019607843137,
              "rgb(47,23,57)"
             ],
             [
              0.18823529411764706,
              "rgb(71,28,72)"
             ],
             [
              0.25098039215686274,
              "rgb(97,30,82)"
             ],
             [
              0.3137254901960784,
              "rgb(123,30,89)"
             ],
             [
              0.3764705882352941,
              "rgb(150,27,91)"
             ],
             [
              0.4392156862745098,
              "rgb(177,22,88)"
             ],
             [
              0.5019607843137255,
              "rgb(203,26,79)"
             ],
             [
              0.5647058823529412,
              "rgb(223,47,67)"
             ],
             [
              0.6274509803921569,
              "rgb(236,76,61)"
             ],
             [
              0.6901960784313725,
              "rgb(242,107,73)"
             ],
             [
              0.7529411764705882,
              "rgb(244,135,95)"
             ],
             [
              0.8156862745098039,
              "rgb(245,162,122)"
             ],
             [
              0.8784313725490196,
              "rgb(246,188,153)"
             ],
             [
              0.9411764705882353,
              "rgb(247,212,187)"
             ],
             [
              1,
              "rgb(250,234,220)"
             ]
            ],
            "type": "heatmapgl"
           }
          ],
          "histogram": [
           {
            "marker": {
             "pattern": {
              "fillmode": "overlay",
              "size": 10,
              "solidity": 0.2
             }
            },
            "type": "histogram"
           }
          ],
          "histogram2d": [
           {
            "colorbar": {
             "outlinewidth": 0,
             "tickcolor": "rgb(36,36,36)",
             "ticklen": 8,
             "ticks": "outside",
             "tickwidth": 2
            },
            "colorscale": [
             [
              0,
              "rgb(2,4,25)"
             ],
             [
              0.06274509803921569,
              "rgb(24,15,41)"
             ],
             [
              0.12549019607843137,
              "rgb(47,23,57)"
             ],
             [
              0.18823529411764706,
              "rgb(71,28,72)"
             ],
             [
              0.25098039215686274,
              "rgb(97,30,82)"
             ],
             [
              0.3137254901960784,
              "rgb(123,30,89)"
             ],
             [
              0.3764705882352941,
              "rgb(150,27,91)"
             ],
             [
              0.4392156862745098,
              "rgb(177,22,88)"
             ],
             [
              0.5019607843137255,
              "rgb(203,26,79)"
             ],
             [
              0.5647058823529412,
              "rgb(223,47,67)"
             ],
             [
              0.6274509803921569,
              "rgb(236,76,61)"
             ],
             [
              0.6901960784313725,
              "rgb(242,107,73)"
             ],
             [
              0.7529411764705882,
              "rgb(244,135,95)"
             ],
             [
              0.8156862745098039,
              "rgb(245,162,122)"
             ],
             [
              0.8784313725490196,
              "rgb(246,188,153)"
             ],
             [
              0.9411764705882353,
              "rgb(247,212,187)"
             ],
             [
              1,
              "rgb(250,234,220)"
             ]
            ],
            "type": "histogram2d"
           }
          ],
          "histogram2dcontour": [
           {
            "colorbar": {
             "outlinewidth": 0,
             "tickcolor": "rgb(36,36,36)",
             "ticklen": 8,
             "ticks": "outside",
             "tickwidth": 2
            },
            "colorscale": [
             [
              0,
              "rgb(2,4,25)"
             ],
             [
              0.06274509803921569,
              "rgb(24,15,41)"
             ],
             [
              0.12549019607843137,
              "rgb(47,23,57)"
             ],
             [
              0.18823529411764706,
              "rgb(71,28,72)"
             ],
             [
              0.25098039215686274,
              "rgb(97,30,82)"
             ],
             [
              0.3137254901960784,
              "rgb(123,30,89)"
             ],
             [
              0.3764705882352941,
              "rgb(150,27,91)"
             ],
             [
              0.4392156862745098,
              "rgb(177,22,88)"
             ],
             [
              0.5019607843137255,
              "rgb(203,26,79)"
             ],
             [
              0.5647058823529412,
              "rgb(223,47,67)"
             ],
             [
              0.6274509803921569,
              "rgb(236,76,61)"
             ],
             [
              0.6901960784313725,
              "rgb(242,107,73)"
             ],
             [
              0.7529411764705882,
              "rgb(244,135,95)"
             ],
             [
              0.8156862745098039,
              "rgb(245,162,122)"
             ],
             [
              0.8784313725490196,
              "rgb(246,188,153)"
             ],
             [
              0.9411764705882353,
              "rgb(247,212,187)"
             ],
             [
              1,
              "rgb(250,234,220)"
             ]
            ],
            "type": "histogram2dcontour"
           }
          ],
          "mesh3d": [
           {
            "colorbar": {
             "outlinewidth": 0,
             "tickcolor": "rgb(36,36,36)",
             "ticklen": 8,
             "ticks": "outside",
             "tickwidth": 2
            },
            "type": "mesh3d"
           }
          ],
          "parcoords": [
           {
            "line": {
             "colorbar": {
              "outlinewidth": 0,
              "tickcolor": "rgb(36,36,36)",
              "ticklen": 8,
              "ticks": "outside",
              "tickwidth": 2
             }
            },
            "type": "parcoords"
           }
          ],
          "pie": [
           {
            "automargin": true,
            "type": "pie"
           }
          ],
          "scatter": [
           {
            "fillpattern": {
             "fillmode": "overlay",
             "size": 10,
             "solidity": 0.2
            },
            "type": "scatter"
           }
          ],
          "scatter3d": [
           {
            "line": {
             "colorbar": {
              "outlinewidth": 0,
              "tickcolor": "rgb(36,36,36)",
              "ticklen": 8,
              "ticks": "outside",
              "tickwidth": 2
             }
            },
            "marker": {
             "colorbar": {
              "outlinewidth": 0,
              "tickcolor": "rgb(36,36,36)",
              "ticklen": 8,
              "ticks": "outside",
              "tickwidth": 2
             }
            },
            "type": "scatter3d"
           }
          ],
          "scattercarpet": [
           {
            "marker": {
             "colorbar": {
              "outlinewidth": 0,
              "tickcolor": "rgb(36,36,36)",
              "ticklen": 8,
              "ticks": "outside",
              "tickwidth": 2
             }
            },
            "type": "scattercarpet"
           }
          ],
          "scattergeo": [
           {
            "marker": {
             "colorbar": {
              "outlinewidth": 0,
              "tickcolor": "rgb(36,36,36)",
              "ticklen": 8,
              "ticks": "outside",
              "tickwidth": 2
             }
            },
            "type": "scattergeo"
           }
          ],
          "scattergl": [
           {
            "marker": {
             "colorbar": {
              "outlinewidth": 0,
              "tickcolor": "rgb(36,36,36)",
              "ticklen": 8,
              "ticks": "outside",
              "tickwidth": 2
             }
            },
            "type": "scattergl"
           }
          ],
          "scattermapbox": [
           {
            "marker": {
             "colorbar": {
              "outlinewidth": 0,
              "tickcolor": "rgb(36,36,36)",
              "ticklen": 8,
              "ticks": "outside",
              "tickwidth": 2
             }
            },
            "type": "scattermapbox"
           }
          ],
          "scatterpolar": [
           {
            "marker": {
             "colorbar": {
              "outlinewidth": 0,
              "tickcolor": "rgb(36,36,36)",
              "ticklen": 8,
              "ticks": "outside",
              "tickwidth": 2
             }
            },
            "type": "scatterpolar"
           }
          ],
          "scatterpolargl": [
           {
            "marker": {
             "colorbar": {
              "outlinewidth": 0,
              "tickcolor": "rgb(36,36,36)",
              "ticklen": 8,
              "ticks": "outside",
              "tickwidth": 2
             }
            },
            "type": "scatterpolargl"
           }
          ],
          "scatterternary": [
           {
            "marker": {
             "colorbar": {
              "outlinewidth": 0,
              "tickcolor": "rgb(36,36,36)",
              "ticklen": 8,
              "ticks": "outside",
              "tickwidth": 2
             }
            },
            "type": "scatterternary"
           }
          ],
          "surface": [
           {
            "colorbar": {
             "outlinewidth": 0,
             "tickcolor": "rgb(36,36,36)",
             "ticklen": 8,
             "ticks": "outside",
             "tickwidth": 2
            },
            "colorscale": [
             [
              0,
              "rgb(2,4,25)"
             ],
             [
              0.06274509803921569,
              "rgb(24,15,41)"
             ],
             [
              0.12549019607843137,
              "rgb(47,23,57)"
             ],
             [
              0.18823529411764706,
              "rgb(71,28,72)"
             ],
             [
              0.25098039215686274,
              "rgb(97,30,82)"
             ],
             [
              0.3137254901960784,
              "rgb(123,30,89)"
             ],
             [
              0.3764705882352941,
              "rgb(150,27,91)"
             ],
             [
              0.4392156862745098,
              "rgb(177,22,88)"
             ],
             [
              0.5019607843137255,
              "rgb(203,26,79)"
             ],
             [
              0.5647058823529412,
              "rgb(223,47,67)"
             ],
             [
              0.6274509803921569,
              "rgb(236,76,61)"
             ],
             [
              0.6901960784313725,
              "rgb(242,107,73)"
             ],
             [
              0.7529411764705882,
              "rgb(244,135,95)"
             ],
             [
              0.8156862745098039,
              "rgb(245,162,122)"
             ],
             [
              0.8784313725490196,
              "rgb(246,188,153)"
             ],
             [
              0.9411764705882353,
              "rgb(247,212,187)"
             ],
             [
              1,
              "rgb(250,234,220)"
             ]
            ],
            "type": "surface"
           }
          ],
          "table": [
           {
            "cells": {
             "fill": {
              "color": "rgb(231,231,240)"
             },
             "line": {
              "color": "white"
             }
            },
            "header": {
             "fill": {
              "color": "rgb(183,183,191)"
             },
             "line": {
              "color": "white"
             }
            },
            "type": "table"
           }
          ]
         },
         "layout": {
          "annotationdefaults": {
           "arrowcolor": "rgb(67,103,167)"
          },
          "autotypenumbers": "strict",
          "coloraxis": {
           "colorbar": {
            "outlinewidth": 0,
            "tickcolor": "rgb(36,36,36)",
            "ticklen": 8,
            "ticks": "outside",
            "tickwidth": 2
           }
          },
          "colorscale": {
           "sequential": [
            [
             0,
             "rgb(2,4,25)"
            ],
            [
             0.06274509803921569,
             "rgb(24,15,41)"
            ],
            [
             0.12549019607843137,
             "rgb(47,23,57)"
            ],
            [
             0.18823529411764706,
             "rgb(71,28,72)"
            ],
            [
             0.25098039215686274,
             "rgb(97,30,82)"
            ],
            [
             0.3137254901960784,
             "rgb(123,30,89)"
            ],
            [
             0.3764705882352941,
             "rgb(150,27,91)"
            ],
            [
             0.4392156862745098,
             "rgb(177,22,88)"
            ],
            [
             0.5019607843137255,
             "rgb(203,26,79)"
            ],
            [
             0.5647058823529412,
             "rgb(223,47,67)"
            ],
            [
             0.6274509803921569,
             "rgb(236,76,61)"
            ],
            [
             0.6901960784313725,
             "rgb(242,107,73)"
            ],
            [
             0.7529411764705882,
             "rgb(244,135,95)"
            ],
            [
             0.8156862745098039,
             "rgb(245,162,122)"
            ],
            [
             0.8784313725490196,
             "rgb(246,188,153)"
            ],
            [
             0.9411764705882353,
             "rgb(247,212,187)"
            ],
            [
             1,
             "rgb(250,234,220)"
            ]
           ],
           "sequentialminus": [
            [
             0,
             "rgb(2,4,25)"
            ],
            [
             0.06274509803921569,
             "rgb(24,15,41)"
            ],
            [
             0.12549019607843137,
             "rgb(47,23,57)"
            ],
            [
             0.18823529411764706,
             "rgb(71,28,72)"
            ],
            [
             0.25098039215686274,
             "rgb(97,30,82)"
            ],
            [
             0.3137254901960784,
             "rgb(123,30,89)"
            ],
            [
             0.3764705882352941,
             "rgb(150,27,91)"
            ],
            [
             0.4392156862745098,
             "rgb(177,22,88)"
            ],
            [
             0.5019607843137255,
             "rgb(203,26,79)"
            ],
            [
             0.5647058823529412,
             "rgb(223,47,67)"
            ],
            [
             0.6274509803921569,
             "rgb(236,76,61)"
            ],
            [
             0.6901960784313725,
             "rgb(242,107,73)"
            ],
            [
             0.7529411764705882,
             "rgb(244,135,95)"
            ],
            [
             0.8156862745098039,
             "rgb(245,162,122)"
            ],
            [
             0.8784313725490196,
             "rgb(246,188,153)"
            ],
            [
             0.9411764705882353,
             "rgb(247,212,187)"
            ],
            [
             1,
             "rgb(250,234,220)"
            ]
           ]
          },
          "colorway": [
           "rgb(76,114,176)",
           "rgb(221,132,82)",
           "rgb(85,168,104)",
           "rgb(196,78,82)",
           "rgb(129,114,179)",
           "rgb(147,120,96)",
           "rgb(218,139,195)",
           "rgb(140,140,140)",
           "rgb(204,185,116)",
           "rgb(100,181,205)"
          ],
          "font": {
           "color": "rgb(36,36,36)"
          },
          "geo": {
           "bgcolor": "white",
           "lakecolor": "white",
           "landcolor": "rgb(234,234,242)",
           "showlakes": true,
           "showland": true,
           "subunitcolor": "white"
          },
          "hoverlabel": {
           "align": "left"
          },
          "hovermode": "closest",
          "paper_bgcolor": "white",
          "plot_bgcolor": "rgb(234,234,242)",
          "polar": {
           "angularaxis": {
            "gridcolor": "white",
            "linecolor": "white",
            "showgrid": true,
            "ticks": ""
           },
           "bgcolor": "rgb(234,234,242)",
           "radialaxis": {
            "gridcolor": "white",
            "linecolor": "white",
            "showgrid": true,
            "ticks": ""
           }
          },
          "scene": {
           "xaxis": {
            "backgroundcolor": "rgb(234,234,242)",
            "gridcolor": "white",
            "gridwidth": 2,
            "linecolor": "white",
            "showbackground": true,
            "showgrid": true,
            "ticks": "",
            "zerolinecolor": "white"
           },
           "yaxis": {
            "backgroundcolor": "rgb(234,234,242)",
            "gridcolor": "white",
            "gridwidth": 2,
            "linecolor": "white",
            "showbackground": true,
            "showgrid": true,
            "ticks": "",
            "zerolinecolor": "white"
           },
           "zaxis": {
            "backgroundcolor": "rgb(234,234,242)",
            "gridcolor": "white",
            "gridwidth": 2,
            "linecolor": "white",
            "showbackground": true,
            "showgrid": true,
            "ticks": "",
            "zerolinecolor": "white"
           }
          },
          "shapedefaults": {
           "fillcolor": "rgb(67,103,167)",
           "line": {
            "width": 0
           },
           "opacity": 0.5
          },
          "ternary": {
           "aaxis": {
            "gridcolor": "white",
            "linecolor": "white",
            "showgrid": true,
            "ticks": ""
           },
           "baxis": {
            "gridcolor": "white",
            "linecolor": "white",
            "showgrid": true,
            "ticks": ""
           },
           "bgcolor": "rgb(234,234,242)",
           "caxis": {
            "gridcolor": "white",
            "linecolor": "white",
            "showgrid": true,
            "ticks": ""
           }
          },
          "xaxis": {
           "automargin": true,
           "gridcolor": "white",
           "linecolor": "white",
           "showgrid": true,
           "ticks": "",
           "title": {
            "standoff": 15
           },
           "zerolinecolor": "white"
          },
          "yaxis": {
           "automargin": true,
           "gridcolor": "white",
           "linecolor": "white",
           "showgrid": true,
           "ticks": "",
           "title": {
            "standoff": 15
           },
           "zerolinecolor": "white"
          }
         }
        },
        "title": {
         "text": "Training and validation of Mid Complex Model"
        },
        "width": 1200,
        "xaxis": {
         "anchor": "y",
         "domain": [
          0,
          0.475
         ],
         "title": {
          "text": "epochs"
         }
        },
        "xaxis2": {
         "anchor": "y2",
         "domain": [
          0.525,
          1
         ],
         "title": {
          "text": "epochs"
         }
        },
        "yaxis": {
         "anchor": "x",
         "domain": [
          0,
          1
         ],
         "title": {
          "text": "acc"
         }
        },
        "yaxis2": {
         "anchor": "x2",
         "domain": [
          0,
          1
         ],
         "title": {
          "text": "acc"
         }
        }
       }
      }
     },
     "metadata": {},
     "output_type": "display_data"
    }
   ],
   "source": [
    "mid_model = MidModel(num_classes=5)\n",
    "optimizer = Adam(learning_rate=1e-3)\n",
    "mid_model.compile(optimizer=optimizer, loss=\"sparse_categorical_crossentropy\", metrics=[SparseCategoricalAccuracy('acc')])\n",
    "mid_model_history = train_model(\n",
    "    mid_model, \n",
    "    train_dataset, \n",
    "    val_dataset, \n",
    "    epochs=30, \n",
    "    batch_size=BATCH_SIZE, \n",
    "    verbose=1, \n",
    "    path=model_dir, \n",
    "    lr_patience=5, \n",
    "    val_patience=10\n",
    ").history\n",
    "print(\n",
    "    f\"Final loss: training -> {mid_model_history['loss'][-1]:.2f}, validation -> {mid_model_history['val_loss'][-1]:.2f}\"\n",
    ")\n",
    "print(\n",
    "    f\"Final accuracy: training -> {mid_model_history['acc'][-1]:.2f}, validation -> {mid_model_history['val_acc'][-1]:.2f}\"\n",
    ")\n",
    "plot_history(mid_model_history, ['loss', 'acc'], name='Mid Complex Model')"
   ]
  },
  {
   "cell_type": "code",
   "execution_count": 39,
   "metadata": {},
   "outputs": [
    {
     "name": "stdout",
     "output_type": "stream",
     "text": [
      "6/6 [==============================] - 0s 18ms/step - loss: 0.5839 - acc: 0.8597\n",
      "Model evaluated: Test Loss-> 0.583864152431488, Test Accuracy -> 85.97%\n",
      "Model: \"MidModel\"\n",
      "_________________________________________________________________\n",
      " Layer (type)                Output Shape              Param #   \n",
      "=================================================================\n",
      " rescaling_1 (Rescaling)     multiple                  0         \n",
      "                                                                 \n",
      " conv2d_2 (Conv2D)           multiple                  896       \n",
      "                                                                 \n",
      " conv2d_3 (Conv2D)           multiple                  9248      \n",
      "                                                                 \n",
      " max_pooling2d_2 (MaxPoolin  multiple                  0         \n",
      " g2D)                                                            \n",
      "                                                                 \n",
      " dropout (Dropout)           multiple                  0         \n",
      "                                                                 \n",
      " conv2d_4 (Conv2D)           multiple                  18496     \n",
      "                                                                 \n",
      " conv2d_5 (Conv2D)           multiple                  36928     \n",
      "                                                                 \n",
      " conv2d_6 (Conv2D)           multiple                  73856     \n",
      "                                                                 \n",
      " conv2d_7 (Conv2D)           multiple                  147584    \n",
      "                                                                 \n",
      " flatten_1 (Flatten)         multiple                  0         \n",
      "                                                                 \n",
      " dense_1 (Dense)             multiple                  1327232   \n",
      "                                                                 \n",
      " dense_2 (Dense)             multiple                  645       \n",
      "                                                                 \n",
      "=================================================================\n",
      "Total params: 1614885 (6.16 MB)\n",
      "Trainable params: 1614885 (6.16 MB)\n",
      "Non-trainable params: 0 (0.00 Byte)\n",
      "_________________________________________________________________\n"
     ]
    }
   ],
   "source": [
    "test_loss, test_accuracy = mid_model.evaluate(test_dataset, batch_size=BATCH_SIZE)\n",
    "print(\n",
    "    f\"Model evaluated: Test Loss-> {test_loss}, Test Accuracy -> {test_accuracy*100:.2f}%\"\n",
    ")\n",
    "model_accuracies.append(('MidModel', test_accuracy))\n",
    "mid_model.summary()"
   ]
  },
  {
   "cell_type": "markdown",
   "metadata": {
    "id": "slMCC1QMoEhX"
   },
   "source": [
    "### 2.3 Model with residual connections"
   ]
  },
  {
   "cell_type": "code",
   "execution_count": 7,
   "metadata": {},
   "outputs": [
    {
     "name": "stdout",
     "output_type": "stream",
     "text": [
      "Epoch 1/50\n"
     ]
    },
    {
     "name": "stdout",
     "output_type": "stream",
     "text": [
      "45/45 [==============================] - 19s 194ms/step - loss: 1.5172 - acc: 0.4631 - val_loss: 10.9277 - val_acc: 0.2093 - lr: 0.0010\n",
      "Epoch 2/50\n",
      "45/45 [==============================] - 6s 111ms/step - loss: 0.7299 - acc: 0.7146 - val_loss: 9.4116 - val_acc: 0.2088 - lr: 0.0010\n",
      "Epoch 3/50\n",
      "45/45 [==============================] - 6s 111ms/step - loss: 0.5473 - acc: 0.7847 - val_loss: 4.3774 - val_acc: 0.2088 - lr: 0.0010\n",
      "Epoch 4/50\n",
      "45/45 [==============================] - 6s 111ms/step - loss: 0.4486 - acc: 0.8232 - val_loss: 3.9654 - val_acc: 0.2241 - lr: 0.0010\n",
      "Epoch 5/50\n",
      "45/45 [==============================] - 6s 98ms/step - loss: 0.3855 - acc: 0.8484 - val_loss: 4.1203 - val_acc: 0.2306 - lr: 0.0010\n",
      "Epoch 6/50\n",
      "45/45 [==============================] - 6s 99ms/step - loss: 0.3269 - acc: 0.8714 - val_loss: 4.2247 - val_acc: 0.2662 - lr: 0.0010\n",
      "Epoch 7/50\n",
      "45/45 [==============================] - 6s 111ms/step - loss: 0.2884 - acc: 0.8882 - val_loss: 2.2821 - val_acc: 0.3686 - lr: 0.0010\n",
      "Epoch 8/50\n",
      "45/45 [==============================] - 6s 99ms/step - loss: 0.2265 - acc: 0.9134 - val_loss: 2.7799 - val_acc: 0.4092 - lr: 0.0010\n",
      "Epoch 9/50\n",
      "45/45 [==============================] - 6s 111ms/step - loss: 0.1649 - acc: 0.9378 - val_loss: 1.7596 - val_acc: 0.4785 - lr: 0.0010\n",
      "Epoch 10/50\n",
      "45/45 [==============================] - 6s 111ms/step - loss: 0.1308 - acc: 0.9522 - val_loss: 1.5397 - val_acc: 0.5670 - lr: 0.0010\n",
      "Epoch 11/50\n",
      "45/45 [==============================] - 6s 99ms/step - loss: 0.1127 - acc: 0.9591 - val_loss: 1.8865 - val_acc: 0.6066 - lr: 0.0010\n",
      "Epoch 12/50\n",
      "45/45 [==============================] - 6s 99ms/step - loss: 0.0784 - acc: 0.9712 - val_loss: 1.6559 - val_acc: 0.7095 - lr: 0.0010\n",
      "Epoch 13/50\n",
      "45/45 [==============================] - 6s 99ms/step - loss: 0.0709 - acc: 0.9737 - val_loss: 1.7012 - val_acc: 0.6997 - lr: 0.0010\n",
      "Epoch 14/50\n",
      "45/45 [==============================] - 6s 99ms/step - loss: 0.0644 - acc: 0.9767 - val_loss: 1.6550 - val_acc: 0.7066 - lr: 0.0010\n",
      "Epoch 15/50\n",
      "45/45 [==============================] - 6s 110ms/step - loss: 0.0668 - acc: 0.9756 - val_loss: 0.6800 - val_acc: 0.8491 - lr: 0.0010\n",
      "Epoch 16/50\n",
      "45/45 [==============================] - 6s 99ms/step - loss: 0.0461 - acc: 0.9838 - val_loss: 1.8122 - val_acc: 0.7091 - lr: 0.0010\n",
      "Epoch 17/50\n",
      "45/45 [==============================] - 6s 99ms/step - loss: 0.0328 - acc: 0.9886 - val_loss: 0.9372 - val_acc: 0.8362 - lr: 0.0010\n",
      "Epoch 18/50\n",
      "45/45 [==============================] - 6s 99ms/step - loss: 0.0416 - acc: 0.9866 - val_loss: 0.8706 - val_acc: 0.8006 - lr: 0.0010\n",
      "Epoch 19/50\n",
      "45/45 [==============================] - 6s 111ms/step - loss: 0.0274 - acc: 0.9910 - val_loss: 0.6521 - val_acc: 0.8600 - lr: 0.0010\n",
      "Epoch 20/50\n",
      "45/45 [==============================] - 6s 99ms/step - loss: 0.0283 - acc: 0.9912 - val_loss: 1.0986 - val_acc: 0.7798 - lr: 0.0010\n",
      "Epoch 21/50\n",
      "45/45 [==============================] - 6s 99ms/step - loss: 0.0364 - acc: 0.9873 - val_loss: 1.1798 - val_acc: 0.7556 - lr: 0.0010\n",
      "Epoch 22/50\n",
      "45/45 [==============================] - 6s 99ms/step - loss: 0.0284 - acc: 0.9906 - val_loss: 0.8375 - val_acc: 0.8154 - lr: 0.0010\n",
      "Epoch 23/50\n",
      "45/45 [==============================] - 5s 98ms/step - loss: 0.0197 - acc: 0.9935 - val_loss: 0.7582 - val_acc: 0.8387 - lr: 0.0010\n",
      "Epoch 24/50\n",
      "45/45 [==============================] - 6s 99ms/step - loss: 0.0134 - acc: 0.9955 - val_loss: 1.2281 - val_acc: 0.7872 - lr: 0.0010\n",
      "Epoch 25/50\n",
      "45/45 [==============================] - 6s 110ms/step - loss: 0.0060 - acc: 0.9980 - val_loss: 0.6395 - val_acc: 0.8768 - lr: 2.0000e-04\n",
      "Epoch 26/50\n",
      "45/45 [==============================] - 6s 111ms/step - loss: 0.0012 - acc: 0.9998 - val_loss: 0.6224 - val_acc: 0.8738 - lr: 2.0000e-04\n",
      "Epoch 27/50\n",
      "45/45 [==============================] - 6s 99ms/step - loss: 9.5431e-04 - acc: 0.9998 - val_loss: 0.6250 - val_acc: 0.8768 - lr: 2.0000e-04\n",
      "Epoch 28/50\n",
      "45/45 [==============================] - 5s 98ms/step - loss: 7.0898e-04 - acc: 0.9997 - val_loss: 0.6408 - val_acc: 0.8773 - lr: 2.0000e-04\n",
      "Epoch 29/50\n",
      "45/45 [==============================] - 6s 100ms/step - loss: 6.4517e-04 - acc: 0.9997 - val_loss: 0.6354 - val_acc: 0.8768 - lr: 2.0000e-04\n",
      "Epoch 30/50\n",
      "45/45 [==============================] - 6s 99ms/step - loss: 6.1374e-04 - acc: 0.9997 - val_loss: 0.6297 - val_acc: 0.8773 - lr: 2.0000e-04\n",
      "Epoch 31/50\n",
      "45/45 [==============================] - 6s 99ms/step - loss: 5.3957e-04 - acc: 0.9997 - val_loss: 0.6387 - val_acc: 0.8773 - lr: 2.0000e-04\n",
      "Epoch 32/50\n",
      "45/45 [==============================] - 5s 98ms/step - loss: 5.4038e-04 - acc: 0.9997 - val_loss: 0.6376 - val_acc: 0.8768 - lr: 4.0000e-05\n",
      "Epoch 33/50\n",
      "45/45 [==============================] - 6s 99ms/step - loss: 4.4714e-04 - acc: 0.9998 - val_loss: 0.6365 - val_acc: 0.8768 - lr: 4.0000e-05\n",
      "Epoch 34/50\n",
      "45/45 [==============================] - 6s 99ms/step - loss: 4.6124e-04 - acc: 0.9999 - val_loss: 0.6369 - val_acc: 0.8768 - lr: 4.0000e-05\n",
      "Epoch 35/50\n",
      "45/45 [==============================] - 5s 98ms/step - loss: 6.2391e-04 - acc: 0.9997 - val_loss: 0.6377 - val_acc: 0.8773 - lr: 4.0000e-05\n",
      "Epoch 36/50\n",
      "45/45 [==============================] - 6s 99ms/step - loss: 4.6077e-04 - acc: 0.9998 - val_loss: 0.6381 - val_acc: 0.8773 - lr: 4.0000e-05\n",
      "Final loss: training -> 0.00, validation -> 0.64\n",
      "Final accuracy: training -> 1.00, validation -> 0.88\n"
     ]
    },
    {
     "data": {
      "application/vnd.plotly.v1+json": {
       "config": {
        "plotlyServerURL": "https://plot.ly"
       },
       "data": [
        {
         "line": {
          "color": "#636EFA"
         },
         "marker": {
          "color": "#636EFA"
         },
         "mode": "lines+markers",
         "name": "train",
         "showlegend": true,
         "type": "scatter",
         "x": [
          1,
          2,
          3,
          4,
          5,
          6,
          7,
          8,
          9,
          10,
          11,
          12,
          13,
          14,
          15,
          16,
          17,
          18,
          19,
          20,
          21,
          22,
          23,
          24,
          25,
          26,
          27,
          28,
          29,
          30,
          31,
          32,
          33,
          34,
          35,
          36
         ],
         "xaxis": "x",
         "y": [
          1.5172024965286255,
          0.7299039363861084,
          0.5472559332847595,
          0.4485655725002289,
          0.3855017423629761,
          0.3268611431121826,
          0.28841373324394226,
          0.22652818262577057,
          0.1649429202079773,
          0.13078688085079193,
          0.11273231357336044,
          0.07838886976242065,
          0.07085491716861725,
          0.06438201665878296,
          0.06679148972034454,
          0.046108677983284,
          0.03279911354184151,
          0.04163343831896782,
          0.027438899502158165,
          0.02832743711769581,
          0.03638046234846115,
          0.028387289494276047,
          0.019650045782327652,
          0.013412214815616608,
          0.005964321084320545,
          0.0012140152975916862,
          0.0009543125634081662,
          0.0007089782156981528,
          0.000645168824121356,
          0.0006137432646937668,
          0.0005395709886215627,
          0.0005403789691627026,
          0.00044713568058796227,
          0.0004612417833413929,
          0.0006239078938961029,
          0.0004607735318131745
         ],
         "yaxis": "y"
        },
        {
         "line": {
          "color": "#EF553B"
         },
         "marker": {
          "color": "#EF553B"
         },
         "mode": "lines+markers",
         "name": "val",
         "showlegend": true,
         "type": "scatter",
         "x": [
          1,
          2,
          3,
          4,
          5,
          6,
          7,
          8,
          9,
          10,
          11,
          12,
          13,
          14,
          15,
          16,
          17,
          18,
          19,
          20,
          21,
          22,
          23,
          24,
          25,
          26,
          27,
          28,
          29,
          30,
          31,
          32,
          33,
          34,
          35,
          36
         ],
         "xaxis": "x",
         "y": [
          10.927672386169434,
          9.411614418029785,
          4.3774237632751465,
          3.9653961658477783,
          4.120327472686768,
          4.224734306335449,
          2.2820634841918945,
          2.779916763305664,
          1.75955331325531,
          1.5397189855575562,
          1.8865180015563965,
          1.6559339761734009,
          1.7012300491333008,
          1.6550132036209106,
          0.6799771785736084,
          1.812186598777771,
          0.937239944934845,
          0.8705722689628601,
          0.6521381735801697,
          1.0985671281814575,
          1.1798018217086792,
          0.8375442624092102,
          0.7581618428230286,
          1.228126049041748,
          0.6395349502563477,
          0.6223992705345154,
          0.6250050663948059,
          0.6408011317253113,
          0.6354002356529236,
          0.6296553611755371,
          0.6387444734573364,
          0.6375540494918823,
          0.6365405917167664,
          0.6368640661239624,
          0.6376592516899109,
          0.6380749940872192
         ],
         "yaxis": "y"
        },
        {
         "line": {
          "color": "#636EFA"
         },
         "marker": {
          "color": "#636EFA"
         },
         "mode": "lines+markers",
         "name": "train",
         "showlegend": false,
         "type": "scatter",
         "x": [
          1,
          2,
          3,
          4,
          5,
          6,
          7,
          8,
          9,
          10,
          11,
          12,
          13,
          14,
          15,
          16,
          17,
          18,
          19,
          20,
          21,
          22,
          23,
          24,
          25,
          26,
          27,
          28,
          29,
          30,
          31,
          32,
          33,
          34,
          35,
          36
         ],
         "xaxis": "x2",
         "y": [
          0.463110089302063,
          0.7145726084709167,
          0.7846852540969849,
          0.823190450668335,
          0.8484240174293518,
          0.8713874220848083,
          0.8881515860557556,
          0.9133851528167725,
          0.9378328919410706,
          0.9522395730018616,
          0.9591373205184937,
          0.9711865782737732,
          0.9737187027931213,
          0.9766873121261597,
          0.9756395816802979,
          0.9838470220565796,
          0.9885619282722473,
          0.9866410493850708,
          0.9910067319869995,
          0.9911813735961914,
          0.9873395562171936,
          0.9905701279640198,
          0.9934514760971069,
          0.9954596757888794,
          0.9979918003082275,
          0.9998253583908081,
          0.9998253583908081,
          0.9997380375862122,
          0.9997380375862122,
          0.9997380375862122,
          0.9997380375862122,
          0.9997380375862122,
          0.9998253583908081,
          0.999912679195404,
          0.9996507167816162,
          0.9998253583908081
         ],
         "yaxis": "y2"
        },
        {
         "line": {
          "color": "#EF553B"
         },
         "marker": {
          "color": "#EF553B"
         },
         "mode": "lines+markers",
         "name": "val",
         "showlegend": false,
         "type": "scatter",
         "x": [
          1,
          2,
          3,
          4,
          5,
          6,
          7,
          8,
          9,
          10,
          11,
          12,
          13,
          14,
          15,
          16,
          17,
          18,
          19,
          20,
          21,
          22,
          23,
          24,
          25,
          26,
          27,
          28,
          29,
          30,
          31,
          32,
          33,
          34,
          35,
          36
         ],
         "xaxis": "x2",
         "y": [
          0.20930232107639313,
          0.20880752801895142,
          0.20880752801895142,
          0.22414645552635193,
          0.23057891428470612,
          0.2662048637866974,
          0.3686293959617615,
          0.40920335054397583,
          0.47847598791122437,
          0.567046046257019,
          0.6066303849220276,
          0.7095497250556946,
          0.6996536254882812,
          0.7065808773040771,
          0.8490846157073975,
          0.7090549468994141,
          0.8362196683883667,
          0.8005937933921814,
          0.8599703311920166,
          0.7798119783401489,
          0.7555665373802185,
          0.815437912940979,
          0.8386937379837036,
          0.7872340679168701,
          0.8767936825752258,
          0.8738248348236084,
          0.8767936825752258,
          0.8772884607315063,
          0.8767936825752258,
          0.8772884607315063,
          0.8772884607315063,
          0.8767936825752258,
          0.8767936825752258,
          0.8767936825752258,
          0.8772884607315063,
          0.8772884607315063
         ],
         "yaxis": "y2"
        }
       ],
       "layout": {
        "annotations": [
         {
          "font": {
           "size": 16
          },
          "showarrow": false,
          "text": "loss",
          "x": 0.2375,
          "xanchor": "center",
          "xref": "paper",
          "y": 1,
          "yanchor": "bottom",
          "yref": "paper"
         },
         {
          "font": {
           "size": 16
          },
          "showarrow": false,
          "text": "acc",
          "x": 0.7625,
          "xanchor": "center",
          "xref": "paper",
          "y": 1,
          "yanchor": "bottom",
          "yref": "paper"
         }
        ],
        "height": 400,
        "margin": {
         "b": 10,
         "l": 10,
         "r": 10,
         "t": 50
        },
        "template": {
         "data": {
          "bar": [
           {
            "error_x": {
             "color": "rgb(36,36,36)"
            },
            "error_y": {
             "color": "rgb(36,36,36)"
            },
            "marker": {
             "line": {
              "color": "rgb(234,234,242)",
              "width": 0.5
             },
             "pattern": {
              "fillmode": "overlay",
              "size": 10,
              "solidity": 0.2
             }
            },
            "type": "bar"
           }
          ],
          "barpolar": [
           {
            "marker": {
             "line": {
              "color": "rgb(234,234,242)",
              "width": 0.5
             },
             "pattern": {
              "fillmode": "overlay",
              "size": 10,
              "solidity": 0.2
             }
            },
            "type": "barpolar"
           }
          ],
          "carpet": [
           {
            "aaxis": {
             "endlinecolor": "rgb(36,36,36)",
             "gridcolor": "white",
             "linecolor": "white",
             "minorgridcolor": "white",
             "startlinecolor": "rgb(36,36,36)"
            },
            "baxis": {
             "endlinecolor": "rgb(36,36,36)",
             "gridcolor": "white",
             "linecolor": "white",
             "minorgridcolor": "white",
             "startlinecolor": "rgb(36,36,36)"
            },
            "type": "carpet"
           }
          ],
          "choropleth": [
           {
            "colorbar": {
             "outlinewidth": 0,
             "tickcolor": "rgb(36,36,36)",
             "ticklen": 8,
             "ticks": "outside",
             "tickwidth": 2
            },
            "type": "choropleth"
           }
          ],
          "contour": [
           {
            "colorbar": {
             "outlinewidth": 0,
             "tickcolor": "rgb(36,36,36)",
             "ticklen": 8,
             "ticks": "outside",
             "tickwidth": 2
            },
            "colorscale": [
             [
              0,
              "rgb(2,4,25)"
             ],
             [
              0.06274509803921569,
              "rgb(24,15,41)"
             ],
             [
              0.12549019607843137,
              "rgb(47,23,57)"
             ],
             [
              0.18823529411764706,
              "rgb(71,28,72)"
             ],
             [
              0.25098039215686274,
              "rgb(97,30,82)"
             ],
             [
              0.3137254901960784,
              "rgb(123,30,89)"
             ],
             [
              0.3764705882352941,
              "rgb(150,27,91)"
             ],
             [
              0.4392156862745098,
              "rgb(177,22,88)"
             ],
             [
              0.5019607843137255,
              "rgb(203,26,79)"
             ],
             [
              0.5647058823529412,
              "rgb(223,47,67)"
             ],
             [
              0.6274509803921569,
              "rgb(236,76,61)"
             ],
             [
              0.6901960784313725,
              "rgb(242,107,73)"
             ],
             [
              0.7529411764705882,
              "rgb(244,135,95)"
             ],
             [
              0.8156862745098039,
              "rgb(245,162,122)"
             ],
             [
              0.8784313725490196,
              "rgb(246,188,153)"
             ],
             [
              0.9411764705882353,
              "rgb(247,212,187)"
             ],
             [
              1,
              "rgb(250,234,220)"
             ]
            ],
            "type": "contour"
           }
          ],
          "contourcarpet": [
           {
            "colorbar": {
             "outlinewidth": 0,
             "tickcolor": "rgb(36,36,36)",
             "ticklen": 8,
             "ticks": "outside",
             "tickwidth": 2
            },
            "type": "contourcarpet"
           }
          ],
          "heatmap": [
           {
            "colorbar": {
             "outlinewidth": 0,
             "tickcolor": "rgb(36,36,36)",
             "ticklen": 8,
             "ticks": "outside",
             "tickwidth": 2
            },
            "colorscale": [
             [
              0,
              "rgb(2,4,25)"
             ],
             [
              0.06274509803921569,
              "rgb(24,15,41)"
             ],
             [
              0.12549019607843137,
              "rgb(47,23,57)"
             ],
             [
              0.18823529411764706,
              "rgb(71,28,72)"
             ],
             [
              0.25098039215686274,
              "rgb(97,30,82)"
             ],
             [
              0.3137254901960784,
              "rgb(123,30,89)"
             ],
             [
              0.3764705882352941,
              "rgb(150,27,91)"
             ],
             [
              0.4392156862745098,
              "rgb(177,22,88)"
             ],
             [
              0.5019607843137255,
              "rgb(203,26,79)"
             ],
             [
              0.5647058823529412,
              "rgb(223,47,67)"
             ],
             [
              0.6274509803921569,
              "rgb(236,76,61)"
             ],
             [
              0.6901960784313725,
              "rgb(242,107,73)"
             ],
             [
              0.7529411764705882,
              "rgb(244,135,95)"
             ],
             [
              0.8156862745098039,
              "rgb(245,162,122)"
             ],
             [
              0.8784313725490196,
              "rgb(246,188,153)"
             ],
             [
              0.9411764705882353,
              "rgb(247,212,187)"
             ],
             [
              1,
              "rgb(250,234,220)"
             ]
            ],
            "type": "heatmap"
           }
          ],
          "heatmapgl": [
           {
            "colorbar": {
             "outlinewidth": 0,
             "tickcolor": "rgb(36,36,36)",
             "ticklen": 8,
             "ticks": "outside",
             "tickwidth": 2
            },
            "colorscale": [
             [
              0,
              "rgb(2,4,25)"
             ],
             [
              0.06274509803921569,
              "rgb(24,15,41)"
             ],
             [
              0.12549019607843137,
              "rgb(47,23,57)"
             ],
             [
              0.18823529411764706,
              "rgb(71,28,72)"
             ],
             [
              0.25098039215686274,
              "rgb(97,30,82)"
             ],
             [
              0.3137254901960784,
              "rgb(123,30,89)"
             ],
             [
              0.3764705882352941,
              "rgb(150,27,91)"
             ],
             [
              0.4392156862745098,
              "rgb(177,22,88)"
             ],
             [
              0.5019607843137255,
              "rgb(203,26,79)"
             ],
             [
              0.5647058823529412,
              "rgb(223,47,67)"
             ],
             [
              0.6274509803921569,
              "rgb(236,76,61)"
             ],
             [
              0.6901960784313725,
              "rgb(242,107,73)"
             ],
             [
              0.7529411764705882,
              "rgb(244,135,95)"
             ],
             [
              0.8156862745098039,
              "rgb(245,162,122)"
             ],
             [
              0.8784313725490196,
              "rgb(246,188,153)"
             ],
             [
              0.9411764705882353,
              "rgb(247,212,187)"
             ],
             [
              1,
              "rgb(250,234,220)"
             ]
            ],
            "type": "heatmapgl"
           }
          ],
          "histogram": [
           {
            "marker": {
             "pattern": {
              "fillmode": "overlay",
              "size": 10,
              "solidity": 0.2
             }
            },
            "type": "histogram"
           }
          ],
          "histogram2d": [
           {
            "colorbar": {
             "outlinewidth": 0,
             "tickcolor": "rgb(36,36,36)",
             "ticklen": 8,
             "ticks": "outside",
             "tickwidth": 2
            },
            "colorscale": [
             [
              0,
              "rgb(2,4,25)"
             ],
             [
              0.06274509803921569,
              "rgb(24,15,41)"
             ],
             [
              0.12549019607843137,
              "rgb(47,23,57)"
             ],
             [
              0.18823529411764706,
              "rgb(71,28,72)"
             ],
             [
              0.25098039215686274,
              "rgb(97,30,82)"
             ],
             [
              0.3137254901960784,
              "rgb(123,30,89)"
             ],
             [
              0.3764705882352941,
              "rgb(150,27,91)"
             ],
             [
              0.4392156862745098,
              "rgb(177,22,88)"
             ],
             [
              0.5019607843137255,
              "rgb(203,26,79)"
             ],
             [
              0.5647058823529412,
              "rgb(223,47,67)"
             ],
             [
              0.6274509803921569,
              "rgb(236,76,61)"
             ],
             [
              0.6901960784313725,
              "rgb(242,107,73)"
             ],
             [
              0.7529411764705882,
              "rgb(244,135,95)"
             ],
             [
              0.8156862745098039,
              "rgb(245,162,122)"
             ],
             [
              0.8784313725490196,
              "rgb(246,188,153)"
             ],
             [
              0.9411764705882353,
              "rgb(247,212,187)"
             ],
             [
              1,
              "rgb(250,234,220)"
             ]
            ],
            "type": "histogram2d"
           }
          ],
          "histogram2dcontour": [
           {
            "colorbar": {
             "outlinewidth": 0,
             "tickcolor": "rgb(36,36,36)",
             "ticklen": 8,
             "ticks": "outside",
             "tickwidth": 2
            },
            "colorscale": [
             [
              0,
              "rgb(2,4,25)"
             ],
             [
              0.06274509803921569,
              "rgb(24,15,41)"
             ],
             [
              0.12549019607843137,
              "rgb(47,23,57)"
             ],
             [
              0.18823529411764706,
              "rgb(71,28,72)"
             ],
             [
              0.25098039215686274,
              "rgb(97,30,82)"
             ],
             [
              0.3137254901960784,
              "rgb(123,30,89)"
             ],
             [
              0.3764705882352941,
              "rgb(150,27,91)"
             ],
             [
              0.4392156862745098,
              "rgb(177,22,88)"
             ],
             [
              0.5019607843137255,
              "rgb(203,26,79)"
             ],
             [
              0.5647058823529412,
              "rgb(223,47,67)"
             ],
             [
              0.6274509803921569,
              "rgb(236,76,61)"
             ],
             [
              0.6901960784313725,
              "rgb(242,107,73)"
             ],
             [
              0.7529411764705882,
              "rgb(244,135,95)"
             ],
             [
              0.8156862745098039,
              "rgb(245,162,122)"
             ],
             [
              0.8784313725490196,
              "rgb(246,188,153)"
             ],
             [
              0.9411764705882353,
              "rgb(247,212,187)"
             ],
             [
              1,
              "rgb(250,234,220)"
             ]
            ],
            "type": "histogram2dcontour"
           }
          ],
          "mesh3d": [
           {
            "colorbar": {
             "outlinewidth": 0,
             "tickcolor": "rgb(36,36,36)",
             "ticklen": 8,
             "ticks": "outside",
             "tickwidth": 2
            },
            "type": "mesh3d"
           }
          ],
          "parcoords": [
           {
            "line": {
             "colorbar": {
              "outlinewidth": 0,
              "tickcolor": "rgb(36,36,36)",
              "ticklen": 8,
              "ticks": "outside",
              "tickwidth": 2
             }
            },
            "type": "parcoords"
           }
          ],
          "pie": [
           {
            "automargin": true,
            "type": "pie"
           }
          ],
          "scatter": [
           {
            "fillpattern": {
             "fillmode": "overlay",
             "size": 10,
             "solidity": 0.2
            },
            "type": "scatter"
           }
          ],
          "scatter3d": [
           {
            "line": {
             "colorbar": {
              "outlinewidth": 0,
              "tickcolor": "rgb(36,36,36)",
              "ticklen": 8,
              "ticks": "outside",
              "tickwidth": 2
             }
            },
            "marker": {
             "colorbar": {
              "outlinewidth": 0,
              "tickcolor": "rgb(36,36,36)",
              "ticklen": 8,
              "ticks": "outside",
              "tickwidth": 2
             }
            },
            "type": "scatter3d"
           }
          ],
          "scattercarpet": [
           {
            "marker": {
             "colorbar": {
              "outlinewidth": 0,
              "tickcolor": "rgb(36,36,36)",
              "ticklen": 8,
              "ticks": "outside",
              "tickwidth": 2
             }
            },
            "type": "scattercarpet"
           }
          ],
          "scattergeo": [
           {
            "marker": {
             "colorbar": {
              "outlinewidth": 0,
              "tickcolor": "rgb(36,36,36)",
              "ticklen": 8,
              "ticks": "outside",
              "tickwidth": 2
             }
            },
            "type": "scattergeo"
           }
          ],
          "scattergl": [
           {
            "marker": {
             "colorbar": {
              "outlinewidth": 0,
              "tickcolor": "rgb(36,36,36)",
              "ticklen": 8,
              "ticks": "outside",
              "tickwidth": 2
             }
            },
            "type": "scattergl"
           }
          ],
          "scattermapbox": [
           {
            "marker": {
             "colorbar": {
              "outlinewidth": 0,
              "tickcolor": "rgb(36,36,36)",
              "ticklen": 8,
              "ticks": "outside",
              "tickwidth": 2
             }
            },
            "type": "scattermapbox"
           }
          ],
          "scatterpolar": [
           {
            "marker": {
             "colorbar": {
              "outlinewidth": 0,
              "tickcolor": "rgb(36,36,36)",
              "ticklen": 8,
              "ticks": "outside",
              "tickwidth": 2
             }
            },
            "type": "scatterpolar"
           }
          ],
          "scatterpolargl": [
           {
            "marker": {
             "colorbar": {
              "outlinewidth": 0,
              "tickcolor": "rgb(36,36,36)",
              "ticklen": 8,
              "ticks": "outside",
              "tickwidth": 2
             }
            },
            "type": "scatterpolargl"
           }
          ],
          "scatterternary": [
           {
            "marker": {
             "colorbar": {
              "outlinewidth": 0,
              "tickcolor": "rgb(36,36,36)",
              "ticklen": 8,
              "ticks": "outside",
              "tickwidth": 2
             }
            },
            "type": "scatterternary"
           }
          ],
          "surface": [
           {
            "colorbar": {
             "outlinewidth": 0,
             "tickcolor": "rgb(36,36,36)",
             "ticklen": 8,
             "ticks": "outside",
             "tickwidth": 2
            },
            "colorscale": [
             [
              0,
              "rgb(2,4,25)"
             ],
             [
              0.06274509803921569,
              "rgb(24,15,41)"
             ],
             [
              0.12549019607843137,
              "rgb(47,23,57)"
             ],
             [
              0.18823529411764706,
              "rgb(71,28,72)"
             ],
             [
              0.25098039215686274,
              "rgb(97,30,82)"
             ],
             [
              0.3137254901960784,
              "rgb(123,30,89)"
             ],
             [
              0.3764705882352941,
              "rgb(150,27,91)"
             ],
             [
              0.4392156862745098,
              "rgb(177,22,88)"
             ],
             [
              0.5019607843137255,
              "rgb(203,26,79)"
             ],
             [
              0.5647058823529412,
              "rgb(223,47,67)"
             ],
             [
              0.6274509803921569,
              "rgb(236,76,61)"
             ],
             [
              0.6901960784313725,
              "rgb(242,107,73)"
             ],
             [
              0.7529411764705882,
              "rgb(244,135,95)"
             ],
             [
              0.8156862745098039,
              "rgb(245,162,122)"
             ],
             [
              0.8784313725490196,
              "rgb(246,188,153)"
             ],
             [
              0.9411764705882353,
              "rgb(247,212,187)"
             ],
             [
              1,
              "rgb(250,234,220)"
             ]
            ],
            "type": "surface"
           }
          ],
          "table": [
           {
            "cells": {
             "fill": {
              "color": "rgb(231,231,240)"
             },
             "line": {
              "color": "white"
             }
            },
            "header": {
             "fill": {
              "color": "rgb(183,183,191)"
             },
             "line": {
              "color": "white"
             }
            },
            "type": "table"
           }
          ]
         },
         "layout": {
          "annotationdefaults": {
           "arrowcolor": "rgb(67,103,167)"
          },
          "autotypenumbers": "strict",
          "coloraxis": {
           "colorbar": {
            "outlinewidth": 0,
            "tickcolor": "rgb(36,36,36)",
            "ticklen": 8,
            "ticks": "outside",
            "tickwidth": 2
           }
          },
          "colorscale": {
           "sequential": [
            [
             0,
             "rgb(2,4,25)"
            ],
            [
             0.06274509803921569,
             "rgb(24,15,41)"
            ],
            [
             0.12549019607843137,
             "rgb(47,23,57)"
            ],
            [
             0.18823529411764706,
             "rgb(71,28,72)"
            ],
            [
             0.25098039215686274,
             "rgb(97,30,82)"
            ],
            [
             0.3137254901960784,
             "rgb(123,30,89)"
            ],
            [
             0.3764705882352941,
             "rgb(150,27,91)"
            ],
            [
             0.4392156862745098,
             "rgb(177,22,88)"
            ],
            [
             0.5019607843137255,
             "rgb(203,26,79)"
            ],
            [
             0.5647058823529412,
             "rgb(223,47,67)"
            ],
            [
             0.6274509803921569,
             "rgb(236,76,61)"
            ],
            [
             0.6901960784313725,
             "rgb(242,107,73)"
            ],
            [
             0.7529411764705882,
             "rgb(244,135,95)"
            ],
            [
             0.8156862745098039,
             "rgb(245,162,122)"
            ],
            [
             0.8784313725490196,
             "rgb(246,188,153)"
            ],
            [
             0.9411764705882353,
             "rgb(247,212,187)"
            ],
            [
             1,
             "rgb(250,234,220)"
            ]
           ],
           "sequentialminus": [
            [
             0,
             "rgb(2,4,25)"
            ],
            [
             0.06274509803921569,
             "rgb(24,15,41)"
            ],
            [
             0.12549019607843137,
             "rgb(47,23,57)"
            ],
            [
             0.18823529411764706,
             "rgb(71,28,72)"
            ],
            [
             0.25098039215686274,
             "rgb(97,30,82)"
            ],
            [
             0.3137254901960784,
             "rgb(123,30,89)"
            ],
            [
             0.3764705882352941,
             "rgb(150,27,91)"
            ],
            [
             0.4392156862745098,
             "rgb(177,22,88)"
            ],
            [
             0.5019607843137255,
             "rgb(203,26,79)"
            ],
            [
             0.5647058823529412,
             "rgb(223,47,67)"
            ],
            [
             0.6274509803921569,
             "rgb(236,76,61)"
            ],
            [
             0.6901960784313725,
             "rgb(242,107,73)"
            ],
            [
             0.7529411764705882,
             "rgb(244,135,95)"
            ],
            [
             0.8156862745098039,
             "rgb(245,162,122)"
            ],
            [
             0.8784313725490196,
             "rgb(246,188,153)"
            ],
            [
             0.9411764705882353,
             "rgb(247,212,187)"
            ],
            [
             1,
             "rgb(250,234,220)"
            ]
           ]
          },
          "colorway": [
           "rgb(76,114,176)",
           "rgb(221,132,82)",
           "rgb(85,168,104)",
           "rgb(196,78,82)",
           "rgb(129,114,179)",
           "rgb(147,120,96)",
           "rgb(218,139,195)",
           "rgb(140,140,140)",
           "rgb(204,185,116)",
           "rgb(100,181,205)"
          ],
          "font": {
           "color": "rgb(36,36,36)"
          },
          "geo": {
           "bgcolor": "white",
           "lakecolor": "white",
           "landcolor": "rgb(234,234,242)",
           "showlakes": true,
           "showland": true,
           "subunitcolor": "white"
          },
          "hoverlabel": {
           "align": "left"
          },
          "hovermode": "closest",
          "paper_bgcolor": "white",
          "plot_bgcolor": "rgb(234,234,242)",
          "polar": {
           "angularaxis": {
            "gridcolor": "white",
            "linecolor": "white",
            "showgrid": true,
            "ticks": ""
           },
           "bgcolor": "rgb(234,234,242)",
           "radialaxis": {
            "gridcolor": "white",
            "linecolor": "white",
            "showgrid": true,
            "ticks": ""
           }
          },
          "scene": {
           "xaxis": {
            "backgroundcolor": "rgb(234,234,242)",
            "gridcolor": "white",
            "gridwidth": 2,
            "linecolor": "white",
            "showbackground": true,
            "showgrid": true,
            "ticks": "",
            "zerolinecolor": "white"
           },
           "yaxis": {
            "backgroundcolor": "rgb(234,234,242)",
            "gridcolor": "white",
            "gridwidth": 2,
            "linecolor": "white",
            "showbackground": true,
            "showgrid": true,
            "ticks": "",
            "zerolinecolor": "white"
           },
           "zaxis": {
            "backgroundcolor": "rgb(234,234,242)",
            "gridcolor": "white",
            "gridwidth": 2,
            "linecolor": "white",
            "showbackground": true,
            "showgrid": true,
            "ticks": "",
            "zerolinecolor": "white"
           }
          },
          "shapedefaults": {
           "fillcolor": "rgb(67,103,167)",
           "line": {
            "width": 0
           },
           "opacity": 0.5
          },
          "ternary": {
           "aaxis": {
            "gridcolor": "white",
            "linecolor": "white",
            "showgrid": true,
            "ticks": ""
           },
           "baxis": {
            "gridcolor": "white",
            "linecolor": "white",
            "showgrid": true,
            "ticks": ""
           },
           "bgcolor": "rgb(234,234,242)",
           "caxis": {
            "gridcolor": "white",
            "linecolor": "white",
            "showgrid": true,
            "ticks": ""
           }
          },
          "xaxis": {
           "automargin": true,
           "gridcolor": "white",
           "linecolor": "white",
           "showgrid": true,
           "ticks": "",
           "title": {
            "standoff": 15
           },
           "zerolinecolor": "white"
          },
          "yaxis": {
           "automargin": true,
           "gridcolor": "white",
           "linecolor": "white",
           "showgrid": true,
           "ticks": "",
           "title": {
            "standoff": 15
           },
           "zerolinecolor": "white"
          }
         }
        },
        "title": {
         "text": "Training and validation of Custom ResNet"
        },
        "width": 1200,
        "xaxis": {
         "anchor": "y",
         "domain": [
          0,
          0.475
         ],
         "title": {
          "text": "epochs"
         }
        },
        "xaxis2": {
         "anchor": "y2",
         "domain": [
          0.525,
          1
         ],
         "title": {
          "text": "epochs"
         }
        },
        "yaxis": {
         "anchor": "x",
         "domain": [
          0,
          1
         ],
         "title": {
          "text": "acc"
         }
        },
        "yaxis2": {
         "anchor": "x2",
         "domain": [
          0,
          1
         ],
         "title": {
          "text": "acc"
         }
        }
       }
      }
     },
     "metadata": {},
     "output_type": "display_data"
    }
   ],
   "source": [
    "resnet = CustomResNet(num_classes=5)\n",
    "optimizer = Adam(learning_rate=1e-3)\n",
    "resnet.compile(optimizer=optimizer, loss=\"sparse_categorical_crossentropy\", metrics=[SparseCategoricalAccuracy('acc')])\n",
    "resnet_history = train_model(\n",
    "    resnet,\n",
    "    train_dataset,\n",
    "    val_dataset,\n",
    "    path=model_dir,\n",
    "    epochs=50,\n",
    "    verbose=1,\n",
    "    lr_patience=5,\n",
    "    val_patience=10,\n",
    ").history\n",
    "print(\n",
    "    f\"Final loss: training -> {resnet_history['loss'][-1]:.2f}, validation -> {resnet_history['val_loss'][-1]:.2f}\"\n",
    ")\n",
    "print(\n",
    "    f\"Final accuracy: training -> {resnet_history['acc'][-1]:.2f}, validation -> {resnet_history['val_acc'][-1]:.2f}\"\n",
    ")\n",
    "plot_history(resnet_history, ['loss', 'acc'], name='Custom ResNet')"
   ]
  },
  {
   "cell_type": "code",
   "execution_count": 8,
   "metadata": {},
   "outputs": [
    {
     "name": "stdout",
     "output_type": "stream",
     "text": [
      "6/6 [==============================] - 1s 159ms/step - loss: 0.5247 - acc: 0.8998\n",
      "Model evaluated: Test Loss-> 0.5246843099594116, Test Accuracy -> 89.98%\n",
      "Model: \"ResNet\"\n",
      "_________________________________________________________________\n",
      " Layer (type)                Output Shape              Param #   \n",
      "=================================================================\n",
      " rescaling_2 (Rescaling)     multiple                  0         \n",
      "                                                                 \n",
      " zero_padding2d (ZeroPaddin  multiple                  0         \n",
      " g2D)                                                            \n",
      "                                                                 \n",
      " conv2d_8 (Conv2D)           multiple                  9472      \n",
      "                                                                 \n",
      " batch_normalization (Batch  multiple                  256       \n",
      " Normalization)                                                  \n",
      "                                                                 \n",
      " max_pooling2d_3 (MaxPoolin  multiple                  0         \n",
      " g2D)                                                            \n",
      "                                                                 \n",
      " identity_block (IdentityBl  multiple                  74368     \n",
      " ock)                                                            \n",
      "                                                                 \n",
      " identity_block_1 (Identity  multiple                  74368     \n",
      " Block)                                                          \n",
      "                                                                 \n",
      " convolution_block (Convolu  multiple                  230784    \n",
      " tionBlock)                                                      \n",
      "                                                                 \n",
      " identity_block_2 (Identity  multiple                  296192    \n",
      " Block)                                                          \n",
      "                                                                 \n",
      " convolution_block_1 (Convo  multiple                  920320    \n",
      " lutionBlock)                                                    \n",
      "                                                                 \n",
      " identity_block_3 (Identity  multiple                  1182208   \n",
      " Block)                                                          \n",
      "                                                                 \n",
      " convolution_block_2 (Convo  multiple                  3675648   \n",
      " lutionBlock)                                                    \n",
      "                                                                 \n",
      " identity_block_4 (Identity  multiple                  4723712   \n",
      " Block)                                                          \n",
      "                                                                 \n",
      " dense_3 (Dense)             multiple                  513000    \n",
      "                                                                 \n",
      " dense_4 (Dense)             multiple                  5005      \n",
      "                                                                 \n",
      "=================================================================\n",
      "Total params: 11705333 (44.65 MB)\n",
      "Trainable params: 11697525 (44.62 MB)\n",
      "Non-trainable params: 7808 (30.50 KB)\n",
      "_________________________________________________________________\n"
     ]
    }
   ],
   "source": [
    "test_loss, test_accuracy = resnet.evaluate(test_dataset, batch_size=BATCH_SIZE)\n",
    "print(\n",
    "    f\"Model evaluated: Test Loss-> {test_loss}, Test Accuracy -> {test_accuracy*100:.2f}%\"\n",
    ")\n",
    "model_accuracies.append((\"ResNet\", test_accuracy))\n",
    "resnet.summary()"
   ]
  },
  {
   "cell_type": "markdown",
   "metadata": {},
   "source": [
    "### 2.4. Inception block"
   ]
  },
  {
   "cell_type": "code",
   "execution_count": 9,
   "metadata": {},
   "outputs": [
    {
     "name": "stdout",
     "output_type": "stream",
     "text": [
      "Epoch 1/50\n"
     ]
    },
    {
     "name": "stdout",
     "output_type": "stream",
     "text": [
      "45/45 [==============================] - 125s 1s/step - loss: 1.0615 - acc: 0.6404 - val_loss: 1.4642 - val_acc: 0.3632 - lr: 1.0000e-04\n",
      "Epoch 2/50\n",
      "45/45 [==============================] - 20s 409ms/step - loss: 0.5368 - acc: 0.8014 - val_loss: 1.5318 - val_acc: 0.4008 - lr: 1.0000e-04\n",
      "Epoch 3/50\n",
      "45/45 [==============================] - 20s 410ms/step - loss: 0.3567 - acc: 0.8662 - val_loss: 2.4272 - val_acc: 0.2301 - lr: 1.0000e-04\n",
      "Epoch 4/50\n",
      "45/45 [==============================] - 20s 409ms/step - loss: 0.2218 - acc: 0.9189 - val_loss: 1.7689 - val_acc: 0.3553 - lr: 1.0000e-04\n",
      "Epoch 5/50\n",
      "45/45 [==============================] - 20s 410ms/step - loss: 0.1432 - acc: 0.9549 - val_loss: 2.3439 - val_acc: 0.3182 - lr: 1.0000e-04\n",
      "Epoch 6/50\n",
      "45/45 [==============================] - 20s 410ms/step - loss: 0.0900 - acc: 0.9733 - val_loss: 2.2913 - val_acc: 0.3419 - lr: 1.0000e-04\n",
      "Epoch 7/50\n",
      "45/45 [==============================] - 20s 425ms/step - loss: 0.0324 - acc: 0.9955 - val_loss: 1.4270 - val_acc: 0.5121 - lr: 2.0000e-05\n",
      "Epoch 8/50\n",
      "45/45 [==============================] - 20s 425ms/step - loss: 0.0196 - acc: 0.9988 - val_loss: 1.1630 - val_acc: 0.5913 - lr: 2.0000e-05\n",
      "Epoch 9/50\n",
      "45/45 [==============================] - 20s 424ms/step - loss: 0.0159 - acc: 0.9992 - val_loss: 0.9549 - val_acc: 0.6660 - lr: 2.0000e-05\n",
      "Epoch 10/50\n",
      "45/45 [==============================] - 20s 424ms/step - loss: 0.0140 - acc: 0.9993 - val_loss: 0.7976 - val_acc: 0.7219 - lr: 2.0000e-05\n",
      "Epoch 11/50\n",
      "45/45 [==============================] - 20s 424ms/step - loss: 0.0127 - acc: 0.9995 - val_loss: 0.6633 - val_acc: 0.7744 - lr: 2.0000e-05\n",
      "Epoch 12/50\n",
      "45/45 [==============================] - 20s 424ms/step - loss: 0.0116 - acc: 0.9997 - val_loss: 0.5951 - val_acc: 0.8070 - lr: 2.0000e-05\n",
      "Epoch 13/50\n",
      "45/45 [==============================] - 20s 424ms/step - loss: 0.0100 - acc: 0.9998 - val_loss: 0.5521 - val_acc: 0.8194 - lr: 2.0000e-05\n",
      "Epoch 14/50\n",
      "45/45 [==============================] - 20s 423ms/step - loss: 0.0096 - acc: 0.9996 - val_loss: 0.5315 - val_acc: 0.8248 - lr: 2.0000e-05\n",
      "Epoch 15/50\n",
      "45/45 [==============================] - 20s 410ms/step - loss: 0.0089 - acc: 0.9997 - val_loss: 0.5346 - val_acc: 0.8298 - lr: 2.0000e-05\n",
      "Epoch 16/50\n",
      "45/45 [==============================] - 20s 411ms/step - loss: 0.0082 - acc: 0.9997 - val_loss: 0.5416 - val_acc: 0.8337 - lr: 2.0000e-05\n",
      "Epoch 17/50\n",
      "45/45 [==============================] - 20s 410ms/step - loss: 0.0080 - acc: 0.9997 - val_loss: 0.5505 - val_acc: 0.8337 - lr: 2.0000e-05\n",
      "Epoch 18/50\n",
      "45/45 [==============================] - 20s 410ms/step - loss: 0.0071 - acc: 0.9997 - val_loss: 0.5600 - val_acc: 0.8347 - lr: 2.0000e-05\n",
      "Epoch 19/50\n",
      "45/45 [==============================] - 20s 410ms/step - loss: 0.0070 - acc: 0.9997 - val_loss: 0.5688 - val_acc: 0.8333 - lr: 2.0000e-05\n",
      "Epoch 20/50\n",
      "45/45 [==============================] - 20s 410ms/step - loss: 0.0059 - acc: 0.9998 - val_loss: 0.5760 - val_acc: 0.8367 - lr: 4.0000e-06\n",
      "Epoch 21/50\n",
      "45/45 [==============================] - 20s 410ms/step - loss: 0.0056 - acc: 0.9997 - val_loss: 0.5797 - val_acc: 0.8362 - lr: 4.0000e-06\n",
      "Epoch 22/50\n",
      "45/45 [==============================] - 20s 410ms/step - loss: 0.0054 - acc: 0.9997 - val_loss: 0.5835 - val_acc: 0.8362 - lr: 4.0000e-06\n",
      "Epoch 23/50\n",
      "45/45 [==============================] - 20s 410ms/step - loss: 0.0054 - acc: 0.9997 - val_loss: 0.5860 - val_acc: 0.8347 - lr: 4.0000e-06\n",
      "Epoch 24/50\n",
      "45/45 [==============================] - 20s 410ms/step - loss: 0.0054 - acc: 0.9997 - val_loss: 0.5869 - val_acc: 0.8352 - lr: 4.0000e-06\n",
      "Final loss: training -> 0.01, validation -> 0.59\n",
      "Final accuracy: training -> 1.00, validation -> 0.84\n"
     ]
    },
    {
     "data": {
      "application/vnd.plotly.v1+json": {
       "config": {
        "plotlyServerURL": "https://plot.ly"
       },
       "data": [
        {
         "line": {
          "color": "#636EFA"
         },
         "marker": {
          "color": "#636EFA"
         },
         "mode": "lines+markers",
         "name": "train",
         "showlegend": true,
         "type": "scatter",
         "x": [
          1,
          2,
          3,
          4,
          5,
          6,
          7,
          8,
          9,
          10,
          11,
          12,
          13,
          14,
          15,
          16,
          17,
          18,
          19,
          20,
          21,
          22,
          23,
          24
         ],
         "xaxis": "x",
         "y": [
          1.061505913734436,
          0.5368388891220093,
          0.3566668629646301,
          0.22179114818572998,
          0.14318981766700745,
          0.08995602279901505,
          0.032445792108774185,
          0.019604869186878204,
          0.015891555696725845,
          0.014024987816810608,
          0.0127279506996274,
          0.011625098995864391,
          0.00998073723167181,
          0.009578262455761433,
          0.008881221525371075,
          0.008184652775526047,
          0.008010493591427803,
          0.007142871152609587,
          0.006974812597036362,
          0.005896235816180706,
          0.005612923298031092,
          0.005447059869766235,
          0.005394612904638052,
          0.005369204096496105
         ],
         "yaxis": "y"
        },
        {
         "line": {
          "color": "#EF553B"
         },
         "marker": {
          "color": "#EF553B"
         },
         "mode": "lines+markers",
         "name": "val",
         "showlegend": true,
         "type": "scatter",
         "x": [
          1,
          2,
          3,
          4,
          5,
          6,
          7,
          8,
          9,
          10,
          11,
          12,
          13,
          14,
          15,
          16,
          17,
          18,
          19,
          20,
          21,
          22,
          23,
          24
         ],
         "xaxis": "x",
         "y": [
          1.4641602039337158,
          1.5318001508712769,
          2.4272289276123047,
          1.768900990486145,
          2.343909740447998,
          2.2912893295288086,
          1.4270139932632446,
          1.1630440950393677,
          0.9549124240875244,
          0.797603189945221,
          0.6633485555648804,
          0.5951097011566162,
          0.5520985126495361,
          0.5315342545509338,
          0.5346459746360779,
          0.541614294052124,
          0.5504564046859741,
          0.559981644153595,
          0.5687573552131653,
          0.5759574770927429,
          0.579677939414978,
          0.5835068821907043,
          0.5860452651977539,
          0.5869138836860657
         ],
         "yaxis": "y"
        },
        {
         "line": {
          "color": "#636EFA"
         },
         "marker": {
          "color": "#636EFA"
         },
         "mode": "lines+markers",
         "name": "train",
         "showlegend": false,
         "type": "scatter",
         "x": [
          1,
          2,
          3,
          4,
          5,
          6,
          7,
          8,
          9,
          10,
          11,
          12,
          13,
          14,
          15,
          16,
          17,
          18,
          19,
          20,
          21,
          22,
          23,
          24
         ],
         "xaxis": "x2",
         "y": [
          0.6403562426567078,
          0.8014494180679321,
          0.8662359118461609,
          0.9188858866691589,
          0.9548590183258057,
          0.9732820987701416,
          0.9955469965934753,
          0.9987776279449463,
          0.9992141723632812,
          0.9993014931678772,
          0.9994761347770691,
          0.9996507167816162,
          0.9998253583908081,
          0.999563455581665,
          0.9997380375862122,
          0.9996507167816162,
          0.9996507167816162,
          0.9996507167816162,
          0.9997380375862122,
          0.9998253583908081,
          0.9997380375862122,
          0.9996507167816162,
          0.9997380375862122,
          0.9996507167816162
         ],
         "yaxis": "y2"
        },
        {
         "line": {
          "color": "#EF553B"
         },
         "marker": {
          "color": "#EF553B"
         },
         "mode": "lines+markers",
         "name": "val",
         "showlegend": false,
         "type": "scatter",
         "x": [
          1,
          2,
          3,
          4,
          5,
          6,
          7,
          8,
          9,
          10,
          11,
          12,
          13,
          14,
          15,
          16,
          17,
          18,
          19,
          20,
          21,
          22,
          23,
          24
         ],
         "xaxis": "x2",
         "y": [
          0.3631865382194519,
          0.4007916748523712,
          0.2300841212272644,
          0.3552696704864502,
          0.3181593418121338,
          0.3419099450111389,
          0.5121226906776428,
          0.5912914276123047,
          0.6660069227218628,
          0.7219198346138,
          0.7743691205978394,
          0.807026207447052,
          0.8193963170051575,
          0.824839174747467,
          0.8297872543334961,
          0.8337456583976746,
          0.8337456583976746,
          0.8347352743148804,
          0.833250880241394,
          0.836714506149292,
          0.8362196683883667,
          0.8362196683883667,
          0.8347352743148804,
          0.8352301120758057
         ],
         "yaxis": "y2"
        }
       ],
       "layout": {
        "annotations": [
         {
          "font": {
           "size": 16
          },
          "showarrow": false,
          "text": "loss",
          "x": 0.2375,
          "xanchor": "center",
          "xref": "paper",
          "y": 1,
          "yanchor": "bottom",
          "yref": "paper"
         },
         {
          "font": {
           "size": 16
          },
          "showarrow": false,
          "text": "acc",
          "x": 0.7625,
          "xanchor": "center",
          "xref": "paper",
          "y": 1,
          "yanchor": "bottom",
          "yref": "paper"
         }
        ],
        "height": 400,
        "margin": {
         "b": 10,
         "l": 10,
         "r": 10,
         "t": 50
        },
        "template": {
         "data": {
          "bar": [
           {
            "error_x": {
             "color": "rgb(36,36,36)"
            },
            "error_y": {
             "color": "rgb(36,36,36)"
            },
            "marker": {
             "line": {
              "color": "rgb(234,234,242)",
              "width": 0.5
             },
             "pattern": {
              "fillmode": "overlay",
              "size": 10,
              "solidity": 0.2
             }
            },
            "type": "bar"
           }
          ],
          "barpolar": [
           {
            "marker": {
             "line": {
              "color": "rgb(234,234,242)",
              "width": 0.5
             },
             "pattern": {
              "fillmode": "overlay",
              "size": 10,
              "solidity": 0.2
             }
            },
            "type": "barpolar"
           }
          ],
          "carpet": [
           {
            "aaxis": {
             "endlinecolor": "rgb(36,36,36)",
             "gridcolor": "white",
             "linecolor": "white",
             "minorgridcolor": "white",
             "startlinecolor": "rgb(36,36,36)"
            },
            "baxis": {
             "endlinecolor": "rgb(36,36,36)",
             "gridcolor": "white",
             "linecolor": "white",
             "minorgridcolor": "white",
             "startlinecolor": "rgb(36,36,36)"
            },
            "type": "carpet"
           }
          ],
          "choropleth": [
           {
            "colorbar": {
             "outlinewidth": 0,
             "tickcolor": "rgb(36,36,36)",
             "ticklen": 8,
             "ticks": "outside",
             "tickwidth": 2
            },
            "type": "choropleth"
           }
          ],
          "contour": [
           {
            "colorbar": {
             "outlinewidth": 0,
             "tickcolor": "rgb(36,36,36)",
             "ticklen": 8,
             "ticks": "outside",
             "tickwidth": 2
            },
            "colorscale": [
             [
              0,
              "rgb(2,4,25)"
             ],
             [
              0.06274509803921569,
              "rgb(24,15,41)"
             ],
             [
              0.12549019607843137,
              "rgb(47,23,57)"
             ],
             [
              0.18823529411764706,
              "rgb(71,28,72)"
             ],
             [
              0.25098039215686274,
              "rgb(97,30,82)"
             ],
             [
              0.3137254901960784,
              "rgb(123,30,89)"
             ],
             [
              0.3764705882352941,
              "rgb(150,27,91)"
             ],
             [
              0.4392156862745098,
              "rgb(177,22,88)"
             ],
             [
              0.5019607843137255,
              "rgb(203,26,79)"
             ],
             [
              0.5647058823529412,
              "rgb(223,47,67)"
             ],
             [
              0.6274509803921569,
              "rgb(236,76,61)"
             ],
             [
              0.6901960784313725,
              "rgb(242,107,73)"
             ],
             [
              0.7529411764705882,
              "rgb(244,135,95)"
             ],
             [
              0.8156862745098039,
              "rgb(245,162,122)"
             ],
             [
              0.8784313725490196,
              "rgb(246,188,153)"
             ],
             [
              0.9411764705882353,
              "rgb(247,212,187)"
             ],
             [
              1,
              "rgb(250,234,220)"
             ]
            ],
            "type": "contour"
           }
          ],
          "contourcarpet": [
           {
            "colorbar": {
             "outlinewidth": 0,
             "tickcolor": "rgb(36,36,36)",
             "ticklen": 8,
             "ticks": "outside",
             "tickwidth": 2
            },
            "type": "contourcarpet"
           }
          ],
          "heatmap": [
           {
            "colorbar": {
             "outlinewidth": 0,
             "tickcolor": "rgb(36,36,36)",
             "ticklen": 8,
             "ticks": "outside",
             "tickwidth": 2
            },
            "colorscale": [
             [
              0,
              "rgb(2,4,25)"
             ],
             [
              0.06274509803921569,
              "rgb(24,15,41)"
             ],
             [
              0.12549019607843137,
              "rgb(47,23,57)"
             ],
             [
              0.18823529411764706,
              "rgb(71,28,72)"
             ],
             [
              0.25098039215686274,
              "rgb(97,30,82)"
             ],
             [
              0.3137254901960784,
              "rgb(123,30,89)"
             ],
             [
              0.3764705882352941,
              "rgb(150,27,91)"
             ],
             [
              0.4392156862745098,
              "rgb(177,22,88)"
             ],
             [
              0.5019607843137255,
              "rgb(203,26,79)"
             ],
             [
              0.5647058823529412,
              "rgb(223,47,67)"
             ],
             [
              0.6274509803921569,
              "rgb(236,76,61)"
             ],
             [
              0.6901960784313725,
              "rgb(242,107,73)"
             ],
             [
              0.7529411764705882,
              "rgb(244,135,95)"
             ],
             [
              0.8156862745098039,
              "rgb(245,162,122)"
             ],
             [
              0.8784313725490196,
              "rgb(246,188,153)"
             ],
             [
              0.9411764705882353,
              "rgb(247,212,187)"
             ],
             [
              1,
              "rgb(250,234,220)"
             ]
            ],
            "type": "heatmap"
           }
          ],
          "heatmapgl": [
           {
            "colorbar": {
             "outlinewidth": 0,
             "tickcolor": "rgb(36,36,36)",
             "ticklen": 8,
             "ticks": "outside",
             "tickwidth": 2
            },
            "colorscale": [
             [
              0,
              "rgb(2,4,25)"
             ],
             [
              0.06274509803921569,
              "rgb(24,15,41)"
             ],
             [
              0.12549019607843137,
              "rgb(47,23,57)"
             ],
             [
              0.18823529411764706,
              "rgb(71,28,72)"
             ],
             [
              0.25098039215686274,
              "rgb(97,30,82)"
             ],
             [
              0.3137254901960784,
              "rgb(123,30,89)"
             ],
             [
              0.3764705882352941,
              "rgb(150,27,91)"
             ],
             [
              0.4392156862745098,
              "rgb(177,22,88)"
             ],
             [
              0.5019607843137255,
              "rgb(203,26,79)"
             ],
             [
              0.5647058823529412,
              "rgb(223,47,67)"
             ],
             [
              0.6274509803921569,
              "rgb(236,76,61)"
             ],
             [
              0.6901960784313725,
              "rgb(242,107,73)"
             ],
             [
              0.7529411764705882,
              "rgb(244,135,95)"
             ],
             [
              0.8156862745098039,
              "rgb(245,162,122)"
             ],
             [
              0.8784313725490196,
              "rgb(246,188,153)"
             ],
             [
              0.9411764705882353,
              "rgb(247,212,187)"
             ],
             [
              1,
              "rgb(250,234,220)"
             ]
            ],
            "type": "heatmapgl"
           }
          ],
          "histogram": [
           {
            "marker": {
             "pattern": {
              "fillmode": "overlay",
              "size": 10,
              "solidity": 0.2
             }
            },
            "type": "histogram"
           }
          ],
          "histogram2d": [
           {
            "colorbar": {
             "outlinewidth": 0,
             "tickcolor": "rgb(36,36,36)",
             "ticklen": 8,
             "ticks": "outside",
             "tickwidth": 2
            },
            "colorscale": [
             [
              0,
              "rgb(2,4,25)"
             ],
             [
              0.06274509803921569,
              "rgb(24,15,41)"
             ],
             [
              0.12549019607843137,
              "rgb(47,23,57)"
             ],
             [
              0.18823529411764706,
              "rgb(71,28,72)"
             ],
             [
              0.25098039215686274,
              "rgb(97,30,82)"
             ],
             [
              0.3137254901960784,
              "rgb(123,30,89)"
             ],
             [
              0.3764705882352941,
              "rgb(150,27,91)"
             ],
             [
              0.4392156862745098,
              "rgb(177,22,88)"
             ],
             [
              0.5019607843137255,
              "rgb(203,26,79)"
             ],
             [
              0.5647058823529412,
              "rgb(223,47,67)"
             ],
             [
              0.6274509803921569,
              "rgb(236,76,61)"
             ],
             [
              0.6901960784313725,
              "rgb(242,107,73)"
             ],
             [
              0.7529411764705882,
              "rgb(244,135,95)"
             ],
             [
              0.8156862745098039,
              "rgb(245,162,122)"
             ],
             [
              0.8784313725490196,
              "rgb(246,188,153)"
             ],
             [
              0.9411764705882353,
              "rgb(247,212,187)"
             ],
             [
              1,
              "rgb(250,234,220)"
             ]
            ],
            "type": "histogram2d"
           }
          ],
          "histogram2dcontour": [
           {
            "colorbar": {
             "outlinewidth": 0,
             "tickcolor": "rgb(36,36,36)",
             "ticklen": 8,
             "ticks": "outside",
             "tickwidth": 2
            },
            "colorscale": [
             [
              0,
              "rgb(2,4,25)"
             ],
             [
              0.06274509803921569,
              "rgb(24,15,41)"
             ],
             [
              0.12549019607843137,
              "rgb(47,23,57)"
             ],
             [
              0.18823529411764706,
              "rgb(71,28,72)"
             ],
             [
              0.25098039215686274,
              "rgb(97,30,82)"
             ],
             [
              0.3137254901960784,
              "rgb(123,30,89)"
             ],
             [
              0.3764705882352941,
              "rgb(150,27,91)"
             ],
             [
              0.4392156862745098,
              "rgb(177,22,88)"
             ],
             [
              0.5019607843137255,
              "rgb(203,26,79)"
             ],
             [
              0.5647058823529412,
              "rgb(223,47,67)"
             ],
             [
              0.6274509803921569,
              "rgb(236,76,61)"
             ],
             [
              0.6901960784313725,
              "rgb(242,107,73)"
             ],
             [
              0.7529411764705882,
              "rgb(244,135,95)"
             ],
             [
              0.8156862745098039,
              "rgb(245,162,122)"
             ],
             [
              0.8784313725490196,
              "rgb(246,188,153)"
             ],
             [
              0.9411764705882353,
              "rgb(247,212,187)"
             ],
             [
              1,
              "rgb(250,234,220)"
             ]
            ],
            "type": "histogram2dcontour"
           }
          ],
          "mesh3d": [
           {
            "colorbar": {
             "outlinewidth": 0,
             "tickcolor": "rgb(36,36,36)",
             "ticklen": 8,
             "ticks": "outside",
             "tickwidth": 2
            },
            "type": "mesh3d"
           }
          ],
          "parcoords": [
           {
            "line": {
             "colorbar": {
              "outlinewidth": 0,
              "tickcolor": "rgb(36,36,36)",
              "ticklen": 8,
              "ticks": "outside",
              "tickwidth": 2
             }
            },
            "type": "parcoords"
           }
          ],
          "pie": [
           {
            "automargin": true,
            "type": "pie"
           }
          ],
          "scatter": [
           {
            "fillpattern": {
             "fillmode": "overlay",
             "size": 10,
             "solidity": 0.2
            },
            "type": "scatter"
           }
          ],
          "scatter3d": [
           {
            "line": {
             "colorbar": {
              "outlinewidth": 0,
              "tickcolor": "rgb(36,36,36)",
              "ticklen": 8,
              "ticks": "outside",
              "tickwidth": 2
             }
            },
            "marker": {
             "colorbar": {
              "outlinewidth": 0,
              "tickcolor": "rgb(36,36,36)",
              "ticklen": 8,
              "ticks": "outside",
              "tickwidth": 2
             }
            },
            "type": "scatter3d"
           }
          ],
          "scattercarpet": [
           {
            "marker": {
             "colorbar": {
              "outlinewidth": 0,
              "tickcolor": "rgb(36,36,36)",
              "ticklen": 8,
              "ticks": "outside",
              "tickwidth": 2
             }
            },
            "type": "scattercarpet"
           }
          ],
          "scattergeo": [
           {
            "marker": {
             "colorbar": {
              "outlinewidth": 0,
              "tickcolor": "rgb(36,36,36)",
              "ticklen": 8,
              "ticks": "outside",
              "tickwidth": 2
             }
            },
            "type": "scattergeo"
           }
          ],
          "scattergl": [
           {
            "marker": {
             "colorbar": {
              "outlinewidth": 0,
              "tickcolor": "rgb(36,36,36)",
              "ticklen": 8,
              "ticks": "outside",
              "tickwidth": 2
             }
            },
            "type": "scattergl"
           }
          ],
          "scattermapbox": [
           {
            "marker": {
             "colorbar": {
              "outlinewidth": 0,
              "tickcolor": "rgb(36,36,36)",
              "ticklen": 8,
              "ticks": "outside",
              "tickwidth": 2
             }
            },
            "type": "scattermapbox"
           }
          ],
          "scatterpolar": [
           {
            "marker": {
             "colorbar": {
              "outlinewidth": 0,
              "tickcolor": "rgb(36,36,36)",
              "ticklen": 8,
              "ticks": "outside",
              "tickwidth": 2
             }
            },
            "type": "scatterpolar"
           }
          ],
          "scatterpolargl": [
           {
            "marker": {
             "colorbar": {
              "outlinewidth": 0,
              "tickcolor": "rgb(36,36,36)",
              "ticklen": 8,
              "ticks": "outside",
              "tickwidth": 2
             }
            },
            "type": "scatterpolargl"
           }
          ],
          "scatterternary": [
           {
            "marker": {
             "colorbar": {
              "outlinewidth": 0,
              "tickcolor": "rgb(36,36,36)",
              "ticklen": 8,
              "ticks": "outside",
              "tickwidth": 2
             }
            },
            "type": "scatterternary"
           }
          ],
          "surface": [
           {
            "colorbar": {
             "outlinewidth": 0,
             "tickcolor": "rgb(36,36,36)",
             "ticklen": 8,
             "ticks": "outside",
             "tickwidth": 2
            },
            "colorscale": [
             [
              0,
              "rgb(2,4,25)"
             ],
             [
              0.06274509803921569,
              "rgb(24,15,41)"
             ],
             [
              0.12549019607843137,
              "rgb(47,23,57)"
             ],
             [
              0.18823529411764706,
              "rgb(71,28,72)"
             ],
             [
              0.25098039215686274,
              "rgb(97,30,82)"
             ],
             [
              0.3137254901960784,
              "rgb(123,30,89)"
             ],
             [
              0.3764705882352941,
              "rgb(150,27,91)"
             ],
             [
              0.4392156862745098,
              "rgb(177,22,88)"
             ],
             [
              0.5019607843137255,
              "rgb(203,26,79)"
             ],
             [
              0.5647058823529412,
              "rgb(223,47,67)"
             ],
             [
              0.6274509803921569,
              "rgb(236,76,61)"
             ],
             [
              0.6901960784313725,
              "rgb(242,107,73)"
             ],
             [
              0.7529411764705882,
              "rgb(244,135,95)"
             ],
             [
              0.8156862745098039,
              "rgb(245,162,122)"
             ],
             [
              0.8784313725490196,
              "rgb(246,188,153)"
             ],
             [
              0.9411764705882353,
              "rgb(247,212,187)"
             ],
             [
              1,
              "rgb(250,234,220)"
             ]
            ],
            "type": "surface"
           }
          ],
          "table": [
           {
            "cells": {
             "fill": {
              "color": "rgb(231,231,240)"
             },
             "line": {
              "color": "white"
             }
            },
            "header": {
             "fill": {
              "color": "rgb(183,183,191)"
             },
             "line": {
              "color": "white"
             }
            },
            "type": "table"
           }
          ]
         },
         "layout": {
          "annotationdefaults": {
           "arrowcolor": "rgb(67,103,167)"
          },
          "autotypenumbers": "strict",
          "coloraxis": {
           "colorbar": {
            "outlinewidth": 0,
            "tickcolor": "rgb(36,36,36)",
            "ticklen": 8,
            "ticks": "outside",
            "tickwidth": 2
           }
          },
          "colorscale": {
           "sequential": [
            [
             0,
             "rgb(2,4,25)"
            ],
            [
             0.06274509803921569,
             "rgb(24,15,41)"
            ],
            [
             0.12549019607843137,
             "rgb(47,23,57)"
            ],
            [
             0.18823529411764706,
             "rgb(71,28,72)"
            ],
            [
             0.25098039215686274,
             "rgb(97,30,82)"
            ],
            [
             0.3137254901960784,
             "rgb(123,30,89)"
            ],
            [
             0.3764705882352941,
             "rgb(150,27,91)"
            ],
            [
             0.4392156862745098,
             "rgb(177,22,88)"
            ],
            [
             0.5019607843137255,
             "rgb(203,26,79)"
            ],
            [
             0.5647058823529412,
             "rgb(223,47,67)"
            ],
            [
             0.6274509803921569,
             "rgb(236,76,61)"
            ],
            [
             0.6901960784313725,
             "rgb(242,107,73)"
            ],
            [
             0.7529411764705882,
             "rgb(244,135,95)"
            ],
            [
             0.8156862745098039,
             "rgb(245,162,122)"
            ],
            [
             0.8784313725490196,
             "rgb(246,188,153)"
            ],
            [
             0.9411764705882353,
             "rgb(247,212,187)"
            ],
            [
             1,
             "rgb(250,234,220)"
            ]
           ],
           "sequentialminus": [
            [
             0,
             "rgb(2,4,25)"
            ],
            [
             0.06274509803921569,
             "rgb(24,15,41)"
            ],
            [
             0.12549019607843137,
             "rgb(47,23,57)"
            ],
            [
             0.18823529411764706,
             "rgb(71,28,72)"
            ],
            [
             0.25098039215686274,
             "rgb(97,30,82)"
            ],
            [
             0.3137254901960784,
             "rgb(123,30,89)"
            ],
            [
             0.3764705882352941,
             "rgb(150,27,91)"
            ],
            [
             0.4392156862745098,
             "rgb(177,22,88)"
            ],
            [
             0.5019607843137255,
             "rgb(203,26,79)"
            ],
            [
             0.5647058823529412,
             "rgb(223,47,67)"
            ],
            [
             0.6274509803921569,
             "rgb(236,76,61)"
            ],
            [
             0.6901960784313725,
             "rgb(242,107,73)"
            ],
            [
             0.7529411764705882,
             "rgb(244,135,95)"
            ],
            [
             0.8156862745098039,
             "rgb(245,162,122)"
            ],
            [
             0.8784313725490196,
             "rgb(246,188,153)"
            ],
            [
             0.9411764705882353,
             "rgb(247,212,187)"
            ],
            [
             1,
             "rgb(250,234,220)"
            ]
           ]
          },
          "colorway": [
           "rgb(76,114,176)",
           "rgb(221,132,82)",
           "rgb(85,168,104)",
           "rgb(196,78,82)",
           "rgb(129,114,179)",
           "rgb(147,120,96)",
           "rgb(218,139,195)",
           "rgb(140,140,140)",
           "rgb(204,185,116)",
           "rgb(100,181,205)"
          ],
          "font": {
           "color": "rgb(36,36,36)"
          },
          "geo": {
           "bgcolor": "white",
           "lakecolor": "white",
           "landcolor": "rgb(234,234,242)",
           "showlakes": true,
           "showland": true,
           "subunitcolor": "white"
          },
          "hoverlabel": {
           "align": "left"
          },
          "hovermode": "closest",
          "paper_bgcolor": "white",
          "plot_bgcolor": "rgb(234,234,242)",
          "polar": {
           "angularaxis": {
            "gridcolor": "white",
            "linecolor": "white",
            "showgrid": true,
            "ticks": ""
           },
           "bgcolor": "rgb(234,234,242)",
           "radialaxis": {
            "gridcolor": "white",
            "linecolor": "white",
            "showgrid": true,
            "ticks": ""
           }
          },
          "scene": {
           "xaxis": {
            "backgroundcolor": "rgb(234,234,242)",
            "gridcolor": "white",
            "gridwidth": 2,
            "linecolor": "white",
            "showbackground": true,
            "showgrid": true,
            "ticks": "",
            "zerolinecolor": "white"
           },
           "yaxis": {
            "backgroundcolor": "rgb(234,234,242)",
            "gridcolor": "white",
            "gridwidth": 2,
            "linecolor": "white",
            "showbackground": true,
            "showgrid": true,
            "ticks": "",
            "zerolinecolor": "white"
           },
           "zaxis": {
            "backgroundcolor": "rgb(234,234,242)",
            "gridcolor": "white",
            "gridwidth": 2,
            "linecolor": "white",
            "showbackground": true,
            "showgrid": true,
            "ticks": "",
            "zerolinecolor": "white"
           }
          },
          "shapedefaults": {
           "fillcolor": "rgb(67,103,167)",
           "line": {
            "width": 0
           },
           "opacity": 0.5
          },
          "ternary": {
           "aaxis": {
            "gridcolor": "white",
            "linecolor": "white",
            "showgrid": true,
            "ticks": ""
           },
           "baxis": {
            "gridcolor": "white",
            "linecolor": "white",
            "showgrid": true,
            "ticks": ""
           },
           "bgcolor": "rgb(234,234,242)",
           "caxis": {
            "gridcolor": "white",
            "linecolor": "white",
            "showgrid": true,
            "ticks": ""
           }
          },
          "xaxis": {
           "automargin": true,
           "gridcolor": "white",
           "linecolor": "white",
           "showgrid": true,
           "ticks": "",
           "title": {
            "standoff": 15
           },
           "zerolinecolor": "white"
          },
          "yaxis": {
           "automargin": true,
           "gridcolor": "white",
           "linecolor": "white",
           "showgrid": true,
           "ticks": "",
           "title": {
            "standoff": 15
           },
           "zerolinecolor": "white"
          }
         }
        },
        "title": {
         "text": "Training and validation of Inception Model"
        },
        "width": 1200,
        "xaxis": {
         "anchor": "y",
         "domain": [
          0,
          0.475
         ],
         "title": {
          "text": "epochs"
         }
        },
        "xaxis2": {
         "anchor": "y2",
         "domain": [
          0.525,
          1
         ],
         "title": {
          "text": "epochs"
         }
        },
        "yaxis": {
         "anchor": "x",
         "domain": [
          0,
          1
         ],
         "title": {
          "text": "acc"
         }
        },
        "yaxis2": {
         "anchor": "x2",
         "domain": [
          0,
          1
         ],
         "title": {
          "text": "acc"
         }
        }
       }
      }
     },
     "metadata": {},
     "output_type": "display_data"
    }
   ],
   "source": [
    "inception = InceptionModel(num_classes=5, num_blocks=3, n_filters=[(32, 32, 64, 64) for _ in range(3)], kernel_size=7, dropout=0)\n",
    "optimizer = Adam(learning_rate=1e-4)\n",
    "inception.compile(optimizer=optimizer, loss=\"sparse_categorical_crossentropy\", metrics=[SparseCategoricalAccuracy('acc')])\n",
    "inception_history = train_model(\n",
    "    inception,\n",
    "    train_dataset,\n",
    "    val_dataset,\n",
    "    path=model_dir,\n",
    "    epochs=50,\n",
    "    verbose=1,\n",
    "    lr_patience=5,\n",
    "    val_patience=10\n",
    ").history\n",
    "print(\n",
    "    f\"Final loss: training -> {inception_history['loss'][-1]:.2f}, validation -> {inception_history['val_loss'][-1]:.2f}\"\n",
    ")\n",
    "print(\n",
    "    f\"Final accuracy: training -> {inception_history['acc'][-1]:.2f}, validation -> {inception_history['val_acc'][-1]:.2f}\"\n",
    ")\n",
    "plot_history(inception_history, ['loss', 'acc'], name='Inception Model')"
   ]
  },
  {
   "cell_type": "code",
   "execution_count": 10,
   "metadata": {},
   "outputs": [
    {
     "name": "stdout",
     "output_type": "stream",
     "text": [
      "6/6 [==============================] - 8s 1s/step - loss: 0.4982 - acc: 0.8484\n",
      "Model evaluated: Test Loss -> 0.49821019172668457, Test Accuracy -> 84.84%\n",
      "Model: \"InceptionModel\"\n",
      "_________________________________________________________________\n",
      " Layer (type)                Output Shape              Param #   \n",
      "=================================================================\n",
      " rescaling_3 (Rescaling)     multiple                  0         \n",
      "                                                                 \n",
      " inception (Inception)       multiple                  83872     \n",
      "                                                                 \n",
      " inception_1 (Inception)     multiple                  95584     \n",
      "                                                                 \n",
      " inception_2 (Inception)     multiple                  95584     \n",
      "                                                                 \n",
      " conv2d_35 (Conv2D)          multiple                  602176    \n",
      "                                                                 \n",
      " conv2d_43 (Conv2D)          multiple                  602176    \n",
      "                                                                 \n",
      " conv2d_51 (Conv2D)          multiple                  602176    \n",
      "                                                                 \n",
      " batch_normalization_17 (Ba  multiple                  768       \n",
      " tchNormalization)                                               \n",
      "                                                                 \n",
      " batch_normalization_18 (Ba  multiple                  768       \n",
      " tchNormalization)                                               \n",
      "                                                                 \n",
      " batch_normalization_19 (Ba  multiple                  768       \n",
      " tchNormalization)                                               \n",
      "                                                                 \n",
      " dense_5 (Dense)             multiple                  12545000  \n",
      "                                                                 \n",
      " dropout_1 (Dropout)         multiple                  0         \n",
      "                                                                 \n",
      " dense_6 (Dense)             multiple                  5005      \n",
      "                                                                 \n",
      "=================================================================\n",
      "Total params: 14633877 (55.82 MB)\n",
      "Trainable params: 14632725 (55.82 MB)\n",
      "Non-trainable params: 1152 (4.50 KB)\n",
      "_________________________________________________________________\n"
     ]
    }
   ],
   "source": [
    "test_loss, test_accuracy = inception.evaluate(test_dataset, batch_size=BATCH_SIZE)\n",
    "print(\n",
    "    f\"Model evaluated: Test Loss -> {test_loss}, Test Accuracy -> {test_accuracy*100:.2f}%\"\n",
    ")\n",
    "model_accuracies.append((\"Inception\", test_accuracy))\n",
    "inception.summary()"
   ]
  },
  {
   "cell_type": "markdown",
   "metadata": {},
   "source": [
    "### 2.5 What if we add Data Augmentation?"
   ]
  },
  {
   "cell_type": "code",
   "execution_count": 11,
   "metadata": {},
   "outputs": [
    {
     "name": "stdout",
     "output_type": "stream",
     "text": [
      "Epoch 1/50\n"
     ]
    },
    {
     "name": "stdout",
     "output_type": "stream",
     "text": [
      "45/45 [==============================] - 12s 118ms/step - loss: 1.6661 - acc: 0.3723 - val_loss: 7.5502 - val_acc: 0.2078 - lr: 0.0010\n",
      "Epoch 2/50\n",
      "45/45 [==============================] - 6s 112ms/step - loss: 1.1806 - acc: 0.5069 - val_loss: 5.3597 - val_acc: 0.2118 - lr: 0.0010\n",
      "Epoch 3/50\n",
      "45/45 [==============================] - 6s 99ms/step - loss: 0.8754 - acc: 0.6548 - val_loss: 7.3926 - val_acc: 0.2093 - lr: 0.0010\n",
      "Epoch 4/50\n",
      "45/45 [==============================] - 6s 100ms/step - loss: 0.6865 - acc: 0.7347 - val_loss: 7.9376 - val_acc: 0.2123 - lr: 0.0010\n",
      "Epoch 5/50\n",
      "45/45 [==============================] - 6s 100ms/step - loss: 0.6097 - acc: 0.7596 - val_loss: 7.2052 - val_acc: 0.2232 - lr: 0.0010\n",
      "Epoch 6/50\n",
      "45/45 [==============================] - 6s 100ms/step - loss: 0.5606 - acc: 0.7790 - val_loss: 5.9844 - val_acc: 0.2726 - lr: 0.0010\n",
      "Epoch 7/50\n",
      "45/45 [==============================] - 6s 112ms/step - loss: 0.5066 - acc: 0.8040 - val_loss: 3.0186 - val_acc: 0.3404 - lr: 0.0010\n",
      "Epoch 8/50\n",
      "45/45 [==============================] - 6s 99ms/step - loss: 0.4623 - acc: 0.8172 - val_loss: 3.8143 - val_acc: 0.2820 - lr: 0.0010\n",
      "Epoch 9/50\n",
      "45/45 [==============================] - 6s 111ms/step - loss: 0.4216 - acc: 0.8356 - val_loss: 2.0405 - val_acc: 0.5280 - lr: 0.0010\n",
      "Epoch 10/50\n",
      "45/45 [==============================] - 6s 111ms/step - loss: 0.4004 - acc: 0.8489 - val_loss: 1.6745 - val_acc: 0.5364 - lr: 0.0010\n",
      "Epoch 11/50\n",
      "45/45 [==============================] - 6s 111ms/step - loss: 0.3726 - acc: 0.8551 - val_loss: 0.8876 - val_acc: 0.6813 - lr: 0.0010\n",
      "Epoch 12/50\n",
      "45/45 [==============================] - 6s 112ms/step - loss: 0.3514 - acc: 0.8674 - val_loss: 0.4252 - val_acc: 0.8511 - lr: 0.0010\n",
      "Epoch 13/50\n",
      "45/45 [==============================] - 6s 100ms/step - loss: 0.3353 - acc: 0.8700 - val_loss: 0.5648 - val_acc: 0.8041 - lr: 0.0010\n",
      "Epoch 14/50\n",
      "45/45 [==============================] - 6s 99ms/step - loss: 0.3168 - acc: 0.8792 - val_loss: 0.7498 - val_acc: 0.7660 - lr: 0.0010\n",
      "Epoch 15/50\n",
      "45/45 [==============================] - 6s 99ms/step - loss: 0.3008 - acc: 0.8876 - val_loss: 0.5899 - val_acc: 0.7877 - lr: 0.0010\n",
      "Epoch 16/50\n",
      "45/45 [==============================] - 6s 99ms/step - loss: 0.2790 - acc: 0.8937 - val_loss: 1.4389 - val_acc: 0.6309 - lr: 0.0010\n",
      "Epoch 17/50\n",
      "45/45 [==============================] - 6s 111ms/step - loss: 0.2651 - acc: 0.8984 - val_loss: 0.3811 - val_acc: 0.8580 - lr: 0.0010\n",
      "Epoch 18/50\n",
      "45/45 [==============================] - 6s 100ms/step - loss: 0.2504 - acc: 0.9022 - val_loss: 0.4502 - val_acc: 0.8441 - lr: 0.0010\n",
      "Epoch 19/50\n",
      "45/45 [==============================] - 6s 100ms/step - loss: 0.2432 - acc: 0.9087 - val_loss: 0.8001 - val_acc: 0.7516 - lr: 0.0010\n",
      "Epoch 20/50\n",
      "45/45 [==============================] - 6s 99ms/step - loss: 0.2337 - acc: 0.9081 - val_loss: 0.4424 - val_acc: 0.8313 - lr: 0.0010\n",
      "Epoch 21/50\n",
      "45/45 [==============================] - 6s 100ms/step - loss: 0.2148 - acc: 0.9195 - val_loss: 0.4629 - val_acc: 0.8298 - lr: 0.0010\n",
      "Epoch 22/50\n",
      "45/45 [==============================] - 6s 100ms/step - loss: 0.2201 - acc: 0.9172 - val_loss: 0.5141 - val_acc: 0.8392 - lr: 0.0010\n",
      "Epoch 23/50\n",
      "45/45 [==============================] - 6s 112ms/step - loss: 0.1625 - acc: 0.9402 - val_loss: 0.2637 - val_acc: 0.9055 - lr: 2.0000e-04\n",
      "Epoch 24/50\n",
      "45/45 [==============================] - 6s 111ms/step - loss: 0.1286 - acc: 0.9512 - val_loss: 0.2633 - val_acc: 0.9144 - lr: 2.0000e-04\n",
      "Epoch 25/50\n",
      "45/45 [==============================] - 6s 112ms/step - loss: 0.1229 - acc: 0.9538 - val_loss: 0.2586 - val_acc: 0.9144 - lr: 2.0000e-04\n",
      "Epoch 26/50\n",
      "45/45 [==============================] - 6s 99ms/step - loss: 0.1159 - acc: 0.9568 - val_loss: 0.2879 - val_acc: 0.9055 - lr: 2.0000e-04\n",
      "Epoch 27/50\n",
      "45/45 [==============================] - 6s 99ms/step - loss: 0.1100 - acc: 0.9606 - val_loss: 0.3071 - val_acc: 0.8986 - lr: 2.0000e-04\n",
      "Epoch 28/50\n",
      "45/45 [==============================] - 6s 100ms/step - loss: 0.1040 - acc: 0.9619 - val_loss: 0.3075 - val_acc: 0.9015 - lr: 2.0000e-04\n",
      "Epoch 29/50\n",
      "45/45 [==============================] - 6s 99ms/step - loss: 0.0999 - acc: 0.9643 - val_loss: 0.5016 - val_acc: 0.8407 - lr: 2.0000e-04\n",
      "Epoch 30/50\n",
      "45/45 [==============================] - 6s 99ms/step - loss: 0.0983 - acc: 0.9617 - val_loss: 0.4142 - val_acc: 0.8723 - lr: 2.0000e-04\n",
      "Epoch 31/50\n",
      "45/45 [==============================] - 6s 100ms/step - loss: 0.0916 - acc: 0.9662 - val_loss: 0.3163 - val_acc: 0.9055 - lr: 4.0000e-05\n",
      "Epoch 32/50\n",
      "45/45 [==============================] - 6s 99ms/step - loss: 0.0817 - acc: 0.9692 - val_loss: 0.3029 - val_acc: 0.9099 - lr: 4.0000e-05\n",
      "Epoch 33/50\n",
      "45/45 [==============================] - 6s 100ms/step - loss: 0.0819 - acc: 0.9706 - val_loss: 0.3154 - val_acc: 0.9090 - lr: 4.0000e-05\n",
      "Epoch 34/50\n",
      "45/45 [==============================] - 6s 100ms/step - loss: 0.0761 - acc: 0.9715 - val_loss: 0.3265 - val_acc: 0.9050 - lr: 4.0000e-05\n",
      "Epoch 35/50\n",
      "45/45 [==============================] - 6s 100ms/step - loss: 0.0772 - acc: 0.9723 - val_loss: 0.3184 - val_acc: 0.9075 - lr: 4.0000e-05\n",
      "Final loss: training -> 0.08, validation -> 0.32\n",
      "Final accuracy: training -> 0.97, validation -> 0.91\n"
     ]
    },
    {
     "data": {
      "application/vnd.plotly.v1+json": {
       "config": {
        "plotlyServerURL": "https://plot.ly"
       },
       "data": [
        {
         "line": {
          "color": "#636EFA"
         },
         "marker": {
          "color": "#636EFA"
         },
         "mode": "lines+markers",
         "name": "train",
         "showlegend": true,
         "type": "scatter",
         "x": [
          1,
          2,
          3,
          4,
          5,
          6,
          7,
          8,
          9,
          10,
          11,
          12,
          13,
          14,
          15,
          16,
          17,
          18,
          19,
          20,
          21,
          22,
          23,
          24,
          25,
          26,
          27,
          28,
          29,
          30,
          31,
          32,
          33,
          34,
          35
         ],
         "xaxis": "x",
         "y": [
          1.6660797595977783,
          1.1805591583251953,
          0.8754461407661438,
          0.686477541923523,
          0.6096595525741577,
          0.5606070160865784,
          0.5065714120864868,
          0.4623411297798157,
          0.4216141700744629,
          0.4004024863243103,
          0.37255600094795227,
          0.35143834352493286,
          0.3353257477283478,
          0.31676092743873596,
          0.3008023500442505,
          0.2790285348892212,
          0.2650530934333801,
          0.2503698766231537,
          0.2431972771883011,
          0.2336658537387848,
          0.2147677093744278,
          0.22008013725280762,
          0.16253335773944855,
          0.12864872813224792,
          0.12291865795850754,
          0.11592350155115128,
          0.1100175604224205,
          0.104041188955307,
          0.09989548474550247,
          0.09831133484840393,
          0.09161628037691116,
          0.08165612071752548,
          0.08192621171474457,
          0.0761001780629158,
          0.07715339958667755
         ],
         "yaxis": "y"
        },
        {
         "line": {
          "color": "#EF553B"
         },
         "marker": {
          "color": "#EF553B"
         },
         "mode": "lines+markers",
         "name": "val",
         "showlegend": true,
         "type": "scatter",
         "x": [
          1,
          2,
          3,
          4,
          5,
          6,
          7,
          8,
          9,
          10,
          11,
          12,
          13,
          14,
          15,
          16,
          17,
          18,
          19,
          20,
          21,
          22,
          23,
          24,
          25,
          26,
          27,
          28,
          29,
          30,
          31,
          32,
          33,
          34,
          35
         ],
         "xaxis": "x",
         "y": [
          7.550218105316162,
          5.359704971313477,
          7.392618656158447,
          7.937641143798828,
          7.2051682472229,
          5.98436164855957,
          3.0186052322387695,
          3.8142807483673096,
          2.0405008792877197,
          1.67448890209198,
          0.8875699043273926,
          0.42515045404434204,
          0.5648062229156494,
          0.7497974038124084,
          0.5898889899253845,
          1.438872218132019,
          0.3810890018939972,
          0.45020386576652527,
          0.8001255393028259,
          0.4423794746398926,
          0.46293315291404724,
          0.5140947103500366,
          0.26373958587646484,
          0.2633160352706909,
          0.25861743092536926,
          0.28791770339012146,
          0.3070518970489502,
          0.3075133264064789,
          0.5015894174575806,
          0.4142179787158966,
          0.31626877188682556,
          0.30293166637420654,
          0.3153574764728546,
          0.3264896273612976,
          0.31844472885131836
         ],
         "yaxis": "y"
        },
        {
         "line": {
          "color": "#636EFA"
         },
         "marker": {
          "color": "#636EFA"
         },
         "mode": "lines+markers",
         "name": "train",
         "showlegend": false,
         "type": "scatter",
         "x": [
          1,
          2,
          3,
          4,
          5,
          6,
          7,
          8,
          9,
          10,
          11,
          12,
          13,
          14,
          15,
          16,
          17,
          18,
          19,
          20,
          21,
          22,
          23,
          24,
          25,
          26,
          27,
          28,
          29,
          30,
          31,
          32,
          33,
          34,
          35
         ],
         "xaxis": "x2",
         "y": [
          0.37230420112609863,
          0.5069414377212524,
          0.6547629237174988,
          0.7346546649932861,
          0.7596262693405151,
          0.7790098786354065,
          0.8039814829826355,
          0.8171657919883728,
          0.8355889320373535,
          0.8489478826522827,
          0.855059802532196,
          0.8673710227012634,
          0.8699904084205627,
          0.8791583180427551,
          0.8876277208328247,
          0.893739640712738,
          0.8983672261238098,
          0.9022090435028076,
          0.9086702466011047,
          0.9080590009689331,
          0.9194970726966858,
          0.9172269105911255,
          0.940190315246582,
          0.9511918425559998,
          0.9538112282752991,
          0.9567798972129822,
          0.9606216549873352,
          0.9619313478469849,
          0.9642888307571411,
          0.9616694450378418,
          0.9662097096443176,
          0.9691783785820007,
          0.9705753922462463,
          0.971535861492157,
          0.9723216891288757
         ],
         "yaxis": "y2"
        },
        {
         "line": {
          "color": "#EF553B"
         },
         "marker": {
          "color": "#EF553B"
         },
         "mode": "lines+markers",
         "name": "val",
         "showlegend": false,
         "type": "scatter",
         "x": [
          1,
          2,
          3,
          4,
          5,
          6,
          7,
          8,
          9,
          10,
          11,
          12,
          13,
          14,
          15,
          16,
          17,
          18,
          19,
          20,
          21,
          22,
          23,
          24,
          25,
          26,
          27,
          28,
          29,
          30,
          31,
          32,
          33,
          34,
          35
         ],
         "xaxis": "x2",
         "y": [
          0.2078179121017456,
          0.21177634596824646,
          0.20930232107639313,
          0.21227115392684937,
          0.2231568545103073,
          0.2726373076438904,
          0.3404255211353302,
          0.2820385992527008,
          0.527956485748291,
          0.5363681316375732,
          0.6813458800315857,
          0.8510638475418091,
          0.8040574193000793,
          0.7659574747085571,
          0.7877288460731506,
          0.630875825881958,
          0.857991099357605,
          0.8441365957260132,
          0.75160813331604,
          0.8312716484069824,
          0.8297872543334961,
          0.8391885161399841,
          0.9054923057556152,
          0.9143987894058228,
          0.9143987894058228,
          0.9054923057556152,
          0.8985650539398193,
          0.9015339016914368,
          0.8406729102134705,
          0.8723404407501221,
          0.9054923057556152,
          0.909945547580719,
          0.908955991268158,
          0.9049975275993347,
          0.9074715375900269
         ],
         "yaxis": "y2"
        }
       ],
       "layout": {
        "annotations": [
         {
          "font": {
           "size": 16
          },
          "showarrow": false,
          "text": "loss",
          "x": 0.2375,
          "xanchor": "center",
          "xref": "paper",
          "y": 1,
          "yanchor": "bottom",
          "yref": "paper"
         },
         {
          "font": {
           "size": 16
          },
          "showarrow": false,
          "text": "acc",
          "x": 0.7625,
          "xanchor": "center",
          "xref": "paper",
          "y": 1,
          "yanchor": "bottom",
          "yref": "paper"
         }
        ],
        "height": 400,
        "margin": {
         "b": 10,
         "l": 10,
         "r": 10,
         "t": 50
        },
        "template": {
         "data": {
          "bar": [
           {
            "error_x": {
             "color": "rgb(36,36,36)"
            },
            "error_y": {
             "color": "rgb(36,36,36)"
            },
            "marker": {
             "line": {
              "color": "rgb(234,234,242)",
              "width": 0.5
             },
             "pattern": {
              "fillmode": "overlay",
              "size": 10,
              "solidity": 0.2
             }
            },
            "type": "bar"
           }
          ],
          "barpolar": [
           {
            "marker": {
             "line": {
              "color": "rgb(234,234,242)",
              "width": 0.5
             },
             "pattern": {
              "fillmode": "overlay",
              "size": 10,
              "solidity": 0.2
             }
            },
            "type": "barpolar"
           }
          ],
          "carpet": [
           {
            "aaxis": {
             "endlinecolor": "rgb(36,36,36)",
             "gridcolor": "white",
             "linecolor": "white",
             "minorgridcolor": "white",
             "startlinecolor": "rgb(36,36,36)"
            },
            "baxis": {
             "endlinecolor": "rgb(36,36,36)",
             "gridcolor": "white",
             "linecolor": "white",
             "minorgridcolor": "white",
             "startlinecolor": "rgb(36,36,36)"
            },
            "type": "carpet"
           }
          ],
          "choropleth": [
           {
            "colorbar": {
             "outlinewidth": 0,
             "tickcolor": "rgb(36,36,36)",
             "ticklen": 8,
             "ticks": "outside",
             "tickwidth": 2
            },
            "type": "choropleth"
           }
          ],
          "contour": [
           {
            "colorbar": {
             "outlinewidth": 0,
             "tickcolor": "rgb(36,36,36)",
             "ticklen": 8,
             "ticks": "outside",
             "tickwidth": 2
            },
            "colorscale": [
             [
              0,
              "rgb(2,4,25)"
             ],
             [
              0.06274509803921569,
              "rgb(24,15,41)"
             ],
             [
              0.12549019607843137,
              "rgb(47,23,57)"
             ],
             [
              0.18823529411764706,
              "rgb(71,28,72)"
             ],
             [
              0.25098039215686274,
              "rgb(97,30,82)"
             ],
             [
              0.3137254901960784,
              "rgb(123,30,89)"
             ],
             [
              0.3764705882352941,
              "rgb(150,27,91)"
             ],
             [
              0.4392156862745098,
              "rgb(177,22,88)"
             ],
             [
              0.5019607843137255,
              "rgb(203,26,79)"
             ],
             [
              0.5647058823529412,
              "rgb(223,47,67)"
             ],
             [
              0.6274509803921569,
              "rgb(236,76,61)"
             ],
             [
              0.6901960784313725,
              "rgb(242,107,73)"
             ],
             [
              0.7529411764705882,
              "rgb(244,135,95)"
             ],
             [
              0.8156862745098039,
              "rgb(245,162,122)"
             ],
             [
              0.8784313725490196,
              "rgb(246,188,153)"
             ],
             [
              0.9411764705882353,
              "rgb(247,212,187)"
             ],
             [
              1,
              "rgb(250,234,220)"
             ]
            ],
            "type": "contour"
           }
          ],
          "contourcarpet": [
           {
            "colorbar": {
             "outlinewidth": 0,
             "tickcolor": "rgb(36,36,36)",
             "ticklen": 8,
             "ticks": "outside",
             "tickwidth": 2
            },
            "type": "contourcarpet"
           }
          ],
          "heatmap": [
           {
            "colorbar": {
             "outlinewidth": 0,
             "tickcolor": "rgb(36,36,36)",
             "ticklen": 8,
             "ticks": "outside",
             "tickwidth": 2
            },
            "colorscale": [
             [
              0,
              "rgb(2,4,25)"
             ],
             [
              0.06274509803921569,
              "rgb(24,15,41)"
             ],
             [
              0.12549019607843137,
              "rgb(47,23,57)"
             ],
             [
              0.18823529411764706,
              "rgb(71,28,72)"
             ],
             [
              0.25098039215686274,
              "rgb(97,30,82)"
             ],
             [
              0.3137254901960784,
              "rgb(123,30,89)"
             ],
             [
              0.3764705882352941,
              "rgb(150,27,91)"
             ],
             [
              0.4392156862745098,
              "rgb(177,22,88)"
             ],
             [
              0.5019607843137255,
              "rgb(203,26,79)"
             ],
             [
              0.5647058823529412,
              "rgb(223,47,67)"
             ],
             [
              0.6274509803921569,
              "rgb(236,76,61)"
             ],
             [
              0.6901960784313725,
              "rgb(242,107,73)"
             ],
             [
              0.7529411764705882,
              "rgb(244,135,95)"
             ],
             [
              0.8156862745098039,
              "rgb(245,162,122)"
             ],
             [
              0.8784313725490196,
              "rgb(246,188,153)"
             ],
             [
              0.9411764705882353,
              "rgb(247,212,187)"
             ],
             [
              1,
              "rgb(250,234,220)"
             ]
            ],
            "type": "heatmap"
           }
          ],
          "heatmapgl": [
           {
            "colorbar": {
             "outlinewidth": 0,
             "tickcolor": "rgb(36,36,36)",
             "ticklen": 8,
             "ticks": "outside",
             "tickwidth": 2
            },
            "colorscale": [
             [
              0,
              "rgb(2,4,25)"
             ],
             [
              0.06274509803921569,
              "rgb(24,15,41)"
             ],
             [
              0.12549019607843137,
              "rgb(47,23,57)"
             ],
             [
              0.18823529411764706,
              "rgb(71,28,72)"
             ],
             [
              0.25098039215686274,
              "rgb(97,30,82)"
             ],
             [
              0.3137254901960784,
              "rgb(123,30,89)"
             ],
             [
              0.3764705882352941,
              "rgb(150,27,91)"
             ],
             [
              0.4392156862745098,
              "rgb(177,22,88)"
             ],
             [
              0.5019607843137255,
              "rgb(203,26,79)"
             ],
             [
              0.5647058823529412,
              "rgb(223,47,67)"
             ],
             [
              0.6274509803921569,
              "rgb(236,76,61)"
             ],
             [
              0.6901960784313725,
              "rgb(242,107,73)"
             ],
             [
              0.7529411764705882,
              "rgb(244,135,95)"
             ],
             [
              0.8156862745098039,
              "rgb(245,162,122)"
             ],
             [
              0.8784313725490196,
              "rgb(246,188,153)"
             ],
             [
              0.9411764705882353,
              "rgb(247,212,187)"
             ],
             [
              1,
              "rgb(250,234,220)"
             ]
            ],
            "type": "heatmapgl"
           }
          ],
          "histogram": [
           {
            "marker": {
             "pattern": {
              "fillmode": "overlay",
              "size": 10,
              "solidity": 0.2
             }
            },
            "type": "histogram"
           }
          ],
          "histogram2d": [
           {
            "colorbar": {
             "outlinewidth": 0,
             "tickcolor": "rgb(36,36,36)",
             "ticklen": 8,
             "ticks": "outside",
             "tickwidth": 2
            },
            "colorscale": [
             [
              0,
              "rgb(2,4,25)"
             ],
             [
              0.06274509803921569,
              "rgb(24,15,41)"
             ],
             [
              0.12549019607843137,
              "rgb(47,23,57)"
             ],
             [
              0.18823529411764706,
              "rgb(71,28,72)"
             ],
             [
              0.25098039215686274,
              "rgb(97,30,82)"
             ],
             [
              0.3137254901960784,
              "rgb(123,30,89)"
             ],
             [
              0.3764705882352941,
              "rgb(150,27,91)"
             ],
             [
              0.4392156862745098,
              "rgb(177,22,88)"
             ],
             [
              0.5019607843137255,
              "rgb(203,26,79)"
             ],
             [
              0.5647058823529412,
              "rgb(223,47,67)"
             ],
             [
              0.6274509803921569,
              "rgb(236,76,61)"
             ],
             [
              0.6901960784313725,
              "rgb(242,107,73)"
             ],
             [
              0.7529411764705882,
              "rgb(244,135,95)"
             ],
             [
              0.8156862745098039,
              "rgb(245,162,122)"
             ],
             [
              0.8784313725490196,
              "rgb(246,188,153)"
             ],
             [
              0.9411764705882353,
              "rgb(247,212,187)"
             ],
             [
              1,
              "rgb(250,234,220)"
             ]
            ],
            "type": "histogram2d"
           }
          ],
          "histogram2dcontour": [
           {
            "colorbar": {
             "outlinewidth": 0,
             "tickcolor": "rgb(36,36,36)",
             "ticklen": 8,
             "ticks": "outside",
             "tickwidth": 2
            },
            "colorscale": [
             [
              0,
              "rgb(2,4,25)"
             ],
             [
              0.06274509803921569,
              "rgb(24,15,41)"
             ],
             [
              0.12549019607843137,
              "rgb(47,23,57)"
             ],
             [
              0.18823529411764706,
              "rgb(71,28,72)"
             ],
             [
              0.25098039215686274,
              "rgb(97,30,82)"
             ],
             [
              0.3137254901960784,
              "rgb(123,30,89)"
             ],
             [
              0.3764705882352941,
              "rgb(150,27,91)"
             ],
             [
              0.4392156862745098,
              "rgb(177,22,88)"
             ],
             [
              0.5019607843137255,
              "rgb(203,26,79)"
             ],
             [
              0.5647058823529412,
              "rgb(223,47,67)"
             ],
             [
              0.6274509803921569,
              "rgb(236,76,61)"
             ],
             [
              0.6901960784313725,
              "rgb(242,107,73)"
             ],
             [
              0.7529411764705882,
              "rgb(244,135,95)"
             ],
             [
              0.8156862745098039,
              "rgb(245,162,122)"
             ],
             [
              0.8784313725490196,
              "rgb(246,188,153)"
             ],
             [
              0.9411764705882353,
              "rgb(247,212,187)"
             ],
             [
              1,
              "rgb(250,234,220)"
             ]
            ],
            "type": "histogram2dcontour"
           }
          ],
          "mesh3d": [
           {
            "colorbar": {
             "outlinewidth": 0,
             "tickcolor": "rgb(36,36,36)",
             "ticklen": 8,
             "ticks": "outside",
             "tickwidth": 2
            },
            "type": "mesh3d"
           }
          ],
          "parcoords": [
           {
            "line": {
             "colorbar": {
              "outlinewidth": 0,
              "tickcolor": "rgb(36,36,36)",
              "ticklen": 8,
              "ticks": "outside",
              "tickwidth": 2
             }
            },
            "type": "parcoords"
           }
          ],
          "pie": [
           {
            "automargin": true,
            "type": "pie"
           }
          ],
          "scatter": [
           {
            "fillpattern": {
             "fillmode": "overlay",
             "size": 10,
             "solidity": 0.2
            },
            "type": "scatter"
           }
          ],
          "scatter3d": [
           {
            "line": {
             "colorbar": {
              "outlinewidth": 0,
              "tickcolor": "rgb(36,36,36)",
              "ticklen": 8,
              "ticks": "outside",
              "tickwidth": 2
             }
            },
            "marker": {
             "colorbar": {
              "outlinewidth": 0,
              "tickcolor": "rgb(36,36,36)",
              "ticklen": 8,
              "ticks": "outside",
              "tickwidth": 2
             }
            },
            "type": "scatter3d"
           }
          ],
          "scattercarpet": [
           {
            "marker": {
             "colorbar": {
              "outlinewidth": 0,
              "tickcolor": "rgb(36,36,36)",
              "ticklen": 8,
              "ticks": "outside",
              "tickwidth": 2
             }
            },
            "type": "scattercarpet"
           }
          ],
          "scattergeo": [
           {
            "marker": {
             "colorbar": {
              "outlinewidth": 0,
              "tickcolor": "rgb(36,36,36)",
              "ticklen": 8,
              "ticks": "outside",
              "tickwidth": 2
             }
            },
            "type": "scattergeo"
           }
          ],
          "scattergl": [
           {
            "marker": {
             "colorbar": {
              "outlinewidth": 0,
              "tickcolor": "rgb(36,36,36)",
              "ticklen": 8,
              "ticks": "outside",
              "tickwidth": 2
             }
            },
            "type": "scattergl"
           }
          ],
          "scattermapbox": [
           {
            "marker": {
             "colorbar": {
              "outlinewidth": 0,
              "tickcolor": "rgb(36,36,36)",
              "ticklen": 8,
              "ticks": "outside",
              "tickwidth": 2
             }
            },
            "type": "scattermapbox"
           }
          ],
          "scatterpolar": [
           {
            "marker": {
             "colorbar": {
              "outlinewidth": 0,
              "tickcolor": "rgb(36,36,36)",
              "ticklen": 8,
              "ticks": "outside",
              "tickwidth": 2
             }
            },
            "type": "scatterpolar"
           }
          ],
          "scatterpolargl": [
           {
            "marker": {
             "colorbar": {
              "outlinewidth": 0,
              "tickcolor": "rgb(36,36,36)",
              "ticklen": 8,
              "ticks": "outside",
              "tickwidth": 2
             }
            },
            "type": "scatterpolargl"
           }
          ],
          "scatterternary": [
           {
            "marker": {
             "colorbar": {
              "outlinewidth": 0,
              "tickcolor": "rgb(36,36,36)",
              "ticklen": 8,
              "ticks": "outside",
              "tickwidth": 2
             }
            },
            "type": "scatterternary"
           }
          ],
          "surface": [
           {
            "colorbar": {
             "outlinewidth": 0,
             "tickcolor": "rgb(36,36,36)",
             "ticklen": 8,
             "ticks": "outside",
             "tickwidth": 2
            },
            "colorscale": [
             [
              0,
              "rgb(2,4,25)"
             ],
             [
              0.06274509803921569,
              "rgb(24,15,41)"
             ],
             [
              0.12549019607843137,
              "rgb(47,23,57)"
             ],
             [
              0.18823529411764706,
              "rgb(71,28,72)"
             ],
             [
              0.25098039215686274,
              "rgb(97,30,82)"
             ],
             [
              0.3137254901960784,
              "rgb(123,30,89)"
             ],
             [
              0.3764705882352941,
              "rgb(150,27,91)"
             ],
             [
              0.4392156862745098,
              "rgb(177,22,88)"
             ],
             [
              0.5019607843137255,
              "rgb(203,26,79)"
             ],
             [
              0.5647058823529412,
              "rgb(223,47,67)"
             ],
             [
              0.6274509803921569,
              "rgb(236,76,61)"
             ],
             [
              0.6901960784313725,
              "rgb(242,107,73)"
             ],
             [
              0.7529411764705882,
              "rgb(244,135,95)"
             ],
             [
              0.8156862745098039,
              "rgb(245,162,122)"
             ],
             [
              0.8784313725490196,
              "rgb(246,188,153)"
             ],
             [
              0.9411764705882353,
              "rgb(247,212,187)"
             ],
             [
              1,
              "rgb(250,234,220)"
             ]
            ],
            "type": "surface"
           }
          ],
          "table": [
           {
            "cells": {
             "fill": {
              "color": "rgb(231,231,240)"
             },
             "line": {
              "color": "white"
             }
            },
            "header": {
             "fill": {
              "color": "rgb(183,183,191)"
             },
             "line": {
              "color": "white"
             }
            },
            "type": "table"
           }
          ]
         },
         "layout": {
          "annotationdefaults": {
           "arrowcolor": "rgb(67,103,167)"
          },
          "autotypenumbers": "strict",
          "coloraxis": {
           "colorbar": {
            "outlinewidth": 0,
            "tickcolor": "rgb(36,36,36)",
            "ticklen": 8,
            "ticks": "outside",
            "tickwidth": 2
           }
          },
          "colorscale": {
           "sequential": [
            [
             0,
             "rgb(2,4,25)"
            ],
            [
             0.06274509803921569,
             "rgb(24,15,41)"
            ],
            [
             0.12549019607843137,
             "rgb(47,23,57)"
            ],
            [
             0.18823529411764706,
             "rgb(71,28,72)"
            ],
            [
             0.25098039215686274,
             "rgb(97,30,82)"
            ],
            [
             0.3137254901960784,
             "rgb(123,30,89)"
            ],
            [
             0.3764705882352941,
             "rgb(150,27,91)"
            ],
            [
             0.4392156862745098,
             "rgb(177,22,88)"
            ],
            [
             0.5019607843137255,
             "rgb(203,26,79)"
            ],
            [
             0.5647058823529412,
             "rgb(223,47,67)"
            ],
            [
             0.6274509803921569,
             "rgb(236,76,61)"
            ],
            [
             0.6901960784313725,
             "rgb(242,107,73)"
            ],
            [
             0.7529411764705882,
             "rgb(244,135,95)"
            ],
            [
             0.8156862745098039,
             "rgb(245,162,122)"
            ],
            [
             0.8784313725490196,
             "rgb(246,188,153)"
            ],
            [
             0.9411764705882353,
             "rgb(247,212,187)"
            ],
            [
             1,
             "rgb(250,234,220)"
            ]
           ],
           "sequentialminus": [
            [
             0,
             "rgb(2,4,25)"
            ],
            [
             0.06274509803921569,
             "rgb(24,15,41)"
            ],
            [
             0.12549019607843137,
             "rgb(47,23,57)"
            ],
            [
             0.18823529411764706,
             "rgb(71,28,72)"
            ],
            [
             0.25098039215686274,
             "rgb(97,30,82)"
            ],
            [
             0.3137254901960784,
             "rgb(123,30,89)"
            ],
            [
             0.3764705882352941,
             "rgb(150,27,91)"
            ],
            [
             0.4392156862745098,
             "rgb(177,22,88)"
            ],
            [
             0.5019607843137255,
             "rgb(203,26,79)"
            ],
            [
             0.5647058823529412,
             "rgb(223,47,67)"
            ],
            [
             0.6274509803921569,
             "rgb(236,76,61)"
            ],
            [
             0.6901960784313725,
             "rgb(242,107,73)"
            ],
            [
             0.7529411764705882,
             "rgb(244,135,95)"
            ],
            [
             0.8156862745098039,
             "rgb(245,162,122)"
            ],
            [
             0.8784313725490196,
             "rgb(246,188,153)"
            ],
            [
             0.9411764705882353,
             "rgb(247,212,187)"
            ],
            [
             1,
             "rgb(250,234,220)"
            ]
           ]
          },
          "colorway": [
           "rgb(76,114,176)",
           "rgb(221,132,82)",
           "rgb(85,168,104)",
           "rgb(196,78,82)",
           "rgb(129,114,179)",
           "rgb(147,120,96)",
           "rgb(218,139,195)",
           "rgb(140,140,140)",
           "rgb(204,185,116)",
           "rgb(100,181,205)"
          ],
          "font": {
           "color": "rgb(36,36,36)"
          },
          "geo": {
           "bgcolor": "white",
           "lakecolor": "white",
           "landcolor": "rgb(234,234,242)",
           "showlakes": true,
           "showland": true,
           "subunitcolor": "white"
          },
          "hoverlabel": {
           "align": "left"
          },
          "hovermode": "closest",
          "paper_bgcolor": "white",
          "plot_bgcolor": "rgb(234,234,242)",
          "polar": {
           "angularaxis": {
            "gridcolor": "white",
            "linecolor": "white",
            "showgrid": true,
            "ticks": ""
           },
           "bgcolor": "rgb(234,234,242)",
           "radialaxis": {
            "gridcolor": "white",
            "linecolor": "white",
            "showgrid": true,
            "ticks": ""
           }
          },
          "scene": {
           "xaxis": {
            "backgroundcolor": "rgb(234,234,242)",
            "gridcolor": "white",
            "gridwidth": 2,
            "linecolor": "white",
            "showbackground": true,
            "showgrid": true,
            "ticks": "",
            "zerolinecolor": "white"
           },
           "yaxis": {
            "backgroundcolor": "rgb(234,234,242)",
            "gridcolor": "white",
            "gridwidth": 2,
            "linecolor": "white",
            "showbackground": true,
            "showgrid": true,
            "ticks": "",
            "zerolinecolor": "white"
           },
           "zaxis": {
            "backgroundcolor": "rgb(234,234,242)",
            "gridcolor": "white",
            "gridwidth": 2,
            "linecolor": "white",
            "showbackground": true,
            "showgrid": true,
            "ticks": "",
            "zerolinecolor": "white"
           }
          },
          "shapedefaults": {
           "fillcolor": "rgb(67,103,167)",
           "line": {
            "width": 0
           },
           "opacity": 0.5
          },
          "ternary": {
           "aaxis": {
            "gridcolor": "white",
            "linecolor": "white",
            "showgrid": true,
            "ticks": ""
           },
           "baxis": {
            "gridcolor": "white",
            "linecolor": "white",
            "showgrid": true,
            "ticks": ""
           },
           "bgcolor": "rgb(234,234,242)",
           "caxis": {
            "gridcolor": "white",
            "linecolor": "white",
            "showgrid": true,
            "ticks": ""
           }
          },
          "xaxis": {
           "automargin": true,
           "gridcolor": "white",
           "linecolor": "white",
           "showgrid": true,
           "ticks": "",
           "title": {
            "standoff": 15
           },
           "zerolinecolor": "white"
          },
          "yaxis": {
           "automargin": true,
           "gridcolor": "white",
           "linecolor": "white",
           "showgrid": true,
           "ticks": "",
           "title": {
            "standoff": 15
           },
           "zerolinecolor": "white"
          }
         }
        },
        "title": {
         "text": "Training and validation of Augmented ResNet Model"
        },
        "width": 1200,
        "xaxis": {
         "anchor": "y",
         "domain": [
          0,
          0.475
         ],
         "title": {
          "text": "epochs"
         }
        },
        "xaxis2": {
         "anchor": "y2",
         "domain": [
          0.525,
          1
         ],
         "title": {
          "text": "epochs"
         }
        },
        "yaxis": {
         "anchor": "x",
         "domain": [
          0,
          1
         ],
         "title": {
          "text": "acc"
         }
        },
        "yaxis2": {
         "anchor": "x2",
         "domain": [
          0,
          1
         ],
         "title": {
          "text": "acc"
         }
        }
       }
      }
     },
     "metadata": {},
     "output_type": "display_data"
    }
   ],
   "source": [
    "from keras.models import Sequential\n",
    "resnet_data_aug = Sequential([\n",
    "    layers.RandomFlip(\"horizontal\"),\n",
    "    layers.RandomRotation(0.1),\n",
    "    layers.RandomZoom(0.2),\n",
    "    layers.GaussianNoise(0.01),\n",
    "    CustomResNet(num_classes=5)\n",
    "], name='ResNetAug')\n",
    "\n",
    "resnet_data_aug.compile(optimizer=\"adam\", loss=\"sparse_categorical_crossentropy\",  metrics=[SparseCategoricalAccuracy('acc')])\n",
    "resnet_data_aug_history = train_model(\n",
    "    resnet_data_aug,\n",
    "    train_dataset,\n",
    "    val_dataset,\n",
    "    path=model_dir,\n",
    "    epochs=50,\n",
    "    verbose=1,\n",
    "    lr_patience=5,\n",
    "    val_patience=10,\n",
    ").history\n",
    "\n",
    "print(\n",
    "    f\"Final loss: training -> {resnet_data_aug_history['loss'][-1]:.2f}, validation -> {resnet_data_aug_history['val_loss'][-1]:.2f}\"\n",
    ")\n",
    "print(\n",
    "    f\"Final accuracy: training -> {resnet_data_aug_history['acc'][-1]:.2f}, validation -> {resnet_data_aug_history['val_acc'][-1]:.2f}\"\n",
    ")\n",
    "plot_history(resnet_data_aug_history, ['loss', 'acc'], name='Augmented ResNet Model')"
   ]
  },
  {
   "cell_type": "code",
   "execution_count": 12,
   "metadata": {},
   "outputs": [
    {
     "name": "stdout",
     "output_type": "stream",
     "text": [
      "6/6 [==============================] - 0s 17ms/step - loss: 0.2235 - acc: 0.9259\n",
      "Model evaluated: Test Loss-> 0.22353005409240723, Test Accuracy -> 92.59%\n",
      "Model: \"ResNetAug\"\n",
      "_________________________________________________________________\n",
      " Layer (type)                Output Shape              Param #   \n",
      "=================================================================\n",
      " random_flip (RandomFlip)    (None, 100, 100, 3)       0         \n",
      "                                                                 \n",
      " random_rotation (RandomRot  (None, 100, 100, 3)       0         \n",
      " ation)                                                          \n",
      "                                                                 \n",
      " random_zoom (RandomZoom)    (None, 100, 100, 3)       0         \n",
      "                                                                 \n",
      " gaussian_noise (GaussianNo  (None, 100, 100, 3)       0         \n",
      " ise)                                                            \n",
      "                                                                 \n",
      " ResNet (CustomResNet)       (None, 5)                 11705333  \n",
      "                                                                 \n",
      "=================================================================\n",
      "Total params: 11705333 (44.65 MB)\n",
      "Trainable params: 11697525 (44.62 MB)\n",
      "Non-trainable params: 7808 (30.50 KB)\n",
      "_________________________________________________________________\n"
     ]
    }
   ],
   "source": [
    "test_loss, test_accuracy = resnet_data_aug.evaluate(test_dataset, batch_size=BATCH_SIZE)\n",
    "print(\n",
    "    f\"Model evaluated: Test Loss-> {test_loss}, Test Accuracy -> {test_accuracy*100:.2f}%\"\n",
    ")\n",
    "model_accuracies.append((\"AugmentedResNet\", test_accuracy))\n",
    "resnet_data_aug.summary()"
   ]
  },
  {
   "cell_type": "markdown",
   "metadata": {},
   "source": [
    "### 2.6. Custom models comparison"
   ]
  },
  {
   "cell_type": "markdown",
   "metadata": {},
   "source": [
    "In the next output we have displayed the accuracy performance of each custom model in the train and test set to analyze the overfitting behavior. "
   ]
  },
  {
   "cell_type": "code",
   "execution_count": 47,
   "metadata": {},
   "outputs": [
    {
     "data": {
      "application/vnd.plotly.v1+json": {
       "config": {
        "plotlyServerURL": "https://plot.ly"
       },
       "data": [
        {
         "marker": {
          "color": "#1F77B4",
          "size": 12,
          "symbol": "circle"
         },
         "mode": "markers+text",
         "name": "train",
         "text": [
          "SimpleModel",
          "MidModel",
          "ResNet",
          "ResNetAug",
          "InceptionModel"
         ],
         "textposition": "top center",
         "type": "scatter",
         "x": [
          726277,
          1614885,
          11697525,
          11697525,
          14632725
         ],
         "xaxis": "x",
         "y": [
          0.9015978574752808,
          0.9914432764053345,
          0.9998253583908081,
          0.9668208956718445,
          0.9998253583908081
         ],
         "yaxis": "y"
        },
        {
         "marker": {
          "color": "#FF7F0E",
          "size": 12,
          "symbol": "square"
         },
         "mode": "markers+text",
         "name": "test",
         "text": [
          "SimpleModel",
          "MidModel",
          "ResNet",
          "ResNetAug",
          "InceptionModel"
         ],
         "textposition": "top center",
         "type": "scatter",
         "x": [
          726277,
          1614885,
          11697525,
          11697525,
          14632725
         ],
         "xaxis": "x",
         "y": [
          0.7615230679512024,
          0.859719455242157,
          0.8997995853424072,
          0.9258517026901245,
          0.8483633995056152
         ],
         "yaxis": "y"
        },
        {
         "marker": {
          "color": "#2CA02C",
          "size": 12,
          "symbol": "diamond"
         },
         "mode": "markers+text",
         "name": "difference",
         "text": [
          "SimpleModel",
          "MidModel",
          "ResNet",
          "ResNetAug",
          "InceptionModel"
         ],
         "textposition": "top center",
         "type": "scatter",
         "x": [
          726277,
          1614885,
          11697525,
          11697525,
          14632725
         ],
         "xaxis": "x2",
         "y": [
          0.14007478952407837,
          0.1317238211631775,
          0.10002577304840088,
          0.04096919298171997,
          0.15146195888519287
         ],
         "yaxis": "y2"
        }
       ],
       "layout": {
        "annotations": [
         {
          "font": {
           "size": 16
          },
          "showarrow": false,
          "text": "Custom models accuracy",
          "x": 0.225,
          "xanchor": "center",
          "xref": "paper",
          "y": 1,
          "yanchor": "bottom",
          "yref": "paper"
         },
         {
          "font": {
           "size": 16
          },
          "showarrow": false,
          "text": "Overfitting comparison",
          "x": 0.775,
          "xanchor": "center",
          "xref": "paper",
          "y": 1,
          "yanchor": "bottom",
          "yref": "paper"
         }
        ],
        "height": 500,
        "margin": {
         "b": 10,
         "l": 0,
         "r": 0,
         "t": 30
        },
        "template": {
         "data": {
          "bar": [
           {
            "error_x": {
             "color": "rgb(36,36,36)"
            },
            "error_y": {
             "color": "rgb(36,36,36)"
            },
            "marker": {
             "line": {
              "color": "rgb(234,234,242)",
              "width": 0.5
             },
             "pattern": {
              "fillmode": "overlay",
              "size": 10,
              "solidity": 0.2
             }
            },
            "type": "bar"
           }
          ],
          "barpolar": [
           {
            "marker": {
             "line": {
              "color": "rgb(234,234,242)",
              "width": 0.5
             },
             "pattern": {
              "fillmode": "overlay",
              "size": 10,
              "solidity": 0.2
             }
            },
            "type": "barpolar"
           }
          ],
          "carpet": [
           {
            "aaxis": {
             "endlinecolor": "rgb(36,36,36)",
             "gridcolor": "white",
             "linecolor": "white",
             "minorgridcolor": "white",
             "startlinecolor": "rgb(36,36,36)"
            },
            "baxis": {
             "endlinecolor": "rgb(36,36,36)",
             "gridcolor": "white",
             "linecolor": "white",
             "minorgridcolor": "white",
             "startlinecolor": "rgb(36,36,36)"
            },
            "type": "carpet"
           }
          ],
          "choropleth": [
           {
            "colorbar": {
             "outlinewidth": 0,
             "tickcolor": "rgb(36,36,36)",
             "ticklen": 8,
             "ticks": "outside",
             "tickwidth": 2
            },
            "type": "choropleth"
           }
          ],
          "contour": [
           {
            "colorbar": {
             "outlinewidth": 0,
             "tickcolor": "rgb(36,36,36)",
             "ticklen": 8,
             "ticks": "outside",
             "tickwidth": 2
            },
            "colorscale": [
             [
              0,
              "rgb(2,4,25)"
             ],
             [
              0.06274509803921569,
              "rgb(24,15,41)"
             ],
             [
              0.12549019607843137,
              "rgb(47,23,57)"
             ],
             [
              0.18823529411764706,
              "rgb(71,28,72)"
             ],
             [
              0.25098039215686274,
              "rgb(97,30,82)"
             ],
             [
              0.3137254901960784,
              "rgb(123,30,89)"
             ],
             [
              0.3764705882352941,
              "rgb(150,27,91)"
             ],
             [
              0.4392156862745098,
              "rgb(177,22,88)"
             ],
             [
              0.5019607843137255,
              "rgb(203,26,79)"
             ],
             [
              0.5647058823529412,
              "rgb(223,47,67)"
             ],
             [
              0.6274509803921569,
              "rgb(236,76,61)"
             ],
             [
              0.6901960784313725,
              "rgb(242,107,73)"
             ],
             [
              0.7529411764705882,
              "rgb(244,135,95)"
             ],
             [
              0.8156862745098039,
              "rgb(245,162,122)"
             ],
             [
              0.8784313725490196,
              "rgb(246,188,153)"
             ],
             [
              0.9411764705882353,
              "rgb(247,212,187)"
             ],
             [
              1,
              "rgb(250,234,220)"
             ]
            ],
            "type": "contour"
           }
          ],
          "contourcarpet": [
           {
            "colorbar": {
             "outlinewidth": 0,
             "tickcolor": "rgb(36,36,36)",
             "ticklen": 8,
             "ticks": "outside",
             "tickwidth": 2
            },
            "type": "contourcarpet"
           }
          ],
          "heatmap": [
           {
            "colorbar": {
             "outlinewidth": 0,
             "tickcolor": "rgb(36,36,36)",
             "ticklen": 8,
             "ticks": "outside",
             "tickwidth": 2
            },
            "colorscale": [
             [
              0,
              "rgb(2,4,25)"
             ],
             [
              0.06274509803921569,
              "rgb(24,15,41)"
             ],
             [
              0.12549019607843137,
              "rgb(47,23,57)"
             ],
             [
              0.18823529411764706,
              "rgb(71,28,72)"
             ],
             [
              0.25098039215686274,
              "rgb(97,30,82)"
             ],
             [
              0.3137254901960784,
              "rgb(123,30,89)"
             ],
             [
              0.3764705882352941,
              "rgb(150,27,91)"
             ],
             [
              0.4392156862745098,
              "rgb(177,22,88)"
             ],
             [
              0.5019607843137255,
              "rgb(203,26,79)"
             ],
             [
              0.5647058823529412,
              "rgb(223,47,67)"
             ],
             [
              0.6274509803921569,
              "rgb(236,76,61)"
             ],
             [
              0.6901960784313725,
              "rgb(242,107,73)"
             ],
             [
              0.7529411764705882,
              "rgb(244,135,95)"
             ],
             [
              0.8156862745098039,
              "rgb(245,162,122)"
             ],
             [
              0.8784313725490196,
              "rgb(246,188,153)"
             ],
             [
              0.9411764705882353,
              "rgb(247,212,187)"
             ],
             [
              1,
              "rgb(250,234,220)"
             ]
            ],
            "type": "heatmap"
           }
          ],
          "heatmapgl": [
           {
            "colorbar": {
             "outlinewidth": 0,
             "tickcolor": "rgb(36,36,36)",
             "ticklen": 8,
             "ticks": "outside",
             "tickwidth": 2
            },
            "colorscale": [
             [
              0,
              "rgb(2,4,25)"
             ],
             [
              0.06274509803921569,
              "rgb(24,15,41)"
             ],
             [
              0.12549019607843137,
              "rgb(47,23,57)"
             ],
             [
              0.18823529411764706,
              "rgb(71,28,72)"
             ],
             [
              0.25098039215686274,
              "rgb(97,30,82)"
             ],
             [
              0.3137254901960784,
              "rgb(123,30,89)"
             ],
             [
              0.3764705882352941,
              "rgb(150,27,91)"
             ],
             [
              0.4392156862745098,
              "rgb(177,22,88)"
             ],
             [
              0.5019607843137255,
              "rgb(203,26,79)"
             ],
             [
              0.5647058823529412,
              "rgb(223,47,67)"
             ],
             [
              0.6274509803921569,
              "rgb(236,76,61)"
             ],
             [
              0.6901960784313725,
              "rgb(242,107,73)"
             ],
             [
              0.7529411764705882,
              "rgb(244,135,95)"
             ],
             [
              0.8156862745098039,
              "rgb(245,162,122)"
             ],
             [
              0.8784313725490196,
              "rgb(246,188,153)"
             ],
             [
              0.9411764705882353,
              "rgb(247,212,187)"
             ],
             [
              1,
              "rgb(250,234,220)"
             ]
            ],
            "type": "heatmapgl"
           }
          ],
          "histogram": [
           {
            "marker": {
             "pattern": {
              "fillmode": "overlay",
              "size": 10,
              "solidity": 0.2
             }
            },
            "type": "histogram"
           }
          ],
          "histogram2d": [
           {
            "colorbar": {
             "outlinewidth": 0,
             "tickcolor": "rgb(36,36,36)",
             "ticklen": 8,
             "ticks": "outside",
             "tickwidth": 2
            },
            "colorscale": [
             [
              0,
              "rgb(2,4,25)"
             ],
             [
              0.06274509803921569,
              "rgb(24,15,41)"
             ],
             [
              0.12549019607843137,
              "rgb(47,23,57)"
             ],
             [
              0.18823529411764706,
              "rgb(71,28,72)"
             ],
             [
              0.25098039215686274,
              "rgb(97,30,82)"
             ],
             [
              0.3137254901960784,
              "rgb(123,30,89)"
             ],
             [
              0.3764705882352941,
              "rgb(150,27,91)"
             ],
             [
              0.4392156862745098,
              "rgb(177,22,88)"
             ],
             [
              0.5019607843137255,
              "rgb(203,26,79)"
             ],
             [
              0.5647058823529412,
              "rgb(223,47,67)"
             ],
             [
              0.6274509803921569,
              "rgb(236,76,61)"
             ],
             [
              0.6901960784313725,
              "rgb(242,107,73)"
             ],
             [
              0.7529411764705882,
              "rgb(244,135,95)"
             ],
             [
              0.8156862745098039,
              "rgb(245,162,122)"
             ],
             [
              0.8784313725490196,
              "rgb(246,188,153)"
             ],
             [
              0.9411764705882353,
              "rgb(247,212,187)"
             ],
             [
              1,
              "rgb(250,234,220)"
             ]
            ],
            "type": "histogram2d"
           }
          ],
          "histogram2dcontour": [
           {
            "colorbar": {
             "outlinewidth": 0,
             "tickcolor": "rgb(36,36,36)",
             "ticklen": 8,
             "ticks": "outside",
             "tickwidth": 2
            },
            "colorscale": [
             [
              0,
              "rgb(2,4,25)"
             ],
             [
              0.06274509803921569,
              "rgb(24,15,41)"
             ],
             [
              0.12549019607843137,
              "rgb(47,23,57)"
             ],
             [
              0.18823529411764706,
              "rgb(71,28,72)"
             ],
             [
              0.25098039215686274,
              "rgb(97,30,82)"
             ],
             [
              0.3137254901960784,
              "rgb(123,30,89)"
             ],
             [
              0.3764705882352941,
              "rgb(150,27,91)"
             ],
             [
              0.4392156862745098,
              "rgb(177,22,88)"
             ],
             [
              0.5019607843137255,
              "rgb(203,26,79)"
             ],
             [
              0.5647058823529412,
              "rgb(223,47,67)"
             ],
             [
              0.6274509803921569,
              "rgb(236,76,61)"
             ],
             [
              0.6901960784313725,
              "rgb(242,107,73)"
             ],
             [
              0.7529411764705882,
              "rgb(244,135,95)"
             ],
             [
              0.8156862745098039,
              "rgb(245,162,122)"
             ],
             [
              0.8784313725490196,
              "rgb(246,188,153)"
             ],
             [
              0.9411764705882353,
              "rgb(247,212,187)"
             ],
             [
              1,
              "rgb(250,234,220)"
             ]
            ],
            "type": "histogram2dcontour"
           }
          ],
          "mesh3d": [
           {
            "colorbar": {
             "outlinewidth": 0,
             "tickcolor": "rgb(36,36,36)",
             "ticklen": 8,
             "ticks": "outside",
             "tickwidth": 2
            },
            "type": "mesh3d"
           }
          ],
          "parcoords": [
           {
            "line": {
             "colorbar": {
              "outlinewidth": 0,
              "tickcolor": "rgb(36,36,36)",
              "ticklen": 8,
              "ticks": "outside",
              "tickwidth": 2
             }
            },
            "type": "parcoords"
           }
          ],
          "pie": [
           {
            "automargin": true,
            "type": "pie"
           }
          ],
          "scatter": [
           {
            "fillpattern": {
             "fillmode": "overlay",
             "size": 10,
             "solidity": 0.2
            },
            "type": "scatter"
           }
          ],
          "scatter3d": [
           {
            "line": {
             "colorbar": {
              "outlinewidth": 0,
              "tickcolor": "rgb(36,36,36)",
              "ticklen": 8,
              "ticks": "outside",
              "tickwidth": 2
             }
            },
            "marker": {
             "colorbar": {
              "outlinewidth": 0,
              "tickcolor": "rgb(36,36,36)",
              "ticklen": 8,
              "ticks": "outside",
              "tickwidth": 2
             }
            },
            "type": "scatter3d"
           }
          ],
          "scattercarpet": [
           {
            "marker": {
             "colorbar": {
              "outlinewidth": 0,
              "tickcolor": "rgb(36,36,36)",
              "ticklen": 8,
              "ticks": "outside",
              "tickwidth": 2
             }
            },
            "type": "scattercarpet"
           }
          ],
          "scattergeo": [
           {
            "marker": {
             "colorbar": {
              "outlinewidth": 0,
              "tickcolor": "rgb(36,36,36)",
              "ticklen": 8,
              "ticks": "outside",
              "tickwidth": 2
             }
            },
            "type": "scattergeo"
           }
          ],
          "scattergl": [
           {
            "marker": {
             "colorbar": {
              "outlinewidth": 0,
              "tickcolor": "rgb(36,36,36)",
              "ticklen": 8,
              "ticks": "outside",
              "tickwidth": 2
             }
            },
            "type": "scattergl"
           }
          ],
          "scattermapbox": [
           {
            "marker": {
             "colorbar": {
              "outlinewidth": 0,
              "tickcolor": "rgb(36,36,36)",
              "ticklen": 8,
              "ticks": "outside",
              "tickwidth": 2
             }
            },
            "type": "scattermapbox"
           }
          ],
          "scatterpolar": [
           {
            "marker": {
             "colorbar": {
              "outlinewidth": 0,
              "tickcolor": "rgb(36,36,36)",
              "ticklen": 8,
              "ticks": "outside",
              "tickwidth": 2
             }
            },
            "type": "scatterpolar"
           }
          ],
          "scatterpolargl": [
           {
            "marker": {
             "colorbar": {
              "outlinewidth": 0,
              "tickcolor": "rgb(36,36,36)",
              "ticklen": 8,
              "ticks": "outside",
              "tickwidth": 2
             }
            },
            "type": "scatterpolargl"
           }
          ],
          "scatterternary": [
           {
            "marker": {
             "colorbar": {
              "outlinewidth": 0,
              "tickcolor": "rgb(36,36,36)",
              "ticklen": 8,
              "ticks": "outside",
              "tickwidth": 2
             }
            },
            "type": "scatterternary"
           }
          ],
          "surface": [
           {
            "colorbar": {
             "outlinewidth": 0,
             "tickcolor": "rgb(36,36,36)",
             "ticklen": 8,
             "ticks": "outside",
             "tickwidth": 2
            },
            "colorscale": [
             [
              0,
              "rgb(2,4,25)"
             ],
             [
              0.06274509803921569,
              "rgb(24,15,41)"
             ],
             [
              0.12549019607843137,
              "rgb(47,23,57)"
             ],
             [
              0.18823529411764706,
              "rgb(71,28,72)"
             ],
             [
              0.25098039215686274,
              "rgb(97,30,82)"
             ],
             [
              0.3137254901960784,
              "rgb(123,30,89)"
             ],
             [
              0.3764705882352941,
              "rgb(150,27,91)"
             ],
             [
              0.4392156862745098,
              "rgb(177,22,88)"
             ],
             [
              0.5019607843137255,
              "rgb(203,26,79)"
             ],
             [
              0.5647058823529412,
              "rgb(223,47,67)"
             ],
             [
              0.6274509803921569,
              "rgb(236,76,61)"
             ],
             [
              0.6901960784313725,
              "rgb(242,107,73)"
             ],
             [
              0.7529411764705882,
              "rgb(244,135,95)"
             ],
             [
              0.8156862745098039,
              "rgb(245,162,122)"
             ],
             [
              0.8784313725490196,
              "rgb(246,188,153)"
             ],
             [
              0.9411764705882353,
              "rgb(247,212,187)"
             ],
             [
              1,
              "rgb(250,234,220)"
             ]
            ],
            "type": "surface"
           }
          ],
          "table": [
           {
            "cells": {
             "fill": {
              "color": "rgb(231,231,240)"
             },
             "line": {
              "color": "white"
             }
            },
            "header": {
             "fill": {
              "color": "rgb(183,183,191)"
             },
             "line": {
              "color": "white"
             }
            },
            "type": "table"
           }
          ]
         },
         "layout": {
          "annotationdefaults": {
           "arrowcolor": "rgb(67,103,167)"
          },
          "autotypenumbers": "strict",
          "coloraxis": {
           "colorbar": {
            "outlinewidth": 0,
            "tickcolor": "rgb(36,36,36)",
            "ticklen": 8,
            "ticks": "outside",
            "tickwidth": 2
           }
          },
          "colorscale": {
           "sequential": [
            [
             0,
             "rgb(2,4,25)"
            ],
            [
             0.06274509803921569,
             "rgb(24,15,41)"
            ],
            [
             0.12549019607843137,
             "rgb(47,23,57)"
            ],
            [
             0.18823529411764706,
             "rgb(71,28,72)"
            ],
            [
             0.25098039215686274,
             "rgb(97,30,82)"
            ],
            [
             0.3137254901960784,
             "rgb(123,30,89)"
            ],
            [
             0.3764705882352941,
             "rgb(150,27,91)"
            ],
            [
             0.4392156862745098,
             "rgb(177,22,88)"
            ],
            [
             0.5019607843137255,
             "rgb(203,26,79)"
            ],
            [
             0.5647058823529412,
             "rgb(223,47,67)"
            ],
            [
             0.6274509803921569,
             "rgb(236,76,61)"
            ],
            [
             0.6901960784313725,
             "rgb(242,107,73)"
            ],
            [
             0.7529411764705882,
             "rgb(244,135,95)"
            ],
            [
             0.8156862745098039,
             "rgb(245,162,122)"
            ],
            [
             0.8784313725490196,
             "rgb(246,188,153)"
            ],
            [
             0.9411764705882353,
             "rgb(247,212,187)"
            ],
            [
             1,
             "rgb(250,234,220)"
            ]
           ],
           "sequentialminus": [
            [
             0,
             "rgb(2,4,25)"
            ],
            [
             0.06274509803921569,
             "rgb(24,15,41)"
            ],
            [
             0.12549019607843137,
             "rgb(47,23,57)"
            ],
            [
             0.18823529411764706,
             "rgb(71,28,72)"
            ],
            [
             0.25098039215686274,
             "rgb(97,30,82)"
            ],
            [
             0.3137254901960784,
             "rgb(123,30,89)"
            ],
            [
             0.3764705882352941,
             "rgb(150,27,91)"
            ],
            [
             0.4392156862745098,
             "rgb(177,22,88)"
            ],
            [
             0.5019607843137255,
             "rgb(203,26,79)"
            ],
            [
             0.5647058823529412,
             "rgb(223,47,67)"
            ],
            [
             0.6274509803921569,
             "rgb(236,76,61)"
            ],
            [
             0.6901960784313725,
             "rgb(242,107,73)"
            ],
            [
             0.7529411764705882,
             "rgb(244,135,95)"
            ],
            [
             0.8156862745098039,
             "rgb(245,162,122)"
            ],
            [
             0.8784313725490196,
             "rgb(246,188,153)"
            ],
            [
             0.9411764705882353,
             "rgb(247,212,187)"
            ],
            [
             1,
             "rgb(250,234,220)"
            ]
           ]
          },
          "colorway": [
           "rgb(76,114,176)",
           "rgb(221,132,82)",
           "rgb(85,168,104)",
           "rgb(196,78,82)",
           "rgb(129,114,179)",
           "rgb(147,120,96)",
           "rgb(218,139,195)",
           "rgb(140,140,140)",
           "rgb(204,185,116)",
           "rgb(100,181,205)"
          ],
          "font": {
           "color": "rgb(36,36,36)"
          },
          "geo": {
           "bgcolor": "white",
           "lakecolor": "white",
           "landcolor": "rgb(234,234,242)",
           "showlakes": true,
           "showland": true,
           "subunitcolor": "white"
          },
          "hoverlabel": {
           "align": "left"
          },
          "hovermode": "closest",
          "paper_bgcolor": "white",
          "plot_bgcolor": "rgb(234,234,242)",
          "polar": {
           "angularaxis": {
            "gridcolor": "white",
            "linecolor": "white",
            "showgrid": true,
            "ticks": ""
           },
           "bgcolor": "rgb(234,234,242)",
           "radialaxis": {
            "gridcolor": "white",
            "linecolor": "white",
            "showgrid": true,
            "ticks": ""
           }
          },
          "scene": {
           "xaxis": {
            "backgroundcolor": "rgb(234,234,242)",
            "gridcolor": "white",
            "gridwidth": 2,
            "linecolor": "white",
            "showbackground": true,
            "showgrid": true,
            "ticks": "",
            "zerolinecolor": "white"
           },
           "yaxis": {
            "backgroundcolor": "rgb(234,234,242)",
            "gridcolor": "white",
            "gridwidth": 2,
            "linecolor": "white",
            "showbackground": true,
            "showgrid": true,
            "ticks": "",
            "zerolinecolor": "white"
           },
           "zaxis": {
            "backgroundcolor": "rgb(234,234,242)",
            "gridcolor": "white",
            "gridwidth": 2,
            "linecolor": "white",
            "showbackground": true,
            "showgrid": true,
            "ticks": "",
            "zerolinecolor": "white"
           }
          },
          "shapedefaults": {
           "fillcolor": "rgb(67,103,167)",
           "line": {
            "width": 0
           },
           "opacity": 0.5
          },
          "ternary": {
           "aaxis": {
            "gridcolor": "white",
            "linecolor": "white",
            "showgrid": true,
            "ticks": ""
           },
           "baxis": {
            "gridcolor": "white",
            "linecolor": "white",
            "showgrid": true,
            "ticks": ""
           },
           "bgcolor": "rgb(234,234,242)",
           "caxis": {
            "gridcolor": "white",
            "linecolor": "white",
            "showgrid": true,
            "ticks": ""
           }
          },
          "xaxis": {
           "automargin": true,
           "gridcolor": "white",
           "linecolor": "white",
           "showgrid": true,
           "ticks": "",
           "title": {
            "standoff": 15
           },
           "zerolinecolor": "white"
          },
          "yaxis": {
           "automargin": true,
           "gridcolor": "white",
           "linecolor": "white",
           "showgrid": true,
           "ticks": "",
           "title": {
            "standoff": 15
           },
           "zerolinecolor": "white"
          }
         }
        },
        "width": 1500,
        "xaxis": {
         "anchor": "y",
         "domain": [
          0,
          0.45
         ],
         "range": [
          -1468631.75,
          16827633.75
         ],
         "title": {
          "text": "#params"
         }
        },
        "xaxis2": {
         "anchor": "y2",
         "domain": [
          0.55,
          1
         ],
         "range": [
          -1468631.75,
          16827633.75
         ],
         "title": {
          "text": "#params"
         }
        },
        "yaxis": {
         "anchor": "x",
         "domain": [
          0,
          1
         ],
         "range": [
          0.6615230679512024,
          1.05
         ],
         "title": {
          "text": "acc"
         }
        },
        "yaxis2": {
         "anchor": "x2",
         "domain": [
          0,
          1
         ],
         "title": {
          "text": "acc"
         }
        }
       }
      }
     },
     "metadata": {},
     "output_type": "display_data"
    }
   ],
   "source": [
    "models = [simple_model, mid_model, inception, resnet, resnet_data_aug]\n",
    "comparison(models, (train_dataset, test_dataset))"
   ]
  },
  {
   "cell_type": "markdown",
   "metadata": {},
   "source": [
    "The left figure shows each model performance in the train (blue) and test (orange) sets. We see that for all models the performance is considerably better in the train set (99%) than in the evaluation samples (75-85%), proving the network is learning the train set characteristics instead of generalizing image information for the given task. The right figure shows the disadvantage of using larger networks with more complex connections (Inception), inducing a higher difference between the train and test set. Additionally, we see the impact of regularizing the network via data augmentation (ResNetAug). The result is the smaller difference between the train and test set."
   ]
  },
  {
   "cell_type": "code",
   "execution_count": 43,
   "metadata": {},
   "outputs": [
    {
     "data": {
      "image/png": "[encoded data removed]",
      "text/plain": [
       "<Figure size 640x480 with 1 Axes>"
      ]
     },
     "metadata": {},
     "output_type": "display_data"
    }
   ],
   "source": [
    "fig, ax = plt.subplots()\n",
    "models = [name for name, _ in model_accuracies]\n",
    "accuracies = [accuracy for _, accuracy in model_accuracies]\n",
    "bar_colors = [\"tab:green\", \"tab:orange\", \"tab:red\", \"tab:blue\", 'tab:pink']\n",
    "ax.bar(models, accuracies, label=models, color=bar_colors)\n",
    "\n",
    "ax.set_ylabel(\"Test Accuracy\")\n",
    "ax.set_title(\"Test accuracy in CNN Models\")\n",
    "plt.show()"
   ]
  },
  {
   "cell_type": "markdown",
   "metadata": {},
   "source": [
    "## Exercise 3. Pretrained models\n",
    "\n",
    "For this exercise we conducted experiments with three pretrained models available in the [Keras Applications website](https://keras.io/api/applications/) pretrained with ImageNet dataset: [ResNet-50](https://keras.io/api/applications/resnet/#resnet50v2-function) ([He et al., 2016](https://aruexiv.org/abs/1603.05027)), [MobileNet-V2](https://keras.io/api/applications/mobilenet/#mobilenetv2-function) ([Sandler et al.,, 2018](https://arxiv.org/abs/1801.04381)) and [EfficientNet-B0](https://keras.io/api/applications/efficientnet/#efficientnetb0-function) ([Tan & Le, 2019](https://arxiv.org/abs/1905.11946)). Our first approach uses transfer learning, using the pretrained models to use that previous knowledge. The second round is fine-tuning, where we train the model with the feature-extractor freezed, to train the top (classifier) and then do a little round of epochs with very low learning rate with the pretrained model unfreezed to adapt its weights to our dataset. The last approaches explores defreezing only the last 10 layers of each architecture to test if maintaining a large ratio of trainable weights does not impact in the overal performance."
   ]
  },
  {
   "cell_type": "markdown",
   "metadata": {},
   "source": [
    "### 3.1. Transfer-learning\n"
   ]
  },
  {
   "cell_type": "markdown",
   "metadata": {},
   "source": [
    "\n",
    "#### ResNet-50 V2"
   ]
  },
  {
   "cell_type": "code",
   "execution_count": 15,
   "metadata": {},
   "outputs": [
    {
     "name": "stdout",
     "output_type": "stream",
     "text": [
      "Epoch 1/50\n",
      "45/45 [==============================] - 12s 174ms/step - loss: 0.6880 - acc: 0.8668 - val_loss: 0.3530 - val_acc: 0.8976 - lr: 1.0000e-04\n",
      "Epoch 2/50\n",
      "45/45 [==============================] - 7s 136ms/step - loss: 0.0794 - acc: 0.9756 - val_loss: 0.2911 - val_acc: 0.9154 - lr: 1.0000e-04\n",
      "Epoch 3/50\n",
      "45/45 [==============================] - 6s 99ms/step - loss: 0.0193 - acc: 0.9968 - val_loss: 0.3115 - val_acc: 0.9154 - lr: 1.0000e-04\n",
      "Epoch 4/50\n",
      "45/45 [==============================] - 6s 100ms/step - loss: 0.0070 - acc: 0.9996 - val_loss: 0.3174 - val_acc: 0.9129 - lr: 1.0000e-04\n",
      "Epoch 5/50\n",
      "45/45 [==============================] - 6s 100ms/step - loss: 0.0041 - acc: 0.9997 - val_loss: 0.3262 - val_acc: 0.9124 - lr: 1.0000e-04\n",
      "Epoch 6/50\n",
      "45/45 [==============================] - 6s 99ms/step - loss: 0.0033 - acc: 0.9997 - val_loss: 0.3284 - val_acc: 0.9144 - lr: 1.0000e-04\n",
      "Epoch 7/50\n",
      "45/45 [==============================] - 6s 99ms/step - loss: 0.0025 - acc: 0.9997 - val_loss: 0.3355 - val_acc: 0.9149 - lr: 1.0000e-04\n",
      "Epoch 8/50\n",
      "45/45 [==============================] - 6s 99ms/step - loss: 0.0021 - acc: 0.9998 - val_loss: 0.3352 - val_acc: 0.9134 - lr: 2.0000e-05\n",
      "Epoch 9/50\n",
      "45/45 [==============================] - 6s 99ms/step - loss: 0.0018 - acc: 0.9998 - val_loss: 0.3350 - val_acc: 0.9139 - lr: 2.0000e-05\n",
      "Epoch 10/50\n",
      "45/45 [==============================] - 6s 99ms/step - loss: 0.0017 - acc: 0.9998 - val_loss: 0.3354 - val_acc: 0.9139 - lr: 2.0000e-05\n",
      "Epoch 11/50\n",
      "45/45 [==============================] - 6s 99ms/step - loss: 0.0017 - acc: 0.9997 - val_loss: 0.3361 - val_acc: 0.9144 - lr: 2.0000e-05\n",
      "Epoch 12/50\n",
      "45/45 [==============================] - 6s 99ms/step - loss: 0.0016 - acc: 0.9997 - val_loss: 0.3371 - val_acc: 0.9149 - lr: 2.0000e-05\n",
      "Final loss: training -> 0.00, validation -> 0.34\n",
      "Final accuracy: training -> 1.00, validation -> 0.91\n",
      "6/6 [==============================] - 1s 152ms/step - loss: 0.2724 - acc: 0.9399\n",
      "Model evaluated: Test Loss-> 0.27240490913391113, Test Accuracy -> 93.99%\n",
      "Model: \"ResNet-t\"\n",
      "_________________________________________________________________\n",
      " Layer (type)                Output Shape              Param #   \n",
      "=================================================================\n",
      " rescaling_5 (Rescaling)     multiple                  0         \n",
      "                                                                 \n",
      " resnet50v2 (Functional)     (None, 4, 4, 2048)        23564800  \n",
      "                                                                 \n",
      " flatten_2 (Flatten)         multiple                  0         \n",
      "                                                                 \n",
      " dense_9 (Dense)             multiple                  32769000  \n",
      "                                                                 \n",
      " dense_10 (Dense)            multiple                  5005      \n",
      "                                                                 \n",
      "=================================================================\n",
      "Total params: 56338805 (214.92 MB)\n",
      "Trainable params: 32774005 (125.02 MB)\n",
      "Non-trainable params: 23564800 (89.89 MB)\n",
      "_________________________________________________________________\n"
     ]
    }
   ],
   "source": [
    "resnet_t = PretrainedModel(num_classes=5, img_size=IMG_SIZE, pretrained='resnet', name='ResNet-t', defreeze=0)\n",
    "optimizer = Adam(learning_rate=1e-4)\n",
    "resnet_t.compile(optimizer=optimizer, loss=\"sparse_categorical_crossentropy\", metrics=[SparseCategoricalAccuracy('acc')])\n",
    "resnet_t_history = train_model(\n",
    "    resnet_t,\n",
    "    train_dataset,\n",
    "    val_dataset,\n",
    "    path=model_dir,\n",
    "    epochs=50,\n",
    "    verbose=1,\n",
    "    lr_patience=5,\n",
    "    val_patience=10\n",
    ").history\n",
    "print(\n",
    "    f\"Final loss: training -> {resnet_t_history['loss'][-1]:.2f}, validation -> {resnet_t_history['val_loss'][-1]:.2f}\"\n",
    ")\n",
    "print(\n",
    "    f\"Final accuracy: training -> {resnet_t_history['acc'][-1]:.2f}, validation -> {resnet_t_history['val_acc'][-1]:.2f}\"\n",
    ")\n",
    "plot_history(resnet_t_history, ['loss', 'acc'], name=f'{resnet_t.name} Model')\n",
    "test_loss, test_accuracy = resnet_t.evaluate(test_dataset, batch_size=BATCH_SIZE)\n",
    "print(\n",
    "    f\"Model evaluated: Test Loss-> {test_loss}, Test Accuracy -> {test_accuracy*100:.2f}%\"\n",
    ")\n",
    "resnet_t.summary()"
   ]
  },
  {
   "cell_type": "markdown",
   "metadata": {},
   "source": [
    "#### MobileNet V2"
   ]
  },
  {
   "cell_type": "code",
   "execution_count": 16,
   "metadata": {},
   "outputs": [
    {
     "name": "stdout",
     "output_type": "stream",
     "text": [
      "Epoch 1/50\n",
      "45/45 [==============================] - 9s 133ms/step - loss: 0.5519 - acc: 0.8721 - val_loss: 0.2807 - val_acc: 0.9228 - lr: 1.0000e-04\n",
      "Epoch 2/50\n",
      "45/45 [==============================] - 6s 117ms/step - loss: 0.1292 - acc: 0.9566 - val_loss: 0.1832 - val_acc: 0.9406 - lr: 1.0000e-04\n",
      "Epoch 3/50\n",
      "45/45 [==============================] - 5s 95ms/step - loss: 0.0451 - acc: 0.9865 - val_loss: 0.2053 - val_acc: 0.9342 - lr: 1.0000e-04\n",
      "Epoch 4/50\n",
      "45/45 [==============================] - 6s 117ms/step - loss: 0.0182 - acc: 0.9966 - val_loss: 0.1818 - val_acc: 0.9456 - lr: 1.0000e-04\n",
      "Epoch 5/50\n",
      "45/45 [==============================] - 5s 95ms/step - loss: 0.0087 - acc: 0.9992 - val_loss: 0.1887 - val_acc: 0.9411 - lr: 1.0000e-04\n",
      "Epoch 6/50\n",
      "45/45 [==============================] - 5s 95ms/step - loss: 0.0049 - acc: 0.9997 - val_loss: 0.1920 - val_acc: 0.9431 - lr: 1.0000e-04\n",
      "Epoch 7/50\n",
      "45/45 [==============================] - 5s 95ms/step - loss: 0.0037 - acc: 0.9997 - val_loss: 0.1932 - val_acc: 0.9446 - lr: 1.0000e-04\n",
      "Epoch 8/50\n",
      "45/45 [==============================] - 5s 94ms/step - loss: 0.0033 - acc: 0.9997 - val_loss: 0.1993 - val_acc: 0.9461 - lr: 1.0000e-04\n",
      "Epoch 9/50\n",
      "45/45 [==============================] - 5s 95ms/step - loss: 0.0028 - acc: 0.9997 - val_loss: 0.1999 - val_acc: 0.9461 - lr: 1.0000e-04\n",
      "Epoch 10/50\n",
      "45/45 [==============================] - 5s 94ms/step - loss: 0.0021 - acc: 0.9998 - val_loss: 0.2003 - val_acc: 0.9451 - lr: 2.0000e-05\n",
      "Epoch 11/50\n",
      "45/45 [==============================] - 5s 94ms/step - loss: 0.0020 - acc: 0.9997 - val_loss: 0.2005 - val_acc: 0.9451 - lr: 2.0000e-05\n",
      "Epoch 12/50\n",
      "45/45 [==============================] - 5s 95ms/step - loss: 0.0018 - acc: 0.9997 - val_loss: 0.2011 - val_acc: 0.9456 - lr: 2.0000e-05\n",
      "Epoch 13/50\n",
      "45/45 [==============================] - 5s 94ms/step - loss: 0.0018 - acc: 0.9997 - val_loss: 0.2013 - val_acc: 0.9466 - lr: 2.0000e-05\n",
      "Epoch 14/50\n",
      "45/45 [==============================] - 5s 95ms/step - loss: 0.0017 - acc: 0.9998 - val_loss: 0.2022 - val_acc: 0.9456 - lr: 2.0000e-05\n",
      "Final loss: training -> 0.00, validation -> 0.20\n",
      "Final accuracy: training -> 1.00, validation -> 0.95\n",
      "6/6 [==============================] - 1s 41ms/step - loss: 0.2030 - acc: 0.9466\n",
      "Model evaluated: Test Loss-> 0.2030433714389801, Test Accuracy -> 94.66%\n",
      "Model: \"Mobile-t\"\n",
      "_________________________________________________________________\n",
      " Layer (type)                Output Shape              Param #   \n",
      "=================================================================\n",
      " rescaling_6 (Rescaling)     multiple                  0         \n",
      "                                                                 \n",
      " mobilenetv2_1.00_224 (Func  (None, 4, 4, 1280)        2257984   \n",
      " tional)                                                         \n",
      "                                                                 \n",
      " flatten_3 (Flatten)         multiple                  0         \n",
      "                                                                 \n",
      " dense_11 (Dense)            multiple                  20481000  \n",
      "                                                                 \n",
      " dense_12 (Dense)            multiple                  5005      \n",
      "                                                                 \n",
      "=================================================================\n",
      "Total params: 22743989 (86.76 MB)\n",
      "Trainable params: 20486005 (78.15 MB)\n",
      "Non-trainable params: 2257984 (8.61 MB)\n",
      "_________________________________________________________________\n"
     ]
    }
   ],
   "source": [
    "mobile_t = PretrainedModel(num_classes=5, img_size=IMG_SIZE, pretrained='mobile', name='Mobile-t', defreeze=0)\n",
    "optimizer = Adam(learning_rate=1e-4)\n",
    "mobile_t.compile(optimizer=optimizer, loss=\"sparse_categorical_crossentropy\", metrics=[SparseCategoricalAccuracy('acc')])\n",
    "mobile_t_history = train_model(\n",
    "    mobile_t,\n",
    "    train_dataset,\n",
    "    val_dataset,\n",
    "    path=model_dir,\n",
    "    epochs=50,\n",
    "    verbose=1,\n",
    "    lr_patience=5,\n",
    "    val_patience=10\n",
    ").history\n",
    "print(\n",
    "    f\"Final loss: training -> {mobile_t_history['loss'][-1]:.2f}, validation -> {mobile_t_history['val_loss'][-1]:.2f}\"\n",
    ")\n",
    "print(\n",
    "    f\"Final accuracy: training -> {mobile_t_history['acc'][-1]:.2f}, validation -> {mobile_t_history['val_acc'][-1]:.2f}\"\n",
    ")\n",
    "plot_history(mobile_t_history, ['loss', 'acc'], name=f'{mobile_t.name} Model')\n",
    "test_loss, test_accuracy = mobile_t.evaluate(test_dataset, batch_size=BATCH_SIZE)\n",
    "print(\n",
    "    f\"Model evaluated: Test Loss-> {test_loss}, Test Accuracy -> {test_accuracy*100:.2f}%\"\n",
    ")\n",
    "mobile_t.summary()"
   ]
  },
  {
   "cell_type": "markdown",
   "metadata": {},
   "source": [
    "#### Xception"
   ]
  },
  {
   "cell_type": "code",
   "execution_count": 17,
   "metadata": {},
   "outputs": [
    {
     "name": "stdout",
     "output_type": "stream",
     "text": [
      "Epoch 1/50\n",
      "45/45 [==============================] - 10s 149ms/step - loss: 0.3645 - acc: 0.8734 - val_loss: 0.2682 - val_acc: 0.9040 - lr: 1.0000e-04\n",
      "Epoch 2/50\n",
      "45/45 [==============================] - 7s 125ms/step - loss: 0.1732 - acc: 0.9371 - val_loss: 0.2500 - val_acc: 0.9119 - lr: 1.0000e-04\n",
      "Epoch 3/50\n",
      "45/45 [==============================] - 7s 124ms/step - loss: 0.1255 - acc: 0.9543 - val_loss: 0.2329 - val_acc: 0.9179 - lr: 1.0000e-04\n",
      "Epoch 4/50\n",
      "45/45 [==============================] - 7s 124ms/step - loss: 0.0928 - acc: 0.9707 - val_loss: 0.2257 - val_acc: 0.9233 - lr: 1.0000e-04\n",
      "Epoch 5/50\n",
      "45/45 [==============================] - 6s 99ms/step - loss: 0.0691 - acc: 0.9815 - val_loss: 0.2313 - val_acc: 0.9213 - lr: 1.0000e-04\n",
      "Epoch 6/50\n",
      "45/45 [==============================] - 6s 99ms/step - loss: 0.0556 - acc: 0.9864 - val_loss: 0.2319 - val_acc: 0.9233 - lr: 1.0000e-04\n",
      "Epoch 7/50\n",
      "45/45 [==============================] - 6s 100ms/step - loss: 0.0402 - acc: 0.9921 - val_loss: 0.2346 - val_acc: 0.9213 - lr: 1.0000e-04\n",
      "Epoch 8/50\n",
      "45/45 [==============================] - 6s 100ms/step - loss: 0.0308 - acc: 0.9950 - val_loss: 0.2413 - val_acc: 0.9233 - lr: 1.0000e-04\n",
      "Epoch 9/50\n",
      "45/45 [==============================] - 6s 100ms/step - loss: 0.0235 - acc: 0.9973 - val_loss: 0.2472 - val_acc: 0.9218 - lr: 1.0000e-04\n",
      "Epoch 10/50\n",
      "45/45 [==============================] - 6s 100ms/step - loss: 0.0183 - acc: 0.9985 - val_loss: 0.2478 - val_acc: 0.9223 - lr: 2.0000e-05\n",
      "Epoch 11/50\n",
      "45/45 [==============================] - 6s 100ms/step - loss: 0.0172 - acc: 0.9987 - val_loss: 0.2502 - val_acc: 0.9243 - lr: 2.0000e-05\n",
      "Epoch 12/50\n",
      "45/45 [==============================] - 6s 101ms/step - loss: 0.0164 - acc: 0.9987 - val_loss: 0.2515 - val_acc: 0.9238 - lr: 2.0000e-05\n",
      "Epoch 13/50\n",
      "45/45 [==============================] - 6s 99ms/step - loss: 0.0157 - acc: 0.9990 - val_loss: 0.2527 - val_acc: 0.9238 - lr: 2.0000e-05\n",
      "Epoch 14/50\n",
      "45/45 [==============================] - 6s 100ms/step - loss: 0.0151 - acc: 0.9990 - val_loss: 0.2548 - val_acc: 0.9238 - lr: 2.0000e-05\n",
      "Final loss: training -> 0.02, validation -> 0.25\n",
      "Final accuracy: training -> 1.00, validation -> 0.92\n",
      "6/6 [==============================] - 1s 104ms/step - loss: 0.1616 - acc: 0.9439\n",
      "Model evaluated: Test Loss-> 0.16161420941352844, Test Accuracy -> 94.39%\n",
      "Model: \"Xception-t\"\n",
      "_________________________________________________________________\n",
      " Layer (type)                Output Shape              Param #   \n",
      "=================================================================\n",
      " rescaling_7 (Rescaling)     multiple                  0         \n",
      "                                                                 \n",
      " xception (Functional)       (None, 3, 3, 2048)        20861480  \n",
      "                                                                 \n",
      " flatten_4 (Flatten)         multiple                  0         \n",
      "                                                                 \n",
      " dense_13 (Dense)            multiple                  18433000  \n",
      "                                                                 \n",
      " dense_14 (Dense)            multiple                  5005      \n",
      "                                                                 \n",
      "=================================================================\n",
      "Total params: 39299485 (149.92 MB)\n",
      "Trainable params: 18438005 (70.34 MB)\n",
      "Non-trainable params: 20861480 (79.58 MB)\n",
      "_________________________________________________________________\n"
     ]
    }
   ],
   "source": [
    "xception_t = PretrainedModel(num_classes=5, img_size=IMG_SIZE, pretrained='xception', name='Xception-t', defreeze=0)\n",
    "optimizer = Adam(learning_rate=1e-4)\n",
    "xception_t.compile(optimizer=optimizer, loss=\"sparse_categorical_crossentropy\", metrics=[SparseCategoricalAccuracy('acc')])\n",
    "xception_t_history = train_model(\n",
    "    xception_t,\n",
    "    train_dataset,\n",
    "    val_dataset,\n",
    "    path=model_dir,\n",
    "    epochs=50,\n",
    "    verbose=1,\n",
    "    lr_patience=5,\n",
    "    val_patience=10\n",
    ").history\n",
    "print(\n",
    "    f\"Final loss: training -> {xception_t_history['loss'][-1]:.2f}, validation -> {xception_t_history['val_loss'][-1]:.2f}\"\n",
    ")\n",
    "print(\n",
    "    f\"Final accuracy: training -> {xception_t_history['acc'][-1]:.2f}, validation -> {xception_t_history['val_acc'][-1]:.2f}\"\n",
    ")\n",
    "plot_history(xception_t_history, ['loss', 'acc'], name=f'{xception_t.name} Model')\n",
    "test_loss, test_accuracy = xception_t.evaluate(test_dataset, batch_size=BATCH_SIZE)\n",
    "print(\n",
    "    f\"Model evaluated: Test Loss-> {test_loss}, Test Accuracy -> {test_accuracy*100:.2f}%\"\n",
    ")\n",
    "xception_t.summary()"
   ]
  },
  {
   "cell_type": "markdown",
   "metadata": {},
   "source": [
    "### 3.2. Fine-tuning"
   ]
  },
  {
   "cell_type": "markdown",
   "metadata": {},
   "source": [
    "\n",
    "#### ResNet-50 V2"
   ]
  },
  {
   "cell_type": "code",
   "execution_count": 18,
   "metadata": {},
   "outputs": [
    {
     "name": "stdout",
     "output_type": "stream",
     "text": [
      "Training only the classifier\n",
      "45/45 [==============================] - 10s 152ms/step - loss: 6.0406 - acc: 0.8369 - val_loss: 1.5808 - val_acc: 0.8981 - lr: 0.0010\n",
      "Finetuning the model with a learning rate of 1e-5\n",
      "45/45 [==============================] - 37s 302ms/step - loss: 3.2650 - acc: 0.7294 - val_loss: 1.9450 - val_acc: 0.8788 - lr: 1.0000e-05\n",
      "Final loss: training -> 3.26, validation -> 1.94\n",
      "Final accuracy: training -> 0.73, validation -> 0.88\n",
      "6/6 [==============================] - 1s 43ms/step - loss: 1.4782 - acc: 0.9105\n",
      "Model evaluated: Test Loss-> 1.4781872034072876, Test Accuracy -> 91.05%\n",
      "Model: \"ResNet-f\"\n",
      "_________________________________________________________________\n",
      " Layer (type)                Output Shape              Param #   \n",
      "=================================================================\n",
      " rescaling_8 (Rescaling)     multiple                  0         \n",
      "                                                                 \n",
      " resnet50v2 (Functional)     (None, 4, 4, 2048)        23564800  \n",
      "                                                                 \n",
      " flatten_5 (Flatten)         multiple                  0         \n",
      "                                                                 \n",
      " dense_15 (Dense)            multiple                  32769000  \n",
      "                                                                 \n",
      " dense_16 (Dense)            multiple                  5005      \n",
      "                                                                 \n",
      "=================================================================\n",
      "Total params: 56338805 (214.92 MB)\n",
      "Trainable params: 56293365 (214.74 MB)\n",
      "Non-trainable params: 45440 (177.50 KB)\n",
      "_________________________________________________________________\n"
     ]
    }
   ],
   "source": [
    "resnet_f = PretrainedModel(num_classes=5, img_size=IMG_SIZE, pretrained='resnet', defreeze = 0, name='ResNet-f')\n",
    "optimizer = Adam(learning_rate=1e-3)\n",
    "resnet_f.compile(optimizer=optimizer, loss=\"sparse_categorical_crossentropy\", metrics=[SparseCategoricalAccuracy('acc')])\n",
    "\n",
    "print(\"Training only the classifier\")\n",
    "train_model(\n",
    "    resnet_f,\n",
    "    train_dataset,\n",
    "    val_dataset,\n",
    "    path=model_dir,\n",
    "    epochs=1,\n",
    "    verbose=1,\n",
    "    lr_patience=3,\n",
    "    val_patience=5,\n",
    ")\n",
    "\n",
    "print(\"Finetuning the model with a learning rate of 1e-5\")\n",
    "resnet_f.trainable = True\n",
    "optimizer = Adam(learning_rate=1e-5)\n",
    "resnet_f.compile(optimizer=optimizer, loss=\"sparse_categorical_crossentropy\", metrics=[SparseCategoricalAccuracy('acc')])\n",
    "\n",
    "resnet_f_history = train_model(\n",
    "    resnet_f,\n",
    "    train_dataset,\n",
    "    val_dataset,\n",
    "    path=model_dir,\n",
    "    epochs=1,\n",
    "    verbose=1,\n",
    "    lr_patience=2,\n",
    "    val_patience=2,\n",
    ").history\n",
    "\n",
    "print(\n",
    "    f\"Final loss: training -> {resnet_f_history['loss'][-1]:.2f}, validation -> {resnet_f_history['val_loss'][-1]:.2f}\"\n",
    ")\n",
    "print(\n",
    "    f\"Final accuracy: training -> {resnet_f_history['acc'][-1]:.2f}, validation -> {resnet_f_history['val_acc'][-1]:.2f}\"\n",
    ")\n",
    "plot_history(resnet_f_history, ['loss', 'acc'], name=f'{resnet_f.name} Model')\n",
    "test_loss, test_accuracy = resnet_f.evaluate(test_dataset, batch_size=BATCH_SIZE)\n",
    "print(\n",
    "    f\"Model evaluated: Test Loss-> {test_loss}, Test Accuracy -> {test_accuracy*100:.2f}%\"\n",
    ")\n",
    "resnet_f.summary()"
   ]
  },
  {
   "cell_type": "markdown",
   "metadata": {},
   "source": [
    "#### MobileNet V2"
   ]
  },
  {
   "cell_type": "code",
   "execution_count": 19,
   "metadata": {},
   "outputs": [
    {
     "name": "stdout",
     "output_type": "stream",
     "text": [
      "Training only the classifier\n",
      "45/45 [==============================] - 9s 128ms/step - loss: 7.2606 - acc: 0.8272 - val_loss: 0.2451 - val_acc: 0.9179 - lr: 0.0010\n",
      "Finetuning the model with a learning rate of 1e-5\n",
      "45/45 [==============================] - 28s 210ms/step - loss: 0.7486 - acc: 0.7783 - val_loss: 0.2433 - val_acc: 0.9193 - lr: 1.0000e-05\n",
      "Final loss: training -> 0.75, validation -> 0.24\n",
      "Final accuracy: training -> 0.78, validation -> 0.92\n",
      "6/6 [==============================] - 0s 24ms/step - loss: 0.2456 - acc: 0.9352\n",
      "Model evaluated: Test Loss-> 0.24556276202201843, Test Accuracy -> 93.52%\n",
      "Model: \"Mobile-f\"\n",
      "_________________________________________________________________\n",
      " Layer (type)                Output Shape              Param #   \n",
      "=================================================================\n",
      " rescaling_9 (Rescaling)     multiple                  0         \n",
      "                                                                 \n",
      " mobilenetv2_1.00_224 (Func  (None, 4, 4, 1280)        2257984   \n",
      " tional)                                                         \n",
      "                                                                 \n",
      " flatten_6 (Flatten)         multiple                  0         \n",
      "                                                                 \n",
      " dense_17 (Dense)            multiple                  20481000  \n",
      "                                                                 \n",
      " dense_18 (Dense)            multiple                  5005      \n",
      "                                                                 \n",
      "=================================================================\n",
      "Total params: 22743989 (86.76 MB)\n",
      "Trainable params: 22709877 (86.63 MB)\n",
      "Non-trainable params: 34112 (133.25 KB)\n",
      "_________________________________________________________________\n"
     ]
    }
   ],
   "source": [
    "mobile_f = PretrainedModel(num_classes=5, img_size=IMG_SIZE, pretrained='mobile', defreeze = 0, name='Mobile-f')\n",
    "optimizer = Adam(learning_rate=1e-3)\n",
    "mobile_f.compile(optimizer=optimizer, loss=\"sparse_categorical_crossentropy\", metrics=[SparseCategoricalAccuracy('acc')])\n",
    "\n",
    "print(\"Training only the classifier\")\n",
    "train_model(\n",
    "    mobile_f,\n",
    "    train_dataset,\n",
    "    val_dataset,\n",
    "    path=model_dir,\n",
    "    epochs=1,\n",
    "    verbose=1,\n",
    "    lr_patience=3,\n",
    "    val_patience=5,\n",
    ")\n",
    "\n",
    "print(\"Finetuning the model with a learning rate of 1e-5\")\n",
    "mobile_f.trainable = True\n",
    "optimizer = Adam(learning_rate=1e-5)\n",
    "mobile_f.compile(optimizer=optimizer, loss=\"sparse_categorical_crossentropy\", metrics=[SparseCategoricalAccuracy('acc')])\n",
    "\n",
    "mobile_f_history = train_model(\n",
    "    mobile_f,\n",
    "    train_dataset,\n",
    "    val_dataset,\n",
    "    path=model_dir,\n",
    "    epochs=1,\n",
    "    verbose=1,\n",
    "    lr_patience=2,\n",
    "    val_patience=2,\n",
    ").history\n",
    "\n",
    "\n",
    "print(\n",
    "    f\"Final loss: training -> {mobile_f_history['loss'][-1]:.2f}, validation -> {mobile_f_history['val_loss'][-1]:.2f}\"\n",
    ")\n",
    "print(\n",
    "    f\"Final accuracy: training -> {mobile_f_history['acc'][-1]:.2f}, validation -> {mobile_f_history['val_acc'][-1]:.2f}\"\n",
    ")\n",
    "plot_history(mobile_f_history, ['loss', 'acc'], name=f'{mobile_f.name} Model')\n",
    "test_loss, test_accuracy = mobile_f.evaluate(test_dataset, batch_size=BATCH_SIZE)\n",
    "print(\n",
    "    f\"Model evaluated: Test Loss-> {test_loss}, Test Accuracy -> {test_accuracy*100:.2f}%\"\n",
    ")\n",
    "mobile_f.summary()"
   ]
  },
  {
   "cell_type": "markdown",
   "metadata": {},
   "source": [
    "#### Xception"
   ]
  },
  {
   "cell_type": "code",
   "execution_count": 20,
   "metadata": {},
   "outputs": [
    {
     "name": "stdout",
     "output_type": "stream",
     "text": [
      "Training only the classifier\n",
      "45/45 [==============================] - 9s 137ms/step - loss: 2.3500 - acc: 0.8284 - val_loss: 0.5451 - val_acc: 0.8931 - lr: 0.0010\n",
      "Finetuning the model with a learning rate of 1e-5\n",
      "45/45 [==============================] - 33s 283ms/step - loss: 1.0016 - acc: 0.6617 - val_loss: 0.3983 - val_acc: 0.8921 - lr: 1.0000e-05\n",
      "Final loss: training -> 1.00, validation -> 0.40\n",
      "Final accuracy: training -> 0.66, validation -> 0.89\n",
      "6/6 [==============================] - 1s 46ms/step - loss: 0.3230 - acc: 0.9138\n",
      "Model evaluated: Test Loss-> 0.3230310380458832, Test Accuracy -> 91.38%\n",
      "Model: \"Xception-f\"\n",
      "_________________________________________________________________\n",
      " Layer (type)                Output Shape              Param #   \n",
      "=================================================================\n",
      " rescaling_10 (Rescaling)    multiple                  0         \n",
      "                                                                 \n",
      " xception (Functional)       (None, 3, 3, 2048)        20861480  \n",
      "                                                                 \n",
      " flatten_7 (Flatten)         multiple                  0         \n",
      "                                                                 \n",
      " dense_19 (Dense)            multiple                  18433000  \n",
      "                                                                 \n",
      " dense_20 (Dense)            multiple                  5005      \n",
      "                                                                 \n",
      "=================================================================\n",
      "Total params: 39299485 (149.92 MB)\n",
      "Trainable params: 39244957 (149.71 MB)\n",
      "Non-trainable params: 54528 (213.00 KB)\n",
      "_________________________________________________________________\n"
     ]
    }
   ],
   "source": [
    "xception_f = PretrainedModel(num_classes=5, img_size=IMG_SIZE, pretrained='xception', defreeze = 0, name='Xception-f')\n",
    "optimizer = Adam(learning_rate=1e-3)\n",
    "xception_f.compile(optimizer=optimizer, loss=\"sparse_categorical_crossentropy\", metrics=[SparseCategoricalAccuracy('acc')])\n",
    "\n",
    "print(\"Training only the classifier\")\n",
    "xception_f_history = train_model(\n",
    "    xception_f,\n",
    "    train_dataset,\n",
    "    val_dataset,\n",
    "    path=model_dir,\n",
    "    epochs=1,\n",
    "    verbose=1,\n",
    "    lr_patience=3,\n",
    "    val_patience=5,\n",
    ").history\n",
    "\n",
    "print(\"Finetuning the model with a learning rate of 1e-5\")\n",
    "xception_f.trainable = True\n",
    "optimizer = Adam(learning_rate=1e-5)\n",
    "xception_f.compile(optimizer=optimizer, loss=\"sparse_categorical_crossentropy\", metrics=[SparseCategoricalAccuracy('acc')])\n",
    "\n",
    "xception_f_history = train_model(\n",
    "    xception_f,\n",
    "    train_dataset,\n",
    "    val_dataset,\n",
    "    path=model_dir,\n",
    "    epochs=1,\n",
    "    verbose=1,\n",
    "    lr_patience=2,\n",
    "    val_patience=2,\n",
    ").history\n",
    "\n",
    "print(\n",
    "    f\"Final loss: training -> {xception_f_history['loss'][-1]:.2f}, validation -> {xception_f_history['val_loss'][-1]:.2f}\"\n",
    ")\n",
    "print(\n",
    "    f\"Final accuracy: training -> {xception_f_history['acc'][-1]:.2f}, validation -> {xception_f_history['val_acc'][-1]:.2f}\"\n",
    ")\n",
    "plot_history(xception_f_history, ['loss', 'acc'], name=f'{xception_f.name} Model')\n",
    "test_loss, test_accuracy = xception_f.evaluate(test_dataset, batch_size=BATCH_SIZE)\n",
    "print(\n",
    "    f\"Model evaluated: Test Loss-> {test_loss}, Test Accuracy -> {test_accuracy*100:.2f}%\"\n",
    ")\n",
    "xception_f.summary()"
   ]
  },
  {
   "cell_type": "markdown",
   "metadata": {},
   "source": [
    "### 3.3. Partial fine-tuning"
   ]
  },
  {
   "cell_type": "markdown",
   "metadata": {},
   "source": [
    "\n",
    "#### ResNet-50 V2"
   ]
  },
  {
   "cell_type": "code",
   "execution_count": 21,
   "metadata": {},
   "outputs": [
    {
     "name": "stdout",
     "output_type": "stream",
     "text": [
      "Epoch 1/50\n",
      "45/45 [==============================] - 25s 207ms/step - loss: 0.7919 - acc: 0.7657 - val_loss: 0.8180 - val_acc: 0.8530 - lr: 1.0000e-04\n",
      "Epoch 2/50\n",
      "45/45 [==============================] - 10s 200ms/step - loss: 0.1075 - acc: 0.9642 - val_loss: 0.4146 - val_acc: 0.8941 - lr: 1.0000e-04\n",
      "Epoch 3/50\n",
      "45/45 [==============================] - 10s 194ms/step - loss: 0.0109 - acc: 0.9980 - val_loss: 0.3967 - val_acc: 0.9109 - lr: 1.0000e-04\n",
      "Epoch 4/50\n",
      "45/45 [==============================] - 10s 196ms/step - loss: 0.0026 - acc: 0.9997 - val_loss: 0.3717 - val_acc: 0.9169 - lr: 1.0000e-04\n",
      "Epoch 5/50\n",
      "45/45 [==============================] - 8s 147ms/step - loss: 0.0014 - acc: 0.9997 - val_loss: 0.3943 - val_acc: 0.9144 - lr: 1.0000e-04\n",
      "Epoch 6/50\n",
      "45/45 [==============================] - 8s 146ms/step - loss: 0.0014 - acc: 0.9997 - val_loss: 0.3970 - val_acc: 0.9164 - lr: 1.0000e-04\n",
      "Epoch 7/50\n",
      "45/45 [==============================] - 8s 146ms/step - loss: 0.0017 - acc: 0.9997 - val_loss: 0.4094 - val_acc: 0.9179 - lr: 1.0000e-04\n",
      "Epoch 8/50\n",
      "45/45 [==============================] - 8s 146ms/step - loss: 0.0015 - acc: 0.9997 - val_loss: 0.4060 - val_acc: 0.9189 - lr: 1.0000e-04\n",
      "Epoch 9/50\n",
      "45/45 [==============================] - 8s 146ms/step - loss: 8.3934e-04 - acc: 0.9998 - val_loss: 0.4083 - val_acc: 0.9169 - lr: 1.0000e-04\n",
      "Epoch 10/50\n",
      "45/45 [==============================] - 8s 146ms/step - loss: 6.3734e-04 - acc: 0.9998 - val_loss: 0.4004 - val_acc: 0.9169 - lr: 2.0000e-05\n",
      "Epoch 11/50\n",
      "45/45 [==============================] - 8s 146ms/step - loss: 5.8380e-04 - acc: 0.9998 - val_loss: 0.3985 - val_acc: 0.9169 - lr: 2.0000e-05\n",
      "Epoch 12/50\n",
      "45/45 [==============================] - 8s 146ms/step - loss: 5.3177e-04 - acc: 0.9997 - val_loss: 0.3969 - val_acc: 0.9189 - lr: 2.0000e-05\n",
      "Epoch 13/50\n",
      "45/45 [==============================] - 8s 146ms/step - loss: 4.9120e-04 - acc: 0.9997 - val_loss: 0.3973 - val_acc: 0.9189 - lr: 2.0000e-05\n",
      "Epoch 14/50\n",
      "45/45 [==============================] - 8s 147ms/step - loss: 4.2444e-04 - acc: 0.9997 - val_loss: 0.3988 - val_acc: 0.9193 - lr: 2.0000e-05\n",
      "Final loss: training -> 0.00, validation -> 0.40\n",
      "Final accuracy: training -> 1.00, validation -> 0.92\n",
      "6/6 [==============================] - 1s 44ms/step - loss: 0.2973 - acc: 0.9238\n",
      "Model evaluated: Test Loss-> 0.2973189949989319, Test Accuracy -> 92.38%\n",
      "Model: \"ResNet-d\"\n",
      "_________________________________________________________________\n",
      " Layer (type)                Output Shape              Param #   \n",
      "=================================================================\n",
      " rescaling_11 (Rescaling)    multiple                  0         \n",
      "                                                                 \n",
      " resnet50v2 (Functional)     (None, 4, 4, 2048)        23564800  \n",
      "                                                                 \n",
      " flatten_8 (Flatten)         multiple                  0         \n",
      "                                                                 \n",
      " dense_21 (Dense)            multiple                  32769000  \n",
      "                                                                 \n",
      " dense_22 (Dense)            multiple                  5005      \n",
      "                                                                 \n",
      "=================================================================\n",
      "Total params: 56338805 (214.92 MB)\n",
      "Trainable params: 52877301 (201.71 MB)\n",
      "Non-trainable params: 3461504 (13.20 MB)\n",
      "_________________________________________________________________\n"
     ]
    }
   ],
   "source": [
    "resnet_d = PretrainedModel(num_classes=5, img_size=IMG_SIZE, pretrained='resnet', defreeze = 10, name='ResNet-d')\n",
    "optimizer = Adam(learning_rate=1e-4)\n",
    "resnet_d.compile(optimizer=optimizer, loss=\"sparse_categorical_crossentropy\", metrics=[SparseCategoricalAccuracy('acc')])\n",
    "resnet_d_history = train_model(\n",
    "    resnet_d,\n",
    "    train_dataset,\n",
    "    val_dataset,\n",
    "    path=model_dir,\n",
    "    epochs=50,\n",
    "    verbose=1,\n",
    "    lr_patience=5,\n",
    "    val_patience=10\n",
    ").history\n",
    "print(\n",
    "    f\"Final loss: training -> {resnet_d_history['loss'][-1]:.2f}, validation -> {resnet_d_history['val_loss'][-1]:.2f}\"\n",
    ")\n",
    "print(\n",
    "    f\"Final accuracy: training -> {resnet_d_history['acc'][-1]:.2f}, validation -> {resnet_d_history['val_acc'][-1]:.2f}\"\n",
    ")\n",
    "plot_history(resnet_d_history, ['loss', 'acc'], name=f'{resnet_d.name} Model')\n",
    "test_loss, test_accuracy = resnet_d.evaluate(test_dataset, batch_size=BATCH_SIZE)\n",
    "print(\n",
    "    f\"Model evaluated: Test Loss-> {test_loss}, Test Accuracy -> {test_accuracy*100:.2f}%\"\n",
    ")\n",
    "resnet_d.summary()"
   ]
  },
  {
   "cell_type": "markdown",
   "metadata": {},
   "source": [
    "#### MobileNet V2"
   ]
  },
  {
   "cell_type": "code",
   "execution_count": 22,
   "metadata": {},
   "outputs": [
    {
     "name": "stdout",
     "output_type": "stream",
     "text": [
      "Epoch 1/50\n",
      "45/45 [==============================] - 20s 144ms/step - loss: 1.1305 - acc: 0.7813 - val_loss: 0.6670 - val_acc: 0.8234 - lr: 1.0000e-04\n",
      "Epoch 2/50\n",
      "45/45 [==============================] - 7s 132ms/step - loss: 0.1435 - acc: 0.9480 - val_loss: 0.6097 - val_acc: 0.8565 - lr: 1.0000e-04\n",
      "Epoch 3/50\n",
      "45/45 [==============================] - 6s 107ms/step - loss: 0.0557 - acc: 0.9843 - val_loss: 0.7968 - val_acc: 0.8476 - lr: 1.0000e-04\n",
      "Epoch 4/50\n",
      "45/45 [==============================] - 6s 107ms/step - loss: 0.0225 - acc: 0.9955 - val_loss: 0.6203 - val_acc: 0.8783 - lr: 1.0000e-04\n",
      "Epoch 5/50\n",
      "45/45 [==============================] - 6s 106ms/step - loss: 0.0089 - acc: 0.9992 - val_loss: 0.7670 - val_acc: 0.8639 - lr: 1.0000e-04\n",
      "Epoch 6/50\n",
      "45/45 [==============================] - 6s 107ms/step - loss: 0.0041 - acc: 0.9998 - val_loss: 0.7825 - val_acc: 0.8718 - lr: 1.0000e-04\n",
      "Epoch 7/50\n",
      "45/45 [==============================] - 6s 106ms/step - loss: 0.0030 - acc: 0.9997 - val_loss: 0.7491 - val_acc: 0.8763 - lr: 1.0000e-04\n",
      "Epoch 8/50\n",
      "45/45 [==============================] - 6s 106ms/step - loss: 0.0026 - acc: 0.9998 - val_loss: 0.7127 - val_acc: 0.8808 - lr: 2.0000e-05\n",
      "Epoch 9/50\n",
      "45/45 [==============================] - 6s 107ms/step - loss: 0.0021 - acc: 0.9998 - val_loss: 0.6718 - val_acc: 0.8887 - lr: 2.0000e-05\n",
      "Epoch 10/50\n",
      "45/45 [==============================] - 6s 107ms/step - loss: 0.0019 - acc: 0.9996 - val_loss: 0.6404 - val_acc: 0.8941 - lr: 2.0000e-05\n",
      "Epoch 11/50\n",
      "45/45 [==============================] - 6s 106ms/step - loss: 0.0016 - acc: 0.9997 - val_loss: 0.6392 - val_acc: 0.8941 - lr: 2.0000e-05\n",
      "Epoch 12/50\n",
      "45/45 [==============================] - 6s 106ms/step - loss: 0.0015 - acc: 0.9997 - val_loss: 0.6265 - val_acc: 0.8951 - lr: 2.0000e-05\n",
      "Final loss: training -> 0.00, validation -> 0.63\n",
      "Final accuracy: training -> 1.00, validation -> 0.90\n",
      "6/6 [==============================] - 0s 24ms/step - loss: 0.4358 - acc: 0.9232\n",
      "Model evaluated: Test Loss-> 0.43583810329437256, Test Accuracy -> 92.32%\n",
      "Model: \"Mobile-d\"\n",
      "_________________________________________________________________\n",
      " Layer (type)                Output Shape              Param #   \n",
      "=================================================================\n",
      " rescaling_12 (Rescaling)    multiple                  0         \n",
      "                                                                 \n",
      " mobilenetv2_1.00_224 (Func  (None, 4, 4, 1280)        2257984   \n",
      " tional)                                                         \n",
      "                                                                 \n",
      " flatten_9 (Flatten)         multiple                  0         \n",
      "                                                                 \n",
      " dense_23 (Dense)            multiple                  20481000  \n",
      "                                                                 \n",
      " dense_24 (Dense)            multiple                  5005      \n",
      "                                                                 \n",
      "=================================================================\n",
      "Total params: 22743989 (86.76 MB)\n",
      "Trainable params: 21977397 (83.84 MB)\n",
      "Non-trainable params: 766592 (2.92 MB)\n",
      "_________________________________________________________________\n"
     ]
    }
   ],
   "source": [
    "mobile_d = PretrainedModel(num_classes=5, img_size=IMG_SIZE, pretrained='mobile', defreeze = 10, name='Mobile-d')\n",
    "optimizer = Adam(learning_rate=1e-4)\n",
    "mobile_d.compile(optimizer=optimizer, loss=\"sparse_categorical_crossentropy\", metrics=[SparseCategoricalAccuracy('acc')])\n",
    "mobile_d_history = train_model(\n",
    "    mobile_d,\n",
    "    train_dataset,\n",
    "    val_dataset,\n",
    "    path=model_dir,\n",
    "    epochs=50,\n",
    "    verbose=1,\n",
    "    lr_patience=5,\n",
    "    val_patience=10\n",
    ").history\n",
    "print(\n",
    "    f\"Final loss: training -> {mobile_d_history['loss'][-1]:.2f}, validation -> {mobile_d_history['val_loss'][-1]:.2f}\"\n",
    ")\n",
    "print(\n",
    "    f\"Final accuracy: training -> {mobile_d_history['acc'][-1]:.2f}, validation -> {mobile_d_history['val_acc'][-1]:.2f}\"\n",
    ")\n",
    "plot_history(mobile_d_history, ['loss', 'acc'], name=f'{mobile_d.name} Model')\n",
    "test_loss, test_accuracy = mobile_d.evaluate(test_dataset, batch_size=BATCH_SIZE)\n",
    "print(\n",
    "    f\"Model evaluated: Test Loss-> {test_loss}, Test Accuracy -> {test_accuracy*100:.2f}%\"\n",
    ")\n",
    "mobile_d.summary()"
   ]
  },
  {
   "cell_type": "markdown",
   "metadata": {},
   "source": [
    "#### Xception"
   ]
  },
  {
   "cell_type": "code",
   "execution_count": 23,
   "metadata": {},
   "outputs": [
    {
     "name": "stdout",
     "output_type": "stream",
     "text": [
      "Epoch 1/50\n",
      "45/45 [==============================] - 23s 204ms/step - loss: 1.6461 - acc: 0.5819 - val_loss: 0.9381 - val_acc: 0.6967 - lr: 1.0000e-04\n",
      "Epoch 2/50\n",
      "45/45 [==============================] - 10s 194ms/step - loss: 0.4874 - acc: 0.8050 - val_loss: 0.3475 - val_acc: 0.8803 - lr: 1.0000e-04\n",
      "Epoch 3/50\n",
      "45/45 [==============================] - 10s 193ms/step - loss: 0.1530 - acc: 0.9458 - val_loss: 0.2266 - val_acc: 0.9317 - lr: 1.0000e-04\n",
      "Epoch 4/50\n",
      "45/45 [==============================] - 10s 193ms/step - loss: 0.0458 - acc: 0.9854 - val_loss: 0.1971 - val_acc: 0.9372 - lr: 1.0000e-04\n",
      "Epoch 5/50\n",
      "45/45 [==============================] - 8s 159ms/step - loss: 0.0140 - acc: 0.9964 - val_loss: 0.2218 - val_acc: 0.9396 - lr: 1.0000e-04\n",
      "Epoch 6/50\n",
      "45/45 [==============================] - 8s 159ms/step - loss: 0.0058 - acc: 0.9986 - val_loss: 0.2332 - val_acc: 0.9436 - lr: 1.0000e-04\n",
      "Epoch 7/50\n",
      "45/45 [==============================] - 8s 162ms/step - loss: 0.0025 - acc: 0.9993 - val_loss: 0.2544 - val_acc: 0.9446 - lr: 1.0000e-04\n",
      "Epoch 8/50\n",
      "45/45 [==============================] - 8s 162ms/step - loss: 0.0017 - acc: 0.9994 - val_loss: 0.2698 - val_acc: 0.9441 - lr: 1.0000e-04\n",
      "Epoch 9/50\n",
      "45/45 [==============================] - 8s 159ms/step - loss: 0.0011 - acc: 0.9997 - val_loss: 0.2708 - val_acc: 0.9431 - lr: 1.0000e-04\n",
      "Epoch 10/50\n",
      "45/45 [==============================] - 8s 159ms/step - loss: 7.6551e-04 - acc: 0.9998 - val_loss: 0.2760 - val_acc: 0.9426 - lr: 2.0000e-05\n",
      "Epoch 11/50\n",
      "45/45 [==============================] - 8s 159ms/step - loss: 6.1028e-04 - acc: 0.9998 - val_loss: 0.2808 - val_acc: 0.9416 - lr: 2.0000e-05\n",
      "Epoch 12/50\n",
      "45/45 [==============================] - 8s 159ms/step - loss: 6.5571e-04 - acc: 0.9998 - val_loss: 0.2843 - val_acc: 0.9411 - lr: 2.0000e-05\n",
      "Epoch 13/50\n",
      "45/45 [==============================] - 8s 159ms/step - loss: 5.4391e-04 - acc: 0.9997 - val_loss: 0.2871 - val_acc: 0.9401 - lr: 2.0000e-05\n",
      "Epoch 14/50\n",
      "45/45 [==============================] - 8s 159ms/step - loss: 6.2145e-04 - acc: 0.9997 - val_loss: 0.2898 - val_acc: 0.9406 - lr: 2.0000e-05\n",
      "Final loss: training -> 0.00, validation -> 0.29\n",
      "Final accuracy: training -> 1.00, validation -> 0.94\n",
      "6/6 [==============================] - 1s 47ms/step - loss: 0.2525 - acc: 0.9512\n",
      "Model evaluated: Test Loss-> 0.2525317072868347, Test Accuracy -> 95.12%\n",
      "Model: \"Xception-d\"\n",
      "_________________________________________________________________\n",
      " Layer (type)                Output Shape              Param #   \n",
      "=================================================================\n",
      " rescaling_13 (Rescaling)    multiple                  0         \n",
      "                                                                 \n",
      " xception (Functional)       (None, 3, 3, 2048)        20861480  \n",
      "                                                                 \n",
      " flatten_10 (Flatten)        multiple                  0         \n",
      "                                                                 \n",
      " dense_25 (Dense)            multiple                  18433000  \n",
      "                                                                 \n",
      " dense_26 (Dense)            multiple                  5005      \n",
      "                                                                 \n",
      "=================================================================\n",
      "Total params: 39299485 (149.92 MB)\n",
      "Trainable params: 33748637 (128.74 MB)\n",
      "Non-trainable params: 5550848 (21.17 MB)\n",
      "_________________________________________________________________\n"
     ]
    }
   ],
   "source": [
    "xception_d = PretrainedModel(num_classes=5, img_size=IMG_SIZE, pretrained='xception', defreeze = 10, name='Xception-d')\n",
    "optimizer = Adam(learning_rate=1e-4)\n",
    "xception_d.compile(optimizer=optimizer, loss=\"sparse_categorical_crossentropy\", metrics=[SparseCategoricalAccuracy('acc')])\n",
    "xception_d_history = train_model(\n",
    "    xception_d,\n",
    "    train_dataset,\n",
    "    val_dataset,\n",
    "    path=model_dir,\n",
    "    epochs=50,\n",
    "    verbose=1,\n",
    "    lr_patience=5,\n",
    "    val_patience=10\n",
    ").history\n",
    "print(\n",
    "    f\"Final loss: training -> {xception_d_history['loss'][-1]:.2f}, validation -> {xception_d_history['val_loss'][-1]:.2f}\"\n",
    ")\n",
    "print(\n",
    "    f\"Final accuracy: training -> {xception_d_history['acc'][-1]:.2f}, validation -> {xception_d_history['val_acc'][-1]:.2f}\"\n",
    ")\n",
    "plot_history(xception_d_history, ['loss', 'acc'], name=f'{xception_d.name} Model')\n",
    "test_loss, test_accuracy = xception_d.evaluate(test_dataset, batch_size=BATCH_SIZE)\n",
    "print(\n",
    "    f\"Model evaluated: Test Loss-> {test_loss}, Test Accuracy -> {test_accuracy*100:.2f}%\"\n",
    ")\n",
    "xception_d.summary()"
   ]
  },
  {
   "cell_type": "markdown",
   "metadata": {},
   "source": [
    "### 3.4. Comparison between pretrained approaches \n",
    "\n",
    "The next figure shows the train and test performance of each pretrained model with the number of trainable parameters. We have abbreviated the names with the first character and a suffix indicating the transfer-learning (t), finetuning (f) and partial-finetuning (d) approaches."
   ]
  },
  {
   "cell_type": "code",
   "execution_count": 46,
   "metadata": {},
   "outputs": [
    {
     "data": {
      "application/vnd.plotly.v1+json": {
       "config": {
        "plotlyServerURL": "https://plot.ly"
       },
       "data": [
        {
         "marker": {
          "color": "#1F77B4",
          "size": 12,
          "symbol": "circle"
         },
         "mode": "markers+text",
         "name": "train",
         "text": [
          "X-t",
          "M-t",
          "M-d",
          "M-f",
          "R-t",
          "X-d",
          "X-f",
          "R-d",
          "R-f"
         ],
         "textposition": "top center",
         "type": "scatter",
         "x": [
          18438005,
          20486005,
          21977397,
          22709877,
          32774005,
          33748637,
          39244957,
          52877301,
          56293365
         ],
         "xaxis": "x",
         "y": [
          0.9990395307540894,
          0.9998253583908081,
          0.9109403491020203,
          0.9372217059135437,
          0.9998253583908081,
          0.9998253583908081,
          0.9072732329368591,
          0.9998253583908081,
          0.9075351357460022
         ],
         "yaxis": "y"
        },
        {
         "marker": {
          "color": "#FF7F0E",
          "size": 12,
          "symbol": "square"
         },
         "mode": "markers+text",
         "name": "test",
         "text": [
          "X-t",
          "M-t",
          "M-d",
          "M-f",
          "R-t",
          "X-d",
          "X-f",
          "R-d",
          "R-f"
         ],
         "textposition": "top center",
         "type": "scatter",
         "x": [
          18438005,
          20486005,
          21977397,
          22709877,
          32774005,
          33748637,
          39244957,
          52877301,
          56293365
         ],
         "xaxis": "x",
         "y": [
          0.9238001108169556,
          0.9455714821815491,
          0.8951014280319214,
          0.9193468689918518,
          0.914893627166748,
          0.9406234622001648,
          0.892132580280304,
          0.9193468689918518,
          0.8787729144096375
         ],
         "yaxis": "y"
        },
        {
         "marker": {
          "color": "#2CA02C",
          "size": 12,
          "symbol": "diamond"
         },
         "mode": "markers+text",
         "name": "difference",
         "text": [
          "X-t",
          "M-t",
          "M-d",
          "M-f",
          "R-t",
          "X-d",
          "X-f",
          "R-d",
          "R-f"
         ],
         "textposition": "top center",
         "type": "scatter",
         "x": [
          18438005,
          20486005,
          21977397,
          22709877,
          32774005,
          33748637,
          39244957,
          52877301,
          56293365
         ],
         "xaxis": "x2",
         "y": [
          0.07523941993713379,
          0.05425387620925903,
          0.015838921070098877,
          0.017874836921691895,
          0.08493173122406006,
          0.05920189619064331,
          0.015140652656555176,
          0.0804784893989563,
          0.028762221336364746
         ],
         "yaxis": "y2"
        }
       ],
       "layout": {
        "annotations": [
         {
          "font": {
           "size": 16
          },
          "showarrow": false,
          "text": "Pretrained models accuracy",
          "x": 0.225,
          "xanchor": "center",
          "xref": "paper",
          "y": 1,
          "yanchor": "bottom",
          "yref": "paper"
         },
         {
          "font": {
           "size": 16
          },
          "showarrow": false,
          "text": "Overfitting comparison",
          "x": 0.775,
          "xanchor": "center",
          "xref": "paper",
          "y": 1,
          "yanchor": "bottom",
          "yref": "paper"
         }
        ],
        "height": 500,
        "margin": {
         "b": 10,
         "l": 0,
         "r": 0,
         "t": 30
        },
        "template": {
         "data": {
          "bar": [
           {
            "error_x": {
             "color": "rgb(36,36,36)"
            },
            "error_y": {
             "color": "rgb(36,36,36)"
            },
            "marker": {
             "line": {
              "color": "rgb(234,234,242)",
              "width": 0.5
             },
             "pattern": {
              "fillmode": "overlay",
              "size": 10,
              "solidity": 0.2
             }
            },
            "type": "bar"
           }
          ],
          "barpolar": [
           {
            "marker": {
             "line": {
              "color": "rgb(234,234,242)",
              "width": 0.5
             },
             "pattern": {
              "fillmode": "overlay",
              "size": 10,
              "solidity": 0.2
             }
            },
            "type": "barpolar"
           }
          ],
          "carpet": [
           {
            "aaxis": {
             "endlinecolor": "rgb(36,36,36)",
             "gridcolor": "white",
             "linecolor": "white",
             "minorgridcolor": "white",
             "startlinecolor": "rgb(36,36,36)"
            },
            "baxis": {
             "endlinecolor": "rgb(36,36,36)",
             "gridcolor": "white",
             "linecolor": "white",
             "minorgridcolor": "white",
             "startlinecolor": "rgb(36,36,36)"
            },
            "type": "carpet"
           }
          ],
          "choropleth": [
           {
            "colorbar": {
             "outlinewidth": 0,
             "tickcolor": "rgb(36,36,36)",
             "ticklen": 8,
             "ticks": "outside",
             "tickwidth": 2
            },
            "type": "choropleth"
           }
          ],
          "contour": [
           {
            "colorbar": {
             "outlinewidth": 0,
             "tickcolor": "rgb(36,36,36)",
             "ticklen": 8,
             "ticks": "outside",
             "tickwidth": 2
            },
            "colorscale": [
             [
              0,
              "rgb(2,4,25)"
             ],
             [
              0.06274509803921569,
              "rgb(24,15,41)"
             ],
             [
              0.12549019607843137,
              "rgb(47,23,57)"
             ],
             [
              0.18823529411764706,
              "rgb(71,28,72)"
             ],
             [
              0.25098039215686274,
              "rgb(97,30,82)"
             ],
             [
              0.3137254901960784,
              "rgb(123,30,89)"
             ],
             [
              0.3764705882352941,
              "rgb(150,27,91)"
             ],
             [
              0.4392156862745098,
              "rgb(177,22,88)"
             ],
             [
              0.5019607843137255,
              "rgb(203,26,79)"
             ],
             [
              0.5647058823529412,
              "rgb(223,47,67)"
             ],
             [
              0.6274509803921569,
              "rgb(236,76,61)"
             ],
             [
              0.6901960784313725,
              "rgb(242,107,73)"
             ],
             [
              0.7529411764705882,
              "rgb(244,135,95)"
             ],
             [
              0.8156862745098039,
              "rgb(245,162,122)"
             ],
             [
              0.8784313725490196,
              "rgb(246,188,153)"
             ],
             [
              0.9411764705882353,
              "rgb(247,212,187)"
             ],
             [
              1,
              "rgb(250,234,220)"
             ]
            ],
            "type": "contour"
           }
          ],
          "contourcarpet": [
           {
            "colorbar": {
             "outlinewidth": 0,
             "tickcolor": "rgb(36,36,36)",
             "ticklen": 8,
             "ticks": "outside",
             "tickwidth": 2
            },
            "type": "contourcarpet"
           }
          ],
          "heatmap": [
           {
            "colorbar": {
             "outlinewidth": 0,
             "tickcolor": "rgb(36,36,36)",
             "ticklen": 8,
             "ticks": "outside",
             "tickwidth": 2
            },
            "colorscale": [
             [
              0,
              "rgb(2,4,25)"
             ],
             [
              0.06274509803921569,
              "rgb(24,15,41)"
             ],
             [
              0.12549019607843137,
              "rgb(47,23,57)"
             ],
             [
              0.18823529411764706,
              "rgb(71,28,72)"
             ],
             [
              0.25098039215686274,
              "rgb(97,30,82)"
             ],
             [
              0.3137254901960784,
              "rgb(123,30,89)"
             ],
             [
              0.3764705882352941,
              "rgb(150,27,91)"
             ],
             [
              0.4392156862745098,
              "rgb(177,22,88)"
             ],
             [
              0.5019607843137255,
              "rgb(203,26,79)"
             ],
             [
              0.5647058823529412,
              "rgb(223,47,67)"
             ],
             [
              0.6274509803921569,
              "rgb(236,76,61)"
             ],
             [
              0.6901960784313725,
              "rgb(242,107,73)"
             ],
             [
              0.7529411764705882,
              "rgb(244,135,95)"
             ],
             [
              0.8156862745098039,
              "rgb(245,162,122)"
             ],
             [
              0.8784313725490196,
              "rgb(246,188,153)"
             ],
             [
              0.9411764705882353,
              "rgb(247,212,187)"
             ],
             [
              1,
              "rgb(250,234,220)"
             ]
            ],
            "type": "heatmap"
           }
          ],
          "heatmapgl": [
           {
            "colorbar": {
             "outlinewidth": 0,
             "tickcolor": "rgb(36,36,36)",
             "ticklen": 8,
             "ticks": "outside",
             "tickwidth": 2
            },
            "colorscale": [
             [
              0,
              "rgb(2,4,25)"
             ],
             [
              0.06274509803921569,
              "rgb(24,15,41)"
             ],
             [
              0.12549019607843137,
              "rgb(47,23,57)"
             ],
             [
              0.18823529411764706,
              "rgb(71,28,72)"
             ],
             [
              0.25098039215686274,
              "rgb(97,30,82)"
             ],
             [
              0.3137254901960784,
              "rgb(123,30,89)"
             ],
             [
              0.3764705882352941,
              "rgb(150,27,91)"
             ],
             [
              0.4392156862745098,
              "rgb(177,22,88)"
             ],
             [
              0.5019607843137255,
              "rgb(203,26,79)"
             ],
             [
              0.5647058823529412,
              "rgb(223,47,67)"
             ],
             [
              0.6274509803921569,
              "rgb(236,76,61)"
             ],
             [
              0.6901960784313725,
              "rgb(242,107,73)"
             ],
             [
              0.7529411764705882,
              "rgb(244,135,95)"
             ],
             [
              0.8156862745098039,
              "rgb(245,162,122)"
             ],
             [
              0.8784313725490196,
              "rgb(246,188,153)"
             ],
             [
              0.9411764705882353,
              "rgb(247,212,187)"
             ],
             [
              1,
              "rgb(250,234,220)"
             ]
            ],
            "type": "heatmapgl"
           }
          ],
          "histogram": [
           {
            "marker": {
             "pattern": {
              "fillmode": "overlay",
              "size": 10,
              "solidity": 0.2
             }
            },
            "type": "histogram"
           }
          ],
          "histogram2d": [
           {
            "colorbar": {
             "outlinewidth": 0,
             "tickcolor": "rgb(36,36,36)",
             "ticklen": 8,
             "ticks": "outside",
             "tickwidth": 2
            },
            "colorscale": [
             [
              0,
              "rgb(2,4,25)"
             ],
             [
              0.06274509803921569,
              "rgb(24,15,41)"
             ],
             [
              0.12549019607843137,
              "rgb(47,23,57)"
             ],
             [
              0.18823529411764706,
              "rgb(71,28,72)"
             ],
             [
              0.25098039215686274,
              "rgb(97,30,82)"
             ],
             [
              0.3137254901960784,
              "rgb(123,30,89)"
             ],
             [
              0.3764705882352941,
              "rgb(150,27,91)"
             ],
             [
              0.4392156862745098,
              "rgb(177,22,88)"
             ],
             [
              0.5019607843137255,
              "rgb(203,26,79)"
             ],
             [
              0.5647058823529412,
              "rgb(223,47,67)"
             ],
             [
              0.6274509803921569,
              "rgb(236,76,61)"
             ],
             [
              0.6901960784313725,
              "rgb(242,107,73)"
             ],
             [
              0.7529411764705882,
              "rgb(244,135,95)"
             ],
             [
              0.8156862745098039,
              "rgb(245,162,122)"
             ],
             [
              0.8784313725490196,
              "rgb(246,188,153)"
             ],
             [
              0.9411764705882353,
              "rgb(247,212,187)"
             ],
             [
              1,
              "rgb(250,234,220)"
             ]
            ],
            "type": "histogram2d"
           }
          ],
          "histogram2dcontour": [
           {
            "colorbar": {
             "outlinewidth": 0,
             "tickcolor": "rgb(36,36,36)",
             "ticklen": 8,
             "ticks": "outside",
             "tickwidth": 2
            },
            "colorscale": [
             [
              0,
              "rgb(2,4,25)"
             ],
             [
              0.06274509803921569,
              "rgb(24,15,41)"
             ],
             [
              0.12549019607843137,
              "rgb(47,23,57)"
             ],
             [
              0.18823529411764706,
              "rgb(71,28,72)"
             ],
             [
              0.25098039215686274,
              "rgb(97,30,82)"
             ],
             [
              0.3137254901960784,
              "rgb(123,30,89)"
             ],
             [
              0.3764705882352941,
              "rgb(150,27,91)"
             ],
             [
              0.4392156862745098,
              "rgb(177,22,88)"
             ],
             [
              0.5019607843137255,
              "rgb(203,26,79)"
             ],
             [
              0.5647058823529412,
              "rgb(223,47,67)"
             ],
             [
              0.6274509803921569,
              "rgb(236,76,61)"
             ],
             [
              0.6901960784313725,
              "rgb(242,107,73)"
             ],
             [
              0.7529411764705882,
              "rgb(244,135,95)"
             ],
             [
              0.8156862745098039,
              "rgb(245,162,122)"
             ],
             [
              0.8784313725490196,
              "rgb(246,188,153)"
             ],
             [
              0.9411764705882353,
              "rgb(247,212,187)"
             ],
             [
              1,
              "rgb(250,234,220)"
             ]
            ],
            "type": "histogram2dcontour"
           }
          ],
          "mesh3d": [
           {
            "colorbar": {
             "outlinewidth": 0,
             "tickcolor": "rgb(36,36,36)",
             "ticklen": 8,
             "ticks": "outside",
             "tickwidth": 2
            },
            "type": "mesh3d"
           }
          ],
          "parcoords": [
           {
            "line": {
             "colorbar": {
              "outlinewidth": 0,
              "tickcolor": "rgb(36,36,36)",
              "ticklen": 8,
              "ticks": "outside",
              "tickwidth": 2
             }
            },
            "type": "parcoords"
           }
          ],
          "pie": [
           {
            "automargin": true,
            "type": "pie"
           }
          ],
          "scatter": [
           {
            "fillpattern": {
             "fillmode": "overlay",
             "size": 10,
             "solidity": 0.2
            },
            "type": "scatter"
           }
          ],
          "scatter3d": [
           {
            "line": {
             "colorbar": {
              "outlinewidth": 0,
              "tickcolor": "rgb(36,36,36)",
              "ticklen": 8,
              "ticks": "outside",
              "tickwidth": 2
             }
            },
            "marker": {
             "colorbar": {
              "outlinewidth": 0,
              "tickcolor": "rgb(36,36,36)",
              "ticklen": 8,
              "ticks": "outside",
              "tickwidth": 2
             }
            },
            "type": "scatter3d"
           }
          ],
          "scattercarpet": [
           {
            "marker": {
             "colorbar": {
              "outlinewidth": 0,
              "tickcolor": "rgb(36,36,36)",
              "ticklen": 8,
              "ticks": "outside",
              "tickwidth": 2
             }
            },
            "type": "scattercarpet"
           }
          ],
          "scattergeo": [
           {
            "marker": {
             "colorbar": {
              "outlinewidth": 0,
              "tickcolor": "rgb(36,36,36)",
              "ticklen": 8,
              "ticks": "outside",
              "tickwidth": 2
             }
            },
            "type": "scattergeo"
           }
          ],
          "scattergl": [
           {
            "marker": {
             "colorbar": {
              "outlinewidth": 0,
              "tickcolor": "rgb(36,36,36)",
              "ticklen": 8,
              "ticks": "outside",
              "tickwidth": 2
             }
            },
            "type": "scattergl"
           }
          ],
          "scattermapbox": [
           {
            "marker": {
             "colorbar": {
              "outlinewidth": 0,
              "tickcolor": "rgb(36,36,36)",
              "ticklen": 8,
              "ticks": "outside",
              "tickwidth": 2
             }
            },
            "type": "scattermapbox"
           }
          ],
          "scatterpolar": [
           {
            "marker": {
             "colorbar": {
              "outlinewidth": 0,
              "tickcolor": "rgb(36,36,36)",
              "ticklen": 8,
              "ticks": "outside",
              "tickwidth": 2
             }
            },
            "type": "scatterpolar"
           }
          ],
          "scatterpolargl": [
           {
            "marker": {
             "colorbar": {
              "outlinewidth": 0,
              "tickcolor": "rgb(36,36,36)",
              "ticklen": 8,
              "ticks": "outside",
              "tickwidth": 2
             }
            },
            "type": "scatterpolargl"
           }
          ],
          "scatterternary": [
           {
            "marker": {
             "colorbar": {
              "outlinewidth": 0,
              "tickcolor": "rgb(36,36,36)",
              "ticklen": 8,
              "ticks": "outside",
              "tickwidth": 2
             }
            },
            "type": "scatterternary"
           }
          ],
          "surface": [
           {
            "colorbar": {
             "outlinewidth": 0,
             "tickcolor": "rgb(36,36,36)",
             "ticklen": 8,
             "ticks": "outside",
             "tickwidth": 2
            },
            "colorscale": [
             [
              0,
              "rgb(2,4,25)"
             ],
             [
              0.06274509803921569,
              "rgb(24,15,41)"
             ],
             [
              0.12549019607843137,
              "rgb(47,23,57)"
             ],
             [
              0.18823529411764706,
              "rgb(71,28,72)"
             ],
             [
              0.25098039215686274,
              "rgb(97,30,82)"
             ],
             [
              0.3137254901960784,
              "rgb(123,30,89)"
             ],
             [
              0.3764705882352941,
              "rgb(150,27,91)"
             ],
             [
              0.4392156862745098,
              "rgb(177,22,88)"
             ],
             [
              0.5019607843137255,
              "rgb(203,26,79)"
             ],
             [
              0.5647058823529412,
              "rgb(223,47,67)"
             ],
             [
              0.6274509803921569,
              "rgb(236,76,61)"
             ],
             [
              0.6901960784313725,
              "rgb(242,107,73)"
             ],
             [
              0.7529411764705882,
              "rgb(244,135,95)"
             ],
             [
              0.8156862745098039,
              "rgb(245,162,122)"
             ],
             [
              0.8784313725490196,
              "rgb(246,188,153)"
             ],
             [
              0.9411764705882353,
              "rgb(247,212,187)"
             ],
             [
              1,
              "rgb(250,234,220)"
             ]
            ],
            "type": "surface"
           }
          ],
          "table": [
           {
            "cells": {
             "fill": {
              "color": "rgb(231,231,240)"
             },
             "line": {
              "color": "white"
             }
            },
            "header": {
             "fill": {
              "color": "rgb(183,183,191)"
             },
             "line": {
              "color": "white"
             }
            },
            "type": "table"
           }
          ]
         },
         "layout": {
          "annotationdefaults": {
           "arrowcolor": "rgb(67,103,167)"
          },
          "autotypenumbers": "strict",
          "coloraxis": {
           "colorbar": {
            "outlinewidth": 0,
            "tickcolor": "rgb(36,36,36)",
            "ticklen": 8,
            "ticks": "outside",
            "tickwidth": 2
           }
          },
          "colorscale": {
           "sequential": [
            [
             0,
             "rgb(2,4,25)"
            ],
            [
             0.06274509803921569,
             "rgb(24,15,41)"
            ],
            [
             0.12549019607843137,
             "rgb(47,23,57)"
            ],
            [
             0.18823529411764706,
             "rgb(71,28,72)"
            ],
            [
             0.25098039215686274,
             "rgb(97,30,82)"
            ],
            [
             0.3137254901960784,
             "rgb(123,30,89)"
            ],
            [
             0.3764705882352941,
             "rgb(150,27,91)"
            ],
            [
             0.4392156862745098,
             "rgb(177,22,88)"
            ],
            [
             0.5019607843137255,
             "rgb(203,26,79)"
            ],
            [
             0.5647058823529412,
             "rgb(223,47,67)"
            ],
            [
             0.6274509803921569,
             "rgb(236,76,61)"
            ],
            [
             0.6901960784313725,
             "rgb(242,107,73)"
            ],
            [
             0.7529411764705882,
             "rgb(244,135,95)"
            ],
            [
             0.8156862745098039,
             "rgb(245,162,122)"
            ],
            [
             0.8784313725490196,
             "rgb(246,188,153)"
            ],
            [
             0.9411764705882353,
             "rgb(247,212,187)"
            ],
            [
             1,
             "rgb(250,234,220)"
            ]
           ],
           "sequentialminus": [
            [
             0,
             "rgb(2,4,25)"
            ],
            [
             0.06274509803921569,
             "rgb(24,15,41)"
            ],
            [
             0.12549019607843137,
             "rgb(47,23,57)"
            ],
            [
             0.18823529411764706,
             "rgb(71,28,72)"
            ],
            [
             0.25098039215686274,
             "rgb(97,30,82)"
            ],
            [
             0.3137254901960784,
             "rgb(123,30,89)"
            ],
            [
             0.3764705882352941,
             "rgb(150,27,91)"
            ],
            [
             0.4392156862745098,
             "rgb(177,22,88)"
            ],
            [
             0.5019607843137255,
             "rgb(203,26,79)"
            ],
            [
             0.5647058823529412,
             "rgb(223,47,67)"
            ],
            [
             0.6274509803921569,
             "rgb(236,76,61)"
            ],
            [
             0.6901960784313725,
             "rgb(242,107,73)"
            ],
            [
             0.7529411764705882,
             "rgb(244,135,95)"
            ],
            [
             0.8156862745098039,
             "rgb(245,162,122)"
            ],
            [
             0.8784313725490196,
             "rgb(246,188,153)"
            ],
            [
             0.9411764705882353,
             "rgb(247,212,187)"
            ],
            [
             1,
             "rgb(250,234,220)"
            ]
           ]
          },
          "colorway": [
           "rgb(76,114,176)",
           "rgb(221,132,82)",
           "rgb(85,168,104)",
           "rgb(196,78,82)",
           "rgb(129,114,179)",
           "rgb(147,120,96)",
           "rgb(218,139,195)",
           "rgb(140,140,140)",
           "rgb(204,185,116)",
           "rgb(100,181,205)"
          ],
          "font": {
           "color": "rgb(36,36,36)"
          },
          "geo": {
           "bgcolor": "white",
           "lakecolor": "white",
           "landcolor": "rgb(234,234,242)",
           "showlakes": true,
           "showland": true,
           "subunitcolor": "white"
          },
          "hoverlabel": {
           "align": "left"
          },
          "hovermode": "closest",
          "paper_bgcolor": "white",
          "plot_bgcolor": "rgb(234,234,242)",
          "polar": {
           "angularaxis": {
            "gridcolor": "white",
            "linecolor": "white",
            "showgrid": true,
            "ticks": ""
           },
           "bgcolor": "rgb(234,234,242)",
           "radialaxis": {
            "gridcolor": "white",
            "linecolor": "white",
            "showgrid": true,
            "ticks": ""
           }
          },
          "scene": {
           "xaxis": {
            "backgroundcolor": "rgb(234,234,242)",
            "gridcolor": "white",
            "gridwidth": 2,
            "linecolor": "white",
            "showbackground": true,
            "showgrid": true,
            "ticks": "",
            "zerolinecolor": "white"
           },
           "yaxis": {
            "backgroundcolor": "rgb(234,234,242)",
            "gridcolor": "white",
            "gridwidth": 2,
            "linecolor": "white",
            "showbackground": true,
            "showgrid": true,
            "ticks": "",
            "zerolinecolor": "white"
           },
           "zaxis": {
            "backgroundcolor": "rgb(234,234,242)",
            "gridcolor": "white",
            "gridwidth": 2,
            "linecolor": "white",
            "showbackground": true,
            "showgrid": true,
            "ticks": "",
            "zerolinecolor": "white"
           }
          },
          "shapedefaults": {
           "fillcolor": "rgb(67,103,167)",
           "line": {
            "width": 0
           },
           "opacity": 0.5
          },
          "ternary": {
           "aaxis": {
            "gridcolor": "white",
            "linecolor": "white",
            "showgrid": true,
            "ticks": ""
           },
           "baxis": {
            "gridcolor": "white",
            "linecolor": "white",
            "showgrid": true,
            "ticks": ""
           },
           "bgcolor": "rgb(234,234,242)",
           "caxis": {
            "gridcolor": "white",
            "linecolor": "white",
            "showgrid": true,
            "ticks": ""
           }
          },
          "xaxis": {
           "automargin": true,
           "gridcolor": "white",
           "linecolor": "white",
           "showgrid": true,
           "ticks": "",
           "title": {
            "standoff": 15
           },
           "zerolinecolor": "white"
          },
          "yaxis": {
           "automargin": true,
           "gridcolor": "white",
           "linecolor": "white",
           "showgrid": true,
           "ticks": "",
           "title": {
            "standoff": 15
           },
           "zerolinecolor": "white"
          }
         }
        },
        "width": 1500,
        "xaxis": {
         "anchor": "y",
         "domain": [
          0,
          0.45
         ],
         "range": [
          9994000.25,
          64737369.75
         ],
         "title": {
          "text": "#params"
         }
        },
        "xaxis2": {
         "anchor": "y2",
         "domain": [
          0.55,
          1
         ],
         "range": [
          9994000.25,
          64737369.75
         ],
         "title": {
          "text": "#params"
         }
        },
        "yaxis": {
         "anchor": "x",
         "domain": [
          0,
          1
         ],
         "range": [
          0.7787729144096375,
          1.05
         ],
         "title": {
          "text": "acc"
         }
        },
        "yaxis2": {
         "anchor": "x2",
         "domain": [
          0,
          1
         ],
         "title": {
          "text": "acc"
         }
        }
       }
      }
     },
     "metadata": {},
     "output_type": "display_data"
    }
   ],
   "source": [
    "# abbreviate names \n",
    "names = ['R-t', 'R-f', 'R-d', 'M-t', 'M-f', 'M-d', 'X-t', 'X-f', 'X-d']\n",
    "models = [resnet_t, resnet_f, resnet_d, mobile_t, mobile_f, mobile_d, xception_t, xception_f, xception_d]\n",
    "for model, name in zip(models, names):\n",
    "    model._name = name\n",
    "comparison(models, (train_dataset, val_dataset), titles=['Pretrained models accuracy', 'Overfitting comparison'])"
   ]
  },
  {
   "cell_type": "markdown",
   "metadata": {},
   "source": [
    "We can derive some conclusions about the above figure:\n",
    "\n",
    "1. The best performance is achieved with the MobileNetV2 with transfer learning and Xception with partial fine-tuning.\n",
    "2. In general terms, MobileNetV2 retrieves the better results, followed by Xception and finally ResNet50-V2.\n",
    "3. Fine-tuning with Xception and ResNet50-V2 obtains the worst results (less than 90% of accuracy). \n",
    "4. Although the number of trainable parameters is higher in the fine-tuning approaches, they yield the less overfitting results. This behavior might be due to the difference between the original pretraining image resolution ($224\\times 224$) and the image resolution used for the animals dataset. Forcing the first layers to maintain the same weights might cause the models to skip some local features that are used genearlize the classification information."
   ]
  },
  {
   "cell_type": "markdown",
   "metadata": {},
   "source": [
    "## 4. Results and comparison"
   ]
  },
  {
   "cell_type": "code",
   "execution_count": 45,
   "metadata": {},
   "outputs": [
    {
     "data": {
      "application/vnd.plotly.v1+json": {
       "config": {
        "plotlyServerURL": "https://plot.ly"
       },
       "data": [
        {
         "marker": {
          "color": "#1F77B4",
          "size": 12,
          "symbol": "circle"
         },
         "mode": "markers+text",
         "name": "train",
         "text": [
          "SimpleModel",
          "MidModel",
          "ResNet",
          "ResNetAug",
          "InceptionModel",
          "X-t",
          "M-t",
          "M-d",
          "M-f",
          "R-t",
          "X-d",
          "X-f",
          "R-d",
          "R-f"
         ],
         "textposition": "top center",
         "type": "scatter",
         "x": [
          726277,
          1614885,
          11697525,
          11697525,
          14632725,
          18438005,
          20486005,
          21977397,
          22709877,
          32774005,
          33748637,
          39244957,
          52877301,
          56293365
         ],
         "xaxis": "x",
         "y": [
          0.9015978574752808,
          0.9914432764053345,
          0.9998253583908081,
          0.9668208956718445,
          0.9998253583908081,
          0.9990395307540894,
          0.9998253583908081,
          0.9109403491020203,
          0.9372217059135437,
          0.9998253583908081,
          0.9998253583908081,
          0.9072732329368591,
          0.9998253583908081,
          0.9075351357460022
         ],
         "yaxis": "y"
        },
        {
         "marker": {
          "color": "#FF7F0E",
          "size": 12,
          "symbol": "square"
         },
         "mode": "markers+text",
         "name": "test",
         "text": [
          "SimpleModel",
          "MidModel",
          "ResNet",
          "ResNetAug",
          "InceptionModel",
          "X-t",
          "M-t",
          "M-d",
          "M-f",
          "R-t",
          "X-d",
          "X-f",
          "R-d",
          "R-f"
         ],
         "textposition": "top center",
         "type": "scatter",
         "x": [
          726277,
          1614885,
          11697525,
          11697525,
          14632725,
          18438005,
          20486005,
          21977397,
          22709877,
          32774005,
          33748637,
          39244957,
          52877301,
          56293365
         ],
         "xaxis": "x",
         "y": [
          0.728847086429596,
          0.8476002216339111,
          0.8772884607315063,
          0.9074715375900269,
          0.8352301120758057,
          0.9238001108169556,
          0.9455714821815491,
          0.8951014280319214,
          0.9193468689918518,
          0.914893627166748,
          0.9406234622001648,
          0.892132580280304,
          0.9193468689918518,
          0.8787729144096375
         ],
         "yaxis": "y"
        },
        {
         "marker": {
          "color": "#2CA02C",
          "size": 12,
          "symbol": "diamond"
         },
         "mode": "markers+text",
         "name": "difference",
         "text": [
          "SimpleModel",
          "MidModel",
          "ResNet",
          "ResNetAug",
          "InceptionModel",
          "X-t",
          "M-t",
          "M-d",
          "M-f",
          "R-t",
          "X-d",
          "X-f",
          "R-d",
          "R-f"
         ],
         "textposition": "top center",
         "type": "scatter",
         "x": [
          726277,
          1614885,
          11697525,
          11697525,
          14632725,
          18438005,
          20486005,
          21977397,
          22709877,
          32774005,
          33748637,
          39244957,
          52877301,
          56293365
         ],
         "xaxis": "x2",
         "y": [
          0.17275077104568481,
          0.14384305477142334,
          0.12253689765930176,
          0.05934935808181763,
          0.16459524631500244,
          0.07523941993713379,
          0.05425387620925903,
          0.015838921070098877,
          0.017874836921691895,
          0.08493173122406006,
          0.05920189619064331,
          0.015140652656555176,
          0.0804784893989563,
          0.028762221336364746
         ],
         "yaxis": "y2"
        }
       ],
       "layout": {
        "annotations": [
         {
          "font": {
           "size": 16
          },
          "showarrow": false,
          "text": "Pretrained models accuracy",
          "x": 0.225,
          "xanchor": "center",
          "xref": "paper",
          "y": 1,
          "yanchor": "bottom",
          "yref": "paper"
         },
         {
          "font": {
           "size": 16
          },
          "showarrow": false,
          "text": "Overfitting comparison",
          "x": 0.775,
          "xanchor": "center",
          "xref": "paper",
          "y": 1,
          "yanchor": "bottom",
          "yref": "paper"
         }
        ],
        "height": 500,
        "margin": {
         "b": 10,
         "l": 0,
         "r": 0,
         "t": 30
        },
        "template": {
         "data": {
          "bar": [
           {
            "error_x": {
             "color": "rgb(36,36,36)"
            },
            "error_y": {
             "color": "rgb(36,36,36)"
            },
            "marker": {
             "line": {
              "color": "rgb(234,234,242)",
              "width": 0.5
             },
             "pattern": {
              "fillmode": "overlay",
              "size": 10,
              "solidity": 0.2
             }
            },
            "type": "bar"
           }
          ],
          "barpolar": [
           {
            "marker": {
             "line": {
              "color": "rgb(234,234,242)",
              "width": 0.5
             },
             "pattern": {
              "fillmode": "overlay",
              "size": 10,
              "solidity": 0.2
             }
            },
            "type": "barpolar"
           }
          ],
          "carpet": [
           {
            "aaxis": {
             "endlinecolor": "rgb(36,36,36)",
             "gridcolor": "white",
             "linecolor": "white",
             "minorgridcolor": "white",
             "startlinecolor": "rgb(36,36,36)"
            },
            "baxis": {
             "endlinecolor": "rgb(36,36,36)",
             "gridcolor": "white",
             "linecolor": "white",
             "minorgridcolor": "white",
             "startlinecolor": "rgb(36,36,36)"
            },
            "type": "carpet"
           }
          ],
          "choropleth": [
           {
            "colorbar": {
             "outlinewidth": 0,
             "tickcolor": "rgb(36,36,36)",
             "ticklen": 8,
             "ticks": "outside",
             "tickwidth": 2
            },
            "type": "choropleth"
           }
          ],
          "contour": [
           {
            "colorbar": {
             "outlinewidth": 0,
             "tickcolor": "rgb(36,36,36)",
             "ticklen": 8,
             "ticks": "outside",
             "tickwidth": 2
            },
            "colorscale": [
             [
              0,
              "rgb(2,4,25)"
             ],
             [
              0.06274509803921569,
              "rgb(24,15,41)"
             ],
             [
              0.12549019607843137,
              "rgb(47,23,57)"
             ],
             [
              0.18823529411764706,
              "rgb(71,28,72)"
             ],
             [
              0.25098039215686274,
              "rgb(97,30,82)"
             ],
             [
              0.3137254901960784,
              "rgb(123,30,89)"
             ],
             [
              0.3764705882352941,
              "rgb(150,27,91)"
             ],
             [
              0.4392156862745098,
              "rgb(177,22,88)"
             ],
             [
              0.5019607843137255,
              "rgb(203,26,79)"
             ],
             [
              0.5647058823529412,
              "rgb(223,47,67)"
             ],
             [
              0.6274509803921569,
              "rgb(236,76,61)"
             ],
             [
              0.6901960784313725,
              "rgb(242,107,73)"
             ],
             [
              0.7529411764705882,
              "rgb(244,135,95)"
             ],
             [
              0.8156862745098039,
              "rgb(245,162,122)"
             ],
             [
              0.8784313725490196,
              "rgb(246,188,153)"
             ],
             [
              0.9411764705882353,
              "rgb(247,212,187)"
             ],
             [
              1,
              "rgb(250,234,220)"
             ]
            ],
            "type": "contour"
           }
          ],
          "contourcarpet": [
           {
            "colorbar": {
             "outlinewidth": 0,
             "tickcolor": "rgb(36,36,36)",
             "ticklen": 8,
             "ticks": "outside",
             "tickwidth": 2
            },
            "type": "contourcarpet"
           }
          ],
          "heatmap": [
           {
            "colorbar": {
             "outlinewidth": 0,
             "tickcolor": "rgb(36,36,36)",
             "ticklen": 8,
             "ticks": "outside",
             "tickwidth": 2
            },
            "colorscale": [
             [
              0,
              "rgb(2,4,25)"
             ],
             [
              0.06274509803921569,
              "rgb(24,15,41)"
             ],
             [
              0.12549019607843137,
              "rgb(47,23,57)"
             ],
             [
              0.18823529411764706,
              "rgb(71,28,72)"
             ],
             [
              0.25098039215686274,
              "rgb(97,30,82)"
             ],
             [
              0.3137254901960784,
              "rgb(123,30,89)"
             ],
             [
              0.3764705882352941,
              "rgb(150,27,91)"
             ],
             [
              0.4392156862745098,
              "rgb(177,22,88)"
             ],
             [
              0.5019607843137255,
              "rgb(203,26,79)"
             ],
             [
              0.5647058823529412,
              "rgb(223,47,67)"
             ],
             [
              0.6274509803921569,
              "rgb(236,76,61)"
             ],
             [
              0.6901960784313725,
              "rgb(242,107,73)"
             ],
             [
              0.7529411764705882,
              "rgb(244,135,95)"
             ],
             [
              0.8156862745098039,
              "rgb(245,162,122)"
             ],
             [
              0.8784313725490196,
              "rgb(246,188,153)"
             ],
             [
              0.9411764705882353,
              "rgb(247,212,187)"
             ],
             [
              1,
              "rgb(250,234,220)"
             ]
            ],
            "type": "heatmap"
           }
          ],
          "heatmapgl": [
           {
            "colorbar": {
             "outlinewidth": 0,
             "tickcolor": "rgb(36,36,36)",
             "ticklen": 8,
             "ticks": "outside",
             "tickwidth": 2
            },
            "colorscale": [
             [
              0,
              "rgb(2,4,25)"
             ],
             [
              0.06274509803921569,
              "rgb(24,15,41)"
             ],
             [
              0.12549019607843137,
              "rgb(47,23,57)"
             ],
             [
              0.18823529411764706,
              "rgb(71,28,72)"
             ],
             [
              0.25098039215686274,
              "rgb(97,30,82)"
             ],
             [
              0.3137254901960784,
              "rgb(123,30,89)"
             ],
             [
              0.3764705882352941,
              "rgb(150,27,91)"
             ],
             [
              0.4392156862745098,
              "rgb(177,22,88)"
             ],
             [
              0.5019607843137255,
              "rgb(203,26,79)"
             ],
             [
              0.5647058823529412,
              "rgb(223,47,67)"
             ],
             [
              0.6274509803921569,
              "rgb(236,76,61)"
             ],
             [
              0.6901960784313725,
              "rgb(242,107,73)"
             ],
             [
              0.7529411764705882,
              "rgb(244,135,95)"
             ],
             [
              0.8156862745098039,
              "rgb(245,162,122)"
             ],
             [
              0.8784313725490196,
              "rgb(246,188,153)"
             ],
             [
              0.9411764705882353,
              "rgb(247,212,187)"
             ],
             [
              1,
              "rgb(250,234,220)"
             ]
            ],
            "type": "heatmapgl"
           }
          ],
          "histogram": [
           {
            "marker": {
             "pattern": {
              "fillmode": "overlay",
              "size": 10,
              "solidity": 0.2
             }
            },
            "type": "histogram"
           }
          ],
          "histogram2d": [
           {
            "colorbar": {
             "outlinewidth": 0,
             "tickcolor": "rgb(36,36,36)",
             "ticklen": 8,
             "ticks": "outside",
             "tickwidth": 2
            },
            "colorscale": [
             [
              0,
              "rgb(2,4,25)"
             ],
             [
              0.06274509803921569,
              "rgb(24,15,41)"
             ],
             [
              0.12549019607843137,
              "rgb(47,23,57)"
             ],
             [
              0.18823529411764706,
              "rgb(71,28,72)"
             ],
             [
              0.25098039215686274,
              "rgb(97,30,82)"
             ],
             [
              0.3137254901960784,
              "rgb(123,30,89)"
             ],
             [
              0.3764705882352941,
              "rgb(150,27,91)"
             ],
             [
              0.4392156862745098,
              "rgb(177,22,88)"
             ],
             [
              0.5019607843137255,
              "rgb(203,26,79)"
             ],
             [
              0.5647058823529412,
              "rgb(223,47,67)"
             ],
             [
              0.6274509803921569,
              "rgb(236,76,61)"
             ],
             [
              0.6901960784313725,
              "rgb(242,107,73)"
             ],
             [
              0.7529411764705882,
              "rgb(244,135,95)"
             ],
             [
              0.8156862745098039,
              "rgb(245,162,122)"
             ],
             [
              0.8784313725490196,
              "rgb(246,188,153)"
             ],
             [
              0.9411764705882353,
              "rgb(247,212,187)"
             ],
             [
              1,
              "rgb(250,234,220)"
             ]
            ],
            "type": "histogram2d"
           }
          ],
          "histogram2dcontour": [
           {
            "colorbar": {
             "outlinewidth": 0,
             "tickcolor": "rgb(36,36,36)",
             "ticklen": 8,
             "ticks": "outside",
             "tickwidth": 2
            },
            "colorscale": [
             [
              0,
              "rgb(2,4,25)"
             ],
             [
              0.06274509803921569,
              "rgb(24,15,41)"
             ],
             [
              0.12549019607843137,
              "rgb(47,23,57)"
             ],
             [
              0.18823529411764706,
              "rgb(71,28,72)"
             ],
             [
              0.25098039215686274,
              "rgb(97,30,82)"
             ],
             [
              0.3137254901960784,
              "rgb(123,30,89)"
             ],
             [
              0.3764705882352941,
              "rgb(150,27,91)"
             ],
             [
              0.4392156862745098,
              "rgb(177,22,88)"
             ],
             [
              0.5019607843137255,
              "rgb(203,26,79)"
             ],
             [
              0.5647058823529412,
              "rgb(223,47,67)"
             ],
             [
              0.6274509803921569,
              "rgb(236,76,61)"
             ],
             [
              0.6901960784313725,
              "rgb(242,107,73)"
             ],
             [
              0.7529411764705882,
              "rgb(244,135,95)"
             ],
             [
              0.8156862745098039,
              "rgb(245,162,122)"
             ],
             [
              0.8784313725490196,
              "rgb(246,188,153)"
             ],
             [
              0.9411764705882353,
              "rgb(247,212,187)"
             ],
             [
              1,
              "rgb(250,234,220)"
             ]
            ],
            "type": "histogram2dcontour"
           }
          ],
          "mesh3d": [
           {
            "colorbar": {
             "outlinewidth": 0,
             "tickcolor": "rgb(36,36,36)",
             "ticklen": 8,
             "ticks": "outside",
             "tickwidth": 2
            },
            "type": "mesh3d"
           }
          ],
          "parcoords": [
           {
            "line": {
             "colorbar": {
              "outlinewidth": 0,
              "tickcolor": "rgb(36,36,36)",
              "ticklen": 8,
              "ticks": "outside",
              "tickwidth": 2
             }
            },
            "type": "parcoords"
           }
          ],
          "pie": [
           {
            "automargin": true,
            "type": "pie"
           }
          ],
          "scatter": [
           {
            "fillpattern": {
             "fillmode": "overlay",
             "size": 10,
             "solidity": 0.2
            },
            "type": "scatter"
           }
          ],
          "scatter3d": [
           {
            "line": {
             "colorbar": {
              "outlinewidth": 0,
              "tickcolor": "rgb(36,36,36)",
              "ticklen": 8,
              "ticks": "outside",
              "tickwidth": 2
             }
            },
            "marker": {
             "colorbar": {
              "outlinewidth": 0,
              "tickcolor": "rgb(36,36,36)",
              "ticklen": 8,
              "ticks": "outside",
              "tickwidth": 2
             }
            },
            "type": "scatter3d"
           }
          ],
          "scattercarpet": [
           {
            "marker": {
             "colorbar": {
              "outlinewidth": 0,
              "tickcolor": "rgb(36,36,36)",
              "ticklen": 8,
              "ticks": "outside",
              "tickwidth": 2
             }
            },
            "type": "scattercarpet"
           }
          ],
          "scattergeo": [
           {
            "marker": {
             "colorbar": {
              "outlinewidth": 0,
              "tickcolor": "rgb(36,36,36)",
              "ticklen": 8,
              "ticks": "outside",
              "tickwidth": 2
             }
            },
            "type": "scattergeo"
           }
          ],
          "scattergl": [
           {
            "marker": {
             "colorbar": {
              "outlinewidth": 0,
              "tickcolor": "rgb(36,36,36)",
              "ticklen": 8,
              "ticks": "outside",
              "tickwidth": 2
             }
            },
            "type": "scattergl"
           }
          ],
          "scattermapbox": [
           {
            "marker": {
             "colorbar": {
              "outlinewidth": 0,
              "tickcolor": "rgb(36,36,36)",
              "ticklen": 8,
              "ticks": "outside",
              "tickwidth": 2
             }
            },
            "type": "scattermapbox"
           }
          ],
          "scatterpolar": [
           {
            "marker": {
             "colorbar": {
              "outlinewidth": 0,
              "tickcolor": "rgb(36,36,36)",
              "ticklen": 8,
              "ticks": "outside",
              "tickwidth": 2
             }
            },
            "type": "scatterpolar"
           }
          ],
          "scatterpolargl": [
           {
            "marker": {
             "colorbar": {
              "outlinewidth": 0,
              "tickcolor": "rgb(36,36,36)",
              "ticklen": 8,
              "ticks": "outside",
              "tickwidth": 2
             }
            },
            "type": "scatterpolargl"
           }
          ],
          "scatterternary": [
           {
            "marker": {
             "colorbar": {
              "outlinewidth": 0,
              "tickcolor": "rgb(36,36,36)",
              "ticklen": 8,
              "ticks": "outside",
              "tickwidth": 2
             }
            },
            "type": "scatterternary"
           }
          ],
          "surface": [
           {
            "colorbar": {
             "outlinewidth": 0,
             "tickcolor": "rgb(36,36,36)",
             "ticklen": 8,
             "ticks": "outside",
             "tickwidth": 2
            },
            "colorscale": [
             [
              0,
              "rgb(2,4,25)"
             ],
             [
              0.06274509803921569,
              "rgb(24,15,41)"
             ],
             [
              0.12549019607843137,
              "rgb(47,23,57)"
             ],
             [
              0.18823529411764706,
              "rgb(71,28,72)"
             ],
             [
              0.25098039215686274,
              "rgb(97,30,82)"
             ],
             [
              0.3137254901960784,
              "rgb(123,30,89)"
             ],
             [
              0.3764705882352941,
              "rgb(150,27,91)"
             ],
             [
              0.4392156862745098,
              "rgb(177,22,88)"
             ],
             [
              0.5019607843137255,
              "rgb(203,26,79)"
             ],
             [
              0.5647058823529412,
              "rgb(223,47,67)"
             ],
             [
              0.6274509803921569,
              "rgb(236,76,61)"
             ],
             [
              0.6901960784313725,
              "rgb(242,107,73)"
             ],
             [
              0.7529411764705882,
              "rgb(244,135,95)"
             ],
             [
              0.8156862745098039,
              "rgb(245,162,122)"
             ],
             [
              0.8784313725490196,
              "rgb(246,188,153)"
             ],
             [
              0.9411764705882353,
              "rgb(247,212,187)"
             ],
             [
              1,
              "rgb(250,234,220)"
             ]
            ],
            "type": "surface"
           }
          ],
          "table": [
           {
            "cells": {
             "fill": {
              "color": "rgb(231,231,240)"
             },
             "line": {
              "color": "white"
             }
            },
            "header": {
             "fill": {
              "color": "rgb(183,183,191)"
             },
             "line": {
              "color": "white"
             }
            },
            "type": "table"
           }
          ]
         },
         "layout": {
          "annotationdefaults": {
           "arrowcolor": "rgb(67,103,167)"
          },
          "autotypenumbers": "strict",
          "coloraxis": {
           "colorbar": {
            "outlinewidth": 0,
            "tickcolor": "rgb(36,36,36)",
            "ticklen": 8,
            "ticks": "outside",
            "tickwidth": 2
           }
          },
          "colorscale": {
           "sequential": [
            [
             0,
             "rgb(2,4,25)"
            ],
            [
             0.06274509803921569,
             "rgb(24,15,41)"
            ],
            [
             0.12549019607843137,
             "rgb(47,23,57)"
            ],
            [
             0.18823529411764706,
             "rgb(71,28,72)"
            ],
            [
             0.25098039215686274,
             "rgb(97,30,82)"
            ],
            [
             0.3137254901960784,
             "rgb(123,30,89)"
            ],
            [
             0.3764705882352941,
             "rgb(150,27,91)"
            ],
            [
             0.4392156862745098,
             "rgb(177,22,88)"
            ],
            [
             0.5019607843137255,
             "rgb(203,26,79)"
            ],
            [
             0.5647058823529412,
             "rgb(223,47,67)"
            ],
            [
             0.6274509803921569,
             "rgb(236,76,61)"
            ],
            [
             0.6901960784313725,
             "rgb(242,107,73)"
            ],
            [
             0.7529411764705882,
             "rgb(244,135,95)"
            ],
            [
             0.8156862745098039,
             "rgb(245,162,122)"
            ],
            [
             0.8784313725490196,
             "rgb(246,188,153)"
            ],
            [
             0.9411764705882353,
             "rgb(247,212,187)"
            ],
            [
             1,
             "rgb(250,234,220)"
            ]
           ],
           "sequentialminus": [
            [
             0,
             "rgb(2,4,25)"
            ],
            [
             0.06274509803921569,
             "rgb(24,15,41)"
            ],
            [
             0.12549019607843137,
             "rgb(47,23,57)"
            ],
            [
             0.18823529411764706,
             "rgb(71,28,72)"
            ],
            [
             0.25098039215686274,
             "rgb(97,30,82)"
            ],
            [
             0.3137254901960784,
             "rgb(123,30,89)"
            ],
            [
             0.3764705882352941,
             "rgb(150,27,91)"
            ],
            [
             0.4392156862745098,
             "rgb(177,22,88)"
            ],
            [
             0.5019607843137255,
             "rgb(203,26,79)"
            ],
            [
             0.5647058823529412,
             "rgb(223,47,67)"
            ],
            [
             0.6274509803921569,
             "rgb(236,76,61)"
            ],
            [
             0.6901960784313725,
             "rgb(242,107,73)"
            ],
            [
             0.7529411764705882,
             "rgb(244,135,95)"
            ],
            [
             0.8156862745098039,
             "rgb(245,162,122)"
            ],
            [
             0.8784313725490196,
             "rgb(246,188,153)"
            ],
            [
             0.9411764705882353,
             "rgb(247,212,187)"
            ],
            [
             1,
             "rgb(250,234,220)"
            ]
           ]
          },
          "colorway": [
           "rgb(76,114,176)",
           "rgb(221,132,82)",
           "rgb(85,168,104)",
           "rgb(196,78,82)",
           "rgb(129,114,179)",
           "rgb(147,120,96)",
           "rgb(218,139,195)",
           "rgb(140,140,140)",
           "rgb(204,185,116)",
           "rgb(100,181,205)"
          ],
          "font": {
           "color": "rgb(36,36,36)"
          },
          "geo": {
           "bgcolor": "white",
           "lakecolor": "white",
           "landcolor": "rgb(234,234,242)",
           "showlakes": true,
           "showland": true,
           "subunitcolor": "white"
          },
          "hoverlabel": {
           "align": "left"
          },
          "hovermode": "closest",
          "paper_bgcolor": "white",
          "plot_bgcolor": "rgb(234,234,242)",
          "polar": {
           "angularaxis": {
            "gridcolor": "white",
            "linecolor": "white",
            "showgrid": true,
            "ticks": ""
           },
           "bgcolor": "rgb(234,234,242)",
           "radialaxis": {
            "gridcolor": "white",
            "linecolor": "white",
            "showgrid": true,
            "ticks": ""
           }
          },
          "scene": {
           "xaxis": {
            "backgroundcolor": "rgb(234,234,242)",
            "gridcolor": "white",
            "gridwidth": 2,
            "linecolor": "white",
            "showbackground": true,
            "showgrid": true,
            "ticks": "",
            "zerolinecolor": "white"
           },
           "yaxis": {
            "backgroundcolor": "rgb(234,234,242)",
            "gridcolor": "white",
            "gridwidth": 2,
            "linecolor": "white",
            "showbackground": true,
            "showgrid": true,
            "ticks": "",
            "zerolinecolor": "white"
           },
           "zaxis": {
            "backgroundcolor": "rgb(234,234,242)",
            "gridcolor": "white",
            "gridwidth": 2,
            "linecolor": "white",
            "showbackground": true,
            "showgrid": true,
            "ticks": "",
            "zerolinecolor": "white"
           }
          },
          "shapedefaults": {
           "fillcolor": "rgb(67,103,167)",
           "line": {
            "width": 0
           },
           "opacity": 0.5
          },
          "ternary": {
           "aaxis": {
            "gridcolor": "white",
            "linecolor": "white",
            "showgrid": true,
            "ticks": ""
           },
           "baxis": {
            "gridcolor": "white",
            "linecolor": "white",
            "showgrid": true,
            "ticks": ""
           },
           "bgcolor": "rgb(234,234,242)",
           "caxis": {
            "gridcolor": "white",
            "linecolor": "white",
            "showgrid": true,
            "ticks": ""
           }
          },
          "xaxis": {
           "automargin": true,
           "gridcolor": "white",
           "linecolor": "white",
           "showgrid": true,
           "ticks": "",
           "title": {
            "standoff": 15
           },
           "zerolinecolor": "white"
          },
          "yaxis": {
           "automargin": true,
           "gridcolor": "white",
           "linecolor": "white",
           "showgrid": true,
           "ticks": "",
           "title": {
            "standoff": 15
           },
           "zerolinecolor": "white"
          }
         }
        },
        "width": 1500,
        "xaxis": {
         "anchor": "y",
         "domain": [
          0,
          0.45
         ],
         "range": [
          -7717727.75,
          64737369.75
         ],
         "title": {
          "text": "#params"
         }
        },
        "xaxis2": {
         "anchor": "y2",
         "domain": [
          0.55,
          1
         ],
         "range": [
          -7717727.75,
          64737369.75
         ],
         "title": {
          "text": "#params"
         }
        },
        "yaxis": {
         "anchor": "x",
         "domain": [
          0,
          1
         ],
         "range": [
          0.628847086429596,
          1.05
         ],
         "title": {
          "text": "acc"
         }
        },
        "yaxis2": {
         "anchor": "x2",
         "domain": [
          0,
          1
         ],
         "title": {
          "text": "acc"
         }
        }
       }
      }
     },
     "metadata": {},
     "output_type": "display_data"
    }
   ],
   "source": [
    "models = [\n",
    "    simple_model, mid_model, inception, resnet, resnet_data_aug,\n",
    "    resnet_t, resnet_f, resnet_d, mobile_t, mobile_f, mobile_d, xception_t, xception_f, xception_d\n",
    "]\n",
    "    \n",
    "\n",
    "comparison(models, (train_dataset, val_dataset), titles=['Pretrained models accuracy', 'Overfitting comparison'])"
   ]
  },
  {
   "cell_type": "markdown",
   "metadata": {},
   "source": [
    "The figure above shows a final comparison of all models trained in this notebook. In general terms, the pretrained architectures retrieve the best performance and overfitting level. Although the pretrained architectures are larger than the custom models, they can maintain the accuracy and generalization (avoiding overfitting) for encoding a lot of image inforamtion in their hidden layers and use a smaller learning rate to finetune them. Only the ResNet custom model is able to reach a lower overfitting level (similar to pretrained models): this success is obtained due to the data augmentation techinique, which simulates the pretraining process by allowing the model to see a large number of diverse images."
   ]
  }
 ],
 "metadata": {
  "accelerator": "TPU",
  "colab": {
   "provenance": []
  },
  "kernelspec": {
   "display_name": "Python 3 (ipykernel)",
   "language": "python",
   "name": "python3"
  },
  "language_info": {
   "codemirror_mode": {
    "name": "ipython",
    "version": 3
   },
   "file_extension": ".py",
   "mimetype": "text/x-python",
   "name": "python",
   "nbconvert_exporter": "python",
   "pygments_lexer": "ipython3",
   "version": "3.10.12"
  }
 },
 "nbformat": 4,
 "nbformat_minor": 4
}
