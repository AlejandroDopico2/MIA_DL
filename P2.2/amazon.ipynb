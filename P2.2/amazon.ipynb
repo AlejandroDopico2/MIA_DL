{
 "cells": [
  {
   "cell_type": "markdown",
   "metadata": {},
   "source": [
    "# **Practice 2.2. Recurrent Neural Networks**\n",
    "\n",
    "- Alejandro Dopico Castro ([alejandro.dopico2@udc.es](mailto:alejandro.dopico2@udc.es)).\n",
    "- Ana Xiangning Pereira Ezquerro ([ana.ezquerro@udc.es](mailto:ana.ezquerro@udc.es)).\n",
    "\n",
    "This notebook contains execution examples of the recurrent neural architectures proposed for the [Amazon Reviews dataset](https://www.kaggle.com/datasets/bittlingmayer/amazonreviews). The Python scripts submitted include auxiliar code to simplify the readibility of the coding cells:\n",
    "\n",
    "- [data.py](data.py): Defines the `AmazonDataset` class to load, split, transform and stream the Amazon Reviews dataset. \n",
    "- [recurrent_models.py](recurrent_models.py): Defines the `create_recurrent_model` function to instantiate a Keras model varying its architecture. \n",
    "- [utils.py](utils.py): Defines auxiliary function to train and plot the performance of a Keras model."
   ]
  },
  {
   "cell_type": "code",
   "execution_count": 2,
   "metadata": {},
   "outputs": [
    {
     "name": "stderr",
     "output_type": "stream",
     "text": [
      "2024-04-17 12:13:13.809679: I tensorflow/core/util/port.cc:113] oneDNN custom operations are on. You may see slightly different numerical results due to floating-point round-off errors from different computation orders. To turn them off, set the environment variable `TF_ENABLE_ONEDNN_OPTS=0`.\n",
      "2024-04-17 12:13:13.949642: E external/local_xla/xla/stream_executor/cuda/cuda_dnn.cc:9261] Unable to register cuDNN factory: Attempting to register factory for plugin cuDNN when one has already been registered\n",
      "2024-04-17 12:13:13.949752: E external/local_xla/xla/stream_executor/cuda/cuda_fft.cc:607] Unable to register cuFFT factory: Attempting to register factory for plugin cuFFT when one has already been registered\n",
      "2024-04-17 12:13:13.968222: E external/local_xla/xla/stream_executor/cuda/cuda_blas.cc:1515] Unable to register cuBLAS factory: Attempting to register factory for plugin cuBLAS when one has already been registered\n",
      "2024-04-17 12:13:14.009913: I tensorflow/core/platform/cpu_feature_guard.cc:182] This TensorFlow binary is optimized to use available CPU instructions in performance-critical operations.\n",
      "To enable the following instructions: AVX2 AVX512F AVX512_VNNI FMA, in other operations, rebuild TensorFlow with the appropriate compiler flags.\n",
      "2024-04-17 12:13:14.725301: W tensorflow/compiler/tf2tensorrt/utils/py_utils.cc:38] TF-TRT Warning: Could not find TensorRT\n"
     ]
    },
    {
     "name": "stdout",
     "output_type": "stream",
     "text": [
      "Using TensorFlow backend\n"
     ]
    }
   ],
   "source": [
    "from data import AmazonDataset\n",
    "from model import AmazonReviewsModel\n",
    "from typing import Dict\n",
    "import plotly.io as pio\n",
    "from typing import Tuple\n",
    "from collections import OrderedDict\n",
    "from keras.layers import *\n",
    "from keras.regularizers import Regularizer, L1, L2, L1L2\n",
    "from keras.optimizers import Adam, RMSprop\n",
    "import pandas as pd\n",
    "from itertools import product\n",
    "pio.renderers.default = \"vscode\"\n",
    "\n",
    "# global parameters \n",
    "MAX_FEATURES = 1000\n",
    "MODEL_PATH = 'results/'\n",
    "\n",
    "# model default parameters\n",
    "train_default = dict(epochs=30, batch_size=500, lr=1e-3, dev_patience=5)\n",
    "\n",
    "# load data\n",
    "path_dir = 'AmazonDataset/'"
   ]
  },
  {
   "cell_type": "markdown",
   "metadata": {},
   "source": [
    "## Simple Recurrent Baseline \n",
    "\n",
    "We used a simple recurrent architecture to set our baseline performance. This model is conformed by two stacked modules: a recurrent encoder of 2-stacked [RNN cells](https://keras.io/api/layers/recurrent_layers/simple_rnn/) ([Rumelhart et al., 1985](https://stanford.edu/~jlmcc/papers/PDP/Volume%201/Chap8_PDP86.pdf)) and a [feed-forward layer](https://keras.io/api/layers/core_layers/dense/) with a sigmoidal activation to return the probability of a good review. We used an input embedding layer of dimension $d_x=64$ and maintained the dimension of the decoder to $d_h=64$. In order to analyze the impact of the vocabulary size ($|\\mathcal{V}|$) we repeated three experiments varying this value (200, 500 and 1000) maintaining the same architecture."
   ]
  },
  {
   "cell_type": "code",
   "execution_count": 8,
   "metadata": {},
   "outputs": [
    {
     "name": "stdout",
     "output_type": "stream",
     "text": [
      "Epoch 1/30\n",
      "40/40 [==============================] - 6s 118ms/step - loss: 0.6899 - accuracy: 0.5311 - val_loss: 0.6742 - val_accuracy: 0.5920\n",
      "Epoch 2/30\n",
      "40/40 [==============================] - 5s 114ms/step - loss: 0.6158 - accuracy: 0.6568 - val_loss: 0.5202 - val_accuracy: 0.7546\n",
      "Epoch 3/30\n",
      "40/40 [==============================] - 4s 112ms/step - loss: 0.4883 - accuracy: 0.7683 - val_loss: 0.4642 - val_accuracy: 0.7854\n",
      "Epoch 4/30\n",
      "40/40 [==============================] - 4s 112ms/step - loss: 0.4690 - accuracy: 0.7796 - val_loss: 0.4746 - val_accuracy: 0.7714\n",
      "Epoch 5/30\n",
      "40/40 [==============================] - 5s 114ms/step - loss: 0.4403 - accuracy: 0.7953 - val_loss: 0.4714 - val_accuracy: 0.7708\n",
      "Epoch 6/30\n",
      "40/40 [==============================] - 4s 112ms/step - loss: 0.4447 - accuracy: 0.7944 - val_loss: 0.4746 - val_accuracy: 0.7782\n",
      "Epoch 7/30\n",
      "40/40 [==============================] - 5s 113ms/step - loss: 0.4172 - accuracy: 0.8105 - val_loss: 0.5014 - val_accuracy: 0.7762\n",
      "Epoch 8/30\n",
      "40/40 [==============================] - 4s 110ms/step - loss: 0.4061 - accuracy: 0.8179 - val_loss: 0.4991 - val_accuracy: 0.7748\n",
      "[0.48217952251434326, 0.7735999822616577]\n"
     ]
    },
    {
     "data": {
      "application/vnd.plotly.v1+json": {
       "config": {
        "plotlyServerURL": "https://plot.ly"
       },
       "data": [
        {
         "line": {
          "color": "#636EFA"
         },
         "marker": {
          "color": "#636EFA"
         },
         "mode": "lines+markers",
         "name": "train",
         "showlegend": true,
         "type": "scatter",
         "x": [
          1,
          2,
          3,
          4,
          5,
          6,
          7,
          8
         ],
         "xaxis": "x",
         "y": [
          0.689949095249176,
          0.6157865524291992,
          0.48825356364250183,
          0.46895530819892883,
          0.4403479993343353,
          0.4447236955165863,
          0.4171544015407562,
          0.4061172306537628
         ],
         "yaxis": "y"
        },
        {
         "line": {
          "color": "#EF553B"
         },
         "marker": {
          "color": "#EF553B"
         },
         "mode": "lines+markers",
         "name": "val",
         "showlegend": true,
         "type": "scatter",
         "x": [
          1,
          2,
          3,
          4,
          5,
          6,
          7,
          8
         ],
         "xaxis": "x",
         "y": [
          0.6741856336593628,
          0.5202353596687317,
          0.46419012546539307,
          0.4746055603027344,
          0.4713878333568573,
          0.47456517815589905,
          0.5013628005981445,
          0.4990540146827698
         ],
         "yaxis": "y"
        },
        {
         "line": {
          "color": "#636EFA"
         },
         "marker": {
          "color": "#636EFA"
         },
         "mode": "lines+markers",
         "name": "train",
         "showlegend": false,
         "type": "scatter",
         "x": [
          1,
          2,
          3,
          4,
          5,
          6,
          7,
          8
         ],
         "xaxis": "x2",
         "y": [
          0.5310500264167786,
          0.6567999720573425,
          0.7682999968528748,
          0.7796499729156494,
          0.7953000068664551,
          0.7944499850273132,
          0.81045001745224,
          0.8179000020027161
         ],
         "yaxis": "y2"
        },
        {
         "line": {
          "color": "#EF553B"
         },
         "marker": {
          "color": "#EF553B"
         },
         "mode": "lines+markers",
         "name": "val",
         "showlegend": false,
         "type": "scatter",
         "x": [
          1,
          2,
          3,
          4,
          5,
          6,
          7,
          8
         ],
         "xaxis": "x2",
         "y": [
          0.5920000076293945,
          0.7545999884605408,
          0.7853999733924866,
          0.771399974822998,
          0.770799994468689,
          0.7781999707221985,
          0.776199996471405,
          0.7748000025749207
         ],
         "yaxis": "y2"
        }
       ],
       "layout": {
        "annotations": [
         {
          "font": {
           "size": 16
          },
          "showarrow": false,
          "text": "loss",
          "x": 0.2375,
          "xanchor": "center",
          "xref": "paper",
          "y": 1,
          "yanchor": "bottom",
          "yref": "paper"
         },
         {
          "font": {
           "size": 16
          },
          "showarrow": false,
          "text": "accuracy",
          "x": 0.7625,
          "xanchor": "center",
          "xref": "paper",
          "y": 1,
          "yanchor": "bottom",
          "yref": "paper"
         }
        ],
        "height": 400,
        "margin": {
         "b": 10,
         "l": 10,
         "r": 10,
         "t": 50
        },
        "template": {
         "data": {
          "bar": [
           {
            "error_x": {
             "color": "rgb(36,36,36)"
            },
            "error_y": {
             "color": "rgb(36,36,36)"
            },
            "marker": {
             "line": {
              "color": "rgb(234,234,242)",
              "width": 0.5
             },
             "pattern": {
              "fillmode": "overlay",
              "size": 10,
              "solidity": 0.2
             }
            },
            "type": "bar"
           }
          ],
          "barpolar": [
           {
            "marker": {
             "line": {
              "color": "rgb(234,234,242)",
              "width": 0.5
             },
             "pattern": {
              "fillmode": "overlay",
              "size": 10,
              "solidity": 0.2
             }
            },
            "type": "barpolar"
           }
          ],
          "carpet": [
           {
            "aaxis": {
             "endlinecolor": "rgb(36,36,36)",
             "gridcolor": "white",
             "linecolor": "white",
             "minorgridcolor": "white",
             "startlinecolor": "rgb(36,36,36)"
            },
            "baxis": {
             "endlinecolor": "rgb(36,36,36)",
             "gridcolor": "white",
             "linecolor": "white",
             "minorgridcolor": "white",
             "startlinecolor": "rgb(36,36,36)"
            },
            "type": "carpet"
           }
          ],
          "choropleth": [
           {
            "colorbar": {
             "outlinewidth": 0,
             "tickcolor": "rgb(36,36,36)",
             "ticklen": 8,
             "ticks": "outside",
             "tickwidth": 2
            },
            "type": "choropleth"
           }
          ],
          "contour": [
           {
            "colorbar": {
             "outlinewidth": 0,
             "tickcolor": "rgb(36,36,36)",
             "ticklen": 8,
             "ticks": "outside",
             "tickwidth": 2
            },
            "colorscale": [
             [
              0,
              "rgb(2,4,25)"
             ],
             [
              0.06274509803921569,
              "rgb(24,15,41)"
             ],
             [
              0.12549019607843137,
              "rgb(47,23,57)"
             ],
             [
              0.18823529411764706,
              "rgb(71,28,72)"
             ],
             [
              0.25098039215686274,
              "rgb(97,30,82)"
             ],
             [
              0.3137254901960784,
              "rgb(123,30,89)"
             ],
             [
              0.3764705882352941,
              "rgb(150,27,91)"
             ],
             [
              0.4392156862745098,
              "rgb(177,22,88)"
             ],
             [
              0.5019607843137255,
              "rgb(203,26,79)"
             ],
             [
              0.5647058823529412,
              "rgb(223,47,67)"
             ],
             [
              0.6274509803921569,
              "rgb(236,76,61)"
             ],
             [
              0.6901960784313725,
              "rgb(242,107,73)"
             ],
             [
              0.7529411764705882,
              "rgb(244,135,95)"
             ],
             [
              0.8156862745098039,
              "rgb(245,162,122)"
             ],
             [
              0.8784313725490196,
              "rgb(246,188,153)"
             ],
             [
              0.9411764705882353,
              "rgb(247,212,187)"
             ],
             [
              1,
              "rgb(250,234,220)"
             ]
            ],
            "type": "contour"
           }
          ],
          "contourcarpet": [
           {
            "colorbar": {
             "outlinewidth": 0,
             "tickcolor": "rgb(36,36,36)",
             "ticklen": 8,
             "ticks": "outside",
             "tickwidth": 2
            },
            "type": "contourcarpet"
           }
          ],
          "heatmap": [
           {
            "colorbar": {
             "outlinewidth": 0,
             "tickcolor": "rgb(36,36,36)",
             "ticklen": 8,
             "ticks": "outside",
             "tickwidth": 2
            },
            "colorscale": [
             [
              0,
              "rgb(2,4,25)"
             ],
             [
              0.06274509803921569,
              "rgb(24,15,41)"
             ],
             [
              0.12549019607843137,
              "rgb(47,23,57)"
             ],
             [
              0.18823529411764706,
              "rgb(71,28,72)"
             ],
             [
              0.25098039215686274,
              "rgb(97,30,82)"
             ],
             [
              0.3137254901960784,
              "rgb(123,30,89)"
             ],
             [
              0.3764705882352941,
              "rgb(150,27,91)"
             ],
             [
              0.4392156862745098,
              "rgb(177,22,88)"
             ],
             [
              0.5019607843137255,
              "rgb(203,26,79)"
             ],
             [
              0.5647058823529412,
              "rgb(223,47,67)"
             ],
             [
              0.6274509803921569,
              "rgb(236,76,61)"
             ],
             [
              0.6901960784313725,
              "rgb(242,107,73)"
             ],
             [
              0.7529411764705882,
              "rgb(244,135,95)"
             ],
             [
              0.8156862745098039,
              "rgb(245,162,122)"
             ],
             [
              0.8784313725490196,
              "rgb(246,188,153)"
             ],
             [
              0.9411764705882353,
              "rgb(247,212,187)"
             ],
             [
              1,
              "rgb(250,234,220)"
             ]
            ],
            "type": "heatmap"
           }
          ],
          "heatmapgl": [
           {
            "colorbar": {
             "outlinewidth": 0,
             "tickcolor": "rgb(36,36,36)",
             "ticklen": 8,
             "ticks": "outside",
             "tickwidth": 2
            },
            "colorscale": [
             [
              0,
              "rgb(2,4,25)"
             ],
             [
              0.06274509803921569,
              "rgb(24,15,41)"
             ],
             [
              0.12549019607843137,
              "rgb(47,23,57)"
             ],
             [
              0.18823529411764706,
              "rgb(71,28,72)"
             ],
             [
              0.25098039215686274,
              "rgb(97,30,82)"
             ],
             [
              0.3137254901960784,
              "rgb(123,30,89)"
             ],
             [
              0.3764705882352941,
              "rgb(150,27,91)"
             ],
             [
              0.4392156862745098,
              "rgb(177,22,88)"
             ],
             [
              0.5019607843137255,
              "rgb(203,26,79)"
             ],
             [
              0.5647058823529412,
              "rgb(223,47,67)"
             ],
             [
              0.6274509803921569,
              "rgb(236,76,61)"
             ],
             [
              0.6901960784313725,
              "rgb(242,107,73)"
             ],
             [
              0.7529411764705882,
              "rgb(244,135,95)"
             ],
             [
              0.8156862745098039,
              "rgb(245,162,122)"
             ],
             [
              0.8784313725490196,
              "rgb(246,188,153)"
             ],
             [
              0.9411764705882353,
              "rgb(247,212,187)"
             ],
             [
              1,
              "rgb(250,234,220)"
             ]
            ],
            "type": "heatmapgl"
           }
          ],
          "histogram": [
           {
            "marker": {
             "pattern": {
              "fillmode": "overlay",
              "size": 10,
              "solidity": 0.2
             }
            },
            "type": "histogram"
           }
          ],
          "histogram2d": [
           {
            "colorbar": {
             "outlinewidth": 0,
             "tickcolor": "rgb(36,36,36)",
             "ticklen": 8,
             "ticks": "outside",
             "tickwidth": 2
            },
            "colorscale": [
             [
              0,
              "rgb(2,4,25)"
             ],
             [
              0.06274509803921569,
              "rgb(24,15,41)"
             ],
             [
              0.12549019607843137,
              "rgb(47,23,57)"
             ],
             [
              0.18823529411764706,
              "rgb(71,28,72)"
             ],
             [
              0.25098039215686274,
              "rgb(97,30,82)"
             ],
             [
              0.3137254901960784,
              "rgb(123,30,89)"
             ],
             [
              0.3764705882352941,
              "rgb(150,27,91)"
             ],
             [
              0.4392156862745098,
              "rgb(177,22,88)"
             ],
             [
              0.5019607843137255,
              "rgb(203,26,79)"
             ],
             [
              0.5647058823529412,
              "rgb(223,47,67)"
             ],
             [
              0.6274509803921569,
              "rgb(236,76,61)"
             ],
             [
              0.6901960784313725,
              "rgb(242,107,73)"
             ],
             [
              0.7529411764705882,
              "rgb(244,135,95)"
             ],
             [
              0.8156862745098039,
              "rgb(245,162,122)"
             ],
             [
              0.8784313725490196,
              "rgb(246,188,153)"
             ],
             [
              0.9411764705882353,
              "rgb(247,212,187)"
             ],
             [
              1,
              "rgb(250,234,220)"
             ]
            ],
            "type": "histogram2d"
           }
          ],
          "histogram2dcontour": [
           {
            "colorbar": {
             "outlinewidth": 0,
             "tickcolor": "rgb(36,36,36)",
             "ticklen": 8,
             "ticks": "outside",
             "tickwidth": 2
            },
            "colorscale": [
             [
              0,
              "rgb(2,4,25)"
             ],
             [
              0.06274509803921569,
              "rgb(24,15,41)"
             ],
             [
              0.12549019607843137,
              "rgb(47,23,57)"
             ],
             [
              0.18823529411764706,
              "rgb(71,28,72)"
             ],
             [
              0.25098039215686274,
              "rgb(97,30,82)"
             ],
             [
              0.3137254901960784,
              "rgb(123,30,89)"
             ],
             [
              0.3764705882352941,
              "rgb(150,27,91)"
             ],
             [
              0.4392156862745098,
              "rgb(177,22,88)"
             ],
             [
              0.5019607843137255,
              "rgb(203,26,79)"
             ],
             [
              0.5647058823529412,
              "rgb(223,47,67)"
             ],
             [
              0.6274509803921569,
              "rgb(236,76,61)"
             ],
             [
              0.6901960784313725,
              "rgb(242,107,73)"
             ],
             [
              0.7529411764705882,
              "rgb(244,135,95)"
             ],
             [
              0.8156862745098039,
              "rgb(245,162,122)"
             ],
             [
              0.8784313725490196,
              "rgb(246,188,153)"
             ],
             [
              0.9411764705882353,
              "rgb(247,212,187)"
             ],
             [
              1,
              "rgb(250,234,220)"
             ]
            ],
            "type": "histogram2dcontour"
           }
          ],
          "mesh3d": [
           {
            "colorbar": {
             "outlinewidth": 0,
             "tickcolor": "rgb(36,36,36)",
             "ticklen": 8,
             "ticks": "outside",
             "tickwidth": 2
            },
            "type": "mesh3d"
           }
          ],
          "parcoords": [
           {
            "line": {
             "colorbar": {
              "outlinewidth": 0,
              "tickcolor": "rgb(36,36,36)",
              "ticklen": 8,
              "ticks": "outside",
              "tickwidth": 2
             }
            },
            "type": "parcoords"
           }
          ],
          "pie": [
           {
            "automargin": true,
            "type": "pie"
           }
          ],
          "scatter": [
           {
            "fillpattern": {
             "fillmode": "overlay",
             "size": 10,
             "solidity": 0.2
            },
            "type": "scatter"
           }
          ],
          "scatter3d": [
           {
            "line": {
             "colorbar": {
              "outlinewidth": 0,
              "tickcolor": "rgb(36,36,36)",
              "ticklen": 8,
              "ticks": "outside",
              "tickwidth": 2
             }
            },
            "marker": {
             "colorbar": {
              "outlinewidth": 0,
              "tickcolor": "rgb(36,36,36)",
              "ticklen": 8,
              "ticks": "outside",
              "tickwidth": 2
             }
            },
            "type": "scatter3d"
           }
          ],
          "scattercarpet": [
           {
            "marker": {
             "colorbar": {
              "outlinewidth": 0,
              "tickcolor": "rgb(36,36,36)",
              "ticklen": 8,
              "ticks": "outside",
              "tickwidth": 2
             }
            },
            "type": "scattercarpet"
           }
          ],
          "scattergeo": [
           {
            "marker": {
             "colorbar": {
              "outlinewidth": 0,
              "tickcolor": "rgb(36,36,36)",
              "ticklen": 8,
              "ticks": "outside",
              "tickwidth": 2
             }
            },
            "type": "scattergeo"
           }
          ],
          "scattergl": [
           {
            "marker": {
             "colorbar": {
              "outlinewidth": 0,
              "tickcolor": "rgb(36,36,36)",
              "ticklen": 8,
              "ticks": "outside",
              "tickwidth": 2
             }
            },
            "type": "scattergl"
           }
          ],
          "scattermapbox": [
           {
            "marker": {
             "colorbar": {
              "outlinewidth": 0,
              "tickcolor": "rgb(36,36,36)",
              "ticklen": 8,
              "ticks": "outside",
              "tickwidth": 2
             }
            },
            "type": "scattermapbox"
           }
          ],
          "scatterpolar": [
           {
            "marker": {
             "colorbar": {
              "outlinewidth": 0,
              "tickcolor": "rgb(36,36,36)",
              "ticklen": 8,
              "ticks": "outside",
              "tickwidth": 2
             }
            },
            "type": "scatterpolar"
           }
          ],
          "scatterpolargl": [
           {
            "marker": {
             "colorbar": {
              "outlinewidth": 0,
              "tickcolor": "rgb(36,36,36)",
              "ticklen": 8,
              "ticks": "outside",
              "tickwidth": 2
             }
            },
            "type": "scatterpolargl"
           }
          ],
          "scatterternary": [
           {
            "marker": {
             "colorbar": {
              "outlinewidth": 0,
              "tickcolor": "rgb(36,36,36)",
              "ticklen": 8,
              "ticks": "outside",
              "tickwidth": 2
             }
            },
            "type": "scatterternary"
           }
          ],
          "surface": [
           {
            "colorbar": {
             "outlinewidth": 0,
             "tickcolor": "rgb(36,36,36)",
             "ticklen": 8,
             "ticks": "outside",
             "tickwidth": 2
            },
            "colorscale": [
             [
              0,
              "rgb(2,4,25)"
             ],
             [
              0.06274509803921569,
              "rgb(24,15,41)"
             ],
             [
              0.12549019607843137,
              "rgb(47,23,57)"
             ],
             [
              0.18823529411764706,
              "rgb(71,28,72)"
             ],
             [
              0.25098039215686274,
              "rgb(97,30,82)"
             ],
             [
              0.3137254901960784,
              "rgb(123,30,89)"
             ],
             [
              0.3764705882352941,
              "rgb(150,27,91)"
             ],
             [
              0.4392156862745098,
              "rgb(177,22,88)"
             ],
             [
              0.5019607843137255,
              "rgb(203,26,79)"
             ],
             [
              0.5647058823529412,
              "rgb(223,47,67)"
             ],
             [
              0.6274509803921569,
              "rgb(236,76,61)"
             ],
             [
              0.6901960784313725,
              "rgb(242,107,73)"
             ],
             [
              0.7529411764705882,
              "rgb(244,135,95)"
             ],
             [
              0.8156862745098039,
              "rgb(245,162,122)"
             ],
             [
              0.8784313725490196,
              "rgb(246,188,153)"
             ],
             [
              0.9411764705882353,
              "rgb(247,212,187)"
             ],
             [
              1,
              "rgb(250,234,220)"
             ]
            ],
            "type": "surface"
           }
          ],
          "table": [
           {
            "cells": {
             "fill": {
              "color": "rgb(231,231,240)"
             },
             "line": {
              "color": "white"
             }
            },
            "header": {
             "fill": {
              "color": "rgb(183,183,191)"
             },
             "line": {
              "color": "white"
             }
            },
            "type": "table"
           }
          ]
         },
         "layout": {
          "annotationdefaults": {
           "arrowcolor": "rgb(67,103,167)"
          },
          "autotypenumbers": "strict",
          "coloraxis": {
           "colorbar": {
            "outlinewidth": 0,
            "tickcolor": "rgb(36,36,36)",
            "ticklen": 8,
            "ticks": "outside",
            "tickwidth": 2
           }
          },
          "colorscale": {
           "sequential": [
            [
             0,
             "rgb(2,4,25)"
            ],
            [
             0.06274509803921569,
             "rgb(24,15,41)"
            ],
            [
             0.12549019607843137,
             "rgb(47,23,57)"
            ],
            [
             0.18823529411764706,
             "rgb(71,28,72)"
            ],
            [
             0.25098039215686274,
             "rgb(97,30,82)"
            ],
            [
             0.3137254901960784,
             "rgb(123,30,89)"
            ],
            [
             0.3764705882352941,
             "rgb(150,27,91)"
            ],
            [
             0.4392156862745098,
             "rgb(177,22,88)"
            ],
            [
             0.5019607843137255,
             "rgb(203,26,79)"
            ],
            [
             0.5647058823529412,
             "rgb(223,47,67)"
            ],
            [
             0.6274509803921569,
             "rgb(236,76,61)"
            ],
            [
             0.6901960784313725,
             "rgb(242,107,73)"
            ],
            [
             0.7529411764705882,
             "rgb(244,135,95)"
            ],
            [
             0.8156862745098039,
             "rgb(245,162,122)"
            ],
            [
             0.8784313725490196,
             "rgb(246,188,153)"
            ],
            [
             0.9411764705882353,
             "rgb(247,212,187)"
            ],
            [
             1,
             "rgb(250,234,220)"
            ]
           ],
           "sequentialminus": [
            [
             0,
             "rgb(2,4,25)"
            ],
            [
             0.06274509803921569,
             "rgb(24,15,41)"
            ],
            [
             0.12549019607843137,
             "rgb(47,23,57)"
            ],
            [
             0.18823529411764706,
             "rgb(71,28,72)"
            ],
            [
             0.25098039215686274,
             "rgb(97,30,82)"
            ],
            [
             0.3137254901960784,
             "rgb(123,30,89)"
            ],
            [
             0.3764705882352941,
             "rgb(150,27,91)"
            ],
            [
             0.4392156862745098,
             "rgb(177,22,88)"
            ],
            [
             0.5019607843137255,
             "rgb(203,26,79)"
            ],
            [
             0.5647058823529412,
             "rgb(223,47,67)"
            ],
            [
             0.6274509803921569,
             "rgb(236,76,61)"
            ],
            [
             0.6901960784313725,
             "rgb(242,107,73)"
            ],
            [
             0.7529411764705882,
             "rgb(244,135,95)"
            ],
            [
             0.8156862745098039,
             "rgb(245,162,122)"
            ],
            [
             0.8784313725490196,
             "rgb(246,188,153)"
            ],
            [
             0.9411764705882353,
             "rgb(247,212,187)"
            ],
            [
             1,
             "rgb(250,234,220)"
            ]
           ]
          },
          "colorway": [
           "rgb(76,114,176)",
           "rgb(221,132,82)",
           "rgb(85,168,104)",
           "rgb(196,78,82)",
           "rgb(129,114,179)",
           "rgb(147,120,96)",
           "rgb(218,139,195)",
           "rgb(140,140,140)",
           "rgb(204,185,116)",
           "rgb(100,181,205)"
          ],
          "font": {
           "color": "rgb(36,36,36)"
          },
          "geo": {
           "bgcolor": "white",
           "lakecolor": "white",
           "landcolor": "rgb(234,234,242)",
           "showlakes": true,
           "showland": true,
           "subunitcolor": "white"
          },
          "hoverlabel": {
           "align": "left"
          },
          "hovermode": "closest",
          "paper_bgcolor": "white",
          "plot_bgcolor": "rgb(234,234,242)",
          "polar": {
           "angularaxis": {
            "gridcolor": "white",
            "linecolor": "white",
            "showgrid": true,
            "ticks": ""
           },
           "bgcolor": "rgb(234,234,242)",
           "radialaxis": {
            "gridcolor": "white",
            "linecolor": "white",
            "showgrid": true,
            "ticks": ""
           }
          },
          "scene": {
           "xaxis": {
            "backgroundcolor": "rgb(234,234,242)",
            "gridcolor": "white",
            "gridwidth": 2,
            "linecolor": "white",
            "showbackground": true,
            "showgrid": true,
            "ticks": "",
            "zerolinecolor": "white"
           },
           "yaxis": {
            "backgroundcolor": "rgb(234,234,242)",
            "gridcolor": "white",
            "gridwidth": 2,
            "linecolor": "white",
            "showbackground": true,
            "showgrid": true,
            "ticks": "",
            "zerolinecolor": "white"
           },
           "zaxis": {
            "backgroundcolor": "rgb(234,234,242)",
            "gridcolor": "white",
            "gridwidth": 2,
            "linecolor": "white",
            "showbackground": true,
            "showgrid": true,
            "ticks": "",
            "zerolinecolor": "white"
           }
          },
          "shapedefaults": {
           "fillcolor": "rgb(67,103,167)",
           "line": {
            "width": 0
           },
           "opacity": 0.5
          },
          "ternary": {
           "aaxis": {
            "gridcolor": "white",
            "linecolor": "white",
            "showgrid": true,
            "ticks": ""
           },
           "baxis": {
            "gridcolor": "white",
            "linecolor": "white",
            "showgrid": true,
            "ticks": ""
           },
           "bgcolor": "rgb(234,234,242)",
           "caxis": {
            "gridcolor": "white",
            "linecolor": "white",
            "showgrid": true,
            "ticks": ""
           }
          },
          "xaxis": {
           "automargin": true,
           "gridcolor": "white",
           "linecolor": "white",
           "showgrid": true,
           "ticks": "",
           "title": {
            "standoff": 15
           },
           "zerolinecolor": "white"
          },
          "yaxis": {
           "automargin": true,
           "gridcolor": "white",
           "linecolor": "white",
           "showgrid": true,
           "ticks": "",
           "title": {
            "standoff": 15
           },
           "zerolinecolor": "white"
          }
         }
        },
        "title": {
         "text": "Training and validation of SimpleRNN-200"
        },
        "width": 1200,
        "xaxis": {
         "anchor": "y",
         "domain": [
          0,
          0.475
         ],
         "title": {
          "text": "epochs"
         }
        },
        "xaxis2": {
         "anchor": "y2",
         "domain": [
          0.525,
          1
         ],
         "title": {
          "text": "epochs"
         }
        },
        "yaxis": {
         "anchor": "x",
         "domain": [
          0,
          1
         ],
         "title": {
          "text": "accuracy"
         }
        },
        "yaxis2": {
         "anchor": "x2",
         "domain": [
          0,
          1
         ],
         "title": {
          "text": "accuracy"
         }
        }
       }
      }
     },
     "metadata": {},
     "output_type": "display_data"
    }
   ],
   "source": [
    "dataset = AmazonDataset.load(train_path=path_dir + \"train_small.txt\", test_path=path_dir + \"test_small.txt\", max_features=200)\n",
    "rnn_model_200 = AmazonReviewsModel(200, 64, SimpleRNN, name='SimpleRNN-200')\n",
    "_, fig = rnn_model_200.train(dataset, f'{MODEL_PATH}/{rnn_model_200.name}.weights.h5', **train_default)\n",
    "print(rnn_model_200.evaluate(dataset.X_test, dataset.y_test))\n",
    "fig"
   ]
  },
  {
   "cell_type": "code",
   "execution_count": 10,
   "metadata": {},
   "outputs": [
    {
     "name": "stdout",
     "output_type": "stream",
     "text": [
      "Epoch 1/30\n",
      "40/40 [==============================] - 6s 119ms/step - loss: 0.6689 - accuracy: 0.5717 - val_loss: 0.6603 - val_accuracy: 0.6734\n",
      "Epoch 2/30\n",
      "40/40 [==============================] - 4s 112ms/step - loss: 0.6506 - accuracy: 0.6578 - val_loss: 0.6548 - val_accuracy: 0.6178\n",
      "Epoch 3/30\n",
      "40/40 [==============================] - 4s 112ms/step - loss: 0.6311 - accuracy: 0.6474 - val_loss: 0.6222 - val_accuracy: 0.6550\n",
      "Epoch 4/30\n",
      "40/40 [==============================] - 4s 113ms/step - loss: 0.6069 - accuracy: 0.6744 - val_loss: 0.6088 - val_accuracy: 0.6636\n",
      "Epoch 5/30\n",
      "40/40 [==============================] - 5s 114ms/step - loss: 0.5954 - accuracy: 0.6978 - val_loss: 0.5939 - val_accuracy: 0.6870\n",
      "Epoch 6/30\n",
      "40/40 [==============================] - 4s 112ms/step - loss: 0.5589 - accuracy: 0.7225 - val_loss: 0.5742 - val_accuracy: 0.6980\n",
      "Epoch 7/30\n",
      "40/40 [==============================] - 5s 113ms/step - loss: 0.5122 - accuracy: 0.7548 - val_loss: 0.4867 - val_accuracy: 0.7754\n",
      "Epoch 8/30\n",
      "40/40 [==============================] - 4s 112ms/step - loss: 0.5314 - accuracy: 0.7502 - val_loss: 0.5797 - val_accuracy: 0.7086\n",
      "Epoch 9/30\n",
      "40/40 [==============================] - 4s 111ms/step - loss: 0.5042 - accuracy: 0.7591 - val_loss: 0.4855 - val_accuracy: 0.7780\n",
      "Epoch 10/30\n",
      "40/40 [==============================] - 4s 111ms/step - loss: 0.5151 - accuracy: 0.7463 - val_loss: 0.5741 - val_accuracy: 0.6970\n",
      "Epoch 11/30\n",
      "40/40 [==============================] - 4s 113ms/step - loss: 0.4502 - accuracy: 0.7919 - val_loss: 0.5263 - val_accuracy: 0.7556\n",
      "Epoch 12/30\n",
      "40/40 [==============================] - 4s 110ms/step - loss: 0.4622 - accuracy: 0.7926 - val_loss: 0.5112 - val_accuracy: 0.7694\n",
      "Epoch 13/30\n",
      "40/40 [==============================] - 4s 112ms/step - loss: 0.4003 - accuracy: 0.8293 - val_loss: 0.4909 - val_accuracy: 0.7754\n",
      "Epoch 14/30\n",
      "40/40 [==============================] - 4s 111ms/step - loss: 0.3560 - accuracy: 0.8507 - val_loss: 0.4598 - val_accuracy: 0.8122\n",
      "Epoch 15/30\n",
      "40/40 [==============================] - 5s 113ms/step - loss: 0.3288 - accuracy: 0.8641 - val_loss: 0.4374 - val_accuracy: 0.8068\n",
      "Epoch 16/30\n",
      "40/40 [==============================] - 4s 112ms/step - loss: 0.2969 - accuracy: 0.8790 - val_loss: 0.4820 - val_accuracy: 0.8034\n",
      "Epoch 17/30\n",
      "40/40 [==============================] - 4s 112ms/step - loss: 0.2865 - accuracy: 0.8835 - val_loss: 0.4981 - val_accuracy: 0.8060\n",
      "Epoch 18/30\n",
      "40/40 [==============================] - 4s 112ms/step - loss: 0.2603 - accuracy: 0.8954 - val_loss: 0.5172 - val_accuracy: 0.7932\n",
      "Epoch 19/30\n",
      "40/40 [==============================] - 4s 112ms/step - loss: 0.2427 - accuracy: 0.9044 - val_loss: 0.5969 - val_accuracy: 0.7484\n",
      "Epoch 20/30\n",
      "40/40 [==============================] - 5s 114ms/step - loss: 0.2275 - accuracy: 0.9116 - val_loss: 0.6160 - val_accuracy: 0.7560\n",
      "[0.43902644515037537, 0.8077200055122375]\n"
     ]
    },
    {
     "data": {
      "application/vnd.plotly.v1+json": {
       "config": {
        "plotlyServerURL": "https://plot.ly"
       },
       "data": [
        {
         "line": {
          "color": "#636EFA"
         },
         "marker": {
          "color": "#636EFA"
         },
         "mode": "lines+markers",
         "name": "train",
         "showlegend": true,
         "type": "scatter",
         "x": [
          1,
          2,
          3,
          4,
          5,
          6,
          7,
          8,
          9,
          10,
          11,
          12,
          13,
          14,
          15,
          16,
          17,
          18,
          19,
          20
         ],
         "xaxis": "x",
         "y": [
          0.6689143776893616,
          0.650595486164093,
          0.6311004161834717,
          0.6068549752235413,
          0.5953963398933411,
          0.5589125156402588,
          0.5121855735778809,
          0.5313796997070312,
          0.504177451133728,
          0.515119731426239,
          0.4502454102039337,
          0.46224239468574524,
          0.40029066801071167,
          0.35602015256881714,
          0.3287614583969116,
          0.29694682359695435,
          0.2864854633808136,
          0.26028817892074585,
          0.24267074465751648,
          0.22747138142585754
         ],
         "yaxis": "y"
        },
        {
         "line": {
          "color": "#EF553B"
         },
         "marker": {
          "color": "#EF553B"
         },
         "mode": "lines+markers",
         "name": "val",
         "showlegend": true,
         "type": "scatter",
         "x": [
          1,
          2,
          3,
          4,
          5,
          6,
          7,
          8,
          9,
          10,
          11,
          12,
          13,
          14,
          15,
          16,
          17,
          18,
          19,
          20
         ],
         "xaxis": "x",
         "y": [
          0.6603214144706726,
          0.6547697186470032,
          0.6222273707389832,
          0.6087804436683655,
          0.5938947796821594,
          0.5742455720901489,
          0.48668134212493896,
          0.5796820521354675,
          0.4854758679866791,
          0.5740702152252197,
          0.5263329148292542,
          0.5112308859825134,
          0.49085572361946106,
          0.45979589223861694,
          0.4373927116394043,
          0.482040137052536,
          0.49805259704589844,
          0.5171787142753601,
          0.5969148278236389,
          0.6159957051277161
         ],
         "yaxis": "y"
        },
        {
         "line": {
          "color": "#636EFA"
         },
         "marker": {
          "color": "#636EFA"
         },
         "mode": "lines+markers",
         "name": "train",
         "showlegend": false,
         "type": "scatter",
         "x": [
          1,
          2,
          3,
          4,
          5,
          6,
          7,
          8,
          9,
          10,
          11,
          12,
          13,
          14,
          15,
          16,
          17,
          18,
          19,
          20
         ],
         "xaxis": "x2",
         "y": [
          0.5716500282287598,
          0.657800018787384,
          0.647350013256073,
          0.6744499802589417,
          0.6977999806404114,
          0.7225000262260437,
          0.7547500133514404,
          0.750249981880188,
          0.7591000199317932,
          0.7463499903678894,
          0.7918999791145325,
          0.7925999760627747,
          0.8292999863624573,
          0.8506500124931335,
          0.8640999794006348,
          0.8790000081062317,
          0.8834999799728394,
          0.8954499959945679,
          0.904449999332428,
          0.9115999937057495
         ],
         "yaxis": "y2"
        },
        {
         "line": {
          "color": "#EF553B"
         },
         "marker": {
          "color": "#EF553B"
         },
         "mode": "lines+markers",
         "name": "val",
         "showlegend": false,
         "type": "scatter",
         "x": [
          1,
          2,
          3,
          4,
          5,
          6,
          7,
          8,
          9,
          10,
          11,
          12,
          13,
          14,
          15,
          16,
          17,
          18,
          19,
          20
         ],
         "xaxis": "x2",
         "y": [
          0.6733999848365784,
          0.6177999973297119,
          0.6549999713897705,
          0.6636000275611877,
          0.6869999766349792,
          0.6980000138282776,
          0.7753999829292297,
          0.7085999846458435,
          0.777999997138977,
          0.6970000267028809,
          0.7555999755859375,
          0.7694000005722046,
          0.7753999829292297,
          0.8122000098228455,
          0.8068000078201294,
          0.8033999800682068,
          0.8059999942779541,
          0.7932000160217285,
          0.7483999729156494,
          0.7559999823570251
         ],
         "yaxis": "y2"
        }
       ],
       "layout": {
        "annotations": [
         {
          "font": {
           "size": 16
          },
          "showarrow": false,
          "text": "loss",
          "x": 0.2375,
          "xanchor": "center",
          "xref": "paper",
          "y": 1,
          "yanchor": "bottom",
          "yref": "paper"
         },
         {
          "font": {
           "size": 16
          },
          "showarrow": false,
          "text": "accuracy",
          "x": 0.7625,
          "xanchor": "center",
          "xref": "paper",
          "y": 1,
          "yanchor": "bottom",
          "yref": "paper"
         }
        ],
        "height": 400,
        "margin": {
         "b": 10,
         "l": 10,
         "r": 10,
         "t": 50
        },
        "template": {
         "data": {
          "bar": [
           {
            "error_x": {
             "color": "rgb(36,36,36)"
            },
            "error_y": {
             "color": "rgb(36,36,36)"
            },
            "marker": {
             "line": {
              "color": "rgb(234,234,242)",
              "width": 0.5
             },
             "pattern": {
              "fillmode": "overlay",
              "size": 10,
              "solidity": 0.2
             }
            },
            "type": "bar"
           }
          ],
          "barpolar": [
           {
            "marker": {
             "line": {
              "color": "rgb(234,234,242)",
              "width": 0.5
             },
             "pattern": {
              "fillmode": "overlay",
              "size": 10,
              "solidity": 0.2
             }
            },
            "type": "barpolar"
           }
          ],
          "carpet": [
           {
            "aaxis": {
             "endlinecolor": "rgb(36,36,36)",
             "gridcolor": "white",
             "linecolor": "white",
             "minorgridcolor": "white",
             "startlinecolor": "rgb(36,36,36)"
            },
            "baxis": {
             "endlinecolor": "rgb(36,36,36)",
             "gridcolor": "white",
             "linecolor": "white",
             "minorgridcolor": "white",
             "startlinecolor": "rgb(36,36,36)"
            },
            "type": "carpet"
           }
          ],
          "choropleth": [
           {
            "colorbar": {
             "outlinewidth": 0,
             "tickcolor": "rgb(36,36,36)",
             "ticklen": 8,
             "ticks": "outside",
             "tickwidth": 2
            },
            "type": "choropleth"
           }
          ],
          "contour": [
           {
            "colorbar": {
             "outlinewidth": 0,
             "tickcolor": "rgb(36,36,36)",
             "ticklen": 8,
             "ticks": "outside",
             "tickwidth": 2
            },
            "colorscale": [
             [
              0,
              "rgb(2,4,25)"
             ],
             [
              0.06274509803921569,
              "rgb(24,15,41)"
             ],
             [
              0.12549019607843137,
              "rgb(47,23,57)"
             ],
             [
              0.18823529411764706,
              "rgb(71,28,72)"
             ],
             [
              0.25098039215686274,
              "rgb(97,30,82)"
             ],
             [
              0.3137254901960784,
              "rgb(123,30,89)"
             ],
             [
              0.3764705882352941,
              "rgb(150,27,91)"
             ],
             [
              0.4392156862745098,
              "rgb(177,22,88)"
             ],
             [
              0.5019607843137255,
              "rgb(203,26,79)"
             ],
             [
              0.5647058823529412,
              "rgb(223,47,67)"
             ],
             [
              0.6274509803921569,
              "rgb(236,76,61)"
             ],
             [
              0.6901960784313725,
              "rgb(242,107,73)"
             ],
             [
              0.7529411764705882,
              "rgb(244,135,95)"
             ],
             [
              0.8156862745098039,
              "rgb(245,162,122)"
             ],
             [
              0.8784313725490196,
              "rgb(246,188,153)"
             ],
             [
              0.9411764705882353,
              "rgb(247,212,187)"
             ],
             [
              1,
              "rgb(250,234,220)"
             ]
            ],
            "type": "contour"
           }
          ],
          "contourcarpet": [
           {
            "colorbar": {
             "outlinewidth": 0,
             "tickcolor": "rgb(36,36,36)",
             "ticklen": 8,
             "ticks": "outside",
             "tickwidth": 2
            },
            "type": "contourcarpet"
           }
          ],
          "heatmap": [
           {
            "colorbar": {
             "outlinewidth": 0,
             "tickcolor": "rgb(36,36,36)",
             "ticklen": 8,
             "ticks": "outside",
             "tickwidth": 2
            },
            "colorscale": [
             [
              0,
              "rgb(2,4,25)"
             ],
             [
              0.06274509803921569,
              "rgb(24,15,41)"
             ],
             [
              0.12549019607843137,
              "rgb(47,23,57)"
             ],
             [
              0.18823529411764706,
              "rgb(71,28,72)"
             ],
             [
              0.25098039215686274,
              "rgb(97,30,82)"
             ],
             [
              0.3137254901960784,
              "rgb(123,30,89)"
             ],
             [
              0.3764705882352941,
              "rgb(150,27,91)"
             ],
             [
              0.4392156862745098,
              "rgb(177,22,88)"
             ],
             [
              0.5019607843137255,
              "rgb(203,26,79)"
             ],
             [
              0.5647058823529412,
              "rgb(223,47,67)"
             ],
             [
              0.6274509803921569,
              "rgb(236,76,61)"
             ],
             [
              0.6901960784313725,
              "rgb(242,107,73)"
             ],
             [
              0.7529411764705882,
              "rgb(244,135,95)"
             ],
             [
              0.8156862745098039,
              "rgb(245,162,122)"
             ],
             [
              0.8784313725490196,
              "rgb(246,188,153)"
             ],
             [
              0.9411764705882353,
              "rgb(247,212,187)"
             ],
             [
              1,
              "rgb(250,234,220)"
             ]
            ],
            "type": "heatmap"
           }
          ],
          "heatmapgl": [
           {
            "colorbar": {
             "outlinewidth": 0,
             "tickcolor": "rgb(36,36,36)",
             "ticklen": 8,
             "ticks": "outside",
             "tickwidth": 2
            },
            "colorscale": [
             [
              0,
              "rgb(2,4,25)"
             ],
             [
              0.06274509803921569,
              "rgb(24,15,41)"
             ],
             [
              0.12549019607843137,
              "rgb(47,23,57)"
             ],
             [
              0.18823529411764706,
              "rgb(71,28,72)"
             ],
             [
              0.25098039215686274,
              "rgb(97,30,82)"
             ],
             [
              0.3137254901960784,
              "rgb(123,30,89)"
             ],
             [
              0.3764705882352941,
              "rgb(150,27,91)"
             ],
             [
              0.4392156862745098,
              "rgb(177,22,88)"
             ],
             [
              0.5019607843137255,
              "rgb(203,26,79)"
             ],
             [
              0.5647058823529412,
              "rgb(223,47,67)"
             ],
             [
              0.6274509803921569,
              "rgb(236,76,61)"
             ],
             [
              0.6901960784313725,
              "rgb(242,107,73)"
             ],
             [
              0.7529411764705882,
              "rgb(244,135,95)"
             ],
             [
              0.8156862745098039,
              "rgb(245,162,122)"
             ],
             [
              0.8784313725490196,
              "rgb(246,188,153)"
             ],
             [
              0.9411764705882353,
              "rgb(247,212,187)"
             ],
             [
              1,
              "rgb(250,234,220)"
             ]
            ],
            "type": "heatmapgl"
           }
          ],
          "histogram": [
           {
            "marker": {
             "pattern": {
              "fillmode": "overlay",
              "size": 10,
              "solidity": 0.2
             }
            },
            "type": "histogram"
           }
          ],
          "histogram2d": [
           {
            "colorbar": {
             "outlinewidth": 0,
             "tickcolor": "rgb(36,36,36)",
             "ticklen": 8,
             "ticks": "outside",
             "tickwidth": 2
            },
            "colorscale": [
             [
              0,
              "rgb(2,4,25)"
             ],
             [
              0.06274509803921569,
              "rgb(24,15,41)"
             ],
             [
              0.12549019607843137,
              "rgb(47,23,57)"
             ],
             [
              0.18823529411764706,
              "rgb(71,28,72)"
             ],
             [
              0.25098039215686274,
              "rgb(97,30,82)"
             ],
             [
              0.3137254901960784,
              "rgb(123,30,89)"
             ],
             [
              0.3764705882352941,
              "rgb(150,27,91)"
             ],
             [
              0.4392156862745098,
              "rgb(177,22,88)"
             ],
             [
              0.5019607843137255,
              "rgb(203,26,79)"
             ],
             [
              0.5647058823529412,
              "rgb(223,47,67)"
             ],
             [
              0.6274509803921569,
              "rgb(236,76,61)"
             ],
             [
              0.6901960784313725,
              "rgb(242,107,73)"
             ],
             [
              0.7529411764705882,
              "rgb(244,135,95)"
             ],
             [
              0.8156862745098039,
              "rgb(245,162,122)"
             ],
             [
              0.8784313725490196,
              "rgb(246,188,153)"
             ],
             [
              0.9411764705882353,
              "rgb(247,212,187)"
             ],
             [
              1,
              "rgb(250,234,220)"
             ]
            ],
            "type": "histogram2d"
           }
          ],
          "histogram2dcontour": [
           {
            "colorbar": {
             "outlinewidth": 0,
             "tickcolor": "rgb(36,36,36)",
             "ticklen": 8,
             "ticks": "outside",
             "tickwidth": 2
            },
            "colorscale": [
             [
              0,
              "rgb(2,4,25)"
             ],
             [
              0.06274509803921569,
              "rgb(24,15,41)"
             ],
             [
              0.12549019607843137,
              "rgb(47,23,57)"
             ],
             [
              0.18823529411764706,
              "rgb(71,28,72)"
             ],
             [
              0.25098039215686274,
              "rgb(97,30,82)"
             ],
             [
              0.3137254901960784,
              "rgb(123,30,89)"
             ],
             [
              0.3764705882352941,
              "rgb(150,27,91)"
             ],
             [
              0.4392156862745098,
              "rgb(177,22,88)"
             ],
             [
              0.5019607843137255,
              "rgb(203,26,79)"
             ],
             [
              0.5647058823529412,
              "rgb(223,47,67)"
             ],
             [
              0.6274509803921569,
              "rgb(236,76,61)"
             ],
             [
              0.6901960784313725,
              "rgb(242,107,73)"
             ],
             [
              0.7529411764705882,
              "rgb(244,135,95)"
             ],
             [
              0.8156862745098039,
              "rgb(245,162,122)"
             ],
             [
              0.8784313725490196,
              "rgb(246,188,153)"
             ],
             [
              0.9411764705882353,
              "rgb(247,212,187)"
             ],
             [
              1,
              "rgb(250,234,220)"
             ]
            ],
            "type": "histogram2dcontour"
           }
          ],
          "mesh3d": [
           {
            "colorbar": {
             "outlinewidth": 0,
             "tickcolor": "rgb(36,36,36)",
             "ticklen": 8,
             "ticks": "outside",
             "tickwidth": 2
            },
            "type": "mesh3d"
           }
          ],
          "parcoords": [
           {
            "line": {
             "colorbar": {
              "outlinewidth": 0,
              "tickcolor": "rgb(36,36,36)",
              "ticklen": 8,
              "ticks": "outside",
              "tickwidth": 2
             }
            },
            "type": "parcoords"
           }
          ],
          "pie": [
           {
            "automargin": true,
            "type": "pie"
           }
          ],
          "scatter": [
           {
            "fillpattern": {
             "fillmode": "overlay",
             "size": 10,
             "solidity": 0.2
            },
            "type": "scatter"
           }
          ],
          "scatter3d": [
           {
            "line": {
             "colorbar": {
              "outlinewidth": 0,
              "tickcolor": "rgb(36,36,36)",
              "ticklen": 8,
              "ticks": "outside",
              "tickwidth": 2
             }
            },
            "marker": {
             "colorbar": {
              "outlinewidth": 0,
              "tickcolor": "rgb(36,36,36)",
              "ticklen": 8,
              "ticks": "outside",
              "tickwidth": 2
             }
            },
            "type": "scatter3d"
           }
          ],
          "scattercarpet": [
           {
            "marker": {
             "colorbar": {
              "outlinewidth": 0,
              "tickcolor": "rgb(36,36,36)",
              "ticklen": 8,
              "ticks": "outside",
              "tickwidth": 2
             }
            },
            "type": "scattercarpet"
           }
          ],
          "scattergeo": [
           {
            "marker": {
             "colorbar": {
              "outlinewidth": 0,
              "tickcolor": "rgb(36,36,36)",
              "ticklen": 8,
              "ticks": "outside",
              "tickwidth": 2
             }
            },
            "type": "scattergeo"
           }
          ],
          "scattergl": [
           {
            "marker": {
             "colorbar": {
              "outlinewidth": 0,
              "tickcolor": "rgb(36,36,36)",
              "ticklen": 8,
              "ticks": "outside",
              "tickwidth": 2
             }
            },
            "type": "scattergl"
           }
          ],
          "scattermapbox": [
           {
            "marker": {
             "colorbar": {
              "outlinewidth": 0,
              "tickcolor": "rgb(36,36,36)",
              "ticklen": 8,
              "ticks": "outside",
              "tickwidth": 2
             }
            },
            "type": "scattermapbox"
           }
          ],
          "scatterpolar": [
           {
            "marker": {
             "colorbar": {
              "outlinewidth": 0,
              "tickcolor": "rgb(36,36,36)",
              "ticklen": 8,
              "ticks": "outside",
              "tickwidth": 2
             }
            },
            "type": "scatterpolar"
           }
          ],
          "scatterpolargl": [
           {
            "marker": {
             "colorbar": {
              "outlinewidth": 0,
              "tickcolor": "rgb(36,36,36)",
              "ticklen": 8,
              "ticks": "outside",
              "tickwidth": 2
             }
            },
            "type": "scatterpolargl"
           }
          ],
          "scatterternary": [
           {
            "marker": {
             "colorbar": {
              "outlinewidth": 0,
              "tickcolor": "rgb(36,36,36)",
              "ticklen": 8,
              "ticks": "outside",
              "tickwidth": 2
             }
            },
            "type": "scatterternary"
           }
          ],
          "surface": [
           {
            "colorbar": {
             "outlinewidth": 0,
             "tickcolor": "rgb(36,36,36)",
             "ticklen": 8,
             "ticks": "outside",
             "tickwidth": 2
            },
            "colorscale": [
             [
              0,
              "rgb(2,4,25)"
             ],
             [
              0.06274509803921569,
              "rgb(24,15,41)"
             ],
             [
              0.12549019607843137,
              "rgb(47,23,57)"
             ],
             [
              0.18823529411764706,
              "rgb(71,28,72)"
             ],
             [
              0.25098039215686274,
              "rgb(97,30,82)"
             ],
             [
              0.3137254901960784,
              "rgb(123,30,89)"
             ],
             [
              0.3764705882352941,
              "rgb(150,27,91)"
             ],
             [
              0.4392156862745098,
              "rgb(177,22,88)"
             ],
             [
              0.5019607843137255,
              "rgb(203,26,79)"
             ],
             [
              0.5647058823529412,
              "rgb(223,47,67)"
             ],
             [
              0.6274509803921569,
              "rgb(236,76,61)"
             ],
             [
              0.6901960784313725,
              "rgb(242,107,73)"
             ],
             [
              0.7529411764705882,
              "rgb(244,135,95)"
             ],
             [
              0.8156862745098039,
              "rgb(245,162,122)"
             ],
             [
              0.8784313725490196,
              "rgb(246,188,153)"
             ],
             [
              0.9411764705882353,
              "rgb(247,212,187)"
             ],
             [
              1,
              "rgb(250,234,220)"
             ]
            ],
            "type": "surface"
           }
          ],
          "table": [
           {
            "cells": {
             "fill": {
              "color": "rgb(231,231,240)"
             },
             "line": {
              "color": "white"
             }
            },
            "header": {
             "fill": {
              "color": "rgb(183,183,191)"
             },
             "line": {
              "color": "white"
             }
            },
            "type": "table"
           }
          ]
         },
         "layout": {
          "annotationdefaults": {
           "arrowcolor": "rgb(67,103,167)"
          },
          "autotypenumbers": "strict",
          "coloraxis": {
           "colorbar": {
            "outlinewidth": 0,
            "tickcolor": "rgb(36,36,36)",
            "ticklen": 8,
            "ticks": "outside",
            "tickwidth": 2
           }
          },
          "colorscale": {
           "sequential": [
            [
             0,
             "rgb(2,4,25)"
            ],
            [
             0.06274509803921569,
             "rgb(24,15,41)"
            ],
            [
             0.12549019607843137,
             "rgb(47,23,57)"
            ],
            [
             0.18823529411764706,
             "rgb(71,28,72)"
            ],
            [
             0.25098039215686274,
             "rgb(97,30,82)"
            ],
            [
             0.3137254901960784,
             "rgb(123,30,89)"
            ],
            [
             0.3764705882352941,
             "rgb(150,27,91)"
            ],
            [
             0.4392156862745098,
             "rgb(177,22,88)"
            ],
            [
             0.5019607843137255,
             "rgb(203,26,79)"
            ],
            [
             0.5647058823529412,
             "rgb(223,47,67)"
            ],
            [
             0.6274509803921569,
             "rgb(236,76,61)"
            ],
            [
             0.6901960784313725,
             "rgb(242,107,73)"
            ],
            [
             0.7529411764705882,
             "rgb(244,135,95)"
            ],
            [
             0.8156862745098039,
             "rgb(245,162,122)"
            ],
            [
             0.8784313725490196,
             "rgb(246,188,153)"
            ],
            [
             0.9411764705882353,
             "rgb(247,212,187)"
            ],
            [
             1,
             "rgb(250,234,220)"
            ]
           ],
           "sequentialminus": [
            [
             0,
             "rgb(2,4,25)"
            ],
            [
             0.06274509803921569,
             "rgb(24,15,41)"
            ],
            [
             0.12549019607843137,
             "rgb(47,23,57)"
            ],
            [
             0.18823529411764706,
             "rgb(71,28,72)"
            ],
            [
             0.25098039215686274,
             "rgb(97,30,82)"
            ],
            [
             0.3137254901960784,
             "rgb(123,30,89)"
            ],
            [
             0.3764705882352941,
             "rgb(150,27,91)"
            ],
            [
             0.4392156862745098,
             "rgb(177,22,88)"
            ],
            [
             0.5019607843137255,
             "rgb(203,26,79)"
            ],
            [
             0.5647058823529412,
             "rgb(223,47,67)"
            ],
            [
             0.6274509803921569,
             "rgb(236,76,61)"
            ],
            [
             0.6901960784313725,
             "rgb(242,107,73)"
            ],
            [
             0.7529411764705882,
             "rgb(244,135,95)"
            ],
            [
             0.8156862745098039,
             "rgb(245,162,122)"
            ],
            [
             0.8784313725490196,
             "rgb(246,188,153)"
            ],
            [
             0.9411764705882353,
             "rgb(247,212,187)"
            ],
            [
             1,
             "rgb(250,234,220)"
            ]
           ]
          },
          "colorway": [
           "rgb(76,114,176)",
           "rgb(221,132,82)",
           "rgb(85,168,104)",
           "rgb(196,78,82)",
           "rgb(129,114,179)",
           "rgb(147,120,96)",
           "rgb(218,139,195)",
           "rgb(140,140,140)",
           "rgb(204,185,116)",
           "rgb(100,181,205)"
          ],
          "font": {
           "color": "rgb(36,36,36)"
          },
          "geo": {
           "bgcolor": "white",
           "lakecolor": "white",
           "landcolor": "rgb(234,234,242)",
           "showlakes": true,
           "showland": true,
           "subunitcolor": "white"
          },
          "hoverlabel": {
           "align": "left"
          },
          "hovermode": "closest",
          "paper_bgcolor": "white",
          "plot_bgcolor": "rgb(234,234,242)",
          "polar": {
           "angularaxis": {
            "gridcolor": "white",
            "linecolor": "white",
            "showgrid": true,
            "ticks": ""
           },
           "bgcolor": "rgb(234,234,242)",
           "radialaxis": {
            "gridcolor": "white",
            "linecolor": "white",
            "showgrid": true,
            "ticks": ""
           }
          },
          "scene": {
           "xaxis": {
            "backgroundcolor": "rgb(234,234,242)",
            "gridcolor": "white",
            "gridwidth": 2,
            "linecolor": "white",
            "showbackground": true,
            "showgrid": true,
            "ticks": "",
            "zerolinecolor": "white"
           },
           "yaxis": {
            "backgroundcolor": "rgb(234,234,242)",
            "gridcolor": "white",
            "gridwidth": 2,
            "linecolor": "white",
            "showbackground": true,
            "showgrid": true,
            "ticks": "",
            "zerolinecolor": "white"
           },
           "zaxis": {
            "backgroundcolor": "rgb(234,234,242)",
            "gridcolor": "white",
            "gridwidth": 2,
            "linecolor": "white",
            "showbackground": true,
            "showgrid": true,
            "ticks": "",
            "zerolinecolor": "white"
           }
          },
          "shapedefaults": {
           "fillcolor": "rgb(67,103,167)",
           "line": {
            "width": 0
           },
           "opacity": 0.5
          },
          "ternary": {
           "aaxis": {
            "gridcolor": "white",
            "linecolor": "white",
            "showgrid": true,
            "ticks": ""
           },
           "baxis": {
            "gridcolor": "white",
            "linecolor": "white",
            "showgrid": true,
            "ticks": ""
           },
           "bgcolor": "rgb(234,234,242)",
           "caxis": {
            "gridcolor": "white",
            "linecolor": "white",
            "showgrid": true,
            "ticks": ""
           }
          },
          "xaxis": {
           "automargin": true,
           "gridcolor": "white",
           "linecolor": "white",
           "showgrid": true,
           "ticks": "",
           "title": {
            "standoff": 15
           },
           "zerolinecolor": "white"
          },
          "yaxis": {
           "automargin": true,
           "gridcolor": "white",
           "linecolor": "white",
           "showgrid": true,
           "ticks": "",
           "title": {
            "standoff": 15
           },
           "zerolinecolor": "white"
          }
         }
        },
        "title": {
         "text": "Training and validation of SimpleRNN-500"
        },
        "width": 1200,
        "xaxis": {
         "anchor": "y",
         "domain": [
          0,
          0.475
         ],
         "title": {
          "text": "epochs"
         }
        },
        "xaxis2": {
         "anchor": "y2",
         "domain": [
          0.525,
          1
         ],
         "title": {
          "text": "epochs"
         }
        },
        "yaxis": {
         "anchor": "x",
         "domain": [
          0,
          1
         ],
         "title": {
          "text": "accuracy"
         }
        },
        "yaxis2": {
         "anchor": "x2",
         "domain": [
          0,
          1
         ],
         "title": {
          "text": "accuracy"
         }
        }
       }
      }
     },
     "metadata": {},
     "output_type": "display_data"
    }
   ],
   "source": [
    "dataset = AmazonDataset.load(train_path=path_dir + \"train_small.txt\", test_path=path_dir + \"test_small.txt\", max_features=500)\n",
    "rnn_model_500 = AmazonReviewsModel(500, 64, SimpleRNN, name='SimpleRNN-500')\n",
    "_, fig = rnn_model_500.train(dataset, f'{MODEL_PATH}/{rnn_model_500.name}.weights.h5', **train_default)\n",
    "print(rnn_model_500.evaluate(dataset.X_test, dataset.y_test))\n",
    "fig"
   ]
  },
  {
   "cell_type": "code",
   "execution_count": 2,
   "metadata": {},
   "outputs": [
    {
     "name": "stdout",
     "output_type": "stream",
     "text": [
      "Epoch 1/30\n"
     ]
    },
    {
     "name": "stderr",
     "output_type": "stream",
     "text": [
      "2024-04-16 22:46:13.924124: I external/local_xla/xla/service/service.cc:168] XLA service 0x73c02ca6efe0 initialized for platform CUDA (this does not guarantee that XLA will be used). Devices:\n",
      "2024-04-16 22:46:13.924150: I external/local_xla/xla/service/service.cc:176]   StreamExecutor device (0): NVIDIA GeForce RTX 3090, Compute Capability 8.6\n",
      "2024-04-16 22:46:13.924153: I external/local_xla/xla/service/service.cc:176]   StreamExecutor device (1): NVIDIA GeForce RTX 3090, Compute Capability 8.6\n",
      "2024-04-16 22:46:13.928717: I tensorflow/compiler/mlir/tensorflow/utils/dump_mlir_util.cc:269] disabling MLIR crash reproducer, set env var `MLIR_CRASH_REPRODUCER_DIRECTORY` to enable.\n",
      "2024-04-16 22:46:13.942186: I external/local_xla/xla/stream_executor/cuda/cuda_dnn.cc:454] Loaded cuDNN version 8907\n",
      "WARNING: All log messages before absl::InitializeLog() is called are written to STDERR\n",
      "I0000 00:00:1713300374.006254  283427 device_compiler.h:186] Compiled cluster using XLA!  This line is logged at most once for the lifetime of the process.\n"
     ]
    },
    {
     "name": "stdout",
     "output_type": "stream",
     "text": [
      "40/40 [==============================] - 8s 150ms/step - loss: 0.6554 - accuracy: 0.6127 - val_loss: 0.5994 - val_accuracy: 0.7074\n",
      "Epoch 2/30\n",
      "40/40 [==============================] - 4s 111ms/step - loss: 0.5941 - accuracy: 0.7036 - val_loss: 0.6111 - val_accuracy: 0.6542\n",
      "Epoch 3/30\n",
      "40/40 [==============================] - 4s 112ms/step - loss: 0.5905 - accuracy: 0.6856 - val_loss: 0.6454 - val_accuracy: 0.6020\n",
      "Epoch 4/30\n",
      "40/40 [==============================] - 4s 112ms/step - loss: 0.5796 - accuracy: 0.6872 - val_loss: 0.5316 - val_accuracy: 0.7530\n",
      "Epoch 5/30\n",
      "40/40 [==============================] - 5s 117ms/step - loss: 0.4803 - accuracy: 0.7790 - val_loss: 0.4756 - val_accuracy: 0.7728\n",
      "Epoch 6/30\n",
      "40/40 [==============================] - 4s 111ms/step - loss: 0.4408 - accuracy: 0.7968 - val_loss: 0.4317 - val_accuracy: 0.8146\n",
      "Epoch 7/30\n",
      "40/40 [==============================] - 4s 110ms/step - loss: 0.3656 - accuracy: 0.8448 - val_loss: 0.3829 - val_accuracy: 0.8290\n",
      "Epoch 8/30\n",
      "40/40 [==============================] - 4s 112ms/step - loss: 0.2970 - accuracy: 0.8770 - val_loss: 0.3748 - val_accuracy: 0.8368\n",
      "Epoch 9/30\n",
      "40/40 [==============================] - 5s 113ms/step - loss: 0.2544 - accuracy: 0.8983 - val_loss: 0.3892 - val_accuracy: 0.8410\n",
      "Epoch 10/30\n",
      "40/40 [==============================] - 4s 111ms/step - loss: 0.2155 - accuracy: 0.9174 - val_loss: 0.4440 - val_accuracy: 0.8078\n",
      "Epoch 11/30\n",
      "40/40 [==============================] - 5s 117ms/step - loss: 0.1691 - accuracy: 0.9403 - val_loss: 0.4782 - val_accuracy: 0.8130\n",
      "Epoch 12/30\n",
      "40/40 [==============================] - 5s 113ms/step - loss: 0.1272 - accuracy: 0.9568 - val_loss: 0.5501 - val_accuracy: 0.8160\n",
      "Epoch 13/30\n",
      "40/40 [==============================] - 4s 110ms/step - loss: 0.0967 - accuracy: 0.9684 - val_loss: 0.6213 - val_accuracy: 0.8296\n",
      "[0.3784385919570923, 0.83815997838974]\n"
     ]
    },
    {
     "data": {
      "application/vnd.plotly.v1+json": {
       "config": {
        "plotlyServerURL": "https://plot.ly"
       },
       "data": [
        {
         "line": {
          "color": "#636EFA"
         },
         "marker": {
          "color": "#636EFA"
         },
         "mode": "lines+markers",
         "name": "train",
         "showlegend": true,
         "type": "scatter",
         "x": [
          1,
          2,
          3,
          4,
          5,
          6,
          7,
          8,
          9,
          10,
          11,
          12,
          13
         ],
         "xaxis": "x",
         "y": [
          0.6554072499275208,
          0.5940985083580017,
          0.59051114320755,
          0.5795983672142029,
          0.48025140166282654,
          0.4408358335494995,
          0.3655930459499359,
          0.29695257544517517,
          0.25442183017730713,
          0.21554692089557648,
          0.16909436881542206,
          0.12721407413482666,
          0.09671659767627716
         ],
         "yaxis": "y"
        },
        {
         "line": {
          "color": "#EF553B"
         },
         "marker": {
          "color": "#EF553B"
         },
         "mode": "lines+markers",
         "name": "val",
         "showlegend": true,
         "type": "scatter",
         "x": [
          1,
          2,
          3,
          4,
          5,
          6,
          7,
          8,
          9,
          10,
          11,
          12,
          13
         ],
         "xaxis": "x",
         "y": [
          0.5994095802307129,
          0.6111247539520264,
          0.645362913608551,
          0.5315772294998169,
          0.4755818247795105,
          0.43171343207359314,
          0.38291674852371216,
          0.3747505843639374,
          0.38924098014831543,
          0.4440259337425232,
          0.4781736433506012,
          0.5501000285148621,
          0.6212660074234009
         ],
         "yaxis": "y"
        },
        {
         "line": {
          "color": "#636EFA"
         },
         "marker": {
          "color": "#636EFA"
         },
         "mode": "lines+markers",
         "name": "train",
         "showlegend": false,
         "type": "scatter",
         "x": [
          1,
          2,
          3,
          4,
          5,
          6,
          7,
          8,
          9,
          10,
          11,
          12,
          13
         ],
         "xaxis": "x2",
         "y": [
          0.6127499938011169,
          0.7036499977111816,
          0.6856499910354614,
          0.6872000098228455,
          0.7789999842643738,
          0.7968000173568726,
          0.8447999954223633,
          0.8769500255584717,
          0.8982999920845032,
          0.9174000024795532,
          0.9402999877929688,
          0.956849992275238,
          0.9684000015258789
         ],
         "yaxis": "y2"
        },
        {
         "line": {
          "color": "#EF553B"
         },
         "marker": {
          "color": "#EF553B"
         },
         "mode": "lines+markers",
         "name": "val",
         "showlegend": false,
         "type": "scatter",
         "x": [
          1,
          2,
          3,
          4,
          5,
          6,
          7,
          8,
          9,
          10,
          11,
          12,
          13
         ],
         "xaxis": "x2",
         "y": [
          0.7074000239372253,
          0.65420001745224,
          0.6019999980926514,
          0.753000020980835,
          0.7728000283241272,
          0.8145999908447266,
          0.8289999961853027,
          0.8367999792098999,
          0.8410000205039978,
          0.8077999949455261,
          0.8130000233650208,
          0.8159999847412109,
          0.8295999765396118
         ],
         "yaxis": "y2"
        }
       ],
       "layout": {
        "annotations": [
         {
          "font": {
           "size": 16
          },
          "showarrow": false,
          "text": "loss",
          "x": 0.2375,
          "xanchor": "center",
          "xref": "paper",
          "y": 1,
          "yanchor": "bottom",
          "yref": "paper"
         },
         {
          "font": {
           "size": 16
          },
          "showarrow": false,
          "text": "accuracy",
          "x": 0.7625,
          "xanchor": "center",
          "xref": "paper",
          "y": 1,
          "yanchor": "bottom",
          "yref": "paper"
         }
        ],
        "height": 400,
        "margin": {
         "b": 10,
         "l": 10,
         "r": 10,
         "t": 50
        },
        "template": {
         "data": {
          "bar": [
           {
            "error_x": {
             "color": "rgb(36,36,36)"
            },
            "error_y": {
             "color": "rgb(36,36,36)"
            },
            "marker": {
             "line": {
              "color": "rgb(234,234,242)",
              "width": 0.5
             },
             "pattern": {
              "fillmode": "overlay",
              "size": 10,
              "solidity": 0.2
             }
            },
            "type": "bar"
           }
          ],
          "barpolar": [
           {
            "marker": {
             "line": {
              "color": "rgb(234,234,242)",
              "width": 0.5
             },
             "pattern": {
              "fillmode": "overlay",
              "size": 10,
              "solidity": 0.2
             }
            },
            "type": "barpolar"
           }
          ],
          "carpet": [
           {
            "aaxis": {
             "endlinecolor": "rgb(36,36,36)",
             "gridcolor": "white",
             "linecolor": "white",
             "minorgridcolor": "white",
             "startlinecolor": "rgb(36,36,36)"
            },
            "baxis": {
             "endlinecolor": "rgb(36,36,36)",
             "gridcolor": "white",
             "linecolor": "white",
             "minorgridcolor": "white",
             "startlinecolor": "rgb(36,36,36)"
            },
            "type": "carpet"
           }
          ],
          "choropleth": [
           {
            "colorbar": {
             "outlinewidth": 0,
             "tickcolor": "rgb(36,36,36)",
             "ticklen": 8,
             "ticks": "outside",
             "tickwidth": 2
            },
            "type": "choropleth"
           }
          ],
          "contour": [
           {
            "colorbar": {
             "outlinewidth": 0,
             "tickcolor": "rgb(36,36,36)",
             "ticklen": 8,
             "ticks": "outside",
             "tickwidth": 2
            },
            "colorscale": [
             [
              0,
              "rgb(2,4,25)"
             ],
             [
              0.06274509803921569,
              "rgb(24,15,41)"
             ],
             [
              0.12549019607843137,
              "rgb(47,23,57)"
             ],
             [
              0.18823529411764706,
              "rgb(71,28,72)"
             ],
             [
              0.25098039215686274,
              "rgb(97,30,82)"
             ],
             [
              0.3137254901960784,
              "rgb(123,30,89)"
             ],
             [
              0.3764705882352941,
              "rgb(150,27,91)"
             ],
             [
              0.4392156862745098,
              "rgb(177,22,88)"
             ],
             [
              0.5019607843137255,
              "rgb(203,26,79)"
             ],
             [
              0.5647058823529412,
              "rgb(223,47,67)"
             ],
             [
              0.6274509803921569,
              "rgb(236,76,61)"
             ],
             [
              0.6901960784313725,
              "rgb(242,107,73)"
             ],
             [
              0.7529411764705882,
              "rgb(244,135,95)"
             ],
             [
              0.8156862745098039,
              "rgb(245,162,122)"
             ],
             [
              0.8784313725490196,
              "rgb(246,188,153)"
             ],
             [
              0.9411764705882353,
              "rgb(247,212,187)"
             ],
             [
              1,
              "rgb(250,234,220)"
             ]
            ],
            "type": "contour"
           }
          ],
          "contourcarpet": [
           {
            "colorbar": {
             "outlinewidth": 0,
             "tickcolor": "rgb(36,36,36)",
             "ticklen": 8,
             "ticks": "outside",
             "tickwidth": 2
            },
            "type": "contourcarpet"
           }
          ],
          "heatmap": [
           {
            "colorbar": {
             "outlinewidth": 0,
             "tickcolor": "rgb(36,36,36)",
             "ticklen": 8,
             "ticks": "outside",
             "tickwidth": 2
            },
            "colorscale": [
             [
              0,
              "rgb(2,4,25)"
             ],
             [
              0.06274509803921569,
              "rgb(24,15,41)"
             ],
             [
              0.12549019607843137,
              "rgb(47,23,57)"
             ],
             [
              0.18823529411764706,
              "rgb(71,28,72)"
             ],
             [
              0.25098039215686274,
              "rgb(97,30,82)"
             ],
             [
              0.3137254901960784,
              "rgb(123,30,89)"
             ],
             [
              0.3764705882352941,
              "rgb(150,27,91)"
             ],
             [
              0.4392156862745098,
              "rgb(177,22,88)"
             ],
             [
              0.5019607843137255,
              "rgb(203,26,79)"
             ],
             [
              0.5647058823529412,
              "rgb(223,47,67)"
             ],
             [
              0.6274509803921569,
              "rgb(236,76,61)"
             ],
             [
              0.6901960784313725,
              "rgb(242,107,73)"
             ],
             [
              0.7529411764705882,
              "rgb(244,135,95)"
             ],
             [
              0.8156862745098039,
              "rgb(245,162,122)"
             ],
             [
              0.8784313725490196,
              "rgb(246,188,153)"
             ],
             [
              0.9411764705882353,
              "rgb(247,212,187)"
             ],
             [
              1,
              "rgb(250,234,220)"
             ]
            ],
            "type": "heatmap"
           }
          ],
          "heatmapgl": [
           {
            "colorbar": {
             "outlinewidth": 0,
             "tickcolor": "rgb(36,36,36)",
             "ticklen": 8,
             "ticks": "outside",
             "tickwidth": 2
            },
            "colorscale": [
             [
              0,
              "rgb(2,4,25)"
             ],
             [
              0.06274509803921569,
              "rgb(24,15,41)"
             ],
             [
              0.12549019607843137,
              "rgb(47,23,57)"
             ],
             [
              0.18823529411764706,
              "rgb(71,28,72)"
             ],
             [
              0.25098039215686274,
              "rgb(97,30,82)"
             ],
             [
              0.3137254901960784,
              "rgb(123,30,89)"
             ],
             [
              0.3764705882352941,
              "rgb(150,27,91)"
             ],
             [
              0.4392156862745098,
              "rgb(177,22,88)"
             ],
             [
              0.5019607843137255,
              "rgb(203,26,79)"
             ],
             [
              0.5647058823529412,
              "rgb(223,47,67)"
             ],
             [
              0.6274509803921569,
              "rgb(236,76,61)"
             ],
             [
              0.6901960784313725,
              "rgb(242,107,73)"
             ],
             [
              0.7529411764705882,
              "rgb(244,135,95)"
             ],
             [
              0.8156862745098039,
              "rgb(245,162,122)"
             ],
             [
              0.8784313725490196,
              "rgb(246,188,153)"
             ],
             [
              0.9411764705882353,
              "rgb(247,212,187)"
             ],
             [
              1,
              "rgb(250,234,220)"
             ]
            ],
            "type": "heatmapgl"
           }
          ],
          "histogram": [
           {
            "marker": {
             "pattern": {
              "fillmode": "overlay",
              "size": 10,
              "solidity": 0.2
             }
            },
            "type": "histogram"
           }
          ],
          "histogram2d": [
           {
            "colorbar": {
             "outlinewidth": 0,
             "tickcolor": "rgb(36,36,36)",
             "ticklen": 8,
             "ticks": "outside",
             "tickwidth": 2
            },
            "colorscale": [
             [
              0,
              "rgb(2,4,25)"
             ],
             [
              0.06274509803921569,
              "rgb(24,15,41)"
             ],
             [
              0.12549019607843137,
              "rgb(47,23,57)"
             ],
             [
              0.18823529411764706,
              "rgb(71,28,72)"
             ],
             [
              0.25098039215686274,
              "rgb(97,30,82)"
             ],
             [
              0.3137254901960784,
              "rgb(123,30,89)"
             ],
             [
              0.3764705882352941,
              "rgb(150,27,91)"
             ],
             [
              0.4392156862745098,
              "rgb(177,22,88)"
             ],
             [
              0.5019607843137255,
              "rgb(203,26,79)"
             ],
             [
              0.5647058823529412,
              "rgb(223,47,67)"
             ],
             [
              0.6274509803921569,
              "rgb(236,76,61)"
             ],
             [
              0.6901960784313725,
              "rgb(242,107,73)"
             ],
             [
              0.7529411764705882,
              "rgb(244,135,95)"
             ],
             [
              0.8156862745098039,
              "rgb(245,162,122)"
             ],
             [
              0.8784313725490196,
              "rgb(246,188,153)"
             ],
             [
              0.9411764705882353,
              "rgb(247,212,187)"
             ],
             [
              1,
              "rgb(250,234,220)"
             ]
            ],
            "type": "histogram2d"
           }
          ],
          "histogram2dcontour": [
           {
            "colorbar": {
             "outlinewidth": 0,
             "tickcolor": "rgb(36,36,36)",
             "ticklen": 8,
             "ticks": "outside",
             "tickwidth": 2
            },
            "colorscale": [
             [
              0,
              "rgb(2,4,25)"
             ],
             [
              0.06274509803921569,
              "rgb(24,15,41)"
             ],
             [
              0.12549019607843137,
              "rgb(47,23,57)"
             ],
             [
              0.18823529411764706,
              "rgb(71,28,72)"
             ],
             [
              0.25098039215686274,
              "rgb(97,30,82)"
             ],
             [
              0.3137254901960784,
              "rgb(123,30,89)"
             ],
             [
              0.3764705882352941,
              "rgb(150,27,91)"
             ],
             [
              0.4392156862745098,
              "rgb(177,22,88)"
             ],
             [
              0.5019607843137255,
              "rgb(203,26,79)"
             ],
             [
              0.5647058823529412,
              "rgb(223,47,67)"
             ],
             [
              0.6274509803921569,
              "rgb(236,76,61)"
             ],
             [
              0.6901960784313725,
              "rgb(242,107,73)"
             ],
             [
              0.7529411764705882,
              "rgb(244,135,95)"
             ],
             [
              0.8156862745098039,
              "rgb(245,162,122)"
             ],
             [
              0.8784313725490196,
              "rgb(246,188,153)"
             ],
             [
              0.9411764705882353,
              "rgb(247,212,187)"
             ],
             [
              1,
              "rgb(250,234,220)"
             ]
            ],
            "type": "histogram2dcontour"
           }
          ],
          "mesh3d": [
           {
            "colorbar": {
             "outlinewidth": 0,
             "tickcolor": "rgb(36,36,36)",
             "ticklen": 8,
             "ticks": "outside",
             "tickwidth": 2
            },
            "type": "mesh3d"
           }
          ],
          "parcoords": [
           {
            "line": {
             "colorbar": {
              "outlinewidth": 0,
              "tickcolor": "rgb(36,36,36)",
              "ticklen": 8,
              "ticks": "outside",
              "tickwidth": 2
             }
            },
            "type": "parcoords"
           }
          ],
          "pie": [
           {
            "automargin": true,
            "type": "pie"
           }
          ],
          "scatter": [
           {
            "fillpattern": {
             "fillmode": "overlay",
             "size": 10,
             "solidity": 0.2
            },
            "type": "scatter"
           }
          ],
          "scatter3d": [
           {
            "line": {
             "colorbar": {
              "outlinewidth": 0,
              "tickcolor": "rgb(36,36,36)",
              "ticklen": 8,
              "ticks": "outside",
              "tickwidth": 2
             }
            },
            "marker": {
             "colorbar": {
              "outlinewidth": 0,
              "tickcolor": "rgb(36,36,36)",
              "ticklen": 8,
              "ticks": "outside",
              "tickwidth": 2
             }
            },
            "type": "scatter3d"
           }
          ],
          "scattercarpet": [
           {
            "marker": {
             "colorbar": {
              "outlinewidth": 0,
              "tickcolor": "rgb(36,36,36)",
              "ticklen": 8,
              "ticks": "outside",
              "tickwidth": 2
             }
            },
            "type": "scattercarpet"
           }
          ],
          "scattergeo": [
           {
            "marker": {
             "colorbar": {
              "outlinewidth": 0,
              "tickcolor": "rgb(36,36,36)",
              "ticklen": 8,
              "ticks": "outside",
              "tickwidth": 2
             }
            },
            "type": "scattergeo"
           }
          ],
          "scattergl": [
           {
            "marker": {
             "colorbar": {
              "outlinewidth": 0,
              "tickcolor": "rgb(36,36,36)",
              "ticklen": 8,
              "ticks": "outside",
              "tickwidth": 2
             }
            },
            "type": "scattergl"
           }
          ],
          "scattermapbox": [
           {
            "marker": {
             "colorbar": {
              "outlinewidth": 0,
              "tickcolor": "rgb(36,36,36)",
              "ticklen": 8,
              "ticks": "outside",
              "tickwidth": 2
             }
            },
            "type": "scattermapbox"
           }
          ],
          "scatterpolar": [
           {
            "marker": {
             "colorbar": {
              "outlinewidth": 0,
              "tickcolor": "rgb(36,36,36)",
              "ticklen": 8,
              "ticks": "outside",
              "tickwidth": 2
             }
            },
            "type": "scatterpolar"
           }
          ],
          "scatterpolargl": [
           {
            "marker": {
             "colorbar": {
              "outlinewidth": 0,
              "tickcolor": "rgb(36,36,36)",
              "ticklen": 8,
              "ticks": "outside",
              "tickwidth": 2
             }
            },
            "type": "scatterpolargl"
           }
          ],
          "scatterternary": [
           {
            "marker": {
             "colorbar": {
              "outlinewidth": 0,
              "tickcolor": "rgb(36,36,36)",
              "ticklen": 8,
              "ticks": "outside",
              "tickwidth": 2
             }
            },
            "type": "scatterternary"
           }
          ],
          "surface": [
           {
            "colorbar": {
             "outlinewidth": 0,
             "tickcolor": "rgb(36,36,36)",
             "ticklen": 8,
             "ticks": "outside",
             "tickwidth": 2
            },
            "colorscale": [
             [
              0,
              "rgb(2,4,25)"
             ],
             [
              0.06274509803921569,
              "rgb(24,15,41)"
             ],
             [
              0.12549019607843137,
              "rgb(47,23,57)"
             ],
             [
              0.18823529411764706,
              "rgb(71,28,72)"
             ],
             [
              0.25098039215686274,
              "rgb(97,30,82)"
             ],
             [
              0.3137254901960784,
              "rgb(123,30,89)"
             ],
             [
              0.3764705882352941,
              "rgb(150,27,91)"
             ],
             [
              0.4392156862745098,
              "rgb(177,22,88)"
             ],
             [
              0.5019607843137255,
              "rgb(203,26,79)"
             ],
             [
              0.5647058823529412,
              "rgb(223,47,67)"
             ],
             [
              0.6274509803921569,
              "rgb(236,76,61)"
             ],
             [
              0.6901960784313725,
              "rgb(242,107,73)"
             ],
             [
              0.7529411764705882,
              "rgb(244,135,95)"
             ],
             [
              0.8156862745098039,
              "rgb(245,162,122)"
             ],
             [
              0.8784313725490196,
              "rgb(246,188,153)"
             ],
             [
              0.9411764705882353,
              "rgb(247,212,187)"
             ],
             [
              1,
              "rgb(250,234,220)"
             ]
            ],
            "type": "surface"
           }
          ],
          "table": [
           {
            "cells": {
             "fill": {
              "color": "rgb(231,231,240)"
             },
             "line": {
              "color": "white"
             }
            },
            "header": {
             "fill": {
              "color": "rgb(183,183,191)"
             },
             "line": {
              "color": "white"
             }
            },
            "type": "table"
           }
          ]
         },
         "layout": {
          "annotationdefaults": {
           "arrowcolor": "rgb(67,103,167)"
          },
          "autotypenumbers": "strict",
          "coloraxis": {
           "colorbar": {
            "outlinewidth": 0,
            "tickcolor": "rgb(36,36,36)",
            "ticklen": 8,
            "ticks": "outside",
            "tickwidth": 2
           }
          },
          "colorscale": {
           "sequential": [
            [
             0,
             "rgb(2,4,25)"
            ],
            [
             0.06274509803921569,
             "rgb(24,15,41)"
            ],
            [
             0.12549019607843137,
             "rgb(47,23,57)"
            ],
            [
             0.18823529411764706,
             "rgb(71,28,72)"
            ],
            [
             0.25098039215686274,
             "rgb(97,30,82)"
            ],
            [
             0.3137254901960784,
             "rgb(123,30,89)"
            ],
            [
             0.3764705882352941,
             "rgb(150,27,91)"
            ],
            [
             0.4392156862745098,
             "rgb(177,22,88)"
            ],
            [
             0.5019607843137255,
             "rgb(203,26,79)"
            ],
            [
             0.5647058823529412,
             "rgb(223,47,67)"
            ],
            [
             0.6274509803921569,
             "rgb(236,76,61)"
            ],
            [
             0.6901960784313725,
             "rgb(242,107,73)"
            ],
            [
             0.7529411764705882,
             "rgb(244,135,95)"
            ],
            [
             0.8156862745098039,
             "rgb(245,162,122)"
            ],
            [
             0.8784313725490196,
             "rgb(246,188,153)"
            ],
            [
             0.9411764705882353,
             "rgb(247,212,187)"
            ],
            [
             1,
             "rgb(250,234,220)"
            ]
           ],
           "sequentialminus": [
            [
             0,
             "rgb(2,4,25)"
            ],
            [
             0.06274509803921569,
             "rgb(24,15,41)"
            ],
            [
             0.12549019607843137,
             "rgb(47,23,57)"
            ],
            [
             0.18823529411764706,
             "rgb(71,28,72)"
            ],
            [
             0.25098039215686274,
             "rgb(97,30,82)"
            ],
            [
             0.3137254901960784,
             "rgb(123,30,89)"
            ],
            [
             0.3764705882352941,
             "rgb(150,27,91)"
            ],
            [
             0.4392156862745098,
             "rgb(177,22,88)"
            ],
            [
             0.5019607843137255,
             "rgb(203,26,79)"
            ],
            [
             0.5647058823529412,
             "rgb(223,47,67)"
            ],
            [
             0.6274509803921569,
             "rgb(236,76,61)"
            ],
            [
             0.6901960784313725,
             "rgb(242,107,73)"
            ],
            [
             0.7529411764705882,
             "rgb(244,135,95)"
            ],
            [
             0.8156862745098039,
             "rgb(245,162,122)"
            ],
            [
             0.8784313725490196,
             "rgb(246,188,153)"
            ],
            [
             0.9411764705882353,
             "rgb(247,212,187)"
            ],
            [
             1,
             "rgb(250,234,220)"
            ]
           ]
          },
          "colorway": [
           "rgb(76,114,176)",
           "rgb(221,132,82)",
           "rgb(85,168,104)",
           "rgb(196,78,82)",
           "rgb(129,114,179)",
           "rgb(147,120,96)",
           "rgb(218,139,195)",
           "rgb(140,140,140)",
           "rgb(204,185,116)",
           "rgb(100,181,205)"
          ],
          "font": {
           "color": "rgb(36,36,36)"
          },
          "geo": {
           "bgcolor": "white",
           "lakecolor": "white",
           "landcolor": "rgb(234,234,242)",
           "showlakes": true,
           "showland": true,
           "subunitcolor": "white"
          },
          "hoverlabel": {
           "align": "left"
          },
          "hovermode": "closest",
          "paper_bgcolor": "white",
          "plot_bgcolor": "rgb(234,234,242)",
          "polar": {
           "angularaxis": {
            "gridcolor": "white",
            "linecolor": "white",
            "showgrid": true,
            "ticks": ""
           },
           "bgcolor": "rgb(234,234,242)",
           "radialaxis": {
            "gridcolor": "white",
            "linecolor": "white",
            "showgrid": true,
            "ticks": ""
           }
          },
          "scene": {
           "xaxis": {
            "backgroundcolor": "rgb(234,234,242)",
            "gridcolor": "white",
            "gridwidth": 2,
            "linecolor": "white",
            "showbackground": true,
            "showgrid": true,
            "ticks": "",
            "zerolinecolor": "white"
           },
           "yaxis": {
            "backgroundcolor": "rgb(234,234,242)",
            "gridcolor": "white",
            "gridwidth": 2,
            "linecolor": "white",
            "showbackground": true,
            "showgrid": true,
            "ticks": "",
            "zerolinecolor": "white"
           },
           "zaxis": {
            "backgroundcolor": "rgb(234,234,242)",
            "gridcolor": "white",
            "gridwidth": 2,
            "linecolor": "white",
            "showbackground": true,
            "showgrid": true,
            "ticks": "",
            "zerolinecolor": "white"
           }
          },
          "shapedefaults": {
           "fillcolor": "rgb(67,103,167)",
           "line": {
            "width": 0
           },
           "opacity": 0.5
          },
          "ternary": {
           "aaxis": {
            "gridcolor": "white",
            "linecolor": "white",
            "showgrid": true,
            "ticks": ""
           },
           "baxis": {
            "gridcolor": "white",
            "linecolor": "white",
            "showgrid": true,
            "ticks": ""
           },
           "bgcolor": "rgb(234,234,242)",
           "caxis": {
            "gridcolor": "white",
            "linecolor": "white",
            "showgrid": true,
            "ticks": ""
           }
          },
          "xaxis": {
           "automargin": true,
           "gridcolor": "white",
           "linecolor": "white",
           "showgrid": true,
           "ticks": "",
           "title": {
            "standoff": 15
           },
           "zerolinecolor": "white"
          },
          "yaxis": {
           "automargin": true,
           "gridcolor": "white",
           "linecolor": "white",
           "showgrid": true,
           "ticks": "",
           "title": {
            "standoff": 15
           },
           "zerolinecolor": "white"
          }
         }
        },
        "title": {
         "text": "Training and validation of SimpleRNN-base"
        },
        "width": 1200,
        "xaxis": {
         "anchor": "y",
         "domain": [
          0,
          0.475
         ],
         "title": {
          "text": "epochs"
         }
        },
        "xaxis2": {
         "anchor": "y2",
         "domain": [
          0.525,
          1
         ],
         "title": {
          "text": "epochs"
         }
        },
        "yaxis": {
         "anchor": "x",
         "domain": [
          0,
          1
         ],
         "title": {
          "text": "accuracy"
         }
        },
        "yaxis2": {
         "anchor": "x2",
         "domain": [
          0,
          1
         ],
         "title": {
          "text": "accuracy"
         }
        }
       }
      }
     },
     "metadata": {},
     "output_type": "display_data"
    }
   ],
   "source": [
    "rnn_model = AmazonReviewsModel(MAX_FEATURES, 64, SimpleRNN, name='SimpleRNN-base')\n",
    "_, fig = rnn_model.train(dataset, f'{MODEL_PATH}/{rnn_model.name}.weights.h5', **train_default)\n",
    "print(rnn_model.evaluate(dataset.X_test, dataset.y_test))\n",
    "fig"
   ]
  },
  {
   "cell_type": "markdown",
   "metadata": {},
   "source": [
    "The [simple RNN cell](https://keras.io/api/layers/recurrent_layers/simple_rnn/) with $|\\mathcal{V}|=1000$ reaches 83.81% of test accuracy and is able to learn uppon the 95% of train data. We see that the vocabulary size plays an important role in the performance of the model: when using a small vocabulary size (e.g. 200) the performance does not reach more than the 80% of the accuracy. By increasing its value up to $|\\mathcal{V}| = 1000$ we see 5 points of improvement in the evaluation set. In the next cells we maintain $|\\mathcal{V}|=1000$ and substitute the simple RNN by two different recurrent cells: the [LSTM](https://keras.io/api/layers/recurrent_layers/lstm/) ([Hochreiter et al., 1997](https://www.bioinf.jku.at/publications/older/2604.pdf)) and the [GRU](https://keras.io/api/layers/recurrent_layers/gru/) ([Chung et al., 2014](https://arxiv.org/abs/1412.3555)). In the original papers, authors claimed to improve the performance of the simple RNN with a better inner representation of the temporal data flow by the introduction of different gates modeled with different learnable weights."
   ]
  },
  {
   "cell_type": "code",
   "execution_count": 3,
   "metadata": {},
   "outputs": [
    {
     "name": "stdout",
     "output_type": "stream",
     "text": [
      "Epoch 1/30\n"
     ]
    },
    {
     "name": "stderr",
     "output_type": "stream",
     "text": [
      "2024-04-16 22:47:19.330509: W tensorflow/core/common_runtime/type_inference.cc:339] Type inference failed. This indicates an invalid graph that escaped type checking. Error message: INVALID_ARGUMENT: expected compatible input types, but input 1:\n",
      "type_id: TFT_OPTIONAL\n",
      "args {\n",
      "  type_id: TFT_PRODUCT\n",
      "  args {\n",
      "    type_id: TFT_TENSOR\n",
      "    args {\n",
      "      type_id: TFT_INT32\n",
      "    }\n",
      "  }\n",
      "}\n",
      " is neither a subtype nor a supertype of the combined inputs preceding it:\n",
      "type_id: TFT_OPTIONAL\n",
      "args {\n",
      "  type_id: TFT_PRODUCT\n",
      "  args {\n",
      "    type_id: TFT_TENSOR\n",
      "    args {\n",
      "      type_id: TFT_FLOAT\n",
      "    }\n",
      "  }\n",
      "}\n",
      "\n",
      "\tfor Tuple type infernce function 0\n",
      "\twhile inferring type of node 'cond_19/output/_22'\n"
     ]
    },
    {
     "name": "stdout",
     "output_type": "stream",
     "text": [
      "40/40 [==============================] - 6s 68ms/step - loss: 0.6057 - accuracy: 0.6461 - val_loss: 0.4137 - val_accuracy: 0.8198\n",
      "Epoch 2/30\n",
      "40/40 [==============================] - 1s 26ms/step - loss: 0.3696 - accuracy: 0.8446 - val_loss: 0.3717 - val_accuracy: 0.8582\n",
      "Epoch 3/30\n",
      "40/40 [==============================] - 1s 22ms/step - loss: 0.3325 - accuracy: 0.8641 - val_loss: 0.3372 - val_accuracy: 0.8618\n",
      "Epoch 4/30\n",
      "40/40 [==============================] - 1s 21ms/step - loss: 0.3089 - accuracy: 0.8775 - val_loss: 0.3342 - val_accuracy: 0.8630\n",
      "Epoch 5/30\n",
      "40/40 [==============================] - 1s 24ms/step - loss: 0.2990 - accuracy: 0.8806 - val_loss: 0.3246 - val_accuracy: 0.8644\n",
      "Epoch 6/30\n",
      "40/40 [==============================] - 1s 20ms/step - loss: 0.2932 - accuracy: 0.8821 - val_loss: 0.3353 - val_accuracy: 0.8562\n",
      "Epoch 7/30\n",
      "40/40 [==============================] - 1s 22ms/step - loss: 0.3023 - accuracy: 0.8754 - val_loss: 0.3372 - val_accuracy: 0.8632\n",
      "Epoch 8/30\n",
      "40/40 [==============================] - 1s 21ms/step - loss: 0.2908 - accuracy: 0.8812 - val_loss: 0.3587 - val_accuracy: 0.8624\n",
      "Epoch 9/30\n",
      "40/40 [==============================] - 1s 21ms/step - loss: 0.2807 - accuracy: 0.8868 - val_loss: 0.3271 - val_accuracy: 0.8602\n",
      "Epoch 10/30\n",
      "40/40 [==============================] - 1s 21ms/step - loss: 0.2701 - accuracy: 0.8911 - val_loss: 0.3286 - val_accuracy: 0.8628\n",
      "[0.35074323415756226, 0.8525199890136719]\n"
     ]
    },
    {
     "data": {
      "application/vnd.plotly.v1+json": {
       "config": {
        "plotlyServerURL": "https://plot.ly"
       },
       "data": [
        {
         "line": {
          "color": "#636EFA"
         },
         "marker": {
          "color": "#636EFA"
         },
         "mode": "lines+markers",
         "name": "train",
         "showlegend": true,
         "type": "scatter",
         "x": [
          1,
          2,
          3,
          4,
          5,
          6,
          7,
          8,
          9,
          10
         ],
         "xaxis": "x",
         "y": [
          0.6056814789772034,
          0.36960747838020325,
          0.3325238525867462,
          0.30894625186920166,
          0.29898306727409363,
          0.2932347059249878,
          0.3023177683353424,
          0.29078224301338196,
          0.28069689869880676,
          0.27012911438941956
         ],
         "yaxis": "y"
        },
        {
         "line": {
          "color": "#EF553B"
         },
         "marker": {
          "color": "#EF553B"
         },
         "mode": "lines+markers",
         "name": "val",
         "showlegend": true,
         "type": "scatter",
         "x": [
          1,
          2,
          3,
          4,
          5,
          6,
          7,
          8,
          9,
          10
         ],
         "xaxis": "x",
         "y": [
          0.41372236609458923,
          0.37167927622795105,
          0.3371613323688507,
          0.3341672122478485,
          0.3246431052684784,
          0.3353250324726105,
          0.33724719285964966,
          0.35866034030914307,
          0.3271024525165558,
          0.3286290466785431
         ],
         "yaxis": "y"
        },
        {
         "line": {
          "color": "#636EFA"
         },
         "marker": {
          "color": "#636EFA"
         },
         "mode": "lines+markers",
         "name": "train",
         "showlegend": false,
         "type": "scatter",
         "x": [
          1,
          2,
          3,
          4,
          5,
          6,
          7,
          8,
          9,
          10
         ],
         "xaxis": "x2",
         "y": [
          0.6461499929428101,
          0.8445500135421753,
          0.8640999794006348,
          0.8774999976158142,
          0.8805999755859375,
          0.882099986076355,
          0.8754000067710876,
          0.8811500072479248,
          0.8868499994277954,
          0.8910999894142151
         ],
         "yaxis": "y2"
        },
        {
         "line": {
          "color": "#EF553B"
         },
         "marker": {
          "color": "#EF553B"
         },
         "mode": "lines+markers",
         "name": "val",
         "showlegend": false,
         "type": "scatter",
         "x": [
          1,
          2,
          3,
          4,
          5,
          6,
          7,
          8,
          9,
          10
         ],
         "xaxis": "x2",
         "y": [
          0.8198000192642212,
          0.8582000136375427,
          0.8618000149726868,
          0.8629999756813049,
          0.8644000291824341,
          0.8561999797821045,
          0.8632000088691711,
          0.8623999953269958,
          0.8601999878883362,
          0.8628000020980835
         ],
         "yaxis": "y2"
        }
       ],
       "layout": {
        "annotations": [
         {
          "font": {
           "size": 16
          },
          "showarrow": false,
          "text": "loss",
          "x": 0.2375,
          "xanchor": "center",
          "xref": "paper",
          "y": 1,
          "yanchor": "bottom",
          "yref": "paper"
         },
         {
          "font": {
           "size": 16
          },
          "showarrow": false,
          "text": "accuracy",
          "x": 0.7625,
          "xanchor": "center",
          "xref": "paper",
          "y": 1,
          "yanchor": "bottom",
          "yref": "paper"
         }
        ],
        "height": 400,
        "margin": {
         "b": 10,
         "l": 10,
         "r": 10,
         "t": 50
        },
        "template": {
         "data": {
          "bar": [
           {
            "error_x": {
             "color": "rgb(36,36,36)"
            },
            "error_y": {
             "color": "rgb(36,36,36)"
            },
            "marker": {
             "line": {
              "color": "rgb(234,234,242)",
              "width": 0.5
             },
             "pattern": {
              "fillmode": "overlay",
              "size": 10,
              "solidity": 0.2
             }
            },
            "type": "bar"
           }
          ],
          "barpolar": [
           {
            "marker": {
             "line": {
              "color": "rgb(234,234,242)",
              "width": 0.5
             },
             "pattern": {
              "fillmode": "overlay",
              "size": 10,
              "solidity": 0.2
             }
            },
            "type": "barpolar"
           }
          ],
          "carpet": [
           {
            "aaxis": {
             "endlinecolor": "rgb(36,36,36)",
             "gridcolor": "white",
             "linecolor": "white",
             "minorgridcolor": "white",
             "startlinecolor": "rgb(36,36,36)"
            },
            "baxis": {
             "endlinecolor": "rgb(36,36,36)",
             "gridcolor": "white",
             "linecolor": "white",
             "minorgridcolor": "white",
             "startlinecolor": "rgb(36,36,36)"
            },
            "type": "carpet"
           }
          ],
          "choropleth": [
           {
            "colorbar": {
             "outlinewidth": 0,
             "tickcolor": "rgb(36,36,36)",
             "ticklen": 8,
             "ticks": "outside",
             "tickwidth": 2
            },
            "type": "choropleth"
           }
          ],
          "contour": [
           {
            "colorbar": {
             "outlinewidth": 0,
             "tickcolor": "rgb(36,36,36)",
             "ticklen": 8,
             "ticks": "outside",
             "tickwidth": 2
            },
            "colorscale": [
             [
              0,
              "rgb(2,4,25)"
             ],
             [
              0.06274509803921569,
              "rgb(24,15,41)"
             ],
             [
              0.12549019607843137,
              "rgb(47,23,57)"
             ],
             [
              0.18823529411764706,
              "rgb(71,28,72)"
             ],
             [
              0.25098039215686274,
              "rgb(97,30,82)"
             ],
             [
              0.3137254901960784,
              "rgb(123,30,89)"
             ],
             [
              0.3764705882352941,
              "rgb(150,27,91)"
             ],
             [
              0.4392156862745098,
              "rgb(177,22,88)"
             ],
             [
              0.5019607843137255,
              "rgb(203,26,79)"
             ],
             [
              0.5647058823529412,
              "rgb(223,47,67)"
             ],
             [
              0.6274509803921569,
              "rgb(236,76,61)"
             ],
             [
              0.6901960784313725,
              "rgb(242,107,73)"
             ],
             [
              0.7529411764705882,
              "rgb(244,135,95)"
             ],
             [
              0.8156862745098039,
              "rgb(245,162,122)"
             ],
             [
              0.8784313725490196,
              "rgb(246,188,153)"
             ],
             [
              0.9411764705882353,
              "rgb(247,212,187)"
             ],
             [
              1,
              "rgb(250,234,220)"
             ]
            ],
            "type": "contour"
           }
          ],
          "contourcarpet": [
           {
            "colorbar": {
             "outlinewidth": 0,
             "tickcolor": "rgb(36,36,36)",
             "ticklen": 8,
             "ticks": "outside",
             "tickwidth": 2
            },
            "type": "contourcarpet"
           }
          ],
          "heatmap": [
           {
            "colorbar": {
             "outlinewidth": 0,
             "tickcolor": "rgb(36,36,36)",
             "ticklen": 8,
             "ticks": "outside",
             "tickwidth": 2
            },
            "colorscale": [
             [
              0,
              "rgb(2,4,25)"
             ],
             [
              0.06274509803921569,
              "rgb(24,15,41)"
             ],
             [
              0.12549019607843137,
              "rgb(47,23,57)"
             ],
             [
              0.18823529411764706,
              "rgb(71,28,72)"
             ],
             [
              0.25098039215686274,
              "rgb(97,30,82)"
             ],
             [
              0.3137254901960784,
              "rgb(123,30,89)"
             ],
             [
              0.3764705882352941,
              "rgb(150,27,91)"
             ],
             [
              0.4392156862745098,
              "rgb(177,22,88)"
             ],
             [
              0.5019607843137255,
              "rgb(203,26,79)"
             ],
             [
              0.5647058823529412,
              "rgb(223,47,67)"
             ],
             [
              0.6274509803921569,
              "rgb(236,76,61)"
             ],
             [
              0.6901960784313725,
              "rgb(242,107,73)"
             ],
             [
              0.7529411764705882,
              "rgb(244,135,95)"
             ],
             [
              0.8156862745098039,
              "rgb(245,162,122)"
             ],
             [
              0.8784313725490196,
              "rgb(246,188,153)"
             ],
             [
              0.9411764705882353,
              "rgb(247,212,187)"
             ],
             [
              1,
              "rgb(250,234,220)"
             ]
            ],
            "type": "heatmap"
           }
          ],
          "heatmapgl": [
           {
            "colorbar": {
             "outlinewidth": 0,
             "tickcolor": "rgb(36,36,36)",
             "ticklen": 8,
             "ticks": "outside",
             "tickwidth": 2
            },
            "colorscale": [
             [
              0,
              "rgb(2,4,25)"
             ],
             [
              0.06274509803921569,
              "rgb(24,15,41)"
             ],
             [
              0.12549019607843137,
              "rgb(47,23,57)"
             ],
             [
              0.18823529411764706,
              "rgb(71,28,72)"
             ],
             [
              0.25098039215686274,
              "rgb(97,30,82)"
             ],
             [
              0.3137254901960784,
              "rgb(123,30,89)"
             ],
             [
              0.3764705882352941,
              "rgb(150,27,91)"
             ],
             [
              0.4392156862745098,
              "rgb(177,22,88)"
             ],
             [
              0.5019607843137255,
              "rgb(203,26,79)"
             ],
             [
              0.5647058823529412,
              "rgb(223,47,67)"
             ],
             [
              0.6274509803921569,
              "rgb(236,76,61)"
             ],
             [
              0.6901960784313725,
              "rgb(242,107,73)"
             ],
             [
              0.7529411764705882,
              "rgb(244,135,95)"
             ],
             [
              0.8156862745098039,
              "rgb(245,162,122)"
             ],
             [
              0.8784313725490196,
              "rgb(246,188,153)"
             ],
             [
              0.9411764705882353,
              "rgb(247,212,187)"
             ],
             [
              1,
              "rgb(250,234,220)"
             ]
            ],
            "type": "heatmapgl"
           }
          ],
          "histogram": [
           {
            "marker": {
             "pattern": {
              "fillmode": "overlay",
              "size": 10,
              "solidity": 0.2
             }
            },
            "type": "histogram"
           }
          ],
          "histogram2d": [
           {
            "colorbar": {
             "outlinewidth": 0,
             "tickcolor": "rgb(36,36,36)",
             "ticklen": 8,
             "ticks": "outside",
             "tickwidth": 2
            },
            "colorscale": [
             [
              0,
              "rgb(2,4,25)"
             ],
             [
              0.06274509803921569,
              "rgb(24,15,41)"
             ],
             [
              0.12549019607843137,
              "rgb(47,23,57)"
             ],
             [
              0.18823529411764706,
              "rgb(71,28,72)"
             ],
             [
              0.25098039215686274,
              "rgb(97,30,82)"
             ],
             [
              0.3137254901960784,
              "rgb(123,30,89)"
             ],
             [
              0.3764705882352941,
              "rgb(150,27,91)"
             ],
             [
              0.4392156862745098,
              "rgb(177,22,88)"
             ],
             [
              0.5019607843137255,
              "rgb(203,26,79)"
             ],
             [
              0.5647058823529412,
              "rgb(223,47,67)"
             ],
             [
              0.6274509803921569,
              "rgb(236,76,61)"
             ],
             [
              0.6901960784313725,
              "rgb(242,107,73)"
             ],
             [
              0.7529411764705882,
              "rgb(244,135,95)"
             ],
             [
              0.8156862745098039,
              "rgb(245,162,122)"
             ],
             [
              0.8784313725490196,
              "rgb(246,188,153)"
             ],
             [
              0.9411764705882353,
              "rgb(247,212,187)"
             ],
             [
              1,
              "rgb(250,234,220)"
             ]
            ],
            "type": "histogram2d"
           }
          ],
          "histogram2dcontour": [
           {
            "colorbar": {
             "outlinewidth": 0,
             "tickcolor": "rgb(36,36,36)",
             "ticklen": 8,
             "ticks": "outside",
             "tickwidth": 2
            },
            "colorscale": [
             [
              0,
              "rgb(2,4,25)"
             ],
             [
              0.06274509803921569,
              "rgb(24,15,41)"
             ],
             [
              0.12549019607843137,
              "rgb(47,23,57)"
             ],
             [
              0.18823529411764706,
              "rgb(71,28,72)"
             ],
             [
              0.25098039215686274,
              "rgb(97,30,82)"
             ],
             [
              0.3137254901960784,
              "rgb(123,30,89)"
             ],
             [
              0.3764705882352941,
              "rgb(150,27,91)"
             ],
             [
              0.4392156862745098,
              "rgb(177,22,88)"
             ],
             [
              0.5019607843137255,
              "rgb(203,26,79)"
             ],
             [
              0.5647058823529412,
              "rgb(223,47,67)"
             ],
             [
              0.6274509803921569,
              "rgb(236,76,61)"
             ],
             [
              0.6901960784313725,
              "rgb(242,107,73)"
             ],
             [
              0.7529411764705882,
              "rgb(244,135,95)"
             ],
             [
              0.8156862745098039,
              "rgb(245,162,122)"
             ],
             [
              0.8784313725490196,
              "rgb(246,188,153)"
             ],
             [
              0.9411764705882353,
              "rgb(247,212,187)"
             ],
             [
              1,
              "rgb(250,234,220)"
             ]
            ],
            "type": "histogram2dcontour"
           }
          ],
          "mesh3d": [
           {
            "colorbar": {
             "outlinewidth": 0,
             "tickcolor": "rgb(36,36,36)",
             "ticklen": 8,
             "ticks": "outside",
             "tickwidth": 2
            },
            "type": "mesh3d"
           }
          ],
          "parcoords": [
           {
            "line": {
             "colorbar": {
              "outlinewidth": 0,
              "tickcolor": "rgb(36,36,36)",
              "ticklen": 8,
              "ticks": "outside",
              "tickwidth": 2
             }
            },
            "type": "parcoords"
           }
          ],
          "pie": [
           {
            "automargin": true,
            "type": "pie"
           }
          ],
          "scatter": [
           {
            "fillpattern": {
             "fillmode": "overlay",
             "size": 10,
             "solidity": 0.2
            },
            "type": "scatter"
           }
          ],
          "scatter3d": [
           {
            "line": {
             "colorbar": {
              "outlinewidth": 0,
              "tickcolor": "rgb(36,36,36)",
              "ticklen": 8,
              "ticks": "outside",
              "tickwidth": 2
             }
            },
            "marker": {
             "colorbar": {
              "outlinewidth": 0,
              "tickcolor": "rgb(36,36,36)",
              "ticklen": 8,
              "ticks": "outside",
              "tickwidth": 2
             }
            },
            "type": "scatter3d"
           }
          ],
          "scattercarpet": [
           {
            "marker": {
             "colorbar": {
              "outlinewidth": 0,
              "tickcolor": "rgb(36,36,36)",
              "ticklen": 8,
              "ticks": "outside",
              "tickwidth": 2
             }
            },
            "type": "scattercarpet"
           }
          ],
          "scattergeo": [
           {
            "marker": {
             "colorbar": {
              "outlinewidth": 0,
              "tickcolor": "rgb(36,36,36)",
              "ticklen": 8,
              "ticks": "outside",
              "tickwidth": 2
             }
            },
            "type": "scattergeo"
           }
          ],
          "scattergl": [
           {
            "marker": {
             "colorbar": {
              "outlinewidth": 0,
              "tickcolor": "rgb(36,36,36)",
              "ticklen": 8,
              "ticks": "outside",
              "tickwidth": 2
             }
            },
            "type": "scattergl"
           }
          ],
          "scattermapbox": [
           {
            "marker": {
             "colorbar": {
              "outlinewidth": 0,
              "tickcolor": "rgb(36,36,36)",
              "ticklen": 8,
              "ticks": "outside",
              "tickwidth": 2
             }
            },
            "type": "scattermapbox"
           }
          ],
          "scatterpolar": [
           {
            "marker": {
             "colorbar": {
              "outlinewidth": 0,
              "tickcolor": "rgb(36,36,36)",
              "ticklen": 8,
              "ticks": "outside",
              "tickwidth": 2
             }
            },
            "type": "scatterpolar"
           }
          ],
          "scatterpolargl": [
           {
            "marker": {
             "colorbar": {
              "outlinewidth": 0,
              "tickcolor": "rgb(36,36,36)",
              "ticklen": 8,
              "ticks": "outside",
              "tickwidth": 2
             }
            },
            "type": "scatterpolargl"
           }
          ],
          "scatterternary": [
           {
            "marker": {
             "colorbar": {
              "outlinewidth": 0,
              "tickcolor": "rgb(36,36,36)",
              "ticklen": 8,
              "ticks": "outside",
              "tickwidth": 2
             }
            },
            "type": "scatterternary"
           }
          ],
          "surface": [
           {
            "colorbar": {
             "outlinewidth": 0,
             "tickcolor": "rgb(36,36,36)",
             "ticklen": 8,
             "ticks": "outside",
             "tickwidth": 2
            },
            "colorscale": [
             [
              0,
              "rgb(2,4,25)"
             ],
             [
              0.06274509803921569,
              "rgb(24,15,41)"
             ],
             [
              0.12549019607843137,
              "rgb(47,23,57)"
             ],
             [
              0.18823529411764706,
              "rgb(71,28,72)"
             ],
             [
              0.25098039215686274,
              "rgb(97,30,82)"
             ],
             [
              0.3137254901960784,
              "rgb(123,30,89)"
             ],
             [
              0.3764705882352941,
              "rgb(150,27,91)"
             ],
             [
              0.4392156862745098,
              "rgb(177,22,88)"
             ],
             [
              0.5019607843137255,
              "rgb(203,26,79)"
             ],
             [
              0.5647058823529412,
              "rgb(223,47,67)"
             ],
             [
              0.6274509803921569,
              "rgb(236,76,61)"
             ],
             [
              0.6901960784313725,
              "rgb(242,107,73)"
             ],
             [
              0.7529411764705882,
              "rgb(244,135,95)"
             ],
             [
              0.8156862745098039,
              "rgb(245,162,122)"
             ],
             [
              0.8784313725490196,
              "rgb(246,188,153)"
             ],
             [
              0.9411764705882353,
              "rgb(247,212,187)"
             ],
             [
              1,
              "rgb(250,234,220)"
             ]
            ],
            "type": "surface"
           }
          ],
          "table": [
           {
            "cells": {
             "fill": {
              "color": "rgb(231,231,240)"
             },
             "line": {
              "color": "white"
             }
            },
            "header": {
             "fill": {
              "color": "rgb(183,183,191)"
             },
             "line": {
              "color": "white"
             }
            },
            "type": "table"
           }
          ]
         },
         "layout": {
          "annotationdefaults": {
           "arrowcolor": "rgb(67,103,167)"
          },
          "autotypenumbers": "strict",
          "coloraxis": {
           "colorbar": {
            "outlinewidth": 0,
            "tickcolor": "rgb(36,36,36)",
            "ticklen": 8,
            "ticks": "outside",
            "tickwidth": 2
           }
          },
          "colorscale": {
           "sequential": [
            [
             0,
             "rgb(2,4,25)"
            ],
            [
             0.06274509803921569,
             "rgb(24,15,41)"
            ],
            [
             0.12549019607843137,
             "rgb(47,23,57)"
            ],
            [
             0.18823529411764706,
             "rgb(71,28,72)"
            ],
            [
             0.25098039215686274,
             "rgb(97,30,82)"
            ],
            [
             0.3137254901960784,
             "rgb(123,30,89)"
            ],
            [
             0.3764705882352941,
             "rgb(150,27,91)"
            ],
            [
             0.4392156862745098,
             "rgb(177,22,88)"
            ],
            [
             0.5019607843137255,
             "rgb(203,26,79)"
            ],
            [
             0.5647058823529412,
             "rgb(223,47,67)"
            ],
            [
             0.6274509803921569,
             "rgb(236,76,61)"
            ],
            [
             0.6901960784313725,
             "rgb(242,107,73)"
            ],
            [
             0.7529411764705882,
             "rgb(244,135,95)"
            ],
            [
             0.8156862745098039,
             "rgb(245,162,122)"
            ],
            [
             0.8784313725490196,
             "rgb(246,188,153)"
            ],
            [
             0.9411764705882353,
             "rgb(247,212,187)"
            ],
            [
             1,
             "rgb(250,234,220)"
            ]
           ],
           "sequentialminus": [
            [
             0,
             "rgb(2,4,25)"
            ],
            [
             0.06274509803921569,
             "rgb(24,15,41)"
            ],
            [
             0.12549019607843137,
             "rgb(47,23,57)"
            ],
            [
             0.18823529411764706,
             "rgb(71,28,72)"
            ],
            [
             0.25098039215686274,
             "rgb(97,30,82)"
            ],
            [
             0.3137254901960784,
             "rgb(123,30,89)"
            ],
            [
             0.3764705882352941,
             "rgb(150,27,91)"
            ],
            [
             0.4392156862745098,
             "rgb(177,22,88)"
            ],
            [
             0.5019607843137255,
             "rgb(203,26,79)"
            ],
            [
             0.5647058823529412,
             "rgb(223,47,67)"
            ],
            [
             0.6274509803921569,
             "rgb(236,76,61)"
            ],
            [
             0.6901960784313725,
             "rgb(242,107,73)"
            ],
            [
             0.7529411764705882,
             "rgb(244,135,95)"
            ],
            [
             0.8156862745098039,
             "rgb(245,162,122)"
            ],
            [
             0.8784313725490196,
             "rgb(246,188,153)"
            ],
            [
             0.9411764705882353,
             "rgb(247,212,187)"
            ],
            [
             1,
             "rgb(250,234,220)"
            ]
           ]
          },
          "colorway": [
           "rgb(76,114,176)",
           "rgb(221,132,82)",
           "rgb(85,168,104)",
           "rgb(196,78,82)",
           "rgb(129,114,179)",
           "rgb(147,120,96)",
           "rgb(218,139,195)",
           "rgb(140,140,140)",
           "rgb(204,185,116)",
           "rgb(100,181,205)"
          ],
          "font": {
           "color": "rgb(36,36,36)"
          },
          "geo": {
           "bgcolor": "white",
           "lakecolor": "white",
           "landcolor": "rgb(234,234,242)",
           "showlakes": true,
           "showland": true,
           "subunitcolor": "white"
          },
          "hoverlabel": {
           "align": "left"
          },
          "hovermode": "closest",
          "paper_bgcolor": "white",
          "plot_bgcolor": "rgb(234,234,242)",
          "polar": {
           "angularaxis": {
            "gridcolor": "white",
            "linecolor": "white",
            "showgrid": true,
            "ticks": ""
           },
           "bgcolor": "rgb(234,234,242)",
           "radialaxis": {
            "gridcolor": "white",
            "linecolor": "white",
            "showgrid": true,
            "ticks": ""
           }
          },
          "scene": {
           "xaxis": {
            "backgroundcolor": "rgb(234,234,242)",
            "gridcolor": "white",
            "gridwidth": 2,
            "linecolor": "white",
            "showbackground": true,
            "showgrid": true,
            "ticks": "",
            "zerolinecolor": "white"
           },
           "yaxis": {
            "backgroundcolor": "rgb(234,234,242)",
            "gridcolor": "white",
            "gridwidth": 2,
            "linecolor": "white",
            "showbackground": true,
            "showgrid": true,
            "ticks": "",
            "zerolinecolor": "white"
           },
           "zaxis": {
            "backgroundcolor": "rgb(234,234,242)",
            "gridcolor": "white",
            "gridwidth": 2,
            "linecolor": "white",
            "showbackground": true,
            "showgrid": true,
            "ticks": "",
            "zerolinecolor": "white"
           }
          },
          "shapedefaults": {
           "fillcolor": "rgb(67,103,167)",
           "line": {
            "width": 0
           },
           "opacity": 0.5
          },
          "ternary": {
           "aaxis": {
            "gridcolor": "white",
            "linecolor": "white",
            "showgrid": true,
            "ticks": ""
           },
           "baxis": {
            "gridcolor": "white",
            "linecolor": "white",
            "showgrid": true,
            "ticks": ""
           },
           "bgcolor": "rgb(234,234,242)",
           "caxis": {
            "gridcolor": "white",
            "linecolor": "white",
            "showgrid": true,
            "ticks": ""
           }
          },
          "xaxis": {
           "automargin": true,
           "gridcolor": "white",
           "linecolor": "white",
           "showgrid": true,
           "ticks": "",
           "title": {
            "standoff": 15
           },
           "zerolinecolor": "white"
          },
          "yaxis": {
           "automargin": true,
           "gridcolor": "white",
           "linecolor": "white",
           "showgrid": true,
           "ticks": "",
           "title": {
            "standoff": 15
           },
           "zerolinecolor": "white"
          }
         }
        },
        "title": {
         "text": "Training and validation of LSTM-base"
        },
        "width": 1200,
        "xaxis": {
         "anchor": "y",
         "domain": [
          0,
          0.475
         ],
         "title": {
          "text": "epochs"
         }
        },
        "xaxis2": {
         "anchor": "y2",
         "domain": [
          0.525,
          1
         ],
         "title": {
          "text": "epochs"
         }
        },
        "yaxis": {
         "anchor": "x",
         "domain": [
          0,
          1
         ],
         "title": {
          "text": "accuracy"
         }
        },
        "yaxis2": {
         "anchor": "x2",
         "domain": [
          0,
          1
         ],
         "title": {
          "text": "accuracy"
         }
        }
       }
      }
     },
     "metadata": {},
     "output_type": "display_data"
    }
   ],
   "source": [
    "lstm_model = AmazonReviewsModel(1000, 64, LSTM, name='LSTM-base')\n",
    "_, fig = lstm_model.train(dataset, f'{MODEL_PATH}/{lstm_model.name}.weights.h5', **train_default)\n",
    "print(lstm_model.evaluate(dataset.X_test, dataset.y_test))\n",
    "fig"
   ]
  },
  {
   "cell_type": "code",
   "execution_count": 4,
   "metadata": {},
   "outputs": [
    {
     "name": "stdout",
     "output_type": "stream",
     "text": [
      "Epoch 1/30\n",
      "40/40 [==============================] - 6s 70ms/step - loss: 0.6295 - accuracy: 0.6274 - val_loss: 0.5001 - val_accuracy: 0.7552\n",
      "Epoch 2/30\n",
      "40/40 [==============================] - 1s 20ms/step - loss: 0.4206 - accuracy: 0.8109 - val_loss: 0.3836 - val_accuracy: 0.8306\n",
      "Epoch 3/30\n",
      "40/40 [==============================] - 1s 23ms/step - loss: 0.3507 - accuracy: 0.8528 - val_loss: 0.3517 - val_accuracy: 0.8442\n",
      "Epoch 4/30\n",
      "40/40 [==============================] - 1s 20ms/step - loss: 0.3156 - accuracy: 0.8705 - val_loss: 0.3291 - val_accuracy: 0.8606\n",
      "Epoch 5/30\n",
      "40/40 [==============================] - 1s 19ms/step - loss: 0.2950 - accuracy: 0.8798 - val_loss: 0.3439 - val_accuracy: 0.8602\n",
      "Epoch 6/30\n",
      "40/40 [==============================] - 1s 20ms/step - loss: 0.2947 - accuracy: 0.8830 - val_loss: 0.3128 - val_accuracy: 0.8674\n",
      "Epoch 7/30\n",
      "40/40 [==============================] - 1s 19ms/step - loss: 0.2913 - accuracy: 0.8818 - val_loss: 0.3190 - val_accuracy: 0.8620\n",
      "Epoch 8/30\n",
      "40/40 [==============================] - 1s 21ms/step - loss: 0.2910 - accuracy: 0.8809 - val_loss: 0.3306 - val_accuracy: 0.8630\n",
      "Epoch 9/30\n",
      "40/40 [==============================] - 1s 19ms/step - loss: 0.2794 - accuracy: 0.8883 - val_loss: 0.3239 - val_accuracy: 0.8610\n",
      "Epoch 10/30\n",
      "40/40 [==============================] - 1s 20ms/step - loss: 0.2701 - accuracy: 0.8931 - val_loss: 0.3218 - val_accuracy: 0.8660\n",
      "Epoch 11/30\n",
      "40/40 [==============================] - 1s 19ms/step - loss: 0.2622 - accuracy: 0.8957 - val_loss: 0.3204 - val_accuracy: 0.8660\n",
      "[0.3282293677330017, 0.8619999885559082]\n"
     ]
    },
    {
     "data": {
      "application/vnd.plotly.v1+json": {
       "config": {
        "plotlyServerURL": "https://plot.ly"
       },
       "data": [
        {
         "line": {
          "color": "#636EFA"
         },
         "marker": {
          "color": "#636EFA"
         },
         "mode": "lines+markers",
         "name": "train",
         "showlegend": true,
         "type": "scatter",
         "x": [
          1,
          2,
          3,
          4,
          5,
          6,
          7,
          8,
          9,
          10,
          11
         ],
         "xaxis": "x",
         "y": [
          0.6295299530029297,
          0.4206060469150543,
          0.35069313645362854,
          0.3156244158744812,
          0.29497021436691284,
          0.29469653964042664,
          0.2913239896297455,
          0.2910158336162567,
          0.27936235070228577,
          0.2700609564781189,
          0.2622236907482147
         ],
         "yaxis": "y"
        },
        {
         "line": {
          "color": "#EF553B"
         },
         "marker": {
          "color": "#EF553B"
         },
         "mode": "lines+markers",
         "name": "val",
         "showlegend": true,
         "type": "scatter",
         "x": [
          1,
          2,
          3,
          4,
          5,
          6,
          7,
          8,
          9,
          10,
          11
         ],
         "xaxis": "x",
         "y": [
          0.5000574588775635,
          0.38357946276664734,
          0.3517492413520813,
          0.32910919189453125,
          0.3439323604106903,
          0.3128277063369751,
          0.31900450587272644,
          0.33063000440597534,
          0.3239330053329468,
          0.3217834532260895,
          0.3203989863395691
         ],
         "yaxis": "y"
        },
        {
         "line": {
          "color": "#636EFA"
         },
         "marker": {
          "color": "#636EFA"
         },
         "mode": "lines+markers",
         "name": "train",
         "showlegend": false,
         "type": "scatter",
         "x": [
          1,
          2,
          3,
          4,
          5,
          6,
          7,
          8,
          9,
          10,
          11
         ],
         "xaxis": "x2",
         "y": [
          0.6274499893188477,
          0.8108999729156494,
          0.8527500033378601,
          0.8704500198364258,
          0.8798499703407288,
          0.8829500079154968,
          0.8817999958992004,
          0.8809000253677368,
          0.8883000016212463,
          0.8930500149726868,
          0.8956500291824341
         ],
         "yaxis": "y2"
        },
        {
         "line": {
          "color": "#EF553B"
         },
         "marker": {
          "color": "#EF553B"
         },
         "mode": "lines+markers",
         "name": "val",
         "showlegend": false,
         "type": "scatter",
         "x": [
          1,
          2,
          3,
          4,
          5,
          6,
          7,
          8,
          9,
          10,
          11
         ],
         "xaxis": "x2",
         "y": [
          0.7552000284194946,
          0.8306000232696533,
          0.8442000150680542,
          0.8605999946594238,
          0.8601999878883362,
          0.8673999905586243,
          0.8619999885559082,
          0.8629999756813049,
          0.8610000014305115,
          0.8659999966621399,
          0.8659999966621399
         ],
         "yaxis": "y2"
        }
       ],
       "layout": {
        "annotations": [
         {
          "font": {
           "size": 16
          },
          "showarrow": false,
          "text": "loss",
          "x": 0.2375,
          "xanchor": "center",
          "xref": "paper",
          "y": 1,
          "yanchor": "bottom",
          "yref": "paper"
         },
         {
          "font": {
           "size": 16
          },
          "showarrow": false,
          "text": "accuracy",
          "x": 0.7625,
          "xanchor": "center",
          "xref": "paper",
          "y": 1,
          "yanchor": "bottom",
          "yref": "paper"
         }
        ],
        "height": 400,
        "margin": {
         "b": 10,
         "l": 10,
         "r": 10,
         "t": 50
        },
        "template": {
         "data": {
          "bar": [
           {
            "error_x": {
             "color": "rgb(36,36,36)"
            },
            "error_y": {
             "color": "rgb(36,36,36)"
            },
            "marker": {
             "line": {
              "color": "rgb(234,234,242)",
              "width": 0.5
             },
             "pattern": {
              "fillmode": "overlay",
              "size": 10,
              "solidity": 0.2
             }
            },
            "type": "bar"
           }
          ],
          "barpolar": [
           {
            "marker": {
             "line": {
              "color": "rgb(234,234,242)",
              "width": 0.5
             },
             "pattern": {
              "fillmode": "overlay",
              "size": 10,
              "solidity": 0.2
             }
            },
            "type": "barpolar"
           }
          ],
          "carpet": [
           {
            "aaxis": {
             "endlinecolor": "rgb(36,36,36)",
             "gridcolor": "white",
             "linecolor": "white",
             "minorgridcolor": "white",
             "startlinecolor": "rgb(36,36,36)"
            },
            "baxis": {
             "endlinecolor": "rgb(36,36,36)",
             "gridcolor": "white",
             "linecolor": "white",
             "minorgridcolor": "white",
             "startlinecolor": "rgb(36,36,36)"
            },
            "type": "carpet"
           }
          ],
          "choropleth": [
           {
            "colorbar": {
             "outlinewidth": 0,
             "tickcolor": "rgb(36,36,36)",
             "ticklen": 8,
             "ticks": "outside",
             "tickwidth": 2
            },
            "type": "choropleth"
           }
          ],
          "contour": [
           {
            "colorbar": {
             "outlinewidth": 0,
             "tickcolor": "rgb(36,36,36)",
             "ticklen": 8,
             "ticks": "outside",
             "tickwidth": 2
            },
            "colorscale": [
             [
              0,
              "rgb(2,4,25)"
             ],
             [
              0.06274509803921569,
              "rgb(24,15,41)"
             ],
             [
              0.12549019607843137,
              "rgb(47,23,57)"
             ],
             [
              0.18823529411764706,
              "rgb(71,28,72)"
             ],
             [
              0.25098039215686274,
              "rgb(97,30,82)"
             ],
             [
              0.3137254901960784,
              "rgb(123,30,89)"
             ],
             [
              0.3764705882352941,
              "rgb(150,27,91)"
             ],
             [
              0.4392156862745098,
              "rgb(177,22,88)"
             ],
             [
              0.5019607843137255,
              "rgb(203,26,79)"
             ],
             [
              0.5647058823529412,
              "rgb(223,47,67)"
             ],
             [
              0.6274509803921569,
              "rgb(236,76,61)"
             ],
             [
              0.6901960784313725,
              "rgb(242,107,73)"
             ],
             [
              0.7529411764705882,
              "rgb(244,135,95)"
             ],
             [
              0.8156862745098039,
              "rgb(245,162,122)"
             ],
             [
              0.8784313725490196,
              "rgb(246,188,153)"
             ],
             [
              0.9411764705882353,
              "rgb(247,212,187)"
             ],
             [
              1,
              "rgb(250,234,220)"
             ]
            ],
            "type": "contour"
           }
          ],
          "contourcarpet": [
           {
            "colorbar": {
             "outlinewidth": 0,
             "tickcolor": "rgb(36,36,36)",
             "ticklen": 8,
             "ticks": "outside",
             "tickwidth": 2
            },
            "type": "contourcarpet"
           }
          ],
          "heatmap": [
           {
            "colorbar": {
             "outlinewidth": 0,
             "tickcolor": "rgb(36,36,36)",
             "ticklen": 8,
             "ticks": "outside",
             "tickwidth": 2
            },
            "colorscale": [
             [
              0,
              "rgb(2,4,25)"
             ],
             [
              0.06274509803921569,
              "rgb(24,15,41)"
             ],
             [
              0.12549019607843137,
              "rgb(47,23,57)"
             ],
             [
              0.18823529411764706,
              "rgb(71,28,72)"
             ],
             [
              0.25098039215686274,
              "rgb(97,30,82)"
             ],
             [
              0.3137254901960784,
              "rgb(123,30,89)"
             ],
             [
              0.3764705882352941,
              "rgb(150,27,91)"
             ],
             [
              0.4392156862745098,
              "rgb(177,22,88)"
             ],
             [
              0.5019607843137255,
              "rgb(203,26,79)"
             ],
             [
              0.5647058823529412,
              "rgb(223,47,67)"
             ],
             [
              0.6274509803921569,
              "rgb(236,76,61)"
             ],
             [
              0.6901960784313725,
              "rgb(242,107,73)"
             ],
             [
              0.7529411764705882,
              "rgb(244,135,95)"
             ],
             [
              0.8156862745098039,
              "rgb(245,162,122)"
             ],
             [
              0.8784313725490196,
              "rgb(246,188,153)"
             ],
             [
              0.9411764705882353,
              "rgb(247,212,187)"
             ],
             [
              1,
              "rgb(250,234,220)"
             ]
            ],
            "type": "heatmap"
           }
          ],
          "heatmapgl": [
           {
            "colorbar": {
             "outlinewidth": 0,
             "tickcolor": "rgb(36,36,36)",
             "ticklen": 8,
             "ticks": "outside",
             "tickwidth": 2
            },
            "colorscale": [
             [
              0,
              "rgb(2,4,25)"
             ],
             [
              0.06274509803921569,
              "rgb(24,15,41)"
             ],
             [
              0.12549019607843137,
              "rgb(47,23,57)"
             ],
             [
              0.18823529411764706,
              "rgb(71,28,72)"
             ],
             [
              0.25098039215686274,
              "rgb(97,30,82)"
             ],
             [
              0.3137254901960784,
              "rgb(123,30,89)"
             ],
             [
              0.3764705882352941,
              "rgb(150,27,91)"
             ],
             [
              0.4392156862745098,
              "rgb(177,22,88)"
             ],
             [
              0.5019607843137255,
              "rgb(203,26,79)"
             ],
             [
              0.5647058823529412,
              "rgb(223,47,67)"
             ],
             [
              0.6274509803921569,
              "rgb(236,76,61)"
             ],
             [
              0.6901960784313725,
              "rgb(242,107,73)"
             ],
             [
              0.7529411764705882,
              "rgb(244,135,95)"
             ],
             [
              0.8156862745098039,
              "rgb(245,162,122)"
             ],
             [
              0.8784313725490196,
              "rgb(246,188,153)"
             ],
             [
              0.9411764705882353,
              "rgb(247,212,187)"
             ],
             [
              1,
              "rgb(250,234,220)"
             ]
            ],
            "type": "heatmapgl"
           }
          ],
          "histogram": [
           {
            "marker": {
             "pattern": {
              "fillmode": "overlay",
              "size": 10,
              "solidity": 0.2
             }
            },
            "type": "histogram"
           }
          ],
          "histogram2d": [
           {
            "colorbar": {
             "outlinewidth": 0,
             "tickcolor": "rgb(36,36,36)",
             "ticklen": 8,
             "ticks": "outside",
             "tickwidth": 2
            },
            "colorscale": [
             [
              0,
              "rgb(2,4,25)"
             ],
             [
              0.06274509803921569,
              "rgb(24,15,41)"
             ],
             [
              0.12549019607843137,
              "rgb(47,23,57)"
             ],
             [
              0.18823529411764706,
              "rgb(71,28,72)"
             ],
             [
              0.25098039215686274,
              "rgb(97,30,82)"
             ],
             [
              0.3137254901960784,
              "rgb(123,30,89)"
             ],
             [
              0.3764705882352941,
              "rgb(150,27,91)"
             ],
             [
              0.4392156862745098,
              "rgb(177,22,88)"
             ],
             [
              0.5019607843137255,
              "rgb(203,26,79)"
             ],
             [
              0.5647058823529412,
              "rgb(223,47,67)"
             ],
             [
              0.6274509803921569,
              "rgb(236,76,61)"
             ],
             [
              0.6901960784313725,
              "rgb(242,107,73)"
             ],
             [
              0.7529411764705882,
              "rgb(244,135,95)"
             ],
             [
              0.8156862745098039,
              "rgb(245,162,122)"
             ],
             [
              0.8784313725490196,
              "rgb(246,188,153)"
             ],
             [
              0.9411764705882353,
              "rgb(247,212,187)"
             ],
             [
              1,
              "rgb(250,234,220)"
             ]
            ],
            "type": "histogram2d"
           }
          ],
          "histogram2dcontour": [
           {
            "colorbar": {
             "outlinewidth": 0,
             "tickcolor": "rgb(36,36,36)",
             "ticklen": 8,
             "ticks": "outside",
             "tickwidth": 2
            },
            "colorscale": [
             [
              0,
              "rgb(2,4,25)"
             ],
             [
              0.06274509803921569,
              "rgb(24,15,41)"
             ],
             [
              0.12549019607843137,
              "rgb(47,23,57)"
             ],
             [
              0.18823529411764706,
              "rgb(71,28,72)"
             ],
             [
              0.25098039215686274,
              "rgb(97,30,82)"
             ],
             [
              0.3137254901960784,
              "rgb(123,30,89)"
             ],
             [
              0.3764705882352941,
              "rgb(150,27,91)"
             ],
             [
              0.4392156862745098,
              "rgb(177,22,88)"
             ],
             [
              0.5019607843137255,
              "rgb(203,26,79)"
             ],
             [
              0.5647058823529412,
              "rgb(223,47,67)"
             ],
             [
              0.6274509803921569,
              "rgb(236,76,61)"
             ],
             [
              0.6901960784313725,
              "rgb(242,107,73)"
             ],
             [
              0.7529411764705882,
              "rgb(244,135,95)"
             ],
             [
              0.8156862745098039,
              "rgb(245,162,122)"
             ],
             [
              0.8784313725490196,
              "rgb(246,188,153)"
             ],
             [
              0.9411764705882353,
              "rgb(247,212,187)"
             ],
             [
              1,
              "rgb(250,234,220)"
             ]
            ],
            "type": "histogram2dcontour"
           }
          ],
          "mesh3d": [
           {
            "colorbar": {
             "outlinewidth": 0,
             "tickcolor": "rgb(36,36,36)",
             "ticklen": 8,
             "ticks": "outside",
             "tickwidth": 2
            },
            "type": "mesh3d"
           }
          ],
          "parcoords": [
           {
            "line": {
             "colorbar": {
              "outlinewidth": 0,
              "tickcolor": "rgb(36,36,36)",
              "ticklen": 8,
              "ticks": "outside",
              "tickwidth": 2
             }
            },
            "type": "parcoords"
           }
          ],
          "pie": [
           {
            "automargin": true,
            "type": "pie"
           }
          ],
          "scatter": [
           {
            "fillpattern": {
             "fillmode": "overlay",
             "size": 10,
             "solidity": 0.2
            },
            "type": "scatter"
           }
          ],
          "scatter3d": [
           {
            "line": {
             "colorbar": {
              "outlinewidth": 0,
              "tickcolor": "rgb(36,36,36)",
              "ticklen": 8,
              "ticks": "outside",
              "tickwidth": 2
             }
            },
            "marker": {
             "colorbar": {
              "outlinewidth": 0,
              "tickcolor": "rgb(36,36,36)",
              "ticklen": 8,
              "ticks": "outside",
              "tickwidth": 2
             }
            },
            "type": "scatter3d"
           }
          ],
          "scattercarpet": [
           {
            "marker": {
             "colorbar": {
              "outlinewidth": 0,
              "tickcolor": "rgb(36,36,36)",
              "ticklen": 8,
              "ticks": "outside",
              "tickwidth": 2
             }
            },
            "type": "scattercarpet"
           }
          ],
          "scattergeo": [
           {
            "marker": {
             "colorbar": {
              "outlinewidth": 0,
              "tickcolor": "rgb(36,36,36)",
              "ticklen": 8,
              "ticks": "outside",
              "tickwidth": 2
             }
            },
            "type": "scattergeo"
           }
          ],
          "scattergl": [
           {
            "marker": {
             "colorbar": {
              "outlinewidth": 0,
              "tickcolor": "rgb(36,36,36)",
              "ticklen": 8,
              "ticks": "outside",
              "tickwidth": 2
             }
            },
            "type": "scattergl"
           }
          ],
          "scattermapbox": [
           {
            "marker": {
             "colorbar": {
              "outlinewidth": 0,
              "tickcolor": "rgb(36,36,36)",
              "ticklen": 8,
              "ticks": "outside",
              "tickwidth": 2
             }
            },
            "type": "scattermapbox"
           }
          ],
          "scatterpolar": [
           {
            "marker": {
             "colorbar": {
              "outlinewidth": 0,
              "tickcolor": "rgb(36,36,36)",
              "ticklen": 8,
              "ticks": "outside",
              "tickwidth": 2
             }
            },
            "type": "scatterpolar"
           }
          ],
          "scatterpolargl": [
           {
            "marker": {
             "colorbar": {
              "outlinewidth": 0,
              "tickcolor": "rgb(36,36,36)",
              "ticklen": 8,
              "ticks": "outside",
              "tickwidth": 2
             }
            },
            "type": "scatterpolargl"
           }
          ],
          "scatterternary": [
           {
            "marker": {
             "colorbar": {
              "outlinewidth": 0,
              "tickcolor": "rgb(36,36,36)",
              "ticklen": 8,
              "ticks": "outside",
              "tickwidth": 2
             }
            },
            "type": "scatterternary"
           }
          ],
          "surface": [
           {
            "colorbar": {
             "outlinewidth": 0,
             "tickcolor": "rgb(36,36,36)",
             "ticklen": 8,
             "ticks": "outside",
             "tickwidth": 2
            },
            "colorscale": [
             [
              0,
              "rgb(2,4,25)"
             ],
             [
              0.06274509803921569,
              "rgb(24,15,41)"
             ],
             [
              0.12549019607843137,
              "rgb(47,23,57)"
             ],
             [
              0.18823529411764706,
              "rgb(71,28,72)"
             ],
             [
              0.25098039215686274,
              "rgb(97,30,82)"
             ],
             [
              0.3137254901960784,
              "rgb(123,30,89)"
             ],
             [
              0.3764705882352941,
              "rgb(150,27,91)"
             ],
             [
              0.4392156862745098,
              "rgb(177,22,88)"
             ],
             [
              0.5019607843137255,
              "rgb(203,26,79)"
             ],
             [
              0.5647058823529412,
              "rgb(223,47,67)"
             ],
             [
              0.6274509803921569,
              "rgb(236,76,61)"
             ],
             [
              0.6901960784313725,
              "rgb(242,107,73)"
             ],
             [
              0.7529411764705882,
              "rgb(244,135,95)"
             ],
             [
              0.8156862745098039,
              "rgb(245,162,122)"
             ],
             [
              0.8784313725490196,
              "rgb(246,188,153)"
             ],
             [
              0.9411764705882353,
              "rgb(247,212,187)"
             ],
             [
              1,
              "rgb(250,234,220)"
             ]
            ],
            "type": "surface"
           }
          ],
          "table": [
           {
            "cells": {
             "fill": {
              "color": "rgb(231,231,240)"
             },
             "line": {
              "color": "white"
             }
            },
            "header": {
             "fill": {
              "color": "rgb(183,183,191)"
             },
             "line": {
              "color": "white"
             }
            },
            "type": "table"
           }
          ]
         },
         "layout": {
          "annotationdefaults": {
           "arrowcolor": "rgb(67,103,167)"
          },
          "autotypenumbers": "strict",
          "coloraxis": {
           "colorbar": {
            "outlinewidth": 0,
            "tickcolor": "rgb(36,36,36)",
            "ticklen": 8,
            "ticks": "outside",
            "tickwidth": 2
           }
          },
          "colorscale": {
           "sequential": [
            [
             0,
             "rgb(2,4,25)"
            ],
            [
             0.06274509803921569,
             "rgb(24,15,41)"
            ],
            [
             0.12549019607843137,
             "rgb(47,23,57)"
            ],
            [
             0.18823529411764706,
             "rgb(71,28,72)"
            ],
            [
             0.25098039215686274,
             "rgb(97,30,82)"
            ],
            [
             0.3137254901960784,
             "rgb(123,30,89)"
            ],
            [
             0.3764705882352941,
             "rgb(150,27,91)"
            ],
            [
             0.4392156862745098,
             "rgb(177,22,88)"
            ],
            [
             0.5019607843137255,
             "rgb(203,26,79)"
            ],
            [
             0.5647058823529412,
             "rgb(223,47,67)"
            ],
            [
             0.6274509803921569,
             "rgb(236,76,61)"
            ],
            [
             0.6901960784313725,
             "rgb(242,107,73)"
            ],
            [
             0.7529411764705882,
             "rgb(244,135,95)"
            ],
            [
             0.8156862745098039,
             "rgb(245,162,122)"
            ],
            [
             0.8784313725490196,
             "rgb(246,188,153)"
            ],
            [
             0.9411764705882353,
             "rgb(247,212,187)"
            ],
            [
             1,
             "rgb(250,234,220)"
            ]
           ],
           "sequentialminus": [
            [
             0,
             "rgb(2,4,25)"
            ],
            [
             0.06274509803921569,
             "rgb(24,15,41)"
            ],
            [
             0.12549019607843137,
             "rgb(47,23,57)"
            ],
            [
             0.18823529411764706,
             "rgb(71,28,72)"
            ],
            [
             0.25098039215686274,
             "rgb(97,30,82)"
            ],
            [
             0.3137254901960784,
             "rgb(123,30,89)"
            ],
            [
             0.3764705882352941,
             "rgb(150,27,91)"
            ],
            [
             0.4392156862745098,
             "rgb(177,22,88)"
            ],
            [
             0.5019607843137255,
             "rgb(203,26,79)"
            ],
            [
             0.5647058823529412,
             "rgb(223,47,67)"
            ],
            [
             0.6274509803921569,
             "rgb(236,76,61)"
            ],
            [
             0.6901960784313725,
             "rgb(242,107,73)"
            ],
            [
             0.7529411764705882,
             "rgb(244,135,95)"
            ],
            [
             0.8156862745098039,
             "rgb(245,162,122)"
            ],
            [
             0.8784313725490196,
             "rgb(246,188,153)"
            ],
            [
             0.9411764705882353,
             "rgb(247,212,187)"
            ],
            [
             1,
             "rgb(250,234,220)"
            ]
           ]
          },
          "colorway": [
           "rgb(76,114,176)",
           "rgb(221,132,82)",
           "rgb(85,168,104)",
           "rgb(196,78,82)",
           "rgb(129,114,179)",
           "rgb(147,120,96)",
           "rgb(218,139,195)",
           "rgb(140,140,140)",
           "rgb(204,185,116)",
           "rgb(100,181,205)"
          ],
          "font": {
           "color": "rgb(36,36,36)"
          },
          "geo": {
           "bgcolor": "white",
           "lakecolor": "white",
           "landcolor": "rgb(234,234,242)",
           "showlakes": true,
           "showland": true,
           "subunitcolor": "white"
          },
          "hoverlabel": {
           "align": "left"
          },
          "hovermode": "closest",
          "paper_bgcolor": "white",
          "plot_bgcolor": "rgb(234,234,242)",
          "polar": {
           "angularaxis": {
            "gridcolor": "white",
            "linecolor": "white",
            "showgrid": true,
            "ticks": ""
           },
           "bgcolor": "rgb(234,234,242)",
           "radialaxis": {
            "gridcolor": "white",
            "linecolor": "white",
            "showgrid": true,
            "ticks": ""
           }
          },
          "scene": {
           "xaxis": {
            "backgroundcolor": "rgb(234,234,242)",
            "gridcolor": "white",
            "gridwidth": 2,
            "linecolor": "white",
            "showbackground": true,
            "showgrid": true,
            "ticks": "",
            "zerolinecolor": "white"
           },
           "yaxis": {
            "backgroundcolor": "rgb(234,234,242)",
            "gridcolor": "white",
            "gridwidth": 2,
            "linecolor": "white",
            "showbackground": true,
            "showgrid": true,
            "ticks": "",
            "zerolinecolor": "white"
           },
           "zaxis": {
            "backgroundcolor": "rgb(234,234,242)",
            "gridcolor": "white",
            "gridwidth": 2,
            "linecolor": "white",
            "showbackground": true,
            "showgrid": true,
            "ticks": "",
            "zerolinecolor": "white"
           }
          },
          "shapedefaults": {
           "fillcolor": "rgb(67,103,167)",
           "line": {
            "width": 0
           },
           "opacity": 0.5
          },
          "ternary": {
           "aaxis": {
            "gridcolor": "white",
            "linecolor": "white",
            "showgrid": true,
            "ticks": ""
           },
           "baxis": {
            "gridcolor": "white",
            "linecolor": "white",
            "showgrid": true,
            "ticks": ""
           },
           "bgcolor": "rgb(234,234,242)",
           "caxis": {
            "gridcolor": "white",
            "linecolor": "white",
            "showgrid": true,
            "ticks": ""
           }
          },
          "xaxis": {
           "automargin": true,
           "gridcolor": "white",
           "linecolor": "white",
           "showgrid": true,
           "ticks": "",
           "title": {
            "standoff": 15
           },
           "zerolinecolor": "white"
          },
          "yaxis": {
           "automargin": true,
           "gridcolor": "white",
           "linecolor": "white",
           "showgrid": true,
           "ticks": "",
           "title": {
            "standoff": 15
           },
           "zerolinecolor": "white"
          }
         }
        },
        "title": {
         "text": "Training and validation of GRU-base"
        },
        "width": 1200,
        "xaxis": {
         "anchor": "y",
         "domain": [
          0,
          0.475
         ],
         "title": {
          "text": "epochs"
         }
        },
        "xaxis2": {
         "anchor": "y2",
         "domain": [
          0.525,
          1
         ],
         "title": {
          "text": "epochs"
         }
        },
        "yaxis": {
         "anchor": "x",
         "domain": [
          0,
          1
         ],
         "title": {
          "text": "accuracy"
         }
        },
        "yaxis2": {
         "anchor": "x2",
         "domain": [
          0,
          1
         ],
         "title": {
          "text": "accuracy"
         }
        }
       }
      }
     },
     "metadata": {},
     "output_type": "display_data"
    }
   ],
   "source": [
    "gru_model = AmazonReviewsModel(1000, 64, GRU, name='GRU-base')\n",
    "_, fig = gru_model.train(dataset, f'{MODEL_PATH}/{gru_model.name}.weights.h5', **train_default)\n",
    "print(gru_model.evaluate(dataset.X_test, dataset.y_test))\n",
    "fig"
   ]
  },
  {
   "cell_type": "markdown",
   "metadata": {},
   "source": [
    "Using the same architecture but only replacing the simple RNN layer by LSTMs or GRUs, we see that the performance reaches the 85.25% and 86.19% of accuracy, respectively, proving that the LSTM and GRU cells are better options for the baseline recurrent architecture than the simple RNN cell."
   ]
  },
  {
   "cell_type": "markdown",
   "metadata": {},
   "source": [
    "## Enhancing the architecture with regularization techniques\n",
    "\n",
    "Once we have a first estimation of the performance with small models we are going launch experiments with larger architectures. We increased the model dimension to $d_h=128$ and the vocabulary size to $|\\mathcal{V}|=2000$. The encoder is now conformed by 3-stacked recurrent cells and the decoder adds a new extra feed-forward network between the last state of the encoder and the output layer. In order to balance this enhancement and avoid a possible overfitting, we included a [dropout](https://keras.io/api/layers/regularization_layers/dropout/) of the 10% in the latent space of the network (between the encoder and decoder)."
   ]
  },
  {
   "cell_type": "code",
   "execution_count": 5,
   "metadata": {},
   "outputs": [],
   "source": [
    "# relaad the dataset\n",
    "dataset = AmazonDataset.load(train_path=path_dir + \"train_small.txt\", test_path=path_dir + \"test_small.txt\", max_features=2000)"
   ]
  },
  {
   "cell_type": "code",
   "execution_count": 6,
   "metadata": {},
   "outputs": [
    {
     "name": "stdout",
     "output_type": "stream",
     "text": [
      "Epoch 1/30\n",
      "40/40 [==============================] - 12s 227ms/step - loss: 0.7327 - accuracy: 0.5100 - val_loss: 0.6983 - val_accuracy: 0.4852\n",
      "Epoch 2/30\n",
      "40/40 [==============================] - 8s 200ms/step - loss: 0.7181 - accuracy: 0.5031 - val_loss: 0.6941 - val_accuracy: 0.4850\n",
      "Epoch 3/30\n",
      "40/40 [==============================] - 7s 183ms/step - loss: 0.7099 - accuracy: 0.4997 - val_loss: 0.6934 - val_accuracy: 0.4850\n",
      "Epoch 4/30\n",
      "40/40 [==============================] - 7s 183ms/step - loss: 0.7115 - accuracy: 0.4981 - val_loss: 0.7037 - val_accuracy: 0.4850\n",
      "Epoch 5/30\n",
      "40/40 [==============================] - 7s 175ms/step - loss: 0.7046 - accuracy: 0.5084 - val_loss: 0.7043 - val_accuracy: 0.5152\n",
      "Epoch 6/30\n",
      "40/40 [==============================] - 7s 178ms/step - loss: 0.7054 - accuracy: 0.5039 - val_loss: 0.6944 - val_accuracy: 0.5152\n",
      "Epoch 7/30\n",
      "40/40 [==============================] - 7s 172ms/step - loss: 0.7021 - accuracy: 0.5038 - val_loss: 0.7071 - val_accuracy: 0.5152\n",
      "Epoch 8/30\n",
      "40/40 [==============================] - 7s 177ms/step - loss: 0.7010 - accuracy: 0.5022 - val_loss: 0.6925 - val_accuracy: 0.5152\n",
      "Epoch 9/30\n",
      "40/40 [==============================] - 7s 174ms/step - loss: 0.7073 - accuracy: 0.4942 - val_loss: 0.7006 - val_accuracy: 0.5006\n",
      "Epoch 10/30\n",
      "40/40 [==============================] - 7s 175ms/step - loss: 0.7039 - accuracy: 0.5087 - val_loss: 0.7035 - val_accuracy: 0.5696\n",
      "Epoch 11/30\n",
      "40/40 [==============================] - 7s 176ms/step - loss: 0.6971 - accuracy: 0.5375 - val_loss: 0.6981 - val_accuracy: 0.5152\n",
      "Epoch 12/30\n",
      "40/40 [==============================] - 7s 174ms/step - loss: 0.6962 - accuracy: 0.5379 - val_loss: 0.6862 - val_accuracy: 0.5682\n",
      "Epoch 13/30\n",
      "40/40 [==============================] - 7s 172ms/step - loss: 0.6937 - accuracy: 0.5397 - val_loss: 0.6941 - val_accuracy: 0.4848\n",
      "Epoch 14/30\n",
      "40/40 [==============================] - 7s 172ms/step - loss: 0.6938 - accuracy: 0.5415 - val_loss: 0.6847 - val_accuracy: 0.5682\n",
      "Epoch 15/30\n",
      "40/40 [==============================] - 7s 173ms/step - loss: 0.6916 - accuracy: 0.5432 - val_loss: 0.6867 - val_accuracy: 0.5682\n",
      "Epoch 16/30\n",
      "40/40 [==============================] - 7s 173ms/step - loss: 0.6904 - accuracy: 0.5455 - val_loss: 0.6859 - val_accuracy: 0.5682\n",
      "Epoch 17/30\n",
      "40/40 [==============================] - 7s 174ms/step - loss: 0.6935 - accuracy: 0.5350 - val_loss: 0.6843 - val_accuracy: 0.5682\n",
      "Epoch 18/30\n",
      "40/40 [==============================] - 7s 171ms/step - loss: 0.6995 - accuracy: 0.5361 - val_loss: 0.6883 - val_accuracy: 0.5682\n",
      "Epoch 19/30\n",
      "40/40 [==============================] - 7s 173ms/step - loss: 0.6907 - accuracy: 0.5480 - val_loss: 0.6856 - val_accuracy: 0.5682\n",
      "Epoch 20/30\n",
      "40/40 [==============================] - 7s 171ms/step - loss: 0.6904 - accuracy: 0.5500 - val_loss: 0.6880 - val_accuracy: 0.5682\n",
      "Epoch 21/30\n",
      "40/40 [==============================] - 7s 171ms/step - loss: 0.6920 - accuracy: 0.5397 - val_loss: 0.6924 - val_accuracy: 0.4848\n",
      "Epoch 22/30\n",
      "40/40 [==============================] - 7s 173ms/step - loss: 0.6919 - accuracy: 0.5444 - val_loss: 0.6855 - val_accuracy: 0.5682\n",
      "[0.6853593587875366, 0.5634400248527527]\n"
     ]
    },
    {
     "data": {
      "application/vnd.plotly.v1+json": {
       "config": {
        "plotlyServerURL": "https://plot.ly"
       },
       "data": [
        {
         "line": {
          "color": "#636EFA"
         },
         "marker": {
          "color": "#636EFA"
         },
         "mode": "lines+markers",
         "name": "train",
         "showlegend": true,
         "type": "scatter",
         "x": [
          1,
          2,
          3,
          4,
          5,
          6,
          7,
          8,
          9,
          10,
          11,
          12,
          13,
          14,
          15,
          16,
          17,
          18,
          19,
          20,
          21,
          22
         ],
         "xaxis": "x",
         "y": [
          0.7326897978782654,
          0.7180971503257751,
          0.7099499106407166,
          0.7115200161933899,
          0.7045958042144775,
          0.7054258584976196,
          0.7020880579948425,
          0.7009598016738892,
          0.7073056101799011,
          0.7039425373077393,
          0.6971033215522766,
          0.6961849331855774,
          0.6936874389648438,
          0.6938402056694031,
          0.691612184047699,
          0.6904169321060181,
          0.6935150623321533,
          0.6995459198951721,
          0.6907464265823364,
          0.6903702020645142,
          0.6920278072357178,
          0.6919089555740356
         ],
         "yaxis": "y"
        },
        {
         "line": {
          "color": "#EF553B"
         },
         "marker": {
          "color": "#EF553B"
         },
         "mode": "lines+markers",
         "name": "val",
         "showlegend": true,
         "type": "scatter",
         "x": [
          1,
          2,
          3,
          4,
          5,
          6,
          7,
          8,
          9,
          10,
          11,
          12,
          13,
          14,
          15,
          16,
          17,
          18,
          19,
          20,
          21,
          22
         ],
         "xaxis": "x",
         "y": [
          0.6982831358909607,
          0.6940887570381165,
          0.6934341788291931,
          0.7036815285682678,
          0.7042714357376099,
          0.6943850517272949,
          0.707128643989563,
          0.6925028562545776,
          0.7005571126937866,
          0.7034862041473389,
          0.6981091499328613,
          0.6862119436264038,
          0.6941415667533875,
          0.6847143173217773,
          0.6867014169692993,
          0.6859046220779419,
          0.684298574924469,
          0.6882634162902832,
          0.6856395602226257,
          0.6879749894142151,
          0.6924151182174683,
          0.6854968070983887
         ],
         "yaxis": "y"
        },
        {
         "line": {
          "color": "#636EFA"
         },
         "marker": {
          "color": "#636EFA"
         },
         "mode": "lines+markers",
         "name": "train",
         "showlegend": false,
         "type": "scatter",
         "x": [
          1,
          2,
          3,
          4,
          5,
          6,
          7,
          8,
          9,
          10,
          11,
          12,
          13,
          14,
          15,
          16,
          17,
          18,
          19,
          20,
          21,
          22
         ],
         "xaxis": "x2",
         "y": [
          0.5100499987602234,
          0.5030999779701233,
          0.4997499883174896,
          0.4980500042438507,
          0.5083500146865845,
          0.5038999915122986,
          0.5037999749183655,
          0.5022000074386597,
          0.4941500127315521,
          0.508650004863739,
          0.5375000238418579,
          0.5378999710083008,
          0.539650022983551,
          0.5414999723434448,
          0.543150007724762,
          0.5454999804496765,
          0.5350000262260437,
          0.5360999703407288,
          0.5480499863624573,
          0.550000011920929,
          0.5396999716758728,
          0.5443999767303467
         ],
         "yaxis": "y2"
        },
        {
         "line": {
          "color": "#EF553B"
         },
         "marker": {
          "color": "#EF553B"
         },
         "mode": "lines+markers",
         "name": "val",
         "showlegend": false,
         "type": "scatter",
         "x": [
          1,
          2,
          3,
          4,
          5,
          6,
          7,
          8,
          9,
          10,
          11,
          12,
          13,
          14,
          15,
          16,
          17,
          18,
          19,
          20,
          21,
          22
         ],
         "xaxis": "x2",
         "y": [
          0.4851999878883362,
          0.48500001430511475,
          0.48500001430511475,
          0.48500001430511475,
          0.5152000188827515,
          0.5152000188827515,
          0.5152000188827515,
          0.5152000188827515,
          0.5005999803543091,
          0.569599986076355,
          0.5152000188827515,
          0.5681999921798706,
          0.4848000109195709,
          0.5681999921798706,
          0.5681999921798706,
          0.5681999921798706,
          0.5681999921798706,
          0.5681999921798706,
          0.5681999921798706,
          0.5681999921798706,
          0.4848000109195709,
          0.5681999921798706
         ],
         "yaxis": "y2"
        }
       ],
       "layout": {
        "annotations": [
         {
          "font": {
           "size": 16
          },
          "showarrow": false,
          "text": "loss",
          "x": 0.2375,
          "xanchor": "center",
          "xref": "paper",
          "y": 1,
          "yanchor": "bottom",
          "yref": "paper"
         },
         {
          "font": {
           "size": 16
          },
          "showarrow": false,
          "text": "accuracy",
          "x": 0.7625,
          "xanchor": "center",
          "xref": "paper",
          "y": 1,
          "yanchor": "bottom",
          "yref": "paper"
         }
        ],
        "height": 400,
        "margin": {
         "b": 10,
         "l": 10,
         "r": 10,
         "t": 50
        },
        "template": {
         "data": {
          "bar": [
           {
            "error_x": {
             "color": "rgb(36,36,36)"
            },
            "error_y": {
             "color": "rgb(36,36,36)"
            },
            "marker": {
             "line": {
              "color": "rgb(234,234,242)",
              "width": 0.5
             },
             "pattern": {
              "fillmode": "overlay",
              "size": 10,
              "solidity": 0.2
             }
            },
            "type": "bar"
           }
          ],
          "barpolar": [
           {
            "marker": {
             "line": {
              "color": "rgb(234,234,242)",
              "width": 0.5
             },
             "pattern": {
              "fillmode": "overlay",
              "size": 10,
              "solidity": 0.2
             }
            },
            "type": "barpolar"
           }
          ],
          "carpet": [
           {
            "aaxis": {
             "endlinecolor": "rgb(36,36,36)",
             "gridcolor": "white",
             "linecolor": "white",
             "minorgridcolor": "white",
             "startlinecolor": "rgb(36,36,36)"
            },
            "baxis": {
             "endlinecolor": "rgb(36,36,36)",
             "gridcolor": "white",
             "linecolor": "white",
             "minorgridcolor": "white",
             "startlinecolor": "rgb(36,36,36)"
            },
            "type": "carpet"
           }
          ],
          "choropleth": [
           {
            "colorbar": {
             "outlinewidth": 0,
             "tickcolor": "rgb(36,36,36)",
             "ticklen": 8,
             "ticks": "outside",
             "tickwidth": 2
            },
            "type": "choropleth"
           }
          ],
          "contour": [
           {
            "colorbar": {
             "outlinewidth": 0,
             "tickcolor": "rgb(36,36,36)",
             "ticklen": 8,
             "ticks": "outside",
             "tickwidth": 2
            },
            "colorscale": [
             [
              0,
              "rgb(2,4,25)"
             ],
             [
              0.06274509803921569,
              "rgb(24,15,41)"
             ],
             [
              0.12549019607843137,
              "rgb(47,23,57)"
             ],
             [
              0.18823529411764706,
              "rgb(71,28,72)"
             ],
             [
              0.25098039215686274,
              "rgb(97,30,82)"
             ],
             [
              0.3137254901960784,
              "rgb(123,30,89)"
             ],
             [
              0.3764705882352941,
              "rgb(150,27,91)"
             ],
             [
              0.4392156862745098,
              "rgb(177,22,88)"
             ],
             [
              0.5019607843137255,
              "rgb(203,26,79)"
             ],
             [
              0.5647058823529412,
              "rgb(223,47,67)"
             ],
             [
              0.6274509803921569,
              "rgb(236,76,61)"
             ],
             [
              0.6901960784313725,
              "rgb(242,107,73)"
             ],
             [
              0.7529411764705882,
              "rgb(244,135,95)"
             ],
             [
              0.8156862745098039,
              "rgb(245,162,122)"
             ],
             [
              0.8784313725490196,
              "rgb(246,188,153)"
             ],
             [
              0.9411764705882353,
              "rgb(247,212,187)"
             ],
             [
              1,
              "rgb(250,234,220)"
             ]
            ],
            "type": "contour"
           }
          ],
          "contourcarpet": [
           {
            "colorbar": {
             "outlinewidth": 0,
             "tickcolor": "rgb(36,36,36)",
             "ticklen": 8,
             "ticks": "outside",
             "tickwidth": 2
            },
            "type": "contourcarpet"
           }
          ],
          "heatmap": [
           {
            "colorbar": {
             "outlinewidth": 0,
             "tickcolor": "rgb(36,36,36)",
             "ticklen": 8,
             "ticks": "outside",
             "tickwidth": 2
            },
            "colorscale": [
             [
              0,
              "rgb(2,4,25)"
             ],
             [
              0.06274509803921569,
              "rgb(24,15,41)"
             ],
             [
              0.12549019607843137,
              "rgb(47,23,57)"
             ],
             [
              0.18823529411764706,
              "rgb(71,28,72)"
             ],
             [
              0.25098039215686274,
              "rgb(97,30,82)"
             ],
             [
              0.3137254901960784,
              "rgb(123,30,89)"
             ],
             [
              0.3764705882352941,
              "rgb(150,27,91)"
             ],
             [
              0.4392156862745098,
              "rgb(177,22,88)"
             ],
             [
              0.5019607843137255,
              "rgb(203,26,79)"
             ],
             [
              0.5647058823529412,
              "rgb(223,47,67)"
             ],
             [
              0.6274509803921569,
              "rgb(236,76,61)"
             ],
             [
              0.6901960784313725,
              "rgb(242,107,73)"
             ],
             [
              0.7529411764705882,
              "rgb(244,135,95)"
             ],
             [
              0.8156862745098039,
              "rgb(245,162,122)"
             ],
             [
              0.8784313725490196,
              "rgb(246,188,153)"
             ],
             [
              0.9411764705882353,
              "rgb(247,212,187)"
             ],
             [
              1,
              "rgb(250,234,220)"
             ]
            ],
            "type": "heatmap"
           }
          ],
          "heatmapgl": [
           {
            "colorbar": {
             "outlinewidth": 0,
             "tickcolor": "rgb(36,36,36)",
             "ticklen": 8,
             "ticks": "outside",
             "tickwidth": 2
            },
            "colorscale": [
             [
              0,
              "rgb(2,4,25)"
             ],
             [
              0.06274509803921569,
              "rgb(24,15,41)"
             ],
             [
              0.12549019607843137,
              "rgb(47,23,57)"
             ],
             [
              0.18823529411764706,
              "rgb(71,28,72)"
             ],
             [
              0.25098039215686274,
              "rgb(97,30,82)"
             ],
             [
              0.3137254901960784,
              "rgb(123,30,89)"
             ],
             [
              0.3764705882352941,
              "rgb(150,27,91)"
             ],
             [
              0.4392156862745098,
              "rgb(177,22,88)"
             ],
             [
              0.5019607843137255,
              "rgb(203,26,79)"
             ],
             [
              0.5647058823529412,
              "rgb(223,47,67)"
             ],
             [
              0.6274509803921569,
              "rgb(236,76,61)"
             ],
             [
              0.6901960784313725,
              "rgb(242,107,73)"
             ],
             [
              0.7529411764705882,
              "rgb(244,135,95)"
             ],
             [
              0.8156862745098039,
              "rgb(245,162,122)"
             ],
             [
              0.8784313725490196,
              "rgb(246,188,153)"
             ],
             [
              0.9411764705882353,
              "rgb(247,212,187)"
             ],
             [
              1,
              "rgb(250,234,220)"
             ]
            ],
            "type": "heatmapgl"
           }
          ],
          "histogram": [
           {
            "marker": {
             "pattern": {
              "fillmode": "overlay",
              "size": 10,
              "solidity": 0.2
             }
            },
            "type": "histogram"
           }
          ],
          "histogram2d": [
           {
            "colorbar": {
             "outlinewidth": 0,
             "tickcolor": "rgb(36,36,36)",
             "ticklen": 8,
             "ticks": "outside",
             "tickwidth": 2
            },
            "colorscale": [
             [
              0,
              "rgb(2,4,25)"
             ],
             [
              0.06274509803921569,
              "rgb(24,15,41)"
             ],
             [
              0.12549019607843137,
              "rgb(47,23,57)"
             ],
             [
              0.18823529411764706,
              "rgb(71,28,72)"
             ],
             [
              0.25098039215686274,
              "rgb(97,30,82)"
             ],
             [
              0.3137254901960784,
              "rgb(123,30,89)"
             ],
             [
              0.3764705882352941,
              "rgb(150,27,91)"
             ],
             [
              0.4392156862745098,
              "rgb(177,22,88)"
             ],
             [
              0.5019607843137255,
              "rgb(203,26,79)"
             ],
             [
              0.5647058823529412,
              "rgb(223,47,67)"
             ],
             [
              0.6274509803921569,
              "rgb(236,76,61)"
             ],
             [
              0.6901960784313725,
              "rgb(242,107,73)"
             ],
             [
              0.7529411764705882,
              "rgb(244,135,95)"
             ],
             [
              0.8156862745098039,
              "rgb(245,162,122)"
             ],
             [
              0.8784313725490196,
              "rgb(246,188,153)"
             ],
             [
              0.9411764705882353,
              "rgb(247,212,187)"
             ],
             [
              1,
              "rgb(250,234,220)"
             ]
            ],
            "type": "histogram2d"
           }
          ],
          "histogram2dcontour": [
           {
            "colorbar": {
             "outlinewidth": 0,
             "tickcolor": "rgb(36,36,36)",
             "ticklen": 8,
             "ticks": "outside",
             "tickwidth": 2
            },
            "colorscale": [
             [
              0,
              "rgb(2,4,25)"
             ],
             [
              0.06274509803921569,
              "rgb(24,15,41)"
             ],
             [
              0.12549019607843137,
              "rgb(47,23,57)"
             ],
             [
              0.18823529411764706,
              "rgb(71,28,72)"
             ],
             [
              0.25098039215686274,
              "rgb(97,30,82)"
             ],
             [
              0.3137254901960784,
              "rgb(123,30,89)"
             ],
             [
              0.3764705882352941,
              "rgb(150,27,91)"
             ],
             [
              0.4392156862745098,
              "rgb(177,22,88)"
             ],
             [
              0.5019607843137255,
              "rgb(203,26,79)"
             ],
             [
              0.5647058823529412,
              "rgb(223,47,67)"
             ],
             [
              0.6274509803921569,
              "rgb(236,76,61)"
             ],
             [
              0.6901960784313725,
              "rgb(242,107,73)"
             ],
             [
              0.7529411764705882,
              "rgb(244,135,95)"
             ],
             [
              0.8156862745098039,
              "rgb(245,162,122)"
             ],
             [
              0.8784313725490196,
              "rgb(246,188,153)"
             ],
             [
              0.9411764705882353,
              "rgb(247,212,187)"
             ],
             [
              1,
              "rgb(250,234,220)"
             ]
            ],
            "type": "histogram2dcontour"
           }
          ],
          "mesh3d": [
           {
            "colorbar": {
             "outlinewidth": 0,
             "tickcolor": "rgb(36,36,36)",
             "ticklen": 8,
             "ticks": "outside",
             "tickwidth": 2
            },
            "type": "mesh3d"
           }
          ],
          "parcoords": [
           {
            "line": {
             "colorbar": {
              "outlinewidth": 0,
              "tickcolor": "rgb(36,36,36)",
              "ticklen": 8,
              "ticks": "outside",
              "tickwidth": 2
             }
            },
            "type": "parcoords"
           }
          ],
          "pie": [
           {
            "automargin": true,
            "type": "pie"
           }
          ],
          "scatter": [
           {
            "fillpattern": {
             "fillmode": "overlay",
             "size": 10,
             "solidity": 0.2
            },
            "type": "scatter"
           }
          ],
          "scatter3d": [
           {
            "line": {
             "colorbar": {
              "outlinewidth": 0,
              "tickcolor": "rgb(36,36,36)",
              "ticklen": 8,
              "ticks": "outside",
              "tickwidth": 2
             }
            },
            "marker": {
             "colorbar": {
              "outlinewidth": 0,
              "tickcolor": "rgb(36,36,36)",
              "ticklen": 8,
              "ticks": "outside",
              "tickwidth": 2
             }
            },
            "type": "scatter3d"
           }
          ],
          "scattercarpet": [
           {
            "marker": {
             "colorbar": {
              "outlinewidth": 0,
              "tickcolor": "rgb(36,36,36)",
              "ticklen": 8,
              "ticks": "outside",
              "tickwidth": 2
             }
            },
            "type": "scattercarpet"
           }
          ],
          "scattergeo": [
           {
            "marker": {
             "colorbar": {
              "outlinewidth": 0,
              "tickcolor": "rgb(36,36,36)",
              "ticklen": 8,
              "ticks": "outside",
              "tickwidth": 2
             }
            },
            "type": "scattergeo"
           }
          ],
          "scattergl": [
           {
            "marker": {
             "colorbar": {
              "outlinewidth": 0,
              "tickcolor": "rgb(36,36,36)",
              "ticklen": 8,
              "ticks": "outside",
              "tickwidth": 2
             }
            },
            "type": "scattergl"
           }
          ],
          "scattermapbox": [
           {
            "marker": {
             "colorbar": {
              "outlinewidth": 0,
              "tickcolor": "rgb(36,36,36)",
              "ticklen": 8,
              "ticks": "outside",
              "tickwidth": 2
             }
            },
            "type": "scattermapbox"
           }
          ],
          "scatterpolar": [
           {
            "marker": {
             "colorbar": {
              "outlinewidth": 0,
              "tickcolor": "rgb(36,36,36)",
              "ticklen": 8,
              "ticks": "outside",
              "tickwidth": 2
             }
            },
            "type": "scatterpolar"
           }
          ],
          "scatterpolargl": [
           {
            "marker": {
             "colorbar": {
              "outlinewidth": 0,
              "tickcolor": "rgb(36,36,36)",
              "ticklen": 8,
              "ticks": "outside",
              "tickwidth": 2
             }
            },
            "type": "scatterpolargl"
           }
          ],
          "scatterternary": [
           {
            "marker": {
             "colorbar": {
              "outlinewidth": 0,
              "tickcolor": "rgb(36,36,36)",
              "ticklen": 8,
              "ticks": "outside",
              "tickwidth": 2
             }
            },
            "type": "scatterternary"
           }
          ],
          "surface": [
           {
            "colorbar": {
             "outlinewidth": 0,
             "tickcolor": "rgb(36,36,36)",
             "ticklen": 8,
             "ticks": "outside",
             "tickwidth": 2
            },
            "colorscale": [
             [
              0,
              "rgb(2,4,25)"
             ],
             [
              0.06274509803921569,
              "rgb(24,15,41)"
             ],
             [
              0.12549019607843137,
              "rgb(47,23,57)"
             ],
             [
              0.18823529411764706,
              "rgb(71,28,72)"
             ],
             [
              0.25098039215686274,
              "rgb(97,30,82)"
             ],
             [
              0.3137254901960784,
              "rgb(123,30,89)"
             ],
             [
              0.3764705882352941,
              "rgb(150,27,91)"
             ],
             [
              0.4392156862745098,
              "rgb(177,22,88)"
             ],
             [
              0.5019607843137255,
              "rgb(203,26,79)"
             ],
             [
              0.5647058823529412,
              "rgb(223,47,67)"
             ],
             [
              0.6274509803921569,
              "rgb(236,76,61)"
             ],
             [
              0.6901960784313725,
              "rgb(242,107,73)"
             ],
             [
              0.7529411764705882,
              "rgb(244,135,95)"
             ],
             [
              0.8156862745098039,
              "rgb(245,162,122)"
             ],
             [
              0.8784313725490196,
              "rgb(246,188,153)"
             ],
             [
              0.9411764705882353,
              "rgb(247,212,187)"
             ],
             [
              1,
              "rgb(250,234,220)"
             ]
            ],
            "type": "surface"
           }
          ],
          "table": [
           {
            "cells": {
             "fill": {
              "color": "rgb(231,231,240)"
             },
             "line": {
              "color": "white"
             }
            },
            "header": {
             "fill": {
              "color": "rgb(183,183,191)"
             },
             "line": {
              "color": "white"
             }
            },
            "type": "table"
           }
          ]
         },
         "layout": {
          "annotationdefaults": {
           "arrowcolor": "rgb(67,103,167)"
          },
          "autotypenumbers": "strict",
          "coloraxis": {
           "colorbar": {
            "outlinewidth": 0,
            "tickcolor": "rgb(36,36,36)",
            "ticklen": 8,
            "ticks": "outside",
            "tickwidth": 2
           }
          },
          "colorscale": {
           "sequential": [
            [
             0,
             "rgb(2,4,25)"
            ],
            [
             0.06274509803921569,
             "rgb(24,15,41)"
            ],
            [
             0.12549019607843137,
             "rgb(47,23,57)"
            ],
            [
             0.18823529411764706,
             "rgb(71,28,72)"
            ],
            [
             0.25098039215686274,
             "rgb(97,30,82)"
            ],
            [
             0.3137254901960784,
             "rgb(123,30,89)"
            ],
            [
             0.3764705882352941,
             "rgb(150,27,91)"
            ],
            [
             0.4392156862745098,
             "rgb(177,22,88)"
            ],
            [
             0.5019607843137255,
             "rgb(203,26,79)"
            ],
            [
             0.5647058823529412,
             "rgb(223,47,67)"
            ],
            [
             0.6274509803921569,
             "rgb(236,76,61)"
            ],
            [
             0.6901960784313725,
             "rgb(242,107,73)"
            ],
            [
             0.7529411764705882,
             "rgb(244,135,95)"
            ],
            [
             0.8156862745098039,
             "rgb(245,162,122)"
            ],
            [
             0.8784313725490196,
             "rgb(246,188,153)"
            ],
            [
             0.9411764705882353,
             "rgb(247,212,187)"
            ],
            [
             1,
             "rgb(250,234,220)"
            ]
           ],
           "sequentialminus": [
            [
             0,
             "rgb(2,4,25)"
            ],
            [
             0.06274509803921569,
             "rgb(24,15,41)"
            ],
            [
             0.12549019607843137,
             "rgb(47,23,57)"
            ],
            [
             0.18823529411764706,
             "rgb(71,28,72)"
            ],
            [
             0.25098039215686274,
             "rgb(97,30,82)"
            ],
            [
             0.3137254901960784,
             "rgb(123,30,89)"
            ],
            [
             0.3764705882352941,
             "rgb(150,27,91)"
            ],
            [
             0.4392156862745098,
             "rgb(177,22,88)"
            ],
            [
             0.5019607843137255,
             "rgb(203,26,79)"
            ],
            [
             0.5647058823529412,
             "rgb(223,47,67)"
            ],
            [
             0.6274509803921569,
             "rgb(236,76,61)"
            ],
            [
             0.6901960784313725,
             "rgb(242,107,73)"
            ],
            [
             0.7529411764705882,
             "rgb(244,135,95)"
            ],
            [
             0.8156862745098039,
             "rgb(245,162,122)"
            ],
            [
             0.8784313725490196,
             "rgb(246,188,153)"
            ],
            [
             0.9411764705882353,
             "rgb(247,212,187)"
            ],
            [
             1,
             "rgb(250,234,220)"
            ]
           ]
          },
          "colorway": [
           "rgb(76,114,176)",
           "rgb(221,132,82)",
           "rgb(85,168,104)",
           "rgb(196,78,82)",
           "rgb(129,114,179)",
           "rgb(147,120,96)",
           "rgb(218,139,195)",
           "rgb(140,140,140)",
           "rgb(204,185,116)",
           "rgb(100,181,205)"
          ],
          "font": {
           "color": "rgb(36,36,36)"
          },
          "geo": {
           "bgcolor": "white",
           "lakecolor": "white",
           "landcolor": "rgb(234,234,242)",
           "showlakes": true,
           "showland": true,
           "subunitcolor": "white"
          },
          "hoverlabel": {
           "align": "left"
          },
          "hovermode": "closest",
          "paper_bgcolor": "white",
          "plot_bgcolor": "rgb(234,234,242)",
          "polar": {
           "angularaxis": {
            "gridcolor": "white",
            "linecolor": "white",
            "showgrid": true,
            "ticks": ""
           },
           "bgcolor": "rgb(234,234,242)",
           "radialaxis": {
            "gridcolor": "white",
            "linecolor": "white",
            "showgrid": true,
            "ticks": ""
           }
          },
          "scene": {
           "xaxis": {
            "backgroundcolor": "rgb(234,234,242)",
            "gridcolor": "white",
            "gridwidth": 2,
            "linecolor": "white",
            "showbackground": true,
            "showgrid": true,
            "ticks": "",
            "zerolinecolor": "white"
           },
           "yaxis": {
            "backgroundcolor": "rgb(234,234,242)",
            "gridcolor": "white",
            "gridwidth": 2,
            "linecolor": "white",
            "showbackground": true,
            "showgrid": true,
            "ticks": "",
            "zerolinecolor": "white"
           },
           "zaxis": {
            "backgroundcolor": "rgb(234,234,242)",
            "gridcolor": "white",
            "gridwidth": 2,
            "linecolor": "white",
            "showbackground": true,
            "showgrid": true,
            "ticks": "",
            "zerolinecolor": "white"
           }
          },
          "shapedefaults": {
           "fillcolor": "rgb(67,103,167)",
           "line": {
            "width": 0
           },
           "opacity": 0.5
          },
          "ternary": {
           "aaxis": {
            "gridcolor": "white",
            "linecolor": "white",
            "showgrid": true,
            "ticks": ""
           },
           "baxis": {
            "gridcolor": "white",
            "linecolor": "white",
            "showgrid": true,
            "ticks": ""
           },
           "bgcolor": "rgb(234,234,242)",
           "caxis": {
            "gridcolor": "white",
            "linecolor": "white",
            "showgrid": true,
            "ticks": ""
           }
          },
          "xaxis": {
           "automargin": true,
           "gridcolor": "white",
           "linecolor": "white",
           "showgrid": true,
           "ticks": "",
           "title": {
            "standoff": 15
           },
           "zerolinecolor": "white"
          },
          "yaxis": {
           "automargin": true,
           "gridcolor": "white",
           "linecolor": "white",
           "showgrid": true,
           "ticks": "",
           "title": {
            "standoff": 15
           },
           "zerolinecolor": "white"
          }
         }
        },
        "title": {
         "text": "Training and validation of SimpleRNN-enhanced"
        },
        "width": 1200,
        "xaxis": {
         "anchor": "y",
         "domain": [
          0,
          0.475
         ],
         "title": {
          "text": "epochs"
         }
        },
        "xaxis2": {
         "anchor": "y2",
         "domain": [
          0.525,
          1
         ],
         "title": {
          "text": "epochs"
         }
        },
        "yaxis": {
         "anchor": "x",
         "domain": [
          0,
          1
         ],
         "title": {
          "text": "accuracy"
         }
        },
        "yaxis2": {
         "anchor": "x2",
         "domain": [
          0,
          1
         ],
         "title": {
          "text": "accuracy"
         }
        }
       }
      }
     },
     "metadata": {},
     "output_type": "display_data"
    }
   ],
   "source": [
    "rnn_enhanced = AmazonReviewsModel(\n",
    "    2000, 256, SimpleRNN, num_recurrent_layers=3, dropout=0.1, ffn_dims=[64], name='SimpleRNN-enhanced')\n",
    "_, fig = rnn_enhanced.train(dataset, f'{MODEL_PATH}/{rnn_enhanced.name}.weights.h5', **train_default)\n",
    "print(rnn_enhanced.evaluate(dataset.X_test, dataset.y_test))\n",
    "fig"
   ]
  },
  {
   "cell_type": "code",
   "execution_count": 7,
   "metadata": {},
   "outputs": [
    {
     "name": "stdout",
     "output_type": "stream",
     "text": [
      "Epoch 1/30\n",
      "40/40 [==============================] - 11s 135ms/step - loss: 0.5214 - accuracy: 0.7262 - val_loss: 0.3757 - val_accuracy: 0.8596\n",
      "Epoch 2/30\n",
      "40/40 [==============================] - 3s 70ms/step - loss: 0.3160 - accuracy: 0.8762 - val_loss: 0.3212 - val_accuracy: 0.8722\n",
      "Epoch 3/30\n",
      "40/40 [==============================] - 2s 62ms/step - loss: 0.2797 - accuracy: 0.8921 - val_loss: 0.3305 - val_accuracy: 0.8696\n",
      "Epoch 4/30\n",
      "40/40 [==============================] - 2s 61ms/step - loss: 0.2541 - accuracy: 0.9047 - val_loss: 0.3130 - val_accuracy: 0.8774\n",
      "Epoch 5/30\n",
      "40/40 [==============================] - 2s 59ms/step - loss: 0.2315 - accuracy: 0.9155 - val_loss: 0.3047 - val_accuracy: 0.8744\n",
      "Epoch 6/30\n",
      "40/40 [==============================] - 2s 52ms/step - loss: 0.2217 - accuracy: 0.9189 - val_loss: 0.3307 - val_accuracy: 0.8644\n",
      "Epoch 7/30\n",
      "40/40 [==============================] - 2s 55ms/step - loss: 0.2023 - accuracy: 0.9265 - val_loss: 0.3419 - val_accuracy: 0.8686\n",
      "Epoch 8/30\n",
      "40/40 [==============================] - 2s 52ms/step - loss: 0.1860 - accuracy: 0.9317 - val_loss: 0.3592 - val_accuracy: 0.8732\n",
      "Epoch 9/30\n",
      "40/40 [==============================] - 2s 52ms/step - loss: 0.1743 - accuracy: 0.9369 - val_loss: 0.3671 - val_accuracy: 0.8690\n",
      "Epoch 10/30\n",
      "40/40 [==============================] - 2s 50ms/step - loss: 0.1612 - accuracy: 0.9426 - val_loss: 0.4251 - val_accuracy: 0.8384\n",
      "[0.33539456129074097, 0.8589199781417847]\n"
     ]
    },
    {
     "data": {
      "application/vnd.plotly.v1+json": {
       "config": {
        "plotlyServerURL": "https://plot.ly"
       },
       "data": [
        {
         "line": {
          "color": "#636EFA"
         },
         "marker": {
          "color": "#636EFA"
         },
         "mode": "lines+markers",
         "name": "train",
         "showlegend": true,
         "type": "scatter",
         "x": [
          1,
          2,
          3,
          4,
          5,
          6,
          7,
          8,
          9,
          10
         ],
         "xaxis": "x",
         "y": [
          0.5214044451713562,
          0.3159681260585785,
          0.27969124913215637,
          0.25411245226860046,
          0.23146994411945343,
          0.22171249985694885,
          0.20225055515766144,
          0.18598131835460663,
          0.17427989840507507,
          0.16115958988666534
         ],
         "yaxis": "y"
        },
        {
         "line": {
          "color": "#EF553B"
         },
         "marker": {
          "color": "#EF553B"
         },
         "mode": "lines+markers",
         "name": "val",
         "showlegend": true,
         "type": "scatter",
         "x": [
          1,
          2,
          3,
          4,
          5,
          6,
          7,
          8,
          9,
          10
         ],
         "xaxis": "x",
         "y": [
          0.37566259503364563,
          0.32120540738105774,
          0.33050864934921265,
          0.31297174096107483,
          0.3046916425228119,
          0.33067625761032104,
          0.3419073820114136,
          0.35918745398521423,
          0.3671070337295532,
          0.4250727593898773
         ],
         "yaxis": "y"
        },
        {
         "line": {
          "color": "#636EFA"
         },
         "marker": {
          "color": "#636EFA"
         },
         "mode": "lines+markers",
         "name": "train",
         "showlegend": false,
         "type": "scatter",
         "x": [
          1,
          2,
          3,
          4,
          5,
          6,
          7,
          8,
          9,
          10
         ],
         "xaxis": "x2",
         "y": [
          0.7261999845504761,
          0.8762000203132629,
          0.8920999765396118,
          0.904699981212616,
          0.9155499935150146,
          0.9188500046730042,
          0.9265499711036682,
          0.9316999912261963,
          0.9368500113487244,
          0.9426000118255615
         ],
         "yaxis": "y2"
        },
        {
         "line": {
          "color": "#EF553B"
         },
         "marker": {
          "color": "#EF553B"
         },
         "mode": "lines+markers",
         "name": "val",
         "showlegend": false,
         "type": "scatter",
         "x": [
          1,
          2,
          3,
          4,
          5,
          6,
          7,
          8,
          9,
          10
         ],
         "xaxis": "x2",
         "y": [
          0.8596000075340271,
          0.8722000122070312,
          0.8695999979972839,
          0.8773999810218811,
          0.8744000196456909,
          0.8644000291824341,
          0.8686000108718872,
          0.873199999332428,
          0.8690000176429749,
          0.8384000062942505
         ],
         "yaxis": "y2"
        }
       ],
       "layout": {
        "annotations": [
         {
          "font": {
           "size": 16
          },
          "showarrow": false,
          "text": "loss",
          "x": 0.2375,
          "xanchor": "center",
          "xref": "paper",
          "y": 1,
          "yanchor": "bottom",
          "yref": "paper"
         },
         {
          "font": {
           "size": 16
          },
          "showarrow": false,
          "text": "accuracy",
          "x": 0.7625,
          "xanchor": "center",
          "xref": "paper",
          "y": 1,
          "yanchor": "bottom",
          "yref": "paper"
         }
        ],
        "height": 400,
        "margin": {
         "b": 10,
         "l": 10,
         "r": 10,
         "t": 50
        },
        "template": {
         "data": {
          "bar": [
           {
            "error_x": {
             "color": "rgb(36,36,36)"
            },
            "error_y": {
             "color": "rgb(36,36,36)"
            },
            "marker": {
             "line": {
              "color": "rgb(234,234,242)",
              "width": 0.5
             },
             "pattern": {
              "fillmode": "overlay",
              "size": 10,
              "solidity": 0.2
             }
            },
            "type": "bar"
           }
          ],
          "barpolar": [
           {
            "marker": {
             "line": {
              "color": "rgb(234,234,242)",
              "width": 0.5
             },
             "pattern": {
              "fillmode": "overlay",
              "size": 10,
              "solidity": 0.2
             }
            },
            "type": "barpolar"
           }
          ],
          "carpet": [
           {
            "aaxis": {
             "endlinecolor": "rgb(36,36,36)",
             "gridcolor": "white",
             "linecolor": "white",
             "minorgridcolor": "white",
             "startlinecolor": "rgb(36,36,36)"
            },
            "baxis": {
             "endlinecolor": "rgb(36,36,36)",
             "gridcolor": "white",
             "linecolor": "white",
             "minorgridcolor": "white",
             "startlinecolor": "rgb(36,36,36)"
            },
            "type": "carpet"
           }
          ],
          "choropleth": [
           {
            "colorbar": {
             "outlinewidth": 0,
             "tickcolor": "rgb(36,36,36)",
             "ticklen": 8,
             "ticks": "outside",
             "tickwidth": 2
            },
            "type": "choropleth"
           }
          ],
          "contour": [
           {
            "colorbar": {
             "outlinewidth": 0,
             "tickcolor": "rgb(36,36,36)",
             "ticklen": 8,
             "ticks": "outside",
             "tickwidth": 2
            },
            "colorscale": [
             [
              0,
              "rgb(2,4,25)"
             ],
             [
              0.06274509803921569,
              "rgb(24,15,41)"
             ],
             [
              0.12549019607843137,
              "rgb(47,23,57)"
             ],
             [
              0.18823529411764706,
              "rgb(71,28,72)"
             ],
             [
              0.25098039215686274,
              "rgb(97,30,82)"
             ],
             [
              0.3137254901960784,
              "rgb(123,30,89)"
             ],
             [
              0.3764705882352941,
              "rgb(150,27,91)"
             ],
             [
              0.4392156862745098,
              "rgb(177,22,88)"
             ],
             [
              0.5019607843137255,
              "rgb(203,26,79)"
             ],
             [
              0.5647058823529412,
              "rgb(223,47,67)"
             ],
             [
              0.6274509803921569,
              "rgb(236,76,61)"
             ],
             [
              0.6901960784313725,
              "rgb(242,107,73)"
             ],
             [
              0.7529411764705882,
              "rgb(244,135,95)"
             ],
             [
              0.8156862745098039,
              "rgb(245,162,122)"
             ],
             [
              0.8784313725490196,
              "rgb(246,188,153)"
             ],
             [
              0.9411764705882353,
              "rgb(247,212,187)"
             ],
             [
              1,
              "rgb(250,234,220)"
             ]
            ],
            "type": "contour"
           }
          ],
          "contourcarpet": [
           {
            "colorbar": {
             "outlinewidth": 0,
             "tickcolor": "rgb(36,36,36)",
             "ticklen": 8,
             "ticks": "outside",
             "tickwidth": 2
            },
            "type": "contourcarpet"
           }
          ],
          "heatmap": [
           {
            "colorbar": {
             "outlinewidth": 0,
             "tickcolor": "rgb(36,36,36)",
             "ticklen": 8,
             "ticks": "outside",
             "tickwidth": 2
            },
            "colorscale": [
             [
              0,
              "rgb(2,4,25)"
             ],
             [
              0.06274509803921569,
              "rgb(24,15,41)"
             ],
             [
              0.12549019607843137,
              "rgb(47,23,57)"
             ],
             [
              0.18823529411764706,
              "rgb(71,28,72)"
             ],
             [
              0.25098039215686274,
              "rgb(97,30,82)"
             ],
             [
              0.3137254901960784,
              "rgb(123,30,89)"
             ],
             [
              0.3764705882352941,
              "rgb(150,27,91)"
             ],
             [
              0.4392156862745098,
              "rgb(177,22,88)"
             ],
             [
              0.5019607843137255,
              "rgb(203,26,79)"
             ],
             [
              0.5647058823529412,
              "rgb(223,47,67)"
             ],
             [
              0.6274509803921569,
              "rgb(236,76,61)"
             ],
             [
              0.6901960784313725,
              "rgb(242,107,73)"
             ],
             [
              0.7529411764705882,
              "rgb(244,135,95)"
             ],
             [
              0.8156862745098039,
              "rgb(245,162,122)"
             ],
             [
              0.8784313725490196,
              "rgb(246,188,153)"
             ],
             [
              0.9411764705882353,
              "rgb(247,212,187)"
             ],
             [
              1,
              "rgb(250,234,220)"
             ]
            ],
            "type": "heatmap"
           }
          ],
          "heatmapgl": [
           {
            "colorbar": {
             "outlinewidth": 0,
             "tickcolor": "rgb(36,36,36)",
             "ticklen": 8,
             "ticks": "outside",
             "tickwidth": 2
            },
            "colorscale": [
             [
              0,
              "rgb(2,4,25)"
             ],
             [
              0.06274509803921569,
              "rgb(24,15,41)"
             ],
             [
              0.12549019607843137,
              "rgb(47,23,57)"
             ],
             [
              0.18823529411764706,
              "rgb(71,28,72)"
             ],
             [
              0.25098039215686274,
              "rgb(97,30,82)"
             ],
             [
              0.3137254901960784,
              "rgb(123,30,89)"
             ],
             [
              0.3764705882352941,
              "rgb(150,27,91)"
             ],
             [
              0.4392156862745098,
              "rgb(177,22,88)"
             ],
             [
              0.5019607843137255,
              "rgb(203,26,79)"
             ],
             [
              0.5647058823529412,
              "rgb(223,47,67)"
             ],
             [
              0.6274509803921569,
              "rgb(236,76,61)"
             ],
             [
              0.6901960784313725,
              "rgb(242,107,73)"
             ],
             [
              0.7529411764705882,
              "rgb(244,135,95)"
             ],
             [
              0.8156862745098039,
              "rgb(245,162,122)"
             ],
             [
              0.8784313725490196,
              "rgb(246,188,153)"
             ],
             [
              0.9411764705882353,
              "rgb(247,212,187)"
             ],
             [
              1,
              "rgb(250,234,220)"
             ]
            ],
            "type": "heatmapgl"
           }
          ],
          "histogram": [
           {
            "marker": {
             "pattern": {
              "fillmode": "overlay",
              "size": 10,
              "solidity": 0.2
             }
            },
            "type": "histogram"
           }
          ],
          "histogram2d": [
           {
            "colorbar": {
             "outlinewidth": 0,
             "tickcolor": "rgb(36,36,36)",
             "ticklen": 8,
             "ticks": "outside",
             "tickwidth": 2
            },
            "colorscale": [
             [
              0,
              "rgb(2,4,25)"
             ],
             [
              0.06274509803921569,
              "rgb(24,15,41)"
             ],
             [
              0.12549019607843137,
              "rgb(47,23,57)"
             ],
             [
              0.18823529411764706,
              "rgb(71,28,72)"
             ],
             [
              0.25098039215686274,
              "rgb(97,30,82)"
             ],
             [
              0.3137254901960784,
              "rgb(123,30,89)"
             ],
             [
              0.3764705882352941,
              "rgb(150,27,91)"
             ],
             [
              0.4392156862745098,
              "rgb(177,22,88)"
             ],
             [
              0.5019607843137255,
              "rgb(203,26,79)"
             ],
             [
              0.5647058823529412,
              "rgb(223,47,67)"
             ],
             [
              0.6274509803921569,
              "rgb(236,76,61)"
             ],
             [
              0.6901960784313725,
              "rgb(242,107,73)"
             ],
             [
              0.7529411764705882,
              "rgb(244,135,95)"
             ],
             [
              0.8156862745098039,
              "rgb(245,162,122)"
             ],
             [
              0.8784313725490196,
              "rgb(246,188,153)"
             ],
             [
              0.9411764705882353,
              "rgb(247,212,187)"
             ],
             [
              1,
              "rgb(250,234,220)"
             ]
            ],
            "type": "histogram2d"
           }
          ],
          "histogram2dcontour": [
           {
            "colorbar": {
             "outlinewidth": 0,
             "tickcolor": "rgb(36,36,36)",
             "ticklen": 8,
             "ticks": "outside",
             "tickwidth": 2
            },
            "colorscale": [
             [
              0,
              "rgb(2,4,25)"
             ],
             [
              0.06274509803921569,
              "rgb(24,15,41)"
             ],
             [
              0.12549019607843137,
              "rgb(47,23,57)"
             ],
             [
              0.18823529411764706,
              "rgb(71,28,72)"
             ],
             [
              0.25098039215686274,
              "rgb(97,30,82)"
             ],
             [
              0.3137254901960784,
              "rgb(123,30,89)"
             ],
             [
              0.3764705882352941,
              "rgb(150,27,91)"
             ],
             [
              0.4392156862745098,
              "rgb(177,22,88)"
             ],
             [
              0.5019607843137255,
              "rgb(203,26,79)"
             ],
             [
              0.5647058823529412,
              "rgb(223,47,67)"
             ],
             [
              0.6274509803921569,
              "rgb(236,76,61)"
             ],
             [
              0.6901960784313725,
              "rgb(242,107,73)"
             ],
             [
              0.7529411764705882,
              "rgb(244,135,95)"
             ],
             [
              0.8156862745098039,
              "rgb(245,162,122)"
             ],
             [
              0.8784313725490196,
              "rgb(246,188,153)"
             ],
             [
              0.9411764705882353,
              "rgb(247,212,187)"
             ],
             [
              1,
              "rgb(250,234,220)"
             ]
            ],
            "type": "histogram2dcontour"
           }
          ],
          "mesh3d": [
           {
            "colorbar": {
             "outlinewidth": 0,
             "tickcolor": "rgb(36,36,36)",
             "ticklen": 8,
             "ticks": "outside",
             "tickwidth": 2
            },
            "type": "mesh3d"
           }
          ],
          "parcoords": [
           {
            "line": {
             "colorbar": {
              "outlinewidth": 0,
              "tickcolor": "rgb(36,36,36)",
              "ticklen": 8,
              "ticks": "outside",
              "tickwidth": 2
             }
            },
            "type": "parcoords"
           }
          ],
          "pie": [
           {
            "automargin": true,
            "type": "pie"
           }
          ],
          "scatter": [
           {
            "fillpattern": {
             "fillmode": "overlay",
             "size": 10,
             "solidity": 0.2
            },
            "type": "scatter"
           }
          ],
          "scatter3d": [
           {
            "line": {
             "colorbar": {
              "outlinewidth": 0,
              "tickcolor": "rgb(36,36,36)",
              "ticklen": 8,
              "ticks": "outside",
              "tickwidth": 2
             }
            },
            "marker": {
             "colorbar": {
              "outlinewidth": 0,
              "tickcolor": "rgb(36,36,36)",
              "ticklen": 8,
              "ticks": "outside",
              "tickwidth": 2
             }
            },
            "type": "scatter3d"
           }
          ],
          "scattercarpet": [
           {
            "marker": {
             "colorbar": {
              "outlinewidth": 0,
              "tickcolor": "rgb(36,36,36)",
              "ticklen": 8,
              "ticks": "outside",
              "tickwidth": 2
             }
            },
            "type": "scattercarpet"
           }
          ],
          "scattergeo": [
           {
            "marker": {
             "colorbar": {
              "outlinewidth": 0,
              "tickcolor": "rgb(36,36,36)",
              "ticklen": 8,
              "ticks": "outside",
              "tickwidth": 2
             }
            },
            "type": "scattergeo"
           }
          ],
          "scattergl": [
           {
            "marker": {
             "colorbar": {
              "outlinewidth": 0,
              "tickcolor": "rgb(36,36,36)",
              "ticklen": 8,
              "ticks": "outside",
              "tickwidth": 2
             }
            },
            "type": "scattergl"
           }
          ],
          "scattermapbox": [
           {
            "marker": {
             "colorbar": {
              "outlinewidth": 0,
              "tickcolor": "rgb(36,36,36)",
              "ticklen": 8,
              "ticks": "outside",
              "tickwidth": 2
             }
            },
            "type": "scattermapbox"
           }
          ],
          "scatterpolar": [
           {
            "marker": {
             "colorbar": {
              "outlinewidth": 0,
              "tickcolor": "rgb(36,36,36)",
              "ticklen": 8,
              "ticks": "outside",
              "tickwidth": 2
             }
            },
            "type": "scatterpolar"
           }
          ],
          "scatterpolargl": [
           {
            "marker": {
             "colorbar": {
              "outlinewidth": 0,
              "tickcolor": "rgb(36,36,36)",
              "ticklen": 8,
              "ticks": "outside",
              "tickwidth": 2
             }
            },
            "type": "scatterpolargl"
           }
          ],
          "scatterternary": [
           {
            "marker": {
             "colorbar": {
              "outlinewidth": 0,
              "tickcolor": "rgb(36,36,36)",
              "ticklen": 8,
              "ticks": "outside",
              "tickwidth": 2
             }
            },
            "type": "scatterternary"
           }
          ],
          "surface": [
           {
            "colorbar": {
             "outlinewidth": 0,
             "tickcolor": "rgb(36,36,36)",
             "ticklen": 8,
             "ticks": "outside",
             "tickwidth": 2
            },
            "colorscale": [
             [
              0,
              "rgb(2,4,25)"
             ],
             [
              0.06274509803921569,
              "rgb(24,15,41)"
             ],
             [
              0.12549019607843137,
              "rgb(47,23,57)"
             ],
             [
              0.18823529411764706,
              "rgb(71,28,72)"
             ],
             [
              0.25098039215686274,
              "rgb(97,30,82)"
             ],
             [
              0.3137254901960784,
              "rgb(123,30,89)"
             ],
             [
              0.3764705882352941,
              "rgb(150,27,91)"
             ],
             [
              0.4392156862745098,
              "rgb(177,22,88)"
             ],
             [
              0.5019607843137255,
              "rgb(203,26,79)"
             ],
             [
              0.5647058823529412,
              "rgb(223,47,67)"
             ],
             [
              0.6274509803921569,
              "rgb(236,76,61)"
             ],
             [
              0.6901960784313725,
              "rgb(242,107,73)"
             ],
             [
              0.7529411764705882,
              "rgb(244,135,95)"
             ],
             [
              0.8156862745098039,
              "rgb(245,162,122)"
             ],
             [
              0.8784313725490196,
              "rgb(246,188,153)"
             ],
             [
              0.9411764705882353,
              "rgb(247,212,187)"
             ],
             [
              1,
              "rgb(250,234,220)"
             ]
            ],
            "type": "surface"
           }
          ],
          "table": [
           {
            "cells": {
             "fill": {
              "color": "rgb(231,231,240)"
             },
             "line": {
              "color": "white"
             }
            },
            "header": {
             "fill": {
              "color": "rgb(183,183,191)"
             },
             "line": {
              "color": "white"
             }
            },
            "type": "table"
           }
          ]
         },
         "layout": {
          "annotationdefaults": {
           "arrowcolor": "rgb(67,103,167)"
          },
          "autotypenumbers": "strict",
          "coloraxis": {
           "colorbar": {
            "outlinewidth": 0,
            "tickcolor": "rgb(36,36,36)",
            "ticklen": 8,
            "ticks": "outside",
            "tickwidth": 2
           }
          },
          "colorscale": {
           "sequential": [
            [
             0,
             "rgb(2,4,25)"
            ],
            [
             0.06274509803921569,
             "rgb(24,15,41)"
            ],
            [
             0.12549019607843137,
             "rgb(47,23,57)"
            ],
            [
             0.18823529411764706,
             "rgb(71,28,72)"
            ],
            [
             0.25098039215686274,
             "rgb(97,30,82)"
            ],
            [
             0.3137254901960784,
             "rgb(123,30,89)"
            ],
            [
             0.3764705882352941,
             "rgb(150,27,91)"
            ],
            [
             0.4392156862745098,
             "rgb(177,22,88)"
            ],
            [
             0.5019607843137255,
             "rgb(203,26,79)"
            ],
            [
             0.5647058823529412,
             "rgb(223,47,67)"
            ],
            [
             0.6274509803921569,
             "rgb(236,76,61)"
            ],
            [
             0.6901960784313725,
             "rgb(242,107,73)"
            ],
            [
             0.7529411764705882,
             "rgb(244,135,95)"
            ],
            [
             0.8156862745098039,
             "rgb(245,162,122)"
            ],
            [
             0.8784313725490196,
             "rgb(246,188,153)"
            ],
            [
             0.9411764705882353,
             "rgb(247,212,187)"
            ],
            [
             1,
             "rgb(250,234,220)"
            ]
           ],
           "sequentialminus": [
            [
             0,
             "rgb(2,4,25)"
            ],
            [
             0.06274509803921569,
             "rgb(24,15,41)"
            ],
            [
             0.12549019607843137,
             "rgb(47,23,57)"
            ],
            [
             0.18823529411764706,
             "rgb(71,28,72)"
            ],
            [
             0.25098039215686274,
             "rgb(97,30,82)"
            ],
            [
             0.3137254901960784,
             "rgb(123,30,89)"
            ],
            [
             0.3764705882352941,
             "rgb(150,27,91)"
            ],
            [
             0.4392156862745098,
             "rgb(177,22,88)"
            ],
            [
             0.5019607843137255,
             "rgb(203,26,79)"
            ],
            [
             0.5647058823529412,
             "rgb(223,47,67)"
            ],
            [
             0.6274509803921569,
             "rgb(236,76,61)"
            ],
            [
             0.6901960784313725,
             "rgb(242,107,73)"
            ],
            [
             0.7529411764705882,
             "rgb(244,135,95)"
            ],
            [
             0.8156862745098039,
             "rgb(245,162,122)"
            ],
            [
             0.8784313725490196,
             "rgb(246,188,153)"
            ],
            [
             0.9411764705882353,
             "rgb(247,212,187)"
            ],
            [
             1,
             "rgb(250,234,220)"
            ]
           ]
          },
          "colorway": [
           "rgb(76,114,176)",
           "rgb(221,132,82)",
           "rgb(85,168,104)",
           "rgb(196,78,82)",
           "rgb(129,114,179)",
           "rgb(147,120,96)",
           "rgb(218,139,195)",
           "rgb(140,140,140)",
           "rgb(204,185,116)",
           "rgb(100,181,205)"
          ],
          "font": {
           "color": "rgb(36,36,36)"
          },
          "geo": {
           "bgcolor": "white",
           "lakecolor": "white",
           "landcolor": "rgb(234,234,242)",
           "showlakes": true,
           "showland": true,
           "subunitcolor": "white"
          },
          "hoverlabel": {
           "align": "left"
          },
          "hovermode": "closest",
          "paper_bgcolor": "white",
          "plot_bgcolor": "rgb(234,234,242)",
          "polar": {
           "angularaxis": {
            "gridcolor": "white",
            "linecolor": "white",
            "showgrid": true,
            "ticks": ""
           },
           "bgcolor": "rgb(234,234,242)",
           "radialaxis": {
            "gridcolor": "white",
            "linecolor": "white",
            "showgrid": true,
            "ticks": ""
           }
          },
          "scene": {
           "xaxis": {
            "backgroundcolor": "rgb(234,234,242)",
            "gridcolor": "white",
            "gridwidth": 2,
            "linecolor": "white",
            "showbackground": true,
            "showgrid": true,
            "ticks": "",
            "zerolinecolor": "white"
           },
           "yaxis": {
            "backgroundcolor": "rgb(234,234,242)",
            "gridcolor": "white",
            "gridwidth": 2,
            "linecolor": "white",
            "showbackground": true,
            "showgrid": true,
            "ticks": "",
            "zerolinecolor": "white"
           },
           "zaxis": {
            "backgroundcolor": "rgb(234,234,242)",
            "gridcolor": "white",
            "gridwidth": 2,
            "linecolor": "white",
            "showbackground": true,
            "showgrid": true,
            "ticks": "",
            "zerolinecolor": "white"
           }
          },
          "shapedefaults": {
           "fillcolor": "rgb(67,103,167)",
           "line": {
            "width": 0
           },
           "opacity": 0.5
          },
          "ternary": {
           "aaxis": {
            "gridcolor": "white",
            "linecolor": "white",
            "showgrid": true,
            "ticks": ""
           },
           "baxis": {
            "gridcolor": "white",
            "linecolor": "white",
            "showgrid": true,
            "ticks": ""
           },
           "bgcolor": "rgb(234,234,242)",
           "caxis": {
            "gridcolor": "white",
            "linecolor": "white",
            "showgrid": true,
            "ticks": ""
           }
          },
          "xaxis": {
           "automargin": true,
           "gridcolor": "white",
           "linecolor": "white",
           "showgrid": true,
           "ticks": "",
           "title": {
            "standoff": 15
           },
           "zerolinecolor": "white"
          },
          "yaxis": {
           "automargin": true,
           "gridcolor": "white",
           "linecolor": "white",
           "showgrid": true,
           "ticks": "",
           "title": {
            "standoff": 15
           },
           "zerolinecolor": "white"
          }
         }
        },
        "title": {
         "text": "Training and validation of LSTM-enhanced"
        },
        "width": 1200,
        "xaxis": {
         "anchor": "y",
         "domain": [
          0,
          0.475
         ],
         "title": {
          "text": "epochs"
         }
        },
        "xaxis2": {
         "anchor": "y2",
         "domain": [
          0.525,
          1
         ],
         "title": {
          "text": "epochs"
         }
        },
        "yaxis": {
         "anchor": "x",
         "domain": [
          0,
          1
         ],
         "title": {
          "text": "accuracy"
         }
        },
        "yaxis2": {
         "anchor": "x2",
         "domain": [
          0,
          1
         ],
         "title": {
          "text": "accuracy"
         }
        }
       }
      }
     },
     "metadata": {},
     "output_type": "display_data"
    }
   ],
   "source": [
    "lstm_enhanced = AmazonReviewsModel(\n",
    "    2000, 256, LSTM, num_recurrent_layers=3, dropout=0.1, ffn_dims=[64], name='LSTM-enhanced')\n",
    "_, fig = lstm_enhanced.train(dataset, f'{MODEL_PATH}/{lstm_enhanced.name}.weights.h5', **train_default)\n",
    "print(lstm_enhanced.evaluate(dataset.X_test, dataset.y_test))\n",
    "fig"
   ]
  },
  {
   "cell_type": "code",
   "execution_count": 8,
   "metadata": {},
   "outputs": [
    {
     "name": "stdout",
     "output_type": "stream",
     "text": [
      "Epoch 1/30\n",
      "40/40 [==============================] - 10s 133ms/step - loss: 0.5410 - accuracy: 0.7170 - val_loss: 0.3752 - val_accuracy: 0.8364\n",
      "Epoch 2/30\n",
      "40/40 [==============================] - 3s 66ms/step - loss: 0.3445 - accuracy: 0.8564 - val_loss: 0.3118 - val_accuracy: 0.8734\n",
      "Epoch 3/30\n",
      "40/40 [==============================] - 2s 58ms/step - loss: 0.2840 - accuracy: 0.8870 - val_loss: 0.3160 - val_accuracy: 0.8724\n",
      "Epoch 4/30\n",
      "40/40 [==============================] - 2s 61ms/step - loss: 0.2864 - accuracy: 0.8873 - val_loss: 0.3441 - val_accuracy: 0.8656\n",
      "Epoch 5/30\n",
      "40/40 [==============================] - 2s 50ms/step - loss: 0.2412 - accuracy: 0.9096 - val_loss: 0.3092 - val_accuracy: 0.8782\n",
      "Epoch 6/30\n",
      "40/40 [==============================] - 2s 50ms/step - loss: 0.2179 - accuracy: 0.9179 - val_loss: 0.3146 - val_accuracy: 0.8784\n",
      "Epoch 7/30\n",
      "40/40 [==============================] - 2s 54ms/step - loss: 0.2077 - accuracy: 0.9223 - val_loss: 0.3446 - val_accuracy: 0.8698\n",
      "Epoch 8/30\n",
      "40/40 [==============================] - 2s 49ms/step - loss: 0.1921 - accuracy: 0.9301 - val_loss: 0.3386 - val_accuracy: 0.8716\n",
      "Epoch 9/30\n",
      "40/40 [==============================] - 2s 48ms/step - loss: 0.1854 - accuracy: 0.9324 - val_loss: 0.3765 - val_accuracy: 0.8664\n",
      "Epoch 10/30\n",
      "40/40 [==============================] - 2s 49ms/step - loss: 0.1562 - accuracy: 0.9446 - val_loss: 0.3274 - val_accuracy: 0.8774\n",
      "[0.33767375349998474, 0.8643199801445007]\n"
     ]
    },
    {
     "data": {
      "application/vnd.plotly.v1+json": {
       "config": {
        "plotlyServerURL": "https://plot.ly"
       },
       "data": [
        {
         "line": {
          "color": "#636EFA"
         },
         "marker": {
          "color": "#636EFA"
         },
         "mode": "lines+markers",
         "name": "train",
         "showlegend": true,
         "type": "scatter",
         "x": [
          1,
          2,
          3,
          4,
          5,
          6,
          7,
          8,
          9,
          10
         ],
         "xaxis": "x",
         "y": [
          0.5409743785858154,
          0.34448546171188354,
          0.28400710225105286,
          0.2863626182079315,
          0.2411537915468216,
          0.21792851388454437,
          0.20767250657081604,
          0.19209331274032593,
          0.185434028506279,
          0.156233012676239
         ],
         "yaxis": "y"
        },
        {
         "line": {
          "color": "#EF553B"
         },
         "marker": {
          "color": "#EF553B"
         },
         "mode": "lines+markers",
         "name": "val",
         "showlegend": true,
         "type": "scatter",
         "x": [
          1,
          2,
          3,
          4,
          5,
          6,
          7,
          8,
          9,
          10
         ],
         "xaxis": "x",
         "y": [
          0.37518852949142456,
          0.31175917387008667,
          0.3160269558429718,
          0.34409332275390625,
          0.30922237038612366,
          0.31457963585853577,
          0.3445686399936676,
          0.33858615159988403,
          0.3765435516834259,
          0.32735487818717957
         ],
         "yaxis": "y"
        },
        {
         "line": {
          "color": "#636EFA"
         },
         "marker": {
          "color": "#636EFA"
         },
         "mode": "lines+markers",
         "name": "train",
         "showlegend": false,
         "type": "scatter",
         "x": [
          1,
          2,
          3,
          4,
          5,
          6,
          7,
          8,
          9,
          10
         ],
         "xaxis": "x2",
         "y": [
          0.7170000076293945,
          0.8564000129699707,
          0.8869500160217285,
          0.8872500061988831,
          0.9095500111579895,
          0.917900025844574,
          0.9223499894142151,
          0.9301000237464905,
          0.9323999881744385,
          0.944599986076355
         ],
         "yaxis": "y2"
        },
        {
         "line": {
          "color": "#EF553B"
         },
         "marker": {
          "color": "#EF553B"
         },
         "mode": "lines+markers",
         "name": "val",
         "showlegend": false,
         "type": "scatter",
         "x": [
          1,
          2,
          3,
          4,
          5,
          6,
          7,
          8,
          9,
          10
         ],
         "xaxis": "x2",
         "y": [
          0.8363999724388123,
          0.8733999729156494,
          0.8723999857902527,
          0.8655999898910522,
          0.8781999945640564,
          0.8784000277519226,
          0.8697999715805054,
          0.8715999722480774,
          0.8664000034332275,
          0.8773999810218811
         ],
         "yaxis": "y2"
        }
       ],
       "layout": {
        "annotations": [
         {
          "font": {
           "size": 16
          },
          "showarrow": false,
          "text": "loss",
          "x": 0.2375,
          "xanchor": "center",
          "xref": "paper",
          "y": 1,
          "yanchor": "bottom",
          "yref": "paper"
         },
         {
          "font": {
           "size": 16
          },
          "showarrow": false,
          "text": "accuracy",
          "x": 0.7625,
          "xanchor": "center",
          "xref": "paper",
          "y": 1,
          "yanchor": "bottom",
          "yref": "paper"
         }
        ],
        "height": 400,
        "margin": {
         "b": 10,
         "l": 10,
         "r": 10,
         "t": 50
        },
        "template": {
         "data": {
          "bar": [
           {
            "error_x": {
             "color": "rgb(36,36,36)"
            },
            "error_y": {
             "color": "rgb(36,36,36)"
            },
            "marker": {
             "line": {
              "color": "rgb(234,234,242)",
              "width": 0.5
             },
             "pattern": {
              "fillmode": "overlay",
              "size": 10,
              "solidity": 0.2
             }
            },
            "type": "bar"
           }
          ],
          "barpolar": [
           {
            "marker": {
             "line": {
              "color": "rgb(234,234,242)",
              "width": 0.5
             },
             "pattern": {
              "fillmode": "overlay",
              "size": 10,
              "solidity": 0.2
             }
            },
            "type": "barpolar"
           }
          ],
          "carpet": [
           {
            "aaxis": {
             "endlinecolor": "rgb(36,36,36)",
             "gridcolor": "white",
             "linecolor": "white",
             "minorgridcolor": "white",
             "startlinecolor": "rgb(36,36,36)"
            },
            "baxis": {
             "endlinecolor": "rgb(36,36,36)",
             "gridcolor": "white",
             "linecolor": "white",
             "minorgridcolor": "white",
             "startlinecolor": "rgb(36,36,36)"
            },
            "type": "carpet"
           }
          ],
          "choropleth": [
           {
            "colorbar": {
             "outlinewidth": 0,
             "tickcolor": "rgb(36,36,36)",
             "ticklen": 8,
             "ticks": "outside",
             "tickwidth": 2
            },
            "type": "choropleth"
           }
          ],
          "contour": [
           {
            "colorbar": {
             "outlinewidth": 0,
             "tickcolor": "rgb(36,36,36)",
             "ticklen": 8,
             "ticks": "outside",
             "tickwidth": 2
            },
            "colorscale": [
             [
              0,
              "rgb(2,4,25)"
             ],
             [
              0.06274509803921569,
              "rgb(24,15,41)"
             ],
             [
              0.12549019607843137,
              "rgb(47,23,57)"
             ],
             [
              0.18823529411764706,
              "rgb(71,28,72)"
             ],
             [
              0.25098039215686274,
              "rgb(97,30,82)"
             ],
             [
              0.3137254901960784,
              "rgb(123,30,89)"
             ],
             [
              0.3764705882352941,
              "rgb(150,27,91)"
             ],
             [
              0.4392156862745098,
              "rgb(177,22,88)"
             ],
             [
              0.5019607843137255,
              "rgb(203,26,79)"
             ],
             [
              0.5647058823529412,
              "rgb(223,47,67)"
             ],
             [
              0.6274509803921569,
              "rgb(236,76,61)"
             ],
             [
              0.6901960784313725,
              "rgb(242,107,73)"
             ],
             [
              0.7529411764705882,
              "rgb(244,135,95)"
             ],
             [
              0.8156862745098039,
              "rgb(245,162,122)"
             ],
             [
              0.8784313725490196,
              "rgb(246,188,153)"
             ],
             [
              0.9411764705882353,
              "rgb(247,212,187)"
             ],
             [
              1,
              "rgb(250,234,220)"
             ]
            ],
            "type": "contour"
           }
          ],
          "contourcarpet": [
           {
            "colorbar": {
             "outlinewidth": 0,
             "tickcolor": "rgb(36,36,36)",
             "ticklen": 8,
             "ticks": "outside",
             "tickwidth": 2
            },
            "type": "contourcarpet"
           }
          ],
          "heatmap": [
           {
            "colorbar": {
             "outlinewidth": 0,
             "tickcolor": "rgb(36,36,36)",
             "ticklen": 8,
             "ticks": "outside",
             "tickwidth": 2
            },
            "colorscale": [
             [
              0,
              "rgb(2,4,25)"
             ],
             [
              0.06274509803921569,
              "rgb(24,15,41)"
             ],
             [
              0.12549019607843137,
              "rgb(47,23,57)"
             ],
             [
              0.18823529411764706,
              "rgb(71,28,72)"
             ],
             [
              0.25098039215686274,
              "rgb(97,30,82)"
             ],
             [
              0.3137254901960784,
              "rgb(123,30,89)"
             ],
             [
              0.3764705882352941,
              "rgb(150,27,91)"
             ],
             [
              0.4392156862745098,
              "rgb(177,22,88)"
             ],
             [
              0.5019607843137255,
              "rgb(203,26,79)"
             ],
             [
              0.5647058823529412,
              "rgb(223,47,67)"
             ],
             [
              0.6274509803921569,
              "rgb(236,76,61)"
             ],
             [
              0.6901960784313725,
              "rgb(242,107,73)"
             ],
             [
              0.7529411764705882,
              "rgb(244,135,95)"
             ],
             [
              0.8156862745098039,
              "rgb(245,162,122)"
             ],
             [
              0.8784313725490196,
              "rgb(246,188,153)"
             ],
             [
              0.9411764705882353,
              "rgb(247,212,187)"
             ],
             [
              1,
              "rgb(250,234,220)"
             ]
            ],
            "type": "heatmap"
           }
          ],
          "heatmapgl": [
           {
            "colorbar": {
             "outlinewidth": 0,
             "tickcolor": "rgb(36,36,36)",
             "ticklen": 8,
             "ticks": "outside",
             "tickwidth": 2
            },
            "colorscale": [
             [
              0,
              "rgb(2,4,25)"
             ],
             [
              0.06274509803921569,
              "rgb(24,15,41)"
             ],
             [
              0.12549019607843137,
              "rgb(47,23,57)"
             ],
             [
              0.18823529411764706,
              "rgb(71,28,72)"
             ],
             [
              0.25098039215686274,
              "rgb(97,30,82)"
             ],
             [
              0.3137254901960784,
              "rgb(123,30,89)"
             ],
             [
              0.3764705882352941,
              "rgb(150,27,91)"
             ],
             [
              0.4392156862745098,
              "rgb(177,22,88)"
             ],
             [
              0.5019607843137255,
              "rgb(203,26,79)"
             ],
             [
              0.5647058823529412,
              "rgb(223,47,67)"
             ],
             [
              0.6274509803921569,
              "rgb(236,76,61)"
             ],
             [
              0.6901960784313725,
              "rgb(242,107,73)"
             ],
             [
              0.7529411764705882,
              "rgb(244,135,95)"
             ],
             [
              0.8156862745098039,
              "rgb(245,162,122)"
             ],
             [
              0.8784313725490196,
              "rgb(246,188,153)"
             ],
             [
              0.9411764705882353,
              "rgb(247,212,187)"
             ],
             [
              1,
              "rgb(250,234,220)"
             ]
            ],
            "type": "heatmapgl"
           }
          ],
          "histogram": [
           {
            "marker": {
             "pattern": {
              "fillmode": "overlay",
              "size": 10,
              "solidity": 0.2
             }
            },
            "type": "histogram"
           }
          ],
          "histogram2d": [
           {
            "colorbar": {
             "outlinewidth": 0,
             "tickcolor": "rgb(36,36,36)",
             "ticklen": 8,
             "ticks": "outside",
             "tickwidth": 2
            },
            "colorscale": [
             [
              0,
              "rgb(2,4,25)"
             ],
             [
              0.06274509803921569,
              "rgb(24,15,41)"
             ],
             [
              0.12549019607843137,
              "rgb(47,23,57)"
             ],
             [
              0.18823529411764706,
              "rgb(71,28,72)"
             ],
             [
              0.25098039215686274,
              "rgb(97,30,82)"
             ],
             [
              0.3137254901960784,
              "rgb(123,30,89)"
             ],
             [
              0.3764705882352941,
              "rgb(150,27,91)"
             ],
             [
              0.4392156862745098,
              "rgb(177,22,88)"
             ],
             [
              0.5019607843137255,
              "rgb(203,26,79)"
             ],
             [
              0.5647058823529412,
              "rgb(223,47,67)"
             ],
             [
              0.6274509803921569,
              "rgb(236,76,61)"
             ],
             [
              0.6901960784313725,
              "rgb(242,107,73)"
             ],
             [
              0.7529411764705882,
              "rgb(244,135,95)"
             ],
             [
              0.8156862745098039,
              "rgb(245,162,122)"
             ],
             [
              0.8784313725490196,
              "rgb(246,188,153)"
             ],
             [
              0.9411764705882353,
              "rgb(247,212,187)"
             ],
             [
              1,
              "rgb(250,234,220)"
             ]
            ],
            "type": "histogram2d"
           }
          ],
          "histogram2dcontour": [
           {
            "colorbar": {
             "outlinewidth": 0,
             "tickcolor": "rgb(36,36,36)",
             "ticklen": 8,
             "ticks": "outside",
             "tickwidth": 2
            },
            "colorscale": [
             [
              0,
              "rgb(2,4,25)"
             ],
             [
              0.06274509803921569,
              "rgb(24,15,41)"
             ],
             [
              0.12549019607843137,
              "rgb(47,23,57)"
             ],
             [
              0.18823529411764706,
              "rgb(71,28,72)"
             ],
             [
              0.25098039215686274,
              "rgb(97,30,82)"
             ],
             [
              0.3137254901960784,
              "rgb(123,30,89)"
             ],
             [
              0.3764705882352941,
              "rgb(150,27,91)"
             ],
             [
              0.4392156862745098,
              "rgb(177,22,88)"
             ],
             [
              0.5019607843137255,
              "rgb(203,26,79)"
             ],
             [
              0.5647058823529412,
              "rgb(223,47,67)"
             ],
             [
              0.6274509803921569,
              "rgb(236,76,61)"
             ],
             [
              0.6901960784313725,
              "rgb(242,107,73)"
             ],
             [
              0.7529411764705882,
              "rgb(244,135,95)"
             ],
             [
              0.8156862745098039,
              "rgb(245,162,122)"
             ],
             [
              0.8784313725490196,
              "rgb(246,188,153)"
             ],
             [
              0.9411764705882353,
              "rgb(247,212,187)"
             ],
             [
              1,
              "rgb(250,234,220)"
             ]
            ],
            "type": "histogram2dcontour"
           }
          ],
          "mesh3d": [
           {
            "colorbar": {
             "outlinewidth": 0,
             "tickcolor": "rgb(36,36,36)",
             "ticklen": 8,
             "ticks": "outside",
             "tickwidth": 2
            },
            "type": "mesh3d"
           }
          ],
          "parcoords": [
           {
            "line": {
             "colorbar": {
              "outlinewidth": 0,
              "tickcolor": "rgb(36,36,36)",
              "ticklen": 8,
              "ticks": "outside",
              "tickwidth": 2
             }
            },
            "type": "parcoords"
           }
          ],
          "pie": [
           {
            "automargin": true,
            "type": "pie"
           }
          ],
          "scatter": [
           {
            "fillpattern": {
             "fillmode": "overlay",
             "size": 10,
             "solidity": 0.2
            },
            "type": "scatter"
           }
          ],
          "scatter3d": [
           {
            "line": {
             "colorbar": {
              "outlinewidth": 0,
              "tickcolor": "rgb(36,36,36)",
              "ticklen": 8,
              "ticks": "outside",
              "tickwidth": 2
             }
            },
            "marker": {
             "colorbar": {
              "outlinewidth": 0,
              "tickcolor": "rgb(36,36,36)",
              "ticklen": 8,
              "ticks": "outside",
              "tickwidth": 2
             }
            },
            "type": "scatter3d"
           }
          ],
          "scattercarpet": [
           {
            "marker": {
             "colorbar": {
              "outlinewidth": 0,
              "tickcolor": "rgb(36,36,36)",
              "ticklen": 8,
              "ticks": "outside",
              "tickwidth": 2
             }
            },
            "type": "scattercarpet"
           }
          ],
          "scattergeo": [
           {
            "marker": {
             "colorbar": {
              "outlinewidth": 0,
              "tickcolor": "rgb(36,36,36)",
              "ticklen": 8,
              "ticks": "outside",
              "tickwidth": 2
             }
            },
            "type": "scattergeo"
           }
          ],
          "scattergl": [
           {
            "marker": {
             "colorbar": {
              "outlinewidth": 0,
              "tickcolor": "rgb(36,36,36)",
              "ticklen": 8,
              "ticks": "outside",
              "tickwidth": 2
             }
            },
            "type": "scattergl"
           }
          ],
          "scattermapbox": [
           {
            "marker": {
             "colorbar": {
              "outlinewidth": 0,
              "tickcolor": "rgb(36,36,36)",
              "ticklen": 8,
              "ticks": "outside",
              "tickwidth": 2
             }
            },
            "type": "scattermapbox"
           }
          ],
          "scatterpolar": [
           {
            "marker": {
             "colorbar": {
              "outlinewidth": 0,
              "tickcolor": "rgb(36,36,36)",
              "ticklen": 8,
              "ticks": "outside",
              "tickwidth": 2
             }
            },
            "type": "scatterpolar"
           }
          ],
          "scatterpolargl": [
           {
            "marker": {
             "colorbar": {
              "outlinewidth": 0,
              "tickcolor": "rgb(36,36,36)",
              "ticklen": 8,
              "ticks": "outside",
              "tickwidth": 2
             }
            },
            "type": "scatterpolargl"
           }
          ],
          "scatterternary": [
           {
            "marker": {
             "colorbar": {
              "outlinewidth": 0,
              "tickcolor": "rgb(36,36,36)",
              "ticklen": 8,
              "ticks": "outside",
              "tickwidth": 2
             }
            },
            "type": "scatterternary"
           }
          ],
          "surface": [
           {
            "colorbar": {
             "outlinewidth": 0,
             "tickcolor": "rgb(36,36,36)",
             "ticklen": 8,
             "ticks": "outside",
             "tickwidth": 2
            },
            "colorscale": [
             [
              0,
              "rgb(2,4,25)"
             ],
             [
              0.06274509803921569,
              "rgb(24,15,41)"
             ],
             [
              0.12549019607843137,
              "rgb(47,23,57)"
             ],
             [
              0.18823529411764706,
              "rgb(71,28,72)"
             ],
             [
              0.25098039215686274,
              "rgb(97,30,82)"
             ],
             [
              0.3137254901960784,
              "rgb(123,30,89)"
             ],
             [
              0.3764705882352941,
              "rgb(150,27,91)"
             ],
             [
              0.4392156862745098,
              "rgb(177,22,88)"
             ],
             [
              0.5019607843137255,
              "rgb(203,26,79)"
             ],
             [
              0.5647058823529412,
              "rgb(223,47,67)"
             ],
             [
              0.6274509803921569,
              "rgb(236,76,61)"
             ],
             [
              0.6901960784313725,
              "rgb(242,107,73)"
             ],
             [
              0.7529411764705882,
              "rgb(244,135,95)"
             ],
             [
              0.8156862745098039,
              "rgb(245,162,122)"
             ],
             [
              0.8784313725490196,
              "rgb(246,188,153)"
             ],
             [
              0.9411764705882353,
              "rgb(247,212,187)"
             ],
             [
              1,
              "rgb(250,234,220)"
             ]
            ],
            "type": "surface"
           }
          ],
          "table": [
           {
            "cells": {
             "fill": {
              "color": "rgb(231,231,240)"
             },
             "line": {
              "color": "white"
             }
            },
            "header": {
             "fill": {
              "color": "rgb(183,183,191)"
             },
             "line": {
              "color": "white"
             }
            },
            "type": "table"
           }
          ]
         },
         "layout": {
          "annotationdefaults": {
           "arrowcolor": "rgb(67,103,167)"
          },
          "autotypenumbers": "strict",
          "coloraxis": {
           "colorbar": {
            "outlinewidth": 0,
            "tickcolor": "rgb(36,36,36)",
            "ticklen": 8,
            "ticks": "outside",
            "tickwidth": 2
           }
          },
          "colorscale": {
           "sequential": [
            [
             0,
             "rgb(2,4,25)"
            ],
            [
             0.06274509803921569,
             "rgb(24,15,41)"
            ],
            [
             0.12549019607843137,
             "rgb(47,23,57)"
            ],
            [
             0.18823529411764706,
             "rgb(71,28,72)"
            ],
            [
             0.25098039215686274,
             "rgb(97,30,82)"
            ],
            [
             0.3137254901960784,
             "rgb(123,30,89)"
            ],
            [
             0.3764705882352941,
             "rgb(150,27,91)"
            ],
            [
             0.4392156862745098,
             "rgb(177,22,88)"
            ],
            [
             0.5019607843137255,
             "rgb(203,26,79)"
            ],
            [
             0.5647058823529412,
             "rgb(223,47,67)"
            ],
            [
             0.6274509803921569,
             "rgb(236,76,61)"
            ],
            [
             0.6901960784313725,
             "rgb(242,107,73)"
            ],
            [
             0.7529411764705882,
             "rgb(244,135,95)"
            ],
            [
             0.8156862745098039,
             "rgb(245,162,122)"
            ],
            [
             0.8784313725490196,
             "rgb(246,188,153)"
            ],
            [
             0.9411764705882353,
             "rgb(247,212,187)"
            ],
            [
             1,
             "rgb(250,234,220)"
            ]
           ],
           "sequentialminus": [
            [
             0,
             "rgb(2,4,25)"
            ],
            [
             0.06274509803921569,
             "rgb(24,15,41)"
            ],
            [
             0.12549019607843137,
             "rgb(47,23,57)"
            ],
            [
             0.18823529411764706,
             "rgb(71,28,72)"
            ],
            [
             0.25098039215686274,
             "rgb(97,30,82)"
            ],
            [
             0.3137254901960784,
             "rgb(123,30,89)"
            ],
            [
             0.3764705882352941,
             "rgb(150,27,91)"
            ],
            [
             0.4392156862745098,
             "rgb(177,22,88)"
            ],
            [
             0.5019607843137255,
             "rgb(203,26,79)"
            ],
            [
             0.5647058823529412,
             "rgb(223,47,67)"
            ],
            [
             0.6274509803921569,
             "rgb(236,76,61)"
            ],
            [
             0.6901960784313725,
             "rgb(242,107,73)"
            ],
            [
             0.7529411764705882,
             "rgb(244,135,95)"
            ],
            [
             0.8156862745098039,
             "rgb(245,162,122)"
            ],
            [
             0.8784313725490196,
             "rgb(246,188,153)"
            ],
            [
             0.9411764705882353,
             "rgb(247,212,187)"
            ],
            [
             1,
             "rgb(250,234,220)"
            ]
           ]
          },
          "colorway": [
           "rgb(76,114,176)",
           "rgb(221,132,82)",
           "rgb(85,168,104)",
           "rgb(196,78,82)",
           "rgb(129,114,179)",
           "rgb(147,120,96)",
           "rgb(218,139,195)",
           "rgb(140,140,140)",
           "rgb(204,185,116)",
           "rgb(100,181,205)"
          ],
          "font": {
           "color": "rgb(36,36,36)"
          },
          "geo": {
           "bgcolor": "white",
           "lakecolor": "white",
           "landcolor": "rgb(234,234,242)",
           "showlakes": true,
           "showland": true,
           "subunitcolor": "white"
          },
          "hoverlabel": {
           "align": "left"
          },
          "hovermode": "closest",
          "paper_bgcolor": "white",
          "plot_bgcolor": "rgb(234,234,242)",
          "polar": {
           "angularaxis": {
            "gridcolor": "white",
            "linecolor": "white",
            "showgrid": true,
            "ticks": ""
           },
           "bgcolor": "rgb(234,234,242)",
           "radialaxis": {
            "gridcolor": "white",
            "linecolor": "white",
            "showgrid": true,
            "ticks": ""
           }
          },
          "scene": {
           "xaxis": {
            "backgroundcolor": "rgb(234,234,242)",
            "gridcolor": "white",
            "gridwidth": 2,
            "linecolor": "white",
            "showbackground": true,
            "showgrid": true,
            "ticks": "",
            "zerolinecolor": "white"
           },
           "yaxis": {
            "backgroundcolor": "rgb(234,234,242)",
            "gridcolor": "white",
            "gridwidth": 2,
            "linecolor": "white",
            "showbackground": true,
            "showgrid": true,
            "ticks": "",
            "zerolinecolor": "white"
           },
           "zaxis": {
            "backgroundcolor": "rgb(234,234,242)",
            "gridcolor": "white",
            "gridwidth": 2,
            "linecolor": "white",
            "showbackground": true,
            "showgrid": true,
            "ticks": "",
            "zerolinecolor": "white"
           }
          },
          "shapedefaults": {
           "fillcolor": "rgb(67,103,167)",
           "line": {
            "width": 0
           },
           "opacity": 0.5
          },
          "ternary": {
           "aaxis": {
            "gridcolor": "white",
            "linecolor": "white",
            "showgrid": true,
            "ticks": ""
           },
           "baxis": {
            "gridcolor": "white",
            "linecolor": "white",
            "showgrid": true,
            "ticks": ""
           },
           "bgcolor": "rgb(234,234,242)",
           "caxis": {
            "gridcolor": "white",
            "linecolor": "white",
            "showgrid": true,
            "ticks": ""
           }
          },
          "xaxis": {
           "automargin": true,
           "gridcolor": "white",
           "linecolor": "white",
           "showgrid": true,
           "ticks": "",
           "title": {
            "standoff": 15
           },
           "zerolinecolor": "white"
          },
          "yaxis": {
           "automargin": true,
           "gridcolor": "white",
           "linecolor": "white",
           "showgrid": true,
           "ticks": "",
           "title": {
            "standoff": 15
           },
           "zerolinecolor": "white"
          }
         }
        },
        "title": {
         "text": "Training and validation of GRU-enhanced"
        },
        "width": 1200,
        "xaxis": {
         "anchor": "y",
         "domain": [
          0,
          0.475
         ],
         "title": {
          "text": "epochs"
         }
        },
        "xaxis2": {
         "anchor": "y2",
         "domain": [
          0.525,
          1
         ],
         "title": {
          "text": "epochs"
         }
        },
        "yaxis": {
         "anchor": "x",
         "domain": [
          0,
          1
         ],
         "title": {
          "text": "accuracy"
         }
        },
        "yaxis2": {
         "anchor": "x2",
         "domain": [
          0,
          1
         ],
         "title": {
          "text": "accuracy"
         }
        }
       }
      }
     },
     "metadata": {},
     "output_type": "display_data"
    }
   ],
   "source": [
    "gru_enhanced = AmazonReviewsModel(\n",
    "    2000, 256, GRU, num_recurrent_layers=3, dropout=0.1, ffn_dims=[64], name='GRU-enhanced')\n",
    "_, fig = gru_enhanced.train(dataset, f'{MODEL_PATH}/{gru_enhanced.name}.weights.h5', **train_default)\n",
    "print(gru_enhanced.evaluate(dataset.X_test, dataset.y_test))\n",
    "fig"
   ]
  },
  {
   "cell_type": "markdown",
   "metadata": {},
   "source": [
    "We see a slight improvement with the LSTM (85.89%) and GRU-based (86.43%) architectures when increasing the number of learnable hyperparameters (both the train and the test set metrics are improved). However, the simple RNN only reaches 56.34% of accuracy. This drop in the performance evidences the clear superiority of the LSTM and GRU when modelling high-dimensional temporal data. The simple RNN is instead more useful for simpler problems (when the dimension of the model is small, e.g. $d_h=64$ and $|\\mathcal{V}|=1000$) and we see that when the input increases its complexity the RNN lacks of a good representation to learn temporal relations."
   ]
  },
  {
   "cell_type": "markdown",
   "metadata": {},
   "source": [
    "## Bidirectional Processing\n",
    "\n",
    "In this section we tried to boost the performance of our model with the introduction of bidirectional processing. The Keras API has a [Bidirectional Layer](https://keras.io/api/layers/recurrent_layers/bidirectional/) which accepts as input a recurrent cell ([LSTM](https://keras.io/api/layers/recurrent_layers/lstm/), [GRU](https://keras.io/api/layers/recurrent_layers/gru/) or [SimpleRNN](https://keras.io/api/layers/recurrent_layers/simple_rnn/)) and generates two different cells left-to-right a right-to-left contextualization. The final output is finally obtained via the concatenation of both representations. \n"
   ]
  },
  {
   "cell_type": "code",
   "execution_count": 9,
   "metadata": {},
   "outputs": [
    {
     "name": "stdout",
     "output_type": "stream",
     "text": [
      "Epoch 1/30\n",
      "40/40 [==============================] - 26s 528ms/step - loss: 0.6121 - accuracy: 0.6518 - val_loss: 0.4713 - val_accuracy: 0.7720\n",
      "Epoch 2/30\n",
      "40/40 [==============================] - 19s 471ms/step - loss: 0.4102 - accuracy: 0.8181 - val_loss: 0.4085 - val_accuracy: 0.8166\n",
      "Epoch 3/30\n",
      "40/40 [==============================] - 18s 459ms/step - loss: 0.3109 - accuracy: 0.8720 - val_loss: 0.3340 - val_accuracy: 0.8670\n",
      "Epoch 4/30\n",
      "40/40 [==============================] - 18s 456ms/step - loss: 0.3215 - accuracy: 0.8647 - val_loss: 0.3759 - val_accuracy: 0.8402\n",
      "Epoch 5/30\n",
      "40/40 [==============================] - 18s 447ms/step - loss: 0.2792 - accuracy: 0.8878 - val_loss: 0.3267 - val_accuracy: 0.8638\n",
      "Epoch 6/30\n",
      "40/40 [==============================] - 18s 446ms/step - loss: 0.3435 - accuracy: 0.8586 - val_loss: 0.3409 - val_accuracy: 0.8522\n",
      "Epoch 7/30\n",
      "40/40 [==============================] - 18s 450ms/step - loss: 0.2930 - accuracy: 0.8818 - val_loss: 0.3965 - val_accuracy: 0.8124\n",
      "Epoch 8/30\n",
      "40/40 [==============================] - 18s 450ms/step - loss: 0.2881 - accuracy: 0.8849 - val_loss: 0.3466 - val_accuracy: 0.8544\n",
      "Epoch 9/30\n",
      "40/40 [==============================] - 18s 448ms/step - loss: 0.2919 - accuracy: 0.8827 - val_loss: 0.3736 - val_accuracy: 0.8380\n",
      "Epoch 10/30\n",
      "40/40 [==============================] - 18s 445ms/step - loss: 0.2566 - accuracy: 0.8982 - val_loss: 0.3362 - val_accuracy: 0.8642\n",
      "[0.34082308411598206, 0.8606799840927124]\n"
     ]
    },
    {
     "data": {
      "application/vnd.plotly.v1+json": {
       "config": {
        "plotlyServerURL": "https://plot.ly"
       },
       "data": [
        {
         "line": {
          "color": "#636EFA"
         },
         "marker": {
          "color": "#636EFA"
         },
         "mode": "lines+markers",
         "name": "train",
         "showlegend": true,
         "type": "scatter",
         "x": [
          1,
          2,
          3,
          4,
          5,
          6,
          7,
          8,
          9,
          10
         ],
         "xaxis": "x",
         "y": [
          0.6121320724487305,
          0.4102048873901367,
          0.31085512042045593,
          0.32152900099754333,
          0.279153436422348,
          0.34349727630615234,
          0.2930337190628052,
          0.28811949491500854,
          0.2919410169124603,
          0.25661346316337585
         ],
         "yaxis": "y"
        },
        {
         "line": {
          "color": "#EF553B"
         },
         "marker": {
          "color": "#EF553B"
         },
         "mode": "lines+markers",
         "name": "val",
         "showlegend": true,
         "type": "scatter",
         "x": [
          1,
          2,
          3,
          4,
          5,
          6,
          7,
          8,
          9,
          10
         ],
         "xaxis": "x",
         "y": [
          0.47130054235458374,
          0.4085477590560913,
          0.33403441309928894,
          0.3759015202522278,
          0.3266887366771698,
          0.3409123420715332,
          0.3965272009372711,
          0.34658005833625793,
          0.3736059367656708,
          0.3362486660480499
         ],
         "yaxis": "y"
        },
        {
         "line": {
          "color": "#636EFA"
         },
         "marker": {
          "color": "#636EFA"
         },
         "mode": "lines+markers",
         "name": "train",
         "showlegend": false,
         "type": "scatter",
         "x": [
          1,
          2,
          3,
          4,
          5,
          6,
          7,
          8,
          9,
          10
         ],
         "xaxis": "x2",
         "y": [
          0.6517500281333923,
          0.818149983882904,
          0.8720499873161316,
          0.8647000193595886,
          0.8877999782562256,
          0.8585500121116638,
          0.8817999958992004,
          0.8849499821662903,
          0.8827499747276306,
          0.8981500267982483
         ],
         "yaxis": "y2"
        },
        {
         "line": {
          "color": "#EF553B"
         },
         "marker": {
          "color": "#EF553B"
         },
         "mode": "lines+markers",
         "name": "val",
         "showlegend": false,
         "type": "scatter",
         "x": [
          1,
          2,
          3,
          4,
          5,
          6,
          7,
          8,
          9,
          10
         ],
         "xaxis": "x2",
         "y": [
          0.7720000147819519,
          0.8166000247001648,
          0.8669999837875366,
          0.8402000069618225,
          0.8637999892234802,
          0.8521999716758728,
          0.8123999834060669,
          0.8543999791145325,
          0.8379999995231628,
          0.8641999959945679
         ],
         "yaxis": "y2"
        }
       ],
       "layout": {
        "annotations": [
         {
          "font": {
           "size": 16
          },
          "showarrow": false,
          "text": "loss",
          "x": 0.2375,
          "xanchor": "center",
          "xref": "paper",
          "y": 1,
          "yanchor": "bottom",
          "yref": "paper"
         },
         {
          "font": {
           "size": 16
          },
          "showarrow": false,
          "text": "accuracy",
          "x": 0.7625,
          "xanchor": "center",
          "xref": "paper",
          "y": 1,
          "yanchor": "bottom",
          "yref": "paper"
         }
        ],
        "height": 400,
        "margin": {
         "b": 10,
         "l": 10,
         "r": 10,
         "t": 50
        },
        "template": {
         "data": {
          "bar": [
           {
            "error_x": {
             "color": "rgb(36,36,36)"
            },
            "error_y": {
             "color": "rgb(36,36,36)"
            },
            "marker": {
             "line": {
              "color": "rgb(234,234,242)",
              "width": 0.5
             },
             "pattern": {
              "fillmode": "overlay",
              "size": 10,
              "solidity": 0.2
             }
            },
            "type": "bar"
           }
          ],
          "barpolar": [
           {
            "marker": {
             "line": {
              "color": "rgb(234,234,242)",
              "width": 0.5
             },
             "pattern": {
              "fillmode": "overlay",
              "size": 10,
              "solidity": 0.2
             }
            },
            "type": "barpolar"
           }
          ],
          "carpet": [
           {
            "aaxis": {
             "endlinecolor": "rgb(36,36,36)",
             "gridcolor": "white",
             "linecolor": "white",
             "minorgridcolor": "white",
             "startlinecolor": "rgb(36,36,36)"
            },
            "baxis": {
             "endlinecolor": "rgb(36,36,36)",
             "gridcolor": "white",
             "linecolor": "white",
             "minorgridcolor": "white",
             "startlinecolor": "rgb(36,36,36)"
            },
            "type": "carpet"
           }
          ],
          "choropleth": [
           {
            "colorbar": {
             "outlinewidth": 0,
             "tickcolor": "rgb(36,36,36)",
             "ticklen": 8,
             "ticks": "outside",
             "tickwidth": 2
            },
            "type": "choropleth"
           }
          ],
          "contour": [
           {
            "colorbar": {
             "outlinewidth": 0,
             "tickcolor": "rgb(36,36,36)",
             "ticklen": 8,
             "ticks": "outside",
             "tickwidth": 2
            },
            "colorscale": [
             [
              0,
              "rgb(2,4,25)"
             ],
             [
              0.06274509803921569,
              "rgb(24,15,41)"
             ],
             [
              0.12549019607843137,
              "rgb(47,23,57)"
             ],
             [
              0.18823529411764706,
              "rgb(71,28,72)"
             ],
             [
              0.25098039215686274,
              "rgb(97,30,82)"
             ],
             [
              0.3137254901960784,
              "rgb(123,30,89)"
             ],
             [
              0.3764705882352941,
              "rgb(150,27,91)"
             ],
             [
              0.4392156862745098,
              "rgb(177,22,88)"
             ],
             [
              0.5019607843137255,
              "rgb(203,26,79)"
             ],
             [
              0.5647058823529412,
              "rgb(223,47,67)"
             ],
             [
              0.6274509803921569,
              "rgb(236,76,61)"
             ],
             [
              0.6901960784313725,
              "rgb(242,107,73)"
             ],
             [
              0.7529411764705882,
              "rgb(244,135,95)"
             ],
             [
              0.8156862745098039,
              "rgb(245,162,122)"
             ],
             [
              0.8784313725490196,
              "rgb(246,188,153)"
             ],
             [
              0.9411764705882353,
              "rgb(247,212,187)"
             ],
             [
              1,
              "rgb(250,234,220)"
             ]
            ],
            "type": "contour"
           }
          ],
          "contourcarpet": [
           {
            "colorbar": {
             "outlinewidth": 0,
             "tickcolor": "rgb(36,36,36)",
             "ticklen": 8,
             "ticks": "outside",
             "tickwidth": 2
            },
            "type": "contourcarpet"
           }
          ],
          "heatmap": [
           {
            "colorbar": {
             "outlinewidth": 0,
             "tickcolor": "rgb(36,36,36)",
             "ticklen": 8,
             "ticks": "outside",
             "tickwidth": 2
            },
            "colorscale": [
             [
              0,
              "rgb(2,4,25)"
             ],
             [
              0.06274509803921569,
              "rgb(24,15,41)"
             ],
             [
              0.12549019607843137,
              "rgb(47,23,57)"
             ],
             [
              0.18823529411764706,
              "rgb(71,28,72)"
             ],
             [
              0.25098039215686274,
              "rgb(97,30,82)"
             ],
             [
              0.3137254901960784,
              "rgb(123,30,89)"
             ],
             [
              0.3764705882352941,
              "rgb(150,27,91)"
             ],
             [
              0.4392156862745098,
              "rgb(177,22,88)"
             ],
             [
              0.5019607843137255,
              "rgb(203,26,79)"
             ],
             [
              0.5647058823529412,
              "rgb(223,47,67)"
             ],
             [
              0.6274509803921569,
              "rgb(236,76,61)"
             ],
             [
              0.6901960784313725,
              "rgb(242,107,73)"
             ],
             [
              0.7529411764705882,
              "rgb(244,135,95)"
             ],
             [
              0.8156862745098039,
              "rgb(245,162,122)"
             ],
             [
              0.8784313725490196,
              "rgb(246,188,153)"
             ],
             [
              0.9411764705882353,
              "rgb(247,212,187)"
             ],
             [
              1,
              "rgb(250,234,220)"
             ]
            ],
            "type": "heatmap"
           }
          ],
          "heatmapgl": [
           {
            "colorbar": {
             "outlinewidth": 0,
             "tickcolor": "rgb(36,36,36)",
             "ticklen": 8,
             "ticks": "outside",
             "tickwidth": 2
            },
            "colorscale": [
             [
              0,
              "rgb(2,4,25)"
             ],
             [
              0.06274509803921569,
              "rgb(24,15,41)"
             ],
             [
              0.12549019607843137,
              "rgb(47,23,57)"
             ],
             [
              0.18823529411764706,
              "rgb(71,28,72)"
             ],
             [
              0.25098039215686274,
              "rgb(97,30,82)"
             ],
             [
              0.3137254901960784,
              "rgb(123,30,89)"
             ],
             [
              0.3764705882352941,
              "rgb(150,27,91)"
             ],
             [
              0.4392156862745098,
              "rgb(177,22,88)"
             ],
             [
              0.5019607843137255,
              "rgb(203,26,79)"
             ],
             [
              0.5647058823529412,
              "rgb(223,47,67)"
             ],
             [
              0.6274509803921569,
              "rgb(236,76,61)"
             ],
             [
              0.6901960784313725,
              "rgb(242,107,73)"
             ],
             [
              0.7529411764705882,
              "rgb(244,135,95)"
             ],
             [
              0.8156862745098039,
              "rgb(245,162,122)"
             ],
             [
              0.8784313725490196,
              "rgb(246,188,153)"
             ],
             [
              0.9411764705882353,
              "rgb(247,212,187)"
             ],
             [
              1,
              "rgb(250,234,220)"
             ]
            ],
            "type": "heatmapgl"
           }
          ],
          "histogram": [
           {
            "marker": {
             "pattern": {
              "fillmode": "overlay",
              "size": 10,
              "solidity": 0.2
             }
            },
            "type": "histogram"
           }
          ],
          "histogram2d": [
           {
            "colorbar": {
             "outlinewidth": 0,
             "tickcolor": "rgb(36,36,36)",
             "ticklen": 8,
             "ticks": "outside",
             "tickwidth": 2
            },
            "colorscale": [
             [
              0,
              "rgb(2,4,25)"
             ],
             [
              0.06274509803921569,
              "rgb(24,15,41)"
             ],
             [
              0.12549019607843137,
              "rgb(47,23,57)"
             ],
             [
              0.18823529411764706,
              "rgb(71,28,72)"
             ],
             [
              0.25098039215686274,
              "rgb(97,30,82)"
             ],
             [
              0.3137254901960784,
              "rgb(123,30,89)"
             ],
             [
              0.3764705882352941,
              "rgb(150,27,91)"
             ],
             [
              0.4392156862745098,
              "rgb(177,22,88)"
             ],
             [
              0.5019607843137255,
              "rgb(203,26,79)"
             ],
             [
              0.5647058823529412,
              "rgb(223,47,67)"
             ],
             [
              0.6274509803921569,
              "rgb(236,76,61)"
             ],
             [
              0.6901960784313725,
              "rgb(242,107,73)"
             ],
             [
              0.7529411764705882,
              "rgb(244,135,95)"
             ],
             [
              0.8156862745098039,
              "rgb(245,162,122)"
             ],
             [
              0.8784313725490196,
              "rgb(246,188,153)"
             ],
             [
              0.9411764705882353,
              "rgb(247,212,187)"
             ],
             [
              1,
              "rgb(250,234,220)"
             ]
            ],
            "type": "histogram2d"
           }
          ],
          "histogram2dcontour": [
           {
            "colorbar": {
             "outlinewidth": 0,
             "tickcolor": "rgb(36,36,36)",
             "ticklen": 8,
             "ticks": "outside",
             "tickwidth": 2
            },
            "colorscale": [
             [
              0,
              "rgb(2,4,25)"
             ],
             [
              0.06274509803921569,
              "rgb(24,15,41)"
             ],
             [
              0.12549019607843137,
              "rgb(47,23,57)"
             ],
             [
              0.18823529411764706,
              "rgb(71,28,72)"
             ],
             [
              0.25098039215686274,
              "rgb(97,30,82)"
             ],
             [
              0.3137254901960784,
              "rgb(123,30,89)"
             ],
             [
              0.3764705882352941,
              "rgb(150,27,91)"
             ],
             [
              0.4392156862745098,
              "rgb(177,22,88)"
             ],
             [
              0.5019607843137255,
              "rgb(203,26,79)"
             ],
             [
              0.5647058823529412,
              "rgb(223,47,67)"
             ],
             [
              0.6274509803921569,
              "rgb(236,76,61)"
             ],
             [
              0.6901960784313725,
              "rgb(242,107,73)"
             ],
             [
              0.7529411764705882,
              "rgb(244,135,95)"
             ],
             [
              0.8156862745098039,
              "rgb(245,162,122)"
             ],
             [
              0.8784313725490196,
              "rgb(246,188,153)"
             ],
             [
              0.9411764705882353,
              "rgb(247,212,187)"
             ],
             [
              1,
              "rgb(250,234,220)"
             ]
            ],
            "type": "histogram2dcontour"
           }
          ],
          "mesh3d": [
           {
            "colorbar": {
             "outlinewidth": 0,
             "tickcolor": "rgb(36,36,36)",
             "ticklen": 8,
             "ticks": "outside",
             "tickwidth": 2
            },
            "type": "mesh3d"
           }
          ],
          "parcoords": [
           {
            "line": {
             "colorbar": {
              "outlinewidth": 0,
              "tickcolor": "rgb(36,36,36)",
              "ticklen": 8,
              "ticks": "outside",
              "tickwidth": 2
             }
            },
            "type": "parcoords"
           }
          ],
          "pie": [
           {
            "automargin": true,
            "type": "pie"
           }
          ],
          "scatter": [
           {
            "fillpattern": {
             "fillmode": "overlay",
             "size": 10,
             "solidity": 0.2
            },
            "type": "scatter"
           }
          ],
          "scatter3d": [
           {
            "line": {
             "colorbar": {
              "outlinewidth": 0,
              "tickcolor": "rgb(36,36,36)",
              "ticklen": 8,
              "ticks": "outside",
              "tickwidth": 2
             }
            },
            "marker": {
             "colorbar": {
              "outlinewidth": 0,
              "tickcolor": "rgb(36,36,36)",
              "ticklen": 8,
              "ticks": "outside",
              "tickwidth": 2
             }
            },
            "type": "scatter3d"
           }
          ],
          "scattercarpet": [
           {
            "marker": {
             "colorbar": {
              "outlinewidth": 0,
              "tickcolor": "rgb(36,36,36)",
              "ticklen": 8,
              "ticks": "outside",
              "tickwidth": 2
             }
            },
            "type": "scattercarpet"
           }
          ],
          "scattergeo": [
           {
            "marker": {
             "colorbar": {
              "outlinewidth": 0,
              "tickcolor": "rgb(36,36,36)",
              "ticklen": 8,
              "ticks": "outside",
              "tickwidth": 2
             }
            },
            "type": "scattergeo"
           }
          ],
          "scattergl": [
           {
            "marker": {
             "colorbar": {
              "outlinewidth": 0,
              "tickcolor": "rgb(36,36,36)",
              "ticklen": 8,
              "ticks": "outside",
              "tickwidth": 2
             }
            },
            "type": "scattergl"
           }
          ],
          "scattermapbox": [
           {
            "marker": {
             "colorbar": {
              "outlinewidth": 0,
              "tickcolor": "rgb(36,36,36)",
              "ticklen": 8,
              "ticks": "outside",
              "tickwidth": 2
             }
            },
            "type": "scattermapbox"
           }
          ],
          "scatterpolar": [
           {
            "marker": {
             "colorbar": {
              "outlinewidth": 0,
              "tickcolor": "rgb(36,36,36)",
              "ticklen": 8,
              "ticks": "outside",
              "tickwidth": 2
             }
            },
            "type": "scatterpolar"
           }
          ],
          "scatterpolargl": [
           {
            "marker": {
             "colorbar": {
              "outlinewidth": 0,
              "tickcolor": "rgb(36,36,36)",
              "ticklen": 8,
              "ticks": "outside",
              "tickwidth": 2
             }
            },
            "type": "scatterpolargl"
           }
          ],
          "scatterternary": [
           {
            "marker": {
             "colorbar": {
              "outlinewidth": 0,
              "tickcolor": "rgb(36,36,36)",
              "ticklen": 8,
              "ticks": "outside",
              "tickwidth": 2
             }
            },
            "type": "scatterternary"
           }
          ],
          "surface": [
           {
            "colorbar": {
             "outlinewidth": 0,
             "tickcolor": "rgb(36,36,36)",
             "ticklen": 8,
             "ticks": "outside",
             "tickwidth": 2
            },
            "colorscale": [
             [
              0,
              "rgb(2,4,25)"
             ],
             [
              0.06274509803921569,
              "rgb(24,15,41)"
             ],
             [
              0.12549019607843137,
              "rgb(47,23,57)"
             ],
             [
              0.18823529411764706,
              "rgb(71,28,72)"
             ],
             [
              0.25098039215686274,
              "rgb(97,30,82)"
             ],
             [
              0.3137254901960784,
              "rgb(123,30,89)"
             ],
             [
              0.3764705882352941,
              "rgb(150,27,91)"
             ],
             [
              0.4392156862745098,
              "rgb(177,22,88)"
             ],
             [
              0.5019607843137255,
              "rgb(203,26,79)"
             ],
             [
              0.5647058823529412,
              "rgb(223,47,67)"
             ],
             [
              0.6274509803921569,
              "rgb(236,76,61)"
             ],
             [
              0.6901960784313725,
              "rgb(242,107,73)"
             ],
             [
              0.7529411764705882,
              "rgb(244,135,95)"
             ],
             [
              0.8156862745098039,
              "rgb(245,162,122)"
             ],
             [
              0.8784313725490196,
              "rgb(246,188,153)"
             ],
             [
              0.9411764705882353,
              "rgb(247,212,187)"
             ],
             [
              1,
              "rgb(250,234,220)"
             ]
            ],
            "type": "surface"
           }
          ],
          "table": [
           {
            "cells": {
             "fill": {
              "color": "rgb(231,231,240)"
             },
             "line": {
              "color": "white"
             }
            },
            "header": {
             "fill": {
              "color": "rgb(183,183,191)"
             },
             "line": {
              "color": "white"
             }
            },
            "type": "table"
           }
          ]
         },
         "layout": {
          "annotationdefaults": {
           "arrowcolor": "rgb(67,103,167)"
          },
          "autotypenumbers": "strict",
          "coloraxis": {
           "colorbar": {
            "outlinewidth": 0,
            "tickcolor": "rgb(36,36,36)",
            "ticklen": 8,
            "ticks": "outside",
            "tickwidth": 2
           }
          },
          "colorscale": {
           "sequential": [
            [
             0,
             "rgb(2,4,25)"
            ],
            [
             0.06274509803921569,
             "rgb(24,15,41)"
            ],
            [
             0.12549019607843137,
             "rgb(47,23,57)"
            ],
            [
             0.18823529411764706,
             "rgb(71,28,72)"
            ],
            [
             0.25098039215686274,
             "rgb(97,30,82)"
            ],
            [
             0.3137254901960784,
             "rgb(123,30,89)"
            ],
            [
             0.3764705882352941,
             "rgb(150,27,91)"
            ],
            [
             0.4392156862745098,
             "rgb(177,22,88)"
            ],
            [
             0.5019607843137255,
             "rgb(203,26,79)"
            ],
            [
             0.5647058823529412,
             "rgb(223,47,67)"
            ],
            [
             0.6274509803921569,
             "rgb(236,76,61)"
            ],
            [
             0.6901960784313725,
             "rgb(242,107,73)"
            ],
            [
             0.7529411764705882,
             "rgb(244,135,95)"
            ],
            [
             0.8156862745098039,
             "rgb(245,162,122)"
            ],
            [
             0.8784313725490196,
             "rgb(246,188,153)"
            ],
            [
             0.9411764705882353,
             "rgb(247,212,187)"
            ],
            [
             1,
             "rgb(250,234,220)"
            ]
           ],
           "sequentialminus": [
            [
             0,
             "rgb(2,4,25)"
            ],
            [
             0.06274509803921569,
             "rgb(24,15,41)"
            ],
            [
             0.12549019607843137,
             "rgb(47,23,57)"
            ],
            [
             0.18823529411764706,
             "rgb(71,28,72)"
            ],
            [
             0.25098039215686274,
             "rgb(97,30,82)"
            ],
            [
             0.3137254901960784,
             "rgb(123,30,89)"
            ],
            [
             0.3764705882352941,
             "rgb(150,27,91)"
            ],
            [
             0.4392156862745098,
             "rgb(177,22,88)"
            ],
            [
             0.5019607843137255,
             "rgb(203,26,79)"
            ],
            [
             0.5647058823529412,
             "rgb(223,47,67)"
            ],
            [
             0.6274509803921569,
             "rgb(236,76,61)"
            ],
            [
             0.6901960784313725,
             "rgb(242,107,73)"
            ],
            [
             0.7529411764705882,
             "rgb(244,135,95)"
            ],
            [
             0.8156862745098039,
             "rgb(245,162,122)"
            ],
            [
             0.8784313725490196,
             "rgb(246,188,153)"
            ],
            [
             0.9411764705882353,
             "rgb(247,212,187)"
            ],
            [
             1,
             "rgb(250,234,220)"
            ]
           ]
          },
          "colorway": [
           "rgb(76,114,176)",
           "rgb(221,132,82)",
           "rgb(85,168,104)",
           "rgb(196,78,82)",
           "rgb(129,114,179)",
           "rgb(147,120,96)",
           "rgb(218,139,195)",
           "rgb(140,140,140)",
           "rgb(204,185,116)",
           "rgb(100,181,205)"
          ],
          "font": {
           "color": "rgb(36,36,36)"
          },
          "geo": {
           "bgcolor": "white",
           "lakecolor": "white",
           "landcolor": "rgb(234,234,242)",
           "showlakes": true,
           "showland": true,
           "subunitcolor": "white"
          },
          "hoverlabel": {
           "align": "left"
          },
          "hovermode": "closest",
          "paper_bgcolor": "white",
          "plot_bgcolor": "rgb(234,234,242)",
          "polar": {
           "angularaxis": {
            "gridcolor": "white",
            "linecolor": "white",
            "showgrid": true,
            "ticks": ""
           },
           "bgcolor": "rgb(234,234,242)",
           "radialaxis": {
            "gridcolor": "white",
            "linecolor": "white",
            "showgrid": true,
            "ticks": ""
           }
          },
          "scene": {
           "xaxis": {
            "backgroundcolor": "rgb(234,234,242)",
            "gridcolor": "white",
            "gridwidth": 2,
            "linecolor": "white",
            "showbackground": true,
            "showgrid": true,
            "ticks": "",
            "zerolinecolor": "white"
           },
           "yaxis": {
            "backgroundcolor": "rgb(234,234,242)",
            "gridcolor": "white",
            "gridwidth": 2,
            "linecolor": "white",
            "showbackground": true,
            "showgrid": true,
            "ticks": "",
            "zerolinecolor": "white"
           },
           "zaxis": {
            "backgroundcolor": "rgb(234,234,242)",
            "gridcolor": "white",
            "gridwidth": 2,
            "linecolor": "white",
            "showbackground": true,
            "showgrid": true,
            "ticks": "",
            "zerolinecolor": "white"
           }
          },
          "shapedefaults": {
           "fillcolor": "rgb(67,103,167)",
           "line": {
            "width": 0
           },
           "opacity": 0.5
          },
          "ternary": {
           "aaxis": {
            "gridcolor": "white",
            "linecolor": "white",
            "showgrid": true,
            "ticks": ""
           },
           "baxis": {
            "gridcolor": "white",
            "linecolor": "white",
            "showgrid": true,
            "ticks": ""
           },
           "bgcolor": "rgb(234,234,242)",
           "caxis": {
            "gridcolor": "white",
            "linecolor": "white",
            "showgrid": true,
            "ticks": ""
           }
          },
          "xaxis": {
           "automargin": true,
           "gridcolor": "white",
           "linecolor": "white",
           "showgrid": true,
           "ticks": "",
           "title": {
            "standoff": 15
           },
           "zerolinecolor": "white"
          },
          "yaxis": {
           "automargin": true,
           "gridcolor": "white",
           "linecolor": "white",
           "showgrid": true,
           "ticks": "",
           "title": {
            "standoff": 15
           },
           "zerolinecolor": "white"
          }
         }
        },
        "title": {
         "text": "Training and validation of BiRNN"
        },
        "width": 1200,
        "xaxis": {
         "anchor": "y",
         "domain": [
          0,
          0.475
         ],
         "title": {
          "text": "epochs"
         }
        },
        "xaxis2": {
         "anchor": "y2",
         "domain": [
          0.525,
          1
         ],
         "title": {
          "text": "epochs"
         }
        },
        "yaxis": {
         "anchor": "x",
         "domain": [
          0,
          1
         ],
         "title": {
          "text": "accuracy"
         }
        },
        "yaxis2": {
         "anchor": "x2",
         "domain": [
          0,
          1
         ],
         "title": {
          "text": "accuracy"
         }
        }
       }
      }
     },
     "metadata": {},
     "output_type": "display_data"
    }
   ],
   "source": [
    "birnn_model = AmazonReviewsModel(\n",
    "    2000, 256, SimpleRNN, num_recurrent_layers=4, dropout=0.15, ffn_dims=[128, 64], name='BiRNN', bidirectional=True)\n",
    "_, fig = birnn_model.train(dataset, f'{MODEL_PATH}/{birnn_model.name}.weights.h5', **train_default)\n",
    "print(birnn_model.evaluate(dataset.X_test, dataset.y_test))\n",
    "fig"
   ]
  },
  {
   "cell_type": "code",
   "execution_count": 10,
   "metadata": {},
   "outputs": [
    {
     "name": "stdout",
     "output_type": "stream",
     "text": [
      "Epoch 1/30\n",
      "40/40 [==============================] - 26s 323ms/step - loss: 0.4755 - accuracy: 0.7538 - val_loss: 0.3033 - val_accuracy: 0.8764\n",
      "Epoch 2/30\n",
      "40/40 [==============================] - 7s 185ms/step - loss: 0.2709 - accuracy: 0.8923 - val_loss: 0.3008 - val_accuracy: 0.8818\n",
      "Epoch 3/30\n",
      "40/40 [==============================] - 7s 180ms/step - loss: 0.2340 - accuracy: 0.9077 - val_loss: 0.2958 - val_accuracy: 0.8756\n",
      "Epoch 4/30\n",
      "40/40 [==============================] - 6s 163ms/step - loss: 0.2143 - accuracy: 0.9161 - val_loss: 0.3296 - val_accuracy: 0.8698\n",
      "Epoch 5/30\n",
      "40/40 [==============================] - 7s 166ms/step - loss: 0.1854 - accuracy: 0.9286 - val_loss: 0.3100 - val_accuracy: 0.8724\n",
      "Epoch 6/30\n",
      "40/40 [==============================] - 7s 168ms/step - loss: 0.1583 - accuracy: 0.9420 - val_loss: 0.3610 - val_accuracy: 0.8600\n",
      "Epoch 7/30\n",
      "40/40 [==============================] - 7s 167ms/step - loss: 0.1324 - accuracy: 0.9506 - val_loss: 0.3799 - val_accuracy: 0.8686\n",
      "Epoch 8/30\n",
      "40/40 [==============================] - 7s 167ms/step - loss: 0.1085 - accuracy: 0.9615 - val_loss: 0.4274 - val_accuracy: 0.8568\n",
      "[0.30964571237564087, 0.8692399859428406]\n"
     ]
    },
    {
     "data": {
      "application/vnd.plotly.v1+json": {
       "config": {
        "plotlyServerURL": "https://plot.ly"
       },
       "data": [
        {
         "line": {
          "color": "#636EFA"
         },
         "marker": {
          "color": "#636EFA"
         },
         "mode": "lines+markers",
         "name": "train",
         "showlegend": true,
         "type": "scatter",
         "x": [
          1,
          2,
          3,
          4,
          5,
          6,
          7,
          8
         ],
         "xaxis": "x",
         "y": [
          0.4755459427833557,
          0.2708829939365387,
          0.23404555022716522,
          0.2143281251192093,
          0.18541014194488525,
          0.15827761590480804,
          0.13237231969833374,
          0.10854041576385498
         ],
         "yaxis": "y"
        },
        {
         "line": {
          "color": "#EF553B"
         },
         "marker": {
          "color": "#EF553B"
         },
         "mode": "lines+markers",
         "name": "val",
         "showlegend": true,
         "type": "scatter",
         "x": [
          1,
          2,
          3,
          4,
          5,
          6,
          7,
          8
         ],
         "xaxis": "x",
         "y": [
          0.30327120423316956,
          0.30082252621650696,
          0.29575780034065247,
          0.3295881450176239,
          0.3099648058414459,
          0.3609749972820282,
          0.37988540530204773,
          0.42737826704978943
         ],
         "yaxis": "y"
        },
        {
         "line": {
          "color": "#636EFA"
         },
         "marker": {
          "color": "#636EFA"
         },
         "mode": "lines+markers",
         "name": "train",
         "showlegend": false,
         "type": "scatter",
         "x": [
          1,
          2,
          3,
          4,
          5,
          6,
          7,
          8
         ],
         "xaxis": "x2",
         "y": [
          0.7537999749183655,
          0.8922500014305115,
          0.9077000021934509,
          0.9161499738693237,
          0.928600013256073,
          0.9419500231742859,
          0.9505500197410583,
          0.9614999890327454
         ],
         "yaxis": "y2"
        },
        {
         "line": {
          "color": "#EF553B"
         },
         "marker": {
          "color": "#EF553B"
         },
         "mode": "lines+markers",
         "name": "val",
         "showlegend": false,
         "type": "scatter",
         "x": [
          1,
          2,
          3,
          4,
          5,
          6,
          7,
          8
         ],
         "xaxis": "x2",
         "y": [
          0.8763999938964844,
          0.8817999958992004,
          0.8755999803543091,
          0.8697999715805054,
          0.8723999857902527,
          0.8600000143051147,
          0.8686000108718872,
          0.8568000197410583
         ],
         "yaxis": "y2"
        }
       ],
       "layout": {
        "annotations": [
         {
          "font": {
           "size": 16
          },
          "showarrow": false,
          "text": "loss",
          "x": 0.2375,
          "xanchor": "center",
          "xref": "paper",
          "y": 1,
          "yanchor": "bottom",
          "yref": "paper"
         },
         {
          "font": {
           "size": 16
          },
          "showarrow": false,
          "text": "accuracy",
          "x": 0.7625,
          "xanchor": "center",
          "xref": "paper",
          "y": 1,
          "yanchor": "bottom",
          "yref": "paper"
         }
        ],
        "height": 400,
        "margin": {
         "b": 10,
         "l": 10,
         "r": 10,
         "t": 50
        },
        "template": {
         "data": {
          "bar": [
           {
            "error_x": {
             "color": "rgb(36,36,36)"
            },
            "error_y": {
             "color": "rgb(36,36,36)"
            },
            "marker": {
             "line": {
              "color": "rgb(234,234,242)",
              "width": 0.5
             },
             "pattern": {
              "fillmode": "overlay",
              "size": 10,
              "solidity": 0.2
             }
            },
            "type": "bar"
           }
          ],
          "barpolar": [
           {
            "marker": {
             "line": {
              "color": "rgb(234,234,242)",
              "width": 0.5
             },
             "pattern": {
              "fillmode": "overlay",
              "size": 10,
              "solidity": 0.2
             }
            },
            "type": "barpolar"
           }
          ],
          "carpet": [
           {
            "aaxis": {
             "endlinecolor": "rgb(36,36,36)",
             "gridcolor": "white",
             "linecolor": "white",
             "minorgridcolor": "white",
             "startlinecolor": "rgb(36,36,36)"
            },
            "baxis": {
             "endlinecolor": "rgb(36,36,36)",
             "gridcolor": "white",
             "linecolor": "white",
             "minorgridcolor": "white",
             "startlinecolor": "rgb(36,36,36)"
            },
            "type": "carpet"
           }
          ],
          "choropleth": [
           {
            "colorbar": {
             "outlinewidth": 0,
             "tickcolor": "rgb(36,36,36)",
             "ticklen": 8,
             "ticks": "outside",
             "tickwidth": 2
            },
            "type": "choropleth"
           }
          ],
          "contour": [
           {
            "colorbar": {
             "outlinewidth": 0,
             "tickcolor": "rgb(36,36,36)",
             "ticklen": 8,
             "ticks": "outside",
             "tickwidth": 2
            },
            "colorscale": [
             [
              0,
              "rgb(2,4,25)"
             ],
             [
              0.06274509803921569,
              "rgb(24,15,41)"
             ],
             [
              0.12549019607843137,
              "rgb(47,23,57)"
             ],
             [
              0.18823529411764706,
              "rgb(71,28,72)"
             ],
             [
              0.25098039215686274,
              "rgb(97,30,82)"
             ],
             [
              0.3137254901960784,
              "rgb(123,30,89)"
             ],
             [
              0.3764705882352941,
              "rgb(150,27,91)"
             ],
             [
              0.4392156862745098,
              "rgb(177,22,88)"
             ],
             [
              0.5019607843137255,
              "rgb(203,26,79)"
             ],
             [
              0.5647058823529412,
              "rgb(223,47,67)"
             ],
             [
              0.6274509803921569,
              "rgb(236,76,61)"
             ],
             [
              0.6901960784313725,
              "rgb(242,107,73)"
             ],
             [
              0.7529411764705882,
              "rgb(244,135,95)"
             ],
             [
              0.8156862745098039,
              "rgb(245,162,122)"
             ],
             [
              0.8784313725490196,
              "rgb(246,188,153)"
             ],
             [
              0.9411764705882353,
              "rgb(247,212,187)"
             ],
             [
              1,
              "rgb(250,234,220)"
             ]
            ],
            "type": "contour"
           }
          ],
          "contourcarpet": [
           {
            "colorbar": {
             "outlinewidth": 0,
             "tickcolor": "rgb(36,36,36)",
             "ticklen": 8,
             "ticks": "outside",
             "tickwidth": 2
            },
            "type": "contourcarpet"
           }
          ],
          "heatmap": [
           {
            "colorbar": {
             "outlinewidth": 0,
             "tickcolor": "rgb(36,36,36)",
             "ticklen": 8,
             "ticks": "outside",
             "tickwidth": 2
            },
            "colorscale": [
             [
              0,
              "rgb(2,4,25)"
             ],
             [
              0.06274509803921569,
              "rgb(24,15,41)"
             ],
             [
              0.12549019607843137,
              "rgb(47,23,57)"
             ],
             [
              0.18823529411764706,
              "rgb(71,28,72)"
             ],
             [
              0.25098039215686274,
              "rgb(97,30,82)"
             ],
             [
              0.3137254901960784,
              "rgb(123,30,89)"
             ],
             [
              0.3764705882352941,
              "rgb(150,27,91)"
             ],
             [
              0.4392156862745098,
              "rgb(177,22,88)"
             ],
             [
              0.5019607843137255,
              "rgb(203,26,79)"
             ],
             [
              0.5647058823529412,
              "rgb(223,47,67)"
             ],
             [
              0.6274509803921569,
              "rgb(236,76,61)"
             ],
             [
              0.6901960784313725,
              "rgb(242,107,73)"
             ],
             [
              0.7529411764705882,
              "rgb(244,135,95)"
             ],
             [
              0.8156862745098039,
              "rgb(245,162,122)"
             ],
             [
              0.8784313725490196,
              "rgb(246,188,153)"
             ],
             [
              0.9411764705882353,
              "rgb(247,212,187)"
             ],
             [
              1,
              "rgb(250,234,220)"
             ]
            ],
            "type": "heatmap"
           }
          ],
          "heatmapgl": [
           {
            "colorbar": {
             "outlinewidth": 0,
             "tickcolor": "rgb(36,36,36)",
             "ticklen": 8,
             "ticks": "outside",
             "tickwidth": 2
            },
            "colorscale": [
             [
              0,
              "rgb(2,4,25)"
             ],
             [
              0.06274509803921569,
              "rgb(24,15,41)"
             ],
             [
              0.12549019607843137,
              "rgb(47,23,57)"
             ],
             [
              0.18823529411764706,
              "rgb(71,28,72)"
             ],
             [
              0.25098039215686274,
              "rgb(97,30,82)"
             ],
             [
              0.3137254901960784,
              "rgb(123,30,89)"
             ],
             [
              0.3764705882352941,
              "rgb(150,27,91)"
             ],
             [
              0.4392156862745098,
              "rgb(177,22,88)"
             ],
             [
              0.5019607843137255,
              "rgb(203,26,79)"
             ],
             [
              0.5647058823529412,
              "rgb(223,47,67)"
             ],
             [
              0.6274509803921569,
              "rgb(236,76,61)"
             ],
             [
              0.6901960784313725,
              "rgb(242,107,73)"
             ],
             [
              0.7529411764705882,
              "rgb(244,135,95)"
             ],
             [
              0.8156862745098039,
              "rgb(245,162,122)"
             ],
             [
              0.8784313725490196,
              "rgb(246,188,153)"
             ],
             [
              0.9411764705882353,
              "rgb(247,212,187)"
             ],
             [
              1,
              "rgb(250,234,220)"
             ]
            ],
            "type": "heatmapgl"
           }
          ],
          "histogram": [
           {
            "marker": {
             "pattern": {
              "fillmode": "overlay",
              "size": 10,
              "solidity": 0.2
             }
            },
            "type": "histogram"
           }
          ],
          "histogram2d": [
           {
            "colorbar": {
             "outlinewidth": 0,
             "tickcolor": "rgb(36,36,36)",
             "ticklen": 8,
             "ticks": "outside",
             "tickwidth": 2
            },
            "colorscale": [
             [
              0,
              "rgb(2,4,25)"
             ],
             [
              0.06274509803921569,
              "rgb(24,15,41)"
             ],
             [
              0.12549019607843137,
              "rgb(47,23,57)"
             ],
             [
              0.18823529411764706,
              "rgb(71,28,72)"
             ],
             [
              0.25098039215686274,
              "rgb(97,30,82)"
             ],
             [
              0.3137254901960784,
              "rgb(123,30,89)"
             ],
             [
              0.3764705882352941,
              "rgb(150,27,91)"
             ],
             [
              0.4392156862745098,
              "rgb(177,22,88)"
             ],
             [
              0.5019607843137255,
              "rgb(203,26,79)"
             ],
             [
              0.5647058823529412,
              "rgb(223,47,67)"
             ],
             [
              0.6274509803921569,
              "rgb(236,76,61)"
             ],
             [
              0.6901960784313725,
              "rgb(242,107,73)"
             ],
             [
              0.7529411764705882,
              "rgb(244,135,95)"
             ],
             [
              0.8156862745098039,
              "rgb(245,162,122)"
             ],
             [
              0.8784313725490196,
              "rgb(246,188,153)"
             ],
             [
              0.9411764705882353,
              "rgb(247,212,187)"
             ],
             [
              1,
              "rgb(250,234,220)"
             ]
            ],
            "type": "histogram2d"
           }
          ],
          "histogram2dcontour": [
           {
            "colorbar": {
             "outlinewidth": 0,
             "tickcolor": "rgb(36,36,36)",
             "ticklen": 8,
             "ticks": "outside",
             "tickwidth": 2
            },
            "colorscale": [
             [
              0,
              "rgb(2,4,25)"
             ],
             [
              0.06274509803921569,
              "rgb(24,15,41)"
             ],
             [
              0.12549019607843137,
              "rgb(47,23,57)"
             ],
             [
              0.18823529411764706,
              "rgb(71,28,72)"
             ],
             [
              0.25098039215686274,
              "rgb(97,30,82)"
             ],
             [
              0.3137254901960784,
              "rgb(123,30,89)"
             ],
             [
              0.3764705882352941,
              "rgb(150,27,91)"
             ],
             [
              0.4392156862745098,
              "rgb(177,22,88)"
             ],
             [
              0.5019607843137255,
              "rgb(203,26,79)"
             ],
             [
              0.5647058823529412,
              "rgb(223,47,67)"
             ],
             [
              0.6274509803921569,
              "rgb(236,76,61)"
             ],
             [
              0.6901960784313725,
              "rgb(242,107,73)"
             ],
             [
              0.7529411764705882,
              "rgb(244,135,95)"
             ],
             [
              0.8156862745098039,
              "rgb(245,162,122)"
             ],
             [
              0.8784313725490196,
              "rgb(246,188,153)"
             ],
             [
              0.9411764705882353,
              "rgb(247,212,187)"
             ],
             [
              1,
              "rgb(250,234,220)"
             ]
            ],
            "type": "histogram2dcontour"
           }
          ],
          "mesh3d": [
           {
            "colorbar": {
             "outlinewidth": 0,
             "tickcolor": "rgb(36,36,36)",
             "ticklen": 8,
             "ticks": "outside",
             "tickwidth": 2
            },
            "type": "mesh3d"
           }
          ],
          "parcoords": [
           {
            "line": {
             "colorbar": {
              "outlinewidth": 0,
              "tickcolor": "rgb(36,36,36)",
              "ticklen": 8,
              "ticks": "outside",
              "tickwidth": 2
             }
            },
            "type": "parcoords"
           }
          ],
          "pie": [
           {
            "automargin": true,
            "type": "pie"
           }
          ],
          "scatter": [
           {
            "fillpattern": {
             "fillmode": "overlay",
             "size": 10,
             "solidity": 0.2
            },
            "type": "scatter"
           }
          ],
          "scatter3d": [
           {
            "line": {
             "colorbar": {
              "outlinewidth": 0,
              "tickcolor": "rgb(36,36,36)",
              "ticklen": 8,
              "ticks": "outside",
              "tickwidth": 2
             }
            },
            "marker": {
             "colorbar": {
              "outlinewidth": 0,
              "tickcolor": "rgb(36,36,36)",
              "ticklen": 8,
              "ticks": "outside",
              "tickwidth": 2
             }
            },
            "type": "scatter3d"
           }
          ],
          "scattercarpet": [
           {
            "marker": {
             "colorbar": {
              "outlinewidth": 0,
              "tickcolor": "rgb(36,36,36)",
              "ticklen": 8,
              "ticks": "outside",
              "tickwidth": 2
             }
            },
            "type": "scattercarpet"
           }
          ],
          "scattergeo": [
           {
            "marker": {
             "colorbar": {
              "outlinewidth": 0,
              "tickcolor": "rgb(36,36,36)",
              "ticklen": 8,
              "ticks": "outside",
              "tickwidth": 2
             }
            },
            "type": "scattergeo"
           }
          ],
          "scattergl": [
           {
            "marker": {
             "colorbar": {
              "outlinewidth": 0,
              "tickcolor": "rgb(36,36,36)",
              "ticklen": 8,
              "ticks": "outside",
              "tickwidth": 2
             }
            },
            "type": "scattergl"
           }
          ],
          "scattermapbox": [
           {
            "marker": {
             "colorbar": {
              "outlinewidth": 0,
              "tickcolor": "rgb(36,36,36)",
              "ticklen": 8,
              "ticks": "outside",
              "tickwidth": 2
             }
            },
            "type": "scattermapbox"
           }
          ],
          "scatterpolar": [
           {
            "marker": {
             "colorbar": {
              "outlinewidth": 0,
              "tickcolor": "rgb(36,36,36)",
              "ticklen": 8,
              "ticks": "outside",
              "tickwidth": 2
             }
            },
            "type": "scatterpolar"
           }
          ],
          "scatterpolargl": [
           {
            "marker": {
             "colorbar": {
              "outlinewidth": 0,
              "tickcolor": "rgb(36,36,36)",
              "ticklen": 8,
              "ticks": "outside",
              "tickwidth": 2
             }
            },
            "type": "scatterpolargl"
           }
          ],
          "scatterternary": [
           {
            "marker": {
             "colorbar": {
              "outlinewidth": 0,
              "tickcolor": "rgb(36,36,36)",
              "ticklen": 8,
              "ticks": "outside",
              "tickwidth": 2
             }
            },
            "type": "scatterternary"
           }
          ],
          "surface": [
           {
            "colorbar": {
             "outlinewidth": 0,
             "tickcolor": "rgb(36,36,36)",
             "ticklen": 8,
             "ticks": "outside",
             "tickwidth": 2
            },
            "colorscale": [
             [
              0,
              "rgb(2,4,25)"
             ],
             [
              0.06274509803921569,
              "rgb(24,15,41)"
             ],
             [
              0.12549019607843137,
              "rgb(47,23,57)"
             ],
             [
              0.18823529411764706,
              "rgb(71,28,72)"
             ],
             [
              0.25098039215686274,
              "rgb(97,30,82)"
             ],
             [
              0.3137254901960784,
              "rgb(123,30,89)"
             ],
             [
              0.3764705882352941,
              "rgb(150,27,91)"
             ],
             [
              0.4392156862745098,
              "rgb(177,22,88)"
             ],
             [
              0.5019607843137255,
              "rgb(203,26,79)"
             ],
             [
              0.5647058823529412,
              "rgb(223,47,67)"
             ],
             [
              0.6274509803921569,
              "rgb(236,76,61)"
             ],
             [
              0.6901960784313725,
              "rgb(242,107,73)"
             ],
             [
              0.7529411764705882,
              "rgb(244,135,95)"
             ],
             [
              0.8156862745098039,
              "rgb(245,162,122)"
             ],
             [
              0.8784313725490196,
              "rgb(246,188,153)"
             ],
             [
              0.9411764705882353,
              "rgb(247,212,187)"
             ],
             [
              1,
              "rgb(250,234,220)"
             ]
            ],
            "type": "surface"
           }
          ],
          "table": [
           {
            "cells": {
             "fill": {
              "color": "rgb(231,231,240)"
             },
             "line": {
              "color": "white"
             }
            },
            "header": {
             "fill": {
              "color": "rgb(183,183,191)"
             },
             "line": {
              "color": "white"
             }
            },
            "type": "table"
           }
          ]
         },
         "layout": {
          "annotationdefaults": {
           "arrowcolor": "rgb(67,103,167)"
          },
          "autotypenumbers": "strict",
          "coloraxis": {
           "colorbar": {
            "outlinewidth": 0,
            "tickcolor": "rgb(36,36,36)",
            "ticklen": 8,
            "ticks": "outside",
            "tickwidth": 2
           }
          },
          "colorscale": {
           "sequential": [
            [
             0,
             "rgb(2,4,25)"
            ],
            [
             0.06274509803921569,
             "rgb(24,15,41)"
            ],
            [
             0.12549019607843137,
             "rgb(47,23,57)"
            ],
            [
             0.18823529411764706,
             "rgb(71,28,72)"
            ],
            [
             0.25098039215686274,
             "rgb(97,30,82)"
            ],
            [
             0.3137254901960784,
             "rgb(123,30,89)"
            ],
            [
             0.3764705882352941,
             "rgb(150,27,91)"
            ],
            [
             0.4392156862745098,
             "rgb(177,22,88)"
            ],
            [
             0.5019607843137255,
             "rgb(203,26,79)"
            ],
            [
             0.5647058823529412,
             "rgb(223,47,67)"
            ],
            [
             0.6274509803921569,
             "rgb(236,76,61)"
            ],
            [
             0.6901960784313725,
             "rgb(242,107,73)"
            ],
            [
             0.7529411764705882,
             "rgb(244,135,95)"
            ],
            [
             0.8156862745098039,
             "rgb(245,162,122)"
            ],
            [
             0.8784313725490196,
             "rgb(246,188,153)"
            ],
            [
             0.9411764705882353,
             "rgb(247,212,187)"
            ],
            [
             1,
             "rgb(250,234,220)"
            ]
           ],
           "sequentialminus": [
            [
             0,
             "rgb(2,4,25)"
            ],
            [
             0.06274509803921569,
             "rgb(24,15,41)"
            ],
            [
             0.12549019607843137,
             "rgb(47,23,57)"
            ],
            [
             0.18823529411764706,
             "rgb(71,28,72)"
            ],
            [
             0.25098039215686274,
             "rgb(97,30,82)"
            ],
            [
             0.3137254901960784,
             "rgb(123,30,89)"
            ],
            [
             0.3764705882352941,
             "rgb(150,27,91)"
            ],
            [
             0.4392156862745098,
             "rgb(177,22,88)"
            ],
            [
             0.5019607843137255,
             "rgb(203,26,79)"
            ],
            [
             0.5647058823529412,
             "rgb(223,47,67)"
            ],
            [
             0.6274509803921569,
             "rgb(236,76,61)"
            ],
            [
             0.6901960784313725,
             "rgb(242,107,73)"
            ],
            [
             0.7529411764705882,
             "rgb(244,135,95)"
            ],
            [
             0.8156862745098039,
             "rgb(245,162,122)"
            ],
            [
             0.8784313725490196,
             "rgb(246,188,153)"
            ],
            [
             0.9411764705882353,
             "rgb(247,212,187)"
            ],
            [
             1,
             "rgb(250,234,220)"
            ]
           ]
          },
          "colorway": [
           "rgb(76,114,176)",
           "rgb(221,132,82)",
           "rgb(85,168,104)",
           "rgb(196,78,82)",
           "rgb(129,114,179)",
           "rgb(147,120,96)",
           "rgb(218,139,195)",
           "rgb(140,140,140)",
           "rgb(204,185,116)",
           "rgb(100,181,205)"
          ],
          "font": {
           "color": "rgb(36,36,36)"
          },
          "geo": {
           "bgcolor": "white",
           "lakecolor": "white",
           "landcolor": "rgb(234,234,242)",
           "showlakes": true,
           "showland": true,
           "subunitcolor": "white"
          },
          "hoverlabel": {
           "align": "left"
          },
          "hovermode": "closest",
          "paper_bgcolor": "white",
          "plot_bgcolor": "rgb(234,234,242)",
          "polar": {
           "angularaxis": {
            "gridcolor": "white",
            "linecolor": "white",
            "showgrid": true,
            "ticks": ""
           },
           "bgcolor": "rgb(234,234,242)",
           "radialaxis": {
            "gridcolor": "white",
            "linecolor": "white",
            "showgrid": true,
            "ticks": ""
           }
          },
          "scene": {
           "xaxis": {
            "backgroundcolor": "rgb(234,234,242)",
            "gridcolor": "white",
            "gridwidth": 2,
            "linecolor": "white",
            "showbackground": true,
            "showgrid": true,
            "ticks": "",
            "zerolinecolor": "white"
           },
           "yaxis": {
            "backgroundcolor": "rgb(234,234,242)",
            "gridcolor": "white",
            "gridwidth": 2,
            "linecolor": "white",
            "showbackground": true,
            "showgrid": true,
            "ticks": "",
            "zerolinecolor": "white"
           },
           "zaxis": {
            "backgroundcolor": "rgb(234,234,242)",
            "gridcolor": "white",
            "gridwidth": 2,
            "linecolor": "white",
            "showbackground": true,
            "showgrid": true,
            "ticks": "",
            "zerolinecolor": "white"
           }
          },
          "shapedefaults": {
           "fillcolor": "rgb(67,103,167)",
           "line": {
            "width": 0
           },
           "opacity": 0.5
          },
          "ternary": {
           "aaxis": {
            "gridcolor": "white",
            "linecolor": "white",
            "showgrid": true,
            "ticks": ""
           },
           "baxis": {
            "gridcolor": "white",
            "linecolor": "white",
            "showgrid": true,
            "ticks": ""
           },
           "bgcolor": "rgb(234,234,242)",
           "caxis": {
            "gridcolor": "white",
            "linecolor": "white",
            "showgrid": true,
            "ticks": ""
           }
          },
          "xaxis": {
           "automargin": true,
           "gridcolor": "white",
           "linecolor": "white",
           "showgrid": true,
           "ticks": "",
           "title": {
            "standoff": 15
           },
           "zerolinecolor": "white"
          },
          "yaxis": {
           "automargin": true,
           "gridcolor": "white",
           "linecolor": "white",
           "showgrid": true,
           "ticks": "",
           "title": {
            "standoff": 15
           },
           "zerolinecolor": "white"
          }
         }
        },
        "title": {
         "text": "Training and validation of BiLSTM"
        },
        "width": 1200,
        "xaxis": {
         "anchor": "y",
         "domain": [
          0,
          0.475
         ],
         "title": {
          "text": "epochs"
         }
        },
        "xaxis2": {
         "anchor": "y2",
         "domain": [
          0.525,
          1
         ],
         "title": {
          "text": "epochs"
         }
        },
        "yaxis": {
         "anchor": "x",
         "domain": [
          0,
          1
         ],
         "title": {
          "text": "accuracy"
         }
        },
        "yaxis2": {
         "anchor": "x2",
         "domain": [
          0,
          1
         ],
         "title": {
          "text": "accuracy"
         }
        }
       }
      }
     },
     "metadata": {},
     "output_type": "display_data"
    }
   ],
   "source": [
    "bilstm_model = AmazonReviewsModel(\n",
    "    2000, 256, LSTM, num_recurrent_layers=4, dropout=0.15, ffn_dims=[128, 64], name='BiLSTM', bidirectional=True)\n",
    "_, fig = bilstm_model.train(dataset, f'{MODEL_PATH}/{bilstm_model.name}.weights.h5', **train_default)\n",
    "print(bilstm_model.evaluate(dataset.X_test, dataset.y_test))\n",
    "fig"
   ]
  },
  {
   "cell_type": "code",
   "execution_count": 11,
   "metadata": {},
   "outputs": [
    {
     "name": "stdout",
     "output_type": "stream",
     "text": [
      "Epoch 1/30\n",
      "40/40 [==============================] - 25s 300ms/step - loss: 0.4524 - accuracy: 0.7727 - val_loss: 0.3071 - val_accuracy: 0.8714\n",
      "Epoch 2/30\n",
      "40/40 [==============================] - 7s 174ms/step - loss: 0.2682 - accuracy: 0.8911 - val_loss: 0.2989 - val_accuracy: 0.8712\n",
      "Epoch 3/30\n",
      "40/40 [==============================] - 7s 169ms/step - loss: 0.2370 - accuracy: 0.9065 - val_loss: 0.2957 - val_accuracy: 0.8766\n",
      "Epoch 4/30\n",
      "40/40 [==============================] - 6s 161ms/step - loss: 0.2045 - accuracy: 0.9200 - val_loss: 0.3170 - val_accuracy: 0.8622\n",
      "Epoch 5/30\n",
      "40/40 [==============================] - 6s 158ms/step - loss: 0.1808 - accuracy: 0.9298 - val_loss: 0.3256 - val_accuracy: 0.8756\n",
      "Epoch 6/30\n",
      "40/40 [==============================] - 6s 157ms/step - loss: 0.1525 - accuracy: 0.9424 - val_loss: 0.3678 - val_accuracy: 0.8592\n",
      "Epoch 7/30\n",
      "40/40 [==============================] - 6s 153ms/step - loss: 0.1243 - accuracy: 0.9555 - val_loss: 0.4217 - val_accuracy: 0.8694\n",
      "Epoch 8/30\n",
      "40/40 [==============================] - 6s 156ms/step - loss: 0.1094 - accuracy: 0.9596 - val_loss: 0.4778 - val_accuracy: 0.8550\n",
      "[0.31589433550834656, 0.871720016002655]\n"
     ]
    },
    {
     "data": {
      "application/vnd.plotly.v1+json": {
       "config": {
        "plotlyServerURL": "https://plot.ly"
       },
       "data": [
        {
         "line": {
          "color": "#636EFA"
         },
         "marker": {
          "color": "#636EFA"
         },
         "mode": "lines+markers",
         "name": "train",
         "showlegend": true,
         "type": "scatter",
         "x": [
          1,
          2,
          3,
          4,
          5,
          6,
          7,
          8
         ],
         "xaxis": "x",
         "y": [
          0.45238831639289856,
          0.2682475745677948,
          0.23702716827392578,
          0.2045120894908905,
          0.18076321482658386,
          0.15250283479690552,
          0.12433796375989914,
          0.10941848158836365
         ],
         "yaxis": "y"
        },
        {
         "line": {
          "color": "#EF553B"
         },
         "marker": {
          "color": "#EF553B"
         },
         "mode": "lines+markers",
         "name": "val",
         "showlegend": true,
         "type": "scatter",
         "x": [
          1,
          2,
          3,
          4,
          5,
          6,
          7,
          8
         ],
         "xaxis": "x",
         "y": [
          0.307121217250824,
          0.29888391494750977,
          0.2956760823726654,
          0.31698721647262573,
          0.32564544677734375,
          0.3678152859210968,
          0.4217056632041931,
          0.4778445363044739
         ],
         "yaxis": "y"
        },
        {
         "line": {
          "color": "#636EFA"
         },
         "marker": {
          "color": "#636EFA"
         },
         "mode": "lines+markers",
         "name": "train",
         "showlegend": false,
         "type": "scatter",
         "x": [
          1,
          2,
          3,
          4,
          5,
          6,
          7,
          8
         ],
         "xaxis": "x2",
         "y": [
          0.7727000117301941,
          0.8911499977111816,
          0.9065499901771545,
          0.919950008392334,
          0.9298499822616577,
          0.9424499869346619,
          0.9555000066757202,
          0.9595500230789185
         ],
         "yaxis": "y2"
        },
        {
         "line": {
          "color": "#EF553B"
         },
         "marker": {
          "color": "#EF553B"
         },
         "mode": "lines+markers",
         "name": "val",
         "showlegend": false,
         "type": "scatter",
         "x": [
          1,
          2,
          3,
          4,
          5,
          6,
          7,
          8
         ],
         "xaxis": "x2",
         "y": [
          0.871399998664856,
          0.8712000250816345,
          0.8766000270843506,
          0.8622000217437744,
          0.8755999803543091,
          0.8592000007629395,
          0.8694000244140625,
          0.8550000190734863
         ],
         "yaxis": "y2"
        }
       ],
       "layout": {
        "annotations": [
         {
          "font": {
           "size": 16
          },
          "showarrow": false,
          "text": "loss",
          "x": 0.2375,
          "xanchor": "center",
          "xref": "paper",
          "y": 1,
          "yanchor": "bottom",
          "yref": "paper"
         },
         {
          "font": {
           "size": 16
          },
          "showarrow": false,
          "text": "accuracy",
          "x": 0.7625,
          "xanchor": "center",
          "xref": "paper",
          "y": 1,
          "yanchor": "bottom",
          "yref": "paper"
         }
        ],
        "height": 400,
        "margin": {
         "b": 10,
         "l": 10,
         "r": 10,
         "t": 50
        },
        "template": {
         "data": {
          "bar": [
           {
            "error_x": {
             "color": "rgb(36,36,36)"
            },
            "error_y": {
             "color": "rgb(36,36,36)"
            },
            "marker": {
             "line": {
              "color": "rgb(234,234,242)",
              "width": 0.5
             },
             "pattern": {
              "fillmode": "overlay",
              "size": 10,
              "solidity": 0.2
             }
            },
            "type": "bar"
           }
          ],
          "barpolar": [
           {
            "marker": {
             "line": {
              "color": "rgb(234,234,242)",
              "width": 0.5
             },
             "pattern": {
              "fillmode": "overlay",
              "size": 10,
              "solidity": 0.2
             }
            },
            "type": "barpolar"
           }
          ],
          "carpet": [
           {
            "aaxis": {
             "endlinecolor": "rgb(36,36,36)",
             "gridcolor": "white",
             "linecolor": "white",
             "minorgridcolor": "white",
             "startlinecolor": "rgb(36,36,36)"
            },
            "baxis": {
             "endlinecolor": "rgb(36,36,36)",
             "gridcolor": "white",
             "linecolor": "white",
             "minorgridcolor": "white",
             "startlinecolor": "rgb(36,36,36)"
            },
            "type": "carpet"
           }
          ],
          "choropleth": [
           {
            "colorbar": {
             "outlinewidth": 0,
             "tickcolor": "rgb(36,36,36)",
             "ticklen": 8,
             "ticks": "outside",
             "tickwidth": 2
            },
            "type": "choropleth"
           }
          ],
          "contour": [
           {
            "colorbar": {
             "outlinewidth": 0,
             "tickcolor": "rgb(36,36,36)",
             "ticklen": 8,
             "ticks": "outside",
             "tickwidth": 2
            },
            "colorscale": [
             [
              0,
              "rgb(2,4,25)"
             ],
             [
              0.06274509803921569,
              "rgb(24,15,41)"
             ],
             [
              0.12549019607843137,
              "rgb(47,23,57)"
             ],
             [
              0.18823529411764706,
              "rgb(71,28,72)"
             ],
             [
              0.25098039215686274,
              "rgb(97,30,82)"
             ],
             [
              0.3137254901960784,
              "rgb(123,30,89)"
             ],
             [
              0.3764705882352941,
              "rgb(150,27,91)"
             ],
             [
              0.4392156862745098,
              "rgb(177,22,88)"
             ],
             [
              0.5019607843137255,
              "rgb(203,26,79)"
             ],
             [
              0.5647058823529412,
              "rgb(223,47,67)"
             ],
             [
              0.6274509803921569,
              "rgb(236,76,61)"
             ],
             [
              0.6901960784313725,
              "rgb(242,107,73)"
             ],
             [
              0.7529411764705882,
              "rgb(244,135,95)"
             ],
             [
              0.8156862745098039,
              "rgb(245,162,122)"
             ],
             [
              0.8784313725490196,
              "rgb(246,188,153)"
             ],
             [
              0.9411764705882353,
              "rgb(247,212,187)"
             ],
             [
              1,
              "rgb(250,234,220)"
             ]
            ],
            "type": "contour"
           }
          ],
          "contourcarpet": [
           {
            "colorbar": {
             "outlinewidth": 0,
             "tickcolor": "rgb(36,36,36)",
             "ticklen": 8,
             "ticks": "outside",
             "tickwidth": 2
            },
            "type": "contourcarpet"
           }
          ],
          "heatmap": [
           {
            "colorbar": {
             "outlinewidth": 0,
             "tickcolor": "rgb(36,36,36)",
             "ticklen": 8,
             "ticks": "outside",
             "tickwidth": 2
            },
            "colorscale": [
             [
              0,
              "rgb(2,4,25)"
             ],
             [
              0.06274509803921569,
              "rgb(24,15,41)"
             ],
             [
              0.12549019607843137,
              "rgb(47,23,57)"
             ],
             [
              0.18823529411764706,
              "rgb(71,28,72)"
             ],
             [
              0.25098039215686274,
              "rgb(97,30,82)"
             ],
             [
              0.3137254901960784,
              "rgb(123,30,89)"
             ],
             [
              0.3764705882352941,
              "rgb(150,27,91)"
             ],
             [
              0.4392156862745098,
              "rgb(177,22,88)"
             ],
             [
              0.5019607843137255,
              "rgb(203,26,79)"
             ],
             [
              0.5647058823529412,
              "rgb(223,47,67)"
             ],
             [
              0.6274509803921569,
              "rgb(236,76,61)"
             ],
             [
              0.6901960784313725,
              "rgb(242,107,73)"
             ],
             [
              0.7529411764705882,
              "rgb(244,135,95)"
             ],
             [
              0.8156862745098039,
              "rgb(245,162,122)"
             ],
             [
              0.8784313725490196,
              "rgb(246,188,153)"
             ],
             [
              0.9411764705882353,
              "rgb(247,212,187)"
             ],
             [
              1,
              "rgb(250,234,220)"
             ]
            ],
            "type": "heatmap"
           }
          ],
          "heatmapgl": [
           {
            "colorbar": {
             "outlinewidth": 0,
             "tickcolor": "rgb(36,36,36)",
             "ticklen": 8,
             "ticks": "outside",
             "tickwidth": 2
            },
            "colorscale": [
             [
              0,
              "rgb(2,4,25)"
             ],
             [
              0.06274509803921569,
              "rgb(24,15,41)"
             ],
             [
              0.12549019607843137,
              "rgb(47,23,57)"
             ],
             [
              0.18823529411764706,
              "rgb(71,28,72)"
             ],
             [
              0.25098039215686274,
              "rgb(97,30,82)"
             ],
             [
              0.3137254901960784,
              "rgb(123,30,89)"
             ],
             [
              0.3764705882352941,
              "rgb(150,27,91)"
             ],
             [
              0.4392156862745098,
              "rgb(177,22,88)"
             ],
             [
              0.5019607843137255,
              "rgb(203,26,79)"
             ],
             [
              0.5647058823529412,
              "rgb(223,47,67)"
             ],
             [
              0.6274509803921569,
              "rgb(236,76,61)"
             ],
             [
              0.6901960784313725,
              "rgb(242,107,73)"
             ],
             [
              0.7529411764705882,
              "rgb(244,135,95)"
             ],
             [
              0.8156862745098039,
              "rgb(245,162,122)"
             ],
             [
              0.8784313725490196,
              "rgb(246,188,153)"
             ],
             [
              0.9411764705882353,
              "rgb(247,212,187)"
             ],
             [
              1,
              "rgb(250,234,220)"
             ]
            ],
            "type": "heatmapgl"
           }
          ],
          "histogram": [
           {
            "marker": {
             "pattern": {
              "fillmode": "overlay",
              "size": 10,
              "solidity": 0.2
             }
            },
            "type": "histogram"
           }
          ],
          "histogram2d": [
           {
            "colorbar": {
             "outlinewidth": 0,
             "tickcolor": "rgb(36,36,36)",
             "ticklen": 8,
             "ticks": "outside",
             "tickwidth": 2
            },
            "colorscale": [
             [
              0,
              "rgb(2,4,25)"
             ],
             [
              0.06274509803921569,
              "rgb(24,15,41)"
             ],
             [
              0.12549019607843137,
              "rgb(47,23,57)"
             ],
             [
              0.18823529411764706,
              "rgb(71,28,72)"
             ],
             [
              0.25098039215686274,
              "rgb(97,30,82)"
             ],
             [
              0.3137254901960784,
              "rgb(123,30,89)"
             ],
             [
              0.3764705882352941,
              "rgb(150,27,91)"
             ],
             [
              0.4392156862745098,
              "rgb(177,22,88)"
             ],
             [
              0.5019607843137255,
              "rgb(203,26,79)"
             ],
             [
              0.5647058823529412,
              "rgb(223,47,67)"
             ],
             [
              0.6274509803921569,
              "rgb(236,76,61)"
             ],
             [
              0.6901960784313725,
              "rgb(242,107,73)"
             ],
             [
              0.7529411764705882,
              "rgb(244,135,95)"
             ],
             [
              0.8156862745098039,
              "rgb(245,162,122)"
             ],
             [
              0.8784313725490196,
              "rgb(246,188,153)"
             ],
             [
              0.9411764705882353,
              "rgb(247,212,187)"
             ],
             [
              1,
              "rgb(250,234,220)"
             ]
            ],
            "type": "histogram2d"
           }
          ],
          "histogram2dcontour": [
           {
            "colorbar": {
             "outlinewidth": 0,
             "tickcolor": "rgb(36,36,36)",
             "ticklen": 8,
             "ticks": "outside",
             "tickwidth": 2
            },
            "colorscale": [
             [
              0,
              "rgb(2,4,25)"
             ],
             [
              0.06274509803921569,
              "rgb(24,15,41)"
             ],
             [
              0.12549019607843137,
              "rgb(47,23,57)"
             ],
             [
              0.18823529411764706,
              "rgb(71,28,72)"
             ],
             [
              0.25098039215686274,
              "rgb(97,30,82)"
             ],
             [
              0.3137254901960784,
              "rgb(123,30,89)"
             ],
             [
              0.3764705882352941,
              "rgb(150,27,91)"
             ],
             [
              0.4392156862745098,
              "rgb(177,22,88)"
             ],
             [
              0.5019607843137255,
              "rgb(203,26,79)"
             ],
             [
              0.5647058823529412,
              "rgb(223,47,67)"
             ],
             [
              0.6274509803921569,
              "rgb(236,76,61)"
             ],
             [
              0.6901960784313725,
              "rgb(242,107,73)"
             ],
             [
              0.7529411764705882,
              "rgb(244,135,95)"
             ],
             [
              0.8156862745098039,
              "rgb(245,162,122)"
             ],
             [
              0.8784313725490196,
              "rgb(246,188,153)"
             ],
             [
              0.9411764705882353,
              "rgb(247,212,187)"
             ],
             [
              1,
              "rgb(250,234,220)"
             ]
            ],
            "type": "histogram2dcontour"
           }
          ],
          "mesh3d": [
           {
            "colorbar": {
             "outlinewidth": 0,
             "tickcolor": "rgb(36,36,36)",
             "ticklen": 8,
             "ticks": "outside",
             "tickwidth": 2
            },
            "type": "mesh3d"
           }
          ],
          "parcoords": [
           {
            "line": {
             "colorbar": {
              "outlinewidth": 0,
              "tickcolor": "rgb(36,36,36)",
              "ticklen": 8,
              "ticks": "outside",
              "tickwidth": 2
             }
            },
            "type": "parcoords"
           }
          ],
          "pie": [
           {
            "automargin": true,
            "type": "pie"
           }
          ],
          "scatter": [
           {
            "fillpattern": {
             "fillmode": "overlay",
             "size": 10,
             "solidity": 0.2
            },
            "type": "scatter"
           }
          ],
          "scatter3d": [
           {
            "line": {
             "colorbar": {
              "outlinewidth": 0,
              "tickcolor": "rgb(36,36,36)",
              "ticklen": 8,
              "ticks": "outside",
              "tickwidth": 2
             }
            },
            "marker": {
             "colorbar": {
              "outlinewidth": 0,
              "tickcolor": "rgb(36,36,36)",
              "ticklen": 8,
              "ticks": "outside",
              "tickwidth": 2
             }
            },
            "type": "scatter3d"
           }
          ],
          "scattercarpet": [
           {
            "marker": {
             "colorbar": {
              "outlinewidth": 0,
              "tickcolor": "rgb(36,36,36)",
              "ticklen": 8,
              "ticks": "outside",
              "tickwidth": 2
             }
            },
            "type": "scattercarpet"
           }
          ],
          "scattergeo": [
           {
            "marker": {
             "colorbar": {
              "outlinewidth": 0,
              "tickcolor": "rgb(36,36,36)",
              "ticklen": 8,
              "ticks": "outside",
              "tickwidth": 2
             }
            },
            "type": "scattergeo"
           }
          ],
          "scattergl": [
           {
            "marker": {
             "colorbar": {
              "outlinewidth": 0,
              "tickcolor": "rgb(36,36,36)",
              "ticklen": 8,
              "ticks": "outside",
              "tickwidth": 2
             }
            },
            "type": "scattergl"
           }
          ],
          "scattermapbox": [
           {
            "marker": {
             "colorbar": {
              "outlinewidth": 0,
              "tickcolor": "rgb(36,36,36)",
              "ticklen": 8,
              "ticks": "outside",
              "tickwidth": 2
             }
            },
            "type": "scattermapbox"
           }
          ],
          "scatterpolar": [
           {
            "marker": {
             "colorbar": {
              "outlinewidth": 0,
              "tickcolor": "rgb(36,36,36)",
              "ticklen": 8,
              "ticks": "outside",
              "tickwidth": 2
             }
            },
            "type": "scatterpolar"
           }
          ],
          "scatterpolargl": [
           {
            "marker": {
             "colorbar": {
              "outlinewidth": 0,
              "tickcolor": "rgb(36,36,36)",
              "ticklen": 8,
              "ticks": "outside",
              "tickwidth": 2
             }
            },
            "type": "scatterpolargl"
           }
          ],
          "scatterternary": [
           {
            "marker": {
             "colorbar": {
              "outlinewidth": 0,
              "tickcolor": "rgb(36,36,36)",
              "ticklen": 8,
              "ticks": "outside",
              "tickwidth": 2
             }
            },
            "type": "scatterternary"
           }
          ],
          "surface": [
           {
            "colorbar": {
             "outlinewidth": 0,
             "tickcolor": "rgb(36,36,36)",
             "ticklen": 8,
             "ticks": "outside",
             "tickwidth": 2
            },
            "colorscale": [
             [
              0,
              "rgb(2,4,25)"
             ],
             [
              0.06274509803921569,
              "rgb(24,15,41)"
             ],
             [
              0.12549019607843137,
              "rgb(47,23,57)"
             ],
             [
              0.18823529411764706,
              "rgb(71,28,72)"
             ],
             [
              0.25098039215686274,
              "rgb(97,30,82)"
             ],
             [
              0.3137254901960784,
              "rgb(123,30,89)"
             ],
             [
              0.3764705882352941,
              "rgb(150,27,91)"
             ],
             [
              0.4392156862745098,
              "rgb(177,22,88)"
             ],
             [
              0.5019607843137255,
              "rgb(203,26,79)"
             ],
             [
              0.5647058823529412,
              "rgb(223,47,67)"
             ],
             [
              0.6274509803921569,
              "rgb(236,76,61)"
             ],
             [
              0.6901960784313725,
              "rgb(242,107,73)"
             ],
             [
              0.7529411764705882,
              "rgb(244,135,95)"
             ],
             [
              0.8156862745098039,
              "rgb(245,162,122)"
             ],
             [
              0.8784313725490196,
              "rgb(246,188,153)"
             ],
             [
              0.9411764705882353,
              "rgb(247,212,187)"
             ],
             [
              1,
              "rgb(250,234,220)"
             ]
            ],
            "type": "surface"
           }
          ],
          "table": [
           {
            "cells": {
             "fill": {
              "color": "rgb(231,231,240)"
             },
             "line": {
              "color": "white"
             }
            },
            "header": {
             "fill": {
              "color": "rgb(183,183,191)"
             },
             "line": {
              "color": "white"
             }
            },
            "type": "table"
           }
          ]
         },
         "layout": {
          "annotationdefaults": {
           "arrowcolor": "rgb(67,103,167)"
          },
          "autotypenumbers": "strict",
          "coloraxis": {
           "colorbar": {
            "outlinewidth": 0,
            "tickcolor": "rgb(36,36,36)",
            "ticklen": 8,
            "ticks": "outside",
            "tickwidth": 2
           }
          },
          "colorscale": {
           "sequential": [
            [
             0,
             "rgb(2,4,25)"
            ],
            [
             0.06274509803921569,
             "rgb(24,15,41)"
            ],
            [
             0.12549019607843137,
             "rgb(47,23,57)"
            ],
            [
             0.18823529411764706,
             "rgb(71,28,72)"
            ],
            [
             0.25098039215686274,
             "rgb(97,30,82)"
            ],
            [
             0.3137254901960784,
             "rgb(123,30,89)"
            ],
            [
             0.3764705882352941,
             "rgb(150,27,91)"
            ],
            [
             0.4392156862745098,
             "rgb(177,22,88)"
            ],
            [
             0.5019607843137255,
             "rgb(203,26,79)"
            ],
            [
             0.5647058823529412,
             "rgb(223,47,67)"
            ],
            [
             0.6274509803921569,
             "rgb(236,76,61)"
            ],
            [
             0.6901960784313725,
             "rgb(242,107,73)"
            ],
            [
             0.7529411764705882,
             "rgb(244,135,95)"
            ],
            [
             0.8156862745098039,
             "rgb(245,162,122)"
            ],
            [
             0.8784313725490196,
             "rgb(246,188,153)"
            ],
            [
             0.9411764705882353,
             "rgb(247,212,187)"
            ],
            [
             1,
             "rgb(250,234,220)"
            ]
           ],
           "sequentialminus": [
            [
             0,
             "rgb(2,4,25)"
            ],
            [
             0.06274509803921569,
             "rgb(24,15,41)"
            ],
            [
             0.12549019607843137,
             "rgb(47,23,57)"
            ],
            [
             0.18823529411764706,
             "rgb(71,28,72)"
            ],
            [
             0.25098039215686274,
             "rgb(97,30,82)"
            ],
            [
             0.3137254901960784,
             "rgb(123,30,89)"
            ],
            [
             0.3764705882352941,
             "rgb(150,27,91)"
            ],
            [
             0.4392156862745098,
             "rgb(177,22,88)"
            ],
            [
             0.5019607843137255,
             "rgb(203,26,79)"
            ],
            [
             0.5647058823529412,
             "rgb(223,47,67)"
            ],
            [
             0.6274509803921569,
             "rgb(236,76,61)"
            ],
            [
             0.6901960784313725,
             "rgb(242,107,73)"
            ],
            [
             0.7529411764705882,
             "rgb(244,135,95)"
            ],
            [
             0.8156862745098039,
             "rgb(245,162,122)"
            ],
            [
             0.8784313725490196,
             "rgb(246,188,153)"
            ],
            [
             0.9411764705882353,
             "rgb(247,212,187)"
            ],
            [
             1,
             "rgb(250,234,220)"
            ]
           ]
          },
          "colorway": [
           "rgb(76,114,176)",
           "rgb(221,132,82)",
           "rgb(85,168,104)",
           "rgb(196,78,82)",
           "rgb(129,114,179)",
           "rgb(147,120,96)",
           "rgb(218,139,195)",
           "rgb(140,140,140)",
           "rgb(204,185,116)",
           "rgb(100,181,205)"
          ],
          "font": {
           "color": "rgb(36,36,36)"
          },
          "geo": {
           "bgcolor": "white",
           "lakecolor": "white",
           "landcolor": "rgb(234,234,242)",
           "showlakes": true,
           "showland": true,
           "subunitcolor": "white"
          },
          "hoverlabel": {
           "align": "left"
          },
          "hovermode": "closest",
          "paper_bgcolor": "white",
          "plot_bgcolor": "rgb(234,234,242)",
          "polar": {
           "angularaxis": {
            "gridcolor": "white",
            "linecolor": "white",
            "showgrid": true,
            "ticks": ""
           },
           "bgcolor": "rgb(234,234,242)",
           "radialaxis": {
            "gridcolor": "white",
            "linecolor": "white",
            "showgrid": true,
            "ticks": ""
           }
          },
          "scene": {
           "xaxis": {
            "backgroundcolor": "rgb(234,234,242)",
            "gridcolor": "white",
            "gridwidth": 2,
            "linecolor": "white",
            "showbackground": true,
            "showgrid": true,
            "ticks": "",
            "zerolinecolor": "white"
           },
           "yaxis": {
            "backgroundcolor": "rgb(234,234,242)",
            "gridcolor": "white",
            "gridwidth": 2,
            "linecolor": "white",
            "showbackground": true,
            "showgrid": true,
            "ticks": "",
            "zerolinecolor": "white"
           },
           "zaxis": {
            "backgroundcolor": "rgb(234,234,242)",
            "gridcolor": "white",
            "gridwidth": 2,
            "linecolor": "white",
            "showbackground": true,
            "showgrid": true,
            "ticks": "",
            "zerolinecolor": "white"
           }
          },
          "shapedefaults": {
           "fillcolor": "rgb(67,103,167)",
           "line": {
            "width": 0
           },
           "opacity": 0.5
          },
          "ternary": {
           "aaxis": {
            "gridcolor": "white",
            "linecolor": "white",
            "showgrid": true,
            "ticks": ""
           },
           "baxis": {
            "gridcolor": "white",
            "linecolor": "white",
            "showgrid": true,
            "ticks": ""
           },
           "bgcolor": "rgb(234,234,242)",
           "caxis": {
            "gridcolor": "white",
            "linecolor": "white",
            "showgrid": true,
            "ticks": ""
           }
          },
          "xaxis": {
           "automargin": true,
           "gridcolor": "white",
           "linecolor": "white",
           "showgrid": true,
           "ticks": "",
           "title": {
            "standoff": 15
           },
           "zerolinecolor": "white"
          },
          "yaxis": {
           "automargin": true,
           "gridcolor": "white",
           "linecolor": "white",
           "showgrid": true,
           "ticks": "",
           "title": {
            "standoff": 15
           },
           "zerolinecolor": "white"
          }
         }
        },
        "title": {
         "text": "Training and validation of BiGRU"
        },
        "width": 1200,
        "xaxis": {
         "anchor": "y",
         "domain": [
          0,
          0.475
         ],
         "title": {
          "text": "epochs"
         }
        },
        "xaxis2": {
         "anchor": "y2",
         "domain": [
          0.525,
          1
         ],
         "title": {
          "text": "epochs"
         }
        },
        "yaxis": {
         "anchor": "x",
         "domain": [
          0,
          1
         ],
         "title": {
          "text": "accuracy"
         }
        },
        "yaxis2": {
         "anchor": "x2",
         "domain": [
          0,
          1
         ],
         "title": {
          "text": "accuracy"
         }
        }
       }
      }
     },
     "metadata": {},
     "output_type": "display_data"
    }
   ],
   "source": [
    "bigru_model = AmazonReviewsModel(\n",
    "    2000, 256, GRU, num_recurrent_layers=4, dropout=0.15, ffn_dims=[128, 64], name='BiGRU', bidirectional=True)\n",
    "_, fig = bigru_model.train(dataset, f'{MODEL_PATH}/{bigru_model.name}.weights.h5', **train_default)\n",
    "print(bigru_model.evaluate(dataset.X_test, dataset.y_test))\n",
    "fig"
   ]
  },
  {
   "cell_type": "markdown",
   "metadata": {},
   "source": [
    "Althought the performance of the Bidirectional LSTM (86.92%) and Bidirectional GRU (87.17%) do not seem to strongly improve the unidirectional processing, we see that the simple RNN cell takes a great advantage of introducing right-to-left contextualization. While the unidirectional RNN cell barely reached ~60% of accuracy, the bidirecitonal RNN is able to reach 86.06 points, obtaining a similar performance to the other recurrent cells."
   ]
  },
  {
   "cell_type": "markdown",
   "metadata": {},
   "source": [
    "## Transformer\n",
    "\n",
    "In this section we introduce the [Transformer block](https://keras.io/api/keras_nlp/modeling_layers/transformer_encoder/) to reinforce the word contextualization between the input embedding layer and the recurrent layers. We conducted experiments adding three Transformer layers of $4$ heads before the bidirectional recurrent block using a hidden size of $d_h=128$. We see that the Transformer improves ~1% of the accuracy of all models. "
   ]
  },
  {
   "cell_type": "code",
   "execution_count": 12,
   "metadata": {},
   "outputs": [
    {
     "name": "stdout",
     "output_type": "stream",
     "text": [
      "Epoch 1/30\n",
      "40/40 [==============================] - 32s 540ms/step - loss: 0.5880 - accuracy: 0.6709 - val_loss: 0.4147 - val_accuracy: 0.8198\n",
      "Epoch 2/30\n",
      "40/40 [==============================] - 20s 511ms/step - loss: 0.3187 - accuracy: 0.8699 - val_loss: 0.2993 - val_accuracy: 0.8788\n",
      "Epoch 3/30\n",
      "40/40 [==============================] - 20s 513ms/step - loss: 0.2358 - accuracy: 0.9075 - val_loss: 0.2937 - val_accuracy: 0.8810\n",
      "Epoch 4/30\n",
      "40/40 [==============================] - 20s 503ms/step - loss: 0.1816 - accuracy: 0.9302 - val_loss: 0.3263 - val_accuracy: 0.8704\n",
      "Epoch 5/30\n",
      "40/40 [==============================] - 20s 503ms/step - loss: 0.1362 - accuracy: 0.9486 - val_loss: 0.3674 - val_accuracy: 0.8756\n",
      "Epoch 6/30\n",
      "40/40 [==============================] - 20s 502ms/step - loss: 0.0927 - accuracy: 0.9658 - val_loss: 0.4270 - val_accuracy: 0.8716\n",
      "Epoch 7/30\n",
      "40/40 [==============================] - 20s 503ms/step - loss: 0.0676 - accuracy: 0.9764 - val_loss: 0.4949 - val_accuracy: 0.8570\n",
      "Epoch 8/30\n",
      "40/40 [==============================] - 20s 504ms/step - loss: 0.0682 - accuracy: 0.9753 - val_loss: 0.5041 - val_accuracy: 0.8606\n",
      "[0.3136318325996399, 0.8738399744033813]\n"
     ]
    },
    {
     "data": {
      "application/vnd.plotly.v1+json": {
       "config": {
        "plotlyServerURL": "https://plot.ly"
       },
       "data": [
        {
         "line": {
          "color": "#636EFA"
         },
         "marker": {
          "color": "#636EFA"
         },
         "mode": "lines+markers",
         "name": "train",
         "showlegend": true,
         "type": "scatter",
         "x": [
          1,
          2,
          3,
          4,
          5,
          6,
          7,
          8
         ],
         "xaxis": "x",
         "y": [
          0.5880098938941956,
          0.3187086880207062,
          0.23576472699642181,
          0.18156790733337402,
          0.13622638583183289,
          0.09269996732473373,
          0.06762208789587021,
          0.06816902756690979
         ],
         "yaxis": "y"
        },
        {
         "line": {
          "color": "#EF553B"
         },
         "marker": {
          "color": "#EF553B"
         },
         "mode": "lines+markers",
         "name": "val",
         "showlegend": true,
         "type": "scatter",
         "x": [
          1,
          2,
          3,
          4,
          5,
          6,
          7,
          8
         ],
         "xaxis": "x",
         "y": [
          0.4147074222564697,
          0.2992611229419708,
          0.29369500279426575,
          0.3263453543186188,
          0.36735832691192627,
          0.4269771873950958,
          0.49490848183631897,
          0.5041486620903015
         ],
         "yaxis": "y"
        },
        {
         "line": {
          "color": "#636EFA"
         },
         "marker": {
          "color": "#636EFA"
         },
         "mode": "lines+markers",
         "name": "train",
         "showlegend": false,
         "type": "scatter",
         "x": [
          1,
          2,
          3,
          4,
          5,
          6,
          7,
          8
         ],
         "xaxis": "x2",
         "y": [
          0.6708999872207642,
          0.8698999881744385,
          0.9075499773025513,
          0.9302499890327454,
          0.9485999941825867,
          0.9658499956130981,
          0.9763500094413757,
          0.9752500057220459
         ],
         "yaxis": "y2"
        },
        {
         "line": {
          "color": "#EF553B"
         },
         "marker": {
          "color": "#EF553B"
         },
         "mode": "lines+markers",
         "name": "val",
         "showlegend": false,
         "type": "scatter",
         "x": [
          1,
          2,
          3,
          4,
          5,
          6,
          7,
          8
         ],
         "xaxis": "x2",
         "y": [
          0.8198000192642212,
          0.8787999749183655,
          0.8809999823570251,
          0.8704000115394592,
          0.8755999803543091,
          0.8715999722480774,
          0.8569999933242798,
          0.8605999946594238
         ],
         "yaxis": "y2"
        }
       ],
       "layout": {
        "annotations": [
         {
          "font": {
           "size": 16
          },
          "showarrow": false,
          "text": "loss",
          "x": 0.2375,
          "xanchor": "center",
          "xref": "paper",
          "y": 1,
          "yanchor": "bottom",
          "yref": "paper"
         },
         {
          "font": {
           "size": 16
          },
          "showarrow": false,
          "text": "accuracy",
          "x": 0.7625,
          "xanchor": "center",
          "xref": "paper",
          "y": 1,
          "yanchor": "bottom",
          "yref": "paper"
         }
        ],
        "height": 400,
        "margin": {
         "b": 10,
         "l": 10,
         "r": 10,
         "t": 50
        },
        "template": {
         "data": {
          "bar": [
           {
            "error_x": {
             "color": "rgb(36,36,36)"
            },
            "error_y": {
             "color": "rgb(36,36,36)"
            },
            "marker": {
             "line": {
              "color": "rgb(234,234,242)",
              "width": 0.5
             },
             "pattern": {
              "fillmode": "overlay",
              "size": 10,
              "solidity": 0.2
             }
            },
            "type": "bar"
           }
          ],
          "barpolar": [
           {
            "marker": {
             "line": {
              "color": "rgb(234,234,242)",
              "width": 0.5
             },
             "pattern": {
              "fillmode": "overlay",
              "size": 10,
              "solidity": 0.2
             }
            },
            "type": "barpolar"
           }
          ],
          "carpet": [
           {
            "aaxis": {
             "endlinecolor": "rgb(36,36,36)",
             "gridcolor": "white",
             "linecolor": "white",
             "minorgridcolor": "white",
             "startlinecolor": "rgb(36,36,36)"
            },
            "baxis": {
             "endlinecolor": "rgb(36,36,36)",
             "gridcolor": "white",
             "linecolor": "white",
             "minorgridcolor": "white",
             "startlinecolor": "rgb(36,36,36)"
            },
            "type": "carpet"
           }
          ],
          "choropleth": [
           {
            "colorbar": {
             "outlinewidth": 0,
             "tickcolor": "rgb(36,36,36)",
             "ticklen": 8,
             "ticks": "outside",
             "tickwidth": 2
            },
            "type": "choropleth"
           }
          ],
          "contour": [
           {
            "colorbar": {
             "outlinewidth": 0,
             "tickcolor": "rgb(36,36,36)",
             "ticklen": 8,
             "ticks": "outside",
             "tickwidth": 2
            },
            "colorscale": [
             [
              0,
              "rgb(2,4,25)"
             ],
             [
              0.06274509803921569,
              "rgb(24,15,41)"
             ],
             [
              0.12549019607843137,
              "rgb(47,23,57)"
             ],
             [
              0.18823529411764706,
              "rgb(71,28,72)"
             ],
             [
              0.25098039215686274,
              "rgb(97,30,82)"
             ],
             [
              0.3137254901960784,
              "rgb(123,30,89)"
             ],
             [
              0.3764705882352941,
              "rgb(150,27,91)"
             ],
             [
              0.4392156862745098,
              "rgb(177,22,88)"
             ],
             [
              0.5019607843137255,
              "rgb(203,26,79)"
             ],
             [
              0.5647058823529412,
              "rgb(223,47,67)"
             ],
             [
              0.6274509803921569,
              "rgb(236,76,61)"
             ],
             [
              0.6901960784313725,
              "rgb(242,107,73)"
             ],
             [
              0.7529411764705882,
              "rgb(244,135,95)"
             ],
             [
              0.8156862745098039,
              "rgb(245,162,122)"
             ],
             [
              0.8784313725490196,
              "rgb(246,188,153)"
             ],
             [
              0.9411764705882353,
              "rgb(247,212,187)"
             ],
             [
              1,
              "rgb(250,234,220)"
             ]
            ],
            "type": "contour"
           }
          ],
          "contourcarpet": [
           {
            "colorbar": {
             "outlinewidth": 0,
             "tickcolor": "rgb(36,36,36)",
             "ticklen": 8,
             "ticks": "outside",
             "tickwidth": 2
            },
            "type": "contourcarpet"
           }
          ],
          "heatmap": [
           {
            "colorbar": {
             "outlinewidth": 0,
             "tickcolor": "rgb(36,36,36)",
             "ticklen": 8,
             "ticks": "outside",
             "tickwidth": 2
            },
            "colorscale": [
             [
              0,
              "rgb(2,4,25)"
             ],
             [
              0.06274509803921569,
              "rgb(24,15,41)"
             ],
             [
              0.12549019607843137,
              "rgb(47,23,57)"
             ],
             [
              0.18823529411764706,
              "rgb(71,28,72)"
             ],
             [
              0.25098039215686274,
              "rgb(97,30,82)"
             ],
             [
              0.3137254901960784,
              "rgb(123,30,89)"
             ],
             [
              0.3764705882352941,
              "rgb(150,27,91)"
             ],
             [
              0.4392156862745098,
              "rgb(177,22,88)"
             ],
             [
              0.5019607843137255,
              "rgb(203,26,79)"
             ],
             [
              0.5647058823529412,
              "rgb(223,47,67)"
             ],
             [
              0.6274509803921569,
              "rgb(236,76,61)"
             ],
             [
              0.6901960784313725,
              "rgb(242,107,73)"
             ],
             [
              0.7529411764705882,
              "rgb(244,135,95)"
             ],
             [
              0.8156862745098039,
              "rgb(245,162,122)"
             ],
             [
              0.8784313725490196,
              "rgb(246,188,153)"
             ],
             [
              0.9411764705882353,
              "rgb(247,212,187)"
             ],
             [
              1,
              "rgb(250,234,220)"
             ]
            ],
            "type": "heatmap"
           }
          ],
          "heatmapgl": [
           {
            "colorbar": {
             "outlinewidth": 0,
             "tickcolor": "rgb(36,36,36)",
             "ticklen": 8,
             "ticks": "outside",
             "tickwidth": 2
            },
            "colorscale": [
             [
              0,
              "rgb(2,4,25)"
             ],
             [
              0.06274509803921569,
              "rgb(24,15,41)"
             ],
             [
              0.12549019607843137,
              "rgb(47,23,57)"
             ],
             [
              0.18823529411764706,
              "rgb(71,28,72)"
             ],
             [
              0.25098039215686274,
              "rgb(97,30,82)"
             ],
             [
              0.3137254901960784,
              "rgb(123,30,89)"
             ],
             [
              0.3764705882352941,
              "rgb(150,27,91)"
             ],
             [
              0.4392156862745098,
              "rgb(177,22,88)"
             ],
             [
              0.5019607843137255,
              "rgb(203,26,79)"
             ],
             [
              0.5647058823529412,
              "rgb(223,47,67)"
             ],
             [
              0.6274509803921569,
              "rgb(236,76,61)"
             ],
             [
              0.6901960784313725,
              "rgb(242,107,73)"
             ],
             [
              0.7529411764705882,
              "rgb(244,135,95)"
             ],
             [
              0.8156862745098039,
              "rgb(245,162,122)"
             ],
             [
              0.8784313725490196,
              "rgb(246,188,153)"
             ],
             [
              0.9411764705882353,
              "rgb(247,212,187)"
             ],
             [
              1,
              "rgb(250,234,220)"
             ]
            ],
            "type": "heatmapgl"
           }
          ],
          "histogram": [
           {
            "marker": {
             "pattern": {
              "fillmode": "overlay",
              "size": 10,
              "solidity": 0.2
             }
            },
            "type": "histogram"
           }
          ],
          "histogram2d": [
           {
            "colorbar": {
             "outlinewidth": 0,
             "tickcolor": "rgb(36,36,36)",
             "ticklen": 8,
             "ticks": "outside",
             "tickwidth": 2
            },
            "colorscale": [
             [
              0,
              "rgb(2,4,25)"
             ],
             [
              0.06274509803921569,
              "rgb(24,15,41)"
             ],
             [
              0.12549019607843137,
              "rgb(47,23,57)"
             ],
             [
              0.18823529411764706,
              "rgb(71,28,72)"
             ],
             [
              0.25098039215686274,
              "rgb(97,30,82)"
             ],
             [
              0.3137254901960784,
              "rgb(123,30,89)"
             ],
             [
              0.3764705882352941,
              "rgb(150,27,91)"
             ],
             [
              0.4392156862745098,
              "rgb(177,22,88)"
             ],
             [
              0.5019607843137255,
              "rgb(203,26,79)"
             ],
             [
              0.5647058823529412,
              "rgb(223,47,67)"
             ],
             [
              0.6274509803921569,
              "rgb(236,76,61)"
             ],
             [
              0.6901960784313725,
              "rgb(242,107,73)"
             ],
             [
              0.7529411764705882,
              "rgb(244,135,95)"
             ],
             [
              0.8156862745098039,
              "rgb(245,162,122)"
             ],
             [
              0.8784313725490196,
              "rgb(246,188,153)"
             ],
             [
              0.9411764705882353,
              "rgb(247,212,187)"
             ],
             [
              1,
              "rgb(250,234,220)"
             ]
            ],
            "type": "histogram2d"
           }
          ],
          "histogram2dcontour": [
           {
            "colorbar": {
             "outlinewidth": 0,
             "tickcolor": "rgb(36,36,36)",
             "ticklen": 8,
             "ticks": "outside",
             "tickwidth": 2
            },
            "colorscale": [
             [
              0,
              "rgb(2,4,25)"
             ],
             [
              0.06274509803921569,
              "rgb(24,15,41)"
             ],
             [
              0.12549019607843137,
              "rgb(47,23,57)"
             ],
             [
              0.18823529411764706,
              "rgb(71,28,72)"
             ],
             [
              0.25098039215686274,
              "rgb(97,30,82)"
             ],
             [
              0.3137254901960784,
              "rgb(123,30,89)"
             ],
             [
              0.3764705882352941,
              "rgb(150,27,91)"
             ],
             [
              0.4392156862745098,
              "rgb(177,22,88)"
             ],
             [
              0.5019607843137255,
              "rgb(203,26,79)"
             ],
             [
              0.5647058823529412,
              "rgb(223,47,67)"
             ],
             [
              0.6274509803921569,
              "rgb(236,76,61)"
             ],
             [
              0.6901960784313725,
              "rgb(242,107,73)"
             ],
             [
              0.7529411764705882,
              "rgb(244,135,95)"
             ],
             [
              0.8156862745098039,
              "rgb(245,162,122)"
             ],
             [
              0.8784313725490196,
              "rgb(246,188,153)"
             ],
             [
              0.9411764705882353,
              "rgb(247,212,187)"
             ],
             [
              1,
              "rgb(250,234,220)"
             ]
            ],
            "type": "histogram2dcontour"
           }
          ],
          "mesh3d": [
           {
            "colorbar": {
             "outlinewidth": 0,
             "tickcolor": "rgb(36,36,36)",
             "ticklen": 8,
             "ticks": "outside",
             "tickwidth": 2
            },
            "type": "mesh3d"
           }
          ],
          "parcoords": [
           {
            "line": {
             "colorbar": {
              "outlinewidth": 0,
              "tickcolor": "rgb(36,36,36)",
              "ticklen": 8,
              "ticks": "outside",
              "tickwidth": 2
             }
            },
            "type": "parcoords"
           }
          ],
          "pie": [
           {
            "automargin": true,
            "type": "pie"
           }
          ],
          "scatter": [
           {
            "fillpattern": {
             "fillmode": "overlay",
             "size": 10,
             "solidity": 0.2
            },
            "type": "scatter"
           }
          ],
          "scatter3d": [
           {
            "line": {
             "colorbar": {
              "outlinewidth": 0,
              "tickcolor": "rgb(36,36,36)",
              "ticklen": 8,
              "ticks": "outside",
              "tickwidth": 2
             }
            },
            "marker": {
             "colorbar": {
              "outlinewidth": 0,
              "tickcolor": "rgb(36,36,36)",
              "ticklen": 8,
              "ticks": "outside",
              "tickwidth": 2
             }
            },
            "type": "scatter3d"
           }
          ],
          "scattercarpet": [
           {
            "marker": {
             "colorbar": {
              "outlinewidth": 0,
              "tickcolor": "rgb(36,36,36)",
              "ticklen": 8,
              "ticks": "outside",
              "tickwidth": 2
             }
            },
            "type": "scattercarpet"
           }
          ],
          "scattergeo": [
           {
            "marker": {
             "colorbar": {
              "outlinewidth": 0,
              "tickcolor": "rgb(36,36,36)",
              "ticklen": 8,
              "ticks": "outside",
              "tickwidth": 2
             }
            },
            "type": "scattergeo"
           }
          ],
          "scattergl": [
           {
            "marker": {
             "colorbar": {
              "outlinewidth": 0,
              "tickcolor": "rgb(36,36,36)",
              "ticklen": 8,
              "ticks": "outside",
              "tickwidth": 2
             }
            },
            "type": "scattergl"
           }
          ],
          "scattermapbox": [
           {
            "marker": {
             "colorbar": {
              "outlinewidth": 0,
              "tickcolor": "rgb(36,36,36)",
              "ticklen": 8,
              "ticks": "outside",
              "tickwidth": 2
             }
            },
            "type": "scattermapbox"
           }
          ],
          "scatterpolar": [
           {
            "marker": {
             "colorbar": {
              "outlinewidth": 0,
              "tickcolor": "rgb(36,36,36)",
              "ticklen": 8,
              "ticks": "outside",
              "tickwidth": 2
             }
            },
            "type": "scatterpolar"
           }
          ],
          "scatterpolargl": [
           {
            "marker": {
             "colorbar": {
              "outlinewidth": 0,
              "tickcolor": "rgb(36,36,36)",
              "ticklen": 8,
              "ticks": "outside",
              "tickwidth": 2
             }
            },
            "type": "scatterpolargl"
           }
          ],
          "scatterternary": [
           {
            "marker": {
             "colorbar": {
              "outlinewidth": 0,
              "tickcolor": "rgb(36,36,36)",
              "ticklen": 8,
              "ticks": "outside",
              "tickwidth": 2
             }
            },
            "type": "scatterternary"
           }
          ],
          "surface": [
           {
            "colorbar": {
             "outlinewidth": 0,
             "tickcolor": "rgb(36,36,36)",
             "ticklen": 8,
             "ticks": "outside",
             "tickwidth": 2
            },
            "colorscale": [
             [
              0,
              "rgb(2,4,25)"
             ],
             [
              0.06274509803921569,
              "rgb(24,15,41)"
             ],
             [
              0.12549019607843137,
              "rgb(47,23,57)"
             ],
             [
              0.18823529411764706,
              "rgb(71,28,72)"
             ],
             [
              0.25098039215686274,
              "rgb(97,30,82)"
             ],
             [
              0.3137254901960784,
              "rgb(123,30,89)"
             ],
             [
              0.3764705882352941,
              "rgb(150,27,91)"
             ],
             [
              0.4392156862745098,
              "rgb(177,22,88)"
             ],
             [
              0.5019607843137255,
              "rgb(203,26,79)"
             ],
             [
              0.5647058823529412,
              "rgb(223,47,67)"
             ],
             [
              0.6274509803921569,
              "rgb(236,76,61)"
             ],
             [
              0.6901960784313725,
              "rgb(242,107,73)"
             ],
             [
              0.7529411764705882,
              "rgb(244,135,95)"
             ],
             [
              0.8156862745098039,
              "rgb(245,162,122)"
             ],
             [
              0.8784313725490196,
              "rgb(246,188,153)"
             ],
             [
              0.9411764705882353,
              "rgb(247,212,187)"
             ],
             [
              1,
              "rgb(250,234,220)"
             ]
            ],
            "type": "surface"
           }
          ],
          "table": [
           {
            "cells": {
             "fill": {
              "color": "rgb(231,231,240)"
             },
             "line": {
              "color": "white"
             }
            },
            "header": {
             "fill": {
              "color": "rgb(183,183,191)"
             },
             "line": {
              "color": "white"
             }
            },
            "type": "table"
           }
          ]
         },
         "layout": {
          "annotationdefaults": {
           "arrowcolor": "rgb(67,103,167)"
          },
          "autotypenumbers": "strict",
          "coloraxis": {
           "colorbar": {
            "outlinewidth": 0,
            "tickcolor": "rgb(36,36,36)",
            "ticklen": 8,
            "ticks": "outside",
            "tickwidth": 2
           }
          },
          "colorscale": {
           "sequential": [
            [
             0,
             "rgb(2,4,25)"
            ],
            [
             0.06274509803921569,
             "rgb(24,15,41)"
            ],
            [
             0.12549019607843137,
             "rgb(47,23,57)"
            ],
            [
             0.18823529411764706,
             "rgb(71,28,72)"
            ],
            [
             0.25098039215686274,
             "rgb(97,30,82)"
            ],
            [
             0.3137254901960784,
             "rgb(123,30,89)"
            ],
            [
             0.3764705882352941,
             "rgb(150,27,91)"
            ],
            [
             0.4392156862745098,
             "rgb(177,22,88)"
            ],
            [
             0.5019607843137255,
             "rgb(203,26,79)"
            ],
            [
             0.5647058823529412,
             "rgb(223,47,67)"
            ],
            [
             0.6274509803921569,
             "rgb(236,76,61)"
            ],
            [
             0.6901960784313725,
             "rgb(242,107,73)"
            ],
            [
             0.7529411764705882,
             "rgb(244,135,95)"
            ],
            [
             0.8156862745098039,
             "rgb(245,162,122)"
            ],
            [
             0.8784313725490196,
             "rgb(246,188,153)"
            ],
            [
             0.9411764705882353,
             "rgb(247,212,187)"
            ],
            [
             1,
             "rgb(250,234,220)"
            ]
           ],
           "sequentialminus": [
            [
             0,
             "rgb(2,4,25)"
            ],
            [
             0.06274509803921569,
             "rgb(24,15,41)"
            ],
            [
             0.12549019607843137,
             "rgb(47,23,57)"
            ],
            [
             0.18823529411764706,
             "rgb(71,28,72)"
            ],
            [
             0.25098039215686274,
             "rgb(97,30,82)"
            ],
            [
             0.3137254901960784,
             "rgb(123,30,89)"
            ],
            [
             0.3764705882352941,
             "rgb(150,27,91)"
            ],
            [
             0.4392156862745098,
             "rgb(177,22,88)"
            ],
            [
             0.5019607843137255,
             "rgb(203,26,79)"
            ],
            [
             0.5647058823529412,
             "rgb(223,47,67)"
            ],
            [
             0.6274509803921569,
             "rgb(236,76,61)"
            ],
            [
             0.6901960784313725,
             "rgb(242,107,73)"
            ],
            [
             0.7529411764705882,
             "rgb(244,135,95)"
            ],
            [
             0.8156862745098039,
             "rgb(245,162,122)"
            ],
            [
             0.8784313725490196,
             "rgb(246,188,153)"
            ],
            [
             0.9411764705882353,
             "rgb(247,212,187)"
            ],
            [
             1,
             "rgb(250,234,220)"
            ]
           ]
          },
          "colorway": [
           "rgb(76,114,176)",
           "rgb(221,132,82)",
           "rgb(85,168,104)",
           "rgb(196,78,82)",
           "rgb(129,114,179)",
           "rgb(147,120,96)",
           "rgb(218,139,195)",
           "rgb(140,140,140)",
           "rgb(204,185,116)",
           "rgb(100,181,205)"
          ],
          "font": {
           "color": "rgb(36,36,36)"
          },
          "geo": {
           "bgcolor": "white",
           "lakecolor": "white",
           "landcolor": "rgb(234,234,242)",
           "showlakes": true,
           "showland": true,
           "subunitcolor": "white"
          },
          "hoverlabel": {
           "align": "left"
          },
          "hovermode": "closest",
          "paper_bgcolor": "white",
          "plot_bgcolor": "rgb(234,234,242)",
          "polar": {
           "angularaxis": {
            "gridcolor": "white",
            "linecolor": "white",
            "showgrid": true,
            "ticks": ""
           },
           "bgcolor": "rgb(234,234,242)",
           "radialaxis": {
            "gridcolor": "white",
            "linecolor": "white",
            "showgrid": true,
            "ticks": ""
           }
          },
          "scene": {
           "xaxis": {
            "backgroundcolor": "rgb(234,234,242)",
            "gridcolor": "white",
            "gridwidth": 2,
            "linecolor": "white",
            "showbackground": true,
            "showgrid": true,
            "ticks": "",
            "zerolinecolor": "white"
           },
           "yaxis": {
            "backgroundcolor": "rgb(234,234,242)",
            "gridcolor": "white",
            "gridwidth": 2,
            "linecolor": "white",
            "showbackground": true,
            "showgrid": true,
            "ticks": "",
            "zerolinecolor": "white"
           },
           "zaxis": {
            "backgroundcolor": "rgb(234,234,242)",
            "gridcolor": "white",
            "gridwidth": 2,
            "linecolor": "white",
            "showbackground": true,
            "showgrid": true,
            "ticks": "",
            "zerolinecolor": "white"
           }
          },
          "shapedefaults": {
           "fillcolor": "rgb(67,103,167)",
           "line": {
            "width": 0
           },
           "opacity": 0.5
          },
          "ternary": {
           "aaxis": {
            "gridcolor": "white",
            "linecolor": "white",
            "showgrid": true,
            "ticks": ""
           },
           "baxis": {
            "gridcolor": "white",
            "linecolor": "white",
            "showgrid": true,
            "ticks": ""
           },
           "bgcolor": "rgb(234,234,242)",
           "caxis": {
            "gridcolor": "white",
            "linecolor": "white",
            "showgrid": true,
            "ticks": ""
           }
          },
          "xaxis": {
           "automargin": true,
           "gridcolor": "white",
           "linecolor": "white",
           "showgrid": true,
           "ticks": "",
           "title": {
            "standoff": 15
           },
           "zerolinecolor": "white"
          },
          "yaxis": {
           "automargin": true,
           "gridcolor": "white",
           "linecolor": "white",
           "showgrid": true,
           "ticks": "",
           "title": {
            "standoff": 15
           },
           "zerolinecolor": "white"
          }
         }
        },
        "title": {
         "text": "Training and validation of BiRNN-transformer"
        },
        "width": 1200,
        "xaxis": {
         "anchor": "y",
         "domain": [
          0,
          0.475
         ],
         "title": {
          "text": "epochs"
         }
        },
        "xaxis2": {
         "anchor": "y2",
         "domain": [
          0.525,
          1
         ],
         "title": {
          "text": "epochs"
         }
        },
        "yaxis": {
         "anchor": "x",
         "domain": [
          0,
          1
         ],
         "title": {
          "text": "accuracy"
         }
        },
        "yaxis2": {
         "anchor": "x2",
         "domain": [
          0,
          1
         ],
         "title": {
          "text": "accuracy"
         }
        }
       }
      }
     },
     "metadata": {},
     "output_type": "display_data"
    }
   ],
   "source": [
    "birnn_transformer = AmazonReviewsModel(\n",
    "    2000, 128, SimpleRNN, num_recurrent_layers=4, dropout=0.2, ffn_dims=[128, 64], name='BiRNN-transformer', num_transformers=3, bidirectional=True)\n",
    "_, fig = birnn_transformer.train(dataset, f'{MODEL_PATH}/{birnn_transformer.name}.weights.h5', **train_default)\n",
    "print(birnn_transformer.evaluate(dataset.X_test, dataset.y_test))\n",
    "fig"
   ]
  },
  {
   "cell_type": "code",
   "execution_count": 13,
   "metadata": {},
   "outputs": [
    {
     "name": "stdout",
     "output_type": "stream",
     "text": [
      "Epoch 1/30\n",
      "40/40 [==============================] - 31s 354ms/step - loss: 0.5360 - accuracy: 0.7034 - val_loss: 0.3169 - val_accuracy: 0.8694\n",
      "Epoch 2/30\n",
      "40/40 [==============================] - 7s 188ms/step - loss: 0.2819 - accuracy: 0.8868 - val_loss: 0.2901 - val_accuracy: 0.8822\n",
      "Epoch 3/30\n",
      "40/40 [==============================] - 8s 189ms/step - loss: 0.2247 - accuracy: 0.9142 - val_loss: 0.2758 - val_accuracy: 0.8882\n",
      "Epoch 4/30\n",
      "40/40 [==============================] - 7s 183ms/step - loss: 0.1895 - accuracy: 0.9299 - val_loss: 0.2856 - val_accuracy: 0.8854\n",
      "Epoch 5/30\n",
      "40/40 [==============================] - 7s 184ms/step - loss: 0.1602 - accuracy: 0.9416 - val_loss: 0.2955 - val_accuracy: 0.8784\n",
      "Epoch 6/30\n",
      "40/40 [==============================] - 7s 182ms/step - loss: 0.1269 - accuracy: 0.9559 - val_loss: 0.3626 - val_accuracy: 0.8802\n",
      "Epoch 7/30\n",
      "40/40 [==============================] - 7s 181ms/step - loss: 0.1085 - accuracy: 0.9608 - val_loss: 0.4091 - val_accuracy: 0.8688\n",
      "Epoch 8/30\n",
      "40/40 [==============================] - 7s 181ms/step - loss: 0.0844 - accuracy: 0.9707 - val_loss: 0.4603 - val_accuracy: 0.8762\n",
      "[0.2989642918109894, 0.8779600262641907]\n"
     ]
    },
    {
     "data": {
      "application/vnd.plotly.v1+json": {
       "config": {
        "plotlyServerURL": "https://plot.ly"
       },
       "data": [
        {
         "line": {
          "color": "#636EFA"
         },
         "marker": {
          "color": "#636EFA"
         },
         "mode": "lines+markers",
         "name": "train",
         "showlegend": true,
         "type": "scatter",
         "x": [
          1,
          2,
          3,
          4,
          5,
          6,
          7,
          8
         ],
         "xaxis": "x",
         "y": [
          0.5360295176506042,
          0.2819139063358307,
          0.22465546429157257,
          0.18950332701206207,
          0.1602487713098526,
          0.1269403100013733,
          0.10848356038331985,
          0.08436505496501923
         ],
         "yaxis": "y"
        },
        {
         "line": {
          "color": "#EF553B"
         },
         "marker": {
          "color": "#EF553B"
         },
         "mode": "lines+markers",
         "name": "val",
         "showlegend": true,
         "type": "scatter",
         "x": [
          1,
          2,
          3,
          4,
          5,
          6,
          7,
          8
         ],
         "xaxis": "x",
         "y": [
          0.3169387876987457,
          0.2901054322719574,
          0.2757553160190582,
          0.28563207387924194,
          0.2955274283885956,
          0.3626266121864319,
          0.40907490253448486,
          0.4603261351585388
         ],
         "yaxis": "y"
        },
        {
         "line": {
          "color": "#636EFA"
         },
         "marker": {
          "color": "#636EFA"
         },
         "mode": "lines+markers",
         "name": "train",
         "showlegend": false,
         "type": "scatter",
         "x": [
          1,
          2,
          3,
          4,
          5,
          6,
          7,
          8
         ],
         "xaxis": "x2",
         "y": [
          0.7034000158309937,
          0.8867999911308289,
          0.9142000079154968,
          0.9299499988555908,
          0.9416000247001648,
          0.9559000134468079,
          0.9607999920845032,
          0.9706500172615051
         ],
         "yaxis": "y2"
        },
        {
         "line": {
          "color": "#EF553B"
         },
         "marker": {
          "color": "#EF553B"
         },
         "mode": "lines+markers",
         "name": "val",
         "showlegend": false,
         "type": "scatter",
         "x": [
          1,
          2,
          3,
          4,
          5,
          6,
          7,
          8
         ],
         "xaxis": "x2",
         "y": [
          0.8694000244140625,
          0.8822000026702881,
          0.8881999850273132,
          0.8853999972343445,
          0.8784000277519226,
          0.8802000284194946,
          0.8687999844551086,
          0.8762000203132629
         ],
         "yaxis": "y2"
        }
       ],
       "layout": {
        "annotations": [
         {
          "font": {
           "size": 16
          },
          "showarrow": false,
          "text": "loss",
          "x": 0.2375,
          "xanchor": "center",
          "xref": "paper",
          "y": 1,
          "yanchor": "bottom",
          "yref": "paper"
         },
         {
          "font": {
           "size": 16
          },
          "showarrow": false,
          "text": "accuracy",
          "x": 0.7625,
          "xanchor": "center",
          "xref": "paper",
          "y": 1,
          "yanchor": "bottom",
          "yref": "paper"
         }
        ],
        "height": 400,
        "margin": {
         "b": 10,
         "l": 10,
         "r": 10,
         "t": 50
        },
        "template": {
         "data": {
          "bar": [
           {
            "error_x": {
             "color": "rgb(36,36,36)"
            },
            "error_y": {
             "color": "rgb(36,36,36)"
            },
            "marker": {
             "line": {
              "color": "rgb(234,234,242)",
              "width": 0.5
             },
             "pattern": {
              "fillmode": "overlay",
              "size": 10,
              "solidity": 0.2
             }
            },
            "type": "bar"
           }
          ],
          "barpolar": [
           {
            "marker": {
             "line": {
              "color": "rgb(234,234,242)",
              "width": 0.5
             },
             "pattern": {
              "fillmode": "overlay",
              "size": 10,
              "solidity": 0.2
             }
            },
            "type": "barpolar"
           }
          ],
          "carpet": [
           {
            "aaxis": {
             "endlinecolor": "rgb(36,36,36)",
             "gridcolor": "white",
             "linecolor": "white",
             "minorgridcolor": "white",
             "startlinecolor": "rgb(36,36,36)"
            },
            "baxis": {
             "endlinecolor": "rgb(36,36,36)",
             "gridcolor": "white",
             "linecolor": "white",
             "minorgridcolor": "white",
             "startlinecolor": "rgb(36,36,36)"
            },
            "type": "carpet"
           }
          ],
          "choropleth": [
           {
            "colorbar": {
             "outlinewidth": 0,
             "tickcolor": "rgb(36,36,36)",
             "ticklen": 8,
             "ticks": "outside",
             "tickwidth": 2
            },
            "type": "choropleth"
           }
          ],
          "contour": [
           {
            "colorbar": {
             "outlinewidth": 0,
             "tickcolor": "rgb(36,36,36)",
             "ticklen": 8,
             "ticks": "outside",
             "tickwidth": 2
            },
            "colorscale": [
             [
              0,
              "rgb(2,4,25)"
             ],
             [
              0.06274509803921569,
              "rgb(24,15,41)"
             ],
             [
              0.12549019607843137,
              "rgb(47,23,57)"
             ],
             [
              0.18823529411764706,
              "rgb(71,28,72)"
             ],
             [
              0.25098039215686274,
              "rgb(97,30,82)"
             ],
             [
              0.3137254901960784,
              "rgb(123,30,89)"
             ],
             [
              0.3764705882352941,
              "rgb(150,27,91)"
             ],
             [
              0.4392156862745098,
              "rgb(177,22,88)"
             ],
             [
              0.5019607843137255,
              "rgb(203,26,79)"
             ],
             [
              0.5647058823529412,
              "rgb(223,47,67)"
             ],
             [
              0.6274509803921569,
              "rgb(236,76,61)"
             ],
             [
              0.6901960784313725,
              "rgb(242,107,73)"
             ],
             [
              0.7529411764705882,
              "rgb(244,135,95)"
             ],
             [
              0.8156862745098039,
              "rgb(245,162,122)"
             ],
             [
              0.8784313725490196,
              "rgb(246,188,153)"
             ],
             [
              0.9411764705882353,
              "rgb(247,212,187)"
             ],
             [
              1,
              "rgb(250,234,220)"
             ]
            ],
            "type": "contour"
           }
          ],
          "contourcarpet": [
           {
            "colorbar": {
             "outlinewidth": 0,
             "tickcolor": "rgb(36,36,36)",
             "ticklen": 8,
             "ticks": "outside",
             "tickwidth": 2
            },
            "type": "contourcarpet"
           }
          ],
          "heatmap": [
           {
            "colorbar": {
             "outlinewidth": 0,
             "tickcolor": "rgb(36,36,36)",
             "ticklen": 8,
             "ticks": "outside",
             "tickwidth": 2
            },
            "colorscale": [
             [
              0,
              "rgb(2,4,25)"
             ],
             [
              0.06274509803921569,
              "rgb(24,15,41)"
             ],
             [
              0.12549019607843137,
              "rgb(47,23,57)"
             ],
             [
              0.18823529411764706,
              "rgb(71,28,72)"
             ],
             [
              0.25098039215686274,
              "rgb(97,30,82)"
             ],
             [
              0.3137254901960784,
              "rgb(123,30,89)"
             ],
             [
              0.3764705882352941,
              "rgb(150,27,91)"
             ],
             [
              0.4392156862745098,
              "rgb(177,22,88)"
             ],
             [
              0.5019607843137255,
              "rgb(203,26,79)"
             ],
             [
              0.5647058823529412,
              "rgb(223,47,67)"
             ],
             [
              0.6274509803921569,
              "rgb(236,76,61)"
             ],
             [
              0.6901960784313725,
              "rgb(242,107,73)"
             ],
             [
              0.7529411764705882,
              "rgb(244,135,95)"
             ],
             [
              0.8156862745098039,
              "rgb(245,162,122)"
             ],
             [
              0.8784313725490196,
              "rgb(246,188,153)"
             ],
             [
              0.9411764705882353,
              "rgb(247,212,187)"
             ],
             [
              1,
              "rgb(250,234,220)"
             ]
            ],
            "type": "heatmap"
           }
          ],
          "heatmapgl": [
           {
            "colorbar": {
             "outlinewidth": 0,
             "tickcolor": "rgb(36,36,36)",
             "ticklen": 8,
             "ticks": "outside",
             "tickwidth": 2
            },
            "colorscale": [
             [
              0,
              "rgb(2,4,25)"
             ],
             [
              0.06274509803921569,
              "rgb(24,15,41)"
             ],
             [
              0.12549019607843137,
              "rgb(47,23,57)"
             ],
             [
              0.18823529411764706,
              "rgb(71,28,72)"
             ],
             [
              0.25098039215686274,
              "rgb(97,30,82)"
             ],
             [
              0.3137254901960784,
              "rgb(123,30,89)"
             ],
             [
              0.3764705882352941,
              "rgb(150,27,91)"
             ],
             [
              0.4392156862745098,
              "rgb(177,22,88)"
             ],
             [
              0.5019607843137255,
              "rgb(203,26,79)"
             ],
             [
              0.5647058823529412,
              "rgb(223,47,67)"
             ],
             [
              0.6274509803921569,
              "rgb(236,76,61)"
             ],
             [
              0.6901960784313725,
              "rgb(242,107,73)"
             ],
             [
              0.7529411764705882,
              "rgb(244,135,95)"
             ],
             [
              0.8156862745098039,
              "rgb(245,162,122)"
             ],
             [
              0.8784313725490196,
              "rgb(246,188,153)"
             ],
             [
              0.9411764705882353,
              "rgb(247,212,187)"
             ],
             [
              1,
              "rgb(250,234,220)"
             ]
            ],
            "type": "heatmapgl"
           }
          ],
          "histogram": [
           {
            "marker": {
             "pattern": {
              "fillmode": "overlay",
              "size": 10,
              "solidity": 0.2
             }
            },
            "type": "histogram"
           }
          ],
          "histogram2d": [
           {
            "colorbar": {
             "outlinewidth": 0,
             "tickcolor": "rgb(36,36,36)",
             "ticklen": 8,
             "ticks": "outside",
             "tickwidth": 2
            },
            "colorscale": [
             [
              0,
              "rgb(2,4,25)"
             ],
             [
              0.06274509803921569,
              "rgb(24,15,41)"
             ],
             [
              0.12549019607843137,
              "rgb(47,23,57)"
             ],
             [
              0.18823529411764706,
              "rgb(71,28,72)"
             ],
             [
              0.25098039215686274,
              "rgb(97,30,82)"
             ],
             [
              0.3137254901960784,
              "rgb(123,30,89)"
             ],
             [
              0.3764705882352941,
              "rgb(150,27,91)"
             ],
             [
              0.4392156862745098,
              "rgb(177,22,88)"
             ],
             [
              0.5019607843137255,
              "rgb(203,26,79)"
             ],
             [
              0.5647058823529412,
              "rgb(223,47,67)"
             ],
             [
              0.6274509803921569,
              "rgb(236,76,61)"
             ],
             [
              0.6901960784313725,
              "rgb(242,107,73)"
             ],
             [
              0.7529411764705882,
              "rgb(244,135,95)"
             ],
             [
              0.8156862745098039,
              "rgb(245,162,122)"
             ],
             [
              0.8784313725490196,
              "rgb(246,188,153)"
             ],
             [
              0.9411764705882353,
              "rgb(247,212,187)"
             ],
             [
              1,
              "rgb(250,234,220)"
             ]
            ],
            "type": "histogram2d"
           }
          ],
          "histogram2dcontour": [
           {
            "colorbar": {
             "outlinewidth": 0,
             "tickcolor": "rgb(36,36,36)",
             "ticklen": 8,
             "ticks": "outside",
             "tickwidth": 2
            },
            "colorscale": [
             [
              0,
              "rgb(2,4,25)"
             ],
             [
              0.06274509803921569,
              "rgb(24,15,41)"
             ],
             [
              0.12549019607843137,
              "rgb(47,23,57)"
             ],
             [
              0.18823529411764706,
              "rgb(71,28,72)"
             ],
             [
              0.25098039215686274,
              "rgb(97,30,82)"
             ],
             [
              0.3137254901960784,
              "rgb(123,30,89)"
             ],
             [
              0.3764705882352941,
              "rgb(150,27,91)"
             ],
             [
              0.4392156862745098,
              "rgb(177,22,88)"
             ],
             [
              0.5019607843137255,
              "rgb(203,26,79)"
             ],
             [
              0.5647058823529412,
              "rgb(223,47,67)"
             ],
             [
              0.6274509803921569,
              "rgb(236,76,61)"
             ],
             [
              0.6901960784313725,
              "rgb(242,107,73)"
             ],
             [
              0.7529411764705882,
              "rgb(244,135,95)"
             ],
             [
              0.8156862745098039,
              "rgb(245,162,122)"
             ],
             [
              0.8784313725490196,
              "rgb(246,188,153)"
             ],
             [
              0.9411764705882353,
              "rgb(247,212,187)"
             ],
             [
              1,
              "rgb(250,234,220)"
             ]
            ],
            "type": "histogram2dcontour"
           }
          ],
          "mesh3d": [
           {
            "colorbar": {
             "outlinewidth": 0,
             "tickcolor": "rgb(36,36,36)",
             "ticklen": 8,
             "ticks": "outside",
             "tickwidth": 2
            },
            "type": "mesh3d"
           }
          ],
          "parcoords": [
           {
            "line": {
             "colorbar": {
              "outlinewidth": 0,
              "tickcolor": "rgb(36,36,36)",
              "ticklen": 8,
              "ticks": "outside",
              "tickwidth": 2
             }
            },
            "type": "parcoords"
           }
          ],
          "pie": [
           {
            "automargin": true,
            "type": "pie"
           }
          ],
          "scatter": [
           {
            "fillpattern": {
             "fillmode": "overlay",
             "size": 10,
             "solidity": 0.2
            },
            "type": "scatter"
           }
          ],
          "scatter3d": [
           {
            "line": {
             "colorbar": {
              "outlinewidth": 0,
              "tickcolor": "rgb(36,36,36)",
              "ticklen": 8,
              "ticks": "outside",
              "tickwidth": 2
             }
            },
            "marker": {
             "colorbar": {
              "outlinewidth": 0,
              "tickcolor": "rgb(36,36,36)",
              "ticklen": 8,
              "ticks": "outside",
              "tickwidth": 2
             }
            },
            "type": "scatter3d"
           }
          ],
          "scattercarpet": [
           {
            "marker": {
             "colorbar": {
              "outlinewidth": 0,
              "tickcolor": "rgb(36,36,36)",
              "ticklen": 8,
              "ticks": "outside",
              "tickwidth": 2
             }
            },
            "type": "scattercarpet"
           }
          ],
          "scattergeo": [
           {
            "marker": {
             "colorbar": {
              "outlinewidth": 0,
              "tickcolor": "rgb(36,36,36)",
              "ticklen": 8,
              "ticks": "outside",
              "tickwidth": 2
             }
            },
            "type": "scattergeo"
           }
          ],
          "scattergl": [
           {
            "marker": {
             "colorbar": {
              "outlinewidth": 0,
              "tickcolor": "rgb(36,36,36)",
              "ticklen": 8,
              "ticks": "outside",
              "tickwidth": 2
             }
            },
            "type": "scattergl"
           }
          ],
          "scattermapbox": [
           {
            "marker": {
             "colorbar": {
              "outlinewidth": 0,
              "tickcolor": "rgb(36,36,36)",
              "ticklen": 8,
              "ticks": "outside",
              "tickwidth": 2
             }
            },
            "type": "scattermapbox"
           }
          ],
          "scatterpolar": [
           {
            "marker": {
             "colorbar": {
              "outlinewidth": 0,
              "tickcolor": "rgb(36,36,36)",
              "ticklen": 8,
              "ticks": "outside",
              "tickwidth": 2
             }
            },
            "type": "scatterpolar"
           }
          ],
          "scatterpolargl": [
           {
            "marker": {
             "colorbar": {
              "outlinewidth": 0,
              "tickcolor": "rgb(36,36,36)",
              "ticklen": 8,
              "ticks": "outside",
              "tickwidth": 2
             }
            },
            "type": "scatterpolargl"
           }
          ],
          "scatterternary": [
           {
            "marker": {
             "colorbar": {
              "outlinewidth": 0,
              "tickcolor": "rgb(36,36,36)",
              "ticklen": 8,
              "ticks": "outside",
              "tickwidth": 2
             }
            },
            "type": "scatterternary"
           }
          ],
          "surface": [
           {
            "colorbar": {
             "outlinewidth": 0,
             "tickcolor": "rgb(36,36,36)",
             "ticklen": 8,
             "ticks": "outside",
             "tickwidth": 2
            },
            "colorscale": [
             [
              0,
              "rgb(2,4,25)"
             ],
             [
              0.06274509803921569,
              "rgb(24,15,41)"
             ],
             [
              0.12549019607843137,
              "rgb(47,23,57)"
             ],
             [
              0.18823529411764706,
              "rgb(71,28,72)"
             ],
             [
              0.25098039215686274,
              "rgb(97,30,82)"
             ],
             [
              0.3137254901960784,
              "rgb(123,30,89)"
             ],
             [
              0.3764705882352941,
              "rgb(150,27,91)"
             ],
             [
              0.4392156862745098,
              "rgb(177,22,88)"
             ],
             [
              0.5019607843137255,
              "rgb(203,26,79)"
             ],
             [
              0.5647058823529412,
              "rgb(223,47,67)"
             ],
             [
              0.6274509803921569,
              "rgb(236,76,61)"
             ],
             [
              0.6901960784313725,
              "rgb(242,107,73)"
             ],
             [
              0.7529411764705882,
              "rgb(244,135,95)"
             ],
             [
              0.8156862745098039,
              "rgb(245,162,122)"
             ],
             [
              0.8784313725490196,
              "rgb(246,188,153)"
             ],
             [
              0.9411764705882353,
              "rgb(247,212,187)"
             ],
             [
              1,
              "rgb(250,234,220)"
             ]
            ],
            "type": "surface"
           }
          ],
          "table": [
           {
            "cells": {
             "fill": {
              "color": "rgb(231,231,240)"
             },
             "line": {
              "color": "white"
             }
            },
            "header": {
             "fill": {
              "color": "rgb(183,183,191)"
             },
             "line": {
              "color": "white"
             }
            },
            "type": "table"
           }
          ]
         },
         "layout": {
          "annotationdefaults": {
           "arrowcolor": "rgb(67,103,167)"
          },
          "autotypenumbers": "strict",
          "coloraxis": {
           "colorbar": {
            "outlinewidth": 0,
            "tickcolor": "rgb(36,36,36)",
            "ticklen": 8,
            "ticks": "outside",
            "tickwidth": 2
           }
          },
          "colorscale": {
           "sequential": [
            [
             0,
             "rgb(2,4,25)"
            ],
            [
             0.06274509803921569,
             "rgb(24,15,41)"
            ],
            [
             0.12549019607843137,
             "rgb(47,23,57)"
            ],
            [
             0.18823529411764706,
             "rgb(71,28,72)"
            ],
            [
             0.25098039215686274,
             "rgb(97,30,82)"
            ],
            [
             0.3137254901960784,
             "rgb(123,30,89)"
            ],
            [
             0.3764705882352941,
             "rgb(150,27,91)"
            ],
            [
             0.4392156862745098,
             "rgb(177,22,88)"
            ],
            [
             0.5019607843137255,
             "rgb(203,26,79)"
            ],
            [
             0.5647058823529412,
             "rgb(223,47,67)"
            ],
            [
             0.6274509803921569,
             "rgb(236,76,61)"
            ],
            [
             0.6901960784313725,
             "rgb(242,107,73)"
            ],
            [
             0.7529411764705882,
             "rgb(244,135,95)"
            ],
            [
             0.8156862745098039,
             "rgb(245,162,122)"
            ],
            [
             0.8784313725490196,
             "rgb(246,188,153)"
            ],
            [
             0.9411764705882353,
             "rgb(247,212,187)"
            ],
            [
             1,
             "rgb(250,234,220)"
            ]
           ],
           "sequentialminus": [
            [
             0,
             "rgb(2,4,25)"
            ],
            [
             0.06274509803921569,
             "rgb(24,15,41)"
            ],
            [
             0.12549019607843137,
             "rgb(47,23,57)"
            ],
            [
             0.18823529411764706,
             "rgb(71,28,72)"
            ],
            [
             0.25098039215686274,
             "rgb(97,30,82)"
            ],
            [
             0.3137254901960784,
             "rgb(123,30,89)"
            ],
            [
             0.3764705882352941,
             "rgb(150,27,91)"
            ],
            [
             0.4392156862745098,
             "rgb(177,22,88)"
            ],
            [
             0.5019607843137255,
             "rgb(203,26,79)"
            ],
            [
             0.5647058823529412,
             "rgb(223,47,67)"
            ],
            [
             0.6274509803921569,
             "rgb(236,76,61)"
            ],
            [
             0.6901960784313725,
             "rgb(242,107,73)"
            ],
            [
             0.7529411764705882,
             "rgb(244,135,95)"
            ],
            [
             0.8156862745098039,
             "rgb(245,162,122)"
            ],
            [
             0.8784313725490196,
             "rgb(246,188,153)"
            ],
            [
             0.9411764705882353,
             "rgb(247,212,187)"
            ],
            [
             1,
             "rgb(250,234,220)"
            ]
           ]
          },
          "colorway": [
           "rgb(76,114,176)",
           "rgb(221,132,82)",
           "rgb(85,168,104)",
           "rgb(196,78,82)",
           "rgb(129,114,179)",
           "rgb(147,120,96)",
           "rgb(218,139,195)",
           "rgb(140,140,140)",
           "rgb(204,185,116)",
           "rgb(100,181,205)"
          ],
          "font": {
           "color": "rgb(36,36,36)"
          },
          "geo": {
           "bgcolor": "white",
           "lakecolor": "white",
           "landcolor": "rgb(234,234,242)",
           "showlakes": true,
           "showland": true,
           "subunitcolor": "white"
          },
          "hoverlabel": {
           "align": "left"
          },
          "hovermode": "closest",
          "paper_bgcolor": "white",
          "plot_bgcolor": "rgb(234,234,242)",
          "polar": {
           "angularaxis": {
            "gridcolor": "white",
            "linecolor": "white",
            "showgrid": true,
            "ticks": ""
           },
           "bgcolor": "rgb(234,234,242)",
           "radialaxis": {
            "gridcolor": "white",
            "linecolor": "white",
            "showgrid": true,
            "ticks": ""
           }
          },
          "scene": {
           "xaxis": {
            "backgroundcolor": "rgb(234,234,242)",
            "gridcolor": "white",
            "gridwidth": 2,
            "linecolor": "white",
            "showbackground": true,
            "showgrid": true,
            "ticks": "",
            "zerolinecolor": "white"
           },
           "yaxis": {
            "backgroundcolor": "rgb(234,234,242)",
            "gridcolor": "white",
            "gridwidth": 2,
            "linecolor": "white",
            "showbackground": true,
            "showgrid": true,
            "ticks": "",
            "zerolinecolor": "white"
           },
           "zaxis": {
            "backgroundcolor": "rgb(234,234,242)",
            "gridcolor": "white",
            "gridwidth": 2,
            "linecolor": "white",
            "showbackground": true,
            "showgrid": true,
            "ticks": "",
            "zerolinecolor": "white"
           }
          },
          "shapedefaults": {
           "fillcolor": "rgb(67,103,167)",
           "line": {
            "width": 0
           },
           "opacity": 0.5
          },
          "ternary": {
           "aaxis": {
            "gridcolor": "white",
            "linecolor": "white",
            "showgrid": true,
            "ticks": ""
           },
           "baxis": {
            "gridcolor": "white",
            "linecolor": "white",
            "showgrid": true,
            "ticks": ""
           },
           "bgcolor": "rgb(234,234,242)",
           "caxis": {
            "gridcolor": "white",
            "linecolor": "white",
            "showgrid": true,
            "ticks": ""
           }
          },
          "xaxis": {
           "automargin": true,
           "gridcolor": "white",
           "linecolor": "white",
           "showgrid": true,
           "ticks": "",
           "title": {
            "standoff": 15
           },
           "zerolinecolor": "white"
          },
          "yaxis": {
           "automargin": true,
           "gridcolor": "white",
           "linecolor": "white",
           "showgrid": true,
           "ticks": "",
           "title": {
            "standoff": 15
           },
           "zerolinecolor": "white"
          }
         }
        },
        "title": {
         "text": "Training and validation of BiLSTM-transformer"
        },
        "width": 1200,
        "xaxis": {
         "anchor": "y",
         "domain": [
          0,
          0.475
         ],
         "title": {
          "text": "epochs"
         }
        },
        "xaxis2": {
         "anchor": "y2",
         "domain": [
          0.525,
          1
         ],
         "title": {
          "text": "epochs"
         }
        },
        "yaxis": {
         "anchor": "x",
         "domain": [
          0,
          1
         ],
         "title": {
          "text": "accuracy"
         }
        },
        "yaxis2": {
         "anchor": "x2",
         "domain": [
          0,
          1
         ],
         "title": {
          "text": "accuracy"
         }
        }
       }
      }
     },
     "metadata": {},
     "output_type": "display_data"
    }
   ],
   "source": [
    "bilstm_transformer = AmazonReviewsModel(\n",
    "    2000, 128, LSTM, num_recurrent_layers=4, dropout=0.2, ffn_dims=[128, 64], name='BiLSTM-transformer', num_transformers=3, bidirectional=True)\n",
    "_, fig = bilstm_transformer.train(dataset, f'{MODEL_PATH}/{bilstm_transformer.name}.weights.h5', **train_default)\n",
    "print(bilstm_transformer.evaluate(dataset.X_test, dataset.y_test))\n",
    "fig"
   ]
  },
  {
   "cell_type": "code",
   "execution_count": 14,
   "metadata": {},
   "outputs": [
    {
     "name": "stdout",
     "output_type": "stream",
     "text": [
      "Epoch 1/30\n",
      "40/40 [==============================] - 30s 347ms/step - loss: 0.5078 - accuracy: 0.7297 - val_loss: 0.3155 - val_accuracy: 0.8704\n",
      "Epoch 2/30\n",
      "40/40 [==============================] - 7s 186ms/step - loss: 0.2673 - accuracy: 0.8927 - val_loss: 0.2799 - val_accuracy: 0.8860\n",
      "Epoch 3/30\n",
      "40/40 [==============================] - 7s 179ms/step - loss: 0.2053 - accuracy: 0.9190 - val_loss: 0.3133 - val_accuracy: 0.8748\n",
      "Epoch 4/30\n",
      "40/40 [==============================] - 7s 178ms/step - loss: 0.1700 - accuracy: 0.9347 - val_loss: 0.3381 - val_accuracy: 0.8726\n",
      "Epoch 5/30\n",
      "40/40 [==============================] - 7s 178ms/step - loss: 0.1338 - accuracy: 0.9495 - val_loss: 0.3379 - val_accuracy: 0.8808\n",
      "Epoch 6/30\n",
      "40/40 [==============================] - 7s 175ms/step - loss: 0.1054 - accuracy: 0.9628 - val_loss: 0.3902 - val_accuracy: 0.8776\n",
      "Epoch 7/30\n",
      "40/40 [==============================] - 7s 176ms/step - loss: 0.0774 - accuracy: 0.9730 - val_loss: 0.4321 - val_accuracy: 0.8666\n",
      "[0.299507200717926, 0.8766000270843506]\n"
     ]
    },
    {
     "data": {
      "application/vnd.plotly.v1+json": {
       "config": {
        "plotlyServerURL": "https://plot.ly"
       },
       "data": [
        {
         "line": {
          "color": "#636EFA"
         },
         "marker": {
          "color": "#636EFA"
         },
         "mode": "lines+markers",
         "name": "train",
         "showlegend": true,
         "type": "scatter",
         "x": [
          1,
          2,
          3,
          4,
          5,
          6,
          7
         ],
         "xaxis": "x",
         "y": [
          0.5077610015869141,
          0.2672508656978607,
          0.20529401302337646,
          0.16997209191322327,
          0.13383448123931885,
          0.10542038828134537,
          0.0773853063583374
         ],
         "yaxis": "y"
        },
        {
         "line": {
          "color": "#EF553B"
         },
         "marker": {
          "color": "#EF553B"
         },
         "mode": "lines+markers",
         "name": "val",
         "showlegend": true,
         "type": "scatter",
         "x": [
          1,
          2,
          3,
          4,
          5,
          6,
          7
         ],
         "xaxis": "x",
         "y": [
          0.315503865480423,
          0.2799014151096344,
          0.31328514218330383,
          0.3380717933177948,
          0.33788925409317017,
          0.3902290165424347,
          0.43208613991737366
         ],
         "yaxis": "y"
        },
        {
         "line": {
          "color": "#636EFA"
         },
         "marker": {
          "color": "#636EFA"
         },
         "mode": "lines+markers",
         "name": "train",
         "showlegend": false,
         "type": "scatter",
         "x": [
          1,
          2,
          3,
          4,
          5,
          6,
          7
         ],
         "xaxis": "x2",
         "y": [
          0.7297499775886536,
          0.8926500082015991,
          0.9190000295639038,
          0.9347000122070312,
          0.9495000243186951,
          0.9628000259399414,
          0.9730499982833862
         ],
         "yaxis": "y2"
        },
        {
         "line": {
          "color": "#EF553B"
         },
         "marker": {
          "color": "#EF553B"
         },
         "mode": "lines+markers",
         "name": "val",
         "showlegend": false,
         "type": "scatter",
         "x": [
          1,
          2,
          3,
          4,
          5,
          6,
          7
         ],
         "xaxis": "x2",
         "y": [
          0.8704000115394592,
          0.8859999775886536,
          0.8748000264167786,
          0.8726000189781189,
          0.8808000087738037,
          0.8776000142097473,
          0.866599977016449
         ],
         "yaxis": "y2"
        }
       ],
       "layout": {
        "annotations": [
         {
          "font": {
           "size": 16
          },
          "showarrow": false,
          "text": "loss",
          "x": 0.2375,
          "xanchor": "center",
          "xref": "paper",
          "y": 1,
          "yanchor": "bottom",
          "yref": "paper"
         },
         {
          "font": {
           "size": 16
          },
          "showarrow": false,
          "text": "accuracy",
          "x": 0.7625,
          "xanchor": "center",
          "xref": "paper",
          "y": 1,
          "yanchor": "bottom",
          "yref": "paper"
         }
        ],
        "height": 400,
        "margin": {
         "b": 10,
         "l": 10,
         "r": 10,
         "t": 50
        },
        "template": {
         "data": {
          "bar": [
           {
            "error_x": {
             "color": "rgb(36,36,36)"
            },
            "error_y": {
             "color": "rgb(36,36,36)"
            },
            "marker": {
             "line": {
              "color": "rgb(234,234,242)",
              "width": 0.5
             },
             "pattern": {
              "fillmode": "overlay",
              "size": 10,
              "solidity": 0.2
             }
            },
            "type": "bar"
           }
          ],
          "barpolar": [
           {
            "marker": {
             "line": {
              "color": "rgb(234,234,242)",
              "width": 0.5
             },
             "pattern": {
              "fillmode": "overlay",
              "size": 10,
              "solidity": 0.2
             }
            },
            "type": "barpolar"
           }
          ],
          "carpet": [
           {
            "aaxis": {
             "endlinecolor": "rgb(36,36,36)",
             "gridcolor": "white",
             "linecolor": "white",
             "minorgridcolor": "white",
             "startlinecolor": "rgb(36,36,36)"
            },
            "baxis": {
             "endlinecolor": "rgb(36,36,36)",
             "gridcolor": "white",
             "linecolor": "white",
             "minorgridcolor": "white",
             "startlinecolor": "rgb(36,36,36)"
            },
            "type": "carpet"
           }
          ],
          "choropleth": [
           {
            "colorbar": {
             "outlinewidth": 0,
             "tickcolor": "rgb(36,36,36)",
             "ticklen": 8,
             "ticks": "outside",
             "tickwidth": 2
            },
            "type": "choropleth"
           }
          ],
          "contour": [
           {
            "colorbar": {
             "outlinewidth": 0,
             "tickcolor": "rgb(36,36,36)",
             "ticklen": 8,
             "ticks": "outside",
             "tickwidth": 2
            },
            "colorscale": [
             [
              0,
              "rgb(2,4,25)"
             ],
             [
              0.06274509803921569,
              "rgb(24,15,41)"
             ],
             [
              0.12549019607843137,
              "rgb(47,23,57)"
             ],
             [
              0.18823529411764706,
              "rgb(71,28,72)"
             ],
             [
              0.25098039215686274,
              "rgb(97,30,82)"
             ],
             [
              0.3137254901960784,
              "rgb(123,30,89)"
             ],
             [
              0.3764705882352941,
              "rgb(150,27,91)"
             ],
             [
              0.4392156862745098,
              "rgb(177,22,88)"
             ],
             [
              0.5019607843137255,
              "rgb(203,26,79)"
             ],
             [
              0.5647058823529412,
              "rgb(223,47,67)"
             ],
             [
              0.6274509803921569,
              "rgb(236,76,61)"
             ],
             [
              0.6901960784313725,
              "rgb(242,107,73)"
             ],
             [
              0.7529411764705882,
              "rgb(244,135,95)"
             ],
             [
              0.8156862745098039,
              "rgb(245,162,122)"
             ],
             [
              0.8784313725490196,
              "rgb(246,188,153)"
             ],
             [
              0.9411764705882353,
              "rgb(247,212,187)"
             ],
             [
              1,
              "rgb(250,234,220)"
             ]
            ],
            "type": "contour"
           }
          ],
          "contourcarpet": [
           {
            "colorbar": {
             "outlinewidth": 0,
             "tickcolor": "rgb(36,36,36)",
             "ticklen": 8,
             "ticks": "outside",
             "tickwidth": 2
            },
            "type": "contourcarpet"
           }
          ],
          "heatmap": [
           {
            "colorbar": {
             "outlinewidth": 0,
             "tickcolor": "rgb(36,36,36)",
             "ticklen": 8,
             "ticks": "outside",
             "tickwidth": 2
            },
            "colorscale": [
             [
              0,
              "rgb(2,4,25)"
             ],
             [
              0.06274509803921569,
              "rgb(24,15,41)"
             ],
             [
              0.12549019607843137,
              "rgb(47,23,57)"
             ],
             [
              0.18823529411764706,
              "rgb(71,28,72)"
             ],
             [
              0.25098039215686274,
              "rgb(97,30,82)"
             ],
             [
              0.3137254901960784,
              "rgb(123,30,89)"
             ],
             [
              0.3764705882352941,
              "rgb(150,27,91)"
             ],
             [
              0.4392156862745098,
              "rgb(177,22,88)"
             ],
             [
              0.5019607843137255,
              "rgb(203,26,79)"
             ],
             [
              0.5647058823529412,
              "rgb(223,47,67)"
             ],
             [
              0.6274509803921569,
              "rgb(236,76,61)"
             ],
             [
              0.6901960784313725,
              "rgb(242,107,73)"
             ],
             [
              0.7529411764705882,
              "rgb(244,135,95)"
             ],
             [
              0.8156862745098039,
              "rgb(245,162,122)"
             ],
             [
              0.8784313725490196,
              "rgb(246,188,153)"
             ],
             [
              0.9411764705882353,
              "rgb(247,212,187)"
             ],
             [
              1,
              "rgb(250,234,220)"
             ]
            ],
            "type": "heatmap"
           }
          ],
          "heatmapgl": [
           {
            "colorbar": {
             "outlinewidth": 0,
             "tickcolor": "rgb(36,36,36)",
             "ticklen": 8,
             "ticks": "outside",
             "tickwidth": 2
            },
            "colorscale": [
             [
              0,
              "rgb(2,4,25)"
             ],
             [
              0.06274509803921569,
              "rgb(24,15,41)"
             ],
             [
              0.12549019607843137,
              "rgb(47,23,57)"
             ],
             [
              0.18823529411764706,
              "rgb(71,28,72)"
             ],
             [
              0.25098039215686274,
              "rgb(97,30,82)"
             ],
             [
              0.3137254901960784,
              "rgb(123,30,89)"
             ],
             [
              0.3764705882352941,
              "rgb(150,27,91)"
             ],
             [
              0.4392156862745098,
              "rgb(177,22,88)"
             ],
             [
              0.5019607843137255,
              "rgb(203,26,79)"
             ],
             [
              0.5647058823529412,
              "rgb(223,47,67)"
             ],
             [
              0.6274509803921569,
              "rgb(236,76,61)"
             ],
             [
              0.6901960784313725,
              "rgb(242,107,73)"
             ],
             [
              0.7529411764705882,
              "rgb(244,135,95)"
             ],
             [
              0.8156862745098039,
              "rgb(245,162,122)"
             ],
             [
              0.8784313725490196,
              "rgb(246,188,153)"
             ],
             [
              0.9411764705882353,
              "rgb(247,212,187)"
             ],
             [
              1,
              "rgb(250,234,220)"
             ]
            ],
            "type": "heatmapgl"
           }
          ],
          "histogram": [
           {
            "marker": {
             "pattern": {
              "fillmode": "overlay",
              "size": 10,
              "solidity": 0.2
             }
            },
            "type": "histogram"
           }
          ],
          "histogram2d": [
           {
            "colorbar": {
             "outlinewidth": 0,
             "tickcolor": "rgb(36,36,36)",
             "ticklen": 8,
             "ticks": "outside",
             "tickwidth": 2
            },
            "colorscale": [
             [
              0,
              "rgb(2,4,25)"
             ],
             [
              0.06274509803921569,
              "rgb(24,15,41)"
             ],
             [
              0.12549019607843137,
              "rgb(47,23,57)"
             ],
             [
              0.18823529411764706,
              "rgb(71,28,72)"
             ],
             [
              0.25098039215686274,
              "rgb(97,30,82)"
             ],
             [
              0.3137254901960784,
              "rgb(123,30,89)"
             ],
             [
              0.3764705882352941,
              "rgb(150,27,91)"
             ],
             [
              0.4392156862745098,
              "rgb(177,22,88)"
             ],
             [
              0.5019607843137255,
              "rgb(203,26,79)"
             ],
             [
              0.5647058823529412,
              "rgb(223,47,67)"
             ],
             [
              0.6274509803921569,
              "rgb(236,76,61)"
             ],
             [
              0.6901960784313725,
              "rgb(242,107,73)"
             ],
             [
              0.7529411764705882,
              "rgb(244,135,95)"
             ],
             [
              0.8156862745098039,
              "rgb(245,162,122)"
             ],
             [
              0.8784313725490196,
              "rgb(246,188,153)"
             ],
             [
              0.9411764705882353,
              "rgb(247,212,187)"
             ],
             [
              1,
              "rgb(250,234,220)"
             ]
            ],
            "type": "histogram2d"
           }
          ],
          "histogram2dcontour": [
           {
            "colorbar": {
             "outlinewidth": 0,
             "tickcolor": "rgb(36,36,36)",
             "ticklen": 8,
             "ticks": "outside",
             "tickwidth": 2
            },
            "colorscale": [
             [
              0,
              "rgb(2,4,25)"
             ],
             [
              0.06274509803921569,
              "rgb(24,15,41)"
             ],
             [
              0.12549019607843137,
              "rgb(47,23,57)"
             ],
             [
              0.18823529411764706,
              "rgb(71,28,72)"
             ],
             [
              0.25098039215686274,
              "rgb(97,30,82)"
             ],
             [
              0.3137254901960784,
              "rgb(123,30,89)"
             ],
             [
              0.3764705882352941,
              "rgb(150,27,91)"
             ],
             [
              0.4392156862745098,
              "rgb(177,22,88)"
             ],
             [
              0.5019607843137255,
              "rgb(203,26,79)"
             ],
             [
              0.5647058823529412,
              "rgb(223,47,67)"
             ],
             [
              0.6274509803921569,
              "rgb(236,76,61)"
             ],
             [
              0.6901960784313725,
              "rgb(242,107,73)"
             ],
             [
              0.7529411764705882,
              "rgb(244,135,95)"
             ],
             [
              0.8156862745098039,
              "rgb(245,162,122)"
             ],
             [
              0.8784313725490196,
              "rgb(246,188,153)"
             ],
             [
              0.9411764705882353,
              "rgb(247,212,187)"
             ],
             [
              1,
              "rgb(250,234,220)"
             ]
            ],
            "type": "histogram2dcontour"
           }
          ],
          "mesh3d": [
           {
            "colorbar": {
             "outlinewidth": 0,
             "tickcolor": "rgb(36,36,36)",
             "ticklen": 8,
             "ticks": "outside",
             "tickwidth": 2
            },
            "type": "mesh3d"
           }
          ],
          "parcoords": [
           {
            "line": {
             "colorbar": {
              "outlinewidth": 0,
              "tickcolor": "rgb(36,36,36)",
              "ticklen": 8,
              "ticks": "outside",
              "tickwidth": 2
             }
            },
            "type": "parcoords"
           }
          ],
          "pie": [
           {
            "automargin": true,
            "type": "pie"
           }
          ],
          "scatter": [
           {
            "fillpattern": {
             "fillmode": "overlay",
             "size": 10,
             "solidity": 0.2
            },
            "type": "scatter"
           }
          ],
          "scatter3d": [
           {
            "line": {
             "colorbar": {
              "outlinewidth": 0,
              "tickcolor": "rgb(36,36,36)",
              "ticklen": 8,
              "ticks": "outside",
              "tickwidth": 2
             }
            },
            "marker": {
             "colorbar": {
              "outlinewidth": 0,
              "tickcolor": "rgb(36,36,36)",
              "ticklen": 8,
              "ticks": "outside",
              "tickwidth": 2
             }
            },
            "type": "scatter3d"
           }
          ],
          "scattercarpet": [
           {
            "marker": {
             "colorbar": {
              "outlinewidth": 0,
              "tickcolor": "rgb(36,36,36)",
              "ticklen": 8,
              "ticks": "outside",
              "tickwidth": 2
             }
            },
            "type": "scattercarpet"
           }
          ],
          "scattergeo": [
           {
            "marker": {
             "colorbar": {
              "outlinewidth": 0,
              "tickcolor": "rgb(36,36,36)",
              "ticklen": 8,
              "ticks": "outside",
              "tickwidth": 2
             }
            },
            "type": "scattergeo"
           }
          ],
          "scattergl": [
           {
            "marker": {
             "colorbar": {
              "outlinewidth": 0,
              "tickcolor": "rgb(36,36,36)",
              "ticklen": 8,
              "ticks": "outside",
              "tickwidth": 2
             }
            },
            "type": "scattergl"
           }
          ],
          "scattermapbox": [
           {
            "marker": {
             "colorbar": {
              "outlinewidth": 0,
              "tickcolor": "rgb(36,36,36)",
              "ticklen": 8,
              "ticks": "outside",
              "tickwidth": 2
             }
            },
            "type": "scattermapbox"
           }
          ],
          "scatterpolar": [
           {
            "marker": {
             "colorbar": {
              "outlinewidth": 0,
              "tickcolor": "rgb(36,36,36)",
              "ticklen": 8,
              "ticks": "outside",
              "tickwidth": 2
             }
            },
            "type": "scatterpolar"
           }
          ],
          "scatterpolargl": [
           {
            "marker": {
             "colorbar": {
              "outlinewidth": 0,
              "tickcolor": "rgb(36,36,36)",
              "ticklen": 8,
              "ticks": "outside",
              "tickwidth": 2
             }
            },
            "type": "scatterpolargl"
           }
          ],
          "scatterternary": [
           {
            "marker": {
             "colorbar": {
              "outlinewidth": 0,
              "tickcolor": "rgb(36,36,36)",
              "ticklen": 8,
              "ticks": "outside",
              "tickwidth": 2
             }
            },
            "type": "scatterternary"
           }
          ],
          "surface": [
           {
            "colorbar": {
             "outlinewidth": 0,
             "tickcolor": "rgb(36,36,36)",
             "ticklen": 8,
             "ticks": "outside",
             "tickwidth": 2
            },
            "colorscale": [
             [
              0,
              "rgb(2,4,25)"
             ],
             [
              0.06274509803921569,
              "rgb(24,15,41)"
             ],
             [
              0.12549019607843137,
              "rgb(47,23,57)"
             ],
             [
              0.18823529411764706,
              "rgb(71,28,72)"
             ],
             [
              0.25098039215686274,
              "rgb(97,30,82)"
             ],
             [
              0.3137254901960784,
              "rgb(123,30,89)"
             ],
             [
              0.3764705882352941,
              "rgb(150,27,91)"
             ],
             [
              0.4392156862745098,
              "rgb(177,22,88)"
             ],
             [
              0.5019607843137255,
              "rgb(203,26,79)"
             ],
             [
              0.5647058823529412,
              "rgb(223,47,67)"
             ],
             [
              0.6274509803921569,
              "rgb(236,76,61)"
             ],
             [
              0.6901960784313725,
              "rgb(242,107,73)"
             ],
             [
              0.7529411764705882,
              "rgb(244,135,95)"
             ],
             [
              0.8156862745098039,
              "rgb(245,162,122)"
             ],
             [
              0.8784313725490196,
              "rgb(246,188,153)"
             ],
             [
              0.9411764705882353,
              "rgb(247,212,187)"
             ],
             [
              1,
              "rgb(250,234,220)"
             ]
            ],
            "type": "surface"
           }
          ],
          "table": [
           {
            "cells": {
             "fill": {
              "color": "rgb(231,231,240)"
             },
             "line": {
              "color": "white"
             }
            },
            "header": {
             "fill": {
              "color": "rgb(183,183,191)"
             },
             "line": {
              "color": "white"
             }
            },
            "type": "table"
           }
          ]
         },
         "layout": {
          "annotationdefaults": {
           "arrowcolor": "rgb(67,103,167)"
          },
          "autotypenumbers": "strict",
          "coloraxis": {
           "colorbar": {
            "outlinewidth": 0,
            "tickcolor": "rgb(36,36,36)",
            "ticklen": 8,
            "ticks": "outside",
            "tickwidth": 2
           }
          },
          "colorscale": {
           "sequential": [
            [
             0,
             "rgb(2,4,25)"
            ],
            [
             0.06274509803921569,
             "rgb(24,15,41)"
            ],
            [
             0.12549019607843137,
             "rgb(47,23,57)"
            ],
            [
             0.18823529411764706,
             "rgb(71,28,72)"
            ],
            [
             0.25098039215686274,
             "rgb(97,30,82)"
            ],
            [
             0.3137254901960784,
             "rgb(123,30,89)"
            ],
            [
             0.3764705882352941,
             "rgb(150,27,91)"
            ],
            [
             0.4392156862745098,
             "rgb(177,22,88)"
            ],
            [
             0.5019607843137255,
             "rgb(203,26,79)"
            ],
            [
             0.5647058823529412,
             "rgb(223,47,67)"
            ],
            [
             0.6274509803921569,
             "rgb(236,76,61)"
            ],
            [
             0.6901960784313725,
             "rgb(242,107,73)"
            ],
            [
             0.7529411764705882,
             "rgb(244,135,95)"
            ],
            [
             0.8156862745098039,
             "rgb(245,162,122)"
            ],
            [
             0.8784313725490196,
             "rgb(246,188,153)"
            ],
            [
             0.9411764705882353,
             "rgb(247,212,187)"
            ],
            [
             1,
             "rgb(250,234,220)"
            ]
           ],
           "sequentialminus": [
            [
             0,
             "rgb(2,4,25)"
            ],
            [
             0.06274509803921569,
             "rgb(24,15,41)"
            ],
            [
             0.12549019607843137,
             "rgb(47,23,57)"
            ],
            [
             0.18823529411764706,
             "rgb(71,28,72)"
            ],
            [
             0.25098039215686274,
             "rgb(97,30,82)"
            ],
            [
             0.3137254901960784,
             "rgb(123,30,89)"
            ],
            [
             0.3764705882352941,
             "rgb(150,27,91)"
            ],
            [
             0.4392156862745098,
             "rgb(177,22,88)"
            ],
            [
             0.5019607843137255,
             "rgb(203,26,79)"
            ],
            [
             0.5647058823529412,
             "rgb(223,47,67)"
            ],
            [
             0.6274509803921569,
             "rgb(236,76,61)"
            ],
            [
             0.6901960784313725,
             "rgb(242,107,73)"
            ],
            [
             0.7529411764705882,
             "rgb(244,135,95)"
            ],
            [
             0.8156862745098039,
             "rgb(245,162,122)"
            ],
            [
             0.8784313725490196,
             "rgb(246,188,153)"
            ],
            [
             0.9411764705882353,
             "rgb(247,212,187)"
            ],
            [
             1,
             "rgb(250,234,220)"
            ]
           ]
          },
          "colorway": [
           "rgb(76,114,176)",
           "rgb(221,132,82)",
           "rgb(85,168,104)",
           "rgb(196,78,82)",
           "rgb(129,114,179)",
           "rgb(147,120,96)",
           "rgb(218,139,195)",
           "rgb(140,140,140)",
           "rgb(204,185,116)",
           "rgb(100,181,205)"
          ],
          "font": {
           "color": "rgb(36,36,36)"
          },
          "geo": {
           "bgcolor": "white",
           "lakecolor": "white",
           "landcolor": "rgb(234,234,242)",
           "showlakes": true,
           "showland": true,
           "subunitcolor": "white"
          },
          "hoverlabel": {
           "align": "left"
          },
          "hovermode": "closest",
          "paper_bgcolor": "white",
          "plot_bgcolor": "rgb(234,234,242)",
          "polar": {
           "angularaxis": {
            "gridcolor": "white",
            "linecolor": "white",
            "showgrid": true,
            "ticks": ""
           },
           "bgcolor": "rgb(234,234,242)",
           "radialaxis": {
            "gridcolor": "white",
            "linecolor": "white",
            "showgrid": true,
            "ticks": ""
           }
          },
          "scene": {
           "xaxis": {
            "backgroundcolor": "rgb(234,234,242)",
            "gridcolor": "white",
            "gridwidth": 2,
            "linecolor": "white",
            "showbackground": true,
            "showgrid": true,
            "ticks": "",
            "zerolinecolor": "white"
           },
           "yaxis": {
            "backgroundcolor": "rgb(234,234,242)",
            "gridcolor": "white",
            "gridwidth": 2,
            "linecolor": "white",
            "showbackground": true,
            "showgrid": true,
            "ticks": "",
            "zerolinecolor": "white"
           },
           "zaxis": {
            "backgroundcolor": "rgb(234,234,242)",
            "gridcolor": "white",
            "gridwidth": 2,
            "linecolor": "white",
            "showbackground": true,
            "showgrid": true,
            "ticks": "",
            "zerolinecolor": "white"
           }
          },
          "shapedefaults": {
           "fillcolor": "rgb(67,103,167)",
           "line": {
            "width": 0
           },
           "opacity": 0.5
          },
          "ternary": {
           "aaxis": {
            "gridcolor": "white",
            "linecolor": "white",
            "showgrid": true,
            "ticks": ""
           },
           "baxis": {
            "gridcolor": "white",
            "linecolor": "white",
            "showgrid": true,
            "ticks": ""
           },
           "bgcolor": "rgb(234,234,242)",
           "caxis": {
            "gridcolor": "white",
            "linecolor": "white",
            "showgrid": true,
            "ticks": ""
           }
          },
          "xaxis": {
           "automargin": true,
           "gridcolor": "white",
           "linecolor": "white",
           "showgrid": true,
           "ticks": "",
           "title": {
            "standoff": 15
           },
           "zerolinecolor": "white"
          },
          "yaxis": {
           "automargin": true,
           "gridcolor": "white",
           "linecolor": "white",
           "showgrid": true,
           "ticks": "",
           "title": {
            "standoff": 15
           },
           "zerolinecolor": "white"
          }
         }
        },
        "title": {
         "text": "Training and validation of BiGRU-transformer"
        },
        "width": 1200,
        "xaxis": {
         "anchor": "y",
         "domain": [
          0,
          0.475
         ],
         "title": {
          "text": "epochs"
         }
        },
        "xaxis2": {
         "anchor": "y2",
         "domain": [
          0.525,
          1
         ],
         "title": {
          "text": "epochs"
         }
        },
        "yaxis": {
         "anchor": "x",
         "domain": [
          0,
          1
         ],
         "title": {
          "text": "accuracy"
         }
        },
        "yaxis2": {
         "anchor": "x2",
         "domain": [
          0,
          1
         ],
         "title": {
          "text": "accuracy"
         }
        }
       }
      }
     },
     "metadata": {},
     "output_type": "display_data"
    }
   ],
   "source": [
    "bigru_transformer = AmazonReviewsModel(\n",
    "    2000, 128, GRU, num_recurrent_layers=4, dropout=0.2, ffn_dims=[128, 64], name='BiGRU-transformer', num_transformers=3, bidirectional=True)\n",
    "_, fig = bigru_transformer.train(dataset, f'{MODEL_PATH}/{bigru_transformer.name}.weights.h5', **train_default)\n",
    "print(bigru_transformer.evaluate(dataset.X_test, dataset.y_test))\n",
    "fig"
   ]
  },
  {
   "cell_type": "markdown",
   "metadata": {},
   "source": [
    "## Optimal configuration of the recurrent architecture \n",
    "\n",
    "In this section we experimented with the regularization options of the full network. We tested the performance of different weight regularizers, initializers and optimizers. The cell below shows the deployment of the hyperaparameter search and the final result:"
   ]
  },
  {
   "cell_type": "code",
   "execution_count": 7,
   "metadata": {},
   "outputs": [
    {
     "name": "stdout",
     "output_type": "stream",
     "text": [
      "Epoch 1/30\n"
     ]
    },
    {
     "name": "stderr",
     "output_type": "stream",
     "text": [
      "2024-04-16 21:14:06.881627: W tensorflow/core/common_runtime/type_inference.cc:339] Type inference failed. This indicates an invalid graph that escaped type checking. Error message: INVALID_ARGUMENT: expected compatible input types, but input 1:\n",
      "type_id: TFT_OPTIONAL\n",
      "args {\n",
      "  type_id: TFT_PRODUCT\n",
      "  args {\n",
      "    type_id: TFT_TENSOR\n",
      "    args {\n",
      "      type_id: TFT_INT32\n",
      "    }\n",
      "  }\n",
      "}\n",
      " is neither a subtype nor a supertype of the combined inputs preceding it:\n",
      "type_id: TFT_OPTIONAL\n",
      "args {\n",
      "  type_id: TFT_PRODUCT\n",
      "  args {\n",
      "    type_id: TFT_TENSOR\n",
      "    args {\n",
      "      type_id: TFT_FLOAT\n",
      "    }\n",
      "  }\n",
      "}\n",
      "\n",
      "\tfor Tuple type infernce function 0\n",
      "\twhile inferring type of node 'cond_20/output/_23'\n"
     ]
    },
    {
     "name": "stdout",
     "output_type": "stream",
     "text": [
      "40/40 [==============================] - 30s 316ms/step - loss: 2.3581 - accuracy: 0.6909 - val_loss: 1.5002 - val_accuracy: 0.8492\n",
      "Epoch 2/30\n",
      "40/40 [==============================] - 8s 189ms/step - loss: 1.0877 - accuracy: 0.8837 - val_loss: 0.8010 - val_accuracy: 0.8820\n",
      "Epoch 3/30\n",
      "40/40 [==============================] - 8s 189ms/step - loss: 0.6221 - accuracy: 0.9061 - val_loss: 0.5827 - val_accuracy: 0.8656\n",
      "Epoch 4/30\n",
      "40/40 [==============================] - 7s 186ms/step - loss: 0.4317 - accuracy: 0.9193 - val_loss: 0.4760 - val_accuracy: 0.8782\n",
      "Epoch 5/30\n",
      "40/40 [==============================] - 7s 183ms/step - loss: 0.3388 - accuracy: 0.9319 - val_loss: 0.4800 - val_accuracy: 0.8764\n",
      "Epoch 6/30\n",
      "40/40 [==============================] - 7s 185ms/step - loss: 0.2874 - accuracy: 0.9364 - val_loss: 0.4573 - val_accuracy: 0.8686\n",
      "Epoch 7/30\n",
      "40/40 [==============================] - 7s 187ms/step - loss: 0.2460 - accuracy: 0.9445 - val_loss: 0.4373 - val_accuracy: 0.8712\n",
      "Epoch 8/30\n",
      "40/40 [==============================] - 7s 185ms/step - loss: 0.2223 - accuracy: 0.9478 - val_loss: 0.4109 - val_accuracy: 0.8602\n",
      "Epoch 9/30\n",
      "40/40 [==============================] - 7s 181ms/step - loss: 0.1978 - accuracy: 0.9532 - val_loss: 0.4563 - val_accuracy: 0.8642\n",
      "Epoch 10/30\n",
      "40/40 [==============================] - 7s 178ms/step - loss: 0.1809 - accuracy: 0.9579 - val_loss: 0.4530 - val_accuracy: 0.8634\n",
      "Epoch 11/30\n",
      "40/40 [==============================] - 7s 179ms/step - loss: 0.1570 - accuracy: 0.9634 - val_loss: 0.5290 - val_accuracy: 0.8632\n",
      "Epoch 12/30\n",
      "40/40 [==============================] - 7s 179ms/step - loss: 0.1416 - accuracy: 0.9678 - val_loss: 0.4897 - val_accuracy: 0.8508\n",
      "Epoch 13/30\n",
      "40/40 [==============================] - 7s 180ms/step - loss: 0.1283 - accuracy: 0.9718 - val_loss: 0.5898 - val_accuracy: 0.8598\n"
     ]
    },
    {
     "name": "stderr",
     "output_type": "stream",
     "text": [
      "/tmp/ipykernel_176921/3694702910.py:36: PerformanceWarning:\n",
      "\n",
      "indexing past lexsort depth may impact performance.\n",
      "\n"
     ]
    },
    {
     "name": "stdout",
     "output_type": "stream",
     "text": [
      "Epoch 1/30\n",
      "40/40 [==============================] - 30s 305ms/step - loss: 2.9530 - accuracy: 0.5293 - val_loss: 2.6154 - val_accuracy: 0.4974\n",
      "Epoch 2/30\n",
      "40/40 [==============================] - 7s 182ms/step - loss: 2.2816 - accuracy: 0.6652 - val_loss: 1.8712 - val_accuracy: 0.7808\n",
      "Epoch 3/30\n",
      "40/40 [==============================] - 7s 185ms/step - loss: 1.6898 - accuracy: 0.7818 - val_loss: 1.3740 - val_accuracy: 0.8402\n",
      "Epoch 4/30\n",
      "40/40 [==============================] - 7s 181ms/step - loss: 1.2613 - accuracy: 0.8296 - val_loss: 1.0538 - val_accuracy: 0.8478\n",
      "Epoch 5/30\n",
      "40/40 [==============================] - 7s 182ms/step - loss: 0.9129 - accuracy: 0.8688 - val_loss: 0.8038 - val_accuracy: 0.8594\n",
      "Epoch 6/30\n",
      "40/40 [==============================] - 7s 182ms/step - loss: 0.6825 - accuracy: 0.8850 - val_loss: 0.6668 - val_accuracy: 0.8576\n",
      "Epoch 7/30\n",
      "40/40 [==============================] - 7s 183ms/step - loss: 0.5317 - accuracy: 0.8927 - val_loss: 0.5277 - val_accuracy: 0.8784\n",
      "Epoch 8/30\n",
      "40/40 [==============================] - 7s 183ms/step - loss: 0.4300 - accuracy: 0.8972 - val_loss: 0.4478 - val_accuracy: 0.8788\n",
      "Epoch 9/30\n",
      "40/40 [==============================] - 7s 184ms/step - loss: 0.3540 - accuracy: 0.9083 - val_loss: 0.4164 - val_accuracy: 0.8676\n",
      "Epoch 10/30\n",
      "40/40 [==============================] - 7s 183ms/step - loss: 0.3153 - accuracy: 0.9101 - val_loss: 0.3652 - val_accuracy: 0.8808\n",
      "Epoch 11/30\n",
      "40/40 [==============================] - 7s 180ms/step - loss: 0.2778 - accuracy: 0.9176 - val_loss: 0.3685 - val_accuracy: 0.8830\n",
      "Epoch 12/30\n",
      "40/40 [==============================] - 7s 183ms/step - loss: 0.2578 - accuracy: 0.9207 - val_loss: 0.3412 - val_accuracy: 0.8804\n",
      "Epoch 13/30\n",
      "40/40 [==============================] - 7s 183ms/step - loss: 0.2340 - accuracy: 0.9276 - val_loss: 0.3291 - val_accuracy: 0.8826\n",
      "Epoch 14/30\n",
      "40/40 [==============================] - 7s 182ms/step - loss: 0.2225 - accuracy: 0.9301 - val_loss: 0.3696 - val_accuracy: 0.8784\n",
      "Epoch 15/30\n",
      "40/40 [==============================] - 7s 179ms/step - loss: 0.2077 - accuracy: 0.9376 - val_loss: 0.3732 - val_accuracy: 0.8700\n",
      "Epoch 16/30\n",
      "40/40 [==============================] - 7s 179ms/step - loss: 0.2041 - accuracy: 0.9384 - val_loss: 0.3888 - val_accuracy: 0.8718\n",
      "Epoch 17/30\n",
      "40/40 [==============================] - 7s 176ms/step - loss: 0.1872 - accuracy: 0.9449 - val_loss: 0.3917 - val_accuracy: 0.8714\n",
      "Epoch 18/30\n",
      "40/40 [==============================] - 7s 177ms/step - loss: 0.1796 - accuracy: 0.9469 - val_loss: 0.4991 - val_accuracy: 0.8492\n"
     ]
    },
    {
     "name": "stderr",
     "output_type": "stream",
     "text": [
      "/tmp/ipykernel_176921/3694702910.py:36: PerformanceWarning:\n",
      "\n",
      "indexing past lexsort depth may impact performance.\n",
      "\n"
     ]
    },
    {
     "name": "stdout",
     "output_type": "stream",
     "text": [
      "Epoch 1/30\n",
      "40/40 [==============================] - 31s 318ms/step - loss: 2.6004 - accuracy: 0.6840 - val_loss: 1.6413 - val_accuracy: 0.8614\n",
      "Epoch 2/30\n",
      "40/40 [==============================] - 8s 190ms/step - loss: 1.1510 - accuracy: 0.8839 - val_loss: 0.8009 - val_accuracy: 0.8834\n",
      "Epoch 3/30\n",
      "40/40 [==============================] - 8s 192ms/step - loss: 0.6201 - accuracy: 0.9084 - val_loss: 0.5797 - val_accuracy: 0.8826\n",
      "Epoch 4/30\n",
      "40/40 [==============================] - 7s 186ms/step - loss: 0.4496 - accuracy: 0.9262 - val_loss: 0.5173 - val_accuracy: 0.8692\n",
      "Epoch 5/30\n",
      "40/40 [==============================] - 7s 183ms/step - loss: 0.3567 - accuracy: 0.9362 - val_loss: 0.4611 - val_accuracy: 0.8750\n",
      "Epoch 6/30\n",
      "40/40 [==============================] - 7s 180ms/step - loss: 0.3031 - accuracy: 0.9408 - val_loss: 0.4626 - val_accuracy: 0.8748\n",
      "Epoch 7/30\n",
      "40/40 [==============================] - 7s 184ms/step - loss: 0.2614 - accuracy: 0.9480 - val_loss: 0.4575 - val_accuracy: 0.8612\n",
      "Epoch 8/30\n",
      "40/40 [==============================] - 7s 182ms/step - loss: 0.2214 - accuracy: 0.9556 - val_loss: 0.4818 - val_accuracy: 0.8640\n",
      "Epoch 9/30\n",
      "40/40 [==============================] - 7s 178ms/step - loss: 0.1937 - accuracy: 0.9620 - val_loss: 0.4760 - val_accuracy: 0.8644\n",
      "Epoch 10/30\n",
      "40/40 [==============================] - 7s 179ms/step - loss: 0.1763 - accuracy: 0.9658 - val_loss: 0.5001 - val_accuracy: 0.8610\n",
      "Epoch 11/30\n",
      "40/40 [==============================] - 7s 182ms/step - loss: 0.1645 - accuracy: 0.9669 - val_loss: 0.5133 - val_accuracy: 0.8568\n",
      "Epoch 12/30\n",
      "40/40 [==============================] - 7s 180ms/step - loss: 0.1372 - accuracy: 0.9755 - val_loss: 0.5132 - val_accuracy: 0.8650\n"
     ]
    },
    {
     "name": "stderr",
     "output_type": "stream",
     "text": [
      "/tmp/ipykernel_176921/3694702910.py:36: PerformanceWarning:\n",
      "\n",
      "indexing past lexsort depth may impact performance.\n",
      "\n"
     ]
    },
    {
     "name": "stdout",
     "output_type": "stream",
     "text": [
      "Epoch 1/30\n",
      "40/40 [==============================] - 29s 304ms/step - loss: 3.2787 - accuracy: 0.5336 - val_loss: 2.9027 - val_accuracy: 0.5732\n",
      "Epoch 2/30\n",
      "40/40 [==============================] - 7s 186ms/step - loss: 2.5925 - accuracy: 0.6789 - val_loss: 2.1439 - val_accuracy: 0.7854\n",
      "Epoch 3/30\n",
      "40/40 [==============================] - 7s 184ms/step - loss: 1.9249 - accuracy: 0.7881 - val_loss: 1.6056 - val_accuracy: 0.8268\n",
      "Epoch 4/30\n",
      "40/40 [==============================] - 7s 185ms/step - loss: 1.3630 - accuracy: 0.8484 - val_loss: 1.1820 - val_accuracy: 0.8372\n",
      "Epoch 5/30\n",
      "40/40 [==============================] - 7s 184ms/step - loss: 0.9626 - accuracy: 0.8640 - val_loss: 0.8123 - val_accuracy: 0.8562\n",
      "Epoch 6/30\n",
      "40/40 [==============================] - 7s 184ms/step - loss: 0.6462 - accuracy: 0.8850 - val_loss: 0.5611 - val_accuracy: 0.8692\n",
      "Epoch 7/30\n",
      "40/40 [==============================] - 7s 185ms/step - loss: 0.4408 - accuracy: 0.8957 - val_loss: 0.5334 - val_accuracy: 0.8338\n",
      "Epoch 8/30\n",
      "40/40 [==============================] - 7s 184ms/step - loss: 0.3482 - accuracy: 0.9010 - val_loss: 0.3961 - val_accuracy: 0.8644\n",
      "Epoch 9/30\n",
      "40/40 [==============================] - 7s 186ms/step - loss: 0.3028 - accuracy: 0.9056 - val_loss: 0.3543 - val_accuracy: 0.8854\n",
      "Epoch 10/30\n",
      "40/40 [==============================] - 7s 187ms/step - loss: 0.2747 - accuracy: 0.9119 - val_loss: 0.3525 - val_accuracy: 0.8738\n",
      "Epoch 11/30\n",
      "40/40 [==============================] - 7s 185ms/step - loss: 0.2584 - accuracy: 0.9178 - val_loss: 0.3451 - val_accuracy: 0.8818\n",
      "Epoch 12/30\n",
      "40/40 [==============================] - 7s 184ms/step - loss: 0.2492 - accuracy: 0.9173 - val_loss: 0.3411 - val_accuracy: 0.8814\n",
      "Epoch 13/30\n",
      "40/40 [==============================] - 7s 178ms/step - loss: 0.2302 - accuracy: 0.9251 - val_loss: 0.3552 - val_accuracy: 0.8792\n",
      "Epoch 14/30\n",
      "40/40 [==============================] - 7s 178ms/step - loss: 0.2168 - accuracy: 0.9309 - val_loss: 0.3514 - val_accuracy: 0.8726\n",
      "Epoch 15/30\n",
      "40/40 [==============================] - 7s 176ms/step - loss: 0.2180 - accuracy: 0.9289 - val_loss: 0.3518 - val_accuracy: 0.8720\n",
      "Epoch 16/30\n",
      "40/40 [==============================] - 7s 181ms/step - loss: 0.2025 - accuracy: 0.9362 - val_loss: 0.3853 - val_accuracy: 0.8790\n",
      "Epoch 17/30\n",
      "40/40 [==============================] - 7s 180ms/step - loss: 0.1879 - accuracy: 0.9425 - val_loss: 0.4581 - val_accuracy: 0.8446\n"
     ]
    },
    {
     "name": "stderr",
     "output_type": "stream",
     "text": [
      "/tmp/ipykernel_176921/3694702910.py:36: PerformanceWarning:\n",
      "\n",
      "indexing past lexsort depth may impact performance.\n",
      "\n"
     ]
    },
    {
     "name": "stdout",
     "output_type": "stream",
     "text": [
      "Epoch 1/30\n",
      "40/40 [==============================] - 32s 328ms/step - loss: 4.8831 - accuracy: 0.6571 - val_loss: 3.9222 - val_accuracy: 0.8226\n",
      "Epoch 2/30\n",
      "40/40 [==============================] - 8s 193ms/step - loss: 3.2434 - accuracy: 0.8755 - val_loss: 2.6593 - val_accuracy: 0.8820\n",
      "Epoch 3/30\n",
      "40/40 [==============================] - 8s 190ms/step - loss: 2.1848 - accuracy: 0.9103 - val_loss: 1.8431 - val_accuracy: 0.8826\n",
      "Epoch 4/30\n",
      "40/40 [==============================] - 7s 185ms/step - loss: 1.4973 - accuracy: 0.9223 - val_loss: 1.3610 - val_accuracy: 0.8784\n",
      "Epoch 5/30\n",
      "40/40 [==============================] - 7s 185ms/step - loss: 1.0598 - accuracy: 0.9348 - val_loss: 1.0712 - val_accuracy: 0.8700\n",
      "Epoch 6/30\n",
      "40/40 [==============================] - 7s 187ms/step - loss: 0.8119 - accuracy: 0.9464 - val_loss: 0.9070 - val_accuracy: 0.8712\n",
      "Epoch 7/30\n",
      "40/40 [==============================] - 7s 188ms/step - loss: 0.6541 - accuracy: 0.9553 - val_loss: 0.8149 - val_accuracy: 0.8642\n",
      "Epoch 8/30\n",
      "40/40 [==============================] - 7s 187ms/step - loss: 0.5465 - accuracy: 0.9654 - val_loss: 0.7961 - val_accuracy: 0.8664\n",
      "Epoch 9/30\n",
      "40/40 [==============================] - 7s 179ms/step - loss: 0.4587 - accuracy: 0.9741 - val_loss: 0.8377 - val_accuracy: 0.8578\n",
      "Epoch 10/30\n",
      "40/40 [==============================] - 7s 185ms/step - loss: 0.4070 - accuracy: 0.9762 - val_loss: 0.7846 - val_accuracy: 0.8604\n",
      "Epoch 11/30\n",
      "40/40 [==============================] - 7s 185ms/step - loss: 0.3630 - accuracy: 0.9793 - val_loss: 0.7514 - val_accuracy: 0.8664\n",
      "Epoch 12/30\n",
      "40/40 [==============================] - 7s 180ms/step - loss: 0.3226 - accuracy: 0.9821 - val_loss: 0.7727 - val_accuracy: 0.8650\n",
      "Epoch 13/30\n",
      "40/40 [==============================] - 7s 180ms/step - loss: 0.2914 - accuracy: 0.9844 - val_loss: 0.8235 - val_accuracy: 0.8612\n",
      "Epoch 14/30\n",
      "40/40 [==============================] - 7s 178ms/step - loss: 0.2667 - accuracy: 0.9859 - val_loss: 0.8218 - val_accuracy: 0.8598\n",
      "Epoch 15/30\n",
      "40/40 [==============================] - 7s 177ms/step - loss: 0.2397 - accuracy: 0.9890 - val_loss: 0.8740 - val_accuracy: 0.8650\n",
      "Epoch 16/30\n",
      "40/40 [==============================] - 7s 182ms/step - loss: 0.2114 - accuracy: 0.9930 - val_loss: 1.0397 - val_accuracy: 0.8440\n"
     ]
    },
    {
     "name": "stderr",
     "output_type": "stream",
     "text": [
      "/tmp/ipykernel_176921/3694702910.py:36: PerformanceWarning:\n",
      "\n",
      "indexing past lexsort depth may impact performance.\n",
      "\n"
     ]
    },
    {
     "name": "stdout",
     "output_type": "stream",
     "text": [
      "Epoch 1/30\n",
      "40/40 [==============================] - 30s 307ms/step - loss: 5.4855 - accuracy: 0.5307 - val_loss: 5.2002 - val_accuracy: 0.4954\n",
      "Epoch 2/30\n",
      "40/40 [==============================] - 7s 185ms/step - loss: 4.7977 - accuracy: 0.5480 - val_loss: 4.4828 - val_accuracy: 0.5010\n",
      "Epoch 3/30\n",
      "40/40 [==============================] - 7s 185ms/step - loss: 4.1361 - accuracy: 0.6307 - val_loss: 3.6879 - val_accuracy: 0.7974\n",
      "Epoch 4/30\n",
      "40/40 [==============================] - 7s 183ms/step - loss: 3.4345 - accuracy: 0.7886 - val_loss: 3.2247 - val_accuracy: 0.7774\n",
      "Epoch 5/30\n",
      "40/40 [==============================] - 7s 183ms/step - loss: 2.8796 - accuracy: 0.8406 - val_loss: 2.6288 - val_accuracy: 0.8490\n",
      "Epoch 6/30\n",
      "40/40 [==============================] - 7s 183ms/step - loss: 2.4149 - accuracy: 0.8690 - val_loss: 2.2422 - val_accuracy: 0.8604\n",
      "Epoch 7/30\n",
      "40/40 [==============================] - 7s 185ms/step - loss: 2.0067 - accuracy: 0.8860 - val_loss: 1.8803 - val_accuracy: 0.8606\n",
      "Epoch 8/30\n",
      "40/40 [==============================] - 7s 183ms/step - loss: 1.6737 - accuracy: 0.8974 - val_loss: 1.6180 - val_accuracy: 0.8608\n",
      "Epoch 9/30\n",
      "40/40 [==============================] - 7s 183ms/step - loss: 1.3898 - accuracy: 0.9043 - val_loss: 1.3159 - val_accuracy: 0.8812\n",
      "Epoch 10/30\n",
      "40/40 [==============================] - 7s 183ms/step - loss: 1.1549 - accuracy: 0.9123 - val_loss: 1.1336 - val_accuracy: 0.8720\n",
      "Epoch 11/30\n",
      "40/40 [==============================] - 7s 183ms/step - loss: 0.9545 - accuracy: 0.9209 - val_loss: 0.9446 - val_accuracy: 0.8854\n",
      "Epoch 12/30\n",
      "40/40 [==============================] - 7s 184ms/step - loss: 0.8246 - accuracy: 0.9194 - val_loss: 0.8542 - val_accuracy: 0.8734\n",
      "Epoch 13/30\n",
      "40/40 [==============================] - 7s 184ms/step - loss: 0.7092 - accuracy: 0.9171 - val_loss: 0.7469 - val_accuracy: 0.8874\n",
      "Epoch 14/30\n",
      "40/40 [==============================] - 7s 184ms/step - loss: 0.5747 - accuracy: 0.9361 - val_loss: 0.7130 - val_accuracy: 0.8818\n",
      "Epoch 15/30\n",
      "40/40 [==============================] - 7s 184ms/step - loss: 0.5263 - accuracy: 0.9283 - val_loss: 0.6491 - val_accuracy: 0.8736\n",
      "Epoch 16/30\n",
      "40/40 [==============================] - 7s 178ms/step - loss: 0.4180 - accuracy: 0.9512 - val_loss: 0.6806 - val_accuracy: 0.8696\n",
      "Epoch 17/30\n",
      "40/40 [==============================] - 7s 184ms/step - loss: 0.3844 - accuracy: 0.9474 - val_loss: 0.6041 - val_accuracy: 0.8668\n",
      "Epoch 18/30\n",
      "40/40 [==============================] - 7s 185ms/step - loss: 0.3226 - accuracy: 0.9617 - val_loss: 0.6030 - val_accuracy: 0.8756\n",
      "Epoch 19/30\n",
      "40/40 [==============================] - 7s 180ms/step - loss: 0.3084 - accuracy: 0.9554 - val_loss: 0.6104 - val_accuracy: 0.8684\n",
      "Epoch 20/30\n",
      "40/40 [==============================] - 7s 179ms/step - loss: 0.2616 - accuracy: 0.9696 - val_loss: 0.7762 - val_accuracy: 0.8360\n",
      "Epoch 21/30\n",
      "40/40 [==============================] - 7s 179ms/step - loss: 0.2743 - accuracy: 0.9631 - val_loss: 0.6632 - val_accuracy: 0.8706\n",
      "Epoch 22/30\n",
      "40/40 [==============================] - 7s 185ms/step - loss: 0.2447 - accuracy: 0.9657 - val_loss: 0.5617 - val_accuracy: 0.8722\n",
      "Epoch 23/30\n",
      "40/40 [==============================] - 7s 180ms/step - loss: 0.1957 - accuracy: 0.9801 - val_loss: 0.6794 - val_accuracy: 0.8640\n",
      "Epoch 24/30\n",
      "40/40 [==============================] - 7s 183ms/step - loss: 0.2089 - accuracy: 0.9712 - val_loss: 0.5528 - val_accuracy: 0.8502\n",
      "Epoch 25/30\n",
      "40/40 [==============================] - 7s 181ms/step - loss: 0.1786 - accuracy: 0.9809 - val_loss: 0.6064 - val_accuracy: 0.8644\n",
      "Epoch 26/30\n",
      "40/40 [==============================] - 7s 181ms/step - loss: 0.1823 - accuracy: 0.9775 - val_loss: 0.6464 - val_accuracy: 0.8682\n",
      "Epoch 27/30\n",
      "40/40 [==============================] - 7s 180ms/step - loss: 0.1502 - accuracy: 0.9869 - val_loss: 0.7484 - val_accuracy: 0.8640\n",
      "Epoch 28/30\n",
      "40/40 [==============================] - 7s 180ms/step - loss: 0.1470 - accuracy: 0.9858 - val_loss: 0.7724 - val_accuracy: 0.8590\n",
      "Epoch 29/30\n",
      "40/40 [==============================] - 7s 179ms/step - loss: 0.1307 - accuracy: 0.9872 - val_loss: 0.8190 - val_accuracy: 0.8642\n"
     ]
    },
    {
     "name": "stderr",
     "output_type": "stream",
     "text": [
      "/tmp/ipykernel_176921/3694702910.py:36: PerformanceWarning:\n",
      "\n",
      "indexing past lexsort depth may impact performance.\n",
      "\n"
     ]
    },
    {
     "name": "stdout",
     "output_type": "stream",
     "text": [
      "Epoch 1/30\n",
      "40/40 [==============================] - 32s 322ms/step - loss: 2.0433 - accuracy: 0.7046 - val_loss: 1.2373 - val_accuracy: 0.8464\n",
      "Epoch 2/30\n",
      "40/40 [==============================] - 8s 193ms/step - loss: 0.8738 - accuracy: 0.8844 - val_loss: 0.6613 - val_accuracy: 0.8768\n",
      "Epoch 3/30\n",
      "40/40 [==============================] - 8s 188ms/step - loss: 0.4990 - accuracy: 0.9081 - val_loss: 0.4852 - val_accuracy: 0.8796\n",
      "Epoch 4/30\n",
      "40/40 [==============================] - 7s 186ms/step - loss: 0.3633 - accuracy: 0.9193 - val_loss: 0.4114 - val_accuracy: 0.8762\n",
      "Epoch 5/30\n",
      "40/40 [==============================] - 7s 184ms/step - loss: 0.3049 - accuracy: 0.9269 - val_loss: 0.4157 - val_accuracy: 0.8680\n",
      "Epoch 6/30\n",
      "40/40 [==============================] - 7s 187ms/step - loss: 0.2625 - accuracy: 0.9338 - val_loss: 0.3894 - val_accuracy: 0.8732\n",
      "Epoch 7/30\n",
      "40/40 [==============================] - 7s 185ms/step - loss: 0.2272 - accuracy: 0.9425 - val_loss: 0.3788 - val_accuracy: 0.8684\n",
      "Epoch 8/30\n",
      "40/40 [==============================] - 7s 178ms/step - loss: 0.2068 - accuracy: 0.9481 - val_loss: 0.4050 - val_accuracy: 0.8722\n",
      "Epoch 9/30\n",
      "40/40 [==============================] - 7s 182ms/step - loss: 0.1884 - accuracy: 0.9524 - val_loss: 0.3938 - val_accuracy: 0.8698\n",
      "Epoch 10/30\n",
      "40/40 [==============================] - 7s 179ms/step - loss: 0.1830 - accuracy: 0.9528 - val_loss: 0.4423 - val_accuracy: 0.8652\n",
      "Epoch 11/30\n",
      "40/40 [==============================] - 7s 178ms/step - loss: 0.1687 - accuracy: 0.9556 - val_loss: 0.4245 - val_accuracy: 0.8668\n",
      "Epoch 12/30\n",
      "40/40 [==============================] - 7s 181ms/step - loss: 0.1477 - accuracy: 0.9642 - val_loss: 0.4677 - val_accuracy: 0.8664\n"
     ]
    },
    {
     "name": "stderr",
     "output_type": "stream",
     "text": [
      "/tmp/ipykernel_176921/3694702910.py:36: PerformanceWarning:\n",
      "\n",
      "indexing past lexsort depth may impact performance.\n",
      "\n"
     ]
    },
    {
     "name": "stdout",
     "output_type": "stream",
     "text": [
      "Epoch 1/30\n",
      "40/40 [==============================] - 30s 306ms/step - loss: 2.6512 - accuracy: 0.5285 - val_loss: 2.3067 - val_accuracy: 0.6350\n",
      "Epoch 2/30\n",
      "40/40 [==============================] - 7s 183ms/step - loss: 2.0138 - accuracy: 0.6300 - val_loss: 1.7690 - val_accuracy: 0.6634\n",
      "Epoch 3/30\n",
      "40/40 [==============================] - 7s 183ms/step - loss: 1.4499 - accuracy: 0.7580 - val_loss: 1.1980 - val_accuracy: 0.8210\n",
      "Epoch 4/30\n",
      "40/40 [==============================] - 7s 184ms/step - loss: 1.0084 - accuracy: 0.8332 - val_loss: 0.8641 - val_accuracy: 0.8472\n",
      "Epoch 5/30\n",
      "40/40 [==============================] - 7s 183ms/step - loss: 0.7269 - accuracy: 0.8662 - val_loss: 0.6353 - val_accuracy: 0.8642\n",
      "Epoch 6/30\n",
      "40/40 [==============================] - 7s 185ms/step - loss: 0.5443 - accuracy: 0.8808 - val_loss: 0.4985 - val_accuracy: 0.8786\n",
      "Epoch 7/30\n",
      "40/40 [==============================] - 7s 185ms/step - loss: 0.4269 - accuracy: 0.8932 - val_loss: 0.4513 - val_accuracy: 0.8598\n",
      "Epoch 8/30\n",
      "40/40 [==============================] - 7s 186ms/step - loss: 0.3616 - accuracy: 0.8971 - val_loss: 0.3864 - val_accuracy: 0.8718\n",
      "Epoch 9/30\n",
      "40/40 [==============================] - 7s 186ms/step - loss: 0.3108 - accuracy: 0.9046 - val_loss: 0.3673 - val_accuracy: 0.8806\n",
      "Epoch 10/30\n",
      "40/40 [==============================] - 7s 184ms/step - loss: 0.2852 - accuracy: 0.9086 - val_loss: 0.3370 - val_accuracy: 0.8824\n",
      "Epoch 11/30\n",
      "40/40 [==============================] - 7s 181ms/step - loss: 0.2632 - accuracy: 0.9141 - val_loss: 0.4065 - val_accuracy: 0.8452\n",
      "Epoch 12/30\n",
      "40/40 [==============================] - 7s 183ms/step - loss: 0.2489 - accuracy: 0.9184 - val_loss: 0.3402 - val_accuracy: 0.8802\n",
      "Epoch 13/30\n",
      "40/40 [==============================] - 7s 185ms/step - loss: 0.2384 - accuracy: 0.9209 - val_loss: 0.3332 - val_accuracy: 0.8770\n",
      "Epoch 14/30\n",
      "40/40 [==============================] - 7s 182ms/step - loss: 0.2273 - accuracy: 0.9247 - val_loss: 0.3267 - val_accuracy: 0.8726\n",
      "Epoch 15/30\n",
      "40/40 [==============================] - 7s 180ms/step - loss: 0.2211 - accuracy: 0.9315 - val_loss: 0.3578 - val_accuracy: 0.8710\n",
      "Epoch 16/30\n",
      "40/40 [==============================] - 7s 184ms/step - loss: 0.2070 - accuracy: 0.9330 - val_loss: 0.3260 - val_accuracy: 0.8734\n",
      "Epoch 17/30\n",
      "40/40 [==============================] - 7s 182ms/step - loss: 0.1987 - accuracy: 0.9370 - val_loss: 0.3681 - val_accuracy: 0.8824\n",
      "Epoch 18/30\n",
      "40/40 [==============================] - 7s 181ms/step - loss: 0.1917 - accuracy: 0.9387 - val_loss: 0.3974 - val_accuracy: 0.8712\n",
      "Epoch 19/30\n",
      "40/40 [==============================] - 7s 181ms/step - loss: 0.1834 - accuracy: 0.9420 - val_loss: 0.3888 - val_accuracy: 0.8698\n",
      "Epoch 20/30\n",
      "40/40 [==============================] - 7s 181ms/step - loss: 0.1709 - accuracy: 0.9481 - val_loss: 0.4055 - val_accuracy: 0.8754\n",
      "Epoch 21/30\n",
      "40/40 [==============================] - 7s 183ms/step - loss: 0.1659 - accuracy: 0.9498 - val_loss: 0.4136 - val_accuracy: 0.8622\n"
     ]
    },
    {
     "name": "stderr",
     "output_type": "stream",
     "text": [
      "/tmp/ipykernel_176921/3694702910.py:36: PerformanceWarning:\n",
      "\n",
      "indexing past lexsort depth may impact performance.\n",
      "\n"
     ]
    },
    {
     "name": "stdout",
     "output_type": "stream",
     "text": [
      "Epoch 1/30\n",
      "40/40 [==============================] - 32s 329ms/step - loss: 1.5914 - accuracy: 0.6964 - val_loss: 0.9689 - val_accuracy: 0.8626\n",
      "Epoch 2/30\n",
      "40/40 [==============================] - 8s 192ms/step - loss: 0.7228 - accuracy: 0.8886 - val_loss: 0.5927 - val_accuracy: 0.8760\n",
      "Epoch 3/30\n",
      "40/40 [==============================] - 8s 193ms/step - loss: 0.4542 - accuracy: 0.9111 - val_loss: 0.4472 - val_accuracy: 0.8848\n",
      "Epoch 4/30\n",
      "40/40 [==============================] - 8s 189ms/step - loss: 0.3403 - accuracy: 0.9214 - val_loss: 0.3957 - val_accuracy: 0.8734\n",
      "Epoch 5/30\n",
      "40/40 [==============================] - 7s 185ms/step - loss: 0.2760 - accuracy: 0.9312 - val_loss: 0.3816 - val_accuracy: 0.8760\n",
      "Epoch 6/30\n",
      "40/40 [==============================] - 8s 190ms/step - loss: 0.2268 - accuracy: 0.9417 - val_loss: 0.3717 - val_accuracy: 0.8732\n",
      "Epoch 7/30\n",
      "40/40 [==============================] - 7s 181ms/step - loss: 0.2006 - accuracy: 0.9465 - val_loss: 0.4287 - val_accuracy: 0.8522\n",
      "Epoch 8/30\n",
      "40/40 [==============================] - 7s 182ms/step - loss: 0.1790 - accuracy: 0.9518 - val_loss: 0.4175 - val_accuracy: 0.8632\n",
      "Epoch 9/30\n",
      "40/40 [==============================] - 7s 181ms/step - loss: 0.1485 - accuracy: 0.9617 - val_loss: 0.4111 - val_accuracy: 0.8640\n",
      "Epoch 10/30\n",
      "40/40 [==============================] - 7s 181ms/step - loss: 0.1313 - accuracy: 0.9665 - val_loss: 0.4278 - val_accuracy: 0.8674\n",
      "Epoch 11/30\n",
      "40/40 [==============================] - 7s 183ms/step - loss: 0.1131 - accuracy: 0.9714 - val_loss: 0.4988 - val_accuracy: 0.8544\n"
     ]
    },
    {
     "name": "stderr",
     "output_type": "stream",
     "text": [
      "/tmp/ipykernel_176921/3694702910.py:36: PerformanceWarning:\n",
      "\n",
      "indexing past lexsort depth may impact performance.\n",
      "\n"
     ]
    },
    {
     "name": "stdout",
     "output_type": "stream",
     "text": [
      "Epoch 1/30\n",
      "40/40 [==============================] - 29s 306ms/step - loss: 2.0238 - accuracy: 0.5195 - val_loss: 1.7312 - val_accuracy: 0.5232\n",
      "Epoch 2/30\n",
      "40/40 [==============================] - 7s 186ms/step - loss: 1.5262 - accuracy: 0.6201 - val_loss: 1.2955 - val_accuracy: 0.6732\n",
      "Epoch 3/30\n",
      "40/40 [==============================] - 7s 185ms/step - loss: 1.1097 - accuracy: 0.7566 - val_loss: 0.8625 - val_accuracy: 0.8304\n",
      "Epoch 4/30\n",
      "40/40 [==============================] - 7s 176ms/step - loss: 0.7841 - accuracy: 0.8279 - val_loss: 0.6352 - val_accuracy: 0.8622\n",
      "Epoch 5/30\n",
      "40/40 [==============================] - 7s 179ms/step - loss: 0.5861 - accuracy: 0.8614 - val_loss: 0.6569 - val_accuracy: 0.8070\n",
      "Epoch 6/30\n",
      "40/40 [==============================] - 7s 186ms/step - loss: 0.4736 - accuracy: 0.8755 - val_loss: 0.4406 - val_accuracy: 0.8758\n",
      "Epoch 7/30\n",
      "40/40 [==============================] - 7s 183ms/step - loss: 0.3790 - accuracy: 0.8942 - val_loss: 0.3843 - val_accuracy: 0.8784\n",
      "Epoch 8/30\n",
      "40/40 [==============================] - 7s 180ms/step - loss: 0.3283 - accuracy: 0.8981 - val_loss: 0.3932 - val_accuracy: 0.8638\n",
      "Epoch 9/30\n",
      "40/40 [==============================] - 7s 183ms/step - loss: 0.2986 - accuracy: 0.9029 - val_loss: 0.3274 - val_accuracy: 0.8772\n",
      "Epoch 10/30\n",
      "40/40 [==============================] - 7s 178ms/step - loss: 0.2637 - accuracy: 0.9104 - val_loss: 0.3354 - val_accuracy: 0.8728\n",
      "Epoch 11/30\n",
      "40/40 [==============================] - 7s 180ms/step - loss: 0.2511 - accuracy: 0.9122 - val_loss: 0.3491 - val_accuracy: 0.8762\n",
      "Epoch 12/30\n",
      "40/40 [==============================] - 7s 181ms/step - loss: 0.2286 - accuracy: 0.9222 - val_loss: 0.3600 - val_accuracy: 0.8696\n",
      "Epoch 13/30\n",
      "40/40 [==============================] - 7s 184ms/step - loss: 0.2204 - accuracy: 0.9224 - val_loss: 0.3122 - val_accuracy: 0.8798\n",
      "Epoch 14/30\n",
      "40/40 [==============================] - 7s 179ms/step - loss: 0.2037 - accuracy: 0.9276 - val_loss: 0.3262 - val_accuracy: 0.8748\n",
      "Epoch 15/30\n",
      "40/40 [==============================] - 7s 180ms/step - loss: 0.1976 - accuracy: 0.9309 - val_loss: 0.3326 - val_accuracy: 0.8734\n",
      "Epoch 16/30\n",
      "40/40 [==============================] - 7s 182ms/step - loss: 0.1821 - accuracy: 0.9394 - val_loss: 0.3506 - val_accuracy: 0.8656\n",
      "Epoch 17/30\n",
      "40/40 [==============================] - 7s 182ms/step - loss: 0.1737 - accuracy: 0.9414 - val_loss: 0.3618 - val_accuracy: 0.8742\n",
      "Epoch 18/30\n",
      "40/40 [==============================] - 7s 182ms/step - loss: 0.1585 - accuracy: 0.9455 - val_loss: 0.3819 - val_accuracy: 0.8678\n"
     ]
    },
    {
     "name": "stderr",
     "output_type": "stream",
     "text": [
      "/tmp/ipykernel_176921/3694702910.py:36: PerformanceWarning:\n",
      "\n",
      "indexing past lexsort depth may impact performance.\n",
      "\n"
     ]
    },
    {
     "name": "stdout",
     "output_type": "stream",
     "text": [
      "Epoch 1/30\n",
      "40/40 [==============================] - 32s 322ms/step - loss: 1.6144 - accuracy: 0.6832 - val_loss: 0.9197 - val_accuracy: 0.8498\n",
      "Epoch 2/30\n",
      "40/40 [==============================] - 8s 193ms/step - loss: 0.6656 - accuracy: 0.8821 - val_loss: 0.5176 - val_accuracy: 0.8816\n",
      "Epoch 3/30\n",
      "40/40 [==============================] - 8s 191ms/step - loss: 0.4159 - accuracy: 0.9068 - val_loss: 0.4193 - val_accuracy: 0.8818\n",
      "Epoch 4/30\n",
      "40/40 [==============================] - 7s 187ms/step - loss: 0.3215 - accuracy: 0.9170 - val_loss: 0.3758 - val_accuracy: 0.8810\n",
      "Epoch 5/30\n",
      "40/40 [==============================] - 7s 187ms/step - loss: 0.2638 - accuracy: 0.9283 - val_loss: 0.3598 - val_accuracy: 0.8750\n",
      "Epoch 6/30\n",
      "40/40 [==============================] - 7s 181ms/step - loss: 0.2244 - accuracy: 0.9403 - val_loss: 0.4014 - val_accuracy: 0.8694\n",
      "Epoch 7/30\n",
      "40/40 [==============================] - 7s 183ms/step - loss: 0.1934 - accuracy: 0.9462 - val_loss: 0.4505 - val_accuracy: 0.8636\n",
      "Epoch 8/30\n",
      "40/40 [==============================] - 7s 182ms/step - loss: 0.1691 - accuracy: 0.9538 - val_loss: 0.3784 - val_accuracy: 0.8628\n",
      "Epoch 9/30\n",
      "40/40 [==============================] - 7s 181ms/step - loss: 0.1449 - accuracy: 0.9608 - val_loss: 0.4518 - val_accuracy: 0.8626\n",
      "Epoch 10/30\n",
      "40/40 [==============================] - 7s 182ms/step - loss: 0.1333 - accuracy: 0.9628 - val_loss: 0.4669 - val_accuracy: 0.8642\n"
     ]
    },
    {
     "name": "stderr",
     "output_type": "stream",
     "text": [
      "/tmp/ipykernel_176921/3694702910.py:36: PerformanceWarning:\n",
      "\n",
      "indexing past lexsort depth may impact performance.\n",
      "\n"
     ]
    },
    {
     "name": "stdout",
     "output_type": "stream",
     "text": [
      "Epoch 1/30\n",
      "40/40 [==============================] - 30s 304ms/step - loss: 2.1286 - accuracy: 0.5208 - val_loss: 1.8092 - val_accuracy: 0.5464\n",
      "Epoch 2/30\n",
      "40/40 [==============================] - 7s 185ms/step - loss: 1.5724 - accuracy: 0.6116 - val_loss: 1.3487 - val_accuracy: 0.6752\n",
      "Epoch 3/30\n",
      "40/40 [==============================] - 7s 184ms/step - loss: 1.1327 - accuracy: 0.7549 - val_loss: 0.9426 - val_accuracy: 0.8070\n",
      "Epoch 4/30\n",
      "40/40 [==============================] - 7s 186ms/step - loss: 0.8036 - accuracy: 0.8264 - val_loss: 0.9259 - val_accuracy: 0.7518\n",
      "Epoch 5/30\n",
      "40/40 [==============================] - 7s 184ms/step - loss: 0.6223 - accuracy: 0.8548 - val_loss: 0.6146 - val_accuracy: 0.8312\n",
      "Epoch 6/30\n",
      "40/40 [==============================] - 7s 184ms/step - loss: 0.4886 - accuracy: 0.8713 - val_loss: 0.4449 - val_accuracy: 0.8726\n",
      "Epoch 7/30\n",
      "40/40 [==============================] - 7s 184ms/step - loss: 0.3952 - accuracy: 0.8887 - val_loss: 0.3798 - val_accuracy: 0.8814\n",
      "Epoch 8/30\n",
      "40/40 [==============================] - 7s 181ms/step - loss: 0.3348 - accuracy: 0.8983 - val_loss: 0.3883 - val_accuracy: 0.8702\n",
      "Epoch 9/30\n",
      "40/40 [==============================] - 7s 186ms/step - loss: 0.2944 - accuracy: 0.9064 - val_loss: 0.3586 - val_accuracy: 0.8798\n",
      "Epoch 10/30\n",
      "40/40 [==============================] - 7s 185ms/step - loss: 0.2712 - accuracy: 0.9098 - val_loss: 0.3404 - val_accuracy: 0.8754\n",
      "Epoch 11/30\n",
      "40/40 [==============================] - 7s 185ms/step - loss: 0.2424 - accuracy: 0.9194 - val_loss: 0.3290 - val_accuracy: 0.8798\n",
      "Epoch 12/30\n",
      "40/40 [==============================] - 7s 179ms/step - loss: 0.2321 - accuracy: 0.9190 - val_loss: 0.3350 - val_accuracy: 0.8790\n",
      "Epoch 13/30\n",
      "40/40 [==============================] - 7s 181ms/step - loss: 0.2108 - accuracy: 0.9280 - val_loss: 0.3490 - val_accuracy: 0.8804\n",
      "Epoch 14/30\n",
      "40/40 [==============================] - 7s 181ms/step - loss: 0.1929 - accuracy: 0.9337 - val_loss: 0.3561 - val_accuracy: 0.8784\n",
      "Epoch 15/30\n",
      "40/40 [==============================] - 7s 173ms/step - loss: 0.1810 - accuracy: 0.9382 - val_loss: 0.4095 - val_accuracy: 0.8554\n",
      "Epoch 16/30\n",
      "40/40 [==============================] - 7s 176ms/step - loss: 0.1771 - accuracy: 0.9395 - val_loss: 0.3650 - val_accuracy: 0.8726\n"
     ]
    },
    {
     "name": "stderr",
     "output_type": "stream",
     "text": [
      "/tmp/ipykernel_176921/3694702910.py:36: PerformanceWarning:\n",
      "\n",
      "indexing past lexsort depth may impact performance.\n",
      "\n"
     ]
    },
    {
     "name": "stdout",
     "output_type": "stream",
     "text": [
      "Epoch 1/30\n",
      "40/40 [==============================] - 32s 324ms/step - loss: 5.2546 - accuracy: 0.6241 - val_loss: 3.7801 - val_accuracy: 0.8256\n",
      "Epoch 2/30\n",
      "40/40 [==============================] - 8s 191ms/step - loss: 2.9237 - accuracy: 0.8731 - val_loss: 2.2344 - val_accuracy: 0.8834\n",
      "Epoch 3/30\n",
      "40/40 [==============================] - 8s 190ms/step - loss: 1.7588 - accuracy: 0.9083 - val_loss: 1.4280 - val_accuracy: 0.8862\n",
      "Epoch 4/30\n",
      "40/40 [==============================] - 7s 186ms/step - loss: 1.1197 - accuracy: 0.9213 - val_loss: 0.9861 - val_accuracy: 0.8792\n",
      "Epoch 5/30\n",
      "40/40 [==============================] - 7s 187ms/step - loss: 0.7640 - accuracy: 0.9280 - val_loss: 0.7570 - val_accuracy: 0.8806\n",
      "Epoch 6/30\n",
      "40/40 [==============================] - 7s 188ms/step - loss: 0.5431 - accuracy: 0.9405 - val_loss: 0.6494 - val_accuracy: 0.8766\n",
      "Epoch 7/30\n",
      "40/40 [==============================] - 7s 185ms/step - loss: 0.4039 - accuracy: 0.9527 - val_loss: 0.5932 - val_accuracy: 0.8732\n",
      "Epoch 8/30\n",
      "40/40 [==============================] - 7s 186ms/step - loss: 0.3334 - accuracy: 0.9518 - val_loss: 0.5547 - val_accuracy: 0.8700\n",
      "Epoch 9/30\n",
      "40/40 [==============================] - 7s 182ms/step - loss: 0.2622 - accuracy: 0.9649 - val_loss: 0.5607 - val_accuracy: 0.8654\n",
      "Epoch 10/30\n",
      "40/40 [==============================] - 7s 183ms/step - loss: 0.2120 - accuracy: 0.9728 - val_loss: 0.5827 - val_accuracy: 0.8696\n",
      "Epoch 11/30\n",
      "40/40 [==============================] - 7s 186ms/step - loss: 0.1851 - accuracy: 0.9747 - val_loss: 0.5260 - val_accuracy: 0.8576\n",
      "Epoch 12/30\n",
      "40/40 [==============================] - 7s 183ms/step - loss: 0.1669 - accuracy: 0.9730 - val_loss: 0.6519 - val_accuracy: 0.8634\n",
      "Epoch 13/30\n",
      "40/40 [==============================] - 7s 182ms/step - loss: 0.1277 - accuracy: 0.9851 - val_loss: 0.5936 - val_accuracy: 0.8668\n",
      "Epoch 14/30\n",
      "40/40 [==============================] - 7s 180ms/step - loss: 0.1135 - accuracy: 0.9869 - val_loss: 0.6554 - val_accuracy: 0.8618\n",
      "Epoch 15/30\n",
      "40/40 [==============================] - 7s 181ms/step - loss: 0.1130 - accuracy: 0.9840 - val_loss: 0.6305 - val_accuracy: 0.8692\n",
      "Epoch 16/30\n",
      "40/40 [==============================] - 7s 183ms/step - loss: 0.0912 - accuracy: 0.9895 - val_loss: 0.6270 - val_accuracy: 0.8708\n"
     ]
    },
    {
     "name": "stderr",
     "output_type": "stream",
     "text": [
      "/tmp/ipykernel_176921/3694702910.py:36: PerformanceWarning:\n",
      "\n",
      "indexing past lexsort depth may impact performance.\n",
      "\n"
     ]
    },
    {
     "name": "stdout",
     "output_type": "stream",
     "text": [
      "Epoch 1/30\n",
      "40/40 [==============================] - 30s 319ms/step - loss: 5.7881 - accuracy: 0.5080 - val_loss: 4.8530 - val_accuracy: 0.4954\n",
      "Epoch 2/30\n",
      "40/40 [==============================] - 7s 186ms/step - loss: 4.1438 - accuracy: 0.5555 - val_loss: 3.4793 - val_accuracy: 0.6430\n",
      "Epoch 3/30\n",
      "40/40 [==============================] - 7s 186ms/step - loss: 2.9660 - accuracy: 0.6769 - val_loss: 2.3929 - val_accuracy: 0.7942\n",
      "Epoch 4/30\n",
      "40/40 [==============================] - 7s 184ms/step - loss: 2.0582 - accuracy: 0.8015 - val_loss: 1.7050 - val_accuracy: 0.8322\n",
      "Epoch 5/30\n",
      "40/40 [==============================] - 7s 185ms/step - loss: 1.4672 - accuracy: 0.8425 - val_loss: 1.2280 - val_accuracy: 0.8624\n",
      "Epoch 6/30\n",
      "40/40 [==============================] - 7s 184ms/step - loss: 1.0738 - accuracy: 0.8669 - val_loss: 0.9360 - val_accuracy: 0.8702\n",
      "Epoch 7/30\n",
      "40/40 [==============================] - 7s 184ms/step - loss: 0.7934 - accuracy: 0.8856 - val_loss: 0.7194 - val_accuracy: 0.8756\n",
      "Epoch 8/30\n",
      "40/40 [==============================] - 7s 184ms/step - loss: 0.6066 - accuracy: 0.8992 - val_loss: 0.6241 - val_accuracy: 0.8612\n",
      "Epoch 9/30\n",
      "40/40 [==============================] - 7s 185ms/step - loss: 0.4923 - accuracy: 0.9038 - val_loss: 0.5276 - val_accuracy: 0.8636\n",
      "Epoch 10/30\n",
      "40/40 [==============================] - 7s 186ms/step - loss: 0.4097 - accuracy: 0.9091 - val_loss: 0.5017 - val_accuracy: 0.8560\n",
      "Epoch 11/30\n",
      "40/40 [==============================] - 7s 181ms/step - loss: 0.3401 - accuracy: 0.9190 - val_loss: 0.5319 - val_accuracy: 0.8370\n",
      "Epoch 12/30\n",
      "40/40 [==============================] - 7s 185ms/step - loss: 0.2873 - accuracy: 0.9308 - val_loss: 0.4204 - val_accuracy: 0.8852\n",
      "Epoch 13/30\n",
      "40/40 [==============================] - 7s 185ms/step - loss: 0.2690 - accuracy: 0.9297 - val_loss: 0.4117 - val_accuracy: 0.8762\n",
      "Epoch 14/30\n",
      "40/40 [==============================] - 7s 180ms/step - loss: 0.2306 - accuracy: 0.9394 - val_loss: 0.4167 - val_accuracy: 0.8678\n",
      "Epoch 15/30\n",
      "40/40 [==============================] - 7s 184ms/step - loss: 0.2047 - accuracy: 0.9453 - val_loss: 0.3979 - val_accuracy: 0.8802\n",
      "Epoch 16/30\n",
      "40/40 [==============================] - 7s 181ms/step - loss: 0.1887 - accuracy: 0.9493 - val_loss: 0.4160 - val_accuracy: 0.8588\n",
      "Epoch 17/30\n",
      "40/40 [==============================] - 7s 180ms/step - loss: 0.1699 - accuracy: 0.9541 - val_loss: 0.4571 - val_accuracy: 0.8620\n",
      "Epoch 18/30\n",
      "40/40 [==============================] - 7s 181ms/step - loss: 0.1604 - accuracy: 0.9588 - val_loss: 0.4995 - val_accuracy: 0.8524\n",
      "Epoch 19/30\n",
      "40/40 [==============================] - 7s 181ms/step - loss: 0.1525 - accuracy: 0.9599 - val_loss: 0.6062 - val_accuracy: 0.8170\n",
      "Epoch 20/30\n",
      "40/40 [==============================] - 7s 181ms/step - loss: 0.1426 - accuracy: 0.9627 - val_loss: 0.4750 - val_accuracy: 0.8712\n"
     ]
    },
    {
     "name": "stderr",
     "output_type": "stream",
     "text": [
      "/tmp/ipykernel_176921/3694702910.py:36: PerformanceWarning:\n",
      "\n",
      "indexing past lexsort depth may impact performance.\n",
      "\n"
     ]
    },
    {
     "name": "stdout",
     "output_type": "stream",
     "text": [
      "Epoch 1/30\n",
      "40/40 [==============================] - 32s 319ms/step - loss: 1.2789 - accuracy: 0.7178 - val_loss: 0.7382 - val_accuracy: 0.8650\n",
      "Epoch 2/30\n",
      "40/40 [==============================] - 8s 194ms/step - loss: 0.5513 - accuracy: 0.8895 - val_loss: 0.4515 - val_accuracy: 0.8852\n",
      "Epoch 3/30\n",
      "40/40 [==============================] - 8s 190ms/step - loss: 0.3619 - accuracy: 0.9097 - val_loss: 0.3766 - val_accuracy: 0.8834\n",
      "Epoch 4/30\n",
      "40/40 [==============================] - 7s 183ms/step - loss: 0.2772 - accuracy: 0.9258 - val_loss: 0.3869 - val_accuracy: 0.8764\n",
      "Epoch 5/30\n",
      "40/40 [==============================] - 8s 188ms/step - loss: 0.2416 - accuracy: 0.9308 - val_loss: 0.3680 - val_accuracy: 0.8754\n",
      "Epoch 6/30\n",
      "40/40 [==============================] - 7s 181ms/step - loss: 0.2051 - accuracy: 0.9391 - val_loss: 0.3750 - val_accuracy: 0.8678\n",
      "Epoch 7/30\n",
      "40/40 [==============================] - 7s 188ms/step - loss: 0.1715 - accuracy: 0.9505 - val_loss: 0.3679 - val_accuracy: 0.8736\n",
      "Epoch 8/30\n",
      "40/40 [==============================] - 7s 181ms/step - loss: 0.1443 - accuracy: 0.9595 - val_loss: 0.4784 - val_accuracy: 0.8698\n",
      "Epoch 9/30\n",
      "40/40 [==============================] - 7s 179ms/step - loss: 0.1367 - accuracy: 0.9606 - val_loss: 0.4322 - val_accuracy: 0.8710\n",
      "Epoch 10/30\n",
      "40/40 [==============================] - 7s 182ms/step - loss: 0.1138 - accuracy: 0.9686 - val_loss: 0.4813 - val_accuracy: 0.8610\n",
      "Epoch 11/30\n",
      "40/40 [==============================] - 7s 181ms/step - loss: 0.1038 - accuracy: 0.9720 - val_loss: 0.5222 - val_accuracy: 0.8708\n",
      "Epoch 12/30\n",
      "40/40 [==============================] - 7s 181ms/step - loss: 0.0822 - accuracy: 0.9793 - val_loss: 0.6058 - val_accuracy: 0.8730\n"
     ]
    },
    {
     "name": "stderr",
     "output_type": "stream",
     "text": [
      "/tmp/ipykernel_176921/3694702910.py:36: PerformanceWarning:\n",
      "\n",
      "indexing past lexsort depth may impact performance.\n",
      "\n"
     ]
    },
    {
     "name": "stdout",
     "output_type": "stream",
     "text": [
      "Epoch 1/30\n",
      "40/40 [==============================] - 30s 322ms/step - loss: 1.7237 - accuracy: 0.5236 - val_loss: 1.4962 - val_accuracy: 0.6494\n",
      "Epoch 2/30\n",
      "40/40 [==============================] - 7s 186ms/step - loss: 1.3345 - accuracy: 0.6036 - val_loss: 1.0885 - val_accuracy: 0.7340\n",
      "Epoch 3/30\n",
      "40/40 [==============================] - 7s 185ms/step - loss: 0.9713 - accuracy: 0.7480 - val_loss: 0.7982 - val_accuracy: 0.7934\n",
      "Epoch 4/30\n",
      "40/40 [==============================] - 7s 185ms/step - loss: 0.6769 - accuracy: 0.8306 - val_loss: 0.7344 - val_accuracy: 0.7718\n",
      "Epoch 5/30\n",
      "40/40 [==============================] - 7s 185ms/step - loss: 0.5222 - accuracy: 0.8623 - val_loss: 0.4524 - val_accuracy: 0.8722\n",
      "Epoch 6/30\n",
      "40/40 [==============================] - 7s 182ms/step - loss: 0.4190 - accuracy: 0.8812 - val_loss: 0.4628 - val_accuracy: 0.8356\n",
      "Epoch 7/30\n",
      "40/40 [==============================] - 7s 184ms/step - loss: 0.3526 - accuracy: 0.8900 - val_loss: 0.3654 - val_accuracy: 0.8760\n",
      "Epoch 8/30\n",
      "40/40 [==============================] - 7s 184ms/step - loss: 0.3087 - accuracy: 0.9008 - val_loss: 0.3278 - val_accuracy: 0.8828\n",
      "Epoch 9/30\n",
      "40/40 [==============================] - 7s 185ms/step - loss: 0.2946 - accuracy: 0.8997 - val_loss: 0.3232 - val_accuracy: 0.8806\n",
      "Epoch 10/30\n",
      "40/40 [==============================] - 7s 182ms/step - loss: 0.2578 - accuracy: 0.9096 - val_loss: 0.3287 - val_accuracy: 0.8794\n",
      "Epoch 11/30\n",
      "40/40 [==============================] - 7s 185ms/step - loss: 0.2343 - accuracy: 0.9197 - val_loss: 0.3207 - val_accuracy: 0.8800\n",
      "Epoch 12/30\n",
      "40/40 [==============================] - 7s 181ms/step - loss: 0.2303 - accuracy: 0.9178 - val_loss: 0.3524 - val_accuracy: 0.8758\n",
      "Epoch 13/30\n",
      "40/40 [==============================] - 7s 181ms/step - loss: 0.2112 - accuracy: 0.9249 - val_loss: 0.4105 - val_accuracy: 0.8634\n",
      "Epoch 14/30\n",
      "40/40 [==============================] - 7s 181ms/step - loss: 0.1987 - accuracy: 0.9289 - val_loss: 0.3397 - val_accuracy: 0.8812\n",
      "Epoch 15/30\n",
      "40/40 [==============================] - 7s 180ms/step - loss: 0.1911 - accuracy: 0.9337 - val_loss: 0.3392 - val_accuracy: 0.8702\n",
      "Epoch 16/30\n",
      "40/40 [==============================] - 7s 182ms/step - loss: 0.1801 - accuracy: 0.9394 - val_loss: 0.3512 - val_accuracy: 0.8740\n"
     ]
    },
    {
     "name": "stderr",
     "output_type": "stream",
     "text": [
      "/tmp/ipykernel_176921/3694702910.py:36: PerformanceWarning:\n",
      "\n",
      "indexing past lexsort depth may impact performance.\n",
      "\n"
     ]
    },
    {
     "name": "stdout",
     "output_type": "stream",
     "text": [
      "Epoch 1/30\n",
      "40/40 [==============================] - 32s 319ms/step - loss: 2.3232 - accuracy: 0.7182 - val_loss: 1.6110 - val_accuracy: 0.7984\n",
      "Epoch 2/30\n",
      "40/40 [==============================] - 8s 194ms/step - loss: 1.1244 - accuracy: 0.8856 - val_loss: 0.8422 - val_accuracy: 0.8830\n",
      "Epoch 3/30\n",
      "40/40 [==============================] - 8s 191ms/step - loss: 0.6526 - accuracy: 0.9085 - val_loss: 0.5908 - val_accuracy: 0.8858\n",
      "Epoch 4/30\n",
      "40/40 [==============================] - 7s 188ms/step - loss: 0.4617 - accuracy: 0.9226 - val_loss: 0.5031 - val_accuracy: 0.8746\n",
      "Epoch 5/30\n",
      "40/40 [==============================] - 7s 186ms/step - loss: 0.3707 - accuracy: 0.9313 - val_loss: 0.4476 - val_accuracy: 0.8784\n",
      "Epoch 6/30\n",
      "40/40 [==============================] - 7s 184ms/step - loss: 0.3070 - accuracy: 0.9383 - val_loss: 0.4532 - val_accuracy: 0.8722\n",
      "Epoch 7/30\n",
      "40/40 [==============================] - 7s 187ms/step - loss: 0.2728 - accuracy: 0.9434 - val_loss: 0.4216 - val_accuracy: 0.8760\n",
      "Epoch 8/30\n",
      "40/40 [==============================] - 7s 184ms/step - loss: 0.2396 - accuracy: 0.9497 - val_loss: 0.4394 - val_accuracy: 0.8726\n",
      "Epoch 9/30\n",
      "40/40 [==============================] - 7s 181ms/step - loss: 0.2104 - accuracy: 0.9556 - val_loss: 0.4661 - val_accuracy: 0.8498\n",
      "Epoch 10/30\n",
      "40/40 [==============================] - 7s 180ms/step - loss: 0.1885 - accuracy: 0.9596 - val_loss: 0.4995 - val_accuracy: 0.8642\n",
      "Epoch 11/30\n",
      "40/40 [==============================] - 7s 179ms/step - loss: 0.1579 - accuracy: 0.9707 - val_loss: 0.4762 - val_accuracy: 0.8668\n",
      "Epoch 12/30\n",
      "40/40 [==============================] - 7s 181ms/step - loss: 0.1476 - accuracy: 0.9713 - val_loss: 0.5571 - val_accuracy: 0.8530\n"
     ]
    },
    {
     "name": "stderr",
     "output_type": "stream",
     "text": [
      "/tmp/ipykernel_176921/3694702910.py:36: PerformanceWarning:\n",
      "\n",
      "indexing past lexsort depth may impact performance.\n",
      "\n"
     ]
    },
    {
     "name": "stdout",
     "output_type": "stream",
     "text": [
      "Epoch 1/30\n",
      "40/40 [==============================] - 31s 320ms/step - loss: 2.9535 - accuracy: 0.5239 - val_loss: 2.5923 - val_accuracy: 0.6682\n",
      "Epoch 2/30\n",
      "40/40 [==============================] - 7s 185ms/step - loss: 2.3226 - accuracy: 0.6238 - val_loss: 2.0066 - val_accuracy: 0.6762\n",
      "Epoch 3/30\n",
      "40/40 [==============================] - 7s 185ms/step - loss: 1.7290 - accuracy: 0.7515 - val_loss: 1.3908 - val_accuracy: 0.8360\n",
      "Epoch 4/30\n",
      "40/40 [==============================] - 7s 187ms/step - loss: 1.2546 - accuracy: 0.8283 - val_loss: 1.0391 - val_accuracy: 0.8560\n",
      "Epoch 5/30\n",
      "40/40 [==============================] - 7s 184ms/step - loss: 0.9233 - accuracy: 0.8625 - val_loss: 0.7834 - val_accuracy: 0.8764\n",
      "Epoch 6/30\n",
      "40/40 [==============================] - 7s 184ms/step - loss: 0.7044 - accuracy: 0.8761 - val_loss: 0.6226 - val_accuracy: 0.8728\n",
      "Epoch 7/30\n",
      "40/40 [==============================] - 7s 187ms/step - loss: 0.5339 - accuracy: 0.8910 - val_loss: 0.4903 - val_accuracy: 0.8840\n",
      "Epoch 8/30\n",
      "40/40 [==============================] - 7s 186ms/step - loss: 0.4319 - accuracy: 0.8974 - val_loss: 0.4387 - val_accuracy: 0.8728\n",
      "Epoch 9/30\n",
      "40/40 [==============================] - 7s 186ms/step - loss: 0.3577 - accuracy: 0.9071 - val_loss: 0.3963 - val_accuracy: 0.8820\n",
      "Epoch 10/30\n",
      "40/40 [==============================] - 7s 186ms/step - loss: 0.3135 - accuracy: 0.9102 - val_loss: 0.3831 - val_accuracy: 0.8812\n",
      "Epoch 11/30\n",
      "40/40 [==============================] - 7s 180ms/step - loss: 0.2841 - accuracy: 0.9134 - val_loss: 0.3859 - val_accuracy: 0.8642\n",
      "Epoch 12/30\n",
      "40/40 [==============================] - 7s 185ms/step - loss: 0.2602 - accuracy: 0.9164 - val_loss: 0.3332 - val_accuracy: 0.8820\n",
      "Epoch 13/30\n",
      "40/40 [==============================] - 7s 181ms/step - loss: 0.2452 - accuracy: 0.9225 - val_loss: 0.3622 - val_accuracy: 0.8774\n",
      "Epoch 14/30\n",
      "40/40 [==============================] - 7s 182ms/step - loss: 0.2265 - accuracy: 0.9256 - val_loss: 0.3746 - val_accuracy: 0.8570\n",
      "Epoch 15/30\n",
      "40/40 [==============================] - 7s 182ms/step - loss: 0.2173 - accuracy: 0.9301 - val_loss: 0.4052 - val_accuracy: 0.8706\n",
      "Epoch 16/30\n",
      "40/40 [==============================] - 7s 181ms/step - loss: 0.2092 - accuracy: 0.9329 - val_loss: 0.3357 - val_accuracy: 0.8730\n",
      "Epoch 17/30\n",
      "40/40 [==============================] - 7s 182ms/step - loss: 0.1906 - accuracy: 0.9402 - val_loss: 0.3716 - val_accuracy: 0.8622\n"
     ]
    },
    {
     "name": "stderr",
     "output_type": "stream",
     "text": [
      "/tmp/ipykernel_176921/3694702910.py:36: PerformanceWarning:\n",
      "\n",
      "indexing past lexsort depth may impact performance.\n",
      "\n"
     ]
    },
    {
     "name": "stdout",
     "output_type": "stream",
     "text": [
      "Epoch 1/30\n",
      "40/40 [==============================] - 33s 322ms/step - loss: 2.6304 - accuracy: 0.6816 - val_loss: 1.6919 - val_accuracy: 0.8496\n",
      "Epoch 2/30\n",
      "40/40 [==============================] - 8s 192ms/step - loss: 1.1707 - accuracy: 0.8855 - val_loss: 0.8124 - val_accuracy: 0.8848\n",
      "Epoch 3/30\n",
      "40/40 [==============================] - 8s 190ms/step - loss: 0.6388 - accuracy: 0.9064 - val_loss: 0.6091 - val_accuracy: 0.8792\n",
      "Epoch 4/30\n",
      "40/40 [==============================] - 8s 189ms/step - loss: 0.4686 - accuracy: 0.9180 - val_loss: 0.4981 - val_accuracy: 0.8824\n",
      "Epoch 5/30\n",
      "40/40 [==============================] - 7s 187ms/step - loss: 0.3705 - accuracy: 0.9316 - val_loss: 0.4827 - val_accuracy: 0.8736\n",
      "Epoch 6/30\n",
      "40/40 [==============================] - 8s 189ms/step - loss: 0.3076 - accuracy: 0.9408 - val_loss: 0.4424 - val_accuracy: 0.8702\n",
      "Epoch 7/30\n",
      "40/40 [==============================] - 7s 183ms/step - loss: 0.2766 - accuracy: 0.9431 - val_loss: 0.4557 - val_accuracy: 0.8724\n",
      "Epoch 8/30\n",
      "40/40 [==============================] - 7s 183ms/step - loss: 0.2333 - accuracy: 0.9538 - val_loss: 0.4521 - val_accuracy: 0.8762\n",
      "Epoch 9/30\n",
      "40/40 [==============================] - 7s 181ms/step - loss: 0.2030 - accuracy: 0.9608 - val_loss: 0.4798 - val_accuracy: 0.8710\n",
      "Epoch 10/30\n",
      "40/40 [==============================] - 7s 182ms/step - loss: 0.1833 - accuracy: 0.9634 - val_loss: 0.4882 - val_accuracy: 0.8692\n",
      "Epoch 11/30\n",
      "40/40 [==============================] - 7s 182ms/step - loss: 0.1597 - accuracy: 0.9724 - val_loss: 0.5240 - val_accuracy: 0.8572\n"
     ]
    },
    {
     "name": "stderr",
     "output_type": "stream",
     "text": [
      "/tmp/ipykernel_176921/3694702910.py:36: PerformanceWarning:\n",
      "\n",
      "indexing past lexsort depth may impact performance.\n",
      "\n"
     ]
    },
    {
     "name": "stdout",
     "output_type": "stream",
     "text": [
      "Epoch 1/30\n",
      "40/40 [==============================] - 30s 320ms/step - loss: 3.2866 - accuracy: 0.5276 - val_loss: 2.9095 - val_accuracy: 0.5970\n",
      "Epoch 2/30\n",
      "40/40 [==============================] - 7s 186ms/step - loss: 2.6051 - accuracy: 0.6145 - val_loss: 2.3678 - val_accuracy: 0.6230\n",
      "Epoch 3/30\n",
      "40/40 [==============================] - 7s 187ms/step - loss: 1.9266 - accuracy: 0.7665 - val_loss: 1.5483 - val_accuracy: 0.8378\n",
      "Epoch 4/30\n",
      "40/40 [==============================] - 7s 187ms/step - loss: 1.3696 - accuracy: 0.8339 - val_loss: 1.1105 - val_accuracy: 0.8594\n",
      "Epoch 5/30\n",
      "40/40 [==============================] - 7s 183ms/step - loss: 0.9364 - accuracy: 0.8664 - val_loss: 0.7542 - val_accuracy: 0.8784\n",
      "Epoch 6/30\n",
      "40/40 [==============================] - 7s 185ms/step - loss: 0.6463 - accuracy: 0.8828 - val_loss: 0.5276 - val_accuracy: 0.8832\n",
      "Epoch 7/30\n",
      "40/40 [==============================] - 7s 183ms/step - loss: 0.4430 - accuracy: 0.8929 - val_loss: 0.4397 - val_accuracy: 0.8664\n",
      "Epoch 8/30\n",
      "40/40 [==============================] - 7s 185ms/step - loss: 0.3482 - accuracy: 0.8997 - val_loss: 0.3859 - val_accuracy: 0.8684\n",
      "Epoch 9/30\n",
      "40/40 [==============================] - 7s 184ms/step - loss: 0.3047 - accuracy: 0.9069 - val_loss: 0.3589 - val_accuracy: 0.8724\n",
      "Epoch 10/30\n",
      "40/40 [==============================] - 7s 186ms/step - loss: 0.2849 - accuracy: 0.9108 - val_loss: 0.3380 - val_accuracy: 0.8826\n",
      "Epoch 11/30\n",
      "40/40 [==============================] - 7s 181ms/step - loss: 0.2655 - accuracy: 0.9152 - val_loss: 0.3421 - val_accuracy: 0.8810\n",
      "Epoch 12/30\n",
      "40/40 [==============================] - 7s 181ms/step - loss: 0.2517 - accuracy: 0.9189 - val_loss: 0.3492 - val_accuracy: 0.8730\n",
      "Epoch 13/30\n",
      "40/40 [==============================] - 7s 181ms/step - loss: 0.2421 - accuracy: 0.9225 - val_loss: 0.3582 - val_accuracy: 0.8702\n",
      "Epoch 14/30\n",
      "40/40 [==============================] - 7s 180ms/step - loss: 0.2318 - accuracy: 0.9253 - val_loss: 0.4162 - val_accuracy: 0.8474\n",
      "Epoch 15/30\n",
      "40/40 [==============================] - 7s 182ms/step - loss: 0.2212 - accuracy: 0.9280 - val_loss: 0.3597 - val_accuracy: 0.8760\n"
     ]
    },
    {
     "name": "stderr",
     "output_type": "stream",
     "text": [
      "/tmp/ipykernel_176921/3694702910.py:36: PerformanceWarning:\n",
      "\n",
      "indexing past lexsort depth may impact performance.\n",
      "\n"
     ]
    },
    {
     "name": "stdout",
     "output_type": "stream",
     "text": [
      "Epoch 1/30\n",
      "40/40 [==============================] - 32s 322ms/step - loss: 4.8487 - accuracy: 0.6405 - val_loss: 3.8617 - val_accuracy: 0.8006\n",
      "Epoch 2/30\n",
      "40/40 [==============================] - 8s 196ms/step - loss: 3.1436 - accuracy: 0.8796 - val_loss: 2.5848 - val_accuracy: 0.8828\n",
      "Epoch 3/30\n",
      "40/40 [==============================] - 8s 190ms/step - loss: 2.1227 - accuracy: 0.9063 - val_loss: 1.8295 - val_accuracy: 0.8768\n",
      "Epoch 4/30\n",
      "40/40 [==============================] - 8s 189ms/step - loss: 1.4472 - accuracy: 0.9272 - val_loss: 1.3085 - val_accuracy: 0.8764\n",
      "Epoch 5/30\n",
      "40/40 [==============================] - 8s 190ms/step - loss: 1.0359 - accuracy: 0.9369 - val_loss: 1.0716 - val_accuracy: 0.8708\n",
      "Epoch 6/30\n",
      "40/40 [==============================] - 8s 188ms/step - loss: 0.7933 - accuracy: 0.9483 - val_loss: 0.9226 - val_accuracy: 0.8714\n",
      "Epoch 7/30\n",
      "40/40 [==============================] - 7s 187ms/step - loss: 0.6500 - accuracy: 0.9547 - val_loss: 0.8275 - val_accuracy: 0.8722\n",
      "Epoch 8/30\n",
      "40/40 [==============================] - 7s 187ms/step - loss: 0.5356 - accuracy: 0.9660 - val_loss: 0.7963 - val_accuracy: 0.8710\n",
      "Epoch 9/30\n",
      "40/40 [==============================] - 7s 187ms/step - loss: 0.4742 - accuracy: 0.9643 - val_loss: 0.7459 - val_accuracy: 0.8580\n",
      "Epoch 10/30\n",
      "40/40 [==============================] - 8s 188ms/step - loss: 0.4033 - accuracy: 0.9749 - val_loss: 0.7303 - val_accuracy: 0.8652\n",
      "Epoch 11/30\n",
      "40/40 [==============================] - 7s 181ms/step - loss: 0.3531 - accuracy: 0.9795 - val_loss: 0.7399 - val_accuracy: 0.8732\n",
      "Epoch 12/30\n",
      "40/40 [==============================] - 7s 182ms/step - loss: 0.3153 - accuracy: 0.9827 - val_loss: 0.7956 - val_accuracy: 0.8708\n",
      "Epoch 13/30\n",
      "40/40 [==============================] - 7s 183ms/step - loss: 0.2825 - accuracy: 0.9850 - val_loss: 0.7924 - val_accuracy: 0.8650\n",
      "Epoch 14/30\n",
      "40/40 [==============================] - 7s 181ms/step - loss: 0.2621 - accuracy: 0.9855 - val_loss: 0.7690 - val_accuracy: 0.8610\n",
      "Epoch 15/30\n",
      "40/40 [==============================] - 7s 181ms/step - loss: 0.2313 - accuracy: 0.9895 - val_loss: 0.8230 - val_accuracy: 0.8646\n"
     ]
    },
    {
     "name": "stderr",
     "output_type": "stream",
     "text": [
      "/tmp/ipykernel_176921/3694702910.py:36: PerformanceWarning:\n",
      "\n",
      "indexing past lexsort depth may impact performance.\n",
      "\n"
     ]
    },
    {
     "name": "stdout",
     "output_type": "stream",
     "text": [
      "Epoch 1/30\n",
      "40/40 [==============================] - 30s 323ms/step - loss: 5.4889 - accuracy: 0.5177 - val_loss: 5.1162 - val_accuracy: 0.5054\n",
      "Epoch 2/30\n",
      "40/40 [==============================] - 7s 187ms/step - loss: 4.8277 - accuracy: 0.5534 - val_loss: 4.4005 - val_accuracy: 0.7212\n",
      "Epoch 3/30\n",
      "40/40 [==============================] - 7s 184ms/step - loss: 4.1279 - accuracy: 0.7132 - val_loss: 3.7974 - val_accuracy: 0.7488\n",
      "Epoch 4/30\n",
      "40/40 [==============================] - 7s 185ms/step - loss: 3.4779 - accuracy: 0.8084 - val_loss: 3.1651 - val_accuracy: 0.8452\n",
      "Epoch 5/30\n",
      "40/40 [==============================] - 7s 185ms/step - loss: 2.9265 - accuracy: 0.8529 - val_loss: 2.7739 - val_accuracy: 0.8154\n",
      "Epoch 6/30\n",
      "40/40 [==============================] - 7s 185ms/step - loss: 2.4673 - accuracy: 0.8773 - val_loss: 2.2940 - val_accuracy: 0.8634\n",
      "Epoch 7/30\n",
      "40/40 [==============================] - 7s 185ms/step - loss: 2.0957 - accuracy: 0.8868 - val_loss: 2.0223 - val_accuracy: 0.8408\n",
      "Epoch 8/30\n",
      "40/40 [==============================] - 7s 184ms/step - loss: 1.7623 - accuracy: 0.9001 - val_loss: 1.6937 - val_accuracy: 0.8702\n",
      "Epoch 9/30\n",
      "40/40 [==============================] - 7s 185ms/step - loss: 1.4782 - accuracy: 0.9122 - val_loss: 1.4346 - val_accuracy: 0.8726\n",
      "Epoch 10/30\n",
      "40/40 [==============================] - 7s 186ms/step - loss: 1.2626 - accuracy: 0.9142 - val_loss: 1.2650 - val_accuracy: 0.8724\n",
      "Epoch 11/30\n",
      "40/40 [==============================] - 7s 187ms/step - loss: 1.0653 - accuracy: 0.9240 - val_loss: 1.1982 - val_accuracy: 0.8556\n",
      "Epoch 12/30\n",
      "40/40 [==============================] - 7s 183ms/step - loss: 0.8919 - accuracy: 0.9330 - val_loss: 1.1870 - val_accuracy: 0.8182\n",
      "Epoch 13/30\n",
      "40/40 [==============================] - 7s 185ms/step - loss: 0.7419 - accuracy: 0.9470 - val_loss: 0.9130 - val_accuracy: 0.8552\n",
      "Epoch 14/30\n",
      "40/40 [==============================] - 7s 184ms/step - loss: 0.6502 - accuracy: 0.9481 - val_loss: 0.8704 - val_accuracy: 0.8592\n",
      "Epoch 15/30\n",
      "40/40 [==============================] - 7s 181ms/step - loss: 0.5388 - accuracy: 0.9603 - val_loss: 1.2101 - val_accuracy: 0.8150\n",
      "Epoch 16/30\n",
      "40/40 [==============================] - 7s 187ms/step - loss: 0.4872 - accuracy: 0.9584 - val_loss: 0.8185 - val_accuracy: 0.8468\n",
      "Epoch 17/30\n",
      "40/40 [==============================] - 7s 182ms/step - loss: 0.4159 - accuracy: 0.9675 - val_loss: 0.9624 - val_accuracy: 0.8176\n",
      "Epoch 18/30\n",
      "40/40 [==============================] - 7s 181ms/step - loss: 0.3565 - accuracy: 0.9770 - val_loss: 0.8721 - val_accuracy: 0.8572\n",
      "Epoch 19/30\n",
      "40/40 [==============================] - 7s 186ms/step - loss: 0.4028 - accuracy: 0.9617 - val_loss: 0.8119 - val_accuracy: 0.8582\n",
      "Epoch 20/30\n",
      "40/40 [==============================] - 7s 182ms/step - loss: 0.3073 - accuracy: 0.9790 - val_loss: 0.9670 - val_accuracy: 0.7980\n",
      "Epoch 21/30\n",
      "40/40 [==============================] - 7s 185ms/step - loss: 0.3387 - accuracy: 0.9668 - val_loss: 0.7607 - val_accuracy: 0.8676\n",
      "Epoch 22/30\n",
      "40/40 [==============================] - 7s 181ms/step - loss: 0.2713 - accuracy: 0.9812 - val_loss: 0.7900 - val_accuracy: 0.8672\n",
      "Epoch 23/30\n",
      "40/40 [==============================] - 7s 182ms/step - loss: 0.2630 - accuracy: 0.9753 - val_loss: 0.9432 - val_accuracy: 0.8070\n",
      "Epoch 24/30\n",
      "40/40 [==============================] - 7s 184ms/step - loss: 0.2366 - accuracy: 0.9823 - val_loss: 0.6531 - val_accuracy: 0.8648\n",
      "Epoch 25/30\n",
      "40/40 [==============================] - 7s 181ms/step - loss: 0.2038 - accuracy: 0.9890 - val_loss: 0.7882 - val_accuracy: 0.8604\n",
      "Epoch 26/30\n",
      "40/40 [==============================] - 7s 181ms/step - loss: 0.2115 - accuracy: 0.9827 - val_loss: 0.7481 - val_accuracy: 0.8592\n",
      "Epoch 27/30\n",
      "40/40 [==============================] - 7s 181ms/step - loss: 0.1958 - accuracy: 0.9854 - val_loss: 0.7409 - val_accuracy: 0.8616\n",
      "Epoch 28/30\n",
      "40/40 [==============================] - 7s 181ms/step - loss: 0.1838 - accuracy: 0.9859 - val_loss: 0.7068 - val_accuracy: 0.8660\n",
      "Epoch 29/30\n",
      "40/40 [==============================] - 7s 181ms/step - loss: 0.1629 - accuracy: 0.9899 - val_loss: 0.7263 - val_accuracy: 0.8624\n"
     ]
    },
    {
     "name": "stderr",
     "output_type": "stream",
     "text": [
      "/tmp/ipykernel_176921/3694702910.py:36: PerformanceWarning:\n",
      "\n",
      "indexing past lexsort depth may impact performance.\n",
      "\n"
     ]
    },
    {
     "name": "stdout",
     "output_type": "stream",
     "text": [
      "Epoch 1/30\n",
      "40/40 [==============================] - 33s 323ms/step - loss: 2.1027 - accuracy: 0.6470 - val_loss: 1.3112 - val_accuracy: 0.8338\n",
      "Epoch 2/30\n",
      "40/40 [==============================] - 8s 200ms/step - loss: 0.9306 - accuracy: 0.8709 - val_loss: 0.6834 - val_accuracy: 0.8800\n",
      "Epoch 3/30\n",
      "40/40 [==============================] - 8s 189ms/step - loss: 0.5431 - accuracy: 0.9017 - val_loss: 0.5050 - val_accuracy: 0.8824\n",
      "Epoch 4/30\n",
      "40/40 [==============================] - 8s 191ms/step - loss: 0.3929 - accuracy: 0.9179 - val_loss: 0.4468 - val_accuracy: 0.8762\n",
      "Epoch 5/30\n",
      "40/40 [==============================] - 8s 188ms/step - loss: 0.3197 - accuracy: 0.9258 - val_loss: 0.4171 - val_accuracy: 0.8744\n",
      "Epoch 6/30\n",
      "40/40 [==============================] - 7s 185ms/step - loss: 0.2751 - accuracy: 0.9331 - val_loss: 0.4147 - val_accuracy: 0.8706\n",
      "Epoch 7/30\n",
      "40/40 [==============================] - 8s 189ms/step - loss: 0.2439 - accuracy: 0.9388 - val_loss: 0.3797 - val_accuracy: 0.8652\n",
      "Epoch 8/30\n",
      "40/40 [==============================] - 7s 182ms/step - loss: 0.2197 - accuracy: 0.9425 - val_loss: 0.4360 - val_accuracy: 0.8678\n",
      "Epoch 9/30\n",
      "40/40 [==============================] - 7s 183ms/step - loss: 0.1873 - accuracy: 0.9536 - val_loss: 0.4230 - val_accuracy: 0.8690\n",
      "Epoch 10/30\n",
      "40/40 [==============================] - 7s 183ms/step - loss: 0.1740 - accuracy: 0.9552 - val_loss: 0.4625 - val_accuracy: 0.8606\n",
      "Epoch 11/30\n",
      "40/40 [==============================] - 7s 181ms/step - loss: 0.1720 - accuracy: 0.9553 - val_loss: 0.4276 - val_accuracy: 0.8564\n",
      "Epoch 12/30\n",
      "40/40 [==============================] - 7s 180ms/step - loss: 0.1480 - accuracy: 0.9635 - val_loss: 0.4448 - val_accuracy: 0.8622\n"
     ]
    },
    {
     "name": "stderr",
     "output_type": "stream",
     "text": [
      "/tmp/ipykernel_176921/3694702910.py:36: PerformanceWarning:\n",
      "\n",
      "indexing past lexsort depth may impact performance.\n",
      "\n"
     ]
    },
    {
     "name": "stdout",
     "output_type": "stream",
     "text": [
      "Epoch 1/30\n",
      "40/40 [==============================] - 31s 322ms/step - loss: 2.6456 - accuracy: 0.5178 - val_loss: 2.3090 - val_accuracy: 0.4956\n",
      "Epoch 2/30\n",
      "40/40 [==============================] - 8s 188ms/step - loss: 2.0214 - accuracy: 0.6250 - val_loss: 1.6559 - val_accuracy: 0.7526\n",
      "Epoch 3/30\n",
      "40/40 [==============================] - 7s 186ms/step - loss: 1.4770 - accuracy: 0.7503 - val_loss: 1.2387 - val_accuracy: 0.7788\n",
      "Epoch 4/30\n",
      "40/40 [==============================] - 7s 187ms/step - loss: 1.0207 - accuracy: 0.8343 - val_loss: 0.8395 - val_accuracy: 0.8596\n",
      "Epoch 5/30\n",
      "40/40 [==============================] - 7s 186ms/step - loss: 0.7502 - accuracy: 0.8571 - val_loss: 0.6562 - val_accuracy: 0.8576\n",
      "Epoch 6/30\n",
      "40/40 [==============================] - 7s 186ms/step - loss: 0.5613 - accuracy: 0.8754 - val_loss: 0.4946 - val_accuracy: 0.8782\n",
      "Epoch 7/30\n",
      "40/40 [==============================] - 7s 186ms/step - loss: 0.4348 - accuracy: 0.8941 - val_loss: 0.4156 - val_accuracy: 0.8818\n",
      "Epoch 8/30\n",
      "40/40 [==============================] - 7s 184ms/step - loss: 0.3659 - accuracy: 0.9001 - val_loss: 0.3683 - val_accuracy: 0.8830\n",
      "Epoch 9/30\n",
      "40/40 [==============================] - 7s 183ms/step - loss: 0.3138 - accuracy: 0.9075 - val_loss: 0.3864 - val_accuracy: 0.8744\n",
      "Epoch 10/30\n",
      "40/40 [==============================] - 7s 181ms/step - loss: 0.2872 - accuracy: 0.9101 - val_loss: 0.4464 - val_accuracy: 0.8246\n",
      "Epoch 11/30\n",
      "40/40 [==============================] - 7s 186ms/step - loss: 0.2666 - accuracy: 0.9119 - val_loss: 0.3375 - val_accuracy: 0.8798\n",
      "Epoch 12/30\n",
      "40/40 [==============================] - 7s 181ms/step - loss: 0.2456 - accuracy: 0.9192 - val_loss: 0.3589 - val_accuracy: 0.8738\n",
      "Epoch 13/30\n",
      "40/40 [==============================] - 7s 181ms/step - loss: 0.2335 - accuracy: 0.9238 - val_loss: 0.3936 - val_accuracy: 0.8676\n",
      "Epoch 14/30\n",
      "40/40 [==============================] - 7s 186ms/step - loss: 0.2339 - accuracy: 0.9222 - val_loss: 0.3349 - val_accuracy: 0.8728\n",
      "Epoch 15/30\n",
      "40/40 [==============================] - 7s 181ms/step - loss: 0.2183 - accuracy: 0.9279 - val_loss: 0.3373 - val_accuracy: 0.8776\n",
      "Epoch 16/30\n",
      "40/40 [==============================] - 7s 182ms/step - loss: 0.2096 - accuracy: 0.9337 - val_loss: 0.3534 - val_accuracy: 0.8806\n",
      "Epoch 17/30\n",
      "40/40 [==============================] - 7s 183ms/step - loss: 0.2042 - accuracy: 0.9330 - val_loss: 0.3412 - val_accuracy: 0.8720\n",
      "Epoch 18/30\n",
      "40/40 [==============================] - 7s 183ms/step - loss: 0.1993 - accuracy: 0.9360 - val_loss: 0.3467 - val_accuracy: 0.8684\n",
      "Epoch 19/30\n",
      "40/40 [==============================] - 7s 181ms/step - loss: 0.1927 - accuracy: 0.9389 - val_loss: 0.3555 - val_accuracy: 0.8734\n"
     ]
    },
    {
     "name": "stderr",
     "output_type": "stream",
     "text": [
      "/tmp/ipykernel_176921/3694702910.py:36: PerformanceWarning:\n",
      "\n",
      "indexing past lexsort depth may impact performance.\n",
      "\n",
      "/tmp/ipykernel_176921/3694702910.py:38: FutureWarning:\n",
      "\n",
      "DataFrame.applymap has been deprecated. Use DataFrame.map instead.\n",
      "\n"
     ]
    },
    {
     "data": {
      "text/html": [
       "<div>\n",
       "<style scoped>\n",
       "    .dataframe tbody tr th:only-of-type {\n",
       "        vertical-align: middle;\n",
       "    }\n",
       "\n",
       "    .dataframe tbody tr th {\n",
       "        vertical-align: top;\n",
       "    }\n",
       "\n",
       "    .dataframe thead th {\n",
       "        text-align: right;\n",
       "    }\n",
       "</style>\n",
       "<table border=\"1\" class=\"dataframe\">\n",
       "  <thead>\n",
       "    <tr style=\"text-align: right;\">\n",
       "      <th></th>\n",
       "      <th></th>\n",
       "      <th></th>\n",
       "      <th>train</th>\n",
       "      <th>val</th>\n",
       "      <th>test</th>\n",
       "    </tr>\n",
       "    <tr>\n",
       "      <th>regularizer</th>\n",
       "      <th>initializer</th>\n",
       "      <th>optimizer</th>\n",
       "      <th></th>\n",
       "      <th></th>\n",
       "      <th></th>\n",
       "    </tr>\n",
       "  </thead>\n",
       "  <tbody>\n",
       "    <tr>\n",
       "      <th rowspan=\"8\" valign=\"top\">L1</th>\n",
       "      <th rowspan=\"2\" valign=\"top\">'random_normal'</th>\n",
       "      <th>Adam</th>\n",
       "      <td>95.29</td>\n",
       "      <td>88.26</td>\n",
       "      <td>87.42</td>\n",
       "    </tr>\n",
       "    <tr>\n",
       "      <th>RMSprop</th>\n",
       "      <td>95.29</td>\n",
       "      <td>88.26</td>\n",
       "      <td>87.42</td>\n",
       "    </tr>\n",
       "    <tr>\n",
       "      <th rowspan=\"2\" valign=\"top\">'glorot_uniform'</th>\n",
       "      <th>Adam</th>\n",
       "      <td>94.03</td>\n",
       "      <td>88.14</td>\n",
       "      <td>87.57</td>\n",
       "    </tr>\n",
       "    <tr>\n",
       "      <th>RMSprop</th>\n",
       "      <td>94.03</td>\n",
       "      <td>88.14</td>\n",
       "      <td>87.57</td>\n",
       "    </tr>\n",
       "    <tr>\n",
       "      <th rowspan=\"2\" valign=\"top\">'he_normal'</th>\n",
       "      <th>Adam</th>\n",
       "      <td>96.73</td>\n",
       "      <td>85.02</td>\n",
       "      <td>84.52</td>\n",
       "    </tr>\n",
       "    <tr>\n",
       "      <th>RMSprop</th>\n",
       "      <td>96.73</td>\n",
       "      <td>85.02</td>\n",
       "      <td>84.52</td>\n",
       "    </tr>\n",
       "    <tr>\n",
       "      <th rowspan=\"2\" valign=\"top\">'orthogonal'</th>\n",
       "      <th>Adam</th>\n",
       "      <td>95.05</td>\n",
       "      <td>87.34</td>\n",
       "      <td>86.74</td>\n",
       "    </tr>\n",
       "    <tr>\n",
       "      <th>RMSprop</th>\n",
       "      <td>95.05</td>\n",
       "      <td>87.34</td>\n",
       "      <td>86.74</td>\n",
       "    </tr>\n",
       "    <tr>\n",
       "      <th rowspan=\"8\" valign=\"top\">L2</th>\n",
       "      <th rowspan=\"2\" valign=\"top\">'random_normal'</th>\n",
       "      <th>Adam</th>\n",
       "      <td>94.52</td>\n",
       "      <td>87.98</td>\n",
       "      <td>87.46</td>\n",
       "    </tr>\n",
       "    <tr>\n",
       "      <th>RMSprop</th>\n",
       "      <td>94.52</td>\n",
       "      <td>87.98</td>\n",
       "      <td>87.46</td>\n",
       "    </tr>\n",
       "    <tr>\n",
       "      <th rowspan=\"2\" valign=\"top\">'glorot_uniform'</th>\n",
       "      <th>Adam</th>\n",
       "      <td>93.98</td>\n",
       "      <td>87.98</td>\n",
       "      <td>87.18</td>\n",
       "    </tr>\n",
       "    <tr>\n",
       "      <th>RMSprop</th>\n",
       "      <td>93.98</td>\n",
       "      <td>87.98</td>\n",
       "      <td>87.18</td>\n",
       "    </tr>\n",
       "    <tr>\n",
       "      <th rowspan=\"2\" valign=\"top\">'he_normal'</th>\n",
       "      <th>Adam</th>\n",
       "      <td>97.61</td>\n",
       "      <td>88.02</td>\n",
       "      <td>87.27</td>\n",
       "    </tr>\n",
       "    <tr>\n",
       "      <th>RMSprop</th>\n",
       "      <td>97.61</td>\n",
       "      <td>88.02</td>\n",
       "      <td>87.27</td>\n",
       "    </tr>\n",
       "    <tr>\n",
       "      <th rowspan=\"2\" valign=\"top\">'orthogonal'</th>\n",
       "      <th>Adam</th>\n",
       "      <td>94.09</td>\n",
       "      <td>88.00</td>\n",
       "      <td>87.56</td>\n",
       "    </tr>\n",
       "    <tr>\n",
       "      <th>RMSprop</th>\n",
       "      <td>94.09</td>\n",
       "      <td>88.00</td>\n",
       "      <td>87.56</td>\n",
       "    </tr>\n",
       "    <tr>\n",
       "      <th rowspan=\"8\" valign=\"top\">L1L2</th>\n",
       "      <th rowspan=\"2\" valign=\"top\">'random_normal'</th>\n",
       "      <th>Adam</th>\n",
       "      <td>94.21</td>\n",
       "      <td>88.20</td>\n",
       "      <td>87.32</td>\n",
       "    </tr>\n",
       "    <tr>\n",
       "      <th>RMSprop</th>\n",
       "      <td>94.21</td>\n",
       "      <td>88.20</td>\n",
       "      <td>87.32</td>\n",
       "    </tr>\n",
       "    <tr>\n",
       "      <th rowspan=\"2\" valign=\"top\">'glorot_uniform'</th>\n",
       "      <th>Adam</th>\n",
       "      <td>93.31</td>\n",
       "      <td>88.26</td>\n",
       "      <td>87.56</td>\n",
       "    </tr>\n",
       "    <tr>\n",
       "      <th>RMSprop</th>\n",
       "      <td>93.31</td>\n",
       "      <td>88.26</td>\n",
       "      <td>87.56</td>\n",
       "    </tr>\n",
       "    <tr>\n",
       "      <th rowspan=\"2\" valign=\"top\">'he_normal'</th>\n",
       "      <th>Adam</th>\n",
       "      <td>99.39</td>\n",
       "      <td>86.48</td>\n",
       "      <td>85.75</td>\n",
       "    </tr>\n",
       "    <tr>\n",
       "      <th>RMSprop</th>\n",
       "      <td>99.39</td>\n",
       "      <td>86.48</td>\n",
       "      <td>85.75</td>\n",
       "    </tr>\n",
       "    <tr>\n",
       "      <th rowspan=\"2\" valign=\"top\">'orthogonal'</th>\n",
       "      <th>Adam</th>\n",
       "      <td>93.52</td>\n",
       "      <td>87.28</td>\n",
       "      <td>86.89</td>\n",
       "    </tr>\n",
       "    <tr>\n",
       "      <th>RMSprop</th>\n",
       "      <td>93.52</td>\n",
       "      <td>87.28</td>\n",
       "      <td>86.89</td>\n",
       "    </tr>\n",
       "  </tbody>\n",
       "</table>\n",
       "</div>"
      ],
      "text/plain": [
       "                                        train    val   test\n",
       "regularizer initializer      optimizer                     \n",
       "L1          'random_normal'  Adam       95.29  88.26  87.42\n",
       "                             RMSprop    95.29  88.26  87.42\n",
       "            'glorot_uniform' Adam       94.03  88.14  87.57\n",
       "                             RMSprop    94.03  88.14  87.57\n",
       "            'he_normal'      Adam       96.73  85.02  84.52\n",
       "                             RMSprop    96.73  85.02  84.52\n",
       "            'orthogonal'     Adam       95.05  87.34  86.74\n",
       "                             RMSprop    95.05  87.34  86.74\n",
       "L2          'random_normal'  Adam       94.52  87.98  87.46\n",
       "                             RMSprop    94.52  87.98  87.46\n",
       "            'glorot_uniform' Adam       93.98  87.98  87.18\n",
       "                             RMSprop    93.98  87.98  87.18\n",
       "            'he_normal'      Adam       97.61  88.02  87.27\n",
       "                             RMSprop    97.61  88.02  87.27\n",
       "            'orthogonal'     Adam       94.09  88.00  87.56\n",
       "                             RMSprop    94.09  88.00  87.56\n",
       "L1L2        'random_normal'  Adam       94.21  88.20  87.32\n",
       "                             RMSprop    94.21  88.20  87.32\n",
       "            'glorot_uniform' Adam       93.31  88.26  87.56\n",
       "                             RMSprop    93.31  88.26  87.56\n",
       "            'he_normal'      Adam       99.39  86.48  85.75\n",
       "                             RMSprop    99.39  86.48  85.75\n",
       "            'orthogonal'     Adam       93.52  87.28  86.89\n",
       "                             RMSprop    93.52  87.28  86.89"
      ]
     },
     "execution_count": 7,
     "metadata": {},
     "output_type": "execute_result"
    }
   ],
   "source": [
    "grid = OrderedDict(\n",
    "    regularizer = [L1(1e-4), L2(1e-3), L1L2(1e-4)],\n",
    "    initializer=['random_normal', 'glorot_uniform', 'he_normal', 'orthogonal'],\n",
    "    optimizer=[Adam, RMSprop]\n",
    ")\n",
    "Regularizer.__repr__ = lambda x: x.__class__.__name__\n",
    "dataset = AmazonDataset.load(train_path=path_dir + \"train_small.txt\", test_path=path_dir + \"test_small.txt\", max_features=2000)\n",
    "\n",
    "def tostring(x):\n",
    "    if isinstance(x, type):\n",
    "        return x.__name__\n",
    "    else:\n",
    "        return repr(x)\n",
    "\n",
    "def applydeep(lists, func):\n",
    "    result = []\n",
    "    for item in lists:\n",
    "        result.append(list(map(func, item)))\n",
    "    return result\n",
    "\n",
    "df = pd.DataFrame(columns=['train', 'val', 'test'], \n",
    "                  index=pd.MultiIndex.from_product(applydeep(grid.values(), tostring)))\n",
    "df.index.names = ['regularizer', 'initializer', 'optimizer']\n",
    "\n",
    "for i, params in enumerate(product(*grid.values())):\n",
    "    params = dict(zip(grid.keys(), params))\n",
    "    optimizer = params.pop('optimizer')\n",
    "    model = AmazonReviewsModel(\n",
    "        2000, 128, LSTM, num_recurrent_layers=4, dropout=0.2, ffn_dims=[128, 64], num_transformers=3, \n",
    "        bidirectional=True, **params\n",
    "    )\n",
    "    model.train(dataset,f'results/amazon.weights.h5', opt=optimizer, **train_default)\n",
    "    _, train_acc = model.evaluate(dataset.X_train, dataset.y_train)\n",
    "    _, val_acc = model.evaluate(dataset.X_val, dataset.y_val)\n",
    "    _, test_acc = model.evaluate(dataset.X_test, dataset.y_test)\n",
    "    df.loc[tuple(map(tostring, params.values()))] = [train_acc, val_acc, test_acc]\n",
    "    df.to_csv('grid.csv')\n",
    "df = df.applymap(lambda x: round(x*100, 2))\n",
    "df"
   ]
  },
  {
   "cell_type": "code",
   "execution_count": 8,
   "metadata": {},
   "outputs": [
    {
     "name": "stdout",
     "output_type": "stream",
     "text": [
      "train    99.39\n",
      "val      88.26\n",
      "test     87.57\n",
      "dtype: float64\n",
      "train       (L1L2, 'he_normal', Adam)\n",
      "val       (L1, 'random_normal', Adam)\n",
      "test     (L1, 'glorot_uniform', Adam)\n",
      "dtype: object\n"
     ]
    }
   ],
   "source": [
    "print(df.max())\n",
    "print(df.idxmax())"
   ]
  },
  {
   "cell_type": "markdown",
   "metadata": {},
   "source": [
    "The final outcome does not show a special improvement varying other the configuration of the network from the performance obtained with bidirectional cells and Transformers (near 87-88% of accuracy in the validation and test set). For this reason, we did not include weight regularization or special initializations for the final proposed architecture."
   ]
  },
  {
   "cell_type": "markdown",
   "metadata": {},
   "source": [
    "## Final comparison\n",
    "\n",
    "The next cell shows the final comparison of all the models evaluated in this work. "
   ]
  },
  {
   "cell_type": "code",
   "execution_count": 26,
   "metadata": {},
   "outputs": [],
   "source": [
    "base = [rnn_model, lstm_model, gru_model]\n",
    "models = [\n",
    "    lstm_enhanced, gru_enhanced, \n",
    "    birnn_model, bilstm_model, bigru_model,\n",
    "    birnn_transformer, bilstm_transformer, bigru_transformer\n",
    "]\n",
    "dataset1 = AmazonDataset.load(train_path=path_dir + \"train_small.txt\", test_path=path_dir + \"test_small.txt\", max_features=1000)\n",
    "dataset2 = AmazonDataset.load(train_path=path_dir + \"train_small.txt\", test_path=path_dir + \"test_small.txt\", max_features=2000)\n",
    "\n",
    "names = [model.name for model in base+models]\n",
    "train_accs = [model.evaluate(dataset1.X_train, dataset1.y_train)[1] for model in base] + [model.evaluate(dataset2.X_train, dataset2.y_train)[1] for model in models]\n",
    "test_accs = [model.evaluate(dataset1.X_test, dataset1.y_test)[1] for model in base] + [model.evaluate(dataset2.X_test, dataset2.y_test)[1] for model in models]"
   ]
  },
  {
   "cell_type": "code",
   "execution_count": 45,
   "metadata": {},
   "outputs": [
    {
     "data": {
      "application/vnd.plotly.v1+json": {
       "config": {
        "plotlyServerURL": "https://plot.ly"
       },
       "data": [
        {
         "mode": "text+markers",
         "text": [
          "SimpleRNN-base",
          "LSTM-base",
          "GRU-base",
          "LSTM-enhanced",
          "GRU-enhanced",
          "BiRNN",
          "BiLSTM",
          "BiGRU",
          "BiRNN-transformer",
          "BiLSTM-transformer",
          "BiGRU-transformer"
         ],
         "textposition": "top right",
         "type": "scatter",
         "x": [
          0.8839499950408936,
          0.8797500133514404,
          0.8890500068664551,
          0.9126999974250793,
          0.9192500114440918,
          0.8998500108718872,
          0.9150000214576721,
          0.9164999723434448,
          0.9297000169754028,
          0.9294499754905701,
          0.9168999791145325
         ],
         "y": [
          0.83815997838974,
          0.8525199890136719,
          0.8619999885559082,
          0.8589199781417847,
          0.8643199801445007,
          0.8606799840927124,
          0.8692399859428406,
          0.871720016002655,
          0.8738399744033813,
          0.8779600262641907,
          0.8766000270843506
         ]
        }
       ],
       "layout": {
        "height": 600,
        "margin": {
         "b": 10,
         "l": 10,
         "r": 10,
         "t": 50
        },
        "template": {
         "data": {
          "bar": [
           {
            "error_x": {
             "color": "rgb(36,36,36)"
            },
            "error_y": {
             "color": "rgb(36,36,36)"
            },
            "marker": {
             "line": {
              "color": "rgb(234,234,242)",
              "width": 0.5
             },
             "pattern": {
              "fillmode": "overlay",
              "size": 10,
              "solidity": 0.2
             }
            },
            "type": "bar"
           }
          ],
          "barpolar": [
           {
            "marker": {
             "line": {
              "color": "rgb(234,234,242)",
              "width": 0.5
             },
             "pattern": {
              "fillmode": "overlay",
              "size": 10,
              "solidity": 0.2
             }
            },
            "type": "barpolar"
           }
          ],
          "carpet": [
           {
            "aaxis": {
             "endlinecolor": "rgb(36,36,36)",
             "gridcolor": "white",
             "linecolor": "white",
             "minorgridcolor": "white",
             "startlinecolor": "rgb(36,36,36)"
            },
            "baxis": {
             "endlinecolor": "rgb(36,36,36)",
             "gridcolor": "white",
             "linecolor": "white",
             "minorgridcolor": "white",
             "startlinecolor": "rgb(36,36,36)"
            },
            "type": "carpet"
           }
          ],
          "choropleth": [
           {
            "colorbar": {
             "outlinewidth": 0,
             "tickcolor": "rgb(36,36,36)",
             "ticklen": 8,
             "ticks": "outside",
             "tickwidth": 2
            },
            "type": "choropleth"
           }
          ],
          "contour": [
           {
            "colorbar": {
             "outlinewidth": 0,
             "tickcolor": "rgb(36,36,36)",
             "ticklen": 8,
             "ticks": "outside",
             "tickwidth": 2
            },
            "colorscale": [
             [
              0,
              "rgb(2,4,25)"
             ],
             [
              0.06274509803921569,
              "rgb(24,15,41)"
             ],
             [
              0.12549019607843137,
              "rgb(47,23,57)"
             ],
             [
              0.18823529411764706,
              "rgb(71,28,72)"
             ],
             [
              0.25098039215686274,
              "rgb(97,30,82)"
             ],
             [
              0.3137254901960784,
              "rgb(123,30,89)"
             ],
             [
              0.3764705882352941,
              "rgb(150,27,91)"
             ],
             [
              0.4392156862745098,
              "rgb(177,22,88)"
             ],
             [
              0.5019607843137255,
              "rgb(203,26,79)"
             ],
             [
              0.5647058823529412,
              "rgb(223,47,67)"
             ],
             [
              0.6274509803921569,
              "rgb(236,76,61)"
             ],
             [
              0.6901960784313725,
              "rgb(242,107,73)"
             ],
             [
              0.7529411764705882,
              "rgb(244,135,95)"
             ],
             [
              0.8156862745098039,
              "rgb(245,162,122)"
             ],
             [
              0.8784313725490196,
              "rgb(246,188,153)"
             ],
             [
              0.9411764705882353,
              "rgb(247,212,187)"
             ],
             [
              1,
              "rgb(250,234,220)"
             ]
            ],
            "type": "contour"
           }
          ],
          "contourcarpet": [
           {
            "colorbar": {
             "outlinewidth": 0,
             "tickcolor": "rgb(36,36,36)",
             "ticklen": 8,
             "ticks": "outside",
             "tickwidth": 2
            },
            "type": "contourcarpet"
           }
          ],
          "heatmap": [
           {
            "colorbar": {
             "outlinewidth": 0,
             "tickcolor": "rgb(36,36,36)",
             "ticklen": 8,
             "ticks": "outside",
             "tickwidth": 2
            },
            "colorscale": [
             [
              0,
              "rgb(2,4,25)"
             ],
             [
              0.06274509803921569,
              "rgb(24,15,41)"
             ],
             [
              0.12549019607843137,
              "rgb(47,23,57)"
             ],
             [
              0.18823529411764706,
              "rgb(71,28,72)"
             ],
             [
              0.25098039215686274,
              "rgb(97,30,82)"
             ],
             [
              0.3137254901960784,
              "rgb(123,30,89)"
             ],
             [
              0.3764705882352941,
              "rgb(150,27,91)"
             ],
             [
              0.4392156862745098,
              "rgb(177,22,88)"
             ],
             [
              0.5019607843137255,
              "rgb(203,26,79)"
             ],
             [
              0.5647058823529412,
              "rgb(223,47,67)"
             ],
             [
              0.6274509803921569,
              "rgb(236,76,61)"
             ],
             [
              0.6901960784313725,
              "rgb(242,107,73)"
             ],
             [
              0.7529411764705882,
              "rgb(244,135,95)"
             ],
             [
              0.8156862745098039,
              "rgb(245,162,122)"
             ],
             [
              0.8784313725490196,
              "rgb(246,188,153)"
             ],
             [
              0.9411764705882353,
              "rgb(247,212,187)"
             ],
             [
              1,
              "rgb(250,234,220)"
             ]
            ],
            "type": "heatmap"
           }
          ],
          "heatmapgl": [
           {
            "colorbar": {
             "outlinewidth": 0,
             "tickcolor": "rgb(36,36,36)",
             "ticklen": 8,
             "ticks": "outside",
             "tickwidth": 2
            },
            "colorscale": [
             [
              0,
              "rgb(2,4,25)"
             ],
             [
              0.06274509803921569,
              "rgb(24,15,41)"
             ],
             [
              0.12549019607843137,
              "rgb(47,23,57)"
             ],
             [
              0.18823529411764706,
              "rgb(71,28,72)"
             ],
             [
              0.25098039215686274,
              "rgb(97,30,82)"
             ],
             [
              0.3137254901960784,
              "rgb(123,30,89)"
             ],
             [
              0.3764705882352941,
              "rgb(150,27,91)"
             ],
             [
              0.4392156862745098,
              "rgb(177,22,88)"
             ],
             [
              0.5019607843137255,
              "rgb(203,26,79)"
             ],
             [
              0.5647058823529412,
              "rgb(223,47,67)"
             ],
             [
              0.6274509803921569,
              "rgb(236,76,61)"
             ],
             [
              0.6901960784313725,
              "rgb(242,107,73)"
             ],
             [
              0.7529411764705882,
              "rgb(244,135,95)"
             ],
             [
              0.8156862745098039,
              "rgb(245,162,122)"
             ],
             [
              0.8784313725490196,
              "rgb(246,188,153)"
             ],
             [
              0.9411764705882353,
              "rgb(247,212,187)"
             ],
             [
              1,
              "rgb(250,234,220)"
             ]
            ],
            "type": "heatmapgl"
           }
          ],
          "histogram": [
           {
            "marker": {
             "pattern": {
              "fillmode": "overlay",
              "size": 10,
              "solidity": 0.2
             }
            },
            "type": "histogram"
           }
          ],
          "histogram2d": [
           {
            "colorbar": {
             "outlinewidth": 0,
             "tickcolor": "rgb(36,36,36)",
             "ticklen": 8,
             "ticks": "outside",
             "tickwidth": 2
            },
            "colorscale": [
             [
              0,
              "rgb(2,4,25)"
             ],
             [
              0.06274509803921569,
              "rgb(24,15,41)"
             ],
             [
              0.12549019607843137,
              "rgb(47,23,57)"
             ],
             [
              0.18823529411764706,
              "rgb(71,28,72)"
             ],
             [
              0.25098039215686274,
              "rgb(97,30,82)"
             ],
             [
              0.3137254901960784,
              "rgb(123,30,89)"
             ],
             [
              0.3764705882352941,
              "rgb(150,27,91)"
             ],
             [
              0.4392156862745098,
              "rgb(177,22,88)"
             ],
             [
              0.5019607843137255,
              "rgb(203,26,79)"
             ],
             [
              0.5647058823529412,
              "rgb(223,47,67)"
             ],
             [
              0.6274509803921569,
              "rgb(236,76,61)"
             ],
             [
              0.6901960784313725,
              "rgb(242,107,73)"
             ],
             [
              0.7529411764705882,
              "rgb(244,135,95)"
             ],
             [
              0.8156862745098039,
              "rgb(245,162,122)"
             ],
             [
              0.8784313725490196,
              "rgb(246,188,153)"
             ],
             [
              0.9411764705882353,
              "rgb(247,212,187)"
             ],
             [
              1,
              "rgb(250,234,220)"
             ]
            ],
            "type": "histogram2d"
           }
          ],
          "histogram2dcontour": [
           {
            "colorbar": {
             "outlinewidth": 0,
             "tickcolor": "rgb(36,36,36)",
             "ticklen": 8,
             "ticks": "outside",
             "tickwidth": 2
            },
            "colorscale": [
             [
              0,
              "rgb(2,4,25)"
             ],
             [
              0.06274509803921569,
              "rgb(24,15,41)"
             ],
             [
              0.12549019607843137,
              "rgb(47,23,57)"
             ],
             [
              0.18823529411764706,
              "rgb(71,28,72)"
             ],
             [
              0.25098039215686274,
              "rgb(97,30,82)"
             ],
             [
              0.3137254901960784,
              "rgb(123,30,89)"
             ],
             [
              0.3764705882352941,
              "rgb(150,27,91)"
             ],
             [
              0.4392156862745098,
              "rgb(177,22,88)"
             ],
             [
              0.5019607843137255,
              "rgb(203,26,79)"
             ],
             [
              0.5647058823529412,
              "rgb(223,47,67)"
             ],
             [
              0.6274509803921569,
              "rgb(236,76,61)"
             ],
             [
              0.6901960784313725,
              "rgb(242,107,73)"
             ],
             [
              0.7529411764705882,
              "rgb(244,135,95)"
             ],
             [
              0.8156862745098039,
              "rgb(245,162,122)"
             ],
             [
              0.8784313725490196,
              "rgb(246,188,153)"
             ],
             [
              0.9411764705882353,
              "rgb(247,212,187)"
             ],
             [
              1,
              "rgb(250,234,220)"
             ]
            ],
            "type": "histogram2dcontour"
           }
          ],
          "mesh3d": [
           {
            "colorbar": {
             "outlinewidth": 0,
             "tickcolor": "rgb(36,36,36)",
             "ticklen": 8,
             "ticks": "outside",
             "tickwidth": 2
            },
            "type": "mesh3d"
           }
          ],
          "parcoords": [
           {
            "line": {
             "colorbar": {
              "outlinewidth": 0,
              "tickcolor": "rgb(36,36,36)",
              "ticklen": 8,
              "ticks": "outside",
              "tickwidth": 2
             }
            },
            "type": "parcoords"
           }
          ],
          "pie": [
           {
            "automargin": true,
            "type": "pie"
           }
          ],
          "scatter": [
           {
            "fillpattern": {
             "fillmode": "overlay",
             "size": 10,
             "solidity": 0.2
            },
            "type": "scatter"
           }
          ],
          "scatter3d": [
           {
            "line": {
             "colorbar": {
              "outlinewidth": 0,
              "tickcolor": "rgb(36,36,36)",
              "ticklen": 8,
              "ticks": "outside",
              "tickwidth": 2
             }
            },
            "marker": {
             "colorbar": {
              "outlinewidth": 0,
              "tickcolor": "rgb(36,36,36)",
              "ticklen": 8,
              "ticks": "outside",
              "tickwidth": 2
             }
            },
            "type": "scatter3d"
           }
          ],
          "scattercarpet": [
           {
            "marker": {
             "colorbar": {
              "outlinewidth": 0,
              "tickcolor": "rgb(36,36,36)",
              "ticklen": 8,
              "ticks": "outside",
              "tickwidth": 2
             }
            },
            "type": "scattercarpet"
           }
          ],
          "scattergeo": [
           {
            "marker": {
             "colorbar": {
              "outlinewidth": 0,
              "tickcolor": "rgb(36,36,36)",
              "ticklen": 8,
              "ticks": "outside",
              "tickwidth": 2
             }
            },
            "type": "scattergeo"
           }
          ],
          "scattergl": [
           {
            "marker": {
             "colorbar": {
              "outlinewidth": 0,
              "tickcolor": "rgb(36,36,36)",
              "ticklen": 8,
              "ticks": "outside",
              "tickwidth": 2
             }
            },
            "type": "scattergl"
           }
          ],
          "scattermapbox": [
           {
            "marker": {
             "colorbar": {
              "outlinewidth": 0,
              "tickcolor": "rgb(36,36,36)",
              "ticklen": 8,
              "ticks": "outside",
              "tickwidth": 2
             }
            },
            "type": "scattermapbox"
           }
          ],
          "scatterpolar": [
           {
            "marker": {
             "colorbar": {
              "outlinewidth": 0,
              "tickcolor": "rgb(36,36,36)",
              "ticklen": 8,
              "ticks": "outside",
              "tickwidth": 2
             }
            },
            "type": "scatterpolar"
           }
          ],
          "scatterpolargl": [
           {
            "marker": {
             "colorbar": {
              "outlinewidth": 0,
              "tickcolor": "rgb(36,36,36)",
              "ticklen": 8,
              "ticks": "outside",
              "tickwidth": 2
             }
            },
            "type": "scatterpolargl"
           }
          ],
          "scatterternary": [
           {
            "marker": {
             "colorbar": {
              "outlinewidth": 0,
              "tickcolor": "rgb(36,36,36)",
              "ticklen": 8,
              "ticks": "outside",
              "tickwidth": 2
             }
            },
            "type": "scatterternary"
           }
          ],
          "surface": [
           {
            "colorbar": {
             "outlinewidth": 0,
             "tickcolor": "rgb(36,36,36)",
             "ticklen": 8,
             "ticks": "outside",
             "tickwidth": 2
            },
            "colorscale": [
             [
              0,
              "rgb(2,4,25)"
             ],
             [
              0.06274509803921569,
              "rgb(24,15,41)"
             ],
             [
              0.12549019607843137,
              "rgb(47,23,57)"
             ],
             [
              0.18823529411764706,
              "rgb(71,28,72)"
             ],
             [
              0.25098039215686274,
              "rgb(97,30,82)"
             ],
             [
              0.3137254901960784,
              "rgb(123,30,89)"
             ],
             [
              0.3764705882352941,
              "rgb(150,27,91)"
             ],
             [
              0.4392156862745098,
              "rgb(177,22,88)"
             ],
             [
              0.5019607843137255,
              "rgb(203,26,79)"
             ],
             [
              0.5647058823529412,
              "rgb(223,47,67)"
             ],
             [
              0.6274509803921569,
              "rgb(236,76,61)"
             ],
             [
              0.6901960784313725,
              "rgb(242,107,73)"
             ],
             [
              0.7529411764705882,
              "rgb(244,135,95)"
             ],
             [
              0.8156862745098039,
              "rgb(245,162,122)"
             ],
             [
              0.8784313725490196,
              "rgb(246,188,153)"
             ],
             [
              0.9411764705882353,
              "rgb(247,212,187)"
             ],
             [
              1,
              "rgb(250,234,220)"
             ]
            ],
            "type": "surface"
           }
          ],
          "table": [
           {
            "cells": {
             "fill": {
              "color": "rgb(231,231,240)"
             },
             "line": {
              "color": "white"
             }
            },
            "header": {
             "fill": {
              "color": "rgb(183,183,191)"
             },
             "line": {
              "color": "white"
             }
            },
            "type": "table"
           }
          ]
         },
         "layout": {
          "annotationdefaults": {
           "arrowcolor": "rgb(67,103,167)"
          },
          "autotypenumbers": "strict",
          "coloraxis": {
           "colorbar": {
            "outlinewidth": 0,
            "tickcolor": "rgb(36,36,36)",
            "ticklen": 8,
            "ticks": "outside",
            "tickwidth": 2
           }
          },
          "colorscale": {
           "sequential": [
            [
             0,
             "rgb(2,4,25)"
            ],
            [
             0.06274509803921569,
             "rgb(24,15,41)"
            ],
            [
             0.12549019607843137,
             "rgb(47,23,57)"
            ],
            [
             0.18823529411764706,
             "rgb(71,28,72)"
            ],
            [
             0.25098039215686274,
             "rgb(97,30,82)"
            ],
            [
             0.3137254901960784,
             "rgb(123,30,89)"
            ],
            [
             0.3764705882352941,
             "rgb(150,27,91)"
            ],
            [
             0.4392156862745098,
             "rgb(177,22,88)"
            ],
            [
             0.5019607843137255,
             "rgb(203,26,79)"
            ],
            [
             0.5647058823529412,
             "rgb(223,47,67)"
            ],
            [
             0.6274509803921569,
             "rgb(236,76,61)"
            ],
            [
             0.6901960784313725,
             "rgb(242,107,73)"
            ],
            [
             0.7529411764705882,
             "rgb(244,135,95)"
            ],
            [
             0.8156862745098039,
             "rgb(245,162,122)"
            ],
            [
             0.8784313725490196,
             "rgb(246,188,153)"
            ],
            [
             0.9411764705882353,
             "rgb(247,212,187)"
            ],
            [
             1,
             "rgb(250,234,220)"
            ]
           ],
           "sequentialminus": [
            [
             0,
             "rgb(2,4,25)"
            ],
            [
             0.06274509803921569,
             "rgb(24,15,41)"
            ],
            [
             0.12549019607843137,
             "rgb(47,23,57)"
            ],
            [
             0.18823529411764706,
             "rgb(71,28,72)"
            ],
            [
             0.25098039215686274,
             "rgb(97,30,82)"
            ],
            [
             0.3137254901960784,
             "rgb(123,30,89)"
            ],
            [
             0.3764705882352941,
             "rgb(150,27,91)"
            ],
            [
             0.4392156862745098,
             "rgb(177,22,88)"
            ],
            [
             0.5019607843137255,
             "rgb(203,26,79)"
            ],
            [
             0.5647058823529412,
             "rgb(223,47,67)"
            ],
            [
             0.6274509803921569,
             "rgb(236,76,61)"
            ],
            [
             0.6901960784313725,
             "rgb(242,107,73)"
            ],
            [
             0.7529411764705882,
             "rgb(244,135,95)"
            ],
            [
             0.8156862745098039,
             "rgb(245,162,122)"
            ],
            [
             0.8784313725490196,
             "rgb(246,188,153)"
            ],
            [
             0.9411764705882353,
             "rgb(247,212,187)"
            ],
            [
             1,
             "rgb(250,234,220)"
            ]
           ]
          },
          "colorway": [
           "rgb(76,114,176)",
           "rgb(221,132,82)",
           "rgb(85,168,104)",
           "rgb(196,78,82)",
           "rgb(129,114,179)",
           "rgb(147,120,96)",
           "rgb(218,139,195)",
           "rgb(140,140,140)",
           "rgb(204,185,116)",
           "rgb(100,181,205)"
          ],
          "font": {
           "color": "rgb(36,36,36)"
          },
          "geo": {
           "bgcolor": "white",
           "lakecolor": "white",
           "landcolor": "rgb(234,234,242)",
           "showlakes": true,
           "showland": true,
           "subunitcolor": "white"
          },
          "hoverlabel": {
           "align": "left"
          },
          "hovermode": "closest",
          "paper_bgcolor": "white",
          "plot_bgcolor": "rgb(234,234,242)",
          "polar": {
           "angularaxis": {
            "gridcolor": "white",
            "linecolor": "white",
            "showgrid": true,
            "ticks": ""
           },
           "bgcolor": "rgb(234,234,242)",
           "radialaxis": {
            "gridcolor": "white",
            "linecolor": "white",
            "showgrid": true,
            "ticks": ""
           }
          },
          "scene": {
           "xaxis": {
            "backgroundcolor": "rgb(234,234,242)",
            "gridcolor": "white",
            "gridwidth": 2,
            "linecolor": "white",
            "showbackground": true,
            "showgrid": true,
            "ticks": "",
            "zerolinecolor": "white"
           },
           "yaxis": {
            "backgroundcolor": "rgb(234,234,242)",
            "gridcolor": "white",
            "gridwidth": 2,
            "linecolor": "white",
            "showbackground": true,
            "showgrid": true,
            "ticks": "",
            "zerolinecolor": "white"
           },
           "zaxis": {
            "backgroundcolor": "rgb(234,234,242)",
            "gridcolor": "white",
            "gridwidth": 2,
            "linecolor": "white",
            "showbackground": true,
            "showgrid": true,
            "ticks": "",
            "zerolinecolor": "white"
           }
          },
          "shapedefaults": {
           "fillcolor": "rgb(67,103,167)",
           "line": {
            "width": 0
           },
           "opacity": 0.5
          },
          "ternary": {
           "aaxis": {
            "gridcolor": "white",
            "linecolor": "white",
            "showgrid": true,
            "ticks": ""
           },
           "baxis": {
            "gridcolor": "white",
            "linecolor": "white",
            "showgrid": true,
            "ticks": ""
           },
           "bgcolor": "rgb(234,234,242)",
           "caxis": {
            "gridcolor": "white",
            "linecolor": "white",
            "showgrid": true,
            "ticks": ""
           }
          },
          "xaxis": {
           "automargin": true,
           "gridcolor": "white",
           "linecolor": "white",
           "showgrid": true,
           "ticks": "",
           "title": {
            "standoff": 15
           },
           "zerolinecolor": "white"
          },
          "yaxis": {
           "automargin": true,
           "gridcolor": "white",
           "linecolor": "white",
           "showgrid": true,
           "ticks": "",
           "title": {
            "standoff": 15
           },
           "zerolinecolor": "white"
          }
         }
        },
        "title": {
         "text": "Comparison of the Amazon Reviews models"
        },
        "width": 1000,
        "xaxis": {
         "range": [
          0.875,
          0.94
         ],
         "title": {
          "text": "train"
         }
        },
        "yaxis": {
         "range": [
          0.835,
          0.88
         ],
         "title": {
          "text": "test"
         }
        }
       }
      }
     },
     "metadata": {},
     "output_type": "display_data"
    }
   ],
   "source": [
    "import plotly.graph_objects as go\n",
    "fig = go.Figure()\n",
    "fig.add_trace(go.Scatter(x=train_accs, y=test_accs, text=names, mode='text+markers', textposition='top right'))\n",
    "fig.update_layout(height=600, width=1000, margin=dict(t=50, b=10, r=10, l=10), \n",
    "                  title_text='Comparison of the Amazon Reviews models',\n",
    "                  xaxis_title='train', yaxis_title='test', template='seaborn')\n",
    "fig.update_yaxes(range=[0.835, 0.88])\n",
    "fig.update_xaxes(range=[0.875, 0.94])\n",
    "fig.show()"
   ]
  },
  {
   "cell_type": "markdown",
   "metadata": {},
   "source": [
    "We see that the base models obtain the worst results in both train and test sets. The enhanced architectures considerably improve the accuracy in the train set, but do not significantly perform better than the baseline in the final evaluation (we excluded the enhanced architecture with the simple RNN since it only obtained 56% of accuracy). We see that the introduction of bidirectionality effectively boosts the performance in the test set and finally the Transformer layers help all the cells to increase the evaluation metrics. The best proposed architecture is the Bidirectional LSTM aligned with Transformer layers (BiLSTM-transformer), which obtains 87.79 points in the evaluation set. We might assume that this architecture outperforms the rest of approaches using better temporal representations in the BiLSTM cell (three gates against two gates with the GRU) and reinforcing the embedding contextualization with the Tranformer layers previous to the recurrent layers.\n"
   ]
  }
 ],
 "metadata": {
  "kernelspec": {
   "display_name": "DeepLearningTF",
   "language": "python",
   "name": "python3"
  },
  "language_info": {
   "codemirror_mode": {
    "name": "ipython",
    "version": 3
   },
   "file_extension": ".py",
   "mimetype": "text/x-python",
   "name": "python",
   "nbconvert_exporter": "python",
   "pygments_lexer": "ipython3",
   "version": "3.10.12"
  }
 },
 "nbformat": 4,
 "nbformat_minor": 2
}
